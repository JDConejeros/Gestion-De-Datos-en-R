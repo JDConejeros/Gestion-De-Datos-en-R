{
  "nbformat": 4,
  "nbformat_minor": 0,
  "metadata": {
    "colab": {
      "name": "Taller 3 v1.0",
      "provenance": [],
      "collapsed_sections": [],
      "include_colab_link": true
    },
    "kernelspec": {
      "name": "ir",
      "display_name": "R"
    },
    "language_info": {
      "name": "R"
    }
  },
  "cells": [
    {
      "cell_type": "markdown",
      "metadata": {
        "id": "view-in-github",
        "colab_type": "text"
      },
      "source": [
        "<a href=\"https://colab.research.google.com/github/maxigaarp/Gestion-De-Datos-en-R/blob/main/Taller_3_v1_0.ipynb\" target=\"_parent\"><img src=\"https://colab.research.google.com/assets/colab-badge.svg\" alt=\"Open In Colab\"/></a>"
      ]
    },
    {
      "cell_type": "markdown",
      "metadata": {
        "id": "fi8AWsvAAbXZ"
      },
      "source": [
        "# Taller 3"
      ]
    },
    {
      "cell_type": "code",
      "metadata": {
        "id": "B2gnpZt5M-Vz"
      },
      "source": [
        "install.packages(\"RSQLite\")\n",
        "install.packages(\"data.table\")"
      ],
      "execution_count": null,
      "outputs": []
    },
    {
      "cell_type": "code",
      "metadata": {
        "id": "8k5dwqQBMzva"
      },
      "source": [
        "library(RSQLite)\n",
        "library(tidyverse)"
      ],
      "execution_count": null,
      "outputs": []
    },
    {
      "cell_type": "markdown",
      "metadata": {
        "id": "oGF419KrTSVV"
      },
      "source": [
        "## Calidad de datos y Modelo de entidad relación\n",
        "\n",
        "Para esta parte del taller vamos a trabajar con la base de datos de la matricula de estudiantes de Educación superior del año 2020\n",
        "\n",
        "Para ello, vamos a descargar la base de datos y, al mismo tiempo, vamos a descargar el esquema de registro de la tabla, que uno puede encontrar en el siguiente link\n",
        "\n",
        "http://datos.mineduc.cl/dashboards/20195/descarga-bases-de-datos-matricula-en-educacion-superior/"
      ]
    },
    {
      "cell_type": "code",
      "metadata": {
        "id": "-RJDGL0ITQbl"
      },
      "source": [
        "system(\"wget http://datos.mineduc.cl/datasets/193401-matricula-de-educacion-superior-2020.download/\")\n",
        "system(\"mv /content/index.html /content/matricula_ES_2020.zip\")"
      ],
      "execution_count": null,
      "outputs": []
    },
    {
      "cell_type": "code",
      "metadata": {
        "id": "vI6aG6jEoXmn"
      },
      "source": [
        "unzip(\"/content/matricula_ES_2020.zip\")\n",
        "\n"
      ],
      "execution_count": null,
      "outputs": []
    },
    {
      "cell_type": "code",
      "metadata": {
        "id": "bqRvxLcU3m3f"
      },
      "source": [
        "system(\"gdown --id 1dXpk0MP6eXcgzfsFT4fnwjchecMwrNmZ\")\n"
      ],
      "execution_count": null,
      "outputs": []
    },
    {
      "cell_type": "code",
      "metadata": {
        "id": "OzUs7MF530cR"
      },
      "source": [
        "system(\"unzip /content/20200706_Matrcula_Ed_Superior_2020_PUBL_MRUN.zip\")"
      ],
      "execution_count": null,
      "outputs": []
    },
    {
      "cell_type": "code",
      "metadata": {
        "id": "3XTOqPDPnBkN"
      },
      "source": [
        "matricula <- read.csv2(\"20200706_Matrícula_Ed_Superior_2020_PUBL_MRUN.csv\")"
      ],
      "execution_count": null,
      "outputs": []
    },
    {
      "cell_type": "markdown",
      "metadata": {
        "id": "UZg-VH9IsCSv"
      },
      "source": [
        "Lo primero que haremos con este trabajo, será elaborar un modelo entidad-relación. Para ello, debemos investigar el esquema de registro y responder una serie de preguntas:\n",
        "\n",
        "\n",
        "\n",
        "1.   ¿Qué entidades existen?\n",
        "2.   ¿Cómo se relacionan estas entidades?\n",
        "3.   ¿Cuáles son los atributos de cada entidad?\n",
        "4.   ¿Cuál es la llave de cada entidad?\n",
        "\n"
      ]
    },
    {
      "cell_type": "code",
      "metadata": {
        "id": "IpSDuye37a-1"
      },
      "source": [
        "matricula[]"
      ],
      "execution_count": null,
      "outputs": []
    },
    {
      "cell_type": "code",
      "metadata": {
        "id": "qijoz5u9pO4B"
      },
      "source": [
        "str(matricula)"
      ],
      "execution_count": null,
      "outputs": []
    },
    {
      "cell_type": "markdown",
      "metadata": {
        "id": "woykAp2J0bGb"
      },
      "source": [
        "Para construir nuestra base de datos, ahora queremos determinar la calidad de los mismos y, eliminar o corregir aquellos datos que presenten problemas. Para ello, debemos trabajar cada una de las dimensiones.\n",
        "\n",
        "La primera dimensión que vamos a evaluar es completitud. Aquí, revisamos los datos que falten en cada dimensión, observando cuantos datos faltan en cada columna. "
      ]
    },
    {
      "cell_type": "code",
      "metadata": {
        "id": "PSv6QYZn0ZSG"
      },
      "source": [
        "df <-apply(X = is.na(matricula), MARGIN = 2, FUN = mean)\n",
        "print(df*100)"
      ],
      "execution_count": null,
      "outputs": []
    },
    {
      "cell_type": "markdown",
      "metadata": {
        "id": "A6IQ0wq748R9"
      },
      "source": [
        "¿Qué una columna presente una cantidad importante de datos faltantes, implica que hay un problema con estos datos?\n",
        "\n",
        "¿Que datos debiesemos eliminar si o si?"
      ]
    },
    {
      "cell_type": "markdown",
      "metadata": {
        "id": "aeNLekQP6mzj"
      },
      "source": [
        "Evaluada la completitud de los atributos, es necesario evaluar la validez de los mismos. Es decir, debemos evaluar si los datos cumplen con sus reglas y definiciones acordes.\n",
        "\n",
        "Existen definiciones básicas de tipo de datos y definiciones más complejas que se refieren a los valores validos definidos por el creador de la base de datos.\n"
      ]
    },
    {
      "cell_type": "code",
      "metadata": {
        "id": "_s5_PK0f0Zzg"
      },
      "source": [
        "# Definiciones tipos de datos\n",
        "# Año número entero\n",
        "falla <- 0\n",
        "for(c in matricula$cat_periodo){\n",
        "#  print(c)\n",
        "  if( typeof(c) != \"integer\" ){\n",
        "   falla <- falla +1\n",
        "  }\n",
        "}\n",
        "proporcion <- (falla / length(matricula$cat_periodo)) * 100\n",
        "print(paste0(\"la tasa de error es de \", proporcion, \"%\"))\n"
      ],
      "execution_count": null,
      "outputs": []
    },
    {
      "cell_type": "code",
      "metadata": {
        "id": "l2rwwJ66cJBU"
      },
      "source": [
        "# Nombre carrera character\n",
        "falla <-0\n",
        "for(c in matricula$nomb_carrera){\n",
        "\n",
        "  if( typeof(c) != \"character\" ){\n",
        "    falla <- falla +1\n",
        "  }\n",
        "  \n",
        "}\n",
        "proporcion = (falla / length(matricula$nomb_carrera)) * 100\n",
        "print(paste0(\"la tasa de error es de \", proporcion, \"%\"))\n"
      ],
      "execution_count": null,
      "outputs": []
    },
    {
      "cell_type": "markdown",
      "metadata": {
        "id": "_vEYVzyuG8pX"
      },
      "source": [
        "**Actividad:** seleccione otros 3 atributos y revise su validez. Tiene 10 minutos"
      ]
    },
    {
      "cell_type": "code",
      "metadata": {
        "id": "wS4SgJX3ztri"
      },
      "source": [
        ""
      ],
      "execution_count": null,
      "outputs": []
    },
    {
      "cell_type": "code",
      "metadata": {
        "id": "2e6Rk2wcAGxN"
      },
      "source": [
        "# Definiciones de acuerdo al creador de la base de datos\n",
        "\n",
        "# Genero entre 1 y 2\n",
        "falla <-0\n",
        "for(c in matricula$GEN_ALU){\n",
        "  if(c != 1 & c != 2){\n",
        "    falla <- falla +1\n",
        "  }  \n",
        "}\n",
        "\n",
        "proporcion = (falla / length(matricula$GEN_ALU)) * 100\n",
        "print(paste0(\"la tasa de error es de \", proporcion, \"%\"))\n",
        "\n"
      ],
      "execution_count": null,
      "outputs": []
    },
    {
      "cell_type": "markdown",
      "metadata": {
        "id": "N-Og7ojiMYIg"
      },
      "source": [
        "Una forma más directa y mas informativa tambien seria agrupar por GEN_ALU y contar cada tipo."
      ]
    },
    {
      "cell_type": "code",
      "metadata": {
        "id": "ejl7vBRrMXu1"
      },
      "source": [
        "matricula %>% group_by(GEN_ALU) %>%\n",
        "              summarise(n())"
      ],
      "execution_count": null,
      "outputs": []
    },
    {
      "cell_type": "code",
      "metadata": {
        "id": "9lI9AQsxh7If"
      },
      "source": [
        "# Nivel global institución en categoría\n",
        "\n",
        "falla <-0\n",
        "for(c in matricula$nivel_global){\n",
        "  if(c != \"Pregrado\" & c != \"Postgrado\" & c != \"Postítulo\"){\n",
        "    falla <- falla +1\n",
        "  }  \n",
        "}\n",
        "\n",
        "proporcion = (falla / length(matricula$nivel_global)) * 100\n",
        "print(paste0(\"la tasa de error es de \", proporcion, \"%\"))"
      ],
      "execution_count": null,
      "outputs": []
    },
    {
      "cell_type": "markdown",
      "metadata": {
        "id": "_B5u2vm1OVxi"
      },
      "source": [
        "Tambien podemos contar los grupos para este caso."
      ]
    },
    {
      "cell_type": "code",
      "metadata": {
        "id": "T3yAjF61ONJi"
      },
      "source": [
        "matricula %>% group_by(nivel_global) %>%\n",
        "              summarise(n())"
      ],
      "execution_count": null,
      "outputs": []
    },
    {
      "cell_type": "code",
      "metadata": {
        "id": "-7CqaZdLh6rt"
      },
      "source": [
        "# Nacimiento tiene sentido\n",
        "\n",
        "falla <-0\n",
        "for(c in matricula$FEC_NAC_ALU){\n",
        "  anio <- c %/% 100\n",
        "  mes <- c %% 100\n",
        "  if( !is.na(anio)){\n",
        "  if(anio < 1920 | anio > 2005 | mes == 0 | mes > 13){\n",
        "    falla <- falla +1\n",
        "  }  \n",
        "  }\n",
        "}\n",
        "\n",
        "proporcion = (falla / length(matricula$FEC_NAC_ALU)) * 100\n",
        "print(paste0(\"la tasa de error es de \", proporcion, \"%\"))\n",
        "\n"
      ],
      "execution_count": null,
      "outputs": []
    },
    {
      "cell_type": "code",
      "metadata": {
        "id": "Nsnc8sL4Oj9H"
      },
      "source": [
        "datanacimiento  <- matricula %>%\n",
        "          select(\"FEC_NAC_ALU\") %>%\n",
        "          mutate(NAC_ALU_AGNO= FEC_NAC_ALU %/% 100,\n",
        "                      NAC_ALU_MES= FEC_NAC_ALU %% 100)\n",
        "datanacimiento"
      ],
      "execution_count": null,
      "outputs": []
    },
    {
      "cell_type": "code",
      "metadata": {
        "id": "CoM0QAvjQ9vO"
      },
      "source": [
        "datanacimiento %>% summary()"
      ],
      "execution_count": null,
      "outputs": []
    },
    {
      "cell_type": "markdown",
      "metadata": {
        "id": "xnxflR4iTmI3"
      },
      "source": [
        "Notese el año de nacimiento 2019"
      ]
    },
    {
      "cell_type": "code",
      "metadata": {
        "id": "hU2GTwtUP3o1"
      },
      "source": [
        "datanacimiento %>% ggplot(aes(x = NAC_ALU_AGNO)) +\n",
        "                geom_histogram(aes())\n"
      ],
      "execution_count": null,
      "outputs": []
    },
    {
      "cell_type": "code",
      "metadata": {
        "id": "Z7Iq_LrhRRDt"
      },
      "source": [
        "datanacimiento %>% ggplot(aes(x = NAC_ALU_MES)) +\n",
        "                geom_histogram(aes())\n"
      ],
      "execution_count": null,
      "outputs": []
    },
    {
      "cell_type": "markdown",
      "metadata": {
        "id": "6ZUFAubMTtq8"
      },
      "source": [
        "Busquemos los valores malos\n"
      ]
    },
    {
      "cell_type": "code",
      "metadata": {
        "id": "_D144LN6T2F1"
      },
      "source": [
        "matricula %>% filter(FEC_NAC_ALU>200601)"
      ],
      "execution_count": null,
      "outputs": []
    },
    {
      "cell_type": "markdown",
      "metadata": {
        "id": "xkHeXlsRHtPe"
      },
      "source": [
        "**Actividad**: Lea en el esquema de registro diferentes reglas de validez determinadas para estos datos, y revise la validez de dos de ellos. "
      ]
    },
    {
      "cell_type": "code",
      "metadata": {
        "id": "khpt_MeBzsMc"
      },
      "source": [
        ""
      ],
      "execution_count": null,
      "outputs": []
    },
    {
      "cell_type": "markdown",
      "metadata": {
        "id": "M0e236uzETIN"
      },
      "source": [
        "Otra evaluación importante es de consistencia y realizar las ediciones. Para ello, revisaremos la información siguiendo lo dicho por el esquema de registro.\n",
        "\n",
        "\n"
      ]
    },
    {
      "cell_type": "code",
      "metadata": {
        "id": "siJYKAK5ETmy"
      },
      "source": [
        "# Duracion total carrera mayor que la duración estudio de la carera\n",
        "falla <-0\n",
        "i <- 1\n",
        "largo <- length(matricula$dur_total_carr) \n",
        "while(i < largo){\n",
        "  if(matricula$dur_estudio_carr[i] > matricula$dur_total_carr[i]){\n",
        "    falla <- falla +1    \n",
        "    }\n",
        "  i <- i + 1\n",
        "}\n",
        "\n",
        "proporcion <- (falla / length(matricula$dur_total_carr)) * 100\n",
        "print(paste0(\"la tasa de error es de \", proporcion, \"%\"))"
      ],
      "execution_count": null,
      "outputs": []
    },
    {
      "cell_type": "code",
      "metadata": {
        "id": "yTIud3wonA8r"
      },
      "source": [
        "# Tipo institución 3 calza con Tipo institución 1\n",
        "\n",
        "falla <- 0\n",
        "i <- 1\n",
        "largo <- length(matricula$tipo_inst_3) \n",
        "while(i < largo){\n",
        "  if(matricula$tipo_inst_1[i] == \"Centros de Formación Técnica\"){\n",
        "    if(matricula$tipo_inst_3[i] != \"Centros de Formación Técnica\" & matricula$tipo_inst_3[i] != \"Centros de Formación Técnica Estatales\" ){\n",
        "     falla <- falla +1   \n",
        "    }\n",
        "  }\n",
        "  if(matricula$tipo_inst_1[i] == \"Institutos Profesionales\"){\n",
        "    if(matricula$tipo_inst_3[i] != \"Institutos Profesionales\"){\n",
        "     falla <- falla +1         \n",
        "    }\n",
        "    }\n",
        "  if(matricula$tipo_inst_1[i] == \"Universidades\"){\n",
        "    if(matricula$tipo_inst_3[i] == \"Institutos Profesionales\" | matricula$tipo_inst_3[i] == \"Centros de Formación Técnica\" | matricula$tipo_inst_3[i] == \"Centros de Formación Técnica Estatales\" ){\n",
        "     falla <- falla +1         \n",
        "    }\n",
        "    }\n",
        "\n",
        "  i <- i + 1\n",
        "}\n",
        "\n",
        "proporcion <- (falla / length(matricula$tipo_inst_3)) * 100\n",
        "print(paste0(\"la tasa de error es de \", proporcion, \"%\"))\n"
      ],
      "execution_count": null,
      "outputs": []
    },
    {
      "cell_type": "code",
      "metadata": {
        "id": "UelBcA94WStO"
      },
      "source": [
        "matricula %>% group_by(tipo_inst_1,tipo_inst_3) %>%\n",
        "            summarise(n())"
      ],
      "execution_count": null,
      "outputs": []
    },
    {
      "cell_type": "code",
      "metadata": {
        "id": "KRmp-pErnBbJ"
      },
      "source": [
        "# El rango de edad tiene que calzar con la fecha de nacimiento\n",
        "falla <- 0\n",
        "i <- 1\n",
        "largo <- length(matricula$rango_edad) \n",
        "while(i < largo){\n",
        "  anio <- matricula$FEC_NAC_ALU[i] %/% 100\n",
        "  edad <- 2020 - anio\n",
        "  if(matricula$rango_edad[i] == \"Entre 15 y 19 años\"){\n",
        "    if(edad > 19 | edad < 15){\n",
        "      falla <- falla + 1\n",
        "    }\n",
        "  }\n",
        "  if(matricula$rango_edad[i] == \"Entre 20 y 24 años\"){\n",
        "    if(edad > 24 | edad < 20){\n",
        "      falla <- falla + 1\n",
        "    }\n",
        "  }\n",
        "  if(matricula$rango_edad[i] == \"Entre 25 y 29 años\"){\n",
        "    if(edad > 29 | edad < 25){\n",
        "      falla <- falla + 1\n",
        "    }\n",
        "  }\n",
        "  if(matricula$rango_edad[i] == \"Entre 30 y 34 años\"){\n",
        "    if(edad > 34 | edad < 30){\n",
        "      falla <- falla + 1\n",
        "    }\n",
        "  }\n",
        "  if(matricula$rango_edad[i] == \"Entre 35 y 39 años\"){\n",
        "    if(edad > 39 | edad < 35){\n",
        "      falla <- falla + 1\n",
        "    }\n",
        "  }\n",
        "  if(matricula$rango_edad[i] == \"40 y más años\"){\n",
        "    if(edad < 39){\n",
        "      falla <- falla + 1\n",
        "    }\n",
        "  }\n",
        "  if(matricula$rango_edad[i] == \"Sin Información\"){\n",
        "    if(!is.na(edad) & edad < 100){\n",
        "      falla <- falla + 1\n",
        "    }\n",
        " \n",
        "  }\n",
        "  i <- i + 1\n",
        "}\n",
        "\n",
        "proporcion <- (falla / length(matricula$rango_edad)) * 100\n",
        "print(paste0(\"la tasa de error es de \", proporcion, \"%\"))\n"
      ],
      "execution_count": null,
      "outputs": []
    },
    {
      "cell_type": "code",
      "metadata": {
        "id": "8oMTGKyTXc9v"
      },
      "source": [
        "datanacimiento  <- matricula %>%\n",
        "          select(\"rango_edad\", \"FEC_NAC_ALU\") %>%\n",
        "          mutate(NAC_ALU_AGNO= FEC_NAC_ALU %/% 100,\n",
        "                      NAC_ALU_MES= FEC_NAC_ALU %% 100)\n",
        "datanacimiento"
      ],
      "execution_count": null,
      "outputs": []
    },
    {
      "cell_type": "code",
      "metadata": {
        "id": "sxJ_kmr_YDp0"
      },
      "source": [
        "datanacimiento %>% group_by(rango_edad) %>%\n",
        "                  summarise(minedad=2020-max(NAC_ALU_AGNO), \n",
        "                            maxedad=2020-min(NAC_ALU_AGNO))"
      ],
      "execution_count": null,
      "outputs": []
    },
    {
      "cell_type": "markdown",
      "metadata": {
        "id": "Qyoef7o8zIKj"
      },
      "source": [
        "**Actividad:** Encuentre otros dos atributos en que sea necesario realizar ediciones y obtenga la cantidad de datos que presentan errores"
      ]
    },
    {
      "cell_type": "code",
      "metadata": {
        "id": "LuRfH8quzGNd"
      },
      "source": [
        ""
      ],
      "execution_count": null,
      "outputs": []
    },
    {
      "cell_type": "markdown",
      "metadata": {
        "id": "JbGRQK49Jk5b"
      },
      "source": [
        "## Consultas de bases de datos en R y SQL\n",
        "\n",
        "Ahora, trabajaremos con la base de datos, almacenando los datos de forma más eficiente y realizando consultas apropiadas, como se vio en clases\n",
        "\n",
        "\n"
      ]
    },
    {
      "cell_type": "code",
      "metadata": {
        "id": "FPKn3htBJorr"
      },
      "source": [
        "install.packages(\"data.table\")\n",
        "library(data.table)\n",
        "install.packages(c(\"httr\", \"jsonlite\"))\n",
        "library(httr)\n",
        "library(jsonlite)\n",
        "install.packages(\"tictoc\")\n",
        "library(\"tictoc\")\n",
        "library(tidyverse)\n",
        "install.packages(\"RSQLite\")\n",
        "library(RSQLite)\n",
        "library(ggplot2)"
      ],
      "execution_count": null,
      "outputs": []
    },
    {
      "cell_type": "code",
      "metadata": {
        "id": "sjkwPVxuBwtY"
      },
      "source": [
        "names(matricula)"
      ],
      "execution_count": null,
      "outputs": []
    },
    {
      "cell_type": "code",
      "metadata": {
        "id": "suU32A372Q6F"
      },
      "source": [
        "\n",
        "alumnos <- matricula[, c(\"MRUN\", \"GEN_ALU\", \"FEC_NAC_ALU\")]\n",
        "estudia_en <- matricula[,c(\"MRUN\", \"cod_inst\", \"cat_periodo\", \"rango_edad\")] \n",
        "cursa <- matricula[,c(\"MRUN\",\"codigo_unico\", \"cat_periodo\", \"rango_edad\", \"anio_ing_carr_ori\", \"sem_ing_carr_ori\", \"anio_ing_carr_act\", \"sem_ing_carr_act\", \"forma_ingreso\")] \n",
        "carrera <- matricula[, c(\"codigo_unico\", \"cod_sede\", \"nomb_sede\", \"cod_carrera\", \"nomb_carrera\", \"modalidad\", \"jornada\", \"version\", \"tipo_plan_carr\", \"dur_estudio_carr\", \"dur_proceso_tit\", \"dur_total_carr\", \"region_sede\", \"provincia_sede\", \"comuna_sede\", \"nivel_global\", \"nivel_carrera_1\", \"nivel_carrera_2\", \"requisito_ingreso\",  \"vigencia_carrera\", \"valor_matricula\", \"valor_arancel\", \"codigo_demre\", \"area_conocimiento\", \"oecd_area\",  \"oecd_subarea\", \"area_carrera_generica\", \"acreditada_carr\", \"costo_proceso_titulacion\",  \"costo_obtencion_titulo_diploma\" )]\n",
        "IES <- matricula[, c(\"cod_inst\",\"tipo_inst_1\", \"tipo_inst_2\", \"tipo_inst_3\", \"nomb_inst\", \"acreditada_inst\", \"acre_inst_desde_hasta\", \"acre_inst_anio\")]\n",
        "pertenece_a <- matricula[,c( \"codigo_unico\",\"cod_inst\")]\n"
      ],
      "execution_count": null,
      "outputs": []
    },
    {
      "cell_type": "code",
      "metadata": {
        "id": "FnfJxtJFEMtK"
      },
      "source": [
        "# Limpiar eliminando llaves vacíos\n",
        "\n",
        "# Solo me interesa limpiar MRUN, ¿Por qué?\n",
        "\n",
        "alumnos <- alumnos[!is.na(alumnos$MRUN), ]\n",
        "cursa <- cursa[!is.na(cursa$MRUN), ]\n",
        "estudia_en <- estudia_en[!is.na(estudia_en$MRUN), ]"
      ],
      "execution_count": null,
      "outputs": []
    },
    {
      "cell_type": "code",
      "metadata": {
        "id": "4lI-BUvA2RVy"
      },
      "source": [
        "#Eliminamos información repetida\n",
        "alumnos <- unique(alumnos)\n",
        "carrera <- unique(carrera)\n",
        "IES <- unique(IES)\n",
        "\n"
      ],
      "execution_count": null,
      "outputs": []
    },
    {
      "cell_type": "code",
      "metadata": {
        "id": "BYOr63U2E4Sk"
      },
      "source": [
        "estudia_en <- unique(estudia_en)\n",
        "cursa <- unique(cursa)\n",
        "pertenece_a <- unique(pertenece_a)"
      ],
      "execution_count": null,
      "outputs": []
    },
    {
      "cell_type": "code",
      "metadata": {
        "id": "w8ne62-WVvLc"
      },
      "source": [
        "cursa"
      ],
      "execution_count": null,
      "outputs": []
    },
    {
      "cell_type": "markdown",
      "metadata": {
        "id": "0Camq_RpCItr"
      },
      "source": [
        "En primer lugar, generaremos una serie de consultas, para tratar de entender la tabla que tenemos"
      ]
    },
    {
      "cell_type": "code",
      "metadata": {
        "id": "4E-xFNJC2Ryy"
      },
      "source": [
        "conn <- dbConnect(RSQLite::SQLite(), \"mineduc.db\")"
      ],
      "execution_count": null,
      "outputs": []
    },
    {
      "cell_type": "code",
      "metadata": {
        "id": "PR4xvrj1Q3jW"
      },
      "source": [
        "dbWriteTable(conn , name = \"IES\", \n",
        "                  value = IES,\n",
        "                  row.names = FALSE, overwrite = TRUE )\n",
        "\n",
        "dbWriteTable(conn , name = \"alumnos\", \n",
        "                  value = alumnos,\n",
        "                  row.names = FALSE, overwrite = TRUE )\n",
        "dbWriteTable(conn , name = \"carrera\", \n",
        "                  value = carrera,\n",
        "                  row.names = FALSE, overwrite = TRUE)\n",
        "\n",
        "dbWriteTable(conn , name = \"estudia_en\", \n",
        "                  value = estudia_en,\n",
        "                  row.names = FALSE, overwrite = TRUE)\n",
        "dbWriteTable(conn , name = \"pertenece_a\", \n",
        "                  value = pertenece_a,\n",
        "                  row.names = FALSE, overwrite = TRUE)\n",
        "\n",
        "dbWriteTable(conn , name = \"cursa\", \n",
        "                  value = cursa,\n",
        "                  row.names = FALSE, overwrite = TRUE)\n"
      ],
      "execution_count": null,
      "outputs": []
    },
    {
      "cell_type": "code",
      "metadata": {
        "id": "ri6TBfg7CrAB"
      },
      "source": [
        "# Encuentre el código de institución de la Pontificia Universidad Católica de Chile\n",
        "dbGetQuery(conn, '\n",
        "select \n",
        "cod_inst , nomb_inst\n",
        "from IES \n",
        "where nomb_inst == \"PONTIFICIA UNIVERSIDAD CATOLICA DE CHILE\";')\n"
      ],
      "execution_count": null,
      "outputs": []
    },
    {
      "cell_type": "code",
      "metadata": {
        "id": "3lyMHestHL5E"
      },
      "source": [
        "# Genere una lista con todas las carreras diferentes, y sus nombres, que pertenecen al área OCDE Educación\n",
        "dbGetQuery(conn, '\n",
        "select \n",
        "codigo_unico, nomb_carrera\n",
        "from carrera \n",
        "where oecd_area == \"Educación\";')\n"
      ],
      "execution_count": null,
      "outputs": []
    },
    {
      "cell_type": "code",
      "metadata": {
        "id": "Bf4MERidHMNP"
      },
      "source": [
        "# Determine todas las sedes que tiene la Universidad Católica\n",
        "dbGetQuery(conn, '\n",
        "select \n",
        "distinct nomb_sede\n",
        "from carrera, pertenece_a \n",
        "where carrera.codigo_unico = pertenece_a.codigo_unico\n",
        "AND pertenece_a.cod_inst = 86;')\n"
      ],
      "execution_count": null,
      "outputs": []
    },
    {
      "cell_type": "code",
      "metadata": {
        "id": "UpDsCiLwHMtB"
      },
      "source": [
        "# Genere una tabla con la cantidad personas pertenecen a cada sede de la Universidad Católica\n",
        "dbGetQuery(conn, '\n",
        "select \n",
        "nomb_sede, count(cursa.MRUN) as \"Alumnos\"\n",
        "from carrera, cursa, pertenece_a \n",
        "where  cursa.codigo_unico = carrera.codigo_unico\n",
        "and carrera.codigo_unico = pertenece_a.codigo_unico\n",
        "and pertenece_a.cod_inst = 86\n",
        "group by nomb_sede;')\n"
      ],
      "execution_count": null,
      "outputs": []
    },
    {
      "cell_type": "code",
      "metadata": {
        "id": "vQHtlmuhFRCt"
      },
      "source": [
        "# Genere una tabla de la cantidad de sedes por institución y grafiquela\n",
        "sedes <- dbGetQuery(conn, '\n",
        "select \n",
        "nomb_inst, count(carrera.cod_sede) as \"Cantidad_Sedes\"\n",
        "from carrera, IES, pertenece_a \n",
        "where  pertenece_a.codigo_unico = carrera.codigo_unico\n",
        "and pertenece_a.cod_inst = IES.cod_inst\n",
        "group by carrera.nomb_sede;')\n",
        "\n",
        "sedes %>%  ggplot(aes(x=nomb_inst,y=Cantidad_Sedes)) + \n",
        "            geom_bar(stat=\"identity\", position=\"stack\")\n"
      ],
      "execution_count": null,
      "outputs": []
    },
    {
      "cell_type": "code",
      "metadata": {
        "id": "kYfAY2soFckY"
      },
      "source": [
        "# Grafique que regiones tienen mayor cantidad de alumnos\n",
        "sedes <- dbGetQuery(conn, '\n",
        "select \n",
        "region_sede, count(cursa.MRUN) as \"Alumnos_Region\"\n",
        "from carrera, cursa, pertenece_a \n",
        "where  cursa.codigo_unico = carrera.codigo_unico\n",
        "and carrera.codigo_unico = pertenece_a.codigo_unico\n",
        "group by carrera.region_sede;')\n",
        "\n",
        "sedes %>%  ggplot(aes(x=region_sede,y=Alumnos_Region)) + \n",
        "            geom_bar(stat=\"identity\", position=\"stack\")"
      ],
      "execution_count": null,
      "outputs": []
    }
  ]
}