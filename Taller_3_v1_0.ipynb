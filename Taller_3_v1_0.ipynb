{
  "nbformat": 4,
  "nbformat_minor": 0,
  "metadata": {
    "colab": {
      "name": "Taller 3 v1.0",
      "provenance": [],
      "collapsed_sections": [],
      "include_colab_link": true
    },
    "kernelspec": {
      "name": "ir",
      "display_name": "R"
    },
    "language_info": {
      "name": "R"
    }
  },
  "cells": [
    {
      "cell_type": "markdown",
      "metadata": {
        "id": "view-in-github",
        "colab_type": "text"
      },
      "source": [
        "<a href=\"https://colab.research.google.com/github/maxigaarp/Gestion-De-Datos-en-R/blob/main/Taller_3_v1_0.ipynb\" target=\"_parent\"><img src=\"https://colab.research.google.com/assets/colab-badge.svg\" alt=\"Open In Colab\"/></a>"
      ]
    },
    {
      "cell_type": "markdown",
      "metadata": {
        "id": "fi8AWsvAAbXZ"
      },
      "source": [
        "# Taller 3"
      ]
    },
    {
      "cell_type": "code",
      "metadata": {
        "id": "B2gnpZt5M-Vz",
        "colab": {
          "base_uri": "https://localhost:8080/"
        },
        "outputId": "06cdc5d7-cb23-4647-8bb0-f0e6abefd345"
      },
      "source": [
        "install.packages(\"RSQLite\")\n",
        "install.packages(\"data.table\")"
      ],
      "execution_count": null,
      "outputs": [
        {
          "output_type": "stream",
          "text": [
            "Installing package into ‘/usr/local/lib/R/site-library’\n",
            "(as ‘lib’ is unspecified)\n",
            "\n",
            "also installing the dependencies ‘bit’, ‘bit64’, ‘plogr’\n",
            "\n",
            "\n",
            "Installing package into ‘/usr/local/lib/R/site-library’\n",
            "(as ‘lib’ is unspecified)\n",
            "\n"
          ],
          "name": "stderr"
        }
      ]
    },
    {
      "cell_type": "code",
      "metadata": {
        "colab": {
          "base_uri": "https://localhost:8080/"
        },
        "id": "8k5dwqQBMzva",
        "outputId": "2879684c-8726-4577-cdb6-dd2ad7bcbcc3"
      },
      "source": [
        "library(RSQLite)\n",
        "library(tidyverse)"
      ],
      "execution_count": null,
      "outputs": [
        {
          "output_type": "stream",
          "text": [
            "Warning message in system(\"timedatectl\", intern = TRUE):\n",
            "“running command 'timedatectl' had status 1”\n",
            "── \u001b[1mAttaching packages\u001b[22m ─────────────────────────────────────── tidyverse 1.3.1 ──\n",
            "\n",
            "\u001b[32m✔\u001b[39m \u001b[34mggplot2\u001b[39m 3.3.5     \u001b[32m✔\u001b[39m \u001b[34mpurrr  \u001b[39m 0.3.4\n",
            "\u001b[32m✔\u001b[39m \u001b[34mtibble \u001b[39m 3.1.2     \u001b[32m✔\u001b[39m \u001b[34mdplyr  \u001b[39m 1.0.7\n",
            "\u001b[32m✔\u001b[39m \u001b[34mtidyr  \u001b[39m 1.1.3     \u001b[32m✔\u001b[39m \u001b[34mstringr\u001b[39m 1.4.0\n",
            "\u001b[32m✔\u001b[39m \u001b[34mreadr  \u001b[39m 1.4.0     \u001b[32m✔\u001b[39m \u001b[34mforcats\u001b[39m 0.5.1\n",
            "\n",
            "── \u001b[1mConflicts\u001b[22m ────────────────────────────────────────── tidyverse_conflicts() ──\n",
            "\u001b[31m✖\u001b[39m \u001b[34mdplyr\u001b[39m::\u001b[32mfilter()\u001b[39m masks \u001b[34mstats\u001b[39m::filter()\n",
            "\u001b[31m✖\u001b[39m \u001b[34mdplyr\u001b[39m::\u001b[32mlag()\u001b[39m    masks \u001b[34mstats\u001b[39m::lag()\n",
            "\n"
          ],
          "name": "stderr"
        }
      ]
    },
    {
      "cell_type": "markdown",
      "metadata": {
        "id": "oGF419KrTSVV"
      },
      "source": [
        "## Calidad de datos y Modelo de entidad relación\n",
        "\n",
        "Para esta parte del taller vamos a trabajar con la base de datos de la matricula de estudiantes de Educación superior del año 2020\n",
        "\n",
        "Para ello, vamos a descargar la base de datos y, al mismo tiempo, vamos a descargar el esquema de registro de la tabla, que uno puede encontrar en el siguiente link\n",
        "\n",
        "http://datos.mineduc.cl/dashboards/20195/descarga-bases-de-datos-matricula-en-educacion-superior/"
      ]
    },
    {
      "cell_type": "markdown",
      "metadata": {
        "id": "GexGwYrHCnfI"
      },
      "source": [
        "Opción 1"
      ]
    },
    {
      "cell_type": "code",
      "metadata": {
        "id": "-RJDGL0ITQbl"
      },
      "source": [
        "system(\"wget http://datos.mineduc.cl/datasets/193401-matricula-de-educacion-superior-2020.download/\")\n",
        "system(\"mv /content/index.html /content/matricula_ES_2020.zip\")"
      ],
      "execution_count": null,
      "outputs": []
    },
    {
      "cell_type": "code",
      "metadata": {
        "id": "vI6aG6jEoXmn"
      },
      "source": [
        "unzip(\"/content/matricula_ES_2020.zip\")\n",
        "\n"
      ],
      "execution_count": null,
      "outputs": []
    },
    {
      "cell_type": "code",
      "metadata": {
        "id": "bqRvxLcU3m3f"
      },
      "source": [
        "system(\"gdown --id 1dXpk0MP6eXcgzfsFT4fnwjchecMwrNmZ\")\n"
      ],
      "execution_count": null,
      "outputs": []
    },
    {
      "cell_type": "markdown",
      "metadata": {
        "id": "35RyoQ0zCpXn"
      },
      "source": [
        "Opción 2"
      ]
    },
    {
      "cell_type": "code",
      "metadata": {
        "id": "OzUs7MF530cR"
      },
      "source": [
        "system(\"unzip /content/20200706_Matrcula_Ed_Superior_2020_PUBL_MRUN.zip\")"
      ],
      "execution_count": null,
      "outputs": []
    },
    {
      "cell_type": "code",
      "metadata": {
        "id": "3XTOqPDPnBkN"
      },
      "source": [
        "matricula <- read.csv2(\"20200706_Matrícula_Ed_Superior_2020_PUBL_MRUN.csv\")"
      ],
      "execution_count": null,
      "outputs": []
    },
    {
      "cell_type": "markdown",
      "metadata": {
        "id": "UZg-VH9IsCSv"
      },
      "source": [
        "Lo primero que haremos con este trabajo, será elaborar un modelo entidad-relación. Para ello, debemos investigar el esquema de registro y responder una serie de preguntas:\n",
        "\n",
        "\n",
        "\n",
        "1.   ¿Qué entidades existen?\n",
        "2.   ¿Cómo se relacionan estas entidades?\n",
        "3.   ¿Cuáles son los atributos de cada entidad?\n",
        "4.   ¿Cuál es la llave de cada entidad?\n",
        "\n"
      ]
    },
    {
      "cell_type": "code",
      "metadata": {
        "colab": {
          "base_uri": "https://localhost:8080/"
        },
        "id": "IpSDuye37a-1",
        "outputId": "03ae80b8-8d71-478d-ed60-a08707a1921a"
      },
      "source": [
        "str(matricula)"
      ],
      "execution_count": null,
      "outputs": [
        {
          "output_type": "stream",
          "text": [
            "'data.frame':\t1221017 obs. of  48 variables:\n",
            " $ cat_periodo                   : int  2020 2020 2020 2020 2020 2020 2020 2020 2020 2020 ...\n",
            " $ codigo_unico                  : chr  \"I155S2C80J2V1\" \"I143S2C30J2V2\" \"I143S2C469J2V2\" \"I19S3C9J1V1\" ...\n",
            " $ MRUN                          : int  NA NA NA NA NA NA NA NA NA NA ...\n",
            " $ GEN_ALU                       : int  1 1 2 1 2 2 2 2 2 1 ...\n",
            " $ FEC_NAC_ALU                   : int  199603 200103 200103 200105 200110 199502 199709 199911 200104 200003 ...\n",
            " $ rango_edad                    : chr  \"20 a 24 años\" \"15 a 19 años\" \"15 a 19 años\" \"15 a 19 años\" ...\n",
            " $ anio_ing_carr_ori             : int  2020 2020 2020 2020 2020 2019 2019 2020 2020 2019 ...\n",
            " $ sem_ing_carr_ori              : int  1 1 1 1 1 1 1 1 1 1 ...\n",
            " $ anio_ing_carr_act             : int  2020 2020 2020 2020 2020 2019 2019 2020 2020 2019 ...\n",
            " $ sem_ing_carr_act              : int  1 1 1 1 1 1 1 1 1 1 ...\n",
            " $ tipo_inst_1                   : chr  \"Institutos Profesionales\" \"Institutos Profesionales\" \"Institutos Profesionales\" \"Universidades\" ...\n",
            " $ tipo_inst_2                   : chr  \"Institutos Profesionales\" \"Institutos Profesionales\" \"Institutos Profesionales\" \"Universidades Privadas\" ...\n",
            " $ tipo_inst_3                   : chr  \"Institutos Profesionales\" \"Institutos Profesionales\" \"Institutos Profesionales\" \"Universidades Privadas\" ...\n",
            " $ cod_inst                      : int  155 143 143 19 54 143 143 143 116 91 ...\n",
            " $ nomb_inst                     : chr  \"IP LOS LEONES\" \"IP AIEP\" \"IP AIEP\" \"UNIVERSIDAD DE LAS AMERICAS\" ...\n",
            " $ cod_sede                      : int  2 2 2 3 5 15 26 2 11 1 ...\n",
            " $ nomb_sede                     : chr  \"CASA CENTRAL (SANTIAGO)\" \"SEDE ANTOFAGASTA\" \"SEDE ANTOFAGASTA\" \"CAMPUS MAIPU\" ...\n",
            " $ cod_carrera                   : int  80 30 469 9 48 114 113 9 9 79 ...\n",
            " $ nomb_carrera                  : chr  \"TECNICO EN ADMINISTRACION DE RRHH\" \"TECNICO JURIDICO\" \"TECNICO ASISTENTE EN EDUCACION ESPECIAL\" \"PSICOLOGIA\" ...\n",
            " $ modalidad                     : chr  \"Presencial\" \"Presencial\" \"Presencial\" \"Presencial\" ...\n",
            " $ jornada                       : chr  \"Vespertino\" \"Vespertino\" \"Vespertino\" \"Diurno\" ...\n",
            " $ version                       : int  1 2 2 1 2 2 1 2 1 2 ...\n",
            " $ tipo_plan_carr                : chr  \"Plan Regular\" \"Plan Regular\" \"Plan Regular\" \"Plan Regular\" ...\n",
            " $ dur_estudio_carr              : int  5 5 5 10 8 5 8 5 8 10 ...\n",
            " $ dur_proceso_tit               : int  1 1 1 0 0 1 1 1 0 1 ...\n",
            " $ dur_total_carr                : int  5 5 5 10 8 5 8 5 8 10 ...\n",
            " $ region_sede                   : chr  \"Metropolitana\" \"Antofagasta\" \"Antofagasta\" \"Metropolitana\" ...\n",
            " $ provincia_sede                : chr  \"SANTIAGO\" \"ANTOFAGASTA\" \"ANTOFAGASTA\" \"SANTIAGO\" ...\n",
            " $ comuna_sede                   : chr  \"SANTIAGO\" \"ANTOFAGASTA\" \"ANTOFAGASTA\" \"MAIPU\" ...\n",
            " $ nivel_global                  : chr  \"Pregrado\" \"Pregrado\" \"Pregrado\" \"Pregrado\" ...\n",
            " $ nivel_carrera_1               : chr  \"Técnico de Nivel Superior\" \"Técnico de Nivel Superior\" \"Técnico de Nivel Superior\" \"Profesional Con Licenciatura\" ...\n",
            " $ nivel_carrera_2               : chr  \"Carreras Técnicas\" \"Carreras Técnicas\" \"Carreras Técnicas\" \"Carreras Profesionales\" ...\n",
            " $ requisito_ingreso             : chr  \"Educación Media\" \"Educación Media\" \"Educación Media\" \"Educación Media\" ...\n",
            " $ vigencia_carrera              : chr  \"VIGENTE CON ALUMNOS NUEVOS\" \"VIGENTE CON ALUMNOS NUEVOS\" \"VIGENTE CON ALUMNOS NUEVOS\" \"VIGENTE CON ALUMNOS NUEVOS\" ...\n",
            " $ valor_matricula               : int  112000 180000 180000 170000 220000 180000 180000 180000 86000 138000 ...\n",
            " $ valor_arancel                 : int  1119600 1660000 1560000 4190000 2182000 1820000 1810000 1600000 1575500 3869000 ...\n",
            " $ codigo_demre                  : int  0 0 0 0 0 0 0 0 0 18065 ...\n",
            " $ area_conocimiento             : chr  \"Administración y Comercio\" \"Derecho\" \"Educación\" \"Ciencias Sociales\" ...\n",
            " $ oecd_area                     : chr  \"Ciencias Sociales, Enseñanza Comercial y Derecho\" \"Ciencias Sociales, Enseñanza Comercial y Derecho\" \"Educación\" \"Ciencias Sociales, Enseñanza Comercial y Derecho\" ...\n",
            " $ oecd_subarea                  : chr  \"Enseñanza Comercial y Administración\" \"Derecho\" \"Formación de Personal Docente\" \"Ciencias Sociales y del Comportamiento\" ...\n",
            " $ area_carrera_generica         : chr  \"Técnico en Administración de Recursos Humanos y Personal\" \"Técnico Jurídico\" \"Técnico Asistente del Educador Diferencial\" \"Psicología\" ...\n",
            " $ acreditada_carr               : chr  \"NO ACREDITADA\" \"ACREDITADA\" \"NO ACREDITADA\" \"NO ACREDITADA\" ...\n",
            " $ acreditada_inst               : chr  \"ACREDITADA\" \"ACREDITADA\" \"ACREDITADA\" \"ACREDITADA\" ...\n",
            " $ acre_inst_desde_hasta         : chr  \"22/04/2020 AL 22/04/2023\" \"22/10/2017 AL 22/10/2022\" \"22/10/2017 AL 22/10/2022\" \"17/03/2019 AL 17/03/2023\" ...\n",
            " $ acre_inst_anio                : int  3 5 5 4 3 5 5 5 3 6 ...\n",
            " $ costo_proceso_titulacion      : int  0 563250 546000 141150 36000 625430 180000 530330 0 174000 ...\n",
            " $ costo_obtencion_titulo_diploma: int  5000 0 0 0 0 0 0 0 0 44000 ...\n",
            " $ forma_ingreso                 : chr  \"1- Ingreso Directo (regular)\" \"6- Ingreso especial para estudiantes extranjeros\" \"6- Ingreso especial para estudiantes extranjeros\" \"6- Ingreso especial para estudiantes extranjeros\" ...\n"
          ],
          "name": "stdout"
        }
      ]
    },
    {
      "cell_type": "code",
      "metadata": {
        "id": "qijoz5u9pO4B"
      },
      "source": [
        ""
      ],
      "execution_count": null,
      "outputs": []
    },
    {
      "cell_type": "markdown",
      "metadata": {
        "id": "woykAp2J0bGb"
      },
      "source": [
        "Para construir nuestra base de datos, ahora queremos determinar la calidad de los mismos y, eliminar o corregir aquellos datos que presenten problemas. Para ello, debemos trabajar cada una de las dimensiones.\n",
        "\n",
        "La primera dimensión que vamos a evaluar es completitud. Aquí, revisamos los datos que falten en cada dimensión, observando cuantos datos faltan en cada columna. "
      ]
    },
    {
      "cell_type": "code",
      "metadata": {
        "id": "PSv6QYZn0ZSG",
        "colab": {
          "base_uri": "https://localhost:8080/"
        },
        "outputId": "9f59f5f8-a4b0-4ae8-8571-8ef3c24af75d"
      },
      "source": [
        "df <-apply(X = is.na(matricula), MARGIN = 2, FUN = mean)\n",
        "print(df*100)"
      ],
      "execution_count": null,
      "outputs": [
        {
          "output_type": "stream",
          "text": [
            "                   cat_periodo                   codigo_unico \n",
            "                    0.00000000                     0.00000000 \n",
            "                          MRUN                        GEN_ALU \n",
            "                    0.11138256                     0.00000000 \n",
            "                   FEC_NAC_ALU                     rango_edad \n",
            "                    0.01187535                     0.00000000 \n",
            "             anio_ing_carr_ori               sem_ing_carr_ori \n",
            "                    0.00000000                     0.00000000 \n",
            "             anio_ing_carr_act               sem_ing_carr_act \n",
            "                    0.00000000                     0.00000000 \n",
            "                   tipo_inst_1                    tipo_inst_2 \n",
            "                    0.00000000                     0.00000000 \n",
            "                   tipo_inst_3                       cod_inst \n",
            "                    0.00000000                     0.00000000 \n",
            "                     nomb_inst                       cod_sede \n",
            "                    0.00000000                     0.00000000 \n",
            "                     nomb_sede                    cod_carrera \n",
            "                    0.00000000                     0.00000000 \n",
            "                  nomb_carrera                      modalidad \n",
            "                    0.00000000                     0.00000000 \n",
            "                       jornada                        version \n",
            "                    0.00000000                     0.00000000 \n",
            "                tipo_plan_carr               dur_estudio_carr \n",
            "                    0.00000000                     0.00000000 \n",
            "               dur_proceso_tit                 dur_total_carr \n",
            "                    0.00000000                     0.00000000 \n",
            "                   region_sede                 provincia_sede \n",
            "                    0.00000000                     0.00000000 \n",
            "                   comuna_sede                   nivel_global \n",
            "                    0.00000000                     0.00000000 \n",
            "               nivel_carrera_1                nivel_carrera_2 \n",
            "                    0.00000000                     0.00000000 \n",
            "             requisito_ingreso               vigencia_carrera \n",
            "                    0.00000000                     0.00000000 \n",
            "               valor_matricula                  valor_arancel \n",
            "                    0.00000000                     0.00000000 \n",
            "                  codigo_demre              area_conocimiento \n",
            "                    0.00000000                     0.00000000 \n",
            "                     oecd_area                   oecd_subarea \n",
            "                    0.00000000                     0.00000000 \n",
            "         area_carrera_generica                acreditada_carr \n",
            "                    0.00000000                     0.00000000 \n",
            "               acreditada_inst          acre_inst_desde_hasta \n",
            "                    0.00000000                     0.00000000 \n",
            "                acre_inst_anio       costo_proceso_titulacion \n",
            "                    4.76135877                     0.00000000 \n",
            "costo_obtencion_titulo_diploma                  forma_ingreso \n",
            "                    0.00000000                     0.00000000 \n"
          ],
          "name": "stdout"
        }
      ]
    },
    {
      "cell_type": "markdown",
      "metadata": {
        "id": "A6IQ0wq748R9"
      },
      "source": [
        "¿Qué una columna presente una cantidad importante de datos faltantes, implica que hay un problema con estos datos?\n",
        "\n",
        "¿Que datos debiesemos eliminar si o si?"
      ]
    },
    {
      "cell_type": "markdown",
      "metadata": {
        "id": "aeNLekQP6mzj"
      },
      "source": [
        "Evaluada la completitud de los atributos, es necesario evaluar la validez de los mismos. Es decir, debemos evaluar si los datos cumplen con sus reglas y definiciones acordes.\n",
        "\n",
        "Existen definiciones básicas de tipo de datos y definiciones más complejas que se refieren a los valores validos definidos por el creador de la base de datos.\n"
      ]
    },
    {
      "cell_type": "code",
      "metadata": {
        "id": "_s5_PK0f0Zzg",
        "colab": {
          "base_uri": "https://localhost:8080/"
        },
        "outputId": "911bdad4-e65e-4a62-caa0-c3e9f6eba39e"
      },
      "source": [
        "# Definiciones tipos de datos\n",
        "# Año número entero\n",
        "falla <- 0\n",
        "for(c in matricula$cat_periodo){\n",
        "  if( typeof(c) != \"integer\" ){\n",
        "   falla <- falla +1\n",
        "  }\n",
        "}\n",
        "proporcion <- (falla / length(matricula$cat_periodo)) * 100\n",
        "print(paste0(\"la tasa de error es de \", proporcion, \"%\"))\n"
      ],
      "execution_count": null,
      "outputs": [
        {
          "output_type": "stream",
          "text": [
            "[1] \"la tasa de error es de 0%\"\n"
          ],
          "name": "stdout"
        }
      ]
    },
    {
      "cell_type": "code",
      "metadata": {
        "id": "l2rwwJ66cJBU",
        "colab": {
          "base_uri": "https://localhost:8080/"
        },
        "outputId": "bf012190-b406-4abe-8f18-85ab7b2cc368"
      },
      "source": [
        "# Nombre carrera character\n",
        "falla <-0\n",
        "for(c in matricula$nomb_carrera){\n",
        "\n",
        "  if( typeof(c) != \"character\" ){\n",
        "    falla <- falla +1\n",
        "  }\n",
        "  \n",
        "}\n",
        "proporcion = (falla / length(matricula$nomb_carrera)) * 100\n",
        "print(paste0(\"la tasa de error es de \", proporcion, \"%\"))\n"
      ],
      "execution_count": null,
      "outputs": [
        {
          "output_type": "stream",
          "text": [
            "[1] \"la tasa de error es de 0%\"\n"
          ],
          "name": "stdout"
        }
      ]
    },
    {
      "cell_type": "markdown",
      "metadata": {
        "id": "_vEYVzyuG8pX"
      },
      "source": [
        "**Actividad:** seleccione otros 3 atributos y revise su validez. Tiene 10 minutos"
      ]
    },
    {
      "cell_type": "code",
      "metadata": {
        "id": "wS4SgJX3ztri"
      },
      "source": [
        ""
      ],
      "execution_count": null,
      "outputs": []
    },
    {
      "cell_type": "code",
      "metadata": {
        "id": "2e6Rk2wcAGxN",
        "colab": {
          "base_uri": "https://localhost:8080/"
        },
        "outputId": "bee3b8a2-4d62-4fdb-c501-a9f9d589b61c"
      },
      "source": [
        "# Definiciones de acuerdo al creador de la base de datos\n",
        "\n",
        "# Genero entre 1 y 2\n",
        "falla <-0\n",
        "for(c in matricula$GEN_ALU){\n",
        "  if(c != 1 & c != 2){\n",
        "    falla <- falla +1\n",
        "  }  \n",
        "}\n",
        "\n",
        "proporcion = (falla / length(matricula$GEN_ALU)) * 100\n",
        "print(paste0(\"la tasa de error es de \", proporcion, \"%\"))\n",
        "\n"
      ],
      "execution_count": null,
      "outputs": [
        {
          "output_type": "stream",
          "text": [
            "[1] \"la tasa de error es de 0%\"\n"
          ],
          "name": "stdout"
        }
      ]
    },
    {
      "cell_type": "markdown",
      "metadata": {
        "id": "N-Og7ojiMYIg"
      },
      "source": [
        "Una forma más directa y mas informativa tambien seria agrupar por GEN_ALU y contar cada tipo."
      ]
    },
    {
      "cell_type": "code",
      "metadata": {
        "colab": {
          "base_uri": "https://localhost:8080/",
          "height": 159
        },
        "id": "ejl7vBRrMXu1",
        "outputId": "f941ed61-7220-46b2-cf71-d287efa68f76"
      },
      "source": [
        "matricula %>% group_by(GEN_ALU) %>%\n",
        "              summarise(n())"
      ],
      "execution_count": null,
      "outputs": [
        {
          "output_type": "display_data",
          "data": {
            "text/plain": [
              "  GEN_ALU n()   \n",
              "1 1       568968\n",
              "2 2       652049"
            ],
            "text/latex": "A tibble: 2 × 2\n\\begin{tabular}{ll}\n GEN\\_ALU & n()\\\\\n <int> & <int>\\\\\n\\hline\n\t 1 & 568968\\\\\n\t 2 & 652049\\\\\n\\end{tabular}\n",
            "text/markdown": "\nA tibble: 2 × 2\n\n| GEN_ALU &lt;int&gt; | n() &lt;int&gt; |\n|---|---|\n| 1 | 568968 |\n| 2 | 652049 |\n\n",
            "text/html": [
              "<table class=\"dataframe\">\n",
              "<caption>A tibble: 2 × 2</caption>\n",
              "<thead>\n",
              "\t<tr><th scope=col>GEN_ALU</th><th scope=col>n()</th></tr>\n",
              "\t<tr><th scope=col>&lt;int&gt;</th><th scope=col>&lt;int&gt;</th></tr>\n",
              "</thead>\n",
              "<tbody>\n",
              "\t<tr><td>1</td><td>568968</td></tr>\n",
              "\t<tr><td>2</td><td>652049</td></tr>\n",
              "</tbody>\n",
              "</table>\n"
            ]
          },
          "metadata": {
            "tags": []
          }
        }
      ]
    },
    {
      "cell_type": "code",
      "metadata": {
        "colab": {
          "base_uri": "https://localhost:8080/"
        },
        "id": "9lI9AQsxh7If",
        "outputId": "b723eeb9-eaea-4c73-e742-3a1090201c59"
      },
      "source": [
        "# Nivel global institución en categoría\n",
        "\n",
        "falla <-0\n",
        "for(c in matricula$nivel_global){\n",
        "  if(c != \"Pregrado\" & c != \"Postgrado\" & c != \"Postítulo\"){\n",
        "    falla <- falla +1\n",
        "  }  \n",
        "}\n",
        "\n",
        "proporcion = (falla / length(matricula$nivel_global)) * 100\n",
        "print(paste0(\"la tasa de error es de \", proporcion, \"%\"))"
      ],
      "execution_count": null,
      "outputs": [
        {
          "output_type": "stream",
          "text": [
            "[1] \"la tasa de error es de 0%\"\n"
          ],
          "name": "stdout"
        }
      ]
    },
    {
      "cell_type": "markdown",
      "metadata": {
        "id": "_B5u2vm1OVxi"
      },
      "source": [
        "Tambien podemos contar los grupos para este caso."
      ]
    },
    {
      "cell_type": "code",
      "metadata": {
        "colab": {
          "base_uri": "https://localhost:8080/",
          "height": 190
        },
        "id": "T3yAjF61ONJi",
        "outputId": "96de1f3d-54b6-4208-bbe1-09f0df2cf403"
      },
      "source": [
        "matricula %>% group_by(nivel_global) %>%\n",
        "              summarise(n())"
      ],
      "execution_count": null,
      "outputs": [
        {
          "output_type": "display_data",
          "data": {
            "text/plain": [
              "  nivel_global n()    \n",
              "1 Postgrado      45483\n",
              "2 Postítulo      23807\n",
              "3 Pregrado     1151727"
            ],
            "text/latex": "A tibble: 3 × 2\n\\begin{tabular}{ll}\n nivel\\_global & n()\\\\\n <chr> & <int>\\\\\n\\hline\n\t Postgrado &   45483\\\\\n\t Postítulo &   23807\\\\\n\t Pregrado  & 1151727\\\\\n\\end{tabular}\n",
            "text/markdown": "\nA tibble: 3 × 2\n\n| nivel_global &lt;chr&gt; | n() &lt;int&gt; |\n|---|---|\n| Postgrado |   45483 |\n| Postítulo |   23807 |\n| Pregrado  | 1151727 |\n\n",
            "text/html": [
              "<table class=\"dataframe\">\n",
              "<caption>A tibble: 3 × 2</caption>\n",
              "<thead>\n",
              "\t<tr><th scope=col>nivel_global</th><th scope=col>n()</th></tr>\n",
              "\t<tr><th scope=col>&lt;chr&gt;</th><th scope=col>&lt;int&gt;</th></tr>\n",
              "</thead>\n",
              "<tbody>\n",
              "\t<tr><td>Postgrado</td><td>  45483</td></tr>\n",
              "\t<tr><td>Postítulo</td><td>  23807</td></tr>\n",
              "\t<tr><td>Pregrado </td><td>1151727</td></tr>\n",
              "</tbody>\n",
              "</table>\n"
            ]
          },
          "metadata": {
            "tags": []
          }
        }
      ]
    },
    {
      "cell_type": "code",
      "metadata": {
        "colab": {
          "base_uri": "https://localhost:8080/"
        },
        "id": "-7CqaZdLh6rt",
        "outputId": "919063b8-8882-419f-c394-b61495169fcd"
      },
      "source": [
        "# Nacimiento tiene sentido\n",
        "\n",
        "falla <-0\n",
        "for(c in matricula$FEC_NAC_ALU){\n",
        "  anio <- c %/% 100\n",
        "  mes <- c %% 100\n",
        "  if( !is.na(anio)){\n",
        "  if(anio < 1920 | anio > 2005 | mes == 0 | mes >= 13){\n",
        "    falla <- falla +1\n",
        "  }  \n",
        "  }\n",
        "}\n",
        "\n",
        "proporcion = (falla / length(matricula$FEC_NAC_ALU)) * 100\n",
        "print(paste0(\"la tasa de error es de \", proporcion, \"%\"))\n",
        "\n"
      ],
      "execution_count": null,
      "outputs": [
        {
          "output_type": "stream",
          "text": [
            "[1] \"la tasa de error es de 0.00147418094915959%\"\n"
          ],
          "name": "stdout"
        }
      ]
    },
    {
      "cell_type": "code",
      "metadata": {
        "id": "Nsnc8sL4Oj9H",
        "colab": {
          "base_uri": "https://localhost:8080/",
          "height": 1000
        },
        "outputId": "e9fcf665-3af8-47e1-dc9c-9ef43e26cc4e"
      },
      "source": [
        "datanacimiento  <- matricula %>%\n",
        "          select(\"FEC_NAC_ALU\") %>%\n",
        "          mutate(NAC_ALU_AGNO= FEC_NAC_ALU %/% 100,\n",
        "                      NAC_ALU_MES= FEC_NAC_ALU %% 100)\n",
        "datanacimiento"
      ],
      "execution_count": null,
      "outputs": [
        {
          "output_type": "display_data",
          "data": {
            "text/plain": [
              "        FEC_NAC_ALU NAC_ALU_AGNO NAC_ALU_MES\n",
              "1       199603      1996          3         \n",
              "2       200103      2001          3         \n",
              "3       200103      2001          3         \n",
              "4       200105      2001          5         \n",
              "5       200110      2001         10         \n",
              "6       199502      1995          2         \n",
              "7       199709      1997          9         \n",
              "8       199911      1999         11         \n",
              "9       200104      2001          4         \n",
              "10      200003      2000          3         \n",
              "11      199811      1998         11         \n",
              "12      199204      1992          4         \n",
              "13      199712      1997         12         \n",
              "14      200004      2000          4         \n",
              "15      200204      2002          4         \n",
              "16      199910      1999         10         \n",
              "17      200104      2001          4         \n",
              "18      199509      1995          9         \n",
              "19      200111      2001         11         \n",
              "20      200211      2002         11         \n",
              "21      199912      1999         12         \n",
              "22      200004      2000          4         \n",
              "23      199904      1999          4         \n",
              "24      199804      1998          4         \n",
              "25      200107      2001          7         \n",
              "26      199210      1992         10         \n",
              "27      199912      1999         12         \n",
              "28      199708      1997          8         \n",
              "29      199303      1993          3         \n",
              "30      199508      1995          8         \n",
              "⋮       ⋮           ⋮            ⋮          \n",
              "1220988 198506      1985          6         \n",
              "1220989 198910      1989         10         \n",
              "1220990 197211      1972         11         \n",
              "1220991 199307      1993          7         \n",
              "1220992 197110      1971         10         \n",
              "1220993 199207      1992          7         \n",
              "1220994 199801      1998          1         \n",
              "1220995 200104      2001          4         \n",
              "1220996 199206      1992          6         \n",
              "1220997 200103      2001          3         \n",
              "1220998 197411      1974         11         \n",
              "1220999     NA        NA         NA         \n",
              "1221000 199311      1993         11         \n",
              "1221001 199203      1992          3         \n",
              "1221002 198511      1985         11         \n",
              "1221003 199305      1993          5         \n",
              "1221004 199601      1996          1         \n",
              "1221005 200302      2003          2         \n",
              "1221006 199103      1991          3         \n",
              "1221007 199407      1994          7         \n",
              "1221008 197705      1977          5         \n",
              "1221009 200002      2000          2         \n",
              "1221010 198901      1989          1         \n",
              "1221011 196804      1968          4         \n",
              "1221012 198011      1980         11         \n",
              "1221013 198610      1986         10         \n",
              "1221014 197411      1974         11         \n",
              "1221015 200107      2001          7         \n",
              "1221016     NA        NA         NA         \n",
              "1221017 199104      1991          4         "
            ],
            "text/latex": "A data.frame: 1221017 × 3\n\\begin{tabular}{lll}\n FEC\\_NAC\\_ALU & NAC\\_ALU\\_AGNO & NAC\\_ALU\\_MES\\\\\n <int> & <dbl> & <dbl>\\\\\n\\hline\n\t 199603 & 1996 &  3\\\\\n\t 200103 & 2001 &  3\\\\\n\t 200103 & 2001 &  3\\\\\n\t 200105 & 2001 &  5\\\\\n\t 200110 & 2001 & 10\\\\\n\t 199502 & 1995 &  2\\\\\n\t 199709 & 1997 &  9\\\\\n\t 199911 & 1999 & 11\\\\\n\t 200104 & 2001 &  4\\\\\n\t 200003 & 2000 &  3\\\\\n\t 199811 & 1998 & 11\\\\\n\t 199204 & 1992 &  4\\\\\n\t 199712 & 1997 & 12\\\\\n\t 200004 & 2000 &  4\\\\\n\t 200204 & 2002 &  4\\\\\n\t 199910 & 1999 & 10\\\\\n\t 200104 & 2001 &  4\\\\\n\t 199509 & 1995 &  9\\\\\n\t 200111 & 2001 & 11\\\\\n\t 200211 & 2002 & 11\\\\\n\t 199912 & 1999 & 12\\\\\n\t 200004 & 2000 &  4\\\\\n\t 199904 & 1999 &  4\\\\\n\t 199804 & 1998 &  4\\\\\n\t 200107 & 2001 &  7\\\\\n\t 199210 & 1992 & 10\\\\\n\t 199912 & 1999 & 12\\\\\n\t 199708 & 1997 &  8\\\\\n\t 199303 & 1993 &  3\\\\\n\t 199508 & 1995 &  8\\\\\n\t ⋮ & ⋮ & ⋮\\\\\n\t 198506 & 1985 &  6\\\\\n\t 198910 & 1989 & 10\\\\\n\t 197211 & 1972 & 11\\\\\n\t 199307 & 1993 &  7\\\\\n\t 197110 & 1971 & 10\\\\\n\t 199207 & 1992 &  7\\\\\n\t 199801 & 1998 &  1\\\\\n\t 200104 & 2001 &  4\\\\\n\t 199206 & 1992 &  6\\\\\n\t 200103 & 2001 &  3\\\\\n\t 197411 & 1974 & 11\\\\\n\t     NA &   NA & NA\\\\\n\t 199311 & 1993 & 11\\\\\n\t 199203 & 1992 &  3\\\\\n\t 198511 & 1985 & 11\\\\\n\t 199305 & 1993 &  5\\\\\n\t 199601 & 1996 &  1\\\\\n\t 200302 & 2003 &  2\\\\\n\t 199103 & 1991 &  3\\\\\n\t 199407 & 1994 &  7\\\\\n\t 197705 & 1977 &  5\\\\\n\t 200002 & 2000 &  2\\\\\n\t 198901 & 1989 &  1\\\\\n\t 196804 & 1968 &  4\\\\\n\t 198011 & 1980 & 11\\\\\n\t 198610 & 1986 & 10\\\\\n\t 197411 & 1974 & 11\\\\\n\t 200107 & 2001 &  7\\\\\n\t     NA &   NA & NA\\\\\n\t 199104 & 1991 &  4\\\\\n\\end{tabular}\n",
            "text/markdown": "\nA data.frame: 1221017 × 3\n\n| FEC_NAC_ALU &lt;int&gt; | NAC_ALU_AGNO &lt;dbl&gt; | NAC_ALU_MES &lt;dbl&gt; |\n|---|---|---|\n| 199603 | 1996 |  3 |\n| 200103 | 2001 |  3 |\n| 200103 | 2001 |  3 |\n| 200105 | 2001 |  5 |\n| 200110 | 2001 | 10 |\n| 199502 | 1995 |  2 |\n| 199709 | 1997 |  9 |\n| 199911 | 1999 | 11 |\n| 200104 | 2001 |  4 |\n| 200003 | 2000 |  3 |\n| 199811 | 1998 | 11 |\n| 199204 | 1992 |  4 |\n| 199712 | 1997 | 12 |\n| 200004 | 2000 |  4 |\n| 200204 | 2002 |  4 |\n| 199910 | 1999 | 10 |\n| 200104 | 2001 |  4 |\n| 199509 | 1995 |  9 |\n| 200111 | 2001 | 11 |\n| 200211 | 2002 | 11 |\n| 199912 | 1999 | 12 |\n| 200004 | 2000 |  4 |\n| 199904 | 1999 |  4 |\n| 199804 | 1998 |  4 |\n| 200107 | 2001 |  7 |\n| 199210 | 1992 | 10 |\n| 199912 | 1999 | 12 |\n| 199708 | 1997 |  8 |\n| 199303 | 1993 |  3 |\n| 199508 | 1995 |  8 |\n| ⋮ | ⋮ | ⋮ |\n| 198506 | 1985 |  6 |\n| 198910 | 1989 | 10 |\n| 197211 | 1972 | 11 |\n| 199307 | 1993 |  7 |\n| 197110 | 1971 | 10 |\n| 199207 | 1992 |  7 |\n| 199801 | 1998 |  1 |\n| 200104 | 2001 |  4 |\n| 199206 | 1992 |  6 |\n| 200103 | 2001 |  3 |\n| 197411 | 1974 | 11 |\n|     NA |   NA | NA |\n| 199311 | 1993 | 11 |\n| 199203 | 1992 |  3 |\n| 198511 | 1985 | 11 |\n| 199305 | 1993 |  5 |\n| 199601 | 1996 |  1 |\n| 200302 | 2003 |  2 |\n| 199103 | 1991 |  3 |\n| 199407 | 1994 |  7 |\n| 197705 | 1977 |  5 |\n| 200002 | 2000 |  2 |\n| 198901 | 1989 |  1 |\n| 196804 | 1968 |  4 |\n| 198011 | 1980 | 11 |\n| 198610 | 1986 | 10 |\n| 197411 | 1974 | 11 |\n| 200107 | 2001 |  7 |\n|     NA |   NA | NA |\n| 199104 | 1991 |  4 |\n\n",
            "text/html": [
              "<table class=\"dataframe\">\n",
              "<caption>A data.frame: 1221017 × 3</caption>\n",
              "<thead>\n",
              "\t<tr><th scope=col>FEC_NAC_ALU</th><th scope=col>NAC_ALU_AGNO</th><th scope=col>NAC_ALU_MES</th></tr>\n",
              "\t<tr><th scope=col>&lt;int&gt;</th><th scope=col>&lt;dbl&gt;</th><th scope=col>&lt;dbl&gt;</th></tr>\n",
              "</thead>\n",
              "<tbody>\n",
              "\t<tr><td>199603</td><td>1996</td><td> 3</td></tr>\n",
              "\t<tr><td>200103</td><td>2001</td><td> 3</td></tr>\n",
              "\t<tr><td>200103</td><td>2001</td><td> 3</td></tr>\n",
              "\t<tr><td>200105</td><td>2001</td><td> 5</td></tr>\n",
              "\t<tr><td>200110</td><td>2001</td><td>10</td></tr>\n",
              "\t<tr><td>199502</td><td>1995</td><td> 2</td></tr>\n",
              "\t<tr><td>199709</td><td>1997</td><td> 9</td></tr>\n",
              "\t<tr><td>199911</td><td>1999</td><td>11</td></tr>\n",
              "\t<tr><td>200104</td><td>2001</td><td> 4</td></tr>\n",
              "\t<tr><td>200003</td><td>2000</td><td> 3</td></tr>\n",
              "\t<tr><td>199811</td><td>1998</td><td>11</td></tr>\n",
              "\t<tr><td>199204</td><td>1992</td><td> 4</td></tr>\n",
              "\t<tr><td>199712</td><td>1997</td><td>12</td></tr>\n",
              "\t<tr><td>200004</td><td>2000</td><td> 4</td></tr>\n",
              "\t<tr><td>200204</td><td>2002</td><td> 4</td></tr>\n",
              "\t<tr><td>199910</td><td>1999</td><td>10</td></tr>\n",
              "\t<tr><td>200104</td><td>2001</td><td> 4</td></tr>\n",
              "\t<tr><td>199509</td><td>1995</td><td> 9</td></tr>\n",
              "\t<tr><td>200111</td><td>2001</td><td>11</td></tr>\n",
              "\t<tr><td>200211</td><td>2002</td><td>11</td></tr>\n",
              "\t<tr><td>199912</td><td>1999</td><td>12</td></tr>\n",
              "\t<tr><td>200004</td><td>2000</td><td> 4</td></tr>\n",
              "\t<tr><td>199904</td><td>1999</td><td> 4</td></tr>\n",
              "\t<tr><td>199804</td><td>1998</td><td> 4</td></tr>\n",
              "\t<tr><td>200107</td><td>2001</td><td> 7</td></tr>\n",
              "\t<tr><td>199210</td><td>1992</td><td>10</td></tr>\n",
              "\t<tr><td>199912</td><td>1999</td><td>12</td></tr>\n",
              "\t<tr><td>199708</td><td>1997</td><td> 8</td></tr>\n",
              "\t<tr><td>199303</td><td>1993</td><td> 3</td></tr>\n",
              "\t<tr><td>199508</td><td>1995</td><td> 8</td></tr>\n",
              "\t<tr><td>⋮</td><td>⋮</td><td>⋮</td></tr>\n",
              "\t<tr><td>198506</td><td>1985</td><td> 6</td></tr>\n",
              "\t<tr><td>198910</td><td>1989</td><td>10</td></tr>\n",
              "\t<tr><td>197211</td><td>1972</td><td>11</td></tr>\n",
              "\t<tr><td>199307</td><td>1993</td><td> 7</td></tr>\n",
              "\t<tr><td>197110</td><td>1971</td><td>10</td></tr>\n",
              "\t<tr><td>199207</td><td>1992</td><td> 7</td></tr>\n",
              "\t<tr><td>199801</td><td>1998</td><td> 1</td></tr>\n",
              "\t<tr><td>200104</td><td>2001</td><td> 4</td></tr>\n",
              "\t<tr><td>199206</td><td>1992</td><td> 6</td></tr>\n",
              "\t<tr><td>200103</td><td>2001</td><td> 3</td></tr>\n",
              "\t<tr><td>197411</td><td>1974</td><td>11</td></tr>\n",
              "\t<tr><td>    NA</td><td>  NA</td><td>NA</td></tr>\n",
              "\t<tr><td>199311</td><td>1993</td><td>11</td></tr>\n",
              "\t<tr><td>199203</td><td>1992</td><td> 3</td></tr>\n",
              "\t<tr><td>198511</td><td>1985</td><td>11</td></tr>\n",
              "\t<tr><td>199305</td><td>1993</td><td> 5</td></tr>\n",
              "\t<tr><td>199601</td><td>1996</td><td> 1</td></tr>\n",
              "\t<tr><td>200302</td><td>2003</td><td> 2</td></tr>\n",
              "\t<tr><td>199103</td><td>1991</td><td> 3</td></tr>\n",
              "\t<tr><td>199407</td><td>1994</td><td> 7</td></tr>\n",
              "\t<tr><td>197705</td><td>1977</td><td> 5</td></tr>\n",
              "\t<tr><td>200002</td><td>2000</td><td> 2</td></tr>\n",
              "\t<tr><td>198901</td><td>1989</td><td> 1</td></tr>\n",
              "\t<tr><td>196804</td><td>1968</td><td> 4</td></tr>\n",
              "\t<tr><td>198011</td><td>1980</td><td>11</td></tr>\n",
              "\t<tr><td>198610</td><td>1986</td><td>10</td></tr>\n",
              "\t<tr><td>197411</td><td>1974</td><td>11</td></tr>\n",
              "\t<tr><td>200107</td><td>2001</td><td> 7</td></tr>\n",
              "\t<tr><td>    NA</td><td>  NA</td><td>NA</td></tr>\n",
              "\t<tr><td>199104</td><td>1991</td><td> 4</td></tr>\n",
              "</tbody>\n",
              "</table>\n"
            ]
          },
          "metadata": {
            "tags": []
          }
        }
      ]
    },
    {
      "cell_type": "code",
      "metadata": {
        "colab": {
          "base_uri": "https://localhost:8080/",
          "height": 153
        },
        "id": "CoM0QAvjQ9vO",
        "outputId": "b40b27ff-c4c2-400f-89fd-b7b166427c22"
      },
      "source": [
        "datanacimiento %>% summary()"
      ],
      "execution_count": null,
      "outputs": [
        {
          "output_type": "display_data",
          "data": {
            "text/plain": [
              "  FEC_NAC_ALU      NAC_ALU_AGNO   NAC_ALU_MES    \n",
              " Min.   :192412   Min.   :1924   Min.   : 1.000  \n",
              " 1st Qu.:199302   1st Qu.:1993   1st Qu.: 4.000  \n",
              " Median :199707   Median :1997   Median : 7.000  \n",
              " Mean   :199473   Mean   :1995   Mean   : 6.604  \n",
              " 3rd Qu.:199911   3rd Qu.:1999   3rd Qu.:10.000  \n",
              " Max.   :201911   Max.   :2019   Max.   :12.000  \n",
              " NA's   :145      NA's   :145    NA's   :145     "
            ]
          },
          "metadata": {
            "tags": []
          }
        }
      ]
    },
    {
      "cell_type": "markdown",
      "metadata": {
        "id": "xnxflR4iTmI3"
      },
      "source": [
        "Notese el año de nacimiento 2019"
      ]
    },
    {
      "cell_type": "code",
      "metadata": {
        "colab": {
          "base_uri": "https://localhost:8080/",
          "height": 505
        },
        "id": "hU2GTwtUP3o1",
        "outputId": "774d376a-5799-4189-e2cc-9b5cfe8b369f"
      },
      "source": [
        "datanacimiento %>% ggplot(aes(x = NAC_ALU_AGNO)) +\n",
        "                geom_histogram(aes())\n"
      ],
      "execution_count": null,
      "outputs": [
        {
          "output_type": "stream",
          "text": [
            "`stat_bin()` using `bins = 30`. Pick better value with `binwidth`.\n",
            "\n",
            "Warning message:\n",
            "“Removed 145 rows containing non-finite values (stat_bin).”\n"
          ],
          "name": "stderr"
        },
        {
          "output_type": "display_data",
          "data": {
            "image/png": "[encoded data removed]",
            "text/plain": [
              "plot without title"
            ]
          },
          "metadata": {
            "tags": [],
            "image/png": {
              "width": 420,
              "height": 420
            }
          }
        }
      ]
    },
    {
      "cell_type": "code",
      "metadata": {
        "colab": {
          "base_uri": "https://localhost:8080/",
          "height": 505
        },
        "id": "Z7Iq_LrhRRDt",
        "outputId": "23a7f423-f0ef-4705-8555-fa713aa4cc4f"
      },
      "source": [
        "datanacimiento %>% ggplot(aes(x = NAC_ALU_MES)) +\n",
        "                geom_histogram(aes())\n"
      ],
      "execution_count": null,
      "outputs": [
        {
          "output_type": "stream",
          "text": [
            "`stat_bin()` using `bins = 30`. Pick better value with `binwidth`.\n",
            "\n",
            "Warning message:\n",
            "“Removed 145 rows containing non-finite values (stat_bin).”\n"
          ],
          "name": "stderr"
        },
        {
          "output_type": "display_data",
          "data": {
            "image/png": "[encoded data removed]",
            "text/plain": [
              "plot without title"
            ]
          },
          "metadata": {
            "tags": [],
            "image/png": {
              "width": 420,
              "height": 420
            }
          }
        }
      ]
    },
    {
      "cell_type": "markdown",
      "metadata": {
        "id": "6ZUFAubMTtq8"
      },
      "source": [
        "Busquemos los valores malos\n"
      ]
    },
    {
      "cell_type": "code",
      "metadata": {
        "colab": {
          "base_uri": "https://localhost:8080/",
          "height": 1000
        },
        "id": "_D144LN6T2F1",
        "outputId": "74013e0f-7a5c-4110-f588-03922ec6d2d1"
      },
      "source": [
        "matricula %>% filter(FEC_NAC_ALU>200601)"
      ],
      "execution_count": null,
      "outputs": [
        {
          "output_type": "display_data",
          "data": {
            "text/plain": [
              "   cat_periodo codigo_unico  MRUN     GEN_ALU FEC_NAC_ALU rango_edad     \n",
              "1  2020        I10S9C7J1V1    1847609 2       200912      SIN INFORMACION\n",
              "2  2020        I10S9C7J1V1    3257661 1       201110      SIN INFORMACION\n",
              "3  2020        I10S9C7J1V1   10354472 1       200608      SIN INFORMACION\n",
              "4  2020        I10S9C7J1V1   11090206 1       200901      SIN INFORMACION\n",
              "5  2020        I10S9C7J1V1   14259301 1       200703      SIN INFORMACION\n",
              "6  2020        I10S9C4J1V1   14398260 2       200703      SIN INFORMACION\n",
              "7  2020        I23S1C253J1V1 14854031 2       201801      SIN INFORMACION\n",
              "8  2020        I10S9C4J1V1   14940030 2       200610      SIN INFORMACION\n",
              "9  2020        I10S9C4J1V1   17034427 2       200807      SIN INFORMACION\n",
              "10 2020        I193S2C4J1V1  19061732 1       201911      SIN INFORMACION\n",
              "11 2020        I10S9C4J1V1   19614657 1       200610      SIN INFORMACION\n",
              "12 2020        I10S9C4J1V1   21096868 2       200911      SIN INFORMACION\n",
              "13 2020        I10S9C4J1V1   22834397 2       200704      SIN INFORMACION\n",
              "14 2020        I10S9C4J1V1   22982286 2       200904      SIN INFORMACION\n",
              "15 2020        I10S9C4J1V1   24871135 2       200804      SIN INFORMACION\n",
              "16 2020        I79S1C161J1V2 26232146 2       201703      SIN INFORMACION\n",
              "17 2020        I81S1C498J1V1 26232445 2       201902      SIN INFORMACION\n",
              "18 2020        I38S1C34J1V1  26232526 1       201906      SIN INFORMACION\n",
              "   anio_ing_carr_ori sem_ing_carr_ori anio_ing_carr_act sem_ing_carr_act ⋯\n",
              "1  2020              1                2020              1                ⋯\n",
              "2  2019              1                2019              1                ⋯\n",
              "3  2019              1                2019              1                ⋯\n",
              "4  2019              1                2019              1                ⋯\n",
              "5  2019              1                2019              1                ⋯\n",
              "6  2019              1                2019              1                ⋯\n",
              "7  2018              2                2018              2                ⋯\n",
              "8  2020              1                2020              1                ⋯\n",
              "9  2017              1                2017              1                ⋯\n",
              "10 2020              1                2020              1                ⋯\n",
              "11 2018              1                2018              1                ⋯\n",
              "12 2018              1                2018              1                ⋯\n",
              "13 2020              1                2020              1                ⋯\n",
              "14 2019              1                2019              1                ⋯\n",
              "15 2020              1                2020              1                ⋯\n",
              "16 2020              1                2020              1                ⋯\n",
              "17 2019              2                2019              2                ⋯\n",
              "18 2020              1                2020              1                ⋯\n",
              "   oecd_area                                       \n",
              "1  Humanidades y Artes                             \n",
              "2  Humanidades y Artes                             \n",
              "3  Humanidades y Artes                             \n",
              "4  Humanidades y Artes                             \n",
              "5  Humanidades y Artes                             \n",
              "6  Humanidades y Artes                             \n",
              "7  Ingeniería, Industria y Construcción            \n",
              "8  Humanidades y Artes                             \n",
              "9  Humanidades y Artes                             \n",
              "10 Servicios                                       \n",
              "11 Humanidades y Artes                             \n",
              "12 Humanidades y Artes                             \n",
              "13 Humanidades y Artes                             \n",
              "14 Humanidades y Artes                             \n",
              "15 Humanidades y Artes                             \n",
              "16 Ingeniería, Industria y Construcción            \n",
              "17 Ciencias Sociales, Enseñanza Comercial y Derecho\n",
              "18 Ciencias Sociales, Enseñanza Comercial y Derecho\n",
              "   oecd_subarea                        \n",
              "1  Artes                               \n",
              "2  Artes                               \n",
              "3  Artes                               \n",
              "4  Artes                               \n",
              "5  Artes                               \n",
              "6  Artes                               \n",
              "7  Ingeniería y Profesiones Afines     \n",
              "8  Artes                               \n",
              "9  Artes                               \n",
              "10 Servicios Personales                \n",
              "11 Artes                               \n",
              "12 Artes                               \n",
              "13 Artes                               \n",
              "14 Artes                               \n",
              "15 Artes                               \n",
              "16 Ingeniería y Profesiones Afines     \n",
              "17 Enseñanza Comercial y Administración\n",
              "18 Enseñanza Comercial y Administración\n",
              "   area_carrera_generica                                                   \n",
              "1  Música, Canto o Danza                                                   \n",
              "2  Música, Canto o Danza                                                   \n",
              "3  Música, Canto o Danza                                                   \n",
              "4  Música, Canto o Danza                                                   \n",
              "5  Música, Canto o Danza                                                   \n",
              "6  Música, Canto o Danza                                                   \n",
              "7  Ingeniería Civil, plan común y licenciatura en Ciencias de la Ingeniería\n",
              "8  Música, Canto o Danza                                                   \n",
              "9  Música, Canto o Danza                                                   \n",
              "10 Otros Profesionales de Educación                                        \n",
              "11 Música, Canto o Danza                                                   \n",
              "12 Música, Canto o Danza                                                   \n",
              "13 Música, Canto o Danza                                                   \n",
              "14 Música, Canto o Danza                                                   \n",
              "15 Música, Canto o Danza                                                   \n",
              "16 Técnico en Mecánica Industrial                                          \n",
              "17 Magister en Administración y Comercio                                   \n",
              "18 Contador Auditor                                                        \n",
              "   acreditada_carr acreditada_inst acre_inst_desde_hasta    acre_inst_anio\n",
              "1  NO ACREDITADA   ACREDITADA      20/05/2015 AL 20/05/2020 5             \n",
              "2  NO ACREDITADA   ACREDITADA      20/05/2015 AL 20/05/2020 5             \n",
              "3  NO ACREDITADA   ACREDITADA      20/05/2015 AL 20/05/2020 5             \n",
              "4  NO ACREDITADA   ACREDITADA      20/05/2015 AL 20/05/2020 5             \n",
              "5  NO ACREDITADA   ACREDITADA      20/05/2015 AL 20/05/2020 5             \n",
              "6  NO ACREDITADA   ACREDITADA      20/05/2015 AL 20/05/2020 5             \n",
              "7  NO ACREDITADA   ACREDITADA      18/11/2015 AL 18/11/2020 5             \n",
              "8  NO ACREDITADA   ACREDITADA      20/05/2015 AL 20/05/2020 5             \n",
              "9  NO ACREDITADA   ACREDITADA      20/05/2015 AL 20/05/2020 5             \n",
              "10 NO ACREDITADA   ACREDITADA      25/11/2017 AL 25/11/2020 3             \n",
              "11 NO ACREDITADA   ACREDITADA      20/05/2015 AL 20/05/2020 5             \n",
              "12 NO ACREDITADA   ACREDITADA      20/05/2015 AL 20/05/2020 5             \n",
              "13 NO ACREDITADA   ACREDITADA      20/05/2015 AL 20/05/2020 5             \n",
              "14 NO ACREDITADA   ACREDITADA      20/05/2015 AL 20/05/2020 5             \n",
              "15 NO ACREDITADA   ACREDITADA      20/05/2015 AL 20/05/2020 5             \n",
              "16 NO ACREDITADA   ACREDITADA      17/12/2017 AL 17/12/2020 3             \n",
              "17 NO ACREDITADA   ACREDITADA      21/12/2017 AL 21/12/2021 4             \n",
              "18 NO ACREDITADA   ACREDITADA      14/01/2019 AL 14/01/2023 4             \n",
              "   costo_proceso_titulacion costo_obtencion_titulo_diploma\n",
              "1       0                   178000                        \n",
              "2       0                   178000                        \n",
              "3       0                   178000                        \n",
              "4       0                   178000                        \n",
              "5       0                   178000                        \n",
              "6       0                   178000                        \n",
              "7       0                        0                        \n",
              "8       0                   178000                        \n",
              "9       0                   178000                        \n",
              "10 100000                        0                        \n",
              "11      0                   178000                        \n",
              "12      0                   178000                        \n",
              "13      0                   178000                        \n",
              "14      0                   178000                        \n",
              "15      0                   178000                        \n",
              "16  30000                     8000                        \n",
              "17 362250                   310500                        \n",
              "18      0                   113039                        \n",
              "   forma_ingreso                                   \n",
              "1  10- Otras formas de Ingreso                     \n",
              "2  10- Otras formas de Ingreso                     \n",
              "3  10- Otras formas de Ingreso                     \n",
              "4  10- Otras formas de Ingreso                     \n",
              "5  10- Otras formas de Ingreso                     \n",
              "6  10- Otras formas de Ingreso                     \n",
              "7  2- Continuidad desde plan común o Bachillerato. \n",
              "8  10- Otras formas de Ingreso                     \n",
              "9  10- Otras formas de Ingreso                     \n",
              "10 1- Ingreso Directo (regular)                    \n",
              "11 10- Otras formas de Ingreso                     \n",
              "12 10- Otras formas de Ingreso                     \n",
              "13 10- Otras formas de Ingreso                     \n",
              "14 10- Otras formas de Ingreso                     \n",
              "15 10- Otras formas de Ingreso                     \n",
              "16 1- Ingreso Directo (regular)                    \n",
              "17 6- Ingreso especial para estudiantes extranjeros\n",
              "18 6- Ingreso especial para estudiantes extranjeros"
            ],
            "text/latex": "A data.frame: 18 × 48\n\\begin{tabular}{lllllllllllllllllllll}\n cat\\_periodo & codigo\\_unico & MRUN & GEN\\_ALU & FEC\\_NAC\\_ALU & rango\\_edad & anio\\_ing\\_carr\\_ori & sem\\_ing\\_carr\\_ori & anio\\_ing\\_carr\\_act & sem\\_ing\\_carr\\_act & ⋯ & oecd\\_area & oecd\\_subarea & area\\_carrera\\_generica & acreditada\\_carr & acreditada\\_inst & acre\\_inst\\_desde\\_hasta & acre\\_inst\\_anio & costo\\_proceso\\_titulacion & costo\\_obtencion\\_titulo\\_diploma & forma\\_ingreso\\\\\n <int> & <chr> & <int> & <int> & <int> & <chr> & <int> & <int> & <int> & <int> & ⋯ & <chr> & <chr> & <chr> & <chr> & <chr> & <chr> & <int> & <int> & <int> & <chr>\\\\\n\\hline\n\t 2020 & I10S9C7J1V1   &  1847609 & 2 & 200912 & SIN INFORMACION & 2020 & 1 & 2020 & 1 & ⋯ & Humanidades y Artes                              & Artes                                & Música, Canto o Danza                                                    & NO ACREDITADA & ACREDITADA & 20/05/2015 AL 20/05/2020 & 5 &      0 & 178000 & 10- Otras formas de Ingreso                     \\\\\n\t 2020 & I10S9C7J1V1   &  3257661 & 1 & 201110 & SIN INFORMACION & 2019 & 1 & 2019 & 1 & ⋯ & Humanidades y Artes                              & Artes                                & Música, Canto o Danza                                                    & NO ACREDITADA & ACREDITADA & 20/05/2015 AL 20/05/2020 & 5 &      0 & 178000 & 10- Otras formas de Ingreso                     \\\\\n\t 2020 & I10S9C7J1V1   & 10354472 & 1 & 200608 & SIN INFORMACION & 2019 & 1 & 2019 & 1 & ⋯ & Humanidades y Artes                              & Artes                                & Música, Canto o Danza                                                    & NO ACREDITADA & ACREDITADA & 20/05/2015 AL 20/05/2020 & 5 &      0 & 178000 & 10- Otras formas de Ingreso                     \\\\\n\t 2020 & I10S9C7J1V1   & 11090206 & 1 & 200901 & SIN INFORMACION & 2019 & 1 & 2019 & 1 & ⋯ & Humanidades y Artes                              & Artes                                & Música, Canto o Danza                                                    & NO ACREDITADA & ACREDITADA & 20/05/2015 AL 20/05/2020 & 5 &      0 & 178000 & 10- Otras formas de Ingreso                     \\\\\n\t 2020 & I10S9C7J1V1   & 14259301 & 1 & 200703 & SIN INFORMACION & 2019 & 1 & 2019 & 1 & ⋯ & Humanidades y Artes                              & Artes                                & Música, Canto o Danza                                                    & NO ACREDITADA & ACREDITADA & 20/05/2015 AL 20/05/2020 & 5 &      0 & 178000 & 10- Otras formas de Ingreso                     \\\\\n\t 2020 & I10S9C4J1V1   & 14398260 & 2 & 200703 & SIN INFORMACION & 2019 & 1 & 2019 & 1 & ⋯ & Humanidades y Artes                              & Artes                                & Música, Canto o Danza                                                    & NO ACREDITADA & ACREDITADA & 20/05/2015 AL 20/05/2020 & 5 &      0 & 178000 & 10- Otras formas de Ingreso                     \\\\\n\t 2020 & I23S1C253J1V1 & 14854031 & 2 & 201801 & SIN INFORMACION & 2018 & 2 & 2018 & 2 & ⋯ & Ingeniería, Industria y Construcción             & Ingeniería y Profesiones Afines      & Ingeniería Civil, plan común y licenciatura en Ciencias de la Ingeniería & NO ACREDITADA & ACREDITADA & 18/11/2015 AL 18/11/2020 & 5 &      0 &      0 & 2- Continuidad desde plan común o Bachillerato. \\\\\n\t 2020 & I10S9C4J1V1   & 14940030 & 2 & 200610 & SIN INFORMACION & 2020 & 1 & 2020 & 1 & ⋯ & Humanidades y Artes                              & Artes                                & Música, Canto o Danza                                                    & NO ACREDITADA & ACREDITADA & 20/05/2015 AL 20/05/2020 & 5 &      0 & 178000 & 10- Otras formas de Ingreso                     \\\\\n\t 2020 & I10S9C4J1V1   & 17034427 & 2 & 200807 & SIN INFORMACION & 2017 & 1 & 2017 & 1 & ⋯ & Humanidades y Artes                              & Artes                                & Música, Canto o Danza                                                    & NO ACREDITADA & ACREDITADA & 20/05/2015 AL 20/05/2020 & 5 &      0 & 178000 & 10- Otras formas de Ingreso                     \\\\\n\t 2020 & I193S2C4J1V1  & 19061732 & 1 & 201911 & SIN INFORMACION & 2020 & 1 & 2020 & 1 & ⋯ & Servicios                                        & Servicios Personales                 & Otros Profesionales de Educación                                         & NO ACREDITADA & ACREDITADA & 25/11/2017 AL 25/11/2020 & 3 & 100000 &      0 & 1- Ingreso Directo (regular)                    \\\\\n\t 2020 & I10S9C4J1V1   & 19614657 & 1 & 200610 & SIN INFORMACION & 2018 & 1 & 2018 & 1 & ⋯ & Humanidades y Artes                              & Artes                                & Música, Canto o Danza                                                    & NO ACREDITADA & ACREDITADA & 20/05/2015 AL 20/05/2020 & 5 &      0 & 178000 & 10- Otras formas de Ingreso                     \\\\\n\t 2020 & I10S9C4J1V1   & 21096868 & 2 & 200911 & SIN INFORMACION & 2018 & 1 & 2018 & 1 & ⋯ & Humanidades y Artes                              & Artes                                & Música, Canto o Danza                                                    & NO ACREDITADA & ACREDITADA & 20/05/2015 AL 20/05/2020 & 5 &      0 & 178000 & 10- Otras formas de Ingreso                     \\\\\n\t 2020 & I10S9C4J1V1   & 22834397 & 2 & 200704 & SIN INFORMACION & 2020 & 1 & 2020 & 1 & ⋯ & Humanidades y Artes                              & Artes                                & Música, Canto o Danza                                                    & NO ACREDITADA & ACREDITADA & 20/05/2015 AL 20/05/2020 & 5 &      0 & 178000 & 10- Otras formas de Ingreso                     \\\\\n\t 2020 & I10S9C4J1V1   & 22982286 & 2 & 200904 & SIN INFORMACION & 2019 & 1 & 2019 & 1 & ⋯ & Humanidades y Artes                              & Artes                                & Música, Canto o Danza                                                    & NO ACREDITADA & ACREDITADA & 20/05/2015 AL 20/05/2020 & 5 &      0 & 178000 & 10- Otras formas de Ingreso                     \\\\\n\t 2020 & I10S9C4J1V1   & 24871135 & 2 & 200804 & SIN INFORMACION & 2020 & 1 & 2020 & 1 & ⋯ & Humanidades y Artes                              & Artes                                & Música, Canto o Danza                                                    & NO ACREDITADA & ACREDITADA & 20/05/2015 AL 20/05/2020 & 5 &      0 & 178000 & 10- Otras formas de Ingreso                     \\\\\n\t 2020 & I79S1C161J1V2 & 26232146 & 2 & 201703 & SIN INFORMACION & 2020 & 1 & 2020 & 1 & ⋯ & Ingeniería, Industria y Construcción             & Ingeniería y Profesiones Afines      & Técnico en Mecánica Industrial                                           & NO ACREDITADA & ACREDITADA & 17/12/2017 AL 17/12/2020 & 3 &  30000 &   8000 & 1- Ingreso Directo (regular)                    \\\\\n\t 2020 & I81S1C498J1V1 & 26232445 & 2 & 201902 & SIN INFORMACION & 2019 & 2 & 2019 & 2 & ⋯ & Ciencias Sociales, Enseñanza Comercial y Derecho & Enseñanza Comercial y Administración & Magister en Administración y Comercio                                    & NO ACREDITADA & ACREDITADA & 21/12/2017 AL 21/12/2021 & 4 & 362250 & 310500 & 6- Ingreso especial para estudiantes extranjeros\\\\\n\t 2020 & I38S1C34J1V1  & 26232526 & 1 & 201906 & SIN INFORMACION & 2020 & 1 & 2020 & 1 & ⋯ & Ciencias Sociales, Enseñanza Comercial y Derecho & Enseñanza Comercial y Administración & Contador Auditor                                                         & NO ACREDITADA & ACREDITADA & 14/01/2019 AL 14/01/2023 & 4 &      0 & 113039 & 6- Ingreso especial para estudiantes extranjeros\\\\\n\\end{tabular}\n",
            "text/markdown": "\nA data.frame: 18 × 48\n\n| cat_periodo &lt;int&gt; | codigo_unico &lt;chr&gt; | MRUN &lt;int&gt; | GEN_ALU &lt;int&gt; | FEC_NAC_ALU &lt;int&gt; | rango_edad &lt;chr&gt; | anio_ing_carr_ori &lt;int&gt; | sem_ing_carr_ori &lt;int&gt; | anio_ing_carr_act &lt;int&gt; | sem_ing_carr_act &lt;int&gt; | ⋯ ⋯ | oecd_area &lt;chr&gt; | oecd_subarea &lt;chr&gt; | area_carrera_generica &lt;chr&gt; | acreditada_carr &lt;chr&gt; | acreditada_inst &lt;chr&gt; | acre_inst_desde_hasta &lt;chr&gt; | acre_inst_anio &lt;int&gt; | costo_proceso_titulacion &lt;int&gt; | costo_obtencion_titulo_diploma &lt;int&gt; | forma_ingreso &lt;chr&gt; |\n|---|---|---|---|---|---|---|---|---|---|---|---|---|---|---|---|---|---|---|---|---|\n| 2020 | I10S9C7J1V1   |  1847609 | 2 | 200912 | SIN INFORMACION | 2020 | 1 | 2020 | 1 | ⋯ | Humanidades y Artes                              | Artes                                | Música, Canto o Danza                                                    | NO ACREDITADA | ACREDITADA | 20/05/2015 AL 20/05/2020 | 5 |      0 | 178000 | 10- Otras formas de Ingreso                      |\n| 2020 | I10S9C7J1V1   |  3257661 | 1 | 201110 | SIN INFORMACION | 2019 | 1 | 2019 | 1 | ⋯ | Humanidades y Artes                              | Artes                                | Música, Canto o Danza                                                    | NO ACREDITADA | ACREDITADA | 20/05/2015 AL 20/05/2020 | 5 |      0 | 178000 | 10- Otras formas de Ingreso                      |\n| 2020 | I10S9C7J1V1   | 10354472 | 1 | 200608 | SIN INFORMACION | 2019 | 1 | 2019 | 1 | ⋯ | Humanidades y Artes                              | Artes                                | Música, Canto o Danza                                                    | NO ACREDITADA | ACREDITADA | 20/05/2015 AL 20/05/2020 | 5 |      0 | 178000 | 10- Otras formas de Ingreso                      |\n| 2020 | I10S9C7J1V1   | 11090206 | 1 | 200901 | SIN INFORMACION | 2019 | 1 | 2019 | 1 | ⋯ | Humanidades y Artes                              | Artes                                | Música, Canto o Danza                                                    | NO ACREDITADA | ACREDITADA | 20/05/2015 AL 20/05/2020 | 5 |      0 | 178000 | 10- Otras formas de Ingreso                      |\n| 2020 | I10S9C7J1V1   | 14259301 | 1 | 200703 | SIN INFORMACION | 2019 | 1 | 2019 | 1 | ⋯ | Humanidades y Artes                              | Artes                                | Música, Canto o Danza                                                    | NO ACREDITADA | ACREDITADA | 20/05/2015 AL 20/05/2020 | 5 |      0 | 178000 | 10- Otras formas de Ingreso                      |\n| 2020 | I10S9C4J1V1   | 14398260 | 2 | 200703 | SIN INFORMACION | 2019 | 1 | 2019 | 1 | ⋯ | Humanidades y Artes                              | Artes                                | Música, Canto o Danza                                                    | NO ACREDITADA | ACREDITADA | 20/05/2015 AL 20/05/2020 | 5 |      0 | 178000 | 10- Otras formas de Ingreso                      |\n| 2020 | I23S1C253J1V1 | 14854031 | 2 | 201801 | SIN INFORMACION | 2018 | 2 | 2018 | 2 | ⋯ | Ingeniería, Industria y Construcción             | Ingeniería y Profesiones Afines      | Ingeniería Civil, plan común y licenciatura en Ciencias de la Ingeniería | NO ACREDITADA | ACREDITADA | 18/11/2015 AL 18/11/2020 | 5 |      0 |      0 | 2- Continuidad desde plan común o Bachillerato.  |\n| 2020 | I10S9C4J1V1   | 14940030 | 2 | 200610 | SIN INFORMACION | 2020 | 1 | 2020 | 1 | ⋯ | Humanidades y Artes                              | Artes                                | Música, Canto o Danza                                                    | NO ACREDITADA | ACREDITADA | 20/05/2015 AL 20/05/2020 | 5 |      0 | 178000 | 10- Otras formas de Ingreso                      |\n| 2020 | I10S9C4J1V1   | 17034427 | 2 | 200807 | SIN INFORMACION | 2017 | 1 | 2017 | 1 | ⋯ | Humanidades y Artes                              | Artes                                | Música, Canto o Danza                                                    | NO ACREDITADA | ACREDITADA | 20/05/2015 AL 20/05/2020 | 5 |      0 | 178000 | 10- Otras formas de Ingreso                      |\n| 2020 | I193S2C4J1V1  | 19061732 | 1 | 201911 | SIN INFORMACION | 2020 | 1 | 2020 | 1 | ⋯ | Servicios                                        | Servicios Personales                 | Otros Profesionales de Educación                                         | NO ACREDITADA | ACREDITADA | 25/11/2017 AL 25/11/2020 | 3 | 100000 |      0 | 1- Ingreso Directo (regular)                     |\n| 2020 | I10S9C4J1V1   | 19614657 | 1 | 200610 | SIN INFORMACION | 2018 | 1 | 2018 | 1 | ⋯ | Humanidades y Artes                              | Artes                                | Música, Canto o Danza                                                    | NO ACREDITADA | ACREDITADA | 20/05/2015 AL 20/05/2020 | 5 |      0 | 178000 | 10- Otras formas de Ingreso                      |\n| 2020 | I10S9C4J1V1   | 21096868 | 2 | 200911 | SIN INFORMACION | 2018 | 1 | 2018 | 1 | ⋯ | Humanidades y Artes                              | Artes                                | Música, Canto o Danza                                                    | NO ACREDITADA | ACREDITADA | 20/05/2015 AL 20/05/2020 | 5 |      0 | 178000 | 10- Otras formas de Ingreso                      |\n| 2020 | I10S9C4J1V1   | 22834397 | 2 | 200704 | SIN INFORMACION | 2020 | 1 | 2020 | 1 | ⋯ | Humanidades y Artes                              | Artes                                | Música, Canto o Danza                                                    | NO ACREDITADA | ACREDITADA | 20/05/2015 AL 20/05/2020 | 5 |      0 | 178000 | 10- Otras formas de Ingreso                      |\n| 2020 | I10S9C4J1V1   | 22982286 | 2 | 200904 | SIN INFORMACION | 2019 | 1 | 2019 | 1 | ⋯ | Humanidades y Artes                              | Artes                                | Música, Canto o Danza                                                    | NO ACREDITADA | ACREDITADA | 20/05/2015 AL 20/05/2020 | 5 |      0 | 178000 | 10- Otras formas de Ingreso                      |\n| 2020 | I10S9C4J1V1   | 24871135 | 2 | 200804 | SIN INFORMACION | 2020 | 1 | 2020 | 1 | ⋯ | Humanidades y Artes                              | Artes                                | Música, Canto o Danza                                                    | NO ACREDITADA | ACREDITADA | 20/05/2015 AL 20/05/2020 | 5 |      0 | 178000 | 10- Otras formas de Ingreso                      |\n| 2020 | I79S1C161J1V2 | 26232146 | 2 | 201703 | SIN INFORMACION | 2020 | 1 | 2020 | 1 | ⋯ | Ingeniería, Industria y Construcción             | Ingeniería y Profesiones Afines      | Técnico en Mecánica Industrial                                           | NO ACREDITADA | ACREDITADA | 17/12/2017 AL 17/12/2020 | 3 |  30000 |   8000 | 1- Ingreso Directo (regular)                     |\n| 2020 | I81S1C498J1V1 | 26232445 | 2 | 201902 | SIN INFORMACION | 2019 | 2 | 2019 | 2 | ⋯ | Ciencias Sociales, Enseñanza Comercial y Derecho | Enseñanza Comercial y Administración | Magister en Administración y Comercio                                    | NO ACREDITADA | ACREDITADA | 21/12/2017 AL 21/12/2021 | 4 | 362250 | 310500 | 6- Ingreso especial para estudiantes extranjeros |\n| 2020 | I38S1C34J1V1  | 26232526 | 1 | 201906 | SIN INFORMACION | 2020 | 1 | 2020 | 1 | ⋯ | Ciencias Sociales, Enseñanza Comercial y Derecho | Enseñanza Comercial y Administración | Contador Auditor                                                         | NO ACREDITADA | ACREDITADA | 14/01/2019 AL 14/01/2023 | 4 |      0 | 113039 | 6- Ingreso especial para estudiantes extranjeros |\n\n",
            "text/html": [
              "<table class=\"dataframe\">\n",
              "<caption>A data.frame: 18 × 48</caption>\n",
              "<thead>\n",
              "\t<tr><th scope=col>cat_periodo</th><th scope=col>codigo_unico</th><th scope=col>MRUN</th><th scope=col>GEN_ALU</th><th scope=col>FEC_NAC_ALU</th><th scope=col>rango_edad</th><th scope=col>anio_ing_carr_ori</th><th scope=col>sem_ing_carr_ori</th><th scope=col>anio_ing_carr_act</th><th scope=col>sem_ing_carr_act</th><th scope=col>⋯</th><th scope=col>oecd_area</th><th scope=col>oecd_subarea</th><th scope=col>area_carrera_generica</th><th scope=col>acreditada_carr</th><th scope=col>acreditada_inst</th><th scope=col>acre_inst_desde_hasta</th><th scope=col>acre_inst_anio</th><th scope=col>costo_proceso_titulacion</th><th scope=col>costo_obtencion_titulo_diploma</th><th scope=col>forma_ingreso</th></tr>\n",
              "\t<tr><th scope=col>&lt;int&gt;</th><th scope=col>&lt;chr&gt;</th><th scope=col>&lt;int&gt;</th><th scope=col>&lt;int&gt;</th><th scope=col>&lt;int&gt;</th><th scope=col>&lt;chr&gt;</th><th scope=col>&lt;int&gt;</th><th scope=col>&lt;int&gt;</th><th scope=col>&lt;int&gt;</th><th scope=col>&lt;int&gt;</th><th scope=col>⋯</th><th scope=col>&lt;chr&gt;</th><th scope=col>&lt;chr&gt;</th><th scope=col>&lt;chr&gt;</th><th scope=col>&lt;chr&gt;</th><th scope=col>&lt;chr&gt;</th><th scope=col>&lt;chr&gt;</th><th scope=col>&lt;int&gt;</th><th scope=col>&lt;int&gt;</th><th scope=col>&lt;int&gt;</th><th scope=col>&lt;chr&gt;</th></tr>\n",
              "</thead>\n",
              "<tbody>\n",
              "\t<tr><td>2020</td><td>I10S9C7J1V1  </td><td> 1847609</td><td>2</td><td>200912</td><td>SIN INFORMACION</td><td>2020</td><td>1</td><td>2020</td><td>1</td><td>⋯</td><td>Humanidades y Artes                             </td><td>Artes                               </td><td>Música, Canto o Danza                                                   </td><td>NO ACREDITADA</td><td>ACREDITADA</td><td>20/05/2015 AL 20/05/2020</td><td>5</td><td>     0</td><td>178000</td><td>10- Otras formas de Ingreso                     </td></tr>\n",
              "\t<tr><td>2020</td><td>I10S9C7J1V1  </td><td> 3257661</td><td>1</td><td>201110</td><td>SIN INFORMACION</td><td>2019</td><td>1</td><td>2019</td><td>1</td><td>⋯</td><td>Humanidades y Artes                             </td><td>Artes                               </td><td>Música, Canto o Danza                                                   </td><td>NO ACREDITADA</td><td>ACREDITADA</td><td>20/05/2015 AL 20/05/2020</td><td>5</td><td>     0</td><td>178000</td><td>10- Otras formas de Ingreso                     </td></tr>\n",
              "\t<tr><td>2020</td><td>I10S9C7J1V1  </td><td>10354472</td><td>1</td><td>200608</td><td>SIN INFORMACION</td><td>2019</td><td>1</td><td>2019</td><td>1</td><td>⋯</td><td>Humanidades y Artes                             </td><td>Artes                               </td><td>Música, Canto o Danza                                                   </td><td>NO ACREDITADA</td><td>ACREDITADA</td><td>20/05/2015 AL 20/05/2020</td><td>5</td><td>     0</td><td>178000</td><td>10- Otras formas de Ingreso                     </td></tr>\n",
              "\t<tr><td>2020</td><td>I10S9C7J1V1  </td><td>11090206</td><td>1</td><td>200901</td><td>SIN INFORMACION</td><td>2019</td><td>1</td><td>2019</td><td>1</td><td>⋯</td><td>Humanidades y Artes                             </td><td>Artes                               </td><td>Música, Canto o Danza                                                   </td><td>NO ACREDITADA</td><td>ACREDITADA</td><td>20/05/2015 AL 20/05/2020</td><td>5</td><td>     0</td><td>178000</td><td>10- Otras formas de Ingreso                     </td></tr>\n",
              "\t<tr><td>2020</td><td>I10S9C7J1V1  </td><td>14259301</td><td>1</td><td>200703</td><td>SIN INFORMACION</td><td>2019</td><td>1</td><td>2019</td><td>1</td><td>⋯</td><td>Humanidades y Artes                             </td><td>Artes                               </td><td>Música, Canto o Danza                                                   </td><td>NO ACREDITADA</td><td>ACREDITADA</td><td>20/05/2015 AL 20/05/2020</td><td>5</td><td>     0</td><td>178000</td><td>10- Otras formas de Ingreso                     </td></tr>\n",
              "\t<tr><td>2020</td><td>I10S9C4J1V1  </td><td>14398260</td><td>2</td><td>200703</td><td>SIN INFORMACION</td><td>2019</td><td>1</td><td>2019</td><td>1</td><td>⋯</td><td>Humanidades y Artes                             </td><td>Artes                               </td><td>Música, Canto o Danza                                                   </td><td>NO ACREDITADA</td><td>ACREDITADA</td><td>20/05/2015 AL 20/05/2020</td><td>5</td><td>     0</td><td>178000</td><td>10- Otras formas de Ingreso                     </td></tr>\n",
              "\t<tr><td>2020</td><td>I23S1C253J1V1</td><td>14854031</td><td>2</td><td>201801</td><td>SIN INFORMACION</td><td>2018</td><td>2</td><td>2018</td><td>2</td><td>⋯</td><td>Ingeniería, Industria y Construcción            </td><td>Ingeniería y Profesiones Afines     </td><td>Ingeniería Civil, plan común y licenciatura en Ciencias de la Ingeniería</td><td>NO ACREDITADA</td><td>ACREDITADA</td><td>18/11/2015 AL 18/11/2020</td><td>5</td><td>     0</td><td>     0</td><td>2- Continuidad desde plan común o Bachillerato. </td></tr>\n",
              "\t<tr><td>2020</td><td>I10S9C4J1V1  </td><td>14940030</td><td>2</td><td>200610</td><td>SIN INFORMACION</td><td>2020</td><td>1</td><td>2020</td><td>1</td><td>⋯</td><td>Humanidades y Artes                             </td><td>Artes                               </td><td>Música, Canto o Danza                                                   </td><td>NO ACREDITADA</td><td>ACREDITADA</td><td>20/05/2015 AL 20/05/2020</td><td>5</td><td>     0</td><td>178000</td><td>10- Otras formas de Ingreso                     </td></tr>\n",
              "\t<tr><td>2020</td><td>I10S9C4J1V1  </td><td>17034427</td><td>2</td><td>200807</td><td>SIN INFORMACION</td><td>2017</td><td>1</td><td>2017</td><td>1</td><td>⋯</td><td>Humanidades y Artes                             </td><td>Artes                               </td><td>Música, Canto o Danza                                                   </td><td>NO ACREDITADA</td><td>ACREDITADA</td><td>20/05/2015 AL 20/05/2020</td><td>5</td><td>     0</td><td>178000</td><td>10- Otras formas de Ingreso                     </td></tr>\n",
              "\t<tr><td>2020</td><td>I193S2C4J1V1 </td><td>19061732</td><td>1</td><td>201911</td><td>SIN INFORMACION</td><td>2020</td><td>1</td><td>2020</td><td>1</td><td>⋯</td><td>Servicios                                       </td><td>Servicios Personales                </td><td>Otros Profesionales de Educación                                        </td><td>NO ACREDITADA</td><td>ACREDITADA</td><td>25/11/2017 AL 25/11/2020</td><td>3</td><td>100000</td><td>     0</td><td>1- Ingreso Directo (regular)                    </td></tr>\n",
              "\t<tr><td>2020</td><td>I10S9C4J1V1  </td><td>19614657</td><td>1</td><td>200610</td><td>SIN INFORMACION</td><td>2018</td><td>1</td><td>2018</td><td>1</td><td>⋯</td><td>Humanidades y Artes                             </td><td>Artes                               </td><td>Música, Canto o Danza                                                   </td><td>NO ACREDITADA</td><td>ACREDITADA</td><td>20/05/2015 AL 20/05/2020</td><td>5</td><td>     0</td><td>178000</td><td>10- Otras formas de Ingreso                     </td></tr>\n",
              "\t<tr><td>2020</td><td>I10S9C4J1V1  </td><td>21096868</td><td>2</td><td>200911</td><td>SIN INFORMACION</td><td>2018</td><td>1</td><td>2018</td><td>1</td><td>⋯</td><td>Humanidades y Artes                             </td><td>Artes                               </td><td>Música, Canto o Danza                                                   </td><td>NO ACREDITADA</td><td>ACREDITADA</td><td>20/05/2015 AL 20/05/2020</td><td>5</td><td>     0</td><td>178000</td><td>10- Otras formas de Ingreso                     </td></tr>\n",
              "\t<tr><td>2020</td><td>I10S9C4J1V1  </td><td>22834397</td><td>2</td><td>200704</td><td>SIN INFORMACION</td><td>2020</td><td>1</td><td>2020</td><td>1</td><td>⋯</td><td>Humanidades y Artes                             </td><td>Artes                               </td><td>Música, Canto o Danza                                                   </td><td>NO ACREDITADA</td><td>ACREDITADA</td><td>20/05/2015 AL 20/05/2020</td><td>5</td><td>     0</td><td>178000</td><td>10- Otras formas de Ingreso                     </td></tr>\n",
              "\t<tr><td>2020</td><td>I10S9C4J1V1  </td><td>22982286</td><td>2</td><td>200904</td><td>SIN INFORMACION</td><td>2019</td><td>1</td><td>2019</td><td>1</td><td>⋯</td><td>Humanidades y Artes                             </td><td>Artes                               </td><td>Música, Canto o Danza                                                   </td><td>NO ACREDITADA</td><td>ACREDITADA</td><td>20/05/2015 AL 20/05/2020</td><td>5</td><td>     0</td><td>178000</td><td>10- Otras formas de Ingreso                     </td></tr>\n",
              "\t<tr><td>2020</td><td>I10S9C4J1V1  </td><td>24871135</td><td>2</td><td>200804</td><td>SIN INFORMACION</td><td>2020</td><td>1</td><td>2020</td><td>1</td><td>⋯</td><td>Humanidades y Artes                             </td><td>Artes                               </td><td>Música, Canto o Danza                                                   </td><td>NO ACREDITADA</td><td>ACREDITADA</td><td>20/05/2015 AL 20/05/2020</td><td>5</td><td>     0</td><td>178000</td><td>10- Otras formas de Ingreso                     </td></tr>\n",
              "\t<tr><td>2020</td><td>I79S1C161J1V2</td><td>26232146</td><td>2</td><td>201703</td><td>SIN INFORMACION</td><td>2020</td><td>1</td><td>2020</td><td>1</td><td>⋯</td><td>Ingeniería, Industria y Construcción            </td><td>Ingeniería y Profesiones Afines     </td><td>Técnico en Mecánica Industrial                                          </td><td>NO ACREDITADA</td><td>ACREDITADA</td><td>17/12/2017 AL 17/12/2020</td><td>3</td><td> 30000</td><td>  8000</td><td>1- Ingreso Directo (regular)                    </td></tr>\n",
              "\t<tr><td>2020</td><td>I81S1C498J1V1</td><td>26232445</td><td>2</td><td>201902</td><td>SIN INFORMACION</td><td>2019</td><td>2</td><td>2019</td><td>2</td><td>⋯</td><td>Ciencias Sociales, Enseñanza Comercial y Derecho</td><td>Enseñanza Comercial y Administración</td><td>Magister en Administración y Comercio                                   </td><td>NO ACREDITADA</td><td>ACREDITADA</td><td>21/12/2017 AL 21/12/2021</td><td>4</td><td>362250</td><td>310500</td><td>6- Ingreso especial para estudiantes extranjeros</td></tr>\n",
              "\t<tr><td>2020</td><td>I38S1C34J1V1 </td><td>26232526</td><td>1</td><td>201906</td><td>SIN INFORMACION</td><td>2020</td><td>1</td><td>2020</td><td>1</td><td>⋯</td><td>Ciencias Sociales, Enseñanza Comercial y Derecho</td><td>Enseñanza Comercial y Administración</td><td>Contador Auditor                                                        </td><td>NO ACREDITADA</td><td>ACREDITADA</td><td>14/01/2019 AL 14/01/2023</td><td>4</td><td>     0</td><td>113039</td><td>6- Ingreso especial para estudiantes extranjeros</td></tr>\n",
              "</tbody>\n",
              "</table>\n"
            ]
          },
          "metadata": {
            "tags": []
          }
        }
      ]
    },
    {
      "cell_type": "markdown",
      "metadata": {
        "id": "xkHeXlsRHtPe"
      },
      "source": [
        "**Actividad**: Lea en el esquema de registro diferentes reglas de validez determinadas para estos datos, y revise la validez de dos de ellos. "
      ]
    },
    {
      "cell_type": "code",
      "metadata": {
        "id": "khpt_MeBzsMc"
      },
      "source": [
        ""
      ],
      "execution_count": null,
      "outputs": []
    },
    {
      "cell_type": "markdown",
      "metadata": {
        "id": "M0e236uzETIN"
      },
      "source": [
        "Otra evaluación importante es de consistencia y realizar las ediciones. Para ello, revisaremos la información siguiendo lo dicho por el esquema de registro.\n",
        "\n",
        "\n"
      ]
    },
    {
      "cell_type": "code",
      "metadata": {
        "id": "siJYKAK5ETmy",
        "colab": {
          "base_uri": "https://localhost:8080/"
        },
        "outputId": "daba9490-2807-4f11-df88-c5e8ecd14378"
      },
      "source": [
        "# Duracion total carrera mayor que la duración estudio de la carera\n",
        "falla <-0\n",
        "i <- 1\n",
        "largo <- length(matricula$dur_total_carr) \n",
        "while(i < largo){\n",
        "  if(matricula$dur_estudio_carr[i] > matricula$dur_total_carr[i]){\n",
        "    falla <- falla +1    \n",
        "    }\n",
        "  i <- i + 1\n",
        "}\n",
        "\n",
        "proporcion <- (falla / length(matricula$dur_total_carr)) * 100\n",
        "print(paste0(\"la tasa de error es de \", proporcion, \"%\"))"
      ],
      "execution_count": null,
      "outputs": [
        {
          "output_type": "stream",
          "text": [
            "[1] \"la tasa de error es de 0%\"\n"
          ],
          "name": "stdout"
        }
      ]
    },
    {
      "cell_type": "code",
      "metadata": {
        "colab": {
          "base_uri": "https://localhost:8080/"
        },
        "id": "yTIud3wonA8r",
        "outputId": "55839099-0834-4bef-8e37-cf460ce57f45"
      },
      "source": [
        "# Tipo institución 3 calza con Tipo institución 1\n",
        "\n",
        "falla <- 0\n",
        "i <- 1\n",
        "largo <- length(matricula$tipo_inst_3) \n",
        "while(i < largo){\n",
        "  if(matricula$tipo_inst_1[i] == \"Centros de Formación Técnica\"){\n",
        "    if(matricula$tipo_inst_3[i] != \"Centros de Formación Técnica\" & matricula$tipo_inst_3[i] != \"Centros de Formación Técnica Estatales\" ){\n",
        "     falla <- falla +1   \n",
        "    }\n",
        "  }\n",
        "  if(matricula$tipo_inst_1[i] == \"Institutos Profesionales\"){\n",
        "    if(matricula$tipo_inst_3[i] != \"Institutos Profesionales\"){\n",
        "     falla <- falla +1         \n",
        "    }\n",
        "    }\n",
        "  if(matricula$tipo_inst_1[i] == \"Universidades\"){\n",
        "    if(matricula$tipo_inst_3[i] == \"Institutos Profesionales\" | matricula$tipo_inst_3[i] == \"Centros de Formación Técnica\" | matricula$tipo_inst_3[i] == \"Centros de Formación Técnica Estatales\" ){\n",
        "     falla <- falla +1         \n",
        "    }\n",
        "    }\n",
        "\n",
        "  i <- i + 1\n",
        "}\n",
        "\n",
        "proporcion <- (falla / length(matricula$tipo_inst_3)) * 100\n",
        "print(paste0(\"la tasa de error es de \", proporcion, \"%\"))\n"
      ],
      "execution_count": null,
      "outputs": [
        {
          "output_type": "stream",
          "text": [
            "[1] \"la tasa de error es de 0%\"\n"
          ],
          "name": "stdout"
        }
      ]
    },
    {
      "cell_type": "code",
      "metadata": {
        "colab": {
          "base_uri": "https://localhost:8080/",
          "height": 348
        },
        "id": "UelBcA94WStO",
        "outputId": "b72d9bce-5a12-414f-afb7-eb7750ebdecb"
      },
      "source": [
        "matricula %>% group_by(tipo_inst_1,tipo_inst_3) %>%\n",
        "            summarise(n())"
      ],
      "execution_count": null,
      "outputs": [
        {
          "output_type": "stream",
          "text": [
            "`summarise()` has grouped output by 'tipo_inst_1'. You can override using the `.groups` argument.\n",
            "\n"
          ],
          "name": "stderr"
        },
        {
          "output_type": "display_data",
          "data": {
            "text/plain": [
              "  tipo_inst_1                  tipo_inst_3                            n()   \n",
              "1 Centros de Formación Técnica Centros de Formación Técnica           127194\n",
              "2 Centros de Formación Técnica Centros de Formación Técnica Estatales   3159\n",
              "3 Institutos Profesionales     Institutos Profesionales               362030\n",
              "4 Universidades                Universidades (* Carrera en Convenio)    2359\n",
              "5 Universidades                Universidades Estatales CRUCH          193237\n",
              "6 Universidades                Universidades Privadas                 321635\n",
              "7 Universidades                Universidades Privadas CRUCH           211403"
            ],
            "text/latex": "A grouped\\_df: 7 × 3\n\\begin{tabular}{lll}\n tipo\\_inst\\_1 & tipo\\_inst\\_3 & n()\\\\\n <chr> & <chr> & <int>\\\\\n\\hline\n\t Centros de Formación Técnica & Centros de Formación Técnica           & 127194\\\\\n\t Centros de Formación Técnica & Centros de Formación Técnica Estatales &   3159\\\\\n\t Institutos Profesionales     & Institutos Profesionales               & 362030\\\\\n\t Universidades                & Universidades (* Carrera en Convenio)  &   2359\\\\\n\t Universidades                & Universidades Estatales CRUCH          & 193237\\\\\n\t Universidades                & Universidades Privadas                 & 321635\\\\\n\t Universidades                & Universidades Privadas CRUCH           & 211403\\\\\n\\end{tabular}\n",
            "text/markdown": "\nA grouped_df: 7 × 3\n\n| tipo_inst_1 &lt;chr&gt; | tipo_inst_3 &lt;chr&gt; | n() &lt;int&gt; |\n|---|---|---|\n| Centros de Formación Técnica | Centros de Formación Técnica           | 127194 |\n| Centros de Formación Técnica | Centros de Formación Técnica Estatales |   3159 |\n| Institutos Profesionales     | Institutos Profesionales               | 362030 |\n| Universidades                | Universidades (* Carrera en Convenio)  |   2359 |\n| Universidades                | Universidades Estatales CRUCH          | 193237 |\n| Universidades                | Universidades Privadas                 | 321635 |\n| Universidades                | Universidades Privadas CRUCH           | 211403 |\n\n",
            "text/html": [
              "<table class=\"dataframe\">\n",
              "<caption>A grouped_df: 7 × 3</caption>\n",
              "<thead>\n",
              "\t<tr><th scope=col>tipo_inst_1</th><th scope=col>tipo_inst_3</th><th scope=col>n()</th></tr>\n",
              "\t<tr><th scope=col>&lt;chr&gt;</th><th scope=col>&lt;chr&gt;</th><th scope=col>&lt;int&gt;</th></tr>\n",
              "</thead>\n",
              "<tbody>\n",
              "\t<tr><td>Centros de Formación Técnica</td><td>Centros de Formación Técnica          </td><td>127194</td></tr>\n",
              "\t<tr><td>Centros de Formación Técnica</td><td>Centros de Formación Técnica Estatales</td><td>  3159</td></tr>\n",
              "\t<tr><td>Institutos Profesionales    </td><td>Institutos Profesionales              </td><td>362030</td></tr>\n",
              "\t<tr><td>Universidades               </td><td>Universidades (* Carrera en Convenio) </td><td>  2359</td></tr>\n",
              "\t<tr><td>Universidades               </td><td>Universidades Estatales CRUCH         </td><td>193237</td></tr>\n",
              "\t<tr><td>Universidades               </td><td>Universidades Privadas                </td><td>321635</td></tr>\n",
              "\t<tr><td>Universidades               </td><td>Universidades Privadas CRUCH          </td><td>211403</td></tr>\n",
              "</tbody>\n",
              "</table>\n"
            ]
          },
          "metadata": {
            "tags": []
          }
        }
      ]
    },
    {
      "cell_type": "code",
      "metadata": {
        "colab": {
          "base_uri": "https://localhost:8080/"
        },
        "id": "KRmp-pErnBbJ",
        "outputId": "bac5ed1a-b105-4138-ed67-11cf75f9639e"
      },
      "source": [
        "# El rango de edad tiene que calzar con la fecha de nacimiento\n",
        "falla <- 0\n",
        "i <- 1\n",
        "largo <- length(matricula$rango_edad) \n",
        "while(i < largo){\n",
        "  anio <- matricula$FEC_NAC_ALU[i] %/% 100\n",
        "  edad <- 2020 - anio\n",
        "  if(matricula$rango_edad[i] == \"Entre 15 y 19 años\"){\n",
        "    if(edad > 19 | edad < 15){\n",
        "      falla <- falla + 1\n",
        "    }\n",
        "  }\n",
        "  if(matricula$rango_edad[i] == \"Entre 20 y 24 años\"){\n",
        "    if(edad > 24 | edad < 20){\n",
        "      falla <- falla + 1\n",
        "    }\n",
        "  }\n",
        "  if(matricula$rango_edad[i] == \"Entre 25 y 29 años\"){\n",
        "    if(edad > 29 | edad < 25){\n",
        "      falla <- falla + 1\n",
        "    }\n",
        "  }\n",
        "  if(matricula$rango_edad[i] == \"Entre 30 y 34 años\"){\n",
        "    if(edad > 34 | edad < 30){\n",
        "      falla <- falla + 1\n",
        "    }\n",
        "  }\n",
        "  if(matricula$rango_edad[i] == \"Entre 35 y 39 años\"){\n",
        "    if(edad > 39 | edad < 35){\n",
        "      falla <- falla + 1\n",
        "    }\n",
        "  }\n",
        "  if(matricula$rango_edad[i] == \"40 y más años\"){\n",
        "    if(edad < 39){\n",
        "      falla <- falla + 1\n",
        "    }\n",
        "  }\n",
        "  if(matricula$rango_edad[i] == \"Sin Información\"){\n",
        "    if(!is.na(edad) & edad < 100){\n",
        "      falla <- falla + 1\n",
        "    }\n",
        " \n",
        "  }\n",
        "  i <- i + 1\n",
        "}\n",
        "\n",
        "proporcion <- (falla / length(matricula$rango_edad)) * 100\n",
        "print(paste0(\"la tasa de error es de \", proporcion, \"%\"))\n"
      ],
      "execution_count": null,
      "outputs": [
        {
          "output_type": "stream",
          "text": [
            "[1] \"la tasa de error es de 0%\"\n"
          ],
          "name": "stdout"
        }
      ]
    },
    {
      "cell_type": "code",
      "metadata": {
        "id": "8oMTGKyTXc9v",
        "colab": {
          "base_uri": "https://localhost:8080/",
          "height": 1000
        },
        "outputId": "c9d6d699-4a6d-4446-e180-18a89bbbbf6b"
      },
      "source": [
        "datanacimiento  <- matricula %>%\n",
        "          select(\"rango_edad\", \"FEC_NAC_ALU\") %>%\n",
        "          mutate(NAC_ALU_AGNO= FEC_NAC_ALU %/% 100,\n",
        "                      NAC_ALU_MES= FEC_NAC_ALU %% 100)\n",
        "datanacimiento"
      ],
      "execution_count": null,
      "outputs": [
        {
          "output_type": "display_data",
          "data": {
            "text/plain": [
              "        rango_edad      FEC_NAC_ALU NAC_ALU_AGNO NAC_ALU_MES\n",
              "1       20 a 24 años    199603      1996          3         \n",
              "2       15 a 19 años    200103      2001          3         \n",
              "3       15 a 19 años    200103      2001          3         \n",
              "4       15 a 19 años    200105      2001          5         \n",
              "5       15 a 19 años    200110      2001         10         \n",
              "6       25 a 29 años    199502      1995          2         \n",
              "7       20 a 24 años    199709      1997          9         \n",
              "8       20 a 24 años    199911      1999         11         \n",
              "9       15 a 19 años    200104      2001          4         \n",
              "10      20 a 24 años    200003      2000          3         \n",
              "11      20 a 24 años    199811      1998         11         \n",
              "12      25 a 29 años    199204      1992          4         \n",
              "13      20 a 24 años    199712      1997         12         \n",
              "14      20 a 24 años    200004      2000          4         \n",
              "15      15 a 19 años    200204      2002          4         \n",
              "16      20 a 24 años    199910      1999         10         \n",
              "17      15 a 19 años    200104      2001          4         \n",
              "18      20 a 24 años    199509      1995          9         \n",
              "19      15 a 19 años    200111      2001         11         \n",
              "20      15 a 19 años    200211      2002         11         \n",
              "21      20 a 24 años    199912      1999         12         \n",
              "22      20 a 24 años    200004      2000          4         \n",
              "23      20 a 24 años    199904      1999          4         \n",
              "24      20 a 24 años    199804      1998          4         \n",
              "25      15 a 19 años    200107      2001          7         \n",
              "26      25 a 29 años    199210      1992         10         \n",
              "27      20 a 24 años    199912      1999         12         \n",
              "28      20 a 24 años    199708      1997          8         \n",
              "29      25 a 29 años    199303      1993          3         \n",
              "30      20 a 24 años    199508      1995          8         \n",
              "⋮       ⋮               ⋮           ⋮            ⋮          \n",
              "1220988 35 a 39 años    198506      1985          6         \n",
              "1220989 30 a 34 años    198910      1989         10         \n",
              "1220990 40 y más años   197211      1972         11         \n",
              "1220991 25 a 29 años    199307      1993          7         \n",
              "1220992 40 y más años   197110      1971         10         \n",
              "1220993 25 a 29 años    199207      1992          7         \n",
              "1220994 20 a 24 años    199801      1998          1         \n",
              "1220995 15 a 19 años    200104      2001          4         \n",
              "1220996 25 a 29 años    199206      1992          6         \n",
              "1220997 15 a 19 años    200103      2001          3         \n",
              "1220998 40 y más años   197411      1974         11         \n",
              "1220999 SIN INFORMACION     NA        NA         NA         \n",
              "1221000 25 a 29 años    199311      1993         11         \n",
              "1221001 25 a 29 años    199203      1992          3         \n",
              "1221002 30 a 34 años    198511      1985         11         \n",
              "1221003 25 a 29 años    199305      1993          5         \n",
              "1221004 20 a 24 años    199601      1996          1         \n",
              "1221005 15 a 19 años    200302      2003          2         \n",
              "1221006 25 a 29 años    199103      1991          3         \n",
              "1221007 25 a 29 años    199407      1994          7         \n",
              "1221008 40 y más años   197705      1977          5         \n",
              "1221009 20 a 24 años    200002      2000          2         \n",
              "1221010 30 a 34 años    198901      1989          1         \n",
              "1221011 40 y más años   196804      1968          4         \n",
              "1221012 35 a 39 años    198011      1980         11         \n",
              "1221013 30 a 34 años    198610      1986         10         \n",
              "1221014 40 y más años   197411      1974         11         \n",
              "1221015 15 a 19 años    200107      2001          7         \n",
              "1221016 SIN INFORMACION     NA        NA         NA         \n",
              "1221017 25 a 29 años    199104      1991          4         "
            ],
            "text/latex": "A data.frame: 1221017 × 4\n\\begin{tabular}{llll}\n rango\\_edad & FEC\\_NAC\\_ALU & NAC\\_ALU\\_AGNO & NAC\\_ALU\\_MES\\\\\n <chr> & <int> & <dbl> & <dbl>\\\\\n\\hline\n\t 20 a 24 años & 199603 & 1996 &  3\\\\\n\t 15 a 19 años & 200103 & 2001 &  3\\\\\n\t 15 a 19 años & 200103 & 2001 &  3\\\\\n\t 15 a 19 años & 200105 & 2001 &  5\\\\\n\t 15 a 19 años & 200110 & 2001 & 10\\\\\n\t 25 a 29 años & 199502 & 1995 &  2\\\\\n\t 20 a 24 años & 199709 & 1997 &  9\\\\\n\t 20 a 24 años & 199911 & 1999 & 11\\\\\n\t 15 a 19 años & 200104 & 2001 &  4\\\\\n\t 20 a 24 años & 200003 & 2000 &  3\\\\\n\t 20 a 24 años & 199811 & 1998 & 11\\\\\n\t 25 a 29 años & 199204 & 1992 &  4\\\\\n\t 20 a 24 años & 199712 & 1997 & 12\\\\\n\t 20 a 24 años & 200004 & 2000 &  4\\\\\n\t 15 a 19 años & 200204 & 2002 &  4\\\\\n\t 20 a 24 años & 199910 & 1999 & 10\\\\\n\t 15 a 19 años & 200104 & 2001 &  4\\\\\n\t 20 a 24 años & 199509 & 1995 &  9\\\\\n\t 15 a 19 años & 200111 & 2001 & 11\\\\\n\t 15 a 19 años & 200211 & 2002 & 11\\\\\n\t 20 a 24 años & 199912 & 1999 & 12\\\\\n\t 20 a 24 años & 200004 & 2000 &  4\\\\\n\t 20 a 24 años & 199904 & 1999 &  4\\\\\n\t 20 a 24 años & 199804 & 1998 &  4\\\\\n\t 15 a 19 años & 200107 & 2001 &  7\\\\\n\t 25 a 29 años & 199210 & 1992 & 10\\\\\n\t 20 a 24 años & 199912 & 1999 & 12\\\\\n\t 20 a 24 años & 199708 & 1997 &  8\\\\\n\t 25 a 29 años & 199303 & 1993 &  3\\\\\n\t 20 a 24 años & 199508 & 1995 &  8\\\\\n\t ⋮ & ⋮ & ⋮ & ⋮\\\\\n\t 35 a 39 años    & 198506 & 1985 &  6\\\\\n\t 30 a 34 años    & 198910 & 1989 & 10\\\\\n\t 40 y más años   & 197211 & 1972 & 11\\\\\n\t 25 a 29 años    & 199307 & 1993 &  7\\\\\n\t 40 y más años   & 197110 & 1971 & 10\\\\\n\t 25 a 29 años    & 199207 & 1992 &  7\\\\\n\t 20 a 24 años    & 199801 & 1998 &  1\\\\\n\t 15 a 19 años    & 200104 & 2001 &  4\\\\\n\t 25 a 29 años    & 199206 & 1992 &  6\\\\\n\t 15 a 19 años    & 200103 & 2001 &  3\\\\\n\t 40 y más años   & 197411 & 1974 & 11\\\\\n\t SIN INFORMACION &     NA &   NA & NA\\\\\n\t 25 a 29 años    & 199311 & 1993 & 11\\\\\n\t 25 a 29 años    & 199203 & 1992 &  3\\\\\n\t 30 a 34 años    & 198511 & 1985 & 11\\\\\n\t 25 a 29 años    & 199305 & 1993 &  5\\\\\n\t 20 a 24 años    & 199601 & 1996 &  1\\\\\n\t 15 a 19 años    & 200302 & 2003 &  2\\\\\n\t 25 a 29 años    & 199103 & 1991 &  3\\\\\n\t 25 a 29 años    & 199407 & 1994 &  7\\\\\n\t 40 y más años   & 197705 & 1977 &  5\\\\\n\t 20 a 24 años    & 200002 & 2000 &  2\\\\\n\t 30 a 34 años    & 198901 & 1989 &  1\\\\\n\t 40 y más años   & 196804 & 1968 &  4\\\\\n\t 35 a 39 años    & 198011 & 1980 & 11\\\\\n\t 30 a 34 años    & 198610 & 1986 & 10\\\\\n\t 40 y más años   & 197411 & 1974 & 11\\\\\n\t 15 a 19 años    & 200107 & 2001 &  7\\\\\n\t SIN INFORMACION &     NA &   NA & NA\\\\\n\t 25 a 29 años    & 199104 & 1991 &  4\\\\\n\\end{tabular}\n",
            "text/markdown": "\nA data.frame: 1221017 × 4\n\n| rango_edad &lt;chr&gt; | FEC_NAC_ALU &lt;int&gt; | NAC_ALU_AGNO &lt;dbl&gt; | NAC_ALU_MES &lt;dbl&gt; |\n|---|---|---|---|\n| 20 a 24 años | 199603 | 1996 |  3 |\n| 15 a 19 años | 200103 | 2001 |  3 |\n| 15 a 19 años | 200103 | 2001 |  3 |\n| 15 a 19 años | 200105 | 2001 |  5 |\n| 15 a 19 años | 200110 | 2001 | 10 |\n| 25 a 29 años | 199502 | 1995 |  2 |\n| 20 a 24 años | 199709 | 1997 |  9 |\n| 20 a 24 años | 199911 | 1999 | 11 |\n| 15 a 19 años | 200104 | 2001 |  4 |\n| 20 a 24 años | 200003 | 2000 |  3 |\n| 20 a 24 años | 199811 | 1998 | 11 |\n| 25 a 29 años | 199204 | 1992 |  4 |\n| 20 a 24 años | 199712 | 1997 | 12 |\n| 20 a 24 años | 200004 | 2000 |  4 |\n| 15 a 19 años | 200204 | 2002 |  4 |\n| 20 a 24 años | 199910 | 1999 | 10 |\n| 15 a 19 años | 200104 | 2001 |  4 |\n| 20 a 24 años | 199509 | 1995 |  9 |\n| 15 a 19 años | 200111 | 2001 | 11 |\n| 15 a 19 años | 200211 | 2002 | 11 |\n| 20 a 24 años | 199912 | 1999 | 12 |\n| 20 a 24 años | 200004 | 2000 |  4 |\n| 20 a 24 años | 199904 | 1999 |  4 |\n| 20 a 24 años | 199804 | 1998 |  4 |\n| 15 a 19 años | 200107 | 2001 |  7 |\n| 25 a 29 años | 199210 | 1992 | 10 |\n| 20 a 24 años | 199912 | 1999 | 12 |\n| 20 a 24 años | 199708 | 1997 |  8 |\n| 25 a 29 años | 199303 | 1993 |  3 |\n| 20 a 24 años | 199508 | 1995 |  8 |\n| ⋮ | ⋮ | ⋮ | ⋮ |\n| 35 a 39 años    | 198506 | 1985 |  6 |\n| 30 a 34 años    | 198910 | 1989 | 10 |\n| 40 y más años   | 197211 | 1972 | 11 |\n| 25 a 29 años    | 199307 | 1993 |  7 |\n| 40 y más años   | 197110 | 1971 | 10 |\n| 25 a 29 años    | 199207 | 1992 |  7 |\n| 20 a 24 años    | 199801 | 1998 |  1 |\n| 15 a 19 años    | 200104 | 2001 |  4 |\n| 25 a 29 años    | 199206 | 1992 |  6 |\n| 15 a 19 años    | 200103 | 2001 |  3 |\n| 40 y más años   | 197411 | 1974 | 11 |\n| SIN INFORMACION |     NA |   NA | NA |\n| 25 a 29 años    | 199311 | 1993 | 11 |\n| 25 a 29 años    | 199203 | 1992 |  3 |\n| 30 a 34 años    | 198511 | 1985 | 11 |\n| 25 a 29 años    | 199305 | 1993 |  5 |\n| 20 a 24 años    | 199601 | 1996 |  1 |\n| 15 a 19 años    | 200302 | 2003 |  2 |\n| 25 a 29 años    | 199103 | 1991 |  3 |\n| 25 a 29 años    | 199407 | 1994 |  7 |\n| 40 y más años   | 197705 | 1977 |  5 |\n| 20 a 24 años    | 200002 | 2000 |  2 |\n| 30 a 34 años    | 198901 | 1989 |  1 |\n| 40 y más años   | 196804 | 1968 |  4 |\n| 35 a 39 años    | 198011 | 1980 | 11 |\n| 30 a 34 años    | 198610 | 1986 | 10 |\n| 40 y más años   | 197411 | 1974 | 11 |\n| 15 a 19 años    | 200107 | 2001 |  7 |\n| SIN INFORMACION |     NA |   NA | NA |\n| 25 a 29 años    | 199104 | 1991 |  4 |\n\n",
            "text/html": [
              "<table class=\"dataframe\">\n",
              "<caption>A data.frame: 1221017 × 4</caption>\n",
              "<thead>\n",
              "\t<tr><th scope=col>rango_edad</th><th scope=col>FEC_NAC_ALU</th><th scope=col>NAC_ALU_AGNO</th><th scope=col>NAC_ALU_MES</th></tr>\n",
              "\t<tr><th scope=col>&lt;chr&gt;</th><th scope=col>&lt;int&gt;</th><th scope=col>&lt;dbl&gt;</th><th scope=col>&lt;dbl&gt;</th></tr>\n",
              "</thead>\n",
              "<tbody>\n",
              "\t<tr><td>20 a 24 años</td><td>199603</td><td>1996</td><td> 3</td></tr>\n",
              "\t<tr><td>15 a 19 años</td><td>200103</td><td>2001</td><td> 3</td></tr>\n",
              "\t<tr><td>15 a 19 años</td><td>200103</td><td>2001</td><td> 3</td></tr>\n",
              "\t<tr><td>15 a 19 años</td><td>200105</td><td>2001</td><td> 5</td></tr>\n",
              "\t<tr><td>15 a 19 años</td><td>200110</td><td>2001</td><td>10</td></tr>\n",
              "\t<tr><td>25 a 29 años</td><td>199502</td><td>1995</td><td> 2</td></tr>\n",
              "\t<tr><td>20 a 24 años</td><td>199709</td><td>1997</td><td> 9</td></tr>\n",
              "\t<tr><td>20 a 24 años</td><td>199911</td><td>1999</td><td>11</td></tr>\n",
              "\t<tr><td>15 a 19 años</td><td>200104</td><td>2001</td><td> 4</td></tr>\n",
              "\t<tr><td>20 a 24 años</td><td>200003</td><td>2000</td><td> 3</td></tr>\n",
              "\t<tr><td>20 a 24 años</td><td>199811</td><td>1998</td><td>11</td></tr>\n",
              "\t<tr><td>25 a 29 años</td><td>199204</td><td>1992</td><td> 4</td></tr>\n",
              "\t<tr><td>20 a 24 años</td><td>199712</td><td>1997</td><td>12</td></tr>\n",
              "\t<tr><td>20 a 24 años</td><td>200004</td><td>2000</td><td> 4</td></tr>\n",
              "\t<tr><td>15 a 19 años</td><td>200204</td><td>2002</td><td> 4</td></tr>\n",
              "\t<tr><td>20 a 24 años</td><td>199910</td><td>1999</td><td>10</td></tr>\n",
              "\t<tr><td>15 a 19 años</td><td>200104</td><td>2001</td><td> 4</td></tr>\n",
              "\t<tr><td>20 a 24 años</td><td>199509</td><td>1995</td><td> 9</td></tr>\n",
              "\t<tr><td>15 a 19 años</td><td>200111</td><td>2001</td><td>11</td></tr>\n",
              "\t<tr><td>15 a 19 años</td><td>200211</td><td>2002</td><td>11</td></tr>\n",
              "\t<tr><td>20 a 24 años</td><td>199912</td><td>1999</td><td>12</td></tr>\n",
              "\t<tr><td>20 a 24 años</td><td>200004</td><td>2000</td><td> 4</td></tr>\n",
              "\t<tr><td>20 a 24 años</td><td>199904</td><td>1999</td><td> 4</td></tr>\n",
              "\t<tr><td>20 a 24 años</td><td>199804</td><td>1998</td><td> 4</td></tr>\n",
              "\t<tr><td>15 a 19 años</td><td>200107</td><td>2001</td><td> 7</td></tr>\n",
              "\t<tr><td>25 a 29 años</td><td>199210</td><td>1992</td><td>10</td></tr>\n",
              "\t<tr><td>20 a 24 años</td><td>199912</td><td>1999</td><td>12</td></tr>\n",
              "\t<tr><td>20 a 24 años</td><td>199708</td><td>1997</td><td> 8</td></tr>\n",
              "\t<tr><td>25 a 29 años</td><td>199303</td><td>1993</td><td> 3</td></tr>\n",
              "\t<tr><td>20 a 24 años</td><td>199508</td><td>1995</td><td> 8</td></tr>\n",
              "\t<tr><td>⋮</td><td>⋮</td><td>⋮</td><td>⋮</td></tr>\n",
              "\t<tr><td>35 a 39 años   </td><td>198506</td><td>1985</td><td> 6</td></tr>\n",
              "\t<tr><td>30 a 34 años   </td><td>198910</td><td>1989</td><td>10</td></tr>\n",
              "\t<tr><td>40 y más años  </td><td>197211</td><td>1972</td><td>11</td></tr>\n",
              "\t<tr><td>25 a 29 años   </td><td>199307</td><td>1993</td><td> 7</td></tr>\n",
              "\t<tr><td>40 y más años  </td><td>197110</td><td>1971</td><td>10</td></tr>\n",
              "\t<tr><td>25 a 29 años   </td><td>199207</td><td>1992</td><td> 7</td></tr>\n",
              "\t<tr><td>20 a 24 años   </td><td>199801</td><td>1998</td><td> 1</td></tr>\n",
              "\t<tr><td>15 a 19 años   </td><td>200104</td><td>2001</td><td> 4</td></tr>\n",
              "\t<tr><td>25 a 29 años   </td><td>199206</td><td>1992</td><td> 6</td></tr>\n",
              "\t<tr><td>15 a 19 años   </td><td>200103</td><td>2001</td><td> 3</td></tr>\n",
              "\t<tr><td>40 y más años  </td><td>197411</td><td>1974</td><td>11</td></tr>\n",
              "\t<tr><td>SIN INFORMACION</td><td>    NA</td><td>  NA</td><td>NA</td></tr>\n",
              "\t<tr><td>25 a 29 años   </td><td>199311</td><td>1993</td><td>11</td></tr>\n",
              "\t<tr><td>25 a 29 años   </td><td>199203</td><td>1992</td><td> 3</td></tr>\n",
              "\t<tr><td>30 a 34 años   </td><td>198511</td><td>1985</td><td>11</td></tr>\n",
              "\t<tr><td>25 a 29 años   </td><td>199305</td><td>1993</td><td> 5</td></tr>\n",
              "\t<tr><td>20 a 24 años   </td><td>199601</td><td>1996</td><td> 1</td></tr>\n",
              "\t<tr><td>15 a 19 años   </td><td>200302</td><td>2003</td><td> 2</td></tr>\n",
              "\t<tr><td>25 a 29 años   </td><td>199103</td><td>1991</td><td> 3</td></tr>\n",
              "\t<tr><td>25 a 29 años   </td><td>199407</td><td>1994</td><td> 7</td></tr>\n",
              "\t<tr><td>40 y más años  </td><td>197705</td><td>1977</td><td> 5</td></tr>\n",
              "\t<tr><td>20 a 24 años   </td><td>200002</td><td>2000</td><td> 2</td></tr>\n",
              "\t<tr><td>30 a 34 años   </td><td>198901</td><td>1989</td><td> 1</td></tr>\n",
              "\t<tr><td>40 y más años  </td><td>196804</td><td>1968</td><td> 4</td></tr>\n",
              "\t<tr><td>35 a 39 años   </td><td>198011</td><td>1980</td><td>11</td></tr>\n",
              "\t<tr><td>30 a 34 años   </td><td>198610</td><td>1986</td><td>10</td></tr>\n",
              "\t<tr><td>40 y más años  </td><td>197411</td><td>1974</td><td>11</td></tr>\n",
              "\t<tr><td>15 a 19 años   </td><td>200107</td><td>2001</td><td> 7</td></tr>\n",
              "\t<tr><td>SIN INFORMACION</td><td>    NA</td><td>  NA</td><td>NA</td></tr>\n",
              "\t<tr><td>25 a 29 años   </td><td>199104</td><td>1991</td><td> 4</td></tr>\n",
              "</tbody>\n",
              "</table>\n"
            ]
          },
          "metadata": {
            "tags": []
          }
        }
      ]
    },
    {
      "cell_type": "code",
      "metadata": {
        "colab": {
          "base_uri": "https://localhost:8080/",
          "height": 314
        },
        "id": "sxJ_kmr_YDp0",
        "outputId": "8f27a8b2-936e-4a52-e8c3-2be799013757"
      },
      "source": [
        "datanacimiento %>% group_by(rango_edad) %>%\n",
        "                  summarise(minedad=2020-max(NAC_ALU_AGNO), \n",
        "                            maxedad=2020-min(NAC_ALU_AGNO))"
      ],
      "execution_count": null,
      "outputs": [
        {
          "output_type": "display_data",
          "data": {
            "text/plain": [
              "  rango_edad      minedad maxedad\n",
              "1 15 a 19 años    15      20     \n",
              "2 20 a 24 años    20      25     \n",
              "3 25 a 29 años    25      30     \n",
              "4 30 a 34 años    30      35     \n",
              "5 35 a 39 años    35      40     \n",
              "6 40 y más años   40      81     \n",
              "7 SIN INFORMACION NA      NA     "
            ],
            "text/latex": "A tibble: 7 × 3\n\\begin{tabular}{lll}\n rango\\_edad & minedad & maxedad\\\\\n <chr> & <dbl> & <dbl>\\\\\n\\hline\n\t 15 a 19 años    & 15 & 20\\\\\n\t 20 a 24 años    & 20 & 25\\\\\n\t 25 a 29 años    & 25 & 30\\\\\n\t 30 a 34 años    & 30 & 35\\\\\n\t 35 a 39 años    & 35 & 40\\\\\n\t 40 y más años   & 40 & 81\\\\\n\t SIN INFORMACION & NA & NA\\\\\n\\end{tabular}\n",
            "text/markdown": "\nA tibble: 7 × 3\n\n| rango_edad &lt;chr&gt; | minedad &lt;dbl&gt; | maxedad &lt;dbl&gt; |\n|---|---|---|\n| 15 a 19 años    | 15 | 20 |\n| 20 a 24 años    | 20 | 25 |\n| 25 a 29 años    | 25 | 30 |\n| 30 a 34 años    | 30 | 35 |\n| 35 a 39 años    | 35 | 40 |\n| 40 y más años   | 40 | 81 |\n| SIN INFORMACION | NA | NA |\n\n",
            "text/html": [
              "<table class=\"dataframe\">\n",
              "<caption>A tibble: 7 × 3</caption>\n",
              "<thead>\n",
              "\t<tr><th scope=col>rango_edad</th><th scope=col>minedad</th><th scope=col>maxedad</th></tr>\n",
              "\t<tr><th scope=col>&lt;chr&gt;</th><th scope=col>&lt;dbl&gt;</th><th scope=col>&lt;dbl&gt;</th></tr>\n",
              "</thead>\n",
              "<tbody>\n",
              "\t<tr><td>15 a 19 años   </td><td>15</td><td>20</td></tr>\n",
              "\t<tr><td>20 a 24 años   </td><td>20</td><td>25</td></tr>\n",
              "\t<tr><td>25 a 29 años   </td><td>25</td><td>30</td></tr>\n",
              "\t<tr><td>30 a 34 años   </td><td>30</td><td>35</td></tr>\n",
              "\t<tr><td>35 a 39 años   </td><td>35</td><td>40</td></tr>\n",
              "\t<tr><td>40 y más años  </td><td>40</td><td>81</td></tr>\n",
              "\t<tr><td>SIN INFORMACION</td><td>NA</td><td>NA</td></tr>\n",
              "</tbody>\n",
              "</table>\n"
            ]
          },
          "metadata": {
            "tags": []
          }
        }
      ]
    },
    {
      "cell_type": "markdown",
      "metadata": {
        "id": "Qyoef7o8zIKj"
      },
      "source": [
        "**Actividad:** Encuentre otros dos atributos en que sea necesario realizar ediciones y obtenga la cantidad de datos que presentan errores"
      ]
    },
    {
      "cell_type": "code",
      "metadata": {
        "id": "LuRfH8quzGNd"
      },
      "source": [
        ""
      ],
      "execution_count": null,
      "outputs": []
    },
    {
      "cell_type": "markdown",
      "metadata": {
        "id": "JbGRQK49Jk5b"
      },
      "source": [
        "## Consultas de bases de datos en R y SQL\n",
        "\n",
        "Ahora, trabajaremos con la base de datos, almacenando los datos de forma más eficiente y realizando consultas apropiadas, como se vio en clases\n",
        "\n",
        "\n"
      ]
    },
    {
      "cell_type": "code",
      "metadata": {
        "id": "FPKn3htBJorr",
        "colab": {
          "base_uri": "https://localhost:8080/"
        },
        "outputId": "f76afaa0-6fa7-4100-fe4d-40cd81e427fe"
      },
      "source": [
        "install.packages(\"data.table\")\n",
        "library(data.table)\n",
        "install.packages(c(\"httr\", \"jsonlite\"))\n",
        "library(httr)\n",
        "library(jsonlite)\n",
        "install.packages(\"tictoc\")\n",
        "library(\"tictoc\")\n",
        "library(ggplot2)"
      ],
      "execution_count": null,
      "outputs": [
        {
          "output_type": "stream",
          "text": [
            "Installing package into ‘/usr/local/lib/R/site-library’\n",
            "(as ‘lib’ is unspecified)\n",
            "\n",
            "\n",
            "Attaching package: ‘data.table’\n",
            "\n",
            "\n",
            "The following objects are masked from ‘package:dplyr’:\n",
            "\n",
            "    between, first, last\n",
            "\n",
            "\n",
            "The following object is masked from ‘package:purrr’:\n",
            "\n",
            "    transpose\n",
            "\n",
            "\n",
            "Installing packages into ‘/usr/local/lib/R/site-library’\n",
            "(as ‘lib’ is unspecified)\n",
            "\n",
            "\n",
            "Attaching package: ‘jsonlite’\n",
            "\n",
            "\n",
            "The following object is masked from ‘package:purrr’:\n",
            "\n",
            "    flatten\n",
            "\n",
            "\n",
            "Installing package into ‘/usr/local/lib/R/site-library’\n",
            "(as ‘lib’ is unspecified)\n",
            "\n"
          ],
          "name": "stderr"
        }
      ]
    },
    {
      "cell_type": "code",
      "metadata": {
        "colab": {
          "base_uri": "https://localhost:8080/",
          "height": 119
        },
        "id": "sjkwPVxuBwtY",
        "outputId": "6c6b9bf5-493d-4b94-e353-ad9b72312d2c"
      },
      "source": [
        "names(matricula)"
      ],
      "execution_count": null,
      "outputs": [
        {
          "output_type": "display_data",
          "data": {
            "text/plain": [
              " [1] \"cat_periodo\"                    \"codigo_unico\"                  \n",
              " [3] \"MRUN\"                           \"GEN_ALU\"                       \n",
              " [5] \"FEC_NAC_ALU\"                    \"rango_edad\"                    \n",
              " [7] \"anio_ing_carr_ori\"              \"sem_ing_carr_ori\"              \n",
              " [9] \"anio_ing_carr_act\"              \"sem_ing_carr_act\"              \n",
              "[11] \"tipo_inst_1\"                    \"tipo_inst_2\"                   \n",
              "[13] \"tipo_inst_3\"                    \"cod_inst\"                      \n",
              "[15] \"nomb_inst\"                      \"cod_sede\"                      \n",
              "[17] \"nomb_sede\"                      \"cod_carrera\"                   \n",
              "[19] \"nomb_carrera\"                   \"modalidad\"                     \n",
              "[21] \"jornada\"                        \"version\"                       \n",
              "[23] \"tipo_plan_carr\"                 \"dur_estudio_carr\"              \n",
              "[25] \"dur_proceso_tit\"                \"dur_total_carr\"                \n",
              "[27] \"region_sede\"                    \"provincia_sede\"                \n",
              "[29] \"comuna_sede\"                    \"nivel_global\"                  \n",
              "[31] \"nivel_carrera_1\"                \"nivel_carrera_2\"               \n",
              "[33] \"requisito_ingreso\"              \"vigencia_carrera\"              \n",
              "[35] \"valor_matricula\"                \"valor_arancel\"                 \n",
              "[37] \"codigo_demre\"                   \"area_conocimiento\"             \n",
              "[39] \"oecd_area\"                      \"oecd_subarea\"                  \n",
              "[41] \"area_carrera_generica\"          \"acreditada_carr\"               \n",
              "[43] \"acreditada_inst\"                \"acre_inst_desde_hasta\"         \n",
              "[45] \"acre_inst_anio\"                 \"costo_proceso_titulacion\"      \n",
              "[47] \"costo_obtencion_titulo_diploma\" \"forma_ingreso\"                 "
            ],
            "text/latex": "\\begin{enumerate*}\n\\item 'cat\\_periodo'\n\\item 'codigo\\_unico'\n\\item 'MRUN'\n\\item 'GEN\\_ALU'\n\\item 'FEC\\_NAC\\_ALU'\n\\item 'rango\\_edad'\n\\item 'anio\\_ing\\_carr\\_ori'\n\\item 'sem\\_ing\\_carr\\_ori'\n\\item 'anio\\_ing\\_carr\\_act'\n\\item 'sem\\_ing\\_carr\\_act'\n\\item 'tipo\\_inst\\_1'\n\\item 'tipo\\_inst\\_2'\n\\item 'tipo\\_inst\\_3'\n\\item 'cod\\_inst'\n\\item 'nomb\\_inst'\n\\item 'cod\\_sede'\n\\item 'nomb\\_sede'\n\\item 'cod\\_carrera'\n\\item 'nomb\\_carrera'\n\\item 'modalidad'\n\\item 'jornada'\n\\item 'version'\n\\item 'tipo\\_plan\\_carr'\n\\item 'dur\\_estudio\\_carr'\n\\item 'dur\\_proceso\\_tit'\n\\item 'dur\\_total\\_carr'\n\\item 'region\\_sede'\n\\item 'provincia\\_sede'\n\\item 'comuna\\_sede'\n\\item 'nivel\\_global'\n\\item 'nivel\\_carrera\\_1'\n\\item 'nivel\\_carrera\\_2'\n\\item 'requisito\\_ingreso'\n\\item 'vigencia\\_carrera'\n\\item 'valor\\_matricula'\n\\item 'valor\\_arancel'\n\\item 'codigo\\_demre'\n\\item 'area\\_conocimiento'\n\\item 'oecd\\_area'\n\\item 'oecd\\_subarea'\n\\item 'area\\_carrera\\_generica'\n\\item 'acreditada\\_carr'\n\\item 'acreditada\\_inst'\n\\item 'acre\\_inst\\_desde\\_hasta'\n\\item 'acre\\_inst\\_anio'\n\\item 'costo\\_proceso\\_titulacion'\n\\item 'costo\\_obtencion\\_titulo\\_diploma'\n\\item 'forma\\_ingreso'\n\\end{enumerate*}\n",
            "text/markdown": "1. 'cat_periodo'\n2. 'codigo_unico'\n3. 'MRUN'\n4. 'GEN_ALU'\n5. 'FEC_NAC_ALU'\n6. 'rango_edad'\n7. 'anio_ing_carr_ori'\n8. 'sem_ing_carr_ori'\n9. 'anio_ing_carr_act'\n10. 'sem_ing_carr_act'\n11. 'tipo_inst_1'\n12. 'tipo_inst_2'\n13. 'tipo_inst_3'\n14. 'cod_inst'\n15. 'nomb_inst'\n16. 'cod_sede'\n17. 'nomb_sede'\n18. 'cod_carrera'\n19. 'nomb_carrera'\n20. 'modalidad'\n21. 'jornada'\n22. 'version'\n23. 'tipo_plan_carr'\n24. 'dur_estudio_carr'\n25. 'dur_proceso_tit'\n26. 'dur_total_carr'\n27. 'region_sede'\n28. 'provincia_sede'\n29. 'comuna_sede'\n30. 'nivel_global'\n31. 'nivel_carrera_1'\n32. 'nivel_carrera_2'\n33. 'requisito_ingreso'\n34. 'vigencia_carrera'\n35. 'valor_matricula'\n36. 'valor_arancel'\n37. 'codigo_demre'\n38. 'area_conocimiento'\n39. 'oecd_area'\n40. 'oecd_subarea'\n41. 'area_carrera_generica'\n42. 'acreditada_carr'\n43. 'acreditada_inst'\n44. 'acre_inst_desde_hasta'\n45. 'acre_inst_anio'\n46. 'costo_proceso_titulacion'\n47. 'costo_obtencion_titulo_diploma'\n48. 'forma_ingreso'\n\n\n",
            "text/html": [
              "<style>\n",
              ".list-inline {list-style: none; margin:0; padding: 0}\n",
              ".list-inline>li {display: inline-block}\n",
              ".list-inline>li:not(:last-child)::after {content: \"\\00b7\"; padding: 0 .5ex}\n",
              "</style>\n",
              "<ol class=list-inline><li>'cat_periodo'</li><li>'codigo_unico'</li><li>'MRUN'</li><li>'GEN_ALU'</li><li>'FEC_NAC_ALU'</li><li>'rango_edad'</li><li>'anio_ing_carr_ori'</li><li>'sem_ing_carr_ori'</li><li>'anio_ing_carr_act'</li><li>'sem_ing_carr_act'</li><li>'tipo_inst_1'</li><li>'tipo_inst_2'</li><li>'tipo_inst_3'</li><li>'cod_inst'</li><li>'nomb_inst'</li><li>'cod_sede'</li><li>'nomb_sede'</li><li>'cod_carrera'</li><li>'nomb_carrera'</li><li>'modalidad'</li><li>'jornada'</li><li>'version'</li><li>'tipo_plan_carr'</li><li>'dur_estudio_carr'</li><li>'dur_proceso_tit'</li><li>'dur_total_carr'</li><li>'region_sede'</li><li>'provincia_sede'</li><li>'comuna_sede'</li><li>'nivel_global'</li><li>'nivel_carrera_1'</li><li>'nivel_carrera_2'</li><li>'requisito_ingreso'</li><li>'vigencia_carrera'</li><li>'valor_matricula'</li><li>'valor_arancel'</li><li>'codigo_demre'</li><li>'area_conocimiento'</li><li>'oecd_area'</li><li>'oecd_subarea'</li><li>'area_carrera_generica'</li><li>'acreditada_carr'</li><li>'acreditada_inst'</li><li>'acre_inst_desde_hasta'</li><li>'acre_inst_anio'</li><li>'costo_proceso_titulacion'</li><li>'costo_obtencion_titulo_diploma'</li><li>'forma_ingreso'</li></ol>\n"
            ]
          },
          "metadata": {
            "tags": []
          }
        }
      ]
    },
    {
      "cell_type": "code",
      "metadata": {
        "id": "suU32A372Q6F"
      },
      "source": [
        "\n",
        "alumnos <- matricula[, c(\"MRUN\", \"GEN_ALU\", \"FEC_NAC_ALU\")]\n",
        "estudia_en <- matricula[,c(\"MRUN\", \"cod_inst\", \"cat_periodo\", \"rango_edad\")] \n",
        "cursa <- matricula[,c(\"MRUN\",\"codigo_unico\", \"cat_periodo\", \"rango_edad\", \"anio_ing_carr_ori\", \"sem_ing_carr_ori\", \"anio_ing_carr_act\", \"sem_ing_carr_act\", \"forma_ingreso\")] \n",
        "carrera <- matricula[, c(\"codigo_unico\", \"cod_sede\", \"nomb_sede\", \"cod_carrera\", \"nomb_carrera\", \"modalidad\", \"jornada\", \"version\", \"tipo_plan_carr\", \"dur_estudio_carr\", \"dur_proceso_tit\", \"dur_total_carr\", \"region_sede\", \"provincia_sede\", \"comuna_sede\", \"nivel_global\", \"nivel_carrera_1\", \"nivel_carrera_2\", \"requisito_ingreso\",  \"vigencia_carrera\", \"valor_matricula\", \"valor_arancel\", \"codigo_demre\", \"area_conocimiento\", \"oecd_area\",  \"oecd_subarea\", \"area_carrera_generica\", \"acreditada_carr\", \"costo_proceso_titulacion\",  \"costo_obtencion_titulo_diploma\" )]\n",
        "IES <- matricula[, c(\"cod_inst\",\"tipo_inst_1\", \"tipo_inst_2\", \"tipo_inst_3\", \"nomb_inst\", \"acreditada_inst\", \"acre_inst_desde_hasta\", \"acre_inst_anio\")]\n",
        "pertenece_a <- matricula[,c( \"codigo_unico\",\"cod_inst\")]\n"
      ],
      "execution_count": null,
      "outputs": []
    },
    {
      "cell_type": "code",
      "metadata": {
        "id": "WdbeNb_aN46d"
      },
      "source": [
        ""
      ],
      "execution_count": null,
      "outputs": []
    },
    {
      "cell_type": "code",
      "metadata": {
        "id": "FnfJxtJFEMtK"
      },
      "source": [
        "# Limpiar eliminando llaves vacíos\n",
        "\n",
        "# Solo me interesa limpiar MRUN, ¿Por qué?\n",
        "\n",
        "alumnos <- alumnos[!is.na(alumnos$MRUN), ]\n",
        "cursa <- cursa[!is.na(cursa$MRUN), ]\n",
        "estudia_en <- estudia_en[!is.na(estudia_en$MRUN), ]"
      ],
      "execution_count": null,
      "outputs": []
    },
    {
      "cell_type": "code",
      "metadata": {
        "id": "4lI-BUvA2RVy"
      },
      "source": [
        "#Eliminamos información repetida\n",
        "alumnos <- unique(alumnos)\n",
        "carrera <- unique(carrera)\n",
        "IES <- unique(IES)\n",
        "\n"
      ],
      "execution_count": null,
      "outputs": []
    },
    {
      "cell_type": "code",
      "metadata": {
        "id": "VyYIadE3M46y"
      },
      "source": [
        ""
      ],
      "execution_count": null,
      "outputs": []
    },
    {
      "cell_type": "code",
      "metadata": {
        "id": "BYOr63U2E4Sk"
      },
      "source": [
        "estudia_en <- unique(estudia_en)\n",
        "cursa <- unique(cursa)\n",
        "pertenece_a <- unique(pertenece_a)"
      ],
      "execution_count": null,
      "outputs": []
    },
    {
      "cell_type": "code",
      "metadata": {
        "colab": {
          "base_uri": "https://localhost:8080/",
          "height": 1000
        },
        "id": "w8ne62-WVvLc",
        "outputId": "16c90836-6acf-4e74-ed9a-dadef59579d8"
      },
      "source": [
        "cursa"
      ],
      "execution_count": null,
      "outputs": [
        {
          "output_type": "display_data",
          "data": {
            "text/plain": [
              "        MRUN     codigo_unico    cat_periodo rango_edad      anio_ing_carr_ori\n",
              "1361     19      I536S0C39J1V1   2020        20 a 24 años    2019             \n",
              "1362     35      I31S2C41J1V1    2020        20 a 24 años    2017             \n",
              "1363     43      I70S1C900J1V1   2020        25 a 29 años    2020             \n",
              "1364     59      I81S5C72J2V1    2020        20 a 24 años    2018             \n",
              "1365    110      I71S1C46J1V1    2020        25 a 29 años    2014             \n",
              "1366    150      I69S1C5J1V1     2020        20 a 24 años    2016             \n",
              "1367    151      I13S6C160J1V1   2020        20 a 24 años    2016             \n",
              "1368    220      I86S5C76J1V1    2020        30 a 34 años    2015             \n",
              "1369    222      I312S1C82J4V2   2020        35 a 39 años    2019             \n",
              "1370    239      I3S1C46J1V1     2020        20 a 24 años    1900             \n",
              "1371    252      I94S1C273J3V1   2020        35 a 39 años    2018             \n",
              "1372    291      I143S23C609J1V1 2020        25 a 29 años    2018             \n",
              "1373    337      I260S47C118J1V1 2020        30 a 34 años    2018             \n",
              "1374    340      I111S16C48J2V1  2020        30 a 34 años    2020             \n",
              "1375    341      I116S17C4J1V1   2020        30 a 34 años    2017             \n",
              "1376    385      I13S17C44J1V1   2020        20 a 24 años    2018             \n",
              "1377    386      I100S32C274J1V1 2020        20 a 24 años    2018             \n",
              "1378    391      I113S10C61J2V1  2020        15 a 19 años    2019             \n",
              "1379    393      I116S19C207J2V1 2020        25 a 29 años    2018             \n",
              "1380    426      I113S7C61J1V1   2020        20 a 24 años    2020             \n",
              "1381    452      I111S12C32J1V1  2020        20 a 24 años    2020             \n",
              "1382    550      I76S1C95J1V1    2020        25 a 29 años    2014             \n",
              "1383    647      I80S1C18J1V2    2020        20 a 24 años    2017             \n",
              "1384    671      I111S12C439J2V1 2020        20 a 24 años    2018             \n",
              "1385    684      I116S9C51J2V2   2020        20 a 24 años    2020             \n",
              "1386    733      I31S4C286J1V1   2020        40 y más años   2020             \n",
              "1387    739      I143S21C113J2V2 2020        20 a 24 años    2017             \n",
              "1388    807      I23S2C1J1V1     2020        20 a 24 años    2018             \n",
              "1389    808      I86S5C300J1V1   2020        20 a 24 años    2018             \n",
              "1390    832      I10S4C31J1V1    2020        20 a 24 años    2016             \n",
              "⋮       ⋮        ⋮               ⋮           ⋮               ⋮                \n",
              "1220988 26233004 I22S1C341J4V1   2020        35 a 39 años    2020             \n",
              "1220989 26233005 I22S1C341J4V1   2020        30 a 34 años    2019             \n",
              "1220990 26233006 I81S1C469J4V1   2020        40 y más años   2019             \n",
              "1220991 26233007 I22S1C341J4V1   2020        25 a 29 años    2020             \n",
              "1220992 26233008 I81S5C518J1V1   2020        40 y más años   2019             \n",
              "1220993 26233009 I81S7C481J4V1   2020        25 a 29 años    2018             \n",
              "1220994 26233010 I10S7C16J2V2    2020        20 a 24 años    2020             \n",
              "1220995 26233011 I116S6C40J1V1   2020        15 a 19 años    2020             \n",
              "1220996 26233013 I143S2C23J2V2   2020        25 a 29 años    2020             \n",
              "1220997 26233014 I430S36C89J1V1  2020        15 a 19 años    2020             \n",
              "1220998 26233015 I81S1C523J4V1   2020        40 y más años   2018             \n",
              "1220999 26233016 I81S1C500J4V1   2020        SIN INFORMACION 2019             \n",
              "1221000 26233017 I88S1C7J1V1     2020        25 a 29 años    2020             \n",
              "1221001 26233018 I81S7C481J4V1   2020        25 a 29 años    2018             \n",
              "1221002 26233019 I81S1C523J4V1   2020        30 a 34 años    2018             \n",
              "1221003 26233020 I74S1C211J1V1   2020        25 a 29 años    2020             \n",
              "1221004 26233021 I88S1C374J1V1   2020        20 a 24 años    2020             \n",
              "1221005 26233022 I143S15C251J2V1 2020        15 a 19 años    2020             \n",
              "1221006 26233023 I81S1C469J4V1   2020        25 a 29 años    2019             \n",
              "1221007 26233024 I75S1C121J1V2   2020        25 a 29 años    2020             \n",
              "1221008 26233025 I94S1C388J1V1   2020        40 y más años   2019             \n",
              "1221009 26233026 I143S15C113J2V2 2020        20 a 24 años    2020             \n",
              "1221010 26233027 I38S1C100J1V2   2020        30 a 34 años    2020             \n",
              "1221011 26233028 I22S1C341J4V1   2020        40 y más años   2019             \n",
              "1221012 26233029 I22S1C343J4V1   2020        35 a 39 años    2019             \n",
              "1221013 26233030 I34S1C436J3V1   2020        30 a 34 años    2020             \n",
              "1221014 26233031 I81S7C468J4V1   2020        40 y más años   2018             \n",
              "1221015 26233032 I260S1C79J1V1   2020        15 a 19 años    2020             \n",
              "1221016 26233033 I81S7C481J4V1   2020        SIN INFORMACION 2019             \n",
              "1221017 26233034 I81S1C469J4V1   2020        25 a 29 años    2019             \n",
              "        sem_ing_carr_ori anio_ing_carr_act sem_ing_carr_act\n",
              "1361    1                2019              1               \n",
              "1362    1                2017              1               \n",
              "1363    1                2020              1               \n",
              "1364    1                2018              1               \n",
              "1365    1                2017              1               \n",
              "1366    1                2016              1               \n",
              "1367    1                2016              1               \n",
              "1368    1                2015              1               \n",
              "1369    2                2019              2               \n",
              "1370    0                2017              1               \n",
              "1371    1                2018              1               \n",
              "1372    1                2018              1               \n",
              "1373    1                2018              1               \n",
              "1374    1                2020              1               \n",
              "1375    1                2017              1               \n",
              "1376    1                2018              1               \n",
              "1377    1                2018              1               \n",
              "1378    1                2019              1               \n",
              "1379    1                2020              1               \n",
              "1380    1                2020              1               \n",
              "1381    1                2020              1               \n",
              "1382    1                2014              1               \n",
              "1383    1                2017              1               \n",
              "1384    1                2018              1               \n",
              "1385    1                2020              1               \n",
              "1386    1                2020              1               \n",
              "1387    1                2019              1               \n",
              "1388    1                2018              1               \n",
              "1389    1                2018              1               \n",
              "1390    1                2016              1               \n",
              "⋮       ⋮                ⋮                 ⋮               \n",
              "1220988 1                2020              1               \n",
              "1220989 2                2019              2               \n",
              "1220990 2                2019              2               \n",
              "1220991 1                2020              1               \n",
              "1220992 2                2019              2               \n",
              "1220993 2                2018              2               \n",
              "1220994 1                2020              1               \n",
              "1220995 1                2020              1               \n",
              "1220996 1                2020              1               \n",
              "1220997 1                2020              1               \n",
              "1220998 1                2018              1               \n",
              "1220999 1                2019              1               \n",
              "1221000 1                2020              1               \n",
              "1221001 2                2018              2               \n",
              "1221002 1                2018              1               \n",
              "1221003 1                2020              1               \n",
              "1221004 1                2020              1               \n",
              "1221005 1                2020              1               \n",
              "1221006 2                2019              2               \n",
              "1221007 1                2020              1               \n",
              "1221008 2                2019              2               \n",
              "1221009 1                2020              1               \n",
              "1221010 1                2020              1               \n",
              "1221011 2                2019              2               \n",
              "1221012 2                2019              2               \n",
              "1221013 1                2020              1               \n",
              "1221014 1                2018              1               \n",
              "1221015 1                2020              1               \n",
              "1221016 1                2019              1               \n",
              "1221017 2                2019              2               \n",
              "        forma_ingreso                                   \n",
              "1361    1- Ingreso Directo (regular)                    \n",
              "1362    1- Ingreso Directo (regular)                    \n",
              "1363    1- Ingreso Directo (regular)                    \n",
              "1364    1- Ingreso Directo (regular)                    \n",
              "1365    2- Continuidad desde plan común o Bachillerato. \n",
              "1366    1- Ingreso Directo (regular)                    \n",
              "1367    1- Ingreso Directo (regular)                    \n",
              "1368    1- Ingreso Directo (regular)                    \n",
              "1369    1- Ingreso Directo (regular)                    \n",
              "1370    4- Cambio Externo                               \n",
              "1371    10- Otras formas de Ingreso                     \n",
              "1372    1- Ingreso Directo (regular)                    \n",
              "1373    1- Ingreso Directo (regular)                    \n",
              "1374    1- Ingreso Directo (regular)                    \n",
              "1375    1- Ingreso Directo (regular)                    \n",
              "1376    1- Ingreso Directo (regular)                    \n",
              "1377    1- Ingreso Directo (regular)                    \n",
              "1378    1- Ingreso Directo (regular)                    \n",
              "1379    11- Articulación de TNS a carrera profesional   \n",
              "1380    1- Ingreso Directo (regular)                    \n",
              "1381    1- Ingreso Directo (regular)                    \n",
              "1382    1- Ingreso Directo (regular)                    \n",
              "1383    1- Ingreso Directo (regular)                    \n",
              "1384    1- Ingreso Directo (regular)                    \n",
              "1385    1- Ingreso Directo (regular)                    \n",
              "1386    1- Ingreso Directo (regular)                    \n",
              "1387    3- Cambio Interno                               \n",
              "1388    1- Ingreso Directo (regular)                    \n",
              "1389    1- Ingreso Directo (regular)                    \n",
              "1390    1- Ingreso Directo (regular)                    \n",
              "⋮       ⋮                                               \n",
              "1220988 6- Ingreso especial para estudiantes extranjeros\n",
              "1220989 6- Ingreso especial para estudiantes extranjeros\n",
              "1220990 6- Ingreso especial para estudiantes extranjeros\n",
              "1220991 6- Ingreso especial para estudiantes extranjeros\n",
              "1220992 6- Ingreso especial para estudiantes extranjeros\n",
              "1220993 6- Ingreso especial para estudiantes extranjeros\n",
              "1220994 6- Ingreso especial para estudiantes extranjeros\n",
              "1220995 6- Ingreso especial para estudiantes extranjeros\n",
              "1220996 6- Ingreso especial para estudiantes extranjeros\n",
              "1220997 6- Ingreso especial para estudiantes extranjeros\n",
              "1220998 6- Ingreso especial para estudiantes extranjeros\n",
              "1220999 6- Ingreso especial para estudiantes extranjeros\n",
              "1221000 6- Ingreso especial para estudiantes extranjeros\n",
              "1221001 6- Ingreso especial para estudiantes extranjeros\n",
              "1221002 6- Ingreso especial para estudiantes extranjeros\n",
              "1221003 6- Ingreso especial para estudiantes extranjeros\n",
              "1221004 6- Ingreso especial para estudiantes extranjeros\n",
              "1221005 6- Ingreso especial para estudiantes extranjeros\n",
              "1221006 6- Ingreso especial para estudiantes extranjeros\n",
              "1221007 6- Ingreso especial para estudiantes extranjeros\n",
              "1221008 6- Ingreso especial para estudiantes extranjeros\n",
              "1221009 6- Ingreso especial para estudiantes extranjeros\n",
              "1221010 6- Ingreso especial para estudiantes extranjeros\n",
              "1221011 6- Ingreso especial para estudiantes extranjeros\n",
              "1221012 6- Ingreso especial para estudiantes extranjeros\n",
              "1221013 6- Ingreso especial para estudiantes extranjeros\n",
              "1221014 6- Ingreso especial para estudiantes extranjeros\n",
              "1221015 6- Ingreso especial para estudiantes extranjeros\n",
              "1221016 6- Ingreso especial para estudiantes extranjeros\n",
              "1221017 6- Ingreso especial para estudiantes extranjeros"
            ],
            "text/latex": "A data.frame: 1219655 × 9\n\\begin{tabular}{r|lllllllll}\n  & MRUN & codigo\\_unico & cat\\_periodo & rango\\_edad & anio\\_ing\\_carr\\_ori & sem\\_ing\\_carr\\_ori & anio\\_ing\\_carr\\_act & sem\\_ing\\_carr\\_act & forma\\_ingreso\\\\\n  & <int> & <chr> & <int> & <chr> & <int> & <int> & <int> & <int> & <chr>\\\\\n\\hline\n\t1361 &  19 & I536S0C39J1V1   & 2020 & 20 a 24 años  & 2019 & 1 & 2019 & 1 & 1- Ingreso Directo (regular)                   \\\\\n\t1362 &  35 & I31S2C41J1V1    & 2020 & 20 a 24 años  & 2017 & 1 & 2017 & 1 & 1- Ingreso Directo (regular)                   \\\\\n\t1363 &  43 & I70S1C900J1V1   & 2020 & 25 a 29 años  & 2020 & 1 & 2020 & 1 & 1- Ingreso Directo (regular)                   \\\\\n\t1364 &  59 & I81S5C72J2V1    & 2020 & 20 a 24 años  & 2018 & 1 & 2018 & 1 & 1- Ingreso Directo (regular)                   \\\\\n\t1365 & 110 & I71S1C46J1V1    & 2020 & 25 a 29 años  & 2014 & 1 & 2017 & 1 & 2- Continuidad desde plan común o Bachillerato.\\\\\n\t1366 & 150 & I69S1C5J1V1     & 2020 & 20 a 24 años  & 2016 & 1 & 2016 & 1 & 1- Ingreso Directo (regular)                   \\\\\n\t1367 & 151 & I13S6C160J1V1   & 2020 & 20 a 24 años  & 2016 & 1 & 2016 & 1 & 1- Ingreso Directo (regular)                   \\\\\n\t1368 & 220 & I86S5C76J1V1    & 2020 & 30 a 34 años  & 2015 & 1 & 2015 & 1 & 1- Ingreso Directo (regular)                   \\\\\n\t1369 & 222 & I312S1C82J4V2   & 2020 & 35 a 39 años  & 2019 & 2 & 2019 & 2 & 1- Ingreso Directo (regular)                   \\\\\n\t1370 & 239 & I3S1C46J1V1     & 2020 & 20 a 24 años  & 1900 & 0 & 2017 & 1 & 4- Cambio Externo                              \\\\\n\t1371 & 252 & I94S1C273J3V1   & 2020 & 35 a 39 años  & 2018 & 1 & 2018 & 1 & 10- Otras formas de Ingreso                    \\\\\n\t1372 & 291 & I143S23C609J1V1 & 2020 & 25 a 29 años  & 2018 & 1 & 2018 & 1 & 1- Ingreso Directo (regular)                   \\\\\n\t1373 & 337 & I260S47C118J1V1 & 2020 & 30 a 34 años  & 2018 & 1 & 2018 & 1 & 1- Ingreso Directo (regular)                   \\\\\n\t1374 & 340 & I111S16C48J2V1  & 2020 & 30 a 34 años  & 2020 & 1 & 2020 & 1 & 1- Ingreso Directo (regular)                   \\\\\n\t1375 & 341 & I116S17C4J1V1   & 2020 & 30 a 34 años  & 2017 & 1 & 2017 & 1 & 1- Ingreso Directo (regular)                   \\\\\n\t1376 & 385 & I13S17C44J1V1   & 2020 & 20 a 24 años  & 2018 & 1 & 2018 & 1 & 1- Ingreso Directo (regular)                   \\\\\n\t1377 & 386 & I100S32C274J1V1 & 2020 & 20 a 24 años  & 2018 & 1 & 2018 & 1 & 1- Ingreso Directo (regular)                   \\\\\n\t1378 & 391 & I113S10C61J2V1  & 2020 & 15 a 19 años  & 2019 & 1 & 2019 & 1 & 1- Ingreso Directo (regular)                   \\\\\n\t1379 & 393 & I116S19C207J2V1 & 2020 & 25 a 29 años  & 2018 & 1 & 2020 & 1 & 11- Articulación de TNS a carrera profesional  \\\\\n\t1380 & 426 & I113S7C61J1V1   & 2020 & 20 a 24 años  & 2020 & 1 & 2020 & 1 & 1- Ingreso Directo (regular)                   \\\\\n\t1381 & 452 & I111S12C32J1V1  & 2020 & 20 a 24 años  & 2020 & 1 & 2020 & 1 & 1- Ingreso Directo (regular)                   \\\\\n\t1382 & 550 & I76S1C95J1V1    & 2020 & 25 a 29 años  & 2014 & 1 & 2014 & 1 & 1- Ingreso Directo (regular)                   \\\\\n\t1383 & 647 & I80S1C18J1V2    & 2020 & 20 a 24 años  & 2017 & 1 & 2017 & 1 & 1- Ingreso Directo (regular)                   \\\\\n\t1384 & 671 & I111S12C439J2V1 & 2020 & 20 a 24 años  & 2018 & 1 & 2018 & 1 & 1- Ingreso Directo (regular)                   \\\\\n\t1385 & 684 & I116S9C51J2V2   & 2020 & 20 a 24 años  & 2020 & 1 & 2020 & 1 & 1- Ingreso Directo (regular)                   \\\\\n\t1386 & 733 & I31S4C286J1V1   & 2020 & 40 y más años & 2020 & 1 & 2020 & 1 & 1- Ingreso Directo (regular)                   \\\\\n\t1387 & 739 & I143S21C113J2V2 & 2020 & 20 a 24 años  & 2017 & 1 & 2019 & 1 & 3- Cambio Interno                              \\\\\n\t1388 & 807 & I23S2C1J1V1     & 2020 & 20 a 24 años  & 2018 & 1 & 2018 & 1 & 1- Ingreso Directo (regular)                   \\\\\n\t1389 & 808 & I86S5C300J1V1   & 2020 & 20 a 24 años  & 2018 & 1 & 2018 & 1 & 1- Ingreso Directo (regular)                   \\\\\n\t1390 & 832 & I10S4C31J1V1    & 2020 & 20 a 24 años  & 2016 & 1 & 2016 & 1 & 1- Ingreso Directo (regular)                   \\\\\n\t⋮ & ⋮ & ⋮ & ⋮ & ⋮ & ⋮ & ⋮ & ⋮ & ⋮ & ⋮\\\\\n\t1220988 & 26233004 & I22S1C341J4V1   & 2020 & 35 a 39 años    & 2020 & 1 & 2020 & 1 & 6- Ingreso especial para estudiantes extranjeros\\\\\n\t1220989 & 26233005 & I22S1C341J4V1   & 2020 & 30 a 34 años    & 2019 & 2 & 2019 & 2 & 6- Ingreso especial para estudiantes extranjeros\\\\\n\t1220990 & 26233006 & I81S1C469J4V1   & 2020 & 40 y más años   & 2019 & 2 & 2019 & 2 & 6- Ingreso especial para estudiantes extranjeros\\\\\n\t1220991 & 26233007 & I22S1C341J4V1   & 2020 & 25 a 29 años    & 2020 & 1 & 2020 & 1 & 6- Ingreso especial para estudiantes extranjeros\\\\\n\t1220992 & 26233008 & I81S5C518J1V1   & 2020 & 40 y más años   & 2019 & 2 & 2019 & 2 & 6- Ingreso especial para estudiantes extranjeros\\\\\n\t1220993 & 26233009 & I81S7C481J4V1   & 2020 & 25 a 29 años    & 2018 & 2 & 2018 & 2 & 6- Ingreso especial para estudiantes extranjeros\\\\\n\t1220994 & 26233010 & I10S7C16J2V2    & 2020 & 20 a 24 años    & 2020 & 1 & 2020 & 1 & 6- Ingreso especial para estudiantes extranjeros\\\\\n\t1220995 & 26233011 & I116S6C40J1V1   & 2020 & 15 a 19 años    & 2020 & 1 & 2020 & 1 & 6- Ingreso especial para estudiantes extranjeros\\\\\n\t1220996 & 26233013 & I143S2C23J2V2   & 2020 & 25 a 29 años    & 2020 & 1 & 2020 & 1 & 6- Ingreso especial para estudiantes extranjeros\\\\\n\t1220997 & 26233014 & I430S36C89J1V1  & 2020 & 15 a 19 años    & 2020 & 1 & 2020 & 1 & 6- Ingreso especial para estudiantes extranjeros\\\\\n\t1220998 & 26233015 & I81S1C523J4V1   & 2020 & 40 y más años   & 2018 & 1 & 2018 & 1 & 6- Ingreso especial para estudiantes extranjeros\\\\\n\t1220999 & 26233016 & I81S1C500J4V1   & 2020 & SIN INFORMACION & 2019 & 1 & 2019 & 1 & 6- Ingreso especial para estudiantes extranjeros\\\\\n\t1221000 & 26233017 & I88S1C7J1V1     & 2020 & 25 a 29 años    & 2020 & 1 & 2020 & 1 & 6- Ingreso especial para estudiantes extranjeros\\\\\n\t1221001 & 26233018 & I81S7C481J4V1   & 2020 & 25 a 29 años    & 2018 & 2 & 2018 & 2 & 6- Ingreso especial para estudiantes extranjeros\\\\\n\t1221002 & 26233019 & I81S1C523J4V1   & 2020 & 30 a 34 años    & 2018 & 1 & 2018 & 1 & 6- Ingreso especial para estudiantes extranjeros\\\\\n\t1221003 & 26233020 & I74S1C211J1V1   & 2020 & 25 a 29 años    & 2020 & 1 & 2020 & 1 & 6- Ingreso especial para estudiantes extranjeros\\\\\n\t1221004 & 26233021 & I88S1C374J1V1   & 2020 & 20 a 24 años    & 2020 & 1 & 2020 & 1 & 6- Ingreso especial para estudiantes extranjeros\\\\\n\t1221005 & 26233022 & I143S15C251J2V1 & 2020 & 15 a 19 años    & 2020 & 1 & 2020 & 1 & 6- Ingreso especial para estudiantes extranjeros\\\\\n\t1221006 & 26233023 & I81S1C469J4V1   & 2020 & 25 a 29 años    & 2019 & 2 & 2019 & 2 & 6- Ingreso especial para estudiantes extranjeros\\\\\n\t1221007 & 26233024 & I75S1C121J1V2   & 2020 & 25 a 29 años    & 2020 & 1 & 2020 & 1 & 6- Ingreso especial para estudiantes extranjeros\\\\\n\t1221008 & 26233025 & I94S1C388J1V1   & 2020 & 40 y más años   & 2019 & 2 & 2019 & 2 & 6- Ingreso especial para estudiantes extranjeros\\\\\n\t1221009 & 26233026 & I143S15C113J2V2 & 2020 & 20 a 24 años    & 2020 & 1 & 2020 & 1 & 6- Ingreso especial para estudiantes extranjeros\\\\\n\t1221010 & 26233027 & I38S1C100J1V2   & 2020 & 30 a 34 años    & 2020 & 1 & 2020 & 1 & 6- Ingreso especial para estudiantes extranjeros\\\\\n\t1221011 & 26233028 & I22S1C341J4V1   & 2020 & 40 y más años   & 2019 & 2 & 2019 & 2 & 6- Ingreso especial para estudiantes extranjeros\\\\\n\t1221012 & 26233029 & I22S1C343J4V1   & 2020 & 35 a 39 años    & 2019 & 2 & 2019 & 2 & 6- Ingreso especial para estudiantes extranjeros\\\\\n\t1221013 & 26233030 & I34S1C436J3V1   & 2020 & 30 a 34 años    & 2020 & 1 & 2020 & 1 & 6- Ingreso especial para estudiantes extranjeros\\\\\n\t1221014 & 26233031 & I81S7C468J4V1   & 2020 & 40 y más años   & 2018 & 1 & 2018 & 1 & 6- Ingreso especial para estudiantes extranjeros\\\\\n\t1221015 & 26233032 & I260S1C79J1V1   & 2020 & 15 a 19 años    & 2020 & 1 & 2020 & 1 & 6- Ingreso especial para estudiantes extranjeros\\\\\n\t1221016 & 26233033 & I81S7C481J4V1   & 2020 & SIN INFORMACION & 2019 & 1 & 2019 & 1 & 6- Ingreso especial para estudiantes extranjeros\\\\\n\t1221017 & 26233034 & I81S1C469J4V1   & 2020 & 25 a 29 años    & 2019 & 2 & 2019 & 2 & 6- Ingreso especial para estudiantes extranjeros\\\\\n\\end{tabular}\n",
            "text/markdown": "\nA data.frame: 1219655 × 9\n\n| <!--/--> | MRUN &lt;int&gt; | codigo_unico &lt;chr&gt; | cat_periodo &lt;int&gt; | rango_edad &lt;chr&gt; | anio_ing_carr_ori &lt;int&gt; | sem_ing_carr_ori &lt;int&gt; | anio_ing_carr_act &lt;int&gt; | sem_ing_carr_act &lt;int&gt; | forma_ingreso &lt;chr&gt; |\n|---|---|---|---|---|---|---|---|---|---|\n| 1361 |  19 | I536S0C39J1V1   | 2020 | 20 a 24 años  | 2019 | 1 | 2019 | 1 | 1- Ingreso Directo (regular)                    |\n| 1362 |  35 | I31S2C41J1V1    | 2020 | 20 a 24 años  | 2017 | 1 | 2017 | 1 | 1- Ingreso Directo (regular)                    |\n| 1363 |  43 | I70S1C900J1V1   | 2020 | 25 a 29 años  | 2020 | 1 | 2020 | 1 | 1- Ingreso Directo (regular)                    |\n| 1364 |  59 | I81S5C72J2V1    | 2020 | 20 a 24 años  | 2018 | 1 | 2018 | 1 | 1- Ingreso Directo (regular)                    |\n| 1365 | 110 | I71S1C46J1V1    | 2020 | 25 a 29 años  | 2014 | 1 | 2017 | 1 | 2- Continuidad desde plan común o Bachillerato. |\n| 1366 | 150 | I69S1C5J1V1     | 2020 | 20 a 24 años  | 2016 | 1 | 2016 | 1 | 1- Ingreso Directo (regular)                    |\n| 1367 | 151 | I13S6C160J1V1   | 2020 | 20 a 24 años  | 2016 | 1 | 2016 | 1 | 1- Ingreso Directo (regular)                    |\n| 1368 | 220 | I86S5C76J1V1    | 2020 | 30 a 34 años  | 2015 | 1 | 2015 | 1 | 1- Ingreso Directo (regular)                    |\n| 1369 | 222 | I312S1C82J4V2   | 2020 | 35 a 39 años  | 2019 | 2 | 2019 | 2 | 1- Ingreso Directo (regular)                    |\n| 1370 | 239 | I3S1C46J1V1     | 2020 | 20 a 24 años  | 1900 | 0 | 2017 | 1 | 4- Cambio Externo                               |\n| 1371 | 252 | I94S1C273J3V1   | 2020 | 35 a 39 años  | 2018 | 1 | 2018 | 1 | 10- Otras formas de Ingreso                     |\n| 1372 | 291 | I143S23C609J1V1 | 2020 | 25 a 29 años  | 2018 | 1 | 2018 | 1 | 1- Ingreso Directo (regular)                    |\n| 1373 | 337 | I260S47C118J1V1 | 2020 | 30 a 34 años  | 2018 | 1 | 2018 | 1 | 1- Ingreso Directo (regular)                    |\n| 1374 | 340 | I111S16C48J2V1  | 2020 | 30 a 34 años  | 2020 | 1 | 2020 | 1 | 1- Ingreso Directo (regular)                    |\n| 1375 | 341 | I116S17C4J1V1   | 2020 | 30 a 34 años  | 2017 | 1 | 2017 | 1 | 1- Ingreso Directo (regular)                    |\n| 1376 | 385 | I13S17C44J1V1   | 2020 | 20 a 24 años  | 2018 | 1 | 2018 | 1 | 1- Ingreso Directo (regular)                    |\n| 1377 | 386 | I100S32C274J1V1 | 2020 | 20 a 24 años  | 2018 | 1 | 2018 | 1 | 1- Ingreso Directo (regular)                    |\n| 1378 | 391 | I113S10C61J2V1  | 2020 | 15 a 19 años  | 2019 | 1 | 2019 | 1 | 1- Ingreso Directo (regular)                    |\n| 1379 | 393 | I116S19C207J2V1 | 2020 | 25 a 29 años  | 2018 | 1 | 2020 | 1 | 11- Articulación de TNS a carrera profesional   |\n| 1380 | 426 | I113S7C61J1V1   | 2020 | 20 a 24 años  | 2020 | 1 | 2020 | 1 | 1- Ingreso Directo (regular)                    |\n| 1381 | 452 | I111S12C32J1V1  | 2020 | 20 a 24 años  | 2020 | 1 | 2020 | 1 | 1- Ingreso Directo (regular)                    |\n| 1382 | 550 | I76S1C95J1V1    | 2020 | 25 a 29 años  | 2014 | 1 | 2014 | 1 | 1- Ingreso Directo (regular)                    |\n| 1383 | 647 | I80S1C18J1V2    | 2020 | 20 a 24 años  | 2017 | 1 | 2017 | 1 | 1- Ingreso Directo (regular)                    |\n| 1384 | 671 | I111S12C439J2V1 | 2020 | 20 a 24 años  | 2018 | 1 | 2018 | 1 | 1- Ingreso Directo (regular)                    |\n| 1385 | 684 | I116S9C51J2V2   | 2020 | 20 a 24 años  | 2020 | 1 | 2020 | 1 | 1- Ingreso Directo (regular)                    |\n| 1386 | 733 | I31S4C286J1V1   | 2020 | 40 y más años | 2020 | 1 | 2020 | 1 | 1- Ingreso Directo (regular)                    |\n| 1387 | 739 | I143S21C113J2V2 | 2020 | 20 a 24 años  | 2017 | 1 | 2019 | 1 | 3- Cambio Interno                               |\n| 1388 | 807 | I23S2C1J1V1     | 2020 | 20 a 24 años  | 2018 | 1 | 2018 | 1 | 1- Ingreso Directo (regular)                    |\n| 1389 | 808 | I86S5C300J1V1   | 2020 | 20 a 24 años  | 2018 | 1 | 2018 | 1 | 1- Ingreso Directo (regular)                    |\n| 1390 | 832 | I10S4C31J1V1    | 2020 | 20 a 24 años  | 2016 | 1 | 2016 | 1 | 1- Ingreso Directo (regular)                    |\n| ⋮ | ⋮ | ⋮ | ⋮ | ⋮ | ⋮ | ⋮ | ⋮ | ⋮ | ⋮ |\n| 1220988 | 26233004 | I22S1C341J4V1   | 2020 | 35 a 39 años    | 2020 | 1 | 2020 | 1 | 6- Ingreso especial para estudiantes extranjeros |\n| 1220989 | 26233005 | I22S1C341J4V1   | 2020 | 30 a 34 años    | 2019 | 2 | 2019 | 2 | 6- Ingreso especial para estudiantes extranjeros |\n| 1220990 | 26233006 | I81S1C469J4V1   | 2020 | 40 y más años   | 2019 | 2 | 2019 | 2 | 6- Ingreso especial para estudiantes extranjeros |\n| 1220991 | 26233007 | I22S1C341J4V1   | 2020 | 25 a 29 años    | 2020 | 1 | 2020 | 1 | 6- Ingreso especial para estudiantes extranjeros |\n| 1220992 | 26233008 | I81S5C518J1V1   | 2020 | 40 y más años   | 2019 | 2 | 2019 | 2 | 6- Ingreso especial para estudiantes extranjeros |\n| 1220993 | 26233009 | I81S7C481J4V1   | 2020 | 25 a 29 años    | 2018 | 2 | 2018 | 2 | 6- Ingreso especial para estudiantes extranjeros |\n| 1220994 | 26233010 | I10S7C16J2V2    | 2020 | 20 a 24 años    | 2020 | 1 | 2020 | 1 | 6- Ingreso especial para estudiantes extranjeros |\n| 1220995 | 26233011 | I116S6C40J1V1   | 2020 | 15 a 19 años    | 2020 | 1 | 2020 | 1 | 6- Ingreso especial para estudiantes extranjeros |\n| 1220996 | 26233013 | I143S2C23J2V2   | 2020 | 25 a 29 años    | 2020 | 1 | 2020 | 1 | 6- Ingreso especial para estudiantes extranjeros |\n| 1220997 | 26233014 | I430S36C89J1V1  | 2020 | 15 a 19 años    | 2020 | 1 | 2020 | 1 | 6- Ingreso especial para estudiantes extranjeros |\n| 1220998 | 26233015 | I81S1C523J4V1   | 2020 | 40 y más años   | 2018 | 1 | 2018 | 1 | 6- Ingreso especial para estudiantes extranjeros |\n| 1220999 | 26233016 | I81S1C500J4V1   | 2020 | SIN INFORMACION | 2019 | 1 | 2019 | 1 | 6- Ingreso especial para estudiantes extranjeros |\n| 1221000 | 26233017 | I88S1C7J1V1     | 2020 | 25 a 29 años    | 2020 | 1 | 2020 | 1 | 6- Ingreso especial para estudiantes extranjeros |\n| 1221001 | 26233018 | I81S7C481J4V1   | 2020 | 25 a 29 años    | 2018 | 2 | 2018 | 2 | 6- Ingreso especial para estudiantes extranjeros |\n| 1221002 | 26233019 | I81S1C523J4V1   | 2020 | 30 a 34 años    | 2018 | 1 | 2018 | 1 | 6- Ingreso especial para estudiantes extranjeros |\n| 1221003 | 26233020 | I74S1C211J1V1   | 2020 | 25 a 29 años    | 2020 | 1 | 2020 | 1 | 6- Ingreso especial para estudiantes extranjeros |\n| 1221004 | 26233021 | I88S1C374J1V1   | 2020 | 20 a 24 años    | 2020 | 1 | 2020 | 1 | 6- Ingreso especial para estudiantes extranjeros |\n| 1221005 | 26233022 | I143S15C251J2V1 | 2020 | 15 a 19 años    | 2020 | 1 | 2020 | 1 | 6- Ingreso especial para estudiantes extranjeros |\n| 1221006 | 26233023 | I81S1C469J4V1   | 2020 | 25 a 29 años    | 2019 | 2 | 2019 | 2 | 6- Ingreso especial para estudiantes extranjeros |\n| 1221007 | 26233024 | I75S1C121J1V2   | 2020 | 25 a 29 años    | 2020 | 1 | 2020 | 1 | 6- Ingreso especial para estudiantes extranjeros |\n| 1221008 | 26233025 | I94S1C388J1V1   | 2020 | 40 y más años   | 2019 | 2 | 2019 | 2 | 6- Ingreso especial para estudiantes extranjeros |\n| 1221009 | 26233026 | I143S15C113J2V2 | 2020 | 20 a 24 años    | 2020 | 1 | 2020 | 1 | 6- Ingreso especial para estudiantes extranjeros |\n| 1221010 | 26233027 | I38S1C100J1V2   | 2020 | 30 a 34 años    | 2020 | 1 | 2020 | 1 | 6- Ingreso especial para estudiantes extranjeros |\n| 1221011 | 26233028 | I22S1C341J4V1   | 2020 | 40 y más años   | 2019 | 2 | 2019 | 2 | 6- Ingreso especial para estudiantes extranjeros |\n| 1221012 | 26233029 | I22S1C343J4V1   | 2020 | 35 a 39 años    | 2019 | 2 | 2019 | 2 | 6- Ingreso especial para estudiantes extranjeros |\n| 1221013 | 26233030 | I34S1C436J3V1   | 2020 | 30 a 34 años    | 2020 | 1 | 2020 | 1 | 6- Ingreso especial para estudiantes extranjeros |\n| 1221014 | 26233031 | I81S7C468J4V1   | 2020 | 40 y más años   | 2018 | 1 | 2018 | 1 | 6- Ingreso especial para estudiantes extranjeros |\n| 1221015 | 26233032 | I260S1C79J1V1   | 2020 | 15 a 19 años    | 2020 | 1 | 2020 | 1 | 6- Ingreso especial para estudiantes extranjeros |\n| 1221016 | 26233033 | I81S7C481J4V1   | 2020 | SIN INFORMACION | 2019 | 1 | 2019 | 1 | 6- Ingreso especial para estudiantes extranjeros |\n| 1221017 | 26233034 | I81S1C469J4V1   | 2020 | 25 a 29 años    | 2019 | 2 | 2019 | 2 | 6- Ingreso especial para estudiantes extranjeros |\n\n",
            "text/html": [
              "<table class=\"dataframe\">\n",
              "<caption>A data.frame: 1219655 × 9</caption>\n",
              "<thead>\n",
              "\t<tr><th></th><th scope=col>MRUN</th><th scope=col>codigo_unico</th><th scope=col>cat_periodo</th><th scope=col>rango_edad</th><th scope=col>anio_ing_carr_ori</th><th scope=col>sem_ing_carr_ori</th><th scope=col>anio_ing_carr_act</th><th scope=col>sem_ing_carr_act</th><th scope=col>forma_ingreso</th></tr>\n",
              "\t<tr><th></th><th scope=col>&lt;int&gt;</th><th scope=col>&lt;chr&gt;</th><th scope=col>&lt;int&gt;</th><th scope=col>&lt;chr&gt;</th><th scope=col>&lt;int&gt;</th><th scope=col>&lt;int&gt;</th><th scope=col>&lt;int&gt;</th><th scope=col>&lt;int&gt;</th><th scope=col>&lt;chr&gt;</th></tr>\n",
              "</thead>\n",
              "<tbody>\n",
              "\t<tr><th scope=row>1361</th><td> 19</td><td>I536S0C39J1V1  </td><td>2020</td><td>20 a 24 años </td><td>2019</td><td>1</td><td>2019</td><td>1</td><td>1- Ingreso Directo (regular)                   </td></tr>\n",
              "\t<tr><th scope=row>1362</th><td> 35</td><td>I31S2C41J1V1   </td><td>2020</td><td>20 a 24 años </td><td>2017</td><td>1</td><td>2017</td><td>1</td><td>1- Ingreso Directo (regular)                   </td></tr>\n",
              "\t<tr><th scope=row>1363</th><td> 43</td><td>I70S1C900J1V1  </td><td>2020</td><td>25 a 29 años </td><td>2020</td><td>1</td><td>2020</td><td>1</td><td>1- Ingreso Directo (regular)                   </td></tr>\n",
              "\t<tr><th scope=row>1364</th><td> 59</td><td>I81S5C72J2V1   </td><td>2020</td><td>20 a 24 años </td><td>2018</td><td>1</td><td>2018</td><td>1</td><td>1- Ingreso Directo (regular)                   </td></tr>\n",
              "\t<tr><th scope=row>1365</th><td>110</td><td>I71S1C46J1V1   </td><td>2020</td><td>25 a 29 años </td><td>2014</td><td>1</td><td>2017</td><td>1</td><td>2- Continuidad desde plan común o Bachillerato.</td></tr>\n",
              "\t<tr><th scope=row>1366</th><td>150</td><td>I69S1C5J1V1    </td><td>2020</td><td>20 a 24 años </td><td>2016</td><td>1</td><td>2016</td><td>1</td><td>1- Ingreso Directo (regular)                   </td></tr>\n",
              "\t<tr><th scope=row>1367</th><td>151</td><td>I13S6C160J1V1  </td><td>2020</td><td>20 a 24 años </td><td>2016</td><td>1</td><td>2016</td><td>1</td><td>1- Ingreso Directo (regular)                   </td></tr>\n",
              "\t<tr><th scope=row>1368</th><td>220</td><td>I86S5C76J1V1   </td><td>2020</td><td>30 a 34 años </td><td>2015</td><td>1</td><td>2015</td><td>1</td><td>1- Ingreso Directo (regular)                   </td></tr>\n",
              "\t<tr><th scope=row>1369</th><td>222</td><td>I312S1C82J4V2  </td><td>2020</td><td>35 a 39 años </td><td>2019</td><td>2</td><td>2019</td><td>2</td><td>1- Ingreso Directo (regular)                   </td></tr>\n",
              "\t<tr><th scope=row>1370</th><td>239</td><td>I3S1C46J1V1    </td><td>2020</td><td>20 a 24 años </td><td>1900</td><td>0</td><td>2017</td><td>1</td><td>4- Cambio Externo                              </td></tr>\n",
              "\t<tr><th scope=row>1371</th><td>252</td><td>I94S1C273J3V1  </td><td>2020</td><td>35 a 39 años </td><td>2018</td><td>1</td><td>2018</td><td>1</td><td>10- Otras formas de Ingreso                    </td></tr>\n",
              "\t<tr><th scope=row>1372</th><td>291</td><td>I143S23C609J1V1</td><td>2020</td><td>25 a 29 años </td><td>2018</td><td>1</td><td>2018</td><td>1</td><td>1- Ingreso Directo (regular)                   </td></tr>\n",
              "\t<tr><th scope=row>1373</th><td>337</td><td>I260S47C118J1V1</td><td>2020</td><td>30 a 34 años </td><td>2018</td><td>1</td><td>2018</td><td>1</td><td>1- Ingreso Directo (regular)                   </td></tr>\n",
              "\t<tr><th scope=row>1374</th><td>340</td><td>I111S16C48J2V1 </td><td>2020</td><td>30 a 34 años </td><td>2020</td><td>1</td><td>2020</td><td>1</td><td>1- Ingreso Directo (regular)                   </td></tr>\n",
              "\t<tr><th scope=row>1375</th><td>341</td><td>I116S17C4J1V1  </td><td>2020</td><td>30 a 34 años </td><td>2017</td><td>1</td><td>2017</td><td>1</td><td>1- Ingreso Directo (regular)                   </td></tr>\n",
              "\t<tr><th scope=row>1376</th><td>385</td><td>I13S17C44J1V1  </td><td>2020</td><td>20 a 24 años </td><td>2018</td><td>1</td><td>2018</td><td>1</td><td>1- Ingreso Directo (regular)                   </td></tr>\n",
              "\t<tr><th scope=row>1377</th><td>386</td><td>I100S32C274J1V1</td><td>2020</td><td>20 a 24 años </td><td>2018</td><td>1</td><td>2018</td><td>1</td><td>1- Ingreso Directo (regular)                   </td></tr>\n",
              "\t<tr><th scope=row>1378</th><td>391</td><td>I113S10C61J2V1 </td><td>2020</td><td>15 a 19 años </td><td>2019</td><td>1</td><td>2019</td><td>1</td><td>1- Ingreso Directo (regular)                   </td></tr>\n",
              "\t<tr><th scope=row>1379</th><td>393</td><td>I116S19C207J2V1</td><td>2020</td><td>25 a 29 años </td><td>2018</td><td>1</td><td>2020</td><td>1</td><td>11- Articulación de TNS a carrera profesional  </td></tr>\n",
              "\t<tr><th scope=row>1380</th><td>426</td><td>I113S7C61J1V1  </td><td>2020</td><td>20 a 24 años </td><td>2020</td><td>1</td><td>2020</td><td>1</td><td>1- Ingreso Directo (regular)                   </td></tr>\n",
              "\t<tr><th scope=row>1381</th><td>452</td><td>I111S12C32J1V1 </td><td>2020</td><td>20 a 24 años </td><td>2020</td><td>1</td><td>2020</td><td>1</td><td>1- Ingreso Directo (regular)                   </td></tr>\n",
              "\t<tr><th scope=row>1382</th><td>550</td><td>I76S1C95J1V1   </td><td>2020</td><td>25 a 29 años </td><td>2014</td><td>1</td><td>2014</td><td>1</td><td>1- Ingreso Directo (regular)                   </td></tr>\n",
              "\t<tr><th scope=row>1383</th><td>647</td><td>I80S1C18J1V2   </td><td>2020</td><td>20 a 24 años </td><td>2017</td><td>1</td><td>2017</td><td>1</td><td>1- Ingreso Directo (regular)                   </td></tr>\n",
              "\t<tr><th scope=row>1384</th><td>671</td><td>I111S12C439J2V1</td><td>2020</td><td>20 a 24 años </td><td>2018</td><td>1</td><td>2018</td><td>1</td><td>1- Ingreso Directo (regular)                   </td></tr>\n",
              "\t<tr><th scope=row>1385</th><td>684</td><td>I116S9C51J2V2  </td><td>2020</td><td>20 a 24 años </td><td>2020</td><td>1</td><td>2020</td><td>1</td><td>1- Ingreso Directo (regular)                   </td></tr>\n",
              "\t<tr><th scope=row>1386</th><td>733</td><td>I31S4C286J1V1  </td><td>2020</td><td>40 y más años</td><td>2020</td><td>1</td><td>2020</td><td>1</td><td>1- Ingreso Directo (regular)                   </td></tr>\n",
              "\t<tr><th scope=row>1387</th><td>739</td><td>I143S21C113J2V2</td><td>2020</td><td>20 a 24 años </td><td>2017</td><td>1</td><td>2019</td><td>1</td><td>3- Cambio Interno                              </td></tr>\n",
              "\t<tr><th scope=row>1388</th><td>807</td><td>I23S2C1J1V1    </td><td>2020</td><td>20 a 24 años </td><td>2018</td><td>1</td><td>2018</td><td>1</td><td>1- Ingreso Directo (regular)                   </td></tr>\n",
              "\t<tr><th scope=row>1389</th><td>808</td><td>I86S5C300J1V1  </td><td>2020</td><td>20 a 24 años </td><td>2018</td><td>1</td><td>2018</td><td>1</td><td>1- Ingreso Directo (regular)                   </td></tr>\n",
              "\t<tr><th scope=row>1390</th><td>832</td><td>I10S4C31J1V1   </td><td>2020</td><td>20 a 24 años </td><td>2016</td><td>1</td><td>2016</td><td>1</td><td>1- Ingreso Directo (regular)                   </td></tr>\n",
              "\t<tr><th scope=row>⋮</th><td>⋮</td><td>⋮</td><td>⋮</td><td>⋮</td><td>⋮</td><td>⋮</td><td>⋮</td><td>⋮</td><td>⋮</td></tr>\n",
              "\t<tr><th scope=row>1220988</th><td>26233004</td><td>I22S1C341J4V1  </td><td>2020</td><td>35 a 39 años   </td><td>2020</td><td>1</td><td>2020</td><td>1</td><td>6- Ingreso especial para estudiantes extranjeros</td></tr>\n",
              "\t<tr><th scope=row>1220989</th><td>26233005</td><td>I22S1C341J4V1  </td><td>2020</td><td>30 a 34 años   </td><td>2019</td><td>2</td><td>2019</td><td>2</td><td>6- Ingreso especial para estudiantes extranjeros</td></tr>\n",
              "\t<tr><th scope=row>1220990</th><td>26233006</td><td>I81S1C469J4V1  </td><td>2020</td><td>40 y más años  </td><td>2019</td><td>2</td><td>2019</td><td>2</td><td>6- Ingreso especial para estudiantes extranjeros</td></tr>\n",
              "\t<tr><th scope=row>1220991</th><td>26233007</td><td>I22S1C341J4V1  </td><td>2020</td><td>25 a 29 años   </td><td>2020</td><td>1</td><td>2020</td><td>1</td><td>6- Ingreso especial para estudiantes extranjeros</td></tr>\n",
              "\t<tr><th scope=row>1220992</th><td>26233008</td><td>I81S5C518J1V1  </td><td>2020</td><td>40 y más años  </td><td>2019</td><td>2</td><td>2019</td><td>2</td><td>6- Ingreso especial para estudiantes extranjeros</td></tr>\n",
              "\t<tr><th scope=row>1220993</th><td>26233009</td><td>I81S7C481J4V1  </td><td>2020</td><td>25 a 29 años   </td><td>2018</td><td>2</td><td>2018</td><td>2</td><td>6- Ingreso especial para estudiantes extranjeros</td></tr>\n",
              "\t<tr><th scope=row>1220994</th><td>26233010</td><td>I10S7C16J2V2   </td><td>2020</td><td>20 a 24 años   </td><td>2020</td><td>1</td><td>2020</td><td>1</td><td>6- Ingreso especial para estudiantes extranjeros</td></tr>\n",
              "\t<tr><th scope=row>1220995</th><td>26233011</td><td>I116S6C40J1V1  </td><td>2020</td><td>15 a 19 años   </td><td>2020</td><td>1</td><td>2020</td><td>1</td><td>6- Ingreso especial para estudiantes extranjeros</td></tr>\n",
              "\t<tr><th scope=row>1220996</th><td>26233013</td><td>I143S2C23J2V2  </td><td>2020</td><td>25 a 29 años   </td><td>2020</td><td>1</td><td>2020</td><td>1</td><td>6- Ingreso especial para estudiantes extranjeros</td></tr>\n",
              "\t<tr><th scope=row>1220997</th><td>26233014</td><td>I430S36C89J1V1 </td><td>2020</td><td>15 a 19 años   </td><td>2020</td><td>1</td><td>2020</td><td>1</td><td>6- Ingreso especial para estudiantes extranjeros</td></tr>\n",
              "\t<tr><th scope=row>1220998</th><td>26233015</td><td>I81S1C523J4V1  </td><td>2020</td><td>40 y más años  </td><td>2018</td><td>1</td><td>2018</td><td>1</td><td>6- Ingreso especial para estudiantes extranjeros</td></tr>\n",
              "\t<tr><th scope=row>1220999</th><td>26233016</td><td>I81S1C500J4V1  </td><td>2020</td><td>SIN INFORMACION</td><td>2019</td><td>1</td><td>2019</td><td>1</td><td>6- Ingreso especial para estudiantes extranjeros</td></tr>\n",
              "\t<tr><th scope=row>1221000</th><td>26233017</td><td>I88S1C7J1V1    </td><td>2020</td><td>25 a 29 años   </td><td>2020</td><td>1</td><td>2020</td><td>1</td><td>6- Ingreso especial para estudiantes extranjeros</td></tr>\n",
              "\t<tr><th scope=row>1221001</th><td>26233018</td><td>I81S7C481J4V1  </td><td>2020</td><td>25 a 29 años   </td><td>2018</td><td>2</td><td>2018</td><td>2</td><td>6- Ingreso especial para estudiantes extranjeros</td></tr>\n",
              "\t<tr><th scope=row>1221002</th><td>26233019</td><td>I81S1C523J4V1  </td><td>2020</td><td>30 a 34 años   </td><td>2018</td><td>1</td><td>2018</td><td>1</td><td>6- Ingreso especial para estudiantes extranjeros</td></tr>\n",
              "\t<tr><th scope=row>1221003</th><td>26233020</td><td>I74S1C211J1V1  </td><td>2020</td><td>25 a 29 años   </td><td>2020</td><td>1</td><td>2020</td><td>1</td><td>6- Ingreso especial para estudiantes extranjeros</td></tr>\n",
              "\t<tr><th scope=row>1221004</th><td>26233021</td><td>I88S1C374J1V1  </td><td>2020</td><td>20 a 24 años   </td><td>2020</td><td>1</td><td>2020</td><td>1</td><td>6- Ingreso especial para estudiantes extranjeros</td></tr>\n",
              "\t<tr><th scope=row>1221005</th><td>26233022</td><td>I143S15C251J2V1</td><td>2020</td><td>15 a 19 años   </td><td>2020</td><td>1</td><td>2020</td><td>1</td><td>6- Ingreso especial para estudiantes extranjeros</td></tr>\n",
              "\t<tr><th scope=row>1221006</th><td>26233023</td><td>I81S1C469J4V1  </td><td>2020</td><td>25 a 29 años   </td><td>2019</td><td>2</td><td>2019</td><td>2</td><td>6- Ingreso especial para estudiantes extranjeros</td></tr>\n",
              "\t<tr><th scope=row>1221007</th><td>26233024</td><td>I75S1C121J1V2  </td><td>2020</td><td>25 a 29 años   </td><td>2020</td><td>1</td><td>2020</td><td>1</td><td>6- Ingreso especial para estudiantes extranjeros</td></tr>\n",
              "\t<tr><th scope=row>1221008</th><td>26233025</td><td>I94S1C388J1V1  </td><td>2020</td><td>40 y más años  </td><td>2019</td><td>2</td><td>2019</td><td>2</td><td>6- Ingreso especial para estudiantes extranjeros</td></tr>\n",
              "\t<tr><th scope=row>1221009</th><td>26233026</td><td>I143S15C113J2V2</td><td>2020</td><td>20 a 24 años   </td><td>2020</td><td>1</td><td>2020</td><td>1</td><td>6- Ingreso especial para estudiantes extranjeros</td></tr>\n",
              "\t<tr><th scope=row>1221010</th><td>26233027</td><td>I38S1C100J1V2  </td><td>2020</td><td>30 a 34 años   </td><td>2020</td><td>1</td><td>2020</td><td>1</td><td>6- Ingreso especial para estudiantes extranjeros</td></tr>\n",
              "\t<tr><th scope=row>1221011</th><td>26233028</td><td>I22S1C341J4V1  </td><td>2020</td><td>40 y más años  </td><td>2019</td><td>2</td><td>2019</td><td>2</td><td>6- Ingreso especial para estudiantes extranjeros</td></tr>\n",
              "\t<tr><th scope=row>1221012</th><td>26233029</td><td>I22S1C343J4V1  </td><td>2020</td><td>35 a 39 años   </td><td>2019</td><td>2</td><td>2019</td><td>2</td><td>6- Ingreso especial para estudiantes extranjeros</td></tr>\n",
              "\t<tr><th scope=row>1221013</th><td>26233030</td><td>I34S1C436J3V1  </td><td>2020</td><td>30 a 34 años   </td><td>2020</td><td>1</td><td>2020</td><td>1</td><td>6- Ingreso especial para estudiantes extranjeros</td></tr>\n",
              "\t<tr><th scope=row>1221014</th><td>26233031</td><td>I81S7C468J4V1  </td><td>2020</td><td>40 y más años  </td><td>2018</td><td>1</td><td>2018</td><td>1</td><td>6- Ingreso especial para estudiantes extranjeros</td></tr>\n",
              "\t<tr><th scope=row>1221015</th><td>26233032</td><td>I260S1C79J1V1  </td><td>2020</td><td>15 a 19 años   </td><td>2020</td><td>1</td><td>2020</td><td>1</td><td>6- Ingreso especial para estudiantes extranjeros</td></tr>\n",
              "\t<tr><th scope=row>1221016</th><td>26233033</td><td>I81S7C481J4V1  </td><td>2020</td><td>SIN INFORMACION</td><td>2019</td><td>1</td><td>2019</td><td>1</td><td>6- Ingreso especial para estudiantes extranjeros</td></tr>\n",
              "\t<tr><th scope=row>1221017</th><td>26233034</td><td>I81S1C469J4V1  </td><td>2020</td><td>25 a 29 años   </td><td>2019</td><td>2</td><td>2019</td><td>2</td><td>6- Ingreso especial para estudiantes extranjeros</td></tr>\n",
              "</tbody>\n",
              "</table>\n"
            ]
          },
          "metadata": {
            "tags": []
          }
        }
      ]
    },
    {
      "cell_type": "markdown",
      "metadata": {
        "id": "0Camq_RpCItr"
      },
      "source": [
        "En primer lugar, generaremos una serie de consultas, para tratar de entender la tabla que tenemos"
      ]
    },
    {
      "cell_type": "code",
      "metadata": {
        "id": "4E-xFNJC2Ryy"
      },
      "source": [
        "conn <- dbConnect(RSQLite::SQLite(), \"mineduc.db\")"
      ],
      "execution_count": null,
      "outputs": []
    },
    {
      "cell_type": "code",
      "metadata": {
        "id": "PR4xvrj1Q3jW"
      },
      "source": [
        "dbWriteTable(conn , name = \"IES\", \n",
        "                  value = IES,\n",
        "                  row.names = FALSE, overwrite = TRUE )\n",
        "\n",
        "dbWriteTable(conn , name = \"alumnos\", \n",
        "                  value = alumnos,\n",
        "                  row.names = FALSE, overwrite = TRUE )\n",
        "dbWriteTable(conn , name = \"carrera\", \n",
        "                  value = carrera,\n",
        "                  row.names = FALSE, overwrite = TRUE)\n",
        "\n",
        "dbWriteTable(conn , name = \"estudia_en\", \n",
        "                  value = estudia_en,\n",
        "                  row.names = FALSE, overwrite = TRUE)\n",
        "dbWriteTable(conn , name = \"pertenece_a\", \n",
        "                  value = pertenece_a,\n",
        "                  row.names = FALSE, overwrite = TRUE)\n",
        "\n",
        "dbWriteTable(conn , name = \"cursa\", \n",
        "                  value = cursa,\n",
        "                  row.names = FALSE, overwrite = TRUE)\n"
      ],
      "execution_count": null,
      "outputs": []
    },
    {
      "cell_type": "code",
      "metadata": {
        "id": "ri6TBfg7CrAB",
        "colab": {
          "base_uri": "https://localhost:8080/",
          "height": 128
        },
        "outputId": "6db3c1c5-cf18-4417-dcb0-7f4738e2492d"
      },
      "source": [
        "# Encuentre el código de institución de la Pontificia Universidad Católica de Chile\n",
        "\n",
        "\n",
        "dbGetQuery(conn, '\n",
        "select \n",
        "cod_inst , nomb_inst\n",
        "from IES \n",
        "where nomb_inst == \"PONTIFICIA UNIVERSIDAD CATOLICA DE CHILE\";')\n"
      ],
      "execution_count": null,
      "outputs": [
        {
          "output_type": "display_data",
          "data": {
            "text/plain": [
              "  cod_inst nomb_inst                               \n",
              "1 86       PONTIFICIA UNIVERSIDAD CATOLICA DE CHILE"
            ],
            "text/latex": "A data.frame: 1 × 2\n\\begin{tabular}{ll}\n cod\\_inst & nomb\\_inst\\\\\n <int> & <chr>\\\\\n\\hline\n\t 86 & PONTIFICIA UNIVERSIDAD CATOLICA DE CHILE\\\\\n\\end{tabular}\n",
            "text/markdown": "\nA data.frame: 1 × 2\n\n| cod_inst &lt;int&gt; | nomb_inst &lt;chr&gt; |\n|---|---|\n| 86 | PONTIFICIA UNIVERSIDAD CATOLICA DE CHILE |\n\n",
            "text/html": [
              "<table class=\"dataframe\">\n",
              "<caption>A data.frame: 1 × 2</caption>\n",
              "<thead>\n",
              "\t<tr><th scope=col>cod_inst</th><th scope=col>nomb_inst</th></tr>\n",
              "\t<tr><th scope=col>&lt;int&gt;</th><th scope=col>&lt;chr&gt;</th></tr>\n",
              "</thead>\n",
              "<tbody>\n",
              "\t<tr><td>86</td><td>PONTIFICIA UNIVERSIDAD CATOLICA DE CHILE</td></tr>\n",
              "</tbody>\n",
              "</table>\n"
            ]
          },
          "metadata": {
            "tags": []
          }
        }
      ]
    },
    {
      "cell_type": "code",
      "metadata": {
        "colab": {
          "base_uri": "https://localhost:8080/",
          "height": 1000
        },
        "id": "3lyMHestHL5E",
        "outputId": "59f7579d-9022-4008-d51a-1c9e54aa3e9d"
      },
      "source": [
        "# Genere una lista con todas las carreras diferentes, y sus nombres, que pertenecen al área OCDE Educación\n",
        "dbGetQuery(conn, '\n",
        "select \n",
        "codigo_unico, nomb_carrera\n",
        "from carrera \n",
        "where oecd_area == \"Educación\";')\n"
      ],
      "execution_count": null,
      "outputs": [
        {
          "output_type": "display_data",
          "data": {
            "text/plain": [
              "     codigo_unico   \n",
              "1    I143S2C469J2V2 \n",
              "2    I155S2C65J1V1  \n",
              "3    I71S1C149J1V1  \n",
              "4    I80S1C18J1V2   \n",
              "5    I143S2C469J1V1 \n",
              "6    I155S2C7J2V1   \n",
              "7    I71S1C44J1V1   \n",
              "8    I70S1C442J1V1  \n",
              "9    I69S1C261J1V1  \n",
              "10   I116S39C196J1V1\n",
              "11   I155S2C65J2V1  \n",
              "12   I260S43C127J1V1\n",
              "13   I260S37C79J1V1 \n",
              "14   I69S1C337J1V1  \n",
              "15   I17S2C166J3V1  \n",
              "16   I20S1C47J4V1   \n",
              "17   I20S1C206J4V1  \n",
              "18   I70S1C756J2V1  \n",
              "19   I20S1C492J1V1  \n",
              "20   I81S7C468J4V1  \n",
              "21   I20S1C391J4V1  \n",
              "22   I17S2C164J3V1  \n",
              "23   I2S1C215J2V2   \n",
              "24   I70S1C620J1V1  \n",
              "25   I89S1C285J1V1  \n",
              "26   I86S5C469J2V1  \n",
              "27   I31S1C203J2V1  \n",
              "28   I86S5C472J2V1  \n",
              "29   I2S1C322J3V1   \n",
              "30   I4S1C611J2V2   \n",
              "⋮    ⋮              \n",
              "1742 I84S6C67J1V1   \n",
              "1743 I4S1C960J2V1   \n",
              "1744 I16S6C197J2V1  \n",
              "1745 I54S6C113J1V1  \n",
              "1746 I77S1C230J1V1  \n",
              "1747 I83S2C55J1V3   \n",
              "1748 I16S9C199J2V1  \n",
              "1749 I214S20C19J1V1 \n",
              "1750 I165S14C34J5V1 \n",
              "1751 I83S1C209J4V1  \n",
              "1752 I77S1C5J2V1    \n",
              "1753 I7S2C649J3V1   \n",
              "1754 I42S1C241J2V1  \n",
              "1755 I77S1C194J2V2  \n",
              "1756 I80S1C118J1V1  \n",
              "1757 I20S3C27J1V1   \n",
              "1758 I77S1C71J1V1   \n",
              "1759 I3S1C115J2V2   \n",
              "1760 I19S3C38J1V2   \n",
              "1761 I39S2C263J5V1  \n",
              "1762 I45S4C906J1V1  \n",
              "1763 I54S21C113J1V1 \n",
              "1764 I152S9C281J1V4 \n",
              "1765 I22S1C66J1V3   \n",
              "1766 I4S1C109J2V1   \n",
              "1767 I16S6C270J2V1  \n",
              "1768 I54S5C113J1V1  \n",
              "1769 I176S10C41J3V1 \n",
              "1770 I48S4C24J1V1   \n",
              "1771 I176S3C41J1V1  \n",
              "     nomb_carrera                                                                                                                      \n",
              "1    TECNICO ASISTENTE EN EDUCACION ESPECIAL                                                                                           \n",
              "2    TECNICO EN EDUCACION PARVULARIA                                                                                                   \n",
              "3    PEDAGOGIA EN HISTORIA Y CIENCIAS SOCIALES / LICENCIATURA EN EDUCACION EN HISTORIA Y CIENCIAS SOCIALES                             \n",
              "4    PROFESOR DE EDUCACION FISICA                                                                                                      \n",
              "5    TECNICO ASISTENTE EN EDUCACION ESPECIAL                                                                                           \n",
              "6    PSICOPEDAGOGIA                                                                                                                    \n",
              "7    PEDAGOGIA EN MATEMATICA Y COMPUTACION / LICENCIATURA EN EDUCACION EN MATEMATICA Y COMPUTACION                                     \n",
              "8    PEDAGOGIA EN EDUCACION MEDIA EN MATEMATICAS Y FISICA                                                                              \n",
              "9    PEDAGOGIA EN MATEMATICA                                                                                                           \n",
              "10   PSICOPEDAGOGIA                                                                                                                    \n",
              "11   TECNICO EN EDUCACION PARVULARIA                                                                                                   \n",
              "12   TECNICO EN EDUCACION PARVULARIA                                                                                                   \n",
              "13   TECNICO EN EDUCACION ESPECIAL                                                                                                     \n",
              "14   DOCTORADO EN EDUCACION                                                                                                            \n",
              "15   MAGISTER EN EDUCACION                                                                                                             \n",
              "16   MAGISTER EN DOCENCIA PARA LA EDUCACION SUPERIOR                                                                                   \n",
              "17   MAGISTER EN EDUCACION INICIAL MENCION EN DIDACTICA DE LAS MATEMATICAS Y EL LENGUAJE                                               \n",
              "18   MAGISTER EN EDUCACION CON MENCION EN INFORMATICA EDUCATIVA                                                                        \n",
              "19   DOCTORADO EN EDUCACION Y SOCIEDAD                                                                                                 \n",
              "20   MAGISTER EN EDUCACION SUPERIOR MENCION DOCENCIA UNIVERSITARIA VERSION INTERNACIONAL COLOMBIA                                      \n",
              "21   MAGISTER EN DESARROLLO CURRICULAR Y PROYECTOS EDUCATIVOS                                                                          \n",
              "22   DOCTORADO EN EDUCACION                                                                                                            \n",
              "23   MAGISTER EN NEUROCIENCIAS APLICADAS A LA EDUCACION                                                                                \n",
              "24   MAGISTER EN EDUCACION EN CIENCIAS DE LA SALUD                                                                                     \n",
              "25   DOCTORADO EN DIDACTICA DE LA MATEMATICA                                                                                           \n",
              "26   MAGISTER EN EDUCACION CON MENCION EN DIRECCION Y LIDERAZGO EDUCACIONAL                                                            \n",
              "27   MAGISTER EN ACTIVIDAD FISICA, SALUD Y CALIDAD DE VIDA                                                                             \n",
              "28   MAGISTER EN EDUCACION CON MENCION EN EVALUACION DE APRENDIZAJES                                                                   \n",
              "29   MAGISTER EN CREATIVIDAD E INNOVACION PEDAGOGICA                                                                                   \n",
              "30   MAGISTER EN EDUCACION INCLUSIVA                                                                                                   \n",
              "⋮    ⋮                                                                                                                                 \n",
              "1742 TECNICO UNIVERSITARIO EN EDUCACION PARVULARIA                                                                                     \n",
              "1743 TECNICO DE NIVEL SUPERIOR EN EDUCACION DIFERENCIAL                                                                                \n",
              "1744 PEDAGOGIA EN EDUCACION DIFERENCIAL MENCION TRASTORNOS DE AUDICION Y LENGUAJE - SEGUNDO TITULO                                     \n",
              "1745 PSICOPEDAGOGIA                                                                                                                    \n",
              "1746 PEDAGOGIA EN BIOLOGIA Y QUIMICA PARA ENSEÑANZA MEDIA                                                                              \n",
              "1747 PEDAGOGIA EN HISTORIA Y GEOGRAFIA                                                                                                 \n",
              "1748 PEDAGOGIA EN EDUCACION GENERAL BASICA MENCION TRASTORNOS DEL APRENDIZAJE                                                          \n",
              "1749 TECNICO EN EDUCACION DE PARVULOS                                                                                                  \n",
              "1750 PSICOPEDAGOGIA                                                                                                                    \n",
              "1751 MAGISTER EN EDUCACION AMBIENTAL (A/D)                                                                                             \n",
              "1752 PEDAGOGIA EN EDUCACION PARVULARIA                                                                                                 \n",
              "1753 TECNICO DE NIVEL SUPERIOR EN EDUCACION DIFERENCIAL                                                                                \n",
              "1754 POSTITULO EN PSICOPEDAGOGIA E INCLUSION                                                                                           \n",
              "1755 TECNICO DE NIVEL SUPERIOR EN EDUCACION PARVULARIA                                                                                 \n",
              "1756 PEDAGOGIA EN EDUCACION BASICA                                                                                                     \n",
              "1757 EDUCACION PARVULARIA                                                                                                              \n",
              "1758 PEDAGOGIA EN BIOLOGIA Y CIENCIAS NATURALES PARA ENSEÑANZA MEDIA                                                                   \n",
              "1759 POSTITULO EN EDUCACION MENCION HISTORIA, GEOGRAFIA Y CIENCIAS SOCIALES                                                            \n",
              "1760 PEDAGOGIA EN EDUCACION FISICA                                                                                                     \n",
              "1761 POSTITULO DE ESPECIALIZACION EN FISICA PARA EDUCACION MEDIA                                                                       \n",
              "1762 DIPLOMADO EN DESARROLLO DEL PENSAMIENTO E INTERACCIONES DE CALIDAD A TRAVES DE LAS BASES CURRICULARES PARA LA EDUCACION PARVULARIA\n",
              "1763 PSICOPEDAGOGIA                                                                                                                    \n",
              "1764 TECNICO EN EDUCACION PARVULARIA                                                                                                   \n",
              "1765 PEDAGOGIA EN ARTES VISUALES                                                                                                       \n",
              "1766 POSTITULO EN DOCENCIA, CALIDAD EDUCATIVA E INVESTIGACION UNIVERSITARIA                                                            \n",
              "1767 PEDAGOGIA EN EDUCACION PARVULARIA - CONTINUIDAD TNS                                                                               \n",
              "1768 PSICOPEDAGOGIA                                                                                                                    \n",
              "1769 TECNICO DE NIVEL SUPERIOR EN EDUCACION PARVULARIA                                                                                 \n",
              "1770 PEDAGOGIA EN EDUCACION DIFERENCIAL                                                                                                \n",
              "1771 TECNICO DE NIVEL SUPERIOR EN EDUCACION PARVULARIA                                                                                 "
            ],
            "text/latex": "A data.frame: 1771 × 2\n\\begin{tabular}{ll}\n codigo\\_unico & nomb\\_carrera\\\\\n <chr> & <chr>\\\\\n\\hline\n\t I143S2C469J2V2  & TECNICO ASISTENTE EN EDUCACION ESPECIAL                                                              \\\\\n\t I155S2C65J1V1   & TECNICO EN EDUCACION PARVULARIA                                                                      \\\\\n\t I71S1C149J1V1   & PEDAGOGIA EN HISTORIA Y CIENCIAS SOCIALES / LICENCIATURA EN EDUCACION EN HISTORIA Y CIENCIAS SOCIALES\\\\\n\t I80S1C18J1V2    & PROFESOR DE EDUCACION FISICA                                                                         \\\\\n\t I143S2C469J1V1  & TECNICO ASISTENTE EN EDUCACION ESPECIAL                                                              \\\\\n\t I155S2C7J2V1    & PSICOPEDAGOGIA                                                                                       \\\\\n\t I71S1C44J1V1    & PEDAGOGIA EN MATEMATICA Y COMPUTACION / LICENCIATURA EN EDUCACION EN MATEMATICA Y COMPUTACION        \\\\\n\t I70S1C442J1V1   & PEDAGOGIA EN EDUCACION MEDIA EN MATEMATICAS Y FISICA                                                 \\\\\n\t I69S1C261J1V1   & PEDAGOGIA EN MATEMATICA                                                                              \\\\\n\t I116S39C196J1V1 & PSICOPEDAGOGIA                                                                                       \\\\\n\t I155S2C65J2V1   & TECNICO EN EDUCACION PARVULARIA                                                                      \\\\\n\t I260S43C127J1V1 & TECNICO EN EDUCACION PARVULARIA                                                                      \\\\\n\t I260S37C79J1V1  & TECNICO EN EDUCACION ESPECIAL                                                                        \\\\\n\t I69S1C337J1V1   & DOCTORADO EN EDUCACION                                                                               \\\\\n\t I17S2C166J3V1   & MAGISTER EN EDUCACION                                                                                \\\\\n\t I20S1C47J4V1    & MAGISTER EN DOCENCIA PARA LA EDUCACION SUPERIOR                                                      \\\\\n\t I20S1C206J4V1   & MAGISTER EN EDUCACION INICIAL MENCION EN DIDACTICA DE LAS MATEMATICAS Y EL LENGUAJE                  \\\\\n\t I70S1C756J2V1   & MAGISTER EN EDUCACION CON MENCION EN INFORMATICA EDUCATIVA                                           \\\\\n\t I20S1C492J1V1   & DOCTORADO EN EDUCACION Y SOCIEDAD                                                                    \\\\\n\t I81S7C468J4V1   & MAGISTER EN EDUCACION SUPERIOR MENCION DOCENCIA UNIVERSITARIA VERSION INTERNACIONAL COLOMBIA         \\\\\n\t I20S1C391J4V1   & MAGISTER EN DESARROLLO CURRICULAR Y PROYECTOS EDUCATIVOS                                             \\\\\n\t I17S2C164J3V1   & DOCTORADO EN EDUCACION                                                                               \\\\\n\t I2S1C215J2V2    & MAGISTER EN NEUROCIENCIAS APLICADAS A LA EDUCACION                                                   \\\\\n\t I70S1C620J1V1   & MAGISTER EN EDUCACION EN CIENCIAS DE LA SALUD                                                        \\\\\n\t I89S1C285J1V1   & DOCTORADO EN DIDACTICA DE LA MATEMATICA                                                              \\\\\n\t I86S5C469J2V1   & MAGISTER EN EDUCACION CON MENCION EN DIRECCION Y LIDERAZGO EDUCACIONAL                               \\\\\n\t I31S1C203J2V1   & MAGISTER EN ACTIVIDAD FISICA, SALUD Y CALIDAD DE VIDA                                                \\\\\n\t I86S5C472J2V1   & MAGISTER EN EDUCACION CON MENCION EN EVALUACION DE APRENDIZAJES                                      \\\\\n\t I2S1C322J3V1    & MAGISTER EN CREATIVIDAD E INNOVACION PEDAGOGICA                                                      \\\\\n\t I4S1C611J2V2    & MAGISTER EN EDUCACION INCLUSIVA                                                                      \\\\\n\t ⋮ & ⋮\\\\\n\t I84S6C67J1V1   & TECNICO UNIVERSITARIO EN EDUCACION PARVULARIA                                                                                     \\\\\n\t I4S1C960J2V1   & TECNICO DE NIVEL SUPERIOR EN EDUCACION DIFERENCIAL                                                                                \\\\\n\t I16S6C197J2V1  & PEDAGOGIA EN EDUCACION DIFERENCIAL MENCION TRASTORNOS DE AUDICION Y LENGUAJE - SEGUNDO TITULO                                     \\\\\n\t I54S6C113J1V1  & PSICOPEDAGOGIA                                                                                                                    \\\\\n\t I77S1C230J1V1  & PEDAGOGIA EN BIOLOGIA Y QUIMICA PARA ENSEÑANZA MEDIA                                                                              \\\\\n\t I83S2C55J1V3   & PEDAGOGIA EN HISTORIA Y GEOGRAFIA                                                                                                 \\\\\n\t I16S9C199J2V1  & PEDAGOGIA EN EDUCACION GENERAL BASICA MENCION TRASTORNOS DEL APRENDIZAJE                                                          \\\\\n\t I214S20C19J1V1 & TECNICO EN EDUCACION DE PARVULOS                                                                                                  \\\\\n\t I165S14C34J5V1 & PSICOPEDAGOGIA                                                                                                                    \\\\\n\t I83S1C209J4V1  & MAGISTER EN EDUCACION AMBIENTAL (A/D)                                                                                             \\\\\n\t I77S1C5J2V1    & PEDAGOGIA EN EDUCACION PARVULARIA                                                                                                 \\\\\n\t I7S2C649J3V1   & TECNICO DE NIVEL SUPERIOR EN EDUCACION DIFERENCIAL                                                                                \\\\\n\t I42S1C241J2V1  & POSTITULO EN PSICOPEDAGOGIA E INCLUSION                                                                                           \\\\\n\t I77S1C194J2V2  & TECNICO DE NIVEL SUPERIOR EN EDUCACION PARVULARIA                                                                                 \\\\\n\t I80S1C118J1V1  & PEDAGOGIA EN EDUCACION BASICA                                                                                                     \\\\\n\t I20S3C27J1V1   & EDUCACION PARVULARIA                                                                                                              \\\\\n\t I77S1C71J1V1   & PEDAGOGIA EN BIOLOGIA Y CIENCIAS NATURALES PARA ENSEÑANZA MEDIA                                                                   \\\\\n\t I3S1C115J2V2   & POSTITULO EN EDUCACION MENCION HISTORIA, GEOGRAFIA Y CIENCIAS SOCIALES                                                            \\\\\n\t I19S3C38J1V2   & PEDAGOGIA EN EDUCACION FISICA                                                                                                     \\\\\n\t I39S2C263J5V1  & POSTITULO DE ESPECIALIZACION EN FISICA PARA EDUCACION MEDIA                                                                       \\\\\n\t I45S4C906J1V1  & DIPLOMADO EN DESARROLLO DEL PENSAMIENTO E INTERACCIONES DE CALIDAD A TRAVES DE LAS BASES CURRICULARES PARA LA EDUCACION PARVULARIA\\\\\n\t I54S21C113J1V1 & PSICOPEDAGOGIA                                                                                                                    \\\\\n\t I152S9C281J1V4 & TECNICO EN EDUCACION PARVULARIA                                                                                                   \\\\\n\t I22S1C66J1V3   & PEDAGOGIA EN ARTES VISUALES                                                                                                       \\\\\n\t I4S1C109J2V1   & POSTITULO EN DOCENCIA, CALIDAD EDUCATIVA E INVESTIGACION UNIVERSITARIA                                                            \\\\\n\t I16S6C270J2V1  & PEDAGOGIA EN EDUCACION PARVULARIA - CONTINUIDAD TNS                                                                               \\\\\n\t I54S5C113J1V1  & PSICOPEDAGOGIA                                                                                                                    \\\\\n\t I176S10C41J3V1 & TECNICO DE NIVEL SUPERIOR EN EDUCACION PARVULARIA                                                                                 \\\\\n\t I48S4C24J1V1   & PEDAGOGIA EN EDUCACION DIFERENCIAL                                                                                                \\\\\n\t I176S3C41J1V1  & TECNICO DE NIVEL SUPERIOR EN EDUCACION PARVULARIA                                                                                 \\\\\n\\end{tabular}\n",
            "text/markdown": "\nA data.frame: 1771 × 2\n\n| codigo_unico &lt;chr&gt; | nomb_carrera &lt;chr&gt; |\n|---|---|\n| I143S2C469J2V2  | TECNICO ASISTENTE EN EDUCACION ESPECIAL                                                               |\n| I155S2C65J1V1   | TECNICO EN EDUCACION PARVULARIA                                                                       |\n| I71S1C149J1V1   | PEDAGOGIA EN HISTORIA Y CIENCIAS SOCIALES / LICENCIATURA EN EDUCACION EN HISTORIA Y CIENCIAS SOCIALES |\n| I80S1C18J1V2    | PROFESOR DE EDUCACION FISICA                                                                          |\n| I143S2C469J1V1  | TECNICO ASISTENTE EN EDUCACION ESPECIAL                                                               |\n| I155S2C7J2V1    | PSICOPEDAGOGIA                                                                                        |\n| I71S1C44J1V1    | PEDAGOGIA EN MATEMATICA Y COMPUTACION / LICENCIATURA EN EDUCACION EN MATEMATICA Y COMPUTACION         |\n| I70S1C442J1V1   | PEDAGOGIA EN EDUCACION MEDIA EN MATEMATICAS Y FISICA                                                  |\n| I69S1C261J1V1   | PEDAGOGIA EN MATEMATICA                                                                               |\n| I116S39C196J1V1 | PSICOPEDAGOGIA                                                                                        |\n| I155S2C65J2V1   | TECNICO EN EDUCACION PARVULARIA                                                                       |\n| I260S43C127J1V1 | TECNICO EN EDUCACION PARVULARIA                                                                       |\n| I260S37C79J1V1  | TECNICO EN EDUCACION ESPECIAL                                                                         |\n| I69S1C337J1V1   | DOCTORADO EN EDUCACION                                                                                |\n| I17S2C166J3V1   | MAGISTER EN EDUCACION                                                                                 |\n| I20S1C47J4V1    | MAGISTER EN DOCENCIA PARA LA EDUCACION SUPERIOR                                                       |\n| I20S1C206J4V1   | MAGISTER EN EDUCACION INICIAL MENCION EN DIDACTICA DE LAS MATEMATICAS Y EL LENGUAJE                   |\n| I70S1C756J2V1   | MAGISTER EN EDUCACION CON MENCION EN INFORMATICA EDUCATIVA                                            |\n| I20S1C492J1V1   | DOCTORADO EN EDUCACION Y SOCIEDAD                                                                     |\n| I81S7C468J4V1   | MAGISTER EN EDUCACION SUPERIOR MENCION DOCENCIA UNIVERSITARIA VERSION INTERNACIONAL COLOMBIA          |\n| I20S1C391J4V1   | MAGISTER EN DESARROLLO CURRICULAR Y PROYECTOS EDUCATIVOS                                              |\n| I17S2C164J3V1   | DOCTORADO EN EDUCACION                                                                                |\n| I2S1C215J2V2    | MAGISTER EN NEUROCIENCIAS APLICADAS A LA EDUCACION                                                    |\n| I70S1C620J1V1   | MAGISTER EN EDUCACION EN CIENCIAS DE LA SALUD                                                         |\n| I89S1C285J1V1   | DOCTORADO EN DIDACTICA DE LA MATEMATICA                                                               |\n| I86S5C469J2V1   | MAGISTER EN EDUCACION CON MENCION EN DIRECCION Y LIDERAZGO EDUCACIONAL                                |\n| I31S1C203J2V1   | MAGISTER EN ACTIVIDAD FISICA, SALUD Y CALIDAD DE VIDA                                                 |\n| I86S5C472J2V1   | MAGISTER EN EDUCACION CON MENCION EN EVALUACION DE APRENDIZAJES                                       |\n| I2S1C322J3V1    | MAGISTER EN CREATIVIDAD E INNOVACION PEDAGOGICA                                                       |\n| I4S1C611J2V2    | MAGISTER EN EDUCACION INCLUSIVA                                                                       |\n| ⋮ | ⋮ |\n| I84S6C67J1V1   | TECNICO UNIVERSITARIO EN EDUCACION PARVULARIA                                                                                      |\n| I4S1C960J2V1   | TECNICO DE NIVEL SUPERIOR EN EDUCACION DIFERENCIAL                                                                                 |\n| I16S6C197J2V1  | PEDAGOGIA EN EDUCACION DIFERENCIAL MENCION TRASTORNOS DE AUDICION Y LENGUAJE - SEGUNDO TITULO                                      |\n| I54S6C113J1V1  | PSICOPEDAGOGIA                                                                                                                     |\n| I77S1C230J1V1  | PEDAGOGIA EN BIOLOGIA Y QUIMICA PARA ENSEÑANZA MEDIA                                                                               |\n| I83S2C55J1V3   | PEDAGOGIA EN HISTORIA Y GEOGRAFIA                                                                                                  |\n| I16S9C199J2V1  | PEDAGOGIA EN EDUCACION GENERAL BASICA MENCION TRASTORNOS DEL APRENDIZAJE                                                           |\n| I214S20C19J1V1 | TECNICO EN EDUCACION DE PARVULOS                                                                                                   |\n| I165S14C34J5V1 | PSICOPEDAGOGIA                                                                                                                     |\n| I83S1C209J4V1  | MAGISTER EN EDUCACION AMBIENTAL (A/D)                                                                                              |\n| I77S1C5J2V1    | PEDAGOGIA EN EDUCACION PARVULARIA                                                                                                  |\n| I7S2C649J3V1   | TECNICO DE NIVEL SUPERIOR EN EDUCACION DIFERENCIAL                                                                                 |\n| I42S1C241J2V1  | POSTITULO EN PSICOPEDAGOGIA E INCLUSION                                                                                            |\n| I77S1C194J2V2  | TECNICO DE NIVEL SUPERIOR EN EDUCACION PARVULARIA                                                                                  |\n| I80S1C118J1V1  | PEDAGOGIA EN EDUCACION BASICA                                                                                                      |\n| I20S3C27J1V1   | EDUCACION PARVULARIA                                                                                                               |\n| I77S1C71J1V1   | PEDAGOGIA EN BIOLOGIA Y CIENCIAS NATURALES PARA ENSEÑANZA MEDIA                                                                    |\n| I3S1C115J2V2   | POSTITULO EN EDUCACION MENCION HISTORIA, GEOGRAFIA Y CIENCIAS SOCIALES                                                             |\n| I19S3C38J1V2   | PEDAGOGIA EN EDUCACION FISICA                                                                                                      |\n| I39S2C263J5V1  | POSTITULO DE ESPECIALIZACION EN FISICA PARA EDUCACION MEDIA                                                                        |\n| I45S4C906J1V1  | DIPLOMADO EN DESARROLLO DEL PENSAMIENTO E INTERACCIONES DE CALIDAD A TRAVES DE LAS BASES CURRICULARES PARA LA EDUCACION PARVULARIA |\n| I54S21C113J1V1 | PSICOPEDAGOGIA                                                                                                                     |\n| I152S9C281J1V4 | TECNICO EN EDUCACION PARVULARIA                                                                                                    |\n| I22S1C66J1V3   | PEDAGOGIA EN ARTES VISUALES                                                                                                        |\n| I4S1C109J2V1   | POSTITULO EN DOCENCIA, CALIDAD EDUCATIVA E INVESTIGACION UNIVERSITARIA                                                             |\n| I16S6C270J2V1  | PEDAGOGIA EN EDUCACION PARVULARIA - CONTINUIDAD TNS                                                                                |\n| I54S5C113J1V1  | PSICOPEDAGOGIA                                                                                                                     |\n| I176S10C41J3V1 | TECNICO DE NIVEL SUPERIOR EN EDUCACION PARVULARIA                                                                                  |\n| I48S4C24J1V1   | PEDAGOGIA EN EDUCACION DIFERENCIAL                                                                                                 |\n| I176S3C41J1V1  | TECNICO DE NIVEL SUPERIOR EN EDUCACION PARVULARIA                                                                                  |\n\n",
            "text/html": [
              "<table class=\"dataframe\">\n",
              "<caption>A data.frame: 1771 × 2</caption>\n",
              "<thead>\n",
              "\t<tr><th scope=col>codigo_unico</th><th scope=col>nomb_carrera</th></tr>\n",
              "\t<tr><th scope=col>&lt;chr&gt;</th><th scope=col>&lt;chr&gt;</th></tr>\n",
              "</thead>\n",
              "<tbody>\n",
              "\t<tr><td>I143S2C469J2V2 </td><td>TECNICO ASISTENTE EN EDUCACION ESPECIAL                                                              </td></tr>\n",
              "\t<tr><td>I155S2C65J1V1  </td><td>TECNICO EN EDUCACION PARVULARIA                                                                      </td></tr>\n",
              "\t<tr><td>I71S1C149J1V1  </td><td>PEDAGOGIA EN HISTORIA Y CIENCIAS SOCIALES / LICENCIATURA EN EDUCACION EN HISTORIA Y CIENCIAS SOCIALES</td></tr>\n",
              "\t<tr><td>I80S1C18J1V2   </td><td>PROFESOR DE EDUCACION FISICA                                                                         </td></tr>\n",
              "\t<tr><td>I143S2C469J1V1 </td><td>TECNICO ASISTENTE EN EDUCACION ESPECIAL                                                              </td></tr>\n",
              "\t<tr><td>I155S2C7J2V1   </td><td>PSICOPEDAGOGIA                                                                                       </td></tr>\n",
              "\t<tr><td>I71S1C44J1V1   </td><td>PEDAGOGIA EN MATEMATICA Y COMPUTACION / LICENCIATURA EN EDUCACION EN MATEMATICA Y COMPUTACION        </td></tr>\n",
              "\t<tr><td>I70S1C442J1V1  </td><td>PEDAGOGIA EN EDUCACION MEDIA EN MATEMATICAS Y FISICA                                                 </td></tr>\n",
              "\t<tr><td>I69S1C261J1V1  </td><td>PEDAGOGIA EN MATEMATICA                                                                              </td></tr>\n",
              "\t<tr><td>I116S39C196J1V1</td><td>PSICOPEDAGOGIA                                                                                       </td></tr>\n",
              "\t<tr><td>I155S2C65J2V1  </td><td>TECNICO EN EDUCACION PARVULARIA                                                                      </td></tr>\n",
              "\t<tr><td>I260S43C127J1V1</td><td>TECNICO EN EDUCACION PARVULARIA                                                                      </td></tr>\n",
              "\t<tr><td>I260S37C79J1V1 </td><td>TECNICO EN EDUCACION ESPECIAL                                                                        </td></tr>\n",
              "\t<tr><td>I69S1C337J1V1  </td><td>DOCTORADO EN EDUCACION                                                                               </td></tr>\n",
              "\t<tr><td>I17S2C166J3V1  </td><td>MAGISTER EN EDUCACION                                                                                </td></tr>\n",
              "\t<tr><td>I20S1C47J4V1   </td><td>MAGISTER EN DOCENCIA PARA LA EDUCACION SUPERIOR                                                      </td></tr>\n",
              "\t<tr><td>I20S1C206J4V1  </td><td>MAGISTER EN EDUCACION INICIAL MENCION EN DIDACTICA DE LAS MATEMATICAS Y EL LENGUAJE                  </td></tr>\n",
              "\t<tr><td>I70S1C756J2V1  </td><td>MAGISTER EN EDUCACION CON MENCION EN INFORMATICA EDUCATIVA                                           </td></tr>\n",
              "\t<tr><td>I20S1C492J1V1  </td><td>DOCTORADO EN EDUCACION Y SOCIEDAD                                                                    </td></tr>\n",
              "\t<tr><td>I81S7C468J4V1  </td><td>MAGISTER EN EDUCACION SUPERIOR MENCION DOCENCIA UNIVERSITARIA VERSION INTERNACIONAL COLOMBIA         </td></tr>\n",
              "\t<tr><td>I20S1C391J4V1  </td><td>MAGISTER EN DESARROLLO CURRICULAR Y PROYECTOS EDUCATIVOS                                             </td></tr>\n",
              "\t<tr><td>I17S2C164J3V1  </td><td>DOCTORADO EN EDUCACION                                                                               </td></tr>\n",
              "\t<tr><td>I2S1C215J2V2   </td><td>MAGISTER EN NEUROCIENCIAS APLICADAS A LA EDUCACION                                                   </td></tr>\n",
              "\t<tr><td>I70S1C620J1V1  </td><td>MAGISTER EN EDUCACION EN CIENCIAS DE LA SALUD                                                        </td></tr>\n",
              "\t<tr><td>I89S1C285J1V1  </td><td>DOCTORADO EN DIDACTICA DE LA MATEMATICA                                                              </td></tr>\n",
              "\t<tr><td>I86S5C469J2V1  </td><td>MAGISTER EN EDUCACION CON MENCION EN DIRECCION Y LIDERAZGO EDUCACIONAL                               </td></tr>\n",
              "\t<tr><td>I31S1C203J2V1  </td><td>MAGISTER EN ACTIVIDAD FISICA, SALUD Y CALIDAD DE VIDA                                                </td></tr>\n",
              "\t<tr><td>I86S5C472J2V1  </td><td>MAGISTER EN EDUCACION CON MENCION EN EVALUACION DE APRENDIZAJES                                      </td></tr>\n",
              "\t<tr><td>I2S1C322J3V1   </td><td>MAGISTER EN CREATIVIDAD E INNOVACION PEDAGOGICA                                                      </td></tr>\n",
              "\t<tr><td>I4S1C611J2V2   </td><td>MAGISTER EN EDUCACION INCLUSIVA                                                                      </td></tr>\n",
              "\t<tr><td>⋮</td><td>⋮</td></tr>\n",
              "\t<tr><td>I84S6C67J1V1  </td><td>TECNICO UNIVERSITARIO EN EDUCACION PARVULARIA                                                                                     </td></tr>\n",
              "\t<tr><td>I4S1C960J2V1  </td><td>TECNICO DE NIVEL SUPERIOR EN EDUCACION DIFERENCIAL                                                                                </td></tr>\n",
              "\t<tr><td>I16S6C197J2V1 </td><td>PEDAGOGIA EN EDUCACION DIFERENCIAL MENCION TRASTORNOS DE AUDICION Y LENGUAJE - SEGUNDO TITULO                                     </td></tr>\n",
              "\t<tr><td>I54S6C113J1V1 </td><td>PSICOPEDAGOGIA                                                                                                                    </td></tr>\n",
              "\t<tr><td>I77S1C230J1V1 </td><td>PEDAGOGIA EN BIOLOGIA Y QUIMICA PARA ENSEÑANZA MEDIA                                                                              </td></tr>\n",
              "\t<tr><td>I83S2C55J1V3  </td><td>PEDAGOGIA EN HISTORIA Y GEOGRAFIA                                                                                                 </td></tr>\n",
              "\t<tr><td>I16S9C199J2V1 </td><td>PEDAGOGIA EN EDUCACION GENERAL BASICA MENCION TRASTORNOS DEL APRENDIZAJE                                                          </td></tr>\n",
              "\t<tr><td>I214S20C19J1V1</td><td>TECNICO EN EDUCACION DE PARVULOS                                                                                                  </td></tr>\n",
              "\t<tr><td>I165S14C34J5V1</td><td>PSICOPEDAGOGIA                                                                                                                    </td></tr>\n",
              "\t<tr><td>I83S1C209J4V1 </td><td>MAGISTER EN EDUCACION AMBIENTAL (A/D)                                                                                             </td></tr>\n",
              "\t<tr><td>I77S1C5J2V1   </td><td>PEDAGOGIA EN EDUCACION PARVULARIA                                                                                                 </td></tr>\n",
              "\t<tr><td>I7S2C649J3V1  </td><td>TECNICO DE NIVEL SUPERIOR EN EDUCACION DIFERENCIAL                                                                                </td></tr>\n",
              "\t<tr><td>I42S1C241J2V1 </td><td>POSTITULO EN PSICOPEDAGOGIA E INCLUSION                                                                                           </td></tr>\n",
              "\t<tr><td>I77S1C194J2V2 </td><td>TECNICO DE NIVEL SUPERIOR EN EDUCACION PARVULARIA                                                                                 </td></tr>\n",
              "\t<tr><td>I80S1C118J1V1 </td><td>PEDAGOGIA EN EDUCACION BASICA                                                                                                     </td></tr>\n",
              "\t<tr><td>I20S3C27J1V1  </td><td>EDUCACION PARVULARIA                                                                                                              </td></tr>\n",
              "\t<tr><td>I77S1C71J1V1  </td><td>PEDAGOGIA EN BIOLOGIA Y CIENCIAS NATURALES PARA ENSEÑANZA MEDIA                                                                   </td></tr>\n",
              "\t<tr><td>I3S1C115J2V2  </td><td>POSTITULO EN EDUCACION MENCION HISTORIA, GEOGRAFIA Y CIENCIAS SOCIALES                                                            </td></tr>\n",
              "\t<tr><td>I19S3C38J1V2  </td><td>PEDAGOGIA EN EDUCACION FISICA                                                                                                     </td></tr>\n",
              "\t<tr><td>I39S2C263J5V1 </td><td>POSTITULO DE ESPECIALIZACION EN FISICA PARA EDUCACION MEDIA                                                                       </td></tr>\n",
              "\t<tr><td>I45S4C906J1V1 </td><td>DIPLOMADO EN DESARROLLO DEL PENSAMIENTO E INTERACCIONES DE CALIDAD A TRAVES DE LAS BASES CURRICULARES PARA LA EDUCACION PARVULARIA</td></tr>\n",
              "\t<tr><td>I54S21C113J1V1</td><td>PSICOPEDAGOGIA                                                                                                                    </td></tr>\n",
              "\t<tr><td>I152S9C281J1V4</td><td>TECNICO EN EDUCACION PARVULARIA                                                                                                   </td></tr>\n",
              "\t<tr><td>I22S1C66J1V3  </td><td>PEDAGOGIA EN ARTES VISUALES                                                                                                       </td></tr>\n",
              "\t<tr><td>I4S1C109J2V1  </td><td>POSTITULO EN DOCENCIA, CALIDAD EDUCATIVA E INVESTIGACION UNIVERSITARIA                                                            </td></tr>\n",
              "\t<tr><td>I16S6C270J2V1 </td><td>PEDAGOGIA EN EDUCACION PARVULARIA - CONTINUIDAD TNS                                                                               </td></tr>\n",
              "\t<tr><td>I54S5C113J1V1 </td><td>PSICOPEDAGOGIA                                                                                                                    </td></tr>\n",
              "\t<tr><td>I176S10C41J3V1</td><td>TECNICO DE NIVEL SUPERIOR EN EDUCACION PARVULARIA                                                                                 </td></tr>\n",
              "\t<tr><td>I48S4C24J1V1  </td><td>PEDAGOGIA EN EDUCACION DIFERENCIAL                                                                                                </td></tr>\n",
              "\t<tr><td>I176S3C41J1V1 </td><td>TECNICO DE NIVEL SUPERIOR EN EDUCACION PARVULARIA                                                                                 </td></tr>\n",
              "</tbody>\n",
              "</table>\n"
            ]
          },
          "metadata": {
            "tags": []
          }
        }
      ]
    },
    {
      "cell_type": "code",
      "metadata": {
        "colab": {
          "base_uri": "https://localhost:8080/",
          "height": 252
        },
        "id": "Bf4MERidHMNP",
        "outputId": "d71bf05a-37df-4aed-e1ee-771231a272b7"
      },
      "source": [
        "# Determine todas las sedes que tiene la Universidad Católica\n",
        "dbGetQuery(conn, '\n",
        "select \n",
        "distinct nomb_sede\n",
        "from carrera, pertenece_a \n",
        "where carrera.codigo_unico = pertenece_a.codigo_unico\n",
        "AND pertenece_a.cod_inst = 86;')\n"
      ],
      "execution_count": null,
      "outputs": [
        {
          "output_type": "display_data",
          "data": {
            "text/plain": [
              "  nomb_sede         \n",
              "1 CAMPUS SAN JOAQUIN\n",
              "2 SEDE LO CONTADOR  \n",
              "3 CASA CENTRAL      \n",
              "4 CAMPUS ORIENTE    \n",
              "5 SEDE VILLARRICA   "
            ],
            "text/latex": "A data.frame: 5 × 1\n\\begin{tabular}{l}\n nomb\\_sede\\\\\n <chr>\\\\\n\\hline\n\t CAMPUS SAN JOAQUIN\\\\\n\t SEDE LO CONTADOR  \\\\\n\t CASA CENTRAL      \\\\\n\t CAMPUS ORIENTE    \\\\\n\t SEDE VILLARRICA   \\\\\n\\end{tabular}\n",
            "text/markdown": "\nA data.frame: 5 × 1\n\n| nomb_sede &lt;chr&gt; |\n|---|\n| CAMPUS SAN JOAQUIN |\n| SEDE LO CONTADOR   |\n| CASA CENTRAL       |\n| CAMPUS ORIENTE     |\n| SEDE VILLARRICA    |\n\n",
            "text/html": [
              "<table class=\"dataframe\">\n",
              "<caption>A data.frame: 5 × 1</caption>\n",
              "<thead>\n",
              "\t<tr><th scope=col>nomb_sede</th></tr>\n",
              "\t<tr><th scope=col>&lt;chr&gt;</th></tr>\n",
              "</thead>\n",
              "<tbody>\n",
              "\t<tr><td>CAMPUS SAN JOAQUIN</td></tr>\n",
              "\t<tr><td>SEDE LO CONTADOR  </td></tr>\n",
              "\t<tr><td>CASA CENTRAL      </td></tr>\n",
              "\t<tr><td>CAMPUS ORIENTE    </td></tr>\n",
              "\t<tr><td>SEDE VILLARRICA   </td></tr>\n",
              "</tbody>\n",
              "</table>\n"
            ]
          },
          "metadata": {
            "tags": []
          }
        }
      ]
    },
    {
      "cell_type": "code",
      "metadata": {
        "colab": {
          "base_uri": "https://localhost:8080/",
          "height": 252
        },
        "id": "UpDsCiLwHMtB",
        "outputId": "01d3b3db-39b4-4a09-92da-4b7531c6872b"
      },
      "source": [
        "# Genere una tabla con la cantidad personas pertenecen a cada sede de la Universidad Católica\n",
        "dbGetQuery(conn, '\n",
        "select \n",
        "nomb_sede, count(cursa.MRUN) as \"Alumnos\"\n",
        "from carrera, cursa, pertenece_a \n",
        "where  cursa.codigo_unico = carrera.codigo_unico\n",
        "and carrera.codigo_unico = pertenece_a.codigo_unico\n",
        "and pertenece_a.cod_inst = 86\n",
        "group by nomb_sede;')\n"
      ],
      "execution_count": null,
      "outputs": [
        {
          "output_type": "display_data",
          "data": {
            "text/plain": [
              "  nomb_sede          Alumnos\n",
              "1 CAMPUS ORIENTE       998  \n",
              "2 CAMPUS SAN JOAQUIN 25218  \n",
              "3 CASA CENTRAL        8755  \n",
              "4 SEDE LO CONTADOR    2294  \n",
              "5 SEDE VILLARRICA      251  "
            ],
            "text/latex": "A data.frame: 5 × 2\n\\begin{tabular}{ll}\n nomb\\_sede & Alumnos\\\\\n <chr> & <int>\\\\\n\\hline\n\t CAMPUS ORIENTE     &   998\\\\\n\t CAMPUS SAN JOAQUIN & 25218\\\\\n\t CASA CENTRAL       &  8755\\\\\n\t SEDE LO CONTADOR   &  2294\\\\\n\t SEDE VILLARRICA    &   251\\\\\n\\end{tabular}\n",
            "text/markdown": "\nA data.frame: 5 × 2\n\n| nomb_sede &lt;chr&gt; | Alumnos &lt;int&gt; |\n|---|---|\n| CAMPUS ORIENTE     |   998 |\n| CAMPUS SAN JOAQUIN | 25218 |\n| CASA CENTRAL       |  8755 |\n| SEDE LO CONTADOR   |  2294 |\n| SEDE VILLARRICA    |   251 |\n\n",
            "text/html": [
              "<table class=\"dataframe\">\n",
              "<caption>A data.frame: 5 × 2</caption>\n",
              "<thead>\n",
              "\t<tr><th scope=col>nomb_sede</th><th scope=col>Alumnos</th></tr>\n",
              "\t<tr><th scope=col>&lt;chr&gt;</th><th scope=col>&lt;int&gt;</th></tr>\n",
              "</thead>\n",
              "<tbody>\n",
              "\t<tr><td>CAMPUS ORIENTE    </td><td>  998</td></tr>\n",
              "\t<tr><td>CAMPUS SAN JOAQUIN</td><td>25218</td></tr>\n",
              "\t<tr><td>CASA CENTRAL      </td><td> 8755</td></tr>\n",
              "\t<tr><td>SEDE LO CONTADOR  </td><td> 2294</td></tr>\n",
              "\t<tr><td>SEDE VILLARRICA   </td><td>  251</td></tr>\n",
              "</tbody>\n",
              "</table>\n"
            ]
          },
          "metadata": {
            "tags": []
          }
        }
      ]
    },
    {
      "cell_type": "code",
      "metadata": {
        "id": "vQHtlmuhFRCt",
        "colab": {
          "base_uri": "https://localhost:8080/",
          "height": 1000
        },
        "outputId": "2f11ee21-928b-4afc-d619-739e8340ae67"
      },
      "source": [
        "# Genere una tabla de la cantidad de sedes por institución y grafiquela\n",
        "sedes <- dbGetQuery(conn, '\n",
        "select \n",
        "nomb_inst, count(distinct(carrera.cod_sede)) as \"Cantidad_Sedes\"\n",
        "from carrera, IES, pertenece_a \n",
        "where  pertenece_a.codigo_unico = carrera.codigo_unico\n",
        "and pertenece_a.cod_inst = IES.cod_inst \n",
        "group by pertenece_a.cod_inst;')\n",
        "sedes\n"
      ],
      "execution_count": null,
      "outputs": [
        {
          "output_type": "display_data",
          "data": {
            "text/plain": [
              "    nomb_inst                                                  Cantidad_Sedes\n",
              "1   UNIVERSIDAD GABRIELA MISTRAL                                1            \n",
              "2   UNIVERSIDAD FINIS TERRAE                                    1            \n",
              "3   UNIVERSIDAD DIEGO PORTALES                                  1            \n",
              "4   UNIVERSIDAD CENTRAL DE CHILE                                4            \n",
              "5   UNIVERSIDAD BOLIVARIANA                                     9            \n",
              "6   UNIVERSIDAD PEDRO DE VALDIVIA                               5            \n",
              "7   UNIVERSIDAD MAYOR                                          10            \n",
              "8   UNIVERSIDAD ACADEMIA DE HUMANISMO CRISTIANO                 2            \n",
              "9   UNIVERSIDAD SANTO TOMAS                                    14            \n",
              "10  UNIVERSIDAD LA REPUBLICA                                   11            \n",
              "11  UNIVERSIDAD SEK                                             3            \n",
              "12  UNIVERSIDAD DE LAS AMERICAS                                 6            \n",
              "13  UNIVERSIDAD ANDRES BELLO                                    4            \n",
              "14  UNIVERSIDAD DE VIÑA DEL MAR                                 1            \n",
              "15  UNIVERSIDAD ADOLFO IBAÑEZ                                   3            \n",
              "16  UNIVERSIDAD DE ARTES, CIENCIAS Y COMUNICACION - UNIACC      1            \n",
              "17  UNIVERSIDAD AUTONOMA DE CHILE                               4            \n",
              "18  UNIVERSIDAD DE LOS ANDES                                    1            \n",
              "19  UNIVERSIDAD ADVENTISTA DE CHILE                             1            \n",
              "20  UNIVERSIDAD SAN SEBASTIAN                                   5            \n",
              "21  UNIVERSIDAD CATOLICA CARDENAL RAUL SILVA HENRIQUEZ          1            \n",
              "22  UNIVERSIDAD DEL DESARROLLO                                  3            \n",
              "23  UNIVERSIDAD DE ACONCAGUA                                   11            \n",
              "24  UNIVERSIDAD LOS LEONES                                      1            \n",
              "25  UNIVERSIDAD BERNARDO O'HIGGINS                              2            \n",
              "26  UNIVERSIDAD TECNOLOGICA DE CHILE INACAP                    27            \n",
              "27  UNIVERSIDAD MIGUEL DE CERVANTES                             1            \n",
              "28  UNIVERSIDAD ALBERTO HURTADO                                 1            \n",
              "29  UNIVERSIDAD DE CHILE                                        1            \n",
              "30  UNIVERSIDAD DE SANTIAGO DE CHILE                            1            \n",
              "⋮   ⋮                                                          ⋮             \n",
              "111 CFT CEDUC - UCN                                            5             \n",
              "112 CFT PROANDES                                               2             \n",
              "113 CFT ACCIOMA                                                1             \n",
              "114 CFT DE TARAPACA                                            1             \n",
              "115 CFT UV                                                     1             \n",
              "116 CFT DE LA INDUSTRIA GRAFICA                                1             \n",
              "117 CFT PUCV                                                   6             \n",
              "118 CFT TEODORO WICKEL KLUWEN                                  2             \n",
              "119 UNIVERSIDAD CHILENO BRITANICA DE CULTURA                   1             \n",
              "120 IP INSTITUTO INTERNACIONAL DE ARTES CULINARIAS Y SERVICIOS 2             \n",
              "121 CFT PROFASOC                                               1             \n",
              "122 IP PROJAZZ                                                 1             \n",
              "123 CFT MANPOWER                                               1             \n",
              "124 IP ESCUELA DE CINE DE CHILE                                1             \n",
              "125 CFT ESCUELA CULINARIA FRANCESA                             1             \n",
              "126 IP DE ARTES ESCENICAS KAREN CONNOLLY                       1             \n",
              "127 IP ESCUELA DE MARINA MERCANTE PILOTO PARDO                 1             \n",
              "128 IP VERTICAL                                                1             \n",
              "129 UNIVERSIDAD DE O'HIGGINS                                   2             \n",
              "130 UNIVERSIDAD DE AYSEN                                       1             \n",
              "131 CFT DE LA REGION DE TARAPACA                               1             \n",
              "132 CFT DE LA REGION DE ANTOFAGASTA                            1             \n",
              "133 CFT DE LA REGION DE COQUIMBO                               1             \n",
              "134 CFT DE LA REGION DE VALPARAISO                             2             \n",
              "135 CFT DE LA REGION METROPOLITANA DE SANTIAGO                 1             \n",
              "136 CFT DE LA REGION DEL MAULE                                 1             \n",
              "137 CFT DE LA REGION DE LA ARAUCANIA                           1             \n",
              "138 CFT DE LA REGION DE LOS RIOS                               2             \n",
              "139 CFT DE LA REGION DE LOS LAGOS                              1             \n",
              "140 CFT DE LA REGION DE MAGALLANES Y ANTARTICA CHILENA         1             "
            ],
            "text/latex": "A data.frame: 140 × 2\n\\begin{tabular}{ll}\n nomb\\_inst & Cantidad\\_Sedes\\\\\n <chr> & <int>\\\\\n\\hline\n\t UNIVERSIDAD GABRIELA MISTRAL                           &  1\\\\\n\t UNIVERSIDAD FINIS TERRAE                               &  1\\\\\n\t UNIVERSIDAD DIEGO PORTALES                             &  1\\\\\n\t UNIVERSIDAD CENTRAL DE CHILE                           &  4\\\\\n\t UNIVERSIDAD BOLIVARIANA                                &  9\\\\\n\t UNIVERSIDAD PEDRO DE VALDIVIA                          &  5\\\\\n\t UNIVERSIDAD MAYOR                                      & 10\\\\\n\t UNIVERSIDAD ACADEMIA DE HUMANISMO CRISTIANO            &  2\\\\\n\t UNIVERSIDAD SANTO TOMAS                                & 14\\\\\n\t UNIVERSIDAD LA REPUBLICA                               & 11\\\\\n\t UNIVERSIDAD SEK                                        &  3\\\\\n\t UNIVERSIDAD DE LAS AMERICAS                            &  6\\\\\n\t UNIVERSIDAD ANDRES BELLO                               &  4\\\\\n\t UNIVERSIDAD DE VIÑA DEL MAR                            &  1\\\\\n\t UNIVERSIDAD ADOLFO IBAÑEZ                              &  3\\\\\n\t UNIVERSIDAD DE ARTES, CIENCIAS Y COMUNICACION - UNIACC &  1\\\\\n\t UNIVERSIDAD AUTONOMA DE CHILE                          &  4\\\\\n\t UNIVERSIDAD DE LOS ANDES                               &  1\\\\\n\t UNIVERSIDAD ADVENTISTA DE CHILE                        &  1\\\\\n\t UNIVERSIDAD SAN SEBASTIAN                              &  5\\\\\n\t UNIVERSIDAD CATOLICA CARDENAL RAUL SILVA HENRIQUEZ     &  1\\\\\n\t UNIVERSIDAD DEL DESARROLLO                             &  3\\\\\n\t UNIVERSIDAD DE ACONCAGUA                               & 11\\\\\n\t UNIVERSIDAD LOS LEONES                                 &  1\\\\\n\t UNIVERSIDAD BERNARDO O'HIGGINS                         &  2\\\\\n\t UNIVERSIDAD TECNOLOGICA DE CHILE INACAP                & 27\\\\\n\t UNIVERSIDAD MIGUEL DE CERVANTES                        &  1\\\\\n\t UNIVERSIDAD ALBERTO HURTADO                            &  1\\\\\n\t UNIVERSIDAD DE CHILE                                   &  1\\\\\n\t UNIVERSIDAD DE SANTIAGO DE CHILE                       &  1\\\\\n\t ⋮ & ⋮\\\\\n\t CFT CEDUC - UCN                                            & 5\\\\\n\t CFT PROANDES                                               & 2\\\\\n\t CFT ACCIOMA                                                & 1\\\\\n\t CFT DE TARAPACA                                            & 1\\\\\n\t CFT UV                                                     & 1\\\\\n\t CFT DE LA INDUSTRIA GRAFICA                                & 1\\\\\n\t CFT PUCV                                                   & 6\\\\\n\t CFT TEODORO WICKEL KLUWEN                                  & 2\\\\\n\t UNIVERSIDAD CHILENO BRITANICA DE CULTURA                   & 1\\\\\n\t IP INSTITUTO INTERNACIONAL DE ARTES CULINARIAS Y SERVICIOS & 2\\\\\n\t CFT PROFASOC                                               & 1\\\\\n\t IP PROJAZZ                                                 & 1\\\\\n\t CFT MANPOWER                                               & 1\\\\\n\t IP ESCUELA DE CINE DE CHILE                                & 1\\\\\n\t CFT ESCUELA CULINARIA FRANCESA                             & 1\\\\\n\t IP DE ARTES ESCENICAS KAREN CONNOLLY                       & 1\\\\\n\t IP ESCUELA DE MARINA MERCANTE PILOTO PARDO                 & 1\\\\\n\t IP VERTICAL                                                & 1\\\\\n\t UNIVERSIDAD DE O'HIGGINS                                   & 2\\\\\n\t UNIVERSIDAD DE AYSEN                                       & 1\\\\\n\t CFT DE LA REGION DE TARAPACA                               & 1\\\\\n\t CFT DE LA REGION DE ANTOFAGASTA                            & 1\\\\\n\t CFT DE LA REGION DE COQUIMBO                               & 1\\\\\n\t CFT DE LA REGION DE VALPARAISO                             & 2\\\\\n\t CFT DE LA REGION METROPOLITANA DE SANTIAGO                 & 1\\\\\n\t CFT DE LA REGION DEL MAULE                                 & 1\\\\\n\t CFT DE LA REGION DE LA ARAUCANIA                           & 1\\\\\n\t CFT DE LA REGION DE LOS RIOS                               & 2\\\\\n\t CFT DE LA REGION DE LOS LAGOS                              & 1\\\\\n\t CFT DE LA REGION DE MAGALLANES Y ANTARTICA CHILENA         & 1\\\\\n\\end{tabular}\n",
            "text/markdown": "\nA data.frame: 140 × 2\n\n| nomb_inst &lt;chr&gt; | Cantidad_Sedes &lt;int&gt; |\n|---|---|\n| UNIVERSIDAD GABRIELA MISTRAL                           |  1 |\n| UNIVERSIDAD FINIS TERRAE                               |  1 |\n| UNIVERSIDAD DIEGO PORTALES                             |  1 |\n| UNIVERSIDAD CENTRAL DE CHILE                           |  4 |\n| UNIVERSIDAD BOLIVARIANA                                |  9 |\n| UNIVERSIDAD PEDRO DE VALDIVIA                          |  5 |\n| UNIVERSIDAD MAYOR                                      | 10 |\n| UNIVERSIDAD ACADEMIA DE HUMANISMO CRISTIANO            |  2 |\n| UNIVERSIDAD SANTO TOMAS                                | 14 |\n| UNIVERSIDAD LA REPUBLICA                               | 11 |\n| UNIVERSIDAD SEK                                        |  3 |\n| UNIVERSIDAD DE LAS AMERICAS                            |  6 |\n| UNIVERSIDAD ANDRES BELLO                               |  4 |\n| UNIVERSIDAD DE VIÑA DEL MAR                            |  1 |\n| UNIVERSIDAD ADOLFO IBAÑEZ                              |  3 |\n| UNIVERSIDAD DE ARTES, CIENCIAS Y COMUNICACION - UNIACC |  1 |\n| UNIVERSIDAD AUTONOMA DE CHILE                          |  4 |\n| UNIVERSIDAD DE LOS ANDES                               |  1 |\n| UNIVERSIDAD ADVENTISTA DE CHILE                        |  1 |\n| UNIVERSIDAD SAN SEBASTIAN                              |  5 |\n| UNIVERSIDAD CATOLICA CARDENAL RAUL SILVA HENRIQUEZ     |  1 |\n| UNIVERSIDAD DEL DESARROLLO                             |  3 |\n| UNIVERSIDAD DE ACONCAGUA                               | 11 |\n| UNIVERSIDAD LOS LEONES                                 |  1 |\n| UNIVERSIDAD BERNARDO O'HIGGINS                         |  2 |\n| UNIVERSIDAD TECNOLOGICA DE CHILE INACAP                | 27 |\n| UNIVERSIDAD MIGUEL DE CERVANTES                        |  1 |\n| UNIVERSIDAD ALBERTO HURTADO                            |  1 |\n| UNIVERSIDAD DE CHILE                                   |  1 |\n| UNIVERSIDAD DE SANTIAGO DE CHILE                       |  1 |\n| ⋮ | ⋮ |\n| CFT CEDUC - UCN                                            | 5 |\n| CFT PROANDES                                               | 2 |\n| CFT ACCIOMA                                                | 1 |\n| CFT DE TARAPACA                                            | 1 |\n| CFT UV                                                     | 1 |\n| CFT DE LA INDUSTRIA GRAFICA                                | 1 |\n| CFT PUCV                                                   | 6 |\n| CFT TEODORO WICKEL KLUWEN                                  | 2 |\n| UNIVERSIDAD CHILENO BRITANICA DE CULTURA                   | 1 |\n| IP INSTITUTO INTERNACIONAL DE ARTES CULINARIAS Y SERVICIOS | 2 |\n| CFT PROFASOC                                               | 1 |\n| IP PROJAZZ                                                 | 1 |\n| CFT MANPOWER                                               | 1 |\n| IP ESCUELA DE CINE DE CHILE                                | 1 |\n| CFT ESCUELA CULINARIA FRANCESA                             | 1 |\n| IP DE ARTES ESCENICAS KAREN CONNOLLY                       | 1 |\n| IP ESCUELA DE MARINA MERCANTE PILOTO PARDO                 | 1 |\n| IP VERTICAL                                                | 1 |\n| UNIVERSIDAD DE O'HIGGINS                                   | 2 |\n| UNIVERSIDAD DE AYSEN                                       | 1 |\n| CFT DE LA REGION DE TARAPACA                               | 1 |\n| CFT DE LA REGION DE ANTOFAGASTA                            | 1 |\n| CFT DE LA REGION DE COQUIMBO                               | 1 |\n| CFT DE LA REGION DE VALPARAISO                             | 2 |\n| CFT DE LA REGION METROPOLITANA DE SANTIAGO                 | 1 |\n| CFT DE LA REGION DEL MAULE                                 | 1 |\n| CFT DE LA REGION DE LA ARAUCANIA                           | 1 |\n| CFT DE LA REGION DE LOS RIOS                               | 2 |\n| CFT DE LA REGION DE LOS LAGOS                              | 1 |\n| CFT DE LA REGION DE MAGALLANES Y ANTARTICA CHILENA         | 1 |\n\n",
            "text/html": [
              "<table class=\"dataframe\">\n",
              "<caption>A data.frame: 140 × 2</caption>\n",
              "<thead>\n",
              "\t<tr><th scope=col>nomb_inst</th><th scope=col>Cantidad_Sedes</th></tr>\n",
              "\t<tr><th scope=col>&lt;chr&gt;</th><th scope=col>&lt;int&gt;</th></tr>\n",
              "</thead>\n",
              "<tbody>\n",
              "\t<tr><td>UNIVERSIDAD GABRIELA MISTRAL                          </td><td> 1</td></tr>\n",
              "\t<tr><td>UNIVERSIDAD FINIS TERRAE                              </td><td> 1</td></tr>\n",
              "\t<tr><td>UNIVERSIDAD DIEGO PORTALES                            </td><td> 1</td></tr>\n",
              "\t<tr><td>UNIVERSIDAD CENTRAL DE CHILE                          </td><td> 4</td></tr>\n",
              "\t<tr><td>UNIVERSIDAD BOLIVARIANA                               </td><td> 9</td></tr>\n",
              "\t<tr><td>UNIVERSIDAD PEDRO DE VALDIVIA                         </td><td> 5</td></tr>\n",
              "\t<tr><td>UNIVERSIDAD MAYOR                                     </td><td>10</td></tr>\n",
              "\t<tr><td>UNIVERSIDAD ACADEMIA DE HUMANISMO CRISTIANO           </td><td> 2</td></tr>\n",
              "\t<tr><td>UNIVERSIDAD SANTO TOMAS                               </td><td>14</td></tr>\n",
              "\t<tr><td>UNIVERSIDAD LA REPUBLICA                              </td><td>11</td></tr>\n",
              "\t<tr><td>UNIVERSIDAD SEK                                       </td><td> 3</td></tr>\n",
              "\t<tr><td>UNIVERSIDAD DE LAS AMERICAS                           </td><td> 6</td></tr>\n",
              "\t<tr><td>UNIVERSIDAD ANDRES BELLO                              </td><td> 4</td></tr>\n",
              "\t<tr><td>UNIVERSIDAD DE VIÑA DEL MAR                           </td><td> 1</td></tr>\n",
              "\t<tr><td>UNIVERSIDAD ADOLFO IBAÑEZ                             </td><td> 3</td></tr>\n",
              "\t<tr><td>UNIVERSIDAD DE ARTES, CIENCIAS Y COMUNICACION - UNIACC</td><td> 1</td></tr>\n",
              "\t<tr><td>UNIVERSIDAD AUTONOMA DE CHILE                         </td><td> 4</td></tr>\n",
              "\t<tr><td>UNIVERSIDAD DE LOS ANDES                              </td><td> 1</td></tr>\n",
              "\t<tr><td>UNIVERSIDAD ADVENTISTA DE CHILE                       </td><td> 1</td></tr>\n",
              "\t<tr><td>UNIVERSIDAD SAN SEBASTIAN                             </td><td> 5</td></tr>\n",
              "\t<tr><td>UNIVERSIDAD CATOLICA CARDENAL RAUL SILVA HENRIQUEZ    </td><td> 1</td></tr>\n",
              "\t<tr><td>UNIVERSIDAD DEL DESARROLLO                            </td><td> 3</td></tr>\n",
              "\t<tr><td>UNIVERSIDAD DE ACONCAGUA                              </td><td>11</td></tr>\n",
              "\t<tr><td>UNIVERSIDAD LOS LEONES                                </td><td> 1</td></tr>\n",
              "\t<tr><td>UNIVERSIDAD BERNARDO O'HIGGINS                        </td><td> 2</td></tr>\n",
              "\t<tr><td>UNIVERSIDAD TECNOLOGICA DE CHILE INACAP               </td><td>27</td></tr>\n",
              "\t<tr><td>UNIVERSIDAD MIGUEL DE CERVANTES                       </td><td> 1</td></tr>\n",
              "\t<tr><td>UNIVERSIDAD ALBERTO HURTADO                           </td><td> 1</td></tr>\n",
              "\t<tr><td>UNIVERSIDAD DE CHILE                                  </td><td> 1</td></tr>\n",
              "\t<tr><td>UNIVERSIDAD DE SANTIAGO DE CHILE                      </td><td> 1</td></tr>\n",
              "\t<tr><td>⋮</td><td>⋮</td></tr>\n",
              "\t<tr><td>CFT CEDUC - UCN                                           </td><td>5</td></tr>\n",
              "\t<tr><td>CFT PROANDES                                              </td><td>2</td></tr>\n",
              "\t<tr><td>CFT ACCIOMA                                               </td><td>1</td></tr>\n",
              "\t<tr><td>CFT DE TARAPACA                                           </td><td>1</td></tr>\n",
              "\t<tr><td>CFT UV                                                    </td><td>1</td></tr>\n",
              "\t<tr><td>CFT DE LA INDUSTRIA GRAFICA                               </td><td>1</td></tr>\n",
              "\t<tr><td>CFT PUCV                                                  </td><td>6</td></tr>\n",
              "\t<tr><td>CFT TEODORO WICKEL KLUWEN                                 </td><td>2</td></tr>\n",
              "\t<tr><td>UNIVERSIDAD CHILENO BRITANICA DE CULTURA                  </td><td>1</td></tr>\n",
              "\t<tr><td>IP INSTITUTO INTERNACIONAL DE ARTES CULINARIAS Y SERVICIOS</td><td>2</td></tr>\n",
              "\t<tr><td>CFT PROFASOC                                              </td><td>1</td></tr>\n",
              "\t<tr><td>IP PROJAZZ                                                </td><td>1</td></tr>\n",
              "\t<tr><td>CFT MANPOWER                                              </td><td>1</td></tr>\n",
              "\t<tr><td>IP ESCUELA DE CINE DE CHILE                               </td><td>1</td></tr>\n",
              "\t<tr><td>CFT ESCUELA CULINARIA FRANCESA                            </td><td>1</td></tr>\n",
              "\t<tr><td>IP DE ARTES ESCENICAS KAREN CONNOLLY                      </td><td>1</td></tr>\n",
              "\t<tr><td>IP ESCUELA DE MARINA MERCANTE PILOTO PARDO                </td><td>1</td></tr>\n",
              "\t<tr><td>IP VERTICAL                                               </td><td>1</td></tr>\n",
              "\t<tr><td>UNIVERSIDAD DE O'HIGGINS                                  </td><td>2</td></tr>\n",
              "\t<tr><td>UNIVERSIDAD DE AYSEN                                      </td><td>1</td></tr>\n",
              "\t<tr><td>CFT DE LA REGION DE TARAPACA                              </td><td>1</td></tr>\n",
              "\t<tr><td>CFT DE LA REGION DE ANTOFAGASTA                           </td><td>1</td></tr>\n",
              "\t<tr><td>CFT DE LA REGION DE COQUIMBO                              </td><td>1</td></tr>\n",
              "\t<tr><td>CFT DE LA REGION DE VALPARAISO                            </td><td>2</td></tr>\n",
              "\t<tr><td>CFT DE LA REGION METROPOLITANA DE SANTIAGO                </td><td>1</td></tr>\n",
              "\t<tr><td>CFT DE LA REGION DEL MAULE                                </td><td>1</td></tr>\n",
              "\t<tr><td>CFT DE LA REGION DE LA ARAUCANIA                          </td><td>1</td></tr>\n",
              "\t<tr><td>CFT DE LA REGION DE LOS RIOS                              </td><td>2</td></tr>\n",
              "\t<tr><td>CFT DE LA REGION DE LOS LAGOS                             </td><td>1</td></tr>\n",
              "\t<tr><td>CFT DE LA REGION DE MAGALLANES Y ANTARTICA CHILENA        </td><td>1</td></tr>\n",
              "</tbody>\n",
              "</table>\n"
            ]
          },
          "metadata": {
            "tags": []
          }
        }
      ]
    },
    {
      "cell_type": "code",
      "metadata": {
        "colab": {
          "base_uri": "https://localhost:8080/",
          "height": 437
        },
        "id": "eE33XH74Pdqg",
        "outputId": "ad664e62-7047-4cfb-fb79-7a6a8bd22f7f"
      },
      "source": [
        "sedes %>%  ggplot(aes(x=nomb_inst,y=Cantidad_Sedes)) + \n",
        "            geom_bar(stat=\"identity\", position=\"stack\")\n"
      ],
      "execution_count": null,
      "outputs": [
        {
          "output_type": "display_data",
          "data": {
            "image/png": "[encoded data removed]",
            "text/plain": [
              "plot without title"
            ]
          },
          "metadata": {
            "tags": [],
            "image/png": {
              "width": 420,
              "height": 420
            }
          }
        }
      ]
    },
    {
      "cell_type": "code",
      "metadata": {
        "id": "kYfAY2soFckY",
        "colab": {
          "base_uri": "https://localhost:8080/",
          "height": 593
        },
        "outputId": "b84f832b-1e58-409c-ed33-51dfdbecda0e"
      },
      "source": [
        "# Grafique que regiones tienen mayor cantidad de alumnos\n",
        "sedes <- dbGetQuery(conn, '\n",
        "select \n",
        "region_sede, count(cursa.MRUN) as \"Alumnos_Region\"\n",
        "from carrera, cursa\n",
        "where  cursa.codigo_unico = carrera.codigo_unico\n",
        "group by carrera.region_sede;')\n",
        "sedes"
      ],
      "execution_count": null,
      "outputs": [
        {
          "output_type": "display_data",
          "data": {
            "text/plain": [
              "   region_sede            Alumnos_Region\n",
              "1  Antofagasta             39008        \n",
              "2  Arica y Parinacota      16757        \n",
              "3  Atacama                 12087        \n",
              "4  Aysén                    2888        \n",
              "5  Biobío                 127683        \n",
              "6  Coquimbo                42641        \n",
              "7  La Araucanía            58653        \n",
              "8  Lib. Gral B. O'Higgins  27265        \n",
              "9  Los Lagos               42119        \n",
              "10 Los Ríos                26702        \n",
              "11 Magallanes               7033        \n",
              "12 Maule                   58218        \n",
              "13 Metropolitana          587047        \n",
              "14 Tarapacá                18690        \n",
              "15 Valparaíso             129964        \n",
              "16 Ñuble                   22900        "
            ],
            "text/latex": "A data.frame: 16 × 2\n\\begin{tabular}{ll}\n region\\_sede & Alumnos\\_Region\\\\\n <chr> & <int>\\\\\n\\hline\n\t Antofagasta            &  39008\\\\\n\t Arica y Parinacota     &  16757\\\\\n\t Atacama                &  12087\\\\\n\t Aysén                  &   2888\\\\\n\t Biobío                 & 127683\\\\\n\t Coquimbo               &  42641\\\\\n\t La Araucanía           &  58653\\\\\n\t Lib. Gral B. O'Higgins &  27265\\\\\n\t Los Lagos              &  42119\\\\\n\t Los Ríos               &  26702\\\\\n\t Magallanes             &   7033\\\\\n\t Maule                  &  58218\\\\\n\t Metropolitana          & 587047\\\\\n\t Tarapacá               &  18690\\\\\n\t Valparaíso             & 129964\\\\\n\t Ñuble                  &  22900\\\\\n\\end{tabular}\n",
            "text/markdown": "\nA data.frame: 16 × 2\n\n| region_sede &lt;chr&gt; | Alumnos_Region &lt;int&gt; |\n|---|---|\n| Antofagasta            |  39008 |\n| Arica y Parinacota     |  16757 |\n| Atacama                |  12087 |\n| Aysén                  |   2888 |\n| Biobío                 | 127683 |\n| Coquimbo               |  42641 |\n| La Araucanía           |  58653 |\n| Lib. Gral B. O'Higgins |  27265 |\n| Los Lagos              |  42119 |\n| Los Ríos               |  26702 |\n| Magallanes             |   7033 |\n| Maule                  |  58218 |\n| Metropolitana          | 587047 |\n| Tarapacá               |  18690 |\n| Valparaíso             | 129964 |\n| Ñuble                  |  22900 |\n\n",
            "text/html": [
              "<table class=\"dataframe\">\n",
              "<caption>A data.frame: 16 × 2</caption>\n",
              "<thead>\n",
              "\t<tr><th scope=col>region_sede</th><th scope=col>Alumnos_Region</th></tr>\n",
              "\t<tr><th scope=col>&lt;chr&gt;</th><th scope=col>&lt;int&gt;</th></tr>\n",
              "</thead>\n",
              "<tbody>\n",
              "\t<tr><td>Antofagasta           </td><td> 39008</td></tr>\n",
              "\t<tr><td>Arica y Parinacota    </td><td> 16757</td></tr>\n",
              "\t<tr><td>Atacama               </td><td> 12087</td></tr>\n",
              "\t<tr><td>Aysén                 </td><td>  2888</td></tr>\n",
              "\t<tr><td>Biobío                </td><td>127683</td></tr>\n",
              "\t<tr><td>Coquimbo              </td><td> 42641</td></tr>\n",
              "\t<tr><td>La Araucanía          </td><td> 58653</td></tr>\n",
              "\t<tr><td>Lib. Gral B. O'Higgins</td><td> 27265</td></tr>\n",
              "\t<tr><td>Los Lagos             </td><td> 42119</td></tr>\n",
              "\t<tr><td>Los Ríos              </td><td> 26702</td></tr>\n",
              "\t<tr><td>Magallanes            </td><td>  7033</td></tr>\n",
              "\t<tr><td>Maule                 </td><td> 58218</td></tr>\n",
              "\t<tr><td>Metropolitana         </td><td>587047</td></tr>\n",
              "\t<tr><td>Tarapacá              </td><td> 18690</td></tr>\n",
              "\t<tr><td>Valparaíso            </td><td>129964</td></tr>\n",
              "\t<tr><td>Ñuble                 </td><td> 22900</td></tr>\n",
              "</tbody>\n",
              "</table>\n"
            ]
          },
          "metadata": {
            "tags": []
          }
        }
      ]
    },
    {
      "cell_type": "code",
      "metadata": {
        "colab": {
          "base_uri": "https://localhost:8080/",
          "height": 437
        },
        "id": "u8_ysti7Rn6U",
        "outputId": "2d0e3fe8-dc6e-4507-e4fe-47c60bce0a4e"
      },
      "source": [
        "\n",
        "sedes %>%  ggplot(aes(x=region_sede,y=Alumnos_Region)) + \n",
        "            geom_bar(stat=\"identity\", position=\"stack\")"
      ],
      "execution_count": null,
      "outputs": [
        {
          "output_type": "display_data",
          "data": {
            "image/png": "[encoded data removed]",
            "text/plain": [
              "plot without title"
            ]
          },
          "metadata": {
            "tags": [],
            "image/png": {
              "width": 420,
              "height": 420
            }
          }
        }
      ]
    },
    {
      "cell_type": "code",
      "metadata": {
        "id": "Aahi7Kk2SI_S"
      },
      "source": [
        ""
      ],
      "execution_count": null,
      "outputs": []
    }
  ]
}