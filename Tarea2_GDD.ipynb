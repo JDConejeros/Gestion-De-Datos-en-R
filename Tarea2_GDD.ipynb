{
  "nbformat": 4,
  "nbformat_minor": 0,
  "metadata": {
    "colab": {
      "name": "Tarea2_GDD.ipynb",
      "provenance": [],
      "include_colab_link": true
    },
    "kernelspec": {
      "name": "ir",
      "display_name": "R"
    },
    "language_info": {
      "name": "R"
    }
  },
  "cells": [
    {
      "cell_type": "markdown",
      "metadata": {
        "id": "view-in-github",
        "colab_type": "text"
      },
      "source": [
        "<a href=\"https://colab.research.google.com/github/maxigaarp/Gestion-De-Datos-en-R/blob/main/Tarea2_GDD.ipynb\" target=\"_parent\"><img src=\"https://colab.research.google.com/assets/colab-badge.svg\" alt=\"Open In Colab\"/></a>"
      ]
    },
    {
      "cell_type": "markdown",
      "metadata": {
        "id": "O2vZlgQIqkLL"
      },
      "source": [
        "# **Tarea 2** (fecha de entrega: 24 de Julio 2021)\n"
      ]
    },
    {
      "cell_type": "markdown",
      "metadata": {
        "id": "sKzfHzvtb_rG"
      },
      "source": [
        "Esta tarea consistirá de tres preguntas las cuales deberá responder de forma completa (código, texto e imágenes explicativas). Puede entregar la tarea en el formato, que estime conveniente (doc, pdf, script de R, url de Colab) pero tenga en cuenta que debe adjuntar el código utilizado. Se recomienda el uso de Colab R (recordar dejar el notebook compartido).\n"
      ]
    },
    {
      "cell_type": "markdown",
      "metadata": {
        "id": "3GitlxGNix65"
      },
      "source": [
        "En el taller 3 trabajamos con una base de datos de alumnos en el sistema de Educación Superior. La idea de esta tarea es ampliar el modelo de datos, entender como se relacionan las diferentes tablas y, extraer información relevante para generar insights importantes. "
      ]
    },
    {
      "cell_type": "code",
      "metadata": {
        "id": "kDcn2Dk-b_Hc"
      },
      "source": [
        ""
      ],
      "execution_count": null,
      "outputs": []
    },
    {
      "cell_type": "markdown",
      "metadata": {
        "id": "XAijOBfHjxN7"
      },
      "source": [
        "##**Pregunta 1 (1 pt)**\n",
        "\n",
        "En el taller se elaboró un modelo de datos Entidad - Relación con la matricula de Educación Superior. Complemente este modelo agregando la información del archivo \"Rendimiento Escolar del año 2019\".\n",
        "\n",
        "\n",
        "La base de datos se encuentra disponible en http://datos.mineduc.cl/dashboards/19881/informacion-de-rendimiento-academico/.\n",
        "\n",
        "**Tip 1:** Para elaborar el modelo, debe crear al menos una nueva entidad y  al menos una nueva relacion (junto con sus atributos), y ver como se relacionan con las creadas en el taller.\n",
        "\n",
        "**Tip 2:** De acuerdo a lo que se vio en el taller, es necesario revisar el esquema de registro (http://datos.mineduc.cl/datasets/191683-er-rendimiento-por-alumno.download/).\n",
        "\n",
        "**P.d:** Finalmente, en este link puede ver (más no editar) el modelo elaborado en el taller: https://app.creately.com/diagram/h6ZxbP2gf6D/edit"
      ]
    },
    {
      "cell_type": "code",
      "metadata": {
        "id": "WHSG5BgKbfp1"
      },
      "source": [
        "\n"
      ],
      "execution_count": null,
      "outputs": []
    },
    {
      "cell_type": "markdown",
      "metadata": {
        "id": "ome4UjHYmtgo"
      },
      "source": [
        "##**Pregunta 2 (2.5 pts)**\n",
        "\n",
        "Haga un análisis de la calidad de datos de la tabla de Rendimiento 2019. Para ello, determine la completitud, consistencia y validez de sus datos. Si bien puede guiarse por el taller, analisis calcados (con los mismos atributos) del taller no serán considerados como validos\n",
        "\n",
        "**a)** (1 pts) Calcule la completitud de: las tuplas, los atributos de la tabla y la tabla completa. Además señale aquellos atributos donde haya más errores y detallando en que casos la mayor presencia de datos faltantes es de una menor gravedad. Una vez hecho los calculos describa y presente graficos (de barra, histogramas) para facilitar la explicacion de los resultados.\n",
        "\n",
        "**b)** (0.7 pts) Desarrolle un analisis de validez para:\n",
        "\n",
        "*   Una restriccion de rango\n",
        "*   Una restriccion de unicidad\n",
        "*   Una restriccion de pertenencia con algun atributo que sea categorico (puede guiarse por el esquema del registro)\n",
        "\n",
        "Para esto seleccione un atributo de la tabla para cada tipo de restricción, explique por qué eligió y explique sus resultados\n",
        "\n",
        "**c)** (0.8 pts) Analice la consistencia de 3 atributos con respecto a otros de la misma tabla que entregan una informacion similar.\n",
        "\n",
        "**Tip:** Puede compararlos de manera similar al taller."
      ]
    },
    {
      "cell_type": "code",
      "metadata": {
        "id": "CMWN6YYRzxHV"
      },
      "source": [
        "system(\"wget http://datos.mineduc.cl/datasets/191801-rendimiento-escolar-ano-2019.download/\")\n",
        "system(\"mv /content/index.html /content/rendimiento_2019.zip\")\n"
      ],
      "execution_count": null,
      "outputs": []
    },
    {
      "cell_type": "code",
      "metadata": {
        "id": "LJLx5XpSyzs2"
      },
      "source": [
        "lista <- unzip(\"/content/rendimiento_2019.zip\")\n",
        "rendimiento_2019 <- read.csv2(\"20200220_Rendimiento_2019_20200131_PUBL.csv\")"
      ],
      "execution_count": null,
      "outputs": []
    },
    {
      "cell_type": "code",
      "metadata": {
        "id": "tKVgPSN70OW7"
      },
      "source": [
        ""
      ],
      "execution_count": null,
      "outputs": []
    },
    {
      "cell_type": "code",
      "metadata": {
        "id": "eZABA_s9mbVm"
      },
      "source": [
        "rendimiento_2019"
      ],
      "execution_count": null,
      "outputs": []
    },
    {
      "cell_type": "code",
      "metadata": {
        "id": "4-0eZ8X7oP2l"
      },
      "source": [
        ""
      ],
      "execution_count": null,
      "outputs": []
    },
    {
      "cell_type": "markdown",
      "metadata": {
        "id": "i4lvjamM1w8e"
      },
      "source": [
        "##**Pregunta 3 (3.5 pts.)**\n",
        "\n",
        "Finalmente, trabajará con el modelo de datos y unirá la tabla de rendimiento 2019 con la matrícula de educación superior 2020, para realizar un trabajo exhaustivo de análisis. Para esto usted debe usar RSQLite y los comandos para cargar datos, además de realizar consultas mediante el lenguaje SQL.\n",
        "\n",
        "**a)** (0.7 pts) Limpie ambas tablas, de acuerdo a lo observado en la pregunta 2, y carguelas a la base de datos, continuando lo hecho en el taller y su modelo de datos.\n",
        "\n",
        "**b)** (0.8 pts) Analice la validez de los datos, para esto escriba la siguiente consulta:\n",
        "\n",
        "`Obtener todos los MRUN de los alumnos que reprobaron cuarto medio y se matricularon a la universidad.`\n",
        "\n",
        "¿Qué significa el resultado obtenido?\n",
        "\n",
        "**c)** (2 pts) Realice 2 consultas a la base de datos que involucren a alguna de las entidades de rendimiento y las de matricula. Explique el objetivo de las consultas, luego presente los resultados graficandolos de manera adecuada y finalice con una pequeña conclusion de su analisis.\n"
      ]
    },
    {
      "cell_type": "code",
      "metadata": {
        "id": "UwQyWbi0mvPg"
      },
      "source": [
        ""
      ],
      "execution_count": null,
      "outputs": []
    }
  ]
}