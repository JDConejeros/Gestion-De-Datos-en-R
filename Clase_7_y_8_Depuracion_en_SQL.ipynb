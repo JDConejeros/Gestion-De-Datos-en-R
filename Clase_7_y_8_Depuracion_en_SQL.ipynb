{
  "nbformat": 4,
  "nbformat_minor": 0,
  "metadata": {
    "colab": {
      "name": "Clase 7 y 8 - Depuracion en SQL.ipynb",
      "provenance": [],
      "authorship_tag": "ABX9TyODmd0RuXrJB92oWikzK77o",
      "include_colab_link": true
    },
    "kernelspec": {
      "display_name": "R",
      "name": "ir"
    },
    "language_info": {
      "name": "R"
    }
  },
  "cells": [
    {
      "cell_type": "markdown",
      "metadata": {
        "id": "view-in-github",
        "colab_type": "text"
      },
      "source": [
        "<a href=\"https://colab.research.google.com/github/maxigaarp/Gestion-De-Datos-en-R/blob/main/Clase_7_y_8_Depuracion_en_SQL.ipynb\" target=\"_parent\"><img src=\"https://colab.research.google.com/assets/colab-badge.svg\" alt=\"Open In Colab\"/></a>"
      ]
    },
    {
      "cell_type": "code",
      "metadata": {
        "id": "keQCe2LDzbyJ"
      },
      "source": [
        "system(\"gdown https://drive.google.com/uc?id=1q089qSqKr7Ak29lUkzKSWjm2pcb_jzX0\")\n",
        "unzip(\"/content/matriculas_y_notas_anual.zip\")"
      ],
      "execution_count": null,
      "outputs": []
    },
    {
      "cell_type": "code",
      "metadata": {
        "colab": {
          "base_uri": "https://localhost:8080/"
        },
        "id": "lW3dpbxj0CPE",
        "outputId": "c541fb0f-c0f5-43a3-f2eb-4c0b3256b7a5"
      },
      "source": [
        "install.packages(\"RSQLite\")\n",
        "install.packages(\"data.table\")"
      ],
      "execution_count": null,
      "outputs": [
        {
          "output_type": "stream",
          "text": [
            "Installing package into ‘/usr/local/lib/R/site-library’\n",
            "(as ‘lib’ is unspecified)\n",
            "\n",
            "also installing the dependency ‘plogr’\n",
            "\n",
            "\n",
            "Installing package into ‘/usr/local/lib/R/site-library’\n",
            "(as ‘lib’ is unspecified)\n",
            "\n"
          ],
          "name": "stderr"
        }
      ]
    },
    {
      "cell_type": "code",
      "metadata": {
        "id": "Q4FkIYK-ZoAq"
      },
      "source": [
        "library(data.table)\n",
        "library(RSQLite)\n",
        "library(tidyverse)"
      ],
      "execution_count": 119,
      "outputs": []
    },
    {
      "cell_type": "code",
      "metadata": {
        "id": "FN7pcFHmtFUi"
      },
      "source": [
        "system(\"gdown https://drive.google.com/uc?id=1bxebySwiYquw1B72xi1E_YrELXzDS4cC\")\n"
      ],
      "execution_count": null,
      "outputs": []
    },
    {
      "cell_type": "code",
      "metadata": {
        "id": "qyKrtC3AFBkL"
      },
      "source": [
        "system(\"mv /content/Rendimiento2013.csv /content/content/Datos/20210223_Rendimiento_2013.csv\")"
      ],
      "execution_count": null,
      "outputs": []
    },
    {
      "cell_type": "code",
      "metadata": {
        "id": "qkvJINK2Zj4U"
      },
      "source": [
        "conn <- dbConnect(RSQLite::SQLite(), \"mineduc.db\")\n"
      ],
      "execution_count": 120,
      "outputs": []
    },
    {
      "cell_type": "markdown",
      "metadata": {
        "id": "iM4LyT71B4Bj"
      },
      "source": [
        "Supongamos que queremos ver la cantidad de años que tiene cada alumno registrado a lo largo de los 18 años de datos disponibles en MINEDUC.\n",
        "\n",
        "Filtrando la información me quedo con una tabla de alumnos con su informacion relevante y otra con los colegios.\n"
      ]
    },
    {
      "cell_type": "markdown",
      "metadata": {
        "id": "Ud1R74_hheWH"
      },
      "source": [
        "# Cargando bases en SQL\n"
      ]
    },
    {
      "cell_type": "code",
      "metadata": {
        "colab": {
          "base_uri": "https://localhost:8080/"
        },
        "id": "ZRwa-qfqcfbB",
        "outputId": "d6c9c4d5-6265-431c-d559-e3980db2de3a"
      },
      "source": [
        "colenames <- c(\"RBD\",\"AGNO\",\"NOM_RBD\",\"COD_REG_RBD\",\"NOM_COM_RBD\", \"COD_DEPE\",\"RURAL_RBD\")\n",
        "alnames <- c(\"MRUN\",\"AGNO\",\"RBD\",\"COD_ENSE\",\"COD_GRADO\",\"LET_CUR\",\"GEN_ALU\", \"FEC_NAC_ALU\",\"COD_COM_ALU\", \"SIT_FIN_R\",                      \"PROM_GRAL\", \"ASISTENCIA\")\n",
        "\n",
        "\n",
        "years<-2010:2020\n",
        "for (i in 1:length(years)) {\n",
        "  name=gsub(\"%\",years[i],\"/content/content/Datos/20210223_Rendimiento_%.csv\")\n",
        "  data=fread(name)\n",
        "  names(data) <- toupper(names(data))\n",
        "\n",
        "\n",
        "  coles <- data %>% \n",
        "    select(colenames)%>% \n",
        "    distinct()\n",
        "  \n",
        "  alus <- data %>%\n",
        "        select(c(\"MRUN\",\"AGNO\",\"RBD\",\"COD_ENSE\",\"COD_GRADO\",\"LET_CUR\",\n",
        "                    \"GEN_ALU\", \"FEC_NAC_ALU\",\"COD_COM_ALU\", if (years[i]!=2014) \"SIT_FIN_R\" else \"SIT_FINAL_R\",\n",
        "                      \"PROM_GRAL\", \"ASISTENCIA\")) %>% \n",
        "        distinct()\n",
        "        \n",
        "  names(alus)=alnames\n",
        "\n",
        "  apnd=if (i==1) FALSE else TRUE\n",
        "\n",
        "  dbWriteTable(conn , name = \"colegios\", \n",
        "                  value = coles,\n",
        "                  row.names = FALSE, header = !apnd, sep=',',append=apnd,\n",
        "                  colClasses='character')\n",
        "\n",
        "  dbWriteTable(conn , name = \"alumnos\", \n",
        "                  value = alus,\n",
        "                  row.names = FALSE, header = !apnd, sep=',',append=apnd,\n",
        "                  colClasses='character')\n",
        "}"
      ],
      "execution_count": null,
      "outputs": [
        {
          "output_type": "stream",
          "text": [
            "Note: Using an external vector in selections is ambiguous.\n",
            "\u001b[34mℹ\u001b[39m Use `all_of(colenames)` instead of `colenames` to silence this message.\n",
            "\u001b[34mℹ\u001b[39m See <https://tidyselect.r-lib.org/reference/faq-external-vector.html>.\n",
            "\u001b[90mThis message is displayed once per session.\u001b[39m\n",
            "\n"
          ],
          "name": "stderr"
        }
      ]
    },
    {
      "cell_type": "markdown",
      "metadata": {
        "id": "-1XT5utEDRgP"
      },
      "source": [
        "En particular podemos hacer consultas complicadas de manera rapida y sin preocuparnos por si el computador podrá darnos una respuesta antes de acabarse la memoria RAM.\n",
        "\n",
        "\n",
        "\n"
      ]
    },
    {
      "cell_type": "code",
      "metadata": {
        "colab": {
          "base_uri": "https://localhost:8080/",
          "height": 67
        },
        "id": "kZ5xpNT3nYWd",
        "outputId": "1884f302-f4f1-46ba-e071-d3ab2aaa3a0c"
      },
      "source": [
        "conn"
      ],
      "execution_count": null,
      "outputs": [
        {
          "output_type": "display_data",
          "data": {
            "text/plain": [
              "<SQLiteConnection>\n",
              "  Path: mineduc.db\n",
              "  Extensions: TRUE"
            ]
          },
          "metadata": {
            "tags": []
          }
        }
      ]
    },
    {
      "cell_type": "markdown",
      "metadata": {
        "id": "dD9m7EH2D3Sn"
      },
      "source": [
        "Queremos ver los cambios de nombre para por ejemplo consolidar una base de datos de colegios.\n",
        "\n",
        "\n",
        "```\n",
        "select\n",
        "tabla1.atributo1 as A1,\n",
        "tabla2.atributo2 as A2,\n",
        "...,\n",
        "tabla1.atributon as AN,\n",
        "AVG(tablan.atributon2) as avgatributon\n",
        "\n",
        "From tabla1, tabla2,...,tablan\n",
        "\n",
        "where tabla1.atributo1=tabla3.atributo1      \n",
        "\n",
        "Group by tabla1.atributo1 \n",
        "\n",
        "Having AVG(tablan.atributon2)>3\n",
        "\n",
        "ORDER BY A1 DESC\n",
        "\n",
        "Limit 1000\n",
        "\n",
        "```\n",
        "\n"
      ]
    },
    {
      "cell_type": "code",
      "metadata": {
        "colab": {
          "base_uri": "https://localhost:8080/",
          "height": 34
        },
        "id": "GMA4D34c5bUh",
        "outputId": "6973e733-70eb-466e-d815-06f15f5449c7"
      },
      "source": [
        "dbExecute(conn,\"CREATE TABLE COLESCAMBIO AS\n",
        "select \n",
        "RBD,\n",
        "AGNO,\n",
        "NOM_RBD,\n",
        "LAST_VALUE(NOM_RBD) OVER(PARTITION BY RBD) AS LNAME\n",
        "from colegios;\")"
      ],
      "execution_count": null,
      "outputs": [
        {
          "output_type": "display_data",
          "data": {
            "text/plain": [
              "[1] 0"
            ],
            "text/latex": "0",
            "text/markdown": "0",
            "text/html": [
              "0"
            ]
          },
          "metadata": {}
        }
      ]
    },
    {
      "cell_type": "code",
      "metadata": {
        "colab": {
          "base_uri": "https://localhost:8080/",
          "height": 34
        },
        "id": "KpiPVmzF6Pgy",
        "outputId": "1767fcae-726e-4e4a-e532-e24e39079336"
      },
      "source": [
        "dbListTables(conn)"
      ],
      "execution_count": null,
      "outputs": [
        {
          "output_type": "display_data",
          "data": {
            "text/plain": [
              "[1] \"COLESCAMBIO\" \"alumnos\"     \"colegios\"   "
            ],
            "text/latex": "\\begin{enumerate*}\n\\item 'COLESCAMBIO'\n\\item 'alumnos'\n\\item 'colegios'\n\\end{enumerate*}\n",
            "text/markdown": "1. 'COLESCAMBIO'\n2. 'alumnos'\n3. 'colegios'\n\n\n",
            "text/html": [
              "<style>\n",
              ".list-inline {list-style: none; margin:0; padding: 0}\n",
              ".list-inline>li {display: inline-block}\n",
              ".list-inline>li:not(:last-child)::after {content: \"\\00b7\"; padding: 0 .5ex}\n",
              "</style>\n",
              "<ol class=list-inline><li>'COLESCAMBIO'</li><li>'alumnos'</li><li>'colegios'</li></ol>\n"
            ]
          },
          "metadata": {}
        }
      ]
    },
    {
      "cell_type": "code",
      "metadata": {
        "colab": {
          "base_uri": "https://localhost:8080/",
          "height": 713
        },
        "id": "TGsuZwRO6hN-",
        "outputId": "916ab39f-19a5-40b6-caf7-3e161c9c499b"
      },
      "source": [
        "dbGetQuery(conn, \"select * from COLESCAMBIO limit 20\")"
      ],
      "execution_count": null,
      "outputs": [
        {
          "output_type": "display_data",
          "data": {
            "text/plain": [
              "   RBD AGNO NOM_RBD                               \n",
              "1  1   2003 LICEO POLITECNICO                     \n",
              "2  1   2004 LICEO POLITECNICO ARICA               \n",
              "3  1   2005 LICEO POLITECNICO ARICA               \n",
              "4  1   2006 LICEO POLITECNICO ARICA               \n",
              "5  1   2007 LICEO POLITECNICO ARICA               \n",
              "6  1   2008 LICEO POLITECNICO ARICA               \n",
              "7  1   2009 LICEO POLITECNICO ARICA               \n",
              "8  1   2010 LICEO POLITECNICO ARICA               \n",
              "9  1   2011 LICEO POLITECNICO ARICA               \n",
              "10 1   2012 LICEO POLITECNICO ARICA               \n",
              "11 1   2013 LICEO POLITECNICO ARICA               \n",
              "12 1   2014 LICEO POLITECNICO ARICA               \n",
              "13 1   2015 LICEO POLITECNICO ARICA               \n",
              "14 1   2016 LICEO POLITECNICO ARICA               \n",
              "15 1   2017 LICEO POLITECNICO ARICA               \n",
              "16 1   2018 LICEO POLITECNICO ARICA               \n",
              "17 1   2019 LICEO POLITECNICO ARICA               \n",
              "18 1   2020 LICEO POLITECNICO ARICA               \n",
              "19 3   2003 ESCUELA PEDRO VICENTE GUTIERREZ TORRES\n",
              "20 3   2004 ESCUELA PEDRO VICENTE GUTIERREZ TORRES\n",
              "   LNAME                              \n",
              "1  LICEO POLITECNICO ARICA            \n",
              "2  LICEO POLITECNICO ARICA            \n",
              "3  LICEO POLITECNICO ARICA            \n",
              "4  LICEO POLITECNICO ARICA            \n",
              "5  LICEO POLITECNICO ARICA            \n",
              "6  LICEO POLITECNICO ARICA            \n",
              "7  LICEO POLITECNICO ARICA            \n",
              "8  LICEO POLITECNICO ARICA            \n",
              "9  LICEO POLITECNICO ARICA            \n",
              "10 LICEO POLITECNICO ARICA            \n",
              "11 LICEO POLITECNICO ARICA            \n",
              "12 LICEO POLITECNICO ARICA            \n",
              "13 LICEO POLITECNICO ARICA            \n",
              "14 LICEO POLITECNICO ARICA            \n",
              "15 LICEO POLITECNICO ARICA            \n",
              "16 LICEO POLITECNICO ARICA            \n",
              "17 LICEO POLITECNICO ARICA            \n",
              "18 LICEO POLITECNICO ARICA            \n",
              "19 ESC. PEDRO VICENTE GUTIERREZ TORRES\n",
              "20 ESC. PEDRO VICENTE GUTIERREZ TORRES"
            ],
            "text/latex": "A data.frame: 20 × 4\n\\begin{tabular}{llll}\n RBD & AGNO & NOM\\_RBD & LNAME\\\\\n <int> & <int> & <chr> & <chr>\\\\\n\\hline\n\t 1 & 2003 & LICEO POLITECNICO                      & LICEO POLITECNICO ARICA            \\\\\n\t 1 & 2004 & LICEO POLITECNICO ARICA                & LICEO POLITECNICO ARICA            \\\\\n\t 1 & 2005 & LICEO POLITECNICO ARICA                & LICEO POLITECNICO ARICA            \\\\\n\t 1 & 2006 & LICEO POLITECNICO ARICA                & LICEO POLITECNICO ARICA            \\\\\n\t 1 & 2007 & LICEO POLITECNICO ARICA                & LICEO POLITECNICO ARICA            \\\\\n\t 1 & 2008 & LICEO POLITECNICO ARICA                & LICEO POLITECNICO ARICA            \\\\\n\t 1 & 2009 & LICEO POLITECNICO ARICA                & LICEO POLITECNICO ARICA            \\\\\n\t 1 & 2010 & LICEO POLITECNICO ARICA                & LICEO POLITECNICO ARICA            \\\\\n\t 1 & 2011 & LICEO POLITECNICO ARICA                & LICEO POLITECNICO ARICA            \\\\\n\t 1 & 2012 & LICEO POLITECNICO ARICA                & LICEO POLITECNICO ARICA            \\\\\n\t 1 & 2013 & LICEO POLITECNICO ARICA                & LICEO POLITECNICO ARICA            \\\\\n\t 1 & 2014 & LICEO POLITECNICO ARICA                & LICEO POLITECNICO ARICA            \\\\\n\t 1 & 2015 & LICEO POLITECNICO ARICA                & LICEO POLITECNICO ARICA            \\\\\n\t 1 & 2016 & LICEO POLITECNICO ARICA                & LICEO POLITECNICO ARICA            \\\\\n\t 1 & 2017 & LICEO POLITECNICO ARICA                & LICEO POLITECNICO ARICA            \\\\\n\t 1 & 2018 & LICEO POLITECNICO ARICA                & LICEO POLITECNICO ARICA            \\\\\n\t 1 & 2019 & LICEO POLITECNICO ARICA                & LICEO POLITECNICO ARICA            \\\\\n\t 1 & 2020 & LICEO POLITECNICO ARICA                & LICEO POLITECNICO ARICA            \\\\\n\t 3 & 2003 & ESCUELA PEDRO VICENTE GUTIERREZ TORRES & ESC. PEDRO VICENTE GUTIERREZ TORRES\\\\\n\t 3 & 2004 & ESCUELA PEDRO VICENTE GUTIERREZ TORRES & ESC. PEDRO VICENTE GUTIERREZ TORRES\\\\\n\\end{tabular}\n",
            "text/markdown": "\nA data.frame: 20 × 4\n\n| RBD &lt;int&gt; | AGNO &lt;int&gt; | NOM_RBD &lt;chr&gt; | LNAME &lt;chr&gt; |\n|---|---|---|---|\n| 1 | 2003 | LICEO POLITECNICO                      | LICEO POLITECNICO ARICA             |\n| 1 | 2004 | LICEO POLITECNICO ARICA                | LICEO POLITECNICO ARICA             |\n| 1 | 2005 | LICEO POLITECNICO ARICA                | LICEO POLITECNICO ARICA             |\n| 1 | 2006 | LICEO POLITECNICO ARICA                | LICEO POLITECNICO ARICA             |\n| 1 | 2007 | LICEO POLITECNICO ARICA                | LICEO POLITECNICO ARICA             |\n| 1 | 2008 | LICEO POLITECNICO ARICA                | LICEO POLITECNICO ARICA             |\n| 1 | 2009 | LICEO POLITECNICO ARICA                | LICEO POLITECNICO ARICA             |\n| 1 | 2010 | LICEO POLITECNICO ARICA                | LICEO POLITECNICO ARICA             |\n| 1 | 2011 | LICEO POLITECNICO ARICA                | LICEO POLITECNICO ARICA             |\n| 1 | 2012 | LICEO POLITECNICO ARICA                | LICEO POLITECNICO ARICA             |\n| 1 | 2013 | LICEO POLITECNICO ARICA                | LICEO POLITECNICO ARICA             |\n| 1 | 2014 | LICEO POLITECNICO ARICA                | LICEO POLITECNICO ARICA             |\n| 1 | 2015 | LICEO POLITECNICO ARICA                | LICEO POLITECNICO ARICA             |\n| 1 | 2016 | LICEO POLITECNICO ARICA                | LICEO POLITECNICO ARICA             |\n| 1 | 2017 | LICEO POLITECNICO ARICA                | LICEO POLITECNICO ARICA             |\n| 1 | 2018 | LICEO POLITECNICO ARICA                | LICEO POLITECNICO ARICA             |\n| 1 | 2019 | LICEO POLITECNICO ARICA                | LICEO POLITECNICO ARICA             |\n| 1 | 2020 | LICEO POLITECNICO ARICA                | LICEO POLITECNICO ARICA             |\n| 3 | 2003 | ESCUELA PEDRO VICENTE GUTIERREZ TORRES | ESC. PEDRO VICENTE GUTIERREZ TORRES |\n| 3 | 2004 | ESCUELA PEDRO VICENTE GUTIERREZ TORRES | ESC. PEDRO VICENTE GUTIERREZ TORRES |\n\n",
            "text/html": [
              "<table class=\"dataframe\">\n",
              "<caption>A data.frame: 20 × 4</caption>\n",
              "<thead>\n",
              "\t<tr><th scope=col>RBD</th><th scope=col>AGNO</th><th scope=col>NOM_RBD</th><th scope=col>LNAME</th></tr>\n",
              "\t<tr><th scope=col>&lt;int&gt;</th><th scope=col>&lt;int&gt;</th><th scope=col>&lt;chr&gt;</th><th scope=col>&lt;chr&gt;</th></tr>\n",
              "</thead>\n",
              "<tbody>\n",
              "\t<tr><td>1</td><td>2003</td><td>LICEO POLITECNICO                     </td><td>LICEO POLITECNICO ARICA            </td></tr>\n",
              "\t<tr><td>1</td><td>2004</td><td>LICEO POLITECNICO ARICA               </td><td>LICEO POLITECNICO ARICA            </td></tr>\n",
              "\t<tr><td>1</td><td>2005</td><td>LICEO POLITECNICO ARICA               </td><td>LICEO POLITECNICO ARICA            </td></tr>\n",
              "\t<tr><td>1</td><td>2006</td><td>LICEO POLITECNICO ARICA               </td><td>LICEO POLITECNICO ARICA            </td></tr>\n",
              "\t<tr><td>1</td><td>2007</td><td>LICEO POLITECNICO ARICA               </td><td>LICEO POLITECNICO ARICA            </td></tr>\n",
              "\t<tr><td>1</td><td>2008</td><td>LICEO POLITECNICO ARICA               </td><td>LICEO POLITECNICO ARICA            </td></tr>\n",
              "\t<tr><td>1</td><td>2009</td><td>LICEO POLITECNICO ARICA               </td><td>LICEO POLITECNICO ARICA            </td></tr>\n",
              "\t<tr><td>1</td><td>2010</td><td>LICEO POLITECNICO ARICA               </td><td>LICEO POLITECNICO ARICA            </td></tr>\n",
              "\t<tr><td>1</td><td>2011</td><td>LICEO POLITECNICO ARICA               </td><td>LICEO POLITECNICO ARICA            </td></tr>\n",
              "\t<tr><td>1</td><td>2012</td><td>LICEO POLITECNICO ARICA               </td><td>LICEO POLITECNICO ARICA            </td></tr>\n",
              "\t<tr><td>1</td><td>2013</td><td>LICEO POLITECNICO ARICA               </td><td>LICEO POLITECNICO ARICA            </td></tr>\n",
              "\t<tr><td>1</td><td>2014</td><td>LICEO POLITECNICO ARICA               </td><td>LICEO POLITECNICO ARICA            </td></tr>\n",
              "\t<tr><td>1</td><td>2015</td><td>LICEO POLITECNICO ARICA               </td><td>LICEO POLITECNICO ARICA            </td></tr>\n",
              "\t<tr><td>1</td><td>2016</td><td>LICEO POLITECNICO ARICA               </td><td>LICEO POLITECNICO ARICA            </td></tr>\n",
              "\t<tr><td>1</td><td>2017</td><td>LICEO POLITECNICO ARICA               </td><td>LICEO POLITECNICO ARICA            </td></tr>\n",
              "\t<tr><td>1</td><td>2018</td><td>LICEO POLITECNICO ARICA               </td><td>LICEO POLITECNICO ARICA            </td></tr>\n",
              "\t<tr><td>1</td><td>2019</td><td>LICEO POLITECNICO ARICA               </td><td>LICEO POLITECNICO ARICA            </td></tr>\n",
              "\t<tr><td>1</td><td>2020</td><td>LICEO POLITECNICO ARICA               </td><td>LICEO POLITECNICO ARICA            </td></tr>\n",
              "\t<tr><td>3</td><td>2003</td><td>ESCUELA PEDRO VICENTE GUTIERREZ TORRES</td><td>ESC. PEDRO VICENTE GUTIERREZ TORRES</td></tr>\n",
              "\t<tr><td>3</td><td>2004</td><td>ESCUELA PEDRO VICENTE GUTIERREZ TORRES</td><td>ESC. PEDRO VICENTE GUTIERREZ TORRES</td></tr>\n",
              "</tbody>\n",
              "</table>\n"
            ]
          },
          "metadata": {}
        }
      ]
    },
    {
      "cell_type": "code",
      "metadata": {
        "colab": {
          "base_uri": "https://localhost:8080/",
          "height": 34
        },
        "id": "7HAoeQslqTFa",
        "outputId": "0b79e440-ffbb-46e2-f10e-14bcb1ffdc5f"
      },
      "source": [
        "system(\"wget https://sqlite.org/2016/sqlite-src-3110100.zip\")\n",
        "unzip(\"sqlite-src-3110100.zip\")\n",
        "system(\"gcc -shared -fPIC -Wall -Isqlite-src-3110100 sqlite-src-3110100/ext/misc/spellfix.c -o spellfix.so\")\n",
        "dbExecute(conn,\"select load_extension('./spellfix')\")"
      ],
      "execution_count": null,
      "outputs": [
        {
          "output_type": "display_data",
          "data": {
            "text/plain": [
              "[1] 0"
            ],
            "text/latex": "0",
            "text/markdown": "0",
            "text/html": [
              "0"
            ]
          },
          "metadata": {}
        }
      ]
    },
    {
      "cell_type": "code",
      "metadata": {
        "id": "-HItGRLjuavK",
        "colab": {
          "base_uri": "https://localhost:8080/",
          "height": 1000
        },
        "outputId": "8cfa8510-b45d-46d7-d595-902ecd290015"
      },
      "source": [
        "dbGetQuery(conn,\"\n",
        "select \n",
        "RBD,\n",
        "AGNO,\n",
        "NOM_RBD,\n",
        "LNAME,\n",
        "EDITDIST3(NOM_RBD, LNAME) AS EDIT\n",
        "FROM COLESCAMBIO\")"
      ],
      "execution_count": null,
      "outputs": [
        {
          "output_type": "display_data",
          "data": {
            "text/plain": [
              "       RBD   AGNO\n",
              "1      1     2003\n",
              "2      1     2004\n",
              "3      1     2005\n",
              "4      1     2006\n",
              "5      1     2007\n",
              "6      1     2008\n",
              "7      1     2009\n",
              "8      1     2010\n",
              "9      1     2011\n",
              "10     1     2012\n",
              "11     1     2013\n",
              "12     1     2014\n",
              "13     1     2015\n",
              "14     1     2016\n",
              "15     1     2017\n",
              "16     1     2018\n",
              "17     1     2019\n",
              "18     1     2020\n",
              "19     3     2003\n",
              "20     3     2004\n",
              "21     3     2005\n",
              "22     3     2006\n",
              "23     3     2007\n",
              "24     3     2008\n",
              "25     3     2009\n",
              "26     3     2010\n",
              "27     3     2011\n",
              "28     3     2012\n",
              "29     3     2013\n",
              "30     3     2014\n",
              "⋮      ⋮     ⋮   \n",
              "174216 41274 2020\n",
              "174217 41295 2019\n",
              "174218 41295 2020\n",
              "174219 41349 2019\n",
              "174220 41349 2020\n",
              "174221 41357 2020\n",
              "174222 41374 2020\n",
              "174223 41375 2019\n",
              "174224 41375 2020\n",
              "174225 41417 2019\n",
              "174226 41417 2020\n",
              "174227 41418 2019\n",
              "174228 41418 2020\n",
              "174229 41421 2019\n",
              "174230 41421 2020\n",
              "174231 41439 2020\n",
              "174232 41510 2020\n",
              "174233 41533 2020\n",
              "174234 41556 2020\n",
              "174235 41617 2020\n",
              "174236 41649 2020\n",
              "174237 41654 2020\n",
              "174238 41658 2020\n",
              "174239 41695 2020\n",
              "174240 41702 2020\n",
              "174241 41764 2020\n",
              "174242 41773 2020\n",
              "174243 41780 2020\n",
              "174244 41794 2020\n",
              "174245 41807 2020\n",
              "       NOM_RBD                                                            \n",
              "1      LICEO POLITECNICO                                                  \n",
              "2      LICEO POLITECNICO ARICA                                            \n",
              "3      LICEO POLITECNICO ARICA                                            \n",
              "4      LICEO POLITECNICO ARICA                                            \n",
              "5      LICEO POLITECNICO ARICA                                            \n",
              "6      LICEO POLITECNICO ARICA                                            \n",
              "7      LICEO POLITECNICO ARICA                                            \n",
              "8      LICEO POLITECNICO ARICA                                            \n",
              "9      LICEO POLITECNICO ARICA                                            \n",
              "10     LICEO POLITECNICO ARICA                                            \n",
              "11     LICEO POLITECNICO ARICA                                            \n",
              "12     LICEO POLITECNICO ARICA                                            \n",
              "13     LICEO POLITECNICO ARICA                                            \n",
              "14     LICEO POLITECNICO ARICA                                            \n",
              "15     LICEO POLITECNICO ARICA                                            \n",
              "16     LICEO POLITECNICO ARICA                                            \n",
              "17     LICEO POLITECNICO ARICA                                            \n",
              "18     LICEO POLITECNICO ARICA                                            \n",
              "19     ESCUELA PEDRO VICENTE GUTIERREZ TORRES                             \n",
              "20     ESCUELA PEDRO VICENTE GUTIERREZ TORRES                             \n",
              "21     ESCUELA PEDRO VICENTE GUTIERREZ TORRES                             \n",
              "22     ESCUELA PEDRO VICENTE GUTIERREZ TORRES                             \n",
              "23     ESCUELA PEDRO VICENTE GUTIERREZ TORRES                             \n",
              "24     ESCUELA PEDRO VICENTE GUTIERREZ TORRES                             \n",
              "25     ESC. PEDRO VICENTE GUTIERREZ TORRES                                \n",
              "26     ESC. PEDRO VICENTE GUTIERREZ TORRES                                \n",
              "27     ESC. PEDRO VICENTE GUTIERREZ TORRES                                \n",
              "28     ESC. PEDRO VICENTE GUTIERREZ TORRES                                \n",
              "29     ESC. PEDRO VICENTE GUTIERREZ TORRES                                \n",
              "30     ESC. PEDRO VICENTE GUTIERREZ TORRES                                \n",
              "⋮      ⋮                                                                  \n",
              "174216 ESCUELA CARCEL CARLOS ALVEAL MUÑOZ                                 \n",
              "174217 ESCUELA DEL CARIÑO IX                                              \n",
              "174218 ESCUELA DEL CARIÑO IX                                              \n",
              "174219 AULA HOSPITALARIA HOSPITAL RANCAGUA                                \n",
              "174220 AULA HOSPITALARIA HOSPITAL RANCAGUA                                \n",
              "174221 COLEGIO CAMPOS DEL RANCO                                           \n",
              "174222 COLEGIO DE ADULTOS RENACER                                         \n",
              "174223 CENTRO DE EDUCACIÓN DE ADULTOS (C.E.I.A.),`INSTITUTO POPULAR AYSÉN`\n",
              "174224 CENTRO DE EDUCACIÓN DE ADULTOS (C.E.I.A.),`INSTITUTO POPULAR AYSÉN`\n",
              "174225 ESCUELA HOSPITALARIA DE ANGOL                                      \n",
              "174226 ESCUELA HOSPITALARIA DE ANGOL                                      \n",
              "174227 ESCUELA HOSPITALARIA DE VICTORIA                                   \n",
              "174228 ESCUELA HOSPITALARIA DE VICTORIA                                   \n",
              "174229 INSTITUTO PREMILITAR DE CHILE                                      \n",
              "174230 INSTITUTO PREMILITAR DE CHILE                                      \n",
              "174231 COLEGIO PATAGONIA PUERTO VARAS                                     \n",
              "174232 COLEGIO EVERGREEN DE LA LIGUA                                      \n",
              "174233 CENTRO EDUCACIONAL INTEGRADO DE ADULTOS LATINOAMERICANO            \n",
              "174234 COLEGIO RAYUN REÑACA                                               \n",
              "174235 COLEGIO SAN FRANCISCO TECNICO PROFESIONAL                          \n",
              "174236 ESCUELA HOSPITALARIA DE GALVARINO                                  \n",
              "174237 AULA HOSPITALARIA HOSPITAL CLÍNICO MAGALLANES                      \n",
              "174238 COLEGIO EINSTEIN                                                   \n",
              "174239 ESCUELA HOSPITALARIA. JUNTOS FORJANDO EL MAÑANA                    \n",
              "174240 COLEGIO PRESTON SCHOOL                                             \n",
              "174241 AULA HOSPITALARIA DOMICILIARIA MEJILLONES                          \n",
              "174242 ESCUELA BASICA COLEGIO PARTICULAR CONDORES DE LINDEROS             \n",
              "174243 COLEGIO ALICANTO                                                   \n",
              "174244 ESCUELA PREMILITAR PEQUEÑOS HEROES DE LACONCEPCION                 \n",
              "174245 INSTITUTO DE ENSEÑANZA PRIMARIA PROFESOR PAULO ALVAREZ             \n",
              "       LNAME                                                               EDIT\n",
              "1      LICEO POLITECNICO ARICA                                             600 \n",
              "2      LICEO POLITECNICO ARICA                                               0 \n",
              "3      LICEO POLITECNICO ARICA                                               0 \n",
              "4      LICEO POLITECNICO ARICA                                               0 \n",
              "5      LICEO POLITECNICO ARICA                                               0 \n",
              "6      LICEO POLITECNICO ARICA                                               0 \n",
              "7      LICEO POLITECNICO ARICA                                               0 \n",
              "8      LICEO POLITECNICO ARICA                                               0 \n",
              "9      LICEO POLITECNICO ARICA                                               0 \n",
              "10     LICEO POLITECNICO ARICA                                               0 \n",
              "11     LICEO POLITECNICO ARICA                                               0 \n",
              "12     LICEO POLITECNICO ARICA                                               0 \n",
              "13     LICEO POLITECNICO ARICA                                               0 \n",
              "14     LICEO POLITECNICO ARICA                                               0 \n",
              "15     LICEO POLITECNICO ARICA                                               0 \n",
              "16     LICEO POLITECNICO ARICA                                               0 \n",
              "17     LICEO POLITECNICO ARICA                                               0 \n",
              "18     LICEO POLITECNICO ARICA                                               0 \n",
              "19     ESC. PEDRO VICENTE GUTIERREZ TORRES                                 450 \n",
              "20     ESC. PEDRO VICENTE GUTIERREZ TORRES                                 450 \n",
              "21     ESC. PEDRO VICENTE GUTIERREZ TORRES                                 450 \n",
              "22     ESC. PEDRO VICENTE GUTIERREZ TORRES                                 450 \n",
              "23     ESC. PEDRO VICENTE GUTIERREZ TORRES                                 450 \n",
              "24     ESC. PEDRO VICENTE GUTIERREZ TORRES                                 450 \n",
              "25     ESC. PEDRO VICENTE GUTIERREZ TORRES                                   0 \n",
              "26     ESC. PEDRO VICENTE GUTIERREZ TORRES                                   0 \n",
              "27     ESC. PEDRO VICENTE GUTIERREZ TORRES                                   0 \n",
              "28     ESC. PEDRO VICENTE GUTIERREZ TORRES                                   0 \n",
              "29     ESC. PEDRO VICENTE GUTIERREZ TORRES                                   0 \n",
              "30     ESC. PEDRO VICENTE GUTIERREZ TORRES                                   0 \n",
              "⋮      ⋮                                                                   ⋮   \n",
              "174216 ESCUELA CARCEL CARLOS ALVEAL MUÑOZ                                  0   \n",
              "174217 ESCUELA DEL CARIÑO IX                                               0   \n",
              "174218 ESCUELA DEL CARIÑO IX                                               0   \n",
              "174219 AULA HOSPITALARIA HOSPITAL RANCAGUA                                 0   \n",
              "174220 AULA HOSPITALARIA HOSPITAL RANCAGUA                                 0   \n",
              "174221 COLEGIO CAMPOS DEL RANCO                                            0   \n",
              "174222 COLEGIO DE ADULTOS RENACER                                          0   \n",
              "174223 CENTRO DE EDUCACIÓN DE ADULTOS (C.E.I.A.),`INSTITUTO POPULAR AYSÉN` 0   \n",
              "174224 CENTRO DE EDUCACIÓN DE ADULTOS (C.E.I.A.),`INSTITUTO POPULAR AYSÉN` 0   \n",
              "174225 ESCUELA HOSPITALARIA DE ANGOL                                       0   \n",
              "174226 ESCUELA HOSPITALARIA DE ANGOL                                       0   \n",
              "174227 ESCUELA HOSPITALARIA DE VICTORIA                                    0   \n",
              "174228 ESCUELA HOSPITALARIA DE VICTORIA                                    0   \n",
              "174229 INSTITUTO PREMILITAR DE CHILE                                       0   \n",
              "174230 INSTITUTO PREMILITAR DE CHILE                                       0   \n",
              "174231 COLEGIO PATAGONIA PUERTO VARAS                                      0   \n",
              "174232 COLEGIO EVERGREEN DE LA LIGUA                                       0   \n",
              "174233 CENTRO EDUCACIONAL INTEGRADO DE ADULTOS LATINOAMERICANO             0   \n",
              "174234 COLEGIO RAYUN REÑACA                                                0   \n",
              "174235 COLEGIO SAN FRANCISCO TECNICO PROFESIONAL                           0   \n",
              "174236 ESCUELA HOSPITALARIA DE GALVARINO                                   0   \n",
              "174237 AULA HOSPITALARIA HOSPITAL CLÍNICO MAGALLANES                       0   \n",
              "174238 COLEGIO EINSTEIN                                                    0   \n",
              "174239 ESCUELA HOSPITALARIA. JUNTOS FORJANDO EL MAÑANA                     0   \n",
              "174240 COLEGIO PRESTON SCHOOL                                              0   \n",
              "174241 AULA HOSPITALARIA DOMICILIARIA MEJILLONES                           0   \n",
              "174242 ESCUELA BASICA COLEGIO PARTICULAR CONDORES DE LINDEROS              0   \n",
              "174243 COLEGIO ALICANTO                                                    0   \n",
              "174244 ESCUELA PREMILITAR PEQUEÑOS HEROES DE LACONCEPCION                  0   \n",
              "174245 INSTITUTO DE ENSEÑANZA PRIMARIA PROFESOR PAULO ALVAREZ              0   "
            ],
            "text/latex": "A data.frame: 174245 × 5\n\\begin{tabular}{lllll}\n RBD & AGNO & NOM\\_RBD & LNAME & EDIT\\\\\n <int> & <int> & <chr> & <chr> & <int>\\\\\n\\hline\n\t 1 & 2003 & LICEO POLITECNICO                      & LICEO POLITECNICO ARICA             & 600\\\\\n\t 1 & 2004 & LICEO POLITECNICO ARICA                & LICEO POLITECNICO ARICA             &   0\\\\\n\t 1 & 2005 & LICEO POLITECNICO ARICA                & LICEO POLITECNICO ARICA             &   0\\\\\n\t 1 & 2006 & LICEO POLITECNICO ARICA                & LICEO POLITECNICO ARICA             &   0\\\\\n\t 1 & 2007 & LICEO POLITECNICO ARICA                & LICEO POLITECNICO ARICA             &   0\\\\\n\t 1 & 2008 & LICEO POLITECNICO ARICA                & LICEO POLITECNICO ARICA             &   0\\\\\n\t 1 & 2009 & LICEO POLITECNICO ARICA                & LICEO POLITECNICO ARICA             &   0\\\\\n\t 1 & 2010 & LICEO POLITECNICO ARICA                & LICEO POLITECNICO ARICA             &   0\\\\\n\t 1 & 2011 & LICEO POLITECNICO ARICA                & LICEO POLITECNICO ARICA             &   0\\\\\n\t 1 & 2012 & LICEO POLITECNICO ARICA                & LICEO POLITECNICO ARICA             &   0\\\\\n\t 1 & 2013 & LICEO POLITECNICO ARICA                & LICEO POLITECNICO ARICA             &   0\\\\\n\t 1 & 2014 & LICEO POLITECNICO ARICA                & LICEO POLITECNICO ARICA             &   0\\\\\n\t 1 & 2015 & LICEO POLITECNICO ARICA                & LICEO POLITECNICO ARICA             &   0\\\\\n\t 1 & 2016 & LICEO POLITECNICO ARICA                & LICEO POLITECNICO ARICA             &   0\\\\\n\t 1 & 2017 & LICEO POLITECNICO ARICA                & LICEO POLITECNICO ARICA             &   0\\\\\n\t 1 & 2018 & LICEO POLITECNICO ARICA                & LICEO POLITECNICO ARICA             &   0\\\\\n\t 1 & 2019 & LICEO POLITECNICO ARICA                & LICEO POLITECNICO ARICA             &   0\\\\\n\t 1 & 2020 & LICEO POLITECNICO ARICA                & LICEO POLITECNICO ARICA             &   0\\\\\n\t 3 & 2003 & ESCUELA PEDRO VICENTE GUTIERREZ TORRES & ESC. PEDRO VICENTE GUTIERREZ TORRES & 450\\\\\n\t 3 & 2004 & ESCUELA PEDRO VICENTE GUTIERREZ TORRES & ESC. PEDRO VICENTE GUTIERREZ TORRES & 450\\\\\n\t 3 & 2005 & ESCUELA PEDRO VICENTE GUTIERREZ TORRES & ESC. PEDRO VICENTE GUTIERREZ TORRES & 450\\\\\n\t 3 & 2006 & ESCUELA PEDRO VICENTE GUTIERREZ TORRES & ESC. PEDRO VICENTE GUTIERREZ TORRES & 450\\\\\n\t 3 & 2007 & ESCUELA PEDRO VICENTE GUTIERREZ TORRES & ESC. PEDRO VICENTE GUTIERREZ TORRES & 450\\\\\n\t 3 & 2008 & ESCUELA PEDRO VICENTE GUTIERREZ TORRES & ESC. PEDRO VICENTE GUTIERREZ TORRES & 450\\\\\n\t 3 & 2009 & ESC. PEDRO VICENTE GUTIERREZ TORRES    & ESC. PEDRO VICENTE GUTIERREZ TORRES &   0\\\\\n\t 3 & 2010 & ESC. PEDRO VICENTE GUTIERREZ TORRES    & ESC. PEDRO VICENTE GUTIERREZ TORRES &   0\\\\\n\t 3 & 2011 & ESC. PEDRO VICENTE GUTIERREZ TORRES    & ESC. PEDRO VICENTE GUTIERREZ TORRES &   0\\\\\n\t 3 & 2012 & ESC. PEDRO VICENTE GUTIERREZ TORRES    & ESC. PEDRO VICENTE GUTIERREZ TORRES &   0\\\\\n\t 3 & 2013 & ESC. PEDRO VICENTE GUTIERREZ TORRES    & ESC. PEDRO VICENTE GUTIERREZ TORRES &   0\\\\\n\t 3 & 2014 & ESC. PEDRO VICENTE GUTIERREZ TORRES    & ESC. PEDRO VICENTE GUTIERREZ TORRES &   0\\\\\n\t ⋮ & ⋮ & ⋮ & ⋮ & ⋮\\\\\n\t 41274 & 2020 & ESCUELA CARCEL CARLOS ALVEAL MUÑOZ                                  & ESCUELA CARCEL CARLOS ALVEAL MUÑOZ                                  & 0\\\\\n\t 41295 & 2019 & ESCUELA DEL CARIÑO IX                                               & ESCUELA DEL CARIÑO IX                                               & 0\\\\\n\t 41295 & 2020 & ESCUELA DEL CARIÑO IX                                               & ESCUELA DEL CARIÑO IX                                               & 0\\\\\n\t 41349 & 2019 & AULA HOSPITALARIA HOSPITAL RANCAGUA                                 & AULA HOSPITALARIA HOSPITAL RANCAGUA                                 & 0\\\\\n\t 41349 & 2020 & AULA HOSPITALARIA HOSPITAL RANCAGUA                                 & AULA HOSPITALARIA HOSPITAL RANCAGUA                                 & 0\\\\\n\t 41357 & 2020 & COLEGIO CAMPOS DEL RANCO                                            & COLEGIO CAMPOS DEL RANCO                                            & 0\\\\\n\t 41374 & 2020 & COLEGIO DE ADULTOS RENACER                                          & COLEGIO DE ADULTOS RENACER                                          & 0\\\\\n\t 41375 & 2019 & CENTRO DE EDUCACIÓN DE ADULTOS (C.E.I.A.),`INSTITUTO POPULAR AYSÉN` & CENTRO DE EDUCACIÓN DE ADULTOS (C.E.I.A.),`INSTITUTO POPULAR AYSÉN` & 0\\\\\n\t 41375 & 2020 & CENTRO DE EDUCACIÓN DE ADULTOS (C.E.I.A.),`INSTITUTO POPULAR AYSÉN` & CENTRO DE EDUCACIÓN DE ADULTOS (C.E.I.A.),`INSTITUTO POPULAR AYSÉN` & 0\\\\\n\t 41417 & 2019 & ESCUELA HOSPITALARIA DE ANGOL                                       & ESCUELA HOSPITALARIA DE ANGOL                                       & 0\\\\\n\t 41417 & 2020 & ESCUELA HOSPITALARIA DE ANGOL                                       & ESCUELA HOSPITALARIA DE ANGOL                                       & 0\\\\\n\t 41418 & 2019 & ESCUELA HOSPITALARIA DE VICTORIA                                    & ESCUELA HOSPITALARIA DE VICTORIA                                    & 0\\\\\n\t 41418 & 2020 & ESCUELA HOSPITALARIA DE VICTORIA                                    & ESCUELA HOSPITALARIA DE VICTORIA                                    & 0\\\\\n\t 41421 & 2019 & INSTITUTO PREMILITAR DE CHILE                                       & INSTITUTO PREMILITAR DE CHILE                                       & 0\\\\\n\t 41421 & 2020 & INSTITUTO PREMILITAR DE CHILE                                       & INSTITUTO PREMILITAR DE CHILE                                       & 0\\\\\n\t 41439 & 2020 & COLEGIO PATAGONIA PUERTO VARAS                                      & COLEGIO PATAGONIA PUERTO VARAS                                      & 0\\\\\n\t 41510 & 2020 & COLEGIO EVERGREEN DE LA LIGUA                                       & COLEGIO EVERGREEN DE LA LIGUA                                       & 0\\\\\n\t 41533 & 2020 & CENTRO EDUCACIONAL INTEGRADO DE ADULTOS LATINOAMERICANO             & CENTRO EDUCACIONAL INTEGRADO DE ADULTOS LATINOAMERICANO             & 0\\\\\n\t 41556 & 2020 & COLEGIO RAYUN REÑACA                                                & COLEGIO RAYUN REÑACA                                                & 0\\\\\n\t 41617 & 2020 & COLEGIO SAN FRANCISCO TECNICO PROFESIONAL                           & COLEGIO SAN FRANCISCO TECNICO PROFESIONAL                           & 0\\\\\n\t 41649 & 2020 & ESCUELA HOSPITALARIA DE GALVARINO                                   & ESCUELA HOSPITALARIA DE GALVARINO                                   & 0\\\\\n\t 41654 & 2020 & AULA HOSPITALARIA HOSPITAL CLÍNICO MAGALLANES                       & AULA HOSPITALARIA HOSPITAL CLÍNICO MAGALLANES                       & 0\\\\\n\t 41658 & 2020 & COLEGIO EINSTEIN                                                    & COLEGIO EINSTEIN                                                    & 0\\\\\n\t 41695 & 2020 & ESCUELA HOSPITALARIA. JUNTOS FORJANDO EL MAÑANA                     & ESCUELA HOSPITALARIA. JUNTOS FORJANDO EL MAÑANA                     & 0\\\\\n\t 41702 & 2020 & COLEGIO PRESTON SCHOOL                                              & COLEGIO PRESTON SCHOOL                                              & 0\\\\\n\t 41764 & 2020 & AULA HOSPITALARIA DOMICILIARIA MEJILLONES                           & AULA HOSPITALARIA DOMICILIARIA MEJILLONES                           & 0\\\\\n\t 41773 & 2020 & ESCUELA BASICA COLEGIO PARTICULAR CONDORES DE LINDEROS              & ESCUELA BASICA COLEGIO PARTICULAR CONDORES DE LINDEROS              & 0\\\\\n\t 41780 & 2020 & COLEGIO ALICANTO                                                    & COLEGIO ALICANTO                                                    & 0\\\\\n\t 41794 & 2020 & ESCUELA PREMILITAR PEQUEÑOS HEROES DE LACONCEPCION                  & ESCUELA PREMILITAR PEQUEÑOS HEROES DE LACONCEPCION                  & 0\\\\\n\t 41807 & 2020 & INSTITUTO DE ENSEÑANZA PRIMARIA PROFESOR PAULO ALVAREZ              & INSTITUTO DE ENSEÑANZA PRIMARIA PROFESOR PAULO ALVAREZ              & 0\\\\\n\\end{tabular}\n",
            "text/markdown": "\nA data.frame: 174245 × 5\n\n| RBD &lt;int&gt; | AGNO &lt;int&gt; | NOM_RBD &lt;chr&gt; | LNAME &lt;chr&gt; | EDIT &lt;int&gt; |\n|---|---|---|---|---|\n| 1 | 2003 | LICEO POLITECNICO                      | LICEO POLITECNICO ARICA             | 600 |\n| 1 | 2004 | LICEO POLITECNICO ARICA                | LICEO POLITECNICO ARICA             |   0 |\n| 1 | 2005 | LICEO POLITECNICO ARICA                | LICEO POLITECNICO ARICA             |   0 |\n| 1 | 2006 | LICEO POLITECNICO ARICA                | LICEO POLITECNICO ARICA             |   0 |\n| 1 | 2007 | LICEO POLITECNICO ARICA                | LICEO POLITECNICO ARICA             |   0 |\n| 1 | 2008 | LICEO POLITECNICO ARICA                | LICEO POLITECNICO ARICA             |   0 |\n| 1 | 2009 | LICEO POLITECNICO ARICA                | LICEO POLITECNICO ARICA             |   0 |\n| 1 | 2010 | LICEO POLITECNICO ARICA                | LICEO POLITECNICO ARICA             |   0 |\n| 1 | 2011 | LICEO POLITECNICO ARICA                | LICEO POLITECNICO ARICA             |   0 |\n| 1 | 2012 | LICEO POLITECNICO ARICA                | LICEO POLITECNICO ARICA             |   0 |\n| 1 | 2013 | LICEO POLITECNICO ARICA                | LICEO POLITECNICO ARICA             |   0 |\n| 1 | 2014 | LICEO POLITECNICO ARICA                | LICEO POLITECNICO ARICA             |   0 |\n| 1 | 2015 | LICEO POLITECNICO ARICA                | LICEO POLITECNICO ARICA             |   0 |\n| 1 | 2016 | LICEO POLITECNICO ARICA                | LICEO POLITECNICO ARICA             |   0 |\n| 1 | 2017 | LICEO POLITECNICO ARICA                | LICEO POLITECNICO ARICA             |   0 |\n| 1 | 2018 | LICEO POLITECNICO ARICA                | LICEO POLITECNICO ARICA             |   0 |\n| 1 | 2019 | LICEO POLITECNICO ARICA                | LICEO POLITECNICO ARICA             |   0 |\n| 1 | 2020 | LICEO POLITECNICO ARICA                | LICEO POLITECNICO ARICA             |   0 |\n| 3 | 2003 | ESCUELA PEDRO VICENTE GUTIERREZ TORRES | ESC. PEDRO VICENTE GUTIERREZ TORRES | 450 |\n| 3 | 2004 | ESCUELA PEDRO VICENTE GUTIERREZ TORRES | ESC. PEDRO VICENTE GUTIERREZ TORRES | 450 |\n| 3 | 2005 | ESCUELA PEDRO VICENTE GUTIERREZ TORRES | ESC. PEDRO VICENTE GUTIERREZ TORRES | 450 |\n| 3 | 2006 | ESCUELA PEDRO VICENTE GUTIERREZ TORRES | ESC. PEDRO VICENTE GUTIERREZ TORRES | 450 |\n| 3 | 2007 | ESCUELA PEDRO VICENTE GUTIERREZ TORRES | ESC. PEDRO VICENTE GUTIERREZ TORRES | 450 |\n| 3 | 2008 | ESCUELA PEDRO VICENTE GUTIERREZ TORRES | ESC. PEDRO VICENTE GUTIERREZ TORRES | 450 |\n| 3 | 2009 | ESC. PEDRO VICENTE GUTIERREZ TORRES    | ESC. PEDRO VICENTE GUTIERREZ TORRES |   0 |\n| 3 | 2010 | ESC. PEDRO VICENTE GUTIERREZ TORRES    | ESC. PEDRO VICENTE GUTIERREZ TORRES |   0 |\n| 3 | 2011 | ESC. PEDRO VICENTE GUTIERREZ TORRES    | ESC. PEDRO VICENTE GUTIERREZ TORRES |   0 |\n| 3 | 2012 | ESC. PEDRO VICENTE GUTIERREZ TORRES    | ESC. PEDRO VICENTE GUTIERREZ TORRES |   0 |\n| 3 | 2013 | ESC. PEDRO VICENTE GUTIERREZ TORRES    | ESC. PEDRO VICENTE GUTIERREZ TORRES |   0 |\n| 3 | 2014 | ESC. PEDRO VICENTE GUTIERREZ TORRES    | ESC. PEDRO VICENTE GUTIERREZ TORRES |   0 |\n| ⋮ | ⋮ | ⋮ | ⋮ | ⋮ |\n| 41274 | 2020 | ESCUELA CARCEL CARLOS ALVEAL MUÑOZ                                  | ESCUELA CARCEL CARLOS ALVEAL MUÑOZ                                  | 0 |\n| 41295 | 2019 | ESCUELA DEL CARIÑO IX                                               | ESCUELA DEL CARIÑO IX                                               | 0 |\n| 41295 | 2020 | ESCUELA DEL CARIÑO IX                                               | ESCUELA DEL CARIÑO IX                                               | 0 |\n| 41349 | 2019 | AULA HOSPITALARIA HOSPITAL RANCAGUA                                 | AULA HOSPITALARIA HOSPITAL RANCAGUA                                 | 0 |\n| 41349 | 2020 | AULA HOSPITALARIA HOSPITAL RANCAGUA                                 | AULA HOSPITALARIA HOSPITAL RANCAGUA                                 | 0 |\n| 41357 | 2020 | COLEGIO CAMPOS DEL RANCO                                            | COLEGIO CAMPOS DEL RANCO                                            | 0 |\n| 41374 | 2020 | COLEGIO DE ADULTOS RENACER                                          | COLEGIO DE ADULTOS RENACER                                          | 0 |\n| 41375 | 2019 | CENTRO DE EDUCACIÓN DE ADULTOS (C.E.I.A.),`INSTITUTO POPULAR AYSÉN` | CENTRO DE EDUCACIÓN DE ADULTOS (C.E.I.A.),`INSTITUTO POPULAR AYSÉN` | 0 |\n| 41375 | 2020 | CENTRO DE EDUCACIÓN DE ADULTOS (C.E.I.A.),`INSTITUTO POPULAR AYSÉN` | CENTRO DE EDUCACIÓN DE ADULTOS (C.E.I.A.),`INSTITUTO POPULAR AYSÉN` | 0 |\n| 41417 | 2019 | ESCUELA HOSPITALARIA DE ANGOL                                       | ESCUELA HOSPITALARIA DE ANGOL                                       | 0 |\n| 41417 | 2020 | ESCUELA HOSPITALARIA DE ANGOL                                       | ESCUELA HOSPITALARIA DE ANGOL                                       | 0 |\n| 41418 | 2019 | ESCUELA HOSPITALARIA DE VICTORIA                                    | ESCUELA HOSPITALARIA DE VICTORIA                                    | 0 |\n| 41418 | 2020 | ESCUELA HOSPITALARIA DE VICTORIA                                    | ESCUELA HOSPITALARIA DE VICTORIA                                    | 0 |\n| 41421 | 2019 | INSTITUTO PREMILITAR DE CHILE                                       | INSTITUTO PREMILITAR DE CHILE                                       | 0 |\n| 41421 | 2020 | INSTITUTO PREMILITAR DE CHILE                                       | INSTITUTO PREMILITAR DE CHILE                                       | 0 |\n| 41439 | 2020 | COLEGIO PATAGONIA PUERTO VARAS                                      | COLEGIO PATAGONIA PUERTO VARAS                                      | 0 |\n| 41510 | 2020 | COLEGIO EVERGREEN DE LA LIGUA                                       | COLEGIO EVERGREEN DE LA LIGUA                                       | 0 |\n| 41533 | 2020 | CENTRO EDUCACIONAL INTEGRADO DE ADULTOS LATINOAMERICANO             | CENTRO EDUCACIONAL INTEGRADO DE ADULTOS LATINOAMERICANO             | 0 |\n| 41556 | 2020 | COLEGIO RAYUN REÑACA                                                | COLEGIO RAYUN REÑACA                                                | 0 |\n| 41617 | 2020 | COLEGIO SAN FRANCISCO TECNICO PROFESIONAL                           | COLEGIO SAN FRANCISCO TECNICO PROFESIONAL                           | 0 |\n| 41649 | 2020 | ESCUELA HOSPITALARIA DE GALVARINO                                   | ESCUELA HOSPITALARIA DE GALVARINO                                   | 0 |\n| 41654 | 2020 | AULA HOSPITALARIA HOSPITAL CLÍNICO MAGALLANES                       | AULA HOSPITALARIA HOSPITAL CLÍNICO MAGALLANES                       | 0 |\n| 41658 | 2020 | COLEGIO EINSTEIN                                                    | COLEGIO EINSTEIN                                                    | 0 |\n| 41695 | 2020 | ESCUELA HOSPITALARIA. JUNTOS FORJANDO EL MAÑANA                     | ESCUELA HOSPITALARIA. JUNTOS FORJANDO EL MAÑANA                     | 0 |\n| 41702 | 2020 | COLEGIO PRESTON SCHOOL                                              | COLEGIO PRESTON SCHOOL                                              | 0 |\n| 41764 | 2020 | AULA HOSPITALARIA DOMICILIARIA MEJILLONES                           | AULA HOSPITALARIA DOMICILIARIA MEJILLONES                           | 0 |\n| 41773 | 2020 | ESCUELA BASICA COLEGIO PARTICULAR CONDORES DE LINDEROS              | ESCUELA BASICA COLEGIO PARTICULAR CONDORES DE LINDEROS              | 0 |\n| 41780 | 2020 | COLEGIO ALICANTO                                                    | COLEGIO ALICANTO                                                    | 0 |\n| 41794 | 2020 | ESCUELA PREMILITAR PEQUEÑOS HEROES DE LACONCEPCION                  | ESCUELA PREMILITAR PEQUEÑOS HEROES DE LACONCEPCION                  | 0 |\n| 41807 | 2020 | INSTITUTO DE ENSEÑANZA PRIMARIA PROFESOR PAULO ALVAREZ              | INSTITUTO DE ENSEÑANZA PRIMARIA PROFESOR PAULO ALVAREZ              | 0 |\n\n",
            "text/html": [
              "<table class=\"dataframe\">\n",
              "<caption>A data.frame: 174245 × 5</caption>\n",
              "<thead>\n",
              "\t<tr><th scope=col>RBD</th><th scope=col>AGNO</th><th scope=col>NOM_RBD</th><th scope=col>LNAME</th><th scope=col>EDIT</th></tr>\n",
              "\t<tr><th scope=col>&lt;int&gt;</th><th scope=col>&lt;int&gt;</th><th scope=col>&lt;chr&gt;</th><th scope=col>&lt;chr&gt;</th><th scope=col>&lt;int&gt;</th></tr>\n",
              "</thead>\n",
              "<tbody>\n",
              "\t<tr><td>1</td><td>2003</td><td>LICEO POLITECNICO                     </td><td>LICEO POLITECNICO ARICA            </td><td>600</td></tr>\n",
              "\t<tr><td>1</td><td>2004</td><td>LICEO POLITECNICO ARICA               </td><td>LICEO POLITECNICO ARICA            </td><td>  0</td></tr>\n",
              "\t<tr><td>1</td><td>2005</td><td>LICEO POLITECNICO ARICA               </td><td>LICEO POLITECNICO ARICA            </td><td>  0</td></tr>\n",
              "\t<tr><td>1</td><td>2006</td><td>LICEO POLITECNICO ARICA               </td><td>LICEO POLITECNICO ARICA            </td><td>  0</td></tr>\n",
              "\t<tr><td>1</td><td>2007</td><td>LICEO POLITECNICO ARICA               </td><td>LICEO POLITECNICO ARICA            </td><td>  0</td></tr>\n",
              "\t<tr><td>1</td><td>2008</td><td>LICEO POLITECNICO ARICA               </td><td>LICEO POLITECNICO ARICA            </td><td>  0</td></tr>\n",
              "\t<tr><td>1</td><td>2009</td><td>LICEO POLITECNICO ARICA               </td><td>LICEO POLITECNICO ARICA            </td><td>  0</td></tr>\n",
              "\t<tr><td>1</td><td>2010</td><td>LICEO POLITECNICO ARICA               </td><td>LICEO POLITECNICO ARICA            </td><td>  0</td></tr>\n",
              "\t<tr><td>1</td><td>2011</td><td>LICEO POLITECNICO ARICA               </td><td>LICEO POLITECNICO ARICA            </td><td>  0</td></tr>\n",
              "\t<tr><td>1</td><td>2012</td><td>LICEO POLITECNICO ARICA               </td><td>LICEO POLITECNICO ARICA            </td><td>  0</td></tr>\n",
              "\t<tr><td>1</td><td>2013</td><td>LICEO POLITECNICO ARICA               </td><td>LICEO POLITECNICO ARICA            </td><td>  0</td></tr>\n",
              "\t<tr><td>1</td><td>2014</td><td>LICEO POLITECNICO ARICA               </td><td>LICEO POLITECNICO ARICA            </td><td>  0</td></tr>\n",
              "\t<tr><td>1</td><td>2015</td><td>LICEO POLITECNICO ARICA               </td><td>LICEO POLITECNICO ARICA            </td><td>  0</td></tr>\n",
              "\t<tr><td>1</td><td>2016</td><td>LICEO POLITECNICO ARICA               </td><td>LICEO POLITECNICO ARICA            </td><td>  0</td></tr>\n",
              "\t<tr><td>1</td><td>2017</td><td>LICEO POLITECNICO ARICA               </td><td>LICEO POLITECNICO ARICA            </td><td>  0</td></tr>\n",
              "\t<tr><td>1</td><td>2018</td><td>LICEO POLITECNICO ARICA               </td><td>LICEO POLITECNICO ARICA            </td><td>  0</td></tr>\n",
              "\t<tr><td>1</td><td>2019</td><td>LICEO POLITECNICO ARICA               </td><td>LICEO POLITECNICO ARICA            </td><td>  0</td></tr>\n",
              "\t<tr><td>1</td><td>2020</td><td>LICEO POLITECNICO ARICA               </td><td>LICEO POLITECNICO ARICA            </td><td>  0</td></tr>\n",
              "\t<tr><td>3</td><td>2003</td><td>ESCUELA PEDRO VICENTE GUTIERREZ TORRES</td><td>ESC. PEDRO VICENTE GUTIERREZ TORRES</td><td>450</td></tr>\n",
              "\t<tr><td>3</td><td>2004</td><td>ESCUELA PEDRO VICENTE GUTIERREZ TORRES</td><td>ESC. PEDRO VICENTE GUTIERREZ TORRES</td><td>450</td></tr>\n",
              "\t<tr><td>3</td><td>2005</td><td>ESCUELA PEDRO VICENTE GUTIERREZ TORRES</td><td>ESC. PEDRO VICENTE GUTIERREZ TORRES</td><td>450</td></tr>\n",
              "\t<tr><td>3</td><td>2006</td><td>ESCUELA PEDRO VICENTE GUTIERREZ TORRES</td><td>ESC. PEDRO VICENTE GUTIERREZ TORRES</td><td>450</td></tr>\n",
              "\t<tr><td>3</td><td>2007</td><td>ESCUELA PEDRO VICENTE GUTIERREZ TORRES</td><td>ESC. PEDRO VICENTE GUTIERREZ TORRES</td><td>450</td></tr>\n",
              "\t<tr><td>3</td><td>2008</td><td>ESCUELA PEDRO VICENTE GUTIERREZ TORRES</td><td>ESC. PEDRO VICENTE GUTIERREZ TORRES</td><td>450</td></tr>\n",
              "\t<tr><td>3</td><td>2009</td><td>ESC. PEDRO VICENTE GUTIERREZ TORRES   </td><td>ESC. PEDRO VICENTE GUTIERREZ TORRES</td><td>  0</td></tr>\n",
              "\t<tr><td>3</td><td>2010</td><td>ESC. PEDRO VICENTE GUTIERREZ TORRES   </td><td>ESC. PEDRO VICENTE GUTIERREZ TORRES</td><td>  0</td></tr>\n",
              "\t<tr><td>3</td><td>2011</td><td>ESC. PEDRO VICENTE GUTIERREZ TORRES   </td><td>ESC. PEDRO VICENTE GUTIERREZ TORRES</td><td>  0</td></tr>\n",
              "\t<tr><td>3</td><td>2012</td><td>ESC. PEDRO VICENTE GUTIERREZ TORRES   </td><td>ESC. PEDRO VICENTE GUTIERREZ TORRES</td><td>  0</td></tr>\n",
              "\t<tr><td>3</td><td>2013</td><td>ESC. PEDRO VICENTE GUTIERREZ TORRES   </td><td>ESC. PEDRO VICENTE GUTIERREZ TORRES</td><td>  0</td></tr>\n",
              "\t<tr><td>3</td><td>2014</td><td>ESC. PEDRO VICENTE GUTIERREZ TORRES   </td><td>ESC. PEDRO VICENTE GUTIERREZ TORRES</td><td>  0</td></tr>\n",
              "\t<tr><td>⋮</td><td>⋮</td><td>⋮</td><td>⋮</td><td>⋮</td></tr>\n",
              "\t<tr><td>41274</td><td>2020</td><td>ESCUELA CARCEL CARLOS ALVEAL MUÑOZ                                 </td><td>ESCUELA CARCEL CARLOS ALVEAL MUÑOZ                                 </td><td>0</td></tr>\n",
              "\t<tr><td>41295</td><td>2019</td><td>ESCUELA DEL CARIÑO IX                                              </td><td>ESCUELA DEL CARIÑO IX                                              </td><td>0</td></tr>\n",
              "\t<tr><td>41295</td><td>2020</td><td>ESCUELA DEL CARIÑO IX                                              </td><td>ESCUELA DEL CARIÑO IX                                              </td><td>0</td></tr>\n",
              "\t<tr><td>41349</td><td>2019</td><td>AULA HOSPITALARIA HOSPITAL RANCAGUA                                </td><td>AULA HOSPITALARIA HOSPITAL RANCAGUA                                </td><td>0</td></tr>\n",
              "\t<tr><td>41349</td><td>2020</td><td>AULA HOSPITALARIA HOSPITAL RANCAGUA                                </td><td>AULA HOSPITALARIA HOSPITAL RANCAGUA                                </td><td>0</td></tr>\n",
              "\t<tr><td>41357</td><td>2020</td><td>COLEGIO CAMPOS DEL RANCO                                           </td><td>COLEGIO CAMPOS DEL RANCO                                           </td><td>0</td></tr>\n",
              "\t<tr><td>41374</td><td>2020</td><td>COLEGIO DE ADULTOS RENACER                                         </td><td>COLEGIO DE ADULTOS RENACER                                         </td><td>0</td></tr>\n",
              "\t<tr><td>41375</td><td>2019</td><td>CENTRO DE EDUCACIÓN DE ADULTOS (C.E.I.A.),`INSTITUTO POPULAR AYSÉN`</td><td>CENTRO DE EDUCACIÓN DE ADULTOS (C.E.I.A.),`INSTITUTO POPULAR AYSÉN`</td><td>0</td></tr>\n",
              "\t<tr><td>41375</td><td>2020</td><td>CENTRO DE EDUCACIÓN DE ADULTOS (C.E.I.A.),`INSTITUTO POPULAR AYSÉN`</td><td>CENTRO DE EDUCACIÓN DE ADULTOS (C.E.I.A.),`INSTITUTO POPULAR AYSÉN`</td><td>0</td></tr>\n",
              "\t<tr><td>41417</td><td>2019</td><td>ESCUELA HOSPITALARIA DE ANGOL                                      </td><td>ESCUELA HOSPITALARIA DE ANGOL                                      </td><td>0</td></tr>\n",
              "\t<tr><td>41417</td><td>2020</td><td>ESCUELA HOSPITALARIA DE ANGOL                                      </td><td>ESCUELA HOSPITALARIA DE ANGOL                                      </td><td>0</td></tr>\n",
              "\t<tr><td>41418</td><td>2019</td><td>ESCUELA HOSPITALARIA DE VICTORIA                                   </td><td>ESCUELA HOSPITALARIA DE VICTORIA                                   </td><td>0</td></tr>\n",
              "\t<tr><td>41418</td><td>2020</td><td>ESCUELA HOSPITALARIA DE VICTORIA                                   </td><td>ESCUELA HOSPITALARIA DE VICTORIA                                   </td><td>0</td></tr>\n",
              "\t<tr><td>41421</td><td>2019</td><td>INSTITUTO PREMILITAR DE CHILE                                      </td><td>INSTITUTO PREMILITAR DE CHILE                                      </td><td>0</td></tr>\n",
              "\t<tr><td>41421</td><td>2020</td><td>INSTITUTO PREMILITAR DE CHILE                                      </td><td>INSTITUTO PREMILITAR DE CHILE                                      </td><td>0</td></tr>\n",
              "\t<tr><td>41439</td><td>2020</td><td>COLEGIO PATAGONIA PUERTO VARAS                                     </td><td>COLEGIO PATAGONIA PUERTO VARAS                                     </td><td>0</td></tr>\n",
              "\t<tr><td>41510</td><td>2020</td><td>COLEGIO EVERGREEN DE LA LIGUA                                      </td><td>COLEGIO EVERGREEN DE LA LIGUA                                      </td><td>0</td></tr>\n",
              "\t<tr><td>41533</td><td>2020</td><td>CENTRO EDUCACIONAL INTEGRADO DE ADULTOS LATINOAMERICANO            </td><td>CENTRO EDUCACIONAL INTEGRADO DE ADULTOS LATINOAMERICANO            </td><td>0</td></tr>\n",
              "\t<tr><td>41556</td><td>2020</td><td>COLEGIO RAYUN REÑACA                                               </td><td>COLEGIO RAYUN REÑACA                                               </td><td>0</td></tr>\n",
              "\t<tr><td>41617</td><td>2020</td><td>COLEGIO SAN FRANCISCO TECNICO PROFESIONAL                          </td><td>COLEGIO SAN FRANCISCO TECNICO PROFESIONAL                          </td><td>0</td></tr>\n",
              "\t<tr><td>41649</td><td>2020</td><td>ESCUELA HOSPITALARIA DE GALVARINO                                  </td><td>ESCUELA HOSPITALARIA DE GALVARINO                                  </td><td>0</td></tr>\n",
              "\t<tr><td>41654</td><td>2020</td><td>AULA HOSPITALARIA HOSPITAL CLÍNICO MAGALLANES                      </td><td>AULA HOSPITALARIA HOSPITAL CLÍNICO MAGALLANES                      </td><td>0</td></tr>\n",
              "\t<tr><td>41658</td><td>2020</td><td>COLEGIO EINSTEIN                                                   </td><td>COLEGIO EINSTEIN                                                   </td><td>0</td></tr>\n",
              "\t<tr><td>41695</td><td>2020</td><td>ESCUELA HOSPITALARIA. JUNTOS FORJANDO EL MAÑANA                    </td><td>ESCUELA HOSPITALARIA. JUNTOS FORJANDO EL MAÑANA                    </td><td>0</td></tr>\n",
              "\t<tr><td>41702</td><td>2020</td><td>COLEGIO PRESTON SCHOOL                                             </td><td>COLEGIO PRESTON SCHOOL                                             </td><td>0</td></tr>\n",
              "\t<tr><td>41764</td><td>2020</td><td>AULA HOSPITALARIA DOMICILIARIA MEJILLONES                          </td><td>AULA HOSPITALARIA DOMICILIARIA MEJILLONES                          </td><td>0</td></tr>\n",
              "\t<tr><td>41773</td><td>2020</td><td>ESCUELA BASICA COLEGIO PARTICULAR CONDORES DE LINDEROS             </td><td>ESCUELA BASICA COLEGIO PARTICULAR CONDORES DE LINDEROS             </td><td>0</td></tr>\n",
              "\t<tr><td>41780</td><td>2020</td><td>COLEGIO ALICANTO                                                   </td><td>COLEGIO ALICANTO                                                   </td><td>0</td></tr>\n",
              "\t<tr><td>41794</td><td>2020</td><td>ESCUELA PREMILITAR PEQUEÑOS HEROES DE LACONCEPCION                 </td><td>ESCUELA PREMILITAR PEQUEÑOS HEROES DE LACONCEPCION                 </td><td>0</td></tr>\n",
              "\t<tr><td>41807</td><td>2020</td><td>INSTITUTO DE ENSEÑANZA PRIMARIA PROFESOR PAULO ALVAREZ             </td><td>INSTITUTO DE ENSEÑANZA PRIMARIA PROFESOR PAULO ALVAREZ             </td><td>0</td></tr>\n",
              "</tbody>\n",
              "</table>\n"
            ]
          },
          "metadata": {}
        }
      ]
    },
    {
      "cell_type": "code",
      "metadata": {
        "colab": {
          "base_uri": "https://localhost:8080/",
          "height": 1000
        },
        "id": "rlT8vaFno3sY",
        "outputId": "e202a383-7646-4a68-cda9-0e3abeb9f384"
      },
      "source": [
        "dbGetQuery(conn,\"\n",
        "select \n",
        "RBD,\n",
        "NOM_RBD,\n",
        "LNAME,\n",
        "EDITDIST3(NOM_RBD, LNAME) AS EDIT\n",
        "FROM COLESCAMBIO\n",
        "GROUP BY RBD\n",
        "HAVING EDIT=MAX(EDIT)\n",
        "ORDER BY EDIT\")"
      ],
      "execution_count": null,
      "outputs": [
        {
          "output_type": "display_data",
          "data": {
            "text/plain": [
              "      RBD   NOM_RBD                                                     \n",
              "1       4   LICEO OCTAVIO PALMA PEREZ                                   \n",
              "2       9   ESCUELA REPUBLICA DE ISRAEL                                 \n",
              "3      16   ESCUELA REGIMIENTO RANCAGUA                                 \n",
              "4      22   ESCUELA GABRIELA MISTRAL                                    \n",
              "5      29   ESCUELA AMERICA                                             \n",
              "6      33   ESCUELA CARLOS CONDELL DE LA HAZA                           \n",
              "7      35   ESCUELA GRAL. MANUEL BAQUEDANO                              \n",
              "8      41   ESCUELA VALLE DE CHACA                                      \n",
              "9      45   COLEGIO ITALIANO SANTA ANA                                  \n",
              "10     59   COLEGIO SAN JORGE                                           \n",
              "11     69   JUNIOR COLLEGE                                              \n",
              "12     82   ESCUELA SAN FRANCISCO DE ASIS                               \n",
              "13     91   ESCUELA COSAPILLA                                           \n",
              "14     93   ESCUELA CHUJLLUTA                                           \n",
              "15    100   ESCUELA CARCELARIA                                          \n",
              "16    112   ESCUELA EDUARDO LLANOS                                      \n",
              "17    114   ESCUELA PLACIDO VILLARROEL                                  \n",
              "18    122   ESCUELA THILDA PORTILLO OLIVARES                            \n",
              "19    124   LICEO LUIS CRUZ MARTINEZ                                    \n",
              "20    127   LICEO MARIA AUXILIADORA                                     \n",
              "21    129   LICEO SUPERIOR GABRIELA MISTRAL                             \n",
              "22    133   COLEGIO ADVENTISTA DE IQUIQUE                               \n",
              "23    134   LICEO ATENEA                                                \n",
              "24    161   LICEO DE HUARA                                              \n",
              "25    177   ESCUELA BASICA CARIQUIMA                                    \n",
              "26    179   ESCUELA BASICA MAUQUE                                       \n",
              "27    186   ESCUELA BASICA ENQUELGA                                     \n",
              "28    251   ESC. BAS. SAN SANTIAGO                                      \n",
              "29    299   ESC. BAS. REPUBLICA DE GRECIA                               \n",
              "30    357   COL. SAN LUIS                                               \n",
              "⋮     ⋮     ⋮                                                           \n",
              "11412  7614 ESCUELA PARTICULAR N§171 \"\"MISION SAN JUA                   \n",
              "11413 10245 ESCUELA BÁSICA 1052 CANADÁ                                  \n",
              "11414 20152 ESCUELA PARTICULAR LA FORESTA                               \n",
              "11415  2751 ESC. REP£BLICA DE VENEZUELA                                 \n",
              "11416 18123 ESCUELA ESPECIAL DE LENGUAJE Y JARDIIN INFANTIL CABRERO     \n",
              "11417  4140 SAN NICOLAS                                                 \n",
              "11418  7470 LICEO T.P.P.H.P. SR WALTER KAUFMANN B.                      \n",
              "11419  1425 ESCUELA BASICA LAS ACACIAS                                  \n",
              "11420  9631 CENTRO DE EDUCACIÓN INTEGRADA DE ADULTOS SAN RAMÓN (EX.ESC.F\n",
              "11421 16695 ESCUELA DE LENGUAJE Y JARDÍN INFANTIL LOS PEQUES DEL AC     \n",
              "11422 22549 ESCUELA TALLER                                              \n",
              "11423 25038 CENTRO EDUC. Y DE CAPACITACION JOSÉ MANUEL BALMACEDA S.A.   \n",
              "11424   397 ESC. REHABIL. SOC.  MEDARDO  CANO  GODOY                    \n",
              "11425  5766 CHAPOD                                                      \n",
              "11426 26036 ESCUELA HOSPITAL  CLINIC PONT. U. C. DE                     \n",
              "11427  9409 COMERCIAL OSVALDO ELIAS PARAM                               \n",
              "11428  1467 ESCUELA ESPECIAL GABRIELA MISTRAL                           \n",
              "11429  2444 LICEO COMERCIAL                                             \n",
              "11430 16424 ESC. VICTOR ERENCHUN AZCARATE                               \n",
              "11431 19954 ESCUELA ESPECIAL DOCKSTA                                    \n",
              "11432  6187 RADAL                                                       \n",
              "11433  5994 LOS LAURELES                                                \n",
              "11434 13611 Centro de Educación Integral de Adultos                     \n",
              "11435  9680 ESCUELA BASICA PARTICULAR Nº 275 COMPLEJO EDUCACIONAL SAN   \n",
              "11436   329 ESCUELA BÁSICA F-96     LIBERTADORES DE CHILE               \n",
              "11437  4978 ESCUELA B<c1>SICA ADULTOS ANTONIO S<c1>NCHEZ                \n",
              "11438   355 INS. CHILENO NORTEAMERICANO CULTURA                         \n",
              "11439  9694 JULIO CHANA CARIOLA                                         \n",
              "11440  1631 FUNDACION EDUCACIONAL COLEGIO DE LOS SS.CC. VALPARAISO - VIÑ\n",
              "11441 17795 CENTRO INTEGRADO DE ADULTOS CHILE CONTIN                    \n",
              "      LNAME                                                                                      \n",
              "1     LICEO OCTAVIO PALMA PEREZ                                                                  \n",
              "2     ESCUELA REPUBLICA DE ISRAEL                                                                \n",
              "3     ESCUELA REGIMIENTO RANCAGUA                                                                \n",
              "4     ESCUELA GABRIELA MISTRAL                                                                   \n",
              "5     ESCUELA AMERICA                                                                            \n",
              "6     ESCUELA CARLOS CONDELL DE LA HAZA                                                          \n",
              "7     ESCUELA GRAL. MANUEL BAQUEDANO                                                             \n",
              "8     ESCUELA VALLE DE CHACA                                                                     \n",
              "9     COLEGIO ITALIANO SANTA ANA                                                                 \n",
              "10    COLEGIO SAN JORGE                                                                          \n",
              "11    JUNIOR COLLEGE                                                                             \n",
              "12    ESCUELA SAN FRANCISCO DE ASIS                                                              \n",
              "13    ESCUELA COSAPILLA                                                                          \n",
              "14    ESCUELA CHUJLLUTA                                                                          \n",
              "15    ESCUELA CARCELARIA                                                                         \n",
              "16    ESCUELA EDUARDO LLANOS                                                                     \n",
              "17    ESCUELA PLACIDO VILLARROEL                                                                 \n",
              "18    ESCUELA THILDA PORTILLO OLIVARES                                                           \n",
              "19    LICEO LUIS CRUZ MARTINEZ                                                                   \n",
              "20    LICEO MARIA AUXILIADORA                                                                    \n",
              "21    LICEO SUPERIOR GABRIELA MISTRAL                                                            \n",
              "22    COLEGIO ADVENTISTA DE IQUIQUE                                                              \n",
              "23    LICEO ATENEA                                                                               \n",
              "24    LICEO DE HUARA                                                                             \n",
              "25    ESCUELA BASICA CARIQUIMA                                                                   \n",
              "26    ESCUELA BASICA MAUQUE                                                                      \n",
              "27    ESCUELA BASICA ENQUELGA                                                                    \n",
              "28    ESC. BAS. SAN SANTIAGO                                                                     \n",
              "29    ESC. BAS. REPUBLICA DE GRECIA                                                              \n",
              "30    COL. SAN LUIS                                                                              \n",
              "⋮     ⋮                                                                                          \n",
              "11412 COLEGIO TECNICO PROFESIONAL MISION SAN JUAN DE LA COSTA                                    \n",
              "11413 PARROQUIAL NUESTRA SEÑORA DEL CARMEN DE QUILICURA                                          \n",
              "11414 AYÑINLEO (LA LUZ Y EL AMOR QUE NUNCA SE EXTINGUE)                                          \n",
              "11415 CENTRO INTEGRADO DE EDUCACION DE ADULTOS DE CURICO                                         \n",
              "11416 COLEGIO Y ESCUELA DE LENGUAJE CENTRO EDUCACIONAL PEUMAYEN                                  \n",
              "11417 LICEO BICENTENARIO DE EXCELENCIA POLIVALENTE SAN NICOLÁS                                   \n",
              "11418 LICEO BICENTENARIO PEOPLE HELP PEOPLE DE PILMAIQUEN                                        \n",
              "11419 LICEO BICENTENARIO COMPLEJO EDUCACIONAL LAS ACACIAS DE ARTIFICIO                           \n",
              "11420 ESCUELA ESPECIAL DE ADULTOS                                                                \n",
              "11421 ESCUELA BASICA DE ADMINISTRACION Y COMERCIO                                                \n",
              "11422 CENTRO DE EDUCACIÓN INTEGRAL DE ADULTOS NUEVO HORIZONTE                                    \n",
              "11423 COLEGIO JOSE M.BALMACEDA DE MELIPILLA                                                      \n",
              "11424 LICEO TÉCNICO PROFESIONAL EDWIN LATORRE RIVERO                                             \n",
              "11425 ESCUELA BÁSICA PARTICULAR SUBVENCIONADA GUIDO BUCHER                                       \n",
              "11426 ESCUELA ESPECIAL N 2086 HOSPITAL CLINICO PONTIFICIA UNIVERSIDAD CATÓLICA DE CHILE          \n",
              "11427 LICEO COMERCIAL INSTITUTO SUPERIOR DE COMERCIO DE CHILE (EX A99)                           \n",
              "11428 LICEO BICENTENARIO COLEGIO PASIÓN DE JESÚS DE LIMACHE                                      \n",
              "11429 INSTITUTO COMERCIAL ALBERTO VALENZUELA LLANOS DE SAN FERNANDO                              \n",
              "11430 LICEO BICENTENARIO DE MOLINA MARIA DEL TRÁNSITO DE LA CRUZ                                 \n",
              "11431 COLEGIO ESPECIAL DE TRASTORNOS DE LA COMUNICACION ORAL Nº 34, DOCKSTA                      \n",
              "11432 ESCUELA PARTICULAR SUBVENCIONADA PADRE PIO DE PIETRELCINA                                  \n",
              "11433 ESCUELA PARTICULAR SUBVENCIONADA PADRE MARCELINO HUICHAMIL                                 \n",
              "11434 CENTRO DE EDUC. INTEGRAL DE ADULTOS ANDACOLLO                                              \n",
              "11435 COMPLEJO EDUC.STA.RITA DE CASIA-ANEXO 1                                                    \n",
              "11436 INSTITUTO CIENTÍFICO EDUCACIONAL JOSÉ MAZA SANCHO                                          \n",
              "11437 CENTRO EDUCACIÓN INTEGRADA DE ADULTOS SERGIO PERALTA MORALES                               \n",
              "11438 COLEGIO BINACIONAL CHILENO AMERICANO DE ANTOFAGASTA(EX INS. CHILENO NORTEAMERICANO CULTURA)\n",
              "11439 INSTITUTO COMERCIAL PADRE ALBERTO HURTADO DE PEDRO AGUIRRE CERDA                           \n",
              "11440 COLEGIO DE LOS SAGRADOS CORAZONES, PADRES FRANCESES                                        \n",
              "11441 INSTITUTO PROFESIONAL Y CENTRO DE FORMACIÓN TÉCNICA SANTA LUCÍA E.I.R.L.                   \n",
              "      EDIT\n",
              "1     0   \n",
              "2     0   \n",
              "3     0   \n",
              "4     0   \n",
              "5     0   \n",
              "6     0   \n",
              "7     0   \n",
              "8     0   \n",
              "9     0   \n",
              "10    0   \n",
              "11    0   \n",
              "12    0   \n",
              "13    0   \n",
              "14    0   \n",
              "15    0   \n",
              "16    0   \n",
              "17    0   \n",
              "18    0   \n",
              "19    0   \n",
              "20    0   \n",
              "21    0   \n",
              "22    0   \n",
              "23    0   \n",
              "24    0   \n",
              "25    0   \n",
              "26    0   \n",
              "27    0   \n",
              "28    0   \n",
              "29    0   \n",
              "30    0   \n",
              "⋮     ⋮   \n",
              "11412 4550\n",
              "11413 4550\n",
              "11414 4550\n",
              "11415 4600\n",
              "11416 4600\n",
              "11417 4650\n",
              "11418 4650\n",
              "11419 4700\n",
              "11420 4700\n",
              "11421 4700\n",
              "11422 4700\n",
              "11423 4700\n",
              "11424 4750\n",
              "11425 4750\n",
              "11426 4850\n",
              "11427 5000\n",
              "11428 5050\n",
              "11429 5050\n",
              "11430 5050\n",
              "11431 5150\n",
              "11432 5200\n",
              "11433 5250\n",
              "11434 5300\n",
              "11435 5450\n",
              "11436 5500\n",
              "11437 5550\n",
              "11438 5600\n",
              "11439 5700\n",
              "11440 5800\n",
              "11441 6300"
            ],
            "text/latex": "A data.frame: 11441 × 4\n\\begin{tabular}{llll}\n RBD & NOM\\_RBD & LNAME & EDIT\\\\\n <int> & <chr> & <chr> & <int>\\\\\n\\hline\n\t   4 & LICEO OCTAVIO PALMA PEREZ         & LICEO OCTAVIO PALMA PEREZ         & 0\\\\\n\t   9 & ESCUELA REPUBLICA DE ISRAEL       & ESCUELA REPUBLICA DE ISRAEL       & 0\\\\\n\t  16 & ESCUELA REGIMIENTO RANCAGUA       & ESCUELA REGIMIENTO RANCAGUA       & 0\\\\\n\t  22 & ESCUELA GABRIELA MISTRAL          & ESCUELA GABRIELA MISTRAL          & 0\\\\\n\t  29 & ESCUELA AMERICA                   & ESCUELA AMERICA                   & 0\\\\\n\t  33 & ESCUELA CARLOS CONDELL DE LA HAZA & ESCUELA CARLOS CONDELL DE LA HAZA & 0\\\\\n\t  35 & ESCUELA GRAL. MANUEL BAQUEDANO    & ESCUELA GRAL. MANUEL BAQUEDANO    & 0\\\\\n\t  41 & ESCUELA VALLE DE CHACA            & ESCUELA VALLE DE CHACA            & 0\\\\\n\t  45 & COLEGIO ITALIANO SANTA ANA        & COLEGIO ITALIANO SANTA ANA        & 0\\\\\n\t  59 & COLEGIO SAN JORGE                 & COLEGIO SAN JORGE                 & 0\\\\\n\t  69 & JUNIOR COLLEGE                    & JUNIOR COLLEGE                    & 0\\\\\n\t  82 & ESCUELA SAN FRANCISCO DE ASIS     & ESCUELA SAN FRANCISCO DE ASIS     & 0\\\\\n\t  91 & ESCUELA COSAPILLA                 & ESCUELA COSAPILLA                 & 0\\\\\n\t  93 & ESCUELA CHUJLLUTA                 & ESCUELA CHUJLLUTA                 & 0\\\\\n\t 100 & ESCUELA CARCELARIA                & ESCUELA CARCELARIA                & 0\\\\\n\t 112 & ESCUELA EDUARDO LLANOS            & ESCUELA EDUARDO LLANOS            & 0\\\\\n\t 114 & ESCUELA PLACIDO VILLARROEL        & ESCUELA PLACIDO VILLARROEL        & 0\\\\\n\t 122 & ESCUELA THILDA PORTILLO OLIVARES  & ESCUELA THILDA PORTILLO OLIVARES  & 0\\\\\n\t 124 & LICEO LUIS CRUZ MARTINEZ          & LICEO LUIS CRUZ MARTINEZ          & 0\\\\\n\t 127 & LICEO MARIA AUXILIADORA           & LICEO MARIA AUXILIADORA           & 0\\\\\n\t 129 & LICEO SUPERIOR GABRIELA MISTRAL   & LICEO SUPERIOR GABRIELA MISTRAL   & 0\\\\\n\t 133 & COLEGIO ADVENTISTA DE IQUIQUE     & COLEGIO ADVENTISTA DE IQUIQUE     & 0\\\\\n\t 134 & LICEO ATENEA                      & LICEO ATENEA                      & 0\\\\\n\t 161 & LICEO DE HUARA                    & LICEO DE HUARA                    & 0\\\\\n\t 177 & ESCUELA BASICA CARIQUIMA          & ESCUELA BASICA CARIQUIMA          & 0\\\\\n\t 179 & ESCUELA BASICA MAUQUE             & ESCUELA BASICA MAUQUE             & 0\\\\\n\t 186 & ESCUELA BASICA ENQUELGA           & ESCUELA BASICA ENQUELGA           & 0\\\\\n\t 251 & ESC. BAS. SAN SANTIAGO            & ESC. BAS. SAN SANTIAGO            & 0\\\\\n\t 299 & ESC. BAS. REPUBLICA DE GRECIA     & ESC. BAS. REPUBLICA DE GRECIA     & 0\\\\\n\t 357 & COL. SAN LUIS                     & COL. SAN LUIS                     & 0\\\\\n\t ⋮ & ⋮ & ⋮ & ⋮\\\\\n\t  7614 & ESCUELA PARTICULAR N§171 \"\"MISION SAN JUA                    & COLEGIO TECNICO PROFESIONAL MISION SAN JUAN DE LA COSTA                                     & 4550\\\\\n\t 10245 & ESCUELA BÁSICA 1052 CANADÁ                                   & PARROQUIAL NUESTRA SEÑORA DEL CARMEN DE QUILICURA                                           & 4550\\\\\n\t 20152 & ESCUELA PARTICULAR LA FORESTA                                & AYÑINLEO (LA LUZ Y EL AMOR QUE NUNCA SE EXTINGUE)                                           & 4550\\\\\n\t  2751 & ESC. REP£BLICA DE VENEZUELA                                  & CENTRO INTEGRADO DE EDUCACION DE ADULTOS DE CURICO                                          & 4600\\\\\n\t 18123 & ESCUELA ESPECIAL DE LENGUAJE Y JARDIIN INFANTIL CABRERO      & COLEGIO Y ESCUELA DE LENGUAJE CENTRO EDUCACIONAL PEUMAYEN                                   & 4600\\\\\n\t  4140 & SAN NICOLAS                                                  & LICEO BICENTENARIO DE EXCELENCIA POLIVALENTE SAN NICOLÁS                                    & 4650\\\\\n\t  7470 & LICEO T.P.P.H.P. SR WALTER KAUFMANN B.                       & LICEO BICENTENARIO PEOPLE HELP PEOPLE DE PILMAIQUEN                                         & 4650\\\\\n\t  1425 & ESCUELA BASICA LAS ACACIAS                                   & LICEO BICENTENARIO COMPLEJO EDUCACIONAL LAS ACACIAS DE ARTIFICIO                            & 4700\\\\\n\t  9631 & CENTRO DE EDUCACIÓN INTEGRADA DE ADULTOS SAN RAMÓN (EX.ESC.F & ESCUELA ESPECIAL DE ADULTOS                                                                 & 4700\\\\\n\t 16695 & ESCUELA DE LENGUAJE Y JARDÍN INFANTIL LOS PEQUES DEL AC      & ESCUELA BASICA DE ADMINISTRACION Y COMERCIO                                                 & 4700\\\\\n\t 22549 & ESCUELA TALLER                                               & CENTRO DE EDUCACIÓN INTEGRAL DE ADULTOS NUEVO HORIZONTE                                     & 4700\\\\\n\t 25038 & CENTRO EDUC. Y DE CAPACITACION JOSÉ MANUEL BALMACEDA S.A.    & COLEGIO JOSE M.BALMACEDA DE MELIPILLA                                                       & 4700\\\\\n\t   397 & ESC. REHABIL. SOC.  MEDARDO  CANO  GODOY                     & LICEO TÉCNICO PROFESIONAL EDWIN LATORRE RIVERO                                              & 4750\\\\\n\t  5766 & CHAPOD                                                       & ESCUELA BÁSICA PARTICULAR SUBVENCIONADA GUIDO BUCHER                                        & 4750\\\\\n\t 26036 & ESCUELA HOSPITAL  CLINIC PONT. U. C. DE                      & ESCUELA ESPECIAL N 2086 HOSPITAL CLINICO PONTIFICIA UNIVERSIDAD CATÓLICA DE CHILE           & 4850\\\\\n\t  9409 & COMERCIAL OSVALDO ELIAS PARAM                                & LICEO COMERCIAL INSTITUTO SUPERIOR DE COMERCIO DE CHILE (EX A99)                            & 5000\\\\\n\t  1467 & ESCUELA ESPECIAL GABRIELA MISTRAL                            & LICEO BICENTENARIO COLEGIO PASIÓN DE JESÚS DE LIMACHE                                       & 5050\\\\\n\t  2444 & LICEO COMERCIAL                                              & INSTITUTO COMERCIAL ALBERTO VALENZUELA LLANOS DE SAN FERNANDO                               & 5050\\\\\n\t 16424 & ESC. VICTOR ERENCHUN AZCARATE                                & LICEO BICENTENARIO DE MOLINA MARIA DEL TRÁNSITO DE LA CRUZ                                  & 5050\\\\\n\t 19954 & ESCUELA ESPECIAL DOCKSTA                                     & COLEGIO ESPECIAL DE TRASTORNOS DE LA COMUNICACION ORAL Nº 34, DOCKSTA                       & 5150\\\\\n\t  6187 & RADAL                                                        & ESCUELA PARTICULAR SUBVENCIONADA PADRE PIO DE PIETRELCINA                                   & 5200\\\\\n\t  5994 & LOS LAURELES                                                 & ESCUELA PARTICULAR SUBVENCIONADA PADRE MARCELINO HUICHAMIL                                  & 5250\\\\\n\t 13611 & Centro de Educación Integral de Adultos                      & CENTRO DE EDUC. INTEGRAL DE ADULTOS ANDACOLLO                                               & 5300\\\\\n\t  9680 & ESCUELA BASICA PARTICULAR Nº 275 COMPLEJO EDUCACIONAL SAN    & COMPLEJO EDUC.STA.RITA DE CASIA-ANEXO 1                                                     & 5450\\\\\n\t   329 & ESCUELA BÁSICA F-96     LIBERTADORES DE CHILE                & INSTITUTO CIENTÍFICO EDUCACIONAL JOSÉ MAZA SANCHO                                           & 5500\\\\\n\t  4978 & ESCUELA B<c1>SICA ADULTOS ANTONIO S<c1>NCHEZ                 & CENTRO EDUCACIÓN INTEGRADA DE ADULTOS SERGIO PERALTA MORALES                                & 5550\\\\\n\t   355 & INS. CHILENO NORTEAMERICANO CULTURA                          & COLEGIO BINACIONAL CHILENO AMERICANO DE ANTOFAGASTA(EX INS. CHILENO NORTEAMERICANO CULTURA) & 5600\\\\\n\t  9694 & JULIO CHANA CARIOLA                                          & INSTITUTO COMERCIAL PADRE ALBERTO HURTADO DE PEDRO AGUIRRE CERDA                            & 5700\\\\\n\t  1631 & FUNDACION EDUCACIONAL COLEGIO DE LOS SS.CC. VALPARAISO - VIÑ & COLEGIO DE LOS SAGRADOS CORAZONES, PADRES FRANCESES                                         & 5800\\\\\n\t 17795 & CENTRO INTEGRADO DE ADULTOS CHILE CONTIN                     & INSTITUTO PROFESIONAL Y CENTRO DE FORMACIÓN TÉCNICA SANTA LUCÍA E.I.R.L.                    & 6300\\\\\n\\end{tabular}\n",
            "text/markdown": "\nA data.frame: 11441 × 4\n\n| RBD &lt;int&gt; | NOM_RBD &lt;chr&gt; | LNAME &lt;chr&gt; | EDIT &lt;int&gt; |\n|---|---|---|---|\n|   4 | LICEO OCTAVIO PALMA PEREZ         | LICEO OCTAVIO PALMA PEREZ         | 0 |\n|   9 | ESCUELA REPUBLICA DE ISRAEL       | ESCUELA REPUBLICA DE ISRAEL       | 0 |\n|  16 | ESCUELA REGIMIENTO RANCAGUA       | ESCUELA REGIMIENTO RANCAGUA       | 0 |\n|  22 | ESCUELA GABRIELA MISTRAL          | ESCUELA GABRIELA MISTRAL          | 0 |\n|  29 | ESCUELA AMERICA                   | ESCUELA AMERICA                   | 0 |\n|  33 | ESCUELA CARLOS CONDELL DE LA HAZA | ESCUELA CARLOS CONDELL DE LA HAZA | 0 |\n|  35 | ESCUELA GRAL. MANUEL BAQUEDANO    | ESCUELA GRAL. MANUEL BAQUEDANO    | 0 |\n|  41 | ESCUELA VALLE DE CHACA            | ESCUELA VALLE DE CHACA            | 0 |\n|  45 | COLEGIO ITALIANO SANTA ANA        | COLEGIO ITALIANO SANTA ANA        | 0 |\n|  59 | COLEGIO SAN JORGE                 | COLEGIO SAN JORGE                 | 0 |\n|  69 | JUNIOR COLLEGE                    | JUNIOR COLLEGE                    | 0 |\n|  82 | ESCUELA SAN FRANCISCO DE ASIS     | ESCUELA SAN FRANCISCO DE ASIS     | 0 |\n|  91 | ESCUELA COSAPILLA                 | ESCUELA COSAPILLA                 | 0 |\n|  93 | ESCUELA CHUJLLUTA                 | ESCUELA CHUJLLUTA                 | 0 |\n| 100 | ESCUELA CARCELARIA                | ESCUELA CARCELARIA                | 0 |\n| 112 | ESCUELA EDUARDO LLANOS            | ESCUELA EDUARDO LLANOS            | 0 |\n| 114 | ESCUELA PLACIDO VILLARROEL        | ESCUELA PLACIDO VILLARROEL        | 0 |\n| 122 | ESCUELA THILDA PORTILLO OLIVARES  | ESCUELA THILDA PORTILLO OLIVARES  | 0 |\n| 124 | LICEO LUIS CRUZ MARTINEZ          | LICEO LUIS CRUZ MARTINEZ          | 0 |\n| 127 | LICEO MARIA AUXILIADORA           | LICEO MARIA AUXILIADORA           | 0 |\n| 129 | LICEO SUPERIOR GABRIELA MISTRAL   | LICEO SUPERIOR GABRIELA MISTRAL   | 0 |\n| 133 | COLEGIO ADVENTISTA DE IQUIQUE     | COLEGIO ADVENTISTA DE IQUIQUE     | 0 |\n| 134 | LICEO ATENEA                      | LICEO ATENEA                      | 0 |\n| 161 | LICEO DE HUARA                    | LICEO DE HUARA                    | 0 |\n| 177 | ESCUELA BASICA CARIQUIMA          | ESCUELA BASICA CARIQUIMA          | 0 |\n| 179 | ESCUELA BASICA MAUQUE             | ESCUELA BASICA MAUQUE             | 0 |\n| 186 | ESCUELA BASICA ENQUELGA           | ESCUELA BASICA ENQUELGA           | 0 |\n| 251 | ESC. BAS. SAN SANTIAGO            | ESC. BAS. SAN SANTIAGO            | 0 |\n| 299 | ESC. BAS. REPUBLICA DE GRECIA     | ESC. BAS. REPUBLICA DE GRECIA     | 0 |\n| 357 | COL. SAN LUIS                     | COL. SAN LUIS                     | 0 |\n| ⋮ | ⋮ | ⋮ | ⋮ |\n|  7614 | ESCUELA PARTICULAR N§171 \"\"MISION SAN JUA                    | COLEGIO TECNICO PROFESIONAL MISION SAN JUAN DE LA COSTA                                     | 4550 |\n| 10245 | ESCUELA BÁSICA 1052 CANADÁ                                   | PARROQUIAL NUESTRA SEÑORA DEL CARMEN DE QUILICURA                                           | 4550 |\n| 20152 | ESCUELA PARTICULAR LA FORESTA                                | AYÑINLEO (LA LUZ Y EL AMOR QUE NUNCA SE EXTINGUE)                                           | 4550 |\n|  2751 | ESC. REP£BLICA DE VENEZUELA                                  | CENTRO INTEGRADO DE EDUCACION DE ADULTOS DE CURICO                                          | 4600 |\n| 18123 | ESCUELA ESPECIAL DE LENGUAJE Y JARDIIN INFANTIL CABRERO      | COLEGIO Y ESCUELA DE LENGUAJE CENTRO EDUCACIONAL PEUMAYEN                                   | 4600 |\n|  4140 | SAN NICOLAS                                                  | LICEO BICENTENARIO DE EXCELENCIA POLIVALENTE SAN NICOLÁS                                    | 4650 |\n|  7470 | LICEO T.P.P.H.P. SR WALTER KAUFMANN B.                       | LICEO BICENTENARIO PEOPLE HELP PEOPLE DE PILMAIQUEN                                         | 4650 |\n|  1425 | ESCUELA BASICA LAS ACACIAS                                   | LICEO BICENTENARIO COMPLEJO EDUCACIONAL LAS ACACIAS DE ARTIFICIO                            | 4700 |\n|  9631 | CENTRO DE EDUCACIÓN INTEGRADA DE ADULTOS SAN RAMÓN (EX.ESC.F | ESCUELA ESPECIAL DE ADULTOS                                                                 | 4700 |\n| 16695 | ESCUELA DE LENGUAJE Y JARDÍN INFANTIL LOS PEQUES DEL AC      | ESCUELA BASICA DE ADMINISTRACION Y COMERCIO                                                 | 4700 |\n| 22549 | ESCUELA TALLER                                               | CENTRO DE EDUCACIÓN INTEGRAL DE ADULTOS NUEVO HORIZONTE                                     | 4700 |\n| 25038 | CENTRO EDUC. Y DE CAPACITACION JOSÉ MANUEL BALMACEDA S.A.    | COLEGIO JOSE M.BALMACEDA DE MELIPILLA                                                       | 4700 |\n|   397 | ESC. REHABIL. SOC.  MEDARDO  CANO  GODOY                     | LICEO TÉCNICO PROFESIONAL EDWIN LATORRE RIVERO                                              | 4750 |\n|  5766 | CHAPOD                                                       | ESCUELA BÁSICA PARTICULAR SUBVENCIONADA GUIDO BUCHER                                        | 4750 |\n| 26036 | ESCUELA HOSPITAL  CLINIC PONT. U. C. DE                      | ESCUELA ESPECIAL N 2086 HOSPITAL CLINICO PONTIFICIA UNIVERSIDAD CATÓLICA DE CHILE           | 4850 |\n|  9409 | COMERCIAL OSVALDO ELIAS PARAM                                | LICEO COMERCIAL INSTITUTO SUPERIOR DE COMERCIO DE CHILE (EX A99)                            | 5000 |\n|  1467 | ESCUELA ESPECIAL GABRIELA MISTRAL                            | LICEO BICENTENARIO COLEGIO PASIÓN DE JESÚS DE LIMACHE                                       | 5050 |\n|  2444 | LICEO COMERCIAL                                              | INSTITUTO COMERCIAL ALBERTO VALENZUELA LLANOS DE SAN FERNANDO                               | 5050 |\n| 16424 | ESC. VICTOR ERENCHUN AZCARATE                                | LICEO BICENTENARIO DE MOLINA MARIA DEL TRÁNSITO DE LA CRUZ                                  | 5050 |\n| 19954 | ESCUELA ESPECIAL DOCKSTA                                     | COLEGIO ESPECIAL DE TRASTORNOS DE LA COMUNICACION ORAL Nº 34, DOCKSTA                       | 5150 |\n|  6187 | RADAL                                                        | ESCUELA PARTICULAR SUBVENCIONADA PADRE PIO DE PIETRELCINA                                   | 5200 |\n|  5994 | LOS LAURELES                                                 | ESCUELA PARTICULAR SUBVENCIONADA PADRE MARCELINO HUICHAMIL                                  | 5250 |\n| 13611 | Centro de Educación Integral de Adultos                      | CENTRO DE EDUC. INTEGRAL DE ADULTOS ANDACOLLO                                               | 5300 |\n|  9680 | ESCUELA BASICA PARTICULAR Nº 275 COMPLEJO EDUCACIONAL SAN    | COMPLEJO EDUC.STA.RITA DE CASIA-ANEXO 1                                                     | 5450 |\n|   329 | ESCUELA BÁSICA F-96     LIBERTADORES DE CHILE                | INSTITUTO CIENTÍFICO EDUCACIONAL JOSÉ MAZA SANCHO                                           | 5500 |\n|  4978 | ESCUELA B&lt;c1&gt;SICA ADULTOS ANTONIO S&lt;c1&gt;NCHEZ                 | CENTRO EDUCACIÓN INTEGRADA DE ADULTOS SERGIO PERALTA MORALES                                | 5550 |\n|   355 | INS. CHILENO NORTEAMERICANO CULTURA                          | COLEGIO BINACIONAL CHILENO AMERICANO DE ANTOFAGASTA(EX INS. CHILENO NORTEAMERICANO CULTURA) | 5600 |\n|  9694 | JULIO CHANA CARIOLA                                          | INSTITUTO COMERCIAL PADRE ALBERTO HURTADO DE PEDRO AGUIRRE CERDA                            | 5700 |\n|  1631 | FUNDACION EDUCACIONAL COLEGIO DE LOS SS.CC. VALPARAISO - VIÑ | COLEGIO DE LOS SAGRADOS CORAZONES, PADRES FRANCESES                                         | 5800 |\n| 17795 | CENTRO INTEGRADO DE ADULTOS CHILE CONTIN                     | INSTITUTO PROFESIONAL Y CENTRO DE FORMACIÓN TÉCNICA SANTA LUCÍA E.I.R.L.                    | 6300 |\n\n",
            "text/html": [
              "<table class=\"dataframe\">\n",
              "<caption>A data.frame: 11441 × 4</caption>\n",
              "<thead>\n",
              "\t<tr><th scope=col>RBD</th><th scope=col>NOM_RBD</th><th scope=col>LNAME</th><th scope=col>EDIT</th></tr>\n",
              "\t<tr><th scope=col>&lt;int&gt;</th><th scope=col>&lt;chr&gt;</th><th scope=col>&lt;chr&gt;</th><th scope=col>&lt;int&gt;</th></tr>\n",
              "</thead>\n",
              "<tbody>\n",
              "\t<tr><td>  4</td><td>LICEO OCTAVIO PALMA PEREZ        </td><td>LICEO OCTAVIO PALMA PEREZ        </td><td>0</td></tr>\n",
              "\t<tr><td>  9</td><td>ESCUELA REPUBLICA DE ISRAEL      </td><td>ESCUELA REPUBLICA DE ISRAEL      </td><td>0</td></tr>\n",
              "\t<tr><td> 16</td><td>ESCUELA REGIMIENTO RANCAGUA      </td><td>ESCUELA REGIMIENTO RANCAGUA      </td><td>0</td></tr>\n",
              "\t<tr><td> 22</td><td>ESCUELA GABRIELA MISTRAL         </td><td>ESCUELA GABRIELA MISTRAL         </td><td>0</td></tr>\n",
              "\t<tr><td> 29</td><td>ESCUELA AMERICA                  </td><td>ESCUELA AMERICA                  </td><td>0</td></tr>\n",
              "\t<tr><td> 33</td><td>ESCUELA CARLOS CONDELL DE LA HAZA</td><td>ESCUELA CARLOS CONDELL DE LA HAZA</td><td>0</td></tr>\n",
              "\t<tr><td> 35</td><td>ESCUELA GRAL. MANUEL BAQUEDANO   </td><td>ESCUELA GRAL. MANUEL BAQUEDANO   </td><td>0</td></tr>\n",
              "\t<tr><td> 41</td><td>ESCUELA VALLE DE CHACA           </td><td>ESCUELA VALLE DE CHACA           </td><td>0</td></tr>\n",
              "\t<tr><td> 45</td><td>COLEGIO ITALIANO SANTA ANA       </td><td>COLEGIO ITALIANO SANTA ANA       </td><td>0</td></tr>\n",
              "\t<tr><td> 59</td><td>COLEGIO SAN JORGE                </td><td>COLEGIO SAN JORGE                </td><td>0</td></tr>\n",
              "\t<tr><td> 69</td><td>JUNIOR COLLEGE                   </td><td>JUNIOR COLLEGE                   </td><td>0</td></tr>\n",
              "\t<tr><td> 82</td><td>ESCUELA SAN FRANCISCO DE ASIS    </td><td>ESCUELA SAN FRANCISCO DE ASIS    </td><td>0</td></tr>\n",
              "\t<tr><td> 91</td><td>ESCUELA COSAPILLA                </td><td>ESCUELA COSAPILLA                </td><td>0</td></tr>\n",
              "\t<tr><td> 93</td><td>ESCUELA CHUJLLUTA                </td><td>ESCUELA CHUJLLUTA                </td><td>0</td></tr>\n",
              "\t<tr><td>100</td><td>ESCUELA CARCELARIA               </td><td>ESCUELA CARCELARIA               </td><td>0</td></tr>\n",
              "\t<tr><td>112</td><td>ESCUELA EDUARDO LLANOS           </td><td>ESCUELA EDUARDO LLANOS           </td><td>0</td></tr>\n",
              "\t<tr><td>114</td><td>ESCUELA PLACIDO VILLARROEL       </td><td>ESCUELA PLACIDO VILLARROEL       </td><td>0</td></tr>\n",
              "\t<tr><td>122</td><td>ESCUELA THILDA PORTILLO OLIVARES </td><td>ESCUELA THILDA PORTILLO OLIVARES </td><td>0</td></tr>\n",
              "\t<tr><td>124</td><td>LICEO LUIS CRUZ MARTINEZ         </td><td>LICEO LUIS CRUZ MARTINEZ         </td><td>0</td></tr>\n",
              "\t<tr><td>127</td><td>LICEO MARIA AUXILIADORA          </td><td>LICEO MARIA AUXILIADORA          </td><td>0</td></tr>\n",
              "\t<tr><td>129</td><td>LICEO SUPERIOR GABRIELA MISTRAL  </td><td>LICEO SUPERIOR GABRIELA MISTRAL  </td><td>0</td></tr>\n",
              "\t<tr><td>133</td><td>COLEGIO ADVENTISTA DE IQUIQUE    </td><td>COLEGIO ADVENTISTA DE IQUIQUE    </td><td>0</td></tr>\n",
              "\t<tr><td>134</td><td>LICEO ATENEA                     </td><td>LICEO ATENEA                     </td><td>0</td></tr>\n",
              "\t<tr><td>161</td><td>LICEO DE HUARA                   </td><td>LICEO DE HUARA                   </td><td>0</td></tr>\n",
              "\t<tr><td>177</td><td>ESCUELA BASICA CARIQUIMA         </td><td>ESCUELA BASICA CARIQUIMA         </td><td>0</td></tr>\n",
              "\t<tr><td>179</td><td>ESCUELA BASICA MAUQUE            </td><td>ESCUELA BASICA MAUQUE            </td><td>0</td></tr>\n",
              "\t<tr><td>186</td><td>ESCUELA BASICA ENQUELGA          </td><td>ESCUELA BASICA ENQUELGA          </td><td>0</td></tr>\n",
              "\t<tr><td>251</td><td>ESC. BAS. SAN SANTIAGO           </td><td>ESC. BAS. SAN SANTIAGO           </td><td>0</td></tr>\n",
              "\t<tr><td>299</td><td>ESC. BAS. REPUBLICA DE GRECIA    </td><td>ESC. BAS. REPUBLICA DE GRECIA    </td><td>0</td></tr>\n",
              "\t<tr><td>357</td><td>COL. SAN LUIS                    </td><td>COL. SAN LUIS                    </td><td>0</td></tr>\n",
              "\t<tr><td>⋮</td><td>⋮</td><td>⋮</td><td>⋮</td></tr>\n",
              "\t<tr><td> 7614</td><td>ESCUELA PARTICULAR N§171 \"\"MISION SAN JUA                   </td><td>COLEGIO TECNICO PROFESIONAL MISION SAN JUAN DE LA COSTA                                    </td><td>4550</td></tr>\n",
              "\t<tr><td>10245</td><td>ESCUELA BÁSICA 1052 CANADÁ                                  </td><td>PARROQUIAL NUESTRA SEÑORA DEL CARMEN DE QUILICURA                                          </td><td>4550</td></tr>\n",
              "\t<tr><td>20152</td><td>ESCUELA PARTICULAR LA FORESTA                               </td><td>AYÑINLEO (LA LUZ Y EL AMOR QUE NUNCA SE EXTINGUE)                                          </td><td>4550</td></tr>\n",
              "\t<tr><td> 2751</td><td>ESC. REP£BLICA DE VENEZUELA                                 </td><td>CENTRO INTEGRADO DE EDUCACION DE ADULTOS DE CURICO                                         </td><td>4600</td></tr>\n",
              "\t<tr><td>18123</td><td>ESCUELA ESPECIAL DE LENGUAJE Y JARDIIN INFANTIL CABRERO     </td><td>COLEGIO Y ESCUELA DE LENGUAJE CENTRO EDUCACIONAL PEUMAYEN                                  </td><td>4600</td></tr>\n",
              "\t<tr><td> 4140</td><td>SAN NICOLAS                                                 </td><td>LICEO BICENTENARIO DE EXCELENCIA POLIVALENTE SAN NICOLÁS                                   </td><td>4650</td></tr>\n",
              "\t<tr><td> 7470</td><td>LICEO T.P.P.H.P. SR WALTER KAUFMANN B.                      </td><td>LICEO BICENTENARIO PEOPLE HELP PEOPLE DE PILMAIQUEN                                        </td><td>4650</td></tr>\n",
              "\t<tr><td> 1425</td><td>ESCUELA BASICA LAS ACACIAS                                  </td><td>LICEO BICENTENARIO COMPLEJO EDUCACIONAL LAS ACACIAS DE ARTIFICIO                           </td><td>4700</td></tr>\n",
              "\t<tr><td> 9631</td><td>CENTRO DE EDUCACIÓN INTEGRADA DE ADULTOS SAN RAMÓN (EX.ESC.F</td><td>ESCUELA ESPECIAL DE ADULTOS                                                                </td><td>4700</td></tr>\n",
              "\t<tr><td>16695</td><td>ESCUELA DE LENGUAJE Y JARDÍN INFANTIL LOS PEQUES DEL AC     </td><td>ESCUELA BASICA DE ADMINISTRACION Y COMERCIO                                                </td><td>4700</td></tr>\n",
              "\t<tr><td>22549</td><td>ESCUELA TALLER                                              </td><td>CENTRO DE EDUCACIÓN INTEGRAL DE ADULTOS NUEVO HORIZONTE                                    </td><td>4700</td></tr>\n",
              "\t<tr><td>25038</td><td>CENTRO EDUC. Y DE CAPACITACION JOSÉ MANUEL BALMACEDA S.A.   </td><td>COLEGIO JOSE M.BALMACEDA DE MELIPILLA                                                      </td><td>4700</td></tr>\n",
              "\t<tr><td>  397</td><td>ESC. REHABIL. SOC.  MEDARDO  CANO  GODOY                    </td><td>LICEO TÉCNICO PROFESIONAL EDWIN LATORRE RIVERO                                             </td><td>4750</td></tr>\n",
              "\t<tr><td> 5766</td><td>CHAPOD                                                      </td><td>ESCUELA BÁSICA PARTICULAR SUBVENCIONADA GUIDO BUCHER                                       </td><td>4750</td></tr>\n",
              "\t<tr><td>26036</td><td>ESCUELA HOSPITAL  CLINIC PONT. U. C. DE                     </td><td>ESCUELA ESPECIAL N 2086 HOSPITAL CLINICO PONTIFICIA UNIVERSIDAD CATÓLICA DE CHILE          </td><td>4850</td></tr>\n",
              "\t<tr><td> 9409</td><td>COMERCIAL OSVALDO ELIAS PARAM                               </td><td>LICEO COMERCIAL INSTITUTO SUPERIOR DE COMERCIO DE CHILE (EX A99)                           </td><td>5000</td></tr>\n",
              "\t<tr><td> 1467</td><td>ESCUELA ESPECIAL GABRIELA MISTRAL                           </td><td>LICEO BICENTENARIO COLEGIO PASIÓN DE JESÚS DE LIMACHE                                      </td><td>5050</td></tr>\n",
              "\t<tr><td> 2444</td><td>LICEO COMERCIAL                                             </td><td>INSTITUTO COMERCIAL ALBERTO VALENZUELA LLANOS DE SAN FERNANDO                              </td><td>5050</td></tr>\n",
              "\t<tr><td>16424</td><td>ESC. VICTOR ERENCHUN AZCARATE                               </td><td>LICEO BICENTENARIO DE MOLINA MARIA DEL TRÁNSITO DE LA CRUZ                                 </td><td>5050</td></tr>\n",
              "\t<tr><td>19954</td><td>ESCUELA ESPECIAL DOCKSTA                                    </td><td>COLEGIO ESPECIAL DE TRASTORNOS DE LA COMUNICACION ORAL Nº 34, DOCKSTA                      </td><td>5150</td></tr>\n",
              "\t<tr><td> 6187</td><td>RADAL                                                       </td><td>ESCUELA PARTICULAR SUBVENCIONADA PADRE PIO DE PIETRELCINA                                  </td><td>5200</td></tr>\n",
              "\t<tr><td> 5994</td><td>LOS LAURELES                                                </td><td>ESCUELA PARTICULAR SUBVENCIONADA PADRE MARCELINO HUICHAMIL                                 </td><td>5250</td></tr>\n",
              "\t<tr><td>13611</td><td>Centro de Educación Integral de Adultos                     </td><td>CENTRO DE EDUC. INTEGRAL DE ADULTOS ANDACOLLO                                              </td><td>5300</td></tr>\n",
              "\t<tr><td> 9680</td><td>ESCUELA BASICA PARTICULAR Nº 275 COMPLEJO EDUCACIONAL SAN   </td><td>COMPLEJO EDUC.STA.RITA DE CASIA-ANEXO 1                                                    </td><td>5450</td></tr>\n",
              "\t<tr><td>  329</td><td>ESCUELA BÁSICA F-96     LIBERTADORES DE CHILE               </td><td>INSTITUTO CIENTÍFICO EDUCACIONAL JOSÉ MAZA SANCHO                                          </td><td>5500</td></tr>\n",
              "\t<tr><td> 4978</td><td><span style=white-space:pre-wrap>ESCUELA B&lt;c1&gt;SICA ADULTOS ANTONIO S&lt;c1&gt;NCHEZ                </span></td><td><span style=white-space:pre-wrap>CENTRO EDUCACIÓN INTEGRADA DE ADULTOS SERGIO PERALTA MORALES                               </span></td><td>5550</td></tr>\n",
              "\t<tr><td>  355</td><td>INS. CHILENO NORTEAMERICANO CULTURA                         </td><td>COLEGIO BINACIONAL CHILENO AMERICANO DE ANTOFAGASTA(EX INS. CHILENO NORTEAMERICANO CULTURA)</td><td>5600</td></tr>\n",
              "\t<tr><td> 9694</td><td>JULIO CHANA CARIOLA                                         </td><td>INSTITUTO COMERCIAL PADRE ALBERTO HURTADO DE PEDRO AGUIRRE CERDA                           </td><td>5700</td></tr>\n",
              "\t<tr><td> 1631</td><td>FUNDACION EDUCACIONAL COLEGIO DE LOS SS.CC. VALPARAISO - VIÑ</td><td>COLEGIO DE LOS SAGRADOS CORAZONES, PADRES FRANCESES                                        </td><td>5800</td></tr>\n",
              "\t<tr><td>17795</td><td>CENTRO INTEGRADO DE ADULTOS CHILE CONTIN                    </td><td>INSTITUTO PROFESIONAL Y CENTRO DE FORMACIÓN TÉCNICA SANTA LUCÍA E.I.R.L.                   </td><td>6300</td></tr>\n",
              "</tbody>\n",
              "</table>\n"
            ]
          },
          "metadata": {}
        }
      ]
    },
    {
      "cell_type": "markdown",
      "metadata": {
        "id": "EKfogjRn6ax_"
      },
      "source": [
        "# Consolidando una base de datos"
      ]
    },
    {
      "cell_type": "markdown",
      "metadata": {
        "id": "lh7T_n1MYpvU"
      },
      "source": [
        "Supongamos que estamos interesados en ocupar nuevamente los datos de los alumnos, en particular por ahora: \n",
        " * Asistencia\n",
        " * Promedio\n",
        "\n",
        "Para asegurar que los datos tengan buena calidad debemos testearlos:\n",
        " * Cantidad de nulos (Completitud)\n",
        " * Revisar como se guardan los datos, ver que se cumplan estas relaciones (Validez)\n",
        " * Eliminar duplicados, datos con inconsistencias entre tablas (Consistencia)\n",
        " * Datos en un solo formato con escala adecuada para el problema (Uniformidad)"
      ]
    },
    {
      "cell_type": "code",
      "metadata": {
        "colab": {
          "base_uri": "https://localhost:8080/",
          "height": 405
        },
        "id": "pVwQXuqAcckm",
        "outputId": "a417c42d-763d-4f27-b9eb-727ff4eb1725"
      },
      "source": [
        "dbGetQuery(conn,\"select *\n",
        "from alumnos \n",
        "limit 10\")"
      ],
      "execution_count": null,
      "outputs": [
        {
          "output_type": "display_data",
          "data": {
            "text/plain": [
              "   MRUN  AGNO RBD COD_ENSE COD_GRADO LET_CUR GEN_ALU FEC_NAC_ALU COD_COM_ALU\n",
              "1  10178 2003 1   510      2         E       1       19880523    1201       \n",
              "2  11325 2003 1   510      3         F       1       19860323    1201       \n",
              "3  13604 2003 1   610      4         A       2       19850117    1201       \n",
              "4  20935 2003 1   561      4         C       1       19740211    1201       \n",
              "5  30441 2003 1   510      3         B       1       19870102    1201       \n",
              "6  37399 2003 1   510      4         F       1       19850915    1201       \n",
              "7  53226 2003 1   510      4         E       1       19851210    1201       \n",
              "8  67099 2003 1   610      2         B       2       19880523    1201       \n",
              "9  81228 2003 1   510      4         B       1       19850412    1201       \n",
              "10 92465 2003 1   510      2         E       1       19880111    1201       \n",
              "   SIT_FIN_R PROM_GRAL ASISTENCIA\n",
              "1  P         5,6       95        \n",
              "2  P         5,7       85        \n",
              "3  P         5,2       93        \n",
              "4  P         5,7       94        \n",
              "5  P         5,6       98        \n",
              "6  P         4,9       92        \n",
              "7  P         4,9       86        \n",
              "8  P         6,6       91        \n",
              "9  P         5,9       97        \n",
              "10 P         6         99        "
            ],
            "text/latex": "A data.frame: 10 × 12\n\\begin{tabular}{llllllllllll}\n MRUN & AGNO & RBD & COD\\_ENSE & COD\\_GRADO & LET\\_CUR & GEN\\_ALU & FEC\\_NAC\\_ALU & COD\\_COM\\_ALU & SIT\\_FIN\\_R & PROM\\_GRAL & ASISTENCIA\\\\\n <int> & <int> & <int> & <int> & <int> & <chr> & <int> & <int> & <int> & <chr> & <chr> & <int>\\\\\n\\hline\n\t 10178 & 2003 & 1 & 510 & 2 & E & 1 & 19880523 & 1201 & P & 5,6 & 95\\\\\n\t 11325 & 2003 & 1 & 510 & 3 & F & 1 & 19860323 & 1201 & P & 5,7 & 85\\\\\n\t 13604 & 2003 & 1 & 610 & 4 & A & 2 & 19850117 & 1201 & P & 5,2 & 93\\\\\n\t 20935 & 2003 & 1 & 561 & 4 & C & 1 & 19740211 & 1201 & P & 5,7 & 94\\\\\n\t 30441 & 2003 & 1 & 510 & 3 & B & 1 & 19870102 & 1201 & P & 5,6 & 98\\\\\n\t 37399 & 2003 & 1 & 510 & 4 & F & 1 & 19850915 & 1201 & P & 4,9 & 92\\\\\n\t 53226 & 2003 & 1 & 510 & 4 & E & 1 & 19851210 & 1201 & P & 4,9 & 86\\\\\n\t 67099 & 2003 & 1 & 610 & 2 & B & 2 & 19880523 & 1201 & P & 6,6 & 91\\\\\n\t 81228 & 2003 & 1 & 510 & 4 & B & 1 & 19850412 & 1201 & P & 5,9 & 97\\\\\n\t 92465 & 2003 & 1 & 510 & 2 & E & 1 & 19880111 & 1201 & P & 6   & 99\\\\\n\\end{tabular}\n",
            "text/markdown": "\nA data.frame: 10 × 12\n\n| MRUN &lt;int&gt; | AGNO &lt;int&gt; | RBD &lt;int&gt; | COD_ENSE &lt;int&gt; | COD_GRADO &lt;int&gt; | LET_CUR &lt;chr&gt; | GEN_ALU &lt;int&gt; | FEC_NAC_ALU &lt;int&gt; | COD_COM_ALU &lt;int&gt; | SIT_FIN_R &lt;chr&gt; | PROM_GRAL &lt;chr&gt; | ASISTENCIA &lt;int&gt; |\n|---|---|---|---|---|---|---|---|---|---|---|---|\n| 10178 | 2003 | 1 | 510 | 2 | E | 1 | 19880523 | 1201 | P | 5,6 | 95 |\n| 11325 | 2003 | 1 | 510 | 3 | F | 1 | 19860323 | 1201 | P | 5,7 | 85 |\n| 13604 | 2003 | 1 | 610 | 4 | A | 2 | 19850117 | 1201 | P | 5,2 | 93 |\n| 20935 | 2003 | 1 | 561 | 4 | C | 1 | 19740211 | 1201 | P | 5,7 | 94 |\n| 30441 | 2003 | 1 | 510 | 3 | B | 1 | 19870102 | 1201 | P | 5,6 | 98 |\n| 37399 | 2003 | 1 | 510 | 4 | F | 1 | 19850915 | 1201 | P | 4,9 | 92 |\n| 53226 | 2003 | 1 | 510 | 4 | E | 1 | 19851210 | 1201 | P | 4,9 | 86 |\n| 67099 | 2003 | 1 | 610 | 2 | B | 2 | 19880523 | 1201 | P | 6,6 | 91 |\n| 81228 | 2003 | 1 | 510 | 4 | B | 1 | 19850412 | 1201 | P | 5,9 | 97 |\n| 92465 | 2003 | 1 | 510 | 2 | E | 1 | 19880111 | 1201 | P | 6   | 99 |\n\n",
            "text/html": [
              "<table class=\"dataframe\">\n",
              "<caption>A data.frame: 10 × 12</caption>\n",
              "<thead>\n",
              "\t<tr><th scope=col>MRUN</th><th scope=col>AGNO</th><th scope=col>RBD</th><th scope=col>COD_ENSE</th><th scope=col>COD_GRADO</th><th scope=col>LET_CUR</th><th scope=col>GEN_ALU</th><th scope=col>FEC_NAC_ALU</th><th scope=col>COD_COM_ALU</th><th scope=col>SIT_FIN_R</th><th scope=col>PROM_GRAL</th><th scope=col>ASISTENCIA</th></tr>\n",
              "\t<tr><th scope=col>&lt;int&gt;</th><th scope=col>&lt;int&gt;</th><th scope=col>&lt;int&gt;</th><th scope=col>&lt;int&gt;</th><th scope=col>&lt;int&gt;</th><th scope=col>&lt;chr&gt;</th><th scope=col>&lt;int&gt;</th><th scope=col>&lt;int&gt;</th><th scope=col>&lt;int&gt;</th><th scope=col>&lt;chr&gt;</th><th scope=col>&lt;chr&gt;</th><th scope=col>&lt;int&gt;</th></tr>\n",
              "</thead>\n",
              "<tbody>\n",
              "\t<tr><td>10178</td><td>2003</td><td>1</td><td>510</td><td>2</td><td>E</td><td>1</td><td>19880523</td><td>1201</td><td>P</td><td>5,6</td><td>95</td></tr>\n",
              "\t<tr><td>11325</td><td>2003</td><td>1</td><td>510</td><td>3</td><td>F</td><td>1</td><td>19860323</td><td>1201</td><td>P</td><td>5,7</td><td>85</td></tr>\n",
              "\t<tr><td>13604</td><td>2003</td><td>1</td><td>610</td><td>4</td><td>A</td><td>2</td><td>19850117</td><td>1201</td><td>P</td><td>5,2</td><td>93</td></tr>\n",
              "\t<tr><td>20935</td><td>2003</td><td>1</td><td>561</td><td>4</td><td>C</td><td>1</td><td>19740211</td><td>1201</td><td>P</td><td>5,7</td><td>94</td></tr>\n",
              "\t<tr><td>30441</td><td>2003</td><td>1</td><td>510</td><td>3</td><td>B</td><td>1</td><td>19870102</td><td>1201</td><td>P</td><td>5,6</td><td>98</td></tr>\n",
              "\t<tr><td>37399</td><td>2003</td><td>1</td><td>510</td><td>4</td><td>F</td><td>1</td><td>19850915</td><td>1201</td><td>P</td><td>4,9</td><td>92</td></tr>\n",
              "\t<tr><td>53226</td><td>2003</td><td>1</td><td>510</td><td>4</td><td>E</td><td>1</td><td>19851210</td><td>1201</td><td>P</td><td>4,9</td><td>86</td></tr>\n",
              "\t<tr><td>67099</td><td>2003</td><td>1</td><td>610</td><td>2</td><td>B</td><td>2</td><td>19880523</td><td>1201</td><td>P</td><td>6,6</td><td>91</td></tr>\n",
              "\t<tr><td>81228</td><td>2003</td><td>1</td><td>510</td><td>4</td><td>B</td><td>1</td><td>19850412</td><td>1201</td><td>P</td><td>5,9</td><td>97</td></tr>\n",
              "\t<tr><td>92465</td><td>2003</td><td>1</td><td>510</td><td>2</td><td>E</td><td>1</td><td>19880111</td><td>1201</td><td>P</td><td>6  </td><td>99</td></tr>\n",
              "</tbody>\n",
              "</table>\n"
            ]
          },
          "metadata": {}
        }
      ]
    },
    {
      "cell_type": "markdown",
      "metadata": {
        "id": "53i4ibfnjsNs"
      },
      "source": [
        "#Nulos y completitud"
      ]
    },
    {
      "cell_type": "code",
      "metadata": {
        "colab": {
          "base_uri": "https://localhost:8080/",
          "height": 127
        },
        "id": "aqtZ4EmdNt8f",
        "outputId": "06fe39c2-2ee7-428a-ebd2-b250218ad34c"
      },
      "source": [
        "dbGetQuery(conn,\"select \n",
        "  sum(case when MRUN is null then 1 else 0 end) MRUN,\n",
        "  sum(case when AGNO is null then 1 else 0 end) AGNO,\n",
        "  sum(case when RBD is null then 1 else 0 end) RBD,\n",
        "  sum(case when COD_ENSE is null then 1 else 0 end) COD_ENSE,\n",
        "  sum(case when LET_CUR is null then 1 else 0 end) LET_CUR,\n",
        "  sum(case when GEN_ALU is null then 1 else 0 end) GEN_ALU,\n",
        "  sum(case when FEC_NAC_ALU is null then 1 else 0 end) FEC_NAC_ALU,\n",
        "  sum(case when COD_COM_ALU is null then 1 else 0 end) COD_COM_ALU,\n",
        "  sum(case when SIT_FIN_R is null then 1 else 0 end) SIT_FIN_R,\n",
        "  sum(case when PROM_GRAL is null then 1 else 0 end) PROM_GRAL,\n",
        "  sum(case when ASISTENCIA is null then 1 else 0 end) ASISTENCIA\n",
        "from alumnos\")"
      ],
      "execution_count": null,
      "outputs": [
        {
          "output_type": "display_data",
          "data": {
            "text/plain": [
              "  MRUN AGNO RBD COD_ENSE LET_CUR GEN_ALU FEC_NAC_ALU COD_COM_ALU SIT_FIN_R\n",
              "1 4397 0    0   0        0       0       5           0           0        \n",
              "  PROM_GRAL ASISTENCIA\n",
              "1 0         0         "
            ],
            "text/latex": "A data.frame: 1 × 11\n\\begin{tabular}{lllllllllll}\n MRUN & AGNO & RBD & COD\\_ENSE & LET\\_CUR & GEN\\_ALU & FEC\\_NAC\\_ALU & COD\\_COM\\_ALU & SIT\\_FIN\\_R & PROM\\_GRAL & ASISTENCIA\\\\\n <int> & <int> & <int> & <int> & <int> & <int> & <int> & <int> & <int> & <int> & <int>\\\\\n\\hline\n\t 4397 & 0 & 0 & 0 & 0 & 0 & 5 & 0 & 0 & 0 & 0\\\\\n\\end{tabular}\n",
            "text/markdown": "\nA data.frame: 1 × 11\n\n| MRUN &lt;int&gt; | AGNO &lt;int&gt; | RBD &lt;int&gt; | COD_ENSE &lt;int&gt; | LET_CUR &lt;int&gt; | GEN_ALU &lt;int&gt; | FEC_NAC_ALU &lt;int&gt; | COD_COM_ALU &lt;int&gt; | SIT_FIN_R &lt;int&gt; | PROM_GRAL &lt;int&gt; | ASISTENCIA &lt;int&gt; |\n|---|---|---|---|---|---|---|---|---|---|---|\n| 4397 | 0 | 0 | 0 | 0 | 0 | 5 | 0 | 0 | 0 | 0 |\n\n",
            "text/html": [
              "<table class=\"dataframe\">\n",
              "<caption>A data.frame: 1 × 11</caption>\n",
              "<thead>\n",
              "\t<tr><th scope=col>MRUN</th><th scope=col>AGNO</th><th scope=col>RBD</th><th scope=col>COD_ENSE</th><th scope=col>LET_CUR</th><th scope=col>GEN_ALU</th><th scope=col>FEC_NAC_ALU</th><th scope=col>COD_COM_ALU</th><th scope=col>SIT_FIN_R</th><th scope=col>PROM_GRAL</th><th scope=col>ASISTENCIA</th></tr>\n",
              "\t<tr><th scope=col>&lt;int&gt;</th><th scope=col>&lt;int&gt;</th><th scope=col>&lt;int&gt;</th><th scope=col>&lt;int&gt;</th><th scope=col>&lt;int&gt;</th><th scope=col>&lt;int&gt;</th><th scope=col>&lt;int&gt;</th><th scope=col>&lt;int&gt;</th><th scope=col>&lt;int&gt;</th><th scope=col>&lt;int&gt;</th><th scope=col>&lt;int&gt;</th></tr>\n",
              "</thead>\n",
              "<tbody>\n",
              "\t<tr><td>4397</td><td>0</td><td>0</td><td>0</td><td>0</td><td>0</td><td>5</td><td>0</td><td>0</td><td>0</td><td>0</td></tr>\n",
              "</tbody>\n",
              "</table>\n"
            ]
          },
          "metadata": {}
        }
      ]
    },
    {
      "cell_type": "markdown",
      "metadata": {
        "id": "NoWDu6T5jkFc"
      },
      "source": [
        "## Definiendo bien los nulos"
      ]
    },
    {
      "cell_type": "markdown",
      "metadata": {
        "id": "3tUBk8ubkJQI"
      },
      "source": [
        "### Situacion final"
      ]
    },
    {
      "cell_type": "markdown",
      "metadata": {
        "id": "t_pjaTKv-hJR"
      },
      "source": [
        "\n",
        "\n",
        "```\n",
        "UPDATE <NOMBRETABLA>\n",
        "SET ATRIBUTO=#VALUE#\n",
        "WHERE <<CONDICION>>\n",
        "```\n",
        "\n"
      ]
    },
    {
      "cell_type": "code",
      "metadata": {
        "id": "zIniSjoefmts",
        "colab": {
          "base_uri": "https://localhost:8080/",
          "height": 1000
        },
        "outputId": "1e849adb-b685-474e-adde-c006b4430dd8"
      },
      "source": [
        "dbGetQuery(conn, \"\n",
        "select *\n",
        "from alumnos \n",
        "where SIT_FIN_R='' \")"
      ],
      "execution_count": 9,
      "outputs": [
        {
          "output_type": "display_data",
          "data": {
            "text/plain": [
              "     MRUN     AGNO RBD   COD_ENSE COD_GRADO LET_CUR GEN_ALU FEC_NAC_ALU\n",
              "1    22864517 2011   88  110      1         A       2       20050825   \n",
              "2    15008838 2011 6153  110      6         A       2       19940624   \n",
              "3    22798099 2011 6486  110      1         A       2       20050816   \n",
              "4    19587966 2011 7582  110      5         A       1       19970115   \n",
              "5     5179207 2011 8292  310      3         A       1       19910814   \n",
              "6     7670713 2011 8292  310      1         A       1       19930630   \n",
              "7    16628604 2011 8292  310      2         A       2       19940414   \n",
              "8     2304061 2011 8793  110      8         A       2       19960203   \n",
              "9     2930982 2011 8793  110      4         A       2       20020323   \n",
              "10    3205014 2011 8793  110      7         A       2       19980601   \n",
              "11    3495924 2011 8793  110      1         A       1       20040615   \n",
              "12    3806052 2011 8793  110      4         A       1       20001204   \n",
              "13    4659611 2011 8793  110      6         A       1       19980319   \n",
              "14    4732231 2011 8793  110      3         A       1       20011120   \n",
              "15    6327297 2011 8793  110      5         A       2       19980730   \n",
              "16    7189938 2011 8793  110      6         A       2       19960702   \n",
              "17    7460692 2011 8793  110      3         A       2       20020507   \n",
              "18    7528559 2011 8793  110      4         A       1       20001006   \n",
              "19    7711458 2011 8793  110      3         A       1       20020208   \n",
              "20   13809730 2011 8793  110      5         A       1       20000824   \n",
              "21   14785545 2011 8793  110      6         A       1       20000301   \n",
              "22   15268400 2011 8793  110      8         A       1       19980225   \n",
              "23   15432672 2011 8793  110      5         A       1       20000127   \n",
              "24   15547117 2011 8793  110      7         A       1       19960213   \n",
              "25   15577786 2011 8793  110      4         A       1       20000318   \n",
              "26   16846740 2011 8793  110      2         A       1       20011017   \n",
              "27   17491085 2011 8793  110      3         A       1       20020322   \n",
              "28   22499133 2011 8793  110      6         A       1       19990923   \n",
              "29   22712505 2011 8793  110      7         A       1       19980107   \n",
              "30   16501242 2011 8866  110      1         A       1       20040625   \n",
              "⋮    ⋮        ⋮    ⋮     ⋮        ⋮         ⋮       ⋮       ⋮          \n",
              "5144  4678230 2020 25833 110      5         A       2       200809     \n",
              "5145  6153011 2020 25833 110      5         A       1       200911     \n",
              "5146 17152462 2020 25833 110      5         A       1       201002     \n",
              "5147 17679868 2020 25833 110      5         A       2       200812     \n",
              "5148 20889988 2020 25833 110      5         A       1       200904     \n",
              "5149  2325771 2020 25833 110      6         A       1       200806     \n",
              "5150  7470007 2020 25833 110      6         A       1       200903     \n",
              "5151  8869685 2020 25833 110      6         A       1       200805     \n",
              "5152 14955685 2020 25833 110      6         A       1       200806     \n",
              "5153 17335373 2020 25833 110      6         A       2       200705     \n",
              "5154  1165269 2020 25833 110      7         A       1       200801     \n",
              "5155  5003178 2020 25833 110      7         A       2       200706     \n",
              "5156  7325418 2020 25833 110      7         A       1       200712     \n",
              "5157 10949177 2020 25833 110      7         A       1       200609     \n",
              "5158 17060436 2020 25833 110      7         A       1       200702     \n",
              "5159 20050743 2020 25833 110      7         A       1       200707     \n",
              "5160 21311927 2020 25833 110      7         A       1       200712     \n",
              "5161 24466680 2020 25833 110      7         A       2       200711     \n",
              "5162 24497210 2020 25833 110      7         A       1       200802     \n",
              "5163  1612648 2020 25833 110      8         A       1       200512     \n",
              "5164  2469150 2020 25833 110      8         A       1       200603     \n",
              "5165  3636912 2020 25833 110      8         A       1       200407     \n",
              "5166  5335360 2020 25833 110      8         A       1       200703     \n",
              "5167  5521861 2020 25833 110      8         A       1       200510     \n",
              "5168  7558582 2020 25833 110      8         A       1       200504     \n",
              "5169 11569330 2020 25833 110      8         A       1       200510     \n",
              "5170 16716298 2020 25833 110      8         A       1       200502     \n",
              "5171 18166036 2020 25833 110      8         A       1       200604     \n",
              "5172 18249547 2020 25833 110      8         A       2       200608     \n",
              "5173 22005977 2020 25833 110      8         A       1       200506     \n",
              "     COD_COM_ALU SIT_FIN_R PROM_GRAL ASISTENCIA\n",
              "1    15202                 0         100       \n",
              "2     9101                 0           0       \n",
              "3     9116                 0         100       \n",
              "4    10306                 0           0       \n",
              "5    10404                 0           0       \n",
              "6    10404                 0           0       \n",
              "7    10404                 0           0       \n",
              "8    13120                 0           0       \n",
              "9    13117                 0           0       \n",
              "10   13120                 0           0       \n",
              "11   13101                 0         100       \n",
              "12   13119                 0           0       \n",
              "13   13120                 0           0       \n",
              "14   13102                 0           0       \n",
              "15   13123                 0           0       \n",
              "16   13122                 0           0       \n",
              "17   13123                 0           0       \n",
              "18   13129                 0           0       \n",
              "19   13120                 0           0       \n",
              "20   13120                 0           0       \n",
              "21   13101                 0         100       \n",
              "22   13122                 0           0       \n",
              "23   13101                 0           0       \n",
              "24   13123                 0           0       \n",
              "25   13122                 0         100       \n",
              "26   13101                 0         100       \n",
              "27   13101                 0           0       \n",
              "28   13122                 0         100       \n",
              "29   13120                 0           0       \n",
              "30   13114                 0           0       \n",
              "⋮    ⋮           ⋮         ⋮         ⋮         \n",
              "5144 13123                 0         100       \n",
              "5145 13123                 0         100       \n",
              "5146 13109                 0         100       \n",
              "5147 13127                 0         100       \n",
              "5148 13114                 0         100       \n",
              "5149 13101                 0         100       \n",
              "5150 13123                 0         100       \n",
              "5151 13113                 0         100       \n",
              "5152 13114                 0         100       \n",
              "5153 13123                 0         100       \n",
              "5154 13123                 0         100       \n",
              "5155 13123                 0         100       \n",
              "5156 13123                 0         100       \n",
              "5157 13114                 0         100       \n",
              "5158  5705                 0         100       \n",
              "5159 13123                 0         100       \n",
              "5160 13123                 0         100       \n",
              "5161 13101                 0         100       \n",
              "5162 13115                 0         100       \n",
              "5163 13132                 0         100       \n",
              "5164 13123                 0         100       \n",
              "5165 13132                 0         100       \n",
              "5166 13101                 0         100       \n",
              "5167 13107                 0         100       \n",
              "5168 13114                 0         100       \n",
              "5169 13114                 0         100       \n",
              "5170 13114                 0         100       \n",
              "5171 13110                 0         100       \n",
              "5172 13114                 0         100       \n",
              "5173 13114                 0         100       "
            ],
            "text/latex": "A data.frame: 5173 × 12\n\\begin{tabular}{llllllllllll}\n MRUN & AGNO & RBD & COD\\_ENSE & COD\\_GRADO & LET\\_CUR & GEN\\_ALU & FEC\\_NAC\\_ALU & COD\\_COM\\_ALU & SIT\\_FIN\\_R & PROM\\_GRAL & ASISTENCIA\\\\\n <int> & <int> & <int> & <int> & <int> & <chr> & <int> & <int> & <int> & <chr> & <chr> & <int>\\\\\n\\hline\n\t 22864517 & 2011 &   88 & 110 & 1 & A & 2 & 20050825 & 15202 &  & 0 & 100\\\\\n\t 15008838 & 2011 & 6153 & 110 & 6 & A & 2 & 19940624 &  9101 &  & 0 &   0\\\\\n\t 22798099 & 2011 & 6486 & 110 & 1 & A & 2 & 20050816 &  9116 &  & 0 & 100\\\\\n\t 19587966 & 2011 & 7582 & 110 & 5 & A & 1 & 19970115 & 10306 &  & 0 &   0\\\\\n\t  5179207 & 2011 & 8292 & 310 & 3 & A & 1 & 19910814 & 10404 &  & 0 &   0\\\\\n\t  7670713 & 2011 & 8292 & 310 & 1 & A & 1 & 19930630 & 10404 &  & 0 &   0\\\\\n\t 16628604 & 2011 & 8292 & 310 & 2 & A & 2 & 19940414 & 10404 &  & 0 &   0\\\\\n\t  2304061 & 2011 & 8793 & 110 & 8 & A & 2 & 19960203 & 13120 &  & 0 &   0\\\\\n\t  2930982 & 2011 & 8793 & 110 & 4 & A & 2 & 20020323 & 13117 &  & 0 &   0\\\\\n\t  3205014 & 2011 & 8793 & 110 & 7 & A & 2 & 19980601 & 13120 &  & 0 &   0\\\\\n\t  3495924 & 2011 & 8793 & 110 & 1 & A & 1 & 20040615 & 13101 &  & 0 & 100\\\\\n\t  3806052 & 2011 & 8793 & 110 & 4 & A & 1 & 20001204 & 13119 &  & 0 &   0\\\\\n\t  4659611 & 2011 & 8793 & 110 & 6 & A & 1 & 19980319 & 13120 &  & 0 &   0\\\\\n\t  4732231 & 2011 & 8793 & 110 & 3 & A & 1 & 20011120 & 13102 &  & 0 &   0\\\\\n\t  6327297 & 2011 & 8793 & 110 & 5 & A & 2 & 19980730 & 13123 &  & 0 &   0\\\\\n\t  7189938 & 2011 & 8793 & 110 & 6 & A & 2 & 19960702 & 13122 &  & 0 &   0\\\\\n\t  7460692 & 2011 & 8793 & 110 & 3 & A & 2 & 20020507 & 13123 &  & 0 &   0\\\\\n\t  7528559 & 2011 & 8793 & 110 & 4 & A & 1 & 20001006 & 13129 &  & 0 &   0\\\\\n\t  7711458 & 2011 & 8793 & 110 & 3 & A & 1 & 20020208 & 13120 &  & 0 &   0\\\\\n\t 13809730 & 2011 & 8793 & 110 & 5 & A & 1 & 20000824 & 13120 &  & 0 &   0\\\\\n\t 14785545 & 2011 & 8793 & 110 & 6 & A & 1 & 20000301 & 13101 &  & 0 & 100\\\\\n\t 15268400 & 2011 & 8793 & 110 & 8 & A & 1 & 19980225 & 13122 &  & 0 &   0\\\\\n\t 15432672 & 2011 & 8793 & 110 & 5 & A & 1 & 20000127 & 13101 &  & 0 &   0\\\\\n\t 15547117 & 2011 & 8793 & 110 & 7 & A & 1 & 19960213 & 13123 &  & 0 &   0\\\\\n\t 15577786 & 2011 & 8793 & 110 & 4 & A & 1 & 20000318 & 13122 &  & 0 & 100\\\\\n\t 16846740 & 2011 & 8793 & 110 & 2 & A & 1 & 20011017 & 13101 &  & 0 & 100\\\\\n\t 17491085 & 2011 & 8793 & 110 & 3 & A & 1 & 20020322 & 13101 &  & 0 &   0\\\\\n\t 22499133 & 2011 & 8793 & 110 & 6 & A & 1 & 19990923 & 13122 &  & 0 & 100\\\\\n\t 22712505 & 2011 & 8793 & 110 & 7 & A & 1 & 19980107 & 13120 &  & 0 &   0\\\\\n\t 16501242 & 2011 & 8866 & 110 & 1 & A & 1 & 20040625 & 13114 &  & 0 &   0\\\\\n\t ⋮ & ⋮ & ⋮ & ⋮ & ⋮ & ⋮ & ⋮ & ⋮ & ⋮ & ⋮ & ⋮ & ⋮\\\\\n\t  4678230 & 2020 & 25833 & 110 & 5 & A & 2 & 200809 & 13123 &  & 0 & 100\\\\\n\t  6153011 & 2020 & 25833 & 110 & 5 & A & 1 & 200911 & 13123 &  & 0 & 100\\\\\n\t 17152462 & 2020 & 25833 & 110 & 5 & A & 1 & 201002 & 13109 &  & 0 & 100\\\\\n\t 17679868 & 2020 & 25833 & 110 & 5 & A & 2 & 200812 & 13127 &  & 0 & 100\\\\\n\t 20889988 & 2020 & 25833 & 110 & 5 & A & 1 & 200904 & 13114 &  & 0 & 100\\\\\n\t  2325771 & 2020 & 25833 & 110 & 6 & A & 1 & 200806 & 13101 &  & 0 & 100\\\\\n\t  7470007 & 2020 & 25833 & 110 & 6 & A & 1 & 200903 & 13123 &  & 0 & 100\\\\\n\t  8869685 & 2020 & 25833 & 110 & 6 & A & 1 & 200805 & 13113 &  & 0 & 100\\\\\n\t 14955685 & 2020 & 25833 & 110 & 6 & A & 1 & 200806 & 13114 &  & 0 & 100\\\\\n\t 17335373 & 2020 & 25833 & 110 & 6 & A & 2 & 200705 & 13123 &  & 0 & 100\\\\\n\t  1165269 & 2020 & 25833 & 110 & 7 & A & 1 & 200801 & 13123 &  & 0 & 100\\\\\n\t  5003178 & 2020 & 25833 & 110 & 7 & A & 2 & 200706 & 13123 &  & 0 & 100\\\\\n\t  7325418 & 2020 & 25833 & 110 & 7 & A & 1 & 200712 & 13123 &  & 0 & 100\\\\\n\t 10949177 & 2020 & 25833 & 110 & 7 & A & 1 & 200609 & 13114 &  & 0 & 100\\\\\n\t 17060436 & 2020 & 25833 & 110 & 7 & A & 1 & 200702 &  5705 &  & 0 & 100\\\\\n\t 20050743 & 2020 & 25833 & 110 & 7 & A & 1 & 200707 & 13123 &  & 0 & 100\\\\\n\t 21311927 & 2020 & 25833 & 110 & 7 & A & 1 & 200712 & 13123 &  & 0 & 100\\\\\n\t 24466680 & 2020 & 25833 & 110 & 7 & A & 2 & 200711 & 13101 &  & 0 & 100\\\\\n\t 24497210 & 2020 & 25833 & 110 & 7 & A & 1 & 200802 & 13115 &  & 0 & 100\\\\\n\t  1612648 & 2020 & 25833 & 110 & 8 & A & 1 & 200512 & 13132 &  & 0 & 100\\\\\n\t  2469150 & 2020 & 25833 & 110 & 8 & A & 1 & 200603 & 13123 &  & 0 & 100\\\\\n\t  3636912 & 2020 & 25833 & 110 & 8 & A & 1 & 200407 & 13132 &  & 0 & 100\\\\\n\t  5335360 & 2020 & 25833 & 110 & 8 & A & 1 & 200703 & 13101 &  & 0 & 100\\\\\n\t  5521861 & 2020 & 25833 & 110 & 8 & A & 1 & 200510 & 13107 &  & 0 & 100\\\\\n\t  7558582 & 2020 & 25833 & 110 & 8 & A & 1 & 200504 & 13114 &  & 0 & 100\\\\\n\t 11569330 & 2020 & 25833 & 110 & 8 & A & 1 & 200510 & 13114 &  & 0 & 100\\\\\n\t 16716298 & 2020 & 25833 & 110 & 8 & A & 1 & 200502 & 13114 &  & 0 & 100\\\\\n\t 18166036 & 2020 & 25833 & 110 & 8 & A & 1 & 200604 & 13110 &  & 0 & 100\\\\\n\t 18249547 & 2020 & 25833 & 110 & 8 & A & 2 & 200608 & 13114 &  & 0 & 100\\\\\n\t 22005977 & 2020 & 25833 & 110 & 8 & A & 1 & 200506 & 13114 &  & 0 & 100\\\\\n\\end{tabular}\n",
            "text/markdown": "\nA data.frame: 5173 × 12\n\n| MRUN &lt;int&gt; | AGNO &lt;int&gt; | RBD &lt;int&gt; | COD_ENSE &lt;int&gt; | COD_GRADO &lt;int&gt; | LET_CUR &lt;chr&gt; | GEN_ALU &lt;int&gt; | FEC_NAC_ALU &lt;int&gt; | COD_COM_ALU &lt;int&gt; | SIT_FIN_R &lt;chr&gt; | PROM_GRAL &lt;chr&gt; | ASISTENCIA &lt;int&gt; |\n|---|---|---|---|---|---|---|---|---|---|---|---|\n| 22864517 | 2011 |   88 | 110 | 1 | A | 2 | 20050825 | 15202 | <!----> | 0 | 100 |\n| 15008838 | 2011 | 6153 | 110 | 6 | A | 2 | 19940624 |  9101 | <!----> | 0 |   0 |\n| 22798099 | 2011 | 6486 | 110 | 1 | A | 2 | 20050816 |  9116 | <!----> | 0 | 100 |\n| 19587966 | 2011 | 7582 | 110 | 5 | A | 1 | 19970115 | 10306 | <!----> | 0 |   0 |\n|  5179207 | 2011 | 8292 | 310 | 3 | A | 1 | 19910814 | 10404 | <!----> | 0 |   0 |\n|  7670713 | 2011 | 8292 | 310 | 1 | A | 1 | 19930630 | 10404 | <!----> | 0 |   0 |\n| 16628604 | 2011 | 8292 | 310 | 2 | A | 2 | 19940414 | 10404 | <!----> | 0 |   0 |\n|  2304061 | 2011 | 8793 | 110 | 8 | A | 2 | 19960203 | 13120 | <!----> | 0 |   0 |\n|  2930982 | 2011 | 8793 | 110 | 4 | A | 2 | 20020323 | 13117 | <!----> | 0 |   0 |\n|  3205014 | 2011 | 8793 | 110 | 7 | A | 2 | 19980601 | 13120 | <!----> | 0 |   0 |\n|  3495924 | 2011 | 8793 | 110 | 1 | A | 1 | 20040615 | 13101 | <!----> | 0 | 100 |\n|  3806052 | 2011 | 8793 | 110 | 4 | A | 1 | 20001204 | 13119 | <!----> | 0 |   0 |\n|  4659611 | 2011 | 8793 | 110 | 6 | A | 1 | 19980319 | 13120 | <!----> | 0 |   0 |\n|  4732231 | 2011 | 8793 | 110 | 3 | A | 1 | 20011120 | 13102 | <!----> | 0 |   0 |\n|  6327297 | 2011 | 8793 | 110 | 5 | A | 2 | 19980730 | 13123 | <!----> | 0 |   0 |\n|  7189938 | 2011 | 8793 | 110 | 6 | A | 2 | 19960702 | 13122 | <!----> | 0 |   0 |\n|  7460692 | 2011 | 8793 | 110 | 3 | A | 2 | 20020507 | 13123 | <!----> | 0 |   0 |\n|  7528559 | 2011 | 8793 | 110 | 4 | A | 1 | 20001006 | 13129 | <!----> | 0 |   0 |\n|  7711458 | 2011 | 8793 | 110 | 3 | A | 1 | 20020208 | 13120 | <!----> | 0 |   0 |\n| 13809730 | 2011 | 8793 | 110 | 5 | A | 1 | 20000824 | 13120 | <!----> | 0 |   0 |\n| 14785545 | 2011 | 8793 | 110 | 6 | A | 1 | 20000301 | 13101 | <!----> | 0 | 100 |\n| 15268400 | 2011 | 8793 | 110 | 8 | A | 1 | 19980225 | 13122 | <!----> | 0 |   0 |\n| 15432672 | 2011 | 8793 | 110 | 5 | A | 1 | 20000127 | 13101 | <!----> | 0 |   0 |\n| 15547117 | 2011 | 8793 | 110 | 7 | A | 1 | 19960213 | 13123 | <!----> | 0 |   0 |\n| 15577786 | 2011 | 8793 | 110 | 4 | A | 1 | 20000318 | 13122 | <!----> | 0 | 100 |\n| 16846740 | 2011 | 8793 | 110 | 2 | A | 1 | 20011017 | 13101 | <!----> | 0 | 100 |\n| 17491085 | 2011 | 8793 | 110 | 3 | A | 1 | 20020322 | 13101 | <!----> | 0 |   0 |\n| 22499133 | 2011 | 8793 | 110 | 6 | A | 1 | 19990923 | 13122 | <!----> | 0 | 100 |\n| 22712505 | 2011 | 8793 | 110 | 7 | A | 1 | 19980107 | 13120 | <!----> | 0 |   0 |\n| 16501242 | 2011 | 8866 | 110 | 1 | A | 1 | 20040625 | 13114 | <!----> | 0 |   0 |\n| ⋮ | ⋮ | ⋮ | ⋮ | ⋮ | ⋮ | ⋮ | ⋮ | ⋮ | ⋮ | ⋮ | ⋮ |\n|  4678230 | 2020 | 25833 | 110 | 5 | A | 2 | 200809 | 13123 | <!----> | 0 | 100 |\n|  6153011 | 2020 | 25833 | 110 | 5 | A | 1 | 200911 | 13123 | <!----> | 0 | 100 |\n| 17152462 | 2020 | 25833 | 110 | 5 | A | 1 | 201002 | 13109 | <!----> | 0 | 100 |\n| 17679868 | 2020 | 25833 | 110 | 5 | A | 2 | 200812 | 13127 | <!----> | 0 | 100 |\n| 20889988 | 2020 | 25833 | 110 | 5 | A | 1 | 200904 | 13114 | <!----> | 0 | 100 |\n|  2325771 | 2020 | 25833 | 110 | 6 | A | 1 | 200806 | 13101 | <!----> | 0 | 100 |\n|  7470007 | 2020 | 25833 | 110 | 6 | A | 1 | 200903 | 13123 | <!----> | 0 | 100 |\n|  8869685 | 2020 | 25833 | 110 | 6 | A | 1 | 200805 | 13113 | <!----> | 0 | 100 |\n| 14955685 | 2020 | 25833 | 110 | 6 | A | 1 | 200806 | 13114 | <!----> | 0 | 100 |\n| 17335373 | 2020 | 25833 | 110 | 6 | A | 2 | 200705 | 13123 | <!----> | 0 | 100 |\n|  1165269 | 2020 | 25833 | 110 | 7 | A | 1 | 200801 | 13123 | <!----> | 0 | 100 |\n|  5003178 | 2020 | 25833 | 110 | 7 | A | 2 | 200706 | 13123 | <!----> | 0 | 100 |\n|  7325418 | 2020 | 25833 | 110 | 7 | A | 1 | 200712 | 13123 | <!----> | 0 | 100 |\n| 10949177 | 2020 | 25833 | 110 | 7 | A | 1 | 200609 | 13114 | <!----> | 0 | 100 |\n| 17060436 | 2020 | 25833 | 110 | 7 | A | 1 | 200702 |  5705 | <!----> | 0 | 100 |\n| 20050743 | 2020 | 25833 | 110 | 7 | A | 1 | 200707 | 13123 | <!----> | 0 | 100 |\n| 21311927 | 2020 | 25833 | 110 | 7 | A | 1 | 200712 | 13123 | <!----> | 0 | 100 |\n| 24466680 | 2020 | 25833 | 110 | 7 | A | 2 | 200711 | 13101 | <!----> | 0 | 100 |\n| 24497210 | 2020 | 25833 | 110 | 7 | A | 1 | 200802 | 13115 | <!----> | 0 | 100 |\n|  1612648 | 2020 | 25833 | 110 | 8 | A | 1 | 200512 | 13132 | <!----> | 0 | 100 |\n|  2469150 | 2020 | 25833 | 110 | 8 | A | 1 | 200603 | 13123 | <!----> | 0 | 100 |\n|  3636912 | 2020 | 25833 | 110 | 8 | A | 1 | 200407 | 13132 | <!----> | 0 | 100 |\n|  5335360 | 2020 | 25833 | 110 | 8 | A | 1 | 200703 | 13101 | <!----> | 0 | 100 |\n|  5521861 | 2020 | 25833 | 110 | 8 | A | 1 | 200510 | 13107 | <!----> | 0 | 100 |\n|  7558582 | 2020 | 25833 | 110 | 8 | A | 1 | 200504 | 13114 | <!----> | 0 | 100 |\n| 11569330 | 2020 | 25833 | 110 | 8 | A | 1 | 200510 | 13114 | <!----> | 0 | 100 |\n| 16716298 | 2020 | 25833 | 110 | 8 | A | 1 | 200502 | 13114 | <!----> | 0 | 100 |\n| 18166036 | 2020 | 25833 | 110 | 8 | A | 1 | 200604 | 13110 | <!----> | 0 | 100 |\n| 18249547 | 2020 | 25833 | 110 | 8 | A | 2 | 200608 | 13114 | <!----> | 0 | 100 |\n| 22005977 | 2020 | 25833 | 110 | 8 | A | 1 | 200506 | 13114 | <!----> | 0 | 100 |\n\n",
            "text/html": [
              "<table class=\"dataframe\">\n",
              "<caption>A data.frame: 5173 × 12</caption>\n",
              "<thead>\n",
              "\t<tr><th scope=col>MRUN</th><th scope=col>AGNO</th><th scope=col>RBD</th><th scope=col>COD_ENSE</th><th scope=col>COD_GRADO</th><th scope=col>LET_CUR</th><th scope=col>GEN_ALU</th><th scope=col>FEC_NAC_ALU</th><th scope=col>COD_COM_ALU</th><th scope=col>SIT_FIN_R</th><th scope=col>PROM_GRAL</th><th scope=col>ASISTENCIA</th></tr>\n",
              "\t<tr><th scope=col>&lt;int&gt;</th><th scope=col>&lt;int&gt;</th><th scope=col>&lt;int&gt;</th><th scope=col>&lt;int&gt;</th><th scope=col>&lt;int&gt;</th><th scope=col>&lt;chr&gt;</th><th scope=col>&lt;int&gt;</th><th scope=col>&lt;int&gt;</th><th scope=col>&lt;int&gt;</th><th scope=col>&lt;chr&gt;</th><th scope=col>&lt;chr&gt;</th><th scope=col>&lt;int&gt;</th></tr>\n",
              "</thead>\n",
              "<tbody>\n",
              "\t<tr><td>22864517</td><td>2011</td><td>  88</td><td>110</td><td>1</td><td>A</td><td>2</td><td>20050825</td><td>15202</td><td></td><td>0</td><td>100</td></tr>\n",
              "\t<tr><td>15008838</td><td>2011</td><td>6153</td><td>110</td><td>6</td><td>A</td><td>2</td><td>19940624</td><td> 9101</td><td></td><td>0</td><td>  0</td></tr>\n",
              "\t<tr><td>22798099</td><td>2011</td><td>6486</td><td>110</td><td>1</td><td>A</td><td>2</td><td>20050816</td><td> 9116</td><td></td><td>0</td><td>100</td></tr>\n",
              "\t<tr><td>19587966</td><td>2011</td><td>7582</td><td>110</td><td>5</td><td>A</td><td>1</td><td>19970115</td><td>10306</td><td></td><td>0</td><td>  0</td></tr>\n",
              "\t<tr><td> 5179207</td><td>2011</td><td>8292</td><td>310</td><td>3</td><td>A</td><td>1</td><td>19910814</td><td>10404</td><td></td><td>0</td><td>  0</td></tr>\n",
              "\t<tr><td> 7670713</td><td>2011</td><td>8292</td><td>310</td><td>1</td><td>A</td><td>1</td><td>19930630</td><td>10404</td><td></td><td>0</td><td>  0</td></tr>\n",
              "\t<tr><td>16628604</td><td>2011</td><td>8292</td><td>310</td><td>2</td><td>A</td><td>2</td><td>19940414</td><td>10404</td><td></td><td>0</td><td>  0</td></tr>\n",
              "\t<tr><td> 2304061</td><td>2011</td><td>8793</td><td>110</td><td>8</td><td>A</td><td>2</td><td>19960203</td><td>13120</td><td></td><td>0</td><td>  0</td></tr>\n",
              "\t<tr><td> 2930982</td><td>2011</td><td>8793</td><td>110</td><td>4</td><td>A</td><td>2</td><td>20020323</td><td>13117</td><td></td><td>0</td><td>  0</td></tr>\n",
              "\t<tr><td> 3205014</td><td>2011</td><td>8793</td><td>110</td><td>7</td><td>A</td><td>2</td><td>19980601</td><td>13120</td><td></td><td>0</td><td>  0</td></tr>\n",
              "\t<tr><td> 3495924</td><td>2011</td><td>8793</td><td>110</td><td>1</td><td>A</td><td>1</td><td>20040615</td><td>13101</td><td></td><td>0</td><td>100</td></tr>\n",
              "\t<tr><td> 3806052</td><td>2011</td><td>8793</td><td>110</td><td>4</td><td>A</td><td>1</td><td>20001204</td><td>13119</td><td></td><td>0</td><td>  0</td></tr>\n",
              "\t<tr><td> 4659611</td><td>2011</td><td>8793</td><td>110</td><td>6</td><td>A</td><td>1</td><td>19980319</td><td>13120</td><td></td><td>0</td><td>  0</td></tr>\n",
              "\t<tr><td> 4732231</td><td>2011</td><td>8793</td><td>110</td><td>3</td><td>A</td><td>1</td><td>20011120</td><td>13102</td><td></td><td>0</td><td>  0</td></tr>\n",
              "\t<tr><td> 6327297</td><td>2011</td><td>8793</td><td>110</td><td>5</td><td>A</td><td>2</td><td>19980730</td><td>13123</td><td></td><td>0</td><td>  0</td></tr>\n",
              "\t<tr><td> 7189938</td><td>2011</td><td>8793</td><td>110</td><td>6</td><td>A</td><td>2</td><td>19960702</td><td>13122</td><td></td><td>0</td><td>  0</td></tr>\n",
              "\t<tr><td> 7460692</td><td>2011</td><td>8793</td><td>110</td><td>3</td><td>A</td><td>2</td><td>20020507</td><td>13123</td><td></td><td>0</td><td>  0</td></tr>\n",
              "\t<tr><td> 7528559</td><td>2011</td><td>8793</td><td>110</td><td>4</td><td>A</td><td>1</td><td>20001006</td><td>13129</td><td></td><td>0</td><td>  0</td></tr>\n",
              "\t<tr><td> 7711458</td><td>2011</td><td>8793</td><td>110</td><td>3</td><td>A</td><td>1</td><td>20020208</td><td>13120</td><td></td><td>0</td><td>  0</td></tr>\n",
              "\t<tr><td>13809730</td><td>2011</td><td>8793</td><td>110</td><td>5</td><td>A</td><td>1</td><td>20000824</td><td>13120</td><td></td><td>0</td><td>  0</td></tr>\n",
              "\t<tr><td>14785545</td><td>2011</td><td>8793</td><td>110</td><td>6</td><td>A</td><td>1</td><td>20000301</td><td>13101</td><td></td><td>0</td><td>100</td></tr>\n",
              "\t<tr><td>15268400</td><td>2011</td><td>8793</td><td>110</td><td>8</td><td>A</td><td>1</td><td>19980225</td><td>13122</td><td></td><td>0</td><td>  0</td></tr>\n",
              "\t<tr><td>15432672</td><td>2011</td><td>8793</td><td>110</td><td>5</td><td>A</td><td>1</td><td>20000127</td><td>13101</td><td></td><td>0</td><td>  0</td></tr>\n",
              "\t<tr><td>15547117</td><td>2011</td><td>8793</td><td>110</td><td>7</td><td>A</td><td>1</td><td>19960213</td><td>13123</td><td></td><td>0</td><td>  0</td></tr>\n",
              "\t<tr><td>15577786</td><td>2011</td><td>8793</td><td>110</td><td>4</td><td>A</td><td>1</td><td>20000318</td><td>13122</td><td></td><td>0</td><td>100</td></tr>\n",
              "\t<tr><td>16846740</td><td>2011</td><td>8793</td><td>110</td><td>2</td><td>A</td><td>1</td><td>20011017</td><td>13101</td><td></td><td>0</td><td>100</td></tr>\n",
              "\t<tr><td>17491085</td><td>2011</td><td>8793</td><td>110</td><td>3</td><td>A</td><td>1</td><td>20020322</td><td>13101</td><td></td><td>0</td><td>  0</td></tr>\n",
              "\t<tr><td>22499133</td><td>2011</td><td>8793</td><td>110</td><td>6</td><td>A</td><td>1</td><td>19990923</td><td>13122</td><td></td><td>0</td><td>100</td></tr>\n",
              "\t<tr><td>22712505</td><td>2011</td><td>8793</td><td>110</td><td>7</td><td>A</td><td>1</td><td>19980107</td><td>13120</td><td></td><td>0</td><td>  0</td></tr>\n",
              "\t<tr><td>16501242</td><td>2011</td><td>8866</td><td>110</td><td>1</td><td>A</td><td>1</td><td>20040625</td><td>13114</td><td></td><td>0</td><td>  0</td></tr>\n",
              "\t<tr><td>⋮</td><td>⋮</td><td>⋮</td><td>⋮</td><td>⋮</td><td>⋮</td><td>⋮</td><td>⋮</td><td>⋮</td><td>⋮</td><td>⋮</td><td>⋮</td></tr>\n",
              "\t<tr><td> 4678230</td><td>2020</td><td>25833</td><td>110</td><td>5</td><td>A</td><td>2</td><td>200809</td><td>13123</td><td></td><td>0</td><td>100</td></tr>\n",
              "\t<tr><td> 6153011</td><td>2020</td><td>25833</td><td>110</td><td>5</td><td>A</td><td>1</td><td>200911</td><td>13123</td><td></td><td>0</td><td>100</td></tr>\n",
              "\t<tr><td>17152462</td><td>2020</td><td>25833</td><td>110</td><td>5</td><td>A</td><td>1</td><td>201002</td><td>13109</td><td></td><td>0</td><td>100</td></tr>\n",
              "\t<tr><td>17679868</td><td>2020</td><td>25833</td><td>110</td><td>5</td><td>A</td><td>2</td><td>200812</td><td>13127</td><td></td><td>0</td><td>100</td></tr>\n",
              "\t<tr><td>20889988</td><td>2020</td><td>25833</td><td>110</td><td>5</td><td>A</td><td>1</td><td>200904</td><td>13114</td><td></td><td>0</td><td>100</td></tr>\n",
              "\t<tr><td> 2325771</td><td>2020</td><td>25833</td><td>110</td><td>6</td><td>A</td><td>1</td><td>200806</td><td>13101</td><td></td><td>0</td><td>100</td></tr>\n",
              "\t<tr><td> 7470007</td><td>2020</td><td>25833</td><td>110</td><td>6</td><td>A</td><td>1</td><td>200903</td><td>13123</td><td></td><td>0</td><td>100</td></tr>\n",
              "\t<tr><td> 8869685</td><td>2020</td><td>25833</td><td>110</td><td>6</td><td>A</td><td>1</td><td>200805</td><td>13113</td><td></td><td>0</td><td>100</td></tr>\n",
              "\t<tr><td>14955685</td><td>2020</td><td>25833</td><td>110</td><td>6</td><td>A</td><td>1</td><td>200806</td><td>13114</td><td></td><td>0</td><td>100</td></tr>\n",
              "\t<tr><td>17335373</td><td>2020</td><td>25833</td><td>110</td><td>6</td><td>A</td><td>2</td><td>200705</td><td>13123</td><td></td><td>0</td><td>100</td></tr>\n",
              "\t<tr><td> 1165269</td><td>2020</td><td>25833</td><td>110</td><td>7</td><td>A</td><td>1</td><td>200801</td><td>13123</td><td></td><td>0</td><td>100</td></tr>\n",
              "\t<tr><td> 5003178</td><td>2020</td><td>25833</td><td>110</td><td>7</td><td>A</td><td>2</td><td>200706</td><td>13123</td><td></td><td>0</td><td>100</td></tr>\n",
              "\t<tr><td> 7325418</td><td>2020</td><td>25833</td><td>110</td><td>7</td><td>A</td><td>1</td><td>200712</td><td>13123</td><td></td><td>0</td><td>100</td></tr>\n",
              "\t<tr><td>10949177</td><td>2020</td><td>25833</td><td>110</td><td>7</td><td>A</td><td>1</td><td>200609</td><td>13114</td><td></td><td>0</td><td>100</td></tr>\n",
              "\t<tr><td>17060436</td><td>2020</td><td>25833</td><td>110</td><td>7</td><td>A</td><td>1</td><td>200702</td><td> 5705</td><td></td><td>0</td><td>100</td></tr>\n",
              "\t<tr><td>20050743</td><td>2020</td><td>25833</td><td>110</td><td>7</td><td>A</td><td>1</td><td>200707</td><td>13123</td><td></td><td>0</td><td>100</td></tr>\n",
              "\t<tr><td>21311927</td><td>2020</td><td>25833</td><td>110</td><td>7</td><td>A</td><td>1</td><td>200712</td><td>13123</td><td></td><td>0</td><td>100</td></tr>\n",
              "\t<tr><td>24466680</td><td>2020</td><td>25833</td><td>110</td><td>7</td><td>A</td><td>2</td><td>200711</td><td>13101</td><td></td><td>0</td><td>100</td></tr>\n",
              "\t<tr><td>24497210</td><td>2020</td><td>25833</td><td>110</td><td>7</td><td>A</td><td>1</td><td>200802</td><td>13115</td><td></td><td>0</td><td>100</td></tr>\n",
              "\t<tr><td> 1612648</td><td>2020</td><td>25833</td><td>110</td><td>8</td><td>A</td><td>1</td><td>200512</td><td>13132</td><td></td><td>0</td><td>100</td></tr>\n",
              "\t<tr><td> 2469150</td><td>2020</td><td>25833</td><td>110</td><td>8</td><td>A</td><td>1</td><td>200603</td><td>13123</td><td></td><td>0</td><td>100</td></tr>\n",
              "\t<tr><td> 3636912</td><td>2020</td><td>25833</td><td>110</td><td>8</td><td>A</td><td>1</td><td>200407</td><td>13132</td><td></td><td>0</td><td>100</td></tr>\n",
              "\t<tr><td> 5335360</td><td>2020</td><td>25833</td><td>110</td><td>8</td><td>A</td><td>1</td><td>200703</td><td>13101</td><td></td><td>0</td><td>100</td></tr>\n",
              "\t<tr><td> 5521861</td><td>2020</td><td>25833</td><td>110</td><td>8</td><td>A</td><td>1</td><td>200510</td><td>13107</td><td></td><td>0</td><td>100</td></tr>\n",
              "\t<tr><td> 7558582</td><td>2020</td><td>25833</td><td>110</td><td>8</td><td>A</td><td>1</td><td>200504</td><td>13114</td><td></td><td>0</td><td>100</td></tr>\n",
              "\t<tr><td>11569330</td><td>2020</td><td>25833</td><td>110</td><td>8</td><td>A</td><td>1</td><td>200510</td><td>13114</td><td></td><td>0</td><td>100</td></tr>\n",
              "\t<tr><td>16716298</td><td>2020</td><td>25833</td><td>110</td><td>8</td><td>A</td><td>1</td><td>200502</td><td>13114</td><td></td><td>0</td><td>100</td></tr>\n",
              "\t<tr><td>18166036</td><td>2020</td><td>25833</td><td>110</td><td>8</td><td>A</td><td>1</td><td>200604</td><td>13110</td><td></td><td>0</td><td>100</td></tr>\n",
              "\t<tr><td>18249547</td><td>2020</td><td>25833</td><td>110</td><td>8</td><td>A</td><td>2</td><td>200608</td><td>13114</td><td></td><td>0</td><td>100</td></tr>\n",
              "\t<tr><td>22005977</td><td>2020</td><td>25833</td><td>110</td><td>8</td><td>A</td><td>1</td><td>200506</td><td>13114</td><td></td><td>0</td><td>100</td></tr>\n",
              "</tbody>\n",
              "</table>\n"
            ]
          },
          "metadata": {}
        }
      ]
    },
    {
      "cell_type": "code",
      "metadata": {
        "colab": {
          "base_uri": "https://localhost:8080/",
          "height": 34
        },
        "id": "w0KzC0HrjxEg",
        "outputId": "812b26d8-97f4-4741-b1bb-18d9844113fa"
      },
      "source": [
        "dbExecute(conn,\"UPDATE alumnos\n",
        "SET SIT_FIN_R = NULL\n",
        "WHERE SIT_FIN_R=''\")"
      ],
      "execution_count": 10,
      "outputs": [
        {
          "output_type": "display_data",
          "data": {
            "text/plain": [
              "[1] 5173"
            ],
            "text/latex": "5173",
            "text/markdown": "5173",
            "text/html": [
              "5173"
            ]
          },
          "metadata": {}
        }
      ]
    },
    {
      "cell_type": "code",
      "metadata": {
        "colab": {
          "base_uri": "https://localhost:8080/",
          "height": 144
        },
        "id": "DrzV6LPoj5ob",
        "outputId": "dcf5ac76-9184-42a7-dc7c-97e668619729"
      },
      "source": [
        "dbGetQuery(conn,\"select\n",
        "  sum(case when SIT_FIN_R is null then 1 else 0 end) SIT_FIN_R\n",
        "from alumnos\")"
      ],
      "execution_count": 11,
      "outputs": [
        {
          "output_type": "display_data",
          "data": {
            "text/plain": [
              "  SIT_FIN_R\n",
              "1 5173     "
            ],
            "text/latex": "A data.frame: 1 × 1\n\\begin{tabular}{l}\n SIT\\_FIN\\_R\\\\\n <int>\\\\\n\\hline\n\t 5173\\\\\n\\end{tabular}\n",
            "text/markdown": "\nA data.frame: 1 × 1\n\n| SIT_FIN_R &lt;int&gt; |\n|---|\n| 5173 |\n\n",
            "text/html": [
              "<table class=\"dataframe\">\n",
              "<caption>A data.frame: 1 × 1</caption>\n",
              "<thead>\n",
              "\t<tr><th scope=col>SIT_FIN_R</th></tr>\n",
              "\t<tr><th scope=col>&lt;int&gt;</th></tr>\n",
              "</thead>\n",
              "<tbody>\n",
              "\t<tr><td>5173</td></tr>\n",
              "</tbody>\n",
              "</table>\n"
            ]
          },
          "metadata": {}
        }
      ]
    },
    {
      "cell_type": "markdown",
      "metadata": {
        "id": "ajYTxinWkNu2"
      },
      "source": [
        "### Genero"
      ]
    },
    {
      "cell_type": "code",
      "metadata": {
        "colab": {
          "base_uri": "https://localhost:8080/",
          "height": 34
        },
        "id": "KqUPDjWJkT9V",
        "outputId": "830a690f-ac99-4878-b4be-345d2be28bff"
      },
      "source": [
        "dbExecute(conn,\"UPDATE alumnos\n",
        "SET GEN_ALU = NULL\n",
        "WHERE GEN_ALU=0\")"
      ],
      "execution_count": 12,
      "outputs": [
        {
          "output_type": "display_data",
          "data": {
            "text/plain": [
              "[1] 29"
            ],
            "text/latex": "29",
            "text/markdown": "29",
            "text/html": [
              "29"
            ]
          },
          "metadata": {}
        }
      ]
    },
    {
      "cell_type": "markdown",
      "metadata": {
        "id": "uoLJlwHOkVbf"
      },
      "source": [
        "### Promedio y asistencia\n"
      ]
    },
    {
      "cell_type": "code",
      "metadata": {
        "colab": {
          "base_uri": "https://localhost:8080/",
          "height": 250
        },
        "id": "hphpOL3YzYhh",
        "outputId": "b65c755c-5c18-4c33-d478-822977f0e022"
      },
      "source": [
        "dbGetQuery(conn,\"\n",
        "select SIT_FIN_R,\n",
        "count(),\n",
        "AVG(PROM_GRAL),\n",
        "MIN(PROM_GRAL),\n",
        "MAX(PROM_GRAL),\n",
        "AVG(ASISTENCIA),\n",
        "MIN(ASISTENCIA),\n",
        "MAX(ASISTENCIA)\n",
        "FROM alumnos\n",
        "group by SIT_FIN_R\")"
      ],
      "execution_count": null,
      "outputs": [
        {
          "output_type": "display_data",
          "data": {
            "text/plain": [
              "  SIT_FIN_R count()  AVG(PROM_GRAL) MIN(PROM_GRAL) MAX(PROM_GRAL)\n",
              "1 NA            5173 0.162362266    0              6.9           \n",
              "2 P         52693775 5.749991803    0              7             \n",
              "3 R          2980491 4.145270796    0              7             \n",
              "4 T          2488005 0.005937006    0              7             \n",
              "5 Y          1853496 0.001770816    0              7             \n",
              "  AVG(ASISTENCIA) MIN(ASISTENCIA) MAX(ASISTENCIA)\n",
              "1 31.183839       0               100            \n",
              "2 92.766892       0               994            \n",
              "3 80.898809       0               100            \n",
              "4  1.587828       0               100            \n",
              "5  1.075884       0               100            "
            ],
            "text/latex": "A data.frame: 5 × 8\n\\begin{tabular}{llllllll}\n SIT\\_FIN\\_R & count() & AVG(PROM\\_GRAL) & MIN(PROM\\_GRAL) & MAX(PROM\\_GRAL) & AVG(ASISTENCIA) & MIN(ASISTENCIA) & MAX(ASISTENCIA)\\\\\n <chr> & <int> & <dbl> & <chr> & <chr> & <dbl> & <int> & <int>\\\\\n\\hline\n\t NA &     5173 & 0.162362266 & 0 & 6.9 & 31.183839 & 0 & 100\\\\\n\t P  & 52693775 & 5.749991803 & 0 & 7   & 92.766892 & 0 & 994\\\\\n\t R  &  2980491 & 4.145270796 & 0 & 7   & 80.898809 & 0 & 100\\\\\n\t T  &  2488005 & 0.005937006 & 0 & 7   &  1.587828 & 0 & 100\\\\\n\t Y  &  1853496 & 0.001770816 & 0 & 7   &  1.075884 & 0 & 100\\\\\n\\end{tabular}\n",
            "text/markdown": "\nA data.frame: 5 × 8\n\n| SIT_FIN_R &lt;chr&gt; | count() &lt;int&gt; | AVG(PROM_GRAL) &lt;dbl&gt; | MIN(PROM_GRAL) &lt;chr&gt; | MAX(PROM_GRAL) &lt;chr&gt; | AVG(ASISTENCIA) &lt;dbl&gt; | MIN(ASISTENCIA) &lt;int&gt; | MAX(ASISTENCIA) &lt;int&gt; |\n|---|---|---|---|---|---|---|---|\n| NA |     5173 | 0.162362266 | 0 | 6.9 | 31.183839 | 0 | 100 |\n| P  | 52693775 | 5.749991803 | 0 | 7   | 92.766892 | 0 | 994 |\n| R  |  2980491 | 4.145270796 | 0 | 7   | 80.898809 | 0 | 100 |\n| T  |  2488005 | 0.005937006 | 0 | 7   |  1.587828 | 0 | 100 |\n| Y  |  1853496 | 0.001770816 | 0 | 7   |  1.075884 | 0 | 100 |\n\n",
            "text/html": [
              "<table class=\"dataframe\">\n",
              "<caption>A data.frame: 5 × 8</caption>\n",
              "<thead>\n",
              "\t<tr><th scope=col>SIT_FIN_R</th><th scope=col>count()</th><th scope=col>AVG(PROM_GRAL)</th><th scope=col>MIN(PROM_GRAL)</th><th scope=col>MAX(PROM_GRAL)</th><th scope=col>AVG(ASISTENCIA)</th><th scope=col>MIN(ASISTENCIA)</th><th scope=col>MAX(ASISTENCIA)</th></tr>\n",
              "\t<tr><th scope=col>&lt;chr&gt;</th><th scope=col>&lt;int&gt;</th><th scope=col>&lt;dbl&gt;</th><th scope=col>&lt;chr&gt;</th><th scope=col>&lt;chr&gt;</th><th scope=col>&lt;dbl&gt;</th><th scope=col>&lt;int&gt;</th><th scope=col>&lt;int&gt;</th></tr>\n",
              "</thead>\n",
              "<tbody>\n",
              "\t<tr><td>NA</td><td>    5173</td><td>0.162362266</td><td>0</td><td>6.9</td><td>31.183839</td><td>0</td><td>100</td></tr>\n",
              "\t<tr><td>P </td><td>52693775</td><td>5.749991803</td><td>0</td><td>7  </td><td>92.766892</td><td>0</td><td>994</td></tr>\n",
              "\t<tr><td>R </td><td> 2980491</td><td>4.145270796</td><td>0</td><td>7  </td><td>80.898809</td><td>0</td><td>100</td></tr>\n",
              "\t<tr><td>T </td><td> 2488005</td><td>0.005937006</td><td>0</td><td>7  </td><td> 1.587828</td><td>0</td><td>100</td></tr>\n",
              "\t<tr><td>Y </td><td> 1853496</td><td>0.001770816</td><td>0</td><td>7  </td><td> 1.075884</td><td>0</td><td>100</td></tr>\n",
              "</tbody>\n",
              "</table>\n"
            ]
          },
          "metadata": {}
        }
      ]
    },
    {
      "cell_type": "markdown",
      "metadata": {
        "id": "37FhrK-Kqfar"
      },
      "source": [
        "Primero pequeña capsula de arreglar problemas de validez, el promedio esta como character, esto lo arreglamos con el siguiente comando."
      ]
    },
    {
      "cell_type": "code",
      "metadata": {
        "id": "oVxGQ4AKq0H2",
        "colab": {
          "base_uri": "https://localhost:8080/",
          "height": 34
        },
        "outputId": "12e19c2a-58f7-4e3f-ed92-ed4290204182"
      },
      "source": [
        "dbExecute(conn, \" UPDATE alumnos\n",
        "SET PROM_GRAL = CAST(replace(PROM_GRAL, ',', '.') AS NUMERIC);\")"
      ],
      "execution_count": 13,
      "outputs": [
        {
          "output_type": "display_data",
          "data": {
            "text/plain": [
              "[1] 35953651"
            ],
            "text/latex": "35953651",
            "text/markdown": "35953651",
            "text/html": [
              "35953651"
            ]
          },
          "metadata": {}
        }
      ]
    },
    {
      "cell_type": "code",
      "metadata": {
        "colab": {
          "base_uri": "https://localhost:8080/",
          "height": 34
        },
        "id": "bBdIL89KkkES",
        "outputId": "7e1c2a5b-2a3b-45a6-ec4f-39aefba8c455"
      },
      "source": [
        "dbExecute(conn,\"UPDATE alumnos\n",
        "SET PROM_GRAL = NULL, ASISTENCIA = NULL\n",
        "WHERE SIT_FIN_R='Y' or SIT_FIN_R='T'\")"
      ],
      "execution_count": 14,
      "outputs": [
        {
          "output_type": "display_data",
          "data": {
            "text/plain": [
              "[1] 3057671"
            ],
            "text/latex": "3057671",
            "text/markdown": "3057671",
            "text/html": [
              "3057671"
            ]
          },
          "metadata": {}
        }
      ]
    },
    {
      "cell_type": "markdown",
      "metadata": {
        "id": "X_bY3_49q03L"
      },
      "source": [
        "Luego\n"
      ]
    },
    {
      "cell_type": "code",
      "metadata": {
        "colab": {
          "base_uri": "https://localhost:8080/",
          "height": 220
        },
        "id": "_FdlkUjgq3qr",
        "outputId": "0e583eaa-3e04-421b-bb54-62712de2bdc6"
      },
      "source": [
        "dbGetQuery(conn,\"\n",
        "select SIT_FIN_R,\n",
        "count(),\n",
        "AVG(PROM_GRAL),\n",
        "MIN(PROM_GRAL),\n",
        "MAX(PROM_GRAL),\n",
        "AVG(ASISTENCIA),\n",
        "MIN(ASISTENCIA),\n",
        "MAX(ASISTENCIA)\n",
        "FROM alumnos\n",
        "group by SIT_FIN_R\")"
      ],
      "execution_count": null,
      "outputs": [
        {
          "output_type": "display_data",
          "data": {
            "text/plain": [
              "  SIT_FIN_R count()  AVG(PROM_GRAL) MIN(PROM_GRAL) MAX(PROM_GRAL)\n",
              "1 P         50247173 5.759427       0              7             \n",
              "2 R          2746667 4.151938       0              7             \n",
              "3 T          2334621       NA       NA             NA            \n",
              "4 Y          1669293       NA       NA             NA            \n",
              "  AVG(ASISTENCIA) MIN(ASISTENCIA) MAX(ASISTENCIA)\n",
              "1 92.78540         0              988            \n",
              "2 80.92993         0              100            \n",
              "3       NA        NA               NA            \n",
              "4       NA        NA               NA            "
            ],
            "text/latex": "A data.frame: 4 × 8\n\\begin{tabular}{llllllll}\n SIT\\_FIN\\_R & count() & AVG(PROM\\_GRAL) & MIN(PROM\\_GRAL) & MAX(PROM\\_GRAL) & AVG(ASISTENCIA) & MIN(ASISTENCIA) & MAX(ASISTENCIA)\\\\\n <chr> & <int> & <dbl> & <chr> & <chr> & <dbl> & <int> & <int>\\\\\n\\hline\n\t P & 50247173 & 5.759427 & 0  & 7  & 92.78540 &  0 & 988\\\\\n\t R &  2746667 & 4.151938 & 0  & 7  & 80.92993 &  0 & 100\\\\\n\t T &  2334621 &       NA & NA & NA &       NA & NA &  NA\\\\\n\t Y &  1669293 &       NA & NA & NA &       NA & NA &  NA\\\\\n\\end{tabular}\n",
            "text/markdown": "\nA data.frame: 4 × 8\n\n| SIT_FIN_R &lt;chr&gt; | count() &lt;int&gt; | AVG(PROM_GRAL) &lt;dbl&gt; | MIN(PROM_GRAL) &lt;chr&gt; | MAX(PROM_GRAL) &lt;chr&gt; | AVG(ASISTENCIA) &lt;dbl&gt; | MIN(ASISTENCIA) &lt;int&gt; | MAX(ASISTENCIA) &lt;int&gt; |\n|---|---|---|---|---|---|---|---|\n| P | 50247173 | 5.759427 | 0  | 7  | 92.78540 |  0 | 988 |\n| R |  2746667 | 4.151938 | 0  | 7  | 80.92993 |  0 | 100 |\n| T |  2334621 |       NA | NA | NA |       NA | NA |  NA |\n| Y |  1669293 |       NA | NA | NA |       NA | NA |  NA |\n\n",
            "text/html": [
              "<table class=\"dataframe\">\n",
              "<caption>A data.frame: 4 × 8</caption>\n",
              "<thead>\n",
              "\t<tr><th scope=col>SIT_FIN_R</th><th scope=col>count()</th><th scope=col>AVG(PROM_GRAL)</th><th scope=col>MIN(PROM_GRAL)</th><th scope=col>MAX(PROM_GRAL)</th><th scope=col>AVG(ASISTENCIA)</th><th scope=col>MIN(ASISTENCIA)</th><th scope=col>MAX(ASISTENCIA)</th></tr>\n",
              "\t<tr><th scope=col>&lt;chr&gt;</th><th scope=col>&lt;int&gt;</th><th scope=col>&lt;dbl&gt;</th><th scope=col>&lt;chr&gt;</th><th scope=col>&lt;chr&gt;</th><th scope=col>&lt;dbl&gt;</th><th scope=col>&lt;int&gt;</th><th scope=col>&lt;int&gt;</th></tr>\n",
              "</thead>\n",
              "<tbody>\n",
              "\t<tr><td>P</td><td>50247173</td><td>5.759427</td><td>0 </td><td>7 </td><td>92.78540</td><td> 0</td><td>988</td></tr>\n",
              "\t<tr><td>R</td><td> 2746667</td><td>4.151938</td><td>0 </td><td>7 </td><td>80.92993</td><td> 0</td><td>100</td></tr>\n",
              "\t<tr><td>T</td><td> 2334621</td><td>      NA</td><td>NA</td><td>NA</td><td>      NA</td><td>NA</td><td> NA</td></tr>\n",
              "\t<tr><td>Y</td><td> 1669293</td><td>      NA</td><td>NA</td><td>NA</td><td>      NA</td><td>NA</td><td> NA</td></tr>\n",
              "</tbody>\n",
              "</table>\n"
            ]
          },
          "metadata": {
            "tags": []
          }
        }
      ]
    },
    {
      "cell_type": "markdown",
      "metadata": {
        "id": "cZksuYIwrGeC"
      },
      "source": [
        "Notemos que hay alumnos aprobados con nota 0, consideraré eso como informacion faltante por lo que lo asignare a nulo.\n"
      ]
    },
    {
      "cell_type": "code",
      "metadata": {
        "colab": {
          "base_uri": "https://localhost:8080/",
          "height": 34
        },
        "id": "zklc2eoMrqG2",
        "outputId": "4cd0df69-d022-41c9-81ea-909e683df966"
      },
      "source": [
        "dbExecute(conn,\"UPDATE alumnos\n",
        "SET PROM_GRAL = NULL\n",
        "WHERE PROM_GRAL=0\")"
      ],
      "execution_count": 15,
      "outputs": [
        {
          "output_type": "display_data",
          "data": {
            "text/plain": [
              "[1] 5027"
            ],
            "text/latex": "5027",
            "text/markdown": "5027",
            "text/html": [
              "5027"
            ]
          },
          "metadata": {}
        }
      ]
    },
    {
      "cell_type": "code",
      "metadata": {
        "id": "jmLgkFfFOYsm",
        "colab": {
          "base_uri": "https://localhost:8080/",
          "height": 405
        },
        "outputId": "9896ae11-40b8-49fe-fd6e-24bfe86cc960"
      },
      "source": [
        "dbGetQuery(conn, \"\n",
        "select *\n",
        "from alumnos \n",
        "where PROM_GRAL!=0 and ASISTENCIA=0\n",
        "limit 10\")"
      ],
      "execution_count": null,
      "outputs": [
        {
          "output_type": "display_data",
          "data": {
            "text/plain": [
              "   MRUN     AGNO RBD COD_ENSE COD_GRADO LET_CUR GEN_ALU FEC_NAC_ALU COD_COM_ALU\n",
              "1   7435172 2003 106 810      2         C       1       19870906    1101       \n",
              "2  12139951 2003 200 610      3         A       2       19870629    2301       \n",
              "3   2479139 2003 517 310      1         G       1       19880208    4101       \n",
              "4  19939543 2003 567 110      7         A       1       19890316    4101       \n",
              "5  20628534 2003 573 110      5         A       1       19930220    4102       \n",
              "6     90125 2003 609 410      4         A       2       19850918    4101       \n",
              "7   3956565 2003 610 510      3         G       1       19850414    4104       \n",
              "8  21940160 2003 769 310      2         A       1       19860525    4301       \n",
              "9  23363217 2003 797 110      4         A       2       19920210    4305       \n",
              "10 14374034 2003 943 110      4         A       2       19930926    4301       \n",
              "   SIT_FIN_R PROM_GRAL ASISTENCIA\n",
              "1  P         5.9       0         \n",
              "2  R         6.2       0         \n",
              "3  R         2.1       0         \n",
              "4  P         5.7       0         \n",
              "5  P         6.5       0         \n",
              "6  R         2         0         \n",
              "7  R         1         0         \n",
              "8  R         2         0         \n",
              "9  R         4         0         \n",
              "10 R         6.1       0         "
            ],
            "text/latex": "A data.frame: 10 × 12\n\\begin{tabular}{llllllllllll}\n MRUN & AGNO & RBD & COD\\_ENSE & COD\\_GRADO & LET\\_CUR & GEN\\_ALU & FEC\\_NAC\\_ALU & COD\\_COM\\_ALU & SIT\\_FIN\\_R & PROM\\_GRAL & ASISTENCIA\\\\\n <int> & <int> & <int> & <int> & <int> & <chr> & <int> & <int> & <int> & <chr> & <chr> & <int>\\\\\n\\hline\n\t  7435172 & 2003 & 106 & 810 & 2 & C & 1 & 19870906 & 1101 & P & 5.9 & 0\\\\\n\t 12139951 & 2003 & 200 & 610 & 3 & A & 2 & 19870629 & 2301 & R & 6.2 & 0\\\\\n\t  2479139 & 2003 & 517 & 310 & 1 & G & 1 & 19880208 & 4101 & R & 2.1 & 0\\\\\n\t 19939543 & 2003 & 567 & 110 & 7 & A & 1 & 19890316 & 4101 & P & 5.7 & 0\\\\\n\t 20628534 & 2003 & 573 & 110 & 5 & A & 1 & 19930220 & 4102 & P & 6.5 & 0\\\\\n\t    90125 & 2003 & 609 & 410 & 4 & A & 2 & 19850918 & 4101 & R & 2   & 0\\\\\n\t  3956565 & 2003 & 610 & 510 & 3 & G & 1 & 19850414 & 4104 & R & 1   & 0\\\\\n\t 21940160 & 2003 & 769 & 310 & 2 & A & 1 & 19860525 & 4301 & R & 2   & 0\\\\\n\t 23363217 & 2003 & 797 & 110 & 4 & A & 2 & 19920210 & 4305 & R & 4   & 0\\\\\n\t 14374034 & 2003 & 943 & 110 & 4 & A & 2 & 19930926 & 4301 & R & 6.1 & 0\\\\\n\\end{tabular}\n",
            "text/markdown": "\nA data.frame: 10 × 12\n\n| MRUN &lt;int&gt; | AGNO &lt;int&gt; | RBD &lt;int&gt; | COD_ENSE &lt;int&gt; | COD_GRADO &lt;int&gt; | LET_CUR &lt;chr&gt; | GEN_ALU &lt;int&gt; | FEC_NAC_ALU &lt;int&gt; | COD_COM_ALU &lt;int&gt; | SIT_FIN_R &lt;chr&gt; | PROM_GRAL &lt;chr&gt; | ASISTENCIA &lt;int&gt; |\n|---|---|---|---|---|---|---|---|---|---|---|---|\n|  7435172 | 2003 | 106 | 810 | 2 | C | 1 | 19870906 | 1101 | P | 5.9 | 0 |\n| 12139951 | 2003 | 200 | 610 | 3 | A | 2 | 19870629 | 2301 | R | 6.2 | 0 |\n|  2479139 | 2003 | 517 | 310 | 1 | G | 1 | 19880208 | 4101 | R | 2.1 | 0 |\n| 19939543 | 2003 | 567 | 110 | 7 | A | 1 | 19890316 | 4101 | P | 5.7 | 0 |\n| 20628534 | 2003 | 573 | 110 | 5 | A | 1 | 19930220 | 4102 | P | 6.5 | 0 |\n|    90125 | 2003 | 609 | 410 | 4 | A | 2 | 19850918 | 4101 | R | 2   | 0 |\n|  3956565 | 2003 | 610 | 510 | 3 | G | 1 | 19850414 | 4104 | R | 1   | 0 |\n| 21940160 | 2003 | 769 | 310 | 2 | A | 1 | 19860525 | 4301 | R | 2   | 0 |\n| 23363217 | 2003 | 797 | 110 | 4 | A | 2 | 19920210 | 4305 | R | 4   | 0 |\n| 14374034 | 2003 | 943 | 110 | 4 | A | 2 | 19930926 | 4301 | R | 6.1 | 0 |\n\n",
            "text/html": [
              "<table class=\"dataframe\">\n",
              "<caption>A data.frame: 10 × 12</caption>\n",
              "<thead>\n",
              "\t<tr><th scope=col>MRUN</th><th scope=col>AGNO</th><th scope=col>RBD</th><th scope=col>COD_ENSE</th><th scope=col>COD_GRADO</th><th scope=col>LET_CUR</th><th scope=col>GEN_ALU</th><th scope=col>FEC_NAC_ALU</th><th scope=col>COD_COM_ALU</th><th scope=col>SIT_FIN_R</th><th scope=col>PROM_GRAL</th><th scope=col>ASISTENCIA</th></tr>\n",
              "\t<tr><th scope=col>&lt;int&gt;</th><th scope=col>&lt;int&gt;</th><th scope=col>&lt;int&gt;</th><th scope=col>&lt;int&gt;</th><th scope=col>&lt;int&gt;</th><th scope=col>&lt;chr&gt;</th><th scope=col>&lt;int&gt;</th><th scope=col>&lt;int&gt;</th><th scope=col>&lt;int&gt;</th><th scope=col>&lt;chr&gt;</th><th scope=col>&lt;chr&gt;</th><th scope=col>&lt;int&gt;</th></tr>\n",
              "</thead>\n",
              "<tbody>\n",
              "\t<tr><td> 7435172</td><td>2003</td><td>106</td><td>810</td><td>2</td><td>C</td><td>1</td><td>19870906</td><td>1101</td><td>P</td><td>5.9</td><td>0</td></tr>\n",
              "\t<tr><td>12139951</td><td>2003</td><td>200</td><td>610</td><td>3</td><td>A</td><td>2</td><td>19870629</td><td>2301</td><td>R</td><td>6.2</td><td>0</td></tr>\n",
              "\t<tr><td> 2479139</td><td>2003</td><td>517</td><td>310</td><td>1</td><td>G</td><td>1</td><td>19880208</td><td>4101</td><td>R</td><td>2.1</td><td>0</td></tr>\n",
              "\t<tr><td>19939543</td><td>2003</td><td>567</td><td>110</td><td>7</td><td>A</td><td>1</td><td>19890316</td><td>4101</td><td>P</td><td>5.7</td><td>0</td></tr>\n",
              "\t<tr><td>20628534</td><td>2003</td><td>573</td><td>110</td><td>5</td><td>A</td><td>1</td><td>19930220</td><td>4102</td><td>P</td><td>6.5</td><td>0</td></tr>\n",
              "\t<tr><td>   90125</td><td>2003</td><td>609</td><td>410</td><td>4</td><td>A</td><td>2</td><td>19850918</td><td>4101</td><td>R</td><td>2  </td><td>0</td></tr>\n",
              "\t<tr><td> 3956565</td><td>2003</td><td>610</td><td>510</td><td>3</td><td>G</td><td>1</td><td>19850414</td><td>4104</td><td>R</td><td>1  </td><td>0</td></tr>\n",
              "\t<tr><td>21940160</td><td>2003</td><td>769</td><td>310</td><td>2</td><td>A</td><td>1</td><td>19860525</td><td>4301</td><td>R</td><td>2  </td><td>0</td></tr>\n",
              "\t<tr><td>23363217</td><td>2003</td><td>797</td><td>110</td><td>4</td><td>A</td><td>2</td><td>19920210</td><td>4305</td><td>R</td><td>4  </td><td>0</td></tr>\n",
              "\t<tr><td>14374034</td><td>2003</td><td>943</td><td>110</td><td>4</td><td>A</td><td>2</td><td>19930926</td><td>4301</td><td>R</td><td>6.1</td><td>0</td></tr>\n",
              "</tbody>\n",
              "</table>\n"
            ]
          },
          "metadata": {}
        }
      ]
    },
    {
      "cell_type": "code",
      "metadata": {
        "colab": {
          "base_uri": "https://localhost:8080/",
          "height": 220
        },
        "id": "x4M6_lCd2A_f",
        "outputId": "051ec1e2-bb4f-4de7-c66f-09987085f32d"
      },
      "source": [
        "dbGetQuery(conn,\"\n",
        "select SIT_FIN_R,\n",
        "count(),\n",
        "AVG(PROM_GRAL),\n",
        "MIN(PROM_GRAL),\n",
        "MAX(PROM_GRAL),\n",
        "AVG(ASISTENCIA),\n",
        "MIN(ASISTENCIA),\n",
        "MAX(ASISTENCIA)\n",
        "FROM alumnos\n",
        "group by SIT_FIN_R\")"
      ],
      "execution_count": null,
      "outputs": [
        {
          "output_type": "display_data",
          "data": {
            "text/plain": [
              "  SIT_FIN_R count()  AVG(PROM_GRAL) MIN(PROM_GRAL) MAX(PROM_GRAL)\n",
              "1 P         50247173 5.759441       1              7             \n",
              "2 R          2746667 4.151990       1              7             \n",
              "3 T          2334621       NA       NA             NA            \n",
              "4 Y          1669293       NA       NA             NA            \n",
              "  AVG(ASISTENCIA) MIN(ASISTENCIA) MAX(ASISTENCIA)\n",
              "1 92.78540         0              988            \n",
              "2 80.92993         0              100            \n",
              "3       NA        NA               NA            \n",
              "4       NA        NA               NA            "
            ],
            "text/latex": "A data.frame: 4 × 8\n\\begin{tabular}{llllllll}\n SIT\\_FIN\\_R & count() & AVG(PROM\\_GRAL) & MIN(PROM\\_GRAL) & MAX(PROM\\_GRAL) & AVG(ASISTENCIA) & MIN(ASISTENCIA) & MAX(ASISTENCIA)\\\\\n <chr> & <int> & <dbl> & <chr> & <chr> & <dbl> & <int> & <int>\\\\\n\\hline\n\t P & 50247173 & 5.759441 & 1  & 7  & 92.78540 &  0 & 988\\\\\n\t R &  2746667 & 4.151990 & 1  & 7  & 80.92993 &  0 & 100\\\\\n\t T &  2334621 &       NA & NA & NA &       NA & NA &  NA\\\\\n\t Y &  1669293 &       NA & NA & NA &       NA & NA &  NA\\\\\n\\end{tabular}\n",
            "text/markdown": "\nA data.frame: 4 × 8\n\n| SIT_FIN_R &lt;chr&gt; | count() &lt;int&gt; | AVG(PROM_GRAL) &lt;dbl&gt; | MIN(PROM_GRAL) &lt;chr&gt; | MAX(PROM_GRAL) &lt;chr&gt; | AVG(ASISTENCIA) &lt;dbl&gt; | MIN(ASISTENCIA) &lt;int&gt; | MAX(ASISTENCIA) &lt;int&gt; |\n|---|---|---|---|---|---|---|---|\n| P | 50247173 | 5.759441 | 1  | 7  | 92.78540 |  0 | 988 |\n| R |  2746667 | 4.151990 | 1  | 7  | 80.92993 |  0 | 100 |\n| T |  2334621 |       NA | NA | NA |       NA | NA |  NA |\n| Y |  1669293 |       NA | NA | NA |       NA | NA |  NA |\n\n",
            "text/html": [
              "<table class=\"dataframe\">\n",
              "<caption>A data.frame: 4 × 8</caption>\n",
              "<thead>\n",
              "\t<tr><th scope=col>SIT_FIN_R</th><th scope=col>count()</th><th scope=col>AVG(PROM_GRAL)</th><th scope=col>MIN(PROM_GRAL)</th><th scope=col>MAX(PROM_GRAL)</th><th scope=col>AVG(ASISTENCIA)</th><th scope=col>MIN(ASISTENCIA)</th><th scope=col>MAX(ASISTENCIA)</th></tr>\n",
              "\t<tr><th scope=col>&lt;chr&gt;</th><th scope=col>&lt;int&gt;</th><th scope=col>&lt;dbl&gt;</th><th scope=col>&lt;chr&gt;</th><th scope=col>&lt;chr&gt;</th><th scope=col>&lt;dbl&gt;</th><th scope=col>&lt;int&gt;</th><th scope=col>&lt;int&gt;</th></tr>\n",
              "</thead>\n",
              "<tbody>\n",
              "\t<tr><td>P</td><td>50247173</td><td>5.759441</td><td>1 </td><td>7 </td><td>92.78540</td><td> 0</td><td>988</td></tr>\n",
              "\t<tr><td>R</td><td> 2746667</td><td>4.151990</td><td>1 </td><td>7 </td><td>80.92993</td><td> 0</td><td>100</td></tr>\n",
              "\t<tr><td>T</td><td> 2334621</td><td>      NA</td><td>NA</td><td>NA</td><td>      NA</td><td>NA</td><td> NA</td></tr>\n",
              "\t<tr><td>Y</td><td> 1669293</td><td>      NA</td><td>NA</td><td>NA</td><td>      NA</td><td>NA</td><td> NA</td></tr>\n",
              "</tbody>\n",
              "</table>\n"
            ]
          },
          "metadata": {
            "tags": []
          }
        }
      ]
    },
    {
      "cell_type": "code",
      "metadata": {
        "colab": {
          "base_uri": "https://localhost:8080/",
          "height": 34
        },
        "id": "OtyjqFA-DfuA",
        "outputId": "4edf93c0-71ad-4110-d72c-cc2a73ccc334"
      },
      "source": [
        "dbExecute(conn,\"UPDATE alumnos\n",
        "SET COD_COM_ALU\t = NULL\n",
        "WHERE COD_COM_ALU\t=0\")"
      ],
      "execution_count": 16,
      "outputs": [
        {
          "output_type": "display_data",
          "data": {
            "text/plain": [
              "[1] 229"
            ],
            "text/latex": "229",
            "text/markdown": "229",
            "text/html": [
              "229"
            ]
          },
          "metadata": {}
        }
      ]
    },
    {
      "cell_type": "markdown",
      "metadata": {
        "id": "jQUhtsIZ2FOz"
      },
      "source": [
        "##¿Que eliminamos?"
      ]
    },
    {
      "cell_type": "code",
      "metadata": {
        "colab": {
          "base_uri": "https://localhost:8080/",
          "height": 34
        },
        "id": "XNmikLgx2eLq",
        "outputId": "61824880-2c11-4214-8bcc-641976fe6e14"
      },
      "source": [
        "dbExecute(conn,\"\n",
        "DELETE FROM alumnos \n",
        "WHERE MRUN IS NULL\")"
      ],
      "execution_count": null,
      "outputs": [
        {
          "output_type": "display_data",
          "data": {
            "text/plain": [
              "[1] 4397"
            ],
            "text/latex": "4397",
            "text/markdown": "4397",
            "text/html": [
              "4397"
            ]
          },
          "metadata": {}
        }
      ]
    },
    {
      "cell_type": "code",
      "metadata": {
        "colab": {
          "base_uri": "https://localhost:8080/",
          "height": 34
        },
        "id": "eaCq5jsv27bt",
        "outputId": "f67bf416-f6e0-4cdf-8d40-00becac395a5"
      },
      "source": [
        "dbExecute(conn,\"\n",
        "DELETE FROM alumnos \n",
        "WHERE SIT_FIN_R IS NULL\")"
      ],
      "execution_count": null,
      "outputs": [
        {
          "output_type": "display_data",
          "data": {
            "text/plain": [
              "[1] 5173"
            ],
            "text/latex": "5173",
            "text/markdown": "5173",
            "text/html": [
              "5173"
            ]
          },
          "metadata": {}
        }
      ]
    },
    {
      "cell_type": "markdown",
      "metadata": {
        "id": "QqkOyEh64Vl-"
      },
      "source": [
        "### ¿Que pasa con la fecha de nacimiento?"
      ]
    },
    {
      "cell_type": "code",
      "metadata": {
        "colab": {
          "base_uri": "https://localhost:8080/",
          "height": 250
        },
        "id": "iUEmp0j8iGBZ",
        "outputId": "52c0e055-c141-42fd-e19a-59f029f2a80f"
      },
      "source": [
        "dbGetQuery(conn, \"\n",
        "select *\n",
        "from alumnos \n",
        "where FEC_NAC_ALU is null limit 5\")"
      ],
      "execution_count": null,
      "outputs": [
        {
          "output_type": "display_data",
          "data": {
            "text/plain": [
              "  MRUN     AGNO RBD   COD_ENSE COD_GRADO LET_CUR GEN_ALU FEC_NAC_ALU\n",
              "1 10341895 2009   344 110      5         B       2       NA         \n",
              "2  2849761 2009   614 110      5         B       1       NA         \n",
              "3  2849761 2009   657 110      5         A       1       NA         \n",
              "4   946501 2009  3534 110      4         A       1       NA         \n",
              "5 20575955 2009 25615 110      4         A       1       NA         \n",
              "  COD_COM_ALU SIT_FIN_R PROM_GRAL ASISTENCIA\n",
              "1  2101       P         6,2       85        \n",
              "2  4103       P         5,3       90        \n",
              "3  4103       T         NA        NA        \n",
              "4  7406       R         4,8       90        \n",
              "5 13201       P         6,3       99        "
            ],
            "text/latex": "A data.frame: 5 × 12\n\\begin{tabular}{llllllllllll}\n MRUN & AGNO & RBD & COD\\_ENSE & COD\\_GRADO & LET\\_CUR & GEN\\_ALU & FEC\\_NAC\\_ALU & COD\\_COM\\_ALU & SIT\\_FIN\\_R & PROM\\_GRAL & ASISTENCIA\\\\\n <int> & <int> & <int> & <int> & <int> & <chr> & <int> & <chr> & <int> & <chr> & <chr> & <int>\\\\\n\\hline\n\t 10341895 & 2009 &   344 & 110 & 5 & B & 2 & NA &  2101 & P & 6,2 & 85\\\\\n\t  2849761 & 2009 &   614 & 110 & 5 & B & 1 & NA &  4103 & P & 5,3 & 90\\\\\n\t  2849761 & 2009 &   657 & 110 & 5 & A & 1 & NA &  4103 & T & NA  & NA\\\\\n\t   946501 & 2009 &  3534 & 110 & 4 & A & 1 & NA &  7406 & R & 4,8 & 90\\\\\n\t 20575955 & 2009 & 25615 & 110 & 4 & A & 1 & NA & 13201 & P & 6,3 & 99\\\\\n\\end{tabular}\n",
            "text/markdown": "\nA data.frame: 5 × 12\n\n| MRUN &lt;int&gt; | AGNO &lt;int&gt; | RBD &lt;int&gt; | COD_ENSE &lt;int&gt; | COD_GRADO &lt;int&gt; | LET_CUR &lt;chr&gt; | GEN_ALU &lt;int&gt; | FEC_NAC_ALU &lt;chr&gt; | COD_COM_ALU &lt;int&gt; | SIT_FIN_R &lt;chr&gt; | PROM_GRAL &lt;chr&gt; | ASISTENCIA &lt;int&gt; |\n|---|---|---|---|---|---|---|---|---|---|---|---|\n| 10341895 | 2009 |   344 | 110 | 5 | B | 2 | NA |  2101 | P | 6,2 | 85 |\n|  2849761 | 2009 |   614 | 110 | 5 | B | 1 | NA |  4103 | P | 5,3 | 90 |\n|  2849761 | 2009 |   657 | 110 | 5 | A | 1 | NA |  4103 | T | NA  | NA |\n|   946501 | 2009 |  3534 | 110 | 4 | A | 1 | NA |  7406 | R | 4,8 | 90 |\n| 20575955 | 2009 | 25615 | 110 | 4 | A | 1 | NA | 13201 | P | 6,3 | 99 |\n\n",
            "text/html": [
              "<table class=\"dataframe\">\n",
              "<caption>A data.frame: 5 × 12</caption>\n",
              "<thead>\n",
              "\t<tr><th scope=col>MRUN</th><th scope=col>AGNO</th><th scope=col>RBD</th><th scope=col>COD_ENSE</th><th scope=col>COD_GRADO</th><th scope=col>LET_CUR</th><th scope=col>GEN_ALU</th><th scope=col>FEC_NAC_ALU</th><th scope=col>COD_COM_ALU</th><th scope=col>SIT_FIN_R</th><th scope=col>PROM_GRAL</th><th scope=col>ASISTENCIA</th></tr>\n",
              "\t<tr><th scope=col>&lt;int&gt;</th><th scope=col>&lt;int&gt;</th><th scope=col>&lt;int&gt;</th><th scope=col>&lt;int&gt;</th><th scope=col>&lt;int&gt;</th><th scope=col>&lt;chr&gt;</th><th scope=col>&lt;int&gt;</th><th scope=col>&lt;chr&gt;</th><th scope=col>&lt;int&gt;</th><th scope=col>&lt;chr&gt;</th><th scope=col>&lt;chr&gt;</th><th scope=col>&lt;int&gt;</th></tr>\n",
              "</thead>\n",
              "<tbody>\n",
              "\t<tr><td>10341895</td><td>2009</td><td>  344</td><td>110</td><td>5</td><td>B</td><td>2</td><td>NA</td><td> 2101</td><td>P</td><td>6,2</td><td>85</td></tr>\n",
              "\t<tr><td> 2849761</td><td>2009</td><td>  614</td><td>110</td><td>5</td><td>B</td><td>1</td><td>NA</td><td> 4103</td><td>P</td><td>5,3</td><td>90</td></tr>\n",
              "\t<tr><td> 2849761</td><td>2009</td><td>  657</td><td>110</td><td>5</td><td>A</td><td>1</td><td>NA</td><td> 4103</td><td>T</td><td>NA </td><td>NA</td></tr>\n",
              "\t<tr><td>  946501</td><td>2009</td><td> 3534</td><td>110</td><td>4</td><td>A</td><td>1</td><td>NA</td><td> 7406</td><td>R</td><td>4,8</td><td>90</td></tr>\n",
              "\t<tr><td>20575955</td><td>2009</td><td>25615</td><td>110</td><td>4</td><td>A</td><td>1</td><td>NA</td><td>13201</td><td>P</td><td>6,3</td><td>99</td></tr>\n",
              "</tbody>\n",
              "</table>\n"
            ]
          },
          "metadata": {
            "tags": []
          }
        }
      ]
    },
    {
      "cell_type": "code",
      "metadata": {
        "colab": {
          "base_uri": "https://localhost:8080/",
          "height": 405
        },
        "id": "1cef0bLb3XBX",
        "outputId": "05b03df6-2e88-4a52-c3c9-a16c3f61dd41"
      },
      "source": [
        "dbGetQuery(conn, \"\n",
        "select *\n",
        "from alumnos \n",
        "where MRUN=2849761\n",
        "limit 10\")"
      ],
      "execution_count": null,
      "outputs": [
        {
          "output_type": "display_data",
          "data": {
            "text/plain": [
              "   MRUN    AGNO RBD COD_ENSE COD_GRADO LET_CUR GEN_ALU FEC_NAC_ALU COD_COM_ALU\n",
              "1  2849761 2005 618 110      1         A       1       19980825    4102       \n",
              "2  2849761 2006 618 110      2         A       1       19980825    4102       \n",
              "3  2849761 2007 618 110      3         A       1       19980825    4102       \n",
              "4  2849761 2008 618 110      4         A       1       19980825    4102       \n",
              "5  2849761 2008 657 110      4         A       1       19980825    4103       \n",
              "6  2849761 2009 614 110      5         B       1             NA    4103       \n",
              "7  2849761 2009 657 110      5         A       1             NA    4103       \n",
              "8  2849761 2010 614 110      6         B       1       19980825    4103       \n",
              "9  2849761 2011 614 110      7         B       1       19980825    4102       \n",
              "10 2849761 2012 614 110      7         B       1       19980825    4102       \n",
              "   SIT_FIN_R PROM_GRAL ASISTENCIA\n",
              "1  P         5.8       92        \n",
              "2  P         4.6       87        \n",
              "3  P         4.7       87        \n",
              "4  T         NA        NA        \n",
              "5  P         5.2       89        \n",
              "6  P         5.3       90        \n",
              "7  T         NA        NA        \n",
              "8  P         5.1       85        \n",
              "9  R         4.1       66        \n",
              "10 P         4.5       78        "
            ],
            "text/latex": "A data.frame: 10 × 12\n\\begin{tabular}{llllllllllll}\n MRUN & AGNO & RBD & COD\\_ENSE & COD\\_GRADO & LET\\_CUR & GEN\\_ALU & FEC\\_NAC\\_ALU & COD\\_COM\\_ALU & SIT\\_FIN\\_R & PROM\\_GRAL & ASISTENCIA\\\\\n <int> & <int> & <int> & <int> & <int> & <chr> & <int> & <int> & <int> & <chr> & <chr> & <int>\\\\\n\\hline\n\t 2849761 & 2005 & 618 & 110 & 1 & A & 1 & 19980825 & 4102 & P & 5.8 & 92\\\\\n\t 2849761 & 2006 & 618 & 110 & 2 & A & 1 & 19980825 & 4102 & P & 4.6 & 87\\\\\n\t 2849761 & 2007 & 618 & 110 & 3 & A & 1 & 19980825 & 4102 & P & 4.7 & 87\\\\\n\t 2849761 & 2008 & 618 & 110 & 4 & A & 1 & 19980825 & 4102 & T & NA  & NA\\\\\n\t 2849761 & 2008 & 657 & 110 & 4 & A & 1 & 19980825 & 4103 & P & 5.2 & 89\\\\\n\t 2849761 & 2009 & 614 & 110 & 5 & B & 1 &       NA & 4103 & P & 5.3 & 90\\\\\n\t 2849761 & 2009 & 657 & 110 & 5 & A & 1 &       NA & 4103 & T & NA  & NA\\\\\n\t 2849761 & 2010 & 614 & 110 & 6 & B & 1 & 19980825 & 4103 & P & 5.1 & 85\\\\\n\t 2849761 & 2011 & 614 & 110 & 7 & B & 1 & 19980825 & 4102 & R & 4.1 & 66\\\\\n\t 2849761 & 2012 & 614 & 110 & 7 & B & 1 & 19980825 & 4102 & P & 4.5 & 78\\\\\n\\end{tabular}\n",
            "text/markdown": "\nA data.frame: 10 × 12\n\n| MRUN &lt;int&gt; | AGNO &lt;int&gt; | RBD &lt;int&gt; | COD_ENSE &lt;int&gt; | COD_GRADO &lt;int&gt; | LET_CUR &lt;chr&gt; | GEN_ALU &lt;int&gt; | FEC_NAC_ALU &lt;int&gt; | COD_COM_ALU &lt;int&gt; | SIT_FIN_R &lt;chr&gt; | PROM_GRAL &lt;chr&gt; | ASISTENCIA &lt;int&gt; |\n|---|---|---|---|---|---|---|---|---|---|---|---|\n| 2849761 | 2005 | 618 | 110 | 1 | A | 1 | 19980825 | 4102 | P | 5.8 | 92 |\n| 2849761 | 2006 | 618 | 110 | 2 | A | 1 | 19980825 | 4102 | P | 4.6 | 87 |\n| 2849761 | 2007 | 618 | 110 | 3 | A | 1 | 19980825 | 4102 | P | 4.7 | 87 |\n| 2849761 | 2008 | 618 | 110 | 4 | A | 1 | 19980825 | 4102 | T | NA  | NA |\n| 2849761 | 2008 | 657 | 110 | 4 | A | 1 | 19980825 | 4103 | P | 5.2 | 89 |\n| 2849761 | 2009 | 614 | 110 | 5 | B | 1 |       NA | 4103 | P | 5.3 | 90 |\n| 2849761 | 2009 | 657 | 110 | 5 | A | 1 |       NA | 4103 | T | NA  | NA |\n| 2849761 | 2010 | 614 | 110 | 6 | B | 1 | 19980825 | 4103 | P | 5.1 | 85 |\n| 2849761 | 2011 | 614 | 110 | 7 | B | 1 | 19980825 | 4102 | R | 4.1 | 66 |\n| 2849761 | 2012 | 614 | 110 | 7 | B | 1 | 19980825 | 4102 | P | 4.5 | 78 |\n\n",
            "text/html": [
              "<table class=\"dataframe\">\n",
              "<caption>A data.frame: 10 × 12</caption>\n",
              "<thead>\n",
              "\t<tr><th scope=col>MRUN</th><th scope=col>AGNO</th><th scope=col>RBD</th><th scope=col>COD_ENSE</th><th scope=col>COD_GRADO</th><th scope=col>LET_CUR</th><th scope=col>GEN_ALU</th><th scope=col>FEC_NAC_ALU</th><th scope=col>COD_COM_ALU</th><th scope=col>SIT_FIN_R</th><th scope=col>PROM_GRAL</th><th scope=col>ASISTENCIA</th></tr>\n",
              "\t<tr><th scope=col>&lt;int&gt;</th><th scope=col>&lt;int&gt;</th><th scope=col>&lt;int&gt;</th><th scope=col>&lt;int&gt;</th><th scope=col>&lt;int&gt;</th><th scope=col>&lt;chr&gt;</th><th scope=col>&lt;int&gt;</th><th scope=col>&lt;int&gt;</th><th scope=col>&lt;int&gt;</th><th scope=col>&lt;chr&gt;</th><th scope=col>&lt;chr&gt;</th><th scope=col>&lt;int&gt;</th></tr>\n",
              "</thead>\n",
              "<tbody>\n",
              "\t<tr><td>2849761</td><td>2005</td><td>618</td><td>110</td><td>1</td><td>A</td><td>1</td><td>19980825</td><td>4102</td><td>P</td><td>5.8</td><td>92</td></tr>\n",
              "\t<tr><td>2849761</td><td>2006</td><td>618</td><td>110</td><td>2</td><td>A</td><td>1</td><td>19980825</td><td>4102</td><td>P</td><td>4.6</td><td>87</td></tr>\n",
              "\t<tr><td>2849761</td><td>2007</td><td>618</td><td>110</td><td>3</td><td>A</td><td>1</td><td>19980825</td><td>4102</td><td>P</td><td>4.7</td><td>87</td></tr>\n",
              "\t<tr><td>2849761</td><td>2008</td><td>618</td><td>110</td><td>4</td><td>A</td><td>1</td><td>19980825</td><td>4102</td><td>T</td><td>NA </td><td>NA</td></tr>\n",
              "\t<tr><td>2849761</td><td>2008</td><td>657</td><td>110</td><td>4</td><td>A</td><td>1</td><td>19980825</td><td>4103</td><td>P</td><td>5.2</td><td>89</td></tr>\n",
              "\t<tr><td>2849761</td><td>2009</td><td>614</td><td>110</td><td>5</td><td>B</td><td>1</td><td>      NA</td><td>4103</td><td>P</td><td>5.3</td><td>90</td></tr>\n",
              "\t<tr><td>2849761</td><td>2009</td><td>657</td><td>110</td><td>5</td><td>A</td><td>1</td><td>      NA</td><td>4103</td><td>T</td><td>NA </td><td>NA</td></tr>\n",
              "\t<tr><td>2849761</td><td>2010</td><td>614</td><td>110</td><td>6</td><td>B</td><td>1</td><td>19980825</td><td>4103</td><td>P</td><td>5.1</td><td>85</td></tr>\n",
              "\t<tr><td>2849761</td><td>2011</td><td>614</td><td>110</td><td>7</td><td>B</td><td>1</td><td>19980825</td><td>4102</td><td>R</td><td>4.1</td><td>66</td></tr>\n",
              "\t<tr><td>2849761</td><td>2012</td><td>614</td><td>110</td><td>7</td><td>B</td><td>1</td><td>19980825</td><td>4102</td><td>P</td><td>4.5</td><td>78</td></tr>\n",
              "</tbody>\n",
              "</table>\n"
            ]
          },
          "metadata": {}
        }
      ]
    },
    {
      "cell_type": "markdown",
      "metadata": {
        "id": "-DsY0bab4cAx"
      },
      "source": [
        "Solo falta el registro pero el valor existe y puede extraerse"
      ]
    },
    {
      "cell_type": "markdown",
      "metadata": {
        "id": "Xz4e0YMt5fXg"
      },
      "source": [
        "# Consistencia"
      ]
    },
    {
      "cell_type": "code",
      "metadata": {
        "id": "q6Y2Bxta4lkQ",
        "colab": {
          "base_uri": "https://localhost:8080/",
          "height": 1000
        },
        "outputId": "74171be9-be06-448e-83e9-3384a5450645"
      },
      "source": [
        "dbGetQuery(conn,\"\n",
        "  select MRUN,\n",
        "  FEC_NAC_ALU,\n",
        "  count() as N\n",
        "  from alumnos\n",
        "  group by MRUN,FEC_NAC_ALU\n",
        "  order by N DESC\n",
        "\")"
      ],
      "execution_count": null,
      "outputs": [
        {
          "output_type": "display_data",
          "data": {
            "text/plain": [
              "         MRUN     FEC_NAC_ALU N  \n",
              "1         9014208 20000731    100\n",
              "2         8362130 20000622     97\n",
              "3         7601596 19951124     95\n",
              "4          708721 20010314     91\n",
              "5         8993617 19970215     85\n",
              "6         8670826 19980814     81\n",
              "7         9663900 19970205     81\n",
              "8         6492314 19990803     78\n",
              "9        13572412 19991113     78\n",
              "10       15606561   200903     77\n",
              "11        1566043 20040107     76\n",
              "12       20924355   200611     73\n",
              "13        9036693   200707     69\n",
              "14       15268590 19991225     69\n",
              "15       19169776 20041105     67\n",
              "16        5546339 20010104     66\n",
              "17        2037193 20010119     64\n",
              "18       22438708 19961211     64\n",
              "19        5993806   200609     63\n",
              "20       19175350 20000410     63\n",
              "21       13644941 19960611     62\n",
              "22       11158147 19971007     61\n",
              "23       20065254 19971219     61\n",
              "24        5434249 19970214     58\n",
              "25        8085427   200907     57\n",
              "26        6367796 20040305     56\n",
              "27       13855197   200904     56\n",
              "28       19169776   200411     56\n",
              "29       22373284 19971007     56\n",
              "30       24862531 20011207     56\n",
              "⋮        ⋮        ⋮           ⋮  \n",
              "11642999 26305731 201211      1  \n",
              "11643000 26305732 201305      1  \n",
              "11643001 26305733 200501      1  \n",
              "11643002 26305734 200711      1  \n",
              "11643003 26305735 200904      1  \n",
              "11643004 26305736 201003      1  \n",
              "11643005 26305737 200204      1  \n",
              "11643006 26305738 201002      1  \n",
              "11643007 26305739 200311      1  \n",
              "11643008 26305740 201310      1  \n",
              "11643009 26305742 200711      1  \n",
              "11643010 26305743 200908      1  \n",
              "11643011 26305744 200710      1  \n",
              "11643012 26305745 201202      1  \n",
              "11643013 26305746 199207      1  \n",
              "11643014 26305747 201309      1  \n",
              "11643015 26305748 200408      1  \n",
              "11643016 26305749 201111      1  \n",
              "11643017 26305750 200903      1  \n",
              "11643018 26305751 200807      1  \n",
              "11643019 26305752 200301      1  \n",
              "11643020 26305753 200801      1  \n",
              "11643021 26305754 201001      1  \n",
              "11643022 26305755 198610      1  \n",
              "11643023 26305756 200908      1  \n",
              "11643024 26305757 201107      1  \n",
              "11643025 26305758 200610      1  \n",
              "11643026 26305759 200406      1  \n",
              "11643027 26305760 201311      1  \n",
              "11643028 26305761 201306      1  "
            ],
            "text/latex": "A data.frame: 11643028 × 3\n\\begin{tabular}{lll}\n MRUN & FEC\\_NAC\\_ALU & N\\\\\n <int> & <int> & <int>\\\\\n\\hline\n\t  9014208 & 20000731 & 100\\\\\n\t  8362130 & 20000622 &  97\\\\\n\t  7601596 & 19951124 &  95\\\\\n\t   708721 & 20010314 &  91\\\\\n\t  8993617 & 19970215 &  85\\\\\n\t  8670826 & 19980814 &  81\\\\\n\t  9663900 & 19970205 &  81\\\\\n\t  6492314 & 19990803 &  78\\\\\n\t 13572412 & 19991113 &  78\\\\\n\t 15606561 &   200903 &  77\\\\\n\t  1566043 & 20040107 &  76\\\\\n\t 20924355 &   200611 &  73\\\\\n\t  9036693 &   200707 &  69\\\\\n\t 15268590 & 19991225 &  69\\\\\n\t 19169776 & 20041105 &  67\\\\\n\t  5546339 & 20010104 &  66\\\\\n\t  2037193 & 20010119 &  64\\\\\n\t 22438708 & 19961211 &  64\\\\\n\t  5993806 &   200609 &  63\\\\\n\t 19175350 & 20000410 &  63\\\\\n\t 13644941 & 19960611 &  62\\\\\n\t 11158147 & 19971007 &  61\\\\\n\t 20065254 & 19971219 &  61\\\\\n\t  5434249 & 19970214 &  58\\\\\n\t  8085427 &   200907 &  57\\\\\n\t  6367796 & 20040305 &  56\\\\\n\t 13855197 &   200904 &  56\\\\\n\t 19169776 &   200411 &  56\\\\\n\t 22373284 & 19971007 &  56\\\\\n\t 24862531 & 20011207 &  56\\\\\n\t ⋮ & ⋮ & ⋮\\\\\n\t 26305731 & 201211 & 1\\\\\n\t 26305732 & 201305 & 1\\\\\n\t 26305733 & 200501 & 1\\\\\n\t 26305734 & 200711 & 1\\\\\n\t 26305735 & 200904 & 1\\\\\n\t 26305736 & 201003 & 1\\\\\n\t 26305737 & 200204 & 1\\\\\n\t 26305738 & 201002 & 1\\\\\n\t 26305739 & 200311 & 1\\\\\n\t 26305740 & 201310 & 1\\\\\n\t 26305742 & 200711 & 1\\\\\n\t 26305743 & 200908 & 1\\\\\n\t 26305744 & 200710 & 1\\\\\n\t 26305745 & 201202 & 1\\\\\n\t 26305746 & 199207 & 1\\\\\n\t 26305747 & 201309 & 1\\\\\n\t 26305748 & 200408 & 1\\\\\n\t 26305749 & 201111 & 1\\\\\n\t 26305750 & 200903 & 1\\\\\n\t 26305751 & 200807 & 1\\\\\n\t 26305752 & 200301 & 1\\\\\n\t 26305753 & 200801 & 1\\\\\n\t 26305754 & 201001 & 1\\\\\n\t 26305755 & 198610 & 1\\\\\n\t 26305756 & 200908 & 1\\\\\n\t 26305757 & 201107 & 1\\\\\n\t 26305758 & 200610 & 1\\\\\n\t 26305759 & 200406 & 1\\\\\n\t 26305760 & 201311 & 1\\\\\n\t 26305761 & 201306 & 1\\\\\n\\end{tabular}\n",
            "text/markdown": "\nA data.frame: 11643028 × 3\n\n| MRUN &lt;int&gt; | FEC_NAC_ALU &lt;int&gt; | N &lt;int&gt; |\n|---|---|---|\n|  9014208 | 20000731 | 100 |\n|  8362130 | 20000622 |  97 |\n|  7601596 | 19951124 |  95 |\n|   708721 | 20010314 |  91 |\n|  8993617 | 19970215 |  85 |\n|  8670826 | 19980814 |  81 |\n|  9663900 | 19970205 |  81 |\n|  6492314 | 19990803 |  78 |\n| 13572412 | 19991113 |  78 |\n| 15606561 |   200903 |  77 |\n|  1566043 | 20040107 |  76 |\n| 20924355 |   200611 |  73 |\n|  9036693 |   200707 |  69 |\n| 15268590 | 19991225 |  69 |\n| 19169776 | 20041105 |  67 |\n|  5546339 | 20010104 |  66 |\n|  2037193 | 20010119 |  64 |\n| 22438708 | 19961211 |  64 |\n|  5993806 |   200609 |  63 |\n| 19175350 | 20000410 |  63 |\n| 13644941 | 19960611 |  62 |\n| 11158147 | 19971007 |  61 |\n| 20065254 | 19971219 |  61 |\n|  5434249 | 19970214 |  58 |\n|  8085427 |   200907 |  57 |\n|  6367796 | 20040305 |  56 |\n| 13855197 |   200904 |  56 |\n| 19169776 |   200411 |  56 |\n| 22373284 | 19971007 |  56 |\n| 24862531 | 20011207 |  56 |\n| ⋮ | ⋮ | ⋮ |\n| 26305731 | 201211 | 1 |\n| 26305732 | 201305 | 1 |\n| 26305733 | 200501 | 1 |\n| 26305734 | 200711 | 1 |\n| 26305735 | 200904 | 1 |\n| 26305736 | 201003 | 1 |\n| 26305737 | 200204 | 1 |\n| 26305738 | 201002 | 1 |\n| 26305739 | 200311 | 1 |\n| 26305740 | 201310 | 1 |\n| 26305742 | 200711 | 1 |\n| 26305743 | 200908 | 1 |\n| 26305744 | 200710 | 1 |\n| 26305745 | 201202 | 1 |\n| 26305746 | 199207 | 1 |\n| 26305747 | 201309 | 1 |\n| 26305748 | 200408 | 1 |\n| 26305749 | 201111 | 1 |\n| 26305750 | 200903 | 1 |\n| 26305751 | 200807 | 1 |\n| 26305752 | 200301 | 1 |\n| 26305753 | 200801 | 1 |\n| 26305754 | 201001 | 1 |\n| 26305755 | 198610 | 1 |\n| 26305756 | 200908 | 1 |\n| 26305757 | 201107 | 1 |\n| 26305758 | 200610 | 1 |\n| 26305759 | 200406 | 1 |\n| 26305760 | 201311 | 1 |\n| 26305761 | 201306 | 1 |\n\n",
            "text/html": [
              "<table class=\"dataframe\">\n",
              "<caption>A data.frame: 11643028 × 3</caption>\n",
              "<thead>\n",
              "\t<tr><th scope=col>MRUN</th><th scope=col>FEC_NAC_ALU</th><th scope=col>N</th></tr>\n",
              "\t<tr><th scope=col>&lt;int&gt;</th><th scope=col>&lt;int&gt;</th><th scope=col>&lt;int&gt;</th></tr>\n",
              "</thead>\n",
              "<tbody>\n",
              "\t<tr><td> 9014208</td><td>20000731</td><td>100</td></tr>\n",
              "\t<tr><td> 8362130</td><td>20000622</td><td> 97</td></tr>\n",
              "\t<tr><td> 7601596</td><td>19951124</td><td> 95</td></tr>\n",
              "\t<tr><td>  708721</td><td>20010314</td><td> 91</td></tr>\n",
              "\t<tr><td> 8993617</td><td>19970215</td><td> 85</td></tr>\n",
              "\t<tr><td> 8670826</td><td>19980814</td><td> 81</td></tr>\n",
              "\t<tr><td> 9663900</td><td>19970205</td><td> 81</td></tr>\n",
              "\t<tr><td> 6492314</td><td>19990803</td><td> 78</td></tr>\n",
              "\t<tr><td>13572412</td><td>19991113</td><td> 78</td></tr>\n",
              "\t<tr><td>15606561</td><td>  200903</td><td> 77</td></tr>\n",
              "\t<tr><td> 1566043</td><td>20040107</td><td> 76</td></tr>\n",
              "\t<tr><td>20924355</td><td>  200611</td><td> 73</td></tr>\n",
              "\t<tr><td> 9036693</td><td>  200707</td><td> 69</td></tr>\n",
              "\t<tr><td>15268590</td><td>19991225</td><td> 69</td></tr>\n",
              "\t<tr><td>19169776</td><td>20041105</td><td> 67</td></tr>\n",
              "\t<tr><td> 5546339</td><td>20010104</td><td> 66</td></tr>\n",
              "\t<tr><td> 2037193</td><td>20010119</td><td> 64</td></tr>\n",
              "\t<tr><td>22438708</td><td>19961211</td><td> 64</td></tr>\n",
              "\t<tr><td> 5993806</td><td>  200609</td><td> 63</td></tr>\n",
              "\t<tr><td>19175350</td><td>20000410</td><td> 63</td></tr>\n",
              "\t<tr><td>13644941</td><td>19960611</td><td> 62</td></tr>\n",
              "\t<tr><td>11158147</td><td>19971007</td><td> 61</td></tr>\n",
              "\t<tr><td>20065254</td><td>19971219</td><td> 61</td></tr>\n",
              "\t<tr><td> 5434249</td><td>19970214</td><td> 58</td></tr>\n",
              "\t<tr><td> 8085427</td><td>  200907</td><td> 57</td></tr>\n",
              "\t<tr><td> 6367796</td><td>20040305</td><td> 56</td></tr>\n",
              "\t<tr><td>13855197</td><td>  200904</td><td> 56</td></tr>\n",
              "\t<tr><td>19169776</td><td>  200411</td><td> 56</td></tr>\n",
              "\t<tr><td>22373284</td><td>19971007</td><td> 56</td></tr>\n",
              "\t<tr><td>24862531</td><td>20011207</td><td> 56</td></tr>\n",
              "\t<tr><td>⋮</td><td>⋮</td><td>⋮</td></tr>\n",
              "\t<tr><td>26305731</td><td>201211</td><td>1</td></tr>\n",
              "\t<tr><td>26305732</td><td>201305</td><td>1</td></tr>\n",
              "\t<tr><td>26305733</td><td>200501</td><td>1</td></tr>\n",
              "\t<tr><td>26305734</td><td>200711</td><td>1</td></tr>\n",
              "\t<tr><td>26305735</td><td>200904</td><td>1</td></tr>\n",
              "\t<tr><td>26305736</td><td>201003</td><td>1</td></tr>\n",
              "\t<tr><td>26305737</td><td>200204</td><td>1</td></tr>\n",
              "\t<tr><td>26305738</td><td>201002</td><td>1</td></tr>\n",
              "\t<tr><td>26305739</td><td>200311</td><td>1</td></tr>\n",
              "\t<tr><td>26305740</td><td>201310</td><td>1</td></tr>\n",
              "\t<tr><td>26305742</td><td>200711</td><td>1</td></tr>\n",
              "\t<tr><td>26305743</td><td>200908</td><td>1</td></tr>\n",
              "\t<tr><td>26305744</td><td>200710</td><td>1</td></tr>\n",
              "\t<tr><td>26305745</td><td>201202</td><td>1</td></tr>\n",
              "\t<tr><td>26305746</td><td>199207</td><td>1</td></tr>\n",
              "\t<tr><td>26305747</td><td>201309</td><td>1</td></tr>\n",
              "\t<tr><td>26305748</td><td>200408</td><td>1</td></tr>\n",
              "\t<tr><td>26305749</td><td>201111</td><td>1</td></tr>\n",
              "\t<tr><td>26305750</td><td>200903</td><td>1</td></tr>\n",
              "\t<tr><td>26305751</td><td>200807</td><td>1</td></tr>\n",
              "\t<tr><td>26305752</td><td>200301</td><td>1</td></tr>\n",
              "\t<tr><td>26305753</td><td>200801</td><td>1</td></tr>\n",
              "\t<tr><td>26305754</td><td>201001</td><td>1</td></tr>\n",
              "\t<tr><td>26305755</td><td>198610</td><td>1</td></tr>\n",
              "\t<tr><td>26305756</td><td>200908</td><td>1</td></tr>\n",
              "\t<tr><td>26305757</td><td>201107</td><td>1</td></tr>\n",
              "\t<tr><td>26305758</td><td>200610</td><td>1</td></tr>\n",
              "\t<tr><td>26305759</td><td>200406</td><td>1</td></tr>\n",
              "\t<tr><td>26305760</td><td>201311</td><td>1</td></tr>\n",
              "\t<tr><td>26305761</td><td>201306</td><td>1</td></tr>\n",
              "</tbody>\n",
              "</table>\n"
            ]
          },
          "metadata": {}
        }
      ]
    },
    {
      "cell_type": "code",
      "metadata": {
        "colab": {
          "base_uri": "https://localhost:8080/",
          "height": 1000
        },
        "id": "RgMVLg5RJtcH",
        "outputId": "faf64a24-2a76-4d95-84a1-19c7d67f36a9"
      },
      "source": [
        "dbGetQuery(conn,\"\n",
        "select *\n",
        "FROM alumnos \n",
        "where MRUN=9014208\n",
        "\")"
      ],
      "execution_count": null,
      "outputs": [
        {
          "output_type": "display_data",
          "data": {
            "text/plain": [
              "    MRUN    AGNO RBD   COD_ENSE COD_GRADO LET_CUR GEN_ALU FEC_NAC_ALU\n",
              "1   9014208 2007  3070 110      1         A       2       20000731   \n",
              "2   9014208 2007  3464 110      1         A       2       20000731   \n",
              "3   9014208 2007  3465 110      1         A       2       20000731   \n",
              "4   9014208 2007  3517 110      1         A       2       20000731   \n",
              "5   9014208 2008  3743 110      2         A       2       20000713   \n",
              "6   9014208 2008  3786 110      2         A       2       20000731   \n",
              "7   9014208 2008  3823 110      2         A       2       20000722   \n",
              "8   9014208 2008  3977 110      2         B       1       20000731   \n",
              "9   9014208 2008  4104 110      2         A       2       20000731   \n",
              "10  9014208 2008  4310 110      2         A       2       20000731   \n",
              "11  9014208 2008  4324 110      2         A       2       20000731   \n",
              "12  9014208 2008  4352 110      2         B       2       20000731   \n",
              "13  9014208 2008  4507 110      1         A       2       20000731   \n",
              "14  9014208 2008  5289 110      2         A       2       20000731   \n",
              "15  9014208 2008  5538 110      2         B       2       20000731   \n",
              "16  9014208 2008 17897 110      2         B       2       20000731   \n",
              "17  9014208 2008 17898 110      2         A       2       20000726   \n",
              "18  9014208 2009  4310 110      3         A       2       20000731   \n",
              "19  9014208 2009  4334 110      3         A       2       20000731   \n",
              "20  9014208 2009  5050 110      3         B       2       20000731   \n",
              "21  9014208 2009  5831 110      3         A       2       20000731   \n",
              "22  9014208 2009  5880 110      3         B       2       20000731   \n",
              "23  9014208 2009  5957 110      3         A       2       20000731   \n",
              "24  9014208 2009 11405 110      3         A       2       20000731   \n",
              "25  9014208 2009 17898 110      3         B       2       20000731   \n",
              "26  9014208 2009 18016 110      3         A       2       20000731   \n",
              "27  9014208 2010  5050 110      4         B       2       20000731   \n",
              "28  9014208 2010  5667 110      4         A       2       20000731   \n",
              "29  9014208 2010  5959 110      4         A       2       20000731   \n",
              "30  9014208 2010  6166 110      4         A       2       20000731   \n",
              "⋮   ⋮       ⋮    ⋮     ⋮        ⋮         ⋮       ⋮       ⋮          \n",
              "102 9014208 2014  6588 110      8         A       2       20000731   \n",
              "103 9014208 2014 22462 110      8         A       2       20000731   \n",
              "104 9014208 2015  4289 710      1         A       2         200007   \n",
              "105 9014208 2015  5026 310      1         A       2         200007   \n",
              "106 9014208 2015  5048 310      1         A       2         200007   \n",
              "107 9014208 2015  5084 310      1         D       2         200007   \n",
              "108 9014208 2015  5105 310      1         A       2         200007   \n",
              "109 9014208 2015  6452 310      1         B       2         200007   \n",
              "110 9014208 2015  6497 310      1         E       2         200007   \n",
              "111 9014208 2015 11400 310      1         A       2         200007   \n",
              "112 9014208 2016  5344 310      2         E       2         200007   \n",
              "113 9014208 2016  5393 510      2         C       2         200007   \n",
              "114 9014208 2016  5440 310      2         C       2         200007   \n",
              "115 9014208 2016  5663 510      2         C       2         200007   \n",
              "116 9014208 2016  6269 310      2         A       2         200007   \n",
              "117 9014208 2016  6497 310      2         E       2         200007   \n",
              "118 9014208 2016  6649 310      2         A       2         200007   \n",
              "119 9014208 2016  6846 710      2         A       2         200007   \n",
              "120 9014208 2016 20175 310      2         A       2         200007   \n",
              "121 9014208 2017  5344 310      3         D       2         200007   \n",
              "122 9014208 2017  5440 310      3         C       2         200007   \n",
              "123 9014208 2017  5823 310      3         E       2         200007   \n",
              "124 9014208 2017  6585 310      3         A       2         200007   \n",
              "125 9014208 2017 16942 410      3         A       2         200007   \n",
              "126 9014208 2017 20258 310      3         CH      2         200007   \n",
              "127 9014208 2018  5026 310      4         A       2         200007   \n",
              "128 9014208 2018  5048 310      4         B       2         200007   \n",
              "129 9014208 2018  5084 310      4         H       2         200007   \n",
              "130 9014208 2018  5105 310      4         A       2         200007   \n",
              "131 9014208 2018 18080 410      4         D       2         200007   \n",
              "    COD_COM_ALU SIT_FIN_R PROM_GRAL ASISTENCIA\n",
              "1   7109        Y         NA        NA        \n",
              "2   7407        Y         NA        NA        \n",
              "3   7407        Y         NA        NA        \n",
              "4   7406        Y         NA        NA        \n",
              "5   8416        T         NA        NA        \n",
              "6   8416        T         NA        NA        \n",
              "7   8417        T         NA        NA        \n",
              "8   8402        T         NA        NA        \n",
              "9   8414        T         NA        NA        \n",
              "10  8312        T         NA        NA        \n",
              "11  8302        T         NA        NA        \n",
              "12  8311        T         NA        NA        \n",
              "13  8313        Y         NA        NA        \n",
              "14  9202        T         NA        NA        \n",
              "15  9206        P         6.4       85        \n",
              "16  8408        T         NA        NA        \n",
              "17  8419        T         NA        NA        \n",
              "18  9113        T         NA        NA        \n",
              "19  9113        T         NA        NA        \n",
              "20  9113        P         6.4       85        \n",
              "21  9113        T         NA        NA        \n",
              "22  9113        T         NA        NA        \n",
              "23  9113        T         NA        NA        \n",
              "24  9113        T         NA        NA        \n",
              "25  9113        T         NA        NA        \n",
              "26  9113        T         NA        NA        \n",
              "27  8404        T         NA        NA        \n",
              "28  8404        P         6.2       89        \n",
              "29  8404        T         NA        NA        \n",
              "30  8404        T         NA        NA        \n",
              "⋮   ⋮           ⋮         ⋮         ⋮         \n",
              "102 9114        T         NA         NA       \n",
              "103 9114        P         6.2       100       \n",
              "104 9114        P         6.2        52       \n",
              "105 9114        T         NA         NA       \n",
              "106 9114        T         NA         NA       \n",
              "107 9114        T         NA         NA       \n",
              "108 9114        T         NA         NA       \n",
              "109 9114        T         NA         NA       \n",
              "110 9114        T         NA         NA       \n",
              "111 9114        T         NA         NA       \n",
              "112 9107        T         NA         NA       \n",
              "113 9107        T         NA         NA       \n",
              "114 9107        T         NA         NA       \n",
              "115 9107        T         NA         NA       \n",
              "116 9107        T         NA         NA       \n",
              "117 9107        T         NA         NA       \n",
              "118 9107        T         NA         NA       \n",
              "119 9107        P         6.1        86       \n",
              "120 9107        T         NA         NA       \n",
              "121 9107        T         NA         NA       \n",
              "122 9107        P         5.8        85       \n",
              "123 9107        T         NA         NA       \n",
              "124 9107        T         NA         NA       \n",
              "125 9107        T         NA         NA       \n",
              "126 9107        T         NA         NA       \n",
              "127 9107        T         NA         NA       \n",
              "128 9107        T         NA         NA       \n",
              "129 9107        P         6.3        76       \n",
              "130 9107        T         NA         NA       \n",
              "131 9107        T         NA         NA       "
            ],
            "text/latex": "A data.frame: 131 × 12\n\\begin{tabular}{llllllllllll}\n MRUN & AGNO & RBD & COD\\_ENSE & COD\\_GRADO & LET\\_CUR & GEN\\_ALU & FEC\\_NAC\\_ALU & COD\\_COM\\_ALU & SIT\\_FIN\\_R & PROM\\_GRAL & ASISTENCIA\\\\\n <int> & <int> & <int> & <int> & <int> & <chr> & <int> & <int> & <int> & <chr> & <chr> & <int>\\\\\n\\hline\n\t 9014208 & 2007 &  3070 & 110 & 1 & A & 2 & 20000731 & 7109 & Y & NA  & NA\\\\\n\t 9014208 & 2007 &  3464 & 110 & 1 & A & 2 & 20000731 & 7407 & Y & NA  & NA\\\\\n\t 9014208 & 2007 &  3465 & 110 & 1 & A & 2 & 20000731 & 7407 & Y & NA  & NA\\\\\n\t 9014208 & 2007 &  3517 & 110 & 1 & A & 2 & 20000731 & 7406 & Y & NA  & NA\\\\\n\t 9014208 & 2008 &  3743 & 110 & 2 & A & 2 & 20000713 & 8416 & T & NA  & NA\\\\\n\t 9014208 & 2008 &  3786 & 110 & 2 & A & 2 & 20000731 & 8416 & T & NA  & NA\\\\\n\t 9014208 & 2008 &  3823 & 110 & 2 & A & 2 & 20000722 & 8417 & T & NA  & NA\\\\\n\t 9014208 & 2008 &  3977 & 110 & 2 & B & 1 & 20000731 & 8402 & T & NA  & NA\\\\\n\t 9014208 & 2008 &  4104 & 110 & 2 & A & 2 & 20000731 & 8414 & T & NA  & NA\\\\\n\t 9014208 & 2008 &  4310 & 110 & 2 & A & 2 & 20000731 & 8312 & T & NA  & NA\\\\\n\t 9014208 & 2008 &  4324 & 110 & 2 & A & 2 & 20000731 & 8302 & T & NA  & NA\\\\\n\t 9014208 & 2008 &  4352 & 110 & 2 & B & 2 & 20000731 & 8311 & T & NA  & NA\\\\\n\t 9014208 & 2008 &  4507 & 110 & 1 & A & 2 & 20000731 & 8313 & Y & NA  & NA\\\\\n\t 9014208 & 2008 &  5289 & 110 & 2 & A & 2 & 20000731 & 9202 & T & NA  & NA\\\\\n\t 9014208 & 2008 &  5538 & 110 & 2 & B & 2 & 20000731 & 9206 & P & 6.4 & 85\\\\\n\t 9014208 & 2008 & 17897 & 110 & 2 & B & 2 & 20000731 & 8408 & T & NA  & NA\\\\\n\t 9014208 & 2008 & 17898 & 110 & 2 & A & 2 & 20000726 & 8419 & T & NA  & NA\\\\\n\t 9014208 & 2009 &  4310 & 110 & 3 & A & 2 & 20000731 & 9113 & T & NA  & NA\\\\\n\t 9014208 & 2009 &  4334 & 110 & 3 & A & 2 & 20000731 & 9113 & T & NA  & NA\\\\\n\t 9014208 & 2009 &  5050 & 110 & 3 & B & 2 & 20000731 & 9113 & P & 6.4 & 85\\\\\n\t 9014208 & 2009 &  5831 & 110 & 3 & A & 2 & 20000731 & 9113 & T & NA  & NA\\\\\n\t 9014208 & 2009 &  5880 & 110 & 3 & B & 2 & 20000731 & 9113 & T & NA  & NA\\\\\n\t 9014208 & 2009 &  5957 & 110 & 3 & A & 2 & 20000731 & 9113 & T & NA  & NA\\\\\n\t 9014208 & 2009 & 11405 & 110 & 3 & A & 2 & 20000731 & 9113 & T & NA  & NA\\\\\n\t 9014208 & 2009 & 17898 & 110 & 3 & B & 2 & 20000731 & 9113 & T & NA  & NA\\\\\n\t 9014208 & 2009 & 18016 & 110 & 3 & A & 2 & 20000731 & 9113 & T & NA  & NA\\\\\n\t 9014208 & 2010 &  5050 & 110 & 4 & B & 2 & 20000731 & 8404 & T & NA  & NA\\\\\n\t 9014208 & 2010 &  5667 & 110 & 4 & A & 2 & 20000731 & 8404 & P & 6.2 & 89\\\\\n\t 9014208 & 2010 &  5959 & 110 & 4 & A & 2 & 20000731 & 8404 & T & NA  & NA\\\\\n\t 9014208 & 2010 &  6166 & 110 & 4 & A & 2 & 20000731 & 8404 & T & NA  & NA\\\\\n\t ⋮ & ⋮ & ⋮ & ⋮ & ⋮ & ⋮ & ⋮ & ⋮ & ⋮ & ⋮ & ⋮ & ⋮\\\\\n\t 9014208 & 2014 &  6588 & 110 & 8 & A  & 2 & 20000731 & 9114 & T & NA  &  NA\\\\\n\t 9014208 & 2014 & 22462 & 110 & 8 & A  & 2 & 20000731 & 9114 & P & 6.2 & 100\\\\\n\t 9014208 & 2015 &  4289 & 710 & 1 & A  & 2 &   200007 & 9114 & P & 6.2 &  52\\\\\n\t 9014208 & 2015 &  5026 & 310 & 1 & A  & 2 &   200007 & 9114 & T & NA  &  NA\\\\\n\t 9014208 & 2015 &  5048 & 310 & 1 & A  & 2 &   200007 & 9114 & T & NA  &  NA\\\\\n\t 9014208 & 2015 &  5084 & 310 & 1 & D  & 2 &   200007 & 9114 & T & NA  &  NA\\\\\n\t 9014208 & 2015 &  5105 & 310 & 1 & A  & 2 &   200007 & 9114 & T & NA  &  NA\\\\\n\t 9014208 & 2015 &  6452 & 310 & 1 & B  & 2 &   200007 & 9114 & T & NA  &  NA\\\\\n\t 9014208 & 2015 &  6497 & 310 & 1 & E  & 2 &   200007 & 9114 & T & NA  &  NA\\\\\n\t 9014208 & 2015 & 11400 & 310 & 1 & A  & 2 &   200007 & 9114 & T & NA  &  NA\\\\\n\t 9014208 & 2016 &  5344 & 310 & 2 & E  & 2 &   200007 & 9107 & T & NA  &  NA\\\\\n\t 9014208 & 2016 &  5393 & 510 & 2 & C  & 2 &   200007 & 9107 & T & NA  &  NA\\\\\n\t 9014208 & 2016 &  5440 & 310 & 2 & C  & 2 &   200007 & 9107 & T & NA  &  NA\\\\\n\t 9014208 & 2016 &  5663 & 510 & 2 & C  & 2 &   200007 & 9107 & T & NA  &  NA\\\\\n\t 9014208 & 2016 &  6269 & 310 & 2 & A  & 2 &   200007 & 9107 & T & NA  &  NA\\\\\n\t 9014208 & 2016 &  6497 & 310 & 2 & E  & 2 &   200007 & 9107 & T & NA  &  NA\\\\\n\t 9014208 & 2016 &  6649 & 310 & 2 & A  & 2 &   200007 & 9107 & T & NA  &  NA\\\\\n\t 9014208 & 2016 &  6846 & 710 & 2 & A  & 2 &   200007 & 9107 & P & 6.1 &  86\\\\\n\t 9014208 & 2016 & 20175 & 310 & 2 & A  & 2 &   200007 & 9107 & T & NA  &  NA\\\\\n\t 9014208 & 2017 &  5344 & 310 & 3 & D  & 2 &   200007 & 9107 & T & NA  &  NA\\\\\n\t 9014208 & 2017 &  5440 & 310 & 3 & C  & 2 &   200007 & 9107 & P & 5.8 &  85\\\\\n\t 9014208 & 2017 &  5823 & 310 & 3 & E  & 2 &   200007 & 9107 & T & NA  &  NA\\\\\n\t 9014208 & 2017 &  6585 & 310 & 3 & A  & 2 &   200007 & 9107 & T & NA  &  NA\\\\\n\t 9014208 & 2017 & 16942 & 410 & 3 & A  & 2 &   200007 & 9107 & T & NA  &  NA\\\\\n\t 9014208 & 2017 & 20258 & 310 & 3 & CH & 2 &   200007 & 9107 & T & NA  &  NA\\\\\n\t 9014208 & 2018 &  5026 & 310 & 4 & A  & 2 &   200007 & 9107 & T & NA  &  NA\\\\\n\t 9014208 & 2018 &  5048 & 310 & 4 & B  & 2 &   200007 & 9107 & T & NA  &  NA\\\\\n\t 9014208 & 2018 &  5084 & 310 & 4 & H  & 2 &   200007 & 9107 & P & 6.3 &  76\\\\\n\t 9014208 & 2018 &  5105 & 310 & 4 & A  & 2 &   200007 & 9107 & T & NA  &  NA\\\\\n\t 9014208 & 2018 & 18080 & 410 & 4 & D  & 2 &   200007 & 9107 & T & NA  &  NA\\\\\n\\end{tabular}\n",
            "text/markdown": "\nA data.frame: 131 × 12\n\n| MRUN &lt;int&gt; | AGNO &lt;int&gt; | RBD &lt;int&gt; | COD_ENSE &lt;int&gt; | COD_GRADO &lt;int&gt; | LET_CUR &lt;chr&gt; | GEN_ALU &lt;int&gt; | FEC_NAC_ALU &lt;int&gt; | COD_COM_ALU &lt;int&gt; | SIT_FIN_R &lt;chr&gt; | PROM_GRAL &lt;chr&gt; | ASISTENCIA &lt;int&gt; |\n|---|---|---|---|---|---|---|---|---|---|---|---|\n| 9014208 | 2007 |  3070 | 110 | 1 | A | 2 | 20000731 | 7109 | Y | NA  | NA |\n| 9014208 | 2007 |  3464 | 110 | 1 | A | 2 | 20000731 | 7407 | Y | NA  | NA |\n| 9014208 | 2007 |  3465 | 110 | 1 | A | 2 | 20000731 | 7407 | Y | NA  | NA |\n| 9014208 | 2007 |  3517 | 110 | 1 | A | 2 | 20000731 | 7406 | Y | NA  | NA |\n| 9014208 | 2008 |  3743 | 110 | 2 | A | 2 | 20000713 | 8416 | T | NA  | NA |\n| 9014208 | 2008 |  3786 | 110 | 2 | A | 2 | 20000731 | 8416 | T | NA  | NA |\n| 9014208 | 2008 |  3823 | 110 | 2 | A | 2 | 20000722 | 8417 | T | NA  | NA |\n| 9014208 | 2008 |  3977 | 110 | 2 | B | 1 | 20000731 | 8402 | T | NA  | NA |\n| 9014208 | 2008 |  4104 | 110 | 2 | A | 2 | 20000731 | 8414 | T | NA  | NA |\n| 9014208 | 2008 |  4310 | 110 | 2 | A | 2 | 20000731 | 8312 | T | NA  | NA |\n| 9014208 | 2008 |  4324 | 110 | 2 | A | 2 | 20000731 | 8302 | T | NA  | NA |\n| 9014208 | 2008 |  4352 | 110 | 2 | B | 2 | 20000731 | 8311 | T | NA  | NA |\n| 9014208 | 2008 |  4507 | 110 | 1 | A | 2 | 20000731 | 8313 | Y | NA  | NA |\n| 9014208 | 2008 |  5289 | 110 | 2 | A | 2 | 20000731 | 9202 | T | NA  | NA |\n| 9014208 | 2008 |  5538 | 110 | 2 | B | 2 | 20000731 | 9206 | P | 6.4 | 85 |\n| 9014208 | 2008 | 17897 | 110 | 2 | B | 2 | 20000731 | 8408 | T | NA  | NA |\n| 9014208 | 2008 | 17898 | 110 | 2 | A | 2 | 20000726 | 8419 | T | NA  | NA |\n| 9014208 | 2009 |  4310 | 110 | 3 | A | 2 | 20000731 | 9113 | T | NA  | NA |\n| 9014208 | 2009 |  4334 | 110 | 3 | A | 2 | 20000731 | 9113 | T | NA  | NA |\n| 9014208 | 2009 |  5050 | 110 | 3 | B | 2 | 20000731 | 9113 | P | 6.4 | 85 |\n| 9014208 | 2009 |  5831 | 110 | 3 | A | 2 | 20000731 | 9113 | T | NA  | NA |\n| 9014208 | 2009 |  5880 | 110 | 3 | B | 2 | 20000731 | 9113 | T | NA  | NA |\n| 9014208 | 2009 |  5957 | 110 | 3 | A | 2 | 20000731 | 9113 | T | NA  | NA |\n| 9014208 | 2009 | 11405 | 110 | 3 | A | 2 | 20000731 | 9113 | T | NA  | NA |\n| 9014208 | 2009 | 17898 | 110 | 3 | B | 2 | 20000731 | 9113 | T | NA  | NA |\n| 9014208 | 2009 | 18016 | 110 | 3 | A | 2 | 20000731 | 9113 | T | NA  | NA |\n| 9014208 | 2010 |  5050 | 110 | 4 | B | 2 | 20000731 | 8404 | T | NA  | NA |\n| 9014208 | 2010 |  5667 | 110 | 4 | A | 2 | 20000731 | 8404 | P | 6.2 | 89 |\n| 9014208 | 2010 |  5959 | 110 | 4 | A | 2 | 20000731 | 8404 | T | NA  | NA |\n| 9014208 | 2010 |  6166 | 110 | 4 | A | 2 | 20000731 | 8404 | T | NA  | NA |\n| ⋮ | ⋮ | ⋮ | ⋮ | ⋮ | ⋮ | ⋮ | ⋮ | ⋮ | ⋮ | ⋮ | ⋮ |\n| 9014208 | 2014 |  6588 | 110 | 8 | A  | 2 | 20000731 | 9114 | T | NA  |  NA |\n| 9014208 | 2014 | 22462 | 110 | 8 | A  | 2 | 20000731 | 9114 | P | 6.2 | 100 |\n| 9014208 | 2015 |  4289 | 710 | 1 | A  | 2 |   200007 | 9114 | P | 6.2 |  52 |\n| 9014208 | 2015 |  5026 | 310 | 1 | A  | 2 |   200007 | 9114 | T | NA  |  NA |\n| 9014208 | 2015 |  5048 | 310 | 1 | A  | 2 |   200007 | 9114 | T | NA  |  NA |\n| 9014208 | 2015 |  5084 | 310 | 1 | D  | 2 |   200007 | 9114 | T | NA  |  NA |\n| 9014208 | 2015 |  5105 | 310 | 1 | A  | 2 |   200007 | 9114 | T | NA  |  NA |\n| 9014208 | 2015 |  6452 | 310 | 1 | B  | 2 |   200007 | 9114 | T | NA  |  NA |\n| 9014208 | 2015 |  6497 | 310 | 1 | E  | 2 |   200007 | 9114 | T | NA  |  NA |\n| 9014208 | 2015 | 11400 | 310 | 1 | A  | 2 |   200007 | 9114 | T | NA  |  NA |\n| 9014208 | 2016 |  5344 | 310 | 2 | E  | 2 |   200007 | 9107 | T | NA  |  NA |\n| 9014208 | 2016 |  5393 | 510 | 2 | C  | 2 |   200007 | 9107 | T | NA  |  NA |\n| 9014208 | 2016 |  5440 | 310 | 2 | C  | 2 |   200007 | 9107 | T | NA  |  NA |\n| 9014208 | 2016 |  5663 | 510 | 2 | C  | 2 |   200007 | 9107 | T | NA  |  NA |\n| 9014208 | 2016 |  6269 | 310 | 2 | A  | 2 |   200007 | 9107 | T | NA  |  NA |\n| 9014208 | 2016 |  6497 | 310 | 2 | E  | 2 |   200007 | 9107 | T | NA  |  NA |\n| 9014208 | 2016 |  6649 | 310 | 2 | A  | 2 |   200007 | 9107 | T | NA  |  NA |\n| 9014208 | 2016 |  6846 | 710 | 2 | A  | 2 |   200007 | 9107 | P | 6.1 |  86 |\n| 9014208 | 2016 | 20175 | 310 | 2 | A  | 2 |   200007 | 9107 | T | NA  |  NA |\n| 9014208 | 2017 |  5344 | 310 | 3 | D  | 2 |   200007 | 9107 | T | NA  |  NA |\n| 9014208 | 2017 |  5440 | 310 | 3 | C  | 2 |   200007 | 9107 | P | 5.8 |  85 |\n| 9014208 | 2017 |  5823 | 310 | 3 | E  | 2 |   200007 | 9107 | T | NA  |  NA |\n| 9014208 | 2017 |  6585 | 310 | 3 | A  | 2 |   200007 | 9107 | T | NA  |  NA |\n| 9014208 | 2017 | 16942 | 410 | 3 | A  | 2 |   200007 | 9107 | T | NA  |  NA |\n| 9014208 | 2017 | 20258 | 310 | 3 | CH | 2 |   200007 | 9107 | T | NA  |  NA |\n| 9014208 | 2018 |  5026 | 310 | 4 | A  | 2 |   200007 | 9107 | T | NA  |  NA |\n| 9014208 | 2018 |  5048 | 310 | 4 | B  | 2 |   200007 | 9107 | T | NA  |  NA |\n| 9014208 | 2018 |  5084 | 310 | 4 | H  | 2 |   200007 | 9107 | P | 6.3 |  76 |\n| 9014208 | 2018 |  5105 | 310 | 4 | A  | 2 |   200007 | 9107 | T | NA  |  NA |\n| 9014208 | 2018 | 18080 | 410 | 4 | D  | 2 |   200007 | 9107 | T | NA  |  NA |\n\n",
            "text/html": [
              "<table class=\"dataframe\">\n",
              "<caption>A data.frame: 131 × 12</caption>\n",
              "<thead>\n",
              "\t<tr><th scope=col>MRUN</th><th scope=col>AGNO</th><th scope=col>RBD</th><th scope=col>COD_ENSE</th><th scope=col>COD_GRADO</th><th scope=col>LET_CUR</th><th scope=col>GEN_ALU</th><th scope=col>FEC_NAC_ALU</th><th scope=col>COD_COM_ALU</th><th scope=col>SIT_FIN_R</th><th scope=col>PROM_GRAL</th><th scope=col>ASISTENCIA</th></tr>\n",
              "\t<tr><th scope=col>&lt;int&gt;</th><th scope=col>&lt;int&gt;</th><th scope=col>&lt;int&gt;</th><th scope=col>&lt;int&gt;</th><th scope=col>&lt;int&gt;</th><th scope=col>&lt;chr&gt;</th><th scope=col>&lt;int&gt;</th><th scope=col>&lt;int&gt;</th><th scope=col>&lt;int&gt;</th><th scope=col>&lt;chr&gt;</th><th scope=col>&lt;chr&gt;</th><th scope=col>&lt;int&gt;</th></tr>\n",
              "</thead>\n",
              "<tbody>\n",
              "\t<tr><td>9014208</td><td>2007</td><td> 3070</td><td>110</td><td>1</td><td>A</td><td>2</td><td>20000731</td><td>7109</td><td>Y</td><td>NA </td><td>NA</td></tr>\n",
              "\t<tr><td>9014208</td><td>2007</td><td> 3464</td><td>110</td><td>1</td><td>A</td><td>2</td><td>20000731</td><td>7407</td><td>Y</td><td>NA </td><td>NA</td></tr>\n",
              "\t<tr><td>9014208</td><td>2007</td><td> 3465</td><td>110</td><td>1</td><td>A</td><td>2</td><td>20000731</td><td>7407</td><td>Y</td><td>NA </td><td>NA</td></tr>\n",
              "\t<tr><td>9014208</td><td>2007</td><td> 3517</td><td>110</td><td>1</td><td>A</td><td>2</td><td>20000731</td><td>7406</td><td>Y</td><td>NA </td><td>NA</td></tr>\n",
              "\t<tr><td>9014208</td><td>2008</td><td> 3743</td><td>110</td><td>2</td><td>A</td><td>2</td><td>20000713</td><td>8416</td><td>T</td><td>NA </td><td>NA</td></tr>\n",
              "\t<tr><td>9014208</td><td>2008</td><td> 3786</td><td>110</td><td>2</td><td>A</td><td>2</td><td>20000731</td><td>8416</td><td>T</td><td>NA </td><td>NA</td></tr>\n",
              "\t<tr><td>9014208</td><td>2008</td><td> 3823</td><td>110</td><td>2</td><td>A</td><td>2</td><td>20000722</td><td>8417</td><td>T</td><td>NA </td><td>NA</td></tr>\n",
              "\t<tr><td>9014208</td><td>2008</td><td> 3977</td><td>110</td><td>2</td><td>B</td><td>1</td><td>20000731</td><td>8402</td><td>T</td><td>NA </td><td>NA</td></tr>\n",
              "\t<tr><td>9014208</td><td>2008</td><td> 4104</td><td>110</td><td>2</td><td>A</td><td>2</td><td>20000731</td><td>8414</td><td>T</td><td>NA </td><td>NA</td></tr>\n",
              "\t<tr><td>9014208</td><td>2008</td><td> 4310</td><td>110</td><td>2</td><td>A</td><td>2</td><td>20000731</td><td>8312</td><td>T</td><td>NA </td><td>NA</td></tr>\n",
              "\t<tr><td>9014208</td><td>2008</td><td> 4324</td><td>110</td><td>2</td><td>A</td><td>2</td><td>20000731</td><td>8302</td><td>T</td><td>NA </td><td>NA</td></tr>\n",
              "\t<tr><td>9014208</td><td>2008</td><td> 4352</td><td>110</td><td>2</td><td>B</td><td>2</td><td>20000731</td><td>8311</td><td>T</td><td>NA </td><td>NA</td></tr>\n",
              "\t<tr><td>9014208</td><td>2008</td><td> 4507</td><td>110</td><td>1</td><td>A</td><td>2</td><td>20000731</td><td>8313</td><td>Y</td><td>NA </td><td>NA</td></tr>\n",
              "\t<tr><td>9014208</td><td>2008</td><td> 5289</td><td>110</td><td>2</td><td>A</td><td>2</td><td>20000731</td><td>9202</td><td>T</td><td>NA </td><td>NA</td></tr>\n",
              "\t<tr><td>9014208</td><td>2008</td><td> 5538</td><td>110</td><td>2</td><td>B</td><td>2</td><td>20000731</td><td>9206</td><td>P</td><td>6.4</td><td>85</td></tr>\n",
              "\t<tr><td>9014208</td><td>2008</td><td>17897</td><td>110</td><td>2</td><td>B</td><td>2</td><td>20000731</td><td>8408</td><td>T</td><td>NA </td><td>NA</td></tr>\n",
              "\t<tr><td>9014208</td><td>2008</td><td>17898</td><td>110</td><td>2</td><td>A</td><td>2</td><td>20000726</td><td>8419</td><td>T</td><td>NA </td><td>NA</td></tr>\n",
              "\t<tr><td>9014208</td><td>2009</td><td> 4310</td><td>110</td><td>3</td><td>A</td><td>2</td><td>20000731</td><td>9113</td><td>T</td><td>NA </td><td>NA</td></tr>\n",
              "\t<tr><td>9014208</td><td>2009</td><td> 4334</td><td>110</td><td>3</td><td>A</td><td>2</td><td>20000731</td><td>9113</td><td>T</td><td>NA </td><td>NA</td></tr>\n",
              "\t<tr><td>9014208</td><td>2009</td><td> 5050</td><td>110</td><td>3</td><td>B</td><td>2</td><td>20000731</td><td>9113</td><td>P</td><td>6.4</td><td>85</td></tr>\n",
              "\t<tr><td>9014208</td><td>2009</td><td> 5831</td><td>110</td><td>3</td><td>A</td><td>2</td><td>20000731</td><td>9113</td><td>T</td><td>NA </td><td>NA</td></tr>\n",
              "\t<tr><td>9014208</td><td>2009</td><td> 5880</td><td>110</td><td>3</td><td>B</td><td>2</td><td>20000731</td><td>9113</td><td>T</td><td>NA </td><td>NA</td></tr>\n",
              "\t<tr><td>9014208</td><td>2009</td><td> 5957</td><td>110</td><td>3</td><td>A</td><td>2</td><td>20000731</td><td>9113</td><td>T</td><td>NA </td><td>NA</td></tr>\n",
              "\t<tr><td>9014208</td><td>2009</td><td>11405</td><td>110</td><td>3</td><td>A</td><td>2</td><td>20000731</td><td>9113</td><td>T</td><td>NA </td><td>NA</td></tr>\n",
              "\t<tr><td>9014208</td><td>2009</td><td>17898</td><td>110</td><td>3</td><td>B</td><td>2</td><td>20000731</td><td>9113</td><td>T</td><td>NA </td><td>NA</td></tr>\n",
              "\t<tr><td>9014208</td><td>2009</td><td>18016</td><td>110</td><td>3</td><td>A</td><td>2</td><td>20000731</td><td>9113</td><td>T</td><td>NA </td><td>NA</td></tr>\n",
              "\t<tr><td>9014208</td><td>2010</td><td> 5050</td><td>110</td><td>4</td><td>B</td><td>2</td><td>20000731</td><td>8404</td><td>T</td><td>NA </td><td>NA</td></tr>\n",
              "\t<tr><td>9014208</td><td>2010</td><td> 5667</td><td>110</td><td>4</td><td>A</td><td>2</td><td>20000731</td><td>8404</td><td>P</td><td>6.2</td><td>89</td></tr>\n",
              "\t<tr><td>9014208</td><td>2010</td><td> 5959</td><td>110</td><td>4</td><td>A</td><td>2</td><td>20000731</td><td>8404</td><td>T</td><td>NA </td><td>NA</td></tr>\n",
              "\t<tr><td>9014208</td><td>2010</td><td> 6166</td><td>110</td><td>4</td><td>A</td><td>2</td><td>20000731</td><td>8404</td><td>T</td><td>NA </td><td>NA</td></tr>\n",
              "\t<tr><td>⋮</td><td>⋮</td><td>⋮</td><td>⋮</td><td>⋮</td><td>⋮</td><td>⋮</td><td>⋮</td><td>⋮</td><td>⋮</td><td>⋮</td><td>⋮</td></tr>\n",
              "\t<tr><td>9014208</td><td>2014</td><td> 6588</td><td>110</td><td>8</td><td>A </td><td>2</td><td>20000731</td><td>9114</td><td>T</td><td>NA </td><td> NA</td></tr>\n",
              "\t<tr><td>9014208</td><td>2014</td><td>22462</td><td>110</td><td>8</td><td>A </td><td>2</td><td>20000731</td><td>9114</td><td>P</td><td>6.2</td><td>100</td></tr>\n",
              "\t<tr><td>9014208</td><td>2015</td><td> 4289</td><td>710</td><td>1</td><td>A </td><td>2</td><td>  200007</td><td>9114</td><td>P</td><td>6.2</td><td> 52</td></tr>\n",
              "\t<tr><td>9014208</td><td>2015</td><td> 5026</td><td>310</td><td>1</td><td>A </td><td>2</td><td>  200007</td><td>9114</td><td>T</td><td>NA </td><td> NA</td></tr>\n",
              "\t<tr><td>9014208</td><td>2015</td><td> 5048</td><td>310</td><td>1</td><td>A </td><td>2</td><td>  200007</td><td>9114</td><td>T</td><td>NA </td><td> NA</td></tr>\n",
              "\t<tr><td>9014208</td><td>2015</td><td> 5084</td><td>310</td><td>1</td><td>D </td><td>2</td><td>  200007</td><td>9114</td><td>T</td><td>NA </td><td> NA</td></tr>\n",
              "\t<tr><td>9014208</td><td>2015</td><td> 5105</td><td>310</td><td>1</td><td>A </td><td>2</td><td>  200007</td><td>9114</td><td>T</td><td>NA </td><td> NA</td></tr>\n",
              "\t<tr><td>9014208</td><td>2015</td><td> 6452</td><td>310</td><td>1</td><td>B </td><td>2</td><td>  200007</td><td>9114</td><td>T</td><td>NA </td><td> NA</td></tr>\n",
              "\t<tr><td>9014208</td><td>2015</td><td> 6497</td><td>310</td><td>1</td><td>E </td><td>2</td><td>  200007</td><td>9114</td><td>T</td><td>NA </td><td> NA</td></tr>\n",
              "\t<tr><td>9014208</td><td>2015</td><td>11400</td><td>310</td><td>1</td><td>A </td><td>2</td><td>  200007</td><td>9114</td><td>T</td><td>NA </td><td> NA</td></tr>\n",
              "\t<tr><td>9014208</td><td>2016</td><td> 5344</td><td>310</td><td>2</td><td>E </td><td>2</td><td>  200007</td><td>9107</td><td>T</td><td>NA </td><td> NA</td></tr>\n",
              "\t<tr><td>9014208</td><td>2016</td><td> 5393</td><td>510</td><td>2</td><td>C </td><td>2</td><td>  200007</td><td>9107</td><td>T</td><td>NA </td><td> NA</td></tr>\n",
              "\t<tr><td>9014208</td><td>2016</td><td> 5440</td><td>310</td><td>2</td><td>C </td><td>2</td><td>  200007</td><td>9107</td><td>T</td><td>NA </td><td> NA</td></tr>\n",
              "\t<tr><td>9014208</td><td>2016</td><td> 5663</td><td>510</td><td>2</td><td>C </td><td>2</td><td>  200007</td><td>9107</td><td>T</td><td>NA </td><td> NA</td></tr>\n",
              "\t<tr><td>9014208</td><td>2016</td><td> 6269</td><td>310</td><td>2</td><td>A </td><td>2</td><td>  200007</td><td>9107</td><td>T</td><td>NA </td><td> NA</td></tr>\n",
              "\t<tr><td>9014208</td><td>2016</td><td> 6497</td><td>310</td><td>2</td><td>E </td><td>2</td><td>  200007</td><td>9107</td><td>T</td><td>NA </td><td> NA</td></tr>\n",
              "\t<tr><td>9014208</td><td>2016</td><td> 6649</td><td>310</td><td>2</td><td>A </td><td>2</td><td>  200007</td><td>9107</td><td>T</td><td>NA </td><td> NA</td></tr>\n",
              "\t<tr><td>9014208</td><td>2016</td><td> 6846</td><td>710</td><td>2</td><td>A </td><td>2</td><td>  200007</td><td>9107</td><td>P</td><td>6.1</td><td> 86</td></tr>\n",
              "\t<tr><td>9014208</td><td>2016</td><td>20175</td><td>310</td><td>2</td><td>A </td><td>2</td><td>  200007</td><td>9107</td><td>T</td><td>NA </td><td> NA</td></tr>\n",
              "\t<tr><td>9014208</td><td>2017</td><td> 5344</td><td>310</td><td>3</td><td>D </td><td>2</td><td>  200007</td><td>9107</td><td>T</td><td>NA </td><td> NA</td></tr>\n",
              "\t<tr><td>9014208</td><td>2017</td><td> 5440</td><td>310</td><td>3</td><td>C </td><td>2</td><td>  200007</td><td>9107</td><td>P</td><td>5.8</td><td> 85</td></tr>\n",
              "\t<tr><td>9014208</td><td>2017</td><td> 5823</td><td>310</td><td>3</td><td>E </td><td>2</td><td>  200007</td><td>9107</td><td>T</td><td>NA </td><td> NA</td></tr>\n",
              "\t<tr><td>9014208</td><td>2017</td><td> 6585</td><td>310</td><td>3</td><td>A </td><td>2</td><td>  200007</td><td>9107</td><td>T</td><td>NA </td><td> NA</td></tr>\n",
              "\t<tr><td>9014208</td><td>2017</td><td>16942</td><td>410</td><td>3</td><td>A </td><td>2</td><td>  200007</td><td>9107</td><td>T</td><td>NA </td><td> NA</td></tr>\n",
              "\t<tr><td>9014208</td><td>2017</td><td>20258</td><td>310</td><td>3</td><td>CH</td><td>2</td><td>  200007</td><td>9107</td><td>T</td><td>NA </td><td> NA</td></tr>\n",
              "\t<tr><td>9014208</td><td>2018</td><td> 5026</td><td>310</td><td>4</td><td>A </td><td>2</td><td>  200007</td><td>9107</td><td>T</td><td>NA </td><td> NA</td></tr>\n",
              "\t<tr><td>9014208</td><td>2018</td><td> 5048</td><td>310</td><td>4</td><td>B </td><td>2</td><td>  200007</td><td>9107</td><td>T</td><td>NA </td><td> NA</td></tr>\n",
              "\t<tr><td>9014208</td><td>2018</td><td> 5084</td><td>310</td><td>4</td><td>H </td><td>2</td><td>  200007</td><td>9107</td><td>P</td><td>6.3</td><td> 76</td></tr>\n",
              "\t<tr><td>9014208</td><td>2018</td><td> 5105</td><td>310</td><td>4</td><td>A </td><td>2</td><td>  200007</td><td>9107</td><td>T</td><td>NA </td><td> NA</td></tr>\n",
              "\t<tr><td>9014208</td><td>2018</td><td>18080</td><td>410</td><td>4</td><td>D </td><td>2</td><td>  200007</td><td>9107</td><td>T</td><td>NA </td><td> NA</td></tr>\n",
              "</tbody>\n",
              "</table>\n"
            ]
          },
          "metadata": {}
        }
      ]
    },
    {
      "cell_type": "markdown",
      "metadata": {
        "id": "EKm-CC7E5K7_"
      },
      "source": [
        "Parece todo bien pero no es asi"
      ]
    },
    {
      "cell_type": "code",
      "metadata": {
        "colab": {
          "base_uri": "https://localhost:8080/",
          "height": 220
        },
        "id": "bO5ZiN8T4btu",
        "outputId": "0d501746-1ab3-4693-b7b3-16b6f0d218da"
      },
      "source": [
        "dbGetQuery(conn,\"\n",
        "select\n",
        "MRUN,\n",
        "FEC_NAC_ALU\n",
        "from (\n",
        "  select MRUN,\n",
        "  FEC_NAC_ALU,\n",
        "  count() as N\n",
        "  from alumnos\n",
        "  group by MRUN,FEC_NAC_ALU\n",
        ")\n",
        "GROUP BY MRUN\n",
        "having N=MAX(N) and \n",
        "  sum(case when FEC_NAC_ALU is null then 1 else 0 end) >0\n",
        "\")"
      ],
      "execution_count": null,
      "outputs": [
        {
          "output_type": "display_data",
          "data": {
            "text/plain": [
              "  MRUN     FEC_NAC_ALU\n",
              "1   946501 19980805   \n",
              "2  2849761 19980825   \n",
              "3 10341895 19990517   \n",
              "4 20575955 19990722   "
            ],
            "text/latex": "A data.frame: 4 × 2\n\\begin{tabular}{ll}\n MRUN & FEC\\_NAC\\_ALU\\\\\n <int> & <chr>\\\\\n\\hline\n\t   946501 & 19980805\\\\\n\t  2849761 & 19980825\\\\\n\t 10341895 & 19990517\\\\\n\t 20575955 & 19990722\\\\\n\\end{tabular}\n",
            "text/markdown": "\nA data.frame: 4 × 2\n\n| MRUN &lt;int&gt; | FEC_NAC_ALU &lt;chr&gt; |\n|---|---|\n|   946501 | 19980805 |\n|  2849761 | 19980825 |\n| 10341895 | 19990517 |\n| 20575955 | 19990722 |\n\n",
            "text/html": [
              "<table class=\"dataframe\">\n",
              "<caption>A data.frame: 4 × 2</caption>\n",
              "<thead>\n",
              "\t<tr><th scope=col>MRUN</th><th scope=col>FEC_NAC_ALU</th></tr>\n",
              "\t<tr><th scope=col>&lt;int&gt;</th><th scope=col>&lt;chr&gt;</th></tr>\n",
              "</thead>\n",
              "<tbody>\n",
              "\t<tr><td>  946501</td><td>19980805</td></tr>\n",
              "\t<tr><td> 2849761</td><td>19980825</td></tr>\n",
              "\t<tr><td>10341895</td><td>19990517</td></tr>\n",
              "\t<tr><td>20575955</td><td>19990722</td></tr>\n",
              "</tbody>\n",
              "</table>\n"
            ]
          },
          "metadata": {
            "tags": []
          }
        }
      ]
    },
    {
      "cell_type": "code",
      "metadata": {
        "colab": {
          "base_uri": "https://localhost:8080/",
          "height": 50
        },
        "id": "j2hH5WWx79gS",
        "outputId": "f8203c8a-525a-4af7-d63c-b80c4c35e49a"
      },
      "source": [
        "dbGetQuery(conn,\"\n",
        "update alumnos\n",
        "set FEC_NAC_ALU= fchs\n",
        "from (\n",
        "select\n",
        "MRUN as mrns,\n",
        "FEC_NAC_ALU as fchs\n",
        "from (\n",
        "  select MRUN,\n",
        "  FEC_NAC_ALU,\n",
        "  count() as N\n",
        "  from alumnos\n",
        "  group by MRUN,FEC_NAC_ALU\n",
        ")\n",
        "GROUP BY MRUN\n",
        "having N=MAX(N) and \n",
        "  sum(case when FEC_NAC_ALU is null then 1 else 0 end) >0)\n",
        "where MRUN=mrns\n",
        "\n",
        "\")"
      ],
      "execution_count": null,
      "outputs": [
        {
          "output_type": "stream",
          "text": [
            "Warning message in result_fetch(res@ptr, n = n):\n",
            "“SQL statements must be issued with dbExecute() or dbSendStatement() instead of dbGetQuery() or dbSendQuery().”\n"
          ],
          "name": "stderr"
        },
        {
          "output_type": "display_data",
          "data": {
            "text/plain": [
              "<0 x 0 matrix>"
            ],
            "text/latex": "",
            "text/markdown": "",
            "text/html": [
              ""
            ]
          },
          "metadata": {
            "tags": []
          }
        }
      ]
    },
    {
      "cell_type": "code",
      "metadata": {
        "colab": {
          "base_uri": "https://localhost:8080/",
          "height": 405
        },
        "id": "wJx0d4Rz_nLl",
        "outputId": "d30b1940-b4b3-49c2-9f95-50e51bbfd703"
      },
      "source": [
        "dbGetQuery(conn, \"\n",
        "select *\n",
        "from alumnos \n",
        "where MRUN=2849761\")"
      ],
      "execution_count": null,
      "outputs": [
        {
          "output_type": "display_data",
          "data": {
            "text/plain": [
              "   MRUN    AGNO RBD COD_ENSE COD_GRADO LET_CUR GEN_ALU FEC_NAC_ALU COD_COM_ALU\n",
              "1  2849761 2005 618 110      1         A       1       19980825    4102       \n",
              "2  2849761 2006 618 110      2         A       1       19980825    4102       \n",
              "3  2849761 2007 618 110      3         A       1       19980825    4102       \n",
              "4  2849761 2008 618 110      4         A       1       19980825    4102       \n",
              "5  2849761 2008 657 110      4         A       1       19980825    4103       \n",
              "6  2849761 2009 614 110      5         B       1       19980825    4103       \n",
              "7  2849761 2009 657 110      5         A       1       19980825    4103       \n",
              "8  2849761 2010 614 110      6         B       1       19980825    4103       \n",
              "9  2849761 2011 614 110      7         B       1       19980825    4102       \n",
              "10 2849761 2012 614 110      7         B       1       19980825    4102       \n",
              "   SIT_FIN_R PROM_GRAL ASISTENCIA\n",
              "1  P         5,8       92        \n",
              "2  P         4,6       87        \n",
              "3  P         4,7       87        \n",
              "4  T         NA        NA        \n",
              "5  P         5,2       89        \n",
              "6  P         5,3       90        \n",
              "7  T         NA        NA        \n",
              "8  P         5,1       85        \n",
              "9  R         4,1       66        \n",
              "10 P         4,5       78        "
            ],
            "text/latex": "A data.frame: 10 × 12\n\\begin{tabular}{llllllllllll}\n MRUN & AGNO & RBD & COD\\_ENSE & COD\\_GRADO & LET\\_CUR & GEN\\_ALU & FEC\\_NAC\\_ALU & COD\\_COM\\_ALU & SIT\\_FIN\\_R & PROM\\_GRAL & ASISTENCIA\\\\\n <int> & <int> & <int> & <int> & <int> & <chr> & <int> & <chr> & <int> & <chr> & <chr> & <int>\\\\\n\\hline\n\t 2849761 & 2005 & 618 & 110 & 1 & A & 1 & 19980825 & 4102 & P & 5,8 & 92\\\\\n\t 2849761 & 2006 & 618 & 110 & 2 & A & 1 & 19980825 & 4102 & P & 4,6 & 87\\\\\n\t 2849761 & 2007 & 618 & 110 & 3 & A & 1 & 19980825 & 4102 & P & 4,7 & 87\\\\\n\t 2849761 & 2008 & 618 & 110 & 4 & A & 1 & 19980825 & 4102 & T & NA  & NA\\\\\n\t 2849761 & 2008 & 657 & 110 & 4 & A & 1 & 19980825 & 4103 & P & 5,2 & 89\\\\\n\t 2849761 & 2009 & 614 & 110 & 5 & B & 1 & 19980825 & 4103 & P & 5,3 & 90\\\\\n\t 2849761 & 2009 & 657 & 110 & 5 & A & 1 & 19980825 & 4103 & T & NA  & NA\\\\\n\t 2849761 & 2010 & 614 & 110 & 6 & B & 1 & 19980825 & 4103 & P & 5,1 & 85\\\\\n\t 2849761 & 2011 & 614 & 110 & 7 & B & 1 & 19980825 & 4102 & R & 4,1 & 66\\\\\n\t 2849761 & 2012 & 614 & 110 & 7 & B & 1 & 19980825 & 4102 & P & 4,5 & 78\\\\\n\\end{tabular}\n",
            "text/markdown": "\nA data.frame: 10 × 12\n\n| MRUN &lt;int&gt; | AGNO &lt;int&gt; | RBD &lt;int&gt; | COD_ENSE &lt;int&gt; | COD_GRADO &lt;int&gt; | LET_CUR &lt;chr&gt; | GEN_ALU &lt;int&gt; | FEC_NAC_ALU &lt;chr&gt; | COD_COM_ALU &lt;int&gt; | SIT_FIN_R &lt;chr&gt; | PROM_GRAL &lt;chr&gt; | ASISTENCIA &lt;int&gt; |\n|---|---|---|---|---|---|---|---|---|---|---|---|\n| 2849761 | 2005 | 618 | 110 | 1 | A | 1 | 19980825 | 4102 | P | 5,8 | 92 |\n| 2849761 | 2006 | 618 | 110 | 2 | A | 1 | 19980825 | 4102 | P | 4,6 | 87 |\n| 2849761 | 2007 | 618 | 110 | 3 | A | 1 | 19980825 | 4102 | P | 4,7 | 87 |\n| 2849761 | 2008 | 618 | 110 | 4 | A | 1 | 19980825 | 4102 | T | NA  | NA |\n| 2849761 | 2008 | 657 | 110 | 4 | A | 1 | 19980825 | 4103 | P | 5,2 | 89 |\n| 2849761 | 2009 | 614 | 110 | 5 | B | 1 | 19980825 | 4103 | P | 5,3 | 90 |\n| 2849761 | 2009 | 657 | 110 | 5 | A | 1 | 19980825 | 4103 | T | NA  | NA |\n| 2849761 | 2010 | 614 | 110 | 6 | B | 1 | 19980825 | 4103 | P | 5,1 | 85 |\n| 2849761 | 2011 | 614 | 110 | 7 | B | 1 | 19980825 | 4102 | R | 4,1 | 66 |\n| 2849761 | 2012 | 614 | 110 | 7 | B | 1 | 19980825 | 4102 | P | 4,5 | 78 |\n\n",
            "text/html": [
              "<table class=\"dataframe\">\n",
              "<caption>A data.frame: 10 × 12</caption>\n",
              "<thead>\n",
              "\t<tr><th scope=col>MRUN</th><th scope=col>AGNO</th><th scope=col>RBD</th><th scope=col>COD_ENSE</th><th scope=col>COD_GRADO</th><th scope=col>LET_CUR</th><th scope=col>GEN_ALU</th><th scope=col>FEC_NAC_ALU</th><th scope=col>COD_COM_ALU</th><th scope=col>SIT_FIN_R</th><th scope=col>PROM_GRAL</th><th scope=col>ASISTENCIA</th></tr>\n",
              "\t<tr><th scope=col>&lt;int&gt;</th><th scope=col>&lt;int&gt;</th><th scope=col>&lt;int&gt;</th><th scope=col>&lt;int&gt;</th><th scope=col>&lt;int&gt;</th><th scope=col>&lt;chr&gt;</th><th scope=col>&lt;int&gt;</th><th scope=col>&lt;chr&gt;</th><th scope=col>&lt;int&gt;</th><th scope=col>&lt;chr&gt;</th><th scope=col>&lt;chr&gt;</th><th scope=col>&lt;int&gt;</th></tr>\n",
              "</thead>\n",
              "<tbody>\n",
              "\t<tr><td>2849761</td><td>2005</td><td>618</td><td>110</td><td>1</td><td>A</td><td>1</td><td>19980825</td><td>4102</td><td>P</td><td>5,8</td><td>92</td></tr>\n",
              "\t<tr><td>2849761</td><td>2006</td><td>618</td><td>110</td><td>2</td><td>A</td><td>1</td><td>19980825</td><td>4102</td><td>P</td><td>4,6</td><td>87</td></tr>\n",
              "\t<tr><td>2849761</td><td>2007</td><td>618</td><td>110</td><td>3</td><td>A</td><td>1</td><td>19980825</td><td>4102</td><td>P</td><td>4,7</td><td>87</td></tr>\n",
              "\t<tr><td>2849761</td><td>2008</td><td>618</td><td>110</td><td>4</td><td>A</td><td>1</td><td>19980825</td><td>4102</td><td>T</td><td>NA </td><td>NA</td></tr>\n",
              "\t<tr><td>2849761</td><td>2008</td><td>657</td><td>110</td><td>4</td><td>A</td><td>1</td><td>19980825</td><td>4103</td><td>P</td><td>5,2</td><td>89</td></tr>\n",
              "\t<tr><td>2849761</td><td>2009</td><td>614</td><td>110</td><td>5</td><td>B</td><td>1</td><td>19980825</td><td>4103</td><td>P</td><td>5,3</td><td>90</td></tr>\n",
              "\t<tr><td>2849761</td><td>2009</td><td>657</td><td>110</td><td>5</td><td>A</td><td>1</td><td>19980825</td><td>4103</td><td>T</td><td>NA </td><td>NA</td></tr>\n",
              "\t<tr><td>2849761</td><td>2010</td><td>614</td><td>110</td><td>6</td><td>B</td><td>1</td><td>19980825</td><td>4103</td><td>P</td><td>5,1</td><td>85</td></tr>\n",
              "\t<tr><td>2849761</td><td>2011</td><td>614</td><td>110</td><td>7</td><td>B</td><td>1</td><td>19980825</td><td>4102</td><td>R</td><td>4,1</td><td>66</td></tr>\n",
              "\t<tr><td>2849761</td><td>2012</td><td>614</td><td>110</td><td>7</td><td>B</td><td>1</td><td>19980825</td><td>4102</td><td>P</td><td>4,5</td><td>78</td></tr>\n",
              "</tbody>\n",
              "</table>\n"
            ]
          },
          "metadata": {
            "tags": []
          }
        }
      ]
    },
    {
      "cell_type": "code",
      "metadata": {
        "colab": {
          "base_uri": "https://localhost:8080/",
          "height": 34
        },
        "id": "Ic8jdxgwN7lP",
        "outputId": "f49006a6-d80a-4bde-8f39-64d767413641"
      },
      "source": [
        "dbExecute(conn, \"\n",
        "UPDATE alumnos\n",
        "SET FEC_NAC_ALU=SUBSTRING(FEC_NAC_ALU,1,6)\")"
      ],
      "execution_count": null,
      "outputs": [
        {
          "output_type": "display_data",
          "data": {
            "text/plain": [
              "[1] 60011370"
            ],
            "text/latex": "60011370",
            "text/markdown": "60011370",
            "text/html": [
              "60011370"
            ]
          },
          "metadata": {}
        }
      ]
    },
    {
      "cell_type": "markdown",
      "metadata": {
        "id": "1PAGIvuD43-x"
      },
      "source": [
        "# Validez"
      ]
    },
    {
      "cell_type": "markdown",
      "metadata": {
        "id": "grLRPPZN5PL5"
      },
      "source": [
        "Lo mas importante es verificar la unicidad de lo que creamos que sea la llave"
      ]
    },
    {
      "cell_type": "code",
      "metadata": {
        "id": "BbbMfZ0X3I53",
        "colab": {
          "base_uri": "https://localhost:8080/",
          "height": 1000
        },
        "outputId": "9232ec2a-5ced-4eb4-ec9c-8dc983e62856"
      },
      "source": [
        "a<-dbGetQuery(conn,\"\n",
        "select \n",
        "MRUN,\n",
        "AGNO, \n",
        "count() as n\n",
        "from alumnos\n",
        "where SIT_FIN_R='P'\n",
        "group by MRUN, AGNO\n",
        "having n>1 \n",
        "order by n\n",
        "\")\n",
        "a"
      ],
      "execution_count": null,
      "outputs": [
        {
          "output_type": "display_data",
          "data": {
            "text/plain": [
              "      MRUN     AGNO n  \n",
              "1       951    2003 2  \n",
              "2      2592    2003 2  \n",
              "3      3200    2003 2  \n",
              "4      3871    2004 2  \n",
              "5      5141    2008 2  \n",
              "6      5166    2006 2  \n",
              "7      6160    2006 2  \n",
              "8      6160    2007 2  \n",
              "9      6167    2004 2  \n",
              "10     7221    2003 2  \n",
              "11     7476    2003 2  \n",
              "12     9507    2003 2  \n",
              "13     9507    2006 2  \n",
              "14     9920    2004 2  \n",
              "15    10651    2008 2  \n",
              "16    10916    2006 2  \n",
              "17    10916    2007 2  \n",
              "18    11101    2007 2  \n",
              "19    12617    2003 2  \n",
              "20    14636    2007 2  \n",
              "21    17543    2003 2  \n",
              "22    18179    2006 2  \n",
              "23    19544    2008 2  \n",
              "24    19967    2003 2  \n",
              "25    20940    2005 2  \n",
              "26    22498    2003 2  \n",
              "27    22498    2004 2  \n",
              "28    23263    2006 2  \n",
              "29    23293    2009 2  \n",
              "30    23661    2003 2  \n",
              "⋮     ⋮        ⋮    ⋮  \n",
              "24625 25037651 2006  32\n",
              "24626 25004100 2003  33\n",
              "24627 25001270 2004  36\n",
              "24628  6751256 2005  38\n",
              "24629 25003842 2004  38\n",
              "24630 25001756 2005  39\n",
              "24631 16025272 2006  40\n",
              "24632  6751256 2004  42\n",
              "24633 25037651 2005  42\n",
              "24634 14251640 2008  43\n",
              "24635 25004218 2005  43\n",
              "24636   442624 2003  45\n",
              "24637 25001270 2003  46\n",
              "24638 25011365 2004  46\n",
              "24639 25037651 2004  46\n",
              "24640 25001756 2004  52\n",
              "24641 25001756 2003  56\n",
              "24642  6751256 2003  57\n",
              "24643 25011365 2003  69\n",
              "24644 25004218 2003  71\n",
              "24645 25037651 2003  73\n",
              "24646 14251640 2007  76\n",
              "24647 25004218 2004  76\n",
              "24648 16025272 2005  80\n",
              "24649 14251640 2006  88\n",
              "24650 16025272 2003 110\n",
              "24651 16025272 2004 110\n",
              "24652 14251640 2005 122\n",
              "24653 14251640 2003 186\n",
              "24654 14251640 2004 195"
            ],
            "text/latex": "A data.frame: 24654 × 3\n\\begin{tabular}{lll}\n MRUN & AGNO & n\\\\\n <int> & <int> & <int>\\\\\n\\hline\n\t   951 & 2003 & 2\\\\\n\t  2592 & 2003 & 2\\\\\n\t  3200 & 2003 & 2\\\\\n\t  3871 & 2004 & 2\\\\\n\t  5141 & 2008 & 2\\\\\n\t  5166 & 2006 & 2\\\\\n\t  6160 & 2006 & 2\\\\\n\t  6160 & 2007 & 2\\\\\n\t  6167 & 2004 & 2\\\\\n\t  7221 & 2003 & 2\\\\\n\t  7476 & 2003 & 2\\\\\n\t  9507 & 2003 & 2\\\\\n\t  9507 & 2006 & 2\\\\\n\t  9920 & 2004 & 2\\\\\n\t 10651 & 2008 & 2\\\\\n\t 10916 & 2006 & 2\\\\\n\t 10916 & 2007 & 2\\\\\n\t 11101 & 2007 & 2\\\\\n\t 12617 & 2003 & 2\\\\\n\t 14636 & 2007 & 2\\\\\n\t 17543 & 2003 & 2\\\\\n\t 18179 & 2006 & 2\\\\\n\t 19544 & 2008 & 2\\\\\n\t 19967 & 2003 & 2\\\\\n\t 20940 & 2005 & 2\\\\\n\t 22498 & 2003 & 2\\\\\n\t 22498 & 2004 & 2\\\\\n\t 23263 & 2006 & 2\\\\\n\t 23293 & 2009 & 2\\\\\n\t 23661 & 2003 & 2\\\\\n\t ⋮ & ⋮ & ⋮\\\\\n\t 25037651 & 2006 &  32\\\\\n\t 25004100 & 2003 &  33\\\\\n\t 25001270 & 2004 &  36\\\\\n\t  6751256 & 2005 &  38\\\\\n\t 25003842 & 2004 &  38\\\\\n\t 25001756 & 2005 &  39\\\\\n\t 16025272 & 2006 &  40\\\\\n\t  6751256 & 2004 &  42\\\\\n\t 25037651 & 2005 &  42\\\\\n\t 14251640 & 2008 &  43\\\\\n\t 25004218 & 2005 &  43\\\\\n\t   442624 & 2003 &  45\\\\\n\t 25001270 & 2003 &  46\\\\\n\t 25011365 & 2004 &  46\\\\\n\t 25037651 & 2004 &  46\\\\\n\t 25001756 & 2004 &  52\\\\\n\t 25001756 & 2003 &  56\\\\\n\t  6751256 & 2003 &  57\\\\\n\t 25011365 & 2003 &  69\\\\\n\t 25004218 & 2003 &  71\\\\\n\t 25037651 & 2003 &  73\\\\\n\t 14251640 & 2007 &  76\\\\\n\t 25004218 & 2004 &  76\\\\\n\t 16025272 & 2005 &  80\\\\\n\t 14251640 & 2006 &  88\\\\\n\t 16025272 & 2003 & 110\\\\\n\t 16025272 & 2004 & 110\\\\\n\t 14251640 & 2005 & 122\\\\\n\t 14251640 & 2003 & 186\\\\\n\t 14251640 & 2004 & 195\\\\\n\\end{tabular}\n",
            "text/markdown": "\nA data.frame: 24654 × 3\n\n| MRUN &lt;int&gt; | AGNO &lt;int&gt; | n &lt;int&gt; |\n|---|---|---|\n|   951 | 2003 | 2 |\n|  2592 | 2003 | 2 |\n|  3200 | 2003 | 2 |\n|  3871 | 2004 | 2 |\n|  5141 | 2008 | 2 |\n|  5166 | 2006 | 2 |\n|  6160 | 2006 | 2 |\n|  6160 | 2007 | 2 |\n|  6167 | 2004 | 2 |\n|  7221 | 2003 | 2 |\n|  7476 | 2003 | 2 |\n|  9507 | 2003 | 2 |\n|  9507 | 2006 | 2 |\n|  9920 | 2004 | 2 |\n| 10651 | 2008 | 2 |\n| 10916 | 2006 | 2 |\n| 10916 | 2007 | 2 |\n| 11101 | 2007 | 2 |\n| 12617 | 2003 | 2 |\n| 14636 | 2007 | 2 |\n| 17543 | 2003 | 2 |\n| 18179 | 2006 | 2 |\n| 19544 | 2008 | 2 |\n| 19967 | 2003 | 2 |\n| 20940 | 2005 | 2 |\n| 22498 | 2003 | 2 |\n| 22498 | 2004 | 2 |\n| 23263 | 2006 | 2 |\n| 23293 | 2009 | 2 |\n| 23661 | 2003 | 2 |\n| ⋮ | ⋮ | ⋮ |\n| 25037651 | 2006 |  32 |\n| 25004100 | 2003 |  33 |\n| 25001270 | 2004 |  36 |\n|  6751256 | 2005 |  38 |\n| 25003842 | 2004 |  38 |\n| 25001756 | 2005 |  39 |\n| 16025272 | 2006 |  40 |\n|  6751256 | 2004 |  42 |\n| 25037651 | 2005 |  42 |\n| 14251640 | 2008 |  43 |\n| 25004218 | 2005 |  43 |\n|   442624 | 2003 |  45 |\n| 25001270 | 2003 |  46 |\n| 25011365 | 2004 |  46 |\n| 25037651 | 2004 |  46 |\n| 25001756 | 2004 |  52 |\n| 25001756 | 2003 |  56 |\n|  6751256 | 2003 |  57 |\n| 25011365 | 2003 |  69 |\n| 25004218 | 2003 |  71 |\n| 25037651 | 2003 |  73 |\n| 14251640 | 2007 |  76 |\n| 25004218 | 2004 |  76 |\n| 16025272 | 2005 |  80 |\n| 14251640 | 2006 |  88 |\n| 16025272 | 2003 | 110 |\n| 16025272 | 2004 | 110 |\n| 14251640 | 2005 | 122 |\n| 14251640 | 2003 | 186 |\n| 14251640 | 2004 | 195 |\n\n",
            "text/html": [
              "<table class=\"dataframe\">\n",
              "<caption>A data.frame: 24654 × 3</caption>\n",
              "<thead>\n",
              "\t<tr><th scope=col>MRUN</th><th scope=col>AGNO</th><th scope=col>n</th></tr>\n",
              "\t<tr><th scope=col>&lt;int&gt;</th><th scope=col>&lt;int&gt;</th><th scope=col>&lt;int&gt;</th></tr>\n",
              "</thead>\n",
              "<tbody>\n",
              "\t<tr><td>  951</td><td>2003</td><td>2</td></tr>\n",
              "\t<tr><td> 2592</td><td>2003</td><td>2</td></tr>\n",
              "\t<tr><td> 3200</td><td>2003</td><td>2</td></tr>\n",
              "\t<tr><td> 3871</td><td>2004</td><td>2</td></tr>\n",
              "\t<tr><td> 5141</td><td>2008</td><td>2</td></tr>\n",
              "\t<tr><td> 5166</td><td>2006</td><td>2</td></tr>\n",
              "\t<tr><td> 6160</td><td>2006</td><td>2</td></tr>\n",
              "\t<tr><td> 6160</td><td>2007</td><td>2</td></tr>\n",
              "\t<tr><td> 6167</td><td>2004</td><td>2</td></tr>\n",
              "\t<tr><td> 7221</td><td>2003</td><td>2</td></tr>\n",
              "\t<tr><td> 7476</td><td>2003</td><td>2</td></tr>\n",
              "\t<tr><td> 9507</td><td>2003</td><td>2</td></tr>\n",
              "\t<tr><td> 9507</td><td>2006</td><td>2</td></tr>\n",
              "\t<tr><td> 9920</td><td>2004</td><td>2</td></tr>\n",
              "\t<tr><td>10651</td><td>2008</td><td>2</td></tr>\n",
              "\t<tr><td>10916</td><td>2006</td><td>2</td></tr>\n",
              "\t<tr><td>10916</td><td>2007</td><td>2</td></tr>\n",
              "\t<tr><td>11101</td><td>2007</td><td>2</td></tr>\n",
              "\t<tr><td>12617</td><td>2003</td><td>2</td></tr>\n",
              "\t<tr><td>14636</td><td>2007</td><td>2</td></tr>\n",
              "\t<tr><td>17543</td><td>2003</td><td>2</td></tr>\n",
              "\t<tr><td>18179</td><td>2006</td><td>2</td></tr>\n",
              "\t<tr><td>19544</td><td>2008</td><td>2</td></tr>\n",
              "\t<tr><td>19967</td><td>2003</td><td>2</td></tr>\n",
              "\t<tr><td>20940</td><td>2005</td><td>2</td></tr>\n",
              "\t<tr><td>22498</td><td>2003</td><td>2</td></tr>\n",
              "\t<tr><td>22498</td><td>2004</td><td>2</td></tr>\n",
              "\t<tr><td>23263</td><td>2006</td><td>2</td></tr>\n",
              "\t<tr><td>23293</td><td>2009</td><td>2</td></tr>\n",
              "\t<tr><td>23661</td><td>2003</td><td>2</td></tr>\n",
              "\t<tr><td>⋮</td><td>⋮</td><td>⋮</td></tr>\n",
              "\t<tr><td>25037651</td><td>2006</td><td> 32</td></tr>\n",
              "\t<tr><td>25004100</td><td>2003</td><td> 33</td></tr>\n",
              "\t<tr><td>25001270</td><td>2004</td><td> 36</td></tr>\n",
              "\t<tr><td> 6751256</td><td>2005</td><td> 38</td></tr>\n",
              "\t<tr><td>25003842</td><td>2004</td><td> 38</td></tr>\n",
              "\t<tr><td>25001756</td><td>2005</td><td> 39</td></tr>\n",
              "\t<tr><td>16025272</td><td>2006</td><td> 40</td></tr>\n",
              "\t<tr><td> 6751256</td><td>2004</td><td> 42</td></tr>\n",
              "\t<tr><td>25037651</td><td>2005</td><td> 42</td></tr>\n",
              "\t<tr><td>14251640</td><td>2008</td><td> 43</td></tr>\n",
              "\t<tr><td>25004218</td><td>2005</td><td> 43</td></tr>\n",
              "\t<tr><td>  442624</td><td>2003</td><td> 45</td></tr>\n",
              "\t<tr><td>25001270</td><td>2003</td><td> 46</td></tr>\n",
              "\t<tr><td>25011365</td><td>2004</td><td> 46</td></tr>\n",
              "\t<tr><td>25037651</td><td>2004</td><td> 46</td></tr>\n",
              "\t<tr><td>25001756</td><td>2004</td><td> 52</td></tr>\n",
              "\t<tr><td>25001756</td><td>2003</td><td> 56</td></tr>\n",
              "\t<tr><td> 6751256</td><td>2003</td><td> 57</td></tr>\n",
              "\t<tr><td>25011365</td><td>2003</td><td> 69</td></tr>\n",
              "\t<tr><td>25004218</td><td>2003</td><td> 71</td></tr>\n",
              "\t<tr><td>25037651</td><td>2003</td><td> 73</td></tr>\n",
              "\t<tr><td>14251640</td><td>2007</td><td> 76</td></tr>\n",
              "\t<tr><td>25004218</td><td>2004</td><td> 76</td></tr>\n",
              "\t<tr><td>16025272</td><td>2005</td><td> 80</td></tr>\n",
              "\t<tr><td>14251640</td><td>2006</td><td> 88</td></tr>\n",
              "\t<tr><td>16025272</td><td>2003</td><td>110</td></tr>\n",
              "\t<tr><td>16025272</td><td>2004</td><td>110</td></tr>\n",
              "\t<tr><td>14251640</td><td>2005</td><td>122</td></tr>\n",
              "\t<tr><td>14251640</td><td>2003</td><td>186</td></tr>\n",
              "\t<tr><td>14251640</td><td>2004</td><td>195</td></tr>\n",
              "</tbody>\n",
              "</table>\n"
            ]
          },
          "metadata": {}
        }
      ]
    },
    {
      "cell_type": "code",
      "metadata": {
        "colab": {
          "base_uri": "https://localhost:8080/",
          "height": 466
        },
        "id": "4w0m5q_UYIqG",
        "outputId": "0b3cf605-7b21-4d93-8775-cf99e2ad0713"
      },
      "source": [
        "dbGetQuery(conn,\"\n",
        "select *\n",
        "from alumnos\n",
        "where MRUN=951\n",
        "limit 100\")"
      ],
      "execution_count": null,
      "outputs": [
        {
          "output_type": "display_data",
          "data": {
            "text/plain": [
              "   MRUN AGNO RBD  COD_ENSE COD_GRADO LET_CUR GEN_ALU FEC_NAC_ALU COD_COM_ALU\n",
              "1  951  2003 2909 110      2         A       1       19951030    7309       \n",
              "2  951  2003 6547 110      2         A       1       19941120    9102       \n",
              "3  951  2004 2909 110      3         A       1       19951030    7309       \n",
              "4  951  2005 2909 110      4         A       1       19951030    7309       \n",
              "5  951  2006 2909 110      5         A       1       19951030    7309       \n",
              "6  951  2007 2909 110      6         A       1       19951030    7309       \n",
              "7  951  2008 2909 110      7         A       1       19951030    7309       \n",
              "8  951  2009 2782 110      8         A       1       19951030    7309       \n",
              "9  951  2010 2786 310      1         A       1       19951030    7309       \n",
              "10 951  2011 2786 310      2         A       1       19951030    7309       \n",
              "11 951  2012 2786 310      3         A       1       19951030    7309       \n",
              "12 951  2013 2786 310      4         A       1       19951030    7309       \n",
              "   SIT_FIN_R PROM_GRAL ASISTENCIA\n",
              "1  P         6.9       89        \n",
              "2  P         4.7       75        \n",
              "3  P         6.8       91        \n",
              "4  P         6.8       91        \n",
              "5  P         6.6       91        \n",
              "6  P         6.5       92        \n",
              "7  P         6.7       94        \n",
              "8  P         6         99        \n",
              "9  P         5.4       96        \n",
              "10 P         5.5       97        \n",
              "11 P         5.9       94        \n",
              "12 P         6.3       97        "
            ],
            "text/latex": "A data.frame: 12 × 12\n\\begin{tabular}{llllllllllll}\n MRUN & AGNO & RBD & COD\\_ENSE & COD\\_GRADO & LET\\_CUR & GEN\\_ALU & FEC\\_NAC\\_ALU & COD\\_COM\\_ALU & SIT\\_FIN\\_R & PROM\\_GRAL & ASISTENCIA\\\\\n <int> & <int> & <int> & <int> & <int> & <chr> & <int> & <int> & <int> & <chr> & <chr> & <int>\\\\\n\\hline\n\t 951 & 2003 & 2909 & 110 & 2 & A & 1 & 19951030 & 7309 & P & 6.9 & 89\\\\\n\t 951 & 2003 & 6547 & 110 & 2 & A & 1 & 19941120 & 9102 & P & 4.7 & 75\\\\\n\t 951 & 2004 & 2909 & 110 & 3 & A & 1 & 19951030 & 7309 & P & 6.8 & 91\\\\\n\t 951 & 2005 & 2909 & 110 & 4 & A & 1 & 19951030 & 7309 & P & 6.8 & 91\\\\\n\t 951 & 2006 & 2909 & 110 & 5 & A & 1 & 19951030 & 7309 & P & 6.6 & 91\\\\\n\t 951 & 2007 & 2909 & 110 & 6 & A & 1 & 19951030 & 7309 & P & 6.5 & 92\\\\\n\t 951 & 2008 & 2909 & 110 & 7 & A & 1 & 19951030 & 7309 & P & 6.7 & 94\\\\\n\t 951 & 2009 & 2782 & 110 & 8 & A & 1 & 19951030 & 7309 & P & 6   & 99\\\\\n\t 951 & 2010 & 2786 & 310 & 1 & A & 1 & 19951030 & 7309 & P & 5.4 & 96\\\\\n\t 951 & 2011 & 2786 & 310 & 2 & A & 1 & 19951030 & 7309 & P & 5.5 & 97\\\\\n\t 951 & 2012 & 2786 & 310 & 3 & A & 1 & 19951030 & 7309 & P & 5.9 & 94\\\\\n\t 951 & 2013 & 2786 & 310 & 4 & A & 1 & 19951030 & 7309 & P & 6.3 & 97\\\\\n\\end{tabular}\n",
            "text/markdown": "\nA data.frame: 12 × 12\n\n| MRUN &lt;int&gt; | AGNO &lt;int&gt; | RBD &lt;int&gt; | COD_ENSE &lt;int&gt; | COD_GRADO &lt;int&gt; | LET_CUR &lt;chr&gt; | GEN_ALU &lt;int&gt; | FEC_NAC_ALU &lt;int&gt; | COD_COM_ALU &lt;int&gt; | SIT_FIN_R &lt;chr&gt; | PROM_GRAL &lt;chr&gt; | ASISTENCIA &lt;int&gt; |\n|---|---|---|---|---|---|---|---|---|---|---|---|\n| 951 | 2003 | 2909 | 110 | 2 | A | 1 | 19951030 | 7309 | P | 6.9 | 89 |\n| 951 | 2003 | 6547 | 110 | 2 | A | 1 | 19941120 | 9102 | P | 4.7 | 75 |\n| 951 | 2004 | 2909 | 110 | 3 | A | 1 | 19951030 | 7309 | P | 6.8 | 91 |\n| 951 | 2005 | 2909 | 110 | 4 | A | 1 | 19951030 | 7309 | P | 6.8 | 91 |\n| 951 | 2006 | 2909 | 110 | 5 | A | 1 | 19951030 | 7309 | P | 6.6 | 91 |\n| 951 | 2007 | 2909 | 110 | 6 | A | 1 | 19951030 | 7309 | P | 6.5 | 92 |\n| 951 | 2008 | 2909 | 110 | 7 | A | 1 | 19951030 | 7309 | P | 6.7 | 94 |\n| 951 | 2009 | 2782 | 110 | 8 | A | 1 | 19951030 | 7309 | P | 6   | 99 |\n| 951 | 2010 | 2786 | 310 | 1 | A | 1 | 19951030 | 7309 | P | 5.4 | 96 |\n| 951 | 2011 | 2786 | 310 | 2 | A | 1 | 19951030 | 7309 | P | 5.5 | 97 |\n| 951 | 2012 | 2786 | 310 | 3 | A | 1 | 19951030 | 7309 | P | 5.9 | 94 |\n| 951 | 2013 | 2786 | 310 | 4 | A | 1 | 19951030 | 7309 | P | 6.3 | 97 |\n\n",
            "text/html": [
              "<table class=\"dataframe\">\n",
              "<caption>A data.frame: 12 × 12</caption>\n",
              "<thead>\n",
              "\t<tr><th scope=col>MRUN</th><th scope=col>AGNO</th><th scope=col>RBD</th><th scope=col>COD_ENSE</th><th scope=col>COD_GRADO</th><th scope=col>LET_CUR</th><th scope=col>GEN_ALU</th><th scope=col>FEC_NAC_ALU</th><th scope=col>COD_COM_ALU</th><th scope=col>SIT_FIN_R</th><th scope=col>PROM_GRAL</th><th scope=col>ASISTENCIA</th></tr>\n",
              "\t<tr><th scope=col>&lt;int&gt;</th><th scope=col>&lt;int&gt;</th><th scope=col>&lt;int&gt;</th><th scope=col>&lt;int&gt;</th><th scope=col>&lt;int&gt;</th><th scope=col>&lt;chr&gt;</th><th scope=col>&lt;int&gt;</th><th scope=col>&lt;int&gt;</th><th scope=col>&lt;int&gt;</th><th scope=col>&lt;chr&gt;</th><th scope=col>&lt;chr&gt;</th><th scope=col>&lt;int&gt;</th></tr>\n",
              "</thead>\n",
              "<tbody>\n",
              "\t<tr><td>951</td><td>2003</td><td>2909</td><td>110</td><td>2</td><td>A</td><td>1</td><td>19951030</td><td>7309</td><td>P</td><td>6.9</td><td>89</td></tr>\n",
              "\t<tr><td>951</td><td>2003</td><td>6547</td><td>110</td><td>2</td><td>A</td><td>1</td><td>19941120</td><td>9102</td><td>P</td><td>4.7</td><td>75</td></tr>\n",
              "\t<tr><td>951</td><td>2004</td><td>2909</td><td>110</td><td>3</td><td>A</td><td>1</td><td>19951030</td><td>7309</td><td>P</td><td>6.8</td><td>91</td></tr>\n",
              "\t<tr><td>951</td><td>2005</td><td>2909</td><td>110</td><td>4</td><td>A</td><td>1</td><td>19951030</td><td>7309</td><td>P</td><td>6.8</td><td>91</td></tr>\n",
              "\t<tr><td>951</td><td>2006</td><td>2909</td><td>110</td><td>5</td><td>A</td><td>1</td><td>19951030</td><td>7309</td><td>P</td><td>6.6</td><td>91</td></tr>\n",
              "\t<tr><td>951</td><td>2007</td><td>2909</td><td>110</td><td>6</td><td>A</td><td>1</td><td>19951030</td><td>7309</td><td>P</td><td>6.5</td><td>92</td></tr>\n",
              "\t<tr><td>951</td><td>2008</td><td>2909</td><td>110</td><td>7</td><td>A</td><td>1</td><td>19951030</td><td>7309</td><td>P</td><td>6.7</td><td>94</td></tr>\n",
              "\t<tr><td>951</td><td>2009</td><td>2782</td><td>110</td><td>8</td><td>A</td><td>1</td><td>19951030</td><td>7309</td><td>P</td><td>6  </td><td>99</td></tr>\n",
              "\t<tr><td>951</td><td>2010</td><td>2786</td><td>310</td><td>1</td><td>A</td><td>1</td><td>19951030</td><td>7309</td><td>P</td><td>5.4</td><td>96</td></tr>\n",
              "\t<tr><td>951</td><td>2011</td><td>2786</td><td>310</td><td>2</td><td>A</td><td>1</td><td>19951030</td><td>7309</td><td>P</td><td>5.5</td><td>97</td></tr>\n",
              "\t<tr><td>951</td><td>2012</td><td>2786</td><td>310</td><td>3</td><td>A</td><td>1</td><td>19951030</td><td>7309</td><td>P</td><td>5.9</td><td>94</td></tr>\n",
              "\t<tr><td>951</td><td>2013</td><td>2786</td><td>310</td><td>4</td><td>A</td><td>1</td><td>19951030</td><td>7309</td><td>P</td><td>6.3</td><td>97</td></tr>\n",
              "</tbody>\n",
              "</table>\n"
            ]
          },
          "metadata": {}
        }
      ]
    },
    {
      "cell_type": "code",
      "metadata": {
        "colab": {
          "base_uri": "https://localhost:8080/",
          "height": 1000
        },
        "id": "FO3ubKdJ2dE8",
        "outputId": "b3c88849-b23d-416e-d6d2-d3f43c8d5e99"
      },
      "source": [
        "a %>% filter(n==3)"
      ],
      "execution_count": null,
      "outputs": [
        {
          "output_type": "display_data",
          "data": {
            "text/plain": [
              "    MRUN     AGNO n\n",
              "1    323401  2005 3\n",
              "2   1336322  2006 3\n",
              "3   1336322  2007 3\n",
              "4   1386345  2003 3\n",
              "5   1410362  2004 3\n",
              "6   1611902  2004 3\n",
              "7   2137871  2004 3\n",
              "8   2340611  2003 3\n",
              "9   2340611  2005 3\n",
              "10  2340611  2007 3\n",
              "11  2660851  2004 3\n",
              "12  2664682  2003 3\n",
              "13  3113902  2003 3\n",
              "14  3138123  2004 3\n",
              "15  3402085  2003 3\n",
              "16  3506552  2004 3\n",
              "17  3585467  2003 3\n",
              "18  3693497  2003 3\n",
              "19  3723454  2003 3\n",
              "20  3723454  2004 3\n",
              "21  3740350  2007 3\n",
              "22  3828759  2004 3\n",
              "23  3828759  2006 3\n",
              "24  3828759  2007 3\n",
              "25  4181687  2005 3\n",
              "26  4472775  2003 3\n",
              "27  4614785  2003 3\n",
              "28  4638856  2003 3\n",
              "29  4974325  2003 3\n",
              "30  5187144  2003 3\n",
              "⋮   ⋮        ⋮    ⋮\n",
              "148 23858837 2006 3\n",
              "149 24026691 2003 3\n",
              "150 24131695 2003 3\n",
              "151 24459293 2003 3\n",
              "152 24475121 2003 3\n",
              "153 24658675 2003 3\n",
              "154 24766990 2004 3\n",
              "155 24807888 2003 3\n",
              "156 25008950 2005 3\n",
              "157 25009144 2005 3\n",
              "158 25009144 2008 3\n",
              "159 25009623 2003 3\n",
              "160 25009634 2003 3\n",
              "161 25009634 2005 3\n",
              "162 25009783 2004 3\n",
              "163 25010099 2006 3\n",
              "164 25010099 2007 3\n",
              "165 25010099 2008 3\n",
              "166 25010160 2006 3\n",
              "167 25010461 2004 3\n",
              "168 25010823 2003 3\n",
              "169 25011070 2003 3\n",
              "170 25011070 2005 3\n",
              "171 25011097 2006 3\n",
              "172 25011097 2007 3\n",
              "173 25011498 2004 3\n",
              "174 25011565 2005 3\n",
              "175 25011609 2004 3\n",
              "176 25011783 2004 3\n",
              "177 25011955 2003 3"
            ],
            "text/latex": "A data.frame: 177 × 3\n\\begin{tabular}{lll}\n MRUN & AGNO & n\\\\\n <int> & <int> & <int>\\\\\n\\hline\n\t  323401 & 2005 & 3\\\\\n\t 1336322 & 2006 & 3\\\\\n\t 1336322 & 2007 & 3\\\\\n\t 1386345 & 2003 & 3\\\\\n\t 1410362 & 2004 & 3\\\\\n\t 1611902 & 2004 & 3\\\\\n\t 2137871 & 2004 & 3\\\\\n\t 2340611 & 2003 & 3\\\\\n\t 2340611 & 2005 & 3\\\\\n\t 2340611 & 2007 & 3\\\\\n\t 2660851 & 2004 & 3\\\\\n\t 2664682 & 2003 & 3\\\\\n\t 3113902 & 2003 & 3\\\\\n\t 3138123 & 2004 & 3\\\\\n\t 3402085 & 2003 & 3\\\\\n\t 3506552 & 2004 & 3\\\\\n\t 3585467 & 2003 & 3\\\\\n\t 3693497 & 2003 & 3\\\\\n\t 3723454 & 2003 & 3\\\\\n\t 3723454 & 2004 & 3\\\\\n\t 3740350 & 2007 & 3\\\\\n\t 3828759 & 2004 & 3\\\\\n\t 3828759 & 2006 & 3\\\\\n\t 3828759 & 2007 & 3\\\\\n\t 4181687 & 2005 & 3\\\\\n\t 4472775 & 2003 & 3\\\\\n\t 4614785 & 2003 & 3\\\\\n\t 4638856 & 2003 & 3\\\\\n\t 4974325 & 2003 & 3\\\\\n\t 5187144 & 2003 & 3\\\\\n\t ⋮ & ⋮ & ⋮\\\\\n\t 23858837 & 2006 & 3\\\\\n\t 24026691 & 2003 & 3\\\\\n\t 24131695 & 2003 & 3\\\\\n\t 24459293 & 2003 & 3\\\\\n\t 24475121 & 2003 & 3\\\\\n\t 24658675 & 2003 & 3\\\\\n\t 24766990 & 2004 & 3\\\\\n\t 24807888 & 2003 & 3\\\\\n\t 25008950 & 2005 & 3\\\\\n\t 25009144 & 2005 & 3\\\\\n\t 25009144 & 2008 & 3\\\\\n\t 25009623 & 2003 & 3\\\\\n\t 25009634 & 2003 & 3\\\\\n\t 25009634 & 2005 & 3\\\\\n\t 25009783 & 2004 & 3\\\\\n\t 25010099 & 2006 & 3\\\\\n\t 25010099 & 2007 & 3\\\\\n\t 25010099 & 2008 & 3\\\\\n\t 25010160 & 2006 & 3\\\\\n\t 25010461 & 2004 & 3\\\\\n\t 25010823 & 2003 & 3\\\\\n\t 25011070 & 2003 & 3\\\\\n\t 25011070 & 2005 & 3\\\\\n\t 25011097 & 2006 & 3\\\\\n\t 25011097 & 2007 & 3\\\\\n\t 25011498 & 2004 & 3\\\\\n\t 25011565 & 2005 & 3\\\\\n\t 25011609 & 2004 & 3\\\\\n\t 25011783 & 2004 & 3\\\\\n\t 25011955 & 2003 & 3\\\\\n\\end{tabular}\n",
            "text/markdown": "\nA data.frame: 177 × 3\n\n| MRUN &lt;int&gt; | AGNO &lt;int&gt; | n &lt;int&gt; |\n|---|---|---|\n|  323401 | 2005 | 3 |\n| 1336322 | 2006 | 3 |\n| 1336322 | 2007 | 3 |\n| 1386345 | 2003 | 3 |\n| 1410362 | 2004 | 3 |\n| 1611902 | 2004 | 3 |\n| 2137871 | 2004 | 3 |\n| 2340611 | 2003 | 3 |\n| 2340611 | 2005 | 3 |\n| 2340611 | 2007 | 3 |\n| 2660851 | 2004 | 3 |\n| 2664682 | 2003 | 3 |\n| 3113902 | 2003 | 3 |\n| 3138123 | 2004 | 3 |\n| 3402085 | 2003 | 3 |\n| 3506552 | 2004 | 3 |\n| 3585467 | 2003 | 3 |\n| 3693497 | 2003 | 3 |\n| 3723454 | 2003 | 3 |\n| 3723454 | 2004 | 3 |\n| 3740350 | 2007 | 3 |\n| 3828759 | 2004 | 3 |\n| 3828759 | 2006 | 3 |\n| 3828759 | 2007 | 3 |\n| 4181687 | 2005 | 3 |\n| 4472775 | 2003 | 3 |\n| 4614785 | 2003 | 3 |\n| 4638856 | 2003 | 3 |\n| 4974325 | 2003 | 3 |\n| 5187144 | 2003 | 3 |\n| ⋮ | ⋮ | ⋮ |\n| 23858837 | 2006 | 3 |\n| 24026691 | 2003 | 3 |\n| 24131695 | 2003 | 3 |\n| 24459293 | 2003 | 3 |\n| 24475121 | 2003 | 3 |\n| 24658675 | 2003 | 3 |\n| 24766990 | 2004 | 3 |\n| 24807888 | 2003 | 3 |\n| 25008950 | 2005 | 3 |\n| 25009144 | 2005 | 3 |\n| 25009144 | 2008 | 3 |\n| 25009623 | 2003 | 3 |\n| 25009634 | 2003 | 3 |\n| 25009634 | 2005 | 3 |\n| 25009783 | 2004 | 3 |\n| 25010099 | 2006 | 3 |\n| 25010099 | 2007 | 3 |\n| 25010099 | 2008 | 3 |\n| 25010160 | 2006 | 3 |\n| 25010461 | 2004 | 3 |\n| 25010823 | 2003 | 3 |\n| 25011070 | 2003 | 3 |\n| 25011070 | 2005 | 3 |\n| 25011097 | 2006 | 3 |\n| 25011097 | 2007 | 3 |\n| 25011498 | 2004 | 3 |\n| 25011565 | 2005 | 3 |\n| 25011609 | 2004 | 3 |\n| 25011783 | 2004 | 3 |\n| 25011955 | 2003 | 3 |\n\n",
            "text/html": [
              "<table class=\"dataframe\">\n",
              "<caption>A data.frame: 177 × 3</caption>\n",
              "<thead>\n",
              "\t<tr><th scope=col>MRUN</th><th scope=col>AGNO</th><th scope=col>n</th></tr>\n",
              "\t<tr><th scope=col>&lt;int&gt;</th><th scope=col>&lt;int&gt;</th><th scope=col>&lt;int&gt;</th></tr>\n",
              "</thead>\n",
              "<tbody>\n",
              "\t<tr><td> 323401</td><td>2005</td><td>3</td></tr>\n",
              "\t<tr><td>1336322</td><td>2006</td><td>3</td></tr>\n",
              "\t<tr><td>1336322</td><td>2007</td><td>3</td></tr>\n",
              "\t<tr><td>1386345</td><td>2003</td><td>3</td></tr>\n",
              "\t<tr><td>1410362</td><td>2004</td><td>3</td></tr>\n",
              "\t<tr><td>1611902</td><td>2004</td><td>3</td></tr>\n",
              "\t<tr><td>2137871</td><td>2004</td><td>3</td></tr>\n",
              "\t<tr><td>2340611</td><td>2003</td><td>3</td></tr>\n",
              "\t<tr><td>2340611</td><td>2005</td><td>3</td></tr>\n",
              "\t<tr><td>2340611</td><td>2007</td><td>3</td></tr>\n",
              "\t<tr><td>2660851</td><td>2004</td><td>3</td></tr>\n",
              "\t<tr><td>2664682</td><td>2003</td><td>3</td></tr>\n",
              "\t<tr><td>3113902</td><td>2003</td><td>3</td></tr>\n",
              "\t<tr><td>3138123</td><td>2004</td><td>3</td></tr>\n",
              "\t<tr><td>3402085</td><td>2003</td><td>3</td></tr>\n",
              "\t<tr><td>3506552</td><td>2004</td><td>3</td></tr>\n",
              "\t<tr><td>3585467</td><td>2003</td><td>3</td></tr>\n",
              "\t<tr><td>3693497</td><td>2003</td><td>3</td></tr>\n",
              "\t<tr><td>3723454</td><td>2003</td><td>3</td></tr>\n",
              "\t<tr><td>3723454</td><td>2004</td><td>3</td></tr>\n",
              "\t<tr><td>3740350</td><td>2007</td><td>3</td></tr>\n",
              "\t<tr><td>3828759</td><td>2004</td><td>3</td></tr>\n",
              "\t<tr><td>3828759</td><td>2006</td><td>3</td></tr>\n",
              "\t<tr><td>3828759</td><td>2007</td><td>3</td></tr>\n",
              "\t<tr><td>4181687</td><td>2005</td><td>3</td></tr>\n",
              "\t<tr><td>4472775</td><td>2003</td><td>3</td></tr>\n",
              "\t<tr><td>4614785</td><td>2003</td><td>3</td></tr>\n",
              "\t<tr><td>4638856</td><td>2003</td><td>3</td></tr>\n",
              "\t<tr><td>4974325</td><td>2003</td><td>3</td></tr>\n",
              "\t<tr><td>5187144</td><td>2003</td><td>3</td></tr>\n",
              "\t<tr><td>⋮</td><td>⋮</td><td>⋮</td></tr>\n",
              "\t<tr><td>23858837</td><td>2006</td><td>3</td></tr>\n",
              "\t<tr><td>24026691</td><td>2003</td><td>3</td></tr>\n",
              "\t<tr><td>24131695</td><td>2003</td><td>3</td></tr>\n",
              "\t<tr><td>24459293</td><td>2003</td><td>3</td></tr>\n",
              "\t<tr><td>24475121</td><td>2003</td><td>3</td></tr>\n",
              "\t<tr><td>24658675</td><td>2003</td><td>3</td></tr>\n",
              "\t<tr><td>24766990</td><td>2004</td><td>3</td></tr>\n",
              "\t<tr><td>24807888</td><td>2003</td><td>3</td></tr>\n",
              "\t<tr><td>25008950</td><td>2005</td><td>3</td></tr>\n",
              "\t<tr><td>25009144</td><td>2005</td><td>3</td></tr>\n",
              "\t<tr><td>25009144</td><td>2008</td><td>3</td></tr>\n",
              "\t<tr><td>25009623</td><td>2003</td><td>3</td></tr>\n",
              "\t<tr><td>25009634</td><td>2003</td><td>3</td></tr>\n",
              "\t<tr><td>25009634</td><td>2005</td><td>3</td></tr>\n",
              "\t<tr><td>25009783</td><td>2004</td><td>3</td></tr>\n",
              "\t<tr><td>25010099</td><td>2006</td><td>3</td></tr>\n",
              "\t<tr><td>25010099</td><td>2007</td><td>3</td></tr>\n",
              "\t<tr><td>25010099</td><td>2008</td><td>3</td></tr>\n",
              "\t<tr><td>25010160</td><td>2006</td><td>3</td></tr>\n",
              "\t<tr><td>25010461</td><td>2004</td><td>3</td></tr>\n",
              "\t<tr><td>25010823</td><td>2003</td><td>3</td></tr>\n",
              "\t<tr><td>25011070</td><td>2003</td><td>3</td></tr>\n",
              "\t<tr><td>25011070</td><td>2005</td><td>3</td></tr>\n",
              "\t<tr><td>25011097</td><td>2006</td><td>3</td></tr>\n",
              "\t<tr><td>25011097</td><td>2007</td><td>3</td></tr>\n",
              "\t<tr><td>25011498</td><td>2004</td><td>3</td></tr>\n",
              "\t<tr><td>25011565</td><td>2005</td><td>3</td></tr>\n",
              "\t<tr><td>25011609</td><td>2004</td><td>3</td></tr>\n",
              "\t<tr><td>25011783</td><td>2004</td><td>3</td></tr>\n",
              "\t<tr><td>25011955</td><td>2003</td><td>3</td></tr>\n",
              "</tbody>\n",
              "</table>\n"
            ]
          },
          "metadata": {}
        }
      ]
    },
    {
      "cell_type": "code",
      "metadata": {
        "colab": {
          "base_uri": "https://localhost:8080/",
          "height": 528
        },
        "id": "tK2RWGY7VhtV",
        "outputId": "c88e6ddd-f02e-46d6-c128-c2a382165662"
      },
      "source": [
        "dbGetQuery(conn,\"select * from alumnos where MRUN=3138123\")"
      ],
      "execution_count": null,
      "outputs": [
        {
          "output_type": "display_data",
          "data": {
            "text/plain": [
              "   MRUN    AGNO RBD   COD_ENSE COD_GRADO LET_CUR GEN_ALU FEC_NAC_ALU\n",
              "1  3138123 2003  8547 110      4         A       2       19920127   \n",
              "2  3138123 2003  8572 110      7         A       1       19910923   \n",
              "3  3138123 2003  9285 110      5         B       1       19930421   \n",
              "4  3138123 2003 11993 110      5         B       2       19930719   \n",
              "5  3138123 2003 24666 110      2         A       1       19951103   \n",
              "6  3138123 2004  8572 110      8         A       1       19910923   \n",
              "7  3138123 2004  8579 110      3         A       1       19960214   \n",
              "8  3138123 2004  9285 110      6         B       1       19930421   \n",
              "9  3138123 2004 24721 110      3         A       2       19940531   \n",
              "10 3138123 2005  8579 110      4         A       2       19951226   \n",
              "11 3138123 2005  9285 110      7         B       1       19930421   \n",
              "12 3138123 2006  9285 110      8         B       1       19930421   \n",
              "13 3138123 2007  8579 110      1         A       1       20000421   \n",
              "14 3138123 2007  9285 110      8         B       1       19930421   \n",
              "   COD_COM_ALU SIT_FIN_R PROM_GRAL ASISTENCIA\n",
              "1  13101       P         5.7       93        \n",
              "2  13108       P         5         98        \n",
              "3  13110       P         4.9       98        \n",
              "4  13123       P         5.8       96        \n",
              "5  13132       P         6.3       81        \n",
              "6  13108       P         5.1       98        \n",
              "7  13106       Y         NA        NA        \n",
              "8  13110       P         5.2       90        \n",
              "9  13114       P         5.3       94        \n",
              "10 13106       P         6.2       90        \n",
              "11 13110       P         4.8       91        \n",
              "12 13110       R         4.7       92        \n",
              "13 13106       P         5.6       92        \n",
              "14 13110       P         5.2       89        "
            ],
            "text/latex": "A data.frame: 14 × 12\n\\begin{tabular}{llllllllllll}\n MRUN & AGNO & RBD & COD\\_ENSE & COD\\_GRADO & LET\\_CUR & GEN\\_ALU & FEC\\_NAC\\_ALU & COD\\_COM\\_ALU & SIT\\_FIN\\_R & PROM\\_GRAL & ASISTENCIA\\\\\n <int> & <int> & <int> & <int> & <int> & <chr> & <int> & <int> & <int> & <chr> & <chr> & <int>\\\\\n\\hline\n\t 3138123 & 2003 &  8547 & 110 & 4 & A & 2 & 19920127 & 13101 & P & 5.7 & 93\\\\\n\t 3138123 & 2003 &  8572 & 110 & 7 & A & 1 & 19910923 & 13108 & P & 5   & 98\\\\\n\t 3138123 & 2003 &  9285 & 110 & 5 & B & 1 & 19930421 & 13110 & P & 4.9 & 98\\\\\n\t 3138123 & 2003 & 11993 & 110 & 5 & B & 2 & 19930719 & 13123 & P & 5.8 & 96\\\\\n\t 3138123 & 2003 & 24666 & 110 & 2 & A & 1 & 19951103 & 13132 & P & 6.3 & 81\\\\\n\t 3138123 & 2004 &  8572 & 110 & 8 & A & 1 & 19910923 & 13108 & P & 5.1 & 98\\\\\n\t 3138123 & 2004 &  8579 & 110 & 3 & A & 1 & 19960214 & 13106 & Y & NA  & NA\\\\\n\t 3138123 & 2004 &  9285 & 110 & 6 & B & 1 & 19930421 & 13110 & P & 5.2 & 90\\\\\n\t 3138123 & 2004 & 24721 & 110 & 3 & A & 2 & 19940531 & 13114 & P & 5.3 & 94\\\\\n\t 3138123 & 2005 &  8579 & 110 & 4 & A & 2 & 19951226 & 13106 & P & 6.2 & 90\\\\\n\t 3138123 & 2005 &  9285 & 110 & 7 & B & 1 & 19930421 & 13110 & P & 4.8 & 91\\\\\n\t 3138123 & 2006 &  9285 & 110 & 8 & B & 1 & 19930421 & 13110 & R & 4.7 & 92\\\\\n\t 3138123 & 2007 &  8579 & 110 & 1 & A & 1 & 20000421 & 13106 & P & 5.6 & 92\\\\\n\t 3138123 & 2007 &  9285 & 110 & 8 & B & 1 & 19930421 & 13110 & P & 5.2 & 89\\\\\n\\end{tabular}\n",
            "text/markdown": "\nA data.frame: 14 × 12\n\n| MRUN &lt;int&gt; | AGNO &lt;int&gt; | RBD &lt;int&gt; | COD_ENSE &lt;int&gt; | COD_GRADO &lt;int&gt; | LET_CUR &lt;chr&gt; | GEN_ALU &lt;int&gt; | FEC_NAC_ALU &lt;int&gt; | COD_COM_ALU &lt;int&gt; | SIT_FIN_R &lt;chr&gt; | PROM_GRAL &lt;chr&gt; | ASISTENCIA &lt;int&gt; |\n|---|---|---|---|---|---|---|---|---|---|---|---|\n| 3138123 | 2003 |  8547 | 110 | 4 | A | 2 | 19920127 | 13101 | P | 5.7 | 93 |\n| 3138123 | 2003 |  8572 | 110 | 7 | A | 1 | 19910923 | 13108 | P | 5   | 98 |\n| 3138123 | 2003 |  9285 | 110 | 5 | B | 1 | 19930421 | 13110 | P | 4.9 | 98 |\n| 3138123 | 2003 | 11993 | 110 | 5 | B | 2 | 19930719 | 13123 | P | 5.8 | 96 |\n| 3138123 | 2003 | 24666 | 110 | 2 | A | 1 | 19951103 | 13132 | P | 6.3 | 81 |\n| 3138123 | 2004 |  8572 | 110 | 8 | A | 1 | 19910923 | 13108 | P | 5.1 | 98 |\n| 3138123 | 2004 |  8579 | 110 | 3 | A | 1 | 19960214 | 13106 | Y | NA  | NA |\n| 3138123 | 2004 |  9285 | 110 | 6 | B | 1 | 19930421 | 13110 | P | 5.2 | 90 |\n| 3138123 | 2004 | 24721 | 110 | 3 | A | 2 | 19940531 | 13114 | P | 5.3 | 94 |\n| 3138123 | 2005 |  8579 | 110 | 4 | A | 2 | 19951226 | 13106 | P | 6.2 | 90 |\n| 3138123 | 2005 |  9285 | 110 | 7 | B | 1 | 19930421 | 13110 | P | 4.8 | 91 |\n| 3138123 | 2006 |  9285 | 110 | 8 | B | 1 | 19930421 | 13110 | R | 4.7 | 92 |\n| 3138123 | 2007 |  8579 | 110 | 1 | A | 1 | 20000421 | 13106 | P | 5.6 | 92 |\n| 3138123 | 2007 |  9285 | 110 | 8 | B | 1 | 19930421 | 13110 | P | 5.2 | 89 |\n\n",
            "text/html": [
              "<table class=\"dataframe\">\n",
              "<caption>A data.frame: 14 × 12</caption>\n",
              "<thead>\n",
              "\t<tr><th scope=col>MRUN</th><th scope=col>AGNO</th><th scope=col>RBD</th><th scope=col>COD_ENSE</th><th scope=col>COD_GRADO</th><th scope=col>LET_CUR</th><th scope=col>GEN_ALU</th><th scope=col>FEC_NAC_ALU</th><th scope=col>COD_COM_ALU</th><th scope=col>SIT_FIN_R</th><th scope=col>PROM_GRAL</th><th scope=col>ASISTENCIA</th></tr>\n",
              "\t<tr><th scope=col>&lt;int&gt;</th><th scope=col>&lt;int&gt;</th><th scope=col>&lt;int&gt;</th><th scope=col>&lt;int&gt;</th><th scope=col>&lt;int&gt;</th><th scope=col>&lt;chr&gt;</th><th scope=col>&lt;int&gt;</th><th scope=col>&lt;int&gt;</th><th scope=col>&lt;int&gt;</th><th scope=col>&lt;chr&gt;</th><th scope=col>&lt;chr&gt;</th><th scope=col>&lt;int&gt;</th></tr>\n",
              "</thead>\n",
              "<tbody>\n",
              "\t<tr><td>3138123</td><td>2003</td><td> 8547</td><td>110</td><td>4</td><td>A</td><td>2</td><td>19920127</td><td>13101</td><td>P</td><td>5.7</td><td>93</td></tr>\n",
              "\t<tr><td>3138123</td><td>2003</td><td> 8572</td><td>110</td><td>7</td><td>A</td><td>1</td><td>19910923</td><td>13108</td><td>P</td><td>5  </td><td>98</td></tr>\n",
              "\t<tr><td>3138123</td><td>2003</td><td> 9285</td><td>110</td><td>5</td><td>B</td><td>1</td><td>19930421</td><td>13110</td><td>P</td><td>4.9</td><td>98</td></tr>\n",
              "\t<tr><td>3138123</td><td>2003</td><td>11993</td><td>110</td><td>5</td><td>B</td><td>2</td><td>19930719</td><td>13123</td><td>P</td><td>5.8</td><td>96</td></tr>\n",
              "\t<tr><td>3138123</td><td>2003</td><td>24666</td><td>110</td><td>2</td><td>A</td><td>1</td><td>19951103</td><td>13132</td><td>P</td><td>6.3</td><td>81</td></tr>\n",
              "\t<tr><td>3138123</td><td>2004</td><td> 8572</td><td>110</td><td>8</td><td>A</td><td>1</td><td>19910923</td><td>13108</td><td>P</td><td>5.1</td><td>98</td></tr>\n",
              "\t<tr><td>3138123</td><td>2004</td><td> 8579</td><td>110</td><td>3</td><td>A</td><td>1</td><td>19960214</td><td>13106</td><td>Y</td><td>NA </td><td>NA</td></tr>\n",
              "\t<tr><td>3138123</td><td>2004</td><td> 9285</td><td>110</td><td>6</td><td>B</td><td>1</td><td>19930421</td><td>13110</td><td>P</td><td>5.2</td><td>90</td></tr>\n",
              "\t<tr><td>3138123</td><td>2004</td><td>24721</td><td>110</td><td>3</td><td>A</td><td>2</td><td>19940531</td><td>13114</td><td>P</td><td>5.3</td><td>94</td></tr>\n",
              "\t<tr><td>3138123</td><td>2005</td><td> 8579</td><td>110</td><td>4</td><td>A</td><td>2</td><td>19951226</td><td>13106</td><td>P</td><td>6.2</td><td>90</td></tr>\n",
              "\t<tr><td>3138123</td><td>2005</td><td> 9285</td><td>110</td><td>7</td><td>B</td><td>1</td><td>19930421</td><td>13110</td><td>P</td><td>4.8</td><td>91</td></tr>\n",
              "\t<tr><td>3138123</td><td>2006</td><td> 9285</td><td>110</td><td>8</td><td>B</td><td>1</td><td>19930421</td><td>13110</td><td>R</td><td>4.7</td><td>92</td></tr>\n",
              "\t<tr><td>3138123</td><td>2007</td><td> 8579</td><td>110</td><td>1</td><td>A</td><td>1</td><td>20000421</td><td>13106</td><td>P</td><td>5.6</td><td>92</td></tr>\n",
              "\t<tr><td>3138123</td><td>2007</td><td> 9285</td><td>110</td><td>8</td><td>B</td><td>1</td><td>19930421</td><td>13110</td><td>P</td><td>5.2</td><td>89</td></tr>\n",
              "</tbody>\n",
              "</table>\n"
            ]
          },
          "metadata": {}
        }
      ]
    },
    {
      "cell_type": "code",
      "metadata": {
        "colab": {
          "base_uri": "https://localhost:8080/",
          "height": 1000
        },
        "id": "a-wgFMhHN7Ti",
        "outputId": "3dfbb836-bf46-4cc2-ca91-7c63cd8b4b58"
      },
      "source": [
        "dbGetQuery(conn,\"\n",
        "select MRUN,\n",
        "AGNO, \n",
        "COD_ENSE, \n",
        "COD_GRADO,\n",
        "COUNT() AS N\n",
        "from alumnos\n",
        "WHERE SIT_FIN_R='P'\n",
        "group by MRUN,COD_ENSE, COD_GRADO\n",
        "ORDER BY N\")"
      ],
      "execution_count": null,
      "outputs": [
        {
          "output_type": "display_data",
          "data": {
            "text/plain": [
              "         MRUN     COD_GRADO N\n",
              "1         3       8         1\n",
              "2         3       1         1\n",
              "3         3       2         1\n",
              "4         3       3         1\n",
              "5         3       4         1\n",
              "6         4       8         1\n",
              "7         4       1         1\n",
              "8         4       2         1\n",
              "9         4       3         1\n",
              "10        4       4         1\n",
              "11        5       6         1\n",
              "12        5       7         1\n",
              "13        5       8         1\n",
              "14        5       1         1\n",
              "15        5       2         1\n",
              "16        5       3         1\n",
              "17        5       4         1\n",
              "18       17       1         1\n",
              "19       17       2         1\n",
              "20       17       3         1\n",
              "21       17       4         1\n",
              "22       17       5         1\n",
              "23       17       6         1\n",
              "24       17       7         1\n",
              "25       17       8         1\n",
              "26       17       1         1\n",
              "27       17       2         1\n",
              "28       17       3         1\n",
              "29       17       4         1\n",
              "30       19       1         1\n",
              "⋮        ⋮        ⋮         ⋮\n",
              "50220428 17519654 3         3\n",
              "50220429 18227526 2         3\n",
              "50220430 18361050 3         3\n",
              "50220431 18505635 1         3\n",
              "50220432 18841193 3         3\n",
              "50220433 18885967 1         3\n",
              "50220434 18969952 1         3\n",
              "50220435 19208972 2         3\n",
              "50220436 19516650 4         3\n",
              "50220437 19602640 5         3\n",
              "50220438 20025406 8         3\n",
              "50220439 21511997 2         3\n",
              "50220440 21616842 2         3\n",
              "50220441 21619538 1         3\n",
              "50220442 21737574 2         3\n",
              "50220443 21801828 1         3\n",
              "50220444 21905257 1         3\n",
              "50220445 21931009 1         3\n",
              "50220446 22465249 3         3\n",
              "50220447 22528343 2         3\n",
              "50220448 24089831 1         3\n",
              "50220449 24126908 4         3\n",
              "50220450 24231761 1         3\n",
              "50220451 24494667 3         3\n",
              "50220452 24775940 1         3\n",
              "50220453 24923669 6         3\n",
              "50220454   610574 3         4\n",
              "50220455   956739 2         4\n",
              "50220456  1782208 1         4\n",
              "50220457  9098462 1         4"
            ],
            "text/latex": "A data.frame: 50220457 × 3\n\\begin{tabular}{lll}\n MRUN & COD\\_GRADO & N\\\\\n <int> & <int> & <int>\\\\\n\\hline\n\t  3 & 8 & 1\\\\\n\t  3 & 1 & 1\\\\\n\t  3 & 2 & 1\\\\\n\t  3 & 3 & 1\\\\\n\t  3 & 4 & 1\\\\\n\t  4 & 8 & 1\\\\\n\t  4 & 1 & 1\\\\\n\t  4 & 2 & 1\\\\\n\t  4 & 3 & 1\\\\\n\t  4 & 4 & 1\\\\\n\t  5 & 6 & 1\\\\\n\t  5 & 7 & 1\\\\\n\t  5 & 8 & 1\\\\\n\t  5 & 1 & 1\\\\\n\t  5 & 2 & 1\\\\\n\t  5 & 3 & 1\\\\\n\t  5 & 4 & 1\\\\\n\t 17 & 1 & 1\\\\\n\t 17 & 2 & 1\\\\\n\t 17 & 3 & 1\\\\\n\t 17 & 4 & 1\\\\\n\t 17 & 5 & 1\\\\\n\t 17 & 6 & 1\\\\\n\t 17 & 7 & 1\\\\\n\t 17 & 8 & 1\\\\\n\t 17 & 1 & 1\\\\\n\t 17 & 2 & 1\\\\\n\t 17 & 3 & 1\\\\\n\t 17 & 4 & 1\\\\\n\t 19 & 1 & 1\\\\\n\t ⋮ & ⋮ & ⋮\\\\\n\t 17519654 & 3 & 3\\\\\n\t 18227526 & 2 & 3\\\\\n\t 18361050 & 3 & 3\\\\\n\t 18505635 & 1 & 3\\\\\n\t 18841193 & 3 & 3\\\\\n\t 18885967 & 1 & 3\\\\\n\t 18969952 & 1 & 3\\\\\n\t 19208972 & 2 & 3\\\\\n\t 19516650 & 4 & 3\\\\\n\t 19602640 & 5 & 3\\\\\n\t 20025406 & 8 & 3\\\\\n\t 21511997 & 2 & 3\\\\\n\t 21616842 & 2 & 3\\\\\n\t 21619538 & 1 & 3\\\\\n\t 21737574 & 2 & 3\\\\\n\t 21801828 & 1 & 3\\\\\n\t 21905257 & 1 & 3\\\\\n\t 21931009 & 1 & 3\\\\\n\t 22465249 & 3 & 3\\\\\n\t 22528343 & 2 & 3\\\\\n\t 24089831 & 1 & 3\\\\\n\t 24126908 & 4 & 3\\\\\n\t 24231761 & 1 & 3\\\\\n\t 24494667 & 3 & 3\\\\\n\t 24775940 & 1 & 3\\\\\n\t 24923669 & 6 & 3\\\\\n\t   610574 & 3 & 4\\\\\n\t   956739 & 2 & 4\\\\\n\t  1782208 & 1 & 4\\\\\n\t  9098462 & 1 & 4\\\\\n\\end{tabular}\n",
            "text/markdown": "\nA data.frame: 50220457 × 3\n\n| MRUN &lt;int&gt; | COD_GRADO &lt;int&gt; | N &lt;int&gt; |\n|---|---|---|\n|  3 | 8 | 1 |\n|  3 | 1 | 1 |\n|  3 | 2 | 1 |\n|  3 | 3 | 1 |\n|  3 | 4 | 1 |\n|  4 | 8 | 1 |\n|  4 | 1 | 1 |\n|  4 | 2 | 1 |\n|  4 | 3 | 1 |\n|  4 | 4 | 1 |\n|  5 | 6 | 1 |\n|  5 | 7 | 1 |\n|  5 | 8 | 1 |\n|  5 | 1 | 1 |\n|  5 | 2 | 1 |\n|  5 | 3 | 1 |\n|  5 | 4 | 1 |\n| 17 | 1 | 1 |\n| 17 | 2 | 1 |\n| 17 | 3 | 1 |\n| 17 | 4 | 1 |\n| 17 | 5 | 1 |\n| 17 | 6 | 1 |\n| 17 | 7 | 1 |\n| 17 | 8 | 1 |\n| 17 | 1 | 1 |\n| 17 | 2 | 1 |\n| 17 | 3 | 1 |\n| 17 | 4 | 1 |\n| 19 | 1 | 1 |\n| ⋮ | ⋮ | ⋮ |\n| 17519654 | 3 | 3 |\n| 18227526 | 2 | 3 |\n| 18361050 | 3 | 3 |\n| 18505635 | 1 | 3 |\n| 18841193 | 3 | 3 |\n| 18885967 | 1 | 3 |\n| 18969952 | 1 | 3 |\n| 19208972 | 2 | 3 |\n| 19516650 | 4 | 3 |\n| 19602640 | 5 | 3 |\n| 20025406 | 8 | 3 |\n| 21511997 | 2 | 3 |\n| 21616842 | 2 | 3 |\n| 21619538 | 1 | 3 |\n| 21737574 | 2 | 3 |\n| 21801828 | 1 | 3 |\n| 21905257 | 1 | 3 |\n| 21931009 | 1 | 3 |\n| 22465249 | 3 | 3 |\n| 22528343 | 2 | 3 |\n| 24089831 | 1 | 3 |\n| 24126908 | 4 | 3 |\n| 24231761 | 1 | 3 |\n| 24494667 | 3 | 3 |\n| 24775940 | 1 | 3 |\n| 24923669 | 6 | 3 |\n|   610574 | 3 | 4 |\n|   956739 | 2 | 4 |\n|  1782208 | 1 | 4 |\n|  9098462 | 1 | 4 |\n\n",
            "text/html": [
              "<table class=\"dataframe\">\n",
              "<caption>A data.frame: 50220457 × 3</caption>\n",
              "<thead>\n",
              "\t<tr><th scope=col>MRUN</th><th scope=col>COD_GRADO</th><th scope=col>N</th></tr>\n",
              "\t<tr><th scope=col>&lt;int&gt;</th><th scope=col>&lt;int&gt;</th><th scope=col>&lt;int&gt;</th></tr>\n",
              "</thead>\n",
              "<tbody>\n",
              "\t<tr><td> 3</td><td>8</td><td>1</td></tr>\n",
              "\t<tr><td> 3</td><td>1</td><td>1</td></tr>\n",
              "\t<tr><td> 3</td><td>2</td><td>1</td></tr>\n",
              "\t<tr><td> 3</td><td>3</td><td>1</td></tr>\n",
              "\t<tr><td> 3</td><td>4</td><td>1</td></tr>\n",
              "\t<tr><td> 4</td><td>8</td><td>1</td></tr>\n",
              "\t<tr><td> 4</td><td>1</td><td>1</td></tr>\n",
              "\t<tr><td> 4</td><td>2</td><td>1</td></tr>\n",
              "\t<tr><td> 4</td><td>3</td><td>1</td></tr>\n",
              "\t<tr><td> 4</td><td>4</td><td>1</td></tr>\n",
              "\t<tr><td> 5</td><td>6</td><td>1</td></tr>\n",
              "\t<tr><td> 5</td><td>7</td><td>1</td></tr>\n",
              "\t<tr><td> 5</td><td>8</td><td>1</td></tr>\n",
              "\t<tr><td> 5</td><td>1</td><td>1</td></tr>\n",
              "\t<tr><td> 5</td><td>2</td><td>1</td></tr>\n",
              "\t<tr><td> 5</td><td>3</td><td>1</td></tr>\n",
              "\t<tr><td> 5</td><td>4</td><td>1</td></tr>\n",
              "\t<tr><td>17</td><td>1</td><td>1</td></tr>\n",
              "\t<tr><td>17</td><td>2</td><td>1</td></tr>\n",
              "\t<tr><td>17</td><td>3</td><td>1</td></tr>\n",
              "\t<tr><td>17</td><td>4</td><td>1</td></tr>\n",
              "\t<tr><td>17</td><td>5</td><td>1</td></tr>\n",
              "\t<tr><td>17</td><td>6</td><td>1</td></tr>\n",
              "\t<tr><td>17</td><td>7</td><td>1</td></tr>\n",
              "\t<tr><td>17</td><td>8</td><td>1</td></tr>\n",
              "\t<tr><td>17</td><td>1</td><td>1</td></tr>\n",
              "\t<tr><td>17</td><td>2</td><td>1</td></tr>\n",
              "\t<tr><td>17</td><td>3</td><td>1</td></tr>\n",
              "\t<tr><td>17</td><td>4</td><td>1</td></tr>\n",
              "\t<tr><td>19</td><td>1</td><td>1</td></tr>\n",
              "\t<tr><td>⋮</td><td>⋮</td><td>⋮</td></tr>\n",
              "\t<tr><td>17519654</td><td>3</td><td>3</td></tr>\n",
              "\t<tr><td>18227526</td><td>2</td><td>3</td></tr>\n",
              "\t<tr><td>18361050</td><td>3</td><td>3</td></tr>\n",
              "\t<tr><td>18505635</td><td>1</td><td>3</td></tr>\n",
              "\t<tr><td>18841193</td><td>3</td><td>3</td></tr>\n",
              "\t<tr><td>18885967</td><td>1</td><td>3</td></tr>\n",
              "\t<tr><td>18969952</td><td>1</td><td>3</td></tr>\n",
              "\t<tr><td>19208972</td><td>2</td><td>3</td></tr>\n",
              "\t<tr><td>19516650</td><td>4</td><td>3</td></tr>\n",
              "\t<tr><td>19602640</td><td>5</td><td>3</td></tr>\n",
              "\t<tr><td>20025406</td><td>8</td><td>3</td></tr>\n",
              "\t<tr><td>21511997</td><td>2</td><td>3</td></tr>\n",
              "\t<tr><td>21616842</td><td>2</td><td>3</td></tr>\n",
              "\t<tr><td>21619538</td><td>1</td><td>3</td></tr>\n",
              "\t<tr><td>21737574</td><td>2</td><td>3</td></tr>\n",
              "\t<tr><td>21801828</td><td>1</td><td>3</td></tr>\n",
              "\t<tr><td>21905257</td><td>1</td><td>3</td></tr>\n",
              "\t<tr><td>21931009</td><td>1</td><td>3</td></tr>\n",
              "\t<tr><td>22465249</td><td>3</td><td>3</td></tr>\n",
              "\t<tr><td>22528343</td><td>2</td><td>3</td></tr>\n",
              "\t<tr><td>24089831</td><td>1</td><td>3</td></tr>\n",
              "\t<tr><td>24126908</td><td>4</td><td>3</td></tr>\n",
              "\t<tr><td>24231761</td><td>1</td><td>3</td></tr>\n",
              "\t<tr><td>24494667</td><td>3</td><td>3</td></tr>\n",
              "\t<tr><td>24775940</td><td>1</td><td>3</td></tr>\n",
              "\t<tr><td>24923669</td><td>6</td><td>3</td></tr>\n",
              "\t<tr><td>  610574</td><td>3</td><td>4</td></tr>\n",
              "\t<tr><td>  956739</td><td>2</td><td>4</td></tr>\n",
              "\t<tr><td> 1782208</td><td>1</td><td>4</td></tr>\n",
              "\t<tr><td> 9098462</td><td>1</td><td>4</td></tr>\n",
              "</tbody>\n",
              "</table>\n"
            ]
          },
          "metadata": {
            "tags": []
          }
        }
      ]
    },
    {
      "cell_type": "code",
      "metadata": {
        "colab": {
          "base_uri": "https://localhost:8080/",
          "height": 312
        },
        "id": "T-gHnyKVRAQR",
        "outputId": "d3115ffb-65d4-4eae-f1b5-48dc0fc89aae"
      },
      "source": [
        "dbGetQuery(conn,\"\n",
        "select *\n",
        "from alumnos\n",
        "WHERE MRUN=9098462\")"
      ],
      "execution_count": null,
      "outputs": [
        {
          "output_type": "display_data",
          "data": {
            "text/plain": [
              "  MRUN    AGNO RBD  COD_ENSE COD_GRADO LET_CUR GEN_ALU FEC_NAC_ALU COD_COM_ALU\n",
              "1 9098462 2003 3669 110      8         A       2       198910      8401       \n",
              "2 9098462 2004 3638 310      1         G       2       198910      8401       \n",
              "3 9098462 2005 3638 310      1         F       2       198910      8401       \n",
              "4 9098462 2006 3638 310      1         F       2       198910      8401       \n",
              "5 9098462 2007 3638 310      1         K       2       198910      8401       \n",
              "6 9098462 2008 3638 310      2         G       2       198910      8401       \n",
              "7 9098462 2011 3645 363      1         A       2       198910      8401       \n",
              "  SIT_FIN_R PROM_GRAL ASISTENCIA\n",
              "1 P         5.1       97        \n",
              "2 P         4.5       93        \n",
              "3 P         4.7       95        \n",
              "4 P         4.7       90        \n",
              "5 P         5.1       91        \n",
              "6 Y         NA        NA        \n",
              "7 Y         NA        NA        "
            ],
            "text/latex": "A data.frame: 7 × 12\n\\begin{tabular}{llllllllllll}\n MRUN & AGNO & RBD & COD\\_ENSE & COD\\_GRADO & LET\\_CUR & GEN\\_ALU & FEC\\_NAC\\_ALU & COD\\_COM\\_ALU & SIT\\_FIN\\_R & PROM\\_GRAL & ASISTENCIA\\\\\n <int> & <int> & <int> & <int> & <int> & <chr> & <int> & <int> & <int> & <chr> & <chr> & <int>\\\\\n\\hline\n\t 9098462 & 2003 & 3669 & 110 & 8 & A & 2 & 198910 & 8401 & P & 5.1 & 97\\\\\n\t 9098462 & 2004 & 3638 & 310 & 1 & G & 2 & 198910 & 8401 & P & 4.5 & 93\\\\\n\t 9098462 & 2005 & 3638 & 310 & 1 & F & 2 & 198910 & 8401 & P & 4.7 & 95\\\\\n\t 9098462 & 2006 & 3638 & 310 & 1 & F & 2 & 198910 & 8401 & P & 4.7 & 90\\\\\n\t 9098462 & 2007 & 3638 & 310 & 1 & K & 2 & 198910 & 8401 & P & 5.1 & 91\\\\\n\t 9098462 & 2008 & 3638 & 310 & 2 & G & 2 & 198910 & 8401 & Y & NA  & NA\\\\\n\t 9098462 & 2011 & 3645 & 363 & 1 & A & 2 & 198910 & 8401 & Y & NA  & NA\\\\\n\\end{tabular}\n",
            "text/markdown": "\nA data.frame: 7 × 12\n\n| MRUN &lt;int&gt; | AGNO &lt;int&gt; | RBD &lt;int&gt; | COD_ENSE &lt;int&gt; | COD_GRADO &lt;int&gt; | LET_CUR &lt;chr&gt; | GEN_ALU &lt;int&gt; | FEC_NAC_ALU &lt;int&gt; | COD_COM_ALU &lt;int&gt; | SIT_FIN_R &lt;chr&gt; | PROM_GRAL &lt;chr&gt; | ASISTENCIA &lt;int&gt; |\n|---|---|---|---|---|---|---|---|---|---|---|---|\n| 9098462 | 2003 | 3669 | 110 | 8 | A | 2 | 198910 | 8401 | P | 5.1 | 97 |\n| 9098462 | 2004 | 3638 | 310 | 1 | G | 2 | 198910 | 8401 | P | 4.5 | 93 |\n| 9098462 | 2005 | 3638 | 310 | 1 | F | 2 | 198910 | 8401 | P | 4.7 | 95 |\n| 9098462 | 2006 | 3638 | 310 | 1 | F | 2 | 198910 | 8401 | P | 4.7 | 90 |\n| 9098462 | 2007 | 3638 | 310 | 1 | K | 2 | 198910 | 8401 | P | 5.1 | 91 |\n| 9098462 | 2008 | 3638 | 310 | 2 | G | 2 | 198910 | 8401 | Y | NA  | NA |\n| 9098462 | 2011 | 3645 | 363 | 1 | A | 2 | 198910 | 8401 | Y | NA  | NA |\n\n",
            "text/html": [
              "<table class=\"dataframe\">\n",
              "<caption>A data.frame: 7 × 12</caption>\n",
              "<thead>\n",
              "\t<tr><th scope=col>MRUN</th><th scope=col>AGNO</th><th scope=col>RBD</th><th scope=col>COD_ENSE</th><th scope=col>COD_GRADO</th><th scope=col>LET_CUR</th><th scope=col>GEN_ALU</th><th scope=col>FEC_NAC_ALU</th><th scope=col>COD_COM_ALU</th><th scope=col>SIT_FIN_R</th><th scope=col>PROM_GRAL</th><th scope=col>ASISTENCIA</th></tr>\n",
              "\t<tr><th scope=col>&lt;int&gt;</th><th scope=col>&lt;int&gt;</th><th scope=col>&lt;int&gt;</th><th scope=col>&lt;int&gt;</th><th scope=col>&lt;int&gt;</th><th scope=col>&lt;chr&gt;</th><th scope=col>&lt;int&gt;</th><th scope=col>&lt;int&gt;</th><th scope=col>&lt;int&gt;</th><th scope=col>&lt;chr&gt;</th><th scope=col>&lt;chr&gt;</th><th scope=col>&lt;int&gt;</th></tr>\n",
              "</thead>\n",
              "<tbody>\n",
              "\t<tr><td>9098462</td><td>2003</td><td>3669</td><td>110</td><td>8</td><td>A</td><td>2</td><td>198910</td><td>8401</td><td>P</td><td>5.1</td><td>97</td></tr>\n",
              "\t<tr><td>9098462</td><td>2004</td><td>3638</td><td>310</td><td>1</td><td>G</td><td>2</td><td>198910</td><td>8401</td><td>P</td><td>4.5</td><td>93</td></tr>\n",
              "\t<tr><td>9098462</td><td>2005</td><td>3638</td><td>310</td><td>1</td><td>F</td><td>2</td><td>198910</td><td>8401</td><td>P</td><td>4.7</td><td>95</td></tr>\n",
              "\t<tr><td>9098462</td><td>2006</td><td>3638</td><td>310</td><td>1</td><td>F</td><td>2</td><td>198910</td><td>8401</td><td>P</td><td>4.7</td><td>90</td></tr>\n",
              "\t<tr><td>9098462</td><td>2007</td><td>3638</td><td>310</td><td>1</td><td>K</td><td>2</td><td>198910</td><td>8401</td><td>P</td><td>5.1</td><td>91</td></tr>\n",
              "\t<tr><td>9098462</td><td>2008</td><td>3638</td><td>310</td><td>2</td><td>G</td><td>2</td><td>198910</td><td>8401</td><td>Y</td><td>NA </td><td>NA</td></tr>\n",
              "\t<tr><td>9098462</td><td>2011</td><td>3645</td><td>363</td><td>1</td><td>A</td><td>2</td><td>198910</td><td>8401</td><td>Y</td><td>NA </td><td>NA</td></tr>\n",
              "</tbody>\n",
              "</table>\n"
            ]
          },
          "metadata": {}
        }
      ]
    },
    {
      "cell_type": "code",
      "metadata": {
        "colab": {
          "base_uri": "https://localhost:8080/",
          "height": 34
        },
        "id": "VhggyE-JVCOl",
        "outputId": "c3716654-1c54-458f-ed4f-40ba5290f2e5"
      },
      "source": [
        "dbExecute(conn,\"DELETE FROM alumnos \n",
        "WHERE MRUN IN (\n",
        "select \n",
        "MRUN\n",
        "from alumnos\n",
        "where SIT_FIN_R='P'\n",
        "group by MRUN, AGNO\n",
        "having count()>1 )\n",
        "\")"
      ],
      "execution_count": null,
      "outputs": [
        {
          "output_type": "display_data",
          "data": {
            "text/plain": [
              "[1] 198540"
            ],
            "text/latex": "198540",
            "text/markdown": "198540",
            "text/html": [
              "198540"
            ]
          },
          "metadata": {}
        }
      ]
    },
    {
      "cell_type": "markdown",
      "metadata": {
        "id": "HKaz5AwjgTOQ"
      },
      "source": [
        "OPCION 1:"
      ]
    },
    {
      "cell_type": "code",
      "metadata": {
        "colab": {
          "base_uri": "https://localhost:8080/",
          "height": 1000
        },
        "id": "kkAfm_tBTcNk",
        "outputId": "a2700312-63ad-4388-b22c-b781ec7f7a29"
      },
      "source": [
        "dbGetQuery(conn,\"\n",
        "select alumnos.* \n",
        "from alumnos, (select\n",
        "MRUN,\n",
        "FEC_NAC_ALU\n",
        "from (\n",
        "  select MRUN,\n",
        "  FEC_NAC_ALU,\n",
        "  count() as N\n",
        "  from alumnos\n",
        "  group by MRUN,FEC_NAC_ALU\n",
        ")\n",
        "GROUP BY MRUN\n",
        "having N=MAX(N)) as cumples\n",
        "\n",
        "where alumnos.MRUN=cumples.MRUN and\n",
        "alumnos.FEC_NAC_ALU!=cumples.FEC_NAC_ALU\n",
        "\")"
      ],
      "execution_count": null,
      "outputs": [
        {
          "output_type": "display_data",
          "data": {
            "text/plain": [
              "        MRUN     AGNO RBD   COD_ENSE COD_GRADO LET_CUR GEN_ALU FEC_NAC_ALU\n",
              "1        10081   2002 1     561      1         A       1       Sep 16     \n",
              "2        13604   2002 1     610      3         F       2       Jan 17     \n",
              "3        20935   2002 1     561      3         A       1       Feb 11     \n",
              "4        30441   2002 1     510      2         D       1       Jan  2     \n",
              "5        37399   2002 1     510      3         G       1       Sep 15     \n",
              "6        53226   2002 1     510      3         E       1       Dec 10     \n",
              "7        67099   2002 1     510      1         D       2       May 23     \n",
              "8        81228   2002 1     510      3         B       1       Apr 12     \n",
              "9        92465   2002 1     510      1         L       1       Jan 11     \n",
              "10      144840   2002 1     610      3         H       2       Jul 19     \n",
              "11      154126   2002 1     561      4         D       1       Feb  1     \n",
              "12      186329   2002 1     510      3         A       1       Mar 21     \n",
              "13      190998   2002 1     661      3         E       2       Apr  2     \n",
              "14      235795   2002 1     510      1         B       2       Sep 19     \n",
              "15      248297   2002 1     561      1         C       1       Dec 28     \n",
              "16      254098   2002 1     661      1         E       2       May 11     \n",
              "17      275108   2002 1     510      1         J       1       Jul 30     \n",
              "18      306218   2002 1     610      2         I       2       Mar 12     \n",
              "19      315918   2002 1     661      3         F       2       Jan 19     \n",
              "20      315997   2002 1     610      3         H       1       Dec 31     \n",
              "21      321118   2002 1     510      2         A       1       Apr 29     \n",
              "22      344684   2002 1     561      1         A       1       Sep  9     \n",
              "23      353303   2002 1     510      3         A       1       Mar 10     \n",
              "24      355298   2002 1     510      1         L       1       Mar 15     \n",
              "25      381507   2002 1     610      3         H       2       Mar  8     \n",
              "26      425328   2002 1     510      1         B       2       Nov 17     \n",
              "27      427524   2002 1     510      1         B       1       Jan 30     \n",
              "28      432375   2002 1     510      2         D       1       Jul 27     \n",
              "29      448110   2002 1     510      2         A       1       Nov  9     \n",
              "30      462647   2002 1     510      3         E       1       Jul  3     \n",
              "⋮       ⋮        ⋮    ⋮     ⋮        ⋮         ⋮       ⋮       ⋮          \n",
              "3616885 17404039 2020 31375 363      1         B       1       190001     \n",
              "3616886 15546340 2020 31388 363      1         A       2       199505     \n",
              "3616887 16634016 2020 31395 363      1         A       1       190001     \n",
              "3616888  2288753 2020 31428 363      1         B       2       190001     \n",
              "3616889 14389231 2020 31428 363      1         C       1       199209     \n",
              "3616890  2308547 2020 31444 165      2         A       1       190001     \n",
              "3616891  9138718 2020 31444 363      1         A       1       190001     \n",
              "3616892 17288197 2020 31444 363      1         A       1       190001     \n",
              "3616893  8073256 2020 31486 363      1         A       2       198706     \n",
              "3616894 17119787 2020 31486 363      1         A       1       190001     \n",
              "3616895 17119787 2020 31486 363      3         A       1       190001     \n",
              "3616896 11111729 2020 40076 363      1         A       1       190001     \n",
              "3616897 20110415 2020 40076 363      1         D       1       190001     \n",
              "3616898  2682928 2020 40160 363      1         J       2       197804     \n",
              "3616899 21738452 2020 40160 363      1         J       2       197408     \n",
              "3616900 23221790 2020 40160 363      1         Ñ       2       198711     \n",
              "3616901  6530946 2020 40160 363      3         F       1       199009     \n",
              "3616902 25524212 2020 40253 110      6         A       1       200904     \n",
              "3616903  6745085 2020 40288 363      1         A       1       190001     \n",
              "3616904 22597116 2020 40321 363      1         A       2       190001     \n",
              "3616905  2872279 2020 40381 363      1         F       2       198604     \n",
              "3616906 17124696 2020 40381 363      1         F       2       190001     \n",
              "3616907 14276846 2020 40407 363      1         C       1       198808     \n",
              "3616908 22431425 2020 40422 110      1         A       1       201404     \n",
              "3616909 25799569 2020 40429 463      4         B       2       200208     \n",
              "3616910 23305571 2020 40429 663      3         A       2       199305     \n",
              "3616911 26062934 2020 41295 363      3         A       2       200208     \n",
              "3616912 20498621 2020 41533 363      1         A       2       199311     \n",
              "3616913  6900636 2020 41617 363      3         A       2       199102     \n",
              "3616914 10500147 2020 41617 363      3         A       2       198911     \n",
              "        COD_COM_ALU SIT_FIN_R PROM_GRAL ASISTENCIA\n",
              "1       1201        Y         NA         NA       \n",
              "2       1201        P         5,1        91       \n",
              "3       1201        P         6          99       \n",
              "4       1201        P         5,6        97       \n",
              "5       1201        P         4,9        92       \n",
              "6       1201        P         5,1        86       \n",
              "7       1201        P         6,5       100       \n",
              "8       1201        P         5,7        99       \n",
              "9       1201        P         5,5        94       \n",
              "10      1201        P         6,4        91       \n",
              "11      1201        Y         NA         NA       \n",
              "12      1201        P         5,1        93       \n",
              "13      1201        Y         NA         NA       \n",
              "14      1201        P         5,1        86       \n",
              "15      1201        Y         NA         NA       \n",
              "16      1201        P         6,8        99       \n",
              "17      1201        P         5,1        85       \n",
              "18      1201        P         4,9        91       \n",
              "19      1201        P         6,2        96       \n",
              "20      1201        P         5,3        90       \n",
              "21      1201        P         5          85       \n",
              "22      1201        Y         NA         NA       \n",
              "23      1201        P         5,8        94       \n",
              "24      1201        P         6          95       \n",
              "25      1201        P         5,4        94       \n",
              "26      1201        P         5,4        94       \n",
              "27      1201        P         6,1        95       \n",
              "28      1201        Y         NA         NA       \n",
              "29      1201        P         5,5        94       \n",
              "30      1201        P         5,4        97       \n",
              "⋮       ⋮           ⋮         ⋮         ⋮         \n",
              "3616885 13501       T         NA         NA       \n",
              "3616886 13201       P         5,4        85       \n",
              "3616887  7405       P         4,3       100       \n",
              "3616888 13501       P         5          90       \n",
              "3616889 13501       P         4,9        88       \n",
              "3616890  5101       Y         NA         NA       \n",
              "3616891  5605       Y         NA         NA       \n",
              "3616892 13110       P         6,6       100       \n",
              "3616893  7401       Y         NA         NA       \n",
              "3616894  7401       P         6         100       \n",
              "3616895  7401       T         NA         NA       \n",
              "3616896  4102       Y         NA         NA       \n",
              "3616897  4102       P         5,2        98       \n",
              "3616898  5702       P         6,5       100       \n",
              "3616899  5702       P         6,3       100       \n",
              "3616900  5704       R         2          50       \n",
              "3616901  5401       R         2          50       \n",
              "3616902  1107       P         6,5       100       \n",
              "3616903 10306       P         4,7       100       \n",
              "3616904  4101       P         4,1       100       \n",
              "3616905  5702       P         5,6       100       \n",
              "3616906  5703       T         NA         NA       \n",
              "3616907  5502       P         5,6        85       \n",
              "3616908  1107       P         6,7       100       \n",
              "3616909  1101       P         5,8        85       \n",
              "3616910  1101       P         5         100       \n",
              "3616911 13130       P         6,4        85       \n",
              "3616912 14203       P         6,9        95       \n",
              "3616913 13114       P         5,2       100       \n",
              "3616914 13114       P         5,1       100       "
            ],
            "text/latex": "A data.frame: 3616914 × 12\n\\begin{tabular}{llllllllllll}\n MRUN & AGNO & RBD & COD\\_ENSE & COD\\_GRADO & LET\\_CUR & GEN\\_ALU & FEC\\_NAC\\_ALU & COD\\_COM\\_ALU & SIT\\_FIN\\_R & PROM\\_GRAL & ASISTENCIA\\\\\n <int> & <int> & <int> & <int> & <int> & <chr> & <int> & <chr> & <int> & <chr> & <chr> & <int>\\\\\n\\hline\n\t  10081 & 2002 & 1 & 561 & 1 & A & 1 & Sep 16 & 1201 & Y & NA  &  NA\\\\\n\t  13604 & 2002 & 1 & 610 & 3 & F & 2 & Jan 17 & 1201 & P & 5,1 &  91\\\\\n\t  20935 & 2002 & 1 & 561 & 3 & A & 1 & Feb 11 & 1201 & P & 6   &  99\\\\\n\t  30441 & 2002 & 1 & 510 & 2 & D & 1 & Jan  2 & 1201 & P & 5,6 &  97\\\\\n\t  37399 & 2002 & 1 & 510 & 3 & G & 1 & Sep 15 & 1201 & P & 4,9 &  92\\\\\n\t  53226 & 2002 & 1 & 510 & 3 & E & 1 & Dec 10 & 1201 & P & 5,1 &  86\\\\\n\t  67099 & 2002 & 1 & 510 & 1 & D & 2 & May 23 & 1201 & P & 6,5 & 100\\\\\n\t  81228 & 2002 & 1 & 510 & 3 & B & 1 & Apr 12 & 1201 & P & 5,7 &  99\\\\\n\t  92465 & 2002 & 1 & 510 & 1 & L & 1 & Jan 11 & 1201 & P & 5,5 &  94\\\\\n\t 144840 & 2002 & 1 & 610 & 3 & H & 2 & Jul 19 & 1201 & P & 6,4 &  91\\\\\n\t 154126 & 2002 & 1 & 561 & 4 & D & 1 & Feb  1 & 1201 & Y & NA  &  NA\\\\\n\t 186329 & 2002 & 1 & 510 & 3 & A & 1 & Mar 21 & 1201 & P & 5,1 &  93\\\\\n\t 190998 & 2002 & 1 & 661 & 3 & E & 2 & Apr  2 & 1201 & Y & NA  &  NA\\\\\n\t 235795 & 2002 & 1 & 510 & 1 & B & 2 & Sep 19 & 1201 & P & 5,1 &  86\\\\\n\t 248297 & 2002 & 1 & 561 & 1 & C & 1 & Dec 28 & 1201 & Y & NA  &  NA\\\\\n\t 254098 & 2002 & 1 & 661 & 1 & E & 2 & May 11 & 1201 & P & 6,8 &  99\\\\\n\t 275108 & 2002 & 1 & 510 & 1 & J & 1 & Jul 30 & 1201 & P & 5,1 &  85\\\\\n\t 306218 & 2002 & 1 & 610 & 2 & I & 2 & Mar 12 & 1201 & P & 4,9 &  91\\\\\n\t 315918 & 2002 & 1 & 661 & 3 & F & 2 & Jan 19 & 1201 & P & 6,2 &  96\\\\\n\t 315997 & 2002 & 1 & 610 & 3 & H & 1 & Dec 31 & 1201 & P & 5,3 &  90\\\\\n\t 321118 & 2002 & 1 & 510 & 2 & A & 1 & Apr 29 & 1201 & P & 5   &  85\\\\\n\t 344684 & 2002 & 1 & 561 & 1 & A & 1 & Sep  9 & 1201 & Y & NA  &  NA\\\\\n\t 353303 & 2002 & 1 & 510 & 3 & A & 1 & Mar 10 & 1201 & P & 5,8 &  94\\\\\n\t 355298 & 2002 & 1 & 510 & 1 & L & 1 & Mar 15 & 1201 & P & 6   &  95\\\\\n\t 381507 & 2002 & 1 & 610 & 3 & H & 2 & Mar  8 & 1201 & P & 5,4 &  94\\\\\n\t 425328 & 2002 & 1 & 510 & 1 & B & 2 & Nov 17 & 1201 & P & 5,4 &  94\\\\\n\t 427524 & 2002 & 1 & 510 & 1 & B & 1 & Jan 30 & 1201 & P & 6,1 &  95\\\\\n\t 432375 & 2002 & 1 & 510 & 2 & D & 1 & Jul 27 & 1201 & Y & NA  &  NA\\\\\n\t 448110 & 2002 & 1 & 510 & 2 & A & 1 & Nov  9 & 1201 & P & 5,5 &  94\\\\\n\t 462647 & 2002 & 1 & 510 & 3 & E & 1 & Jul  3 & 1201 & P & 5,4 &  97\\\\\n\t ⋮ & ⋮ & ⋮ & ⋮ & ⋮ & ⋮ & ⋮ & ⋮ & ⋮ & ⋮ & ⋮ & ⋮\\\\\n\t 17404039 & 2020 & 31375 & 363 & 1 & B & 1 & 190001 & 13501 & T & NA  &  NA\\\\\n\t 15546340 & 2020 & 31388 & 363 & 1 & A & 2 & 199505 & 13201 & P & 5,4 &  85\\\\\n\t 16634016 & 2020 & 31395 & 363 & 1 & A & 1 & 190001 &  7405 & P & 4,3 & 100\\\\\n\t  2288753 & 2020 & 31428 & 363 & 1 & B & 2 & 190001 & 13501 & P & 5   &  90\\\\\n\t 14389231 & 2020 & 31428 & 363 & 1 & C & 1 & 199209 & 13501 & P & 4,9 &  88\\\\\n\t  2308547 & 2020 & 31444 & 165 & 2 & A & 1 & 190001 &  5101 & Y & NA  &  NA\\\\\n\t  9138718 & 2020 & 31444 & 363 & 1 & A & 1 & 190001 &  5605 & Y & NA  &  NA\\\\\n\t 17288197 & 2020 & 31444 & 363 & 1 & A & 1 & 190001 & 13110 & P & 6,6 & 100\\\\\n\t  8073256 & 2020 & 31486 & 363 & 1 & A & 2 & 198706 &  7401 & Y & NA  &  NA\\\\\n\t 17119787 & 2020 & 31486 & 363 & 1 & A & 1 & 190001 &  7401 & P & 6   & 100\\\\\n\t 17119787 & 2020 & 31486 & 363 & 3 & A & 1 & 190001 &  7401 & T & NA  &  NA\\\\\n\t 11111729 & 2020 & 40076 & 363 & 1 & A & 1 & 190001 &  4102 & Y & NA  &  NA\\\\\n\t 20110415 & 2020 & 40076 & 363 & 1 & D & 1 & 190001 &  4102 & P & 5,2 &  98\\\\\n\t  2682928 & 2020 & 40160 & 363 & 1 & J & 2 & 197804 &  5702 & P & 6,5 & 100\\\\\n\t 21738452 & 2020 & 40160 & 363 & 1 & J & 2 & 197408 &  5702 & P & 6,3 & 100\\\\\n\t 23221790 & 2020 & 40160 & 363 & 1 & Ñ & 2 & 198711 &  5704 & R & 2   &  50\\\\\n\t  6530946 & 2020 & 40160 & 363 & 3 & F & 1 & 199009 &  5401 & R & 2   &  50\\\\\n\t 25524212 & 2020 & 40253 & 110 & 6 & A & 1 & 200904 &  1107 & P & 6,5 & 100\\\\\n\t  6745085 & 2020 & 40288 & 363 & 1 & A & 1 & 190001 & 10306 & P & 4,7 & 100\\\\\n\t 22597116 & 2020 & 40321 & 363 & 1 & A & 2 & 190001 &  4101 & P & 4,1 & 100\\\\\n\t  2872279 & 2020 & 40381 & 363 & 1 & F & 2 & 198604 &  5702 & P & 5,6 & 100\\\\\n\t 17124696 & 2020 & 40381 & 363 & 1 & F & 2 & 190001 &  5703 & T & NA  &  NA\\\\\n\t 14276846 & 2020 & 40407 & 363 & 1 & C & 1 & 198808 &  5502 & P & 5,6 &  85\\\\\n\t 22431425 & 2020 & 40422 & 110 & 1 & A & 1 & 201404 &  1107 & P & 6,7 & 100\\\\\n\t 25799569 & 2020 & 40429 & 463 & 4 & B & 2 & 200208 &  1101 & P & 5,8 &  85\\\\\n\t 23305571 & 2020 & 40429 & 663 & 3 & A & 2 & 199305 &  1101 & P & 5   & 100\\\\\n\t 26062934 & 2020 & 41295 & 363 & 3 & A & 2 & 200208 & 13130 & P & 6,4 &  85\\\\\n\t 20498621 & 2020 & 41533 & 363 & 1 & A & 2 & 199311 & 14203 & P & 6,9 &  95\\\\\n\t  6900636 & 2020 & 41617 & 363 & 3 & A & 2 & 199102 & 13114 & P & 5,2 & 100\\\\\n\t 10500147 & 2020 & 41617 & 363 & 3 & A & 2 & 198911 & 13114 & P & 5,1 & 100\\\\\n\\end{tabular}\n",
            "text/markdown": "\nA data.frame: 3616914 × 12\n\n| MRUN &lt;int&gt; | AGNO &lt;int&gt; | RBD &lt;int&gt; | COD_ENSE &lt;int&gt; | COD_GRADO &lt;int&gt; | LET_CUR &lt;chr&gt; | GEN_ALU &lt;int&gt; | FEC_NAC_ALU &lt;chr&gt; | COD_COM_ALU &lt;int&gt; | SIT_FIN_R &lt;chr&gt; | PROM_GRAL &lt;chr&gt; | ASISTENCIA &lt;int&gt; |\n|---|---|---|---|---|---|---|---|---|---|---|---|\n|  10081 | 2002 | 1 | 561 | 1 | A | 1 | Sep 16 | 1201 | Y | NA  |  NA |\n|  13604 | 2002 | 1 | 610 | 3 | F | 2 | Jan 17 | 1201 | P | 5,1 |  91 |\n|  20935 | 2002 | 1 | 561 | 3 | A | 1 | Feb 11 | 1201 | P | 6   |  99 |\n|  30441 | 2002 | 1 | 510 | 2 | D | 1 | Jan  2 | 1201 | P | 5,6 |  97 |\n|  37399 | 2002 | 1 | 510 | 3 | G | 1 | Sep 15 | 1201 | P | 4,9 |  92 |\n|  53226 | 2002 | 1 | 510 | 3 | E | 1 | Dec 10 | 1201 | P | 5,1 |  86 |\n|  67099 | 2002 | 1 | 510 | 1 | D | 2 | May 23 | 1201 | P | 6,5 | 100 |\n|  81228 | 2002 | 1 | 510 | 3 | B | 1 | Apr 12 | 1201 | P | 5,7 |  99 |\n|  92465 | 2002 | 1 | 510 | 1 | L | 1 | Jan 11 | 1201 | P | 5,5 |  94 |\n| 144840 | 2002 | 1 | 610 | 3 | H | 2 | Jul 19 | 1201 | P | 6,4 |  91 |\n| 154126 | 2002 | 1 | 561 | 4 | D | 1 | Feb  1 | 1201 | Y | NA  |  NA |\n| 186329 | 2002 | 1 | 510 | 3 | A | 1 | Mar 21 | 1201 | P | 5,1 |  93 |\n| 190998 | 2002 | 1 | 661 | 3 | E | 2 | Apr  2 | 1201 | Y | NA  |  NA |\n| 235795 | 2002 | 1 | 510 | 1 | B | 2 | Sep 19 | 1201 | P | 5,1 |  86 |\n| 248297 | 2002 | 1 | 561 | 1 | C | 1 | Dec 28 | 1201 | Y | NA  |  NA |\n| 254098 | 2002 | 1 | 661 | 1 | E | 2 | May 11 | 1201 | P | 6,8 |  99 |\n| 275108 | 2002 | 1 | 510 | 1 | J | 1 | Jul 30 | 1201 | P | 5,1 |  85 |\n| 306218 | 2002 | 1 | 610 | 2 | I | 2 | Mar 12 | 1201 | P | 4,9 |  91 |\n| 315918 | 2002 | 1 | 661 | 3 | F | 2 | Jan 19 | 1201 | P | 6,2 |  96 |\n| 315997 | 2002 | 1 | 610 | 3 | H | 1 | Dec 31 | 1201 | P | 5,3 |  90 |\n| 321118 | 2002 | 1 | 510 | 2 | A | 1 | Apr 29 | 1201 | P | 5   |  85 |\n| 344684 | 2002 | 1 | 561 | 1 | A | 1 | Sep  9 | 1201 | Y | NA  |  NA |\n| 353303 | 2002 | 1 | 510 | 3 | A | 1 | Mar 10 | 1201 | P | 5,8 |  94 |\n| 355298 | 2002 | 1 | 510 | 1 | L | 1 | Mar 15 | 1201 | P | 6   |  95 |\n| 381507 | 2002 | 1 | 610 | 3 | H | 2 | Mar  8 | 1201 | P | 5,4 |  94 |\n| 425328 | 2002 | 1 | 510 | 1 | B | 2 | Nov 17 | 1201 | P | 5,4 |  94 |\n| 427524 | 2002 | 1 | 510 | 1 | B | 1 | Jan 30 | 1201 | P | 6,1 |  95 |\n| 432375 | 2002 | 1 | 510 | 2 | D | 1 | Jul 27 | 1201 | Y | NA  |  NA |\n| 448110 | 2002 | 1 | 510 | 2 | A | 1 | Nov  9 | 1201 | P | 5,5 |  94 |\n| 462647 | 2002 | 1 | 510 | 3 | E | 1 | Jul  3 | 1201 | P | 5,4 |  97 |\n| ⋮ | ⋮ | ⋮ | ⋮ | ⋮ | ⋮ | ⋮ | ⋮ | ⋮ | ⋮ | ⋮ | ⋮ |\n| 17404039 | 2020 | 31375 | 363 | 1 | B | 1 | 190001 | 13501 | T | NA  |  NA |\n| 15546340 | 2020 | 31388 | 363 | 1 | A | 2 | 199505 | 13201 | P | 5,4 |  85 |\n| 16634016 | 2020 | 31395 | 363 | 1 | A | 1 | 190001 |  7405 | P | 4,3 | 100 |\n|  2288753 | 2020 | 31428 | 363 | 1 | B | 2 | 190001 | 13501 | P | 5   |  90 |\n| 14389231 | 2020 | 31428 | 363 | 1 | C | 1 | 199209 | 13501 | P | 4,9 |  88 |\n|  2308547 | 2020 | 31444 | 165 | 2 | A | 1 | 190001 |  5101 | Y | NA  |  NA |\n|  9138718 | 2020 | 31444 | 363 | 1 | A | 1 | 190001 |  5605 | Y | NA  |  NA |\n| 17288197 | 2020 | 31444 | 363 | 1 | A | 1 | 190001 | 13110 | P | 6,6 | 100 |\n|  8073256 | 2020 | 31486 | 363 | 1 | A | 2 | 198706 |  7401 | Y | NA  |  NA |\n| 17119787 | 2020 | 31486 | 363 | 1 | A | 1 | 190001 |  7401 | P | 6   | 100 |\n| 17119787 | 2020 | 31486 | 363 | 3 | A | 1 | 190001 |  7401 | T | NA  |  NA |\n| 11111729 | 2020 | 40076 | 363 | 1 | A | 1 | 190001 |  4102 | Y | NA  |  NA |\n| 20110415 | 2020 | 40076 | 363 | 1 | D | 1 | 190001 |  4102 | P | 5,2 |  98 |\n|  2682928 | 2020 | 40160 | 363 | 1 | J | 2 | 197804 |  5702 | P | 6,5 | 100 |\n| 21738452 | 2020 | 40160 | 363 | 1 | J | 2 | 197408 |  5702 | P | 6,3 | 100 |\n| 23221790 | 2020 | 40160 | 363 | 1 | Ñ | 2 | 198711 |  5704 | R | 2   |  50 |\n|  6530946 | 2020 | 40160 | 363 | 3 | F | 1 | 199009 |  5401 | R | 2   |  50 |\n| 25524212 | 2020 | 40253 | 110 | 6 | A | 1 | 200904 |  1107 | P | 6,5 | 100 |\n|  6745085 | 2020 | 40288 | 363 | 1 | A | 1 | 190001 | 10306 | P | 4,7 | 100 |\n| 22597116 | 2020 | 40321 | 363 | 1 | A | 2 | 190001 |  4101 | P | 4,1 | 100 |\n|  2872279 | 2020 | 40381 | 363 | 1 | F | 2 | 198604 |  5702 | P | 5,6 | 100 |\n| 17124696 | 2020 | 40381 | 363 | 1 | F | 2 | 190001 |  5703 | T | NA  |  NA |\n| 14276846 | 2020 | 40407 | 363 | 1 | C | 1 | 198808 |  5502 | P | 5,6 |  85 |\n| 22431425 | 2020 | 40422 | 110 | 1 | A | 1 | 201404 |  1107 | P | 6,7 | 100 |\n| 25799569 | 2020 | 40429 | 463 | 4 | B | 2 | 200208 |  1101 | P | 5,8 |  85 |\n| 23305571 | 2020 | 40429 | 663 | 3 | A | 2 | 199305 |  1101 | P | 5   | 100 |\n| 26062934 | 2020 | 41295 | 363 | 3 | A | 2 | 200208 | 13130 | P | 6,4 |  85 |\n| 20498621 | 2020 | 41533 | 363 | 1 | A | 2 | 199311 | 14203 | P | 6,9 |  95 |\n|  6900636 | 2020 | 41617 | 363 | 3 | A | 2 | 199102 | 13114 | P | 5,2 | 100 |\n| 10500147 | 2020 | 41617 | 363 | 3 | A | 2 | 198911 | 13114 | P | 5,1 | 100 |\n\n",
            "text/html": [
              "<table class=\"dataframe\">\n",
              "<caption>A data.frame: 3616914 × 12</caption>\n",
              "<thead>\n",
              "\t<tr><th scope=col>MRUN</th><th scope=col>AGNO</th><th scope=col>RBD</th><th scope=col>COD_ENSE</th><th scope=col>COD_GRADO</th><th scope=col>LET_CUR</th><th scope=col>GEN_ALU</th><th scope=col>FEC_NAC_ALU</th><th scope=col>COD_COM_ALU</th><th scope=col>SIT_FIN_R</th><th scope=col>PROM_GRAL</th><th scope=col>ASISTENCIA</th></tr>\n",
              "\t<tr><th scope=col>&lt;int&gt;</th><th scope=col>&lt;int&gt;</th><th scope=col>&lt;int&gt;</th><th scope=col>&lt;int&gt;</th><th scope=col>&lt;int&gt;</th><th scope=col>&lt;chr&gt;</th><th scope=col>&lt;int&gt;</th><th scope=col>&lt;chr&gt;</th><th scope=col>&lt;int&gt;</th><th scope=col>&lt;chr&gt;</th><th scope=col>&lt;chr&gt;</th><th scope=col>&lt;int&gt;</th></tr>\n",
              "</thead>\n",
              "<tbody>\n",
              "\t<tr><td> 10081</td><td>2002</td><td>1</td><td>561</td><td>1</td><td>A</td><td>1</td><td>Sep 16</td><td>1201</td><td>Y</td><td>NA </td><td> NA</td></tr>\n",
              "\t<tr><td> 13604</td><td>2002</td><td>1</td><td>610</td><td>3</td><td>F</td><td>2</td><td>Jan 17</td><td>1201</td><td>P</td><td>5,1</td><td> 91</td></tr>\n",
              "\t<tr><td> 20935</td><td>2002</td><td>1</td><td>561</td><td>3</td><td>A</td><td>1</td><td>Feb 11</td><td>1201</td><td>P</td><td>6  </td><td> 99</td></tr>\n",
              "\t<tr><td> 30441</td><td>2002</td><td>1</td><td>510</td><td>2</td><td>D</td><td>1</td><td>Jan  2</td><td>1201</td><td>P</td><td>5,6</td><td> 97</td></tr>\n",
              "\t<tr><td> 37399</td><td>2002</td><td>1</td><td>510</td><td>3</td><td>G</td><td>1</td><td>Sep 15</td><td>1201</td><td>P</td><td>4,9</td><td> 92</td></tr>\n",
              "\t<tr><td> 53226</td><td>2002</td><td>1</td><td>510</td><td>3</td><td>E</td><td>1</td><td>Dec 10</td><td>1201</td><td>P</td><td>5,1</td><td> 86</td></tr>\n",
              "\t<tr><td> 67099</td><td>2002</td><td>1</td><td>510</td><td>1</td><td>D</td><td>2</td><td>May 23</td><td>1201</td><td>P</td><td>6,5</td><td>100</td></tr>\n",
              "\t<tr><td> 81228</td><td>2002</td><td>1</td><td>510</td><td>3</td><td>B</td><td>1</td><td>Apr 12</td><td>1201</td><td>P</td><td>5,7</td><td> 99</td></tr>\n",
              "\t<tr><td> 92465</td><td>2002</td><td>1</td><td>510</td><td>1</td><td>L</td><td>1</td><td>Jan 11</td><td>1201</td><td>P</td><td>5,5</td><td> 94</td></tr>\n",
              "\t<tr><td>144840</td><td>2002</td><td>1</td><td>610</td><td>3</td><td>H</td><td>2</td><td>Jul 19</td><td>1201</td><td>P</td><td>6,4</td><td> 91</td></tr>\n",
              "\t<tr><td>154126</td><td>2002</td><td>1</td><td>561</td><td>4</td><td>D</td><td>1</td><td>Feb  1</td><td>1201</td><td>Y</td><td>NA </td><td> NA</td></tr>\n",
              "\t<tr><td>186329</td><td>2002</td><td>1</td><td>510</td><td>3</td><td>A</td><td>1</td><td>Mar 21</td><td>1201</td><td>P</td><td>5,1</td><td> 93</td></tr>\n",
              "\t<tr><td>190998</td><td>2002</td><td>1</td><td>661</td><td>3</td><td>E</td><td>2</td><td>Apr  2</td><td>1201</td><td>Y</td><td>NA </td><td> NA</td></tr>\n",
              "\t<tr><td>235795</td><td>2002</td><td>1</td><td>510</td><td>1</td><td>B</td><td>2</td><td>Sep 19</td><td>1201</td><td>P</td><td>5,1</td><td> 86</td></tr>\n",
              "\t<tr><td>248297</td><td>2002</td><td>1</td><td>561</td><td>1</td><td>C</td><td>1</td><td>Dec 28</td><td>1201</td><td>Y</td><td>NA </td><td> NA</td></tr>\n",
              "\t<tr><td>254098</td><td>2002</td><td>1</td><td>661</td><td>1</td><td>E</td><td>2</td><td>May 11</td><td>1201</td><td>P</td><td>6,8</td><td> 99</td></tr>\n",
              "\t<tr><td>275108</td><td>2002</td><td>1</td><td>510</td><td>1</td><td>J</td><td>1</td><td>Jul 30</td><td>1201</td><td>P</td><td>5,1</td><td> 85</td></tr>\n",
              "\t<tr><td>306218</td><td>2002</td><td>1</td><td>610</td><td>2</td><td>I</td><td>2</td><td>Mar 12</td><td>1201</td><td>P</td><td>4,9</td><td> 91</td></tr>\n",
              "\t<tr><td>315918</td><td>2002</td><td>1</td><td>661</td><td>3</td><td>F</td><td>2</td><td>Jan 19</td><td>1201</td><td>P</td><td>6,2</td><td> 96</td></tr>\n",
              "\t<tr><td>315997</td><td>2002</td><td>1</td><td>610</td><td>3</td><td>H</td><td>1</td><td>Dec 31</td><td>1201</td><td>P</td><td>5,3</td><td> 90</td></tr>\n",
              "\t<tr><td>321118</td><td>2002</td><td>1</td><td>510</td><td>2</td><td>A</td><td>1</td><td>Apr 29</td><td>1201</td><td>P</td><td>5  </td><td> 85</td></tr>\n",
              "\t<tr><td>344684</td><td>2002</td><td>1</td><td>561</td><td>1</td><td>A</td><td>1</td><td>Sep  9</td><td>1201</td><td>Y</td><td>NA </td><td> NA</td></tr>\n",
              "\t<tr><td>353303</td><td>2002</td><td>1</td><td>510</td><td>3</td><td>A</td><td>1</td><td>Mar 10</td><td>1201</td><td>P</td><td>5,8</td><td> 94</td></tr>\n",
              "\t<tr><td>355298</td><td>2002</td><td>1</td><td>510</td><td>1</td><td>L</td><td>1</td><td>Mar 15</td><td>1201</td><td>P</td><td>6  </td><td> 95</td></tr>\n",
              "\t<tr><td>381507</td><td>2002</td><td>1</td><td>610</td><td>3</td><td>H</td><td>2</td><td>Mar  8</td><td>1201</td><td>P</td><td>5,4</td><td> 94</td></tr>\n",
              "\t<tr><td>425328</td><td>2002</td><td>1</td><td>510</td><td>1</td><td>B</td><td>2</td><td>Nov 17</td><td>1201</td><td>P</td><td>5,4</td><td> 94</td></tr>\n",
              "\t<tr><td>427524</td><td>2002</td><td>1</td><td>510</td><td>1</td><td>B</td><td>1</td><td>Jan 30</td><td>1201</td><td>P</td><td>6,1</td><td> 95</td></tr>\n",
              "\t<tr><td>432375</td><td>2002</td><td>1</td><td>510</td><td>2</td><td>D</td><td>1</td><td>Jul 27</td><td>1201</td><td>Y</td><td>NA </td><td> NA</td></tr>\n",
              "\t<tr><td>448110</td><td>2002</td><td>1</td><td>510</td><td>2</td><td>A</td><td>1</td><td>Nov  9</td><td>1201</td><td>P</td><td>5,5</td><td> 94</td></tr>\n",
              "\t<tr><td>462647</td><td>2002</td><td>1</td><td>510</td><td>3</td><td>E</td><td>1</td><td>Jul  3</td><td>1201</td><td>P</td><td>5,4</td><td> 97</td></tr>\n",
              "\t<tr><td>⋮</td><td>⋮</td><td>⋮</td><td>⋮</td><td>⋮</td><td>⋮</td><td>⋮</td><td>⋮</td><td>⋮</td><td>⋮</td><td>⋮</td><td>⋮</td></tr>\n",
              "\t<tr><td>17404039</td><td>2020</td><td>31375</td><td>363</td><td>1</td><td>B</td><td>1</td><td>190001</td><td>13501</td><td>T</td><td>NA </td><td> NA</td></tr>\n",
              "\t<tr><td>15546340</td><td>2020</td><td>31388</td><td>363</td><td>1</td><td>A</td><td>2</td><td>199505</td><td>13201</td><td>P</td><td>5,4</td><td> 85</td></tr>\n",
              "\t<tr><td>16634016</td><td>2020</td><td>31395</td><td>363</td><td>1</td><td>A</td><td>1</td><td>190001</td><td> 7405</td><td>P</td><td>4,3</td><td>100</td></tr>\n",
              "\t<tr><td> 2288753</td><td>2020</td><td>31428</td><td>363</td><td>1</td><td>B</td><td>2</td><td>190001</td><td>13501</td><td>P</td><td>5  </td><td> 90</td></tr>\n",
              "\t<tr><td>14389231</td><td>2020</td><td>31428</td><td>363</td><td>1</td><td>C</td><td>1</td><td>199209</td><td>13501</td><td>P</td><td>4,9</td><td> 88</td></tr>\n",
              "\t<tr><td> 2308547</td><td>2020</td><td>31444</td><td>165</td><td>2</td><td>A</td><td>1</td><td>190001</td><td> 5101</td><td>Y</td><td>NA </td><td> NA</td></tr>\n",
              "\t<tr><td> 9138718</td><td>2020</td><td>31444</td><td>363</td><td>1</td><td>A</td><td>1</td><td>190001</td><td> 5605</td><td>Y</td><td>NA </td><td> NA</td></tr>\n",
              "\t<tr><td>17288197</td><td>2020</td><td>31444</td><td>363</td><td>1</td><td>A</td><td>1</td><td>190001</td><td>13110</td><td>P</td><td>6,6</td><td>100</td></tr>\n",
              "\t<tr><td> 8073256</td><td>2020</td><td>31486</td><td>363</td><td>1</td><td>A</td><td>2</td><td>198706</td><td> 7401</td><td>Y</td><td>NA </td><td> NA</td></tr>\n",
              "\t<tr><td>17119787</td><td>2020</td><td>31486</td><td>363</td><td>1</td><td>A</td><td>1</td><td>190001</td><td> 7401</td><td>P</td><td>6  </td><td>100</td></tr>\n",
              "\t<tr><td>17119787</td><td>2020</td><td>31486</td><td>363</td><td>3</td><td>A</td><td>1</td><td>190001</td><td> 7401</td><td>T</td><td>NA </td><td> NA</td></tr>\n",
              "\t<tr><td>11111729</td><td>2020</td><td>40076</td><td>363</td><td>1</td><td>A</td><td>1</td><td>190001</td><td> 4102</td><td>Y</td><td>NA </td><td> NA</td></tr>\n",
              "\t<tr><td>20110415</td><td>2020</td><td>40076</td><td>363</td><td>1</td><td>D</td><td>1</td><td>190001</td><td> 4102</td><td>P</td><td>5,2</td><td> 98</td></tr>\n",
              "\t<tr><td> 2682928</td><td>2020</td><td>40160</td><td>363</td><td>1</td><td>J</td><td>2</td><td>197804</td><td> 5702</td><td>P</td><td>6,5</td><td>100</td></tr>\n",
              "\t<tr><td>21738452</td><td>2020</td><td>40160</td><td>363</td><td>1</td><td>J</td><td>2</td><td>197408</td><td> 5702</td><td>P</td><td>6,3</td><td>100</td></tr>\n",
              "\t<tr><td>23221790</td><td>2020</td><td>40160</td><td>363</td><td>1</td><td>Ñ</td><td>2</td><td>198711</td><td> 5704</td><td>R</td><td>2  </td><td> 50</td></tr>\n",
              "\t<tr><td> 6530946</td><td>2020</td><td>40160</td><td>363</td><td>3</td><td>F</td><td>1</td><td>199009</td><td> 5401</td><td>R</td><td>2  </td><td> 50</td></tr>\n",
              "\t<tr><td>25524212</td><td>2020</td><td>40253</td><td>110</td><td>6</td><td>A</td><td>1</td><td>200904</td><td> 1107</td><td>P</td><td>6,5</td><td>100</td></tr>\n",
              "\t<tr><td> 6745085</td><td>2020</td><td>40288</td><td>363</td><td>1</td><td>A</td><td>1</td><td>190001</td><td>10306</td><td>P</td><td>4,7</td><td>100</td></tr>\n",
              "\t<tr><td>22597116</td><td>2020</td><td>40321</td><td>363</td><td>1</td><td>A</td><td>2</td><td>190001</td><td> 4101</td><td>P</td><td>4,1</td><td>100</td></tr>\n",
              "\t<tr><td> 2872279</td><td>2020</td><td>40381</td><td>363</td><td>1</td><td>F</td><td>2</td><td>198604</td><td> 5702</td><td>P</td><td>5,6</td><td>100</td></tr>\n",
              "\t<tr><td>17124696</td><td>2020</td><td>40381</td><td>363</td><td>1</td><td>F</td><td>2</td><td>190001</td><td> 5703</td><td>T</td><td>NA </td><td> NA</td></tr>\n",
              "\t<tr><td>14276846</td><td>2020</td><td>40407</td><td>363</td><td>1</td><td>C</td><td>1</td><td>198808</td><td> 5502</td><td>P</td><td>5,6</td><td> 85</td></tr>\n",
              "\t<tr><td>22431425</td><td>2020</td><td>40422</td><td>110</td><td>1</td><td>A</td><td>1</td><td>201404</td><td> 1107</td><td>P</td><td>6,7</td><td>100</td></tr>\n",
              "\t<tr><td>25799569</td><td>2020</td><td>40429</td><td>463</td><td>4</td><td>B</td><td>2</td><td>200208</td><td> 1101</td><td>P</td><td>5,8</td><td> 85</td></tr>\n",
              "\t<tr><td>23305571</td><td>2020</td><td>40429</td><td>663</td><td>3</td><td>A</td><td>2</td><td>199305</td><td> 1101</td><td>P</td><td>5  </td><td>100</td></tr>\n",
              "\t<tr><td>26062934</td><td>2020</td><td>41295</td><td>363</td><td>3</td><td>A</td><td>2</td><td>200208</td><td>13130</td><td>P</td><td>6,4</td><td> 85</td></tr>\n",
              "\t<tr><td>20498621</td><td>2020</td><td>41533</td><td>363</td><td>1</td><td>A</td><td>2</td><td>199311</td><td>14203</td><td>P</td><td>6,9</td><td> 95</td></tr>\n",
              "\t<tr><td> 6900636</td><td>2020</td><td>41617</td><td>363</td><td>3</td><td>A</td><td>2</td><td>199102</td><td>13114</td><td>P</td><td>5,2</td><td>100</td></tr>\n",
              "\t<tr><td>10500147</td><td>2020</td><td>41617</td><td>363</td><td>3</td><td>A</td><td>2</td><td>198911</td><td>13114</td><td>P</td><td>5,1</td><td>100</td></tr>\n",
              "</tbody>\n",
              "</table>\n"
            ]
          },
          "metadata": {
            "tags": []
          }
        }
      ]
    },
    {
      "cell_type": "markdown",
      "metadata": {
        "id": "HYHzjN1TgYIX"
      },
      "source": [
        "OPCION 2:"
      ]
    },
    {
      "cell_type": "code",
      "metadata": {
        "colab": {
          "base_uri": "https://localhost:8080/",
          "height": 34
        },
        "id": "tqxttVD4gw4l",
        "outputId": "c32440bc-6493-4574-f4e1-ed3b6f24172f"
      },
      "source": [
        "dbExecute(conn,\"DELETE FROM alumnos \n",
        "WHERE MRUN IN (\n",
        "select \n",
        "MRUN\n",
        "from alumnos\n",
        "group by MRUN\n",
        "having count(DISTINCT FEC_NAC_ALU)>1 )\")"
      ],
      "execution_count": null,
      "outputs": [
        {
          "output_type": "display_data",
          "data": {
            "text/plain": [
              "[1] 2765454"
            ],
            "text/latex": "2765454",
            "text/markdown": "2765454",
            "text/html": [
              "2765454"
            ]
          },
          "metadata": {}
        }
      ]
    },
    {
      "cell_type": "code",
      "metadata": {
        "id": "ASPQ8-tQ3Iti",
        "colab": {
          "base_uri": "https://localhost:8080/",
          "height": 1000
        },
        "outputId": "23c2068a-23fe-4c0e-b2b4-8d79b0a34ac7"
      },
      "source": [
        "dbGetQuery(conn, \"\n",
        "select * from alumnos \")"
      ],
      "execution_count": null,
      "outputs": [
        {
          "output_type": "display_data",
          "data": {
            "text/plain": [
              "         MRUN     AGNO RBD   COD_ENSE COD_GRADO LET_CUR GEN_ALU FEC_NAC_ALU\n",
              "1         10178   2003 1     510      2         E       1       198805     \n",
              "2         11325   2003 1     510      3         F       1       198603     \n",
              "3         13604   2003 1     610      4         A       2       198501     \n",
              "4         20935   2003 1     561      4         C       1       197402     \n",
              "5         30441   2003 1     510      3         B       1       198701     \n",
              "6         37399   2003 1     510      4         F       1       198509     \n",
              "7         53226   2003 1     510      4         E       1       198512     \n",
              "8         67099   2003 1     610      2         B       2       198805     \n",
              "9         81228   2003 1     510      4         B       1       198504     \n",
              "10        92465   2003 1     510      2         E       1       198801     \n",
              "11       102121   2003 1     561      1         A       1       197010     \n",
              "12       109082   2003 1     510      1         H       1       198810     \n",
              "13       135353   2003 1     510      3         C       1       198704     \n",
              "14       144840   2003 1     610      4         B       2       198307     \n",
              "15       154126   2003 1     561      4         B       1       198102     \n",
              "16       186329   2003 1     510      4         A       1       198603     \n",
              "17       223163   2003 1     510      2         D       1       198711     \n",
              "18       235795   2003 1     610      2         A       2       198709     \n",
              "19       238176   2003 1     661      1         A       2       197611     \n",
              "20       254098   2003 1     661      3         A       2       196905     \n",
              "21       272299   2003 1     510      1         K       2       198512     \n",
              "22       275108   2003 1     510      2         G       1       198607     \n",
              "23       304373   2003 1     561      3         B       1       196502     \n",
              "24       315918   2003 1     661      4         A       2       196101     \n",
              "25       315997   2003 1     610      4         B       1       198512     \n",
              "26       321118   2003 1     510      3         D       1       198504     \n",
              "27       353303   2003 1     510      4         A       1       198603     \n",
              "28       355298   2003 1     510      2         E       1       198803     \n",
              "29       381507   2003 1     610      4         B       2       198603     \n",
              "30       425328   2003 1     610      2         A       2       198711     \n",
              "⋮        ⋮        ⋮    ⋮     ⋮        ⋮         ⋮       ⋮       ⋮          \n",
              "59629864 12996094 2020 41794 110      6         A       2       200804     \n",
              "59629865 16277858 2020 41794 110      6         A       1       200807     \n",
              "59629866 16314110 2020 41794 110      6         A       1       200511     \n",
              "59629867 16314743 2020 41794 110      6         A       1       200810     \n",
              "59629868 17523034 2020 41794 110      6         A       1       200805     \n",
              "59629869 19687454 2020 41794 110      6         A       1       200903     \n",
              "59629870 19948966 2020 41794 110      6         A       2       200810     \n",
              "59629871 20266685 2020 41794 110      6         A       1       200709     \n",
              "59629872 20532793 2020 41794 110      6         A       1       200805     \n",
              "59629873 21493949 2020 41794 110      6         A       1       200811     \n",
              "59629874 23042956 2020 41794 110      6         A       1       200810     \n",
              "59629875 23126559 2020 41794 110      6         A       2       200905     \n",
              "59629876 23292329 2020 41794 110      6         A       1       200806     \n",
              "59629877 23495906 2020 41794 110      6         A       1       200609     \n",
              "59629878 24917855 2020 41794 110      6         A       2       200804     \n",
              "59629879  1673648 2020 41807 110      1         A       1       201312     \n",
              "59629880  1682007 2020 41807 110      1         A       1       201210     \n",
              "59629881  2307712 2020 41807 110      1         A       1       201310     \n",
              "59629882  4123336 2020 41807 110      1         A       2       201312     \n",
              "59629883  9452556 2020 41807 110      1         A       1       201306     \n",
              "59629884 10677012 2020 41807 110      1         A       1       201403     \n",
              "59629885 12955269 2020 41807 110      1         A       2       201305     \n",
              "59629886 16118065 2020 41807 110      1         A       2       201308     \n",
              "59629887 17528820 2020 41807 110      1         A       2       201402     \n",
              "59629888 20260619 2020 41807 110      1         A       1       201402     \n",
              "59629889 23118564 2020 41807 110      1         A       2       201303     \n",
              "59629890 24866722 2020 41807 110      1         A       1       201308     \n",
              "59629891  1061812 2020 41807 110      2         A       1       201304     \n",
              "59629892  7012489 2020 41807 110      2         A       1       201106     \n",
              "59629893 25627923 2020 41807 110      2         A       1       201209     \n",
              "         COD_COM_ALU SIT_FIN_R PROM_GRAL ASISTENCIA\n",
              "1        1201        P         5,6        95       \n",
              "2        1201        P         5,7        85       \n",
              "3        1201        P         5,2        93       \n",
              "4        1201        P         5,7        94       \n",
              "5        1201        P         5,6        98       \n",
              "6        1201        P         4,9        92       \n",
              "7        1201        P         4,9        86       \n",
              "8        1201        P         6,6        91       \n",
              "9        1201        P         5,9        97       \n",
              "10       1201        P         6          99       \n",
              "11       1201        P         6          94       \n",
              "12       1201        P         4,5        85       \n",
              "13       1201        P         4,7        85       \n",
              "14       1201        P         6          99       \n",
              "15       1201        Y         NA         NA       \n",
              "16       1201        P         5,3        89       \n",
              "17       1201        P         5,2        86       \n",
              "18       1201        P         5,2        88       \n",
              "19       1201        P         6,7       100       \n",
              "20       1201        P         6,8       100       \n",
              "21       1201        P         4,6        89       \n",
              "22       1201        P         5,1        90       \n",
              "23       1201        Y         NA         NA       \n",
              "24       1201        P         6,4        94       \n",
              "25       1201        P         5,8        88       \n",
              "26       1201        Y         NA         NA       \n",
              "27       1201        P         5,9        95       \n",
              "28       1201        P         6,2        99       \n",
              "29       1201        P         5,5        86       \n",
              "30       1201        P         5,6        95       \n",
              "⋮        ⋮           ⋮         ⋮         ⋮         \n",
              "59629864 13129       T         NA         NA       \n",
              "59629865 13121       T         NA         NA       \n",
              "59629866 13201       T         NA         NA       \n",
              "59629867 13116       P         6         100       \n",
              "59629868 13121       P         6,5       100       \n",
              "59629869 13122       P         6,3       100       \n",
              "59629870 13105       P         6,2       100       \n",
              "59629871 13105       T         NA         NA       \n",
              "59629872 13302       P         5,6       100       \n",
              "59629873 13101       P         6,9       100       \n",
              "59629874 13111       P         6,3       100       \n",
              "59629875 13130       P         6,5       100       \n",
              "59629876 13131       T         NA         NA       \n",
              "59629877 13129       P         6,1       100       \n",
              "59629878 13131       P         6,2       100       \n",
              "59629879 13118       Y         NA         NA       \n",
              "59629880 13130       P         6,8       100       \n",
              "59629881 13130       P         5,1       100       \n",
              "59629882 13101       P         6,8       100       \n",
              "59629883 13127       P         6,7       100       \n",
              "59629884 13130       P         6,8       100       \n",
              "59629885 13130       P         6,6       100       \n",
              "59629886 13121       P         6,7       100       \n",
              "59629887 13127       P         6,9       100       \n",
              "59629888 13101       P         6,8       100       \n",
              "59629889 13129       P         6,8       100       \n",
              "59629890 13121       P         6,9       100       \n",
              "59629891 13130       P         7         100       \n",
              "59629892 13131       P         6,9       100       \n",
              "59629893 13101       P         7         100       "
            ],
            "text/latex": "A data.frame: 59629893 × 12\n\\begin{tabular}{llllllllllll}\n MRUN & AGNO & RBD & COD\\_ENSE & COD\\_GRADO & LET\\_CUR & GEN\\_ALU & FEC\\_NAC\\_ALU & COD\\_COM\\_ALU & SIT\\_FIN\\_R & PROM\\_GRAL & ASISTENCIA\\\\\n <int> & <int> & <int> & <int> & <int> & <chr> & <int> & <chr> & <int> & <chr> & <chr> & <int>\\\\\n\\hline\n\t  10178 & 2003 & 1 & 510 & 2 & E & 1 & 198805 & 1201 & P & 5,6 &  95\\\\\n\t  11325 & 2003 & 1 & 510 & 3 & F & 1 & 198603 & 1201 & P & 5,7 &  85\\\\\n\t  13604 & 2003 & 1 & 610 & 4 & A & 2 & 198501 & 1201 & P & 5,2 &  93\\\\\n\t  20935 & 2003 & 1 & 561 & 4 & C & 1 & 197402 & 1201 & P & 5,7 &  94\\\\\n\t  30441 & 2003 & 1 & 510 & 3 & B & 1 & 198701 & 1201 & P & 5,6 &  98\\\\\n\t  37399 & 2003 & 1 & 510 & 4 & F & 1 & 198509 & 1201 & P & 4,9 &  92\\\\\n\t  53226 & 2003 & 1 & 510 & 4 & E & 1 & 198512 & 1201 & P & 4,9 &  86\\\\\n\t  67099 & 2003 & 1 & 610 & 2 & B & 2 & 198805 & 1201 & P & 6,6 &  91\\\\\n\t  81228 & 2003 & 1 & 510 & 4 & B & 1 & 198504 & 1201 & P & 5,9 &  97\\\\\n\t  92465 & 2003 & 1 & 510 & 2 & E & 1 & 198801 & 1201 & P & 6   &  99\\\\\n\t 102121 & 2003 & 1 & 561 & 1 & A & 1 & 197010 & 1201 & P & 6   &  94\\\\\n\t 109082 & 2003 & 1 & 510 & 1 & H & 1 & 198810 & 1201 & P & 4,5 &  85\\\\\n\t 135353 & 2003 & 1 & 510 & 3 & C & 1 & 198704 & 1201 & P & 4,7 &  85\\\\\n\t 144840 & 2003 & 1 & 610 & 4 & B & 2 & 198307 & 1201 & P & 6   &  99\\\\\n\t 154126 & 2003 & 1 & 561 & 4 & B & 1 & 198102 & 1201 & Y & NA  &  NA\\\\\n\t 186329 & 2003 & 1 & 510 & 4 & A & 1 & 198603 & 1201 & P & 5,3 &  89\\\\\n\t 223163 & 2003 & 1 & 510 & 2 & D & 1 & 198711 & 1201 & P & 5,2 &  86\\\\\n\t 235795 & 2003 & 1 & 610 & 2 & A & 2 & 198709 & 1201 & P & 5,2 &  88\\\\\n\t 238176 & 2003 & 1 & 661 & 1 & A & 2 & 197611 & 1201 & P & 6,7 & 100\\\\\n\t 254098 & 2003 & 1 & 661 & 3 & A & 2 & 196905 & 1201 & P & 6,8 & 100\\\\\n\t 272299 & 2003 & 1 & 510 & 1 & K & 2 & 198512 & 1201 & P & 4,6 &  89\\\\\n\t 275108 & 2003 & 1 & 510 & 2 & G & 1 & 198607 & 1201 & P & 5,1 &  90\\\\\n\t 304373 & 2003 & 1 & 561 & 3 & B & 1 & 196502 & 1201 & Y & NA  &  NA\\\\\n\t 315918 & 2003 & 1 & 661 & 4 & A & 2 & 196101 & 1201 & P & 6,4 &  94\\\\\n\t 315997 & 2003 & 1 & 610 & 4 & B & 1 & 198512 & 1201 & P & 5,8 &  88\\\\\n\t 321118 & 2003 & 1 & 510 & 3 & D & 1 & 198504 & 1201 & Y & NA  &  NA\\\\\n\t 353303 & 2003 & 1 & 510 & 4 & A & 1 & 198603 & 1201 & P & 5,9 &  95\\\\\n\t 355298 & 2003 & 1 & 510 & 2 & E & 1 & 198803 & 1201 & P & 6,2 &  99\\\\\n\t 381507 & 2003 & 1 & 610 & 4 & B & 2 & 198603 & 1201 & P & 5,5 &  86\\\\\n\t 425328 & 2003 & 1 & 610 & 2 & A & 2 & 198711 & 1201 & P & 5,6 &  95\\\\\n\t ⋮ & ⋮ & ⋮ & ⋮ & ⋮ & ⋮ & ⋮ & ⋮ & ⋮ & ⋮ & ⋮ & ⋮\\\\\n\t 12996094 & 2020 & 41794 & 110 & 6 & A & 2 & 200804 & 13129 & T & NA  &  NA\\\\\n\t 16277858 & 2020 & 41794 & 110 & 6 & A & 1 & 200807 & 13121 & T & NA  &  NA\\\\\n\t 16314110 & 2020 & 41794 & 110 & 6 & A & 1 & 200511 & 13201 & T & NA  &  NA\\\\\n\t 16314743 & 2020 & 41794 & 110 & 6 & A & 1 & 200810 & 13116 & P & 6   & 100\\\\\n\t 17523034 & 2020 & 41794 & 110 & 6 & A & 1 & 200805 & 13121 & P & 6,5 & 100\\\\\n\t 19687454 & 2020 & 41794 & 110 & 6 & A & 1 & 200903 & 13122 & P & 6,3 & 100\\\\\n\t 19948966 & 2020 & 41794 & 110 & 6 & A & 2 & 200810 & 13105 & P & 6,2 & 100\\\\\n\t 20266685 & 2020 & 41794 & 110 & 6 & A & 1 & 200709 & 13105 & T & NA  &  NA\\\\\n\t 20532793 & 2020 & 41794 & 110 & 6 & A & 1 & 200805 & 13302 & P & 5,6 & 100\\\\\n\t 21493949 & 2020 & 41794 & 110 & 6 & A & 1 & 200811 & 13101 & P & 6,9 & 100\\\\\n\t 23042956 & 2020 & 41794 & 110 & 6 & A & 1 & 200810 & 13111 & P & 6,3 & 100\\\\\n\t 23126559 & 2020 & 41794 & 110 & 6 & A & 2 & 200905 & 13130 & P & 6,5 & 100\\\\\n\t 23292329 & 2020 & 41794 & 110 & 6 & A & 1 & 200806 & 13131 & T & NA  &  NA\\\\\n\t 23495906 & 2020 & 41794 & 110 & 6 & A & 1 & 200609 & 13129 & P & 6,1 & 100\\\\\n\t 24917855 & 2020 & 41794 & 110 & 6 & A & 2 & 200804 & 13131 & P & 6,2 & 100\\\\\n\t  1673648 & 2020 & 41807 & 110 & 1 & A & 1 & 201312 & 13118 & Y & NA  &  NA\\\\\n\t  1682007 & 2020 & 41807 & 110 & 1 & A & 1 & 201210 & 13130 & P & 6,8 & 100\\\\\n\t  2307712 & 2020 & 41807 & 110 & 1 & A & 1 & 201310 & 13130 & P & 5,1 & 100\\\\\n\t  4123336 & 2020 & 41807 & 110 & 1 & A & 2 & 201312 & 13101 & P & 6,8 & 100\\\\\n\t  9452556 & 2020 & 41807 & 110 & 1 & A & 1 & 201306 & 13127 & P & 6,7 & 100\\\\\n\t 10677012 & 2020 & 41807 & 110 & 1 & A & 1 & 201403 & 13130 & P & 6,8 & 100\\\\\n\t 12955269 & 2020 & 41807 & 110 & 1 & A & 2 & 201305 & 13130 & P & 6,6 & 100\\\\\n\t 16118065 & 2020 & 41807 & 110 & 1 & A & 2 & 201308 & 13121 & P & 6,7 & 100\\\\\n\t 17528820 & 2020 & 41807 & 110 & 1 & A & 2 & 201402 & 13127 & P & 6,9 & 100\\\\\n\t 20260619 & 2020 & 41807 & 110 & 1 & A & 1 & 201402 & 13101 & P & 6,8 & 100\\\\\n\t 23118564 & 2020 & 41807 & 110 & 1 & A & 2 & 201303 & 13129 & P & 6,8 & 100\\\\\n\t 24866722 & 2020 & 41807 & 110 & 1 & A & 1 & 201308 & 13121 & P & 6,9 & 100\\\\\n\t  1061812 & 2020 & 41807 & 110 & 2 & A & 1 & 201304 & 13130 & P & 7   & 100\\\\\n\t  7012489 & 2020 & 41807 & 110 & 2 & A & 1 & 201106 & 13131 & P & 6,9 & 100\\\\\n\t 25627923 & 2020 & 41807 & 110 & 2 & A & 1 & 201209 & 13101 & P & 7   & 100\\\\\n\\end{tabular}\n",
            "text/markdown": "\nA data.frame: 59629893 × 12\n\n| MRUN &lt;int&gt; | AGNO &lt;int&gt; | RBD &lt;int&gt; | COD_ENSE &lt;int&gt; | COD_GRADO &lt;int&gt; | LET_CUR &lt;chr&gt; | GEN_ALU &lt;int&gt; | FEC_NAC_ALU &lt;chr&gt; | COD_COM_ALU &lt;int&gt; | SIT_FIN_R &lt;chr&gt; | PROM_GRAL &lt;chr&gt; | ASISTENCIA &lt;int&gt; |\n|---|---|---|---|---|---|---|---|---|---|---|---|\n|  10178 | 2003 | 1 | 510 | 2 | E | 1 | 198805 | 1201 | P | 5,6 |  95 |\n|  11325 | 2003 | 1 | 510 | 3 | F | 1 | 198603 | 1201 | P | 5,7 |  85 |\n|  13604 | 2003 | 1 | 610 | 4 | A | 2 | 198501 | 1201 | P | 5,2 |  93 |\n|  20935 | 2003 | 1 | 561 | 4 | C | 1 | 197402 | 1201 | P | 5,7 |  94 |\n|  30441 | 2003 | 1 | 510 | 3 | B | 1 | 198701 | 1201 | P | 5,6 |  98 |\n|  37399 | 2003 | 1 | 510 | 4 | F | 1 | 198509 | 1201 | P | 4,9 |  92 |\n|  53226 | 2003 | 1 | 510 | 4 | E | 1 | 198512 | 1201 | P | 4,9 |  86 |\n|  67099 | 2003 | 1 | 610 | 2 | B | 2 | 198805 | 1201 | P | 6,6 |  91 |\n|  81228 | 2003 | 1 | 510 | 4 | B | 1 | 198504 | 1201 | P | 5,9 |  97 |\n|  92465 | 2003 | 1 | 510 | 2 | E | 1 | 198801 | 1201 | P | 6   |  99 |\n| 102121 | 2003 | 1 | 561 | 1 | A | 1 | 197010 | 1201 | P | 6   |  94 |\n| 109082 | 2003 | 1 | 510 | 1 | H | 1 | 198810 | 1201 | P | 4,5 |  85 |\n| 135353 | 2003 | 1 | 510 | 3 | C | 1 | 198704 | 1201 | P | 4,7 |  85 |\n| 144840 | 2003 | 1 | 610 | 4 | B | 2 | 198307 | 1201 | P | 6   |  99 |\n| 154126 | 2003 | 1 | 561 | 4 | B | 1 | 198102 | 1201 | Y | NA  |  NA |\n| 186329 | 2003 | 1 | 510 | 4 | A | 1 | 198603 | 1201 | P | 5,3 |  89 |\n| 223163 | 2003 | 1 | 510 | 2 | D | 1 | 198711 | 1201 | P | 5,2 |  86 |\n| 235795 | 2003 | 1 | 610 | 2 | A | 2 | 198709 | 1201 | P | 5,2 |  88 |\n| 238176 | 2003 | 1 | 661 | 1 | A | 2 | 197611 | 1201 | P | 6,7 | 100 |\n| 254098 | 2003 | 1 | 661 | 3 | A | 2 | 196905 | 1201 | P | 6,8 | 100 |\n| 272299 | 2003 | 1 | 510 | 1 | K | 2 | 198512 | 1201 | P | 4,6 |  89 |\n| 275108 | 2003 | 1 | 510 | 2 | G | 1 | 198607 | 1201 | P | 5,1 |  90 |\n| 304373 | 2003 | 1 | 561 | 3 | B | 1 | 196502 | 1201 | Y | NA  |  NA |\n| 315918 | 2003 | 1 | 661 | 4 | A | 2 | 196101 | 1201 | P | 6,4 |  94 |\n| 315997 | 2003 | 1 | 610 | 4 | B | 1 | 198512 | 1201 | P | 5,8 |  88 |\n| 321118 | 2003 | 1 | 510 | 3 | D | 1 | 198504 | 1201 | Y | NA  |  NA |\n| 353303 | 2003 | 1 | 510 | 4 | A | 1 | 198603 | 1201 | P | 5,9 |  95 |\n| 355298 | 2003 | 1 | 510 | 2 | E | 1 | 198803 | 1201 | P | 6,2 |  99 |\n| 381507 | 2003 | 1 | 610 | 4 | B | 2 | 198603 | 1201 | P | 5,5 |  86 |\n| 425328 | 2003 | 1 | 610 | 2 | A | 2 | 198711 | 1201 | P | 5,6 |  95 |\n| ⋮ | ⋮ | ⋮ | ⋮ | ⋮ | ⋮ | ⋮ | ⋮ | ⋮ | ⋮ | ⋮ | ⋮ |\n| 12996094 | 2020 | 41794 | 110 | 6 | A | 2 | 200804 | 13129 | T | NA  |  NA |\n| 16277858 | 2020 | 41794 | 110 | 6 | A | 1 | 200807 | 13121 | T | NA  |  NA |\n| 16314110 | 2020 | 41794 | 110 | 6 | A | 1 | 200511 | 13201 | T | NA  |  NA |\n| 16314743 | 2020 | 41794 | 110 | 6 | A | 1 | 200810 | 13116 | P | 6   | 100 |\n| 17523034 | 2020 | 41794 | 110 | 6 | A | 1 | 200805 | 13121 | P | 6,5 | 100 |\n| 19687454 | 2020 | 41794 | 110 | 6 | A | 1 | 200903 | 13122 | P | 6,3 | 100 |\n| 19948966 | 2020 | 41794 | 110 | 6 | A | 2 | 200810 | 13105 | P | 6,2 | 100 |\n| 20266685 | 2020 | 41794 | 110 | 6 | A | 1 | 200709 | 13105 | T | NA  |  NA |\n| 20532793 | 2020 | 41794 | 110 | 6 | A | 1 | 200805 | 13302 | P | 5,6 | 100 |\n| 21493949 | 2020 | 41794 | 110 | 6 | A | 1 | 200811 | 13101 | P | 6,9 | 100 |\n| 23042956 | 2020 | 41794 | 110 | 6 | A | 1 | 200810 | 13111 | P | 6,3 | 100 |\n| 23126559 | 2020 | 41794 | 110 | 6 | A | 2 | 200905 | 13130 | P | 6,5 | 100 |\n| 23292329 | 2020 | 41794 | 110 | 6 | A | 1 | 200806 | 13131 | T | NA  |  NA |\n| 23495906 | 2020 | 41794 | 110 | 6 | A | 1 | 200609 | 13129 | P | 6,1 | 100 |\n| 24917855 | 2020 | 41794 | 110 | 6 | A | 2 | 200804 | 13131 | P | 6,2 | 100 |\n|  1673648 | 2020 | 41807 | 110 | 1 | A | 1 | 201312 | 13118 | Y | NA  |  NA |\n|  1682007 | 2020 | 41807 | 110 | 1 | A | 1 | 201210 | 13130 | P | 6,8 | 100 |\n|  2307712 | 2020 | 41807 | 110 | 1 | A | 1 | 201310 | 13130 | P | 5,1 | 100 |\n|  4123336 | 2020 | 41807 | 110 | 1 | A | 2 | 201312 | 13101 | P | 6,8 | 100 |\n|  9452556 | 2020 | 41807 | 110 | 1 | A | 1 | 201306 | 13127 | P | 6,7 | 100 |\n| 10677012 | 2020 | 41807 | 110 | 1 | A | 1 | 201403 | 13130 | P | 6,8 | 100 |\n| 12955269 | 2020 | 41807 | 110 | 1 | A | 2 | 201305 | 13130 | P | 6,6 | 100 |\n| 16118065 | 2020 | 41807 | 110 | 1 | A | 2 | 201308 | 13121 | P | 6,7 | 100 |\n| 17528820 | 2020 | 41807 | 110 | 1 | A | 2 | 201402 | 13127 | P | 6,9 | 100 |\n| 20260619 | 2020 | 41807 | 110 | 1 | A | 1 | 201402 | 13101 | P | 6,8 | 100 |\n| 23118564 | 2020 | 41807 | 110 | 1 | A | 2 | 201303 | 13129 | P | 6,8 | 100 |\n| 24866722 | 2020 | 41807 | 110 | 1 | A | 1 | 201308 | 13121 | P | 6,9 | 100 |\n|  1061812 | 2020 | 41807 | 110 | 2 | A | 1 | 201304 | 13130 | P | 7   | 100 |\n|  7012489 | 2020 | 41807 | 110 | 2 | A | 1 | 201106 | 13131 | P | 6,9 | 100 |\n| 25627923 | 2020 | 41807 | 110 | 2 | A | 1 | 201209 | 13101 | P | 7   | 100 |\n\n",
            "text/html": [
              "<table class=\"dataframe\">\n",
              "<caption>A data.frame: 59629893 × 12</caption>\n",
              "<thead>\n",
              "\t<tr><th scope=col>MRUN</th><th scope=col>AGNO</th><th scope=col>RBD</th><th scope=col>COD_ENSE</th><th scope=col>COD_GRADO</th><th scope=col>LET_CUR</th><th scope=col>GEN_ALU</th><th scope=col>FEC_NAC_ALU</th><th scope=col>COD_COM_ALU</th><th scope=col>SIT_FIN_R</th><th scope=col>PROM_GRAL</th><th scope=col>ASISTENCIA</th></tr>\n",
              "\t<tr><th scope=col>&lt;int&gt;</th><th scope=col>&lt;int&gt;</th><th scope=col>&lt;int&gt;</th><th scope=col>&lt;int&gt;</th><th scope=col>&lt;int&gt;</th><th scope=col>&lt;chr&gt;</th><th scope=col>&lt;int&gt;</th><th scope=col>&lt;chr&gt;</th><th scope=col>&lt;int&gt;</th><th scope=col>&lt;chr&gt;</th><th scope=col>&lt;chr&gt;</th><th scope=col>&lt;int&gt;</th></tr>\n",
              "</thead>\n",
              "<tbody>\n",
              "\t<tr><td> 10178</td><td>2003</td><td>1</td><td>510</td><td>2</td><td>E</td><td>1</td><td>198805</td><td>1201</td><td>P</td><td>5,6</td><td> 95</td></tr>\n",
              "\t<tr><td> 11325</td><td>2003</td><td>1</td><td>510</td><td>3</td><td>F</td><td>1</td><td>198603</td><td>1201</td><td>P</td><td>5,7</td><td> 85</td></tr>\n",
              "\t<tr><td> 13604</td><td>2003</td><td>1</td><td>610</td><td>4</td><td>A</td><td>2</td><td>198501</td><td>1201</td><td>P</td><td>5,2</td><td> 93</td></tr>\n",
              "\t<tr><td> 20935</td><td>2003</td><td>1</td><td>561</td><td>4</td><td>C</td><td>1</td><td>197402</td><td>1201</td><td>P</td><td>5,7</td><td> 94</td></tr>\n",
              "\t<tr><td> 30441</td><td>2003</td><td>1</td><td>510</td><td>3</td><td>B</td><td>1</td><td>198701</td><td>1201</td><td>P</td><td>5,6</td><td> 98</td></tr>\n",
              "\t<tr><td> 37399</td><td>2003</td><td>1</td><td>510</td><td>4</td><td>F</td><td>1</td><td>198509</td><td>1201</td><td>P</td><td>4,9</td><td> 92</td></tr>\n",
              "\t<tr><td> 53226</td><td>2003</td><td>1</td><td>510</td><td>4</td><td>E</td><td>1</td><td>198512</td><td>1201</td><td>P</td><td>4,9</td><td> 86</td></tr>\n",
              "\t<tr><td> 67099</td><td>2003</td><td>1</td><td>610</td><td>2</td><td>B</td><td>2</td><td>198805</td><td>1201</td><td>P</td><td>6,6</td><td> 91</td></tr>\n",
              "\t<tr><td> 81228</td><td>2003</td><td>1</td><td>510</td><td>4</td><td>B</td><td>1</td><td>198504</td><td>1201</td><td>P</td><td>5,9</td><td> 97</td></tr>\n",
              "\t<tr><td> 92465</td><td>2003</td><td>1</td><td>510</td><td>2</td><td>E</td><td>1</td><td>198801</td><td>1201</td><td>P</td><td>6  </td><td> 99</td></tr>\n",
              "\t<tr><td>102121</td><td>2003</td><td>1</td><td>561</td><td>1</td><td>A</td><td>1</td><td>197010</td><td>1201</td><td>P</td><td>6  </td><td> 94</td></tr>\n",
              "\t<tr><td>109082</td><td>2003</td><td>1</td><td>510</td><td>1</td><td>H</td><td>1</td><td>198810</td><td>1201</td><td>P</td><td>4,5</td><td> 85</td></tr>\n",
              "\t<tr><td>135353</td><td>2003</td><td>1</td><td>510</td><td>3</td><td>C</td><td>1</td><td>198704</td><td>1201</td><td>P</td><td>4,7</td><td> 85</td></tr>\n",
              "\t<tr><td>144840</td><td>2003</td><td>1</td><td>610</td><td>4</td><td>B</td><td>2</td><td>198307</td><td>1201</td><td>P</td><td>6  </td><td> 99</td></tr>\n",
              "\t<tr><td>154126</td><td>2003</td><td>1</td><td>561</td><td>4</td><td>B</td><td>1</td><td>198102</td><td>1201</td><td>Y</td><td>NA </td><td> NA</td></tr>\n",
              "\t<tr><td>186329</td><td>2003</td><td>1</td><td>510</td><td>4</td><td>A</td><td>1</td><td>198603</td><td>1201</td><td>P</td><td>5,3</td><td> 89</td></tr>\n",
              "\t<tr><td>223163</td><td>2003</td><td>1</td><td>510</td><td>2</td><td>D</td><td>1</td><td>198711</td><td>1201</td><td>P</td><td>5,2</td><td> 86</td></tr>\n",
              "\t<tr><td>235795</td><td>2003</td><td>1</td><td>610</td><td>2</td><td>A</td><td>2</td><td>198709</td><td>1201</td><td>P</td><td>5,2</td><td> 88</td></tr>\n",
              "\t<tr><td>238176</td><td>2003</td><td>1</td><td>661</td><td>1</td><td>A</td><td>2</td><td>197611</td><td>1201</td><td>P</td><td>6,7</td><td>100</td></tr>\n",
              "\t<tr><td>254098</td><td>2003</td><td>1</td><td>661</td><td>3</td><td>A</td><td>2</td><td>196905</td><td>1201</td><td>P</td><td>6,8</td><td>100</td></tr>\n",
              "\t<tr><td>272299</td><td>2003</td><td>1</td><td>510</td><td>1</td><td>K</td><td>2</td><td>198512</td><td>1201</td><td>P</td><td>4,6</td><td> 89</td></tr>\n",
              "\t<tr><td>275108</td><td>2003</td><td>1</td><td>510</td><td>2</td><td>G</td><td>1</td><td>198607</td><td>1201</td><td>P</td><td>5,1</td><td> 90</td></tr>\n",
              "\t<tr><td>304373</td><td>2003</td><td>1</td><td>561</td><td>3</td><td>B</td><td>1</td><td>196502</td><td>1201</td><td>Y</td><td>NA </td><td> NA</td></tr>\n",
              "\t<tr><td>315918</td><td>2003</td><td>1</td><td>661</td><td>4</td><td>A</td><td>2</td><td>196101</td><td>1201</td><td>P</td><td>6,4</td><td> 94</td></tr>\n",
              "\t<tr><td>315997</td><td>2003</td><td>1</td><td>610</td><td>4</td><td>B</td><td>1</td><td>198512</td><td>1201</td><td>P</td><td>5,8</td><td> 88</td></tr>\n",
              "\t<tr><td>321118</td><td>2003</td><td>1</td><td>510</td><td>3</td><td>D</td><td>1</td><td>198504</td><td>1201</td><td>Y</td><td>NA </td><td> NA</td></tr>\n",
              "\t<tr><td>353303</td><td>2003</td><td>1</td><td>510</td><td>4</td><td>A</td><td>1</td><td>198603</td><td>1201</td><td>P</td><td>5,9</td><td> 95</td></tr>\n",
              "\t<tr><td>355298</td><td>2003</td><td>1</td><td>510</td><td>2</td><td>E</td><td>1</td><td>198803</td><td>1201</td><td>P</td><td>6,2</td><td> 99</td></tr>\n",
              "\t<tr><td>381507</td><td>2003</td><td>1</td><td>610</td><td>4</td><td>B</td><td>2</td><td>198603</td><td>1201</td><td>P</td><td>5,5</td><td> 86</td></tr>\n",
              "\t<tr><td>425328</td><td>2003</td><td>1</td><td>610</td><td>2</td><td>A</td><td>2</td><td>198711</td><td>1201</td><td>P</td><td>5,6</td><td> 95</td></tr>\n",
              "\t<tr><td>⋮</td><td>⋮</td><td>⋮</td><td>⋮</td><td>⋮</td><td>⋮</td><td>⋮</td><td>⋮</td><td>⋮</td><td>⋮</td><td>⋮</td><td>⋮</td></tr>\n",
              "\t<tr><td>12996094</td><td>2020</td><td>41794</td><td>110</td><td>6</td><td>A</td><td>2</td><td>200804</td><td>13129</td><td>T</td><td>NA </td><td> NA</td></tr>\n",
              "\t<tr><td>16277858</td><td>2020</td><td>41794</td><td>110</td><td>6</td><td>A</td><td>1</td><td>200807</td><td>13121</td><td>T</td><td>NA </td><td> NA</td></tr>\n",
              "\t<tr><td>16314110</td><td>2020</td><td>41794</td><td>110</td><td>6</td><td>A</td><td>1</td><td>200511</td><td>13201</td><td>T</td><td>NA </td><td> NA</td></tr>\n",
              "\t<tr><td>16314743</td><td>2020</td><td>41794</td><td>110</td><td>6</td><td>A</td><td>1</td><td>200810</td><td>13116</td><td>P</td><td>6  </td><td>100</td></tr>\n",
              "\t<tr><td>17523034</td><td>2020</td><td>41794</td><td>110</td><td>6</td><td>A</td><td>1</td><td>200805</td><td>13121</td><td>P</td><td>6,5</td><td>100</td></tr>\n",
              "\t<tr><td>19687454</td><td>2020</td><td>41794</td><td>110</td><td>6</td><td>A</td><td>1</td><td>200903</td><td>13122</td><td>P</td><td>6,3</td><td>100</td></tr>\n",
              "\t<tr><td>19948966</td><td>2020</td><td>41794</td><td>110</td><td>6</td><td>A</td><td>2</td><td>200810</td><td>13105</td><td>P</td><td>6,2</td><td>100</td></tr>\n",
              "\t<tr><td>20266685</td><td>2020</td><td>41794</td><td>110</td><td>6</td><td>A</td><td>1</td><td>200709</td><td>13105</td><td>T</td><td>NA </td><td> NA</td></tr>\n",
              "\t<tr><td>20532793</td><td>2020</td><td>41794</td><td>110</td><td>6</td><td>A</td><td>1</td><td>200805</td><td>13302</td><td>P</td><td>5,6</td><td>100</td></tr>\n",
              "\t<tr><td>21493949</td><td>2020</td><td>41794</td><td>110</td><td>6</td><td>A</td><td>1</td><td>200811</td><td>13101</td><td>P</td><td>6,9</td><td>100</td></tr>\n",
              "\t<tr><td>23042956</td><td>2020</td><td>41794</td><td>110</td><td>6</td><td>A</td><td>1</td><td>200810</td><td>13111</td><td>P</td><td>6,3</td><td>100</td></tr>\n",
              "\t<tr><td>23126559</td><td>2020</td><td>41794</td><td>110</td><td>6</td><td>A</td><td>2</td><td>200905</td><td>13130</td><td>P</td><td>6,5</td><td>100</td></tr>\n",
              "\t<tr><td>23292329</td><td>2020</td><td>41794</td><td>110</td><td>6</td><td>A</td><td>1</td><td>200806</td><td>13131</td><td>T</td><td>NA </td><td> NA</td></tr>\n",
              "\t<tr><td>23495906</td><td>2020</td><td>41794</td><td>110</td><td>6</td><td>A</td><td>1</td><td>200609</td><td>13129</td><td>P</td><td>6,1</td><td>100</td></tr>\n",
              "\t<tr><td>24917855</td><td>2020</td><td>41794</td><td>110</td><td>6</td><td>A</td><td>2</td><td>200804</td><td>13131</td><td>P</td><td>6,2</td><td>100</td></tr>\n",
              "\t<tr><td> 1673648</td><td>2020</td><td>41807</td><td>110</td><td>1</td><td>A</td><td>1</td><td>201312</td><td>13118</td><td>Y</td><td>NA </td><td> NA</td></tr>\n",
              "\t<tr><td> 1682007</td><td>2020</td><td>41807</td><td>110</td><td>1</td><td>A</td><td>1</td><td>201210</td><td>13130</td><td>P</td><td>6,8</td><td>100</td></tr>\n",
              "\t<tr><td> 2307712</td><td>2020</td><td>41807</td><td>110</td><td>1</td><td>A</td><td>1</td><td>201310</td><td>13130</td><td>P</td><td>5,1</td><td>100</td></tr>\n",
              "\t<tr><td> 4123336</td><td>2020</td><td>41807</td><td>110</td><td>1</td><td>A</td><td>2</td><td>201312</td><td>13101</td><td>P</td><td>6,8</td><td>100</td></tr>\n",
              "\t<tr><td> 9452556</td><td>2020</td><td>41807</td><td>110</td><td>1</td><td>A</td><td>1</td><td>201306</td><td>13127</td><td>P</td><td>6,7</td><td>100</td></tr>\n",
              "\t<tr><td>10677012</td><td>2020</td><td>41807</td><td>110</td><td>1</td><td>A</td><td>1</td><td>201403</td><td>13130</td><td>P</td><td>6,8</td><td>100</td></tr>\n",
              "\t<tr><td>12955269</td><td>2020</td><td>41807</td><td>110</td><td>1</td><td>A</td><td>2</td><td>201305</td><td>13130</td><td>P</td><td>6,6</td><td>100</td></tr>\n",
              "\t<tr><td>16118065</td><td>2020</td><td>41807</td><td>110</td><td>1</td><td>A</td><td>2</td><td>201308</td><td>13121</td><td>P</td><td>6,7</td><td>100</td></tr>\n",
              "\t<tr><td>17528820</td><td>2020</td><td>41807</td><td>110</td><td>1</td><td>A</td><td>2</td><td>201402</td><td>13127</td><td>P</td><td>6,9</td><td>100</td></tr>\n",
              "\t<tr><td>20260619</td><td>2020</td><td>41807</td><td>110</td><td>1</td><td>A</td><td>1</td><td>201402</td><td>13101</td><td>P</td><td>6,8</td><td>100</td></tr>\n",
              "\t<tr><td>23118564</td><td>2020</td><td>41807</td><td>110</td><td>1</td><td>A</td><td>2</td><td>201303</td><td>13129</td><td>P</td><td>6,8</td><td>100</td></tr>\n",
              "\t<tr><td>24866722</td><td>2020</td><td>41807</td><td>110</td><td>1</td><td>A</td><td>1</td><td>201308</td><td>13121</td><td>P</td><td>6,9</td><td>100</td></tr>\n",
              "\t<tr><td> 1061812</td><td>2020</td><td>41807</td><td>110</td><td>2</td><td>A</td><td>1</td><td>201304</td><td>13130</td><td>P</td><td>7  </td><td>100</td></tr>\n",
              "\t<tr><td> 7012489</td><td>2020</td><td>41807</td><td>110</td><td>2</td><td>A</td><td>1</td><td>201106</td><td>13131</td><td>P</td><td>6,9</td><td>100</td></tr>\n",
              "\t<tr><td>25627923</td><td>2020</td><td>41807</td><td>110</td><td>2</td><td>A</td><td>1</td><td>201209</td><td>13101</td><td>P</td><td>7  </td><td>100</td></tr>\n",
              "</tbody>\n",
              "</table>\n"
            ]
          },
          "metadata": {
            "tags": []
          }
        }
      ]
    },
    {
      "cell_type": "markdown",
      "metadata": {
        "id": "onRDLiwqQChM"
      },
      "source": [
        "## Testeo de algunas relaciones"
      ]
    },
    {
      "cell_type": "markdown",
      "metadata": {
        "id": "IeXoQsgLuUX0"
      },
      "source": [
        "Suponemos que los alumnos para pasar de curso deben tner el promedio azul. Podemos testear esta hipotesis sobre los datos"
      ]
    },
    {
      "cell_type": "code",
      "metadata": {
        "colab": {
          "base_uri": "https://localhost:8080/",
          "height": 1000
        },
        "id": "DXbf-rn0o6QU",
        "outputId": "474dcd3e-0a2b-42c9-efe2-fe5a6db5a311"
      },
      "source": [
        "dbGetQuery(conn,\"select * from alumnos where PROM_GRAL<4 and SIT_FIN_R='P'\")"
      ],
      "execution_count": null,
      "outputs": [
        {
          "output_type": "display_data",
          "data": {
            "text/plain": [
              "     MRUN     AGNO RBD   COD_ENSE COD_GRADO LET_CUR GEN_ALU FEC_NAC_ALU\n",
              "1    22484992 2003  283  660      4         D       2       195903     \n",
              "2    24355249 2003  293  110      8         A       2       199005     \n",
              "3    11833654 2003  324  110      1         A       1       199703     \n",
              "4     8668046 2003  406  110      3         B       1       199403     \n",
              "5     8645973 2003  768  610      1         C       2       198808     \n",
              "6    20602623 2003 1197  110      1         B       2       199612     \n",
              "7    10318343 2003 1436  110      5         D       1       199301     \n",
              "8    10292255 2003 1474  110      6         A       1       198909     \n",
              "9     3191638 2003 1663  410      4         H       2       198603     \n",
              "10    3229432 2003 1663  410      4         H       2       198511     \n",
              "11    4112503 2003 1663  410      3         I       1       198603     \n",
              "12    5939437 2003 1663  410      4         J       1       198507     \n",
              "13    7573664 2003 1663  410      3         I       1       198408     \n",
              "14   11903781 2003 1663  410      4         I       2       198406     \n",
              "15   14034712 2003 1663  410      3         J       1       198704     \n",
              "16   18567762 2003 1663  410      4         I       1       198606     \n",
              "17   19536406 2003 1663  410      3         J       1       198509     \n",
              "18   19859378 2003 1663  410      3         I       1       198606     \n",
              "19   21083935 2003 1663  410      3         I       1       198512     \n",
              "20    4313800 2003 1675  310      3         E       1       198606     \n",
              "21    8268075 2003 1675  310      3         E       1       198602     \n",
              "22   12982833 2003 1675  310      3         C       2       198508     \n",
              "23      74333 2003 1689  110      7         C       1       198709     \n",
              "24    5907208 2003 1689  110      6         C       2       198908     \n",
              "25   14541621 2003 1689  110      6         A       2       199101     \n",
              "26   20082850 2003 1689  110      7         C       1       198704     \n",
              "27   18272549 2003 2432  110      1         A       1       199702     \n",
              "28    2645096 2003 2946  110      1         A       1       199602     \n",
              "29   10971585 2003 2946  110      1         B       1       199701     \n",
              "30   24379757 2003 2954  110      1         B       1       199701     \n",
              "⋮    ⋮        ⋮    ⋮     ⋮        ⋮         ⋮       ⋮       ⋮          \n",
              "4137 21171219 2020 31119 110      1         A       1       201403     \n",
              "4138 13757062 2020 31119 110      1         B       1       201311     \n",
              "4139  3355299 2020 31119 110      1         C       2       201401     \n",
              "4140 16576749 2020 31295 110      7         A       1       200707     \n",
              "4141 20790576 2020 31295 110      7         A       2       200802     \n",
              "4142 21979080 2020 31295 110      7         A       2       200707     \n",
              "4143 11384354 2020 31295 110      7         B       1       200607     \n",
              "4144 20061826 2020 31295 110      8         A       1       200601     \n",
              "4145 24679374 2020 31295 310      1         A       1       200503     \n",
              "4146 15871954 2020 31295 310      2         A       1       200411     \n",
              "4147 11530869 2020 31295 310      2         B       2       200312     \n",
              "4148  9328881 2020 31295 310      2         C       2       200412     \n",
              "4149 11988416 2020 31295 310      2         C       1       200307     \n",
              "4150  9262467 2020 31295 310      2         E       1       200305     \n",
              "4151 15497916 2020 31295 310      2         E       2       200401     \n",
              "4152 21976273 2020 40099 310      1         A       1       200504     \n",
              "4153 21519929 2020 40230 110      6         A       2       200807     \n",
              "4154  2182101 2020 40230 110      7         A       2       200605     \n",
              "4155 19631803 2020 40230 110      7         A       1       200706     \n",
              "4156  2883287 2020 40230 110      8         A       2       200509     \n",
              "4157 14026173 2020 40230 110      8         A       1       200703     \n",
              "4158 16855076 2020 40230 310      2         A       1       200501     \n",
              "4159 15510585 2020 40230 510      3         A       1       200211     \n",
              "4160 25552107 2020 40230 510      3         A       1       200102     \n",
              "4161  6214991 2020 40256 110      8         A       1       200512     \n",
              "4162   285463 2020 40256 310      1         A       2       200602     \n",
              "4163  6090381 2020 40256 310      1         A       2       200601     \n",
              "4164 20347903 2020 40256 810      1         B       2       200510     \n",
              "4165  4926183 2020 40256 810      2         B       1       200407     \n",
              "4166 24000305 2020 40256 810      2         B       2       200501     \n",
              "     COD_COM_ALU SIT_FIN_R PROM_GRAL ASISTENCIA\n",
              "1    2101        P         3.4       73        \n",
              "2    2101        P         3.7       86        \n",
              "3    2101        P         3.9       92        \n",
              "4    3101        P         3.9       97        \n",
              "5    4305        P         2         98        \n",
              "6    5301        P         3.9       79        \n",
              "7    5502        P         3.8       67        \n",
              "8    5505        P         3.4       80        \n",
              "9    5101        P         3.6       82        \n",
              "10   5101        P         3.6       57        \n",
              "11   5103        P         3.3       86        \n",
              "12   5109        P         3.7       78        \n",
              "13   5109        P         3.8       90        \n",
              "14   5109        P         3.8       78        \n",
              "15   5109        P         3.8       98        \n",
              "16   5109        P         3.7       83        \n",
              "17   5109        P         3.8       85        \n",
              "18   5109        P         3.7       77        \n",
              "19   5109        P         3.9       84        \n",
              "20   5109        P         3.9       88        \n",
              "21   5109        P         3.9       72        \n",
              "22   5109        P         3.8       85        \n",
              "23   5103        P         3.9       88        \n",
              "24   5103        P         3.6       76        \n",
              "25   5103        P         3.7       83        \n",
              "26   5103        P         3.9       95        \n",
              "27   6107        P         3.3       89        \n",
              "28   7101        P         3.2       99        \n",
              "29   7101        P         3.5       98        \n",
              "30   7101        P         3.9       94        \n",
              "⋮    ⋮           ⋮         ⋮         ⋮         \n",
              "4137  8101       P         1         100       \n",
              "4138  8101       P         1         100       \n",
              "4139  8101       P         3.1       100       \n",
              "4140 13110       P         3.5       100       \n",
              "4141 13109       P         3.8       100       \n",
              "4142 13116       P         3.2        98       \n",
              "4143 13101       P         3.6       100       \n",
              "4144 13101       P         3.3       100       \n",
              "4145 13101       P         3.9       100       \n",
              "4146 13129       P         3.7       100       \n",
              "4147 13101       P         3.6       100       \n",
              "4148 13131       P         3.9        97       \n",
              "4149 13130       P         3.8       100       \n",
              "4150 13101       P         3.8        97       \n",
              "4151 13101       P         2.9        96       \n",
              "4152  5403       P         3.9       100       \n",
              "4153 15101       P         3.9        85       \n",
              "4154 15101       P         3.9        85       \n",
              "4155 15101       P         3.9        85       \n",
              "4156 15101       P         3.8        85       \n",
              "4157 15101       P         3.8        85       \n",
              "4158 15101       P         3.9        85       \n",
              "4159 15101       P         3.8        85       \n",
              "4160 15101       P         3.8        85       \n",
              "4161 10101       P         3.6       100       \n",
              "4162 10101       P         3.9       100       \n",
              "4163 10101       P         2.7       100       \n",
              "4164 10101       P         3.7       100       \n",
              "4165 10101       P         3.6       100       \n",
              "4166 10101       P         3.9       100       "
            ],
            "text/latex": "A data.frame: 4166 × 12\n\\begin{tabular}{llllllllllll}\n MRUN & AGNO & RBD & COD\\_ENSE & COD\\_GRADO & LET\\_CUR & GEN\\_ALU & FEC\\_NAC\\_ALU & COD\\_COM\\_ALU & SIT\\_FIN\\_R & PROM\\_GRAL & ASISTENCIA\\\\\n <int> & <int> & <int> & <int> & <int> & <chr> & <int> & <chr> & <int> & <chr> & <chr> & <int>\\\\\n\\hline\n\t 22484992 & 2003 &  283 & 660 & 4 & D & 2 & 195903 & 2101 & P & 3.4 & 73\\\\\n\t 24355249 & 2003 &  293 & 110 & 8 & A & 2 & 199005 & 2101 & P & 3.7 & 86\\\\\n\t 11833654 & 2003 &  324 & 110 & 1 & A & 1 & 199703 & 2101 & P & 3.9 & 92\\\\\n\t  8668046 & 2003 &  406 & 110 & 3 & B & 1 & 199403 & 3101 & P & 3.9 & 97\\\\\n\t  8645973 & 2003 &  768 & 610 & 1 & C & 2 & 198808 & 4305 & P & 2   & 98\\\\\n\t 20602623 & 2003 & 1197 & 110 & 1 & B & 2 & 199612 & 5301 & P & 3.9 & 79\\\\\n\t 10318343 & 2003 & 1436 & 110 & 5 & D & 1 & 199301 & 5502 & P & 3.8 & 67\\\\\n\t 10292255 & 2003 & 1474 & 110 & 6 & A & 1 & 198909 & 5505 & P & 3.4 & 80\\\\\n\t  3191638 & 2003 & 1663 & 410 & 4 & H & 2 & 198603 & 5101 & P & 3.6 & 82\\\\\n\t  3229432 & 2003 & 1663 & 410 & 4 & H & 2 & 198511 & 5101 & P & 3.6 & 57\\\\\n\t  4112503 & 2003 & 1663 & 410 & 3 & I & 1 & 198603 & 5103 & P & 3.3 & 86\\\\\n\t  5939437 & 2003 & 1663 & 410 & 4 & J & 1 & 198507 & 5109 & P & 3.7 & 78\\\\\n\t  7573664 & 2003 & 1663 & 410 & 3 & I & 1 & 198408 & 5109 & P & 3.8 & 90\\\\\n\t 11903781 & 2003 & 1663 & 410 & 4 & I & 2 & 198406 & 5109 & P & 3.8 & 78\\\\\n\t 14034712 & 2003 & 1663 & 410 & 3 & J & 1 & 198704 & 5109 & P & 3.8 & 98\\\\\n\t 18567762 & 2003 & 1663 & 410 & 4 & I & 1 & 198606 & 5109 & P & 3.7 & 83\\\\\n\t 19536406 & 2003 & 1663 & 410 & 3 & J & 1 & 198509 & 5109 & P & 3.8 & 85\\\\\n\t 19859378 & 2003 & 1663 & 410 & 3 & I & 1 & 198606 & 5109 & P & 3.7 & 77\\\\\n\t 21083935 & 2003 & 1663 & 410 & 3 & I & 1 & 198512 & 5109 & P & 3.9 & 84\\\\\n\t  4313800 & 2003 & 1675 & 310 & 3 & E & 1 & 198606 & 5109 & P & 3.9 & 88\\\\\n\t  8268075 & 2003 & 1675 & 310 & 3 & E & 1 & 198602 & 5109 & P & 3.9 & 72\\\\\n\t 12982833 & 2003 & 1675 & 310 & 3 & C & 2 & 198508 & 5109 & P & 3.8 & 85\\\\\n\t    74333 & 2003 & 1689 & 110 & 7 & C & 1 & 198709 & 5103 & P & 3.9 & 88\\\\\n\t  5907208 & 2003 & 1689 & 110 & 6 & C & 2 & 198908 & 5103 & P & 3.6 & 76\\\\\n\t 14541621 & 2003 & 1689 & 110 & 6 & A & 2 & 199101 & 5103 & P & 3.7 & 83\\\\\n\t 20082850 & 2003 & 1689 & 110 & 7 & C & 1 & 198704 & 5103 & P & 3.9 & 95\\\\\n\t 18272549 & 2003 & 2432 & 110 & 1 & A & 1 & 199702 & 6107 & P & 3.3 & 89\\\\\n\t  2645096 & 2003 & 2946 & 110 & 1 & A & 1 & 199602 & 7101 & P & 3.2 & 99\\\\\n\t 10971585 & 2003 & 2946 & 110 & 1 & B & 1 & 199701 & 7101 & P & 3.5 & 98\\\\\n\t 24379757 & 2003 & 2954 & 110 & 1 & B & 1 & 199701 & 7101 & P & 3.9 & 94\\\\\n\t ⋮ & ⋮ & ⋮ & ⋮ & ⋮ & ⋮ & ⋮ & ⋮ & ⋮ & ⋮ & ⋮ & ⋮\\\\\n\t 21171219 & 2020 & 31119 & 110 & 1 & A & 1 & 201403 &  8101 & P & 1   & 100\\\\\n\t 13757062 & 2020 & 31119 & 110 & 1 & B & 1 & 201311 &  8101 & P & 1   & 100\\\\\n\t  3355299 & 2020 & 31119 & 110 & 1 & C & 2 & 201401 &  8101 & P & 3.1 & 100\\\\\n\t 16576749 & 2020 & 31295 & 110 & 7 & A & 1 & 200707 & 13110 & P & 3.5 & 100\\\\\n\t 20790576 & 2020 & 31295 & 110 & 7 & A & 2 & 200802 & 13109 & P & 3.8 & 100\\\\\n\t 21979080 & 2020 & 31295 & 110 & 7 & A & 2 & 200707 & 13116 & P & 3.2 &  98\\\\\n\t 11384354 & 2020 & 31295 & 110 & 7 & B & 1 & 200607 & 13101 & P & 3.6 & 100\\\\\n\t 20061826 & 2020 & 31295 & 110 & 8 & A & 1 & 200601 & 13101 & P & 3.3 & 100\\\\\n\t 24679374 & 2020 & 31295 & 310 & 1 & A & 1 & 200503 & 13101 & P & 3.9 & 100\\\\\n\t 15871954 & 2020 & 31295 & 310 & 2 & A & 1 & 200411 & 13129 & P & 3.7 & 100\\\\\n\t 11530869 & 2020 & 31295 & 310 & 2 & B & 2 & 200312 & 13101 & P & 3.6 & 100\\\\\n\t  9328881 & 2020 & 31295 & 310 & 2 & C & 2 & 200412 & 13131 & P & 3.9 &  97\\\\\n\t 11988416 & 2020 & 31295 & 310 & 2 & C & 1 & 200307 & 13130 & P & 3.8 & 100\\\\\n\t  9262467 & 2020 & 31295 & 310 & 2 & E & 1 & 200305 & 13101 & P & 3.8 &  97\\\\\n\t 15497916 & 2020 & 31295 & 310 & 2 & E & 2 & 200401 & 13101 & P & 2.9 &  96\\\\\n\t 21976273 & 2020 & 40099 & 310 & 1 & A & 1 & 200504 &  5403 & P & 3.9 & 100\\\\\n\t 21519929 & 2020 & 40230 & 110 & 6 & A & 2 & 200807 & 15101 & P & 3.9 &  85\\\\\n\t  2182101 & 2020 & 40230 & 110 & 7 & A & 2 & 200605 & 15101 & P & 3.9 &  85\\\\\n\t 19631803 & 2020 & 40230 & 110 & 7 & A & 1 & 200706 & 15101 & P & 3.9 &  85\\\\\n\t  2883287 & 2020 & 40230 & 110 & 8 & A & 2 & 200509 & 15101 & P & 3.8 &  85\\\\\n\t 14026173 & 2020 & 40230 & 110 & 8 & A & 1 & 200703 & 15101 & P & 3.8 &  85\\\\\n\t 16855076 & 2020 & 40230 & 310 & 2 & A & 1 & 200501 & 15101 & P & 3.9 &  85\\\\\n\t 15510585 & 2020 & 40230 & 510 & 3 & A & 1 & 200211 & 15101 & P & 3.8 &  85\\\\\n\t 25552107 & 2020 & 40230 & 510 & 3 & A & 1 & 200102 & 15101 & P & 3.8 &  85\\\\\n\t  6214991 & 2020 & 40256 & 110 & 8 & A & 1 & 200512 & 10101 & P & 3.6 & 100\\\\\n\t   285463 & 2020 & 40256 & 310 & 1 & A & 2 & 200602 & 10101 & P & 3.9 & 100\\\\\n\t  6090381 & 2020 & 40256 & 310 & 1 & A & 2 & 200601 & 10101 & P & 2.7 & 100\\\\\n\t 20347903 & 2020 & 40256 & 810 & 1 & B & 2 & 200510 & 10101 & P & 3.7 & 100\\\\\n\t  4926183 & 2020 & 40256 & 810 & 2 & B & 1 & 200407 & 10101 & P & 3.6 & 100\\\\\n\t 24000305 & 2020 & 40256 & 810 & 2 & B & 2 & 200501 & 10101 & P & 3.9 & 100\\\\\n\\end{tabular}\n",
            "text/markdown": "\nA data.frame: 4166 × 12\n\n| MRUN &lt;int&gt; | AGNO &lt;int&gt; | RBD &lt;int&gt; | COD_ENSE &lt;int&gt; | COD_GRADO &lt;int&gt; | LET_CUR &lt;chr&gt; | GEN_ALU &lt;int&gt; | FEC_NAC_ALU &lt;chr&gt; | COD_COM_ALU &lt;int&gt; | SIT_FIN_R &lt;chr&gt; | PROM_GRAL &lt;chr&gt; | ASISTENCIA &lt;int&gt; |\n|---|---|---|---|---|---|---|---|---|---|---|---|\n| 22484992 | 2003 |  283 | 660 | 4 | D | 2 | 195903 | 2101 | P | 3.4 | 73 |\n| 24355249 | 2003 |  293 | 110 | 8 | A | 2 | 199005 | 2101 | P | 3.7 | 86 |\n| 11833654 | 2003 |  324 | 110 | 1 | A | 1 | 199703 | 2101 | P | 3.9 | 92 |\n|  8668046 | 2003 |  406 | 110 | 3 | B | 1 | 199403 | 3101 | P | 3.9 | 97 |\n|  8645973 | 2003 |  768 | 610 | 1 | C | 2 | 198808 | 4305 | P | 2   | 98 |\n| 20602623 | 2003 | 1197 | 110 | 1 | B | 2 | 199612 | 5301 | P | 3.9 | 79 |\n| 10318343 | 2003 | 1436 | 110 | 5 | D | 1 | 199301 | 5502 | P | 3.8 | 67 |\n| 10292255 | 2003 | 1474 | 110 | 6 | A | 1 | 198909 | 5505 | P | 3.4 | 80 |\n|  3191638 | 2003 | 1663 | 410 | 4 | H | 2 | 198603 | 5101 | P | 3.6 | 82 |\n|  3229432 | 2003 | 1663 | 410 | 4 | H | 2 | 198511 | 5101 | P | 3.6 | 57 |\n|  4112503 | 2003 | 1663 | 410 | 3 | I | 1 | 198603 | 5103 | P | 3.3 | 86 |\n|  5939437 | 2003 | 1663 | 410 | 4 | J | 1 | 198507 | 5109 | P | 3.7 | 78 |\n|  7573664 | 2003 | 1663 | 410 | 3 | I | 1 | 198408 | 5109 | P | 3.8 | 90 |\n| 11903781 | 2003 | 1663 | 410 | 4 | I | 2 | 198406 | 5109 | P | 3.8 | 78 |\n| 14034712 | 2003 | 1663 | 410 | 3 | J | 1 | 198704 | 5109 | P | 3.8 | 98 |\n| 18567762 | 2003 | 1663 | 410 | 4 | I | 1 | 198606 | 5109 | P | 3.7 | 83 |\n| 19536406 | 2003 | 1663 | 410 | 3 | J | 1 | 198509 | 5109 | P | 3.8 | 85 |\n| 19859378 | 2003 | 1663 | 410 | 3 | I | 1 | 198606 | 5109 | P | 3.7 | 77 |\n| 21083935 | 2003 | 1663 | 410 | 3 | I | 1 | 198512 | 5109 | P | 3.9 | 84 |\n|  4313800 | 2003 | 1675 | 310 | 3 | E | 1 | 198606 | 5109 | P | 3.9 | 88 |\n|  8268075 | 2003 | 1675 | 310 | 3 | E | 1 | 198602 | 5109 | P | 3.9 | 72 |\n| 12982833 | 2003 | 1675 | 310 | 3 | C | 2 | 198508 | 5109 | P | 3.8 | 85 |\n|    74333 | 2003 | 1689 | 110 | 7 | C | 1 | 198709 | 5103 | P | 3.9 | 88 |\n|  5907208 | 2003 | 1689 | 110 | 6 | C | 2 | 198908 | 5103 | P | 3.6 | 76 |\n| 14541621 | 2003 | 1689 | 110 | 6 | A | 2 | 199101 | 5103 | P | 3.7 | 83 |\n| 20082850 | 2003 | 1689 | 110 | 7 | C | 1 | 198704 | 5103 | P | 3.9 | 95 |\n| 18272549 | 2003 | 2432 | 110 | 1 | A | 1 | 199702 | 6107 | P | 3.3 | 89 |\n|  2645096 | 2003 | 2946 | 110 | 1 | A | 1 | 199602 | 7101 | P | 3.2 | 99 |\n| 10971585 | 2003 | 2946 | 110 | 1 | B | 1 | 199701 | 7101 | P | 3.5 | 98 |\n| 24379757 | 2003 | 2954 | 110 | 1 | B | 1 | 199701 | 7101 | P | 3.9 | 94 |\n| ⋮ | ⋮ | ⋮ | ⋮ | ⋮ | ⋮ | ⋮ | ⋮ | ⋮ | ⋮ | ⋮ | ⋮ |\n| 21171219 | 2020 | 31119 | 110 | 1 | A | 1 | 201403 |  8101 | P | 1   | 100 |\n| 13757062 | 2020 | 31119 | 110 | 1 | B | 1 | 201311 |  8101 | P | 1   | 100 |\n|  3355299 | 2020 | 31119 | 110 | 1 | C | 2 | 201401 |  8101 | P | 3.1 | 100 |\n| 16576749 | 2020 | 31295 | 110 | 7 | A | 1 | 200707 | 13110 | P | 3.5 | 100 |\n| 20790576 | 2020 | 31295 | 110 | 7 | A | 2 | 200802 | 13109 | P | 3.8 | 100 |\n| 21979080 | 2020 | 31295 | 110 | 7 | A | 2 | 200707 | 13116 | P | 3.2 |  98 |\n| 11384354 | 2020 | 31295 | 110 | 7 | B | 1 | 200607 | 13101 | P | 3.6 | 100 |\n| 20061826 | 2020 | 31295 | 110 | 8 | A | 1 | 200601 | 13101 | P | 3.3 | 100 |\n| 24679374 | 2020 | 31295 | 310 | 1 | A | 1 | 200503 | 13101 | P | 3.9 | 100 |\n| 15871954 | 2020 | 31295 | 310 | 2 | A | 1 | 200411 | 13129 | P | 3.7 | 100 |\n| 11530869 | 2020 | 31295 | 310 | 2 | B | 2 | 200312 | 13101 | P | 3.6 | 100 |\n|  9328881 | 2020 | 31295 | 310 | 2 | C | 2 | 200412 | 13131 | P | 3.9 |  97 |\n| 11988416 | 2020 | 31295 | 310 | 2 | C | 1 | 200307 | 13130 | P | 3.8 | 100 |\n|  9262467 | 2020 | 31295 | 310 | 2 | E | 1 | 200305 | 13101 | P | 3.8 |  97 |\n| 15497916 | 2020 | 31295 | 310 | 2 | E | 2 | 200401 | 13101 | P | 2.9 |  96 |\n| 21976273 | 2020 | 40099 | 310 | 1 | A | 1 | 200504 |  5403 | P | 3.9 | 100 |\n| 21519929 | 2020 | 40230 | 110 | 6 | A | 2 | 200807 | 15101 | P | 3.9 |  85 |\n|  2182101 | 2020 | 40230 | 110 | 7 | A | 2 | 200605 | 15101 | P | 3.9 |  85 |\n| 19631803 | 2020 | 40230 | 110 | 7 | A | 1 | 200706 | 15101 | P | 3.9 |  85 |\n|  2883287 | 2020 | 40230 | 110 | 8 | A | 2 | 200509 | 15101 | P | 3.8 |  85 |\n| 14026173 | 2020 | 40230 | 110 | 8 | A | 1 | 200703 | 15101 | P | 3.8 |  85 |\n| 16855076 | 2020 | 40230 | 310 | 2 | A | 1 | 200501 | 15101 | P | 3.9 |  85 |\n| 15510585 | 2020 | 40230 | 510 | 3 | A | 1 | 200211 | 15101 | P | 3.8 |  85 |\n| 25552107 | 2020 | 40230 | 510 | 3 | A | 1 | 200102 | 15101 | P | 3.8 |  85 |\n|  6214991 | 2020 | 40256 | 110 | 8 | A | 1 | 200512 | 10101 | P | 3.6 | 100 |\n|   285463 | 2020 | 40256 | 310 | 1 | A | 2 | 200602 | 10101 | P | 3.9 | 100 |\n|  6090381 | 2020 | 40256 | 310 | 1 | A | 2 | 200601 | 10101 | P | 2.7 | 100 |\n| 20347903 | 2020 | 40256 | 810 | 1 | B | 2 | 200510 | 10101 | P | 3.7 | 100 |\n|  4926183 | 2020 | 40256 | 810 | 2 | B | 1 | 200407 | 10101 | P | 3.6 | 100 |\n| 24000305 | 2020 | 40256 | 810 | 2 | B | 2 | 200501 | 10101 | P | 3.9 | 100 |\n\n",
            "text/html": [
              "<table class=\"dataframe\">\n",
              "<caption>A data.frame: 4166 × 12</caption>\n",
              "<thead>\n",
              "\t<tr><th scope=col>MRUN</th><th scope=col>AGNO</th><th scope=col>RBD</th><th scope=col>COD_ENSE</th><th scope=col>COD_GRADO</th><th scope=col>LET_CUR</th><th scope=col>GEN_ALU</th><th scope=col>FEC_NAC_ALU</th><th scope=col>COD_COM_ALU</th><th scope=col>SIT_FIN_R</th><th scope=col>PROM_GRAL</th><th scope=col>ASISTENCIA</th></tr>\n",
              "\t<tr><th scope=col>&lt;int&gt;</th><th scope=col>&lt;int&gt;</th><th scope=col>&lt;int&gt;</th><th scope=col>&lt;int&gt;</th><th scope=col>&lt;int&gt;</th><th scope=col>&lt;chr&gt;</th><th scope=col>&lt;int&gt;</th><th scope=col>&lt;chr&gt;</th><th scope=col>&lt;int&gt;</th><th scope=col>&lt;chr&gt;</th><th scope=col>&lt;chr&gt;</th><th scope=col>&lt;int&gt;</th></tr>\n",
              "</thead>\n",
              "<tbody>\n",
              "\t<tr><td>22484992</td><td>2003</td><td> 283</td><td>660</td><td>4</td><td>D</td><td>2</td><td>195903</td><td>2101</td><td>P</td><td>3.4</td><td>73</td></tr>\n",
              "\t<tr><td>24355249</td><td>2003</td><td> 293</td><td>110</td><td>8</td><td>A</td><td>2</td><td>199005</td><td>2101</td><td>P</td><td>3.7</td><td>86</td></tr>\n",
              "\t<tr><td>11833654</td><td>2003</td><td> 324</td><td>110</td><td>1</td><td>A</td><td>1</td><td>199703</td><td>2101</td><td>P</td><td>3.9</td><td>92</td></tr>\n",
              "\t<tr><td> 8668046</td><td>2003</td><td> 406</td><td>110</td><td>3</td><td>B</td><td>1</td><td>199403</td><td>3101</td><td>P</td><td>3.9</td><td>97</td></tr>\n",
              "\t<tr><td> 8645973</td><td>2003</td><td> 768</td><td>610</td><td>1</td><td>C</td><td>2</td><td>198808</td><td>4305</td><td>P</td><td>2  </td><td>98</td></tr>\n",
              "\t<tr><td>20602623</td><td>2003</td><td>1197</td><td>110</td><td>1</td><td>B</td><td>2</td><td>199612</td><td>5301</td><td>P</td><td>3.9</td><td>79</td></tr>\n",
              "\t<tr><td>10318343</td><td>2003</td><td>1436</td><td>110</td><td>5</td><td>D</td><td>1</td><td>199301</td><td>5502</td><td>P</td><td>3.8</td><td>67</td></tr>\n",
              "\t<tr><td>10292255</td><td>2003</td><td>1474</td><td>110</td><td>6</td><td>A</td><td>1</td><td>198909</td><td>5505</td><td>P</td><td>3.4</td><td>80</td></tr>\n",
              "\t<tr><td> 3191638</td><td>2003</td><td>1663</td><td>410</td><td>4</td><td>H</td><td>2</td><td>198603</td><td>5101</td><td>P</td><td>3.6</td><td>82</td></tr>\n",
              "\t<tr><td> 3229432</td><td>2003</td><td>1663</td><td>410</td><td>4</td><td>H</td><td>2</td><td>198511</td><td>5101</td><td>P</td><td>3.6</td><td>57</td></tr>\n",
              "\t<tr><td> 4112503</td><td>2003</td><td>1663</td><td>410</td><td>3</td><td>I</td><td>1</td><td>198603</td><td>5103</td><td>P</td><td>3.3</td><td>86</td></tr>\n",
              "\t<tr><td> 5939437</td><td>2003</td><td>1663</td><td>410</td><td>4</td><td>J</td><td>1</td><td>198507</td><td>5109</td><td>P</td><td>3.7</td><td>78</td></tr>\n",
              "\t<tr><td> 7573664</td><td>2003</td><td>1663</td><td>410</td><td>3</td><td>I</td><td>1</td><td>198408</td><td>5109</td><td>P</td><td>3.8</td><td>90</td></tr>\n",
              "\t<tr><td>11903781</td><td>2003</td><td>1663</td><td>410</td><td>4</td><td>I</td><td>2</td><td>198406</td><td>5109</td><td>P</td><td>3.8</td><td>78</td></tr>\n",
              "\t<tr><td>14034712</td><td>2003</td><td>1663</td><td>410</td><td>3</td><td>J</td><td>1</td><td>198704</td><td>5109</td><td>P</td><td>3.8</td><td>98</td></tr>\n",
              "\t<tr><td>18567762</td><td>2003</td><td>1663</td><td>410</td><td>4</td><td>I</td><td>1</td><td>198606</td><td>5109</td><td>P</td><td>3.7</td><td>83</td></tr>\n",
              "\t<tr><td>19536406</td><td>2003</td><td>1663</td><td>410</td><td>3</td><td>J</td><td>1</td><td>198509</td><td>5109</td><td>P</td><td>3.8</td><td>85</td></tr>\n",
              "\t<tr><td>19859378</td><td>2003</td><td>1663</td><td>410</td><td>3</td><td>I</td><td>1</td><td>198606</td><td>5109</td><td>P</td><td>3.7</td><td>77</td></tr>\n",
              "\t<tr><td>21083935</td><td>2003</td><td>1663</td><td>410</td><td>3</td><td>I</td><td>1</td><td>198512</td><td>5109</td><td>P</td><td>3.9</td><td>84</td></tr>\n",
              "\t<tr><td> 4313800</td><td>2003</td><td>1675</td><td>310</td><td>3</td><td>E</td><td>1</td><td>198606</td><td>5109</td><td>P</td><td>3.9</td><td>88</td></tr>\n",
              "\t<tr><td> 8268075</td><td>2003</td><td>1675</td><td>310</td><td>3</td><td>E</td><td>1</td><td>198602</td><td>5109</td><td>P</td><td>3.9</td><td>72</td></tr>\n",
              "\t<tr><td>12982833</td><td>2003</td><td>1675</td><td>310</td><td>3</td><td>C</td><td>2</td><td>198508</td><td>5109</td><td>P</td><td>3.8</td><td>85</td></tr>\n",
              "\t<tr><td>   74333</td><td>2003</td><td>1689</td><td>110</td><td>7</td><td>C</td><td>1</td><td>198709</td><td>5103</td><td>P</td><td>3.9</td><td>88</td></tr>\n",
              "\t<tr><td> 5907208</td><td>2003</td><td>1689</td><td>110</td><td>6</td><td>C</td><td>2</td><td>198908</td><td>5103</td><td>P</td><td>3.6</td><td>76</td></tr>\n",
              "\t<tr><td>14541621</td><td>2003</td><td>1689</td><td>110</td><td>6</td><td>A</td><td>2</td><td>199101</td><td>5103</td><td>P</td><td>3.7</td><td>83</td></tr>\n",
              "\t<tr><td>20082850</td><td>2003</td><td>1689</td><td>110</td><td>7</td><td>C</td><td>1</td><td>198704</td><td>5103</td><td>P</td><td>3.9</td><td>95</td></tr>\n",
              "\t<tr><td>18272549</td><td>2003</td><td>2432</td><td>110</td><td>1</td><td>A</td><td>1</td><td>199702</td><td>6107</td><td>P</td><td>3.3</td><td>89</td></tr>\n",
              "\t<tr><td> 2645096</td><td>2003</td><td>2946</td><td>110</td><td>1</td><td>A</td><td>1</td><td>199602</td><td>7101</td><td>P</td><td>3.2</td><td>99</td></tr>\n",
              "\t<tr><td>10971585</td><td>2003</td><td>2946</td><td>110</td><td>1</td><td>B</td><td>1</td><td>199701</td><td>7101</td><td>P</td><td>3.5</td><td>98</td></tr>\n",
              "\t<tr><td>24379757</td><td>2003</td><td>2954</td><td>110</td><td>1</td><td>B</td><td>1</td><td>199701</td><td>7101</td><td>P</td><td>3.9</td><td>94</td></tr>\n",
              "\t<tr><td>⋮</td><td>⋮</td><td>⋮</td><td>⋮</td><td>⋮</td><td>⋮</td><td>⋮</td><td>⋮</td><td>⋮</td><td>⋮</td><td>⋮</td><td>⋮</td></tr>\n",
              "\t<tr><td>21171219</td><td>2020</td><td>31119</td><td>110</td><td>1</td><td>A</td><td>1</td><td>201403</td><td> 8101</td><td>P</td><td>1  </td><td>100</td></tr>\n",
              "\t<tr><td>13757062</td><td>2020</td><td>31119</td><td>110</td><td>1</td><td>B</td><td>1</td><td>201311</td><td> 8101</td><td>P</td><td>1  </td><td>100</td></tr>\n",
              "\t<tr><td> 3355299</td><td>2020</td><td>31119</td><td>110</td><td>1</td><td>C</td><td>2</td><td>201401</td><td> 8101</td><td>P</td><td>3.1</td><td>100</td></tr>\n",
              "\t<tr><td>16576749</td><td>2020</td><td>31295</td><td>110</td><td>7</td><td>A</td><td>1</td><td>200707</td><td>13110</td><td>P</td><td>3.5</td><td>100</td></tr>\n",
              "\t<tr><td>20790576</td><td>2020</td><td>31295</td><td>110</td><td>7</td><td>A</td><td>2</td><td>200802</td><td>13109</td><td>P</td><td>3.8</td><td>100</td></tr>\n",
              "\t<tr><td>21979080</td><td>2020</td><td>31295</td><td>110</td><td>7</td><td>A</td><td>2</td><td>200707</td><td>13116</td><td>P</td><td>3.2</td><td> 98</td></tr>\n",
              "\t<tr><td>11384354</td><td>2020</td><td>31295</td><td>110</td><td>7</td><td>B</td><td>1</td><td>200607</td><td>13101</td><td>P</td><td>3.6</td><td>100</td></tr>\n",
              "\t<tr><td>20061826</td><td>2020</td><td>31295</td><td>110</td><td>8</td><td>A</td><td>1</td><td>200601</td><td>13101</td><td>P</td><td>3.3</td><td>100</td></tr>\n",
              "\t<tr><td>24679374</td><td>2020</td><td>31295</td><td>310</td><td>1</td><td>A</td><td>1</td><td>200503</td><td>13101</td><td>P</td><td>3.9</td><td>100</td></tr>\n",
              "\t<tr><td>15871954</td><td>2020</td><td>31295</td><td>310</td><td>2</td><td>A</td><td>1</td><td>200411</td><td>13129</td><td>P</td><td>3.7</td><td>100</td></tr>\n",
              "\t<tr><td>11530869</td><td>2020</td><td>31295</td><td>310</td><td>2</td><td>B</td><td>2</td><td>200312</td><td>13101</td><td>P</td><td>3.6</td><td>100</td></tr>\n",
              "\t<tr><td> 9328881</td><td>2020</td><td>31295</td><td>310</td><td>2</td><td>C</td><td>2</td><td>200412</td><td>13131</td><td>P</td><td>3.9</td><td> 97</td></tr>\n",
              "\t<tr><td>11988416</td><td>2020</td><td>31295</td><td>310</td><td>2</td><td>C</td><td>1</td><td>200307</td><td>13130</td><td>P</td><td>3.8</td><td>100</td></tr>\n",
              "\t<tr><td> 9262467</td><td>2020</td><td>31295</td><td>310</td><td>2</td><td>E</td><td>1</td><td>200305</td><td>13101</td><td>P</td><td>3.8</td><td> 97</td></tr>\n",
              "\t<tr><td>15497916</td><td>2020</td><td>31295</td><td>310</td><td>2</td><td>E</td><td>2</td><td>200401</td><td>13101</td><td>P</td><td>2.9</td><td> 96</td></tr>\n",
              "\t<tr><td>21976273</td><td>2020</td><td>40099</td><td>310</td><td>1</td><td>A</td><td>1</td><td>200504</td><td> 5403</td><td>P</td><td>3.9</td><td>100</td></tr>\n",
              "\t<tr><td>21519929</td><td>2020</td><td>40230</td><td>110</td><td>6</td><td>A</td><td>2</td><td>200807</td><td>15101</td><td>P</td><td>3.9</td><td> 85</td></tr>\n",
              "\t<tr><td> 2182101</td><td>2020</td><td>40230</td><td>110</td><td>7</td><td>A</td><td>2</td><td>200605</td><td>15101</td><td>P</td><td>3.9</td><td> 85</td></tr>\n",
              "\t<tr><td>19631803</td><td>2020</td><td>40230</td><td>110</td><td>7</td><td>A</td><td>1</td><td>200706</td><td>15101</td><td>P</td><td>3.9</td><td> 85</td></tr>\n",
              "\t<tr><td> 2883287</td><td>2020</td><td>40230</td><td>110</td><td>8</td><td>A</td><td>2</td><td>200509</td><td>15101</td><td>P</td><td>3.8</td><td> 85</td></tr>\n",
              "\t<tr><td>14026173</td><td>2020</td><td>40230</td><td>110</td><td>8</td><td>A</td><td>1</td><td>200703</td><td>15101</td><td>P</td><td>3.8</td><td> 85</td></tr>\n",
              "\t<tr><td>16855076</td><td>2020</td><td>40230</td><td>310</td><td>2</td><td>A</td><td>1</td><td>200501</td><td>15101</td><td>P</td><td>3.9</td><td> 85</td></tr>\n",
              "\t<tr><td>15510585</td><td>2020</td><td>40230</td><td>510</td><td>3</td><td>A</td><td>1</td><td>200211</td><td>15101</td><td>P</td><td>3.8</td><td> 85</td></tr>\n",
              "\t<tr><td>25552107</td><td>2020</td><td>40230</td><td>510</td><td>3</td><td>A</td><td>1</td><td>200102</td><td>15101</td><td>P</td><td>3.8</td><td> 85</td></tr>\n",
              "\t<tr><td> 6214991</td><td>2020</td><td>40256</td><td>110</td><td>8</td><td>A</td><td>1</td><td>200512</td><td>10101</td><td>P</td><td>3.6</td><td>100</td></tr>\n",
              "\t<tr><td>  285463</td><td>2020</td><td>40256</td><td>310</td><td>1</td><td>A</td><td>2</td><td>200602</td><td>10101</td><td>P</td><td>3.9</td><td>100</td></tr>\n",
              "\t<tr><td> 6090381</td><td>2020</td><td>40256</td><td>310</td><td>1</td><td>A</td><td>2</td><td>200601</td><td>10101</td><td>P</td><td>2.7</td><td>100</td></tr>\n",
              "\t<tr><td>20347903</td><td>2020</td><td>40256</td><td>810</td><td>1</td><td>B</td><td>2</td><td>200510</td><td>10101</td><td>P</td><td>3.7</td><td>100</td></tr>\n",
              "\t<tr><td> 4926183</td><td>2020</td><td>40256</td><td>810</td><td>2</td><td>B</td><td>1</td><td>200407</td><td>10101</td><td>P</td><td>3.6</td><td>100</td></tr>\n",
              "\t<tr><td>24000305</td><td>2020</td><td>40256</td><td>810</td><td>2</td><td>B</td><td>2</td><td>200501</td><td>10101</td><td>P</td><td>3.9</td><td>100</td></tr>\n",
              "</tbody>\n",
              "</table>\n"
            ]
          },
          "metadata": {
            "tags": []
          }
        }
      ]
    },
    {
      "cell_type": "markdown",
      "metadata": {
        "id": "Ly7kpVcaulhU"
      },
      "source": [
        "Por el otro lado los reprobados deberian tener notas o asistencia baja"
      ]
    },
    {
      "cell_type": "code",
      "metadata": {
        "colab": {
          "base_uri": "https://localhost:8080/",
          "height": 1000
        },
        "id": "nkRNYLuppttA",
        "outputId": "aff41f14-54ab-4af2-a2cb-1343e4e0f4dd"
      },
      "source": [
        "dbGetQuery(conn, \"select * from alumnos where PROM_GRAL>5.5 and ASISTENCIA>60 and SIT_FIN_R='R'\")"
      ],
      "execution_count": null,
      "outputs": [
        {
          "output_type": "display_data",
          "data": {
            "text/plain": [
              "      MRUN     AGNO RBD   COD_ENSE COD_GRADO LET_CUR GEN_ALU FEC_NAC_ALU\n",
              "1      7563620 2003  9    110      1         C       2       199706     \n",
              "2      8616808 2003 18    110      2         B       2       199506     \n",
              "3      5387804 2003 19    110      6         B       2       199107     \n",
              "4      5401587 2003 19    110      6         B       2       199109     \n",
              "5      7532859 2003 19    110      6         B       2       199205     \n",
              "6     12397262 2003 19    110      6         B       2       199202     \n",
              "7     12523858 2003 19    110      6         B       1       199110     \n",
              "8     14653399 2003 19    110      6         B       1       199107     \n",
              "9     15635859 2003 19    110      6         B       1       199107     \n",
              "10    17630837 2003 19    110      6         B       2       198911     \n",
              "11    17838333 2003 19    110      6         B       2       199203     \n",
              "12    20031853 2003 19    110      6         B       1       199112     \n",
              "13    20233397 2003 19    110      6         B       1       199201     \n",
              "14    21263364 2003 19    110      6         B       1       199107     \n",
              "15    21851343 2003 19    110      6         B       2       199012     \n",
              "16    22083099 2003 19    110      6         B       2       199201     \n",
              "17    24338454 2003 19    110      6         B       1       199105     \n",
              "18    13495797 2003 52    110      1         A       2       199611     \n",
              "19    16424191 2003 52    110      1         A       1       199705     \n",
              "20    22588240 2003 52    110      1         A       1       199704     \n",
              "21    22846490 2003 52    110      1         A       1       199608     \n",
              "22    23294726 2003 52    110      1         B       1       199609     \n",
              "23      597237 2003 59    110      5         A       1       199211     \n",
              "24     2933383 2003 59    110      5         A       1       199209     \n",
              "25     3879543 2003 59    110      5         A       2       199208     \n",
              "26     4202907 2003 59    110      5         A       2       199207     \n",
              "27     4664061 2003 59    110      5         A       1       199304     \n",
              "28    10175830 2003 59    110      5         A       1       199301     \n",
              "29    10965942 2003 59    110      5         A       2       199207     \n",
              "30    11478062 2003 59    110      5         A       1       199209     \n",
              "⋮     ⋮        ⋮    ⋮     ⋮        ⋮         ⋮       ⋮       ⋮          \n",
              "12690 21365134 2020 14466 310      2         A       1       200406     \n",
              "12691  8032927 2020 14466 310      2         B       2       200406     \n",
              "12692  7351950 2020 14490 110      4         B       2       201006     \n",
              "12693 11153697 2020 14762 110      4         B       1       201003     \n",
              "12694 12776956 2020 15524 110      5         A       1       201001     \n",
              "12695  3735334 2020 16431 110      5         A       1       200909     \n",
              "12696 23129036 2020 16816 110      3         A       1       201201     \n",
              "12697  4344499 2020 18102 110      2         B       1       201211     \n",
              "12698  4184832 2020 18149 110      8         B       1       200607     \n",
              "12699 15943090 2020 20409 310      4         A       1       200306     \n",
              "12700 17630437 2020 24303 110      2         A       1       201301     \n",
              "12701  2033156 2020 24624 110      2         A       1       201209     \n",
              "12702   435133 2020 24624 110      2         C       2       201208     \n",
              "12703  2723373 2020 24884 110      1         C       2       201311     \n",
              "12704 11144481 2020 25065 110      2         B       2       201303     \n",
              "12705  2344266 2020 25138 110      1         A       2       201312     \n",
              "12706 10851740 2020 25138 110      1         A       2       201311     \n",
              "12707 18614931 2020 25389 110      7         B       2       200707     \n",
              "12708  4452611 2020 25640 310      2         A       1       200411     \n",
              "12709  9032047 2020 25640 310      2         A       2       200406     \n",
              "12710  5268183 2020 25711 110      5         A       1       200701     \n",
              "12711 13111184 2020 25712 110      1         A       1       201403     \n",
              "12712 18075094 2020 26311 110      1         E       1       201308     \n",
              "12713 12506717 2020 26311 110      2         E       1       201206     \n",
              "12714 24446731 2020 26311 110      6         D       2       200807     \n",
              "12715 15434605 2020 26399 110      2         A       1       201303     \n",
              "12716 25819695 2020 26436 110      2         B       2       201301     \n",
              "12717 12074044 2020 30013 110      2         B       2       201302     \n",
              "12718  3388239 2020 31276 110      1         B       1       201403     \n",
              "12719 13111791 2020 31419 110      2         A       1       201212     \n",
              "      COD_COM_ALU SIT_FIN_R PROM_GRAL ASISTENCIA\n",
              "1     1201        R         6.5        84       \n",
              "2     1201        R         6.1        81       \n",
              "3     1201        R         6.9       100       \n",
              "4     1201        R         6.9       100       \n",
              "5     1201        R         5.9       100       \n",
              "6     1201        R         6         100       \n",
              "7     1201        R         6         100       \n",
              "8     1201        R         5.9       100       \n",
              "9     1201        R         6.5       100       \n",
              "10    1201        R         5.9       100       \n",
              "11    1201        R         6.3       100       \n",
              "12    1201        R         5.8       100       \n",
              "13    1201        R         6.4       100       \n",
              "14    1201        R         5.9       100       \n",
              "15    1201        R         5.6       100       \n",
              "16    1201        R         6.6       100       \n",
              "17    1201        R         6.5       100       \n",
              "18    1201        R         5.9        91       \n",
              "19    1201        R         5.6        99       \n",
              "20    1201        R         5.8        97       \n",
              "21    1201        R         5.8        99       \n",
              "22    1201        R         5.8        89       \n",
              "23    1201        R         6.8       100       \n",
              "24    1201        R         6.5       100       \n",
              "25    1201        R         6.9       100       \n",
              "26    1201        R         6.8       100       \n",
              "27    1201        R         6         100       \n",
              "28    1201        R         6.7       100       \n",
              "29    1201        R         7         100       \n",
              "30    1201        R         6.3       100       \n",
              "⋮     ⋮           ⋮         ⋮         ⋮         \n",
              "12690  5101       R         6.2        75       \n",
              "12691  5101       R         6.7        81       \n",
              "12692  7101       R         6.8        68       \n",
              "12693  5301       R         6.4        84       \n",
              "12694  6310       R         5.7        96       \n",
              "12695  7301       R         6.1        84       \n",
              "12696 13401       R         6.8        80       \n",
              "12697  8108       R         6.1        80       \n",
              "12698  8112       R         5.9        80       \n",
              "12699 10101       R         5.8        70       \n",
              "12700 13105       R         5.6       100       \n",
              "12701 13132       R         6.8        83       \n",
              "12702 13115       R         6.7        84       \n",
              "12703 13114       R         6.6        84       \n",
              "12704 13118       R         6.6        71       \n",
              "12705 13127       R         6.1        84       \n",
              "12706 13127       R         6.2        82       \n",
              "12707 13201       R         6.2        67       \n",
              "12708 13201       R         6.7        67       \n",
              "12709 13201       R         6.9        69       \n",
              "12710 13404       R         5.9        82       \n",
              "12711 13110       R         6.9        80       \n",
              "12712 13301       R         6.7        84       \n",
              "12713 13301       R         6.4        84       \n",
              "12714 13301       R         6.2        84       \n",
              "12715 13301       R         6.5        84       \n",
              "12716 13101       R         5.7        77       \n",
              "12717 15101       R         6.8        76       \n",
              "12718 13132       R         5.8        80       \n",
              "12719 13110       R         6.4        70       "
            ],
            "text/latex": "A data.frame: 12719 × 12\n\\begin{tabular}{llllllllllll}\n MRUN & AGNO & RBD & COD\\_ENSE & COD\\_GRADO & LET\\_CUR & GEN\\_ALU & FEC\\_NAC\\_ALU & COD\\_COM\\_ALU & SIT\\_FIN\\_R & PROM\\_GRAL & ASISTENCIA\\\\\n <int> & <int> & <int> & <int> & <int> & <chr> & <int> & <chr> & <int> & <chr> & <chr> & <int>\\\\\n\\hline\n\t  7563620 & 2003 &  9 & 110 & 1 & C & 2 & 199706 & 1201 & R & 6.5 &  84\\\\\n\t  8616808 & 2003 & 18 & 110 & 2 & B & 2 & 199506 & 1201 & R & 6.1 &  81\\\\\n\t  5387804 & 2003 & 19 & 110 & 6 & B & 2 & 199107 & 1201 & R & 6.9 & 100\\\\\n\t  5401587 & 2003 & 19 & 110 & 6 & B & 2 & 199109 & 1201 & R & 6.9 & 100\\\\\n\t  7532859 & 2003 & 19 & 110 & 6 & B & 2 & 199205 & 1201 & R & 5.9 & 100\\\\\n\t 12397262 & 2003 & 19 & 110 & 6 & B & 2 & 199202 & 1201 & R & 6   & 100\\\\\n\t 12523858 & 2003 & 19 & 110 & 6 & B & 1 & 199110 & 1201 & R & 6   & 100\\\\\n\t 14653399 & 2003 & 19 & 110 & 6 & B & 1 & 199107 & 1201 & R & 5.9 & 100\\\\\n\t 15635859 & 2003 & 19 & 110 & 6 & B & 1 & 199107 & 1201 & R & 6.5 & 100\\\\\n\t 17630837 & 2003 & 19 & 110 & 6 & B & 2 & 198911 & 1201 & R & 5.9 & 100\\\\\n\t 17838333 & 2003 & 19 & 110 & 6 & B & 2 & 199203 & 1201 & R & 6.3 & 100\\\\\n\t 20031853 & 2003 & 19 & 110 & 6 & B & 1 & 199112 & 1201 & R & 5.8 & 100\\\\\n\t 20233397 & 2003 & 19 & 110 & 6 & B & 1 & 199201 & 1201 & R & 6.4 & 100\\\\\n\t 21263364 & 2003 & 19 & 110 & 6 & B & 1 & 199107 & 1201 & R & 5.9 & 100\\\\\n\t 21851343 & 2003 & 19 & 110 & 6 & B & 2 & 199012 & 1201 & R & 5.6 & 100\\\\\n\t 22083099 & 2003 & 19 & 110 & 6 & B & 2 & 199201 & 1201 & R & 6.6 & 100\\\\\n\t 24338454 & 2003 & 19 & 110 & 6 & B & 1 & 199105 & 1201 & R & 6.5 & 100\\\\\n\t 13495797 & 2003 & 52 & 110 & 1 & A & 2 & 199611 & 1201 & R & 5.9 &  91\\\\\n\t 16424191 & 2003 & 52 & 110 & 1 & A & 1 & 199705 & 1201 & R & 5.6 &  99\\\\\n\t 22588240 & 2003 & 52 & 110 & 1 & A & 1 & 199704 & 1201 & R & 5.8 &  97\\\\\n\t 22846490 & 2003 & 52 & 110 & 1 & A & 1 & 199608 & 1201 & R & 5.8 &  99\\\\\n\t 23294726 & 2003 & 52 & 110 & 1 & B & 1 & 199609 & 1201 & R & 5.8 &  89\\\\\n\t   597237 & 2003 & 59 & 110 & 5 & A & 1 & 199211 & 1201 & R & 6.8 & 100\\\\\n\t  2933383 & 2003 & 59 & 110 & 5 & A & 1 & 199209 & 1201 & R & 6.5 & 100\\\\\n\t  3879543 & 2003 & 59 & 110 & 5 & A & 2 & 199208 & 1201 & R & 6.9 & 100\\\\\n\t  4202907 & 2003 & 59 & 110 & 5 & A & 2 & 199207 & 1201 & R & 6.8 & 100\\\\\n\t  4664061 & 2003 & 59 & 110 & 5 & A & 1 & 199304 & 1201 & R & 6   & 100\\\\\n\t 10175830 & 2003 & 59 & 110 & 5 & A & 1 & 199301 & 1201 & R & 6.7 & 100\\\\\n\t 10965942 & 2003 & 59 & 110 & 5 & A & 2 & 199207 & 1201 & R & 7   & 100\\\\\n\t 11478062 & 2003 & 59 & 110 & 5 & A & 1 & 199209 & 1201 & R & 6.3 & 100\\\\\n\t ⋮ & ⋮ & ⋮ & ⋮ & ⋮ & ⋮ & ⋮ & ⋮ & ⋮ & ⋮ & ⋮ & ⋮\\\\\n\t 21365134 & 2020 & 14466 & 310 & 2 & A & 1 & 200406 &  5101 & R & 6.2 &  75\\\\\n\t  8032927 & 2020 & 14466 & 310 & 2 & B & 2 & 200406 &  5101 & R & 6.7 &  81\\\\\n\t  7351950 & 2020 & 14490 & 110 & 4 & B & 2 & 201006 &  7101 & R & 6.8 &  68\\\\\n\t 11153697 & 2020 & 14762 & 110 & 4 & B & 1 & 201003 &  5301 & R & 6.4 &  84\\\\\n\t 12776956 & 2020 & 15524 & 110 & 5 & A & 1 & 201001 &  6310 & R & 5.7 &  96\\\\\n\t  3735334 & 2020 & 16431 & 110 & 5 & A & 1 & 200909 &  7301 & R & 6.1 &  84\\\\\n\t 23129036 & 2020 & 16816 & 110 & 3 & A & 1 & 201201 & 13401 & R & 6.8 &  80\\\\\n\t  4344499 & 2020 & 18102 & 110 & 2 & B & 1 & 201211 &  8108 & R & 6.1 &  80\\\\\n\t  4184832 & 2020 & 18149 & 110 & 8 & B & 1 & 200607 &  8112 & R & 5.9 &  80\\\\\n\t 15943090 & 2020 & 20409 & 310 & 4 & A & 1 & 200306 & 10101 & R & 5.8 &  70\\\\\n\t 17630437 & 2020 & 24303 & 110 & 2 & A & 1 & 201301 & 13105 & R & 5.6 & 100\\\\\n\t  2033156 & 2020 & 24624 & 110 & 2 & A & 1 & 201209 & 13132 & R & 6.8 &  83\\\\\n\t   435133 & 2020 & 24624 & 110 & 2 & C & 2 & 201208 & 13115 & R & 6.7 &  84\\\\\n\t  2723373 & 2020 & 24884 & 110 & 1 & C & 2 & 201311 & 13114 & R & 6.6 &  84\\\\\n\t 11144481 & 2020 & 25065 & 110 & 2 & B & 2 & 201303 & 13118 & R & 6.6 &  71\\\\\n\t  2344266 & 2020 & 25138 & 110 & 1 & A & 2 & 201312 & 13127 & R & 6.1 &  84\\\\\n\t 10851740 & 2020 & 25138 & 110 & 1 & A & 2 & 201311 & 13127 & R & 6.2 &  82\\\\\n\t 18614931 & 2020 & 25389 & 110 & 7 & B & 2 & 200707 & 13201 & R & 6.2 &  67\\\\\n\t  4452611 & 2020 & 25640 & 310 & 2 & A & 1 & 200411 & 13201 & R & 6.7 &  67\\\\\n\t  9032047 & 2020 & 25640 & 310 & 2 & A & 2 & 200406 & 13201 & R & 6.9 &  69\\\\\n\t  5268183 & 2020 & 25711 & 110 & 5 & A & 1 & 200701 & 13404 & R & 5.9 &  82\\\\\n\t 13111184 & 2020 & 25712 & 110 & 1 & A & 1 & 201403 & 13110 & R & 6.9 &  80\\\\\n\t 18075094 & 2020 & 26311 & 110 & 1 & E & 1 & 201308 & 13301 & R & 6.7 &  84\\\\\n\t 12506717 & 2020 & 26311 & 110 & 2 & E & 1 & 201206 & 13301 & R & 6.4 &  84\\\\\n\t 24446731 & 2020 & 26311 & 110 & 6 & D & 2 & 200807 & 13301 & R & 6.2 &  84\\\\\n\t 15434605 & 2020 & 26399 & 110 & 2 & A & 1 & 201303 & 13301 & R & 6.5 &  84\\\\\n\t 25819695 & 2020 & 26436 & 110 & 2 & B & 2 & 201301 & 13101 & R & 5.7 &  77\\\\\n\t 12074044 & 2020 & 30013 & 110 & 2 & B & 2 & 201302 & 15101 & R & 6.8 &  76\\\\\n\t  3388239 & 2020 & 31276 & 110 & 1 & B & 1 & 201403 & 13132 & R & 5.8 &  80\\\\\n\t 13111791 & 2020 & 31419 & 110 & 2 & A & 1 & 201212 & 13110 & R & 6.4 &  70\\\\\n\\end{tabular}\n",
            "text/markdown": "\nA data.frame: 12719 × 12\n\n| MRUN &lt;int&gt; | AGNO &lt;int&gt; | RBD &lt;int&gt; | COD_ENSE &lt;int&gt; | COD_GRADO &lt;int&gt; | LET_CUR &lt;chr&gt; | GEN_ALU &lt;int&gt; | FEC_NAC_ALU &lt;chr&gt; | COD_COM_ALU &lt;int&gt; | SIT_FIN_R &lt;chr&gt; | PROM_GRAL &lt;chr&gt; | ASISTENCIA &lt;int&gt; |\n|---|---|---|---|---|---|---|---|---|---|---|---|\n|  7563620 | 2003 |  9 | 110 | 1 | C | 2 | 199706 | 1201 | R | 6.5 |  84 |\n|  8616808 | 2003 | 18 | 110 | 2 | B | 2 | 199506 | 1201 | R | 6.1 |  81 |\n|  5387804 | 2003 | 19 | 110 | 6 | B | 2 | 199107 | 1201 | R | 6.9 | 100 |\n|  5401587 | 2003 | 19 | 110 | 6 | B | 2 | 199109 | 1201 | R | 6.9 | 100 |\n|  7532859 | 2003 | 19 | 110 | 6 | B | 2 | 199205 | 1201 | R | 5.9 | 100 |\n| 12397262 | 2003 | 19 | 110 | 6 | B | 2 | 199202 | 1201 | R | 6   | 100 |\n| 12523858 | 2003 | 19 | 110 | 6 | B | 1 | 199110 | 1201 | R | 6   | 100 |\n| 14653399 | 2003 | 19 | 110 | 6 | B | 1 | 199107 | 1201 | R | 5.9 | 100 |\n| 15635859 | 2003 | 19 | 110 | 6 | B | 1 | 199107 | 1201 | R | 6.5 | 100 |\n| 17630837 | 2003 | 19 | 110 | 6 | B | 2 | 198911 | 1201 | R | 5.9 | 100 |\n| 17838333 | 2003 | 19 | 110 | 6 | B | 2 | 199203 | 1201 | R | 6.3 | 100 |\n| 20031853 | 2003 | 19 | 110 | 6 | B | 1 | 199112 | 1201 | R | 5.8 | 100 |\n| 20233397 | 2003 | 19 | 110 | 6 | B | 1 | 199201 | 1201 | R | 6.4 | 100 |\n| 21263364 | 2003 | 19 | 110 | 6 | B | 1 | 199107 | 1201 | R | 5.9 | 100 |\n| 21851343 | 2003 | 19 | 110 | 6 | B | 2 | 199012 | 1201 | R | 5.6 | 100 |\n| 22083099 | 2003 | 19 | 110 | 6 | B | 2 | 199201 | 1201 | R | 6.6 | 100 |\n| 24338454 | 2003 | 19 | 110 | 6 | B | 1 | 199105 | 1201 | R | 6.5 | 100 |\n| 13495797 | 2003 | 52 | 110 | 1 | A | 2 | 199611 | 1201 | R | 5.9 |  91 |\n| 16424191 | 2003 | 52 | 110 | 1 | A | 1 | 199705 | 1201 | R | 5.6 |  99 |\n| 22588240 | 2003 | 52 | 110 | 1 | A | 1 | 199704 | 1201 | R | 5.8 |  97 |\n| 22846490 | 2003 | 52 | 110 | 1 | A | 1 | 199608 | 1201 | R | 5.8 |  99 |\n| 23294726 | 2003 | 52 | 110 | 1 | B | 1 | 199609 | 1201 | R | 5.8 |  89 |\n|   597237 | 2003 | 59 | 110 | 5 | A | 1 | 199211 | 1201 | R | 6.8 | 100 |\n|  2933383 | 2003 | 59 | 110 | 5 | A | 1 | 199209 | 1201 | R | 6.5 | 100 |\n|  3879543 | 2003 | 59 | 110 | 5 | A | 2 | 199208 | 1201 | R | 6.9 | 100 |\n|  4202907 | 2003 | 59 | 110 | 5 | A | 2 | 199207 | 1201 | R | 6.8 | 100 |\n|  4664061 | 2003 | 59 | 110 | 5 | A | 1 | 199304 | 1201 | R | 6   | 100 |\n| 10175830 | 2003 | 59 | 110 | 5 | A | 1 | 199301 | 1201 | R | 6.7 | 100 |\n| 10965942 | 2003 | 59 | 110 | 5 | A | 2 | 199207 | 1201 | R | 7   | 100 |\n| 11478062 | 2003 | 59 | 110 | 5 | A | 1 | 199209 | 1201 | R | 6.3 | 100 |\n| ⋮ | ⋮ | ⋮ | ⋮ | ⋮ | ⋮ | ⋮ | ⋮ | ⋮ | ⋮ | ⋮ | ⋮ |\n| 21365134 | 2020 | 14466 | 310 | 2 | A | 1 | 200406 |  5101 | R | 6.2 |  75 |\n|  8032927 | 2020 | 14466 | 310 | 2 | B | 2 | 200406 |  5101 | R | 6.7 |  81 |\n|  7351950 | 2020 | 14490 | 110 | 4 | B | 2 | 201006 |  7101 | R | 6.8 |  68 |\n| 11153697 | 2020 | 14762 | 110 | 4 | B | 1 | 201003 |  5301 | R | 6.4 |  84 |\n| 12776956 | 2020 | 15524 | 110 | 5 | A | 1 | 201001 |  6310 | R | 5.7 |  96 |\n|  3735334 | 2020 | 16431 | 110 | 5 | A | 1 | 200909 |  7301 | R | 6.1 |  84 |\n| 23129036 | 2020 | 16816 | 110 | 3 | A | 1 | 201201 | 13401 | R | 6.8 |  80 |\n|  4344499 | 2020 | 18102 | 110 | 2 | B | 1 | 201211 |  8108 | R | 6.1 |  80 |\n|  4184832 | 2020 | 18149 | 110 | 8 | B | 1 | 200607 |  8112 | R | 5.9 |  80 |\n| 15943090 | 2020 | 20409 | 310 | 4 | A | 1 | 200306 | 10101 | R | 5.8 |  70 |\n| 17630437 | 2020 | 24303 | 110 | 2 | A | 1 | 201301 | 13105 | R | 5.6 | 100 |\n|  2033156 | 2020 | 24624 | 110 | 2 | A | 1 | 201209 | 13132 | R | 6.8 |  83 |\n|   435133 | 2020 | 24624 | 110 | 2 | C | 2 | 201208 | 13115 | R | 6.7 |  84 |\n|  2723373 | 2020 | 24884 | 110 | 1 | C | 2 | 201311 | 13114 | R | 6.6 |  84 |\n| 11144481 | 2020 | 25065 | 110 | 2 | B | 2 | 201303 | 13118 | R | 6.6 |  71 |\n|  2344266 | 2020 | 25138 | 110 | 1 | A | 2 | 201312 | 13127 | R | 6.1 |  84 |\n| 10851740 | 2020 | 25138 | 110 | 1 | A | 2 | 201311 | 13127 | R | 6.2 |  82 |\n| 18614931 | 2020 | 25389 | 110 | 7 | B | 2 | 200707 | 13201 | R | 6.2 |  67 |\n|  4452611 | 2020 | 25640 | 310 | 2 | A | 1 | 200411 | 13201 | R | 6.7 |  67 |\n|  9032047 | 2020 | 25640 | 310 | 2 | A | 2 | 200406 | 13201 | R | 6.9 |  69 |\n|  5268183 | 2020 | 25711 | 110 | 5 | A | 1 | 200701 | 13404 | R | 5.9 |  82 |\n| 13111184 | 2020 | 25712 | 110 | 1 | A | 1 | 201403 | 13110 | R | 6.9 |  80 |\n| 18075094 | 2020 | 26311 | 110 | 1 | E | 1 | 201308 | 13301 | R | 6.7 |  84 |\n| 12506717 | 2020 | 26311 | 110 | 2 | E | 1 | 201206 | 13301 | R | 6.4 |  84 |\n| 24446731 | 2020 | 26311 | 110 | 6 | D | 2 | 200807 | 13301 | R | 6.2 |  84 |\n| 15434605 | 2020 | 26399 | 110 | 2 | A | 1 | 201303 | 13301 | R | 6.5 |  84 |\n| 25819695 | 2020 | 26436 | 110 | 2 | B | 2 | 201301 | 13101 | R | 5.7 |  77 |\n| 12074044 | 2020 | 30013 | 110 | 2 | B | 2 | 201302 | 15101 | R | 6.8 |  76 |\n|  3388239 | 2020 | 31276 | 110 | 1 | B | 1 | 201403 | 13132 | R | 5.8 |  80 |\n| 13111791 | 2020 | 31419 | 110 | 2 | A | 1 | 201212 | 13110 | R | 6.4 |  70 |\n\n",
            "text/html": [
              "<table class=\"dataframe\">\n",
              "<caption>A data.frame: 12719 × 12</caption>\n",
              "<thead>\n",
              "\t<tr><th scope=col>MRUN</th><th scope=col>AGNO</th><th scope=col>RBD</th><th scope=col>COD_ENSE</th><th scope=col>COD_GRADO</th><th scope=col>LET_CUR</th><th scope=col>GEN_ALU</th><th scope=col>FEC_NAC_ALU</th><th scope=col>COD_COM_ALU</th><th scope=col>SIT_FIN_R</th><th scope=col>PROM_GRAL</th><th scope=col>ASISTENCIA</th></tr>\n",
              "\t<tr><th scope=col>&lt;int&gt;</th><th scope=col>&lt;int&gt;</th><th scope=col>&lt;int&gt;</th><th scope=col>&lt;int&gt;</th><th scope=col>&lt;int&gt;</th><th scope=col>&lt;chr&gt;</th><th scope=col>&lt;int&gt;</th><th scope=col>&lt;chr&gt;</th><th scope=col>&lt;int&gt;</th><th scope=col>&lt;chr&gt;</th><th scope=col>&lt;chr&gt;</th><th scope=col>&lt;int&gt;</th></tr>\n",
              "</thead>\n",
              "<tbody>\n",
              "\t<tr><td> 7563620</td><td>2003</td><td> 9</td><td>110</td><td>1</td><td>C</td><td>2</td><td>199706</td><td>1201</td><td>R</td><td>6.5</td><td> 84</td></tr>\n",
              "\t<tr><td> 8616808</td><td>2003</td><td>18</td><td>110</td><td>2</td><td>B</td><td>2</td><td>199506</td><td>1201</td><td>R</td><td>6.1</td><td> 81</td></tr>\n",
              "\t<tr><td> 5387804</td><td>2003</td><td>19</td><td>110</td><td>6</td><td>B</td><td>2</td><td>199107</td><td>1201</td><td>R</td><td>6.9</td><td>100</td></tr>\n",
              "\t<tr><td> 5401587</td><td>2003</td><td>19</td><td>110</td><td>6</td><td>B</td><td>2</td><td>199109</td><td>1201</td><td>R</td><td>6.9</td><td>100</td></tr>\n",
              "\t<tr><td> 7532859</td><td>2003</td><td>19</td><td>110</td><td>6</td><td>B</td><td>2</td><td>199205</td><td>1201</td><td>R</td><td>5.9</td><td>100</td></tr>\n",
              "\t<tr><td>12397262</td><td>2003</td><td>19</td><td>110</td><td>6</td><td>B</td><td>2</td><td>199202</td><td>1201</td><td>R</td><td>6  </td><td>100</td></tr>\n",
              "\t<tr><td>12523858</td><td>2003</td><td>19</td><td>110</td><td>6</td><td>B</td><td>1</td><td>199110</td><td>1201</td><td>R</td><td>6  </td><td>100</td></tr>\n",
              "\t<tr><td>14653399</td><td>2003</td><td>19</td><td>110</td><td>6</td><td>B</td><td>1</td><td>199107</td><td>1201</td><td>R</td><td>5.9</td><td>100</td></tr>\n",
              "\t<tr><td>15635859</td><td>2003</td><td>19</td><td>110</td><td>6</td><td>B</td><td>1</td><td>199107</td><td>1201</td><td>R</td><td>6.5</td><td>100</td></tr>\n",
              "\t<tr><td>17630837</td><td>2003</td><td>19</td><td>110</td><td>6</td><td>B</td><td>2</td><td>198911</td><td>1201</td><td>R</td><td>5.9</td><td>100</td></tr>\n",
              "\t<tr><td>17838333</td><td>2003</td><td>19</td><td>110</td><td>6</td><td>B</td><td>2</td><td>199203</td><td>1201</td><td>R</td><td>6.3</td><td>100</td></tr>\n",
              "\t<tr><td>20031853</td><td>2003</td><td>19</td><td>110</td><td>6</td><td>B</td><td>1</td><td>199112</td><td>1201</td><td>R</td><td>5.8</td><td>100</td></tr>\n",
              "\t<tr><td>20233397</td><td>2003</td><td>19</td><td>110</td><td>6</td><td>B</td><td>1</td><td>199201</td><td>1201</td><td>R</td><td>6.4</td><td>100</td></tr>\n",
              "\t<tr><td>21263364</td><td>2003</td><td>19</td><td>110</td><td>6</td><td>B</td><td>1</td><td>199107</td><td>1201</td><td>R</td><td>5.9</td><td>100</td></tr>\n",
              "\t<tr><td>21851343</td><td>2003</td><td>19</td><td>110</td><td>6</td><td>B</td><td>2</td><td>199012</td><td>1201</td><td>R</td><td>5.6</td><td>100</td></tr>\n",
              "\t<tr><td>22083099</td><td>2003</td><td>19</td><td>110</td><td>6</td><td>B</td><td>2</td><td>199201</td><td>1201</td><td>R</td><td>6.6</td><td>100</td></tr>\n",
              "\t<tr><td>24338454</td><td>2003</td><td>19</td><td>110</td><td>6</td><td>B</td><td>1</td><td>199105</td><td>1201</td><td>R</td><td>6.5</td><td>100</td></tr>\n",
              "\t<tr><td>13495797</td><td>2003</td><td>52</td><td>110</td><td>1</td><td>A</td><td>2</td><td>199611</td><td>1201</td><td>R</td><td>5.9</td><td> 91</td></tr>\n",
              "\t<tr><td>16424191</td><td>2003</td><td>52</td><td>110</td><td>1</td><td>A</td><td>1</td><td>199705</td><td>1201</td><td>R</td><td>5.6</td><td> 99</td></tr>\n",
              "\t<tr><td>22588240</td><td>2003</td><td>52</td><td>110</td><td>1</td><td>A</td><td>1</td><td>199704</td><td>1201</td><td>R</td><td>5.8</td><td> 97</td></tr>\n",
              "\t<tr><td>22846490</td><td>2003</td><td>52</td><td>110</td><td>1</td><td>A</td><td>1</td><td>199608</td><td>1201</td><td>R</td><td>5.8</td><td> 99</td></tr>\n",
              "\t<tr><td>23294726</td><td>2003</td><td>52</td><td>110</td><td>1</td><td>B</td><td>1</td><td>199609</td><td>1201</td><td>R</td><td>5.8</td><td> 89</td></tr>\n",
              "\t<tr><td>  597237</td><td>2003</td><td>59</td><td>110</td><td>5</td><td>A</td><td>1</td><td>199211</td><td>1201</td><td>R</td><td>6.8</td><td>100</td></tr>\n",
              "\t<tr><td> 2933383</td><td>2003</td><td>59</td><td>110</td><td>5</td><td>A</td><td>1</td><td>199209</td><td>1201</td><td>R</td><td>6.5</td><td>100</td></tr>\n",
              "\t<tr><td> 3879543</td><td>2003</td><td>59</td><td>110</td><td>5</td><td>A</td><td>2</td><td>199208</td><td>1201</td><td>R</td><td>6.9</td><td>100</td></tr>\n",
              "\t<tr><td> 4202907</td><td>2003</td><td>59</td><td>110</td><td>5</td><td>A</td><td>2</td><td>199207</td><td>1201</td><td>R</td><td>6.8</td><td>100</td></tr>\n",
              "\t<tr><td> 4664061</td><td>2003</td><td>59</td><td>110</td><td>5</td><td>A</td><td>1</td><td>199304</td><td>1201</td><td>R</td><td>6  </td><td>100</td></tr>\n",
              "\t<tr><td>10175830</td><td>2003</td><td>59</td><td>110</td><td>5</td><td>A</td><td>1</td><td>199301</td><td>1201</td><td>R</td><td>6.7</td><td>100</td></tr>\n",
              "\t<tr><td>10965942</td><td>2003</td><td>59</td><td>110</td><td>5</td><td>A</td><td>2</td><td>199207</td><td>1201</td><td>R</td><td>7  </td><td>100</td></tr>\n",
              "\t<tr><td>11478062</td><td>2003</td><td>59</td><td>110</td><td>5</td><td>A</td><td>1</td><td>199209</td><td>1201</td><td>R</td><td>6.3</td><td>100</td></tr>\n",
              "\t<tr><td>⋮</td><td>⋮</td><td>⋮</td><td>⋮</td><td>⋮</td><td>⋮</td><td>⋮</td><td>⋮</td><td>⋮</td><td>⋮</td><td>⋮</td><td>⋮</td></tr>\n",
              "\t<tr><td>21365134</td><td>2020</td><td>14466</td><td>310</td><td>2</td><td>A</td><td>1</td><td>200406</td><td> 5101</td><td>R</td><td>6.2</td><td> 75</td></tr>\n",
              "\t<tr><td> 8032927</td><td>2020</td><td>14466</td><td>310</td><td>2</td><td>B</td><td>2</td><td>200406</td><td> 5101</td><td>R</td><td>6.7</td><td> 81</td></tr>\n",
              "\t<tr><td> 7351950</td><td>2020</td><td>14490</td><td>110</td><td>4</td><td>B</td><td>2</td><td>201006</td><td> 7101</td><td>R</td><td>6.8</td><td> 68</td></tr>\n",
              "\t<tr><td>11153697</td><td>2020</td><td>14762</td><td>110</td><td>4</td><td>B</td><td>1</td><td>201003</td><td> 5301</td><td>R</td><td>6.4</td><td> 84</td></tr>\n",
              "\t<tr><td>12776956</td><td>2020</td><td>15524</td><td>110</td><td>5</td><td>A</td><td>1</td><td>201001</td><td> 6310</td><td>R</td><td>5.7</td><td> 96</td></tr>\n",
              "\t<tr><td> 3735334</td><td>2020</td><td>16431</td><td>110</td><td>5</td><td>A</td><td>1</td><td>200909</td><td> 7301</td><td>R</td><td>6.1</td><td> 84</td></tr>\n",
              "\t<tr><td>23129036</td><td>2020</td><td>16816</td><td>110</td><td>3</td><td>A</td><td>1</td><td>201201</td><td>13401</td><td>R</td><td>6.8</td><td> 80</td></tr>\n",
              "\t<tr><td> 4344499</td><td>2020</td><td>18102</td><td>110</td><td>2</td><td>B</td><td>1</td><td>201211</td><td> 8108</td><td>R</td><td>6.1</td><td> 80</td></tr>\n",
              "\t<tr><td> 4184832</td><td>2020</td><td>18149</td><td>110</td><td>8</td><td>B</td><td>1</td><td>200607</td><td> 8112</td><td>R</td><td>5.9</td><td> 80</td></tr>\n",
              "\t<tr><td>15943090</td><td>2020</td><td>20409</td><td>310</td><td>4</td><td>A</td><td>1</td><td>200306</td><td>10101</td><td>R</td><td>5.8</td><td> 70</td></tr>\n",
              "\t<tr><td>17630437</td><td>2020</td><td>24303</td><td>110</td><td>2</td><td>A</td><td>1</td><td>201301</td><td>13105</td><td>R</td><td>5.6</td><td>100</td></tr>\n",
              "\t<tr><td> 2033156</td><td>2020</td><td>24624</td><td>110</td><td>2</td><td>A</td><td>1</td><td>201209</td><td>13132</td><td>R</td><td>6.8</td><td> 83</td></tr>\n",
              "\t<tr><td>  435133</td><td>2020</td><td>24624</td><td>110</td><td>2</td><td>C</td><td>2</td><td>201208</td><td>13115</td><td>R</td><td>6.7</td><td> 84</td></tr>\n",
              "\t<tr><td> 2723373</td><td>2020</td><td>24884</td><td>110</td><td>1</td><td>C</td><td>2</td><td>201311</td><td>13114</td><td>R</td><td>6.6</td><td> 84</td></tr>\n",
              "\t<tr><td>11144481</td><td>2020</td><td>25065</td><td>110</td><td>2</td><td>B</td><td>2</td><td>201303</td><td>13118</td><td>R</td><td>6.6</td><td> 71</td></tr>\n",
              "\t<tr><td> 2344266</td><td>2020</td><td>25138</td><td>110</td><td>1</td><td>A</td><td>2</td><td>201312</td><td>13127</td><td>R</td><td>6.1</td><td> 84</td></tr>\n",
              "\t<tr><td>10851740</td><td>2020</td><td>25138</td><td>110</td><td>1</td><td>A</td><td>2</td><td>201311</td><td>13127</td><td>R</td><td>6.2</td><td> 82</td></tr>\n",
              "\t<tr><td>18614931</td><td>2020</td><td>25389</td><td>110</td><td>7</td><td>B</td><td>2</td><td>200707</td><td>13201</td><td>R</td><td>6.2</td><td> 67</td></tr>\n",
              "\t<tr><td> 4452611</td><td>2020</td><td>25640</td><td>310</td><td>2</td><td>A</td><td>1</td><td>200411</td><td>13201</td><td>R</td><td>6.7</td><td> 67</td></tr>\n",
              "\t<tr><td> 9032047</td><td>2020</td><td>25640</td><td>310</td><td>2</td><td>A</td><td>2</td><td>200406</td><td>13201</td><td>R</td><td>6.9</td><td> 69</td></tr>\n",
              "\t<tr><td> 5268183</td><td>2020</td><td>25711</td><td>110</td><td>5</td><td>A</td><td>1</td><td>200701</td><td>13404</td><td>R</td><td>5.9</td><td> 82</td></tr>\n",
              "\t<tr><td>13111184</td><td>2020</td><td>25712</td><td>110</td><td>1</td><td>A</td><td>1</td><td>201403</td><td>13110</td><td>R</td><td>6.9</td><td> 80</td></tr>\n",
              "\t<tr><td>18075094</td><td>2020</td><td>26311</td><td>110</td><td>1</td><td>E</td><td>1</td><td>201308</td><td>13301</td><td>R</td><td>6.7</td><td> 84</td></tr>\n",
              "\t<tr><td>12506717</td><td>2020</td><td>26311</td><td>110</td><td>2</td><td>E</td><td>1</td><td>201206</td><td>13301</td><td>R</td><td>6.4</td><td> 84</td></tr>\n",
              "\t<tr><td>24446731</td><td>2020</td><td>26311</td><td>110</td><td>6</td><td>D</td><td>2</td><td>200807</td><td>13301</td><td>R</td><td>6.2</td><td> 84</td></tr>\n",
              "\t<tr><td>15434605</td><td>2020</td><td>26399</td><td>110</td><td>2</td><td>A</td><td>1</td><td>201303</td><td>13301</td><td>R</td><td>6.5</td><td> 84</td></tr>\n",
              "\t<tr><td>25819695</td><td>2020</td><td>26436</td><td>110</td><td>2</td><td>B</td><td>2</td><td>201301</td><td>13101</td><td>R</td><td>5.7</td><td> 77</td></tr>\n",
              "\t<tr><td>12074044</td><td>2020</td><td>30013</td><td>110</td><td>2</td><td>B</td><td>2</td><td>201302</td><td>15101</td><td>R</td><td>6.8</td><td> 76</td></tr>\n",
              "\t<tr><td> 3388239</td><td>2020</td><td>31276</td><td>110</td><td>1</td><td>B</td><td>1</td><td>201403</td><td>13132</td><td>R</td><td>5.8</td><td> 80</td></tr>\n",
              "\t<tr><td>13111791</td><td>2020</td><td>31419</td><td>110</td><td>2</td><td>A</td><td>1</td><td>201212</td><td>13110</td><td>R</td><td>6.4</td><td> 70</td></tr>\n",
              "</tbody>\n",
              "</table>\n"
            ]
          },
          "metadata": {
            "tags": []
          }
        }
      ]
    },
    {
      "cell_type": "markdown",
      "metadata": {
        "id": "yOGQyEAFQT_t"
      },
      "source": [
        "# Preguntas"
      ]
    },
    {
      "cell_type": "markdown",
      "metadata": {
        "id": "m0dK7LPdXo3S"
      },
      "source": [
        "Tenemos listos los datos para ser utilizados pero dependerá del uso que vamos a querer darles. Ej:\n",
        "\n"
      ]
    },
    {
      "cell_type": "markdown",
      "metadata": {
        "id": "7AoinMyEwWz8"
      },
      "source": [
        " * Las notas por nivel"
      ]
    },
    {
      "cell_type": "code",
      "metadata": {
        "id": "KlA89JsBUGGD"
      },
      "source": [
        "resp <- dbGetQuery(conn, \"\n",
        "SELECT \n",
        "COD_ENSE,\n",
        "COD_GRADO,\n",
        "AVG(PROM_GRAL) AS MPROM\n",
        "FROM alumnos\n",
        "Where (COD_ENSE==110 OR COD_ENSE==310) and (SIT_FIN_R=='P')\n",
        "GROUP BY COD_ENSE, COD_GRADO\")"
      ],
      "execution_count": null,
      "outputs": []
    },
    {
      "cell_type": "code",
      "metadata": {
        "colab": {
          "base_uri": "https://localhost:8080/",
          "height": 437
        },
        "id": "yMCD5d6_7KW-",
        "outputId": "318894e9-03b5-4127-8c59-de8194e8d5a3"
      },
      "source": [
        "resp %>% arrange(COD_ENSE,COD_GRADO)%>%\n",
        "        ggplot(aes(x=1:12,y=MPROM)) + \n",
        "            geom_bar(stat=\"identity\", position=\"stack\")\n"
      ],
      "execution_count": null,
      "outputs": [
        {
          "output_type": "display_data",
          "data": {
            "image/png": "[encoded data removed]",
            "text/plain": [
              "plot without title"
            ]
          },
          "metadata": {
            "tags": [],
            "image/png": {
              "width": 420,
              "height": 420
            }
          }
        }
      ]
    },
    {
      "cell_type": "markdown",
      "metadata": {
        "id": "UfeGwua9xUki"
      },
      "source": [
        " * Promedio de un alumno durante su enseñanza (completa)"
      ]
    },
    {
      "cell_type": "code",
      "metadata": {
        "id": "0eNSCGpv9ant"
      },
      "source": [
        "resp <- dbGetQuery(conn, \"\n",
        "SELECT \n",
        "MRUN,\n",
        "COUNT() AS N,\n",
        "AVG(ASISTENCIA) AS MASIS, \n",
        "AVG(PROM_GRAL) AS MPROM\n",
        "FROM alumnos\n",
        "Where (COD_ENSE==110 OR COD_ENSE==310) and (SIT_FIN_R=='P')\n",
        "GROUP BY MRUN\n",
        "HAVING N=12\"\n",
        ")"
      ],
      "execution_count": null,
      "outputs": []
    },
    {
      "cell_type": "code",
      "metadata": {
        "colab": {
          "base_uri": "https://localhost:8080/",
          "height": 437
        },
        "id": "lX295ClX2gWw",
        "outputId": "9d3502b9-6a8b-4b42-c519-71bf20799823"
      },
      "source": [
        "ggplot(resp, aes(x=`MASIS`, y=`MPROM`)) +  geom_point(size=2, shape=23)"
      ],
      "execution_count": null,
      "outputs": [
        {
          "output_type": "display_data",
          "data": {
            "image/png": "[encoded data removed]",
            "text/plain": [
              "plot without title"
            ]
          },
          "metadata": {
            "tags": [],
            "image/png": {
              "width": 420,
              "height": 420
            }
          }
        }
      ]
    },
    {
      "cell_type": "markdown",
      "metadata": {
        "id": "cLVSfmjh1tHC"
      },
      "source": [
        " * Comunas con mejor promedio"
      ]
    },
    {
      "cell_type": "code",
      "metadata": {
        "id": "nlV5DOt3B0xd"
      },
      "source": [
        "resp <- dbGetQuery(conn, \"\n",
        "SELECT \n",
        "COD_COM_ALU,\n",
        "COUNT() AS N,\n",
        "AVG(ASISTENCIA) AS MASIS, \n",
        "AVG(PROM_GRAL) AS MPROM\n",
        "FROM alumnos\n",
        "Where (COD_ENSE==110 OR COD_ENSE==310) and (SIT_FIN_R=='P')\n",
        "GROUP BY COD_COM_ALU\n",
        "\")"
      ],
      "execution_count": null,
      "outputs": []
    },
    {
      "cell_type": "code",
      "metadata": {
        "colab": {
          "base_uri": "https://localhost:8080/",
          "height": 1000
        },
        "id": "CXP0rQnK2Xu_",
        "outputId": "7c25bf6d-d0bc-40d6-d7d1-e1c4ddbbc6f9"
      },
      "source": [
        "arrange(resp, MPROM)"
      ],
      "execution_count": null,
      "outputs": [
        {
          "output_type": "display_data",
          "data": {
            "text/plain": [
              "    COD_COM_ALU N      MASIS    MPROM   \n",
              "1    9113        17599 93.69618 5.612478\n",
              "2   13112       484483 91.42837 5.622113\n",
              "3   10303        55773 94.07389 5.623536\n",
              "4    5507        17085 94.70676 5.629722\n",
              "5   13116       250406 90.96090 5.639106\n",
              "6    4104         8988 92.79462 5.647664\n",
              "7   13128       363805 91.42421 5.657862\n",
              "8    9121        22072 95.64693 5.658490\n",
              "9    9208        36247 94.72726 5.665095\n",
              "10   6112        36561 94.00284 5.670671\n",
              "11  13131       220615 91.56824 5.671251\n",
              "12  10106        45926 93.47448 5.673253\n",
              "13   9210        54760 95.33442 5.673274\n",
              "14   8410        19189 93.71656 5.673542\n",
              "15   5505        52192 94.28046 5.677521\n",
              "16   9204        24918 94.30745 5.679701\n",
              "17   6111        32396 93.50929 5.681149\n",
              "18  13111       315557 91.53584 5.681421\n",
              "19   9207        26245 95.01509 5.683166\n",
              "20  13102       190138 91.12591 5.684710\n",
              "21  13103       333732 91.17678 5.686869\n",
              "22  10508         4890 93.86012 5.688691\n",
              "23  10507        12988 94.74715 5.691823\n",
              "24  13105       443638 92.10661 5.698950\n",
              "25   9206        18430 95.62572 5.699067\n",
              "26   1105         2201 92.62063 5.699182\n",
              "27  13127       374941 91.45292 5.700182\n",
              "28   4303        86980 93.89122 5.700825\n",
              "29  13121       248938 91.88682 5.700828\n",
              "30   6104        51755 94.18464 5.701032\n",
              "⋮   ⋮           ⋮      ⋮        ⋮       \n",
              "364 13113       267151 93.17513 5.990342\n",
              "365 12301        15859 92.42518 5.990794\n",
              "366 16305         3887 96.24055 5.993028\n",
              "367 12302         1482 90.04656 6.006005\n",
              "368 16107         6436 93.74705 6.007909\n",
              "369 12104         1265 91.39921 6.008142\n",
              "370 16301        21467 95.01924 6.012107\n",
              "371 16108         6079 94.37819 6.019279\n",
              "372  1202          288 92.98611 6.027431\n",
              "373     0          145 92.57241 6.028966\n",
              "374 16106         4666 93.31633 6.029147\n",
              "375 16303         4429 94.27726 6.029984\n",
              "376 12201         7938 91.53880 6.031759\n",
              "377  2104        34038 92.59724 6.034555\n",
              "378 12103          144 92.70833 6.041667\n",
              "379 13115       317060 94.34073 6.042990\n",
              "380 13123       211881 92.08963 6.045156\n",
              "381 13114       649370 93.91651 6.045889\n",
              "382 12402          399 91.95739 6.051880\n",
              "383 16101        85842 93.77115 6.056024\n",
              "384 16202         1726 94.35458 6.080475\n",
              "385 16109         7681 93.86825 6.091876\n",
              "386 12102          653 93.25881 6.100459\n",
              "387 16104         5573 95.11538 6.102799\n",
              "388 13132       212790 94.77310 6.115392\n",
              "389 16204         1589 96.83323 6.146570\n",
              "390 16201         4725 94.05460 6.165397\n",
              "391 16207         1934 95.71872 6.167735\n",
              "392 12202          222 94.94144 6.224775\n",
              "393 16203         7195 95.81334 6.257804"
            ],
            "text/latex": "A data.frame: 393 × 4\n\\begin{tabular}{llll}\n COD\\_COM\\_ALU & N & MASIS & MPROM\\\\\n <int> & <int> & <dbl> & <dbl>\\\\\n\\hline\n\t  9113 &  17599 & 93.69618 & 5.612478\\\\\n\t 13112 & 484483 & 91.42837 & 5.622113\\\\\n\t 10303 &  55773 & 94.07389 & 5.623536\\\\\n\t  5507 &  17085 & 94.70676 & 5.629722\\\\\n\t 13116 & 250406 & 90.96090 & 5.639106\\\\\n\t  4104 &   8988 & 92.79462 & 5.647664\\\\\n\t 13128 & 363805 & 91.42421 & 5.657862\\\\\n\t  9121 &  22072 & 95.64693 & 5.658490\\\\\n\t  9208 &  36247 & 94.72726 & 5.665095\\\\\n\t  6112 &  36561 & 94.00284 & 5.670671\\\\\n\t 13131 & 220615 & 91.56824 & 5.671251\\\\\n\t 10106 &  45926 & 93.47448 & 5.673253\\\\\n\t  9210 &  54760 & 95.33442 & 5.673274\\\\\n\t  8410 &  19189 & 93.71656 & 5.673542\\\\\n\t  5505 &  52192 & 94.28046 & 5.677521\\\\\n\t  9204 &  24918 & 94.30745 & 5.679701\\\\\n\t  6111 &  32396 & 93.50929 & 5.681149\\\\\n\t 13111 & 315557 & 91.53584 & 5.681421\\\\\n\t  9207 &  26245 & 95.01509 & 5.683166\\\\\n\t 13102 & 190138 & 91.12591 & 5.684710\\\\\n\t 13103 & 333732 & 91.17678 & 5.686869\\\\\n\t 10508 &   4890 & 93.86012 & 5.688691\\\\\n\t 10507 &  12988 & 94.74715 & 5.691823\\\\\n\t 13105 & 443638 & 92.10661 & 5.698950\\\\\n\t  9206 &  18430 & 95.62572 & 5.699067\\\\\n\t  1105 &   2201 & 92.62063 & 5.699182\\\\\n\t 13127 & 374941 & 91.45292 & 5.700182\\\\\n\t  4303 &  86980 & 93.89122 & 5.700825\\\\\n\t 13121 & 248938 & 91.88682 & 5.700828\\\\\n\t  6104 &  51755 & 94.18464 & 5.701032\\\\\n\t ⋮ & ⋮ & ⋮ & ⋮\\\\\n\t 13113 & 267151 & 93.17513 & 5.990342\\\\\n\t 12301 &  15859 & 92.42518 & 5.990794\\\\\n\t 16305 &   3887 & 96.24055 & 5.993028\\\\\n\t 12302 &   1482 & 90.04656 & 6.006005\\\\\n\t 16107 &   6436 & 93.74705 & 6.007909\\\\\n\t 12104 &   1265 & 91.39921 & 6.008142\\\\\n\t 16301 &  21467 & 95.01924 & 6.012107\\\\\n\t 16108 &   6079 & 94.37819 & 6.019279\\\\\n\t  1202 &    288 & 92.98611 & 6.027431\\\\\n\t     0 &    145 & 92.57241 & 6.028966\\\\\n\t 16106 &   4666 & 93.31633 & 6.029147\\\\\n\t 16303 &   4429 & 94.27726 & 6.029984\\\\\n\t 12201 &   7938 & 91.53880 & 6.031759\\\\\n\t  2104 &  34038 & 92.59724 & 6.034555\\\\\n\t 12103 &    144 & 92.70833 & 6.041667\\\\\n\t 13115 & 317060 & 94.34073 & 6.042990\\\\\n\t 13123 & 211881 & 92.08963 & 6.045156\\\\\n\t 13114 & 649370 & 93.91651 & 6.045889\\\\\n\t 12402 &    399 & 91.95739 & 6.051880\\\\\n\t 16101 &  85842 & 93.77115 & 6.056024\\\\\n\t 16202 &   1726 & 94.35458 & 6.080475\\\\\n\t 16109 &   7681 & 93.86825 & 6.091876\\\\\n\t 12102 &    653 & 93.25881 & 6.100459\\\\\n\t 16104 &   5573 & 95.11538 & 6.102799\\\\\n\t 13132 & 212790 & 94.77310 & 6.115392\\\\\n\t 16204 &   1589 & 96.83323 & 6.146570\\\\\n\t 16201 &   4725 & 94.05460 & 6.165397\\\\\n\t 16207 &   1934 & 95.71872 & 6.167735\\\\\n\t 12202 &    222 & 94.94144 & 6.224775\\\\\n\t 16203 &   7195 & 95.81334 & 6.257804\\\\\n\\end{tabular}\n",
            "text/markdown": "\nA data.frame: 393 × 4\n\n| COD_COM_ALU &lt;int&gt; | N &lt;int&gt; | MASIS &lt;dbl&gt; | MPROM &lt;dbl&gt; |\n|---|---|---|---|\n|  9113 |  17599 | 93.69618 | 5.612478 |\n| 13112 | 484483 | 91.42837 | 5.622113 |\n| 10303 |  55773 | 94.07389 | 5.623536 |\n|  5507 |  17085 | 94.70676 | 5.629722 |\n| 13116 | 250406 | 90.96090 | 5.639106 |\n|  4104 |   8988 | 92.79462 | 5.647664 |\n| 13128 | 363805 | 91.42421 | 5.657862 |\n|  9121 |  22072 | 95.64693 | 5.658490 |\n|  9208 |  36247 | 94.72726 | 5.665095 |\n|  6112 |  36561 | 94.00284 | 5.670671 |\n| 13131 | 220615 | 91.56824 | 5.671251 |\n| 10106 |  45926 | 93.47448 | 5.673253 |\n|  9210 |  54760 | 95.33442 | 5.673274 |\n|  8410 |  19189 | 93.71656 | 5.673542 |\n|  5505 |  52192 | 94.28046 | 5.677521 |\n|  9204 |  24918 | 94.30745 | 5.679701 |\n|  6111 |  32396 | 93.50929 | 5.681149 |\n| 13111 | 315557 | 91.53584 | 5.681421 |\n|  9207 |  26245 | 95.01509 | 5.683166 |\n| 13102 | 190138 | 91.12591 | 5.684710 |\n| 13103 | 333732 | 91.17678 | 5.686869 |\n| 10508 |   4890 | 93.86012 | 5.688691 |\n| 10507 |  12988 | 94.74715 | 5.691823 |\n| 13105 | 443638 | 92.10661 | 5.698950 |\n|  9206 |  18430 | 95.62572 | 5.699067 |\n|  1105 |   2201 | 92.62063 | 5.699182 |\n| 13127 | 374941 | 91.45292 | 5.700182 |\n|  4303 |  86980 | 93.89122 | 5.700825 |\n| 13121 | 248938 | 91.88682 | 5.700828 |\n|  6104 |  51755 | 94.18464 | 5.701032 |\n| ⋮ | ⋮ | ⋮ | ⋮ |\n| 13113 | 267151 | 93.17513 | 5.990342 |\n| 12301 |  15859 | 92.42518 | 5.990794 |\n| 16305 |   3887 | 96.24055 | 5.993028 |\n| 12302 |   1482 | 90.04656 | 6.006005 |\n| 16107 |   6436 | 93.74705 | 6.007909 |\n| 12104 |   1265 | 91.39921 | 6.008142 |\n| 16301 |  21467 | 95.01924 | 6.012107 |\n| 16108 |   6079 | 94.37819 | 6.019279 |\n|  1202 |    288 | 92.98611 | 6.027431 |\n|     0 |    145 | 92.57241 | 6.028966 |\n| 16106 |   4666 | 93.31633 | 6.029147 |\n| 16303 |   4429 | 94.27726 | 6.029984 |\n| 12201 |   7938 | 91.53880 | 6.031759 |\n|  2104 |  34038 | 92.59724 | 6.034555 |\n| 12103 |    144 | 92.70833 | 6.041667 |\n| 13115 | 317060 | 94.34073 | 6.042990 |\n| 13123 | 211881 | 92.08963 | 6.045156 |\n| 13114 | 649370 | 93.91651 | 6.045889 |\n| 12402 |    399 | 91.95739 | 6.051880 |\n| 16101 |  85842 | 93.77115 | 6.056024 |\n| 16202 |   1726 | 94.35458 | 6.080475 |\n| 16109 |   7681 | 93.86825 | 6.091876 |\n| 12102 |    653 | 93.25881 | 6.100459 |\n| 16104 |   5573 | 95.11538 | 6.102799 |\n| 13132 | 212790 | 94.77310 | 6.115392 |\n| 16204 |   1589 | 96.83323 | 6.146570 |\n| 16201 |   4725 | 94.05460 | 6.165397 |\n| 16207 |   1934 | 95.71872 | 6.167735 |\n| 12202 |    222 | 94.94144 | 6.224775 |\n| 16203 |   7195 | 95.81334 | 6.257804 |\n\n",
            "text/html": [
              "<table class=\"dataframe\">\n",
              "<caption>A data.frame: 393 × 4</caption>\n",
              "<thead>\n",
              "\t<tr><th scope=col>COD_COM_ALU</th><th scope=col>N</th><th scope=col>MASIS</th><th scope=col>MPROM</th></tr>\n",
              "\t<tr><th scope=col>&lt;int&gt;</th><th scope=col>&lt;int&gt;</th><th scope=col>&lt;dbl&gt;</th><th scope=col>&lt;dbl&gt;</th></tr>\n",
              "</thead>\n",
              "<tbody>\n",
              "\t<tr><td> 9113</td><td> 17599</td><td>93.69618</td><td>5.612478</td></tr>\n",
              "\t<tr><td>13112</td><td>484483</td><td>91.42837</td><td>5.622113</td></tr>\n",
              "\t<tr><td>10303</td><td> 55773</td><td>94.07389</td><td>5.623536</td></tr>\n",
              "\t<tr><td> 5507</td><td> 17085</td><td>94.70676</td><td>5.629722</td></tr>\n",
              "\t<tr><td>13116</td><td>250406</td><td>90.96090</td><td>5.639106</td></tr>\n",
              "\t<tr><td> 4104</td><td>  8988</td><td>92.79462</td><td>5.647664</td></tr>\n",
              "\t<tr><td>13128</td><td>363805</td><td>91.42421</td><td>5.657862</td></tr>\n",
              "\t<tr><td> 9121</td><td> 22072</td><td>95.64693</td><td>5.658490</td></tr>\n",
              "\t<tr><td> 9208</td><td> 36247</td><td>94.72726</td><td>5.665095</td></tr>\n",
              "\t<tr><td> 6112</td><td> 36561</td><td>94.00284</td><td>5.670671</td></tr>\n",
              "\t<tr><td>13131</td><td>220615</td><td>91.56824</td><td>5.671251</td></tr>\n",
              "\t<tr><td>10106</td><td> 45926</td><td>93.47448</td><td>5.673253</td></tr>\n",
              "\t<tr><td> 9210</td><td> 54760</td><td>95.33442</td><td>5.673274</td></tr>\n",
              "\t<tr><td> 8410</td><td> 19189</td><td>93.71656</td><td>5.673542</td></tr>\n",
              "\t<tr><td> 5505</td><td> 52192</td><td>94.28046</td><td>5.677521</td></tr>\n",
              "\t<tr><td> 9204</td><td> 24918</td><td>94.30745</td><td>5.679701</td></tr>\n",
              "\t<tr><td> 6111</td><td> 32396</td><td>93.50929</td><td>5.681149</td></tr>\n",
              "\t<tr><td>13111</td><td>315557</td><td>91.53584</td><td>5.681421</td></tr>\n",
              "\t<tr><td> 9207</td><td> 26245</td><td>95.01509</td><td>5.683166</td></tr>\n",
              "\t<tr><td>13102</td><td>190138</td><td>91.12591</td><td>5.684710</td></tr>\n",
              "\t<tr><td>13103</td><td>333732</td><td>91.17678</td><td>5.686869</td></tr>\n",
              "\t<tr><td>10508</td><td>  4890</td><td>93.86012</td><td>5.688691</td></tr>\n",
              "\t<tr><td>10507</td><td> 12988</td><td>94.74715</td><td>5.691823</td></tr>\n",
              "\t<tr><td>13105</td><td>443638</td><td>92.10661</td><td>5.698950</td></tr>\n",
              "\t<tr><td> 9206</td><td> 18430</td><td>95.62572</td><td>5.699067</td></tr>\n",
              "\t<tr><td> 1105</td><td>  2201</td><td>92.62063</td><td>5.699182</td></tr>\n",
              "\t<tr><td>13127</td><td>374941</td><td>91.45292</td><td>5.700182</td></tr>\n",
              "\t<tr><td> 4303</td><td> 86980</td><td>93.89122</td><td>5.700825</td></tr>\n",
              "\t<tr><td>13121</td><td>248938</td><td>91.88682</td><td>5.700828</td></tr>\n",
              "\t<tr><td> 6104</td><td> 51755</td><td>94.18464</td><td>5.701032</td></tr>\n",
              "\t<tr><td>⋮</td><td>⋮</td><td>⋮</td><td>⋮</td></tr>\n",
              "\t<tr><td>13113</td><td>267151</td><td>93.17513</td><td>5.990342</td></tr>\n",
              "\t<tr><td>12301</td><td> 15859</td><td>92.42518</td><td>5.990794</td></tr>\n",
              "\t<tr><td>16305</td><td>  3887</td><td>96.24055</td><td>5.993028</td></tr>\n",
              "\t<tr><td>12302</td><td>  1482</td><td>90.04656</td><td>6.006005</td></tr>\n",
              "\t<tr><td>16107</td><td>  6436</td><td>93.74705</td><td>6.007909</td></tr>\n",
              "\t<tr><td>12104</td><td>  1265</td><td>91.39921</td><td>6.008142</td></tr>\n",
              "\t<tr><td>16301</td><td> 21467</td><td>95.01924</td><td>6.012107</td></tr>\n",
              "\t<tr><td>16108</td><td>  6079</td><td>94.37819</td><td>6.019279</td></tr>\n",
              "\t<tr><td> 1202</td><td>   288</td><td>92.98611</td><td>6.027431</td></tr>\n",
              "\t<tr><td>    0</td><td>   145</td><td>92.57241</td><td>6.028966</td></tr>\n",
              "\t<tr><td>16106</td><td>  4666</td><td>93.31633</td><td>6.029147</td></tr>\n",
              "\t<tr><td>16303</td><td>  4429</td><td>94.27726</td><td>6.029984</td></tr>\n",
              "\t<tr><td>12201</td><td>  7938</td><td>91.53880</td><td>6.031759</td></tr>\n",
              "\t<tr><td> 2104</td><td> 34038</td><td>92.59724</td><td>6.034555</td></tr>\n",
              "\t<tr><td>12103</td><td>   144</td><td>92.70833</td><td>6.041667</td></tr>\n",
              "\t<tr><td>13115</td><td>317060</td><td>94.34073</td><td>6.042990</td></tr>\n",
              "\t<tr><td>13123</td><td>211881</td><td>92.08963</td><td>6.045156</td></tr>\n",
              "\t<tr><td>13114</td><td>649370</td><td>93.91651</td><td>6.045889</td></tr>\n",
              "\t<tr><td>12402</td><td>   399</td><td>91.95739</td><td>6.051880</td></tr>\n",
              "\t<tr><td>16101</td><td> 85842</td><td>93.77115</td><td>6.056024</td></tr>\n",
              "\t<tr><td>16202</td><td>  1726</td><td>94.35458</td><td>6.080475</td></tr>\n",
              "\t<tr><td>16109</td><td>  7681</td><td>93.86825</td><td>6.091876</td></tr>\n",
              "\t<tr><td>12102</td><td>   653</td><td>93.25881</td><td>6.100459</td></tr>\n",
              "\t<tr><td>16104</td><td>  5573</td><td>95.11538</td><td>6.102799</td></tr>\n",
              "\t<tr><td>13132</td><td>212790</td><td>94.77310</td><td>6.115392</td></tr>\n",
              "\t<tr><td>16204</td><td>  1589</td><td>96.83323</td><td>6.146570</td></tr>\n",
              "\t<tr><td>16201</td><td>  4725</td><td>94.05460</td><td>6.165397</td></tr>\n",
              "\t<tr><td>16207</td><td>  1934</td><td>95.71872</td><td>6.167735</td></tr>\n",
              "\t<tr><td>12202</td><td>   222</td><td>94.94144</td><td>6.224775</td></tr>\n",
              "\t<tr><td>16203</td><td>  7195</td><td>95.81334</td><td>6.257804</td></tr>\n",
              "</tbody>\n",
              "</table>\n"
            ]
          },
          "metadata": {
            "tags": []
          }
        }
      ]
    },
    {
      "cell_type": "markdown",
      "metadata": {
        "id": "jvvTenWO1F0a"
      },
      "source": [
        "* "
      ]
    },
    {
      "cell_type": "markdown",
      "metadata": {
        "id": "XxM6EQqm2huk"
      },
      "source": [
        "# Muestreo"
      ]
    },
    {
      "cell_type": "code",
      "metadata": {
        "id": "9_WBgO618r47",
        "colab": {
          "base_uri": "https://localhost:8080/",
          "height": 1000
        },
        "outputId": "59a5619b-579d-4dd2-904a-996e4d9490e1"
      },
      "source": [
        "dbGetQuery(conn, \"\n",
        "SELECT *\n",
        "FROM alumnos\n",
        "LIMIT 1000\n",
        "\")"
      ],
      "execution_count": 121,
      "outputs": [
        {
          "output_type": "display_data",
          "data": {
            "text/plain": [
              "     MRUN     AGNO RBD COD_ENSE COD_GRADO LET_CUR GEN_ALU FEC_NAC_ALU\n",
              "1     10359   2010 1   610      4         A       2       19890404   \n",
              "2     14329   2010 1   610      3         C       2       19920701   \n",
              "3     16655   2010 1   510      1         D       2       19960128   \n",
              "4     27013   2010 1   510      3         B       1       19920330   \n",
              "5     33774   2010 1   510      2         A       2       19941230   \n",
              "6     38615   2010 1   510      2         A       2       19940316   \n",
              "7     39452   2010 1   510      3         C       1       19930713   \n",
              "8     49657   2010 1   510      2         F       2       19950410   \n",
              "9     56366   2010 1   510      2         E       2       19930319   \n",
              "10    58201   2010 1   510      3         F       1       19940425   \n",
              "11    71708   2010 1   510      1         C       2       19930506   \n",
              "12    80001   2010 1   463      4         A       1       19720809   \n",
              "13    94563   2010 1   663      3         B       2       19770620   \n",
              "14   123946   2010 1   563      1         A       1       19900516   \n",
              "15   126196   2010 1   510      3         A       1       19921009   \n",
              "16   128891   2010 1   510      2         F       1       19940108   \n",
              "17   135496   2010 1   510      2         D       2       19941214   \n",
              "18   150350   2010 1   663      4         B       2       19820624   \n",
              "19   161516   2010 1   510      3         F       1       19930911   \n",
              "20   173563   2010 1   510      4         B       1       19930511   \n",
              "21   196470   2010 1   510      2         B       1       19950119   \n",
              "22   199285   2010 1   510      4         C       1       19920912   \n",
              "23   223163   2010 1   563      4         B       1       19871118   \n",
              "24   224707   2010 1   510      1         E       1       19960229   \n",
              "25   228576   2010 1   510      4         B       2       19910624   \n",
              "26   231109   2010 1   510      2         H       2       19930214   \n",
              "27   257432   2010 1   663      3         C       2       19710706   \n",
              "28   259525   2010 1   510      2         I       2       19930305   \n",
              "29   259598   2010 1   510      2         H       1       19930411   \n",
              "30   261318   2010 1   510      2         D       1       19940420   \n",
              "⋮    ⋮        ⋮    ⋮   ⋮        ⋮         ⋮       ⋮       ⋮          \n",
              "971  12056556 2010 1   510      2         E       1       19931109   \n",
              "972  12065363 2010 1   663      3         C       2       19691129   \n",
              "973  12065757 2010 1   610      4         B       2       19921227   \n",
              "974  12067553 2010 1   510      2         E       2       19940527   \n",
              "975  12068511 2010 1   510      1         G       2       19930604   \n",
              "976  12081088 2010 1   510      3         A       1       19930324   \n",
              "977  12084021 2010 1   610      3         A       2       19910625   \n",
              "978  12084339 2010 1   610      4         B       2       19930611   \n",
              "979  12098686 2010 1   510      1         B       2       19960128   \n",
              "980  12134124 2010 1   510      4         D       1       19910920   \n",
              "981  12146149 2010 1   663      3         B       2       19720626   \n",
              "982  12159347 2010 1   510      4         E       2       19910531   \n",
              "983  12169284 2010 1   610      3         A       1       19930619   \n",
              "984  12207609 2010 1   610      3         C       2       19921022   \n",
              "985  12216798 2010 1   510      2         G       2       19941224   \n",
              "986  12224579 2010 1   510      1         F       1       19941110   \n",
              "987  12237888 2010 1   510      2         H       2       19950628   \n",
              "988  12239342 2010 1   510      2         F       1       19930303   \n",
              "989  12242340 2010 1   510      1         F       1       19950504   \n",
              "990  12251889 2010 1   563      3         C       1       19781209   \n",
              "991  12255028 2010 1   663      3         B       2       19800313   \n",
              "992  12255401 2010 1   510      3         C       1       19930924   \n",
              "993  12286703 2010 1   510      2         G       2       19930525   \n",
              "994  12301835 2010 1   510      2         A       1       19940628   \n",
              "995  12309233 2010 1   510      4         C       1       19921028   \n",
              "996  12312548 2010 1   510      1         D       2       19930128   \n",
              "997  12312548 2010 1   563      1         B       2       19930128   \n",
              "998  12336380 2010 1   510      1         D       2       19950417   \n",
              "999  12356470 2010 1   510      3         B       1       19930421   \n",
              "1000 12357051 2010 1   510      3         B       1       19931018   \n",
              "     COD_COM_ALU SIT_FIN_R PROM_GRAL ASISTENCIA\n",
              "1    15101       P         5.7        92       \n",
              "2    15101       P         5.8       100       \n",
              "3    15101       T         NA         NA       \n",
              "4    15101       P         5.2        91       \n",
              "5    15101       P         5.1        95       \n",
              "6    15101       P         4.9       100       \n",
              "7    15101       P         6.4        99       \n",
              "8    15101       Y         NA         NA       \n",
              "9    15101       P         5.5        90       \n",
              "10   15101       P         4.7        95       \n",
              "11   15101       Y         NA         NA       \n",
              "12   15101       P         5.5        89       \n",
              "13   15101       P         6.9        99       \n",
              "14   15101       T         NA         NA       \n",
              "15   15101       R         3.6        88       \n",
              "16   15101       P         4.8        90       \n",
              "17   15101       P         5.2        90       \n",
              "18   15101       P         5.5        87       \n",
              "19   15101       Y         NA         NA       \n",
              "20   15101       P         6.5        98       \n",
              "21   15101       P         5.9        92       \n",
              "22   15101       P         5.6        98       \n",
              "23   15101       Y         NA         NA       \n",
              "24   15101       P         5.2        95       \n",
              "25   15101       P         5          86       \n",
              "26   15101       Y         NA         NA       \n",
              "27   15101       P         6.4        98       \n",
              "28   15101       P         5.5        89       \n",
              "29   15101       T         NA         NA       \n",
              "30   15101       T         NA         NA       \n",
              "⋮    ⋮           ⋮         ⋮         ⋮         \n",
              "971  15101       R         3.8        89       \n",
              "972  15101       P         6.2        92       \n",
              "973  15101       P         6.6        99       \n",
              "974  15101       P         5          90       \n",
              "975  15101       T         NA         NA       \n",
              "976  15101       P         5.1        90       \n",
              "977  15101       R         4.2        85       \n",
              "978  15101       P         6.9       100       \n",
              "979  15101       P         6.3        90       \n",
              "980  15101       P         5.5        95       \n",
              "981  15101       P         6.5        98       \n",
              "982  15101       P         5.1        90       \n",
              "983  15101       R         4.1        85       \n",
              "984  15101       Y         NA         NA       \n",
              "985  15101       P         4.5        95       \n",
              "986  15101       T         NA         NA       \n",
              "987  15101       P         5.9       100       \n",
              "988  15101       Y         NA         NA       \n",
              "989  15101       P         6.7       100       \n",
              "990  15101       Y         NA         NA       \n",
              "991  15101       P         6.8        99       \n",
              "992  15101       P         5.4        93       \n",
              "993  15101       P         4.6        85       \n",
              "994   2101       P         5.5        98       \n",
              "995  15101       P         6.6       100       \n",
              "996  15101       T         NA         NA       \n",
              "997  15101       P         4.6        88       \n",
              "998  15101       P         5          98       \n",
              "999  15101       P         6          98       \n",
              "1000 15101       P         6.4       100       "
            ],
            "text/latex": "A data.frame: 1000 × 12\n\\begin{tabular}{llllllllllll}\n MRUN & AGNO & RBD & COD\\_ENSE & COD\\_GRADO & LET\\_CUR & GEN\\_ALU & FEC\\_NAC\\_ALU & COD\\_COM\\_ALU & SIT\\_FIN\\_R & PROM\\_GRAL & ASISTENCIA\\\\\n <int> & <int> & <int> & <int> & <int> & <chr> & <int> & <int> & <int> & <chr> & <chr> & <int>\\\\\n\\hline\n\t  10359 & 2010 & 1 & 610 & 4 & A & 2 & 19890404 & 15101 & P & 5.7 &  92\\\\\n\t  14329 & 2010 & 1 & 610 & 3 & C & 2 & 19920701 & 15101 & P & 5.8 & 100\\\\\n\t  16655 & 2010 & 1 & 510 & 1 & D & 2 & 19960128 & 15101 & T & NA  &  NA\\\\\n\t  27013 & 2010 & 1 & 510 & 3 & B & 1 & 19920330 & 15101 & P & 5.2 &  91\\\\\n\t  33774 & 2010 & 1 & 510 & 2 & A & 2 & 19941230 & 15101 & P & 5.1 &  95\\\\\n\t  38615 & 2010 & 1 & 510 & 2 & A & 2 & 19940316 & 15101 & P & 4.9 & 100\\\\\n\t  39452 & 2010 & 1 & 510 & 3 & C & 1 & 19930713 & 15101 & P & 6.4 &  99\\\\\n\t  49657 & 2010 & 1 & 510 & 2 & F & 2 & 19950410 & 15101 & Y & NA  &  NA\\\\\n\t  56366 & 2010 & 1 & 510 & 2 & E & 2 & 19930319 & 15101 & P & 5.5 &  90\\\\\n\t  58201 & 2010 & 1 & 510 & 3 & F & 1 & 19940425 & 15101 & P & 4.7 &  95\\\\\n\t  71708 & 2010 & 1 & 510 & 1 & C & 2 & 19930506 & 15101 & Y & NA  &  NA\\\\\n\t  80001 & 2010 & 1 & 463 & 4 & A & 1 & 19720809 & 15101 & P & 5.5 &  89\\\\\n\t  94563 & 2010 & 1 & 663 & 3 & B & 2 & 19770620 & 15101 & P & 6.9 &  99\\\\\n\t 123946 & 2010 & 1 & 563 & 1 & A & 1 & 19900516 & 15101 & T & NA  &  NA\\\\\n\t 126196 & 2010 & 1 & 510 & 3 & A & 1 & 19921009 & 15101 & R & 3.6 &  88\\\\\n\t 128891 & 2010 & 1 & 510 & 2 & F & 1 & 19940108 & 15101 & P & 4.8 &  90\\\\\n\t 135496 & 2010 & 1 & 510 & 2 & D & 2 & 19941214 & 15101 & P & 5.2 &  90\\\\\n\t 150350 & 2010 & 1 & 663 & 4 & B & 2 & 19820624 & 15101 & P & 5.5 &  87\\\\\n\t 161516 & 2010 & 1 & 510 & 3 & F & 1 & 19930911 & 15101 & Y & NA  &  NA\\\\\n\t 173563 & 2010 & 1 & 510 & 4 & B & 1 & 19930511 & 15101 & P & 6.5 &  98\\\\\n\t 196470 & 2010 & 1 & 510 & 2 & B & 1 & 19950119 & 15101 & P & 5.9 &  92\\\\\n\t 199285 & 2010 & 1 & 510 & 4 & C & 1 & 19920912 & 15101 & P & 5.6 &  98\\\\\n\t 223163 & 2010 & 1 & 563 & 4 & B & 1 & 19871118 & 15101 & Y & NA  &  NA\\\\\n\t 224707 & 2010 & 1 & 510 & 1 & E & 1 & 19960229 & 15101 & P & 5.2 &  95\\\\\n\t 228576 & 2010 & 1 & 510 & 4 & B & 2 & 19910624 & 15101 & P & 5   &  86\\\\\n\t 231109 & 2010 & 1 & 510 & 2 & H & 2 & 19930214 & 15101 & Y & NA  &  NA\\\\\n\t 257432 & 2010 & 1 & 663 & 3 & C & 2 & 19710706 & 15101 & P & 6.4 &  98\\\\\n\t 259525 & 2010 & 1 & 510 & 2 & I & 2 & 19930305 & 15101 & P & 5.5 &  89\\\\\n\t 259598 & 2010 & 1 & 510 & 2 & H & 1 & 19930411 & 15101 & T & NA  &  NA\\\\\n\t 261318 & 2010 & 1 & 510 & 2 & D & 1 & 19940420 & 15101 & T & NA  &  NA\\\\\n\t ⋮ & ⋮ & ⋮ & ⋮ & ⋮ & ⋮ & ⋮ & ⋮ & ⋮ & ⋮ & ⋮ & ⋮\\\\\n\t 12056556 & 2010 & 1 & 510 & 2 & E & 1 & 19931109 & 15101 & R & 3.8 &  89\\\\\n\t 12065363 & 2010 & 1 & 663 & 3 & C & 2 & 19691129 & 15101 & P & 6.2 &  92\\\\\n\t 12065757 & 2010 & 1 & 610 & 4 & B & 2 & 19921227 & 15101 & P & 6.6 &  99\\\\\n\t 12067553 & 2010 & 1 & 510 & 2 & E & 2 & 19940527 & 15101 & P & 5   &  90\\\\\n\t 12068511 & 2010 & 1 & 510 & 1 & G & 2 & 19930604 & 15101 & T & NA  &  NA\\\\\n\t 12081088 & 2010 & 1 & 510 & 3 & A & 1 & 19930324 & 15101 & P & 5.1 &  90\\\\\n\t 12084021 & 2010 & 1 & 610 & 3 & A & 2 & 19910625 & 15101 & R & 4.2 &  85\\\\\n\t 12084339 & 2010 & 1 & 610 & 4 & B & 2 & 19930611 & 15101 & P & 6.9 & 100\\\\\n\t 12098686 & 2010 & 1 & 510 & 1 & B & 2 & 19960128 & 15101 & P & 6.3 &  90\\\\\n\t 12134124 & 2010 & 1 & 510 & 4 & D & 1 & 19910920 & 15101 & P & 5.5 &  95\\\\\n\t 12146149 & 2010 & 1 & 663 & 3 & B & 2 & 19720626 & 15101 & P & 6.5 &  98\\\\\n\t 12159347 & 2010 & 1 & 510 & 4 & E & 2 & 19910531 & 15101 & P & 5.1 &  90\\\\\n\t 12169284 & 2010 & 1 & 610 & 3 & A & 1 & 19930619 & 15101 & R & 4.1 &  85\\\\\n\t 12207609 & 2010 & 1 & 610 & 3 & C & 2 & 19921022 & 15101 & Y & NA  &  NA\\\\\n\t 12216798 & 2010 & 1 & 510 & 2 & G & 2 & 19941224 & 15101 & P & 4.5 &  95\\\\\n\t 12224579 & 2010 & 1 & 510 & 1 & F & 1 & 19941110 & 15101 & T & NA  &  NA\\\\\n\t 12237888 & 2010 & 1 & 510 & 2 & H & 2 & 19950628 & 15101 & P & 5.9 & 100\\\\\n\t 12239342 & 2010 & 1 & 510 & 2 & F & 1 & 19930303 & 15101 & Y & NA  &  NA\\\\\n\t 12242340 & 2010 & 1 & 510 & 1 & F & 1 & 19950504 & 15101 & P & 6.7 & 100\\\\\n\t 12251889 & 2010 & 1 & 563 & 3 & C & 1 & 19781209 & 15101 & Y & NA  &  NA\\\\\n\t 12255028 & 2010 & 1 & 663 & 3 & B & 2 & 19800313 & 15101 & P & 6.8 &  99\\\\\n\t 12255401 & 2010 & 1 & 510 & 3 & C & 1 & 19930924 & 15101 & P & 5.4 &  93\\\\\n\t 12286703 & 2010 & 1 & 510 & 2 & G & 2 & 19930525 & 15101 & P & 4.6 &  85\\\\\n\t 12301835 & 2010 & 1 & 510 & 2 & A & 1 & 19940628 &  2101 & P & 5.5 &  98\\\\\n\t 12309233 & 2010 & 1 & 510 & 4 & C & 1 & 19921028 & 15101 & P & 6.6 & 100\\\\\n\t 12312548 & 2010 & 1 & 510 & 1 & D & 2 & 19930128 & 15101 & T & NA  &  NA\\\\\n\t 12312548 & 2010 & 1 & 563 & 1 & B & 2 & 19930128 & 15101 & P & 4.6 &  88\\\\\n\t 12336380 & 2010 & 1 & 510 & 1 & D & 2 & 19950417 & 15101 & P & 5   &  98\\\\\n\t 12356470 & 2010 & 1 & 510 & 3 & B & 1 & 19930421 & 15101 & P & 6   &  98\\\\\n\t 12357051 & 2010 & 1 & 510 & 3 & B & 1 & 19931018 & 15101 & P & 6.4 & 100\\\\\n\\end{tabular}\n",
            "text/markdown": "\nA data.frame: 1000 × 12\n\n| MRUN &lt;int&gt; | AGNO &lt;int&gt; | RBD &lt;int&gt; | COD_ENSE &lt;int&gt; | COD_GRADO &lt;int&gt; | LET_CUR &lt;chr&gt; | GEN_ALU &lt;int&gt; | FEC_NAC_ALU &lt;int&gt; | COD_COM_ALU &lt;int&gt; | SIT_FIN_R &lt;chr&gt; | PROM_GRAL &lt;chr&gt; | ASISTENCIA &lt;int&gt; |\n|---|---|---|---|---|---|---|---|---|---|---|---|\n|  10359 | 2010 | 1 | 610 | 4 | A | 2 | 19890404 | 15101 | P | 5.7 |  92 |\n|  14329 | 2010 | 1 | 610 | 3 | C | 2 | 19920701 | 15101 | P | 5.8 | 100 |\n|  16655 | 2010 | 1 | 510 | 1 | D | 2 | 19960128 | 15101 | T | NA  |  NA |\n|  27013 | 2010 | 1 | 510 | 3 | B | 1 | 19920330 | 15101 | P | 5.2 |  91 |\n|  33774 | 2010 | 1 | 510 | 2 | A | 2 | 19941230 | 15101 | P | 5.1 |  95 |\n|  38615 | 2010 | 1 | 510 | 2 | A | 2 | 19940316 | 15101 | P | 4.9 | 100 |\n|  39452 | 2010 | 1 | 510 | 3 | C | 1 | 19930713 | 15101 | P | 6.4 |  99 |\n|  49657 | 2010 | 1 | 510 | 2 | F | 2 | 19950410 | 15101 | Y | NA  |  NA |\n|  56366 | 2010 | 1 | 510 | 2 | E | 2 | 19930319 | 15101 | P | 5.5 |  90 |\n|  58201 | 2010 | 1 | 510 | 3 | F | 1 | 19940425 | 15101 | P | 4.7 |  95 |\n|  71708 | 2010 | 1 | 510 | 1 | C | 2 | 19930506 | 15101 | Y | NA  |  NA |\n|  80001 | 2010 | 1 | 463 | 4 | A | 1 | 19720809 | 15101 | P | 5.5 |  89 |\n|  94563 | 2010 | 1 | 663 | 3 | B | 2 | 19770620 | 15101 | P | 6.9 |  99 |\n| 123946 | 2010 | 1 | 563 | 1 | A | 1 | 19900516 | 15101 | T | NA  |  NA |\n| 126196 | 2010 | 1 | 510 | 3 | A | 1 | 19921009 | 15101 | R | 3.6 |  88 |\n| 128891 | 2010 | 1 | 510 | 2 | F | 1 | 19940108 | 15101 | P | 4.8 |  90 |\n| 135496 | 2010 | 1 | 510 | 2 | D | 2 | 19941214 | 15101 | P | 5.2 |  90 |\n| 150350 | 2010 | 1 | 663 | 4 | B | 2 | 19820624 | 15101 | P | 5.5 |  87 |\n| 161516 | 2010 | 1 | 510 | 3 | F | 1 | 19930911 | 15101 | Y | NA  |  NA |\n| 173563 | 2010 | 1 | 510 | 4 | B | 1 | 19930511 | 15101 | P | 6.5 |  98 |\n| 196470 | 2010 | 1 | 510 | 2 | B | 1 | 19950119 | 15101 | P | 5.9 |  92 |\n| 199285 | 2010 | 1 | 510 | 4 | C | 1 | 19920912 | 15101 | P | 5.6 |  98 |\n| 223163 | 2010 | 1 | 563 | 4 | B | 1 | 19871118 | 15101 | Y | NA  |  NA |\n| 224707 | 2010 | 1 | 510 | 1 | E | 1 | 19960229 | 15101 | P | 5.2 |  95 |\n| 228576 | 2010 | 1 | 510 | 4 | B | 2 | 19910624 | 15101 | P | 5   |  86 |\n| 231109 | 2010 | 1 | 510 | 2 | H | 2 | 19930214 | 15101 | Y | NA  |  NA |\n| 257432 | 2010 | 1 | 663 | 3 | C | 2 | 19710706 | 15101 | P | 6.4 |  98 |\n| 259525 | 2010 | 1 | 510 | 2 | I | 2 | 19930305 | 15101 | P | 5.5 |  89 |\n| 259598 | 2010 | 1 | 510 | 2 | H | 1 | 19930411 | 15101 | T | NA  |  NA |\n| 261318 | 2010 | 1 | 510 | 2 | D | 1 | 19940420 | 15101 | T | NA  |  NA |\n| ⋮ | ⋮ | ⋮ | ⋮ | ⋮ | ⋮ | ⋮ | ⋮ | ⋮ | ⋮ | ⋮ | ⋮ |\n| 12056556 | 2010 | 1 | 510 | 2 | E | 1 | 19931109 | 15101 | R | 3.8 |  89 |\n| 12065363 | 2010 | 1 | 663 | 3 | C | 2 | 19691129 | 15101 | P | 6.2 |  92 |\n| 12065757 | 2010 | 1 | 610 | 4 | B | 2 | 19921227 | 15101 | P | 6.6 |  99 |\n| 12067553 | 2010 | 1 | 510 | 2 | E | 2 | 19940527 | 15101 | P | 5   |  90 |\n| 12068511 | 2010 | 1 | 510 | 1 | G | 2 | 19930604 | 15101 | T | NA  |  NA |\n| 12081088 | 2010 | 1 | 510 | 3 | A | 1 | 19930324 | 15101 | P | 5.1 |  90 |\n| 12084021 | 2010 | 1 | 610 | 3 | A | 2 | 19910625 | 15101 | R | 4.2 |  85 |\n| 12084339 | 2010 | 1 | 610 | 4 | B | 2 | 19930611 | 15101 | P | 6.9 | 100 |\n| 12098686 | 2010 | 1 | 510 | 1 | B | 2 | 19960128 | 15101 | P | 6.3 |  90 |\n| 12134124 | 2010 | 1 | 510 | 4 | D | 1 | 19910920 | 15101 | P | 5.5 |  95 |\n| 12146149 | 2010 | 1 | 663 | 3 | B | 2 | 19720626 | 15101 | P | 6.5 |  98 |\n| 12159347 | 2010 | 1 | 510 | 4 | E | 2 | 19910531 | 15101 | P | 5.1 |  90 |\n| 12169284 | 2010 | 1 | 610 | 3 | A | 1 | 19930619 | 15101 | R | 4.1 |  85 |\n| 12207609 | 2010 | 1 | 610 | 3 | C | 2 | 19921022 | 15101 | Y | NA  |  NA |\n| 12216798 | 2010 | 1 | 510 | 2 | G | 2 | 19941224 | 15101 | P | 4.5 |  95 |\n| 12224579 | 2010 | 1 | 510 | 1 | F | 1 | 19941110 | 15101 | T | NA  |  NA |\n| 12237888 | 2010 | 1 | 510 | 2 | H | 2 | 19950628 | 15101 | P | 5.9 | 100 |\n| 12239342 | 2010 | 1 | 510 | 2 | F | 1 | 19930303 | 15101 | Y | NA  |  NA |\n| 12242340 | 2010 | 1 | 510 | 1 | F | 1 | 19950504 | 15101 | P | 6.7 | 100 |\n| 12251889 | 2010 | 1 | 563 | 3 | C | 1 | 19781209 | 15101 | Y | NA  |  NA |\n| 12255028 | 2010 | 1 | 663 | 3 | B | 2 | 19800313 | 15101 | P | 6.8 |  99 |\n| 12255401 | 2010 | 1 | 510 | 3 | C | 1 | 19930924 | 15101 | P | 5.4 |  93 |\n| 12286703 | 2010 | 1 | 510 | 2 | G | 2 | 19930525 | 15101 | P | 4.6 |  85 |\n| 12301835 | 2010 | 1 | 510 | 2 | A | 1 | 19940628 |  2101 | P | 5.5 |  98 |\n| 12309233 | 2010 | 1 | 510 | 4 | C | 1 | 19921028 | 15101 | P | 6.6 | 100 |\n| 12312548 | 2010 | 1 | 510 | 1 | D | 2 | 19930128 | 15101 | T | NA  |  NA |\n| 12312548 | 2010 | 1 | 563 | 1 | B | 2 | 19930128 | 15101 | P | 4.6 |  88 |\n| 12336380 | 2010 | 1 | 510 | 1 | D | 2 | 19950417 | 15101 | P | 5   |  98 |\n| 12356470 | 2010 | 1 | 510 | 3 | B | 1 | 19930421 | 15101 | P | 6   |  98 |\n| 12357051 | 2010 | 1 | 510 | 3 | B | 1 | 19931018 | 15101 | P | 6.4 | 100 |\n\n",
            "text/html": [
              "<table class=\"dataframe\">\n",
              "<caption>A data.frame: 1000 × 12</caption>\n",
              "<thead>\n",
              "\t<tr><th scope=col>MRUN</th><th scope=col>AGNO</th><th scope=col>RBD</th><th scope=col>COD_ENSE</th><th scope=col>COD_GRADO</th><th scope=col>LET_CUR</th><th scope=col>GEN_ALU</th><th scope=col>FEC_NAC_ALU</th><th scope=col>COD_COM_ALU</th><th scope=col>SIT_FIN_R</th><th scope=col>PROM_GRAL</th><th scope=col>ASISTENCIA</th></tr>\n",
              "\t<tr><th scope=col>&lt;int&gt;</th><th scope=col>&lt;int&gt;</th><th scope=col>&lt;int&gt;</th><th scope=col>&lt;int&gt;</th><th scope=col>&lt;int&gt;</th><th scope=col>&lt;chr&gt;</th><th scope=col>&lt;int&gt;</th><th scope=col>&lt;int&gt;</th><th scope=col>&lt;int&gt;</th><th scope=col>&lt;chr&gt;</th><th scope=col>&lt;chr&gt;</th><th scope=col>&lt;int&gt;</th></tr>\n",
              "</thead>\n",
              "<tbody>\n",
              "\t<tr><td> 10359</td><td>2010</td><td>1</td><td>610</td><td>4</td><td>A</td><td>2</td><td>19890404</td><td>15101</td><td>P</td><td>5.7</td><td> 92</td></tr>\n",
              "\t<tr><td> 14329</td><td>2010</td><td>1</td><td>610</td><td>3</td><td>C</td><td>2</td><td>19920701</td><td>15101</td><td>P</td><td>5.8</td><td>100</td></tr>\n",
              "\t<tr><td> 16655</td><td>2010</td><td>1</td><td>510</td><td>1</td><td>D</td><td>2</td><td>19960128</td><td>15101</td><td>T</td><td>NA </td><td> NA</td></tr>\n",
              "\t<tr><td> 27013</td><td>2010</td><td>1</td><td>510</td><td>3</td><td>B</td><td>1</td><td>19920330</td><td>15101</td><td>P</td><td>5.2</td><td> 91</td></tr>\n",
              "\t<tr><td> 33774</td><td>2010</td><td>1</td><td>510</td><td>2</td><td>A</td><td>2</td><td>19941230</td><td>15101</td><td>P</td><td>5.1</td><td> 95</td></tr>\n",
              "\t<tr><td> 38615</td><td>2010</td><td>1</td><td>510</td><td>2</td><td>A</td><td>2</td><td>19940316</td><td>15101</td><td>P</td><td>4.9</td><td>100</td></tr>\n",
              "\t<tr><td> 39452</td><td>2010</td><td>1</td><td>510</td><td>3</td><td>C</td><td>1</td><td>19930713</td><td>15101</td><td>P</td><td>6.4</td><td> 99</td></tr>\n",
              "\t<tr><td> 49657</td><td>2010</td><td>1</td><td>510</td><td>2</td><td>F</td><td>2</td><td>19950410</td><td>15101</td><td>Y</td><td>NA </td><td> NA</td></tr>\n",
              "\t<tr><td> 56366</td><td>2010</td><td>1</td><td>510</td><td>2</td><td>E</td><td>2</td><td>19930319</td><td>15101</td><td>P</td><td>5.5</td><td> 90</td></tr>\n",
              "\t<tr><td> 58201</td><td>2010</td><td>1</td><td>510</td><td>3</td><td>F</td><td>1</td><td>19940425</td><td>15101</td><td>P</td><td>4.7</td><td> 95</td></tr>\n",
              "\t<tr><td> 71708</td><td>2010</td><td>1</td><td>510</td><td>1</td><td>C</td><td>2</td><td>19930506</td><td>15101</td><td>Y</td><td>NA </td><td> NA</td></tr>\n",
              "\t<tr><td> 80001</td><td>2010</td><td>1</td><td>463</td><td>4</td><td>A</td><td>1</td><td>19720809</td><td>15101</td><td>P</td><td>5.5</td><td> 89</td></tr>\n",
              "\t<tr><td> 94563</td><td>2010</td><td>1</td><td>663</td><td>3</td><td>B</td><td>2</td><td>19770620</td><td>15101</td><td>P</td><td>6.9</td><td> 99</td></tr>\n",
              "\t<tr><td>123946</td><td>2010</td><td>1</td><td>563</td><td>1</td><td>A</td><td>1</td><td>19900516</td><td>15101</td><td>T</td><td>NA </td><td> NA</td></tr>\n",
              "\t<tr><td>126196</td><td>2010</td><td>1</td><td>510</td><td>3</td><td>A</td><td>1</td><td>19921009</td><td>15101</td><td>R</td><td>3.6</td><td> 88</td></tr>\n",
              "\t<tr><td>128891</td><td>2010</td><td>1</td><td>510</td><td>2</td><td>F</td><td>1</td><td>19940108</td><td>15101</td><td>P</td><td>4.8</td><td> 90</td></tr>\n",
              "\t<tr><td>135496</td><td>2010</td><td>1</td><td>510</td><td>2</td><td>D</td><td>2</td><td>19941214</td><td>15101</td><td>P</td><td>5.2</td><td> 90</td></tr>\n",
              "\t<tr><td>150350</td><td>2010</td><td>1</td><td>663</td><td>4</td><td>B</td><td>2</td><td>19820624</td><td>15101</td><td>P</td><td>5.5</td><td> 87</td></tr>\n",
              "\t<tr><td>161516</td><td>2010</td><td>1</td><td>510</td><td>3</td><td>F</td><td>1</td><td>19930911</td><td>15101</td><td>Y</td><td>NA </td><td> NA</td></tr>\n",
              "\t<tr><td>173563</td><td>2010</td><td>1</td><td>510</td><td>4</td><td>B</td><td>1</td><td>19930511</td><td>15101</td><td>P</td><td>6.5</td><td> 98</td></tr>\n",
              "\t<tr><td>196470</td><td>2010</td><td>1</td><td>510</td><td>2</td><td>B</td><td>1</td><td>19950119</td><td>15101</td><td>P</td><td>5.9</td><td> 92</td></tr>\n",
              "\t<tr><td>199285</td><td>2010</td><td>1</td><td>510</td><td>4</td><td>C</td><td>1</td><td>19920912</td><td>15101</td><td>P</td><td>5.6</td><td> 98</td></tr>\n",
              "\t<tr><td>223163</td><td>2010</td><td>1</td><td>563</td><td>4</td><td>B</td><td>1</td><td>19871118</td><td>15101</td><td>Y</td><td>NA </td><td> NA</td></tr>\n",
              "\t<tr><td>224707</td><td>2010</td><td>1</td><td>510</td><td>1</td><td>E</td><td>1</td><td>19960229</td><td>15101</td><td>P</td><td>5.2</td><td> 95</td></tr>\n",
              "\t<tr><td>228576</td><td>2010</td><td>1</td><td>510</td><td>4</td><td>B</td><td>2</td><td>19910624</td><td>15101</td><td>P</td><td>5  </td><td> 86</td></tr>\n",
              "\t<tr><td>231109</td><td>2010</td><td>1</td><td>510</td><td>2</td><td>H</td><td>2</td><td>19930214</td><td>15101</td><td>Y</td><td>NA </td><td> NA</td></tr>\n",
              "\t<tr><td>257432</td><td>2010</td><td>1</td><td>663</td><td>3</td><td>C</td><td>2</td><td>19710706</td><td>15101</td><td>P</td><td>6.4</td><td> 98</td></tr>\n",
              "\t<tr><td>259525</td><td>2010</td><td>1</td><td>510</td><td>2</td><td>I</td><td>2</td><td>19930305</td><td>15101</td><td>P</td><td>5.5</td><td> 89</td></tr>\n",
              "\t<tr><td>259598</td><td>2010</td><td>1</td><td>510</td><td>2</td><td>H</td><td>1</td><td>19930411</td><td>15101</td><td>T</td><td>NA </td><td> NA</td></tr>\n",
              "\t<tr><td>261318</td><td>2010</td><td>1</td><td>510</td><td>2</td><td>D</td><td>1</td><td>19940420</td><td>15101</td><td>T</td><td>NA </td><td> NA</td></tr>\n",
              "\t<tr><td>⋮</td><td>⋮</td><td>⋮</td><td>⋮</td><td>⋮</td><td>⋮</td><td>⋮</td><td>⋮</td><td>⋮</td><td>⋮</td><td>⋮</td><td>⋮</td></tr>\n",
              "\t<tr><td>12056556</td><td>2010</td><td>1</td><td>510</td><td>2</td><td>E</td><td>1</td><td>19931109</td><td>15101</td><td>R</td><td>3.8</td><td> 89</td></tr>\n",
              "\t<tr><td>12065363</td><td>2010</td><td>1</td><td>663</td><td>3</td><td>C</td><td>2</td><td>19691129</td><td>15101</td><td>P</td><td>6.2</td><td> 92</td></tr>\n",
              "\t<tr><td>12065757</td><td>2010</td><td>1</td><td>610</td><td>4</td><td>B</td><td>2</td><td>19921227</td><td>15101</td><td>P</td><td>6.6</td><td> 99</td></tr>\n",
              "\t<tr><td>12067553</td><td>2010</td><td>1</td><td>510</td><td>2</td><td>E</td><td>2</td><td>19940527</td><td>15101</td><td>P</td><td>5  </td><td> 90</td></tr>\n",
              "\t<tr><td>12068511</td><td>2010</td><td>1</td><td>510</td><td>1</td><td>G</td><td>2</td><td>19930604</td><td>15101</td><td>T</td><td>NA </td><td> NA</td></tr>\n",
              "\t<tr><td>12081088</td><td>2010</td><td>1</td><td>510</td><td>3</td><td>A</td><td>1</td><td>19930324</td><td>15101</td><td>P</td><td>5.1</td><td> 90</td></tr>\n",
              "\t<tr><td>12084021</td><td>2010</td><td>1</td><td>610</td><td>3</td><td>A</td><td>2</td><td>19910625</td><td>15101</td><td>R</td><td>4.2</td><td> 85</td></tr>\n",
              "\t<tr><td>12084339</td><td>2010</td><td>1</td><td>610</td><td>4</td><td>B</td><td>2</td><td>19930611</td><td>15101</td><td>P</td><td>6.9</td><td>100</td></tr>\n",
              "\t<tr><td>12098686</td><td>2010</td><td>1</td><td>510</td><td>1</td><td>B</td><td>2</td><td>19960128</td><td>15101</td><td>P</td><td>6.3</td><td> 90</td></tr>\n",
              "\t<tr><td>12134124</td><td>2010</td><td>1</td><td>510</td><td>4</td><td>D</td><td>1</td><td>19910920</td><td>15101</td><td>P</td><td>5.5</td><td> 95</td></tr>\n",
              "\t<tr><td>12146149</td><td>2010</td><td>1</td><td>663</td><td>3</td><td>B</td><td>2</td><td>19720626</td><td>15101</td><td>P</td><td>6.5</td><td> 98</td></tr>\n",
              "\t<tr><td>12159347</td><td>2010</td><td>1</td><td>510</td><td>4</td><td>E</td><td>2</td><td>19910531</td><td>15101</td><td>P</td><td>5.1</td><td> 90</td></tr>\n",
              "\t<tr><td>12169284</td><td>2010</td><td>1</td><td>610</td><td>3</td><td>A</td><td>1</td><td>19930619</td><td>15101</td><td>R</td><td>4.1</td><td> 85</td></tr>\n",
              "\t<tr><td>12207609</td><td>2010</td><td>1</td><td>610</td><td>3</td><td>C</td><td>2</td><td>19921022</td><td>15101</td><td>Y</td><td>NA </td><td> NA</td></tr>\n",
              "\t<tr><td>12216798</td><td>2010</td><td>1</td><td>510</td><td>2</td><td>G</td><td>2</td><td>19941224</td><td>15101</td><td>P</td><td>4.5</td><td> 95</td></tr>\n",
              "\t<tr><td>12224579</td><td>2010</td><td>1</td><td>510</td><td>1</td><td>F</td><td>1</td><td>19941110</td><td>15101</td><td>T</td><td>NA </td><td> NA</td></tr>\n",
              "\t<tr><td>12237888</td><td>2010</td><td>1</td><td>510</td><td>2</td><td>H</td><td>2</td><td>19950628</td><td>15101</td><td>P</td><td>5.9</td><td>100</td></tr>\n",
              "\t<tr><td>12239342</td><td>2010</td><td>1</td><td>510</td><td>2</td><td>F</td><td>1</td><td>19930303</td><td>15101</td><td>Y</td><td>NA </td><td> NA</td></tr>\n",
              "\t<tr><td>12242340</td><td>2010</td><td>1</td><td>510</td><td>1</td><td>F</td><td>1</td><td>19950504</td><td>15101</td><td>P</td><td>6.7</td><td>100</td></tr>\n",
              "\t<tr><td>12251889</td><td>2010</td><td>1</td><td>563</td><td>3</td><td>C</td><td>1</td><td>19781209</td><td>15101</td><td>Y</td><td>NA </td><td> NA</td></tr>\n",
              "\t<tr><td>12255028</td><td>2010</td><td>1</td><td>663</td><td>3</td><td>B</td><td>2</td><td>19800313</td><td>15101</td><td>P</td><td>6.8</td><td> 99</td></tr>\n",
              "\t<tr><td>12255401</td><td>2010</td><td>1</td><td>510</td><td>3</td><td>C</td><td>1</td><td>19930924</td><td>15101</td><td>P</td><td>5.4</td><td> 93</td></tr>\n",
              "\t<tr><td>12286703</td><td>2010</td><td>1</td><td>510</td><td>2</td><td>G</td><td>2</td><td>19930525</td><td>15101</td><td>P</td><td>4.6</td><td> 85</td></tr>\n",
              "\t<tr><td>12301835</td><td>2010</td><td>1</td><td>510</td><td>2</td><td>A</td><td>1</td><td>19940628</td><td> 2101</td><td>P</td><td>5.5</td><td> 98</td></tr>\n",
              "\t<tr><td>12309233</td><td>2010</td><td>1</td><td>510</td><td>4</td><td>C</td><td>1</td><td>19921028</td><td>15101</td><td>P</td><td>6.6</td><td>100</td></tr>\n",
              "\t<tr><td>12312548</td><td>2010</td><td>1</td><td>510</td><td>1</td><td>D</td><td>2</td><td>19930128</td><td>15101</td><td>T</td><td>NA </td><td> NA</td></tr>\n",
              "\t<tr><td>12312548</td><td>2010</td><td>1</td><td>563</td><td>1</td><td>B</td><td>2</td><td>19930128</td><td>15101</td><td>P</td><td>4.6</td><td> 88</td></tr>\n",
              "\t<tr><td>12336380</td><td>2010</td><td>1</td><td>510</td><td>1</td><td>D</td><td>2</td><td>19950417</td><td>15101</td><td>P</td><td>5  </td><td> 98</td></tr>\n",
              "\t<tr><td>12356470</td><td>2010</td><td>1</td><td>510</td><td>3</td><td>B</td><td>1</td><td>19930421</td><td>15101</td><td>P</td><td>6  </td><td> 98</td></tr>\n",
              "\t<tr><td>12357051</td><td>2010</td><td>1</td><td>510</td><td>3</td><td>B</td><td>1</td><td>19931018</td><td>15101</td><td>P</td><td>6.4</td><td>100</td></tr>\n",
              "</tbody>\n",
              "</table>\n"
            ]
          },
          "metadata": {}
        }
      ]
    },
    {
      "cell_type": "markdown",
      "metadata": {
        "id": "VGr-supEHSWB"
      },
      "source": [
        "Muestreo aleatorio simple"
      ]
    },
    {
      "cell_type": "code",
      "metadata": {
        "id": "rF1cLo8bD7dt",
        "colab": {
          "base_uri": "https://localhost:8080/",
          "height": 1000
        },
        "outputId": "cfd60c48-8ec0-4e65-b944-023cd8e84833"
      },
      "source": [
        "dbGetQuery(conn, \"\n",
        "SELECT *\n",
        "FROM alumnos\n",
        "ORDER BY RANDOM()\n",
        "LIMIT 1000\n",
        "\")"
      ],
      "execution_count": 122,
      "outputs": [
        {
          "output_type": "display_data",
          "data": {
            "text/plain": [
              "     MRUN     AGNO RBD   COD_ENSE COD_GRADO LET_CUR GEN_ALU FEC_NAC_ALU\n",
              "1     8507898 2012 24473 610      4         B       1       19940608   \n",
              "2     7503777 2010  2278 110      8         C       2       19961007   \n",
              "3    20333870 2015 25526 310      2         A       2         199911   \n",
              "4    24811791 2012 14601 110      6         A       1       20010309   \n",
              "5     6696321 2019 18054 363      1         A       2         200306   \n",
              "6     4168896 2017   130 110      1         B       2         200903   \n",
              "7     8355900 2014 25402 110      7         A       1       19991201   \n",
              "8      319794 2016 31103 110      8         A       2         200208   \n",
              "9     5850725 2014  4730 110      4         A       2       20050313   \n",
              "10   17182441 2019  8645 310      1         B       2         200503   \n",
              "11    1371329 2011  2013 410      1         E       1       19961023   \n",
              "12   20746760 2013 16460 110      6         B       2       20001105   \n",
              "13    5561011 2012 31107 110      3         A       2       20040115   \n",
              "14    8353044 2020   132 310      2         C       2         200504   \n",
              "15   10790537 2013  8468 110      4         A       1       20030612   \n",
              "16   18195035 2012  5888 110      3         A       1       20040321   \n",
              "17   23067264 2013  4050 110      4         A       1       20031130   \n",
              "18   17240937 2015  4762 110      6         D       1         200404   \n",
              "19   14181558 2010 10834 110      2         A       2       20030312   \n",
              "20    3320260 2014 15621 310      2         A       1       19990409   \n",
              "21    3025532 2013 13450 110      4         A       1       20040223   \n",
              "22   19087399 2014     8 110      6         A       2       20010223   \n",
              "23     213156 2020  6216 110      8         A       1         200603   \n",
              "24   22821603 2012 11831 510      2         A       1       19961228   \n",
              "25    6177734 2017   968 510      2         A       1         200205   \n",
              "26   23817657 2019 10588 310      2         A       1         200203   \n",
              "27   19271413 2014 25047 110      2         B       2       20070313   \n",
              "28   24760425 2013  1559 110      8         A       1       19990120   \n",
              "29   18192037 2018 10780 310      2         F       2         200306   \n",
              "30    2474652 2010 10415 110      2         D       2       20020505   \n",
              "⋮    ⋮        ⋮    ⋮     ⋮        ⋮         ⋮       ⋮       ⋮          \n",
              "971  15522870 2010 16414 363      1         B       2       19920215   \n",
              "972   2344338 2014   581 110      4         A       2       20050504   \n",
              "973   9556777 2017 24327 110      2         A       2         200905   \n",
              "974  24124199 2016 10482 110      3         A       2         200805   \n",
              "975  16618566 2019  3300 310      2         A       1         200312   \n",
              "976  13479197 2019 11608 363      3         E       1         200008   \n",
              "977   5604390 2017 10345 110      1         C       1         201006   \n",
              "978  10102940 2018 13388 310      1         A       1         200207   \n",
              "979   5969988 2018 10553 110      4         B       1         200903   \n",
              "980   3476682 2015  2301 110      4         A       1         200309   \n",
              "981  13752963 2010  2122 110      3         B       1       20010409   \n",
              "982   1975908 2018  2934 610      3         C       2         200101   \n",
              "983  18638414 2016  7470 610      2         A       2         200008   \n",
              "984   3636469 2019 31343 310      2         A       2         200405   \n",
              "985    711359 2019   847 110      3         A       2         201106   \n",
              "986  23597463 2018 25477 110      2         A       2         201004   \n",
              "987   7459603 2017 14210 110      7         A       1         200408   \n",
              "988  15378480 2010  1226 310      1         A       1       19950630   \n",
              "989  20748894 2012  8403 110      5         A       1       20020519   \n",
              "990  16268599 2015 10199 110      7         A       1         200208   \n",
              "991  25464069 2017  8561 110      5         A       1         200506   \n",
              "992  20890278 2013  5507 310      1         A       2       19971205   \n",
              "993   1030681 2013  9290 110      2         A       2       20050829   \n",
              "994  19451880 2014  2210 110      7         A       1       20000902   \n",
              "995   6663775 2017 10713 110      6         A       2         200512   \n",
              "996  17573712 2012  5698 110      6         A       2       20001115   \n",
              "997   9740108 2013  5599 110      6         A       2       20010829   \n",
              "998  12118795 2014 26426 310      2         A       2       19980909   \n",
              "999    674402 2014   987 310      1         A       1       19991202   \n",
              "1000  6114409 2016  9860 510      3         F       1         199812   \n",
              "     COD_COM_ALU SIT_FIN_R PROM_GRAL ASISTENCIA\n",
              "1    13131       P         5.4        94       \n",
              "2     6116       P         6.3        96       \n",
              "3    13503       P         5.2        84       \n",
              "4     5101       P         4.8        96       \n",
              "5     8103       Y         NA         NA       \n",
              "6    13604       Y         NA         NA       \n",
              "7    13110       P         5          96       \n",
              "8     8102       P         5.6        98       \n",
              "9     8112       P         5.5        87       \n",
              "10   13125       P         5.6       100       \n",
              "11    5601       P         6          97       \n",
              "12    7301       P         5.4        91       \n",
              "13    8303       P         7          97       \n",
              "14    1101       P         7         100       \n",
              "15   12401       T         NA         NA       \n",
              "16    9113       P         5.2        95       \n",
              "17    8404       P         6.9        90       \n",
              "18    8110       P         6          83       \n",
              "19   13501       P         5.7        89       \n",
              "20    6301       P         6          97       \n",
              "21    4101       P         6.7        96       \n",
              "22    1405       T         NA         NA       \n",
              "23    9105       P         4.3        88       \n",
              "24   13124       R         4.9        88       \n",
              "25    4204       P         5.8        94       \n",
              "26   13401       P         5.9        85       \n",
              "27   13124       P         6.1        93       \n",
              "28    5101       P         5.3        83       \n",
              "29   13501       P         4.8        90       \n",
              "30   13301       P         6.4        98       \n",
              "⋮    ⋮           ⋮         ⋮         ⋮         \n",
              "971   7101       P         6.4        98       \n",
              "972   4101       P         6.6        92       \n",
              "973  12101       P         6.5        95       \n",
              "974  13201       P         5.8        98       \n",
              "975   7401       P         5.9        85       \n",
              "976  13110       T         NA         NA       \n",
              "977  13127       P         6.9        98       \n",
              "978   9211       P         5.5        98       \n",
              "979  13105       T         NA         NA       \n",
              "980   6115       P         5.1        94       \n",
              "981   6101       P         4.9        84       \n",
              "982   7101       P         6.3       100       \n",
              "983   7406       P         5.6        94       \n",
              "984   2101       P         5.5        95       \n",
              "985   4302       P         6.6        82       \n",
              "986  13403       P         6.7        92       \n",
              "987   5503       P         5.4        95       \n",
              "988   5301       P         5.5        94       \n",
              "989  11402       P         4.9        89       \n",
              "990  13119       P         4.9        97       \n",
              "991  13101       P         5.8        89       \n",
              "992   9208       P         5.4        96       \n",
              "993  13201       Y         NA         NA       \n",
              "994   6102       P         5.6        91       \n",
              "995  13601       P         6.2        84       \n",
              "996   9101       P         5.2        94       \n",
              "997   9112       P         5.9        94       \n",
              "998  13110       P         5.8        43       \n",
              "999   4201       P         5          94       \n",
              "1000 13109       R         4.8        96       "
            ],
            "text/latex": "A data.frame: 1000 × 12\n\\begin{tabular}{llllllllllll}\n MRUN & AGNO & RBD & COD\\_ENSE & COD\\_GRADO & LET\\_CUR & GEN\\_ALU & FEC\\_NAC\\_ALU & COD\\_COM\\_ALU & SIT\\_FIN\\_R & PROM\\_GRAL & ASISTENCIA\\\\\n <int> & <int> & <int> & <int> & <int> & <chr> & <int> & <int> & <int> & <chr> & <chr> & <int>\\\\\n\\hline\n\t  8507898 & 2012 & 24473 & 610 & 4 & B & 1 & 19940608 & 13131 & P & 5.4 &  94\\\\\n\t  7503777 & 2010 &  2278 & 110 & 8 & C & 2 & 19961007 &  6116 & P & 6.3 &  96\\\\\n\t 20333870 & 2015 & 25526 & 310 & 2 & A & 2 &   199911 & 13503 & P & 5.2 &  84\\\\\n\t 24811791 & 2012 & 14601 & 110 & 6 & A & 1 & 20010309 &  5101 & P & 4.8 &  96\\\\\n\t  6696321 & 2019 & 18054 & 363 & 1 & A & 2 &   200306 &  8103 & Y & NA  &  NA\\\\\n\t  4168896 & 2017 &   130 & 110 & 1 & B & 2 &   200903 & 13604 & Y & NA  &  NA\\\\\n\t  8355900 & 2014 & 25402 & 110 & 7 & A & 1 & 19991201 & 13110 & P & 5   &  96\\\\\n\t   319794 & 2016 & 31103 & 110 & 8 & A & 2 &   200208 &  8102 & P & 5.6 &  98\\\\\n\t  5850725 & 2014 &  4730 & 110 & 4 & A & 2 & 20050313 &  8112 & P & 5.5 &  87\\\\\n\t 17182441 & 2019 &  8645 & 310 & 1 & B & 2 &   200503 & 13125 & P & 5.6 & 100\\\\\n\t  1371329 & 2011 &  2013 & 410 & 1 & E & 1 & 19961023 &  5601 & P & 6   &  97\\\\\n\t 20746760 & 2013 & 16460 & 110 & 6 & B & 2 & 20001105 &  7301 & P & 5.4 &  91\\\\\n\t  5561011 & 2012 & 31107 & 110 & 3 & A & 2 & 20040115 &  8303 & P & 7   &  97\\\\\n\t  8353044 & 2020 &   132 & 310 & 2 & C & 2 &   200504 &  1101 & P & 7   & 100\\\\\n\t 10790537 & 2013 &  8468 & 110 & 4 & A & 1 & 20030612 & 12401 & T & NA  &  NA\\\\\n\t 18195035 & 2012 &  5888 & 110 & 3 & A & 1 & 20040321 &  9113 & P & 5.2 &  95\\\\\n\t 23067264 & 2013 &  4050 & 110 & 4 & A & 1 & 20031130 &  8404 & P & 6.9 &  90\\\\\n\t 17240937 & 2015 &  4762 & 110 & 6 & D & 1 &   200404 &  8110 & P & 6   &  83\\\\\n\t 14181558 & 2010 & 10834 & 110 & 2 & A & 2 & 20030312 & 13501 & P & 5.7 &  89\\\\\n\t  3320260 & 2014 & 15621 & 310 & 2 & A & 1 & 19990409 &  6301 & P & 6   &  97\\\\\n\t  3025532 & 2013 & 13450 & 110 & 4 & A & 1 & 20040223 &  4101 & P & 6.7 &  96\\\\\n\t 19087399 & 2014 &     8 & 110 & 6 & A & 2 & 20010223 &  1405 & T & NA  &  NA\\\\\n\t   213156 & 2020 &  6216 & 110 & 8 & A & 1 &   200603 &  9105 & P & 4.3 &  88\\\\\n\t 22821603 & 2012 & 11831 & 510 & 2 & A & 1 & 19961228 & 13124 & R & 4.9 &  88\\\\\n\t  6177734 & 2017 &   968 & 510 & 2 & A & 1 &   200205 &  4204 & P & 5.8 &  94\\\\\n\t 23817657 & 2019 & 10588 & 310 & 2 & A & 1 &   200203 & 13401 & P & 5.9 &  85\\\\\n\t 19271413 & 2014 & 25047 & 110 & 2 & B & 2 & 20070313 & 13124 & P & 6.1 &  93\\\\\n\t 24760425 & 2013 &  1559 & 110 & 8 & A & 1 & 19990120 &  5101 & P & 5.3 &  83\\\\\n\t 18192037 & 2018 & 10780 & 310 & 2 & F & 2 &   200306 & 13501 & P & 4.8 &  90\\\\\n\t  2474652 & 2010 & 10415 & 110 & 2 & D & 2 & 20020505 & 13301 & P & 6.4 &  98\\\\\n\t ⋮ & ⋮ & ⋮ & ⋮ & ⋮ & ⋮ & ⋮ & ⋮ & ⋮ & ⋮ & ⋮ & ⋮\\\\\n\t 15522870 & 2010 & 16414 & 363 & 1 & B & 2 & 19920215 &  7101 & P & 6.4 &  98\\\\\n\t  2344338 & 2014 &   581 & 110 & 4 & A & 2 & 20050504 &  4101 & P & 6.6 &  92\\\\\n\t  9556777 & 2017 & 24327 & 110 & 2 & A & 2 &   200905 & 12101 & P & 6.5 &  95\\\\\n\t 24124199 & 2016 & 10482 & 110 & 3 & A & 2 &   200805 & 13201 & P & 5.8 &  98\\\\\n\t 16618566 & 2019 &  3300 & 310 & 2 & A & 1 &   200312 &  7401 & P & 5.9 &  85\\\\\n\t 13479197 & 2019 & 11608 & 363 & 3 & E & 1 &   200008 & 13110 & T & NA  &  NA\\\\\n\t  5604390 & 2017 & 10345 & 110 & 1 & C & 1 &   201006 & 13127 & P & 6.9 &  98\\\\\n\t 10102940 & 2018 & 13388 & 310 & 1 & A & 1 &   200207 &  9211 & P & 5.5 &  98\\\\\n\t  5969988 & 2018 & 10553 & 110 & 4 & B & 1 &   200903 & 13105 & T & NA  &  NA\\\\\n\t  3476682 & 2015 &  2301 & 110 & 4 & A & 1 &   200309 &  6115 & P & 5.1 &  94\\\\\n\t 13752963 & 2010 &  2122 & 110 & 3 & B & 1 & 20010409 &  6101 & P & 4.9 &  84\\\\\n\t  1975908 & 2018 &  2934 & 610 & 3 & C & 2 &   200101 &  7101 & P & 6.3 & 100\\\\\n\t 18638414 & 2016 &  7470 & 610 & 2 & A & 2 &   200008 &  7406 & P & 5.6 &  94\\\\\n\t  3636469 & 2019 & 31343 & 310 & 2 & A & 2 &   200405 &  2101 & P & 5.5 &  95\\\\\n\t   711359 & 2019 &   847 & 110 & 3 & A & 2 &   201106 &  4302 & P & 6.6 &  82\\\\\n\t 23597463 & 2018 & 25477 & 110 & 2 & A & 2 &   201004 & 13403 & P & 6.7 &  92\\\\\n\t  7459603 & 2017 & 14210 & 110 & 7 & A & 1 &   200408 &  5503 & P & 5.4 &  95\\\\\n\t 15378480 & 2010 &  1226 & 310 & 1 & A & 1 & 19950630 &  5301 & P & 5.5 &  94\\\\\n\t 20748894 & 2012 &  8403 & 110 & 5 & A & 1 & 20020519 & 11402 & P & 4.9 &  89\\\\\n\t 16268599 & 2015 & 10199 & 110 & 7 & A & 1 &   200208 & 13119 & P & 4.9 &  97\\\\\n\t 25464069 & 2017 &  8561 & 110 & 5 & A & 1 &   200506 & 13101 & P & 5.8 &  89\\\\\n\t 20890278 & 2013 &  5507 & 310 & 1 & A & 2 & 19971205 &  9208 & P & 5.4 &  96\\\\\n\t  1030681 & 2013 &  9290 & 110 & 2 & A & 2 & 20050829 & 13201 & Y & NA  &  NA\\\\\n\t 19451880 & 2014 &  2210 & 110 & 7 & A & 1 & 20000902 &  6102 & P & 5.6 &  91\\\\\n\t  6663775 & 2017 & 10713 & 110 & 6 & A & 2 &   200512 & 13601 & P & 6.2 &  84\\\\\n\t 17573712 & 2012 &  5698 & 110 & 6 & A & 2 & 20001115 &  9101 & P & 5.2 &  94\\\\\n\t  9740108 & 2013 &  5599 & 110 & 6 & A & 2 & 20010829 &  9112 & P & 5.9 &  94\\\\\n\t 12118795 & 2014 & 26426 & 310 & 2 & A & 2 & 19980909 & 13110 & P & 5.8 &  43\\\\\n\t   674402 & 2014 &   987 & 310 & 1 & A & 1 & 19991202 &  4201 & P & 5   &  94\\\\\n\t  6114409 & 2016 &  9860 & 510 & 3 & F & 1 &   199812 & 13109 & R & 4.8 &  96\\\\\n\\end{tabular}\n",
            "text/markdown": "\nA data.frame: 1000 × 12\n\n| MRUN &lt;int&gt; | AGNO &lt;int&gt; | RBD &lt;int&gt; | COD_ENSE &lt;int&gt; | COD_GRADO &lt;int&gt; | LET_CUR &lt;chr&gt; | GEN_ALU &lt;int&gt; | FEC_NAC_ALU &lt;int&gt; | COD_COM_ALU &lt;int&gt; | SIT_FIN_R &lt;chr&gt; | PROM_GRAL &lt;chr&gt; | ASISTENCIA &lt;int&gt; |\n|---|---|---|---|---|---|---|---|---|---|---|---|\n|  8507898 | 2012 | 24473 | 610 | 4 | B | 1 | 19940608 | 13131 | P | 5.4 |  94 |\n|  7503777 | 2010 |  2278 | 110 | 8 | C | 2 | 19961007 |  6116 | P | 6.3 |  96 |\n| 20333870 | 2015 | 25526 | 310 | 2 | A | 2 |   199911 | 13503 | P | 5.2 |  84 |\n| 24811791 | 2012 | 14601 | 110 | 6 | A | 1 | 20010309 |  5101 | P | 4.8 |  96 |\n|  6696321 | 2019 | 18054 | 363 | 1 | A | 2 |   200306 |  8103 | Y | NA  |  NA |\n|  4168896 | 2017 |   130 | 110 | 1 | B | 2 |   200903 | 13604 | Y | NA  |  NA |\n|  8355900 | 2014 | 25402 | 110 | 7 | A | 1 | 19991201 | 13110 | P | 5   |  96 |\n|   319794 | 2016 | 31103 | 110 | 8 | A | 2 |   200208 |  8102 | P | 5.6 |  98 |\n|  5850725 | 2014 |  4730 | 110 | 4 | A | 2 | 20050313 |  8112 | P | 5.5 |  87 |\n| 17182441 | 2019 |  8645 | 310 | 1 | B | 2 |   200503 | 13125 | P | 5.6 | 100 |\n|  1371329 | 2011 |  2013 | 410 | 1 | E | 1 | 19961023 |  5601 | P | 6   |  97 |\n| 20746760 | 2013 | 16460 | 110 | 6 | B | 2 | 20001105 |  7301 | P | 5.4 |  91 |\n|  5561011 | 2012 | 31107 | 110 | 3 | A | 2 | 20040115 |  8303 | P | 7   |  97 |\n|  8353044 | 2020 |   132 | 310 | 2 | C | 2 |   200504 |  1101 | P | 7   | 100 |\n| 10790537 | 2013 |  8468 | 110 | 4 | A | 1 | 20030612 | 12401 | T | NA  |  NA |\n| 18195035 | 2012 |  5888 | 110 | 3 | A | 1 | 20040321 |  9113 | P | 5.2 |  95 |\n| 23067264 | 2013 |  4050 | 110 | 4 | A | 1 | 20031130 |  8404 | P | 6.9 |  90 |\n| 17240937 | 2015 |  4762 | 110 | 6 | D | 1 |   200404 |  8110 | P | 6   |  83 |\n| 14181558 | 2010 | 10834 | 110 | 2 | A | 2 | 20030312 | 13501 | P | 5.7 |  89 |\n|  3320260 | 2014 | 15621 | 310 | 2 | A | 1 | 19990409 |  6301 | P | 6   |  97 |\n|  3025532 | 2013 | 13450 | 110 | 4 | A | 1 | 20040223 |  4101 | P | 6.7 |  96 |\n| 19087399 | 2014 |     8 | 110 | 6 | A | 2 | 20010223 |  1405 | T | NA  |  NA |\n|   213156 | 2020 |  6216 | 110 | 8 | A | 1 |   200603 |  9105 | P | 4.3 |  88 |\n| 22821603 | 2012 | 11831 | 510 | 2 | A | 1 | 19961228 | 13124 | R | 4.9 |  88 |\n|  6177734 | 2017 |   968 | 510 | 2 | A | 1 |   200205 |  4204 | P | 5.8 |  94 |\n| 23817657 | 2019 | 10588 | 310 | 2 | A | 1 |   200203 | 13401 | P | 5.9 |  85 |\n| 19271413 | 2014 | 25047 | 110 | 2 | B | 2 | 20070313 | 13124 | P | 6.1 |  93 |\n| 24760425 | 2013 |  1559 | 110 | 8 | A | 1 | 19990120 |  5101 | P | 5.3 |  83 |\n| 18192037 | 2018 | 10780 | 310 | 2 | F | 2 |   200306 | 13501 | P | 4.8 |  90 |\n|  2474652 | 2010 | 10415 | 110 | 2 | D | 2 | 20020505 | 13301 | P | 6.4 |  98 |\n| ⋮ | ⋮ | ⋮ | ⋮ | ⋮ | ⋮ | ⋮ | ⋮ | ⋮ | ⋮ | ⋮ | ⋮ |\n| 15522870 | 2010 | 16414 | 363 | 1 | B | 2 | 19920215 |  7101 | P | 6.4 |  98 |\n|  2344338 | 2014 |   581 | 110 | 4 | A | 2 | 20050504 |  4101 | P | 6.6 |  92 |\n|  9556777 | 2017 | 24327 | 110 | 2 | A | 2 |   200905 | 12101 | P | 6.5 |  95 |\n| 24124199 | 2016 | 10482 | 110 | 3 | A | 2 |   200805 | 13201 | P | 5.8 |  98 |\n| 16618566 | 2019 |  3300 | 310 | 2 | A | 1 |   200312 |  7401 | P | 5.9 |  85 |\n| 13479197 | 2019 | 11608 | 363 | 3 | E | 1 |   200008 | 13110 | T | NA  |  NA |\n|  5604390 | 2017 | 10345 | 110 | 1 | C | 1 |   201006 | 13127 | P | 6.9 |  98 |\n| 10102940 | 2018 | 13388 | 310 | 1 | A | 1 |   200207 |  9211 | P | 5.5 |  98 |\n|  5969988 | 2018 | 10553 | 110 | 4 | B | 1 |   200903 | 13105 | T | NA  |  NA |\n|  3476682 | 2015 |  2301 | 110 | 4 | A | 1 |   200309 |  6115 | P | 5.1 |  94 |\n| 13752963 | 2010 |  2122 | 110 | 3 | B | 1 | 20010409 |  6101 | P | 4.9 |  84 |\n|  1975908 | 2018 |  2934 | 610 | 3 | C | 2 |   200101 |  7101 | P | 6.3 | 100 |\n| 18638414 | 2016 |  7470 | 610 | 2 | A | 2 |   200008 |  7406 | P | 5.6 |  94 |\n|  3636469 | 2019 | 31343 | 310 | 2 | A | 2 |   200405 |  2101 | P | 5.5 |  95 |\n|   711359 | 2019 |   847 | 110 | 3 | A | 2 |   201106 |  4302 | P | 6.6 |  82 |\n| 23597463 | 2018 | 25477 | 110 | 2 | A | 2 |   201004 | 13403 | P | 6.7 |  92 |\n|  7459603 | 2017 | 14210 | 110 | 7 | A | 1 |   200408 |  5503 | P | 5.4 |  95 |\n| 15378480 | 2010 |  1226 | 310 | 1 | A | 1 | 19950630 |  5301 | P | 5.5 |  94 |\n| 20748894 | 2012 |  8403 | 110 | 5 | A | 1 | 20020519 | 11402 | P | 4.9 |  89 |\n| 16268599 | 2015 | 10199 | 110 | 7 | A | 1 |   200208 | 13119 | P | 4.9 |  97 |\n| 25464069 | 2017 |  8561 | 110 | 5 | A | 1 |   200506 | 13101 | P | 5.8 |  89 |\n| 20890278 | 2013 |  5507 | 310 | 1 | A | 2 | 19971205 |  9208 | P | 5.4 |  96 |\n|  1030681 | 2013 |  9290 | 110 | 2 | A | 2 | 20050829 | 13201 | Y | NA  |  NA |\n| 19451880 | 2014 |  2210 | 110 | 7 | A | 1 | 20000902 |  6102 | P | 5.6 |  91 |\n|  6663775 | 2017 | 10713 | 110 | 6 | A | 2 |   200512 | 13601 | P | 6.2 |  84 |\n| 17573712 | 2012 |  5698 | 110 | 6 | A | 2 | 20001115 |  9101 | P | 5.2 |  94 |\n|  9740108 | 2013 |  5599 | 110 | 6 | A | 2 | 20010829 |  9112 | P | 5.9 |  94 |\n| 12118795 | 2014 | 26426 | 310 | 2 | A | 2 | 19980909 | 13110 | P | 5.8 |  43 |\n|   674402 | 2014 |   987 | 310 | 1 | A | 1 | 19991202 |  4201 | P | 5   |  94 |\n|  6114409 | 2016 |  9860 | 510 | 3 | F | 1 |   199812 | 13109 | R | 4.8 |  96 |\n\n",
            "text/html": [
              "<table class=\"dataframe\">\n",
              "<caption>A data.frame: 1000 × 12</caption>\n",
              "<thead>\n",
              "\t<tr><th scope=col>MRUN</th><th scope=col>AGNO</th><th scope=col>RBD</th><th scope=col>COD_ENSE</th><th scope=col>COD_GRADO</th><th scope=col>LET_CUR</th><th scope=col>GEN_ALU</th><th scope=col>FEC_NAC_ALU</th><th scope=col>COD_COM_ALU</th><th scope=col>SIT_FIN_R</th><th scope=col>PROM_GRAL</th><th scope=col>ASISTENCIA</th></tr>\n",
              "\t<tr><th scope=col>&lt;int&gt;</th><th scope=col>&lt;int&gt;</th><th scope=col>&lt;int&gt;</th><th scope=col>&lt;int&gt;</th><th scope=col>&lt;int&gt;</th><th scope=col>&lt;chr&gt;</th><th scope=col>&lt;int&gt;</th><th scope=col>&lt;int&gt;</th><th scope=col>&lt;int&gt;</th><th scope=col>&lt;chr&gt;</th><th scope=col>&lt;chr&gt;</th><th scope=col>&lt;int&gt;</th></tr>\n",
              "</thead>\n",
              "<tbody>\n",
              "\t<tr><td> 8507898</td><td>2012</td><td>24473</td><td>610</td><td>4</td><td>B</td><td>1</td><td>19940608</td><td>13131</td><td>P</td><td>5.4</td><td> 94</td></tr>\n",
              "\t<tr><td> 7503777</td><td>2010</td><td> 2278</td><td>110</td><td>8</td><td>C</td><td>2</td><td>19961007</td><td> 6116</td><td>P</td><td>6.3</td><td> 96</td></tr>\n",
              "\t<tr><td>20333870</td><td>2015</td><td>25526</td><td>310</td><td>2</td><td>A</td><td>2</td><td>  199911</td><td>13503</td><td>P</td><td>5.2</td><td> 84</td></tr>\n",
              "\t<tr><td>24811791</td><td>2012</td><td>14601</td><td>110</td><td>6</td><td>A</td><td>1</td><td>20010309</td><td> 5101</td><td>P</td><td>4.8</td><td> 96</td></tr>\n",
              "\t<tr><td> 6696321</td><td>2019</td><td>18054</td><td>363</td><td>1</td><td>A</td><td>2</td><td>  200306</td><td> 8103</td><td>Y</td><td>NA </td><td> NA</td></tr>\n",
              "\t<tr><td> 4168896</td><td>2017</td><td>  130</td><td>110</td><td>1</td><td>B</td><td>2</td><td>  200903</td><td>13604</td><td>Y</td><td>NA </td><td> NA</td></tr>\n",
              "\t<tr><td> 8355900</td><td>2014</td><td>25402</td><td>110</td><td>7</td><td>A</td><td>1</td><td>19991201</td><td>13110</td><td>P</td><td>5  </td><td> 96</td></tr>\n",
              "\t<tr><td>  319794</td><td>2016</td><td>31103</td><td>110</td><td>8</td><td>A</td><td>2</td><td>  200208</td><td> 8102</td><td>P</td><td>5.6</td><td> 98</td></tr>\n",
              "\t<tr><td> 5850725</td><td>2014</td><td> 4730</td><td>110</td><td>4</td><td>A</td><td>2</td><td>20050313</td><td> 8112</td><td>P</td><td>5.5</td><td> 87</td></tr>\n",
              "\t<tr><td>17182441</td><td>2019</td><td> 8645</td><td>310</td><td>1</td><td>B</td><td>2</td><td>  200503</td><td>13125</td><td>P</td><td>5.6</td><td>100</td></tr>\n",
              "\t<tr><td> 1371329</td><td>2011</td><td> 2013</td><td>410</td><td>1</td><td>E</td><td>1</td><td>19961023</td><td> 5601</td><td>P</td><td>6  </td><td> 97</td></tr>\n",
              "\t<tr><td>20746760</td><td>2013</td><td>16460</td><td>110</td><td>6</td><td>B</td><td>2</td><td>20001105</td><td> 7301</td><td>P</td><td>5.4</td><td> 91</td></tr>\n",
              "\t<tr><td> 5561011</td><td>2012</td><td>31107</td><td>110</td><td>3</td><td>A</td><td>2</td><td>20040115</td><td> 8303</td><td>P</td><td>7  </td><td> 97</td></tr>\n",
              "\t<tr><td> 8353044</td><td>2020</td><td>  132</td><td>310</td><td>2</td><td>C</td><td>2</td><td>  200504</td><td> 1101</td><td>P</td><td>7  </td><td>100</td></tr>\n",
              "\t<tr><td>10790537</td><td>2013</td><td> 8468</td><td>110</td><td>4</td><td>A</td><td>1</td><td>20030612</td><td>12401</td><td>T</td><td>NA </td><td> NA</td></tr>\n",
              "\t<tr><td>18195035</td><td>2012</td><td> 5888</td><td>110</td><td>3</td><td>A</td><td>1</td><td>20040321</td><td> 9113</td><td>P</td><td>5.2</td><td> 95</td></tr>\n",
              "\t<tr><td>23067264</td><td>2013</td><td> 4050</td><td>110</td><td>4</td><td>A</td><td>1</td><td>20031130</td><td> 8404</td><td>P</td><td>6.9</td><td> 90</td></tr>\n",
              "\t<tr><td>17240937</td><td>2015</td><td> 4762</td><td>110</td><td>6</td><td>D</td><td>1</td><td>  200404</td><td> 8110</td><td>P</td><td>6  </td><td> 83</td></tr>\n",
              "\t<tr><td>14181558</td><td>2010</td><td>10834</td><td>110</td><td>2</td><td>A</td><td>2</td><td>20030312</td><td>13501</td><td>P</td><td>5.7</td><td> 89</td></tr>\n",
              "\t<tr><td> 3320260</td><td>2014</td><td>15621</td><td>310</td><td>2</td><td>A</td><td>1</td><td>19990409</td><td> 6301</td><td>P</td><td>6  </td><td> 97</td></tr>\n",
              "\t<tr><td> 3025532</td><td>2013</td><td>13450</td><td>110</td><td>4</td><td>A</td><td>1</td><td>20040223</td><td> 4101</td><td>P</td><td>6.7</td><td> 96</td></tr>\n",
              "\t<tr><td>19087399</td><td>2014</td><td>    8</td><td>110</td><td>6</td><td>A</td><td>2</td><td>20010223</td><td> 1405</td><td>T</td><td>NA </td><td> NA</td></tr>\n",
              "\t<tr><td>  213156</td><td>2020</td><td> 6216</td><td>110</td><td>8</td><td>A</td><td>1</td><td>  200603</td><td> 9105</td><td>P</td><td>4.3</td><td> 88</td></tr>\n",
              "\t<tr><td>22821603</td><td>2012</td><td>11831</td><td>510</td><td>2</td><td>A</td><td>1</td><td>19961228</td><td>13124</td><td>R</td><td>4.9</td><td> 88</td></tr>\n",
              "\t<tr><td> 6177734</td><td>2017</td><td>  968</td><td>510</td><td>2</td><td>A</td><td>1</td><td>  200205</td><td> 4204</td><td>P</td><td>5.8</td><td> 94</td></tr>\n",
              "\t<tr><td>23817657</td><td>2019</td><td>10588</td><td>310</td><td>2</td><td>A</td><td>1</td><td>  200203</td><td>13401</td><td>P</td><td>5.9</td><td> 85</td></tr>\n",
              "\t<tr><td>19271413</td><td>2014</td><td>25047</td><td>110</td><td>2</td><td>B</td><td>2</td><td>20070313</td><td>13124</td><td>P</td><td>6.1</td><td> 93</td></tr>\n",
              "\t<tr><td>24760425</td><td>2013</td><td> 1559</td><td>110</td><td>8</td><td>A</td><td>1</td><td>19990120</td><td> 5101</td><td>P</td><td>5.3</td><td> 83</td></tr>\n",
              "\t<tr><td>18192037</td><td>2018</td><td>10780</td><td>310</td><td>2</td><td>F</td><td>2</td><td>  200306</td><td>13501</td><td>P</td><td>4.8</td><td> 90</td></tr>\n",
              "\t<tr><td> 2474652</td><td>2010</td><td>10415</td><td>110</td><td>2</td><td>D</td><td>2</td><td>20020505</td><td>13301</td><td>P</td><td>6.4</td><td> 98</td></tr>\n",
              "\t<tr><td>⋮</td><td>⋮</td><td>⋮</td><td>⋮</td><td>⋮</td><td>⋮</td><td>⋮</td><td>⋮</td><td>⋮</td><td>⋮</td><td>⋮</td><td>⋮</td></tr>\n",
              "\t<tr><td>15522870</td><td>2010</td><td>16414</td><td>363</td><td>1</td><td>B</td><td>2</td><td>19920215</td><td> 7101</td><td>P</td><td>6.4</td><td> 98</td></tr>\n",
              "\t<tr><td> 2344338</td><td>2014</td><td>  581</td><td>110</td><td>4</td><td>A</td><td>2</td><td>20050504</td><td> 4101</td><td>P</td><td>6.6</td><td> 92</td></tr>\n",
              "\t<tr><td> 9556777</td><td>2017</td><td>24327</td><td>110</td><td>2</td><td>A</td><td>2</td><td>  200905</td><td>12101</td><td>P</td><td>6.5</td><td> 95</td></tr>\n",
              "\t<tr><td>24124199</td><td>2016</td><td>10482</td><td>110</td><td>3</td><td>A</td><td>2</td><td>  200805</td><td>13201</td><td>P</td><td>5.8</td><td> 98</td></tr>\n",
              "\t<tr><td>16618566</td><td>2019</td><td> 3300</td><td>310</td><td>2</td><td>A</td><td>1</td><td>  200312</td><td> 7401</td><td>P</td><td>5.9</td><td> 85</td></tr>\n",
              "\t<tr><td>13479197</td><td>2019</td><td>11608</td><td>363</td><td>3</td><td>E</td><td>1</td><td>  200008</td><td>13110</td><td>T</td><td>NA </td><td> NA</td></tr>\n",
              "\t<tr><td> 5604390</td><td>2017</td><td>10345</td><td>110</td><td>1</td><td>C</td><td>1</td><td>  201006</td><td>13127</td><td>P</td><td>6.9</td><td> 98</td></tr>\n",
              "\t<tr><td>10102940</td><td>2018</td><td>13388</td><td>310</td><td>1</td><td>A</td><td>1</td><td>  200207</td><td> 9211</td><td>P</td><td>5.5</td><td> 98</td></tr>\n",
              "\t<tr><td> 5969988</td><td>2018</td><td>10553</td><td>110</td><td>4</td><td>B</td><td>1</td><td>  200903</td><td>13105</td><td>T</td><td>NA </td><td> NA</td></tr>\n",
              "\t<tr><td> 3476682</td><td>2015</td><td> 2301</td><td>110</td><td>4</td><td>A</td><td>1</td><td>  200309</td><td> 6115</td><td>P</td><td>5.1</td><td> 94</td></tr>\n",
              "\t<tr><td>13752963</td><td>2010</td><td> 2122</td><td>110</td><td>3</td><td>B</td><td>1</td><td>20010409</td><td> 6101</td><td>P</td><td>4.9</td><td> 84</td></tr>\n",
              "\t<tr><td> 1975908</td><td>2018</td><td> 2934</td><td>610</td><td>3</td><td>C</td><td>2</td><td>  200101</td><td> 7101</td><td>P</td><td>6.3</td><td>100</td></tr>\n",
              "\t<tr><td>18638414</td><td>2016</td><td> 7470</td><td>610</td><td>2</td><td>A</td><td>2</td><td>  200008</td><td> 7406</td><td>P</td><td>5.6</td><td> 94</td></tr>\n",
              "\t<tr><td> 3636469</td><td>2019</td><td>31343</td><td>310</td><td>2</td><td>A</td><td>2</td><td>  200405</td><td> 2101</td><td>P</td><td>5.5</td><td> 95</td></tr>\n",
              "\t<tr><td>  711359</td><td>2019</td><td>  847</td><td>110</td><td>3</td><td>A</td><td>2</td><td>  201106</td><td> 4302</td><td>P</td><td>6.6</td><td> 82</td></tr>\n",
              "\t<tr><td>23597463</td><td>2018</td><td>25477</td><td>110</td><td>2</td><td>A</td><td>2</td><td>  201004</td><td>13403</td><td>P</td><td>6.7</td><td> 92</td></tr>\n",
              "\t<tr><td> 7459603</td><td>2017</td><td>14210</td><td>110</td><td>7</td><td>A</td><td>1</td><td>  200408</td><td> 5503</td><td>P</td><td>5.4</td><td> 95</td></tr>\n",
              "\t<tr><td>15378480</td><td>2010</td><td> 1226</td><td>310</td><td>1</td><td>A</td><td>1</td><td>19950630</td><td> 5301</td><td>P</td><td>5.5</td><td> 94</td></tr>\n",
              "\t<tr><td>20748894</td><td>2012</td><td> 8403</td><td>110</td><td>5</td><td>A</td><td>1</td><td>20020519</td><td>11402</td><td>P</td><td>4.9</td><td> 89</td></tr>\n",
              "\t<tr><td>16268599</td><td>2015</td><td>10199</td><td>110</td><td>7</td><td>A</td><td>1</td><td>  200208</td><td>13119</td><td>P</td><td>4.9</td><td> 97</td></tr>\n",
              "\t<tr><td>25464069</td><td>2017</td><td> 8561</td><td>110</td><td>5</td><td>A</td><td>1</td><td>  200506</td><td>13101</td><td>P</td><td>5.8</td><td> 89</td></tr>\n",
              "\t<tr><td>20890278</td><td>2013</td><td> 5507</td><td>310</td><td>1</td><td>A</td><td>2</td><td>19971205</td><td> 9208</td><td>P</td><td>5.4</td><td> 96</td></tr>\n",
              "\t<tr><td> 1030681</td><td>2013</td><td> 9290</td><td>110</td><td>2</td><td>A</td><td>2</td><td>20050829</td><td>13201</td><td>Y</td><td>NA </td><td> NA</td></tr>\n",
              "\t<tr><td>19451880</td><td>2014</td><td> 2210</td><td>110</td><td>7</td><td>A</td><td>1</td><td>20000902</td><td> 6102</td><td>P</td><td>5.6</td><td> 91</td></tr>\n",
              "\t<tr><td> 6663775</td><td>2017</td><td>10713</td><td>110</td><td>6</td><td>A</td><td>2</td><td>  200512</td><td>13601</td><td>P</td><td>6.2</td><td> 84</td></tr>\n",
              "\t<tr><td>17573712</td><td>2012</td><td> 5698</td><td>110</td><td>6</td><td>A</td><td>2</td><td>20001115</td><td> 9101</td><td>P</td><td>5.2</td><td> 94</td></tr>\n",
              "\t<tr><td> 9740108</td><td>2013</td><td> 5599</td><td>110</td><td>6</td><td>A</td><td>2</td><td>20010829</td><td> 9112</td><td>P</td><td>5.9</td><td> 94</td></tr>\n",
              "\t<tr><td>12118795</td><td>2014</td><td>26426</td><td>310</td><td>2</td><td>A</td><td>2</td><td>19980909</td><td>13110</td><td>P</td><td>5.8</td><td> 43</td></tr>\n",
              "\t<tr><td>  674402</td><td>2014</td><td>  987</td><td>310</td><td>1</td><td>A</td><td>1</td><td>19991202</td><td> 4201</td><td>P</td><td>5  </td><td> 94</td></tr>\n",
              "\t<tr><td> 6114409</td><td>2016</td><td> 9860</td><td>510</td><td>3</td><td>F</td><td>1</td><td>  199812</td><td>13109</td><td>R</td><td>4.8</td><td> 96</td></tr>\n",
              "</tbody>\n",
              "</table>\n"
            ]
          },
          "metadata": {}
        }
      ]
    },
    {
      "cell_type": "markdown",
      "metadata": {
        "id": "UMR2ZMzVHw65"
      },
      "source": [
        "Muestreo Aleatorio Estratificado"
      ]
    },
    {
      "cell_type": "code",
      "metadata": {
        "colab": {
          "base_uri": "https://localhost:8080/",
          "height": 1000
        },
        "id": "wOclZhHo9T8R",
        "outputId": "c2171744-eb94-4c40-b40a-c93c8e23dde0"
      },
      "source": [
        "dbGetQuery(conn, \"\n",
        "  SELECT DISTINCT MRUN\n",
        "  FROM alumnos\n",
        "  ORDER BY RANDOM()\n",
        "  LIMIT 1000\n",
        "\")"
      ],
      "execution_count": null,
      "outputs": [
        {
          "output_type": "display_data",
          "data": {
            "text/plain": [
              "     MRUN    \n",
              "1     8776302\n",
              "2     7253611\n",
              "3    15931263\n",
              "4    12143455\n",
              "5    15425010\n",
              "6    14971409\n",
              "7    13886688\n",
              "8    16710745\n",
              "9    21545512\n",
              "10   15493209\n",
              "11   20370386\n",
              "12   22553954\n",
              "13    7692133\n",
              "14   14941637\n",
              "15    9986476\n",
              "16    9492323\n",
              "17    8283236\n",
              "18   19090541\n",
              "19   16869524\n",
              "20   11734442\n",
              "21    1242139\n",
              "22   23442719\n",
              "23   23357940\n",
              "24   11698305\n",
              "25    5014181\n",
              "26   16004335\n",
              "27   12689561\n",
              "28    2242960\n",
              "29   12265561\n",
              "30   16649537\n",
              "⋮    ⋮       \n",
              "971   1612126\n",
              "972  13524452\n",
              "973  20107280\n",
              "974  18699904\n",
              "975  21954209\n",
              "976  13028136\n",
              "977   7742767\n",
              "978   1062674\n",
              "979  24566358\n",
              "980  23992031\n",
              "981   4604750\n",
              "982   6513745\n",
              "983  17393784\n",
              "984   8935814\n",
              "985  14626308\n",
              "986  23079222\n",
              "987   3511424\n",
              "988  20270147\n",
              "989   1542993\n",
              "990   8047411\n",
              "991   4637302\n",
              "992  16632532\n",
              "993  15380530\n",
              "994   1484953\n",
              "995   6362667\n",
              "996  18042466\n",
              "997   7917019\n",
              "998   7626796\n",
              "999   6913099\n",
              "1000 19867317"
            ],
            "text/latex": "A data.frame: 1000 × 1\n\\begin{tabular}{l}\n MRUN\\\\\n <int>\\\\\n\\hline\n\t  8776302\\\\\n\t  7253611\\\\\n\t 15931263\\\\\n\t 12143455\\\\\n\t 15425010\\\\\n\t 14971409\\\\\n\t 13886688\\\\\n\t 16710745\\\\\n\t 21545512\\\\\n\t 15493209\\\\\n\t 20370386\\\\\n\t 22553954\\\\\n\t  7692133\\\\\n\t 14941637\\\\\n\t  9986476\\\\\n\t  9492323\\\\\n\t  8283236\\\\\n\t 19090541\\\\\n\t 16869524\\\\\n\t 11734442\\\\\n\t  1242139\\\\\n\t 23442719\\\\\n\t 23357940\\\\\n\t 11698305\\\\\n\t  5014181\\\\\n\t 16004335\\\\\n\t 12689561\\\\\n\t  2242960\\\\\n\t 12265561\\\\\n\t 16649537\\\\\n\t ⋮\\\\\n\t  1612126\\\\\n\t 13524452\\\\\n\t 20107280\\\\\n\t 18699904\\\\\n\t 21954209\\\\\n\t 13028136\\\\\n\t  7742767\\\\\n\t  1062674\\\\\n\t 24566358\\\\\n\t 23992031\\\\\n\t  4604750\\\\\n\t  6513745\\\\\n\t 17393784\\\\\n\t  8935814\\\\\n\t 14626308\\\\\n\t 23079222\\\\\n\t  3511424\\\\\n\t 20270147\\\\\n\t  1542993\\\\\n\t  8047411\\\\\n\t  4637302\\\\\n\t 16632532\\\\\n\t 15380530\\\\\n\t  1484953\\\\\n\t  6362667\\\\\n\t 18042466\\\\\n\t  7917019\\\\\n\t  7626796\\\\\n\t  6913099\\\\\n\t 19867317\\\\\n\\end{tabular}\n",
            "text/markdown": "\nA data.frame: 1000 × 1\n\n| MRUN &lt;int&gt; |\n|---|\n|  8776302 |\n|  7253611 |\n| 15931263 |\n| 12143455 |\n| 15425010 |\n| 14971409 |\n| 13886688 |\n| 16710745 |\n| 21545512 |\n| 15493209 |\n| 20370386 |\n| 22553954 |\n|  7692133 |\n| 14941637 |\n|  9986476 |\n|  9492323 |\n|  8283236 |\n| 19090541 |\n| 16869524 |\n| 11734442 |\n|  1242139 |\n| 23442719 |\n| 23357940 |\n| 11698305 |\n|  5014181 |\n| 16004335 |\n| 12689561 |\n|  2242960 |\n| 12265561 |\n| 16649537 |\n| ⋮ |\n|  1612126 |\n| 13524452 |\n| 20107280 |\n| 18699904 |\n| 21954209 |\n| 13028136 |\n|  7742767 |\n|  1062674 |\n| 24566358 |\n| 23992031 |\n|  4604750 |\n|  6513745 |\n| 17393784 |\n|  8935814 |\n| 14626308 |\n| 23079222 |\n|  3511424 |\n| 20270147 |\n|  1542993 |\n|  8047411 |\n|  4637302 |\n| 16632532 |\n| 15380530 |\n|  1484953 |\n|  6362667 |\n| 18042466 |\n|  7917019 |\n|  7626796 |\n|  6913099 |\n| 19867317 |\n\n",
            "text/html": [
              "<table class=\"dataframe\">\n",
              "<caption>A data.frame: 1000 × 1</caption>\n",
              "<thead>\n",
              "\t<tr><th scope=col>MRUN</th></tr>\n",
              "\t<tr><th scope=col>&lt;int&gt;</th></tr>\n",
              "</thead>\n",
              "<tbody>\n",
              "\t<tr><td> 8776302</td></tr>\n",
              "\t<tr><td> 7253611</td></tr>\n",
              "\t<tr><td>15931263</td></tr>\n",
              "\t<tr><td>12143455</td></tr>\n",
              "\t<tr><td>15425010</td></tr>\n",
              "\t<tr><td>14971409</td></tr>\n",
              "\t<tr><td>13886688</td></tr>\n",
              "\t<tr><td>16710745</td></tr>\n",
              "\t<tr><td>21545512</td></tr>\n",
              "\t<tr><td>15493209</td></tr>\n",
              "\t<tr><td>20370386</td></tr>\n",
              "\t<tr><td>22553954</td></tr>\n",
              "\t<tr><td> 7692133</td></tr>\n",
              "\t<tr><td>14941637</td></tr>\n",
              "\t<tr><td> 9986476</td></tr>\n",
              "\t<tr><td> 9492323</td></tr>\n",
              "\t<tr><td> 8283236</td></tr>\n",
              "\t<tr><td>19090541</td></tr>\n",
              "\t<tr><td>16869524</td></tr>\n",
              "\t<tr><td>11734442</td></tr>\n",
              "\t<tr><td> 1242139</td></tr>\n",
              "\t<tr><td>23442719</td></tr>\n",
              "\t<tr><td>23357940</td></tr>\n",
              "\t<tr><td>11698305</td></tr>\n",
              "\t<tr><td> 5014181</td></tr>\n",
              "\t<tr><td>16004335</td></tr>\n",
              "\t<tr><td>12689561</td></tr>\n",
              "\t<tr><td> 2242960</td></tr>\n",
              "\t<tr><td>12265561</td></tr>\n",
              "\t<tr><td>16649537</td></tr>\n",
              "\t<tr><td>⋮</td></tr>\n",
              "\t<tr><td> 1612126</td></tr>\n",
              "\t<tr><td>13524452</td></tr>\n",
              "\t<tr><td>20107280</td></tr>\n",
              "\t<tr><td>18699904</td></tr>\n",
              "\t<tr><td>21954209</td></tr>\n",
              "\t<tr><td>13028136</td></tr>\n",
              "\t<tr><td> 7742767</td></tr>\n",
              "\t<tr><td> 1062674</td></tr>\n",
              "\t<tr><td>24566358</td></tr>\n",
              "\t<tr><td>23992031</td></tr>\n",
              "\t<tr><td> 4604750</td></tr>\n",
              "\t<tr><td> 6513745</td></tr>\n",
              "\t<tr><td>17393784</td></tr>\n",
              "\t<tr><td> 8935814</td></tr>\n",
              "\t<tr><td>14626308</td></tr>\n",
              "\t<tr><td>23079222</td></tr>\n",
              "\t<tr><td> 3511424</td></tr>\n",
              "\t<tr><td>20270147</td></tr>\n",
              "\t<tr><td> 1542993</td></tr>\n",
              "\t<tr><td> 8047411</td></tr>\n",
              "\t<tr><td> 4637302</td></tr>\n",
              "\t<tr><td>16632532</td></tr>\n",
              "\t<tr><td>15380530</td></tr>\n",
              "\t<tr><td> 1484953</td></tr>\n",
              "\t<tr><td> 6362667</td></tr>\n",
              "\t<tr><td>18042466</td></tr>\n",
              "\t<tr><td> 7917019</td></tr>\n",
              "\t<tr><td> 7626796</td></tr>\n",
              "\t<tr><td> 6913099</td></tr>\n",
              "\t<tr><td>19867317</td></tr>\n",
              "</tbody>\n",
              "</table>\n"
            ]
          },
          "metadata": {}
        }
      ]
    },
    {
      "cell_type": "code",
      "metadata": {
        "colab": {
          "base_uri": "https://localhost:8080/",
          "height": 1000
        },
        "id": "dehHh8MX9TyC",
        "outputId": "7977cdd0-375b-4fcd-cf17-ec6e9351dd2e"
      },
      "source": [
        "dbGetQuery(conn, \"\n",
        "SELECT *\n",
        "FROM alumnos\n",
        "WHERE MRUN IN (\n",
        "  SELECT DISTINCT MRUN\n",
        "  FROM alumnos\n",
        "  ORDER BY RANDOM()\n",
        "  LIMIT 1000)\n",
        "\")"
      ],
      "execution_count": null,
      "outputs": [
        {
          "output_type": "display_data",
          "data": {
            "text/plain": [
              "     MRUN     AGNO RBD   COD_ENSE COD_GRADO LET_CUR GEN_ALU FEC_NAC_ALU\n",
              "1      144840 2003   1   610      4         B       2       19830719   \n",
              "2    10731180 2003  22   110      2         B       1       19960308   \n",
              "3    10624937 2003  31   110      5         A       1       19930128   \n",
              "4    14529795 2003  97   410      3         A       1       19870323   \n",
              "5    13524337 2003 109   410      4         C       2       19850922   \n",
              "6    19574419 2003 117   110      3         C       2       19940818   \n",
              "7    21988391 2003 129   310      2         A       1       19871124   \n",
              "8    22397017 2003 220   510      1         A       1       19880722   \n",
              "9    21430608 2003 228   110      1         B       2       19960424   \n",
              "10    7585572 2003 240   110      3         A       2       19950412   \n",
              "11    6520470 2003 254   110      8         A       2       19891101   \n",
              "12   16117683 2003 280   410      1         B       1       19881117   \n",
              "13    9734888 2003 283   660      4         D       1       19730723   \n",
              "14    5595738 2003 288   110      1         B       1       19970321   \n",
              "15   18526709 2003 320   110      4         B       2       19930525   \n",
              "16   18653948 2003 335   110      7         B       1       19900611   \n",
              "17   22900605 2003 337   110      3         C       1       19940701   \n",
              "18    9370915 2003 344   110      6         C       2       19911009   \n",
              "19    4349952 2003 396   410      1         A       2       19870130   \n",
              "20     442767 2003 402   110      5         B       1       19921016   \n",
              "21   24918380 2003 415   310      1         B       1       19880818   \n",
              "22    7327765 2003 448   310      4         A       2       19850428   \n",
              "23    9989767 2003 453   110      5         B       2       19920713   \n",
              "24    1197369 2003 478   310      3         B       2       19870408   \n",
              "25    4683353 2003 530   310      3         B       1       19840919   \n",
              "26    7360877 2003 534   110      6         C       2       19900305   \n",
              "27   18310621 2003 574   510      3         A       1       19860806   \n",
              "28    6431029 2003 597   110      4         A       2       19940525   \n",
              "29    6128820 2003 612   361      1         A       2       19630203   \n",
              "30    3629074 2003 625   110      7         A       1       19900303   \n",
              "⋮    ⋮        ⋮    ⋮     ⋮        ⋮         ⋮       ⋮       ⋮          \n",
              "6974 20999569 2020 25988 510      4         C       1       200209     \n",
              "6975  7719303 2020 26006 110      2         A       1       201208     \n",
              "6976  2966543 2020 26006 110      5         A       2       201001     \n",
              "6977  7851930 2020 26032 363      3         A       1       200102     \n",
              "6978 10312284 2020 26035 310      4         B       2       200304     \n",
              "6979 23635537 2020 26046 310      3         A       1       200312     \n",
              "6980  8946347 2020 26053 110      7         C       1       200712     \n",
              "6981 24959474 2020 26111 110      3         B       2       201105     \n",
              "6982  6932161 2020 26201 363      3         A       2       199610     \n",
              "6983 21536086 2020 26268 110      7         A       2       200710     \n",
              "6984  9296798 2020 26292 310      2         D       2       200410     \n",
              "6985 22694800 2020 26362 310      1         A       2       200601     \n",
              "6986   527326 2020 26379 110      3         B       2       201111     \n",
              "6987 24832621 2020 26381 110      7         B       2       200802     \n",
              "6988 14063176 2020 26383 110      7         A       2       200709     \n",
              "6989   747130 2020 26538 110      4         D       2       201102     \n",
              "6990 15845075 2020 26538 110      5         D       1       200912     \n",
              "6991   195698 2020 30003 310      2         B       2       200501     \n",
              "6992 12342460 2020 31175 310      1         A       1       200603     \n",
              "6993 20830220 2020 31190 110      3         B       1       201101     \n",
              "6994 18276880 2020 31343 310      1         A       2       200509     \n",
              "6995 12134140 2020 40029 310      2         A       1       200504     \n",
              "6996 19378381 2020 40078 110      1         A       2       201402     \n",
              "6997 20776376 2020 40080 310      3         A       1       200303     \n",
              "6998 13606778 2020 40184 110      7         A       1       200710     \n",
              "6999  8013146 2020 40194 110      6         A       1       200901     \n",
              "7000  4567991 2020 40459 110      5         A       2       200907     \n",
              "7001  3299241 2020 41018 110      4         A       2       201103     \n",
              "7002  8391109 2020 41439 110      8         A       2       200607     \n",
              "7003 14147380 2020 41617 165      3         A       2       200403     \n",
              "     COD_COM_ALU SIT_FIN_R PROM_GRAL ASISTENCIA\n",
              "1    1201        P         6          99       \n",
              "2    1201        P         5,9        97       \n",
              "3    1201        P         6          99       \n",
              "4    1101        P         4,9        94       \n",
              "5    1101        P         5,4        99       \n",
              "6    1101        P         5,9        97       \n",
              "7    1101        P         5         100       \n",
              "8    2201        P         5          89       \n",
              "9    2201        R         4,7        80       \n",
              "10   2201        T         0           0       \n",
              "11   2201        P         6,2        98       \n",
              "12   2101        P         6,1        93       \n",
              "13   2101        P         5,7        78       \n",
              "14   2101        P         6,7        95       \n",
              "15   2101        P         6,3        98       \n",
              "16   2101        P         5,3        92       \n",
              "17   2101        P         6,6        89       \n",
              "18   2101        P         5,3        95       \n",
              "19   3101        R         4,6        92       \n",
              "20   3101        P         4,9        86       \n",
              "21   3101        P         5,5        96       \n",
              "22   3301        P         5          86       \n",
              "23   3301        P         6,8        99       \n",
              "24   3301        P         6         100       \n",
              "25   4101        P         5,6        96       \n",
              "26   4101        R         4,2        95       \n",
              "27   4101        P         5,6        98       \n",
              "28   4104        P         6,8        98       \n",
              "29   4102        P         5,8        97       \n",
              "30   4102        P         4,7        85       \n",
              "⋮    ⋮           ⋮         ⋮         ⋮         \n",
              "6974 13125       P         5,4        93       \n",
              "6975 13404       P         4,8       100       \n",
              "6976 13404       T         0           0       \n",
              "6977 13111       P         5         100       \n",
              "6978 13302       P         6,4       100       \n",
              "6979 13124       P         6,8       100       \n",
              "6980 13110       P         6,4       100       \n",
              "6981 13402       P         5,8        88       \n",
              "6982 13119       P         6,9        85       \n",
              "6983 13119       Y         0           0       \n",
              "6984  7201       P         5,4       100       \n",
              "6985 13401       P         6,8        85       \n",
              "6986 13302       P         6,5       100       \n",
              "6987 13201       P         5,7        90       \n",
              "6988 13403       P         5,5        33       \n",
              "6989 13119       P         5,6       100       \n",
              "6990  9101       T         0           0       \n",
              "6991 15101       P         6,6        90       \n",
              "6992 13131       P         5,6        95       \n",
              "6993 13401       P         5,8        85       \n",
              "6994  2101       P         5          85       \n",
              "6995  4105       P         4,4       100       \n",
              "6996  6203       P         7         100       \n",
              "6997  6310       T         0           0       \n",
              "6998  3101       P         5,5       100       \n",
              "6999  4101       P         5,9       100       \n",
              "7000 10202       P         6,3       100       \n",
              "7001  4102       P         6,8        99       \n",
              "7002 10109       P         5,6       100       \n",
              "7003 13114       P         5,6       100       "
            ],
            "text/latex": "A data.frame: 7003 × 12\n\\begin{tabular}{llllllllllll}\n MRUN & AGNO & RBD & COD\\_ENSE & COD\\_GRADO & LET\\_CUR & GEN\\_ALU & FEC\\_NAC\\_ALU & COD\\_COM\\_ALU & SIT\\_FIN\\_R & PROM\\_GRAL & ASISTENCIA\\\\\n <int> & <int> & <int> & <int> & <int> & <chr> & <int> & <int> & <int> & <chr> & <chr> & <int>\\\\\n\\hline\n\t   144840 & 2003 &   1 & 610 & 4 & B & 2 & 19830719 & 1201 & P & 6   &  99\\\\\n\t 10731180 & 2003 &  22 & 110 & 2 & B & 1 & 19960308 & 1201 & P & 5,9 &  97\\\\\n\t 10624937 & 2003 &  31 & 110 & 5 & A & 1 & 19930128 & 1201 & P & 6   &  99\\\\\n\t 14529795 & 2003 &  97 & 410 & 3 & A & 1 & 19870323 & 1101 & P & 4,9 &  94\\\\\n\t 13524337 & 2003 & 109 & 410 & 4 & C & 2 & 19850922 & 1101 & P & 5,4 &  99\\\\\n\t 19574419 & 2003 & 117 & 110 & 3 & C & 2 & 19940818 & 1101 & P & 5,9 &  97\\\\\n\t 21988391 & 2003 & 129 & 310 & 2 & A & 1 & 19871124 & 1101 & P & 5   & 100\\\\\n\t 22397017 & 2003 & 220 & 510 & 1 & A & 1 & 19880722 & 2201 & P & 5   &  89\\\\\n\t 21430608 & 2003 & 228 & 110 & 1 & B & 2 & 19960424 & 2201 & R & 4,7 &  80\\\\\n\t  7585572 & 2003 & 240 & 110 & 3 & A & 2 & 19950412 & 2201 & T & 0   &   0\\\\\n\t  6520470 & 2003 & 254 & 110 & 8 & A & 2 & 19891101 & 2201 & P & 6,2 &  98\\\\\n\t 16117683 & 2003 & 280 & 410 & 1 & B & 1 & 19881117 & 2101 & P & 6,1 &  93\\\\\n\t  9734888 & 2003 & 283 & 660 & 4 & D & 1 & 19730723 & 2101 & P & 5,7 &  78\\\\\n\t  5595738 & 2003 & 288 & 110 & 1 & B & 1 & 19970321 & 2101 & P & 6,7 &  95\\\\\n\t 18526709 & 2003 & 320 & 110 & 4 & B & 2 & 19930525 & 2101 & P & 6,3 &  98\\\\\n\t 18653948 & 2003 & 335 & 110 & 7 & B & 1 & 19900611 & 2101 & P & 5,3 &  92\\\\\n\t 22900605 & 2003 & 337 & 110 & 3 & C & 1 & 19940701 & 2101 & P & 6,6 &  89\\\\\n\t  9370915 & 2003 & 344 & 110 & 6 & C & 2 & 19911009 & 2101 & P & 5,3 &  95\\\\\n\t  4349952 & 2003 & 396 & 410 & 1 & A & 2 & 19870130 & 3101 & R & 4,6 &  92\\\\\n\t   442767 & 2003 & 402 & 110 & 5 & B & 1 & 19921016 & 3101 & P & 4,9 &  86\\\\\n\t 24918380 & 2003 & 415 & 310 & 1 & B & 1 & 19880818 & 3101 & P & 5,5 &  96\\\\\n\t  7327765 & 2003 & 448 & 310 & 4 & A & 2 & 19850428 & 3301 & P & 5   &  86\\\\\n\t  9989767 & 2003 & 453 & 110 & 5 & B & 2 & 19920713 & 3301 & P & 6,8 &  99\\\\\n\t  1197369 & 2003 & 478 & 310 & 3 & B & 2 & 19870408 & 3301 & P & 6   & 100\\\\\n\t  4683353 & 2003 & 530 & 310 & 3 & B & 1 & 19840919 & 4101 & P & 5,6 &  96\\\\\n\t  7360877 & 2003 & 534 & 110 & 6 & C & 2 & 19900305 & 4101 & R & 4,2 &  95\\\\\n\t 18310621 & 2003 & 574 & 510 & 3 & A & 1 & 19860806 & 4101 & P & 5,6 &  98\\\\\n\t  6431029 & 2003 & 597 & 110 & 4 & A & 2 & 19940525 & 4104 & P & 6,8 &  98\\\\\n\t  6128820 & 2003 & 612 & 361 & 1 & A & 2 & 19630203 & 4102 & P & 5,8 &  97\\\\\n\t  3629074 & 2003 & 625 & 110 & 7 & A & 1 & 19900303 & 4102 & P & 4,7 &  85\\\\\n\t ⋮ & ⋮ & ⋮ & ⋮ & ⋮ & ⋮ & ⋮ & ⋮ & ⋮ & ⋮ & ⋮ & ⋮\\\\\n\t 20999569 & 2020 & 25988 & 510 & 4 & C & 1 & 200209 & 13125 & P & 5,4 &  93\\\\\n\t  7719303 & 2020 & 26006 & 110 & 2 & A & 1 & 201208 & 13404 & P & 4,8 & 100\\\\\n\t  2966543 & 2020 & 26006 & 110 & 5 & A & 2 & 201001 & 13404 & T & 0   &   0\\\\\n\t  7851930 & 2020 & 26032 & 363 & 3 & A & 1 & 200102 & 13111 & P & 5   & 100\\\\\n\t 10312284 & 2020 & 26035 & 310 & 4 & B & 2 & 200304 & 13302 & P & 6,4 & 100\\\\\n\t 23635537 & 2020 & 26046 & 310 & 3 & A & 1 & 200312 & 13124 & P & 6,8 & 100\\\\\n\t  8946347 & 2020 & 26053 & 110 & 7 & C & 1 & 200712 & 13110 & P & 6,4 & 100\\\\\n\t 24959474 & 2020 & 26111 & 110 & 3 & B & 2 & 201105 & 13402 & P & 5,8 &  88\\\\\n\t  6932161 & 2020 & 26201 & 363 & 3 & A & 2 & 199610 & 13119 & P & 6,9 &  85\\\\\n\t 21536086 & 2020 & 26268 & 110 & 7 & A & 2 & 200710 & 13119 & Y & 0   &   0\\\\\n\t  9296798 & 2020 & 26292 & 310 & 2 & D & 2 & 200410 &  7201 & P & 5,4 & 100\\\\\n\t 22694800 & 2020 & 26362 & 310 & 1 & A & 2 & 200601 & 13401 & P & 6,8 &  85\\\\\n\t   527326 & 2020 & 26379 & 110 & 3 & B & 2 & 201111 & 13302 & P & 6,5 & 100\\\\\n\t 24832621 & 2020 & 26381 & 110 & 7 & B & 2 & 200802 & 13201 & P & 5,7 &  90\\\\\n\t 14063176 & 2020 & 26383 & 110 & 7 & A & 2 & 200709 & 13403 & P & 5,5 &  33\\\\\n\t   747130 & 2020 & 26538 & 110 & 4 & D & 2 & 201102 & 13119 & P & 5,6 & 100\\\\\n\t 15845075 & 2020 & 26538 & 110 & 5 & D & 1 & 200912 &  9101 & T & 0   &   0\\\\\n\t   195698 & 2020 & 30003 & 310 & 2 & B & 2 & 200501 & 15101 & P & 6,6 &  90\\\\\n\t 12342460 & 2020 & 31175 & 310 & 1 & A & 1 & 200603 & 13131 & P & 5,6 &  95\\\\\n\t 20830220 & 2020 & 31190 & 110 & 3 & B & 1 & 201101 & 13401 & P & 5,8 &  85\\\\\n\t 18276880 & 2020 & 31343 & 310 & 1 & A & 2 & 200509 &  2101 & P & 5   &  85\\\\\n\t 12134140 & 2020 & 40029 & 310 & 2 & A & 1 & 200504 &  4105 & P & 4,4 & 100\\\\\n\t 19378381 & 2020 & 40078 & 110 & 1 & A & 2 & 201402 &  6203 & P & 7   & 100\\\\\n\t 20776376 & 2020 & 40080 & 310 & 3 & A & 1 & 200303 &  6310 & T & 0   &   0\\\\\n\t 13606778 & 2020 & 40184 & 110 & 7 & A & 1 & 200710 &  3101 & P & 5,5 & 100\\\\\n\t  8013146 & 2020 & 40194 & 110 & 6 & A & 1 & 200901 &  4101 & P & 5,9 & 100\\\\\n\t  4567991 & 2020 & 40459 & 110 & 5 & A & 2 & 200907 & 10202 & P & 6,3 & 100\\\\\n\t  3299241 & 2020 & 41018 & 110 & 4 & A & 2 & 201103 &  4102 & P & 6,8 &  99\\\\\n\t  8391109 & 2020 & 41439 & 110 & 8 & A & 2 & 200607 & 10109 & P & 5,6 & 100\\\\\n\t 14147380 & 2020 & 41617 & 165 & 3 & A & 2 & 200403 & 13114 & P & 5,6 & 100\\\\\n\\end{tabular}\n",
            "text/markdown": "\nA data.frame: 7003 × 12\n\n| MRUN &lt;int&gt; | AGNO &lt;int&gt; | RBD &lt;int&gt; | COD_ENSE &lt;int&gt; | COD_GRADO &lt;int&gt; | LET_CUR &lt;chr&gt; | GEN_ALU &lt;int&gt; | FEC_NAC_ALU &lt;int&gt; | COD_COM_ALU &lt;int&gt; | SIT_FIN_R &lt;chr&gt; | PROM_GRAL &lt;chr&gt; | ASISTENCIA &lt;int&gt; |\n|---|---|---|---|---|---|---|---|---|---|---|---|\n|   144840 | 2003 |   1 | 610 | 4 | B | 2 | 19830719 | 1201 | P | 6   |  99 |\n| 10731180 | 2003 |  22 | 110 | 2 | B | 1 | 19960308 | 1201 | P | 5,9 |  97 |\n| 10624937 | 2003 |  31 | 110 | 5 | A | 1 | 19930128 | 1201 | P | 6   |  99 |\n| 14529795 | 2003 |  97 | 410 | 3 | A | 1 | 19870323 | 1101 | P | 4,9 |  94 |\n| 13524337 | 2003 | 109 | 410 | 4 | C | 2 | 19850922 | 1101 | P | 5,4 |  99 |\n| 19574419 | 2003 | 117 | 110 | 3 | C | 2 | 19940818 | 1101 | P | 5,9 |  97 |\n| 21988391 | 2003 | 129 | 310 | 2 | A | 1 | 19871124 | 1101 | P | 5   | 100 |\n| 22397017 | 2003 | 220 | 510 | 1 | A | 1 | 19880722 | 2201 | P | 5   |  89 |\n| 21430608 | 2003 | 228 | 110 | 1 | B | 2 | 19960424 | 2201 | R | 4,7 |  80 |\n|  7585572 | 2003 | 240 | 110 | 3 | A | 2 | 19950412 | 2201 | T | 0   |   0 |\n|  6520470 | 2003 | 254 | 110 | 8 | A | 2 | 19891101 | 2201 | P | 6,2 |  98 |\n| 16117683 | 2003 | 280 | 410 | 1 | B | 1 | 19881117 | 2101 | P | 6,1 |  93 |\n|  9734888 | 2003 | 283 | 660 | 4 | D | 1 | 19730723 | 2101 | P | 5,7 |  78 |\n|  5595738 | 2003 | 288 | 110 | 1 | B | 1 | 19970321 | 2101 | P | 6,7 |  95 |\n| 18526709 | 2003 | 320 | 110 | 4 | B | 2 | 19930525 | 2101 | P | 6,3 |  98 |\n| 18653948 | 2003 | 335 | 110 | 7 | B | 1 | 19900611 | 2101 | P | 5,3 |  92 |\n| 22900605 | 2003 | 337 | 110 | 3 | C | 1 | 19940701 | 2101 | P | 6,6 |  89 |\n|  9370915 | 2003 | 344 | 110 | 6 | C | 2 | 19911009 | 2101 | P | 5,3 |  95 |\n|  4349952 | 2003 | 396 | 410 | 1 | A | 2 | 19870130 | 3101 | R | 4,6 |  92 |\n|   442767 | 2003 | 402 | 110 | 5 | B | 1 | 19921016 | 3101 | P | 4,9 |  86 |\n| 24918380 | 2003 | 415 | 310 | 1 | B | 1 | 19880818 | 3101 | P | 5,5 |  96 |\n|  7327765 | 2003 | 448 | 310 | 4 | A | 2 | 19850428 | 3301 | P | 5   |  86 |\n|  9989767 | 2003 | 453 | 110 | 5 | B | 2 | 19920713 | 3301 | P | 6,8 |  99 |\n|  1197369 | 2003 | 478 | 310 | 3 | B | 2 | 19870408 | 3301 | P | 6   | 100 |\n|  4683353 | 2003 | 530 | 310 | 3 | B | 1 | 19840919 | 4101 | P | 5,6 |  96 |\n|  7360877 | 2003 | 534 | 110 | 6 | C | 2 | 19900305 | 4101 | R | 4,2 |  95 |\n| 18310621 | 2003 | 574 | 510 | 3 | A | 1 | 19860806 | 4101 | P | 5,6 |  98 |\n|  6431029 | 2003 | 597 | 110 | 4 | A | 2 | 19940525 | 4104 | P | 6,8 |  98 |\n|  6128820 | 2003 | 612 | 361 | 1 | A | 2 | 19630203 | 4102 | P | 5,8 |  97 |\n|  3629074 | 2003 | 625 | 110 | 7 | A | 1 | 19900303 | 4102 | P | 4,7 |  85 |\n| ⋮ | ⋮ | ⋮ | ⋮ | ⋮ | ⋮ | ⋮ | ⋮ | ⋮ | ⋮ | ⋮ | ⋮ |\n| 20999569 | 2020 | 25988 | 510 | 4 | C | 1 | 200209 | 13125 | P | 5,4 |  93 |\n|  7719303 | 2020 | 26006 | 110 | 2 | A | 1 | 201208 | 13404 | P | 4,8 | 100 |\n|  2966543 | 2020 | 26006 | 110 | 5 | A | 2 | 201001 | 13404 | T | 0   |   0 |\n|  7851930 | 2020 | 26032 | 363 | 3 | A | 1 | 200102 | 13111 | P | 5   | 100 |\n| 10312284 | 2020 | 26035 | 310 | 4 | B | 2 | 200304 | 13302 | P | 6,4 | 100 |\n| 23635537 | 2020 | 26046 | 310 | 3 | A | 1 | 200312 | 13124 | P | 6,8 | 100 |\n|  8946347 | 2020 | 26053 | 110 | 7 | C | 1 | 200712 | 13110 | P | 6,4 | 100 |\n| 24959474 | 2020 | 26111 | 110 | 3 | B | 2 | 201105 | 13402 | P | 5,8 |  88 |\n|  6932161 | 2020 | 26201 | 363 | 3 | A | 2 | 199610 | 13119 | P | 6,9 |  85 |\n| 21536086 | 2020 | 26268 | 110 | 7 | A | 2 | 200710 | 13119 | Y | 0   |   0 |\n|  9296798 | 2020 | 26292 | 310 | 2 | D | 2 | 200410 |  7201 | P | 5,4 | 100 |\n| 22694800 | 2020 | 26362 | 310 | 1 | A | 2 | 200601 | 13401 | P | 6,8 |  85 |\n|   527326 | 2020 | 26379 | 110 | 3 | B | 2 | 201111 | 13302 | P | 6,5 | 100 |\n| 24832621 | 2020 | 26381 | 110 | 7 | B | 2 | 200802 | 13201 | P | 5,7 |  90 |\n| 14063176 | 2020 | 26383 | 110 | 7 | A | 2 | 200709 | 13403 | P | 5,5 |  33 |\n|   747130 | 2020 | 26538 | 110 | 4 | D | 2 | 201102 | 13119 | P | 5,6 | 100 |\n| 15845075 | 2020 | 26538 | 110 | 5 | D | 1 | 200912 |  9101 | T | 0   |   0 |\n|   195698 | 2020 | 30003 | 310 | 2 | B | 2 | 200501 | 15101 | P | 6,6 |  90 |\n| 12342460 | 2020 | 31175 | 310 | 1 | A | 1 | 200603 | 13131 | P | 5,6 |  95 |\n| 20830220 | 2020 | 31190 | 110 | 3 | B | 1 | 201101 | 13401 | P | 5,8 |  85 |\n| 18276880 | 2020 | 31343 | 310 | 1 | A | 2 | 200509 |  2101 | P | 5   |  85 |\n| 12134140 | 2020 | 40029 | 310 | 2 | A | 1 | 200504 |  4105 | P | 4,4 | 100 |\n| 19378381 | 2020 | 40078 | 110 | 1 | A | 2 | 201402 |  6203 | P | 7   | 100 |\n| 20776376 | 2020 | 40080 | 310 | 3 | A | 1 | 200303 |  6310 | T | 0   |   0 |\n| 13606778 | 2020 | 40184 | 110 | 7 | A | 1 | 200710 |  3101 | P | 5,5 | 100 |\n|  8013146 | 2020 | 40194 | 110 | 6 | A | 1 | 200901 |  4101 | P | 5,9 | 100 |\n|  4567991 | 2020 | 40459 | 110 | 5 | A | 2 | 200907 | 10202 | P | 6,3 | 100 |\n|  3299241 | 2020 | 41018 | 110 | 4 | A | 2 | 201103 |  4102 | P | 6,8 |  99 |\n|  8391109 | 2020 | 41439 | 110 | 8 | A | 2 | 200607 | 10109 | P | 5,6 | 100 |\n| 14147380 | 2020 | 41617 | 165 | 3 | A | 2 | 200403 | 13114 | P | 5,6 | 100 |\n\n",
            "text/html": [
              "<table class=\"dataframe\">\n",
              "<caption>A data.frame: 7003 × 12</caption>\n",
              "<thead>\n",
              "\t<tr><th scope=col>MRUN</th><th scope=col>AGNO</th><th scope=col>RBD</th><th scope=col>COD_ENSE</th><th scope=col>COD_GRADO</th><th scope=col>LET_CUR</th><th scope=col>GEN_ALU</th><th scope=col>FEC_NAC_ALU</th><th scope=col>COD_COM_ALU</th><th scope=col>SIT_FIN_R</th><th scope=col>PROM_GRAL</th><th scope=col>ASISTENCIA</th></tr>\n",
              "\t<tr><th scope=col>&lt;int&gt;</th><th scope=col>&lt;int&gt;</th><th scope=col>&lt;int&gt;</th><th scope=col>&lt;int&gt;</th><th scope=col>&lt;int&gt;</th><th scope=col>&lt;chr&gt;</th><th scope=col>&lt;int&gt;</th><th scope=col>&lt;int&gt;</th><th scope=col>&lt;int&gt;</th><th scope=col>&lt;chr&gt;</th><th scope=col>&lt;chr&gt;</th><th scope=col>&lt;int&gt;</th></tr>\n",
              "</thead>\n",
              "<tbody>\n",
              "\t<tr><td>  144840</td><td>2003</td><td>  1</td><td>610</td><td>4</td><td>B</td><td>2</td><td>19830719</td><td>1201</td><td>P</td><td>6  </td><td> 99</td></tr>\n",
              "\t<tr><td>10731180</td><td>2003</td><td> 22</td><td>110</td><td>2</td><td>B</td><td>1</td><td>19960308</td><td>1201</td><td>P</td><td>5,9</td><td> 97</td></tr>\n",
              "\t<tr><td>10624937</td><td>2003</td><td> 31</td><td>110</td><td>5</td><td>A</td><td>1</td><td>19930128</td><td>1201</td><td>P</td><td>6  </td><td> 99</td></tr>\n",
              "\t<tr><td>14529795</td><td>2003</td><td> 97</td><td>410</td><td>3</td><td>A</td><td>1</td><td>19870323</td><td>1101</td><td>P</td><td>4,9</td><td> 94</td></tr>\n",
              "\t<tr><td>13524337</td><td>2003</td><td>109</td><td>410</td><td>4</td><td>C</td><td>2</td><td>19850922</td><td>1101</td><td>P</td><td>5,4</td><td> 99</td></tr>\n",
              "\t<tr><td>19574419</td><td>2003</td><td>117</td><td>110</td><td>3</td><td>C</td><td>2</td><td>19940818</td><td>1101</td><td>P</td><td>5,9</td><td> 97</td></tr>\n",
              "\t<tr><td>21988391</td><td>2003</td><td>129</td><td>310</td><td>2</td><td>A</td><td>1</td><td>19871124</td><td>1101</td><td>P</td><td>5  </td><td>100</td></tr>\n",
              "\t<tr><td>22397017</td><td>2003</td><td>220</td><td>510</td><td>1</td><td>A</td><td>1</td><td>19880722</td><td>2201</td><td>P</td><td>5  </td><td> 89</td></tr>\n",
              "\t<tr><td>21430608</td><td>2003</td><td>228</td><td>110</td><td>1</td><td>B</td><td>2</td><td>19960424</td><td>2201</td><td>R</td><td>4,7</td><td> 80</td></tr>\n",
              "\t<tr><td> 7585572</td><td>2003</td><td>240</td><td>110</td><td>3</td><td>A</td><td>2</td><td>19950412</td><td>2201</td><td>T</td><td>0  </td><td>  0</td></tr>\n",
              "\t<tr><td> 6520470</td><td>2003</td><td>254</td><td>110</td><td>8</td><td>A</td><td>2</td><td>19891101</td><td>2201</td><td>P</td><td>6,2</td><td> 98</td></tr>\n",
              "\t<tr><td>16117683</td><td>2003</td><td>280</td><td>410</td><td>1</td><td>B</td><td>1</td><td>19881117</td><td>2101</td><td>P</td><td>6,1</td><td> 93</td></tr>\n",
              "\t<tr><td> 9734888</td><td>2003</td><td>283</td><td>660</td><td>4</td><td>D</td><td>1</td><td>19730723</td><td>2101</td><td>P</td><td>5,7</td><td> 78</td></tr>\n",
              "\t<tr><td> 5595738</td><td>2003</td><td>288</td><td>110</td><td>1</td><td>B</td><td>1</td><td>19970321</td><td>2101</td><td>P</td><td>6,7</td><td> 95</td></tr>\n",
              "\t<tr><td>18526709</td><td>2003</td><td>320</td><td>110</td><td>4</td><td>B</td><td>2</td><td>19930525</td><td>2101</td><td>P</td><td>6,3</td><td> 98</td></tr>\n",
              "\t<tr><td>18653948</td><td>2003</td><td>335</td><td>110</td><td>7</td><td>B</td><td>1</td><td>19900611</td><td>2101</td><td>P</td><td>5,3</td><td> 92</td></tr>\n",
              "\t<tr><td>22900605</td><td>2003</td><td>337</td><td>110</td><td>3</td><td>C</td><td>1</td><td>19940701</td><td>2101</td><td>P</td><td>6,6</td><td> 89</td></tr>\n",
              "\t<tr><td> 9370915</td><td>2003</td><td>344</td><td>110</td><td>6</td><td>C</td><td>2</td><td>19911009</td><td>2101</td><td>P</td><td>5,3</td><td> 95</td></tr>\n",
              "\t<tr><td> 4349952</td><td>2003</td><td>396</td><td>410</td><td>1</td><td>A</td><td>2</td><td>19870130</td><td>3101</td><td>R</td><td>4,6</td><td> 92</td></tr>\n",
              "\t<tr><td>  442767</td><td>2003</td><td>402</td><td>110</td><td>5</td><td>B</td><td>1</td><td>19921016</td><td>3101</td><td>P</td><td>4,9</td><td> 86</td></tr>\n",
              "\t<tr><td>24918380</td><td>2003</td><td>415</td><td>310</td><td>1</td><td>B</td><td>1</td><td>19880818</td><td>3101</td><td>P</td><td>5,5</td><td> 96</td></tr>\n",
              "\t<tr><td> 7327765</td><td>2003</td><td>448</td><td>310</td><td>4</td><td>A</td><td>2</td><td>19850428</td><td>3301</td><td>P</td><td>5  </td><td> 86</td></tr>\n",
              "\t<tr><td> 9989767</td><td>2003</td><td>453</td><td>110</td><td>5</td><td>B</td><td>2</td><td>19920713</td><td>3301</td><td>P</td><td>6,8</td><td> 99</td></tr>\n",
              "\t<tr><td> 1197369</td><td>2003</td><td>478</td><td>310</td><td>3</td><td>B</td><td>2</td><td>19870408</td><td>3301</td><td>P</td><td>6  </td><td>100</td></tr>\n",
              "\t<tr><td> 4683353</td><td>2003</td><td>530</td><td>310</td><td>3</td><td>B</td><td>1</td><td>19840919</td><td>4101</td><td>P</td><td>5,6</td><td> 96</td></tr>\n",
              "\t<tr><td> 7360877</td><td>2003</td><td>534</td><td>110</td><td>6</td><td>C</td><td>2</td><td>19900305</td><td>4101</td><td>R</td><td>4,2</td><td> 95</td></tr>\n",
              "\t<tr><td>18310621</td><td>2003</td><td>574</td><td>510</td><td>3</td><td>A</td><td>1</td><td>19860806</td><td>4101</td><td>P</td><td>5,6</td><td> 98</td></tr>\n",
              "\t<tr><td> 6431029</td><td>2003</td><td>597</td><td>110</td><td>4</td><td>A</td><td>2</td><td>19940525</td><td>4104</td><td>P</td><td>6,8</td><td> 98</td></tr>\n",
              "\t<tr><td> 6128820</td><td>2003</td><td>612</td><td>361</td><td>1</td><td>A</td><td>2</td><td>19630203</td><td>4102</td><td>P</td><td>5,8</td><td> 97</td></tr>\n",
              "\t<tr><td> 3629074</td><td>2003</td><td>625</td><td>110</td><td>7</td><td>A</td><td>1</td><td>19900303</td><td>4102</td><td>P</td><td>4,7</td><td> 85</td></tr>\n",
              "\t<tr><td>⋮</td><td>⋮</td><td>⋮</td><td>⋮</td><td>⋮</td><td>⋮</td><td>⋮</td><td>⋮</td><td>⋮</td><td>⋮</td><td>⋮</td><td>⋮</td></tr>\n",
              "\t<tr><td>20999569</td><td>2020</td><td>25988</td><td>510</td><td>4</td><td>C</td><td>1</td><td>200209</td><td>13125</td><td>P</td><td>5,4</td><td> 93</td></tr>\n",
              "\t<tr><td> 7719303</td><td>2020</td><td>26006</td><td>110</td><td>2</td><td>A</td><td>1</td><td>201208</td><td>13404</td><td>P</td><td>4,8</td><td>100</td></tr>\n",
              "\t<tr><td> 2966543</td><td>2020</td><td>26006</td><td>110</td><td>5</td><td>A</td><td>2</td><td>201001</td><td>13404</td><td>T</td><td>0  </td><td>  0</td></tr>\n",
              "\t<tr><td> 7851930</td><td>2020</td><td>26032</td><td>363</td><td>3</td><td>A</td><td>1</td><td>200102</td><td>13111</td><td>P</td><td>5  </td><td>100</td></tr>\n",
              "\t<tr><td>10312284</td><td>2020</td><td>26035</td><td>310</td><td>4</td><td>B</td><td>2</td><td>200304</td><td>13302</td><td>P</td><td>6,4</td><td>100</td></tr>\n",
              "\t<tr><td>23635537</td><td>2020</td><td>26046</td><td>310</td><td>3</td><td>A</td><td>1</td><td>200312</td><td>13124</td><td>P</td><td>6,8</td><td>100</td></tr>\n",
              "\t<tr><td> 8946347</td><td>2020</td><td>26053</td><td>110</td><td>7</td><td>C</td><td>1</td><td>200712</td><td>13110</td><td>P</td><td>6,4</td><td>100</td></tr>\n",
              "\t<tr><td>24959474</td><td>2020</td><td>26111</td><td>110</td><td>3</td><td>B</td><td>2</td><td>201105</td><td>13402</td><td>P</td><td>5,8</td><td> 88</td></tr>\n",
              "\t<tr><td> 6932161</td><td>2020</td><td>26201</td><td>363</td><td>3</td><td>A</td><td>2</td><td>199610</td><td>13119</td><td>P</td><td>6,9</td><td> 85</td></tr>\n",
              "\t<tr><td>21536086</td><td>2020</td><td>26268</td><td>110</td><td>7</td><td>A</td><td>2</td><td>200710</td><td>13119</td><td>Y</td><td>0  </td><td>  0</td></tr>\n",
              "\t<tr><td> 9296798</td><td>2020</td><td>26292</td><td>310</td><td>2</td><td>D</td><td>2</td><td>200410</td><td> 7201</td><td>P</td><td>5,4</td><td>100</td></tr>\n",
              "\t<tr><td>22694800</td><td>2020</td><td>26362</td><td>310</td><td>1</td><td>A</td><td>2</td><td>200601</td><td>13401</td><td>P</td><td>6,8</td><td> 85</td></tr>\n",
              "\t<tr><td>  527326</td><td>2020</td><td>26379</td><td>110</td><td>3</td><td>B</td><td>2</td><td>201111</td><td>13302</td><td>P</td><td>6,5</td><td>100</td></tr>\n",
              "\t<tr><td>24832621</td><td>2020</td><td>26381</td><td>110</td><td>7</td><td>B</td><td>2</td><td>200802</td><td>13201</td><td>P</td><td>5,7</td><td> 90</td></tr>\n",
              "\t<tr><td>14063176</td><td>2020</td><td>26383</td><td>110</td><td>7</td><td>A</td><td>2</td><td>200709</td><td>13403</td><td>P</td><td>5,5</td><td> 33</td></tr>\n",
              "\t<tr><td>  747130</td><td>2020</td><td>26538</td><td>110</td><td>4</td><td>D</td><td>2</td><td>201102</td><td>13119</td><td>P</td><td>5,6</td><td>100</td></tr>\n",
              "\t<tr><td>15845075</td><td>2020</td><td>26538</td><td>110</td><td>5</td><td>D</td><td>1</td><td>200912</td><td> 9101</td><td>T</td><td>0  </td><td>  0</td></tr>\n",
              "\t<tr><td>  195698</td><td>2020</td><td>30003</td><td>310</td><td>2</td><td>B</td><td>2</td><td>200501</td><td>15101</td><td>P</td><td>6,6</td><td> 90</td></tr>\n",
              "\t<tr><td>12342460</td><td>2020</td><td>31175</td><td>310</td><td>1</td><td>A</td><td>1</td><td>200603</td><td>13131</td><td>P</td><td>5,6</td><td> 95</td></tr>\n",
              "\t<tr><td>20830220</td><td>2020</td><td>31190</td><td>110</td><td>3</td><td>B</td><td>1</td><td>201101</td><td>13401</td><td>P</td><td>5,8</td><td> 85</td></tr>\n",
              "\t<tr><td>18276880</td><td>2020</td><td>31343</td><td>310</td><td>1</td><td>A</td><td>2</td><td>200509</td><td> 2101</td><td>P</td><td>5  </td><td> 85</td></tr>\n",
              "\t<tr><td>12134140</td><td>2020</td><td>40029</td><td>310</td><td>2</td><td>A</td><td>1</td><td>200504</td><td> 4105</td><td>P</td><td>4,4</td><td>100</td></tr>\n",
              "\t<tr><td>19378381</td><td>2020</td><td>40078</td><td>110</td><td>1</td><td>A</td><td>2</td><td>201402</td><td> 6203</td><td>P</td><td>7  </td><td>100</td></tr>\n",
              "\t<tr><td>20776376</td><td>2020</td><td>40080</td><td>310</td><td>3</td><td>A</td><td>1</td><td>200303</td><td> 6310</td><td>T</td><td>0  </td><td>  0</td></tr>\n",
              "\t<tr><td>13606778</td><td>2020</td><td>40184</td><td>110</td><td>7</td><td>A</td><td>1</td><td>200710</td><td> 3101</td><td>P</td><td>5,5</td><td>100</td></tr>\n",
              "\t<tr><td> 8013146</td><td>2020</td><td>40194</td><td>110</td><td>6</td><td>A</td><td>1</td><td>200901</td><td> 4101</td><td>P</td><td>5,9</td><td>100</td></tr>\n",
              "\t<tr><td> 4567991</td><td>2020</td><td>40459</td><td>110</td><td>5</td><td>A</td><td>2</td><td>200907</td><td>10202</td><td>P</td><td>6,3</td><td>100</td></tr>\n",
              "\t<tr><td> 3299241</td><td>2020</td><td>41018</td><td>110</td><td>4</td><td>A</td><td>2</td><td>201103</td><td> 4102</td><td>P</td><td>6,8</td><td> 99</td></tr>\n",
              "\t<tr><td> 8391109</td><td>2020</td><td>41439</td><td>110</td><td>8</td><td>A</td><td>2</td><td>200607</td><td>10109</td><td>P</td><td>5,6</td><td>100</td></tr>\n",
              "\t<tr><td>14147380</td><td>2020</td><td>41617</td><td>165</td><td>3</td><td>A</td><td>2</td><td>200403</td><td>13114</td><td>P</td><td>5,6</td><td>100</td></tr>\n",
              "</tbody>\n",
              "</table>\n"
            ]
          },
          "metadata": {}
        }
      ]
    },
    {
      "cell_type": "code",
      "metadata": {
        "colab": {
          "base_uri": "https://localhost:8080/",
          "height": 34
        },
        "id": "5VI6KLJ2KFhh",
        "outputId": "6b33450e-c06f-418b-8eb5-d7e1694f48b3"
      },
      "source": [
        "sample.int(3,1)-1\n"
      ],
      "execution_count": null,
      "outputs": [
        {
          "output_type": "display_data",
          "data": {
            "text/plain": [
              "[1] 2"
            ],
            "text/latex": "2",
            "text/markdown": "2",
            "text/html": [
              "2"
            ]
          },
          "metadata": {}
        }
      ]
    },
    {
      "cell_type": "code",
      "metadata": {
        "colab": {
          "base_uri": "https://localhost:8080/",
          "height": 405
        },
        "id": "1hkpKxxt8_dN",
        "outputId": "1d2b11fa-3977-4feb-fc4c-cd53b1ee7cce"
      },
      "source": [
        "a=3002\n",
        "b=sample.int(a,1)-1\n",
        "\n",
        "dbGetQuery(conn, \"\n",
        "select * \n",
        "FROM alumnos\n",
        "WHERE MRUN %? =?\n",
        "limit 10\n",
        "\",  params = c(a,b))"
      ],
      "execution_count": null,
      "outputs": [
        {
          "output_type": "display_data",
          "data": {
            "text/plain": [
              "   MRUN     AGNO RBD COD_ENSE COD_GRADO LET_CUR GEN_ALU FEC_NAC_ALU COD_COM_ALU\n",
              "1   3065498 2003   4 310      3         F       2       19870419    1201       \n",
              "2   8078838 2003   7 410      4         B       2       19851102    1201       \n",
              "3  12461758 2003  10 110      3         C       2       19941103    1201       \n",
              "4  10351352 2003  20 110      2         C       1       19950120    1201       \n",
              "5    318668 2003  22 110      7         B       2       19910323    1201       \n",
              "6   9150552 2003  22 110      1         B       1       19970612    1201       \n",
              "7   2717266 2003  38 110      8         A       2       19900212    1201       \n",
              "8  13119196 2003  90 110      1         A       2       19960716    1302       \n",
              "9   8952420 2003 107 310      2         H       2       19870926    1101       \n",
              "10  6691914 2003 108 510      1         F       1       19890305    1101       \n",
              "   SIT_FIN_R PROM_GRAL ASISTENCIA\n",
              "1  P         5,8       100       \n",
              "2  P         5,4        90       \n",
              "3  P         5,8        91       \n",
              "4  P         6,2        99       \n",
              "5  P         4,8        93       \n",
              "6  P         5,8        99       \n",
              "7  P         6,4        99       \n",
              "8  P         6,6        88       \n",
              "9  P         5,4        98       \n",
              "10 R         4,2        90       "
            ],
            "text/latex": "A data.frame: 10 × 12\n\\begin{tabular}{llllllllllll}\n MRUN & AGNO & RBD & COD\\_ENSE & COD\\_GRADO & LET\\_CUR & GEN\\_ALU & FEC\\_NAC\\_ALU & COD\\_COM\\_ALU & SIT\\_FIN\\_R & PROM\\_GRAL & ASISTENCIA\\\\\n <int> & <int> & <int> & <int> & <int> & <chr> & <int> & <int> & <int> & <chr> & <chr> & <int>\\\\\n\\hline\n\t  3065498 & 2003 &   4 & 310 & 3 & F & 2 & 19870419 & 1201 & P & 5,8 & 100\\\\\n\t  8078838 & 2003 &   7 & 410 & 4 & B & 2 & 19851102 & 1201 & P & 5,4 &  90\\\\\n\t 12461758 & 2003 &  10 & 110 & 3 & C & 2 & 19941103 & 1201 & P & 5,8 &  91\\\\\n\t 10351352 & 2003 &  20 & 110 & 2 & C & 1 & 19950120 & 1201 & P & 6,2 &  99\\\\\n\t   318668 & 2003 &  22 & 110 & 7 & B & 2 & 19910323 & 1201 & P & 4,8 &  93\\\\\n\t  9150552 & 2003 &  22 & 110 & 1 & B & 1 & 19970612 & 1201 & P & 5,8 &  99\\\\\n\t  2717266 & 2003 &  38 & 110 & 8 & A & 2 & 19900212 & 1201 & P & 6,4 &  99\\\\\n\t 13119196 & 2003 &  90 & 110 & 1 & A & 2 & 19960716 & 1302 & P & 6,6 &  88\\\\\n\t  8952420 & 2003 & 107 & 310 & 2 & H & 2 & 19870926 & 1101 & P & 5,4 &  98\\\\\n\t  6691914 & 2003 & 108 & 510 & 1 & F & 1 & 19890305 & 1101 & R & 4,2 &  90\\\\\n\\end{tabular}\n",
            "text/markdown": "\nA data.frame: 10 × 12\n\n| MRUN &lt;int&gt; | AGNO &lt;int&gt; | RBD &lt;int&gt; | COD_ENSE &lt;int&gt; | COD_GRADO &lt;int&gt; | LET_CUR &lt;chr&gt; | GEN_ALU &lt;int&gt; | FEC_NAC_ALU &lt;int&gt; | COD_COM_ALU &lt;int&gt; | SIT_FIN_R &lt;chr&gt; | PROM_GRAL &lt;chr&gt; | ASISTENCIA &lt;int&gt; |\n|---|---|---|---|---|---|---|---|---|---|---|---|\n|  3065498 | 2003 |   4 | 310 | 3 | F | 2 | 19870419 | 1201 | P | 5,8 | 100 |\n|  8078838 | 2003 |   7 | 410 | 4 | B | 2 | 19851102 | 1201 | P | 5,4 |  90 |\n| 12461758 | 2003 |  10 | 110 | 3 | C | 2 | 19941103 | 1201 | P | 5,8 |  91 |\n| 10351352 | 2003 |  20 | 110 | 2 | C | 1 | 19950120 | 1201 | P | 6,2 |  99 |\n|   318668 | 2003 |  22 | 110 | 7 | B | 2 | 19910323 | 1201 | P | 4,8 |  93 |\n|  9150552 | 2003 |  22 | 110 | 1 | B | 1 | 19970612 | 1201 | P | 5,8 |  99 |\n|  2717266 | 2003 |  38 | 110 | 8 | A | 2 | 19900212 | 1201 | P | 6,4 |  99 |\n| 13119196 | 2003 |  90 | 110 | 1 | A | 2 | 19960716 | 1302 | P | 6,6 |  88 |\n|  8952420 | 2003 | 107 | 310 | 2 | H | 2 | 19870926 | 1101 | P | 5,4 |  98 |\n|  6691914 | 2003 | 108 | 510 | 1 | F | 1 | 19890305 | 1101 | R | 4,2 |  90 |\n\n",
            "text/html": [
              "<table class=\"dataframe\">\n",
              "<caption>A data.frame: 10 × 12</caption>\n",
              "<thead>\n",
              "\t<tr><th scope=col>MRUN</th><th scope=col>AGNO</th><th scope=col>RBD</th><th scope=col>COD_ENSE</th><th scope=col>COD_GRADO</th><th scope=col>LET_CUR</th><th scope=col>GEN_ALU</th><th scope=col>FEC_NAC_ALU</th><th scope=col>COD_COM_ALU</th><th scope=col>SIT_FIN_R</th><th scope=col>PROM_GRAL</th><th scope=col>ASISTENCIA</th></tr>\n",
              "\t<tr><th scope=col>&lt;int&gt;</th><th scope=col>&lt;int&gt;</th><th scope=col>&lt;int&gt;</th><th scope=col>&lt;int&gt;</th><th scope=col>&lt;int&gt;</th><th scope=col>&lt;chr&gt;</th><th scope=col>&lt;int&gt;</th><th scope=col>&lt;int&gt;</th><th scope=col>&lt;int&gt;</th><th scope=col>&lt;chr&gt;</th><th scope=col>&lt;chr&gt;</th><th scope=col>&lt;int&gt;</th></tr>\n",
              "</thead>\n",
              "<tbody>\n",
              "\t<tr><td> 3065498</td><td>2003</td><td>  4</td><td>310</td><td>3</td><td>F</td><td>2</td><td>19870419</td><td>1201</td><td>P</td><td>5,8</td><td>100</td></tr>\n",
              "\t<tr><td> 8078838</td><td>2003</td><td>  7</td><td>410</td><td>4</td><td>B</td><td>2</td><td>19851102</td><td>1201</td><td>P</td><td>5,4</td><td> 90</td></tr>\n",
              "\t<tr><td>12461758</td><td>2003</td><td> 10</td><td>110</td><td>3</td><td>C</td><td>2</td><td>19941103</td><td>1201</td><td>P</td><td>5,8</td><td> 91</td></tr>\n",
              "\t<tr><td>10351352</td><td>2003</td><td> 20</td><td>110</td><td>2</td><td>C</td><td>1</td><td>19950120</td><td>1201</td><td>P</td><td>6,2</td><td> 99</td></tr>\n",
              "\t<tr><td>  318668</td><td>2003</td><td> 22</td><td>110</td><td>7</td><td>B</td><td>2</td><td>19910323</td><td>1201</td><td>P</td><td>4,8</td><td> 93</td></tr>\n",
              "\t<tr><td> 9150552</td><td>2003</td><td> 22</td><td>110</td><td>1</td><td>B</td><td>1</td><td>19970612</td><td>1201</td><td>P</td><td>5,8</td><td> 99</td></tr>\n",
              "\t<tr><td> 2717266</td><td>2003</td><td> 38</td><td>110</td><td>8</td><td>A</td><td>2</td><td>19900212</td><td>1201</td><td>P</td><td>6,4</td><td> 99</td></tr>\n",
              "\t<tr><td>13119196</td><td>2003</td><td> 90</td><td>110</td><td>1</td><td>A</td><td>2</td><td>19960716</td><td>1302</td><td>P</td><td>6,6</td><td> 88</td></tr>\n",
              "\t<tr><td> 8952420</td><td>2003</td><td>107</td><td>310</td><td>2</td><td>H</td><td>2</td><td>19870926</td><td>1101</td><td>P</td><td>5,4</td><td> 98</td></tr>\n",
              "\t<tr><td> 6691914</td><td>2003</td><td>108</td><td>510</td><td>1</td><td>F</td><td>1</td><td>19890305</td><td>1101</td><td>R</td><td>4,2</td><td> 90</td></tr>\n",
              "</tbody>\n",
              "</table>\n"
            ]
          },
          "metadata": {}
        }
      ]
    },
    {
      "cell_type": "markdown",
      "metadata": {
        "id": "kdapD42C88KN"
      },
      "source": [
        "## Estratificado"
      ]
    },
    {
      "cell_type": "code",
      "metadata": {
        "colab": {
          "base_uri": "https://localhost:8080/",
          "height": 1000
        },
        "id": "RUKLf6RlLZfD",
        "outputId": "8d8e9327-9af4-46f8-ed64-529a319ced2d"
      },
      "source": [
        "dbGetQuery(conn, \"\n",
        "select COD_COM_ALU, count() as n\n",
        "FROM alumnos\n",
        "group by COD_COM_ALU\n",
        "\")"
      ],
      "execution_count": null,
      "outputs": [
        {
          "output_type": "display_data",
          "data": {
            "text/plain": [
              "    COD_COM_ALU n      \n",
              "1      0            229\n",
              "2   1101         764586\n",
              "3   1102           1216\n",
              "4   1103            814\n",
              "5   1104           2118\n",
              "6   1105           2948\n",
              "7   1106          10564\n",
              "8   1107         345657\n",
              "9   1201         181157\n",
              "10  1202            478\n",
              "11  1301           2014\n",
              "12  1302            483\n",
              "13  1401          45537\n",
              "14  1402           3538\n",
              "15  1403           2152\n",
              "16  1404           7263\n",
              "17  1405          13758\n",
              "18  2101        1305398\n",
              "19  2102          40101\n",
              "20  2103           4132\n",
              "21  2104          46400\n",
              "22  2201         650300\n",
              "23  2202            739\n",
              "24  2203          18730\n",
              "25  2301         103023\n",
              "26  2302          20165\n",
              "27  3101         593342\n",
              "28  3102          66534\n",
              "29  3103          51798\n",
              "30  3201          50653\n",
              "⋮   ⋮           ⋮      \n",
              "364 14108        99721 \n",
              "365 14201       112361 \n",
              "366 14202        44308 \n",
              "367 14203        27139 \n",
              "368 14204        94672 \n",
              "369 15101       643273 \n",
              "370 15102         1820 \n",
              "371 15201         4515 \n",
              "372 15202         1751 \n",
              "373 16101       104562 \n",
              "374 16102        11368 \n",
              "375 16103        13185 \n",
              "376 16104         6515 \n",
              "377 16105         4528 \n",
              "378 16106         5830 \n",
              "379 16107         7671 \n",
              "380 16108         8053 \n",
              "381 16109         9295 \n",
              "382 16201         5532 \n",
              "383 16202         2139 \n",
              "384 16203         8202 \n",
              "385 16204         2144 \n",
              "386 16205         2121 \n",
              "387 16206         2652 \n",
              "388 16207         2295 \n",
              "389 16301        28010 \n",
              "390 16302        14112 \n",
              "391 16303         5639 \n",
              "392 16304         2326 \n",
              "393 16305         4874 "
            ],
            "text/latex": "A data.frame: 393 × 2\n\\begin{tabular}{ll}\n COD\\_COM\\_ALU & n\\\\\n <int> & <int>\\\\\n\\hline\n\t    0 &     229\\\\\n\t 1101 &  764586\\\\\n\t 1102 &    1216\\\\\n\t 1103 &     814\\\\\n\t 1104 &    2118\\\\\n\t 1105 &    2948\\\\\n\t 1106 &   10564\\\\\n\t 1107 &  345657\\\\\n\t 1201 &  181157\\\\\n\t 1202 &     478\\\\\n\t 1301 &    2014\\\\\n\t 1302 &     483\\\\\n\t 1401 &   45537\\\\\n\t 1402 &    3538\\\\\n\t 1403 &    2152\\\\\n\t 1404 &    7263\\\\\n\t 1405 &   13758\\\\\n\t 2101 & 1305398\\\\\n\t 2102 &   40101\\\\\n\t 2103 &    4132\\\\\n\t 2104 &   46400\\\\\n\t 2201 &  650300\\\\\n\t 2202 &     739\\\\\n\t 2203 &   18730\\\\\n\t 2301 &  103023\\\\\n\t 2302 &   20165\\\\\n\t 3101 &  593342\\\\\n\t 3102 &   66534\\\\\n\t 3103 &   51798\\\\\n\t 3201 &   50653\\\\\n\t ⋮ & ⋮\\\\\n\t 14108 &  99721\\\\\n\t 14201 & 112361\\\\\n\t 14202 &  44308\\\\\n\t 14203 &  27139\\\\\n\t 14204 &  94672\\\\\n\t 15101 & 643273\\\\\n\t 15102 &   1820\\\\\n\t 15201 &   4515\\\\\n\t 15202 &   1751\\\\\n\t 16101 & 104562\\\\\n\t 16102 &  11368\\\\\n\t 16103 &  13185\\\\\n\t 16104 &   6515\\\\\n\t 16105 &   4528\\\\\n\t 16106 &   5830\\\\\n\t 16107 &   7671\\\\\n\t 16108 &   8053\\\\\n\t 16109 &   9295\\\\\n\t 16201 &   5532\\\\\n\t 16202 &   2139\\\\\n\t 16203 &   8202\\\\\n\t 16204 &   2144\\\\\n\t 16205 &   2121\\\\\n\t 16206 &   2652\\\\\n\t 16207 &   2295\\\\\n\t 16301 &  28010\\\\\n\t 16302 &  14112\\\\\n\t 16303 &   5639\\\\\n\t 16304 &   2326\\\\\n\t 16305 &   4874\\\\\n\\end{tabular}\n",
            "text/markdown": "\nA data.frame: 393 × 2\n\n| COD_COM_ALU &lt;int&gt; | n &lt;int&gt; |\n|---|---|\n|    0 |     229 |\n| 1101 |  764586 |\n| 1102 |    1216 |\n| 1103 |     814 |\n| 1104 |    2118 |\n| 1105 |    2948 |\n| 1106 |   10564 |\n| 1107 |  345657 |\n| 1201 |  181157 |\n| 1202 |     478 |\n| 1301 |    2014 |\n| 1302 |     483 |\n| 1401 |   45537 |\n| 1402 |    3538 |\n| 1403 |    2152 |\n| 1404 |    7263 |\n| 1405 |   13758 |\n| 2101 | 1305398 |\n| 2102 |   40101 |\n| 2103 |    4132 |\n| 2104 |   46400 |\n| 2201 |  650300 |\n| 2202 |     739 |\n| 2203 |   18730 |\n| 2301 |  103023 |\n| 2302 |   20165 |\n| 3101 |  593342 |\n| 3102 |   66534 |\n| 3103 |   51798 |\n| 3201 |   50653 |\n| ⋮ | ⋮ |\n| 14108 |  99721 |\n| 14201 | 112361 |\n| 14202 |  44308 |\n| 14203 |  27139 |\n| 14204 |  94672 |\n| 15101 | 643273 |\n| 15102 |   1820 |\n| 15201 |   4515 |\n| 15202 |   1751 |\n| 16101 | 104562 |\n| 16102 |  11368 |\n| 16103 |  13185 |\n| 16104 |   6515 |\n| 16105 |   4528 |\n| 16106 |   5830 |\n| 16107 |   7671 |\n| 16108 |   8053 |\n| 16109 |   9295 |\n| 16201 |   5532 |\n| 16202 |   2139 |\n| 16203 |   8202 |\n| 16204 |   2144 |\n| 16205 |   2121 |\n| 16206 |   2652 |\n| 16207 |   2295 |\n| 16301 |  28010 |\n| 16302 |  14112 |\n| 16303 |   5639 |\n| 16304 |   2326 |\n| 16305 |   4874 |\n\n",
            "text/html": [
              "<table class=\"dataframe\">\n",
              "<caption>A data.frame: 393 × 2</caption>\n",
              "<thead>\n",
              "\t<tr><th scope=col>COD_COM_ALU</th><th scope=col>n</th></tr>\n",
              "\t<tr><th scope=col>&lt;int&gt;</th><th scope=col>&lt;int&gt;</th></tr>\n",
              "</thead>\n",
              "<tbody>\n",
              "\t<tr><td>   0</td><td>    229</td></tr>\n",
              "\t<tr><td>1101</td><td> 764586</td></tr>\n",
              "\t<tr><td>1102</td><td>   1216</td></tr>\n",
              "\t<tr><td>1103</td><td>    814</td></tr>\n",
              "\t<tr><td>1104</td><td>   2118</td></tr>\n",
              "\t<tr><td>1105</td><td>   2948</td></tr>\n",
              "\t<tr><td>1106</td><td>  10564</td></tr>\n",
              "\t<tr><td>1107</td><td> 345657</td></tr>\n",
              "\t<tr><td>1201</td><td> 181157</td></tr>\n",
              "\t<tr><td>1202</td><td>    478</td></tr>\n",
              "\t<tr><td>1301</td><td>   2014</td></tr>\n",
              "\t<tr><td>1302</td><td>    483</td></tr>\n",
              "\t<tr><td>1401</td><td>  45537</td></tr>\n",
              "\t<tr><td>1402</td><td>   3538</td></tr>\n",
              "\t<tr><td>1403</td><td>   2152</td></tr>\n",
              "\t<tr><td>1404</td><td>   7263</td></tr>\n",
              "\t<tr><td>1405</td><td>  13758</td></tr>\n",
              "\t<tr><td>2101</td><td>1305398</td></tr>\n",
              "\t<tr><td>2102</td><td>  40101</td></tr>\n",
              "\t<tr><td>2103</td><td>   4132</td></tr>\n",
              "\t<tr><td>2104</td><td>  46400</td></tr>\n",
              "\t<tr><td>2201</td><td> 650300</td></tr>\n",
              "\t<tr><td>2202</td><td>    739</td></tr>\n",
              "\t<tr><td>2203</td><td>  18730</td></tr>\n",
              "\t<tr><td>2301</td><td> 103023</td></tr>\n",
              "\t<tr><td>2302</td><td>  20165</td></tr>\n",
              "\t<tr><td>3101</td><td> 593342</td></tr>\n",
              "\t<tr><td>3102</td><td>  66534</td></tr>\n",
              "\t<tr><td>3103</td><td>  51798</td></tr>\n",
              "\t<tr><td>3201</td><td>  50653</td></tr>\n",
              "\t<tr><td>⋮</td><td>⋮</td></tr>\n",
              "\t<tr><td>14108</td><td> 99721</td></tr>\n",
              "\t<tr><td>14201</td><td>112361</td></tr>\n",
              "\t<tr><td>14202</td><td> 44308</td></tr>\n",
              "\t<tr><td>14203</td><td> 27139</td></tr>\n",
              "\t<tr><td>14204</td><td> 94672</td></tr>\n",
              "\t<tr><td>15101</td><td>643273</td></tr>\n",
              "\t<tr><td>15102</td><td>  1820</td></tr>\n",
              "\t<tr><td>15201</td><td>  4515</td></tr>\n",
              "\t<tr><td>15202</td><td>  1751</td></tr>\n",
              "\t<tr><td>16101</td><td>104562</td></tr>\n",
              "\t<tr><td>16102</td><td> 11368</td></tr>\n",
              "\t<tr><td>16103</td><td> 13185</td></tr>\n",
              "\t<tr><td>16104</td><td>  6515</td></tr>\n",
              "\t<tr><td>16105</td><td>  4528</td></tr>\n",
              "\t<tr><td>16106</td><td>  5830</td></tr>\n",
              "\t<tr><td>16107</td><td>  7671</td></tr>\n",
              "\t<tr><td>16108</td><td>  8053</td></tr>\n",
              "\t<tr><td>16109</td><td>  9295</td></tr>\n",
              "\t<tr><td>16201</td><td>  5532</td></tr>\n",
              "\t<tr><td>16202</td><td>  2139</td></tr>\n",
              "\t<tr><td>16203</td><td>  8202</td></tr>\n",
              "\t<tr><td>16204</td><td>  2144</td></tr>\n",
              "\t<tr><td>16205</td><td>  2121</td></tr>\n",
              "\t<tr><td>16206</td><td>  2652</td></tr>\n",
              "\t<tr><td>16207</td><td>  2295</td></tr>\n",
              "\t<tr><td>16301</td><td> 28010</td></tr>\n",
              "\t<tr><td>16302</td><td> 14112</td></tr>\n",
              "\t<tr><td>16303</td><td>  5639</td></tr>\n",
              "\t<tr><td>16304</td><td>  2326</td></tr>\n",
              "\t<tr><td>16305</td><td>  4874</td></tr>\n",
              "</tbody>\n",
              "</table>\n"
            ]
          },
          "metadata": {}
        }
      ]
    },
    {
      "cell_type": "code",
      "metadata": {
        "id": "pbNtHyCWM2k-"
      },
      "source": [
        "sample <- 10000\n",
        "\n",
        "a <- dbGetQuery(conn, \"\n",
        "select COD_COM_ALU, ?*count(*)/ CAST( SUM(count(*)) over () as float) as PERC\n",
        "FROM alumnos\n",
        "group by COD_COM_ALU\n",
        "\", params=c(sample))"
      ],
      "execution_count": null,
      "outputs": []
    },
    {
      "cell_type": "code",
      "metadata": {
        "colab": {
          "base_uri": "https://localhost:8080/"
        },
        "id": "e1AFAXEgQznz",
        "outputId": "c4034709-a962-4cd7-f6e4-3745de836410"
      },
      "source": [
        "sample <- 10000\n",
        "\n",
        "for (row in 1:2) {\n",
        "\n",
        "  sub <- dbGetQuery(conn, \"\n",
        "  select * \n",
        "  from alumnos\n",
        "  where COD_COM_ALU=?\n",
        "  order by RANDOM()\n",
        "  limit ?\n",
        "  \", params=c(a[row, \"COD_COM_ALU\"],ceiling(a[row, \"PERC\"])))\n",
        "\n",
        "   out=if(row==1) sub else rbind(out,sub)\n",
        "\n",
        "}"
      ],
      "execution_count": null,
      "outputs": [
        {
          "output_type": "stream",
          "text": [
            "Warning message:\n",
            "“Closing open result set, pending rows”\n"
          ],
          "name": "stderr"
        }
      ]
    },
    {
      "cell_type": "code",
      "metadata": {
        "colab": {
          "base_uri": "https://localhost:8080/",
          "height": 1000
        },
        "id": "vG-mZnt5UxwM",
        "outputId": "7b884b3b-bc85-4e33-84db-ea04152fafaa"
      },
      "source": [
        "out"
      ],
      "execution_count": null,
      "outputs": [
        {
          "output_type": "display_data",
          "data": {
            "text/plain": [
              "    MRUN     AGNO RBD   COD_ENSE COD_GRADO LET_CUR GEN_ALU FEC_NAC_ALU\n",
              "1   26085595 2019 10329 110      1         B       1         201203   \n",
              "2   14424670 2004   133 110      5         A       2       19940409   \n",
              "3   18076221 2020   132 310      1         D       1         200601   \n",
              "4   18234753 2013 12504 110      6         A       1       20001201   \n",
              "5    4928930 2009   130 310      3         A       2       19930121   \n",
              "6   16819873 2014 26238 110      4         A       1       20041203   \n",
              "7    8888285 2015   116 110      5         A       2         200411   \n",
              "8   17437717 2013   107 310      1         C       2       19990517   \n",
              "9   12402017 2005 12567 110      1         E       2       19980603   \n",
              "10   5908063 2004 12655 310      1         A       2       19900203   \n",
              "11   5373833 2020 12534 110      6         C       2         200901   \n",
              "12  25135852 2017 12538 110      6         A       1         200506   \n",
              "13   4454856 2003 12590 110      4         C       1       19940614   \n",
              "14  16849889 2004   117 110      4         B       2       19920506   \n",
              "15   2203186 2019 40320 310      4         A       1         200104   \n",
              "16  12569877 2007 12603 610      4         C       2       19890503   \n",
              "17  14440840 2008 12741 310      2         A       1       19921214   \n",
              "18  16937008 2020   125 110      2         C       2         201210   \n",
              "19  21783875 2014 40177 110      2         A       2       20060615   \n",
              "20   4839026 2019   114 110      1         B       1         201210   \n",
              "21   5623953 2017   116 110      8         B       1         200309   \n",
              "22  12763774 2020 12591 310      3         C       2         200302   \n",
              "23  22964797 2009   132 310      4         B       1       19911205   \n",
              "24   7940737 2008   132 110      5         C       1       19970822   \n",
              "25  10926243 2012   113 110      1         C       2       20050609   \n",
              "26  17902302 2007 12667 110      3         A       1       19980922   \n",
              "27  24624320 2014 12573 310      3         B       1       19980513   \n",
              "28   5948787 2005 12518 110      6         A       1       19940613   \n",
              "29  11158686 2007 12518 110      2         A       2       20000303   \n",
              "30   8287698 2011 40295 110      5         B       1       20000918   \n",
              "⋮   ⋮        ⋮    ⋮     ⋮        ⋮         ⋮       ⋮       ⋮          \n",
              "100 19966788 2005   132 110      8         A       1       19920301   \n",
              "101 10957090 2014   613 110      7         A       2       20010126   \n",
              "102  6569102 2013   125 110      8         C       1       20000224   \n",
              "103  8867417 2013 12741 310      4         A       2       19951127   \n",
              "104 17674864 2009   112 110      6         A       2       19971223   \n",
              "105  4387309 2020   109 310      1         C       2         200606   \n",
              "106 16390215 2007   144 110      1         A       2       20010321   \n",
              "107  5127121 2011   108 610      3         B       2       19940729   \n",
              "108  2431076 2014 12669 110      2         A       2       20061226   \n",
              "109 13050188 2003 12682 110      1         C       1       19960718   \n",
              "110 15375290 2018 12761 110      6         A       2         200704   \n",
              "111 21635495 2007   111 110      8         B       1       19940314   \n",
              "112  8166220 2005   114 110      7         B       2       19930312   \n",
              "113  2756526 2015 12591 310      1         C       2         200102   \n",
              "114 19572816 2007 12735 310      3         A       2       19910312   \n",
              "115 12678528 2007 12683 310      1         A       2       19920722   \n",
              "116   480623 2006   125 110      3         A       1       19960817   \n",
              "117 18304201 2006   144 110      2         A       2       19990524   \n",
              "118 15550083 2005 12672 310      4         A       1       19870810   \n",
              "119 14274095 2006 10901 110      1         C       1       20000127   \n",
              "120  6171787 2014   123 165      3         A       2       19931108   \n",
              "121  6326640 2010   127 110      7         B       2       19970928   \n",
              "122  8759873 2011 12594 310      3         A       2       19950513   \n",
              "123 23984844 2017   119 110      5         A       1         200505   \n",
              "124 16773636 2019   127 110      8         A       2         200604   \n",
              "125  1347699 2004 12638 310      1         B       1       19900126   \n",
              "126  3067957 2004 12591 110      6         B       1       19930309   \n",
              "127 18371949 2009 12683 310      4         A       2       19910821   \n",
              "128  5113799 2019 40320 310      3         A       2         200203   \n",
              "129  3581450 2005   116 110      8         A       1       19920116   \n",
              "    COD_COM_ALU SIT_FIN_R PROM_GRAL ASISTENCIA\n",
              "1      0        P         5,2        82       \n",
              "2   1101        P         5          85       \n",
              "3   1101        P         6,5       100       \n",
              "4   1101        P         5,2        96       \n",
              "5   1101        P         6          92       \n",
              "6   1101        P         6,5       100       \n",
              "7   1101        T         0           0       \n",
              "8   1101        P         5,4        97       \n",
              "9   1101        P         6,8        98       \n",
              "10  1101        R         4,1        97       \n",
              "11  1101        P         6,7        85       \n",
              "12  1101        P         5,9        95       \n",
              "13  1101        P         6,2        98       \n",
              "14  1101        R         3,9        76       \n",
              "15  1101        P         5,8        91       \n",
              "16  1101        P         5,7        97       \n",
              "17  1101        P         5          87       \n",
              "18  1101        P         6,9       100       \n",
              "19  1101        P         5,9        89       \n",
              "20  1101        P         6,5        87       \n",
              "21  1101        P         5          98       \n",
              "22  1101        P         6,2       100       \n",
              "23  1101        P         5,8        98       \n",
              "24  1101        P         6,4        96       \n",
              "25  1101        R         3,9        60       \n",
              "26  1101        P         5,5        93       \n",
              "27  1101        P         5,5        88       \n",
              "28  1101        P         5,4        97       \n",
              "29  1101        P         5,8        94       \n",
              "30  1101        P         4,8        94       \n",
              "⋮   ⋮           ⋮         ⋮         ⋮         \n",
              "100 1101        P         6,2        97       \n",
              "101 1101        P         4,9        93       \n",
              "102 1101        P         5          89       \n",
              "103 1101        P         6,6        94       \n",
              "104 1101        P         5,5        90       \n",
              "105 1101        P         4,7        85       \n",
              "106 1101        P         6,7        96       \n",
              "107 1101        T         0           0       \n",
              "108 1101        P         6,7        92       \n",
              "109 1101        P         6,9        87       \n",
              "110 1101        P         6,4        98       \n",
              "111 1101        P         6,3        98       \n",
              "112 1101        P         6,6        99       \n",
              "113 1101        P         4,9        92       \n",
              "114 1101        P         5,3        87       \n",
              "115 1101        P         4,7        98       \n",
              "116 1101        P         5,6        97       \n",
              "117 1101        P         6,4        85       \n",
              "118 1101        P         5,7        97       \n",
              "119 1101        P         6,8        98       \n",
              "120 1101        P         6,1       100       \n",
              "121 1101        P         5          90       \n",
              "122 1101        P         5,7        92       \n",
              "123 1101        T         0           0       \n",
              "124 1101        P         6,3        94       \n",
              "125 1101        P         6,2       100       \n",
              "126 1101        P         6,2        99       \n",
              "127 1101        P         6,5        85       \n",
              "128 1101        T         0           0       \n",
              "129 1101        P         5,8        96       "
            ],
            "text/latex": "A data.frame: 129 × 12\n\\begin{tabular}{llllllllllll}\n MRUN & AGNO & RBD & COD\\_ENSE & COD\\_GRADO & LET\\_CUR & GEN\\_ALU & FEC\\_NAC\\_ALU & COD\\_COM\\_ALU & SIT\\_FIN\\_R & PROM\\_GRAL & ASISTENCIA\\\\\n <int> & <int> & <int> & <int> & <int> & <chr> & <int> & <int> & <int> & <chr> & <chr> & <int>\\\\\n\\hline\n\t 26085595 & 2019 & 10329 & 110 & 1 & B & 1 &   201203 &    0 & P & 5,2 &  82\\\\\n\t 14424670 & 2004 &   133 & 110 & 5 & A & 2 & 19940409 & 1101 & P & 5   &  85\\\\\n\t 18076221 & 2020 &   132 & 310 & 1 & D & 1 &   200601 & 1101 & P & 6,5 & 100\\\\\n\t 18234753 & 2013 & 12504 & 110 & 6 & A & 1 & 20001201 & 1101 & P & 5,2 &  96\\\\\n\t  4928930 & 2009 &   130 & 310 & 3 & A & 2 & 19930121 & 1101 & P & 6   &  92\\\\\n\t 16819873 & 2014 & 26238 & 110 & 4 & A & 1 & 20041203 & 1101 & P & 6,5 & 100\\\\\n\t  8888285 & 2015 &   116 & 110 & 5 & A & 2 &   200411 & 1101 & T & 0   &   0\\\\\n\t 17437717 & 2013 &   107 & 310 & 1 & C & 2 & 19990517 & 1101 & P & 5,4 &  97\\\\\n\t 12402017 & 2005 & 12567 & 110 & 1 & E & 2 & 19980603 & 1101 & P & 6,8 &  98\\\\\n\t  5908063 & 2004 & 12655 & 310 & 1 & A & 2 & 19900203 & 1101 & R & 4,1 &  97\\\\\n\t  5373833 & 2020 & 12534 & 110 & 6 & C & 2 &   200901 & 1101 & P & 6,7 &  85\\\\\n\t 25135852 & 2017 & 12538 & 110 & 6 & A & 1 &   200506 & 1101 & P & 5,9 &  95\\\\\n\t  4454856 & 2003 & 12590 & 110 & 4 & C & 1 & 19940614 & 1101 & P & 6,2 &  98\\\\\n\t 16849889 & 2004 &   117 & 110 & 4 & B & 2 & 19920506 & 1101 & R & 3,9 &  76\\\\\n\t  2203186 & 2019 & 40320 & 310 & 4 & A & 1 &   200104 & 1101 & P & 5,8 &  91\\\\\n\t 12569877 & 2007 & 12603 & 610 & 4 & C & 2 & 19890503 & 1101 & P & 5,7 &  97\\\\\n\t 14440840 & 2008 & 12741 & 310 & 2 & A & 1 & 19921214 & 1101 & P & 5   &  87\\\\\n\t 16937008 & 2020 &   125 & 110 & 2 & C & 2 &   201210 & 1101 & P & 6,9 & 100\\\\\n\t 21783875 & 2014 & 40177 & 110 & 2 & A & 2 & 20060615 & 1101 & P & 5,9 &  89\\\\\n\t  4839026 & 2019 &   114 & 110 & 1 & B & 1 &   201210 & 1101 & P & 6,5 &  87\\\\\n\t  5623953 & 2017 &   116 & 110 & 8 & B & 1 &   200309 & 1101 & P & 5   &  98\\\\\n\t 12763774 & 2020 & 12591 & 310 & 3 & C & 2 &   200302 & 1101 & P & 6,2 & 100\\\\\n\t 22964797 & 2009 &   132 & 310 & 4 & B & 1 & 19911205 & 1101 & P & 5,8 &  98\\\\\n\t  7940737 & 2008 &   132 & 110 & 5 & C & 1 & 19970822 & 1101 & P & 6,4 &  96\\\\\n\t 10926243 & 2012 &   113 & 110 & 1 & C & 2 & 20050609 & 1101 & R & 3,9 &  60\\\\\n\t 17902302 & 2007 & 12667 & 110 & 3 & A & 1 & 19980922 & 1101 & P & 5,5 &  93\\\\\n\t 24624320 & 2014 & 12573 & 310 & 3 & B & 1 & 19980513 & 1101 & P & 5,5 &  88\\\\\n\t  5948787 & 2005 & 12518 & 110 & 6 & A & 1 & 19940613 & 1101 & P & 5,4 &  97\\\\\n\t 11158686 & 2007 & 12518 & 110 & 2 & A & 2 & 20000303 & 1101 & P & 5,8 &  94\\\\\n\t  8287698 & 2011 & 40295 & 110 & 5 & B & 1 & 20000918 & 1101 & P & 4,8 &  94\\\\\n\t ⋮ & ⋮ & ⋮ & ⋮ & ⋮ & ⋮ & ⋮ & ⋮ & ⋮ & ⋮ & ⋮ & ⋮\\\\\n\t 19966788 & 2005 &   132 & 110 & 8 & A & 1 & 19920301 & 1101 & P & 6,2 &  97\\\\\n\t 10957090 & 2014 &   613 & 110 & 7 & A & 2 & 20010126 & 1101 & P & 4,9 &  93\\\\\n\t  6569102 & 2013 &   125 & 110 & 8 & C & 1 & 20000224 & 1101 & P & 5   &  89\\\\\n\t  8867417 & 2013 & 12741 & 310 & 4 & A & 2 & 19951127 & 1101 & P & 6,6 &  94\\\\\n\t 17674864 & 2009 &   112 & 110 & 6 & A & 2 & 19971223 & 1101 & P & 5,5 &  90\\\\\n\t  4387309 & 2020 &   109 & 310 & 1 & C & 2 &   200606 & 1101 & P & 4,7 &  85\\\\\n\t 16390215 & 2007 &   144 & 110 & 1 & A & 2 & 20010321 & 1101 & P & 6,7 &  96\\\\\n\t  5127121 & 2011 &   108 & 610 & 3 & B & 2 & 19940729 & 1101 & T & 0   &   0\\\\\n\t  2431076 & 2014 & 12669 & 110 & 2 & A & 2 & 20061226 & 1101 & P & 6,7 &  92\\\\\n\t 13050188 & 2003 & 12682 & 110 & 1 & C & 1 & 19960718 & 1101 & P & 6,9 &  87\\\\\n\t 15375290 & 2018 & 12761 & 110 & 6 & A & 2 &   200704 & 1101 & P & 6,4 &  98\\\\\n\t 21635495 & 2007 &   111 & 110 & 8 & B & 1 & 19940314 & 1101 & P & 6,3 &  98\\\\\n\t  8166220 & 2005 &   114 & 110 & 7 & B & 2 & 19930312 & 1101 & P & 6,6 &  99\\\\\n\t  2756526 & 2015 & 12591 & 310 & 1 & C & 2 &   200102 & 1101 & P & 4,9 &  92\\\\\n\t 19572816 & 2007 & 12735 & 310 & 3 & A & 2 & 19910312 & 1101 & P & 5,3 &  87\\\\\n\t 12678528 & 2007 & 12683 & 310 & 1 & A & 2 & 19920722 & 1101 & P & 4,7 &  98\\\\\n\t   480623 & 2006 &   125 & 110 & 3 & A & 1 & 19960817 & 1101 & P & 5,6 &  97\\\\\n\t 18304201 & 2006 &   144 & 110 & 2 & A & 2 & 19990524 & 1101 & P & 6,4 &  85\\\\\n\t 15550083 & 2005 & 12672 & 310 & 4 & A & 1 & 19870810 & 1101 & P & 5,7 &  97\\\\\n\t 14274095 & 2006 & 10901 & 110 & 1 & C & 1 & 20000127 & 1101 & P & 6,8 &  98\\\\\n\t  6171787 & 2014 &   123 & 165 & 3 & A & 2 & 19931108 & 1101 & P & 6,1 & 100\\\\\n\t  6326640 & 2010 &   127 & 110 & 7 & B & 2 & 19970928 & 1101 & P & 5   &  90\\\\\n\t  8759873 & 2011 & 12594 & 310 & 3 & A & 2 & 19950513 & 1101 & P & 5,7 &  92\\\\\n\t 23984844 & 2017 &   119 & 110 & 5 & A & 1 &   200505 & 1101 & T & 0   &   0\\\\\n\t 16773636 & 2019 &   127 & 110 & 8 & A & 2 &   200604 & 1101 & P & 6,3 &  94\\\\\n\t  1347699 & 2004 & 12638 & 310 & 1 & B & 1 & 19900126 & 1101 & P & 6,2 & 100\\\\\n\t  3067957 & 2004 & 12591 & 110 & 6 & B & 1 & 19930309 & 1101 & P & 6,2 &  99\\\\\n\t 18371949 & 2009 & 12683 & 310 & 4 & A & 2 & 19910821 & 1101 & P & 6,5 &  85\\\\\n\t  5113799 & 2019 & 40320 & 310 & 3 & A & 2 &   200203 & 1101 & T & 0   &   0\\\\\n\t  3581450 & 2005 &   116 & 110 & 8 & A & 1 & 19920116 & 1101 & P & 5,8 &  96\\\\\n\\end{tabular}\n",
            "text/markdown": "\nA data.frame: 129 × 12\n\n| MRUN &lt;int&gt; | AGNO &lt;int&gt; | RBD &lt;int&gt; | COD_ENSE &lt;int&gt; | COD_GRADO &lt;int&gt; | LET_CUR &lt;chr&gt; | GEN_ALU &lt;int&gt; | FEC_NAC_ALU &lt;int&gt; | COD_COM_ALU &lt;int&gt; | SIT_FIN_R &lt;chr&gt; | PROM_GRAL &lt;chr&gt; | ASISTENCIA &lt;int&gt; |\n|---|---|---|---|---|---|---|---|---|---|---|---|\n| 26085595 | 2019 | 10329 | 110 | 1 | B | 1 |   201203 |    0 | P | 5,2 |  82 |\n| 14424670 | 2004 |   133 | 110 | 5 | A | 2 | 19940409 | 1101 | P | 5   |  85 |\n| 18076221 | 2020 |   132 | 310 | 1 | D | 1 |   200601 | 1101 | P | 6,5 | 100 |\n| 18234753 | 2013 | 12504 | 110 | 6 | A | 1 | 20001201 | 1101 | P | 5,2 |  96 |\n|  4928930 | 2009 |   130 | 310 | 3 | A | 2 | 19930121 | 1101 | P | 6   |  92 |\n| 16819873 | 2014 | 26238 | 110 | 4 | A | 1 | 20041203 | 1101 | P | 6,5 | 100 |\n|  8888285 | 2015 |   116 | 110 | 5 | A | 2 |   200411 | 1101 | T | 0   |   0 |\n| 17437717 | 2013 |   107 | 310 | 1 | C | 2 | 19990517 | 1101 | P | 5,4 |  97 |\n| 12402017 | 2005 | 12567 | 110 | 1 | E | 2 | 19980603 | 1101 | P | 6,8 |  98 |\n|  5908063 | 2004 | 12655 | 310 | 1 | A | 2 | 19900203 | 1101 | R | 4,1 |  97 |\n|  5373833 | 2020 | 12534 | 110 | 6 | C | 2 |   200901 | 1101 | P | 6,7 |  85 |\n| 25135852 | 2017 | 12538 | 110 | 6 | A | 1 |   200506 | 1101 | P | 5,9 |  95 |\n|  4454856 | 2003 | 12590 | 110 | 4 | C | 1 | 19940614 | 1101 | P | 6,2 |  98 |\n| 16849889 | 2004 |   117 | 110 | 4 | B | 2 | 19920506 | 1101 | R | 3,9 |  76 |\n|  2203186 | 2019 | 40320 | 310 | 4 | A | 1 |   200104 | 1101 | P | 5,8 |  91 |\n| 12569877 | 2007 | 12603 | 610 | 4 | C | 2 | 19890503 | 1101 | P | 5,7 |  97 |\n| 14440840 | 2008 | 12741 | 310 | 2 | A | 1 | 19921214 | 1101 | P | 5   |  87 |\n| 16937008 | 2020 |   125 | 110 | 2 | C | 2 |   201210 | 1101 | P | 6,9 | 100 |\n| 21783875 | 2014 | 40177 | 110 | 2 | A | 2 | 20060615 | 1101 | P | 5,9 |  89 |\n|  4839026 | 2019 |   114 | 110 | 1 | B | 1 |   201210 | 1101 | P | 6,5 |  87 |\n|  5623953 | 2017 |   116 | 110 | 8 | B | 1 |   200309 | 1101 | P | 5   |  98 |\n| 12763774 | 2020 | 12591 | 310 | 3 | C | 2 |   200302 | 1101 | P | 6,2 | 100 |\n| 22964797 | 2009 |   132 | 310 | 4 | B | 1 | 19911205 | 1101 | P | 5,8 |  98 |\n|  7940737 | 2008 |   132 | 110 | 5 | C | 1 | 19970822 | 1101 | P | 6,4 |  96 |\n| 10926243 | 2012 |   113 | 110 | 1 | C | 2 | 20050609 | 1101 | R | 3,9 |  60 |\n| 17902302 | 2007 | 12667 | 110 | 3 | A | 1 | 19980922 | 1101 | P | 5,5 |  93 |\n| 24624320 | 2014 | 12573 | 310 | 3 | B | 1 | 19980513 | 1101 | P | 5,5 |  88 |\n|  5948787 | 2005 | 12518 | 110 | 6 | A | 1 | 19940613 | 1101 | P | 5,4 |  97 |\n| 11158686 | 2007 | 12518 | 110 | 2 | A | 2 | 20000303 | 1101 | P | 5,8 |  94 |\n|  8287698 | 2011 | 40295 | 110 | 5 | B | 1 | 20000918 | 1101 | P | 4,8 |  94 |\n| ⋮ | ⋮ | ⋮ | ⋮ | ⋮ | ⋮ | ⋮ | ⋮ | ⋮ | ⋮ | ⋮ | ⋮ |\n| 19966788 | 2005 |   132 | 110 | 8 | A | 1 | 19920301 | 1101 | P | 6,2 |  97 |\n| 10957090 | 2014 |   613 | 110 | 7 | A | 2 | 20010126 | 1101 | P | 4,9 |  93 |\n|  6569102 | 2013 |   125 | 110 | 8 | C | 1 | 20000224 | 1101 | P | 5   |  89 |\n|  8867417 | 2013 | 12741 | 310 | 4 | A | 2 | 19951127 | 1101 | P | 6,6 |  94 |\n| 17674864 | 2009 |   112 | 110 | 6 | A | 2 | 19971223 | 1101 | P | 5,5 |  90 |\n|  4387309 | 2020 |   109 | 310 | 1 | C | 2 |   200606 | 1101 | P | 4,7 |  85 |\n| 16390215 | 2007 |   144 | 110 | 1 | A | 2 | 20010321 | 1101 | P | 6,7 |  96 |\n|  5127121 | 2011 |   108 | 610 | 3 | B | 2 | 19940729 | 1101 | T | 0   |   0 |\n|  2431076 | 2014 | 12669 | 110 | 2 | A | 2 | 20061226 | 1101 | P | 6,7 |  92 |\n| 13050188 | 2003 | 12682 | 110 | 1 | C | 1 | 19960718 | 1101 | P | 6,9 |  87 |\n| 15375290 | 2018 | 12761 | 110 | 6 | A | 2 |   200704 | 1101 | P | 6,4 |  98 |\n| 21635495 | 2007 |   111 | 110 | 8 | B | 1 | 19940314 | 1101 | P | 6,3 |  98 |\n|  8166220 | 2005 |   114 | 110 | 7 | B | 2 | 19930312 | 1101 | P | 6,6 |  99 |\n|  2756526 | 2015 | 12591 | 310 | 1 | C | 2 |   200102 | 1101 | P | 4,9 |  92 |\n| 19572816 | 2007 | 12735 | 310 | 3 | A | 2 | 19910312 | 1101 | P | 5,3 |  87 |\n| 12678528 | 2007 | 12683 | 310 | 1 | A | 2 | 19920722 | 1101 | P | 4,7 |  98 |\n|   480623 | 2006 |   125 | 110 | 3 | A | 1 | 19960817 | 1101 | P | 5,6 |  97 |\n| 18304201 | 2006 |   144 | 110 | 2 | A | 2 | 19990524 | 1101 | P | 6,4 |  85 |\n| 15550083 | 2005 | 12672 | 310 | 4 | A | 1 | 19870810 | 1101 | P | 5,7 |  97 |\n| 14274095 | 2006 | 10901 | 110 | 1 | C | 1 | 20000127 | 1101 | P | 6,8 |  98 |\n|  6171787 | 2014 |   123 | 165 | 3 | A | 2 | 19931108 | 1101 | P | 6,1 | 100 |\n|  6326640 | 2010 |   127 | 110 | 7 | B | 2 | 19970928 | 1101 | P | 5   |  90 |\n|  8759873 | 2011 | 12594 | 310 | 3 | A | 2 | 19950513 | 1101 | P | 5,7 |  92 |\n| 23984844 | 2017 |   119 | 110 | 5 | A | 1 |   200505 | 1101 | T | 0   |   0 |\n| 16773636 | 2019 |   127 | 110 | 8 | A | 2 |   200604 | 1101 | P | 6,3 |  94 |\n|  1347699 | 2004 | 12638 | 310 | 1 | B | 1 | 19900126 | 1101 | P | 6,2 | 100 |\n|  3067957 | 2004 | 12591 | 110 | 6 | B | 1 | 19930309 | 1101 | P | 6,2 |  99 |\n| 18371949 | 2009 | 12683 | 310 | 4 | A | 2 | 19910821 | 1101 | P | 6,5 |  85 |\n|  5113799 | 2019 | 40320 | 310 | 3 | A | 2 |   200203 | 1101 | T | 0   |   0 |\n|  3581450 | 2005 |   116 | 110 | 8 | A | 1 | 19920116 | 1101 | P | 5,8 |  96 |\n\n",
            "text/html": [
              "<table class=\"dataframe\">\n",
              "<caption>A data.frame: 129 × 12</caption>\n",
              "<thead>\n",
              "\t<tr><th scope=col>MRUN</th><th scope=col>AGNO</th><th scope=col>RBD</th><th scope=col>COD_ENSE</th><th scope=col>COD_GRADO</th><th scope=col>LET_CUR</th><th scope=col>GEN_ALU</th><th scope=col>FEC_NAC_ALU</th><th scope=col>COD_COM_ALU</th><th scope=col>SIT_FIN_R</th><th scope=col>PROM_GRAL</th><th scope=col>ASISTENCIA</th></tr>\n",
              "\t<tr><th scope=col>&lt;int&gt;</th><th scope=col>&lt;int&gt;</th><th scope=col>&lt;int&gt;</th><th scope=col>&lt;int&gt;</th><th scope=col>&lt;int&gt;</th><th scope=col>&lt;chr&gt;</th><th scope=col>&lt;int&gt;</th><th scope=col>&lt;int&gt;</th><th scope=col>&lt;int&gt;</th><th scope=col>&lt;chr&gt;</th><th scope=col>&lt;chr&gt;</th><th scope=col>&lt;int&gt;</th></tr>\n",
              "</thead>\n",
              "<tbody>\n",
              "\t<tr><td>26085595</td><td>2019</td><td>10329</td><td>110</td><td>1</td><td>B</td><td>1</td><td>  201203</td><td>   0</td><td>P</td><td>5,2</td><td> 82</td></tr>\n",
              "\t<tr><td>14424670</td><td>2004</td><td>  133</td><td>110</td><td>5</td><td>A</td><td>2</td><td>19940409</td><td>1101</td><td>P</td><td>5  </td><td> 85</td></tr>\n",
              "\t<tr><td>18076221</td><td>2020</td><td>  132</td><td>310</td><td>1</td><td>D</td><td>1</td><td>  200601</td><td>1101</td><td>P</td><td>6,5</td><td>100</td></tr>\n",
              "\t<tr><td>18234753</td><td>2013</td><td>12504</td><td>110</td><td>6</td><td>A</td><td>1</td><td>20001201</td><td>1101</td><td>P</td><td>5,2</td><td> 96</td></tr>\n",
              "\t<tr><td> 4928930</td><td>2009</td><td>  130</td><td>310</td><td>3</td><td>A</td><td>2</td><td>19930121</td><td>1101</td><td>P</td><td>6  </td><td> 92</td></tr>\n",
              "\t<tr><td>16819873</td><td>2014</td><td>26238</td><td>110</td><td>4</td><td>A</td><td>1</td><td>20041203</td><td>1101</td><td>P</td><td>6,5</td><td>100</td></tr>\n",
              "\t<tr><td> 8888285</td><td>2015</td><td>  116</td><td>110</td><td>5</td><td>A</td><td>2</td><td>  200411</td><td>1101</td><td>T</td><td>0  </td><td>  0</td></tr>\n",
              "\t<tr><td>17437717</td><td>2013</td><td>  107</td><td>310</td><td>1</td><td>C</td><td>2</td><td>19990517</td><td>1101</td><td>P</td><td>5,4</td><td> 97</td></tr>\n",
              "\t<tr><td>12402017</td><td>2005</td><td>12567</td><td>110</td><td>1</td><td>E</td><td>2</td><td>19980603</td><td>1101</td><td>P</td><td>6,8</td><td> 98</td></tr>\n",
              "\t<tr><td> 5908063</td><td>2004</td><td>12655</td><td>310</td><td>1</td><td>A</td><td>2</td><td>19900203</td><td>1101</td><td>R</td><td>4,1</td><td> 97</td></tr>\n",
              "\t<tr><td> 5373833</td><td>2020</td><td>12534</td><td>110</td><td>6</td><td>C</td><td>2</td><td>  200901</td><td>1101</td><td>P</td><td>6,7</td><td> 85</td></tr>\n",
              "\t<tr><td>25135852</td><td>2017</td><td>12538</td><td>110</td><td>6</td><td>A</td><td>1</td><td>  200506</td><td>1101</td><td>P</td><td>5,9</td><td> 95</td></tr>\n",
              "\t<tr><td> 4454856</td><td>2003</td><td>12590</td><td>110</td><td>4</td><td>C</td><td>1</td><td>19940614</td><td>1101</td><td>P</td><td>6,2</td><td> 98</td></tr>\n",
              "\t<tr><td>16849889</td><td>2004</td><td>  117</td><td>110</td><td>4</td><td>B</td><td>2</td><td>19920506</td><td>1101</td><td>R</td><td>3,9</td><td> 76</td></tr>\n",
              "\t<tr><td> 2203186</td><td>2019</td><td>40320</td><td>310</td><td>4</td><td>A</td><td>1</td><td>  200104</td><td>1101</td><td>P</td><td>5,8</td><td> 91</td></tr>\n",
              "\t<tr><td>12569877</td><td>2007</td><td>12603</td><td>610</td><td>4</td><td>C</td><td>2</td><td>19890503</td><td>1101</td><td>P</td><td>5,7</td><td> 97</td></tr>\n",
              "\t<tr><td>14440840</td><td>2008</td><td>12741</td><td>310</td><td>2</td><td>A</td><td>1</td><td>19921214</td><td>1101</td><td>P</td><td>5  </td><td> 87</td></tr>\n",
              "\t<tr><td>16937008</td><td>2020</td><td>  125</td><td>110</td><td>2</td><td>C</td><td>2</td><td>  201210</td><td>1101</td><td>P</td><td>6,9</td><td>100</td></tr>\n",
              "\t<tr><td>21783875</td><td>2014</td><td>40177</td><td>110</td><td>2</td><td>A</td><td>2</td><td>20060615</td><td>1101</td><td>P</td><td>5,9</td><td> 89</td></tr>\n",
              "\t<tr><td> 4839026</td><td>2019</td><td>  114</td><td>110</td><td>1</td><td>B</td><td>1</td><td>  201210</td><td>1101</td><td>P</td><td>6,5</td><td> 87</td></tr>\n",
              "\t<tr><td> 5623953</td><td>2017</td><td>  116</td><td>110</td><td>8</td><td>B</td><td>1</td><td>  200309</td><td>1101</td><td>P</td><td>5  </td><td> 98</td></tr>\n",
              "\t<tr><td>12763774</td><td>2020</td><td>12591</td><td>310</td><td>3</td><td>C</td><td>2</td><td>  200302</td><td>1101</td><td>P</td><td>6,2</td><td>100</td></tr>\n",
              "\t<tr><td>22964797</td><td>2009</td><td>  132</td><td>310</td><td>4</td><td>B</td><td>1</td><td>19911205</td><td>1101</td><td>P</td><td>5,8</td><td> 98</td></tr>\n",
              "\t<tr><td> 7940737</td><td>2008</td><td>  132</td><td>110</td><td>5</td><td>C</td><td>1</td><td>19970822</td><td>1101</td><td>P</td><td>6,4</td><td> 96</td></tr>\n",
              "\t<tr><td>10926243</td><td>2012</td><td>  113</td><td>110</td><td>1</td><td>C</td><td>2</td><td>20050609</td><td>1101</td><td>R</td><td>3,9</td><td> 60</td></tr>\n",
              "\t<tr><td>17902302</td><td>2007</td><td>12667</td><td>110</td><td>3</td><td>A</td><td>1</td><td>19980922</td><td>1101</td><td>P</td><td>5,5</td><td> 93</td></tr>\n",
              "\t<tr><td>24624320</td><td>2014</td><td>12573</td><td>310</td><td>3</td><td>B</td><td>1</td><td>19980513</td><td>1101</td><td>P</td><td>5,5</td><td> 88</td></tr>\n",
              "\t<tr><td> 5948787</td><td>2005</td><td>12518</td><td>110</td><td>6</td><td>A</td><td>1</td><td>19940613</td><td>1101</td><td>P</td><td>5,4</td><td> 97</td></tr>\n",
              "\t<tr><td>11158686</td><td>2007</td><td>12518</td><td>110</td><td>2</td><td>A</td><td>2</td><td>20000303</td><td>1101</td><td>P</td><td>5,8</td><td> 94</td></tr>\n",
              "\t<tr><td> 8287698</td><td>2011</td><td>40295</td><td>110</td><td>5</td><td>B</td><td>1</td><td>20000918</td><td>1101</td><td>P</td><td>4,8</td><td> 94</td></tr>\n",
              "\t<tr><td>⋮</td><td>⋮</td><td>⋮</td><td>⋮</td><td>⋮</td><td>⋮</td><td>⋮</td><td>⋮</td><td>⋮</td><td>⋮</td><td>⋮</td><td>⋮</td></tr>\n",
              "\t<tr><td>19966788</td><td>2005</td><td>  132</td><td>110</td><td>8</td><td>A</td><td>1</td><td>19920301</td><td>1101</td><td>P</td><td>6,2</td><td> 97</td></tr>\n",
              "\t<tr><td>10957090</td><td>2014</td><td>  613</td><td>110</td><td>7</td><td>A</td><td>2</td><td>20010126</td><td>1101</td><td>P</td><td>4,9</td><td> 93</td></tr>\n",
              "\t<tr><td> 6569102</td><td>2013</td><td>  125</td><td>110</td><td>8</td><td>C</td><td>1</td><td>20000224</td><td>1101</td><td>P</td><td>5  </td><td> 89</td></tr>\n",
              "\t<tr><td> 8867417</td><td>2013</td><td>12741</td><td>310</td><td>4</td><td>A</td><td>2</td><td>19951127</td><td>1101</td><td>P</td><td>6,6</td><td> 94</td></tr>\n",
              "\t<tr><td>17674864</td><td>2009</td><td>  112</td><td>110</td><td>6</td><td>A</td><td>2</td><td>19971223</td><td>1101</td><td>P</td><td>5,5</td><td> 90</td></tr>\n",
              "\t<tr><td> 4387309</td><td>2020</td><td>  109</td><td>310</td><td>1</td><td>C</td><td>2</td><td>  200606</td><td>1101</td><td>P</td><td>4,7</td><td> 85</td></tr>\n",
              "\t<tr><td>16390215</td><td>2007</td><td>  144</td><td>110</td><td>1</td><td>A</td><td>2</td><td>20010321</td><td>1101</td><td>P</td><td>6,7</td><td> 96</td></tr>\n",
              "\t<tr><td> 5127121</td><td>2011</td><td>  108</td><td>610</td><td>3</td><td>B</td><td>2</td><td>19940729</td><td>1101</td><td>T</td><td>0  </td><td>  0</td></tr>\n",
              "\t<tr><td> 2431076</td><td>2014</td><td>12669</td><td>110</td><td>2</td><td>A</td><td>2</td><td>20061226</td><td>1101</td><td>P</td><td>6,7</td><td> 92</td></tr>\n",
              "\t<tr><td>13050188</td><td>2003</td><td>12682</td><td>110</td><td>1</td><td>C</td><td>1</td><td>19960718</td><td>1101</td><td>P</td><td>6,9</td><td> 87</td></tr>\n",
              "\t<tr><td>15375290</td><td>2018</td><td>12761</td><td>110</td><td>6</td><td>A</td><td>2</td><td>  200704</td><td>1101</td><td>P</td><td>6,4</td><td> 98</td></tr>\n",
              "\t<tr><td>21635495</td><td>2007</td><td>  111</td><td>110</td><td>8</td><td>B</td><td>1</td><td>19940314</td><td>1101</td><td>P</td><td>6,3</td><td> 98</td></tr>\n",
              "\t<tr><td> 8166220</td><td>2005</td><td>  114</td><td>110</td><td>7</td><td>B</td><td>2</td><td>19930312</td><td>1101</td><td>P</td><td>6,6</td><td> 99</td></tr>\n",
              "\t<tr><td> 2756526</td><td>2015</td><td>12591</td><td>310</td><td>1</td><td>C</td><td>2</td><td>  200102</td><td>1101</td><td>P</td><td>4,9</td><td> 92</td></tr>\n",
              "\t<tr><td>19572816</td><td>2007</td><td>12735</td><td>310</td><td>3</td><td>A</td><td>2</td><td>19910312</td><td>1101</td><td>P</td><td>5,3</td><td> 87</td></tr>\n",
              "\t<tr><td>12678528</td><td>2007</td><td>12683</td><td>310</td><td>1</td><td>A</td><td>2</td><td>19920722</td><td>1101</td><td>P</td><td>4,7</td><td> 98</td></tr>\n",
              "\t<tr><td>  480623</td><td>2006</td><td>  125</td><td>110</td><td>3</td><td>A</td><td>1</td><td>19960817</td><td>1101</td><td>P</td><td>5,6</td><td> 97</td></tr>\n",
              "\t<tr><td>18304201</td><td>2006</td><td>  144</td><td>110</td><td>2</td><td>A</td><td>2</td><td>19990524</td><td>1101</td><td>P</td><td>6,4</td><td> 85</td></tr>\n",
              "\t<tr><td>15550083</td><td>2005</td><td>12672</td><td>310</td><td>4</td><td>A</td><td>1</td><td>19870810</td><td>1101</td><td>P</td><td>5,7</td><td> 97</td></tr>\n",
              "\t<tr><td>14274095</td><td>2006</td><td>10901</td><td>110</td><td>1</td><td>C</td><td>1</td><td>20000127</td><td>1101</td><td>P</td><td>6,8</td><td> 98</td></tr>\n",
              "\t<tr><td> 6171787</td><td>2014</td><td>  123</td><td>165</td><td>3</td><td>A</td><td>2</td><td>19931108</td><td>1101</td><td>P</td><td>6,1</td><td>100</td></tr>\n",
              "\t<tr><td> 6326640</td><td>2010</td><td>  127</td><td>110</td><td>7</td><td>B</td><td>2</td><td>19970928</td><td>1101</td><td>P</td><td>5  </td><td> 90</td></tr>\n",
              "\t<tr><td> 8759873</td><td>2011</td><td>12594</td><td>310</td><td>3</td><td>A</td><td>2</td><td>19950513</td><td>1101</td><td>P</td><td>5,7</td><td> 92</td></tr>\n",
              "\t<tr><td>23984844</td><td>2017</td><td>  119</td><td>110</td><td>5</td><td>A</td><td>1</td><td>  200505</td><td>1101</td><td>T</td><td>0  </td><td>  0</td></tr>\n",
              "\t<tr><td>16773636</td><td>2019</td><td>  127</td><td>110</td><td>8</td><td>A</td><td>2</td><td>  200604</td><td>1101</td><td>P</td><td>6,3</td><td> 94</td></tr>\n",
              "\t<tr><td> 1347699</td><td>2004</td><td>12638</td><td>310</td><td>1</td><td>B</td><td>1</td><td>19900126</td><td>1101</td><td>P</td><td>6,2</td><td>100</td></tr>\n",
              "\t<tr><td> 3067957</td><td>2004</td><td>12591</td><td>110</td><td>6</td><td>B</td><td>1</td><td>19930309</td><td>1101</td><td>P</td><td>6,2</td><td> 99</td></tr>\n",
              "\t<tr><td>18371949</td><td>2009</td><td>12683</td><td>310</td><td>4</td><td>A</td><td>2</td><td>19910821</td><td>1101</td><td>P</td><td>6,5</td><td> 85</td></tr>\n",
              "\t<tr><td> 5113799</td><td>2019</td><td>40320</td><td>310</td><td>3</td><td>A</td><td>2</td><td>  200203</td><td>1101</td><td>T</td><td>0  </td><td>  0</td></tr>\n",
              "\t<tr><td> 3581450</td><td>2005</td><td>  116</td><td>110</td><td>8</td><td>A</td><td>1</td><td>19920116</td><td>1101</td><td>P</td><td>5,8</td><td> 96</td></tr>\n",
              "</tbody>\n",
              "</table>\n"
            ]
          },
          "metadata": {}
        }
      ]
    },
    {
      "cell_type": "code",
      "metadata": {
        "colab": {
          "base_uri": "https://localhost:8080/",
          "height": 1000
        },
        "id": "nzuhui5qTW9D",
        "outputId": "81396949-99c9-4eb6-a06a-9107b4272c32"
      },
      "source": [
        "rbind(sub,sub)"
      ],
      "execution_count": null,
      "outputs": [
        {
          "output_type": "display_data",
          "data": {
            "text/plain": [
              "    MRUN     AGNO RBD   COD_ENSE COD_GRADO LET_CUR GEN_ALU FEC_NAC_ALU\n",
              "1    9442572 2013   124 610      4         B       2       19950928   \n",
              "2   22884335 2005   111 110      7         B       1       19930116   \n",
              "3    7007030 2005 12567 110      6         E       2       19930920   \n",
              "4   20033518 2006 12603 110      8         B       2       19910803   \n",
              "5    2950048 2005   123 110      1         A       1       19981025   \n",
              "6   18476704 2006 12504 110      2         B       2       19990202   \n",
              "7   11389448 2010 40320 110      8         B       2       19970611   \n",
              "8    6219846 2004 12667 110      1         C       2       19971105   \n",
              "9   19159451 2011   108 510      3         I       1       19920502   \n",
              "10    465044 2007   134 110      1         A       2       20001013   \n",
              "11   1551590 2008   134 110      4         A       1       19990112   \n",
              "12   7715185 2010 12631 410      4         A       2       19920714   \n",
              "13  15624639 2006   123 110      7         A       2       19931004   \n",
              "14  23259786 2008   108 510      4         I       1       19900216   \n",
              "15   3430336 2016 12669 110      2         A       2         200812   \n",
              "16   3247241 2017    97 410      2         C       1         200004   \n",
              "17  25764383 2018   114 110      2         B       2         201001   \n",
              "18  13329210 2005 12686 110      4         A       2       19960128   \n",
              "19   6258891 2008 12604 310      4         B       1       19900526   \n",
              "20   3032664 2016   310 110      8         A       1         200211   \n",
              "21  23243239 2011   103 110      5         A       2       19990330   \n",
              "22   6583559 2006   122 110      1         A       2       20000219   \n",
              "23   7636509 2010 12573 110      4         A       2       20000725   \n",
              "24  14309172 2011  9078 310      3         B       2       19930602   \n",
              "25  11228621 2003 12515 110      2         A       1       19950706   \n",
              "26  25132223 2016   127 310      4         A       2         199903   \n",
              "27   9478425 2019 12573 110      4         A       2         200910   \n",
              "28  20187505 2011 12667 110      2         B       2       20030918   \n",
              "29  20027467 2010    97 463      4         A       2       19691227   \n",
              "30  11680066 2006 12649 310      1         B       1       19920301   \n",
              "⋮   ⋮        ⋮    ⋮     ⋮        ⋮         ⋮       ⋮       ⋮          \n",
              "227 11230609 2008   133 110      8         B       1       19941029   \n",
              "228 17495972 2011 12631 410      2         E       1       19960319   \n",
              "229  3404613 2012   132 110      7         A       1       19991203   \n",
              "230  9312121 2004   113 110      2         A       1       19960906   \n",
              "231  7440947 2015   124 510      4         C       1         199803   \n",
              "232  9253544 2005 12686 110      3         B       2       19970213   \n",
              "233  2437218 2005 12667 110      3         A       1       19960713   \n",
              "234 17435159 2004 12582 310      3         A       1       19880508   \n",
              "235 10315264 2020 12657 310      4         A       1         200109   \n",
              "236 21760191 2014 12657 310      1         A       1       19990315   \n",
              "237 20875916 2012   132 310      3         D       2       19951013   \n",
              "238 25497464 2017   125 110      4         A       1         200803   \n",
              "239 12263066 2013 12669 110      5         A       2       20030312   \n",
              "240  3454276 2012    97 463      4         B       2       19860524   \n",
              "241 24970963 2009 12683 110      3         A       1       20001218   \n",
              "242 18987510 2013 10900 110      2         B       2       20051220   \n",
              "243  5038233 2009 12504 363      3         B       2       19900607   \n",
              "244  7872028 2010 12504 363      1         A       1       19920513   \n",
              "245 21338307 2016 40295 310      4         A       2         199804   \n",
              "246 23366505 2003   125 110      8         C       2       19890826   \n",
              "247 12852785 2016   103 110      7         A       2         200211   \n",
              "248 17040880 2006 12686 110      8         B       2       19930503   \n",
              "249  4554836 2010   124 510      3         D       1       19910123   \n",
              "250 17179531 2006 12693 110      1         A       2       19991211   \n",
              "251 17726411 2015 40320 310      1         A       2         200106   \n",
              "252 11698146 2015 12631 110      2         A       1         200710   \n",
              "253   155473 2017   103 110      8         B       1         200402   \n",
              "254  2720178 2006 12602 110      3         A       2       19980220   \n",
              "255 24936765 2005   132 310      2         C       2       19890908   \n",
              "256  6272108 2014 12709 110      7         A       1       20001010   \n",
              "    COD_COM_ALU SIT_FIN_R PROM_GRAL ASISTENCIA\n",
              "1   1101        P         5,2        86       \n",
              "2   1101        R         4          75       \n",
              "3   1101        P         6,3        94       \n",
              "4   1101        P         4,8        99       \n",
              "5   1101        P         6,8        97       \n",
              "6   1101        P         6,5        96       \n",
              "7   1101        P         5,5        96       \n",
              "8   1101        P         6,4       100       \n",
              "9   1101        P         5          85       \n",
              "10  1101        T         0           0       \n",
              "11  1101        R         4,3        66       \n",
              "12  1101        P         5,9        93       \n",
              "13  1101        P         5,2        99       \n",
              "14  1101        P         4,6        84       \n",
              "15  1101        P         6,4        88       \n",
              "16  1101        P         5,5        81       \n",
              "17  1101        P         6,8        91       \n",
              "18  1101        P         5          85       \n",
              "19  1101        P         5,2        91       \n",
              "20  1101        P         5,8        94       \n",
              "21  1101        P         5,1        87       \n",
              "22  1101        P         6,3        91       \n",
              "23  1101        P         5,8        76       \n",
              "24  1101        R         4,2        42       \n",
              "25  1101        P         5,8        98       \n",
              "26  1101        P         5,4        84       \n",
              "27  1101        P         6,2        86       \n",
              "28  1101        P         6,7        86       \n",
              "29  1101        P         6,3        85       \n",
              "30  1101        P         5,3        95       \n",
              "⋮   ⋮           ⋮         ⋮         ⋮         \n",
              "227 1101        P         5          85       \n",
              "228 1101        T         0           0       \n",
              "229 1101        P         6,3        91       \n",
              "230 1101        P         5,6        97       \n",
              "231 1101        P         5,4        84       \n",
              "232 1101        P         6,7       100       \n",
              "233 1101        P         6,6        92       \n",
              "234 1101        P         5,5        97       \n",
              "235 1101        P         6,4        85       \n",
              "236 1101        P         6,2       100       \n",
              "237 1101        P         6,1        94       \n",
              "238 1101        Y         0           0       \n",
              "239 1101        P         6,4        88       \n",
              "240 1101        P         5,1        64       \n",
              "241 1101        P         6,1        94       \n",
              "242 1101        P         6,7        95       \n",
              "243 1101        Y         0           0       \n",
              "244 1101        Y         0           0       \n",
              "245 1101        P         5,4        87       \n",
              "246 1101        P         6,5        99       \n",
              "247 1101        P         5,8        82       \n",
              "248 1101        P         4,9        93       \n",
              "249 1101        Y         0           0       \n",
              "250 1101        P         6,8       100       \n",
              "251 1101        P         5,8        94       \n",
              "252 1101        P         6,2        80       \n",
              "253 1101        P         5,5        94       \n",
              "254 1101        P         5,7        90       \n",
              "255 1101        P         6,9       100       \n",
              "256 1101        P         5          85       "
            ],
            "text/latex": "A data.frame: 256 × 12\n\\begin{tabular}{llllllllllll}\n MRUN & AGNO & RBD & COD\\_ENSE & COD\\_GRADO & LET\\_CUR & GEN\\_ALU & FEC\\_NAC\\_ALU & COD\\_COM\\_ALU & SIT\\_FIN\\_R & PROM\\_GRAL & ASISTENCIA\\\\\n <int> & <int> & <int> & <int> & <int> & <chr> & <int> & <int> & <int> & <chr> & <chr> & <int>\\\\\n\\hline\n\t  9442572 & 2013 &   124 & 610 & 4 & B & 2 & 19950928 & 1101 & P & 5,2 &  86\\\\\n\t 22884335 & 2005 &   111 & 110 & 7 & B & 1 & 19930116 & 1101 & R & 4   &  75\\\\\n\t  7007030 & 2005 & 12567 & 110 & 6 & E & 2 & 19930920 & 1101 & P & 6,3 &  94\\\\\n\t 20033518 & 2006 & 12603 & 110 & 8 & B & 2 & 19910803 & 1101 & P & 4,8 &  99\\\\\n\t  2950048 & 2005 &   123 & 110 & 1 & A & 1 & 19981025 & 1101 & P & 6,8 &  97\\\\\n\t 18476704 & 2006 & 12504 & 110 & 2 & B & 2 & 19990202 & 1101 & P & 6,5 &  96\\\\\n\t 11389448 & 2010 & 40320 & 110 & 8 & B & 2 & 19970611 & 1101 & P & 5,5 &  96\\\\\n\t  6219846 & 2004 & 12667 & 110 & 1 & C & 2 & 19971105 & 1101 & P & 6,4 & 100\\\\\n\t 19159451 & 2011 &   108 & 510 & 3 & I & 1 & 19920502 & 1101 & P & 5   &  85\\\\\n\t   465044 & 2007 &   134 & 110 & 1 & A & 2 & 20001013 & 1101 & T & 0   &   0\\\\\n\t  1551590 & 2008 &   134 & 110 & 4 & A & 1 & 19990112 & 1101 & R & 4,3 &  66\\\\\n\t  7715185 & 2010 & 12631 & 410 & 4 & A & 2 & 19920714 & 1101 & P & 5,9 &  93\\\\\n\t 15624639 & 2006 &   123 & 110 & 7 & A & 2 & 19931004 & 1101 & P & 5,2 &  99\\\\\n\t 23259786 & 2008 &   108 & 510 & 4 & I & 1 & 19900216 & 1101 & P & 4,6 &  84\\\\\n\t  3430336 & 2016 & 12669 & 110 & 2 & A & 2 &   200812 & 1101 & P & 6,4 &  88\\\\\n\t  3247241 & 2017 &    97 & 410 & 2 & C & 1 &   200004 & 1101 & P & 5,5 &  81\\\\\n\t 25764383 & 2018 &   114 & 110 & 2 & B & 2 &   201001 & 1101 & P & 6,8 &  91\\\\\n\t 13329210 & 2005 & 12686 & 110 & 4 & A & 2 & 19960128 & 1101 & P & 5   &  85\\\\\n\t  6258891 & 2008 & 12604 & 310 & 4 & B & 1 & 19900526 & 1101 & P & 5,2 &  91\\\\\n\t  3032664 & 2016 &   310 & 110 & 8 & A & 1 &   200211 & 1101 & P & 5,8 &  94\\\\\n\t 23243239 & 2011 &   103 & 110 & 5 & A & 2 & 19990330 & 1101 & P & 5,1 &  87\\\\\n\t  6583559 & 2006 &   122 & 110 & 1 & A & 2 & 20000219 & 1101 & P & 6,3 &  91\\\\\n\t  7636509 & 2010 & 12573 & 110 & 4 & A & 2 & 20000725 & 1101 & P & 5,8 &  76\\\\\n\t 14309172 & 2011 &  9078 & 310 & 3 & B & 2 & 19930602 & 1101 & R & 4,2 &  42\\\\\n\t 11228621 & 2003 & 12515 & 110 & 2 & A & 1 & 19950706 & 1101 & P & 5,8 &  98\\\\\n\t 25132223 & 2016 &   127 & 310 & 4 & A & 2 &   199903 & 1101 & P & 5,4 &  84\\\\\n\t  9478425 & 2019 & 12573 & 110 & 4 & A & 2 &   200910 & 1101 & P & 6,2 &  86\\\\\n\t 20187505 & 2011 & 12667 & 110 & 2 & B & 2 & 20030918 & 1101 & P & 6,7 &  86\\\\\n\t 20027467 & 2010 &    97 & 463 & 4 & A & 2 & 19691227 & 1101 & P & 6,3 &  85\\\\\n\t 11680066 & 2006 & 12649 & 310 & 1 & B & 1 & 19920301 & 1101 & P & 5,3 &  95\\\\\n\t ⋮ & ⋮ & ⋮ & ⋮ & ⋮ & ⋮ & ⋮ & ⋮ & ⋮ & ⋮ & ⋮ & ⋮\\\\\n\t 11230609 & 2008 &   133 & 110 & 8 & B & 1 & 19941029 & 1101 & P & 5   &  85\\\\\n\t 17495972 & 2011 & 12631 & 410 & 2 & E & 1 & 19960319 & 1101 & T & 0   &   0\\\\\n\t  3404613 & 2012 &   132 & 110 & 7 & A & 1 & 19991203 & 1101 & P & 6,3 &  91\\\\\n\t  9312121 & 2004 &   113 & 110 & 2 & A & 1 & 19960906 & 1101 & P & 5,6 &  97\\\\\n\t  7440947 & 2015 &   124 & 510 & 4 & C & 1 &   199803 & 1101 & P & 5,4 &  84\\\\\n\t  9253544 & 2005 & 12686 & 110 & 3 & B & 2 & 19970213 & 1101 & P & 6,7 & 100\\\\\n\t  2437218 & 2005 & 12667 & 110 & 3 & A & 1 & 19960713 & 1101 & P & 6,6 &  92\\\\\n\t 17435159 & 2004 & 12582 & 310 & 3 & A & 1 & 19880508 & 1101 & P & 5,5 &  97\\\\\n\t 10315264 & 2020 & 12657 & 310 & 4 & A & 1 &   200109 & 1101 & P & 6,4 &  85\\\\\n\t 21760191 & 2014 & 12657 & 310 & 1 & A & 1 & 19990315 & 1101 & P & 6,2 & 100\\\\\n\t 20875916 & 2012 &   132 & 310 & 3 & D & 2 & 19951013 & 1101 & P & 6,1 &  94\\\\\n\t 25497464 & 2017 &   125 & 110 & 4 & A & 1 &   200803 & 1101 & Y & 0   &   0\\\\\n\t 12263066 & 2013 & 12669 & 110 & 5 & A & 2 & 20030312 & 1101 & P & 6,4 &  88\\\\\n\t  3454276 & 2012 &    97 & 463 & 4 & B & 2 & 19860524 & 1101 & P & 5,1 &  64\\\\\n\t 24970963 & 2009 & 12683 & 110 & 3 & A & 1 & 20001218 & 1101 & P & 6,1 &  94\\\\\n\t 18987510 & 2013 & 10900 & 110 & 2 & B & 2 & 20051220 & 1101 & P & 6,7 &  95\\\\\n\t  5038233 & 2009 & 12504 & 363 & 3 & B & 2 & 19900607 & 1101 & Y & 0   &   0\\\\\n\t  7872028 & 2010 & 12504 & 363 & 1 & A & 1 & 19920513 & 1101 & Y & 0   &   0\\\\\n\t 21338307 & 2016 & 40295 & 310 & 4 & A & 2 &   199804 & 1101 & P & 5,4 &  87\\\\\n\t 23366505 & 2003 &   125 & 110 & 8 & C & 2 & 19890826 & 1101 & P & 6,5 &  99\\\\\n\t 12852785 & 2016 &   103 & 110 & 7 & A & 2 &   200211 & 1101 & P & 5,8 &  82\\\\\n\t 17040880 & 2006 & 12686 & 110 & 8 & B & 2 & 19930503 & 1101 & P & 4,9 &  93\\\\\n\t  4554836 & 2010 &   124 & 510 & 3 & D & 1 & 19910123 & 1101 & Y & 0   &   0\\\\\n\t 17179531 & 2006 & 12693 & 110 & 1 & A & 2 & 19991211 & 1101 & P & 6,8 & 100\\\\\n\t 17726411 & 2015 & 40320 & 310 & 1 & A & 2 &   200106 & 1101 & P & 5,8 &  94\\\\\n\t 11698146 & 2015 & 12631 & 110 & 2 & A & 1 &   200710 & 1101 & P & 6,2 &  80\\\\\n\t   155473 & 2017 &   103 & 110 & 8 & B & 1 &   200402 & 1101 & P & 5,5 &  94\\\\\n\t  2720178 & 2006 & 12602 & 110 & 3 & A & 2 & 19980220 & 1101 & P & 5,7 &  90\\\\\n\t 24936765 & 2005 &   132 & 310 & 2 & C & 2 & 19890908 & 1101 & P & 6,9 & 100\\\\\n\t  6272108 & 2014 & 12709 & 110 & 7 & A & 1 & 20001010 & 1101 & P & 5   &  85\\\\\n\\end{tabular}\n",
            "text/markdown": "\nA data.frame: 256 × 12\n\n| MRUN &lt;int&gt; | AGNO &lt;int&gt; | RBD &lt;int&gt; | COD_ENSE &lt;int&gt; | COD_GRADO &lt;int&gt; | LET_CUR &lt;chr&gt; | GEN_ALU &lt;int&gt; | FEC_NAC_ALU &lt;int&gt; | COD_COM_ALU &lt;int&gt; | SIT_FIN_R &lt;chr&gt; | PROM_GRAL &lt;chr&gt; | ASISTENCIA &lt;int&gt; |\n|---|---|---|---|---|---|---|---|---|---|---|---|\n|  9442572 | 2013 |   124 | 610 | 4 | B | 2 | 19950928 | 1101 | P | 5,2 |  86 |\n| 22884335 | 2005 |   111 | 110 | 7 | B | 1 | 19930116 | 1101 | R | 4   |  75 |\n|  7007030 | 2005 | 12567 | 110 | 6 | E | 2 | 19930920 | 1101 | P | 6,3 |  94 |\n| 20033518 | 2006 | 12603 | 110 | 8 | B | 2 | 19910803 | 1101 | P | 4,8 |  99 |\n|  2950048 | 2005 |   123 | 110 | 1 | A | 1 | 19981025 | 1101 | P | 6,8 |  97 |\n| 18476704 | 2006 | 12504 | 110 | 2 | B | 2 | 19990202 | 1101 | P | 6,5 |  96 |\n| 11389448 | 2010 | 40320 | 110 | 8 | B | 2 | 19970611 | 1101 | P | 5,5 |  96 |\n|  6219846 | 2004 | 12667 | 110 | 1 | C | 2 | 19971105 | 1101 | P | 6,4 | 100 |\n| 19159451 | 2011 |   108 | 510 | 3 | I | 1 | 19920502 | 1101 | P | 5   |  85 |\n|   465044 | 2007 |   134 | 110 | 1 | A | 2 | 20001013 | 1101 | T | 0   |   0 |\n|  1551590 | 2008 |   134 | 110 | 4 | A | 1 | 19990112 | 1101 | R | 4,3 |  66 |\n|  7715185 | 2010 | 12631 | 410 | 4 | A | 2 | 19920714 | 1101 | P | 5,9 |  93 |\n| 15624639 | 2006 |   123 | 110 | 7 | A | 2 | 19931004 | 1101 | P | 5,2 |  99 |\n| 23259786 | 2008 |   108 | 510 | 4 | I | 1 | 19900216 | 1101 | P | 4,6 |  84 |\n|  3430336 | 2016 | 12669 | 110 | 2 | A | 2 |   200812 | 1101 | P | 6,4 |  88 |\n|  3247241 | 2017 |    97 | 410 | 2 | C | 1 |   200004 | 1101 | P | 5,5 |  81 |\n| 25764383 | 2018 |   114 | 110 | 2 | B | 2 |   201001 | 1101 | P | 6,8 |  91 |\n| 13329210 | 2005 | 12686 | 110 | 4 | A | 2 | 19960128 | 1101 | P | 5   |  85 |\n|  6258891 | 2008 | 12604 | 310 | 4 | B | 1 | 19900526 | 1101 | P | 5,2 |  91 |\n|  3032664 | 2016 |   310 | 110 | 8 | A | 1 |   200211 | 1101 | P | 5,8 |  94 |\n| 23243239 | 2011 |   103 | 110 | 5 | A | 2 | 19990330 | 1101 | P | 5,1 |  87 |\n|  6583559 | 2006 |   122 | 110 | 1 | A | 2 | 20000219 | 1101 | P | 6,3 |  91 |\n|  7636509 | 2010 | 12573 | 110 | 4 | A | 2 | 20000725 | 1101 | P | 5,8 |  76 |\n| 14309172 | 2011 |  9078 | 310 | 3 | B | 2 | 19930602 | 1101 | R | 4,2 |  42 |\n| 11228621 | 2003 | 12515 | 110 | 2 | A | 1 | 19950706 | 1101 | P | 5,8 |  98 |\n| 25132223 | 2016 |   127 | 310 | 4 | A | 2 |   199903 | 1101 | P | 5,4 |  84 |\n|  9478425 | 2019 | 12573 | 110 | 4 | A | 2 |   200910 | 1101 | P | 6,2 |  86 |\n| 20187505 | 2011 | 12667 | 110 | 2 | B | 2 | 20030918 | 1101 | P | 6,7 |  86 |\n| 20027467 | 2010 |    97 | 463 | 4 | A | 2 | 19691227 | 1101 | P | 6,3 |  85 |\n| 11680066 | 2006 | 12649 | 310 | 1 | B | 1 | 19920301 | 1101 | P | 5,3 |  95 |\n| ⋮ | ⋮ | ⋮ | ⋮ | ⋮ | ⋮ | ⋮ | ⋮ | ⋮ | ⋮ | ⋮ | ⋮ |\n| 11230609 | 2008 |   133 | 110 | 8 | B | 1 | 19941029 | 1101 | P | 5   |  85 |\n| 17495972 | 2011 | 12631 | 410 | 2 | E | 1 | 19960319 | 1101 | T | 0   |   0 |\n|  3404613 | 2012 |   132 | 110 | 7 | A | 1 | 19991203 | 1101 | P | 6,3 |  91 |\n|  9312121 | 2004 |   113 | 110 | 2 | A | 1 | 19960906 | 1101 | P | 5,6 |  97 |\n|  7440947 | 2015 |   124 | 510 | 4 | C | 1 |   199803 | 1101 | P | 5,4 |  84 |\n|  9253544 | 2005 | 12686 | 110 | 3 | B | 2 | 19970213 | 1101 | P | 6,7 | 100 |\n|  2437218 | 2005 | 12667 | 110 | 3 | A | 1 | 19960713 | 1101 | P | 6,6 |  92 |\n| 17435159 | 2004 | 12582 | 310 | 3 | A | 1 | 19880508 | 1101 | P | 5,5 |  97 |\n| 10315264 | 2020 | 12657 | 310 | 4 | A | 1 |   200109 | 1101 | P | 6,4 |  85 |\n| 21760191 | 2014 | 12657 | 310 | 1 | A | 1 | 19990315 | 1101 | P | 6,2 | 100 |\n| 20875916 | 2012 |   132 | 310 | 3 | D | 2 | 19951013 | 1101 | P | 6,1 |  94 |\n| 25497464 | 2017 |   125 | 110 | 4 | A | 1 |   200803 | 1101 | Y | 0   |   0 |\n| 12263066 | 2013 | 12669 | 110 | 5 | A | 2 | 20030312 | 1101 | P | 6,4 |  88 |\n|  3454276 | 2012 |    97 | 463 | 4 | B | 2 | 19860524 | 1101 | P | 5,1 |  64 |\n| 24970963 | 2009 | 12683 | 110 | 3 | A | 1 | 20001218 | 1101 | P | 6,1 |  94 |\n| 18987510 | 2013 | 10900 | 110 | 2 | B | 2 | 20051220 | 1101 | P | 6,7 |  95 |\n|  5038233 | 2009 | 12504 | 363 | 3 | B | 2 | 19900607 | 1101 | Y | 0   |   0 |\n|  7872028 | 2010 | 12504 | 363 | 1 | A | 1 | 19920513 | 1101 | Y | 0   |   0 |\n| 21338307 | 2016 | 40295 | 310 | 4 | A | 2 |   199804 | 1101 | P | 5,4 |  87 |\n| 23366505 | 2003 |   125 | 110 | 8 | C | 2 | 19890826 | 1101 | P | 6,5 |  99 |\n| 12852785 | 2016 |   103 | 110 | 7 | A | 2 |   200211 | 1101 | P | 5,8 |  82 |\n| 17040880 | 2006 | 12686 | 110 | 8 | B | 2 | 19930503 | 1101 | P | 4,9 |  93 |\n|  4554836 | 2010 |   124 | 510 | 3 | D | 1 | 19910123 | 1101 | Y | 0   |   0 |\n| 17179531 | 2006 | 12693 | 110 | 1 | A | 2 | 19991211 | 1101 | P | 6,8 | 100 |\n| 17726411 | 2015 | 40320 | 310 | 1 | A | 2 |   200106 | 1101 | P | 5,8 |  94 |\n| 11698146 | 2015 | 12631 | 110 | 2 | A | 1 |   200710 | 1101 | P | 6,2 |  80 |\n|   155473 | 2017 |   103 | 110 | 8 | B | 1 |   200402 | 1101 | P | 5,5 |  94 |\n|  2720178 | 2006 | 12602 | 110 | 3 | A | 2 | 19980220 | 1101 | P | 5,7 |  90 |\n| 24936765 | 2005 |   132 | 310 | 2 | C | 2 | 19890908 | 1101 | P | 6,9 | 100 |\n|  6272108 | 2014 | 12709 | 110 | 7 | A | 1 | 20001010 | 1101 | P | 5   |  85 |\n\n",
            "text/html": [
              "<table class=\"dataframe\">\n",
              "<caption>A data.frame: 256 × 12</caption>\n",
              "<thead>\n",
              "\t<tr><th scope=col>MRUN</th><th scope=col>AGNO</th><th scope=col>RBD</th><th scope=col>COD_ENSE</th><th scope=col>COD_GRADO</th><th scope=col>LET_CUR</th><th scope=col>GEN_ALU</th><th scope=col>FEC_NAC_ALU</th><th scope=col>COD_COM_ALU</th><th scope=col>SIT_FIN_R</th><th scope=col>PROM_GRAL</th><th scope=col>ASISTENCIA</th></tr>\n",
              "\t<tr><th scope=col>&lt;int&gt;</th><th scope=col>&lt;int&gt;</th><th scope=col>&lt;int&gt;</th><th scope=col>&lt;int&gt;</th><th scope=col>&lt;int&gt;</th><th scope=col>&lt;chr&gt;</th><th scope=col>&lt;int&gt;</th><th scope=col>&lt;int&gt;</th><th scope=col>&lt;int&gt;</th><th scope=col>&lt;chr&gt;</th><th scope=col>&lt;chr&gt;</th><th scope=col>&lt;int&gt;</th></tr>\n",
              "</thead>\n",
              "<tbody>\n",
              "\t<tr><td> 9442572</td><td>2013</td><td>  124</td><td>610</td><td>4</td><td>B</td><td>2</td><td>19950928</td><td>1101</td><td>P</td><td>5,2</td><td> 86</td></tr>\n",
              "\t<tr><td>22884335</td><td>2005</td><td>  111</td><td>110</td><td>7</td><td>B</td><td>1</td><td>19930116</td><td>1101</td><td>R</td><td>4  </td><td> 75</td></tr>\n",
              "\t<tr><td> 7007030</td><td>2005</td><td>12567</td><td>110</td><td>6</td><td>E</td><td>2</td><td>19930920</td><td>1101</td><td>P</td><td>6,3</td><td> 94</td></tr>\n",
              "\t<tr><td>20033518</td><td>2006</td><td>12603</td><td>110</td><td>8</td><td>B</td><td>2</td><td>19910803</td><td>1101</td><td>P</td><td>4,8</td><td> 99</td></tr>\n",
              "\t<tr><td> 2950048</td><td>2005</td><td>  123</td><td>110</td><td>1</td><td>A</td><td>1</td><td>19981025</td><td>1101</td><td>P</td><td>6,8</td><td> 97</td></tr>\n",
              "\t<tr><td>18476704</td><td>2006</td><td>12504</td><td>110</td><td>2</td><td>B</td><td>2</td><td>19990202</td><td>1101</td><td>P</td><td>6,5</td><td> 96</td></tr>\n",
              "\t<tr><td>11389448</td><td>2010</td><td>40320</td><td>110</td><td>8</td><td>B</td><td>2</td><td>19970611</td><td>1101</td><td>P</td><td>5,5</td><td> 96</td></tr>\n",
              "\t<tr><td> 6219846</td><td>2004</td><td>12667</td><td>110</td><td>1</td><td>C</td><td>2</td><td>19971105</td><td>1101</td><td>P</td><td>6,4</td><td>100</td></tr>\n",
              "\t<tr><td>19159451</td><td>2011</td><td>  108</td><td>510</td><td>3</td><td>I</td><td>1</td><td>19920502</td><td>1101</td><td>P</td><td>5  </td><td> 85</td></tr>\n",
              "\t<tr><td>  465044</td><td>2007</td><td>  134</td><td>110</td><td>1</td><td>A</td><td>2</td><td>20001013</td><td>1101</td><td>T</td><td>0  </td><td>  0</td></tr>\n",
              "\t<tr><td> 1551590</td><td>2008</td><td>  134</td><td>110</td><td>4</td><td>A</td><td>1</td><td>19990112</td><td>1101</td><td>R</td><td>4,3</td><td> 66</td></tr>\n",
              "\t<tr><td> 7715185</td><td>2010</td><td>12631</td><td>410</td><td>4</td><td>A</td><td>2</td><td>19920714</td><td>1101</td><td>P</td><td>5,9</td><td> 93</td></tr>\n",
              "\t<tr><td>15624639</td><td>2006</td><td>  123</td><td>110</td><td>7</td><td>A</td><td>2</td><td>19931004</td><td>1101</td><td>P</td><td>5,2</td><td> 99</td></tr>\n",
              "\t<tr><td>23259786</td><td>2008</td><td>  108</td><td>510</td><td>4</td><td>I</td><td>1</td><td>19900216</td><td>1101</td><td>P</td><td>4,6</td><td> 84</td></tr>\n",
              "\t<tr><td> 3430336</td><td>2016</td><td>12669</td><td>110</td><td>2</td><td>A</td><td>2</td><td>  200812</td><td>1101</td><td>P</td><td>6,4</td><td> 88</td></tr>\n",
              "\t<tr><td> 3247241</td><td>2017</td><td>   97</td><td>410</td><td>2</td><td>C</td><td>1</td><td>  200004</td><td>1101</td><td>P</td><td>5,5</td><td> 81</td></tr>\n",
              "\t<tr><td>25764383</td><td>2018</td><td>  114</td><td>110</td><td>2</td><td>B</td><td>2</td><td>  201001</td><td>1101</td><td>P</td><td>6,8</td><td> 91</td></tr>\n",
              "\t<tr><td>13329210</td><td>2005</td><td>12686</td><td>110</td><td>4</td><td>A</td><td>2</td><td>19960128</td><td>1101</td><td>P</td><td>5  </td><td> 85</td></tr>\n",
              "\t<tr><td> 6258891</td><td>2008</td><td>12604</td><td>310</td><td>4</td><td>B</td><td>1</td><td>19900526</td><td>1101</td><td>P</td><td>5,2</td><td> 91</td></tr>\n",
              "\t<tr><td> 3032664</td><td>2016</td><td>  310</td><td>110</td><td>8</td><td>A</td><td>1</td><td>  200211</td><td>1101</td><td>P</td><td>5,8</td><td> 94</td></tr>\n",
              "\t<tr><td>23243239</td><td>2011</td><td>  103</td><td>110</td><td>5</td><td>A</td><td>2</td><td>19990330</td><td>1101</td><td>P</td><td>5,1</td><td> 87</td></tr>\n",
              "\t<tr><td> 6583559</td><td>2006</td><td>  122</td><td>110</td><td>1</td><td>A</td><td>2</td><td>20000219</td><td>1101</td><td>P</td><td>6,3</td><td> 91</td></tr>\n",
              "\t<tr><td> 7636509</td><td>2010</td><td>12573</td><td>110</td><td>4</td><td>A</td><td>2</td><td>20000725</td><td>1101</td><td>P</td><td>5,8</td><td> 76</td></tr>\n",
              "\t<tr><td>14309172</td><td>2011</td><td> 9078</td><td>310</td><td>3</td><td>B</td><td>2</td><td>19930602</td><td>1101</td><td>R</td><td>4,2</td><td> 42</td></tr>\n",
              "\t<tr><td>11228621</td><td>2003</td><td>12515</td><td>110</td><td>2</td><td>A</td><td>1</td><td>19950706</td><td>1101</td><td>P</td><td>5,8</td><td> 98</td></tr>\n",
              "\t<tr><td>25132223</td><td>2016</td><td>  127</td><td>310</td><td>4</td><td>A</td><td>2</td><td>  199903</td><td>1101</td><td>P</td><td>5,4</td><td> 84</td></tr>\n",
              "\t<tr><td> 9478425</td><td>2019</td><td>12573</td><td>110</td><td>4</td><td>A</td><td>2</td><td>  200910</td><td>1101</td><td>P</td><td>6,2</td><td> 86</td></tr>\n",
              "\t<tr><td>20187505</td><td>2011</td><td>12667</td><td>110</td><td>2</td><td>B</td><td>2</td><td>20030918</td><td>1101</td><td>P</td><td>6,7</td><td> 86</td></tr>\n",
              "\t<tr><td>20027467</td><td>2010</td><td>   97</td><td>463</td><td>4</td><td>A</td><td>2</td><td>19691227</td><td>1101</td><td>P</td><td>6,3</td><td> 85</td></tr>\n",
              "\t<tr><td>11680066</td><td>2006</td><td>12649</td><td>310</td><td>1</td><td>B</td><td>1</td><td>19920301</td><td>1101</td><td>P</td><td>5,3</td><td> 95</td></tr>\n",
              "\t<tr><td>⋮</td><td>⋮</td><td>⋮</td><td>⋮</td><td>⋮</td><td>⋮</td><td>⋮</td><td>⋮</td><td>⋮</td><td>⋮</td><td>⋮</td><td>⋮</td></tr>\n",
              "\t<tr><td>11230609</td><td>2008</td><td>  133</td><td>110</td><td>8</td><td>B</td><td>1</td><td>19941029</td><td>1101</td><td>P</td><td>5  </td><td> 85</td></tr>\n",
              "\t<tr><td>17495972</td><td>2011</td><td>12631</td><td>410</td><td>2</td><td>E</td><td>1</td><td>19960319</td><td>1101</td><td>T</td><td>0  </td><td>  0</td></tr>\n",
              "\t<tr><td> 3404613</td><td>2012</td><td>  132</td><td>110</td><td>7</td><td>A</td><td>1</td><td>19991203</td><td>1101</td><td>P</td><td>6,3</td><td> 91</td></tr>\n",
              "\t<tr><td> 9312121</td><td>2004</td><td>  113</td><td>110</td><td>2</td><td>A</td><td>1</td><td>19960906</td><td>1101</td><td>P</td><td>5,6</td><td> 97</td></tr>\n",
              "\t<tr><td> 7440947</td><td>2015</td><td>  124</td><td>510</td><td>4</td><td>C</td><td>1</td><td>  199803</td><td>1101</td><td>P</td><td>5,4</td><td> 84</td></tr>\n",
              "\t<tr><td> 9253544</td><td>2005</td><td>12686</td><td>110</td><td>3</td><td>B</td><td>2</td><td>19970213</td><td>1101</td><td>P</td><td>6,7</td><td>100</td></tr>\n",
              "\t<tr><td> 2437218</td><td>2005</td><td>12667</td><td>110</td><td>3</td><td>A</td><td>1</td><td>19960713</td><td>1101</td><td>P</td><td>6,6</td><td> 92</td></tr>\n",
              "\t<tr><td>17435159</td><td>2004</td><td>12582</td><td>310</td><td>3</td><td>A</td><td>1</td><td>19880508</td><td>1101</td><td>P</td><td>5,5</td><td> 97</td></tr>\n",
              "\t<tr><td>10315264</td><td>2020</td><td>12657</td><td>310</td><td>4</td><td>A</td><td>1</td><td>  200109</td><td>1101</td><td>P</td><td>6,4</td><td> 85</td></tr>\n",
              "\t<tr><td>21760191</td><td>2014</td><td>12657</td><td>310</td><td>1</td><td>A</td><td>1</td><td>19990315</td><td>1101</td><td>P</td><td>6,2</td><td>100</td></tr>\n",
              "\t<tr><td>20875916</td><td>2012</td><td>  132</td><td>310</td><td>3</td><td>D</td><td>2</td><td>19951013</td><td>1101</td><td>P</td><td>6,1</td><td> 94</td></tr>\n",
              "\t<tr><td>25497464</td><td>2017</td><td>  125</td><td>110</td><td>4</td><td>A</td><td>1</td><td>  200803</td><td>1101</td><td>Y</td><td>0  </td><td>  0</td></tr>\n",
              "\t<tr><td>12263066</td><td>2013</td><td>12669</td><td>110</td><td>5</td><td>A</td><td>2</td><td>20030312</td><td>1101</td><td>P</td><td>6,4</td><td> 88</td></tr>\n",
              "\t<tr><td> 3454276</td><td>2012</td><td>   97</td><td>463</td><td>4</td><td>B</td><td>2</td><td>19860524</td><td>1101</td><td>P</td><td>5,1</td><td> 64</td></tr>\n",
              "\t<tr><td>24970963</td><td>2009</td><td>12683</td><td>110</td><td>3</td><td>A</td><td>1</td><td>20001218</td><td>1101</td><td>P</td><td>6,1</td><td> 94</td></tr>\n",
              "\t<tr><td>18987510</td><td>2013</td><td>10900</td><td>110</td><td>2</td><td>B</td><td>2</td><td>20051220</td><td>1101</td><td>P</td><td>6,7</td><td> 95</td></tr>\n",
              "\t<tr><td> 5038233</td><td>2009</td><td>12504</td><td>363</td><td>3</td><td>B</td><td>2</td><td>19900607</td><td>1101</td><td>Y</td><td>0  </td><td>  0</td></tr>\n",
              "\t<tr><td> 7872028</td><td>2010</td><td>12504</td><td>363</td><td>1</td><td>A</td><td>1</td><td>19920513</td><td>1101</td><td>Y</td><td>0  </td><td>  0</td></tr>\n",
              "\t<tr><td>21338307</td><td>2016</td><td>40295</td><td>310</td><td>4</td><td>A</td><td>2</td><td>  199804</td><td>1101</td><td>P</td><td>5,4</td><td> 87</td></tr>\n",
              "\t<tr><td>23366505</td><td>2003</td><td>  125</td><td>110</td><td>8</td><td>C</td><td>2</td><td>19890826</td><td>1101</td><td>P</td><td>6,5</td><td> 99</td></tr>\n",
              "\t<tr><td>12852785</td><td>2016</td><td>  103</td><td>110</td><td>7</td><td>A</td><td>2</td><td>  200211</td><td>1101</td><td>P</td><td>5,8</td><td> 82</td></tr>\n",
              "\t<tr><td>17040880</td><td>2006</td><td>12686</td><td>110</td><td>8</td><td>B</td><td>2</td><td>19930503</td><td>1101</td><td>P</td><td>4,9</td><td> 93</td></tr>\n",
              "\t<tr><td> 4554836</td><td>2010</td><td>  124</td><td>510</td><td>3</td><td>D</td><td>1</td><td>19910123</td><td>1101</td><td>Y</td><td>0  </td><td>  0</td></tr>\n",
              "\t<tr><td>17179531</td><td>2006</td><td>12693</td><td>110</td><td>1</td><td>A</td><td>2</td><td>19991211</td><td>1101</td><td>P</td><td>6,8</td><td>100</td></tr>\n",
              "\t<tr><td>17726411</td><td>2015</td><td>40320</td><td>310</td><td>1</td><td>A</td><td>2</td><td>  200106</td><td>1101</td><td>P</td><td>5,8</td><td> 94</td></tr>\n",
              "\t<tr><td>11698146</td><td>2015</td><td>12631</td><td>110</td><td>2</td><td>A</td><td>1</td><td>  200710</td><td>1101</td><td>P</td><td>6,2</td><td> 80</td></tr>\n",
              "\t<tr><td>  155473</td><td>2017</td><td>  103</td><td>110</td><td>8</td><td>B</td><td>1</td><td>  200402</td><td>1101</td><td>P</td><td>5,5</td><td> 94</td></tr>\n",
              "\t<tr><td> 2720178</td><td>2006</td><td>12602</td><td>110</td><td>3</td><td>A</td><td>2</td><td>19980220</td><td>1101</td><td>P</td><td>5,7</td><td> 90</td></tr>\n",
              "\t<tr><td>24936765</td><td>2005</td><td>  132</td><td>310</td><td>2</td><td>C</td><td>2</td><td>19890908</td><td>1101</td><td>P</td><td>6,9</td><td>100</td></tr>\n",
              "\t<tr><td> 6272108</td><td>2014</td><td>12709</td><td>110</td><td>7</td><td>A</td><td>1</td><td>20001010</td><td>1101</td><td>P</td><td>5  </td><td> 85</td></tr>\n",
              "</tbody>\n",
              "</table>\n"
            ]
          },
          "metadata": {}
        }
      ]
    },
    {
      "cell_type": "markdown",
      "metadata": {
        "id": "wYO3f8VHAuru"
      },
      "source": [
        "# Clasificacion"
      ]
    },
    {
      "cell_type": "markdown",
      "metadata": {
        "id": "CkFGgvOTAR_0"
      },
      "source": [
        "Ir a https://www.cr2.cl/datos-de-precipitacion/?cp_Precipitacion=2\n",
        "\n",
        "Descargar datos del 2019"
      ]
    },
    {
      "cell_type": "code",
      "metadata": {
        "id": "3sAhBvF1PM5G",
        "colab": {
          "base_uri": "https://localhost:8080/"
        },
        "outputId": "1776a010-87e9-49a8-8295-4caf105c6701"
      },
      "source": [
        "library(tidyverse)\n",
        "library(data.table)"
      ],
      "execution_count": 21,
      "outputs": [
        {
          "output_type": "stream",
          "text": [
            "\n",
            "Attaching package: ‘data.table’\n",
            "\n",
            "\n",
            "The following objects are masked from ‘package:dplyr’:\n",
            "\n",
            "    between, first, last\n",
            "\n",
            "\n",
            "The following object is masked from ‘package:purrr’:\n",
            "\n",
            "    transpose\n",
            "\n",
            "\n"
          ],
          "name": "stderr"
        }
      ]
    },
    {
      "cell_type": "code",
      "metadata": {
        "id": "-MZrldO37ccy"
      },
      "source": [
        "unzip(\"/content/cr2_prDaily_2018.zip\")\n",
        "unzip(\"/content/cr2_tasDaily_2020_ghcn.zip\")"
      ],
      "execution_count": 20,
      "outputs": []
    },
    {
      "cell_type": "code",
      "metadata": {
        "id": "YefmQA32OxzT"
      },
      "source": [
        "pp <- read.csv(\"/content/cr2_prDaily_2018/cr2_prDaily_2018.txt\", na = \"-9999\", header =F)\n",
        "tm <- read.csv(\"/content/cr2_tasDaily_2020_ghcn/cr2_tasDaily_2020_ghcn.txt\", na = \"-9999\", header =F)\n"
      ],
      "execution_count": 1,
      "outputs": []
    },
    {
      "cell_type": "code",
      "metadata": {
        "colab": {
          "base_uri": "https://localhost:8080/",
          "height": 369
        },
        "id": "uSqHQhYMPkJI",
        "outputId": "601005f8-be8c-4da5-acee-ef6c670e7355"
      },
      "source": [
        "head(pp)"
      ],
      "execution_count": 24,
      "outputs": [
        {
          "output_type": "display_data",
          "data": {
            "text/plain": [
              "  V1              V2       V3                        V4       \n",
              "1 codigo_estacion 01000005 01200002                  01200003 \n",
              "2 institucion     DGA      DGA                       DGA      \n",
              "3 fuente          dga_web  dga_web                   dga_web  \n",
              "4 nombre          Visviri  Villa Industrial (Tacora) Humapalca\n",
              "5 altura          4080     4080                      3980     \n",
              "6 latitud         -17.595  -17.7719                  -17.835  \n",
              "  V5                          V6        V7                     V8      \n",
              "1 01201005                    01201010  01201003               01001005\n",
              "2 DGA                         DGA       DGA                    DGA     \n",
              "3 dga_web                     dga_web   dga_web                dga_web \n",
              "4 Rio Caracarani En Humapalca Alcerreca Rio Lluta En Alcerreca Caquena \n",
              "5 3908                        3990      3550                   4400    \n",
              "6 -17.8428                    -17.9931  -18.0036               -18.0542\n",
              "  V9       V10      ⋯ V866              V867                        \n",
              "1 01110001 01202009 ⋯ 330021            330019                      \n",
              "2 DGA      DGA      ⋯ DMC               DMC                         \n",
              "3 dga_web  dga_web  ⋯ dmc_web           dmc_web                     \n",
              "4 Puquios  Pacollo  ⋯ Pudahuel Santiago Eulogio Sanchez Tobalaba Ad.\n",
              "5 3750     4185     ⋯ 482               650                         \n",
              "6 -18.1747 -18.1769 ⋯ -33.3919          -33.4544                    \n",
              "  V868                                  V869             \n",
              "1 330031                                330030           \n",
              "2 DMC                                   DMC              \n",
              "3 dmc_web                               dmc_web          \n",
              "4 Juan Fernandez Estacion Meteorologica Santo Domingo Ad.\n",
              "5 35                                    75               \n",
              "6 -33.6367                              -33.655          \n",
              "  V870                          V871        V872          V873          \n",
              "1 370033                        420004      430002        430004        \n",
              "2 DMC                           DMC         DMC           DMC           \n",
              "3 dmc_web                       dmc_web     dmc_web       dmc_web       \n",
              "4 Maria Dolores Los Angeles Ad. Chaiten Ad. Futaleufu Ad. Alto Palenaad.\n",
              "5 120                           10          347           281           \n",
              "6 -37.4028                      -42.9303    -43.1889      -43.6117      \n",
              "  V874                                 V875                         \n",
              "1 510005                               530005                       \n",
              "2 DMC                                  DMC                          \n",
              "3 dmc_web                              dmc_web                      \n",
              "4 Teniente Gallardo Puerto Natales Ad. Fuentes Martinez Porvenir Ad.\n",
              "5 69                                   27                           \n",
              "6 -51.6672                             -53.1875                     "
            ],
            "text/latex": "A data.frame: 6 × 875\n\\begin{tabular}{r|lllllllllllllllllllll}\n  & V1 & V2 & V3 & V4 & V5 & V6 & V7 & V8 & V9 & V10 & ⋯ & V866 & V867 & V868 & V869 & V870 & V871 & V872 & V873 & V874 & V875\\\\\n  & <chr> & <chr> & <chr> & <chr> & <chr> & <chr> & <chr> & <chr> & <chr> & <chr> & ⋯ & <chr> & <chr> & <chr> & <chr> & <chr> & <chr> & <chr> & <chr> & <chr> & <chr>\\\\\n\\hline\n\t1 & codigo\\_estacion & 01000005 & 01200002                  & 01200003  & 01201005                    & 01201010  & 01201003               & 01001005 & 01110001 & 01202009 & ⋯ & 330021            & 330019                       & 330031                                & 330030            & 370033                        & 420004      & 430002        & 430004         & 510005                               & 530005                       \\\\\n\t2 & institucion     & DGA      & DGA                       & DGA       & DGA                         & DGA       & DGA                    & DGA      & DGA      & DGA      & ⋯ & DMC               & DMC                          & DMC                                   & DMC               & DMC                           & DMC         & DMC           & DMC            & DMC                                  & DMC                          \\\\\n\t3 & fuente          & dga\\_web  & dga\\_web                   & dga\\_web   & dga\\_web                     & dga\\_web   & dga\\_web                & dga\\_web  & dga\\_web  & dga\\_web  & ⋯ & dmc\\_web           & dmc\\_web                      & dmc\\_web                               & dmc\\_web           & dmc\\_web                       & dmc\\_web     & dmc\\_web       & dmc\\_web        & dmc\\_web                              & dmc\\_web                      \\\\\n\t4 & nombre          & Visviri  & Villa Industrial (Tacora) & Humapalca & Rio Caracarani En Humapalca & Alcerreca & Rio Lluta En Alcerreca & Caquena  & Puquios  & Pacollo  & ⋯ & Pudahuel Santiago & Eulogio Sanchez Tobalaba Ad. & Juan Fernandez Estacion Meteorologica & Santo Domingo Ad. & Maria Dolores Los Angeles Ad. & Chaiten Ad. & Futaleufu Ad. & Alto Palenaad. & Teniente Gallardo Puerto Natales Ad. & Fuentes Martinez Porvenir Ad.\\\\\n\t5 & altura          & 4080     & 4080                      & 3980      & 3908                        & 3990      & 3550                   & 4400     & 3750     & 4185     & ⋯ & 482               & 650                          & 35                                    & 75                & 120                           & 10          & 347           & 281            & 69                                   & 27                           \\\\\n\t6 & latitud         & -17.595  & -17.7719                  & -17.835   & -17.8428                    & -17.9931  & -18.0036               & -18.0542 & -18.1747 & -18.1769 & ⋯ & -33.3919          & -33.4544                     & -33.6367                              & -33.655           & -37.4028                      & -42.9303    & -43.1889      & -43.6117       & -51.6672                             & -53.1875                     \\\\\n\\end{tabular}\n",
            "text/markdown": "\nA data.frame: 6 × 875\n\n| <!--/--> | V1 &lt;chr&gt; | V2 &lt;chr&gt; | V3 &lt;chr&gt; | V4 &lt;chr&gt; | V5 &lt;chr&gt; | V6 &lt;chr&gt; | V7 &lt;chr&gt; | V8 &lt;chr&gt; | V9 &lt;chr&gt; | V10 &lt;chr&gt; | ⋯ ⋯ | V866 &lt;chr&gt; | V867 &lt;chr&gt; | V868 &lt;chr&gt; | V869 &lt;chr&gt; | V870 &lt;chr&gt; | V871 &lt;chr&gt; | V872 &lt;chr&gt; | V873 &lt;chr&gt; | V874 &lt;chr&gt; | V875 &lt;chr&gt; |\n|---|---|---|---|---|---|---|---|---|---|---|---|---|---|---|---|---|---|---|---|---|---|\n| 1 | codigo_estacion | 01000005 | 01200002                  | 01200003  | 01201005                    | 01201010  | 01201003               | 01001005 | 01110001 | 01202009 | ⋯ | 330021            | 330019                       | 330031                                | 330030            | 370033                        | 420004      | 430002        | 430004         | 510005                               | 530005                        |\n| 2 | institucion     | DGA      | DGA                       | DGA       | DGA                         | DGA       | DGA                    | DGA      | DGA      | DGA      | ⋯ | DMC               | DMC                          | DMC                                   | DMC               | DMC                           | DMC         | DMC           | DMC            | DMC                                  | DMC                           |\n| 3 | fuente          | dga_web  | dga_web                   | dga_web   | dga_web                     | dga_web   | dga_web                | dga_web  | dga_web  | dga_web  | ⋯ | dmc_web           | dmc_web                      | dmc_web                               | dmc_web           | dmc_web                       | dmc_web     | dmc_web       | dmc_web        | dmc_web                              | dmc_web                       |\n| 4 | nombre          | Visviri  | Villa Industrial (Tacora) | Humapalca | Rio Caracarani En Humapalca | Alcerreca | Rio Lluta En Alcerreca | Caquena  | Puquios  | Pacollo  | ⋯ | Pudahuel Santiago | Eulogio Sanchez Tobalaba Ad. | Juan Fernandez Estacion Meteorologica | Santo Domingo Ad. | Maria Dolores Los Angeles Ad. | Chaiten Ad. | Futaleufu Ad. | Alto Palenaad. | Teniente Gallardo Puerto Natales Ad. | Fuentes Martinez Porvenir Ad. |\n| 5 | altura          | 4080     | 4080                      | 3980      | 3908                        | 3990      | 3550                   | 4400     | 3750     | 4185     | ⋯ | 482               | 650                          | 35                                    | 75                | 120                           | 10          | 347           | 281            | 69                                   | 27                            |\n| 6 | latitud         | -17.595  | -17.7719                  | -17.835   | -17.8428                    | -17.9931  | -18.0036               | -18.0542 | -18.1747 | -18.1769 | ⋯ | -33.3919          | -33.4544                     | -33.6367                              | -33.655           | -37.4028                      | -42.9303    | -43.1889      | -43.6117       | -51.6672                             | -53.1875                      |\n\n",
            "text/html": [
              "<table class=\"dataframe\">\n",
              "<caption>A data.frame: 6 × 875</caption>\n",
              "<thead>\n",
              "\t<tr><th></th><th scope=col>V1</th><th scope=col>V2</th><th scope=col>V3</th><th scope=col>V4</th><th scope=col>V5</th><th scope=col>V6</th><th scope=col>V7</th><th scope=col>V8</th><th scope=col>V9</th><th scope=col>V10</th><th scope=col>⋯</th><th scope=col>V866</th><th scope=col>V867</th><th scope=col>V868</th><th scope=col>V869</th><th scope=col>V870</th><th scope=col>V871</th><th scope=col>V872</th><th scope=col>V873</th><th scope=col>V874</th><th scope=col>V875</th></tr>\n",
              "\t<tr><th></th><th scope=col>&lt;chr&gt;</th><th scope=col>&lt;chr&gt;</th><th scope=col>&lt;chr&gt;</th><th scope=col>&lt;chr&gt;</th><th scope=col>&lt;chr&gt;</th><th scope=col>&lt;chr&gt;</th><th scope=col>&lt;chr&gt;</th><th scope=col>&lt;chr&gt;</th><th scope=col>&lt;chr&gt;</th><th scope=col>&lt;chr&gt;</th><th scope=col>⋯</th><th scope=col>&lt;chr&gt;</th><th scope=col>&lt;chr&gt;</th><th scope=col>&lt;chr&gt;</th><th scope=col>&lt;chr&gt;</th><th scope=col>&lt;chr&gt;</th><th scope=col>&lt;chr&gt;</th><th scope=col>&lt;chr&gt;</th><th scope=col>&lt;chr&gt;</th><th scope=col>&lt;chr&gt;</th><th scope=col>&lt;chr&gt;</th></tr>\n",
              "</thead>\n",
              "<tbody>\n",
              "\t<tr><th scope=row>1</th><td>codigo_estacion</td><td>01000005</td><td>01200002                 </td><td>01200003 </td><td>01201005                   </td><td>01201010 </td><td>01201003              </td><td>01001005</td><td>01110001</td><td>01202009</td><td>⋯</td><td>330021           </td><td>330019                      </td><td>330031                               </td><td>330030           </td><td>370033                       </td><td>420004     </td><td>430002       </td><td>430004        </td><td>510005                              </td><td>530005                       </td></tr>\n",
              "\t<tr><th scope=row>2</th><td>institucion    </td><td>DGA     </td><td>DGA                      </td><td>DGA      </td><td>DGA                        </td><td>DGA      </td><td>DGA                   </td><td>DGA     </td><td>DGA     </td><td>DGA     </td><td>⋯</td><td>DMC              </td><td>DMC                         </td><td>DMC                                  </td><td>DMC              </td><td>DMC                          </td><td>DMC        </td><td>DMC          </td><td>DMC           </td><td>DMC                                 </td><td>DMC                          </td></tr>\n",
              "\t<tr><th scope=row>3</th><td>fuente         </td><td>dga_web </td><td>dga_web                  </td><td>dga_web  </td><td>dga_web                    </td><td>dga_web  </td><td>dga_web               </td><td>dga_web </td><td>dga_web </td><td>dga_web </td><td>⋯</td><td>dmc_web          </td><td>dmc_web                     </td><td>dmc_web                              </td><td>dmc_web          </td><td>dmc_web                      </td><td>dmc_web    </td><td>dmc_web      </td><td>dmc_web       </td><td>dmc_web                             </td><td>dmc_web                      </td></tr>\n",
              "\t<tr><th scope=row>4</th><td>nombre         </td><td>Visviri </td><td>Villa Industrial (Tacora)</td><td>Humapalca</td><td>Rio Caracarani En Humapalca</td><td>Alcerreca</td><td>Rio Lluta En Alcerreca</td><td>Caquena </td><td>Puquios </td><td>Pacollo </td><td>⋯</td><td>Pudahuel Santiago</td><td>Eulogio Sanchez Tobalaba Ad.</td><td>Juan Fernandez Estacion Meteorologica</td><td>Santo Domingo Ad.</td><td>Maria Dolores Los Angeles Ad.</td><td>Chaiten Ad.</td><td>Futaleufu Ad.</td><td>Alto Palenaad.</td><td>Teniente Gallardo Puerto Natales Ad.</td><td>Fuentes Martinez Porvenir Ad.</td></tr>\n",
              "\t<tr><th scope=row>5</th><td>altura         </td><td>4080    </td><td>4080                     </td><td>3980     </td><td>3908                       </td><td>3990     </td><td>3550                  </td><td>4400    </td><td>3750    </td><td>4185    </td><td>⋯</td><td>482              </td><td>650                         </td><td>35                                   </td><td>75               </td><td>120                          </td><td>10         </td><td>347          </td><td>281           </td><td>69                                  </td><td>27                           </td></tr>\n",
              "\t<tr><th scope=row>6</th><td>latitud        </td><td>-17.595 </td><td>-17.7719                 </td><td>-17.835  </td><td>-17.8428                   </td><td>-17.9931 </td><td>-18.0036              </td><td>-18.0542</td><td>-18.1747</td><td>-18.1769</td><td>⋯</td><td>-33.3919         </td><td>-33.4544                    </td><td>-33.6367                             </td><td>-33.655          </td><td>-37.4028                     </td><td>-42.9303   </td><td>-43.1889     </td><td>-43.6117      </td><td>-51.6672                            </td><td>-53.1875                     </td></tr>\n",
              "</tbody>\n",
              "</table>\n"
            ]
          },
          "metadata": {}
        }
      ]
    },
    {
      "cell_type": "code",
      "metadata": {
        "id": "W5BVFIuJPP45"
      },
      "source": [
        "tm <- setNames(as.data.frame(t(tm[,-1])),as.character(tm[,1]))\n",
        "pp <- setNames(as.data.frame(t(pp[,-1])),as.character(pp[,1]))\n"
      ],
      "execution_count": 6,
      "outputs": []
    },
    {
      "cell_type": "code",
      "metadata": {
        "colab": {
          "base_uri": "https://localhost:8080/",
          "height": 1000
        },
        "id": "Qu0XhsqaOu07",
        "outputId": "32d5e9b3-e8ea-44c7-da78-e5010ed2853e"
      },
      "source": [
        "ppp <- pp %>% select( c(\"codigo_estacion\",\"nombre\", \"latitud\",\"longitud\") | \"2000-01-01\":\"2017-12-31\")%>%\n",
        "        pivot_longer(cols = \"2000-01-01\":\"2017-12-31\",\n",
        "        values_to = \"Precipitacion\",\n",
        "        names_to = c(\"Año\", \"Mes\", \"Dia\"),\n",
        "        names_pattern = \"(....)-(..)-(..)\")\n",
        "\n",
        "ppp"
      ],
      "execution_count": 14,
      "outputs": [
        {
          "output_type": "display_data",
          "data": {
            "text/plain": [
              "        codigo_estacion nombre                        latitud  longitud Año \n",
              "1       01000005        Visviri                       -17.595  -69.4831 2000\n",
              "2       01000005        Visviri                       -17.595  -69.4831 2000\n",
              "3       01000005        Visviri                       -17.595  -69.4831 2000\n",
              "4       01000005        Visviri                       -17.595  -69.4831 2000\n",
              "5       01000005        Visviri                       -17.595  -69.4831 2000\n",
              "6       01000005        Visviri                       -17.595  -69.4831 2000\n",
              "7       01000005        Visviri                       -17.595  -69.4831 2000\n",
              "8       01000005        Visviri                       -17.595  -69.4831 2000\n",
              "9       01000005        Visviri                       -17.595  -69.4831 2000\n",
              "10      01000005        Visviri                       -17.595  -69.4831 2000\n",
              "11      01000005        Visviri                       -17.595  -69.4831 2000\n",
              "12      01000005        Visviri                       -17.595  -69.4831 2000\n",
              "13      01000005        Visviri                       -17.595  -69.4831 2000\n",
              "14      01000005        Visviri                       -17.595  -69.4831 2000\n",
              "15      01000005        Visviri                       -17.595  -69.4831 2000\n",
              "16      01000005        Visviri                       -17.595  -69.4831 2000\n",
              "17      01000005        Visviri                       -17.595  -69.4831 2000\n",
              "18      01000005        Visviri                       -17.595  -69.4831 2000\n",
              "19      01000005        Visviri                       -17.595  -69.4831 2000\n",
              "20      01000005        Visviri                       -17.595  -69.4831 2000\n",
              "21      01000005        Visviri                       -17.595  -69.4831 2000\n",
              "22      01000005        Visviri                       -17.595  -69.4831 2000\n",
              "23      01000005        Visviri                       -17.595  -69.4831 2000\n",
              "24      01000005        Visviri                       -17.595  -69.4831 2000\n",
              "25      01000005        Visviri                       -17.595  -69.4831 2000\n",
              "26      01000005        Visviri                       -17.595  -69.4831 2000\n",
              "27      01000005        Visviri                       -17.595  -69.4831 2000\n",
              "28      01000005        Visviri                       -17.595  -69.4831 2000\n",
              "29      01000005        Visviri                       -17.595  -69.4831 2000\n",
              "30      01000005        Visviri                       -17.595  -69.4831 2000\n",
              "⋮       ⋮               ⋮                             ⋮        ⋮        ⋮   \n",
              "5746521 530005          Fuentes Martinez Porvenir Ad. -53.1875 -70.3203 2017\n",
              "5746522 530005          Fuentes Martinez Porvenir Ad. -53.1875 -70.3203 2017\n",
              "5746523 530005          Fuentes Martinez Porvenir Ad. -53.1875 -70.3203 2017\n",
              "5746524 530005          Fuentes Martinez Porvenir Ad. -53.1875 -70.3203 2017\n",
              "5746525 530005          Fuentes Martinez Porvenir Ad. -53.1875 -70.3203 2017\n",
              "5746526 530005          Fuentes Martinez Porvenir Ad. -53.1875 -70.3203 2017\n",
              "5746527 530005          Fuentes Martinez Porvenir Ad. -53.1875 -70.3203 2017\n",
              "5746528 530005          Fuentes Martinez Porvenir Ad. -53.1875 -70.3203 2017\n",
              "5746529 530005          Fuentes Martinez Porvenir Ad. -53.1875 -70.3203 2017\n",
              "5746530 530005          Fuentes Martinez Porvenir Ad. -53.1875 -70.3203 2017\n",
              "5746531 530005          Fuentes Martinez Porvenir Ad. -53.1875 -70.3203 2017\n",
              "5746532 530005          Fuentes Martinez Porvenir Ad. -53.1875 -70.3203 2017\n",
              "5746533 530005          Fuentes Martinez Porvenir Ad. -53.1875 -70.3203 2017\n",
              "5746534 530005          Fuentes Martinez Porvenir Ad. -53.1875 -70.3203 2017\n",
              "5746535 530005          Fuentes Martinez Porvenir Ad. -53.1875 -70.3203 2017\n",
              "5746536 530005          Fuentes Martinez Porvenir Ad. -53.1875 -70.3203 2017\n",
              "5746537 530005          Fuentes Martinez Porvenir Ad. -53.1875 -70.3203 2017\n",
              "5746538 530005          Fuentes Martinez Porvenir Ad. -53.1875 -70.3203 2017\n",
              "5746539 530005          Fuentes Martinez Porvenir Ad. -53.1875 -70.3203 2017\n",
              "5746540 530005          Fuentes Martinez Porvenir Ad. -53.1875 -70.3203 2017\n",
              "5746541 530005          Fuentes Martinez Porvenir Ad. -53.1875 -70.3203 2017\n",
              "5746542 530005          Fuentes Martinez Porvenir Ad. -53.1875 -70.3203 2017\n",
              "5746543 530005          Fuentes Martinez Porvenir Ad. -53.1875 -70.3203 2017\n",
              "5746544 530005          Fuentes Martinez Porvenir Ad. -53.1875 -70.3203 2017\n",
              "5746545 530005          Fuentes Martinez Porvenir Ad. -53.1875 -70.3203 2017\n",
              "5746546 530005          Fuentes Martinez Porvenir Ad. -53.1875 -70.3203 2017\n",
              "5746547 530005          Fuentes Martinez Porvenir Ad. -53.1875 -70.3203 2017\n",
              "5746548 530005          Fuentes Martinez Porvenir Ad. -53.1875 -70.3203 2017\n",
              "5746549 530005          Fuentes Martinez Porvenir Ad. -53.1875 -70.3203 2017\n",
              "5746550 530005          Fuentes Martinez Porvenir Ad. -53.1875 -70.3203 2017\n",
              "        Mes Dia Precipitacion\n",
              "1       01  01  0.000        \n",
              "2       01  02  0.000        \n",
              "3       01  03  0.000        \n",
              "4       01  04  0.000        \n",
              "5       01  05  1.000        \n",
              "6       01  06  2.000        \n",
              "7       01  07  2.000        \n",
              "8       01  08  0.000        \n",
              "9       01  09  8.000        \n",
              "10      01  10  5.000        \n",
              "11      01  11  2.000        \n",
              "12      01  12  2.000        \n",
              "13      01  13  2.000        \n",
              "14      01  14  0.000        \n",
              "15      01  15  2.000        \n",
              "16      01  16  2.000        \n",
              "17      01  17  3.000        \n",
              "18      01  18  1.000        \n",
              "19      01  19  1.000        \n",
              "20      01  20  3.500        \n",
              "21      01  21  6.000        \n",
              "22      01  22  4.000        \n",
              "23      01  23  7.000        \n",
              "24      01  24  2.000        \n",
              "25      01  25  9.200        \n",
              "26      01  26  2.000        \n",
              "27      01  27  3.500        \n",
              "28      01  28  0.000        \n",
              "29      01  29  1.700        \n",
              "30      01  30  0.000        \n",
              "⋮       ⋮   ⋮   ⋮            \n",
              "5746521 12  02  NA           \n",
              "5746522 12  03  3.600        \n",
              "5746523 12  04  0.000        \n",
              "5746524 12  05  0.000        \n",
              "5746525 12  06  9.900        \n",
              "5746526 12  07  0.000        \n",
              "5746527 12  08  0.000        \n",
              "5746528 12  09  NA           \n",
              "5746529 12  10  0.100        \n",
              "5746530 12  11  1.900        \n",
              "5746531 12  12  0.000        \n",
              "5746532 12  13  0.000        \n",
              "5746533 12  14  2.100        \n",
              "5746534 12  15  0.600        \n",
              "5746535 12  16  NA           \n",
              "5746536 12  17  0.000        \n",
              "5746537 12  18  0.000        \n",
              "5746538 12  19  24.900       \n",
              "5746539 12  20  2.200        \n",
              "5746540 12  21  0.000        \n",
              "5746541 12  22  0.000        \n",
              "5746542 12  23  NA           \n",
              "5746543 12  24  NA           \n",
              "5746544 12  25  0.000        \n",
              "5746545 12  26  0.000        \n",
              "5746546 12  27  0.300        \n",
              "5746547 12  28  0.900        \n",
              "5746548 12  29  2.800        \n",
              "5746549 12  30  NA           \n",
              "5746550 12  31  NA           "
            ],
            "text/latex": "A tibble: 5746550 × 8\n\\begin{tabular}{llllllll}\n codigo\\_estacion & nombre & latitud & longitud & Año & Mes & Dia & Precipitacion\\\\\n <chr> & <chr> & <chr> & <chr> & <chr> & <chr> & <chr> & <chr>\\\\\n\\hline\n\t 01000005 & Visviri & -17.595 & -69.4831 & 2000 & 01 & 01 & 0.000\\\\\n\t 01000005 & Visviri & -17.595 & -69.4831 & 2000 & 01 & 02 & 0.000\\\\\n\t 01000005 & Visviri & -17.595 & -69.4831 & 2000 & 01 & 03 & 0.000\\\\\n\t 01000005 & Visviri & -17.595 & -69.4831 & 2000 & 01 & 04 & 0.000\\\\\n\t 01000005 & Visviri & -17.595 & -69.4831 & 2000 & 01 & 05 & 1.000\\\\\n\t 01000005 & Visviri & -17.595 & -69.4831 & 2000 & 01 & 06 & 2.000\\\\\n\t 01000005 & Visviri & -17.595 & -69.4831 & 2000 & 01 & 07 & 2.000\\\\\n\t 01000005 & Visviri & -17.595 & -69.4831 & 2000 & 01 & 08 & 0.000\\\\\n\t 01000005 & Visviri & -17.595 & -69.4831 & 2000 & 01 & 09 & 8.000\\\\\n\t 01000005 & Visviri & -17.595 & -69.4831 & 2000 & 01 & 10 & 5.000\\\\\n\t 01000005 & Visviri & -17.595 & -69.4831 & 2000 & 01 & 11 & 2.000\\\\\n\t 01000005 & Visviri & -17.595 & -69.4831 & 2000 & 01 & 12 & 2.000\\\\\n\t 01000005 & Visviri & -17.595 & -69.4831 & 2000 & 01 & 13 & 2.000\\\\\n\t 01000005 & Visviri & -17.595 & -69.4831 & 2000 & 01 & 14 & 0.000\\\\\n\t 01000005 & Visviri & -17.595 & -69.4831 & 2000 & 01 & 15 & 2.000\\\\\n\t 01000005 & Visviri & -17.595 & -69.4831 & 2000 & 01 & 16 & 2.000\\\\\n\t 01000005 & Visviri & -17.595 & -69.4831 & 2000 & 01 & 17 & 3.000\\\\\n\t 01000005 & Visviri & -17.595 & -69.4831 & 2000 & 01 & 18 & 1.000\\\\\n\t 01000005 & Visviri & -17.595 & -69.4831 & 2000 & 01 & 19 & 1.000\\\\\n\t 01000005 & Visviri & -17.595 & -69.4831 & 2000 & 01 & 20 & 3.500\\\\\n\t 01000005 & Visviri & -17.595 & -69.4831 & 2000 & 01 & 21 & 6.000\\\\\n\t 01000005 & Visviri & -17.595 & -69.4831 & 2000 & 01 & 22 & 4.000\\\\\n\t 01000005 & Visviri & -17.595 & -69.4831 & 2000 & 01 & 23 & 7.000\\\\\n\t 01000005 & Visviri & -17.595 & -69.4831 & 2000 & 01 & 24 & 2.000\\\\\n\t 01000005 & Visviri & -17.595 & -69.4831 & 2000 & 01 & 25 & 9.200\\\\\n\t 01000005 & Visviri & -17.595 & -69.4831 & 2000 & 01 & 26 & 2.000\\\\\n\t 01000005 & Visviri & -17.595 & -69.4831 & 2000 & 01 & 27 & 3.500\\\\\n\t 01000005 & Visviri & -17.595 & -69.4831 & 2000 & 01 & 28 & 0.000\\\\\n\t 01000005 & Visviri & -17.595 & -69.4831 & 2000 & 01 & 29 & 1.700\\\\\n\t 01000005 & Visviri & -17.595 & -69.4831 & 2000 & 01 & 30 & 0.000\\\\\n\t ⋮ & ⋮ & ⋮ & ⋮ & ⋮ & ⋮ & ⋮ & ⋮\\\\\n\t 530005 & Fuentes Martinez Porvenir Ad. & -53.1875 & -70.3203 & 2017 & 12 & 02 & NA    \\\\\n\t 530005 & Fuentes Martinez Porvenir Ad. & -53.1875 & -70.3203 & 2017 & 12 & 03 & 3.600 \\\\\n\t 530005 & Fuentes Martinez Porvenir Ad. & -53.1875 & -70.3203 & 2017 & 12 & 04 & 0.000 \\\\\n\t 530005 & Fuentes Martinez Porvenir Ad. & -53.1875 & -70.3203 & 2017 & 12 & 05 & 0.000 \\\\\n\t 530005 & Fuentes Martinez Porvenir Ad. & -53.1875 & -70.3203 & 2017 & 12 & 06 & 9.900 \\\\\n\t 530005 & Fuentes Martinez Porvenir Ad. & -53.1875 & -70.3203 & 2017 & 12 & 07 & 0.000 \\\\\n\t 530005 & Fuentes Martinez Porvenir Ad. & -53.1875 & -70.3203 & 2017 & 12 & 08 & 0.000 \\\\\n\t 530005 & Fuentes Martinez Porvenir Ad. & -53.1875 & -70.3203 & 2017 & 12 & 09 & NA    \\\\\n\t 530005 & Fuentes Martinez Porvenir Ad. & -53.1875 & -70.3203 & 2017 & 12 & 10 & 0.100 \\\\\n\t 530005 & Fuentes Martinez Porvenir Ad. & -53.1875 & -70.3203 & 2017 & 12 & 11 & 1.900 \\\\\n\t 530005 & Fuentes Martinez Porvenir Ad. & -53.1875 & -70.3203 & 2017 & 12 & 12 & 0.000 \\\\\n\t 530005 & Fuentes Martinez Porvenir Ad. & -53.1875 & -70.3203 & 2017 & 12 & 13 & 0.000 \\\\\n\t 530005 & Fuentes Martinez Porvenir Ad. & -53.1875 & -70.3203 & 2017 & 12 & 14 & 2.100 \\\\\n\t 530005 & Fuentes Martinez Porvenir Ad. & -53.1875 & -70.3203 & 2017 & 12 & 15 & 0.600 \\\\\n\t 530005 & Fuentes Martinez Porvenir Ad. & -53.1875 & -70.3203 & 2017 & 12 & 16 & NA    \\\\\n\t 530005 & Fuentes Martinez Porvenir Ad. & -53.1875 & -70.3203 & 2017 & 12 & 17 & 0.000 \\\\\n\t 530005 & Fuentes Martinez Porvenir Ad. & -53.1875 & -70.3203 & 2017 & 12 & 18 & 0.000 \\\\\n\t 530005 & Fuentes Martinez Porvenir Ad. & -53.1875 & -70.3203 & 2017 & 12 & 19 & 24.900\\\\\n\t 530005 & Fuentes Martinez Porvenir Ad. & -53.1875 & -70.3203 & 2017 & 12 & 20 & 2.200 \\\\\n\t 530005 & Fuentes Martinez Porvenir Ad. & -53.1875 & -70.3203 & 2017 & 12 & 21 & 0.000 \\\\\n\t 530005 & Fuentes Martinez Porvenir Ad. & -53.1875 & -70.3203 & 2017 & 12 & 22 & 0.000 \\\\\n\t 530005 & Fuentes Martinez Porvenir Ad. & -53.1875 & -70.3203 & 2017 & 12 & 23 & NA    \\\\\n\t 530005 & Fuentes Martinez Porvenir Ad. & -53.1875 & -70.3203 & 2017 & 12 & 24 & NA    \\\\\n\t 530005 & Fuentes Martinez Porvenir Ad. & -53.1875 & -70.3203 & 2017 & 12 & 25 & 0.000 \\\\\n\t 530005 & Fuentes Martinez Porvenir Ad. & -53.1875 & -70.3203 & 2017 & 12 & 26 & 0.000 \\\\\n\t 530005 & Fuentes Martinez Porvenir Ad. & -53.1875 & -70.3203 & 2017 & 12 & 27 & 0.300 \\\\\n\t 530005 & Fuentes Martinez Porvenir Ad. & -53.1875 & -70.3203 & 2017 & 12 & 28 & 0.900 \\\\\n\t 530005 & Fuentes Martinez Porvenir Ad. & -53.1875 & -70.3203 & 2017 & 12 & 29 & 2.800 \\\\\n\t 530005 & Fuentes Martinez Porvenir Ad. & -53.1875 & -70.3203 & 2017 & 12 & 30 & NA    \\\\\n\t 530005 & Fuentes Martinez Porvenir Ad. & -53.1875 & -70.3203 & 2017 & 12 & 31 & NA    \\\\\n\\end{tabular}\n",
            "text/markdown": "\nA tibble: 5746550 × 8\n\n| codigo_estacion &lt;chr&gt; | nombre &lt;chr&gt; | latitud &lt;chr&gt; | longitud &lt;chr&gt; | Año &lt;chr&gt; | Mes &lt;chr&gt; | Dia &lt;chr&gt; | Precipitacion &lt;chr&gt; |\n|---|---|---|---|---|---|---|---|\n| 01000005 | Visviri | -17.595 | -69.4831 | 2000 | 01 | 01 | 0.000 |\n| 01000005 | Visviri | -17.595 | -69.4831 | 2000 | 01 | 02 | 0.000 |\n| 01000005 | Visviri | -17.595 | -69.4831 | 2000 | 01 | 03 | 0.000 |\n| 01000005 | Visviri | -17.595 | -69.4831 | 2000 | 01 | 04 | 0.000 |\n| 01000005 | Visviri | -17.595 | -69.4831 | 2000 | 01 | 05 | 1.000 |\n| 01000005 | Visviri | -17.595 | -69.4831 | 2000 | 01 | 06 | 2.000 |\n| 01000005 | Visviri | -17.595 | -69.4831 | 2000 | 01 | 07 | 2.000 |\n| 01000005 | Visviri | -17.595 | -69.4831 | 2000 | 01 | 08 | 0.000 |\n| 01000005 | Visviri | -17.595 | -69.4831 | 2000 | 01 | 09 | 8.000 |\n| 01000005 | Visviri | -17.595 | -69.4831 | 2000 | 01 | 10 | 5.000 |\n| 01000005 | Visviri | -17.595 | -69.4831 | 2000 | 01 | 11 | 2.000 |\n| 01000005 | Visviri | -17.595 | -69.4831 | 2000 | 01 | 12 | 2.000 |\n| 01000005 | Visviri | -17.595 | -69.4831 | 2000 | 01 | 13 | 2.000 |\n| 01000005 | Visviri | -17.595 | -69.4831 | 2000 | 01 | 14 | 0.000 |\n| 01000005 | Visviri | -17.595 | -69.4831 | 2000 | 01 | 15 | 2.000 |\n| 01000005 | Visviri | -17.595 | -69.4831 | 2000 | 01 | 16 | 2.000 |\n| 01000005 | Visviri | -17.595 | -69.4831 | 2000 | 01 | 17 | 3.000 |\n| 01000005 | Visviri | -17.595 | -69.4831 | 2000 | 01 | 18 | 1.000 |\n| 01000005 | Visviri | -17.595 | -69.4831 | 2000 | 01 | 19 | 1.000 |\n| 01000005 | Visviri | -17.595 | -69.4831 | 2000 | 01 | 20 | 3.500 |\n| 01000005 | Visviri | -17.595 | -69.4831 | 2000 | 01 | 21 | 6.000 |\n| 01000005 | Visviri | -17.595 | -69.4831 | 2000 | 01 | 22 | 4.000 |\n| 01000005 | Visviri | -17.595 | -69.4831 | 2000 | 01 | 23 | 7.000 |\n| 01000005 | Visviri | -17.595 | -69.4831 | 2000 | 01 | 24 | 2.000 |\n| 01000005 | Visviri | -17.595 | -69.4831 | 2000 | 01 | 25 | 9.200 |\n| 01000005 | Visviri | -17.595 | -69.4831 | 2000 | 01 | 26 | 2.000 |\n| 01000005 | Visviri | -17.595 | -69.4831 | 2000 | 01 | 27 | 3.500 |\n| 01000005 | Visviri | -17.595 | -69.4831 | 2000 | 01 | 28 | 0.000 |\n| 01000005 | Visviri | -17.595 | -69.4831 | 2000 | 01 | 29 | 1.700 |\n| 01000005 | Visviri | -17.595 | -69.4831 | 2000 | 01 | 30 | 0.000 |\n| ⋮ | ⋮ | ⋮ | ⋮ | ⋮ | ⋮ | ⋮ | ⋮ |\n| 530005 | Fuentes Martinez Porvenir Ad. | -53.1875 | -70.3203 | 2017 | 12 | 02 | NA     |\n| 530005 | Fuentes Martinez Porvenir Ad. | -53.1875 | -70.3203 | 2017 | 12 | 03 | 3.600  |\n| 530005 | Fuentes Martinez Porvenir Ad. | -53.1875 | -70.3203 | 2017 | 12 | 04 | 0.000  |\n| 530005 | Fuentes Martinez Porvenir Ad. | -53.1875 | -70.3203 | 2017 | 12 | 05 | 0.000  |\n| 530005 | Fuentes Martinez Porvenir Ad. | -53.1875 | -70.3203 | 2017 | 12 | 06 | 9.900  |\n| 530005 | Fuentes Martinez Porvenir Ad. | -53.1875 | -70.3203 | 2017 | 12 | 07 | 0.000  |\n| 530005 | Fuentes Martinez Porvenir Ad. | -53.1875 | -70.3203 | 2017 | 12 | 08 | 0.000  |\n| 530005 | Fuentes Martinez Porvenir Ad. | -53.1875 | -70.3203 | 2017 | 12 | 09 | NA     |\n| 530005 | Fuentes Martinez Porvenir Ad. | -53.1875 | -70.3203 | 2017 | 12 | 10 | 0.100  |\n| 530005 | Fuentes Martinez Porvenir Ad. | -53.1875 | -70.3203 | 2017 | 12 | 11 | 1.900  |\n| 530005 | Fuentes Martinez Porvenir Ad. | -53.1875 | -70.3203 | 2017 | 12 | 12 | 0.000  |\n| 530005 | Fuentes Martinez Porvenir Ad. | -53.1875 | -70.3203 | 2017 | 12 | 13 | 0.000  |\n| 530005 | Fuentes Martinez Porvenir Ad. | -53.1875 | -70.3203 | 2017 | 12 | 14 | 2.100  |\n| 530005 | Fuentes Martinez Porvenir Ad. | -53.1875 | -70.3203 | 2017 | 12 | 15 | 0.600  |\n| 530005 | Fuentes Martinez Porvenir Ad. | -53.1875 | -70.3203 | 2017 | 12 | 16 | NA     |\n| 530005 | Fuentes Martinez Porvenir Ad. | -53.1875 | -70.3203 | 2017 | 12 | 17 | 0.000  |\n| 530005 | Fuentes Martinez Porvenir Ad. | -53.1875 | -70.3203 | 2017 | 12 | 18 | 0.000  |\n| 530005 | Fuentes Martinez Porvenir Ad. | -53.1875 | -70.3203 | 2017 | 12 | 19 | 24.900 |\n| 530005 | Fuentes Martinez Porvenir Ad. | -53.1875 | -70.3203 | 2017 | 12 | 20 | 2.200  |\n| 530005 | Fuentes Martinez Porvenir Ad. | -53.1875 | -70.3203 | 2017 | 12 | 21 | 0.000  |\n| 530005 | Fuentes Martinez Porvenir Ad. | -53.1875 | -70.3203 | 2017 | 12 | 22 | 0.000  |\n| 530005 | Fuentes Martinez Porvenir Ad. | -53.1875 | -70.3203 | 2017 | 12 | 23 | NA     |\n| 530005 | Fuentes Martinez Porvenir Ad. | -53.1875 | -70.3203 | 2017 | 12 | 24 | NA     |\n| 530005 | Fuentes Martinez Porvenir Ad. | -53.1875 | -70.3203 | 2017 | 12 | 25 | 0.000  |\n| 530005 | Fuentes Martinez Porvenir Ad. | -53.1875 | -70.3203 | 2017 | 12 | 26 | 0.000  |\n| 530005 | Fuentes Martinez Porvenir Ad. | -53.1875 | -70.3203 | 2017 | 12 | 27 | 0.300  |\n| 530005 | Fuentes Martinez Porvenir Ad. | -53.1875 | -70.3203 | 2017 | 12 | 28 | 0.900  |\n| 530005 | Fuentes Martinez Porvenir Ad. | -53.1875 | -70.3203 | 2017 | 12 | 29 | 2.800  |\n| 530005 | Fuentes Martinez Porvenir Ad. | -53.1875 | -70.3203 | 2017 | 12 | 30 | NA     |\n| 530005 | Fuentes Martinez Porvenir Ad. | -53.1875 | -70.3203 | 2017 | 12 | 31 | NA     |\n\n",
            "text/html": [
              "<table class=\"dataframe\">\n",
              "<caption>A tibble: 5746550 × 8</caption>\n",
              "<thead>\n",
              "\t<tr><th scope=col>codigo_estacion</th><th scope=col>nombre</th><th scope=col>latitud</th><th scope=col>longitud</th><th scope=col>Año</th><th scope=col>Mes</th><th scope=col>Dia</th><th scope=col>Precipitacion</th></tr>\n",
              "\t<tr><th scope=col>&lt;chr&gt;</th><th scope=col>&lt;chr&gt;</th><th scope=col>&lt;chr&gt;</th><th scope=col>&lt;chr&gt;</th><th scope=col>&lt;chr&gt;</th><th scope=col>&lt;chr&gt;</th><th scope=col>&lt;chr&gt;</th><th scope=col>&lt;chr&gt;</th></tr>\n",
              "</thead>\n",
              "<tbody>\n",
              "\t<tr><td>01000005</td><td>Visviri</td><td>-17.595</td><td>-69.4831</td><td>2000</td><td>01</td><td>01</td><td>0.000</td></tr>\n",
              "\t<tr><td>01000005</td><td>Visviri</td><td>-17.595</td><td>-69.4831</td><td>2000</td><td>01</td><td>02</td><td>0.000</td></tr>\n",
              "\t<tr><td>01000005</td><td>Visviri</td><td>-17.595</td><td>-69.4831</td><td>2000</td><td>01</td><td>03</td><td>0.000</td></tr>\n",
              "\t<tr><td>01000005</td><td>Visviri</td><td>-17.595</td><td>-69.4831</td><td>2000</td><td>01</td><td>04</td><td>0.000</td></tr>\n",
              "\t<tr><td>01000005</td><td>Visviri</td><td>-17.595</td><td>-69.4831</td><td>2000</td><td>01</td><td>05</td><td>1.000</td></tr>\n",
              "\t<tr><td>01000005</td><td>Visviri</td><td>-17.595</td><td>-69.4831</td><td>2000</td><td>01</td><td>06</td><td>2.000</td></tr>\n",
              "\t<tr><td>01000005</td><td>Visviri</td><td>-17.595</td><td>-69.4831</td><td>2000</td><td>01</td><td>07</td><td>2.000</td></tr>\n",
              "\t<tr><td>01000005</td><td>Visviri</td><td>-17.595</td><td>-69.4831</td><td>2000</td><td>01</td><td>08</td><td>0.000</td></tr>\n",
              "\t<tr><td>01000005</td><td>Visviri</td><td>-17.595</td><td>-69.4831</td><td>2000</td><td>01</td><td>09</td><td>8.000</td></tr>\n",
              "\t<tr><td>01000005</td><td>Visviri</td><td>-17.595</td><td>-69.4831</td><td>2000</td><td>01</td><td>10</td><td>5.000</td></tr>\n",
              "\t<tr><td>01000005</td><td>Visviri</td><td>-17.595</td><td>-69.4831</td><td>2000</td><td>01</td><td>11</td><td>2.000</td></tr>\n",
              "\t<tr><td>01000005</td><td>Visviri</td><td>-17.595</td><td>-69.4831</td><td>2000</td><td>01</td><td>12</td><td>2.000</td></tr>\n",
              "\t<tr><td>01000005</td><td>Visviri</td><td>-17.595</td><td>-69.4831</td><td>2000</td><td>01</td><td>13</td><td>2.000</td></tr>\n",
              "\t<tr><td>01000005</td><td>Visviri</td><td>-17.595</td><td>-69.4831</td><td>2000</td><td>01</td><td>14</td><td>0.000</td></tr>\n",
              "\t<tr><td>01000005</td><td>Visviri</td><td>-17.595</td><td>-69.4831</td><td>2000</td><td>01</td><td>15</td><td>2.000</td></tr>\n",
              "\t<tr><td>01000005</td><td>Visviri</td><td>-17.595</td><td>-69.4831</td><td>2000</td><td>01</td><td>16</td><td>2.000</td></tr>\n",
              "\t<tr><td>01000005</td><td>Visviri</td><td>-17.595</td><td>-69.4831</td><td>2000</td><td>01</td><td>17</td><td>3.000</td></tr>\n",
              "\t<tr><td>01000005</td><td>Visviri</td><td>-17.595</td><td>-69.4831</td><td>2000</td><td>01</td><td>18</td><td>1.000</td></tr>\n",
              "\t<tr><td>01000005</td><td>Visviri</td><td>-17.595</td><td>-69.4831</td><td>2000</td><td>01</td><td>19</td><td>1.000</td></tr>\n",
              "\t<tr><td>01000005</td><td>Visviri</td><td>-17.595</td><td>-69.4831</td><td>2000</td><td>01</td><td>20</td><td>3.500</td></tr>\n",
              "\t<tr><td>01000005</td><td>Visviri</td><td>-17.595</td><td>-69.4831</td><td>2000</td><td>01</td><td>21</td><td>6.000</td></tr>\n",
              "\t<tr><td>01000005</td><td>Visviri</td><td>-17.595</td><td>-69.4831</td><td>2000</td><td>01</td><td>22</td><td>4.000</td></tr>\n",
              "\t<tr><td>01000005</td><td>Visviri</td><td>-17.595</td><td>-69.4831</td><td>2000</td><td>01</td><td>23</td><td>7.000</td></tr>\n",
              "\t<tr><td>01000005</td><td>Visviri</td><td>-17.595</td><td>-69.4831</td><td>2000</td><td>01</td><td>24</td><td>2.000</td></tr>\n",
              "\t<tr><td>01000005</td><td>Visviri</td><td>-17.595</td><td>-69.4831</td><td>2000</td><td>01</td><td>25</td><td>9.200</td></tr>\n",
              "\t<tr><td>01000005</td><td>Visviri</td><td>-17.595</td><td>-69.4831</td><td>2000</td><td>01</td><td>26</td><td>2.000</td></tr>\n",
              "\t<tr><td>01000005</td><td>Visviri</td><td>-17.595</td><td>-69.4831</td><td>2000</td><td>01</td><td>27</td><td>3.500</td></tr>\n",
              "\t<tr><td>01000005</td><td>Visviri</td><td>-17.595</td><td>-69.4831</td><td>2000</td><td>01</td><td>28</td><td>0.000</td></tr>\n",
              "\t<tr><td>01000005</td><td>Visviri</td><td>-17.595</td><td>-69.4831</td><td>2000</td><td>01</td><td>29</td><td>1.700</td></tr>\n",
              "\t<tr><td>01000005</td><td>Visviri</td><td>-17.595</td><td>-69.4831</td><td>2000</td><td>01</td><td>30</td><td>0.000</td></tr>\n",
              "\t<tr><td>⋮</td><td>⋮</td><td>⋮</td><td>⋮</td><td>⋮</td><td>⋮</td><td>⋮</td><td>⋮</td></tr>\n",
              "\t<tr><td>530005</td><td>Fuentes Martinez Porvenir Ad.</td><td>-53.1875</td><td>-70.3203</td><td>2017</td><td>12</td><td>02</td><td>NA    </td></tr>\n",
              "\t<tr><td>530005</td><td>Fuentes Martinez Porvenir Ad.</td><td>-53.1875</td><td>-70.3203</td><td>2017</td><td>12</td><td>03</td><td>3.600 </td></tr>\n",
              "\t<tr><td>530005</td><td>Fuentes Martinez Porvenir Ad.</td><td>-53.1875</td><td>-70.3203</td><td>2017</td><td>12</td><td>04</td><td>0.000 </td></tr>\n",
              "\t<tr><td>530005</td><td>Fuentes Martinez Porvenir Ad.</td><td>-53.1875</td><td>-70.3203</td><td>2017</td><td>12</td><td>05</td><td>0.000 </td></tr>\n",
              "\t<tr><td>530005</td><td>Fuentes Martinez Porvenir Ad.</td><td>-53.1875</td><td>-70.3203</td><td>2017</td><td>12</td><td>06</td><td>9.900 </td></tr>\n",
              "\t<tr><td>530005</td><td>Fuentes Martinez Porvenir Ad.</td><td>-53.1875</td><td>-70.3203</td><td>2017</td><td>12</td><td>07</td><td>0.000 </td></tr>\n",
              "\t<tr><td>530005</td><td>Fuentes Martinez Porvenir Ad.</td><td>-53.1875</td><td>-70.3203</td><td>2017</td><td>12</td><td>08</td><td>0.000 </td></tr>\n",
              "\t<tr><td>530005</td><td>Fuentes Martinez Porvenir Ad.</td><td>-53.1875</td><td>-70.3203</td><td>2017</td><td>12</td><td>09</td><td>NA    </td></tr>\n",
              "\t<tr><td>530005</td><td>Fuentes Martinez Porvenir Ad.</td><td>-53.1875</td><td>-70.3203</td><td>2017</td><td>12</td><td>10</td><td>0.100 </td></tr>\n",
              "\t<tr><td>530005</td><td>Fuentes Martinez Porvenir Ad.</td><td>-53.1875</td><td>-70.3203</td><td>2017</td><td>12</td><td>11</td><td>1.900 </td></tr>\n",
              "\t<tr><td>530005</td><td>Fuentes Martinez Porvenir Ad.</td><td>-53.1875</td><td>-70.3203</td><td>2017</td><td>12</td><td>12</td><td>0.000 </td></tr>\n",
              "\t<tr><td>530005</td><td>Fuentes Martinez Porvenir Ad.</td><td>-53.1875</td><td>-70.3203</td><td>2017</td><td>12</td><td>13</td><td>0.000 </td></tr>\n",
              "\t<tr><td>530005</td><td>Fuentes Martinez Porvenir Ad.</td><td>-53.1875</td><td>-70.3203</td><td>2017</td><td>12</td><td>14</td><td>2.100 </td></tr>\n",
              "\t<tr><td>530005</td><td>Fuentes Martinez Porvenir Ad.</td><td>-53.1875</td><td>-70.3203</td><td>2017</td><td>12</td><td>15</td><td>0.600 </td></tr>\n",
              "\t<tr><td>530005</td><td>Fuentes Martinez Porvenir Ad.</td><td>-53.1875</td><td>-70.3203</td><td>2017</td><td>12</td><td>16</td><td>NA    </td></tr>\n",
              "\t<tr><td>530005</td><td>Fuentes Martinez Porvenir Ad.</td><td>-53.1875</td><td>-70.3203</td><td>2017</td><td>12</td><td>17</td><td>0.000 </td></tr>\n",
              "\t<tr><td>530005</td><td>Fuentes Martinez Porvenir Ad.</td><td>-53.1875</td><td>-70.3203</td><td>2017</td><td>12</td><td>18</td><td>0.000 </td></tr>\n",
              "\t<tr><td>530005</td><td>Fuentes Martinez Porvenir Ad.</td><td>-53.1875</td><td>-70.3203</td><td>2017</td><td>12</td><td>19</td><td>24.900</td></tr>\n",
              "\t<tr><td>530005</td><td>Fuentes Martinez Porvenir Ad.</td><td>-53.1875</td><td>-70.3203</td><td>2017</td><td>12</td><td>20</td><td>2.200 </td></tr>\n",
              "\t<tr><td>530005</td><td>Fuentes Martinez Porvenir Ad.</td><td>-53.1875</td><td>-70.3203</td><td>2017</td><td>12</td><td>21</td><td>0.000 </td></tr>\n",
              "\t<tr><td>530005</td><td>Fuentes Martinez Porvenir Ad.</td><td>-53.1875</td><td>-70.3203</td><td>2017</td><td>12</td><td>22</td><td>0.000 </td></tr>\n",
              "\t<tr><td>530005</td><td>Fuentes Martinez Porvenir Ad.</td><td>-53.1875</td><td>-70.3203</td><td>2017</td><td>12</td><td>23</td><td>NA    </td></tr>\n",
              "\t<tr><td>530005</td><td>Fuentes Martinez Porvenir Ad.</td><td>-53.1875</td><td>-70.3203</td><td>2017</td><td>12</td><td>24</td><td>NA    </td></tr>\n",
              "\t<tr><td>530005</td><td>Fuentes Martinez Porvenir Ad.</td><td>-53.1875</td><td>-70.3203</td><td>2017</td><td>12</td><td>25</td><td>0.000 </td></tr>\n",
              "\t<tr><td>530005</td><td>Fuentes Martinez Porvenir Ad.</td><td>-53.1875</td><td>-70.3203</td><td>2017</td><td>12</td><td>26</td><td>0.000 </td></tr>\n",
              "\t<tr><td>530005</td><td>Fuentes Martinez Porvenir Ad.</td><td>-53.1875</td><td>-70.3203</td><td>2017</td><td>12</td><td>27</td><td>0.300 </td></tr>\n",
              "\t<tr><td>530005</td><td>Fuentes Martinez Porvenir Ad.</td><td>-53.1875</td><td>-70.3203</td><td>2017</td><td>12</td><td>28</td><td>0.900 </td></tr>\n",
              "\t<tr><td>530005</td><td>Fuentes Martinez Porvenir Ad.</td><td>-53.1875</td><td>-70.3203</td><td>2017</td><td>12</td><td>29</td><td>2.800 </td></tr>\n",
              "\t<tr><td>530005</td><td>Fuentes Martinez Porvenir Ad.</td><td>-53.1875</td><td>-70.3203</td><td>2017</td><td>12</td><td>30</td><td>NA    </td></tr>\n",
              "\t<tr><td>530005</td><td>Fuentes Martinez Porvenir Ad.</td><td>-53.1875</td><td>-70.3203</td><td>2017</td><td>12</td><td>31</td><td>NA    </td></tr>\n",
              "</tbody>\n",
              "</table>\n"
            ]
          },
          "metadata": {}
        }
      ]
    },
    {
      "cell_type": "code",
      "metadata": {
        "colab": {
          "base_uri": "https://localhost:8080/",
          "height": 1000
        },
        "id": "aKgEr9XXS0U3",
        "outputId": "9ac22306-daa9-44bd-d2e8-4d4522482cb4"
      },
      "source": [
        "tmp <- tm %>% select( c(\"codigo_estacion\") | \"2000-01-01\":\"2017-12-31\")%>%\n",
        "        pivot_longer(cols = \"2000-01-01\":\"2017-12-31\",\n",
        "        values_to = \"Temperatura\",\n",
        "        names_to = c(\"Año\", \"Mes\", \"Dia\"),\n",
        "        names_pattern = \"(....)-(..)-(..)\")\n",
        "\n",
        "tmp"
      ],
      "execution_count": 16,
      "outputs": [
        {
          "output_type": "display_data",
          "data": {
            "text/plain": [
              "        codigo_estacion Año  Mes Dia Temperatura\n",
              "1       01000005        2000 01  01  NA         \n",
              "2       01000005        2000 01  02  NA         \n",
              "3       01000005        2000 01  03  NA         \n",
              "4       01000005        2000 01  04  NA         \n",
              "5       01000005        2000 01  05  NA         \n",
              "6       01000005        2000 01  06  NA         \n",
              "7       01000005        2000 01  07  NA         \n",
              "8       01000005        2000 01  08  NA         \n",
              "9       01000005        2000 01  09  NA         \n",
              "10      01000005        2000 01  10  NA         \n",
              "11      01000005        2000 01  11  NA         \n",
              "12      01000005        2000 01  12  NA         \n",
              "13      01000005        2000 01  13  NA         \n",
              "14      01000005        2000 01  14  NA         \n",
              "15      01000005        2000 01  15  NA         \n",
              "16      01000005        2000 01  16  NA         \n",
              "17      01000005        2000 01  17  NA         \n",
              "18      01000005        2000 01  18  NA         \n",
              "19      01000005        2000 01  19  NA         \n",
              "20      01000005        2000 01  20  NA         \n",
              "21      01000005        2000 01  21  NA         \n",
              "22      01000005        2000 01  22  NA         \n",
              "23      01000005        2000 01  23  NA         \n",
              "24      01000005        2000 01  24  NA         \n",
              "25      01000005        2000 01  25  NA         \n",
              "26      01000005        2000 01  26  NA         \n",
              "27      01000005        2000 01  27  NA         \n",
              "28      01000005        2000 01  28  NA         \n",
              "29      01000005        2000 01  29  NA         \n",
              "30      01000005        2000 01  30  NA         \n",
              "⋮       ⋮               ⋮    ⋮   ⋮   ⋮          \n",
              "5917471 AYW00090001     2017 12  02  -33.100    \n",
              "5917472 AYW00090001     2017 12  03  -33.700    \n",
              "5917473 AYW00090001     2017 12  04  -33.800    \n",
              "5917474 AYW00090001     2017 12  05  -33.300    \n",
              "5917475 AYW00090001     2017 12  06  -32.600    \n",
              "5917476 AYW00090001     2017 12  07  -32.100    \n",
              "5917477 AYW00090001     2017 12  08  -31.200    \n",
              "5917478 AYW00090001     2017 12  09  -30.400    \n",
              "5917479 AYW00090001     2017 12  10  -28.500    \n",
              "5917480 AYW00090001     2017 12  11  -28.900    \n",
              "5917481 AYW00090001     2017 12  12  -28.200    \n",
              "5917482 AYW00090001     2017 12  13  -28.100    \n",
              "5917483 AYW00090001     2017 12  14  -27.500    \n",
              "5917484 AYW00090001     2017 12  15  -27.800    \n",
              "5917485 AYW00090001     2017 12  16  -28.100    \n",
              "5917486 AYW00090001     2017 12  17  -26.600    \n",
              "5917487 AYW00090001     2017 12  18  -27.800    \n",
              "5917488 AYW00090001     2017 12  19  -28.800    \n",
              "5917489 AYW00090001     2017 12  20  -25.600    \n",
              "5917490 AYW00090001     2017 12  21  -25.400    \n",
              "5917491 AYW00090001     2017 12  22  -24.400    \n",
              "5917492 AYW00090001     2017 12  23  -24.700    \n",
              "5917493 AYW00090001     2017 12  24  -24.700    \n",
              "5917494 AYW00090001     2017 12  25  -25.400    \n",
              "5917495 AYW00090001     2017 12  26  -25.300    \n",
              "5917496 AYW00090001     2017 12  27  -23.300    \n",
              "5917497 AYW00090001     2017 12  28  -21.000    \n",
              "5917498 AYW00090001     2017 12  29  -21.900    \n",
              "5917499 AYW00090001     2017 12  30  -21.800    \n",
              "5917500 AYW00090001     2017 12  31  -22.800    "
            ],
            "text/latex": "A tibble: 5917500 × 5\n\\begin{tabular}{lllll}\n codigo\\_estacion & Año & Mes & Dia & Temperatura\\\\\n <chr> & <chr> & <chr> & <chr> & <chr>\\\\\n\\hline\n\t 01000005 & 2000 & 01 & 01 & NA\\\\\n\t 01000005 & 2000 & 01 & 02 & NA\\\\\n\t 01000005 & 2000 & 01 & 03 & NA\\\\\n\t 01000005 & 2000 & 01 & 04 & NA\\\\\n\t 01000005 & 2000 & 01 & 05 & NA\\\\\n\t 01000005 & 2000 & 01 & 06 & NA\\\\\n\t 01000005 & 2000 & 01 & 07 & NA\\\\\n\t 01000005 & 2000 & 01 & 08 & NA\\\\\n\t 01000005 & 2000 & 01 & 09 & NA\\\\\n\t 01000005 & 2000 & 01 & 10 & NA\\\\\n\t 01000005 & 2000 & 01 & 11 & NA\\\\\n\t 01000005 & 2000 & 01 & 12 & NA\\\\\n\t 01000005 & 2000 & 01 & 13 & NA\\\\\n\t 01000005 & 2000 & 01 & 14 & NA\\\\\n\t 01000005 & 2000 & 01 & 15 & NA\\\\\n\t 01000005 & 2000 & 01 & 16 & NA\\\\\n\t 01000005 & 2000 & 01 & 17 & NA\\\\\n\t 01000005 & 2000 & 01 & 18 & NA\\\\\n\t 01000005 & 2000 & 01 & 19 & NA\\\\\n\t 01000005 & 2000 & 01 & 20 & NA\\\\\n\t 01000005 & 2000 & 01 & 21 & NA\\\\\n\t 01000005 & 2000 & 01 & 22 & NA\\\\\n\t 01000005 & 2000 & 01 & 23 & NA\\\\\n\t 01000005 & 2000 & 01 & 24 & NA\\\\\n\t 01000005 & 2000 & 01 & 25 & NA\\\\\n\t 01000005 & 2000 & 01 & 26 & NA\\\\\n\t 01000005 & 2000 & 01 & 27 & NA\\\\\n\t 01000005 & 2000 & 01 & 28 & NA\\\\\n\t 01000005 & 2000 & 01 & 29 & NA\\\\\n\t 01000005 & 2000 & 01 & 30 & NA\\\\\n\t ⋮ & ⋮ & ⋮ & ⋮ & ⋮\\\\\n\t AYW00090001 & 2017 & 12 & 02 & -33.100\\\\\n\t AYW00090001 & 2017 & 12 & 03 & -33.700\\\\\n\t AYW00090001 & 2017 & 12 & 04 & -33.800\\\\\n\t AYW00090001 & 2017 & 12 & 05 & -33.300\\\\\n\t AYW00090001 & 2017 & 12 & 06 & -32.600\\\\\n\t AYW00090001 & 2017 & 12 & 07 & -32.100\\\\\n\t AYW00090001 & 2017 & 12 & 08 & -31.200\\\\\n\t AYW00090001 & 2017 & 12 & 09 & -30.400\\\\\n\t AYW00090001 & 2017 & 12 & 10 & -28.500\\\\\n\t AYW00090001 & 2017 & 12 & 11 & -28.900\\\\\n\t AYW00090001 & 2017 & 12 & 12 & -28.200\\\\\n\t AYW00090001 & 2017 & 12 & 13 & -28.100\\\\\n\t AYW00090001 & 2017 & 12 & 14 & -27.500\\\\\n\t AYW00090001 & 2017 & 12 & 15 & -27.800\\\\\n\t AYW00090001 & 2017 & 12 & 16 & -28.100\\\\\n\t AYW00090001 & 2017 & 12 & 17 & -26.600\\\\\n\t AYW00090001 & 2017 & 12 & 18 & -27.800\\\\\n\t AYW00090001 & 2017 & 12 & 19 & -28.800\\\\\n\t AYW00090001 & 2017 & 12 & 20 & -25.600\\\\\n\t AYW00090001 & 2017 & 12 & 21 & -25.400\\\\\n\t AYW00090001 & 2017 & 12 & 22 & -24.400\\\\\n\t AYW00090001 & 2017 & 12 & 23 & -24.700\\\\\n\t AYW00090001 & 2017 & 12 & 24 & -24.700\\\\\n\t AYW00090001 & 2017 & 12 & 25 & -25.400\\\\\n\t AYW00090001 & 2017 & 12 & 26 & -25.300\\\\\n\t AYW00090001 & 2017 & 12 & 27 & -23.300\\\\\n\t AYW00090001 & 2017 & 12 & 28 & -21.000\\\\\n\t AYW00090001 & 2017 & 12 & 29 & -21.900\\\\\n\t AYW00090001 & 2017 & 12 & 30 & -21.800\\\\\n\t AYW00090001 & 2017 & 12 & 31 & -22.800\\\\\n\\end{tabular}\n",
            "text/markdown": "\nA tibble: 5917500 × 5\n\n| codigo_estacion &lt;chr&gt; | Año &lt;chr&gt; | Mes &lt;chr&gt; | Dia &lt;chr&gt; | Temperatura &lt;chr&gt; |\n|---|---|---|---|---|\n| 01000005 | 2000 | 01 | 01 | NA |\n| 01000005 | 2000 | 01 | 02 | NA |\n| 01000005 | 2000 | 01 | 03 | NA |\n| 01000005 | 2000 | 01 | 04 | NA |\n| 01000005 | 2000 | 01 | 05 | NA |\n| 01000005 | 2000 | 01 | 06 | NA |\n| 01000005 | 2000 | 01 | 07 | NA |\n| 01000005 | 2000 | 01 | 08 | NA |\n| 01000005 | 2000 | 01 | 09 | NA |\n| 01000005 | 2000 | 01 | 10 | NA |\n| 01000005 | 2000 | 01 | 11 | NA |\n| 01000005 | 2000 | 01 | 12 | NA |\n| 01000005 | 2000 | 01 | 13 | NA |\n| 01000005 | 2000 | 01 | 14 | NA |\n| 01000005 | 2000 | 01 | 15 | NA |\n| 01000005 | 2000 | 01 | 16 | NA |\n| 01000005 | 2000 | 01 | 17 | NA |\n| 01000005 | 2000 | 01 | 18 | NA |\n| 01000005 | 2000 | 01 | 19 | NA |\n| 01000005 | 2000 | 01 | 20 | NA |\n| 01000005 | 2000 | 01 | 21 | NA |\n| 01000005 | 2000 | 01 | 22 | NA |\n| 01000005 | 2000 | 01 | 23 | NA |\n| 01000005 | 2000 | 01 | 24 | NA |\n| 01000005 | 2000 | 01 | 25 | NA |\n| 01000005 | 2000 | 01 | 26 | NA |\n| 01000005 | 2000 | 01 | 27 | NA |\n| 01000005 | 2000 | 01 | 28 | NA |\n| 01000005 | 2000 | 01 | 29 | NA |\n| 01000005 | 2000 | 01 | 30 | NA |\n| ⋮ | ⋮ | ⋮ | ⋮ | ⋮ |\n| AYW00090001 | 2017 | 12 | 02 | -33.100 |\n| AYW00090001 | 2017 | 12 | 03 | -33.700 |\n| AYW00090001 | 2017 | 12 | 04 | -33.800 |\n| AYW00090001 | 2017 | 12 | 05 | -33.300 |\n| AYW00090001 | 2017 | 12 | 06 | -32.600 |\n| AYW00090001 | 2017 | 12 | 07 | -32.100 |\n| AYW00090001 | 2017 | 12 | 08 | -31.200 |\n| AYW00090001 | 2017 | 12 | 09 | -30.400 |\n| AYW00090001 | 2017 | 12 | 10 | -28.500 |\n| AYW00090001 | 2017 | 12 | 11 | -28.900 |\n| AYW00090001 | 2017 | 12 | 12 | -28.200 |\n| AYW00090001 | 2017 | 12 | 13 | -28.100 |\n| AYW00090001 | 2017 | 12 | 14 | -27.500 |\n| AYW00090001 | 2017 | 12 | 15 | -27.800 |\n| AYW00090001 | 2017 | 12 | 16 | -28.100 |\n| AYW00090001 | 2017 | 12 | 17 | -26.600 |\n| AYW00090001 | 2017 | 12 | 18 | -27.800 |\n| AYW00090001 | 2017 | 12 | 19 | -28.800 |\n| AYW00090001 | 2017 | 12 | 20 | -25.600 |\n| AYW00090001 | 2017 | 12 | 21 | -25.400 |\n| AYW00090001 | 2017 | 12 | 22 | -24.400 |\n| AYW00090001 | 2017 | 12 | 23 | -24.700 |\n| AYW00090001 | 2017 | 12 | 24 | -24.700 |\n| AYW00090001 | 2017 | 12 | 25 | -25.400 |\n| AYW00090001 | 2017 | 12 | 26 | -25.300 |\n| AYW00090001 | 2017 | 12 | 27 | -23.300 |\n| AYW00090001 | 2017 | 12 | 28 | -21.000 |\n| AYW00090001 | 2017 | 12 | 29 | -21.900 |\n| AYW00090001 | 2017 | 12 | 30 | -21.800 |\n| AYW00090001 | 2017 | 12 | 31 | -22.800 |\n\n",
            "text/html": [
              "<table class=\"dataframe\">\n",
              "<caption>A tibble: 5917500 × 5</caption>\n",
              "<thead>\n",
              "\t<tr><th scope=col>codigo_estacion</th><th scope=col>Año</th><th scope=col>Mes</th><th scope=col>Dia</th><th scope=col>Temperatura</th></tr>\n",
              "\t<tr><th scope=col>&lt;chr&gt;</th><th scope=col>&lt;chr&gt;</th><th scope=col>&lt;chr&gt;</th><th scope=col>&lt;chr&gt;</th><th scope=col>&lt;chr&gt;</th></tr>\n",
              "</thead>\n",
              "<tbody>\n",
              "\t<tr><td>01000005</td><td>2000</td><td>01</td><td>01</td><td>NA</td></tr>\n",
              "\t<tr><td>01000005</td><td>2000</td><td>01</td><td>02</td><td>NA</td></tr>\n",
              "\t<tr><td>01000005</td><td>2000</td><td>01</td><td>03</td><td>NA</td></tr>\n",
              "\t<tr><td>01000005</td><td>2000</td><td>01</td><td>04</td><td>NA</td></tr>\n",
              "\t<tr><td>01000005</td><td>2000</td><td>01</td><td>05</td><td>NA</td></tr>\n",
              "\t<tr><td>01000005</td><td>2000</td><td>01</td><td>06</td><td>NA</td></tr>\n",
              "\t<tr><td>01000005</td><td>2000</td><td>01</td><td>07</td><td>NA</td></tr>\n",
              "\t<tr><td>01000005</td><td>2000</td><td>01</td><td>08</td><td>NA</td></tr>\n",
              "\t<tr><td>01000005</td><td>2000</td><td>01</td><td>09</td><td>NA</td></tr>\n",
              "\t<tr><td>01000005</td><td>2000</td><td>01</td><td>10</td><td>NA</td></tr>\n",
              "\t<tr><td>01000005</td><td>2000</td><td>01</td><td>11</td><td>NA</td></tr>\n",
              "\t<tr><td>01000005</td><td>2000</td><td>01</td><td>12</td><td>NA</td></tr>\n",
              "\t<tr><td>01000005</td><td>2000</td><td>01</td><td>13</td><td>NA</td></tr>\n",
              "\t<tr><td>01000005</td><td>2000</td><td>01</td><td>14</td><td>NA</td></tr>\n",
              "\t<tr><td>01000005</td><td>2000</td><td>01</td><td>15</td><td>NA</td></tr>\n",
              "\t<tr><td>01000005</td><td>2000</td><td>01</td><td>16</td><td>NA</td></tr>\n",
              "\t<tr><td>01000005</td><td>2000</td><td>01</td><td>17</td><td>NA</td></tr>\n",
              "\t<tr><td>01000005</td><td>2000</td><td>01</td><td>18</td><td>NA</td></tr>\n",
              "\t<tr><td>01000005</td><td>2000</td><td>01</td><td>19</td><td>NA</td></tr>\n",
              "\t<tr><td>01000005</td><td>2000</td><td>01</td><td>20</td><td>NA</td></tr>\n",
              "\t<tr><td>01000005</td><td>2000</td><td>01</td><td>21</td><td>NA</td></tr>\n",
              "\t<tr><td>01000005</td><td>2000</td><td>01</td><td>22</td><td>NA</td></tr>\n",
              "\t<tr><td>01000005</td><td>2000</td><td>01</td><td>23</td><td>NA</td></tr>\n",
              "\t<tr><td>01000005</td><td>2000</td><td>01</td><td>24</td><td>NA</td></tr>\n",
              "\t<tr><td>01000005</td><td>2000</td><td>01</td><td>25</td><td>NA</td></tr>\n",
              "\t<tr><td>01000005</td><td>2000</td><td>01</td><td>26</td><td>NA</td></tr>\n",
              "\t<tr><td>01000005</td><td>2000</td><td>01</td><td>27</td><td>NA</td></tr>\n",
              "\t<tr><td>01000005</td><td>2000</td><td>01</td><td>28</td><td>NA</td></tr>\n",
              "\t<tr><td>01000005</td><td>2000</td><td>01</td><td>29</td><td>NA</td></tr>\n",
              "\t<tr><td>01000005</td><td>2000</td><td>01</td><td>30</td><td>NA</td></tr>\n",
              "\t<tr><td>⋮</td><td>⋮</td><td>⋮</td><td>⋮</td><td>⋮</td></tr>\n",
              "\t<tr><td>AYW00090001</td><td>2017</td><td>12</td><td>02</td><td>-33.100</td></tr>\n",
              "\t<tr><td>AYW00090001</td><td>2017</td><td>12</td><td>03</td><td>-33.700</td></tr>\n",
              "\t<tr><td>AYW00090001</td><td>2017</td><td>12</td><td>04</td><td>-33.800</td></tr>\n",
              "\t<tr><td>AYW00090001</td><td>2017</td><td>12</td><td>05</td><td>-33.300</td></tr>\n",
              "\t<tr><td>AYW00090001</td><td>2017</td><td>12</td><td>06</td><td>-32.600</td></tr>\n",
              "\t<tr><td>AYW00090001</td><td>2017</td><td>12</td><td>07</td><td>-32.100</td></tr>\n",
              "\t<tr><td>AYW00090001</td><td>2017</td><td>12</td><td>08</td><td>-31.200</td></tr>\n",
              "\t<tr><td>AYW00090001</td><td>2017</td><td>12</td><td>09</td><td>-30.400</td></tr>\n",
              "\t<tr><td>AYW00090001</td><td>2017</td><td>12</td><td>10</td><td>-28.500</td></tr>\n",
              "\t<tr><td>AYW00090001</td><td>2017</td><td>12</td><td>11</td><td>-28.900</td></tr>\n",
              "\t<tr><td>AYW00090001</td><td>2017</td><td>12</td><td>12</td><td>-28.200</td></tr>\n",
              "\t<tr><td>AYW00090001</td><td>2017</td><td>12</td><td>13</td><td>-28.100</td></tr>\n",
              "\t<tr><td>AYW00090001</td><td>2017</td><td>12</td><td>14</td><td>-27.500</td></tr>\n",
              "\t<tr><td>AYW00090001</td><td>2017</td><td>12</td><td>15</td><td>-27.800</td></tr>\n",
              "\t<tr><td>AYW00090001</td><td>2017</td><td>12</td><td>16</td><td>-28.100</td></tr>\n",
              "\t<tr><td>AYW00090001</td><td>2017</td><td>12</td><td>17</td><td>-26.600</td></tr>\n",
              "\t<tr><td>AYW00090001</td><td>2017</td><td>12</td><td>18</td><td>-27.800</td></tr>\n",
              "\t<tr><td>AYW00090001</td><td>2017</td><td>12</td><td>19</td><td>-28.800</td></tr>\n",
              "\t<tr><td>AYW00090001</td><td>2017</td><td>12</td><td>20</td><td>-25.600</td></tr>\n",
              "\t<tr><td>AYW00090001</td><td>2017</td><td>12</td><td>21</td><td>-25.400</td></tr>\n",
              "\t<tr><td>AYW00090001</td><td>2017</td><td>12</td><td>22</td><td>-24.400</td></tr>\n",
              "\t<tr><td>AYW00090001</td><td>2017</td><td>12</td><td>23</td><td>-24.700</td></tr>\n",
              "\t<tr><td>AYW00090001</td><td>2017</td><td>12</td><td>24</td><td>-24.700</td></tr>\n",
              "\t<tr><td>AYW00090001</td><td>2017</td><td>12</td><td>25</td><td>-25.400</td></tr>\n",
              "\t<tr><td>AYW00090001</td><td>2017</td><td>12</td><td>26</td><td>-25.300</td></tr>\n",
              "\t<tr><td>AYW00090001</td><td>2017</td><td>12</td><td>27</td><td>-23.300</td></tr>\n",
              "\t<tr><td>AYW00090001</td><td>2017</td><td>12</td><td>28</td><td>-21.000</td></tr>\n",
              "\t<tr><td>AYW00090001</td><td>2017</td><td>12</td><td>29</td><td>-21.900</td></tr>\n",
              "\t<tr><td>AYW00090001</td><td>2017</td><td>12</td><td>30</td><td>-21.800</td></tr>\n",
              "\t<tr><td>AYW00090001</td><td>2017</td><td>12</td><td>31</td><td>-22.800</td></tr>\n",
              "</tbody>\n",
              "</table>\n"
            ]
          },
          "metadata": {}
        }
      ]
    },
    {
      "cell_type": "code",
      "metadata": {
        "id": "s2ha39_weMq-"
      },
      "source": [
        ""
      ],
      "execution_count": null,
      "outputs": []
    },
    {
      "cell_type": "code",
      "metadata": {
        "id": "4lkHlNtRAm_l"
      },
      "source": [
        "X_full <- ppp %>%\n",
        "        inner_join(tmp, by=c(\"codigo_estacion\",\"Año\",\t\"Mes\",\"Dia\"))%>%\n",
        "        mutate(Precipitacion=as.double(Precipitacion),\n",
        "               Temperatura=as.double(Temperatura),        \n",
        "               BPrecipitacion=ifelse(Precipitacion>0,1, 0)) %>%        \n",
        "        group_by(codigo_estacion)%>%\n",
        "        mutate(YPrecipitacion=shift(Precipitacion,1),\n",
        "               YTemperatura=shift(Temperatura,1)) %>%\n",
        "        ungroup()%>%\n",
        "        group_by(codigo_estacion,Mes,Dia )%>%\n",
        "        mutate(MPrecipitacion=mean(Precipitacion,na.rm=TRUE),\n",
        "               MTemperatura=mean(Temperatura,na.rm=TRUE)) %>%        \n",
        "        ungroup()\n",
        "              \n"
      ],
      "execution_count": 38,
      "outputs": []
    },
    {
      "cell_type": "code",
      "metadata": {
        "id": "JvXCaRAlBQdC",
        "colab": {
          "base_uri": "https://localhost:8080/"
        },
        "outputId": "23722b7b-ad9a-460d-f577-23938db58f00"
      },
      "source": [
        "df <-apply(X = is.na(X_full), MARGIN = 2, FUN = mean)\n",
        "print(df*100)\n"
      ],
      "execution_count": 39,
      "outputs": [
        {
          "output_type": "stream",
          "text": [
            "codigo_estacion          nombre         latitud        longitud             Año \n",
            "       0.000000        0.000000        0.000000        0.000000        0.000000 \n",
            "            Mes             Dia   Precipitacion     Temperatura  BPrecipitacion \n",
            "       0.000000        0.000000       35.842078       81.099333       35.842078 \n",
            " YPrecipitacion    YTemperatura  MPrecipitacion    MTemperatura \n",
            "      35.849707       81.107156        9.561243       40.888106 \n"
          ],
          "name": "stdout"
        }
      ]
    },
    {
      "cell_type": "markdown",
      "metadata": {
        "id": "BzyN4zihiqzR"
      },
      "source": [
        "## KNN"
      ]
    },
    {
      "cell_type": "code",
      "metadata": {
        "colab": {
          "base_uri": "https://localhost:8080/"
        },
        "id": "Zlgq_4vpmGS7",
        "outputId": "bfd9bdd1-7700-41b3-8b61-be07e414a57c"
      },
      "source": [
        "install.packages(\"caTools\")"
      ],
      "execution_count": 57,
      "outputs": [
        {
          "output_type": "stream",
          "text": [
            "Installing package into ‘/usr/local/lib/R/site-library’\n",
            "(as ‘lib’ is unspecified)\n",
            "\n",
            "also installing the dependency ‘bitops’\n",
            "\n",
            "\n"
          ],
          "name": "stderr"
        }
      ]
    },
    {
      "cell_type": "code",
      "metadata": {
        "id": "RDY3Dfx-iqRg"
      },
      "source": [
        "library(class)\n",
        "library(caTools)"
      ],
      "execution_count": 58,
      "outputs": []
    },
    {
      "cell_type": "code",
      "metadata": {
        "id": "T5_1PjicjVMK"
      },
      "source": [
        "X<- X_full%>%\n",
        "        filter(Año==2017& Mes==12 & Dia==14)%>%\n",
        "        select(\"latitud\", \"longitud\",\"BPrecipitacion\")%>%\n",
        "        drop_na()%>%\n",
        "        select(\"latitud\", \"longitud\")\n"
      ],
      "execution_count": 90,
      "outputs": []
    },
    {
      "cell_type": "code",
      "metadata": {
        "id": "AurjSQjLmpT8"
      },
      "source": [
        "Y<- X_full%>%\n",
        "        filter(Año==2017& Mes==12 & Dia==14)%>%\n",
        "        select(\"latitud\", \"longitud\",\"BPrecipitacion\")%>%\n",
        "        drop_na()%>%\n",
        "        select(\"BPrecipitacion\")\n"
      ],
      "execution_count": 94,
      "outputs": []
    },
    {
      "cell_type": "code",
      "metadata": {
        "id": "oqIJq_FRkkPP"
      },
      "source": [
        "set.seed(101) \n",
        "sample = sample.split(X$longitud, SplitRatio = .75)\n",
        "\n",
        "X_train = subset(X, sample == TRUE)\n",
        "X_test  = subset(X, sample == FALSE)\n",
        "Y_train = subset(Y, sample == TRUE)\n",
        "Y_test  = subset(Y, sample == FALSE)"
      ],
      "execution_count": 95,
      "outputs": []
    },
    {
      "cell_type": "code",
      "metadata": {
        "colab": {
          "base_uri": "https://localhost:8080/",
          "height": 84
        },
        "id": "cO8uD0yGjNvT",
        "outputId": "995e0322-3611-4723-e588-6fa368f3a2c9"
      },
      "source": [
        "knn.prd=knn(X_train,X_test,Y_train[[\"BPrecipitacion\"]],k=5,prob=TRUE)\n",
        "table(knn.prd,Y_test[[\"BPrecipitacion\"]])"
      ],
      "execution_count": 97,
      "outputs": [
        {
          "output_type": "display_data",
          "data": {
            "text/plain": [
              "       \n",
              "knn.prd  0  1\n",
              "      0 23  1\n",
              "      1  3 14"
            ]
          },
          "metadata": {}
        }
      ]
    },
    {
      "cell_type": "markdown",
      "metadata": {
        "id": "IcUGl504zDLD"
      },
      "source": [
        "Acá calculamos los indicadores."
      ]
    },
    {
      "cell_type": "markdown",
      "metadata": {
        "id": "nzCA9H38q6Tw"
      },
      "source": [
        "# Regresion Logistica"
      ]
    },
    {
      "cell_type": "code",
      "metadata": {
        "colab": {
          "base_uri": "https://localhost:8080/",
          "height": 302
        },
        "id": "ZWUB7BIJ09Xb",
        "outputId": "05818f06-c569-4606-f649-126c17bcb40e"
      },
      "source": [
        "head(X_full)"
      ],
      "execution_count": 107,
      "outputs": [
        {
          "output_type": "display_data",
          "data": {
            "text/plain": [
              "  codigo_estacion nombre  latitud longitud Año  Mes Dia Precipitacion\n",
              "1 01000005        Visviri -17.595 -69.4831 2000 01  01  0            \n",
              "2 01000005        Visviri -17.595 -69.4831 2000 01  02  0            \n",
              "3 01000005        Visviri -17.595 -69.4831 2000 01  03  0            \n",
              "4 01000005        Visviri -17.595 -69.4831 2000 01  04  0            \n",
              "5 01000005        Visviri -17.595 -69.4831 2000 01  05  1            \n",
              "6 01000005        Visviri -17.595 -69.4831 2000 01  06  2            \n",
              "  Temperatura BPrecipitacion YPrecipitacion YTemperatura MPrecipitacion\n",
              "1 NA          0              NA             NA           1.266667      \n",
              "2 NA          0               0             NA           2.377778      \n",
              "3 NA          0               0             NA           1.827778      \n",
              "4 NA          0               0             NA           2.694444      \n",
              "5 NA          1               0             NA           2.488889      \n",
              "6 NA          1               1             NA           1.911111      \n",
              "  MTemperatura\n",
              "1 6.274500    \n",
              "2 8.321000    \n",
              "3 8.791333    \n",
              "4 7.106333    \n",
              "5 6.775667    \n",
              "6 7.486000    "
            ],
            "text/latex": "A tibble: 6 × 14\n\\begin{tabular}{llllllllllllll}\n codigo\\_estacion & nombre & latitud & longitud & Año & Mes & Dia & Precipitacion & Temperatura & BPrecipitacion & YPrecipitacion & YTemperatura & MPrecipitacion & MTemperatura\\\\\n <chr> & <chr> & <chr> & <chr> & <chr> & <chr> & <chr> & <dbl> & <dbl> & <dbl> & <dbl> & <dbl> & <dbl> & <dbl>\\\\\n\\hline\n\t 01000005 & Visviri & -17.595 & -69.4831 & 2000 & 01 & 01 & 0 & NA & 0 & NA & NA & 1.266667 & 6.274500\\\\\n\t 01000005 & Visviri & -17.595 & -69.4831 & 2000 & 01 & 02 & 0 & NA & 0 &  0 & NA & 2.377778 & 8.321000\\\\\n\t 01000005 & Visviri & -17.595 & -69.4831 & 2000 & 01 & 03 & 0 & NA & 0 &  0 & NA & 1.827778 & 8.791333\\\\\n\t 01000005 & Visviri & -17.595 & -69.4831 & 2000 & 01 & 04 & 0 & NA & 0 &  0 & NA & 2.694444 & 7.106333\\\\\n\t 01000005 & Visviri & -17.595 & -69.4831 & 2000 & 01 & 05 & 1 & NA & 1 &  0 & NA & 2.488889 & 6.775667\\\\\n\t 01000005 & Visviri & -17.595 & -69.4831 & 2000 & 01 & 06 & 2 & NA & 1 &  1 & NA & 1.911111 & 7.486000\\\\\n\\end{tabular}\n",
            "text/markdown": "\nA tibble: 6 × 14\n\n| codigo_estacion &lt;chr&gt; | nombre &lt;chr&gt; | latitud &lt;chr&gt; | longitud &lt;chr&gt; | Año &lt;chr&gt; | Mes &lt;chr&gt; | Dia &lt;chr&gt; | Precipitacion &lt;dbl&gt; | Temperatura &lt;dbl&gt; | BPrecipitacion &lt;dbl&gt; | YPrecipitacion &lt;dbl&gt; | YTemperatura &lt;dbl&gt; | MPrecipitacion &lt;dbl&gt; | MTemperatura &lt;dbl&gt; |\n|---|---|---|---|---|---|---|---|---|---|---|---|---|---|\n| 01000005 | Visviri | -17.595 | -69.4831 | 2000 | 01 | 01 | 0 | NA | 0 | NA | NA | 1.266667 | 6.274500 |\n| 01000005 | Visviri | -17.595 | -69.4831 | 2000 | 01 | 02 | 0 | NA | 0 |  0 | NA | 2.377778 | 8.321000 |\n| 01000005 | Visviri | -17.595 | -69.4831 | 2000 | 01 | 03 | 0 | NA | 0 |  0 | NA | 1.827778 | 8.791333 |\n| 01000005 | Visviri | -17.595 | -69.4831 | 2000 | 01 | 04 | 0 | NA | 0 |  0 | NA | 2.694444 | 7.106333 |\n| 01000005 | Visviri | -17.595 | -69.4831 | 2000 | 01 | 05 | 1 | NA | 1 |  0 | NA | 2.488889 | 6.775667 |\n| 01000005 | Visviri | -17.595 | -69.4831 | 2000 | 01 | 06 | 2 | NA | 1 |  1 | NA | 1.911111 | 7.486000 |\n\n",
            "text/html": [
              "<table class=\"dataframe\">\n",
              "<caption>A tibble: 6 × 14</caption>\n",
              "<thead>\n",
              "\t<tr><th scope=col>codigo_estacion</th><th scope=col>nombre</th><th scope=col>latitud</th><th scope=col>longitud</th><th scope=col>Año</th><th scope=col>Mes</th><th scope=col>Dia</th><th scope=col>Precipitacion</th><th scope=col>Temperatura</th><th scope=col>BPrecipitacion</th><th scope=col>YPrecipitacion</th><th scope=col>YTemperatura</th><th scope=col>MPrecipitacion</th><th scope=col>MTemperatura</th></tr>\n",
              "\t<tr><th scope=col>&lt;chr&gt;</th><th scope=col>&lt;chr&gt;</th><th scope=col>&lt;chr&gt;</th><th scope=col>&lt;chr&gt;</th><th scope=col>&lt;chr&gt;</th><th scope=col>&lt;chr&gt;</th><th scope=col>&lt;chr&gt;</th><th scope=col>&lt;dbl&gt;</th><th scope=col>&lt;dbl&gt;</th><th scope=col>&lt;dbl&gt;</th><th scope=col>&lt;dbl&gt;</th><th scope=col>&lt;dbl&gt;</th><th scope=col>&lt;dbl&gt;</th><th scope=col>&lt;dbl&gt;</th></tr>\n",
              "</thead>\n",
              "<tbody>\n",
              "\t<tr><td>01000005</td><td>Visviri</td><td>-17.595</td><td>-69.4831</td><td>2000</td><td>01</td><td>01</td><td>0</td><td>NA</td><td>0</td><td>NA</td><td>NA</td><td>1.266667</td><td>6.274500</td></tr>\n",
              "\t<tr><td>01000005</td><td>Visviri</td><td>-17.595</td><td>-69.4831</td><td>2000</td><td>01</td><td>02</td><td>0</td><td>NA</td><td>0</td><td> 0</td><td>NA</td><td>2.377778</td><td>8.321000</td></tr>\n",
              "\t<tr><td>01000005</td><td>Visviri</td><td>-17.595</td><td>-69.4831</td><td>2000</td><td>01</td><td>03</td><td>0</td><td>NA</td><td>0</td><td> 0</td><td>NA</td><td>1.827778</td><td>8.791333</td></tr>\n",
              "\t<tr><td>01000005</td><td>Visviri</td><td>-17.595</td><td>-69.4831</td><td>2000</td><td>01</td><td>04</td><td>0</td><td>NA</td><td>0</td><td> 0</td><td>NA</td><td>2.694444</td><td>7.106333</td></tr>\n",
              "\t<tr><td>01000005</td><td>Visviri</td><td>-17.595</td><td>-69.4831</td><td>2000</td><td>01</td><td>05</td><td>1</td><td>NA</td><td>1</td><td> 0</td><td>NA</td><td>2.488889</td><td>6.775667</td></tr>\n",
              "\t<tr><td>01000005</td><td>Visviri</td><td>-17.595</td><td>-69.4831</td><td>2000</td><td>01</td><td>06</td><td>2</td><td>NA</td><td>1</td><td> 1</td><td>NA</td><td>1.911111</td><td>7.486000</td></tr>\n",
              "</tbody>\n",
              "</table>\n"
            ]
          },
          "metadata": {}
        }
      ]
    },
    {
      "cell_type": "code",
      "metadata": {
        "id": "sqBsBSFa03mJ"
      },
      "source": [
        "datax <- X_full%>% \n",
        "        select(c(\"BPrecipitacion\", \"Temperatura\", \"YPrecipitacion\", \"YTemperatura\", \"MPrecipitacion\", \"MTemperatura\"))%>%\n",
        "        drop_na()\n",
        "\n",
        "set.seed(101) \n",
        "sample = sample.split(datax$BPrecipitacion, SplitRatio = .75)\n",
        "\n",
        "train = subset(datax, sample == TRUE)\n",
        "test  = subset(datax, sample == FALSE)"
      ],
      "execution_count": 113,
      "outputs": []
    },
    {
      "cell_type": "code",
      "metadata": {
        "colab": {
          "base_uri": "https://localhost:8080/",
          "height": 470
        },
        "id": "om6RERspq5_d",
        "outputId": "0e8b2162-691a-4982-b9fc-7374bb88a257"
      },
      "source": [
        "m1 <- glm(BPrecipitacion ~ YPrecipitacion+YTemperatura+MPrecipitacion , family = binomial,data=train)\n",
        "summary(m1)"
      ],
      "execution_count": 114,
      "outputs": [
        {
          "output_type": "stream",
          "text": [
            "Warning message:\n",
            "“glm.fit: fitted probabilities numerically 0 or 1 occurred”\n"
          ],
          "name": "stderr"
        },
        {
          "output_type": "display_data",
          "data": {
            "text/plain": [
              "\n",
              "Call:\n",
              "glm(formula = BPrecipitacion ~ YPrecipitacion + YTemperatura + \n",
              "    MPrecipitacion, family = binomial, data = train)\n",
              "\n",
              "Deviance Residuals: \n",
              "    Min       1Q   Median       3Q      Max  \n",
              "-8.4904  -0.7815  -0.5556   0.9496   2.4279  \n",
              "\n",
              "Coefficients:\n",
              "                Estimate Std. Error z value Pr(>|z|)    \n",
              "(Intercept)    -0.483337   0.009485  -50.96   <2e-16 ***\n",
              "YPrecipitacion  0.129755   0.001350   96.12   <2e-16 ***\n",
              "YTemperatura   -0.083634   0.000759 -110.19   <2e-16 ***\n",
              "MPrecipitacion  0.145454   0.001669   87.18   <2e-16 ***\n",
              "---\n",
              "Signif. codes:  0 ‘***’ 0.001 ‘**’ 0.01 ‘*’ 0.05 ‘.’ 0.1 ‘ ’ 1\n",
              "\n",
              "(Dispersion parameter for binomial family taken to be 1)\n",
              "\n",
              "    Null deviance: 341637  on 275308  degrees of freedom\n",
              "Residual deviance: 287296  on 275305  degrees of freedom\n",
              "AIC: 287304\n",
              "\n",
              "Number of Fisher Scoring iterations: 6\n"
            ]
          },
          "metadata": {}
        }
      ]
    },
    {
      "cell_type": "code",
      "metadata": {
        "colab": {
          "base_uri": "https://localhost:8080/",
          "height": 84
        },
        "id": "asnbvy3k2Oic",
        "outputId": "d2d5ea58-8fc0-4081-9911-431cc42eaaa7"
      },
      "source": [
        "pred<- predict.glm(m1,newdata = test, type=\"response\")\n",
        "result1<- table(test$BPrecipitacion, floor(pred+0.5))\n",
        "result1"
      ],
      "execution_count": 117,
      "outputs": [
        {
          "output_type": "display_data",
          "data": {
            "text/plain": [
              "   \n",
              "        0     1\n",
              "  0 58991  4173\n",
              "  1 19652  8954"
            ]
          },
          "metadata": {}
        }
      ]
    }
  ]
}