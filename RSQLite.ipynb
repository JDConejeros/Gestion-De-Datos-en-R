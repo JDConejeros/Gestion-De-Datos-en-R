{
  "nbformat": 4,
  "nbformat_minor": 0,
  "metadata": {
    "colab": {
      "name": "RSQLite.ipynb",
      "provenance": [],
      "authorship_tag": "ABX9TyNbxbBYHQaodOVWAOgSkByd",
      "include_colab_link": true
    },
    "kernelspec": {
      "display_name": "R",
      "name": "ir"
    },
    "language_info": {
      "name": "R"
    }
  },
  "cells": [
    {
      "cell_type": "markdown",
      "metadata": {
        "id": "view-in-github",
        "colab_type": "text"
      },
      "source": [
        "<a href=\"https://colab.research.google.com/github/maxigaarp/Gestion-De-Datos-en-R/blob/main/RSQLite.ipynb\" target=\"_parent\"><img src=\"https://colab.research.google.com/assets/colab-badge.svg\" alt=\"Open In Colab\"/></a>"
      ]
    },
    {
      "cell_type": "code",
      "metadata": {
        "id": "emf82M2zjoNM"
      },
      "source": [
        "system(\"gdown https://drive.google.com/uc?id=1-4yIBsv8Z1aAz8kMRbMC4OXEe7kVZ_td\")\n",
        "system(\"gdown https://drive.google.com/uc?id=1-OqMYeOe-f4u1VbU1H0sCSGSK5PsAh30\")\n",
        "system(\"gdown https://drive.google.com/uc?id=1-IbkHHJyxxnhlKb7dCbw5nOq_imr4qrg\")"
      ],
      "execution_count": 1,
      "outputs": []
    },
    {
      "cell_type": "code",
      "metadata": {
        "id": "vqNzarYJoFDf"
      },
      "source": [
        "system(\"gdown https://drive.google.com/uc?id=1-4yIBsv8Z1aAz8kMRbMC4OXEe7kVZ_td\")\n"
      ],
      "execution_count": 3,
      "outputs": []
    },
    {
      "cell_type": "code",
      "metadata": {
        "colab": {
          "base_uri": "https://localhost:8080/"
        },
        "id": "yTzMLFcrOkTa",
        "outputId": "9fa5fba3-b10c-4dc2-fe74-d423c9654b41"
      },
      "source": [
        "install.packages(\"RSQLite\")"
      ],
      "execution_count": 2,
      "outputs": [
        {
          "output_type": "stream",
          "text": [
            "Installing package into ‘/usr/local/lib/R/site-library’\n",
            "(as ‘lib’ is unspecified)\n",
            "\n",
            "also installing the dependencies ‘bit’, ‘bit64’, ‘plogr’\n",
            "\n",
            "\n"
          ],
          "name": "stderr"
        }
      ]
    },
    {
      "cell_type": "code",
      "metadata": {
        "id": "uJ-JzpFoOerL"
      },
      "source": [
        "library(\"DBI\")\n",
        "library(\"RSQLite\")"
      ],
      "execution_count": null,
      "outputs": []
    },
    {
      "cell_type": "markdown",
      "metadata": {
        "id": "pLa7OPQHIrit"
      },
      "source": [
        "# Primera base de datos: Autos"
      ]
    },
    {
      "cell_type": "code",
      "metadata": {
        "id": "39SNKV8W_kfd"
      },
      "source": [
        "data(\"mtcars\")\n",
        "mtcars"
      ],
      "execution_count": null,
      "outputs": []
    },
    {
      "cell_type": "code",
      "metadata": {
        "id": "6OsI0dxiAdrU"
      },
      "source": [
        "mtcars$car_names <- rownames(mtcars)\n",
        "rownames(mtcars) <- c()\n",
        "head(mtcars)\n"
      ],
      "execution_count": null,
      "outputs": []
    },
    {
      "cell_type": "code",
      "metadata": {
        "id": "9-OxHPFv_jIU"
      },
      "source": [
        "conn <- dbConnect(RSQLite::SQLite(), \"CarsDB.db\")"
      ],
      "execution_count": null,
      "outputs": []
    },
    {
      "cell_type": "code",
      "metadata": {
        "id": "j39d7XwyBi06"
      },
      "source": [
        "dbWriteTable(conn, \"cars_data\", mtcars)\n",
        "\n",
        "dbListTables(conn) #lista de tablas"
      ],
      "execution_count": null,
      "outputs": []
    },
    {
      "cell_type": "code",
      "metadata": {
        "id": "vbEW1YNfB77c"
      },
      "source": [
        "  # Create toy data frames\n",
        "car <- c('Camaro', 'California', 'Mustang', 'Explorer')\n",
        "make <- c('Chevrolet','Ferrari','Ford','Ford')\n",
        "df1 <- data.frame(car,make)\n",
        "car <- c('Corolla', 'Lancer', 'Sportage', 'XE')\n",
        "make <- c('Toyota','Mitsubishi','Kia','Jaguar')\n",
        "df2 <- data.frame(car,make)\n",
        "\n",
        "\n",
        "dbWriteTable(conn,\"Cars_and_Makes\", df1)\n",
        "\n",
        "dbWriteTable(conn,\"Cars_and_Makes\", df2, append = TRUE)\n",
        "\n",
        "# List all the Tables\n",
        "dbListTables(conn)"
      ],
      "execution_count": null,
      "outputs": []
    },
    {
      "cell_type": "code",
      "metadata": {
        "id": "b9xKTuoeDlzE"
      },
      "source": [
        "dbWriteTable(conn,\"Cars_and_Makes\", df1)\n"
      ],
      "execution_count": null,
      "outputs": []
    },
    {
      "cell_type": "code",
      "metadata": {
        "id": "pMM59pbiICeu"
      },
      "source": [
        "dbGetQuery(conn, \"SELECT * FROM Cars_and_Makes\")\n"
      ],
      "execution_count": null,
      "outputs": []
    },
    {
      "cell_type": "code",
      "metadata": {
        "id": "kaRroOVJDpmj"
      },
      "source": [
        "dbWriteTable(conn,\"Cars_and_Makes\", df2, append = TRUE)"
      ],
      "execution_count": null,
      "outputs": []
    },
    {
      "cell_type": "code",
      "metadata": {
        "id": "0pkyxwo2IFOj"
      },
      "source": [
        "dbGetQuery(conn, \"SELECT * FROM Cars_and_Makes\")\n"
      ],
      "execution_count": null,
      "outputs": []
    },
    {
      "cell_type": "code",
      "metadata": {
        "id": "0KG5qeezpA3u"
      },
      "source": [
        "dbExecute(conn, \"DELETE FROM cars_data WHERE car_names = 'Mazda RX4'\")\n"
      ],
      "execution_count": null,
      "outputs": []
    },
    {
      "cell_type": "code",
      "metadata": {
        "id": "OiJa3UbnpGbf"
      },
      "source": [
        "dbGetQuery(conn, \"SELECT * FROM cars_data\")"
      ],
      "execution_count": null,
      "outputs": []
    },
    {
      "cell_type": "code",
      "metadata": {
        "id": "LmH-gCuSojbk"
      },
      "source": [
        "dbExecute(conn, \"INSERT INTO cars_data VALUES (21.0,6,160.0,110,3.90,2.620,16.46,0,1,4,4,'Mazda RX4')\")\n"
      ],
      "execution_count": null,
      "outputs": []
    },
    {
      "cell_type": "code",
      "metadata": {
        "id": "Mph5cE3Eoqxo"
      },
      "source": [
        "dbGetQuery(conn, \"SELECT * FROM cars_data\")\n"
      ],
      "execution_count": null,
      "outputs": []
    },
    {
      "cell_type": "code",
      "metadata": {
        "id": "3BHD0QsinUEs"
      },
      "source": [
        "mpg <-  18\n",
        "cyl <- 6\n",
        "\n",
        "Result <- dbGetQuery(conn, 'SELECT car_names, mpg, cyl FROM cars_data WHERE mpg >= ? AND cyl >= ?', params = c(mpg,cyl))\n",
        "\n"
      ],
      "execution_count": null,
      "outputs": []
    },
    {
      "cell_type": "code",
      "metadata": {
        "id": "rmz1NMBxnpRD"
      },
      "source": [
        "Result"
      ],
      "execution_count": null,
      "outputs": []
    },
    {
      "cell_type": "code",
      "metadata": {
        "id": "MCUnA5u40XaR"
      },
      "source": [
        "dbDisconnect(conn)\n"
      ],
      "execution_count": null,
      "outputs": []
    },
    {
      "cell_type": "markdown",
      "metadata": {
        "id": "ZI-CEasUlaZS"
      },
      "source": [
        "Ahora trabajen ustedes con las bases de datos. Programen un codigo que haga lo siguiente:\n",
        "\n",
        " * Crear base de datos \"viajes.db\".\n",
        " * Crear una esta base de datos para registrar viajes largos entre ciudades por métodos no convencionales (no auto, ni bus). Deben incluir una tabla para:\n",
        "  * Ciudad: con la cantidad de campings y visitantes del año 2020. \n",
        "  * Caminos: entre ciudades, con numero de KM entre ellas. \n",
        "  * Viajeros: con su metodo de transporte y nombre \n",
        "Y una cuarta base para poder registrar el itinerario y extraer la velocidad promedio.\n",
        " * Introduzcan un itinerario por la Carretera Austral con a lo menos 5 paradas en la base de datos.\n",
        " * Escriba las siguientes consultas:\n",
        "  * Obtener la velocidad promedio de desplazamiento por usuario\n",
        "  * Obtener camino más transitado.\n",
        "  * Dias alojados en cada ciudad para el total de viajeros.\n",
        "  * Metodo de transporte mas utilizado.\n",
        "\n",
        "\n"
      ]
    },
    {
      "cell_type": "code",
      "metadata": {
        "id": "CSgegKP0lZ6m"
      },
      "source": [
        ""
      ],
      "execution_count": null,
      "outputs": []
    },
    {
      "cell_type": "markdown",
      "metadata": {
        "id": "eDpkZ2OTI29q"
      },
      "source": [
        "# Segunda base de datos: Actores y Peliculas "
      ]
    },
    {
      "cell_type": "code",
      "metadata": {
        "id": "W0WW5JYsOIEp"
      },
      "source": [
        "conn <- dbConnect(RSQLite::SQLite(), \"imdb.db\")\n",
        "dbListTables(conn)"
      ],
      "execution_count": null,
      "outputs": []
    },
    {
      "cell_type": "code",
      "metadata": {
        "id": "k8z_xZU90yMH"
      },
      "source": [
        "dbExecute(conn, \"CREATE TABLE Peliculas (id int,nombre varchar(20),año int DEFAULT(YEAR(GETDATE())),categoria varchar(20),director varchar(20) ,calificacion float,  PRIMARY KEY (id));\")"
      ],
      "execution_count": null,
      "outputs": []
    },
    {
      "cell_type": "code",
      "metadata": {
        "id": "bfV9wPm_6QYW"
      },
      "source": [
        "dbGetQuery(conn, \"PRAGMA table_info(Peliculas)\")"
      ],
      "execution_count": null,
      "outputs": []
    },
    {
      "cell_type": "code",
      "metadata": {
        "id": "6BCaGleL52c4"
      },
      "source": [
        "dbExecute(conn, \"ALTER TABLE Peliculas DROP calificacion\")"
      ],
      "execution_count": null,
      "outputs": []
    },
    {
      "cell_type": "code",
      "metadata": {
        "id": "mvVE3Je78To0"
      },
      "source": [
        "dbExecute(conn, \"ALTER TABLE Peliculas ADD COLUMN calificacion\")"
      ],
      "execution_count": null,
      "outputs": []
    },
    {
      "cell_type": "code",
      "metadata": {
        "id": "uo7W-9a98Hg_"
      },
      "source": [
        "peliculas<- read.csv(\"/content/peliculas.csv\")"
      ],
      "execution_count": null,
      "outputs": []
    },
    {
      "cell_type": "code",
      "metadata": {
        "id": "4KYBI-ml7bM1"
      },
      "source": [
        "dbWriteTable(conn,\"Peliculas\", peliculas,append = TRUE)\n"
      ],
      "execution_count": null,
      "outputs": []
    },
    {
      "cell_type": "code",
      "metadata": {
        "id": "gqPdt3EE709Y"
      },
      "source": [
        "dbGetQuery(conn, \"select * from Peliculas\")"
      ],
      "execution_count": null,
      "outputs": []
    },
    {
      "cell_type": "code",
      "metadata": {
        "id": "tVNb9WTxfLQh"
      },
      "source": [
        "actuo_en<- read.csv(\"/content/actuo_en.csv\")\n",
        "actor<- read.csv(\"/content/actor.csv\")\n"
      ],
      "execution_count": null,
      "outputs": []
    },
    {
      "cell_type": "code",
      "metadata": {
        "id": "ySj1AqP-l3US"
      },
      "source": [
        "dbExecute(conn, \"CREATE TABLE Actores (id int PRIMARY KEY, nombre varchar(20), edad int)\")\n",
        "dbWriteTable(conn,\"Actores\", actor,append = TRUE)\n"
      ],
      "execution_count": null,
      "outputs": []
    },
    {
      "cell_type": "code",
      "metadata": {
        "id": "3Ftdg1iI_HNH"
      },
      "source": [
        "dbExecute(conn, \"CREATE TABLE Actuo_en (id_actor int ,id_pelicula int, nombre_personaje varchar(20), CONSTRAINT fk_column FOREIGN KEY (id_actor) REFERENCES actor(id),CONSTRAINT fk_column FOREIGN KEY (id_pelicula) REFERENCES peliculas(id))\")\n",
        "dbWriteTable(conn,\"Actuo_en\", actuo_en, append = TRUE)\n"
      ],
      "execution_count": null,
      "outputs": []
    },
    {
      "cell_type": "code",
      "metadata": {
        "id": "7JaCf2jM8k4e"
      },
      "source": [
        "dbGetQuery(conn, \"PRAGMA table_info(Actuo_en)\")\n"
      ],
      "execution_count": null,
      "outputs": []
    },
    {
      "cell_type": "code",
      "metadata": {
        "id": "-BW0QD_LCWoU"
      },
      "source": [
        "dbExecute(conn, \"PRAGMA foreign_keys = ON;\")\n"
      ],
      "execution_count": null,
      "outputs": []
    },
    {
      "cell_type": "code",
      "metadata": {
        "id": "SHm43Jvr8qTp"
      },
      "source": [
        "dbGetQuery(conn,\"select * from Actuo_en\")"
      ],
      "execution_count": null,
      "outputs": []
    },
    {
      "cell_type": "code",
      "metadata": {
        "id": "o2pp27pFN3x8"
      },
      "source": [
        "dbExecute(conn,\"INSERT INTO Actuo_en VALUES (10,10,'El Bicho')\")"
      ],
      "execution_count": null,
      "outputs": []
    },
    {
      "cell_type": "code",
      "metadata": {
        "id": "qjTnBCNV95DN"
      },
      "source": [
        "dbGetQuery(conn, \"\")"
      ],
      "execution_count": null,
      "outputs": []
    },
    {
      "cell_type": "markdown",
      "metadata": {
        "id": "xlRGVIxjJWSY"
      },
      "source": [
        "# Tercera base de datos\n",
        "\n",
        "\n"
      ]
    },
    {
      "cell_type": "code",
      "metadata": {
        "id": "mnt82j5GP0Oy"
      },
      "source": [
        "conn <- dbConnect(RSQLite::SQLite(), \"riiid.db\")\n",
        "dbListTables(conn)"
      ],
      "execution_count": null,
      "outputs": []
    },
    {
      "cell_type": "code",
      "metadata": {
        "id": "9vRmLMJKPsJa"
      },
      "source": [
        "dbWriteTable(conn , name = \"train\", \n",
        "                  value = \"/content/train.csv\",\n",
        "                  row.names = FALSE, header = T, sep=',',\n",
        "                  colClasses='character')\n"
      ],
      "execution_count": null,
      "outputs": []
    },
    {
      "cell_type": "code",
      "metadata": {
        "id": "u_LX-NeBDwTR"
      },
      "source": [
        "dbWriteTable(conn , name = \"questions\", \n",
        "                  value = \"/content/questions.csv\",\n",
        "                  row.names = FALSE, header = T, sep=',',\n",
        "                  colClasses='character')\n"
      ],
      "execution_count": null,
      "outputs": []
    },
    {
      "cell_type": "code",
      "metadata": {
        "id": "RHWttyWrD0Wf"
      },
      "source": [
        "dbWriteTable(conn , name = \"lectures\", \n",
        "                  value = \"/content/lectures.csv\",\n",
        "                  row.names = FALSE, header = T, sep=',',\n",
        "                  colClasses='character')"
      ],
      "execution_count": null,
      "outputs": []
    },
    {
      "cell_type": "code",
      "metadata": {
        "id": "M8mWrloTLo1G"
      },
      "source": [
        "dbGetQuery(conn,\"select * from train limit 100\")"
      ],
      "execution_count": null,
      "outputs": []
    },
    {
      "cell_type": "code",
      "metadata": {
        "id": "AVAYGIutNbMr"
      },
      "source": [
        "dbGetQuery(conn, \"SELECT\n",
        "    user_id,\n",
        "    content_id,\n",
        "    answered_correctly, \n",
        "    LAG(answered_correctly) OVER (\n",
        "        PARTITION BY user_id \n",
        "        ORDER BY (timestamp)) as prev_answered_correctly,\n",
        "    AVG(answered_correctly) OVER (PARTITION BY user_id) \n",
        "        AS mean_answered,\n",
        "    count(answered_correctly) OVER (PARTITION BY user_id)\n",
        "FROM\n",
        "    train\n",
        "    Limit 1000;\") # esto toma aproximadamente 10 min"
      ],
      "execution_count": null,
      "outputs": []
    },
    {
      "cell_type": "code",
      "metadata": {
        "id": "tpNJaG_NOQIp"
      },
      "source": [
        "install.packages(\"tictoc\")\n",
        "library(tictoc)"
      ],
      "execution_count": null,
      "outputs": []
    },
    {
      "cell_type": "code",
      "metadata": {
        "id": "PygYVfLhWgh9"
      },
      "source": [
        "tic()\n",
        "query <- dbSendQuery(conn, \"\n",
        "SELECT\n",
        "    user_id,\n",
        "    content_id,\n",
        "    answered_correctly, \n",
        "    LAG(answered_correctly) OVER (\n",
        "        PARTITION BY user_id \n",
        "        ORDER BY (timestamp)) as prev_answered_correctly,\n",
        "    AVG(answered_correctly) OVER (PARTITION BY user_id) \n",
        "        AS mean_answered,\n",
        "    count(answered_correctly) OVER (PARTITION BY user_id)\n",
        "FROM\n",
        "  train\")\n",
        "toc()"
      ],
      "execution_count": null,
      "outputs": []
    },
    {
      "cell_type": "code",
      "metadata": {
        "id": "KgkGMMthRFHi"
      },
      "source": [
        "tic()\n",
        "query <- dbSendQuery(conn, \"SELECT * FROM train;\")\n",
        "toc()"
      ],
      "execution_count": null,
      "outputs": []
    },
    {
      "cell_type": "code",
      "metadata": {
        "id": "rXab-5L0Go6u"
      },
      "source": [
        "dbFetch(query,n=100)"
      ],
      "execution_count": null,
      "outputs": []
    },
    {
      "cell_type": "code",
      "metadata": {
        "id": "vRKXsuKoPvsj"
      },
      "source": [
        "DBI::dbHasCompleted(query)"
      ],
      "execution_count": null,
      "outputs": []
    },
    {
      "cell_type": "code",
      "metadata": {
        "id": "i1Say2pmQmHm"
      },
      "source": [
        "DBI::dbDisconnect(conn)"
      ],
      "execution_count": null,
      "outputs": []
    }
  ]
}