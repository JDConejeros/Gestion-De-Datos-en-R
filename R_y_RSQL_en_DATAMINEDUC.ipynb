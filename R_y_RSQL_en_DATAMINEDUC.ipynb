{
  "nbformat": 4,
  "nbformat_minor": 0,
  "metadata": {
    "colab": {
      "name": "R y RSQL en DATAMINEDUC",
      "provenance": [],
      "include_colab_link": true
    },
    "kernelspec": {
      "display_name": "R",
      "name": "ir"
    },
    "language_info": {
      "name": "R"
    }
  },
  "cells": [
    {
      "cell_type": "markdown",
      "metadata": {
        "id": "view-in-github",
        "colab_type": "text"
      },
      "source": [
        "<a href=\"https://colab.research.google.com/github/maxigaarp/Gestion-De-Datos-en-R/blob/main/R_y_RSQL_en_DATAMINEDUC.ipynb\" target=\"_parent\"><img src=\"https://colab.research.google.com/assets/colab-badge.svg\" alt=\"Open In Colab\"/></a>"
      ]
    },
    {
      "cell_type": "code",
      "metadata": {
        "id": "keQCe2LDzbyJ"
      },
      "source": [
        "system(\"gdown https://drive.google.com/uc?id=1q089qSqKr7Ak29lUkzKSWjm2pcb_jzX0\")\n",
        "unzip(\"/content/matriculas_y_notas_anual.zip\")"
      ],
      "execution_count": null,
      "outputs": []
    },
    {
      "cell_type": "code",
      "metadata": {
        "colab": {
          "base_uri": "https://localhost:8080/"
        },
        "id": "lW3dpbxj0CPE",
        "outputId": "ce607823-3aac-4b00-ce5f-1bf733278fcd"
      },
      "source": [
        "install.packages(\"RSQLite\")\n",
        "install.packages(\"data.table\")"
      ],
      "execution_count": null,
      "outputs": [
        {
          "output_type": "stream",
          "text": [
            "Installing package into ‘/usr/local/lib/R/site-library’\n",
            "(as ‘lib’ is unspecified)\n",
            "\n",
            "also installing the dependencies ‘bit’, ‘bit64’, ‘plogr’\n",
            "\n",
            "\n",
            "Installing package into ‘/usr/local/lib/R/site-library’\n",
            "(as ‘lib’ is unspecified)\n",
            "\n"
          ],
          "name": "stderr"
        }
      ]
    },
    {
      "cell_type": "code",
      "metadata": {
        "colab": {
          "base_uri": "https://localhost:8080/"
        },
        "id": "Q4FkIYK-ZoAq",
        "outputId": "c8305c63-5d13-4897-d2f9-4ff45ba27230"
      },
      "source": [
        "library(data.table)\n",
        "library(RSQLite)\n",
        "library(tidyverse)"
      ],
      "execution_count": 1,
      "outputs": [
        {
          "output_type": "stream",
          "text": [
            "Warning message in system(\"timedatectl\", intern = TRUE):\n",
            "“running command 'timedatectl' had status 1”\n",
            "── \u001b[1mAttaching packages\u001b[22m ─────────────────────────────────────── tidyverse 1.3.1 ──\n",
            "\n",
            "\u001b[32m✔\u001b[39m \u001b[34mggplot2\u001b[39m 3.3.5     \u001b[32m✔\u001b[39m \u001b[34mpurrr  \u001b[39m 0.3.4\n",
            "\u001b[32m✔\u001b[39m \u001b[34mtibble \u001b[39m 3.1.2     \u001b[32m✔\u001b[39m \u001b[34mdplyr  \u001b[39m 1.0.7\n",
            "\u001b[32m✔\u001b[39m \u001b[34mtidyr  \u001b[39m 1.1.3     \u001b[32m✔\u001b[39m \u001b[34mstringr\u001b[39m 1.4.0\n",
            "\u001b[32m✔\u001b[39m \u001b[34mreadr  \u001b[39m 1.4.0     \u001b[32m✔\u001b[39m \u001b[34mforcats\u001b[39m 0.5.1\n",
            "\n",
            "── \u001b[1mConflicts\u001b[22m ────────────────────────────────────────── tidyverse_conflicts() ──\n",
            "\u001b[31m✖\u001b[39m \u001b[34mdplyr\u001b[39m::\u001b[32mbetween()\u001b[39m   masks \u001b[34mdata.table\u001b[39m::between()\n",
            "\u001b[31m✖\u001b[39m \u001b[34mdplyr\u001b[39m::\u001b[32mfilter()\u001b[39m    masks \u001b[34mstats\u001b[39m::filter()\n",
            "\u001b[31m✖\u001b[39m \u001b[34mdplyr\u001b[39m::\u001b[32mfirst()\u001b[39m     masks \u001b[34mdata.table\u001b[39m::first()\n",
            "\u001b[31m✖\u001b[39m \u001b[34mdplyr\u001b[39m::\u001b[32mlag()\u001b[39m       masks \u001b[34mstats\u001b[39m::lag()\n",
            "\u001b[31m✖\u001b[39m \u001b[34mdplyr\u001b[39m::\u001b[32mlast()\u001b[39m      masks \u001b[34mdata.table\u001b[39m::last()\n",
            "\u001b[31m✖\u001b[39m \u001b[34mpurrr\u001b[39m::\u001b[32mtranspose()\u001b[39m masks \u001b[34mdata.table\u001b[39m::transpose()\n",
            "\n"
          ],
          "name": "stderr"
        }
      ]
    },
    {
      "cell_type": "code",
      "metadata": {
        "id": "FN7pcFHmtFUi"
      },
      "source": [
        "system(\"gdown https://drive.google.com/uc?id=1bxebySwiYquw1B72xi1E_YrELXzDS4cC\")\n"
      ],
      "execution_count": null,
      "outputs": []
    },
    {
      "cell_type": "code",
      "metadata": {
        "id": "qyKrtC3AFBkL"
      },
      "source": [
        "system(\"mv /content/Rendimiento2013.csv /content/content/Datos/20210223_Rendimiento_2013.csv\")"
      ],
      "execution_count": null,
      "outputs": []
    },
    {
      "cell_type": "code",
      "metadata": {
        "id": "qkvJINK2Zj4U"
      },
      "source": [
        "conn <- dbConnect(RSQLite::SQLite(), \"mineduc.db\")\n"
      ],
      "execution_count": 2,
      "outputs": []
    },
    {
      "cell_type": "markdown",
      "metadata": {
        "id": "iM4LyT71B4Bj"
      },
      "source": [
        "Supongamos que queremos ver la cantidad de años que tiene cada alumno registrado a lo largo de los 18 años de datos disponibles en MINEDUC.\n",
        "\n",
        "Filtrando la información me quedo con una tabla de alumnos con su informacion relevante y otra con los colegios.\n"
      ]
    },
    {
      "cell_type": "markdown",
      "metadata": {
        "id": "yYWUHmuxhZhh"
      },
      "source": [
        "# Solo con R"
      ]
    },
    {
      "cell_type": "code",
      "metadata": {
        "id": "xurvtXVL-k54"
      },
      "source": [
        "colenames <- c(\"RBD\",\"AGNO\",\"NOM_RBD\",\"COD_REG_RBD\",\"NOM_COM_RBD\", \"COD_DEPE\",\"RURAL_RBD\")\n",
        "alnames <- c(\"MRUN\",\"AGNO\",\"RBD\",\"COD_ENSE\",\"COD_GRADO\",\"LET_CUR\",\n",
        "                              \"GEN_ALU\", \"FEC_NAC_ALU\",\"COD_COM_ALU\", \"SIT_FIN_R\",\n",
        "                              \"PROM_GRAL\", \"ASISTENCIA\")\n",
        "\n",
        "colegios=data.frame(matrix(nrow=0,ncol=length(colenames)))\n",
        "names(colegios)<- colenames\n",
        "\n",
        "alumnos=data.frame(matrix(nrow=0,ncol=length(alnames)))\n",
        "names(alumnos)<- alnames\n",
        "\n",
        "years<-2002:2020\n",
        "for (i in 1:length(years)) {\n",
        "  name=gsub(\"%\",years[i],\"/content/content/Datos/20210223_Rendimiento_%.csv\")\n",
        "  data=fread(name)\n",
        "  names(data) <- toupper(names(data))\n",
        "\n",
        "\n",
        "  coles <- data %>% \n",
        "    select(c(\"RBD\",\"AGNO\",\"NOM_RBD\",\"COD_REG_RBD\",\"NOM_COM_RBD\", \"COD_DEPE\",\"RURAL_RBD\"))%>% \n",
        "    distinct()\n",
        "  \n",
        "  alus <- data %>%\n",
        "        select(c(\"MRUN\",\"AGNO\",\"RBD\",\"COD_ENSE\",\"COD_GRADO\",\"LET_CUR\",\n",
        "                    \"GEN_ALU\", \"FEC_NAC_ALU\",\"COD_COM_ALU\", if (years[i]!=2014) \"SIT_FIN_R\" else \"SIT_FINAL_R\",\n",
        "                      \"PROM_GRAL\", \"ASISTENCIA\")) %>% \n",
        "        distinct()\n",
        "  names(alus)=alnames\n",
        "\n",
        "  colegios <- colegios %>%\n",
        "              rbind(coles)\n",
        "  alumnos <- alumnos %>%\n",
        "              rbind(alus)\n",
        "\n",
        "}\n"
      ],
      "execution_count": null,
      "outputs": []
    },
    {
      "cell_type": "code",
      "metadata": {
        "id": "uTI-doiRYpsm"
      },
      "source": [
        "grados <- alumnos %>%\n",
        "          group_by(MRUN) %>%\n",
        "          count(AGNO)"
      ],
      "execution_count": null,
      "outputs": []
    },
    {
      "cell_type": "markdown",
      "metadata": {
        "id": "Ud1R74_hheWH"
      },
      "source": [
        "# Cargando bases en SQL\n"
      ]
    },
    {
      "cell_type": "code",
      "metadata": {
        "id": "ZRwa-qfqcfbB"
      },
      "source": [
        "colenames <- c(\"RBD\",\"AGNO\",\"NOM_RBD\",\"COD_REG_RBD\",\"NOM_COM_RBD\", \"COD_DEPE\",\"RURAL_RBD\")\n",
        "alnames <- c(\"MRUN\",\"AGNO\",\"RBD\",\"COD_ENSE\",\"COD_GRADO\",\"LET_CUR\",\n",
        "             \"GEN_ALU\", \"FEC_NAC_ALU\",\"COD_COM_ALU\", \"SIT_FIN_R\",\n",
        "             \"PROM_GRAL\", \"ASISTENCIA\")\n",
        "\n",
        "years<-2002:2020\n",
        "for (i in 1:length(years)) {\n",
        "  name=gsub(\"%\",years[i],\"/content/content/Datos/20210223_Rendimiento_%.csv\")\n",
        "  data=fread(name)\n",
        "  names(data) <- toupper(names(data))\n",
        "\n",
        "\n",
        "  coles <- data %>% \n",
        "    select(colenames)%>% \n",
        "    distinct()\n",
        "  \n",
        "  alus <- data %>%\n",
        "        select(c(\"MRUN\",\"AGNO\",\"RBD\",\"COD_ENSE\",\"COD_GRADO\",\"LET_CUR\",\n",
        "                    \"GEN_ALU\", \"FEC_NAC_ALU\",\"COD_COM_ALU\", if (years[i]!=2014) \"SIT_FIN_R\" else \"SIT_FINAL_R\",\n",
        "                      \"PROM_GRAL\", \"ASISTENCIA\")) %>% \n",
        "        distinct()\n",
        "        \n",
        "  names(alus)=alnames\n",
        "\n",
        "  apnd=if (i==1) FALSE else TRUE\n",
        "\n",
        "  dbWriteTable(conn , name = \"colegios\", \n",
        "                  value = coles,\n",
        "                  row.names = FALSE, header = !apnd, sep=',',append=apnd,\n",
        "                  colClasses='character')\n",
        "\n",
        "  dbWriteTable(conn , name = \"alumnos\", \n",
        "                  value = alus,\n",
        "                  row.names = FALSE, header = !apnd, sep=',',append=apnd,\n",
        "                  colClasses='character')\n",
        "}"
      ],
      "execution_count": 5,
      "outputs": []
    },
    {
      "cell_type": "markdown",
      "metadata": {
        "id": "-1XT5utEDRgP"
      },
      "source": [
        "En particular podemos hacer consultas complicadas de manera rapida y sin preocuparnos por si el computador podrá darnos una respuesta antes de acabarse la memoria RAM.\n",
        "\n",
        "Supongamos que queremos ver si la asistencia influye en el rendimiento, para eso calculamos el promedio de asistencia y rendimiento "
      ]
    },
    {
      "cell_type": "markdown",
      "metadata": {
        "id": "E764HCrdXfQ-"
      },
      "source": [
        "Contar la cantidad de años que un alumno ha estado en el colegio"
      ]
    },
    {
      "cell_type": "code",
      "metadata": {
        "colab": {
          "base_uri": "https://localhost:8080/",
          "height": 1000
        },
        "id": "LnZit-FFTC6e",
        "outputId": "8376d28d-2658-4b2f-e69b-27c01db4dbc0"
      },
      "source": [
        "dbGetQuery(conn, \"\n",
        "SELECT  MRUN,\n",
        "        COUNT(AGNO)\n",
        "FROM alumnos\n",
        "GROUP BY MRUN;\")"
      ],
      "execution_count": null,
      "outputs": [
        {
          "output_type": "display_data",
          "data": {
            "text/html": [
              "<table class=\"dataframe\">\n",
              "<caption>A data.frame: 8515488 × 2</caption>\n",
              "<thead>\n",
              "\t<tr><th scope=col>MRUN</th><th scope=col>COUNT(AGNO)</th></tr>\n",
              "\t<tr><th scope=col>&lt;int&gt;</th><th scope=col>&lt;int&gt;</th></tr>\n",
              "</thead>\n",
              "<tbody>\n",
              "\t<tr><td>NA</td><td>6077</td></tr>\n",
              "\t<tr><td> 3</td><td>   6</td></tr>\n",
              "\t<tr><td> 4</td><td>   6</td></tr>\n",
              "\t<tr><td> 5</td><td>   8</td></tr>\n",
              "\t<tr><td>17</td><td>  13</td></tr>\n",
              "\t<tr><td>18</td><td>  13</td></tr>\n",
              "\t<tr><td>19</td><td>  12</td></tr>\n",
              "\t<tr><td>20</td><td>  17</td></tr>\n",
              "\t<tr><td>25</td><td>  13</td></tr>\n",
              "\t<tr><td>26</td><td>  12</td></tr>\n",
              "\t<tr><td>31</td><td>   1</td></tr>\n",
              "\t<tr><td>32</td><td>   1</td></tr>\n",
              "\t<tr><td>35</td><td>  12</td></tr>\n",
              "\t<tr><td>39</td><td>   1</td></tr>\n",
              "\t<tr><td>40</td><td>   5</td></tr>\n",
              "\t<tr><td>41</td><td>   6</td></tr>\n",
              "\t<tr><td>42</td><td>   7</td></tr>\n",
              "\t<tr><td>43</td><td>   7</td></tr>\n",
              "\t<tr><td>47</td><td>   2</td></tr>\n",
              "\t<tr><td>48</td><td>   3</td></tr>\n",
              "\t<tr><td>55</td><td>   5</td></tr>\n",
              "\t<tr><td>56</td><td>   5</td></tr>\n",
              "\t<tr><td>59</td><td>  14</td></tr>\n",
              "\t<tr><td>60</td><td>  18</td></tr>\n",
              "\t<tr><td>72</td><td>   1</td></tr>\n",
              "\t<tr><td>79</td><td>   7</td></tr>\n",
              "\t<tr><td>80</td><td>   7</td></tr>\n",
              "\t<tr><td>86</td><td>  10</td></tr>\n",
              "\t<tr><td>87</td><td>  10</td></tr>\n",
              "\t<tr><td>88</td><td>   7</td></tr>\n",
              "\t<tr><td>⋮</td><td>⋮</td></tr>\n",
              "\t<tr><td>26305732</td><td>1</td></tr>\n",
              "\t<tr><td>26305733</td><td>1</td></tr>\n",
              "\t<tr><td>26305734</td><td>1</td></tr>\n",
              "\t<tr><td>26305735</td><td>1</td></tr>\n",
              "\t<tr><td>26305736</td><td>1</td></tr>\n",
              "\t<tr><td>26305737</td><td>1</td></tr>\n",
              "\t<tr><td>26305738</td><td>1</td></tr>\n",
              "\t<tr><td>26305739</td><td>1</td></tr>\n",
              "\t<tr><td>26305740</td><td>1</td></tr>\n",
              "\t<tr><td>26305741</td><td>2</td></tr>\n",
              "\t<tr><td>26305742</td><td>1</td></tr>\n",
              "\t<tr><td>26305743</td><td>1</td></tr>\n",
              "\t<tr><td>26305744</td><td>1</td></tr>\n",
              "\t<tr><td>26305745</td><td>1</td></tr>\n",
              "\t<tr><td>26305746</td><td>1</td></tr>\n",
              "\t<tr><td>26305747</td><td>1</td></tr>\n",
              "\t<tr><td>26305748</td><td>1</td></tr>\n",
              "\t<tr><td>26305749</td><td>1</td></tr>\n",
              "\t<tr><td>26305750</td><td>1</td></tr>\n",
              "\t<tr><td>26305751</td><td>1</td></tr>\n",
              "\t<tr><td>26305752</td><td>1</td></tr>\n",
              "\t<tr><td>26305753</td><td>1</td></tr>\n",
              "\t<tr><td>26305754</td><td>1</td></tr>\n",
              "\t<tr><td>26305755</td><td>1</td></tr>\n",
              "\t<tr><td>26305756</td><td>1</td></tr>\n",
              "\t<tr><td>26305757</td><td>1</td></tr>\n",
              "\t<tr><td>26305758</td><td>1</td></tr>\n",
              "\t<tr><td>26305759</td><td>1</td></tr>\n",
              "\t<tr><td>26305760</td><td>1</td></tr>\n",
              "\t<tr><td>26305761</td><td>1</td></tr>\n",
              "</tbody>\n",
              "</table>\n"
            ],
            "text/latex": "A data.frame: 8515488 × 2\n\\begin{tabular}{ll}\n MRUN & COUNT(AGNO)\\\\\n <int> & <int>\\\\\n\\hline\n\t NA & 6077\\\\\n\t  3 &    6\\\\\n\t  4 &    6\\\\\n\t  5 &    8\\\\\n\t 17 &   13\\\\\n\t 18 &   13\\\\\n\t 19 &   12\\\\\n\t 20 &   17\\\\\n\t 25 &   13\\\\\n\t 26 &   12\\\\\n\t 31 &    1\\\\\n\t 32 &    1\\\\\n\t 35 &   12\\\\\n\t 39 &    1\\\\\n\t 40 &    5\\\\\n\t 41 &    6\\\\\n\t 42 &    7\\\\\n\t 43 &    7\\\\\n\t 47 &    2\\\\\n\t 48 &    3\\\\\n\t 55 &    5\\\\\n\t 56 &    5\\\\\n\t 59 &   14\\\\\n\t 60 &   18\\\\\n\t 72 &    1\\\\\n\t 79 &    7\\\\\n\t 80 &    7\\\\\n\t 86 &   10\\\\\n\t 87 &   10\\\\\n\t 88 &    7\\\\\n\t ⋮ & ⋮\\\\\n\t 26305732 & 1\\\\\n\t 26305733 & 1\\\\\n\t 26305734 & 1\\\\\n\t 26305735 & 1\\\\\n\t 26305736 & 1\\\\\n\t 26305737 & 1\\\\\n\t 26305738 & 1\\\\\n\t 26305739 & 1\\\\\n\t 26305740 & 1\\\\\n\t 26305741 & 2\\\\\n\t 26305742 & 1\\\\\n\t 26305743 & 1\\\\\n\t 26305744 & 1\\\\\n\t 26305745 & 1\\\\\n\t 26305746 & 1\\\\\n\t 26305747 & 1\\\\\n\t 26305748 & 1\\\\\n\t 26305749 & 1\\\\\n\t 26305750 & 1\\\\\n\t 26305751 & 1\\\\\n\t 26305752 & 1\\\\\n\t 26305753 & 1\\\\\n\t 26305754 & 1\\\\\n\t 26305755 & 1\\\\\n\t 26305756 & 1\\\\\n\t 26305757 & 1\\\\\n\t 26305758 & 1\\\\\n\t 26305759 & 1\\\\\n\t 26305760 & 1\\\\\n\t 26305761 & 1\\\\\n\\end{tabular}\n",
            "text/markdown": "\nA data.frame: 8515488 × 2\n\n| MRUN &lt;int&gt; | COUNT(AGNO) &lt;int&gt; |\n|---|---|\n| NA | 6077 |\n|  3 |    6 |\n|  4 |    6 |\n|  5 |    8 |\n| 17 |   13 |\n| 18 |   13 |\n| 19 |   12 |\n| 20 |   17 |\n| 25 |   13 |\n| 26 |   12 |\n| 31 |    1 |\n| 32 |    1 |\n| 35 |   12 |\n| 39 |    1 |\n| 40 |    5 |\n| 41 |    6 |\n| 42 |    7 |\n| 43 |    7 |\n| 47 |    2 |\n| 48 |    3 |\n| 55 |    5 |\n| 56 |    5 |\n| 59 |   14 |\n| 60 |   18 |\n| 72 |    1 |\n| 79 |    7 |\n| 80 |    7 |\n| 86 |   10 |\n| 87 |   10 |\n| 88 |    7 |\n| ⋮ | ⋮ |\n| 26305732 | 1 |\n| 26305733 | 1 |\n| 26305734 | 1 |\n| 26305735 | 1 |\n| 26305736 | 1 |\n| 26305737 | 1 |\n| 26305738 | 1 |\n| 26305739 | 1 |\n| 26305740 | 1 |\n| 26305741 | 2 |\n| 26305742 | 1 |\n| 26305743 | 1 |\n| 26305744 | 1 |\n| 26305745 | 1 |\n| 26305746 | 1 |\n| 26305747 | 1 |\n| 26305748 | 1 |\n| 26305749 | 1 |\n| 26305750 | 1 |\n| 26305751 | 1 |\n| 26305752 | 1 |\n| 26305753 | 1 |\n| 26305754 | 1 |\n| 26305755 | 1 |\n| 26305756 | 1 |\n| 26305757 | 1 |\n| 26305758 | 1 |\n| 26305759 | 1 |\n| 26305760 | 1 |\n| 26305761 | 1 |\n\n",
            "text/plain": [
              "        MRUN     COUNT(AGNO)\n",
              "1       NA       6077       \n",
              "2        3          6       \n",
              "3        4          6       \n",
              "4        5          8       \n",
              "5       17         13       \n",
              "6       18         13       \n",
              "7       19         12       \n",
              "8       20         17       \n",
              "9       25         13       \n",
              "10      26         12       \n",
              "11      31          1       \n",
              "12      32          1       \n",
              "13      35         12       \n",
              "14      39          1       \n",
              "15      40          5       \n",
              "16      41          6       \n",
              "17      42          7       \n",
              "18      43          7       \n",
              "19      47          2       \n",
              "20      48          3       \n",
              "21      55          5       \n",
              "22      56          5       \n",
              "23      59         14       \n",
              "24      60         18       \n",
              "25      72          1       \n",
              "26      79          7       \n",
              "27      80          7       \n",
              "28      86         10       \n",
              "29      87         10       \n",
              "30      88          7       \n",
              "⋮       ⋮        ⋮          \n",
              "8515459 26305732 1          \n",
              "8515460 26305733 1          \n",
              "8515461 26305734 1          \n",
              "8515462 26305735 1          \n",
              "8515463 26305736 1          \n",
              "8515464 26305737 1          \n",
              "8515465 26305738 1          \n",
              "8515466 26305739 1          \n",
              "8515467 26305740 1          \n",
              "8515468 26305741 2          \n",
              "8515469 26305742 1          \n",
              "8515470 26305743 1          \n",
              "8515471 26305744 1          \n",
              "8515472 26305745 1          \n",
              "8515473 26305746 1          \n",
              "8515474 26305747 1          \n",
              "8515475 26305748 1          \n",
              "8515476 26305749 1          \n",
              "8515477 26305750 1          \n",
              "8515478 26305751 1          \n",
              "8515479 26305752 1          \n",
              "8515480 26305753 1          \n",
              "8515481 26305754 1          \n",
              "8515482 26305755 1          \n",
              "8515483 26305756 1          \n",
              "8515484 26305757 1          \n",
              "8515485 26305758 1          \n",
              "8515486 26305759 1          \n",
              "8515487 26305760 1          \n",
              "8515488 26305761 1          "
            ]
          },
          "metadata": {
            "tags": []
          }
        }
      ]
    },
    {
      "cell_type": "markdown",
      "metadata": {
        "id": "zNmLJy4bXbDO"
      },
      "source": [
        "Analizar los diferentes nombres de los colegios"
      ]
    },
    {
      "cell_type": "code",
      "metadata": {
        "colab": {
          "base_uri": "https://localhost:8080/",
          "height": 1000
        },
        "id": "z3LuWgCFO19P",
        "outputId": "25c4fdcd-675a-4cef-d7b8-29fab1da9221"
      },
      "source": [
        "dbGetQuery(conn, \"\n",
        "select \n",
        "RBD,\n",
        "NOM_RBD,\n",
        "COUNT( DISTINCT NOM_RBD) AS NNAMES\n",
        "from colegios \n",
        "GROUP BY RBD\n",
        "ORDER BY NNAMES;\")"
      ],
      "execution_count": null,
      "outputs": [
        {
          "output_type": "display_data",
          "data": {
            "text/plain": [
              "      RBD   NOM_RBD                                   NNAMES\n",
              "1       4   LICEO OCTAVIO PALMA PEREZ                 1     \n",
              "2       9   ESCUELA REPUBLICA DE ISRAEL               1     \n",
              "3      16   ESCUELA REGIMIENTO RANCAGUA               1     \n",
              "4      22   ESCUELA GABRIELA MISTRAL                  1     \n",
              "5      29   ESCUELA AMERICA                           1     \n",
              "6      33   ESCUELA CARLOS CONDELL DE LA HAZA         1     \n",
              "7      35   ESCUELA GRAL. MANUEL BAQUEDANO            1     \n",
              "8      41   ESCUELA VALLE DE CHACA                    1     \n",
              "9      45   COLEGIO ITALIANO SANTA ANA                1     \n",
              "10     59   COLEGIO SAN JORGE                         1     \n",
              "11     69   JUNIOR COLLEGE                            1     \n",
              "12     82   ESCUELA SAN FRANCISCO DE ASIS             1     \n",
              "13     91   ESCUELA COSAPILLA                         1     \n",
              "14     93   ESCUELA CHUJLLUTA                         1     \n",
              "15    100   ESCUELA CARCELARIA                        1     \n",
              "16    112   ESCUELA EDUARDO LLANOS                    1     \n",
              "17    114   ESCUELA PLACIDO VILLARROEL                1     \n",
              "18    122   ESCUELA THILDA PORTILLO OLIVARES          1     \n",
              "19    124   LICEO LUIS CRUZ MARTINEZ                  1     \n",
              "20    127   LICEO MARIA AUXILIADORA                   1     \n",
              "21    129   LICEO SUPERIOR GABRIELA MISTRAL           1     \n",
              "22    133   COLEGIO ADVENTISTA DE IQUIQUE             1     \n",
              "23    134   LICEO ATENEA                              1     \n",
              "24    143   LICEO TRINITY COLLEGE                     1     \n",
              "25    145   HISPANO BRITANICO                         1     \n",
              "26    147   COLEGIO DON BOSCO                         1     \n",
              "27    161   LICEO DE HUARA                            1     \n",
              "28    177   ESCUELA BASICA CARIQUIMA                  1     \n",
              "29    179   ESCUELA BASICA MAUQUE                     1     \n",
              "30    186   ESCUELA BASICA ENQUELGA                   1     \n",
              "⋮     ⋮     ⋮                                         ⋮     \n",
              "11599 24330 FUND. PARA EL DESA. DE LA XLL REGION FID   8    \n",
              "11600 24883 SAN LUIS DE MAIPU N.1543                   8    \n",
              "11601 25314 ESC. BASICA \"\"LOS ALERCES DE MAIPU\"\"       8    \n",
              "11602 25481 INSTITUTO HUMANIDADES O'HIGGINS            8    \n",
              "11603 26032 COL DE ADUL CENT DE EDUC INT DE ADUL LA    8    \n",
              "11604 26117 ESCUELA BASICA CAMILO MORI HENRIQUEZ DE    8    \n",
              "11605 26155 ESCUELA BASICA, COLEGIO PEÑALOLEN          8    \n",
              "11606  1504 LICEO TECNICO A-24                         9    \n",
              "11607  2737 ESC. JAPÓN                                 9    \n",
              "11608  4140 SAN NICOLAS                                9    \n",
              "11609  4164 LICEO DE NI¡AS DE LOS ANGELES              9    \n",
              "11610  5051 POLITECNICO CARAMPANGUE                    9    \n",
              "11611  5729 ESCUELA AGRICOLA FEMENINA NIELOL           9    \n",
              "11612  7763 ESCUELA RURAL \"\"CAP.DE BAN.CARLOS RODRIGU  9    \n",
              "11613  7825 ESCUELA \"\"LIBERTADOR GRAL. BDO.O'HIGGINS   9    \n",
              "11614  8926 LICEO 7 LUISA SAAVEDRA                     9    \n",
              "11615  8970 SAINT'S GABRIEL SCHOOL                     9    \n",
              "11616  9061 INDUSTRIAL PDTE.MANUEL MONTT               9    \n",
              "11617  9244 NOTRE DAME DE LA ANOUNCIATION              9    \n",
              "11618  9268 FLORENCE NIGHTINGALE                       9    \n",
              "11619  9553 JUAN BAUTISTA                              9    \n",
              "11620  9862 LICEO GUILLERMO FELIU CRUZ                 9    \n",
              "11621 10324 JOSE ABELARDO NUNEZ                        9    \n",
              "11622 10550 ESCUELA LIBERTADOR BERNARDO O'HIGGINS      9    \n",
              "11623 25061 ESC.BAS. PARTICULAR  RAULI                 9    \n",
              "11624 25188 ESCUELA ESPECIAL PART.THAVA                9    \n",
              "11625 25611 ESCUELA BASICA BARRIE MONTESSORI N° 2      9    \n",
              "11626  2833 LIC.AGRÍC.NICOLÁS MORENO VERGARA CORPRID  10    \n",
              "11627  7321 ESCUELA PARTICULAR Nº125 \"\"CAICAIEN\"\"     10    \n",
              "11628 11766 INST. DE ESTUDIOS SECUNDARIOS DE U. DE C  10    "
            ],
            "text/latex": "A data.frame: 11628 × 3\n\\begin{tabular}{lll}\n RBD & NOM\\_RBD & NNAMES\\\\\n <int> & <chr> & <int>\\\\\n\\hline\n\t   4 & LICEO OCTAVIO PALMA PEREZ         & 1\\\\\n\t   9 & ESCUELA REPUBLICA DE ISRAEL       & 1\\\\\n\t  16 & ESCUELA REGIMIENTO RANCAGUA       & 1\\\\\n\t  22 & ESCUELA GABRIELA MISTRAL          & 1\\\\\n\t  29 & ESCUELA AMERICA                   & 1\\\\\n\t  33 & ESCUELA CARLOS CONDELL DE LA HAZA & 1\\\\\n\t  35 & ESCUELA GRAL. MANUEL BAQUEDANO    & 1\\\\\n\t  41 & ESCUELA VALLE DE CHACA            & 1\\\\\n\t  45 & COLEGIO ITALIANO SANTA ANA        & 1\\\\\n\t  59 & COLEGIO SAN JORGE                 & 1\\\\\n\t  69 & JUNIOR COLLEGE                    & 1\\\\\n\t  82 & ESCUELA SAN FRANCISCO DE ASIS     & 1\\\\\n\t  91 & ESCUELA COSAPILLA                 & 1\\\\\n\t  93 & ESCUELA CHUJLLUTA                 & 1\\\\\n\t 100 & ESCUELA CARCELARIA                & 1\\\\\n\t 112 & ESCUELA EDUARDO LLANOS            & 1\\\\\n\t 114 & ESCUELA PLACIDO VILLARROEL        & 1\\\\\n\t 122 & ESCUELA THILDA PORTILLO OLIVARES  & 1\\\\\n\t 124 & LICEO LUIS CRUZ MARTINEZ          & 1\\\\\n\t 127 & LICEO MARIA AUXILIADORA           & 1\\\\\n\t 129 & LICEO SUPERIOR GABRIELA MISTRAL   & 1\\\\\n\t 133 & COLEGIO ADVENTISTA DE IQUIQUE     & 1\\\\\n\t 134 & LICEO ATENEA                      & 1\\\\\n\t 143 & LICEO TRINITY COLLEGE             & 1\\\\\n\t 145 & HISPANO BRITANICO                 & 1\\\\\n\t 147 & COLEGIO DON BOSCO                 & 1\\\\\n\t 161 & LICEO DE HUARA                    & 1\\\\\n\t 177 & ESCUELA BASICA CARIQUIMA          & 1\\\\\n\t 179 & ESCUELA BASICA MAUQUE             & 1\\\\\n\t 186 & ESCUELA BASICA ENQUELGA           & 1\\\\\n\t ⋮ & ⋮ & ⋮\\\\\n\t 24330 & FUND. PARA EL DESA. DE LA XLL REGION FID  &  8\\\\\n\t 24883 & SAN LUIS DE MAIPU N.1543                  &  8\\\\\n\t 25314 & ESC. BASICA \"\"LOS ALERCES DE MAIPU\"\"      &  8\\\\\n\t 25481 & INSTITUTO HUMANIDADES O'HIGGINS           &  8\\\\\n\t 26032 & COL DE ADUL CENT DE EDUC INT DE ADUL LA   &  8\\\\\n\t 26117 & ESCUELA BASICA CAMILO MORI HENRIQUEZ DE   &  8\\\\\n\t 26155 & ESCUELA BASICA, COLEGIO PEÑALOLEN         &  8\\\\\n\t  1504 & LICEO TECNICO A-24                        &  9\\\\\n\t  2737 & ESC. JAPÓN                                &  9\\\\\n\t  4140 & SAN NICOLAS                               &  9\\\\\n\t  4164 & LICEO DE NI¡AS DE LOS ANGELES             &  9\\\\\n\t  5051 & POLITECNICO CARAMPANGUE                   &  9\\\\\n\t  5729 & ESCUELA AGRICOLA FEMENINA NIELOL          &  9\\\\\n\t  7763 & ESCUELA RURAL \"\"CAP.DE BAN.CARLOS RODRIGU &  9\\\\\n\t  7825 & ESCUELA \"\"LIBERTADOR GRAL. BDO.O'HIGGINS  &  9\\\\\n\t  8926 & LICEO 7 LUISA SAAVEDRA                    &  9\\\\\n\t  8970 & SAINT'S GABRIEL SCHOOL                    &  9\\\\\n\t  9061 & INDUSTRIAL PDTE.MANUEL MONTT              &  9\\\\\n\t  9244 & NOTRE DAME DE LA ANOUNCIATION             &  9\\\\\n\t  9268 & FLORENCE NIGHTINGALE                      &  9\\\\\n\t  9553 & JUAN BAUTISTA                             &  9\\\\\n\t  9862 & LICEO GUILLERMO FELIU CRUZ                &  9\\\\\n\t 10324 & JOSE ABELARDO NUNEZ                       &  9\\\\\n\t 10550 & ESCUELA LIBERTADOR BERNARDO O'HIGGINS     &  9\\\\\n\t 25061 & ESC.BAS. PARTICULAR  RAULI                &  9\\\\\n\t 25188 & ESCUELA ESPECIAL PART.THAVA               &  9\\\\\n\t 25611 & ESCUELA BASICA BARRIE MONTESSORI N° 2     &  9\\\\\n\t  2833 & LIC.AGRÍC.NICOLÁS MORENO VERGARA CORPRID  & 10\\\\\n\t  7321 & ESCUELA PARTICULAR Nº125 \"\"CAICAIEN\"\"     & 10\\\\\n\t 11766 & INST. DE ESTUDIOS SECUNDARIOS DE U. DE C  & 10\\\\\n\\end{tabular}\n",
            "text/markdown": "\nA data.frame: 11628 × 3\n\n| RBD &lt;int&gt; | NOM_RBD &lt;chr&gt; | NNAMES &lt;int&gt; |\n|---|---|---|\n|   4 | LICEO OCTAVIO PALMA PEREZ         | 1 |\n|   9 | ESCUELA REPUBLICA DE ISRAEL       | 1 |\n|  16 | ESCUELA REGIMIENTO RANCAGUA       | 1 |\n|  22 | ESCUELA GABRIELA MISTRAL          | 1 |\n|  29 | ESCUELA AMERICA                   | 1 |\n|  33 | ESCUELA CARLOS CONDELL DE LA HAZA | 1 |\n|  35 | ESCUELA GRAL. MANUEL BAQUEDANO    | 1 |\n|  41 | ESCUELA VALLE DE CHACA            | 1 |\n|  45 | COLEGIO ITALIANO SANTA ANA        | 1 |\n|  59 | COLEGIO SAN JORGE                 | 1 |\n|  69 | JUNIOR COLLEGE                    | 1 |\n|  82 | ESCUELA SAN FRANCISCO DE ASIS     | 1 |\n|  91 | ESCUELA COSAPILLA                 | 1 |\n|  93 | ESCUELA CHUJLLUTA                 | 1 |\n| 100 | ESCUELA CARCELARIA                | 1 |\n| 112 | ESCUELA EDUARDO LLANOS            | 1 |\n| 114 | ESCUELA PLACIDO VILLARROEL        | 1 |\n| 122 | ESCUELA THILDA PORTILLO OLIVARES  | 1 |\n| 124 | LICEO LUIS CRUZ MARTINEZ          | 1 |\n| 127 | LICEO MARIA AUXILIADORA           | 1 |\n| 129 | LICEO SUPERIOR GABRIELA MISTRAL   | 1 |\n| 133 | COLEGIO ADVENTISTA DE IQUIQUE     | 1 |\n| 134 | LICEO ATENEA                      | 1 |\n| 143 | LICEO TRINITY COLLEGE             | 1 |\n| 145 | HISPANO BRITANICO                 | 1 |\n| 147 | COLEGIO DON BOSCO                 | 1 |\n| 161 | LICEO DE HUARA                    | 1 |\n| 177 | ESCUELA BASICA CARIQUIMA          | 1 |\n| 179 | ESCUELA BASICA MAUQUE             | 1 |\n| 186 | ESCUELA BASICA ENQUELGA           | 1 |\n| ⋮ | ⋮ | ⋮ |\n| 24330 | FUND. PARA EL DESA. DE LA XLL REGION FID  |  8 |\n| 24883 | SAN LUIS DE MAIPU N.1543                  |  8 |\n| 25314 | ESC. BASICA \"\"LOS ALERCES DE MAIPU\"\"      |  8 |\n| 25481 | INSTITUTO HUMANIDADES O'HIGGINS           |  8 |\n| 26032 | COL DE ADUL CENT DE EDUC INT DE ADUL LA   |  8 |\n| 26117 | ESCUELA BASICA CAMILO MORI HENRIQUEZ DE   |  8 |\n| 26155 | ESCUELA BASICA, COLEGIO PEÑALOLEN         |  8 |\n|  1504 | LICEO TECNICO A-24                        |  9 |\n|  2737 | ESC. JAPÓN                                |  9 |\n|  4140 | SAN NICOLAS                               |  9 |\n|  4164 | LICEO DE NI¡AS DE LOS ANGELES             |  9 |\n|  5051 | POLITECNICO CARAMPANGUE                   |  9 |\n|  5729 | ESCUELA AGRICOLA FEMENINA NIELOL          |  9 |\n|  7763 | ESCUELA RURAL \"\"CAP.DE BAN.CARLOS RODRIGU |  9 |\n|  7825 | ESCUELA \"\"LIBERTADOR GRAL. BDO.O'HIGGINS  |  9 |\n|  8926 | LICEO 7 LUISA SAAVEDRA                    |  9 |\n|  8970 | SAINT'S GABRIEL SCHOOL                    |  9 |\n|  9061 | INDUSTRIAL PDTE.MANUEL MONTT              |  9 |\n|  9244 | NOTRE DAME DE LA ANOUNCIATION             |  9 |\n|  9268 | FLORENCE NIGHTINGALE                      |  9 |\n|  9553 | JUAN BAUTISTA                             |  9 |\n|  9862 | LICEO GUILLERMO FELIU CRUZ                |  9 |\n| 10324 | JOSE ABELARDO NUNEZ                       |  9 |\n| 10550 | ESCUELA LIBERTADOR BERNARDO O'HIGGINS     |  9 |\n| 25061 | ESC.BAS. PARTICULAR  RAULI                |  9 |\n| 25188 | ESCUELA ESPECIAL PART.THAVA               |  9 |\n| 25611 | ESCUELA BASICA BARRIE MONTESSORI N° 2     |  9 |\n|  2833 | LIC.AGRÍC.NICOLÁS MORENO VERGARA CORPRID  | 10 |\n|  7321 | ESCUELA PARTICULAR Nº125 \"\"CAICAIEN\"\"     | 10 |\n| 11766 | INST. DE ESTUDIOS SECUNDARIOS DE U. DE C  | 10 |\n\n",
            "text/html": [
              "<table class=\"dataframe\">\n",
              "<caption>A data.frame: 11628 × 3</caption>\n",
              "<thead>\n",
              "\t<tr><th scope=col>RBD</th><th scope=col>NOM_RBD</th><th scope=col>NNAMES</th></tr>\n",
              "\t<tr><th scope=col>&lt;int&gt;</th><th scope=col>&lt;chr&gt;</th><th scope=col>&lt;int&gt;</th></tr>\n",
              "</thead>\n",
              "<tbody>\n",
              "\t<tr><td>  4</td><td>LICEO OCTAVIO PALMA PEREZ        </td><td>1</td></tr>\n",
              "\t<tr><td>  9</td><td>ESCUELA REPUBLICA DE ISRAEL      </td><td>1</td></tr>\n",
              "\t<tr><td> 16</td><td>ESCUELA REGIMIENTO RANCAGUA      </td><td>1</td></tr>\n",
              "\t<tr><td> 22</td><td>ESCUELA GABRIELA MISTRAL         </td><td>1</td></tr>\n",
              "\t<tr><td> 29</td><td>ESCUELA AMERICA                  </td><td>1</td></tr>\n",
              "\t<tr><td> 33</td><td>ESCUELA CARLOS CONDELL DE LA HAZA</td><td>1</td></tr>\n",
              "\t<tr><td> 35</td><td>ESCUELA GRAL. MANUEL BAQUEDANO   </td><td>1</td></tr>\n",
              "\t<tr><td> 41</td><td>ESCUELA VALLE DE CHACA           </td><td>1</td></tr>\n",
              "\t<tr><td> 45</td><td>COLEGIO ITALIANO SANTA ANA       </td><td>1</td></tr>\n",
              "\t<tr><td> 59</td><td>COLEGIO SAN JORGE                </td><td>1</td></tr>\n",
              "\t<tr><td> 69</td><td>JUNIOR COLLEGE                   </td><td>1</td></tr>\n",
              "\t<tr><td> 82</td><td>ESCUELA SAN FRANCISCO DE ASIS    </td><td>1</td></tr>\n",
              "\t<tr><td> 91</td><td>ESCUELA COSAPILLA                </td><td>1</td></tr>\n",
              "\t<tr><td> 93</td><td>ESCUELA CHUJLLUTA                </td><td>1</td></tr>\n",
              "\t<tr><td>100</td><td>ESCUELA CARCELARIA               </td><td>1</td></tr>\n",
              "\t<tr><td>112</td><td>ESCUELA EDUARDO LLANOS           </td><td>1</td></tr>\n",
              "\t<tr><td>114</td><td>ESCUELA PLACIDO VILLARROEL       </td><td>1</td></tr>\n",
              "\t<tr><td>122</td><td>ESCUELA THILDA PORTILLO OLIVARES </td><td>1</td></tr>\n",
              "\t<tr><td>124</td><td>LICEO LUIS CRUZ MARTINEZ         </td><td>1</td></tr>\n",
              "\t<tr><td>127</td><td>LICEO MARIA AUXILIADORA          </td><td>1</td></tr>\n",
              "\t<tr><td>129</td><td>LICEO SUPERIOR GABRIELA MISTRAL  </td><td>1</td></tr>\n",
              "\t<tr><td>133</td><td>COLEGIO ADVENTISTA DE IQUIQUE    </td><td>1</td></tr>\n",
              "\t<tr><td>134</td><td>LICEO ATENEA                     </td><td>1</td></tr>\n",
              "\t<tr><td>143</td><td>LICEO TRINITY COLLEGE            </td><td>1</td></tr>\n",
              "\t<tr><td>145</td><td>HISPANO BRITANICO                </td><td>1</td></tr>\n",
              "\t<tr><td>147</td><td>COLEGIO DON BOSCO                </td><td>1</td></tr>\n",
              "\t<tr><td>161</td><td>LICEO DE HUARA                   </td><td>1</td></tr>\n",
              "\t<tr><td>177</td><td>ESCUELA BASICA CARIQUIMA         </td><td>1</td></tr>\n",
              "\t<tr><td>179</td><td>ESCUELA BASICA MAUQUE            </td><td>1</td></tr>\n",
              "\t<tr><td>186</td><td>ESCUELA BASICA ENQUELGA          </td><td>1</td></tr>\n",
              "\t<tr><td>⋮</td><td>⋮</td><td>⋮</td></tr>\n",
              "\t<tr><td>24330</td><td>FUND. PARA EL DESA. DE LA XLL REGION FID </td><td> 8</td></tr>\n",
              "\t<tr><td>24883</td><td>SAN LUIS DE MAIPU N.1543                 </td><td> 8</td></tr>\n",
              "\t<tr><td>25314</td><td>ESC. BASICA \"\"LOS ALERCES DE MAIPU\"\"     </td><td> 8</td></tr>\n",
              "\t<tr><td>25481</td><td>INSTITUTO HUMANIDADES O'HIGGINS          </td><td> 8</td></tr>\n",
              "\t<tr><td>26032</td><td>COL DE ADUL CENT DE EDUC INT DE ADUL LA  </td><td> 8</td></tr>\n",
              "\t<tr><td>26117</td><td>ESCUELA BASICA CAMILO MORI HENRIQUEZ DE  </td><td> 8</td></tr>\n",
              "\t<tr><td>26155</td><td>ESCUELA BASICA, COLEGIO PEÑALOLEN        </td><td> 8</td></tr>\n",
              "\t<tr><td> 1504</td><td>LICEO TECNICO A-24                       </td><td> 9</td></tr>\n",
              "\t<tr><td> 2737</td><td>ESC. JAPÓN                               </td><td> 9</td></tr>\n",
              "\t<tr><td> 4140</td><td>SAN NICOLAS                              </td><td> 9</td></tr>\n",
              "\t<tr><td> 4164</td><td>LICEO DE NI¡AS DE LOS ANGELES            </td><td> 9</td></tr>\n",
              "\t<tr><td> 5051</td><td>POLITECNICO CARAMPANGUE                  </td><td> 9</td></tr>\n",
              "\t<tr><td> 5729</td><td>ESCUELA AGRICOLA FEMENINA NIELOL         </td><td> 9</td></tr>\n",
              "\t<tr><td> 7763</td><td>ESCUELA RURAL \"\"CAP.DE BAN.CARLOS RODRIGU</td><td> 9</td></tr>\n",
              "\t<tr><td> 7825</td><td>ESCUELA \"\"LIBERTADOR GRAL. BDO.O'HIGGINS </td><td> 9</td></tr>\n",
              "\t<tr><td> 8926</td><td>LICEO 7 LUISA SAAVEDRA                   </td><td> 9</td></tr>\n",
              "\t<tr><td> 8970</td><td>SAINT'S GABRIEL SCHOOL                   </td><td> 9</td></tr>\n",
              "\t<tr><td> 9061</td><td>INDUSTRIAL PDTE.MANUEL MONTT             </td><td> 9</td></tr>\n",
              "\t<tr><td> 9244</td><td>NOTRE DAME DE LA ANOUNCIATION            </td><td> 9</td></tr>\n",
              "\t<tr><td> 9268</td><td>FLORENCE NIGHTINGALE                     </td><td> 9</td></tr>\n",
              "\t<tr><td> 9553</td><td>JUAN BAUTISTA                            </td><td> 9</td></tr>\n",
              "\t<tr><td> 9862</td><td>LICEO GUILLERMO FELIU CRUZ               </td><td> 9</td></tr>\n",
              "\t<tr><td>10324</td><td>JOSE ABELARDO NUNEZ                      </td><td> 9</td></tr>\n",
              "\t<tr><td>10550</td><td>ESCUELA LIBERTADOR BERNARDO O'HIGGINS    </td><td> 9</td></tr>\n",
              "\t<tr><td>25061</td><td>ESC.BAS. PARTICULAR  RAULI               </td><td> 9</td></tr>\n",
              "\t<tr><td>25188</td><td>ESCUELA ESPECIAL PART.THAVA              </td><td> 9</td></tr>\n",
              "\t<tr><td>25611</td><td>ESCUELA BASICA BARRIE MONTESSORI N° 2    </td><td> 9</td></tr>\n",
              "\t<tr><td> 2833</td><td>LIC.AGRÍC.NICOLÁS MORENO VERGARA CORPRID </td><td>10</td></tr>\n",
              "\t<tr><td> 7321</td><td>ESCUELA PARTICULAR Nº125 \"\"CAICAIEN\"\"    </td><td>10</td></tr>\n",
              "\t<tr><td>11766</td><td>INST. DE ESTUDIOS SECUNDARIOS DE U. DE C </td><td>10</td></tr>\n",
              "</tbody>\n",
              "</table>\n"
            ]
          },
          "metadata": {
            "tags": []
          }
        }
      ]
    },
    {
      "cell_type": "markdown",
      "metadata": {
        "id": "m0dK7LPdXo3S"
      },
      "source": [
        "Cantidad de repitencias por grado en los colegios cientifico humanistas"
      ]
    },
    {
      "cell_type": "code",
      "metadata": {
        "id": "KlA89JsBUGGD"
      },
      "source": [
        "resp <- dbGetQuery(conn, \"\n",
        "SELECT \n",
        "SIT_FIN_R,\n",
        "COD_ENSE,\n",
        "COD_GRADO,\n",
        "COUNT(MRUN) AS REPITENCIAS\n",
        "FROM alumnos\n",
        "Where (COD_ENSE==110 OR COD_ENSE==310)\n",
        "GROUP BY COD_ENSE, COD_GRADO, SIT_FIN_R\")"
      ],
      "execution_count": null,
      "outputs": []
    },
    {
      "cell_type": "code",
      "metadata": {
        "colab": {
          "base_uri": "https://localhost:8080/",
          "height": 437
        },
        "id": "yMCD5d6_7KW-",
        "outputId": "dbbc5463-d89f-418f-d114-8407d8d86733"
      },
      "source": [
        "resp %>% filter(SIT_FIN_R==\"R\") %>%\n",
        "        arrange(COD_ENSE,COD_GRADO)%>%\n",
        "        ggplot(aes(x=1:12,y=REPITENCIAS)) + \n",
        "            geom_bar(stat=\"identity\", position=\"stack\")\n"
      ],
      "execution_count": null,
      "outputs": [
        {
          "output_type": "display_data",
          "data": {
            "image/png": "[encoded data removed]",
            "text/plain": [
              "plot without title"
            ]
          },
          "metadata": {
            "tags": [],
            "image/png": {
              "height": 420,
              "width": 420
            }
          }
        }
      ]
    },
    {
      "cell_type": "code",
      "metadata": {
        "colab": {
          "base_uri": "https://localhost:8080/",
          "height": 473
        },
        "id": "0eNSCGpv9ant",
        "outputId": "78d0ecdb-808d-42a3-b69a-b8aa709fff00"
      },
      "source": [
        "resp %>% filter(SIT_FIN_R==\"T\") %>%\n",
        "        arrange(COD_ENSE,COD_GRADO)"
      ],
      "execution_count": null,
      "outputs": [
        {
          "output_type": "display_data",
          "data": {
            "text/html": [
              "<table class=\"dataframe\">\n",
              "<caption>A data.frame: 12 × 4</caption>\n",
              "<thead>\n",
              "\t<tr><th scope=col>SIT_FIN_R</th><th scope=col>COD_ENSE</th><th scope=col>COD_GRADO</th><th scope=col>REPITENCIAS</th></tr>\n",
              "\t<tr><th scope=col>&lt;chr&gt;</th><th scope=col>&lt;int&gt;</th><th scope=col>&lt;int&gt;</th><th scope=col>&lt;int&gt;</th></tr>\n",
              "</thead>\n",
              "<tbody>\n",
              "\t<tr><td>T</td><td>110</td><td>1</td><td>298447</td></tr>\n",
              "\t<tr><td>T</td><td>110</td><td>2</td><td>236488</td></tr>\n",
              "\t<tr><td>T</td><td>110</td><td>3</td><td>221589</td></tr>\n",
              "\t<tr><td>T</td><td>110</td><td>4</td><td>189896</td></tr>\n",
              "\t<tr><td>T</td><td>110</td><td>5</td><td>200565</td></tr>\n",
              "\t<tr><td>T</td><td>110</td><td>6</td><td>185513</td></tr>\n",
              "\t<tr><td>T</td><td>110</td><td>7</td><td>195139</td></tr>\n",
              "\t<tr><td>T</td><td>110</td><td>8</td><td>155404</td></tr>\n",
              "\t<tr><td>T</td><td>310</td><td>1</td><td>185084</td></tr>\n",
              "\t<tr><td>T</td><td>310</td><td>2</td><td>132234</td></tr>\n",
              "\t<tr><td>T</td><td>310</td><td>3</td><td> 93687</td></tr>\n",
              "\t<tr><td>T</td><td>310</td><td>4</td><td> 38636</td></tr>\n",
              "</tbody>\n",
              "</table>\n"
            ],
            "text/latex": "A data.frame: 12 × 4\n\\begin{tabular}{llll}\n SIT\\_FIN\\_R & COD\\_ENSE & COD\\_GRADO & REPITENCIAS\\\\\n <chr> & <int> & <int> & <int>\\\\\n\\hline\n\t T & 110 & 1 & 298447\\\\\n\t T & 110 & 2 & 236488\\\\\n\t T & 110 & 3 & 221589\\\\\n\t T & 110 & 4 & 189896\\\\\n\t T & 110 & 5 & 200565\\\\\n\t T & 110 & 6 & 185513\\\\\n\t T & 110 & 7 & 195139\\\\\n\t T & 110 & 8 & 155404\\\\\n\t T & 310 & 1 & 185084\\\\\n\t T & 310 & 2 & 132234\\\\\n\t T & 310 & 3 &  93687\\\\\n\t T & 310 & 4 &  38636\\\\\n\\end{tabular}\n",
            "text/markdown": "\nA data.frame: 12 × 4\n\n| SIT_FIN_R &lt;chr&gt; | COD_ENSE &lt;int&gt; | COD_GRADO &lt;int&gt; | REPITENCIAS &lt;int&gt; |\n|---|---|---|---|\n| T | 110 | 1 | 298447 |\n| T | 110 | 2 | 236488 |\n| T | 110 | 3 | 221589 |\n| T | 110 | 4 | 189896 |\n| T | 110 | 5 | 200565 |\n| T | 110 | 6 | 185513 |\n| T | 110 | 7 | 195139 |\n| T | 110 | 8 | 155404 |\n| T | 310 | 1 | 185084 |\n| T | 310 | 2 | 132234 |\n| T | 310 | 3 |  93687 |\n| T | 310 | 4 |  38636 |\n\n",
            "text/plain": [
              "   SIT_FIN_R COD_ENSE COD_GRADO REPITENCIAS\n",
              "1  T         110      1         298447     \n",
              "2  T         110      2         236488     \n",
              "3  T         110      3         221589     \n",
              "4  T         110      4         189896     \n",
              "5  T         110      5         200565     \n",
              "6  T         110      6         185513     \n",
              "7  T         110      7         195139     \n",
              "8  T         110      8         155404     \n",
              "9  T         310      1         185084     \n",
              "10 T         310      2         132234     \n",
              "11 T         310      3          93687     \n",
              "12 T         310      4          38636     "
            ]
          },
          "metadata": {
            "tags": []
          }
        }
      ]
    },
    {
      "cell_type": "code",
      "metadata": {
        "colab": {
          "base_uri": "https://localhost:8080/",
          "height": 437
        },
        "id": "lX295ClX2gWw",
        "outputId": "33fc673e-fb1f-4a49-97ec-32091b1c6d46"
      },
      "source": [
        "ggplot(data=resp, aes(x=1:12,y=REPITENCIAS)) + \n",
        "    geom_bar(stat=\"identity\", position=\"stack\") "
      ],
      "execution_count": null,
      "outputs": [
        {
          "output_type": "display_data",
          "data": {
            "image/png": "[encoded data removed]",
            "text/plain": [
              "plot without title"
            ]
          },
          "metadata": {
            "tags": [],
            "image/png": {
              "height": 420,
              "width": 420
            }
          }
        }
      ]
    },
    {
      "cell_type": "code",
      "metadata": {
        "id": "nlV5DOt3B0xd"
      },
      "source": [
        "dbGetQuery(conn, \"\n",
        "SELECT  MRUN,\n",
        "        COUNT(AGNO)\n",
        "FROM alumnos\n",
        "GROUP BY MRUN;\")"
      ],
      "execution_count": null,
      "outputs": []
    },
    {
      "cell_type": "code",
      "metadata": {
        "id": "FBuZy1dbVZDF"
      },
      "source": [
        "dbGetQuery(conn, \"\n",
        "SELECT  MRUN,\n",
        "        AVG(PROM_GRAL),\n",
        "        AVG(ASISTENCIA)\n",
        "FROM alumnos\n",
        "GROUP BY MRUN ;\")"
      ],
      "execution_count": null,
      "outputs": []
    },
    {
      "cell_type": "markdown",
      "metadata": {
        "id": "8-kLtIROD9Ib"
      },
      "source": [
        "en los casos donde la cantidad de años aprobados sea mayor que 12"
      ]
    },
    {
      "cell_type": "code",
      "metadata": {
        "id": "UKWdndnXD_cr"
      },
      "source": [
        "q<- dbSendQuery(conn, \"\n",
        "SELECT  MRUN,\n",
        "        AVG(PROM_GRAL),\n",
        "        AVG(ASISTENCIA)\n",
        "FROM alumnos\n",
        "GROUP BY MRUN\n",
        "HAVING COUNT(AGNO)>=12\")"
      ],
      "execution_count": 52,
      "outputs": []
    },
    {
      "cell_type": "code",
      "metadata": {
        "id": "Pt8lY0IcTzdT"
      },
      "source": [
        "d=dbFetch(q,n=10000)"
      ],
      "execution_count": 53,
      "outputs": []
    },
    {
      "cell_type": "code",
      "metadata": {
        "colab": {
          "base_uri": "https://localhost:8080/",
          "height": 1000
        },
        "id": "jjdTacYPV3zZ",
        "outputId": "6a915a0f-c74b-4e1d-d368-2e831c7d1c01"
      },
      "source": [
        "d"
      ],
      "execution_count": 54,
      "outputs": [
        {
          "output_type": "display_data",
          "data": {
            "text/plain": [
              "      MRUN   AVG(PROM_GRAL) AVG(ASISTENCIA)\n",
              "1      NA    4.605891       82.69722       \n",
              "2      17    5.000000       70.38462       \n",
              "3      18    4.692308       85.46154       \n",
              "4      19    5.583333       97.25000       \n",
              "5      20    3.705882       74.00000       \n",
              "6      25    3.384615       70.00000       \n",
              "7      26    5.500000       89.00000       \n",
              "8      35    5.833333       97.91667       \n",
              "9      59    4.357143       75.92857       \n",
              "10     60    3.555556       71.11111       \n",
              "11     98    4.666667       94.16667       \n",
              "12     99    6.000000       94.66667       \n",
              "13    110    5.666667       97.66667       \n",
              "14    136    5.833333       97.08333       \n",
              "15    137    4.846154       94.15385       \n",
              "16    140    3.307692       67.46154       \n",
              "17    150    5.083333       97.83333       \n",
              "18    151    5.416667       91.58333       \n",
              "19    165    4.250000       79.25000       \n",
              "20    172    4.230769       84.84615       \n",
              "21    184    5.333333       92.08333       \n",
              "22    189    5.166667       81.75000       \n",
              "23    190    6.083333       94.75000       \n",
              "24    191    3.933333       79.66667       \n",
              "25    192    4.153846       76.30769       \n",
              "26    238    4.500000       73.64286       \n",
              "27    239    4.733333       72.40000       \n",
              "28    268    3.166667       62.25000       \n",
              "29    276    4.250000       83.83333       \n",
              "30    277    5.166667       92.33333       \n",
              "⋮     ⋮      ⋮              ⋮              \n",
              "9971  112386 4.466667       74.80000       \n",
              "9972  112387 5.153846       76.46154       \n",
              "9973  112397 5.500000       87.75000       \n",
              "9974  112401 5.333333       87.00000       \n",
              "9975  112432 6.000000       91.33333       \n",
              "9976  112433 4.846154       85.53846       \n",
              "9977  112437 5.250000       89.33333       \n",
              "9978  112440 4.800000       76.06667       \n",
              "9979  112441 4.214286       85.57143       \n",
              "9980  112442 5.250000       97.83333       \n",
              "9981  112443 5.833333       91.33333       \n",
              "9982  112453 5.666667       97.50000       \n",
              "9983  112468 4.333333       78.83333       \n",
              "9984  112479 4.538462       84.92308       \n",
              "9985  112487 4.000000       83.75000       \n",
              "9986  112516 4.285714       81.07143       \n",
              "9987  112519 4.916667       88.16667       \n",
              "9988  112520 4.466667       74.66667       \n",
              "9989  112526 3.176471       63.82353       \n",
              "9990  112561 4.600000       71.06667       \n",
              "9991  112562 5.583333       91.91667       \n",
              "9992  112568 5.461538       84.92308       \n",
              "9993  112569 5.000000       94.25000       \n",
              "9994  112574 4.785714       87.35714       \n",
              "9995  112576 5.083333       95.50000       \n",
              "9996  112577 5.000000       94.15385       \n",
              "9997  112595 3.866667       69.73333       \n",
              "9998  112605 5.266667       92.46667       \n",
              "9999  112649 5.166667       87.25000       \n",
              "10000 112650 5.000000       89.58333       "
            ],
            "text/latex": "A data.frame: 10000 × 3\n\\begin{tabular}{lll}\n MRUN & AVG(PROM\\_GRAL) & AVG(ASISTENCIA)\\\\\n <int> & <dbl> & <dbl>\\\\\n\\hline\n\t  NA & 4.605891 & 82.69722\\\\\n\t  17 & 5.000000 & 70.38462\\\\\n\t  18 & 4.692308 & 85.46154\\\\\n\t  19 & 5.583333 & 97.25000\\\\\n\t  20 & 3.705882 & 74.00000\\\\\n\t  25 & 3.384615 & 70.00000\\\\\n\t  26 & 5.500000 & 89.00000\\\\\n\t  35 & 5.833333 & 97.91667\\\\\n\t  59 & 4.357143 & 75.92857\\\\\n\t  60 & 3.555556 & 71.11111\\\\\n\t  98 & 4.666667 & 94.16667\\\\\n\t  99 & 6.000000 & 94.66667\\\\\n\t 110 & 5.666667 & 97.66667\\\\\n\t 136 & 5.833333 & 97.08333\\\\\n\t 137 & 4.846154 & 94.15385\\\\\n\t 140 & 3.307692 & 67.46154\\\\\n\t 150 & 5.083333 & 97.83333\\\\\n\t 151 & 5.416667 & 91.58333\\\\\n\t 165 & 4.250000 & 79.25000\\\\\n\t 172 & 4.230769 & 84.84615\\\\\n\t 184 & 5.333333 & 92.08333\\\\\n\t 189 & 5.166667 & 81.75000\\\\\n\t 190 & 6.083333 & 94.75000\\\\\n\t 191 & 3.933333 & 79.66667\\\\\n\t 192 & 4.153846 & 76.30769\\\\\n\t 238 & 4.500000 & 73.64286\\\\\n\t 239 & 4.733333 & 72.40000\\\\\n\t 268 & 3.166667 & 62.25000\\\\\n\t 276 & 4.250000 & 83.83333\\\\\n\t 277 & 5.166667 & 92.33333\\\\\n\t ⋮ & ⋮ & ⋮\\\\\n\t 112386 & 4.466667 & 74.80000\\\\\n\t 112387 & 5.153846 & 76.46154\\\\\n\t 112397 & 5.500000 & 87.75000\\\\\n\t 112401 & 5.333333 & 87.00000\\\\\n\t 112432 & 6.000000 & 91.33333\\\\\n\t 112433 & 4.846154 & 85.53846\\\\\n\t 112437 & 5.250000 & 89.33333\\\\\n\t 112440 & 4.800000 & 76.06667\\\\\n\t 112441 & 4.214286 & 85.57143\\\\\n\t 112442 & 5.250000 & 97.83333\\\\\n\t 112443 & 5.833333 & 91.33333\\\\\n\t 112453 & 5.666667 & 97.50000\\\\\n\t 112468 & 4.333333 & 78.83333\\\\\n\t 112479 & 4.538462 & 84.92308\\\\\n\t 112487 & 4.000000 & 83.75000\\\\\n\t 112516 & 4.285714 & 81.07143\\\\\n\t 112519 & 4.916667 & 88.16667\\\\\n\t 112520 & 4.466667 & 74.66667\\\\\n\t 112526 & 3.176471 & 63.82353\\\\\n\t 112561 & 4.600000 & 71.06667\\\\\n\t 112562 & 5.583333 & 91.91667\\\\\n\t 112568 & 5.461538 & 84.92308\\\\\n\t 112569 & 5.000000 & 94.25000\\\\\n\t 112574 & 4.785714 & 87.35714\\\\\n\t 112576 & 5.083333 & 95.50000\\\\\n\t 112577 & 5.000000 & 94.15385\\\\\n\t 112595 & 3.866667 & 69.73333\\\\\n\t 112605 & 5.266667 & 92.46667\\\\\n\t 112649 & 5.166667 & 87.25000\\\\\n\t 112650 & 5.000000 & 89.58333\\\\\n\\end{tabular}\n",
            "text/markdown": "\nA data.frame: 10000 × 3\n\n| MRUN &lt;int&gt; | AVG(PROM_GRAL) &lt;dbl&gt; | AVG(ASISTENCIA) &lt;dbl&gt; |\n|---|---|---|\n|  NA | 4.605891 | 82.69722 |\n|  17 | 5.000000 | 70.38462 |\n|  18 | 4.692308 | 85.46154 |\n|  19 | 5.583333 | 97.25000 |\n|  20 | 3.705882 | 74.00000 |\n|  25 | 3.384615 | 70.00000 |\n|  26 | 5.500000 | 89.00000 |\n|  35 | 5.833333 | 97.91667 |\n|  59 | 4.357143 | 75.92857 |\n|  60 | 3.555556 | 71.11111 |\n|  98 | 4.666667 | 94.16667 |\n|  99 | 6.000000 | 94.66667 |\n| 110 | 5.666667 | 97.66667 |\n| 136 | 5.833333 | 97.08333 |\n| 137 | 4.846154 | 94.15385 |\n| 140 | 3.307692 | 67.46154 |\n| 150 | 5.083333 | 97.83333 |\n| 151 | 5.416667 | 91.58333 |\n| 165 | 4.250000 | 79.25000 |\n| 172 | 4.230769 | 84.84615 |\n| 184 | 5.333333 | 92.08333 |\n| 189 | 5.166667 | 81.75000 |\n| 190 | 6.083333 | 94.75000 |\n| 191 | 3.933333 | 79.66667 |\n| 192 | 4.153846 | 76.30769 |\n| 238 | 4.500000 | 73.64286 |\n| 239 | 4.733333 | 72.40000 |\n| 268 | 3.166667 | 62.25000 |\n| 276 | 4.250000 | 83.83333 |\n| 277 | 5.166667 | 92.33333 |\n| ⋮ | ⋮ | ⋮ |\n| 112386 | 4.466667 | 74.80000 |\n| 112387 | 5.153846 | 76.46154 |\n| 112397 | 5.500000 | 87.75000 |\n| 112401 | 5.333333 | 87.00000 |\n| 112432 | 6.000000 | 91.33333 |\n| 112433 | 4.846154 | 85.53846 |\n| 112437 | 5.250000 | 89.33333 |\n| 112440 | 4.800000 | 76.06667 |\n| 112441 | 4.214286 | 85.57143 |\n| 112442 | 5.250000 | 97.83333 |\n| 112443 | 5.833333 | 91.33333 |\n| 112453 | 5.666667 | 97.50000 |\n| 112468 | 4.333333 | 78.83333 |\n| 112479 | 4.538462 | 84.92308 |\n| 112487 | 4.000000 | 83.75000 |\n| 112516 | 4.285714 | 81.07143 |\n| 112519 | 4.916667 | 88.16667 |\n| 112520 | 4.466667 | 74.66667 |\n| 112526 | 3.176471 | 63.82353 |\n| 112561 | 4.600000 | 71.06667 |\n| 112562 | 5.583333 | 91.91667 |\n| 112568 | 5.461538 | 84.92308 |\n| 112569 | 5.000000 | 94.25000 |\n| 112574 | 4.785714 | 87.35714 |\n| 112576 | 5.083333 | 95.50000 |\n| 112577 | 5.000000 | 94.15385 |\n| 112595 | 3.866667 | 69.73333 |\n| 112605 | 5.266667 | 92.46667 |\n| 112649 | 5.166667 | 87.25000 |\n| 112650 | 5.000000 | 89.58333 |\n\n",
            "text/html": [
              "<table class=\"dataframe\">\n",
              "<caption>A data.frame: 10000 × 3</caption>\n",
              "<thead>\n",
              "\t<tr><th scope=col>MRUN</th><th scope=col>AVG(PROM_GRAL)</th><th scope=col>AVG(ASISTENCIA)</th></tr>\n",
              "\t<tr><th scope=col>&lt;int&gt;</th><th scope=col>&lt;dbl&gt;</th><th scope=col>&lt;dbl&gt;</th></tr>\n",
              "</thead>\n",
              "<tbody>\n",
              "\t<tr><td> NA</td><td>4.605891</td><td>82.69722</td></tr>\n",
              "\t<tr><td> 17</td><td>5.000000</td><td>70.38462</td></tr>\n",
              "\t<tr><td> 18</td><td>4.692308</td><td>85.46154</td></tr>\n",
              "\t<tr><td> 19</td><td>5.583333</td><td>97.25000</td></tr>\n",
              "\t<tr><td> 20</td><td>3.705882</td><td>74.00000</td></tr>\n",
              "\t<tr><td> 25</td><td>3.384615</td><td>70.00000</td></tr>\n",
              "\t<tr><td> 26</td><td>5.500000</td><td>89.00000</td></tr>\n",
              "\t<tr><td> 35</td><td>5.833333</td><td>97.91667</td></tr>\n",
              "\t<tr><td> 59</td><td>4.357143</td><td>75.92857</td></tr>\n",
              "\t<tr><td> 60</td><td>3.555556</td><td>71.11111</td></tr>\n",
              "\t<tr><td> 98</td><td>4.666667</td><td>94.16667</td></tr>\n",
              "\t<tr><td> 99</td><td>6.000000</td><td>94.66667</td></tr>\n",
              "\t<tr><td>110</td><td>5.666667</td><td>97.66667</td></tr>\n",
              "\t<tr><td>136</td><td>5.833333</td><td>97.08333</td></tr>\n",
              "\t<tr><td>137</td><td>4.846154</td><td>94.15385</td></tr>\n",
              "\t<tr><td>140</td><td>3.307692</td><td>67.46154</td></tr>\n",
              "\t<tr><td>150</td><td>5.083333</td><td>97.83333</td></tr>\n",
              "\t<tr><td>151</td><td>5.416667</td><td>91.58333</td></tr>\n",
              "\t<tr><td>165</td><td>4.250000</td><td>79.25000</td></tr>\n",
              "\t<tr><td>172</td><td>4.230769</td><td>84.84615</td></tr>\n",
              "\t<tr><td>184</td><td>5.333333</td><td>92.08333</td></tr>\n",
              "\t<tr><td>189</td><td>5.166667</td><td>81.75000</td></tr>\n",
              "\t<tr><td>190</td><td>6.083333</td><td>94.75000</td></tr>\n",
              "\t<tr><td>191</td><td>3.933333</td><td>79.66667</td></tr>\n",
              "\t<tr><td>192</td><td>4.153846</td><td>76.30769</td></tr>\n",
              "\t<tr><td>238</td><td>4.500000</td><td>73.64286</td></tr>\n",
              "\t<tr><td>239</td><td>4.733333</td><td>72.40000</td></tr>\n",
              "\t<tr><td>268</td><td>3.166667</td><td>62.25000</td></tr>\n",
              "\t<tr><td>276</td><td>4.250000</td><td>83.83333</td></tr>\n",
              "\t<tr><td>277</td><td>5.166667</td><td>92.33333</td></tr>\n",
              "\t<tr><td>⋮</td><td>⋮</td><td>⋮</td></tr>\n",
              "\t<tr><td>112386</td><td>4.466667</td><td>74.80000</td></tr>\n",
              "\t<tr><td>112387</td><td>5.153846</td><td>76.46154</td></tr>\n",
              "\t<tr><td>112397</td><td>5.500000</td><td>87.75000</td></tr>\n",
              "\t<tr><td>112401</td><td>5.333333</td><td>87.00000</td></tr>\n",
              "\t<tr><td>112432</td><td>6.000000</td><td>91.33333</td></tr>\n",
              "\t<tr><td>112433</td><td>4.846154</td><td>85.53846</td></tr>\n",
              "\t<tr><td>112437</td><td>5.250000</td><td>89.33333</td></tr>\n",
              "\t<tr><td>112440</td><td>4.800000</td><td>76.06667</td></tr>\n",
              "\t<tr><td>112441</td><td>4.214286</td><td>85.57143</td></tr>\n",
              "\t<tr><td>112442</td><td>5.250000</td><td>97.83333</td></tr>\n",
              "\t<tr><td>112443</td><td>5.833333</td><td>91.33333</td></tr>\n",
              "\t<tr><td>112453</td><td>5.666667</td><td>97.50000</td></tr>\n",
              "\t<tr><td>112468</td><td>4.333333</td><td>78.83333</td></tr>\n",
              "\t<tr><td>112479</td><td>4.538462</td><td>84.92308</td></tr>\n",
              "\t<tr><td>112487</td><td>4.000000</td><td>83.75000</td></tr>\n",
              "\t<tr><td>112516</td><td>4.285714</td><td>81.07143</td></tr>\n",
              "\t<tr><td>112519</td><td>4.916667</td><td>88.16667</td></tr>\n",
              "\t<tr><td>112520</td><td>4.466667</td><td>74.66667</td></tr>\n",
              "\t<tr><td>112526</td><td>3.176471</td><td>63.82353</td></tr>\n",
              "\t<tr><td>112561</td><td>4.600000</td><td>71.06667</td></tr>\n",
              "\t<tr><td>112562</td><td>5.583333</td><td>91.91667</td></tr>\n",
              "\t<tr><td>112568</td><td>5.461538</td><td>84.92308</td></tr>\n",
              "\t<tr><td>112569</td><td>5.000000</td><td>94.25000</td></tr>\n",
              "\t<tr><td>112574</td><td>4.785714</td><td>87.35714</td></tr>\n",
              "\t<tr><td>112576</td><td>5.083333</td><td>95.50000</td></tr>\n",
              "\t<tr><td>112577</td><td>5.000000</td><td>94.15385</td></tr>\n",
              "\t<tr><td>112595</td><td>3.866667</td><td>69.73333</td></tr>\n",
              "\t<tr><td>112605</td><td>5.266667</td><td>92.46667</td></tr>\n",
              "\t<tr><td>112649</td><td>5.166667</td><td>87.25000</td></tr>\n",
              "\t<tr><td>112650</td><td>5.000000</td><td>89.58333</td></tr>\n",
              "</tbody>\n",
              "</table>\n"
            ]
          },
          "metadata": {
            "tags": []
          }
        }
      ]
    },
    {
      "cell_type": "code",
      "metadata": {
        "colab": {
          "base_uri": "https://localhost:8080/",
          "height": 437
        },
        "id": "c8bZNcs6Vlqi",
        "outputId": "3ed9ec50-7197-43a3-f2e7-817fae0398bc"
      },
      "source": [
        "library(ggplot2)\n",
        "ggplot(d, aes(x=`AVG(ASISTENCIA)`, y=`AVG(PROM_GRAL)`)) +  geom_point(size=2, shape=23)"
      ],
      "execution_count": 55,
      "outputs": [
        {
          "output_type": "display_data",
          "data": {
            "image/png": "[encoded data removed]",
            "text/plain": [
              "plot without title"
            ]
          },
          "metadata": {
            "tags": [],
            "image/png": {
              "width": 420,
              "height": 420
            }
          }
        }
      ]
    },
    {
      "cell_type": "code",
      "metadata": {
        "colab": {
          "base_uri": "https://localhost:8080/",
          "height": 728
        },
        "id": "szmlTgfdvywl",
        "outputId": "880ab4af-90ef-461c-8c2a-2a85ea1e710b"
      },
      "source": [
        "dbGetQuery(conn, \"select * from colegios where RBD==1\")\n",
        "\n"
      ],
      "execution_count": 56,
      "outputs": [
        {
          "output_type": "stream",
          "text": [
            "Warning message:\n",
            "“Closing open result set, pending rows”\n"
          ],
          "name": "stderr"
        },
        {
          "output_type": "display_data",
          "data": {
            "text/plain": [
              "   RBD AGNO NOM_RBD                 COD_REG_RBD NOM_COM_RBD COD_DEPE RURAL_RBD\n",
              "1  1   2002 LICEO POLITECNICO        1          ARICA       2        0        \n",
              "2  1   2003 LICEO POLITECNICO        1          ARICA       2        0        \n",
              "3  1   2004 LICEO POLITECNICO ARICA  1          ARICA       2        0        \n",
              "4  1   2005 LICEO POLITECNICO ARICA  1          ARICA       2        0        \n",
              "5  1   2006 LICEO POLITECNICO ARICA  1          ARICA       2        0        \n",
              "6  1   2007 LICEO POLITECNICO ARICA 15          ARICA       2        0        \n",
              "7  1   2008 LICEO POLITECNICO ARICA 15          ARICA       2        0        \n",
              "8  1   2009 LICEO POLITECNICO ARICA 15          ARICA       2        0        \n",
              "9  1   2010 LICEO POLITECNICO ARICA 15          ARICA       2        0        \n",
              "10 1   2011 LICEO POLITECNICO ARICA 15          ARICA       2        0        \n",
              "11 1   2012 LICEO POLITECNICO ARICA 15          ARICA       2        0        \n",
              "12 1   2013 LICEO POLITECNICO ARICA 15          ARICA       2        0        \n",
              "13 1   2014 LICEO POLITECNICO ARICA 15          ARICA       2        0        \n",
              "14 1   2015 LICEO POLITECNICO ARICA 15          ARICA       2        0        \n",
              "15 1   2016 LICEO POLITECNICO ARICA 15          ARICA       2        0        \n",
              "16 1   2017 LICEO POLITECNICO ARICA 15          ARICA       2        0        \n",
              "17 1   2018 LICEO POLITECNICO ARICA 15          ARICA       2        0        \n",
              "18 1   2019 LICEO POLITECNICO ARICA 15          ARICA       6        0        \n",
              "19 1   2020 LICEO POLITECNICO ARICA 15          ARICA       6        0        "
            ],
            "text/latex": "A data.frame: 19 × 7\n\\begin{tabular}{lllllll}\n RBD & AGNO & NOM\\_RBD & COD\\_REG\\_RBD & NOM\\_COM\\_RBD & COD\\_DEPE & RURAL\\_RBD\\\\\n <int> & <int> & <chr> & <int> & <chr> & <int> & <int>\\\\\n\\hline\n\t 1 & 2002 & LICEO POLITECNICO       &  1 & ARICA & 2 & 0\\\\\n\t 1 & 2003 & LICEO POLITECNICO       &  1 & ARICA & 2 & 0\\\\\n\t 1 & 2004 & LICEO POLITECNICO ARICA &  1 & ARICA & 2 & 0\\\\\n\t 1 & 2005 & LICEO POLITECNICO ARICA &  1 & ARICA & 2 & 0\\\\\n\t 1 & 2006 & LICEO POLITECNICO ARICA &  1 & ARICA & 2 & 0\\\\\n\t 1 & 2007 & LICEO POLITECNICO ARICA & 15 & ARICA & 2 & 0\\\\\n\t 1 & 2008 & LICEO POLITECNICO ARICA & 15 & ARICA & 2 & 0\\\\\n\t 1 & 2009 & LICEO POLITECNICO ARICA & 15 & ARICA & 2 & 0\\\\\n\t 1 & 2010 & LICEO POLITECNICO ARICA & 15 & ARICA & 2 & 0\\\\\n\t 1 & 2011 & LICEO POLITECNICO ARICA & 15 & ARICA & 2 & 0\\\\\n\t 1 & 2012 & LICEO POLITECNICO ARICA & 15 & ARICA & 2 & 0\\\\\n\t 1 & 2013 & LICEO POLITECNICO ARICA & 15 & ARICA & 2 & 0\\\\\n\t 1 & 2014 & LICEO POLITECNICO ARICA & 15 & ARICA & 2 & 0\\\\\n\t 1 & 2015 & LICEO POLITECNICO ARICA & 15 & ARICA & 2 & 0\\\\\n\t 1 & 2016 & LICEO POLITECNICO ARICA & 15 & ARICA & 2 & 0\\\\\n\t 1 & 2017 & LICEO POLITECNICO ARICA & 15 & ARICA & 2 & 0\\\\\n\t 1 & 2018 & LICEO POLITECNICO ARICA & 15 & ARICA & 2 & 0\\\\\n\t 1 & 2019 & LICEO POLITECNICO ARICA & 15 & ARICA & 6 & 0\\\\\n\t 1 & 2020 & LICEO POLITECNICO ARICA & 15 & ARICA & 6 & 0\\\\\n\\end{tabular}\n",
            "text/markdown": "\nA data.frame: 19 × 7\n\n| RBD &lt;int&gt; | AGNO &lt;int&gt; | NOM_RBD &lt;chr&gt; | COD_REG_RBD &lt;int&gt; | NOM_COM_RBD &lt;chr&gt; | COD_DEPE &lt;int&gt; | RURAL_RBD &lt;int&gt; |\n|---|---|---|---|---|---|---|\n| 1 | 2002 | LICEO POLITECNICO       |  1 | ARICA | 2 | 0 |\n| 1 | 2003 | LICEO POLITECNICO       |  1 | ARICA | 2 | 0 |\n| 1 | 2004 | LICEO POLITECNICO ARICA |  1 | ARICA | 2 | 0 |\n| 1 | 2005 | LICEO POLITECNICO ARICA |  1 | ARICA | 2 | 0 |\n| 1 | 2006 | LICEO POLITECNICO ARICA |  1 | ARICA | 2 | 0 |\n| 1 | 2007 | LICEO POLITECNICO ARICA | 15 | ARICA | 2 | 0 |\n| 1 | 2008 | LICEO POLITECNICO ARICA | 15 | ARICA | 2 | 0 |\n| 1 | 2009 | LICEO POLITECNICO ARICA | 15 | ARICA | 2 | 0 |\n| 1 | 2010 | LICEO POLITECNICO ARICA | 15 | ARICA | 2 | 0 |\n| 1 | 2011 | LICEO POLITECNICO ARICA | 15 | ARICA | 2 | 0 |\n| 1 | 2012 | LICEO POLITECNICO ARICA | 15 | ARICA | 2 | 0 |\n| 1 | 2013 | LICEO POLITECNICO ARICA | 15 | ARICA | 2 | 0 |\n| 1 | 2014 | LICEO POLITECNICO ARICA | 15 | ARICA | 2 | 0 |\n| 1 | 2015 | LICEO POLITECNICO ARICA | 15 | ARICA | 2 | 0 |\n| 1 | 2016 | LICEO POLITECNICO ARICA | 15 | ARICA | 2 | 0 |\n| 1 | 2017 | LICEO POLITECNICO ARICA | 15 | ARICA | 2 | 0 |\n| 1 | 2018 | LICEO POLITECNICO ARICA | 15 | ARICA | 2 | 0 |\n| 1 | 2019 | LICEO POLITECNICO ARICA | 15 | ARICA | 6 | 0 |\n| 1 | 2020 | LICEO POLITECNICO ARICA | 15 | ARICA | 6 | 0 |\n\n",
            "text/html": [
              "<table class=\"dataframe\">\n",
              "<caption>A data.frame: 19 × 7</caption>\n",
              "<thead>\n",
              "\t<tr><th scope=col>RBD</th><th scope=col>AGNO</th><th scope=col>NOM_RBD</th><th scope=col>COD_REG_RBD</th><th scope=col>NOM_COM_RBD</th><th scope=col>COD_DEPE</th><th scope=col>RURAL_RBD</th></tr>\n",
              "\t<tr><th scope=col>&lt;int&gt;</th><th scope=col>&lt;int&gt;</th><th scope=col>&lt;chr&gt;</th><th scope=col>&lt;int&gt;</th><th scope=col>&lt;chr&gt;</th><th scope=col>&lt;int&gt;</th><th scope=col>&lt;int&gt;</th></tr>\n",
              "</thead>\n",
              "<tbody>\n",
              "\t<tr><td>1</td><td>2002</td><td>LICEO POLITECNICO      </td><td> 1</td><td>ARICA</td><td>2</td><td>0</td></tr>\n",
              "\t<tr><td>1</td><td>2003</td><td>LICEO POLITECNICO      </td><td> 1</td><td>ARICA</td><td>2</td><td>0</td></tr>\n",
              "\t<tr><td>1</td><td>2004</td><td>LICEO POLITECNICO ARICA</td><td> 1</td><td>ARICA</td><td>2</td><td>0</td></tr>\n",
              "\t<tr><td>1</td><td>2005</td><td>LICEO POLITECNICO ARICA</td><td> 1</td><td>ARICA</td><td>2</td><td>0</td></tr>\n",
              "\t<tr><td>1</td><td>2006</td><td>LICEO POLITECNICO ARICA</td><td> 1</td><td>ARICA</td><td>2</td><td>0</td></tr>\n",
              "\t<tr><td>1</td><td>2007</td><td>LICEO POLITECNICO ARICA</td><td>15</td><td>ARICA</td><td>2</td><td>0</td></tr>\n",
              "\t<tr><td>1</td><td>2008</td><td>LICEO POLITECNICO ARICA</td><td>15</td><td>ARICA</td><td>2</td><td>0</td></tr>\n",
              "\t<tr><td>1</td><td>2009</td><td>LICEO POLITECNICO ARICA</td><td>15</td><td>ARICA</td><td>2</td><td>0</td></tr>\n",
              "\t<tr><td>1</td><td>2010</td><td>LICEO POLITECNICO ARICA</td><td>15</td><td>ARICA</td><td>2</td><td>0</td></tr>\n",
              "\t<tr><td>1</td><td>2011</td><td>LICEO POLITECNICO ARICA</td><td>15</td><td>ARICA</td><td>2</td><td>0</td></tr>\n",
              "\t<tr><td>1</td><td>2012</td><td>LICEO POLITECNICO ARICA</td><td>15</td><td>ARICA</td><td>2</td><td>0</td></tr>\n",
              "\t<tr><td>1</td><td>2013</td><td>LICEO POLITECNICO ARICA</td><td>15</td><td>ARICA</td><td>2</td><td>0</td></tr>\n",
              "\t<tr><td>1</td><td>2014</td><td>LICEO POLITECNICO ARICA</td><td>15</td><td>ARICA</td><td>2</td><td>0</td></tr>\n",
              "\t<tr><td>1</td><td>2015</td><td>LICEO POLITECNICO ARICA</td><td>15</td><td>ARICA</td><td>2</td><td>0</td></tr>\n",
              "\t<tr><td>1</td><td>2016</td><td>LICEO POLITECNICO ARICA</td><td>15</td><td>ARICA</td><td>2</td><td>0</td></tr>\n",
              "\t<tr><td>1</td><td>2017</td><td>LICEO POLITECNICO ARICA</td><td>15</td><td>ARICA</td><td>2</td><td>0</td></tr>\n",
              "\t<tr><td>1</td><td>2018</td><td>LICEO POLITECNICO ARICA</td><td>15</td><td>ARICA</td><td>2</td><td>0</td></tr>\n",
              "\t<tr><td>1</td><td>2019</td><td>LICEO POLITECNICO ARICA</td><td>15</td><td>ARICA</td><td>6</td><td>0</td></tr>\n",
              "\t<tr><td>1</td><td>2020</td><td>LICEO POLITECNICO ARICA</td><td>15</td><td>ARICA</td><td>6</td><td>0</td></tr>\n",
              "</tbody>\n",
              "</table>\n"
            ]
          },
          "metadata": {
            "tags": []
          }
        }
      ]
    },
    {
      "cell_type": "code",
      "metadata": {
        "id": "rF1cLo8bD7dt"
      },
      "source": [
        ""
      ],
      "execution_count": null,
      "outputs": []
    },
    {
      "cell_type": "markdown",
      "metadata": {
        "id": "JS8EK79U9RIF"
      },
      "source": [
        "#Restricciones en SQL"
      ]
    },
    {
      "cell_type": "code",
      "metadata": {
        "colab": {
          "base_uri": "https://localhost:8080/",
          "height": 35
        },
        "id": "a43hJNObPo4B",
        "outputId": "54021c88-5d7a-4b2f-a01e-0032a1aff641"
      },
      "source": [
        "dbListTables(conn)"
      ],
      "execution_count": 36,
      "outputs": [
        {
          "output_type": "display_data",
          "data": {
            "text/plain": [
              "[1] \"alumnos\"         \"apoderados\"      \"colegios\"        \"jardin_infantil\""
            ],
            "text/latex": "\\begin{enumerate*}\n\\item 'alumnos'\n\\item 'apoderados'\n\\item 'colegios'\n\\item 'jardin\\_infantil'\n\\end{enumerate*}\n",
            "text/markdown": "1. 'alumnos'\n2. 'apoderados'\n3. 'colegios'\n4. 'jardin_infantil'\n\n\n",
            "text/html": [
              "<style>\n",
              ".list-inline {list-style: none; margin:0; padding: 0}\n",
              ".list-inline>li {display: inline-block}\n",
              ".list-inline>li:not(:last-child)::after {content: \"\\00b7\"; padding: 0 .5ex}\n",
              "</style>\n",
              "<ol class=list-inline><li>'alumnos'</li><li>'apoderados'</li><li>'colegios'</li><li>'jardin_infantil'</li></ol>\n"
            ]
          },
          "metadata": {
            "tags": []
          }
        }
      ]
    },
    {
      "cell_type": "code",
      "metadata": {
        "colab": {
          "base_uri": "https://localhost:8080/",
          "height": 35
        },
        "id": "t_e9LTJgO6zR",
        "outputId": "8e7a6f56-791f-47ce-8eb8-d3996d9891d3"
      },
      "source": [
        "dbExecute(conn, \"DROP TABLE jardin_infantil\")\n"
      ],
      "execution_count": 24,
      "outputs": [
        {
          "output_type": "display_data",
          "data": {
            "text/plain": [
              "[1] 0"
            ],
            "text/latex": "0",
            "text/markdown": "0",
            "text/html": [
              "0"
            ]
          },
          "metadata": {
            "tags": []
          }
        }
      ]
    },
    {
      "cell_type": "code",
      "metadata": {
        "colab": {
          "base_uri": "https://localhost:8080/",
          "height": 35
        },
        "id": "Ui5Ho0buPG9-",
        "outputId": "6f9484ef-25ee-4f90-bda4-c4343e31db5e"
      },
      "source": [
        "dbExecute(conn, \"DROP TABLE apoderados\")"
      ],
      "execution_count": 26,
      "outputs": [
        {
          "output_type": "display_data",
          "data": {
            "text/plain": [
              "[1] 0"
            ],
            "text/latex": "0",
            "text/markdown": "0",
            "text/html": [
              "0"
            ]
          },
          "metadata": {
            "tags": []
          }
        }
      ]
    },
    {
      "cell_type": "code",
      "metadata": {
        "colab": {
          "base_uri": "https://localhost:8080/",
          "height": 35
        },
        "id": "xjFsEkiaM3ep",
        "outputId": "13b985b9-0444-4ef5-b2f6-115c7014d5dd"
      },
      "source": [
        "dbExecute(conn, \"CREATE TABLE jardin_infantil (ID INT PRIMARY KEY, NOMBRE VARCHAR(20) UNIQUE, DIRECCION VARCHAR(20) NOT NULL)\")\n"
      ],
      "execution_count": 27,
      "outputs": [
        {
          "output_type": "display_data",
          "data": {
            "text/plain": [
              "[1] 0"
            ],
            "text/latex": "0",
            "text/markdown": "0",
            "text/html": [
              "0"
            ]
          },
          "metadata": {
            "tags": []
          }
        }
      ]
    },
    {
      "cell_type": "code",
      "metadata": {
        "id": "fvXfcXAO9LU2",
        "colab": {
          "base_uri": "https://localhost:8080/",
          "height": 35
        },
        "outputId": "b3ceb81a-d178-400a-f4b5-dc04f3de4c6c"
      },
      "source": [
        "\n",
        "dbExecute(conn, \"CREATE TABLE apoderados (ID INT PRIMARY KEY, NOMBRE VARCHAR(40), TELEFONO VARCHAR(40), ID_ALUMNO INT, CONSTRAINT fk_apoderado_de FOREIGN KEY (ID_ALUMNO) REFERENCES alumnos(MRUN) )\")\n",
        "\n"
      ],
      "execution_count": 32,
      "outputs": [
        {
          "output_type": "display_data",
          "data": {
            "text/plain": [
              "[1] 0"
            ],
            "text/latex": "0",
            "text/markdown": "0",
            "text/html": [
              "0"
            ]
          },
          "metadata": {
            "tags": []
          }
        }
      ]
    },
    {
      "cell_type": "code",
      "metadata": {
        "colab": {
          "base_uri": "https://localhost:8080/",
          "height": 35
        },
        "id": "X3SidAiKOV4h",
        "outputId": "d6370d08-ec8f-44a0-bb98-34f80f024d76"
      },
      "source": [
        "dbExecute(conn, \"PRAGMA foreign_keys = ON;\")\n"
      ],
      "execution_count": 33,
      "outputs": [
        {
          "output_type": "display_data",
          "data": {
            "text/plain": [
              "[1] 0"
            ],
            "text/latex": "0",
            "text/markdown": "0",
            "text/html": [
              "0"
            ]
          },
          "metadata": {
            "tags": []
          }
        }
      ]
    },
    {
      "cell_type": "code",
      "metadata": {
        "id": "H8F70eRHJXhM",
        "colab": {
          "base_uri": "https://localhost:8080/",
          "height": 223
        },
        "outputId": "c60ab41a-e51d-409f-b71a-25e5382e0382"
      },
      "source": [
        "dbGetQuery(conn, \"PRAGMA table_info(apoderados)\")"
      ],
      "execution_count": 38,
      "outputs": [
        {
          "output_type": "display_data",
          "data": {
            "text/plain": [
              "  cid name      type        notnull dflt_value pk\n",
              "1 0   ID        INT         0       NA         1 \n",
              "2 1   NOMBRE    VARCHAR(40) 0       NA         0 \n",
              "3 2   TELEFONO  VARCHAR(40) 0       NA         0 \n",
              "4 3   ID_ALUMNO INT         0       NA         0 "
            ],
            "text/latex": "A data.frame: 4 × 6\n\\begin{tabular}{llllll}\n cid & name & type & notnull & dflt\\_value & pk\\\\\n <int> & <chr> & <chr> & <int> & <lgl> & <int>\\\\\n\\hline\n\t 0 & ID        & INT         & 0 & NA & 1\\\\\n\t 1 & NOMBRE    & VARCHAR(40) & 0 & NA & 0\\\\\n\t 2 & TELEFONO  & VARCHAR(40) & 0 & NA & 0\\\\\n\t 3 & ID\\_ALUMNO & INT         & 0 & NA & 0\\\\\n\\end{tabular}\n",
            "text/markdown": "\nA data.frame: 4 × 6\n\n| cid &lt;int&gt; | name &lt;chr&gt; | type &lt;chr&gt; | notnull &lt;int&gt; | dflt_value &lt;lgl&gt; | pk &lt;int&gt; |\n|---|---|---|---|---|---|\n| 0 | ID        | INT         | 0 | NA | 1 |\n| 1 | NOMBRE    | VARCHAR(40) | 0 | NA | 0 |\n| 2 | TELEFONO  | VARCHAR(40) | 0 | NA | 0 |\n| 3 | ID_ALUMNO | INT         | 0 | NA | 0 |\n\n",
            "text/html": [
              "<table class=\"dataframe\">\n",
              "<caption>A data.frame: 4 × 6</caption>\n",
              "<thead>\n",
              "\t<tr><th scope=col>cid</th><th scope=col>name</th><th scope=col>type</th><th scope=col>notnull</th><th scope=col>dflt_value</th><th scope=col>pk</th></tr>\n",
              "\t<tr><th scope=col>&lt;int&gt;</th><th scope=col>&lt;chr&gt;</th><th scope=col>&lt;chr&gt;</th><th scope=col>&lt;int&gt;</th><th scope=col>&lt;lgl&gt;</th><th scope=col>&lt;int&gt;</th></tr>\n",
              "</thead>\n",
              "<tbody>\n",
              "\t<tr><td>0</td><td>ID       </td><td>INT        </td><td>0</td><td>NA</td><td>1</td></tr>\n",
              "\t<tr><td>1</td><td>NOMBRE   </td><td>VARCHAR(40)</td><td>0</td><td>NA</td><td>0</td></tr>\n",
              "\t<tr><td>2</td><td>TELEFONO </td><td>VARCHAR(40)</td><td>0</td><td>NA</td><td>0</td></tr>\n",
              "\t<tr><td>3</td><td>ID_ALUMNO</td><td>INT        </td><td>0</td><td>NA</td><td>0</td></tr>\n",
              "</tbody>\n",
              "</table>\n"
            ]
          },
          "metadata": {
            "tags": []
          }
        }
      ]
    },
    {
      "cell_type": "code",
      "metadata": {
        "colab": {
          "base_uri": "https://localhost:8080/",
          "height": 430
        },
        "id": "B-o83y4UPoMf",
        "outputId": "18c6aebe-035b-4ead-a46b-062f23f948df"
      },
      "source": [
        "dbGetQuery(conn,\"Select  * from alumnos limit 10\")"
      ],
      "execution_count": 40,
      "outputs": [
        {
          "output_type": "display_data",
          "data": {
            "text/plain": [
              "   MRUN  AGNO RBD COD_ENSE COD_GRADO LET_CUR GEN_ALU FEC_NAC_ALU COD_COM_ALU\n",
              "1  10081 2002 1   561      1         A       1       Sep 16 1962 1201       \n",
              "2  13604 2002 1   610      3         F       2       Jan 17 1985 1201       \n",
              "3  20935 2002 1   561      3         A       1       Feb 11 1974 1201       \n",
              "4  30441 2002 1   510      2         D       1       Jan  2 1986 1201       \n",
              "5  33767 2002 1   661      4         D       1       Mar 26 1983 1201       \n",
              "6  37399 2002 1   510      3         G       1       Sep 15 1985 1201       \n",
              "7  53226 2002 1   510      3         E       1       Dec 10 1985 1201       \n",
              "8  67099 2002 1   510      1         D       2       May 23 1988 1201       \n",
              "9  81228 2002 1   510      3         B       1       Apr 12 1985 1201       \n",
              "10 86590 2002 1   510      4         G       1       Dec 22 1984 1201       \n",
              "   SIT_FIN_R PROM_GRAL ASISTENCIA\n",
              "1  Y         0           0       \n",
              "2  P         5,1        91       \n",
              "3  P         6          99       \n",
              "4  P         5,6        97       \n",
              "5  P         6,5        85       \n",
              "6  P         4,9        92       \n",
              "7  P         5,1        86       \n",
              "8  P         6,5       100       \n",
              "9  P         5,7        99       \n",
              "10 P         6,4        97       "
            ],
            "text/latex": "A data.frame: 10 × 12\n\\begin{tabular}{llllllllllll}\n MRUN & AGNO & RBD & COD\\_ENSE & COD\\_GRADO & LET\\_CUR & GEN\\_ALU & FEC\\_NAC\\_ALU & COD\\_COM\\_ALU & SIT\\_FIN\\_R & PROM\\_GRAL & ASISTENCIA\\\\\n <int> & <int> & <int> & <int> & <int> & <chr> & <int> & <chr> & <int> & <chr> & <chr> & <int>\\\\\n\\hline\n\t 10081 & 2002 & 1 & 561 & 1 & A & 1 & Sep 16 1962 & 1201 & Y & 0   &   0\\\\\n\t 13604 & 2002 & 1 & 610 & 3 & F & 2 & Jan 17 1985 & 1201 & P & 5,1 &  91\\\\\n\t 20935 & 2002 & 1 & 561 & 3 & A & 1 & Feb 11 1974 & 1201 & P & 6   &  99\\\\\n\t 30441 & 2002 & 1 & 510 & 2 & D & 1 & Jan  2 1986 & 1201 & P & 5,6 &  97\\\\\n\t 33767 & 2002 & 1 & 661 & 4 & D & 1 & Mar 26 1983 & 1201 & P & 6,5 &  85\\\\\n\t 37399 & 2002 & 1 & 510 & 3 & G & 1 & Sep 15 1985 & 1201 & P & 4,9 &  92\\\\\n\t 53226 & 2002 & 1 & 510 & 3 & E & 1 & Dec 10 1985 & 1201 & P & 5,1 &  86\\\\\n\t 67099 & 2002 & 1 & 510 & 1 & D & 2 & May 23 1988 & 1201 & P & 6,5 & 100\\\\\n\t 81228 & 2002 & 1 & 510 & 3 & B & 1 & Apr 12 1985 & 1201 & P & 5,7 &  99\\\\\n\t 86590 & 2002 & 1 & 510 & 4 & G & 1 & Dec 22 1984 & 1201 & P & 6,4 &  97\\\\\n\\end{tabular}\n",
            "text/markdown": "\nA data.frame: 10 × 12\n\n| MRUN &lt;int&gt; | AGNO &lt;int&gt; | RBD &lt;int&gt; | COD_ENSE &lt;int&gt; | COD_GRADO &lt;int&gt; | LET_CUR &lt;chr&gt; | GEN_ALU &lt;int&gt; | FEC_NAC_ALU &lt;chr&gt; | COD_COM_ALU &lt;int&gt; | SIT_FIN_R &lt;chr&gt; | PROM_GRAL &lt;chr&gt; | ASISTENCIA &lt;int&gt; |\n|---|---|---|---|---|---|---|---|---|---|---|---|\n| 10081 | 2002 | 1 | 561 | 1 | A | 1 | Sep 16 1962 | 1201 | Y | 0   |   0 |\n| 13604 | 2002 | 1 | 610 | 3 | F | 2 | Jan 17 1985 | 1201 | P | 5,1 |  91 |\n| 20935 | 2002 | 1 | 561 | 3 | A | 1 | Feb 11 1974 | 1201 | P | 6   |  99 |\n| 30441 | 2002 | 1 | 510 | 2 | D | 1 | Jan  2 1986 | 1201 | P | 5,6 |  97 |\n| 33767 | 2002 | 1 | 661 | 4 | D | 1 | Mar 26 1983 | 1201 | P | 6,5 |  85 |\n| 37399 | 2002 | 1 | 510 | 3 | G | 1 | Sep 15 1985 | 1201 | P | 4,9 |  92 |\n| 53226 | 2002 | 1 | 510 | 3 | E | 1 | Dec 10 1985 | 1201 | P | 5,1 |  86 |\n| 67099 | 2002 | 1 | 510 | 1 | D | 2 | May 23 1988 | 1201 | P | 6,5 | 100 |\n| 81228 | 2002 | 1 | 510 | 3 | B | 1 | Apr 12 1985 | 1201 | P | 5,7 |  99 |\n| 86590 | 2002 | 1 | 510 | 4 | G | 1 | Dec 22 1984 | 1201 | P | 6,4 |  97 |\n\n",
            "text/html": [
              "<table class=\"dataframe\">\n",
              "<caption>A data.frame: 10 × 12</caption>\n",
              "<thead>\n",
              "\t<tr><th scope=col>MRUN</th><th scope=col>AGNO</th><th scope=col>RBD</th><th scope=col>COD_ENSE</th><th scope=col>COD_GRADO</th><th scope=col>LET_CUR</th><th scope=col>GEN_ALU</th><th scope=col>FEC_NAC_ALU</th><th scope=col>COD_COM_ALU</th><th scope=col>SIT_FIN_R</th><th scope=col>PROM_GRAL</th><th scope=col>ASISTENCIA</th></tr>\n",
              "\t<tr><th scope=col>&lt;int&gt;</th><th scope=col>&lt;int&gt;</th><th scope=col>&lt;int&gt;</th><th scope=col>&lt;int&gt;</th><th scope=col>&lt;int&gt;</th><th scope=col>&lt;chr&gt;</th><th scope=col>&lt;int&gt;</th><th scope=col>&lt;chr&gt;</th><th scope=col>&lt;int&gt;</th><th scope=col>&lt;chr&gt;</th><th scope=col>&lt;chr&gt;</th><th scope=col>&lt;int&gt;</th></tr>\n",
              "</thead>\n",
              "<tbody>\n",
              "\t<tr><td>10081</td><td>2002</td><td>1</td><td>561</td><td>1</td><td>A</td><td>1</td><td>Sep 16 1962</td><td>1201</td><td>Y</td><td>0  </td><td>  0</td></tr>\n",
              "\t<tr><td>13604</td><td>2002</td><td>1</td><td>610</td><td>3</td><td>F</td><td>2</td><td>Jan 17 1985</td><td>1201</td><td>P</td><td>5,1</td><td> 91</td></tr>\n",
              "\t<tr><td>20935</td><td>2002</td><td>1</td><td>561</td><td>3</td><td>A</td><td>1</td><td>Feb 11 1974</td><td>1201</td><td>P</td><td>6  </td><td> 99</td></tr>\n",
              "\t<tr><td>30441</td><td>2002</td><td>1</td><td>510</td><td>2</td><td>D</td><td>1</td><td>Jan  2 1986</td><td>1201</td><td>P</td><td>5,6</td><td> 97</td></tr>\n",
              "\t<tr><td>33767</td><td>2002</td><td>1</td><td>661</td><td>4</td><td>D</td><td>1</td><td>Mar 26 1983</td><td>1201</td><td>P</td><td>6,5</td><td> 85</td></tr>\n",
              "\t<tr><td>37399</td><td>2002</td><td>1</td><td>510</td><td>3</td><td>G</td><td>1</td><td>Sep 15 1985</td><td>1201</td><td>P</td><td>4,9</td><td> 92</td></tr>\n",
              "\t<tr><td>53226</td><td>2002</td><td>1</td><td>510</td><td>3</td><td>E</td><td>1</td><td>Dec 10 1985</td><td>1201</td><td>P</td><td>5,1</td><td> 86</td></tr>\n",
              "\t<tr><td>67099</td><td>2002</td><td>1</td><td>510</td><td>1</td><td>D</td><td>2</td><td>May 23 1988</td><td>1201</td><td>P</td><td>6,5</td><td>100</td></tr>\n",
              "\t<tr><td>81228</td><td>2002</td><td>1</td><td>510</td><td>3</td><td>B</td><td>1</td><td>Apr 12 1985</td><td>1201</td><td>P</td><td>5,7</td><td> 99</td></tr>\n",
              "\t<tr><td>86590</td><td>2002</td><td>1</td><td>510</td><td>4</td><td>G</td><td>1</td><td>Dec 22 1984</td><td>1201</td><td>P</td><td>6,4</td><td> 97</td></tr>\n",
              "</tbody>\n",
              "</table>\n"
            ]
          },
          "metadata": {
            "tags": []
          }
        }
      ]
    },
    {
      "cell_type": "code",
      "metadata": {
        "colab": {
          "base_uri": "https://localhost:8080/",
          "height": 371
        },
        "id": "w2rfWSBZOmHH",
        "outputId": "4932289d-b71e-4453-944a-47eb6b24e72e"
      },
      "source": [
        "dbExecute(conn,\"INSERT INTO apoderados VALUES (3,'Maria Perez','+56999410013', 10081)\")"
      ],
      "execution_count": 41,
      "outputs": [
        {
          "output_type": "error",
          "ename": "ERROR",
          "evalue": "ignored",
          "traceback": [
            "Error: foreign key mismatch - \"apoderados\" referencing \"alumnos\"\nTraceback:\n",
            "1. dbExecute(conn, \"INSERT INTO apoderados VALUES (3,'Maria Perez','+56999410013', 10081)\")",
            "2. dbExecute(conn, \"INSERT INTO apoderados VALUES (3,'Maria Perez','+56999410013', 10081)\")",
            "3. dbSendStatement(conn, statement, ...)",
            "4. dbSendStatement(conn, statement, ...)",
            "5. dbSendQuery(conn, statement, ...)",
            "6. dbSendQuery(conn, statement, ...)",
            "7. .local(conn, statement, ...)",
            "8. new(\"SQLiteResult\", sql = statement, ptr = result_create(conn@ptr, \n .     statement), conn = conn, bigint = conn@bigint)",
            "9. initialize(value, ...)",
            "10. initialize(value, ...)",
            "11. result_create(conn@ptr, statement)"
          ]
        }
      ]
    },
    {
      "cell_type": "code",
      "metadata": {
        "id": "T5W2lrb9Pctw"
      },
      "source": [
        "dbGetQuery(conn, \"UPDATE colegios SET NOM_RBD='ESCUELA PARTICULAR CAICAIEN' where RBD==7321\")"
      ],
      "execution_count": null,
      "outputs": []
    }
  ]
}