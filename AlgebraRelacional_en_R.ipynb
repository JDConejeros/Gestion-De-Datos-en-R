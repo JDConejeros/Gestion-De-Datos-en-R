{
  "nbformat": 4,
  "nbformat_minor": 0,
  "metadata": {
    "colab": {
      "name": "AlgebraRelacional en R.ipynb",
      "provenance": [],
      "authorship_tag": "ABX9TyNIj8/y4l0VzUOen5a+Fw5v",
      "include_colab_link": true
    },
    "kernelspec": {
      "name": "ir",
      "display_name": "R"
    },
    "language_info": {
      "name": "R"
    }
  },
  "cells": [
    {
      "cell_type": "markdown",
      "metadata": {
        "id": "view-in-github",
        "colab_type": "text"
      },
      "source": [
        "<a href=\"https://colab.research.google.com/github/maxigaarp/Gestion-De-Datos-en-R/blob/main/AlgebraRelacional_en_R.ipynb\" target=\"_parent\"><img src=\"https://colab.research.google.com/assets/colab-badge.svg\" alt=\"Open In Colab\"/></a>"
      ]
    },
    {
      "cell_type": "code",
      "metadata": {
        "id": "mljNpK6Ke8UW"
      },
      "source": [
        "library(tidyverse)\n"
      ],
      "execution_count": 99,
      "outputs": []
    },
    {
      "cell_type": "markdown",
      "metadata": {
        "id": "ib2Zrc-jdr0o"
      },
      "source": [
        "# Creando datos\n",
        "\n",
        "Este codigo esta puesto a modo de ejemplo para emular los operadores de algebra relacional dentro de R. Se puede ver una mejor simulacion en la siguiente [pagina web](https://dbis-uibk.github.io/relax/calc/gist/41cf5ce652756d9331eec7562644e074/imdbsample/0)"
      ]
    },
    {
      "cell_type": "code",
      "metadata": {
        "colab": {
          "base_uri": "https://localhost:8080/",
          "height": 254
        },
        "id": "HCdqF7G86MUU",
        "outputId": "cf5a7757-b734-4e59-fa51-041d4d48e6f7"
      },
      "source": [
        "r <- \"1 Robert_Downey_Jr. 54\n",
        "2 Scarlett_Johansson 35\n",
        "3 Gwyneth_Paltrow 47\n",
        "4 Tom_Holland 23\n",
        "5 Chris_Evans 38\"\n",
        "\n",
        "actores=read.table(text=r,col.names = c(\"aid\", \"anombre\", \"edad\"))\n",
        "actores"
      ],
      "execution_count": 95,
      "outputs": [
        {
          "output_type": "display_data",
          "data": {
            "text/plain": [
              "  aid anombre            edad\n",
              "1 1   Robert_Downey_Jr.  54  \n",
              "2 2   Scarlett_Johansson 35  \n",
              "3 3   Gwyneth_Paltrow    47  \n",
              "4 4   Tom_Holland        23  \n",
              "5 5   Chris_Evans        38  "
            ],
            "text/latex": "A data.frame: 5 × 3\n\\begin{tabular}{lll}\n aid & anombre & edad\\\\\n <int> & <chr> & <int>\\\\\n\\hline\n\t 1 & Robert\\_Downey\\_Jr.  & 54\\\\\n\t 2 & Scarlett\\_Johansson & 35\\\\\n\t 3 & Gwyneth\\_Paltrow    & 47\\\\\n\t 4 & Tom\\_Holland        & 23\\\\\n\t 5 & Chris\\_Evans        & 38\\\\\n\\end{tabular}\n",
            "text/markdown": "\nA data.frame: 5 × 3\n\n| aid &lt;int&gt; | anombre &lt;chr&gt; | edad &lt;int&gt; |\n|---|---|---|\n| 1 | Robert_Downey_Jr.  | 54 |\n| 2 | Scarlett_Johansson | 35 |\n| 3 | Gwyneth_Paltrow    | 47 |\n| 4 | Tom_Holland        | 23 |\n| 5 | Chris_Evans        | 38 |\n\n",
            "text/html": [
              "<table class=\"dataframe\">\n",
              "<caption>A data.frame: 5 × 3</caption>\n",
              "<thead>\n",
              "\t<tr><th scope=col>aid</th><th scope=col>anombre</th><th scope=col>edad</th></tr>\n",
              "\t<tr><th scope=col>&lt;int&gt;</th><th scope=col>&lt;chr&gt;</th><th scope=col>&lt;int&gt;</th></tr>\n",
              "</thead>\n",
              "<tbody>\n",
              "\t<tr><td>1</td><td>Robert_Downey_Jr. </td><td>54</td></tr>\n",
              "\t<tr><td>2</td><td>Scarlett_Johansson</td><td>35</td></tr>\n",
              "\t<tr><td>3</td><td>Gwyneth_Paltrow   </td><td>47</td></tr>\n",
              "\t<tr><td>4</td><td>Tom_Holland       </td><td>23</td></tr>\n",
              "\t<tr><td>5</td><td>Chris_Evans       </td><td>38</td></tr>\n",
              "</tbody>\n",
              "</table>\n"
            ]
          },
          "metadata": {
            "tags": []
          }
        }
      ]
    },
    {
      "cell_type": "code",
      "metadata": {
        "colab": {
          "base_uri": "https://localhost:8080/",
          "height": 504
        },
        "id": "VwR3ZuGP6lMM",
        "outputId": "4311618e-4307-4dff-a7b8-a8495ab0e7ba"
      },
      "source": [
        "r <- \"1 1 Tony_Stark\n",
        "1 2 Tony_Stark\n",
        "1 3 Tony_Stark\n",
        "1 4 Tony_Stark\n",
        "2 1 Natasha_Romanoff\n",
        "2 4 Natasha_Romanoff\n",
        "3 1 Pepper_Potts\n",
        "3 2 Pepper_Potts\n",
        "3 3 Pepper_Potts\n",
        "4 1 Peter_Parker\n",
        "4 3 Peter_Parker\n",
        "5 1 Steve_Rogers\n",
        "5 4 Steve_Rogers\"\n",
        "\n",
        "actuo_en=read.table(text=r,col.names = c(\"aid\",\"pid\",\"nombre_personaje\"))\n",
        "actuo_en"
      ],
      "execution_count": 96,
      "outputs": [
        {
          "output_type": "display_data",
          "data": {
            "text/plain": [
              "   aid pid nombre_personaje\n",
              "1  1   1   Tony_Stark      \n",
              "2  1   2   Tony_Stark      \n",
              "3  1   3   Tony_Stark      \n",
              "4  1   4   Tony_Stark      \n",
              "5  2   1   Natasha_Romanoff\n",
              "6  2   4   Natasha_Romanoff\n",
              "7  3   1   Pepper_Potts    \n",
              "8  3   2   Pepper_Potts    \n",
              "9  3   3   Pepper_Potts    \n",
              "10 4   1   Peter_Parker    \n",
              "11 4   3   Peter_Parker    \n",
              "12 5   1   Steve_Rogers    \n",
              "13 5   4   Steve_Rogers    "
            ],
            "text/latex": "A data.frame: 13 × 3\n\\begin{tabular}{lll}\n aid & pid & nombre\\_personaje\\\\\n <int> & <int> & <chr>\\\\\n\\hline\n\t 1 & 1 & Tony\\_Stark      \\\\\n\t 1 & 2 & Tony\\_Stark      \\\\\n\t 1 & 3 & Tony\\_Stark      \\\\\n\t 1 & 4 & Tony\\_Stark      \\\\\n\t 2 & 1 & Natasha\\_Romanoff\\\\\n\t 2 & 4 & Natasha\\_Romanoff\\\\\n\t 3 & 1 & Pepper\\_Potts    \\\\\n\t 3 & 2 & Pepper\\_Potts    \\\\\n\t 3 & 3 & Pepper\\_Potts    \\\\\n\t 4 & 1 & Peter\\_Parker    \\\\\n\t 4 & 3 & Peter\\_Parker    \\\\\n\t 5 & 1 & Steve\\_Rogers    \\\\\n\t 5 & 4 & Steve\\_Rogers    \\\\\n\\end{tabular}\n",
            "text/markdown": "\nA data.frame: 13 × 3\n\n| aid &lt;int&gt; | pid &lt;int&gt; | nombre_personaje &lt;chr&gt; |\n|---|---|---|\n| 1 | 1 | Tony_Stark       |\n| 1 | 2 | Tony_Stark       |\n| 1 | 3 | Tony_Stark       |\n| 1 | 4 | Tony_Stark       |\n| 2 | 1 | Natasha_Romanoff |\n| 2 | 4 | Natasha_Romanoff |\n| 3 | 1 | Pepper_Potts     |\n| 3 | 2 | Pepper_Potts     |\n| 3 | 3 | Pepper_Potts     |\n| 4 | 1 | Peter_Parker     |\n| 4 | 3 | Peter_Parker     |\n| 5 | 1 | Steve_Rogers     |\n| 5 | 4 | Steve_Rogers     |\n\n",
            "text/html": [
              "<table class=\"dataframe\">\n",
              "<caption>A data.frame: 13 × 3</caption>\n",
              "<thead>\n",
              "\t<tr><th scope=col>aid</th><th scope=col>pid</th><th scope=col>nombre_personaje</th></tr>\n",
              "\t<tr><th scope=col>&lt;int&gt;</th><th scope=col>&lt;int&gt;</th><th scope=col>&lt;chr&gt;</th></tr>\n",
              "</thead>\n",
              "<tbody>\n",
              "\t<tr><td>1</td><td>1</td><td>Tony_Stark      </td></tr>\n",
              "\t<tr><td>1</td><td>2</td><td>Tony_Stark      </td></tr>\n",
              "\t<tr><td>1</td><td>3</td><td>Tony_Stark      </td></tr>\n",
              "\t<tr><td>1</td><td>4</td><td>Tony_Stark      </td></tr>\n",
              "\t<tr><td>2</td><td>1</td><td>Natasha_Romanoff</td></tr>\n",
              "\t<tr><td>2</td><td>4</td><td>Natasha_Romanoff</td></tr>\n",
              "\t<tr><td>3</td><td>1</td><td>Pepper_Potts    </td></tr>\n",
              "\t<tr><td>3</td><td>2</td><td>Pepper_Potts    </td></tr>\n",
              "\t<tr><td>3</td><td>3</td><td>Pepper_Potts    </td></tr>\n",
              "\t<tr><td>4</td><td>1</td><td>Peter_Parker    </td></tr>\n",
              "\t<tr><td>4</td><td>3</td><td>Peter_Parker    </td></tr>\n",
              "\t<tr><td>5</td><td>1</td><td>Steve_Rogers    </td></tr>\n",
              "\t<tr><td>5</td><td>4</td><td>Steve_Rogers    </td></tr>\n",
              "</tbody>\n",
              "</table>\n"
            ]
          },
          "metadata": {
            "tags": []
          }
        }
      ]
    },
    {
      "cell_type": "code",
      "metadata": {
        "colab": {
          "base_uri": "https://localhost:8080/",
          "height": 223
        },
        "id": "GcoGf0In-Uq1",
        "outputId": "b91a780d-d599-4a6e-cdfd-85f45e374b10"
      },
      "source": [
        "r <- \"1 Avengers:Endgame Fantasia Hermanos_Russo\n",
        "2 Iron_Man SciFi Jon_Favreau\n",
        "3 Spiderman:Homecoming SciFi Jon_Watts\n",
        "4 Captain_America:Civil_War Drama Hermanos_Russo\"\n",
        "\n",
        "peliculas=read.table(text=r,col.names = c(\"pid\", \"pnombre\", \"genero\", \"director\"))\n",
        "peliculas"
      ],
      "execution_count": 97,
      "outputs": [
        {
          "output_type": "display_data",
          "data": {
            "text/plain": [
              "  pid pnombre                   genero   director      \n",
              "1 1   Avengers:Endgame          Fantasia Hermanos_Russo\n",
              "2 2   Iron_Man                  SciFi    Jon_Favreau   \n",
              "3 3   Spiderman:Homecoming      SciFi    Jon_Watts     \n",
              "4 4   Captain_America:Civil_War Drama    Hermanos_Russo"
            ],
            "text/latex": "A data.frame: 4 × 4\n\\begin{tabular}{llll}\n pid & pnombre & genero & director\\\\\n <int> & <chr> & <chr> & <chr>\\\\\n\\hline\n\t 1 & Avengers:Endgame          & Fantasia & Hermanos\\_Russo\\\\\n\t 2 & Iron\\_Man                  & SciFi    & Jon\\_Favreau   \\\\\n\t 3 & Spiderman:Homecoming      & SciFi    & Jon\\_Watts     \\\\\n\t 4 & Captain\\_America:Civil\\_War & Drama    & Hermanos\\_Russo\\\\\n\\end{tabular}\n",
            "text/markdown": "\nA data.frame: 4 × 4\n\n| pid &lt;int&gt; | pnombre &lt;chr&gt; | genero &lt;chr&gt; | director &lt;chr&gt; |\n|---|---|---|---|\n| 1 | Avengers:Endgame          | Fantasia | Hermanos_Russo |\n| 2 | Iron_Man                  | SciFi    | Jon_Favreau    |\n| 3 | Spiderman:Homecoming      | SciFi    | Jon_Watts      |\n| 4 | Captain_America:Civil_War | Drama    | Hermanos_Russo |\n\n",
            "text/html": [
              "<table class=\"dataframe\">\n",
              "<caption>A data.frame: 4 × 4</caption>\n",
              "<thead>\n",
              "\t<tr><th scope=col>pid</th><th scope=col>pnombre</th><th scope=col>genero</th><th scope=col>director</th></tr>\n",
              "\t<tr><th scope=col>&lt;int&gt;</th><th scope=col>&lt;chr&gt;</th><th scope=col>&lt;chr&gt;</th><th scope=col>&lt;chr&gt;</th></tr>\n",
              "</thead>\n",
              "<tbody>\n",
              "\t<tr><td>1</td><td>Avengers:Endgame         </td><td>Fantasia</td><td>Hermanos_Russo</td></tr>\n",
              "\t<tr><td>2</td><td>Iron_Man                 </td><td>SciFi   </td><td>Jon_Favreau   </td></tr>\n",
              "\t<tr><td>3</td><td>Spiderman:Homecoming     </td><td>SciFi   </td><td>Jon_Watts     </td></tr>\n",
              "\t<tr><td>4</td><td>Captain_America:Civil_War</td><td>Drama   </td><td>Hermanos_Russo</td></tr>\n",
              "</tbody>\n",
              "</table>\n"
            ]
          },
          "metadata": {
            "tags": []
          }
        }
      ]
    },
    {
      "cell_type": "code",
      "metadata": {
        "id": "10g9UNrUdwGx"
      },
      "source": [
        ""
      ],
      "execution_count": null,
      "outputs": []
    },
    {
      "cell_type": "markdown",
      "metadata": {
        "id": "takNwNNNdxMz"
      },
      "source": [
        "# Proyeccion y Seleccion"
      ]
    },
    {
      "cell_type": "markdown",
      "metadata": {
        "id": "L-5DmyyR-_At"
      },
      "source": [
        "Recordemos:\n",
        "*   Proyeccion: filtrar columnas segun nombre\n",
        "*   Seleccion: filtrar filas segun condición\n",
        "\n"
      ]
    },
    {
      "cell_type": "code",
      "metadata": {
        "colab": {
          "base_uri": "https://localhost:8080/",
          "height": 254
        },
        "id": "BY0pA6UZ-wjZ",
        "outputId": "5662d641-c17f-4e0a-98dc-4ef930176e8b"
      },
      "source": [
        "actores[\"anombre\"]"
      ],
      "execution_count": 98,
      "outputs": [
        {
          "output_type": "display_data",
          "data": {
            "text/plain": [
              "  anombre           \n",
              "1 Robert_Downey_Jr. \n",
              "2 Scarlett_Johansson\n",
              "3 Gwyneth_Paltrow   \n",
              "4 Tom_Holland       \n",
              "5 Chris_Evans       "
            ],
            "text/latex": "A data.frame: 5 × 1\n\\begin{tabular}{l}\n anombre\\\\\n <chr>\\\\\n\\hline\n\t Robert\\_Downey\\_Jr. \\\\\n\t Scarlett\\_Johansson\\\\\n\t Gwyneth\\_Paltrow   \\\\\n\t Tom\\_Holland       \\\\\n\t Chris\\_Evans       \\\\\n\\end{tabular}\n",
            "text/markdown": "\nA data.frame: 5 × 1\n\n| anombre &lt;chr&gt; |\n|---|\n| Robert_Downey_Jr.  |\n| Scarlett_Johansson |\n| Gwyneth_Paltrow    |\n| Tom_Holland        |\n| Chris_Evans        |\n\n",
            "text/html": [
              "<table class=\"dataframe\">\n",
              "<caption>A data.frame: 5 × 1</caption>\n",
              "<thead>\n",
              "\t<tr><th scope=col>anombre</th></tr>\n",
              "\t<tr><th scope=col>&lt;chr&gt;</th></tr>\n",
              "</thead>\n",
              "<tbody>\n",
              "\t<tr><td>Robert_Downey_Jr. </td></tr>\n",
              "\t<tr><td>Scarlett_Johansson</td></tr>\n",
              "\t<tr><td>Gwyneth_Paltrow   </td></tr>\n",
              "\t<tr><td>Tom_Holland       </td></tr>\n",
              "\t<tr><td>Chris_Evans       </td></tr>\n",
              "</tbody>\n",
              "</table>\n"
            ]
          },
          "metadata": {
            "tags": []
          }
        }
      ]
    },
    {
      "cell_type": "code",
      "metadata": {
        "colab": {
          "base_uri": "https://localhost:8080/",
          "height": 129
        },
        "id": "eNHr-zBxAOZS",
        "outputId": "81810146-e17b-4eb2-a7b0-8bb8f7a9a22a"
      },
      "source": [
        "filter(peliculas,pnombre==\"Avengers:Endgame\")"
      ],
      "execution_count": 100,
      "outputs": [
        {
          "output_type": "display_data",
          "data": {
            "text/plain": [
              "  pid pnombre          genero   director      \n",
              "1 1   Avengers:Endgame Fantasia Hermanos_Russo"
            ],
            "text/latex": "A data.frame: 1 × 4\n\\begin{tabular}{llll}\n pid & pnombre & genero & director\\\\\n <int> & <chr> & <chr> & <chr>\\\\\n\\hline\n\t 1 & Avengers:Endgame & Fantasia & Hermanos\\_Russo\\\\\n\\end{tabular}\n",
            "text/markdown": "\nA data.frame: 1 × 4\n\n| pid &lt;int&gt; | pnombre &lt;chr&gt; | genero &lt;chr&gt; | director &lt;chr&gt; |\n|---|---|---|---|\n| 1 | Avengers:Endgame | Fantasia | Hermanos_Russo |\n\n",
            "text/html": [
              "<table class=\"dataframe\">\n",
              "<caption>A data.frame: 1 × 4</caption>\n",
              "<thead>\n",
              "\t<tr><th scope=col>pid</th><th scope=col>pnombre</th><th scope=col>genero</th><th scope=col>director</th></tr>\n",
              "\t<tr><th scope=col>&lt;int&gt;</th><th scope=col>&lt;chr&gt;</th><th scope=col>&lt;chr&gt;</th><th scope=col>&lt;chr&gt;</th></tr>\n",
              "</thead>\n",
              "<tbody>\n",
              "\t<tr><td>1</td><td>Avengers:Endgame</td><td>Fantasia</td><td>Hermanos_Russo</td></tr>\n",
              "</tbody>\n",
              "</table>\n"
            ]
          },
          "metadata": {
            "tags": []
          }
        }
      ]
    },
    {
      "cell_type": "code",
      "metadata": {
        "colab": {
          "base_uri": "https://localhost:8080/",
          "height": 192
        },
        "id": "63LrpQMBxzcq",
        "outputId": "7846cfa0-1cb9-4b1d-ce61-a377a48b43f7"
      },
      "source": [
        "distinct(peliculas[\"director\"])"
      ],
      "execution_count": 112,
      "outputs": [
        {
          "output_type": "display_data",
          "data": {
            "text/plain": [
              "  director      \n",
              "1 Hermanos_Russo\n",
              "2 Jon_Favreau   \n",
              "3 Jon_Watts     "
            ],
            "text/latex": "A data.frame: 3 × 1\n\\begin{tabular}{l}\n director\\\\\n <chr>\\\\\n\\hline\n\t Hermanos\\_Russo\\\\\n\t Jon\\_Favreau   \\\\\n\t Jon\\_Watts     \\\\\n\\end{tabular}\n",
            "text/markdown": "\nA data.frame: 3 × 1\n\n| director &lt;chr&gt; |\n|---|\n| Hermanos_Russo |\n| Jon_Favreau    |\n| Jon_Watts      |\n\n",
            "text/html": [
              "<table class=\"dataframe\">\n",
              "<caption>A data.frame: 3 × 1</caption>\n",
              "<thead>\n",
              "\t<tr><th scope=col>director</th></tr>\n",
              "\t<tr><th scope=col>&lt;chr&gt;</th></tr>\n",
              "</thead>\n",
              "<tbody>\n",
              "\t<tr><td>Hermanos_Russo</td></tr>\n",
              "\t<tr><td>Jon_Favreau   </td></tr>\n",
              "\t<tr><td>Jon_Watts     </td></tr>\n",
              "</tbody>\n",
              "</table>\n"
            ]
          },
          "metadata": {
            "tags": []
          }
        }
      ]
    },
    {
      "cell_type": "code",
      "metadata": {
        "colab": {
          "base_uri": "https://localhost:8080/",
          "height": 160
        },
        "id": "OBuRGYG3B-9h",
        "outputId": "eae8ee10-5aa6-4f78-8f20-db655886008b"
      },
      "source": [
        "filter(actores,edad>40)[\"anombre\"]"
      ],
      "execution_count": 101,
      "outputs": [
        {
          "output_type": "display_data",
          "data": {
            "text/plain": [
              "  anombre          \n",
              "1 Robert_Downey_Jr.\n",
              "2 Gwyneth_Paltrow  "
            ],
            "text/latex": "A data.frame: 2 × 1\n\\begin{tabular}{l}\n anombre\\\\\n <chr>\\\\\n\\hline\n\t Robert\\_Downey\\_Jr.\\\\\n\t Gwyneth\\_Paltrow  \\\\\n\\end{tabular}\n",
            "text/markdown": "\nA data.frame: 2 × 1\n\n| anombre &lt;chr&gt; |\n|---|\n| Robert_Downey_Jr. |\n| Gwyneth_Paltrow   |\n\n",
            "text/html": [
              "<table class=\"dataframe\">\n",
              "<caption>A data.frame: 2 × 1</caption>\n",
              "<thead>\n",
              "\t<tr><th scope=col>anombre</th></tr>\n",
              "\t<tr><th scope=col>&lt;chr&gt;</th></tr>\n",
              "</thead>\n",
              "<tbody>\n",
              "\t<tr><td>Robert_Downey_Jr.</td></tr>\n",
              "\t<tr><td>Gwyneth_Paltrow  </td></tr>\n",
              "</tbody>\n",
              "</table>\n"
            ]
          },
          "metadata": {
            "tags": []
          }
        }
      ]
    },
    {
      "cell_type": "code",
      "metadata": {
        "colab": {
          "base_uri": "https://localhost:8080/",
          "height": 160
        },
        "id": "EDYNoJxQDzMv",
        "outputId": "41ed0ec4-d01e-4478-9664-8d2b6cf77be9"
      },
      "source": [
        "filter(actores,edad>mean(edad))[\"anombre\"]"
      ],
      "execution_count": 102,
      "outputs": [
        {
          "output_type": "display_data",
          "data": {
            "text/plain": [
              "  anombre          \n",
              "1 Robert_Downey_Jr.\n",
              "2 Gwyneth_Paltrow  "
            ],
            "text/latex": "A data.frame: 2 × 1\n\\begin{tabular}{l}\n anombre\\\\\n <chr>\\\\\n\\hline\n\t Robert\\_Downey\\_Jr.\\\\\n\t Gwyneth\\_Paltrow  \\\\\n\\end{tabular}\n",
            "text/markdown": "\nA data.frame: 2 × 1\n\n| anombre &lt;chr&gt; |\n|---|\n| Robert_Downey_Jr. |\n| Gwyneth_Paltrow   |\n\n",
            "text/html": [
              "<table class=\"dataframe\">\n",
              "<caption>A data.frame: 2 × 1</caption>\n",
              "<thead>\n",
              "\t<tr><th scope=col>anombre</th></tr>\n",
              "\t<tr><th scope=col>&lt;chr&gt;</th></tr>\n",
              "</thead>\n",
              "<tbody>\n",
              "\t<tr><td>Robert_Downey_Jr.</td></tr>\n",
              "\t<tr><td>Gwyneth_Paltrow  </td></tr>\n",
              "</tbody>\n",
              "</table>\n"
            ]
          },
          "metadata": {
            "tags": []
          }
        }
      ]
    },
    {
      "cell_type": "markdown",
      "metadata": {
        "id": "X-_gcqXpd-jm"
      },
      "source": [
        "# Union\n"
      ]
    },
    {
      "cell_type": "markdown",
      "metadata": {
        "id": "vPbYSadsETf2"
      },
      "source": [
        "Ahora:\n",
        "*   Union: unir tablas\n",
        "\n",
        "\"Unir nombres de actores y nombres de directores\"\n",
        "\n",
        "$$\\pi_{anombre}(Actores)\\cup \\pi_{pnombre}(Peliculas)$$\n"
      ]
    },
    {
      "cell_type": "code",
      "metadata": {
        "colab": {
          "base_uri": "https://localhost:8080/",
          "height": 280
        },
        "id": "YHNQEH9jEfM4",
        "outputId": "369fef97-06ff-4aa3-ed90-a702e722753f"
      },
      "source": [
        "union(actores[\"anombre\"], peliculas[\"pnombre\"])"
      ],
      "execution_count": 103,
      "outputs": [
        {
          "output_type": "error",
          "ename": "ERROR",
          "evalue": "ignored",
          "traceback": [
            "Error: not compatible: \nnot compatible: \n- Cols in y but not x: `pnombre`.\n- Cols in x but not y: `anombre`.\n\nTraceback:\n",
            "1. union(actores[\"anombre\"], peliculas[\"pnombre\"])",
            "2. union.data.frame(actores[\"anombre\"], peliculas[\"pnombre\"])",
            "3. check_compatible(x, y)",
            "4. abort(paste0(\"not compatible: \\n\", glue_collapse(compat, sep = \"\\n\")))",
            "5. signal_abort(cnd)"
          ]
        }
      ]
    },
    {
      "cell_type": "code",
      "metadata": {
        "colab": {
          "base_uri": "https://localhost:8080/",
          "height": 207
        },
        "id": "YTdWu1IVFpE-",
        "outputId": "a5793fd8-03c7-4097-8733-096432de6adc"
      },
      "source": [
        "bind_rows(actores[\"anombre\"], peliculas[\"pnombre\"])"
      ],
      "execution_count": 110,
      "outputs": [
        {
          "output_type": "error",
          "ename": "ERROR",
          "evalue": "ignored",
          "traceback": [
            "Error in `[.data.frame`(peliculas, \"directores\"): undefined columns selected\nTraceback:\n",
            "1. bind_rows(actores[\"anombre\"], peliculas[\"directores\"])",
            "2. list2(...)",
            "3. peliculas[\"directores\"]",
            "4. `[.data.frame`(peliculas, \"directores\")",
            "5. stop(\"undefined columns selected\")"
          ]
        }
      ]
    },
    {
      "cell_type": "markdown",
      "metadata": {
        "id": "HJ9cGTWpF0Ej"
      },
      "source": [
        "Renombrar:\n",
        "\n"
      ]
    },
    {
      "cell_type": "code",
      "metadata": {
        "colab": {
          "base_uri": "https://localhost:8080/",
          "height": 254
        },
        "id": "efVNc8FxFzsP",
        "outputId": "9e5fec60-371f-40f5-e193-ef8aeb6eff87"
      },
      "source": [
        "rename(actores, nombre=anombre)"
      ],
      "execution_count": 105,
      "outputs": [
        {
          "output_type": "display_data",
          "data": {
            "text/plain": [
              "  aid nombre             edad\n",
              "1 1   Robert_Downey_Jr.  54  \n",
              "2 2   Scarlett_Johansson 35  \n",
              "3 3   Gwyneth_Paltrow    47  \n",
              "4 4   Tom_Holland        23  \n",
              "5 5   Chris_Evans        38  "
            ],
            "text/latex": "A data.frame: 5 × 3\n\\begin{tabular}{lll}\n aid & nombre & edad\\\\\n <int> & <chr> & <int>\\\\\n\\hline\n\t 1 & Robert\\_Downey\\_Jr.  & 54\\\\\n\t 2 & Scarlett\\_Johansson & 35\\\\\n\t 3 & Gwyneth\\_Paltrow    & 47\\\\\n\t 4 & Tom\\_Holland        & 23\\\\\n\t 5 & Chris\\_Evans        & 38\\\\\n\\end{tabular}\n",
            "text/markdown": "\nA data.frame: 5 × 3\n\n| aid &lt;int&gt; | nombre &lt;chr&gt; | edad &lt;int&gt; |\n|---|---|---|\n| 1 | Robert_Downey_Jr.  | 54 |\n| 2 | Scarlett_Johansson | 35 |\n| 3 | Gwyneth_Paltrow    | 47 |\n| 4 | Tom_Holland        | 23 |\n| 5 | Chris_Evans        | 38 |\n\n",
            "text/html": [
              "<table class=\"dataframe\">\n",
              "<caption>A data.frame: 5 × 3</caption>\n",
              "<thead>\n",
              "\t<tr><th scope=col>aid</th><th scope=col>nombre</th><th scope=col>edad</th></tr>\n",
              "\t<tr><th scope=col>&lt;int&gt;</th><th scope=col>&lt;chr&gt;</th><th scope=col>&lt;int&gt;</th></tr>\n",
              "</thead>\n",
              "<tbody>\n",
              "\t<tr><td>1</td><td>Robert_Downey_Jr. </td><td>54</td></tr>\n",
              "\t<tr><td>2</td><td>Scarlett_Johansson</td><td>35</td></tr>\n",
              "\t<tr><td>3</td><td>Gwyneth_Paltrow   </td><td>47</td></tr>\n",
              "\t<tr><td>4</td><td>Tom_Holland       </td><td>23</td></tr>\n",
              "\t<tr><td>5</td><td>Chris_Evans       </td><td>38</td></tr>\n",
              "</tbody>\n",
              "</table>\n"
            ]
          },
          "metadata": {
            "tags": []
          }
        }
      ]
    },
    {
      "cell_type": "code",
      "metadata": {
        "colab": {
          "base_uri": "https://localhost:8080/",
          "height": 254
        },
        "id": "Ne2xdsc-Guam",
        "outputId": "96dd0693-8388-4b58-cd9c-f235ad1e31bb"
      },
      "source": [
        "actores"
      ],
      "execution_count": 107,
      "outputs": [
        {
          "output_type": "display_data",
          "data": {
            "text/plain": [
              "  aid anombre            edad\n",
              "1 1   Robert_Downey_Jr.  54  \n",
              "2 2   Scarlett_Johansson 35  \n",
              "3 3   Gwyneth_Paltrow    47  \n",
              "4 4   Tom_Holland        23  \n",
              "5 5   Chris_Evans        38  "
            ],
            "text/latex": "A data.frame: 5 × 3\n\\begin{tabular}{lll}\n aid & anombre & edad\\\\\n <int> & <chr> & <int>\\\\\n\\hline\n\t 1 & Robert\\_Downey\\_Jr.  & 54\\\\\n\t 2 & Scarlett\\_Johansson & 35\\\\\n\t 3 & Gwyneth\\_Paltrow    & 47\\\\\n\t 4 & Tom\\_Holland        & 23\\\\\n\t 5 & Chris\\_Evans        & 38\\\\\n\\end{tabular}\n",
            "text/markdown": "\nA data.frame: 5 × 3\n\n| aid &lt;int&gt; | anombre &lt;chr&gt; | edad &lt;int&gt; |\n|---|---|---|\n| 1 | Robert_Downey_Jr.  | 54 |\n| 2 | Scarlett_Johansson | 35 |\n| 3 | Gwyneth_Paltrow    | 47 |\n| 4 | Tom_Holland        | 23 |\n| 5 | Chris_Evans        | 38 |\n\n",
            "text/html": [
              "<table class=\"dataframe\">\n",
              "<caption>A data.frame: 5 × 3</caption>\n",
              "<thead>\n",
              "\t<tr><th scope=col>aid</th><th scope=col>anombre</th><th scope=col>edad</th></tr>\n",
              "\t<tr><th scope=col>&lt;int&gt;</th><th scope=col>&lt;chr&gt;</th><th scope=col>&lt;int&gt;</th></tr>\n",
              "</thead>\n",
              "<tbody>\n",
              "\t<tr><td>1</td><td>Robert_Downey_Jr. </td><td>54</td></tr>\n",
              "\t<tr><td>2</td><td>Scarlett_Johansson</td><td>35</td></tr>\n",
              "\t<tr><td>3</td><td>Gwyneth_Paltrow   </td><td>47</td></tr>\n",
              "\t<tr><td>4</td><td>Tom_Holland       </td><td>23</td></tr>\n",
              "\t<tr><td>5</td><td>Chris_Evans       </td><td>38</td></tr>\n",
              "</tbody>\n",
              "</table>\n"
            ]
          },
          "metadata": {
            "tags": []
          }
        }
      ]
    },
    {
      "cell_type": "code",
      "metadata": {
        "colab": {
          "base_uri": "https://localhost:8080/",
          "height": 348
        },
        "id": "B9yiOGRRGxlT",
        "outputId": "ec842c9b-60ea-42bc-bd75-a82b44ccaf21"
      },
      "source": [
        "nombreactores <- rename(actores[\"anombre\"], nombre=anombre)\n",
        "nombredirectores <- rename(peliculas[\"director\"], nombre=director)\n",
        "union(nombreactores,nombredirectores)"
      ],
      "execution_count": 109,
      "outputs": [
        {
          "output_type": "display_data",
          "data": {
            "text/plain": [
              "  nombre            \n",
              "1 Robert_Downey_Jr. \n",
              "2 Scarlett_Johansson\n",
              "3 Gwyneth_Paltrow   \n",
              "4 Tom_Holland       \n",
              "5 Chris_Evans       \n",
              "6 Hermanos_Russo    \n",
              "7 Jon_Favreau       \n",
              "8 Jon_Watts         "
            ],
            "text/latex": "A data.frame: 8 × 1\n\\begin{tabular}{l}\n nombre\\\\\n <chr>\\\\\n\\hline\n\t Robert\\_Downey\\_Jr. \\\\\n\t Scarlett\\_Johansson\\\\\n\t Gwyneth\\_Paltrow   \\\\\n\t Tom\\_Holland       \\\\\n\t Chris\\_Evans       \\\\\n\t Hermanos\\_Russo    \\\\\n\t Jon\\_Favreau       \\\\\n\t Jon\\_Watts         \\\\\n\\end{tabular}\n",
            "text/markdown": "\nA data.frame: 8 × 1\n\n| nombre &lt;chr&gt; |\n|---|\n| Robert_Downey_Jr.  |\n| Scarlett_Johansson |\n| Gwyneth_Paltrow    |\n| Tom_Holland        |\n| Chris_Evans        |\n| Hermanos_Russo     |\n| Jon_Favreau        |\n| Jon_Watts          |\n\n",
            "text/html": [
              "<table class=\"dataframe\">\n",
              "<caption>A data.frame: 8 × 1</caption>\n",
              "<thead>\n",
              "\t<tr><th scope=col>nombre</th></tr>\n",
              "\t<tr><th scope=col>&lt;chr&gt;</th></tr>\n",
              "</thead>\n",
              "<tbody>\n",
              "\t<tr><td>Robert_Downey_Jr. </td></tr>\n",
              "\t<tr><td>Scarlett_Johansson</td></tr>\n",
              "\t<tr><td>Gwyneth_Paltrow   </td></tr>\n",
              "\t<tr><td>Tom_Holland       </td></tr>\n",
              "\t<tr><td>Chris_Evans       </td></tr>\n",
              "\t<tr><td>Hermanos_Russo    </td></tr>\n",
              "\t<tr><td>Jon_Favreau       </td></tr>\n",
              "\t<tr><td>Jon_Watts         </td></tr>\n",
              "</tbody>\n",
              "</table>\n"
            ]
          },
          "metadata": {
            "tags": []
          }
        }
      ]
    },
    {
      "cell_type": "code",
      "metadata": {
        "colab": {
          "base_uri": "https://localhost:8080/",
          "height": 223
        },
        "id": "lnkYDxeoHstR",
        "outputId": "043cd84f-9147-4493-c450-dd1a28f41272"
      },
      "source": [
        "nombredirectores"
      ],
      "execution_count": 113,
      "outputs": [
        {
          "output_type": "display_data",
          "data": {
            "text/plain": [
              "  nombre        \n",
              "1 Hermanos_Russo\n",
              "2 Jon_Favreau   \n",
              "3 Jon_Watts     \n",
              "4 Hermanos_Russo"
            ],
            "text/latex": "A data.frame: 4 × 1\n\\begin{tabular}{l}\n nombre\\\\\n <chr>\\\\\n\\hline\n\t Hermanos\\_Russo\\\\\n\t Jon\\_Favreau   \\\\\n\t Jon\\_Watts     \\\\\n\t Hermanos\\_Russo\\\\\n\\end{tabular}\n",
            "text/markdown": "\nA data.frame: 4 × 1\n\n| nombre &lt;chr&gt; |\n|---|\n| Hermanos_Russo |\n| Jon_Favreau    |\n| Jon_Watts      |\n| Hermanos_Russo |\n\n",
            "text/html": [
              "<table class=\"dataframe\">\n",
              "<caption>A data.frame: 4 × 1</caption>\n",
              "<thead>\n",
              "\t<tr><th scope=col>nombre</th></tr>\n",
              "\t<tr><th scope=col>&lt;chr&gt;</th></tr>\n",
              "</thead>\n",
              "<tbody>\n",
              "\t<tr><td>Hermanos_Russo</td></tr>\n",
              "\t<tr><td>Jon_Favreau   </td></tr>\n",
              "\t<tr><td>Jon_Watts     </td></tr>\n",
              "\t<tr><td>Hermanos_Russo</td></tr>\n",
              "</tbody>\n",
              "</table>\n"
            ]
          },
          "metadata": {
            "tags": []
          }
        }
      ]
    },
    {
      "cell_type": "markdown",
      "metadata": {
        "id": "qSmAwdnOYnXJ"
      },
      "source": [
        "Producto Cruz: genera todas la combinaciones entre tuplas de las db"
      ]
    },
    {
      "cell_type": "code",
      "metadata": {
        "colab": {
          "base_uri": "https://localhost:8080/",
          "height": 1000
        },
        "id": "hd6-heUvYm5W",
        "outputId": "52d94269-3b3b-43ed-d2cf-7328d841f264"
      },
      "source": [
        "crossing(actores,actuo_en)"
      ],
      "execution_count": 114,
      "outputs": [
        {
          "output_type": "error",
          "ename": "ERROR",
          "evalue": "ignored",
          "traceback": [
            "Error: Column name `aid` must not be duplicated.\nUse .name_repair to specify repair.\nTraceback:\n",
            "1. crossing(actores, actuo_en)",
            "2. flatten_nested(out, attr(cols, \"named\"), .name_repair)",
            "3. as_tibble(out, .name_repair = .name_repair)",
            "4. as_tibble.list(out, .name_repair = .name_repair)",
            "5. lst_to_tibble(x, .rows, .name_repair, col_lengths(x))",
            "6. set_repaired_names(x, repair_hint = TRUE, .name_repair)",
            "7. set_names(x, repaired_names(names2(x), repair_hint, .name_repair = .name_repair, \n .     quiet = quiet))",
            "8. repaired_names(names2(x), repair_hint, .name_repair = .name_repair, \n .     quiet = quiet)",
            "9. subclass_name_repair_errors(name = name, details = details, repair_hint = repair_hint, \n .     vec_as_names(name, repair = .name_repair, quiet = quiet || \n .         !is_character(.name_repair)))",
            "10. withCallingHandlers(expr, vctrs_error_names_cannot_be_empty = function(cnd) {\n  .     cnd <- error_column_names_cannot_be_empty(detect_empty_names(name), \n  .         parent = cnd, repair_hint = repair_hint)\n  .     cnd$body <- details\n  .     cnd_signal(cnd)\n  . }, vctrs_error_names_cannot_be_dot_dot = function(cnd) {\n  .     cnd <- error_column_names_cannot_be_dot_dot(detect_dot_dot(name), \n  .         parent = cnd, repair_hint = repair_hint)\n  .     cnd_signal(cnd)\n  . }, vctrs_error_names_must_be_unique = function(cnd) {\n  .     cnd <- error_column_names_must_be_unique(detect_duplicates(name), \n  .         parent = cnd, repair_hint = repair_hint)\n  .     cnd_signal(cnd)\n  . })",
            "11. vec_as_names(name, repair = .name_repair, quiet = quiet || !is_character(.name_repair))",
            "12. (function () \n  . validate_unique(names = names, arg = arg))()",
            "13. validate_unique(names = names, arg = arg)",
            "14. stop_names_must_be_unique(names, arg)",
            "15. stop_names(class = \"vctrs_error_names_must_be_unique\", arg = arg, \n  .     names = names)",
            "16. stop_vctrs(class = c(class, \"vctrs_error_names\"), ...)",
            "17. abort(message, class = c(class, \"vctrs_error\"), ...)",
            "18. signal_abort(cnd)",
            "19. signalCondition(cnd)",
            "20. (function (cnd) \n  . {\n  .     cnd <- error_column_names_must_be_unique(detect_duplicates(name), \n  .         parent = cnd, repair_hint = repair_hint)\n  .     cnd_signal(cnd)\n  . })(structure(list(message = \"\", trace = structure(list(calls = list(\n  .     IRkernel::main(), kernel$run(), IRkernel:::handle_shell(), \n  .     executor$execute(msg), base::tryCatch(evaluate(request$content$code, \n  .         envir = .GlobalEnv, output_handler = oh, stop_on_error = 1L), \n  .         interrupt = function(cond) {\n  .             log_debug(\"Interrupt during execution\")\n  .             interrupted <<- TRUE\n  .         }, error = .self$handle_error), base:::tryCatchList(expr, \n  .         classes, parentenv, handlers), base:::tryCatchOne(tryCatchList(expr, \n  .         names[-nh], parentenv, handlers[-nh]), names[nh], parentenv, \n  .         handlers[[nh]]), base:::doTryCatch(return(expr), name, \n  .         parentenv, handler), base:::tryCatchList(expr, names[-nh], \n  .         parentenv, handlers[-nh]), base:::tryCatchOne(expr, names, \n  .         parentenv, handlers[[1L]]), base:::doTryCatch(return(expr), \n  .         name, parentenv, handler), evaluate::evaluate(request$content$code, \n  .         envir = .GlobalEnv, output_handler = oh, stop_on_error = 1L), \n  .     evaluate:::evaluate_call(expr, parsed$src[[i]], envir = envir, \n  .         enclos = enclos, debug = debug, last = i == length(out), \n  .         use_try = stop_on_error != 2L, keep_warning = keep_warning, \n  .         keep_message = keep_message, output_handler = output_handler, \n  .         include_timing = include_timing), evaluate:::timing_fn(handle(ev <- withCallingHandlers(withVisible(eval(expr, \n  .         envir, enclos)), warning = wHandler, error = eHandler, \n  .         message = mHandler))), evaluate:::handle(ev <- withCallingHandlers(withVisible(eval(expr, \n  .         envir, enclos)), warning = wHandler, error = eHandler, \n  .         message = mHandler)), base::try(f, silent = TRUE), base::tryCatch(expr, \n  .         error = function(e) {\n  .             call <- conditionCall(e)\n  .             if (!is.null(call)) {\n  .                 if (identical(call[[1L]], quote(doTryCatch))) \n  .                   call <- sys.call(-4L)\n  .                 dcall <- deparse(call)[1L]\n  .                 prefix <- paste(\"Error in\", dcall, \": \")\n  .                 LONG <- 75L\n  .                 sm <- strsplit(conditionMessage(e), \"\\n\")[[1L]]\n  .                 w <- 14L + nchar(dcall, type = \"w\") + nchar(sm[1L], \n  .                   type = \"w\")\n  .                 if (is.na(w)) \n  .                   w <- 14L + nchar(dcall, type = \"b\") + nchar(sm[1L], \n  .                     type = \"b\")\n  .                 if (w > LONG) \n  .                   prefix <- paste0(prefix, \"\\n  \")\n  .             }\n  .             else prefix <- \"Error : \"\n  .             msg <- paste0(prefix, conditionMessage(e), \"\\n\")\n  .             .Internal(seterrmessage(msg[1L]))\n  .             if (!silent && isTRUE(getOption(\"show.error.messages\"))) {\n  .                 cat(msg, file = outFile)\n  .                 .Internal(printDeferredWarnings())\n  .             }\n  .             invisible(structure(msg, class = \"try-error\", condition = e))\n  .         }), base:::tryCatchList(expr, classes, parentenv, handlers), \n  .     base:::tryCatchOne(expr, names, parentenv, handlers[[1L]]), \n  .     base:::doTryCatch(return(expr), name, parentenv, handler), \n  .     base::withCallingHandlers(withVisible(eval(expr, envir, enclos)), \n  .         warning = wHandler, error = eHandler, message = mHandler), \n  .     base::withVisible(eval(expr, envir, enclos)), base::eval(expr, \n  .         envir, enclos), base::eval(expr, envir, enclos), tidyr::crossing(actores, \n  .         actuo_en), tidyr:::flatten_nested(out, attr(cols, \"named\"), \n  .         .name_repair), tibble::as_tibble(out, .name_repair = .name_repair), \n  .     tibble:::as_tibble.list(out, .name_repair = .name_repair), \n  .     tibble:::lst_to_tibble(x, .rows, .name_repair, col_lengths(x)), \n  .     tibble:::set_repaired_names(x, repair_hint = TRUE, .name_repair), \n  .     rlang::set_names(x, repaired_names(names2(x), repair_hint, \n  .         .name_repair = .name_repair, quiet = quiet)), tibble:::repaired_names(names2(x), \n  .         repair_hint, .name_repair = .name_repair, quiet = quiet), \n  .     tibble:::subclass_name_repair_errors(name = name, details = details, \n  .         repair_hint = repair_hint, vec_as_names(name, repair = .name_repair, \n  .             quiet = quiet || !is_character(.name_repair))), base::withCallingHandlers(expr, \n  .         vctrs_error_names_cannot_be_empty = function(cnd) {\n  .             cnd <- error_column_names_cannot_be_empty(detect_empty_names(name), \n  .                 parent = cnd, repair_hint = repair_hint)\n  .             cnd$body <- details\n  .             cnd_signal(cnd)\n  .         }, vctrs_error_names_cannot_be_dot_dot = function(cnd) {\n  .             cnd <- error_column_names_cannot_be_dot_dot(detect_dot_dot(name), \n  .                 parent = cnd, repair_hint = repair_hint)\n  .             cnd_signal(cnd)\n  .         }, vctrs_error_names_must_be_unique = function(cnd) {\n  .             cnd <- error_column_names_must_be_unique(detect_duplicates(name), \n  .                 parent = cnd, repair_hint = repair_hint)\n  .             cnd_signal(cnd)\n  .         }), vctrs::vec_as_names(name, repair = .name_repair, \n  .         quiet = quiet || !is_character(.name_repair)), (function () \n  .     validate_unique(names = names, arg = arg))(), vctrs:::validate_unique(names = names, \n  .         arg = arg), vctrs:::stop_names_must_be_unique(names, \n  .         arg), vctrs:::stop_names(class = \"vctrs_error_names_must_be_unique\", \n  .         arg = arg, names = names), vctrs:::stop_vctrs(class = c(class, \n  .         \"vctrs_error_names\"), ...)), parents = c(0L, 1L, 2L, \n  . 3L, 4L, 5L, 6L, 7L, 6L, 9L, 10L, 4L, 12L, 13L, 13L, 15L, 16L, \n  . 17L, 18L, 19L, 13L, 13L, 13L, 23L, 0L, 25L, 26L, 26L, 28L, 29L, \n  . 30L, 30L, 32L, 33L, 32L, 35L, 36L, 37L, 38L, 39L), indices = 1:40), class = \"rlang_trace\", version = 1L), \n  .     parent = NULL, arg = \"\", names = c(\"aid\", \"anombre\", \"edad\", \n  .     \"aid\", \"pid\", \"nombre_personaje\")), class = c(\"vctrs_error_names_must_be_unique\", \n  . \"vctrs_error_names\", \"vctrs_error\", \"rlang_error\", \"error\", \"condition\"\n  . )))",
            "21. cnd_signal(cnd)",
            "22. signal_abort(cnd)"
          ]
        }
      ]
    },
    {
      "cell_type": "code",
      "metadata": {
        "id": "6rHcGoXbaa-q"
      },
      "source": [
        "colnames(actuo_en) <- paste(colnames(actuo_en), \"2\", sep = \"_\")\n"
      ],
      "execution_count": 115,
      "outputs": []
    },
    {
      "cell_type": "code",
      "metadata": {
        "colab": {
          "base_uri": "https://localhost:8080/",
          "height": 1000
        },
        "id": "heasbXz7ajg7",
        "outputId": "9eadc54e-eae1-4337-e05c-1b36886a52a7"
      },
      "source": [
        "as.data.frame(crossing(actores,actuo_en))\n"
      ],
      "execution_count": 117,
      "outputs": [
        {
          "output_type": "display_data",
          "data": {
            "text/plain": [
              "   aid anombre            edad aid_2 pid_2 nombre_personaje_2\n",
              "1  1   Robert_Downey_Jr.  54   1     1     Tony_Stark        \n",
              "2  1   Robert_Downey_Jr.  54   1     2     Tony_Stark        \n",
              "3  1   Robert_Downey_Jr.  54   1     3     Tony_Stark        \n",
              "4  1   Robert_Downey_Jr.  54   1     4     Tony_Stark        \n",
              "5  1   Robert_Downey_Jr.  54   2     1     Natasha_Romanoff  \n",
              "6  1   Robert_Downey_Jr.  54   2     4     Natasha_Romanoff  \n",
              "7  1   Robert_Downey_Jr.  54   3     1     Pepper_Potts      \n",
              "8  1   Robert_Downey_Jr.  54   3     2     Pepper_Potts      \n",
              "9  1   Robert_Downey_Jr.  54   3     3     Pepper_Potts      \n",
              "10 1   Robert_Downey_Jr.  54   4     1     Peter_Parker      \n",
              "11 1   Robert_Downey_Jr.  54   4     3     Peter_Parker      \n",
              "12 1   Robert_Downey_Jr.  54   5     1     Steve_Rogers      \n",
              "13 1   Robert_Downey_Jr.  54   5     4     Steve_Rogers      \n",
              "14 2   Scarlett_Johansson 35   1     1     Tony_Stark        \n",
              "15 2   Scarlett_Johansson 35   1     2     Tony_Stark        \n",
              "16 2   Scarlett_Johansson 35   1     3     Tony_Stark        \n",
              "17 2   Scarlett_Johansson 35   1     4     Tony_Stark        \n",
              "18 2   Scarlett_Johansson 35   2     1     Natasha_Romanoff  \n",
              "19 2   Scarlett_Johansson 35   2     4     Natasha_Romanoff  \n",
              "20 2   Scarlett_Johansson 35   3     1     Pepper_Potts      \n",
              "21 2   Scarlett_Johansson 35   3     2     Pepper_Potts      \n",
              "22 2   Scarlett_Johansson 35   3     3     Pepper_Potts      \n",
              "23 2   Scarlett_Johansson 35   4     1     Peter_Parker      \n",
              "24 2   Scarlett_Johansson 35   4     3     Peter_Parker      \n",
              "25 2   Scarlett_Johansson 35   5     1     Steve_Rogers      \n",
              "26 2   Scarlett_Johansson 35   5     4     Steve_Rogers      \n",
              "27 3   Gwyneth_Paltrow    47   1     1     Tony_Stark        \n",
              "28 3   Gwyneth_Paltrow    47   1     2     Tony_Stark        \n",
              "29 3   Gwyneth_Paltrow    47   1     3     Tony_Stark        \n",
              "30 3   Gwyneth_Paltrow    47   1     4     Tony_Stark        \n",
              "⋮  ⋮   ⋮                  ⋮    ⋮     ⋮     ⋮                 \n",
              "36 3   Gwyneth_Paltrow    47   4     1     Peter_Parker      \n",
              "37 3   Gwyneth_Paltrow    47   4     3     Peter_Parker      \n",
              "38 3   Gwyneth_Paltrow    47   5     1     Steve_Rogers      \n",
              "39 3   Gwyneth_Paltrow    47   5     4     Steve_Rogers      \n",
              "40 4   Tom_Holland        23   1     1     Tony_Stark        \n",
              "41 4   Tom_Holland        23   1     2     Tony_Stark        \n",
              "42 4   Tom_Holland        23   1     3     Tony_Stark        \n",
              "43 4   Tom_Holland        23   1     4     Tony_Stark        \n",
              "44 4   Tom_Holland        23   2     1     Natasha_Romanoff  \n",
              "45 4   Tom_Holland        23   2     4     Natasha_Romanoff  \n",
              "46 4   Tom_Holland        23   3     1     Pepper_Potts      \n",
              "47 4   Tom_Holland        23   3     2     Pepper_Potts      \n",
              "48 4   Tom_Holland        23   3     3     Pepper_Potts      \n",
              "49 4   Tom_Holland        23   4     1     Peter_Parker      \n",
              "50 4   Tom_Holland        23   4     3     Peter_Parker      \n",
              "51 4   Tom_Holland        23   5     1     Steve_Rogers      \n",
              "52 4   Tom_Holland        23   5     4     Steve_Rogers      \n",
              "53 5   Chris_Evans        38   1     1     Tony_Stark        \n",
              "54 5   Chris_Evans        38   1     2     Tony_Stark        \n",
              "55 5   Chris_Evans        38   1     3     Tony_Stark        \n",
              "56 5   Chris_Evans        38   1     4     Tony_Stark        \n",
              "57 5   Chris_Evans        38   2     1     Natasha_Romanoff  \n",
              "58 5   Chris_Evans        38   2     4     Natasha_Romanoff  \n",
              "59 5   Chris_Evans        38   3     1     Pepper_Potts      \n",
              "60 5   Chris_Evans        38   3     2     Pepper_Potts      \n",
              "61 5   Chris_Evans        38   3     3     Pepper_Potts      \n",
              "62 5   Chris_Evans        38   4     1     Peter_Parker      \n",
              "63 5   Chris_Evans        38   4     3     Peter_Parker      \n",
              "64 5   Chris_Evans        38   5     1     Steve_Rogers      \n",
              "65 5   Chris_Evans        38   5     4     Steve_Rogers      "
            ],
            "text/latex": "A data.frame: 65 × 6\n\\begin{tabular}{llllll}\n aid & anombre & edad & aid\\_2 & pid\\_2 & nombre\\_personaje\\_2\\\\\n <int> & <chr> & <int> & <int> & <int> & <chr>\\\\\n\\hline\n\t 1 & Robert\\_Downey\\_Jr.  & 54 & 1 & 1 & Tony\\_Stark      \\\\\n\t 1 & Robert\\_Downey\\_Jr.  & 54 & 1 & 2 & Tony\\_Stark      \\\\\n\t 1 & Robert\\_Downey\\_Jr.  & 54 & 1 & 3 & Tony\\_Stark      \\\\\n\t 1 & Robert\\_Downey\\_Jr.  & 54 & 1 & 4 & Tony\\_Stark      \\\\\n\t 1 & Robert\\_Downey\\_Jr.  & 54 & 2 & 1 & Natasha\\_Romanoff\\\\\n\t 1 & Robert\\_Downey\\_Jr.  & 54 & 2 & 4 & Natasha\\_Romanoff\\\\\n\t 1 & Robert\\_Downey\\_Jr.  & 54 & 3 & 1 & Pepper\\_Potts    \\\\\n\t 1 & Robert\\_Downey\\_Jr.  & 54 & 3 & 2 & Pepper\\_Potts    \\\\\n\t 1 & Robert\\_Downey\\_Jr.  & 54 & 3 & 3 & Pepper\\_Potts    \\\\\n\t 1 & Robert\\_Downey\\_Jr.  & 54 & 4 & 1 & Peter\\_Parker    \\\\\n\t 1 & Robert\\_Downey\\_Jr.  & 54 & 4 & 3 & Peter\\_Parker    \\\\\n\t 1 & Robert\\_Downey\\_Jr.  & 54 & 5 & 1 & Steve\\_Rogers    \\\\\n\t 1 & Robert\\_Downey\\_Jr.  & 54 & 5 & 4 & Steve\\_Rogers    \\\\\n\t 2 & Scarlett\\_Johansson & 35 & 1 & 1 & Tony\\_Stark      \\\\\n\t 2 & Scarlett\\_Johansson & 35 & 1 & 2 & Tony\\_Stark      \\\\\n\t 2 & Scarlett\\_Johansson & 35 & 1 & 3 & Tony\\_Stark      \\\\\n\t 2 & Scarlett\\_Johansson & 35 & 1 & 4 & Tony\\_Stark      \\\\\n\t 2 & Scarlett\\_Johansson & 35 & 2 & 1 & Natasha\\_Romanoff\\\\\n\t 2 & Scarlett\\_Johansson & 35 & 2 & 4 & Natasha\\_Romanoff\\\\\n\t 2 & Scarlett\\_Johansson & 35 & 3 & 1 & Pepper\\_Potts    \\\\\n\t 2 & Scarlett\\_Johansson & 35 & 3 & 2 & Pepper\\_Potts    \\\\\n\t 2 & Scarlett\\_Johansson & 35 & 3 & 3 & Pepper\\_Potts    \\\\\n\t 2 & Scarlett\\_Johansson & 35 & 4 & 1 & Peter\\_Parker    \\\\\n\t 2 & Scarlett\\_Johansson & 35 & 4 & 3 & Peter\\_Parker    \\\\\n\t 2 & Scarlett\\_Johansson & 35 & 5 & 1 & Steve\\_Rogers    \\\\\n\t 2 & Scarlett\\_Johansson & 35 & 5 & 4 & Steve\\_Rogers    \\\\\n\t 3 & Gwyneth\\_Paltrow    & 47 & 1 & 1 & Tony\\_Stark      \\\\\n\t 3 & Gwyneth\\_Paltrow    & 47 & 1 & 2 & Tony\\_Stark      \\\\\n\t 3 & Gwyneth\\_Paltrow    & 47 & 1 & 3 & Tony\\_Stark      \\\\\n\t 3 & Gwyneth\\_Paltrow    & 47 & 1 & 4 & Tony\\_Stark      \\\\\n\t ⋮ & ⋮ & ⋮ & ⋮ & ⋮ & ⋮\\\\\n\t 3 & Gwyneth\\_Paltrow & 47 & 4 & 1 & Peter\\_Parker    \\\\\n\t 3 & Gwyneth\\_Paltrow & 47 & 4 & 3 & Peter\\_Parker    \\\\\n\t 3 & Gwyneth\\_Paltrow & 47 & 5 & 1 & Steve\\_Rogers    \\\\\n\t 3 & Gwyneth\\_Paltrow & 47 & 5 & 4 & Steve\\_Rogers    \\\\\n\t 4 & Tom\\_Holland     & 23 & 1 & 1 & Tony\\_Stark      \\\\\n\t 4 & Tom\\_Holland     & 23 & 1 & 2 & Tony\\_Stark      \\\\\n\t 4 & Tom\\_Holland     & 23 & 1 & 3 & Tony\\_Stark      \\\\\n\t 4 & Tom\\_Holland     & 23 & 1 & 4 & Tony\\_Stark      \\\\\n\t 4 & Tom\\_Holland     & 23 & 2 & 1 & Natasha\\_Romanoff\\\\\n\t 4 & Tom\\_Holland     & 23 & 2 & 4 & Natasha\\_Romanoff\\\\\n\t 4 & Tom\\_Holland     & 23 & 3 & 1 & Pepper\\_Potts    \\\\\n\t 4 & Tom\\_Holland     & 23 & 3 & 2 & Pepper\\_Potts    \\\\\n\t 4 & Tom\\_Holland     & 23 & 3 & 3 & Pepper\\_Potts    \\\\\n\t 4 & Tom\\_Holland     & 23 & 4 & 1 & Peter\\_Parker    \\\\\n\t 4 & Tom\\_Holland     & 23 & 4 & 3 & Peter\\_Parker    \\\\\n\t 4 & Tom\\_Holland     & 23 & 5 & 1 & Steve\\_Rogers    \\\\\n\t 4 & Tom\\_Holland     & 23 & 5 & 4 & Steve\\_Rogers    \\\\\n\t 5 & Chris\\_Evans     & 38 & 1 & 1 & Tony\\_Stark      \\\\\n\t 5 & Chris\\_Evans     & 38 & 1 & 2 & Tony\\_Stark      \\\\\n\t 5 & Chris\\_Evans     & 38 & 1 & 3 & Tony\\_Stark      \\\\\n\t 5 & Chris\\_Evans     & 38 & 1 & 4 & Tony\\_Stark      \\\\\n\t 5 & Chris\\_Evans     & 38 & 2 & 1 & Natasha\\_Romanoff\\\\\n\t 5 & Chris\\_Evans     & 38 & 2 & 4 & Natasha\\_Romanoff\\\\\n\t 5 & Chris\\_Evans     & 38 & 3 & 1 & Pepper\\_Potts    \\\\\n\t 5 & Chris\\_Evans     & 38 & 3 & 2 & Pepper\\_Potts    \\\\\n\t 5 & Chris\\_Evans     & 38 & 3 & 3 & Pepper\\_Potts    \\\\\n\t 5 & Chris\\_Evans     & 38 & 4 & 1 & Peter\\_Parker    \\\\\n\t 5 & Chris\\_Evans     & 38 & 4 & 3 & Peter\\_Parker    \\\\\n\t 5 & Chris\\_Evans     & 38 & 5 & 1 & Steve\\_Rogers    \\\\\n\t 5 & Chris\\_Evans     & 38 & 5 & 4 & Steve\\_Rogers    \\\\\n\\end{tabular}\n",
            "text/markdown": "\nA data.frame: 65 × 6\n\n| aid &lt;int&gt; | anombre &lt;chr&gt; | edad &lt;int&gt; | aid_2 &lt;int&gt; | pid_2 &lt;int&gt; | nombre_personaje_2 &lt;chr&gt; |\n|---|---|---|---|---|---|\n| 1 | Robert_Downey_Jr.  | 54 | 1 | 1 | Tony_Stark       |\n| 1 | Robert_Downey_Jr.  | 54 | 1 | 2 | Tony_Stark       |\n| 1 | Robert_Downey_Jr.  | 54 | 1 | 3 | Tony_Stark       |\n| 1 | Robert_Downey_Jr.  | 54 | 1 | 4 | Tony_Stark       |\n| 1 | Robert_Downey_Jr.  | 54 | 2 | 1 | Natasha_Romanoff |\n| 1 | Robert_Downey_Jr.  | 54 | 2 | 4 | Natasha_Romanoff |\n| 1 | Robert_Downey_Jr.  | 54 | 3 | 1 | Pepper_Potts     |\n| 1 | Robert_Downey_Jr.  | 54 | 3 | 2 | Pepper_Potts     |\n| 1 | Robert_Downey_Jr.  | 54 | 3 | 3 | Pepper_Potts     |\n| 1 | Robert_Downey_Jr.  | 54 | 4 | 1 | Peter_Parker     |\n| 1 | Robert_Downey_Jr.  | 54 | 4 | 3 | Peter_Parker     |\n| 1 | Robert_Downey_Jr.  | 54 | 5 | 1 | Steve_Rogers     |\n| 1 | Robert_Downey_Jr.  | 54 | 5 | 4 | Steve_Rogers     |\n| 2 | Scarlett_Johansson | 35 | 1 | 1 | Tony_Stark       |\n| 2 | Scarlett_Johansson | 35 | 1 | 2 | Tony_Stark       |\n| 2 | Scarlett_Johansson | 35 | 1 | 3 | Tony_Stark       |\n| 2 | Scarlett_Johansson | 35 | 1 | 4 | Tony_Stark       |\n| 2 | Scarlett_Johansson | 35 | 2 | 1 | Natasha_Romanoff |\n| 2 | Scarlett_Johansson | 35 | 2 | 4 | Natasha_Romanoff |\n| 2 | Scarlett_Johansson | 35 | 3 | 1 | Pepper_Potts     |\n| 2 | Scarlett_Johansson | 35 | 3 | 2 | Pepper_Potts     |\n| 2 | Scarlett_Johansson | 35 | 3 | 3 | Pepper_Potts     |\n| 2 | Scarlett_Johansson | 35 | 4 | 1 | Peter_Parker     |\n| 2 | Scarlett_Johansson | 35 | 4 | 3 | Peter_Parker     |\n| 2 | Scarlett_Johansson | 35 | 5 | 1 | Steve_Rogers     |\n| 2 | Scarlett_Johansson | 35 | 5 | 4 | Steve_Rogers     |\n| 3 | Gwyneth_Paltrow    | 47 | 1 | 1 | Tony_Stark       |\n| 3 | Gwyneth_Paltrow    | 47 | 1 | 2 | Tony_Stark       |\n| 3 | Gwyneth_Paltrow    | 47 | 1 | 3 | Tony_Stark       |\n| 3 | Gwyneth_Paltrow    | 47 | 1 | 4 | Tony_Stark       |\n| ⋮ | ⋮ | ⋮ | ⋮ | ⋮ | ⋮ |\n| 3 | Gwyneth_Paltrow | 47 | 4 | 1 | Peter_Parker     |\n| 3 | Gwyneth_Paltrow | 47 | 4 | 3 | Peter_Parker     |\n| 3 | Gwyneth_Paltrow | 47 | 5 | 1 | Steve_Rogers     |\n| 3 | Gwyneth_Paltrow | 47 | 5 | 4 | Steve_Rogers     |\n| 4 | Tom_Holland     | 23 | 1 | 1 | Tony_Stark       |\n| 4 | Tom_Holland     | 23 | 1 | 2 | Tony_Stark       |\n| 4 | Tom_Holland     | 23 | 1 | 3 | Tony_Stark       |\n| 4 | Tom_Holland     | 23 | 1 | 4 | Tony_Stark       |\n| 4 | Tom_Holland     | 23 | 2 | 1 | Natasha_Romanoff |\n| 4 | Tom_Holland     | 23 | 2 | 4 | Natasha_Romanoff |\n| 4 | Tom_Holland     | 23 | 3 | 1 | Pepper_Potts     |\n| 4 | Tom_Holland     | 23 | 3 | 2 | Pepper_Potts     |\n| 4 | Tom_Holland     | 23 | 3 | 3 | Pepper_Potts     |\n| 4 | Tom_Holland     | 23 | 4 | 1 | Peter_Parker     |\n| 4 | Tom_Holland     | 23 | 4 | 3 | Peter_Parker     |\n| 4 | Tom_Holland     | 23 | 5 | 1 | Steve_Rogers     |\n| 4 | Tom_Holland     | 23 | 5 | 4 | Steve_Rogers     |\n| 5 | Chris_Evans     | 38 | 1 | 1 | Tony_Stark       |\n| 5 | Chris_Evans     | 38 | 1 | 2 | Tony_Stark       |\n| 5 | Chris_Evans     | 38 | 1 | 3 | Tony_Stark       |\n| 5 | Chris_Evans     | 38 | 1 | 4 | Tony_Stark       |\n| 5 | Chris_Evans     | 38 | 2 | 1 | Natasha_Romanoff |\n| 5 | Chris_Evans     | 38 | 2 | 4 | Natasha_Romanoff |\n| 5 | Chris_Evans     | 38 | 3 | 1 | Pepper_Potts     |\n| 5 | Chris_Evans     | 38 | 3 | 2 | Pepper_Potts     |\n| 5 | Chris_Evans     | 38 | 3 | 3 | Pepper_Potts     |\n| 5 | Chris_Evans     | 38 | 4 | 1 | Peter_Parker     |\n| 5 | Chris_Evans     | 38 | 4 | 3 | Peter_Parker     |\n| 5 | Chris_Evans     | 38 | 5 | 1 | Steve_Rogers     |\n| 5 | Chris_Evans     | 38 | 5 | 4 | Steve_Rogers     |\n\n",
            "text/html": [
              "<table class=\"dataframe\">\n",
              "<caption>A data.frame: 65 × 6</caption>\n",
              "<thead>\n",
              "\t<tr><th scope=col>aid</th><th scope=col>anombre</th><th scope=col>edad</th><th scope=col>aid_2</th><th scope=col>pid_2</th><th scope=col>nombre_personaje_2</th></tr>\n",
              "\t<tr><th scope=col>&lt;int&gt;</th><th scope=col>&lt;chr&gt;</th><th scope=col>&lt;int&gt;</th><th scope=col>&lt;int&gt;</th><th scope=col>&lt;int&gt;</th><th scope=col>&lt;chr&gt;</th></tr>\n",
              "</thead>\n",
              "<tbody>\n",
              "\t<tr><td>1</td><td>Robert_Downey_Jr. </td><td>54</td><td>1</td><td>1</td><td>Tony_Stark      </td></tr>\n",
              "\t<tr><td>1</td><td>Robert_Downey_Jr. </td><td>54</td><td>1</td><td>2</td><td>Tony_Stark      </td></tr>\n",
              "\t<tr><td>1</td><td>Robert_Downey_Jr. </td><td>54</td><td>1</td><td>3</td><td>Tony_Stark      </td></tr>\n",
              "\t<tr><td>1</td><td>Robert_Downey_Jr. </td><td>54</td><td>1</td><td>4</td><td>Tony_Stark      </td></tr>\n",
              "\t<tr><td>1</td><td>Robert_Downey_Jr. </td><td>54</td><td>2</td><td>1</td><td>Natasha_Romanoff</td></tr>\n",
              "\t<tr><td>1</td><td>Robert_Downey_Jr. </td><td>54</td><td>2</td><td>4</td><td>Natasha_Romanoff</td></tr>\n",
              "\t<tr><td>1</td><td>Robert_Downey_Jr. </td><td>54</td><td>3</td><td>1</td><td>Pepper_Potts    </td></tr>\n",
              "\t<tr><td>1</td><td>Robert_Downey_Jr. </td><td>54</td><td>3</td><td>2</td><td>Pepper_Potts    </td></tr>\n",
              "\t<tr><td>1</td><td>Robert_Downey_Jr. </td><td>54</td><td>3</td><td>3</td><td>Pepper_Potts    </td></tr>\n",
              "\t<tr><td>1</td><td>Robert_Downey_Jr. </td><td>54</td><td>4</td><td>1</td><td>Peter_Parker    </td></tr>\n",
              "\t<tr><td>1</td><td>Robert_Downey_Jr. </td><td>54</td><td>4</td><td>3</td><td>Peter_Parker    </td></tr>\n",
              "\t<tr><td>1</td><td>Robert_Downey_Jr. </td><td>54</td><td>5</td><td>1</td><td>Steve_Rogers    </td></tr>\n",
              "\t<tr><td>1</td><td>Robert_Downey_Jr. </td><td>54</td><td>5</td><td>4</td><td>Steve_Rogers    </td></tr>\n",
              "\t<tr><td>2</td><td>Scarlett_Johansson</td><td>35</td><td>1</td><td>1</td><td>Tony_Stark      </td></tr>\n",
              "\t<tr><td>2</td><td>Scarlett_Johansson</td><td>35</td><td>1</td><td>2</td><td>Tony_Stark      </td></tr>\n",
              "\t<tr><td>2</td><td>Scarlett_Johansson</td><td>35</td><td>1</td><td>3</td><td>Tony_Stark      </td></tr>\n",
              "\t<tr><td>2</td><td>Scarlett_Johansson</td><td>35</td><td>1</td><td>4</td><td>Tony_Stark      </td></tr>\n",
              "\t<tr><td>2</td><td>Scarlett_Johansson</td><td>35</td><td>2</td><td>1</td><td>Natasha_Romanoff</td></tr>\n",
              "\t<tr><td>2</td><td>Scarlett_Johansson</td><td>35</td><td>2</td><td>4</td><td>Natasha_Romanoff</td></tr>\n",
              "\t<tr><td>2</td><td>Scarlett_Johansson</td><td>35</td><td>3</td><td>1</td><td>Pepper_Potts    </td></tr>\n",
              "\t<tr><td>2</td><td>Scarlett_Johansson</td><td>35</td><td>3</td><td>2</td><td>Pepper_Potts    </td></tr>\n",
              "\t<tr><td>2</td><td>Scarlett_Johansson</td><td>35</td><td>3</td><td>3</td><td>Pepper_Potts    </td></tr>\n",
              "\t<tr><td>2</td><td>Scarlett_Johansson</td><td>35</td><td>4</td><td>1</td><td>Peter_Parker    </td></tr>\n",
              "\t<tr><td>2</td><td>Scarlett_Johansson</td><td>35</td><td>4</td><td>3</td><td>Peter_Parker    </td></tr>\n",
              "\t<tr><td>2</td><td>Scarlett_Johansson</td><td>35</td><td>5</td><td>1</td><td>Steve_Rogers    </td></tr>\n",
              "\t<tr><td>2</td><td>Scarlett_Johansson</td><td>35</td><td>5</td><td>4</td><td>Steve_Rogers    </td></tr>\n",
              "\t<tr><td>3</td><td>Gwyneth_Paltrow   </td><td>47</td><td>1</td><td>1</td><td>Tony_Stark      </td></tr>\n",
              "\t<tr><td>3</td><td>Gwyneth_Paltrow   </td><td>47</td><td>1</td><td>2</td><td>Tony_Stark      </td></tr>\n",
              "\t<tr><td>3</td><td>Gwyneth_Paltrow   </td><td>47</td><td>1</td><td>3</td><td>Tony_Stark      </td></tr>\n",
              "\t<tr><td>3</td><td>Gwyneth_Paltrow   </td><td>47</td><td>1</td><td>4</td><td>Tony_Stark      </td></tr>\n",
              "\t<tr><td>⋮</td><td>⋮</td><td>⋮</td><td>⋮</td><td>⋮</td><td>⋮</td></tr>\n",
              "\t<tr><td>3</td><td>Gwyneth_Paltrow</td><td>47</td><td>4</td><td>1</td><td>Peter_Parker    </td></tr>\n",
              "\t<tr><td>3</td><td>Gwyneth_Paltrow</td><td>47</td><td>4</td><td>3</td><td>Peter_Parker    </td></tr>\n",
              "\t<tr><td>3</td><td>Gwyneth_Paltrow</td><td>47</td><td>5</td><td>1</td><td>Steve_Rogers    </td></tr>\n",
              "\t<tr><td>3</td><td>Gwyneth_Paltrow</td><td>47</td><td>5</td><td>4</td><td>Steve_Rogers    </td></tr>\n",
              "\t<tr><td>4</td><td>Tom_Holland    </td><td>23</td><td>1</td><td>1</td><td>Tony_Stark      </td></tr>\n",
              "\t<tr><td>4</td><td>Tom_Holland    </td><td>23</td><td>1</td><td>2</td><td>Tony_Stark      </td></tr>\n",
              "\t<tr><td>4</td><td>Tom_Holland    </td><td>23</td><td>1</td><td>3</td><td>Tony_Stark      </td></tr>\n",
              "\t<tr><td>4</td><td>Tom_Holland    </td><td>23</td><td>1</td><td>4</td><td>Tony_Stark      </td></tr>\n",
              "\t<tr><td>4</td><td>Tom_Holland    </td><td>23</td><td>2</td><td>1</td><td>Natasha_Romanoff</td></tr>\n",
              "\t<tr><td>4</td><td>Tom_Holland    </td><td>23</td><td>2</td><td>4</td><td>Natasha_Romanoff</td></tr>\n",
              "\t<tr><td>4</td><td>Tom_Holland    </td><td>23</td><td>3</td><td>1</td><td>Pepper_Potts    </td></tr>\n",
              "\t<tr><td>4</td><td>Tom_Holland    </td><td>23</td><td>3</td><td>2</td><td>Pepper_Potts    </td></tr>\n",
              "\t<tr><td>4</td><td>Tom_Holland    </td><td>23</td><td>3</td><td>3</td><td>Pepper_Potts    </td></tr>\n",
              "\t<tr><td>4</td><td>Tom_Holland    </td><td>23</td><td>4</td><td>1</td><td>Peter_Parker    </td></tr>\n",
              "\t<tr><td>4</td><td>Tom_Holland    </td><td>23</td><td>4</td><td>3</td><td>Peter_Parker    </td></tr>\n",
              "\t<tr><td>4</td><td>Tom_Holland    </td><td>23</td><td>5</td><td>1</td><td>Steve_Rogers    </td></tr>\n",
              "\t<tr><td>4</td><td>Tom_Holland    </td><td>23</td><td>5</td><td>4</td><td>Steve_Rogers    </td></tr>\n",
              "\t<tr><td>5</td><td>Chris_Evans    </td><td>38</td><td>1</td><td>1</td><td>Tony_Stark      </td></tr>\n",
              "\t<tr><td>5</td><td>Chris_Evans    </td><td>38</td><td>1</td><td>2</td><td>Tony_Stark      </td></tr>\n",
              "\t<tr><td>5</td><td>Chris_Evans    </td><td>38</td><td>1</td><td>3</td><td>Tony_Stark      </td></tr>\n",
              "\t<tr><td>5</td><td>Chris_Evans    </td><td>38</td><td>1</td><td>4</td><td>Tony_Stark      </td></tr>\n",
              "\t<tr><td>5</td><td>Chris_Evans    </td><td>38</td><td>2</td><td>1</td><td>Natasha_Romanoff</td></tr>\n",
              "\t<tr><td>5</td><td>Chris_Evans    </td><td>38</td><td>2</td><td>4</td><td>Natasha_Romanoff</td></tr>\n",
              "\t<tr><td>5</td><td>Chris_Evans    </td><td>38</td><td>3</td><td>1</td><td>Pepper_Potts    </td></tr>\n",
              "\t<tr><td>5</td><td>Chris_Evans    </td><td>38</td><td>3</td><td>2</td><td>Pepper_Potts    </td></tr>\n",
              "\t<tr><td>5</td><td>Chris_Evans    </td><td>38</td><td>3</td><td>3</td><td>Pepper_Potts    </td></tr>\n",
              "\t<tr><td>5</td><td>Chris_Evans    </td><td>38</td><td>4</td><td>1</td><td>Peter_Parker    </td></tr>\n",
              "\t<tr><td>5</td><td>Chris_Evans    </td><td>38</td><td>4</td><td>3</td><td>Peter_Parker    </td></tr>\n",
              "\t<tr><td>5</td><td>Chris_Evans    </td><td>38</td><td>5</td><td>1</td><td>Steve_Rogers    </td></tr>\n",
              "\t<tr><td>5</td><td>Chris_Evans    </td><td>38</td><td>5</td><td>4</td><td>Steve_Rogers    </td></tr>\n",
              "</tbody>\n",
              "</table>\n"
            ]
          },
          "metadata": {
            "tags": []
          }
        }
      ]
    },
    {
      "cell_type": "markdown",
      "metadata": {
        "id": "3MjEw0uxarpA"
      },
      "source": [
        "Ahora podemos formar el Join!!"
      ]
    },
    {
      "cell_type": "markdown",
      "metadata": {
        "id": "ZDDEl81teNiQ"
      },
      "source": [
        "# Join \n",
        "\n"
      ]
    },
    {
      "cell_type": "code",
      "metadata": {
        "colab": {
          "base_uri": "https://localhost:8080/",
          "height": 504
        },
        "id": "KMypF-ZKbswV",
        "outputId": "2538d2d4-1685-40aa-ead9-da9a05ef25d0"
      },
      "source": [
        "filter(as.data.frame(crossing(actores,actuo_en)), aid==aid_2)\n",
        "\n"
      ],
      "execution_count": 118,
      "outputs": [
        {
          "output_type": "display_data",
          "data": {
            "text/plain": [
              "   aid anombre            edad aid_2 pid_2 nombre_personaje_2\n",
              "1  1   Robert_Downey_Jr.  54   1     1     Tony_Stark        \n",
              "2  1   Robert_Downey_Jr.  54   1     2     Tony_Stark        \n",
              "3  1   Robert_Downey_Jr.  54   1     3     Tony_Stark        \n",
              "4  1   Robert_Downey_Jr.  54   1     4     Tony_Stark        \n",
              "5  2   Scarlett_Johansson 35   2     1     Natasha_Romanoff  \n",
              "6  2   Scarlett_Johansson 35   2     4     Natasha_Romanoff  \n",
              "7  3   Gwyneth_Paltrow    47   3     1     Pepper_Potts      \n",
              "8  3   Gwyneth_Paltrow    47   3     2     Pepper_Potts      \n",
              "9  3   Gwyneth_Paltrow    47   3     3     Pepper_Potts      \n",
              "10 4   Tom_Holland        23   4     1     Peter_Parker      \n",
              "11 4   Tom_Holland        23   4     3     Peter_Parker      \n",
              "12 5   Chris_Evans        38   5     1     Steve_Rogers      \n",
              "13 5   Chris_Evans        38   5     4     Steve_Rogers      "
            ],
            "text/latex": "A data.frame: 13 × 6\n\\begin{tabular}{llllll}\n aid & anombre & edad & aid\\_2 & pid\\_2 & nombre\\_personaje\\_2\\\\\n <int> & <chr> & <int> & <int> & <int> & <chr>\\\\\n\\hline\n\t 1 & Robert\\_Downey\\_Jr.  & 54 & 1 & 1 & Tony\\_Stark      \\\\\n\t 1 & Robert\\_Downey\\_Jr.  & 54 & 1 & 2 & Tony\\_Stark      \\\\\n\t 1 & Robert\\_Downey\\_Jr.  & 54 & 1 & 3 & Tony\\_Stark      \\\\\n\t 1 & Robert\\_Downey\\_Jr.  & 54 & 1 & 4 & Tony\\_Stark      \\\\\n\t 2 & Scarlett\\_Johansson & 35 & 2 & 1 & Natasha\\_Romanoff\\\\\n\t 2 & Scarlett\\_Johansson & 35 & 2 & 4 & Natasha\\_Romanoff\\\\\n\t 3 & Gwyneth\\_Paltrow    & 47 & 3 & 1 & Pepper\\_Potts    \\\\\n\t 3 & Gwyneth\\_Paltrow    & 47 & 3 & 2 & Pepper\\_Potts    \\\\\n\t 3 & Gwyneth\\_Paltrow    & 47 & 3 & 3 & Pepper\\_Potts    \\\\\n\t 4 & Tom\\_Holland        & 23 & 4 & 1 & Peter\\_Parker    \\\\\n\t 4 & Tom\\_Holland        & 23 & 4 & 3 & Peter\\_Parker    \\\\\n\t 5 & Chris\\_Evans        & 38 & 5 & 1 & Steve\\_Rogers    \\\\\n\t 5 & Chris\\_Evans        & 38 & 5 & 4 & Steve\\_Rogers    \\\\\n\\end{tabular}\n",
            "text/markdown": "\nA data.frame: 13 × 6\n\n| aid &lt;int&gt; | anombre &lt;chr&gt; | edad &lt;int&gt; | aid_2 &lt;int&gt; | pid_2 &lt;int&gt; | nombre_personaje_2 &lt;chr&gt; |\n|---|---|---|---|---|---|\n| 1 | Robert_Downey_Jr.  | 54 | 1 | 1 | Tony_Stark       |\n| 1 | Robert_Downey_Jr.  | 54 | 1 | 2 | Tony_Stark       |\n| 1 | Robert_Downey_Jr.  | 54 | 1 | 3 | Tony_Stark       |\n| 1 | Robert_Downey_Jr.  | 54 | 1 | 4 | Tony_Stark       |\n| 2 | Scarlett_Johansson | 35 | 2 | 1 | Natasha_Romanoff |\n| 2 | Scarlett_Johansson | 35 | 2 | 4 | Natasha_Romanoff |\n| 3 | Gwyneth_Paltrow    | 47 | 3 | 1 | Pepper_Potts     |\n| 3 | Gwyneth_Paltrow    | 47 | 3 | 2 | Pepper_Potts     |\n| 3 | Gwyneth_Paltrow    | 47 | 3 | 3 | Pepper_Potts     |\n| 4 | Tom_Holland        | 23 | 4 | 1 | Peter_Parker     |\n| 4 | Tom_Holland        | 23 | 4 | 3 | Peter_Parker     |\n| 5 | Chris_Evans        | 38 | 5 | 1 | Steve_Rogers     |\n| 5 | Chris_Evans        | 38 | 5 | 4 | Steve_Rogers     |\n\n",
            "text/html": [
              "<table class=\"dataframe\">\n",
              "<caption>A data.frame: 13 × 6</caption>\n",
              "<thead>\n",
              "\t<tr><th scope=col>aid</th><th scope=col>anombre</th><th scope=col>edad</th><th scope=col>aid_2</th><th scope=col>pid_2</th><th scope=col>nombre_personaje_2</th></tr>\n",
              "\t<tr><th scope=col>&lt;int&gt;</th><th scope=col>&lt;chr&gt;</th><th scope=col>&lt;int&gt;</th><th scope=col>&lt;int&gt;</th><th scope=col>&lt;int&gt;</th><th scope=col>&lt;chr&gt;</th></tr>\n",
              "</thead>\n",
              "<tbody>\n",
              "\t<tr><td>1</td><td>Robert_Downey_Jr. </td><td>54</td><td>1</td><td>1</td><td>Tony_Stark      </td></tr>\n",
              "\t<tr><td>1</td><td>Robert_Downey_Jr. </td><td>54</td><td>1</td><td>2</td><td>Tony_Stark      </td></tr>\n",
              "\t<tr><td>1</td><td>Robert_Downey_Jr. </td><td>54</td><td>1</td><td>3</td><td>Tony_Stark      </td></tr>\n",
              "\t<tr><td>1</td><td>Robert_Downey_Jr. </td><td>54</td><td>1</td><td>4</td><td>Tony_Stark      </td></tr>\n",
              "\t<tr><td>2</td><td>Scarlett_Johansson</td><td>35</td><td>2</td><td>1</td><td>Natasha_Romanoff</td></tr>\n",
              "\t<tr><td>2</td><td>Scarlett_Johansson</td><td>35</td><td>2</td><td>4</td><td>Natasha_Romanoff</td></tr>\n",
              "\t<tr><td>3</td><td>Gwyneth_Paltrow   </td><td>47</td><td>3</td><td>1</td><td>Pepper_Potts    </td></tr>\n",
              "\t<tr><td>3</td><td>Gwyneth_Paltrow   </td><td>47</td><td>3</td><td>2</td><td>Pepper_Potts    </td></tr>\n",
              "\t<tr><td>3</td><td>Gwyneth_Paltrow   </td><td>47</td><td>3</td><td>3</td><td>Pepper_Potts    </td></tr>\n",
              "\t<tr><td>4</td><td>Tom_Holland       </td><td>23</td><td>4</td><td>1</td><td>Peter_Parker    </td></tr>\n",
              "\t<tr><td>4</td><td>Tom_Holland       </td><td>23</td><td>4</td><td>3</td><td>Peter_Parker    </td></tr>\n",
              "\t<tr><td>5</td><td>Chris_Evans       </td><td>38</td><td>5</td><td>1</td><td>Steve_Rogers    </td></tr>\n",
              "\t<tr><td>5</td><td>Chris_Evans       </td><td>38</td><td>5</td><td>4</td><td>Steve_Rogers    </td></tr>\n",
              "</tbody>\n",
              "</table>\n"
            ]
          },
          "metadata": {
            "tags": []
          }
        }
      ]
    },
    {
      "cell_type": "markdown",
      "metadata": {
        "id": "09KfWmeumzsf"
      },
      "source": [
        "# Interseccion\n",
        "\n",
        "Entrega las tuplas que se encuentran en ambas relaciones\n",
        "\n",
        "Ej: queremos los actores dirigidos por Jon_Favreau y Jon_Watts."
      ]
    },
    {
      "cell_type": "code",
      "metadata": {
        "colab": {
          "base_uri": "https://localhost:8080/",
          "height": 1000
        },
        "id": "wjqjupYtqIC3",
        "outputId": "66717902-0df5-4c17-9584-2a4bdf3457d2"
      },
      "source": [
        "crossing(actores,actuo_en,peliculas)"
      ],
      "execution_count": 119,
      "outputs": [
        {
          "output_type": "display_data",
          "data": {
            "text/plain": [
              "    aid anombre           edad aid_2 pid_2 nombre_personaje_2 pid\n",
              "1   1   Robert_Downey_Jr. 54   1     1     Tony_Stark         1  \n",
              "2   1   Robert_Downey_Jr. 54   1     1     Tony_Stark         2  \n",
              "3   1   Robert_Downey_Jr. 54   1     1     Tony_Stark         3  \n",
              "4   1   Robert_Downey_Jr. 54   1     1     Tony_Stark         4  \n",
              "5   1   Robert_Downey_Jr. 54   1     2     Tony_Stark         1  \n",
              "6   1   Robert_Downey_Jr. 54   1     2     Tony_Stark         2  \n",
              "7   1   Robert_Downey_Jr. 54   1     2     Tony_Stark         3  \n",
              "8   1   Robert_Downey_Jr. 54   1     2     Tony_Stark         4  \n",
              "9   1   Robert_Downey_Jr. 54   1     3     Tony_Stark         1  \n",
              "10  1   Robert_Downey_Jr. 54   1     3     Tony_Stark         2  \n",
              "11  1   Robert_Downey_Jr. 54   1     3     Tony_Stark         3  \n",
              "12  1   Robert_Downey_Jr. 54   1     3     Tony_Stark         4  \n",
              "13  1   Robert_Downey_Jr. 54   1     4     Tony_Stark         1  \n",
              "14  1   Robert_Downey_Jr. 54   1     4     Tony_Stark         2  \n",
              "15  1   Robert_Downey_Jr. 54   1     4     Tony_Stark         3  \n",
              "16  1   Robert_Downey_Jr. 54   1     4     Tony_Stark         4  \n",
              "17  1   Robert_Downey_Jr. 54   2     1     Natasha_Romanoff   1  \n",
              "18  1   Robert_Downey_Jr. 54   2     1     Natasha_Romanoff   2  \n",
              "19  1   Robert_Downey_Jr. 54   2     1     Natasha_Romanoff   3  \n",
              "20  1   Robert_Downey_Jr. 54   2     1     Natasha_Romanoff   4  \n",
              "21  1   Robert_Downey_Jr. 54   2     4     Natasha_Romanoff   1  \n",
              "22  1   Robert_Downey_Jr. 54   2     4     Natasha_Romanoff   2  \n",
              "23  1   Robert_Downey_Jr. 54   2     4     Natasha_Romanoff   3  \n",
              "24  1   Robert_Downey_Jr. 54   2     4     Natasha_Romanoff   4  \n",
              "25  1   Robert_Downey_Jr. 54   3     1     Pepper_Potts       1  \n",
              "26  1   Robert_Downey_Jr. 54   3     1     Pepper_Potts       2  \n",
              "27  1   Robert_Downey_Jr. 54   3     1     Pepper_Potts       3  \n",
              "28  1   Robert_Downey_Jr. 54   3     1     Pepper_Potts       4  \n",
              "29  1   Robert_Downey_Jr. 54   3     2     Pepper_Potts       1  \n",
              "30  1   Robert_Downey_Jr. 54   3     2     Pepper_Potts       2  \n",
              "⋮   ⋮   ⋮                 ⋮    ⋮     ⋮     ⋮                  ⋮  \n",
              "231 5   Chris_Evans       38   2     4     Natasha_Romanoff   3  \n",
              "232 5   Chris_Evans       38   2     4     Natasha_Romanoff   4  \n",
              "233 5   Chris_Evans       38   3     1     Pepper_Potts       1  \n",
              "234 5   Chris_Evans       38   3     1     Pepper_Potts       2  \n",
              "235 5   Chris_Evans       38   3     1     Pepper_Potts       3  \n",
              "236 5   Chris_Evans       38   3     1     Pepper_Potts       4  \n",
              "237 5   Chris_Evans       38   3     2     Pepper_Potts       1  \n",
              "238 5   Chris_Evans       38   3     2     Pepper_Potts       2  \n",
              "239 5   Chris_Evans       38   3     2     Pepper_Potts       3  \n",
              "240 5   Chris_Evans       38   3     2     Pepper_Potts       4  \n",
              "241 5   Chris_Evans       38   3     3     Pepper_Potts       1  \n",
              "242 5   Chris_Evans       38   3     3     Pepper_Potts       2  \n",
              "243 5   Chris_Evans       38   3     3     Pepper_Potts       3  \n",
              "244 5   Chris_Evans       38   3     3     Pepper_Potts       4  \n",
              "245 5   Chris_Evans       38   4     1     Peter_Parker       1  \n",
              "246 5   Chris_Evans       38   4     1     Peter_Parker       2  \n",
              "247 5   Chris_Evans       38   4     1     Peter_Parker       3  \n",
              "248 5   Chris_Evans       38   4     1     Peter_Parker       4  \n",
              "249 5   Chris_Evans       38   4     3     Peter_Parker       1  \n",
              "250 5   Chris_Evans       38   4     3     Peter_Parker       2  \n",
              "251 5   Chris_Evans       38   4     3     Peter_Parker       3  \n",
              "252 5   Chris_Evans       38   4     3     Peter_Parker       4  \n",
              "253 5   Chris_Evans       38   5     1     Steve_Rogers       1  \n",
              "254 5   Chris_Evans       38   5     1     Steve_Rogers       2  \n",
              "255 5   Chris_Evans       38   5     1     Steve_Rogers       3  \n",
              "256 5   Chris_Evans       38   5     1     Steve_Rogers       4  \n",
              "257 5   Chris_Evans       38   5     4     Steve_Rogers       1  \n",
              "258 5   Chris_Evans       38   5     4     Steve_Rogers       2  \n",
              "259 5   Chris_Evans       38   5     4     Steve_Rogers       3  \n",
              "260 5   Chris_Evans       38   5     4     Steve_Rogers       4  \n",
              "    pnombre                   genero   director      \n",
              "1   Avengers:Endgame          Fantasia Hermanos_Russo\n",
              "2   Iron_Man                  SciFi    Jon_Favreau   \n",
              "3   Spiderman:Homecoming      SciFi    Jon_Watts     \n",
              "4   Captain_America:Civil_War Drama    Hermanos_Russo\n",
              "5   Avengers:Endgame          Fantasia Hermanos_Russo\n",
              "6   Iron_Man                  SciFi    Jon_Favreau   \n",
              "7   Spiderman:Homecoming      SciFi    Jon_Watts     \n",
              "8   Captain_America:Civil_War Drama    Hermanos_Russo\n",
              "9   Avengers:Endgame          Fantasia Hermanos_Russo\n",
              "10  Iron_Man                  SciFi    Jon_Favreau   \n",
              "11  Spiderman:Homecoming      SciFi    Jon_Watts     \n",
              "12  Captain_America:Civil_War Drama    Hermanos_Russo\n",
              "13  Avengers:Endgame          Fantasia Hermanos_Russo\n",
              "14  Iron_Man                  SciFi    Jon_Favreau   \n",
              "15  Spiderman:Homecoming      SciFi    Jon_Watts     \n",
              "16  Captain_America:Civil_War Drama    Hermanos_Russo\n",
              "17  Avengers:Endgame          Fantasia Hermanos_Russo\n",
              "18  Iron_Man                  SciFi    Jon_Favreau   \n",
              "19  Spiderman:Homecoming      SciFi    Jon_Watts     \n",
              "20  Captain_America:Civil_War Drama    Hermanos_Russo\n",
              "21  Avengers:Endgame          Fantasia Hermanos_Russo\n",
              "22  Iron_Man                  SciFi    Jon_Favreau   \n",
              "23  Spiderman:Homecoming      SciFi    Jon_Watts     \n",
              "24  Captain_America:Civil_War Drama    Hermanos_Russo\n",
              "25  Avengers:Endgame          Fantasia Hermanos_Russo\n",
              "26  Iron_Man                  SciFi    Jon_Favreau   \n",
              "27  Spiderman:Homecoming      SciFi    Jon_Watts     \n",
              "28  Captain_America:Civil_War Drama    Hermanos_Russo\n",
              "29  Avengers:Endgame          Fantasia Hermanos_Russo\n",
              "30  Iron_Man                  SciFi    Jon_Favreau   \n",
              "⋮   ⋮                         ⋮        ⋮             \n",
              "231 Spiderman:Homecoming      SciFi    Jon_Watts     \n",
              "232 Captain_America:Civil_War Drama    Hermanos_Russo\n",
              "233 Avengers:Endgame          Fantasia Hermanos_Russo\n",
              "234 Iron_Man                  SciFi    Jon_Favreau   \n",
              "235 Spiderman:Homecoming      SciFi    Jon_Watts     \n",
              "236 Captain_America:Civil_War Drama    Hermanos_Russo\n",
              "237 Avengers:Endgame          Fantasia Hermanos_Russo\n",
              "238 Iron_Man                  SciFi    Jon_Favreau   \n",
              "239 Spiderman:Homecoming      SciFi    Jon_Watts     \n",
              "240 Captain_America:Civil_War Drama    Hermanos_Russo\n",
              "241 Avengers:Endgame          Fantasia Hermanos_Russo\n",
              "242 Iron_Man                  SciFi    Jon_Favreau   \n",
              "243 Spiderman:Homecoming      SciFi    Jon_Watts     \n",
              "244 Captain_America:Civil_War Drama    Hermanos_Russo\n",
              "245 Avengers:Endgame          Fantasia Hermanos_Russo\n",
              "246 Iron_Man                  SciFi    Jon_Favreau   \n",
              "247 Spiderman:Homecoming      SciFi    Jon_Watts     \n",
              "248 Captain_America:Civil_War Drama    Hermanos_Russo\n",
              "249 Avengers:Endgame          Fantasia Hermanos_Russo\n",
              "250 Iron_Man                  SciFi    Jon_Favreau   \n",
              "251 Spiderman:Homecoming      SciFi    Jon_Watts     \n",
              "252 Captain_America:Civil_War Drama    Hermanos_Russo\n",
              "253 Avengers:Endgame          Fantasia Hermanos_Russo\n",
              "254 Iron_Man                  SciFi    Jon_Favreau   \n",
              "255 Spiderman:Homecoming      SciFi    Jon_Watts     \n",
              "256 Captain_America:Civil_War Drama    Hermanos_Russo\n",
              "257 Avengers:Endgame          Fantasia Hermanos_Russo\n",
              "258 Iron_Man                  SciFi    Jon_Favreau   \n",
              "259 Spiderman:Homecoming      SciFi    Jon_Watts     \n",
              "260 Captain_America:Civil_War Drama    Hermanos_Russo"
            ],
            "text/latex": "A tibble: 260 × 10\n\\begin{tabular}{llllllllll}\n aid & anombre & edad & aid\\_2 & pid\\_2 & nombre\\_personaje\\_2 & pid & pnombre & genero & director\\\\\n <int> & <chr> & <int> & <int> & <int> & <chr> & <int> & <chr> & <chr> & <chr>\\\\\n\\hline\n\t 1 & Robert\\_Downey\\_Jr. & 54 & 1 & 1 & Tony\\_Stark       & 1 & Avengers:Endgame          & Fantasia & Hermanos\\_Russo\\\\\n\t 1 & Robert\\_Downey\\_Jr. & 54 & 1 & 1 & Tony\\_Stark       & 2 & Iron\\_Man                  & SciFi    & Jon\\_Favreau   \\\\\n\t 1 & Robert\\_Downey\\_Jr. & 54 & 1 & 1 & Tony\\_Stark       & 3 & Spiderman:Homecoming      & SciFi    & Jon\\_Watts     \\\\\n\t 1 & Robert\\_Downey\\_Jr. & 54 & 1 & 1 & Tony\\_Stark       & 4 & Captain\\_America:Civil\\_War & Drama    & Hermanos\\_Russo\\\\\n\t 1 & Robert\\_Downey\\_Jr. & 54 & 1 & 2 & Tony\\_Stark       & 1 & Avengers:Endgame          & Fantasia & Hermanos\\_Russo\\\\\n\t 1 & Robert\\_Downey\\_Jr. & 54 & 1 & 2 & Tony\\_Stark       & 2 & Iron\\_Man                  & SciFi    & Jon\\_Favreau   \\\\\n\t 1 & Robert\\_Downey\\_Jr. & 54 & 1 & 2 & Tony\\_Stark       & 3 & Spiderman:Homecoming      & SciFi    & Jon\\_Watts     \\\\\n\t 1 & Robert\\_Downey\\_Jr. & 54 & 1 & 2 & Tony\\_Stark       & 4 & Captain\\_America:Civil\\_War & Drama    & Hermanos\\_Russo\\\\\n\t 1 & Robert\\_Downey\\_Jr. & 54 & 1 & 3 & Tony\\_Stark       & 1 & Avengers:Endgame          & Fantasia & Hermanos\\_Russo\\\\\n\t 1 & Robert\\_Downey\\_Jr. & 54 & 1 & 3 & Tony\\_Stark       & 2 & Iron\\_Man                  & SciFi    & Jon\\_Favreau   \\\\\n\t 1 & Robert\\_Downey\\_Jr. & 54 & 1 & 3 & Tony\\_Stark       & 3 & Spiderman:Homecoming      & SciFi    & Jon\\_Watts     \\\\\n\t 1 & Robert\\_Downey\\_Jr. & 54 & 1 & 3 & Tony\\_Stark       & 4 & Captain\\_America:Civil\\_War & Drama    & Hermanos\\_Russo\\\\\n\t 1 & Robert\\_Downey\\_Jr. & 54 & 1 & 4 & Tony\\_Stark       & 1 & Avengers:Endgame          & Fantasia & Hermanos\\_Russo\\\\\n\t 1 & Robert\\_Downey\\_Jr. & 54 & 1 & 4 & Tony\\_Stark       & 2 & Iron\\_Man                  & SciFi    & Jon\\_Favreau   \\\\\n\t 1 & Robert\\_Downey\\_Jr. & 54 & 1 & 4 & Tony\\_Stark       & 3 & Spiderman:Homecoming      & SciFi    & Jon\\_Watts     \\\\\n\t 1 & Robert\\_Downey\\_Jr. & 54 & 1 & 4 & Tony\\_Stark       & 4 & Captain\\_America:Civil\\_War & Drama    & Hermanos\\_Russo\\\\\n\t 1 & Robert\\_Downey\\_Jr. & 54 & 2 & 1 & Natasha\\_Romanoff & 1 & Avengers:Endgame          & Fantasia & Hermanos\\_Russo\\\\\n\t 1 & Robert\\_Downey\\_Jr. & 54 & 2 & 1 & Natasha\\_Romanoff & 2 & Iron\\_Man                  & SciFi    & Jon\\_Favreau   \\\\\n\t 1 & Robert\\_Downey\\_Jr. & 54 & 2 & 1 & Natasha\\_Romanoff & 3 & Spiderman:Homecoming      & SciFi    & Jon\\_Watts     \\\\\n\t 1 & Robert\\_Downey\\_Jr. & 54 & 2 & 1 & Natasha\\_Romanoff & 4 & Captain\\_America:Civil\\_War & Drama    & Hermanos\\_Russo\\\\\n\t 1 & Robert\\_Downey\\_Jr. & 54 & 2 & 4 & Natasha\\_Romanoff & 1 & Avengers:Endgame          & Fantasia & Hermanos\\_Russo\\\\\n\t 1 & Robert\\_Downey\\_Jr. & 54 & 2 & 4 & Natasha\\_Romanoff & 2 & Iron\\_Man                  & SciFi    & Jon\\_Favreau   \\\\\n\t 1 & Robert\\_Downey\\_Jr. & 54 & 2 & 4 & Natasha\\_Romanoff & 3 & Spiderman:Homecoming      & SciFi    & Jon\\_Watts     \\\\\n\t 1 & Robert\\_Downey\\_Jr. & 54 & 2 & 4 & Natasha\\_Romanoff & 4 & Captain\\_America:Civil\\_War & Drama    & Hermanos\\_Russo\\\\\n\t 1 & Robert\\_Downey\\_Jr. & 54 & 3 & 1 & Pepper\\_Potts     & 1 & Avengers:Endgame          & Fantasia & Hermanos\\_Russo\\\\\n\t 1 & Robert\\_Downey\\_Jr. & 54 & 3 & 1 & Pepper\\_Potts     & 2 & Iron\\_Man                  & SciFi    & Jon\\_Favreau   \\\\\n\t 1 & Robert\\_Downey\\_Jr. & 54 & 3 & 1 & Pepper\\_Potts     & 3 & Spiderman:Homecoming      & SciFi    & Jon\\_Watts     \\\\\n\t 1 & Robert\\_Downey\\_Jr. & 54 & 3 & 1 & Pepper\\_Potts     & 4 & Captain\\_America:Civil\\_War & Drama    & Hermanos\\_Russo\\\\\n\t 1 & Robert\\_Downey\\_Jr. & 54 & 3 & 2 & Pepper\\_Potts     & 1 & Avengers:Endgame          & Fantasia & Hermanos\\_Russo\\\\\n\t 1 & Robert\\_Downey\\_Jr. & 54 & 3 & 2 & Pepper\\_Potts     & 2 & Iron\\_Man                  & SciFi    & Jon\\_Favreau   \\\\\n\t ⋮ & ⋮ & ⋮ & ⋮ & ⋮ & ⋮ & ⋮ & ⋮ & ⋮ & ⋮\\\\\n\t 5 & Chris\\_Evans & 38 & 2 & 4 & Natasha\\_Romanoff & 3 & Spiderman:Homecoming      & SciFi    & Jon\\_Watts     \\\\\n\t 5 & Chris\\_Evans & 38 & 2 & 4 & Natasha\\_Romanoff & 4 & Captain\\_America:Civil\\_War & Drama    & Hermanos\\_Russo\\\\\n\t 5 & Chris\\_Evans & 38 & 3 & 1 & Pepper\\_Potts     & 1 & Avengers:Endgame          & Fantasia & Hermanos\\_Russo\\\\\n\t 5 & Chris\\_Evans & 38 & 3 & 1 & Pepper\\_Potts     & 2 & Iron\\_Man                  & SciFi    & Jon\\_Favreau   \\\\\n\t 5 & Chris\\_Evans & 38 & 3 & 1 & Pepper\\_Potts     & 3 & Spiderman:Homecoming      & SciFi    & Jon\\_Watts     \\\\\n\t 5 & Chris\\_Evans & 38 & 3 & 1 & Pepper\\_Potts     & 4 & Captain\\_America:Civil\\_War & Drama    & Hermanos\\_Russo\\\\\n\t 5 & Chris\\_Evans & 38 & 3 & 2 & Pepper\\_Potts     & 1 & Avengers:Endgame          & Fantasia & Hermanos\\_Russo\\\\\n\t 5 & Chris\\_Evans & 38 & 3 & 2 & Pepper\\_Potts     & 2 & Iron\\_Man                  & SciFi    & Jon\\_Favreau   \\\\\n\t 5 & Chris\\_Evans & 38 & 3 & 2 & Pepper\\_Potts     & 3 & Spiderman:Homecoming      & SciFi    & Jon\\_Watts     \\\\\n\t 5 & Chris\\_Evans & 38 & 3 & 2 & Pepper\\_Potts     & 4 & Captain\\_America:Civil\\_War & Drama    & Hermanos\\_Russo\\\\\n\t 5 & Chris\\_Evans & 38 & 3 & 3 & Pepper\\_Potts     & 1 & Avengers:Endgame          & Fantasia & Hermanos\\_Russo\\\\\n\t 5 & Chris\\_Evans & 38 & 3 & 3 & Pepper\\_Potts     & 2 & Iron\\_Man                  & SciFi    & Jon\\_Favreau   \\\\\n\t 5 & Chris\\_Evans & 38 & 3 & 3 & Pepper\\_Potts     & 3 & Spiderman:Homecoming      & SciFi    & Jon\\_Watts     \\\\\n\t 5 & Chris\\_Evans & 38 & 3 & 3 & Pepper\\_Potts     & 4 & Captain\\_America:Civil\\_War & Drama    & Hermanos\\_Russo\\\\\n\t 5 & Chris\\_Evans & 38 & 4 & 1 & Peter\\_Parker     & 1 & Avengers:Endgame          & Fantasia & Hermanos\\_Russo\\\\\n\t 5 & Chris\\_Evans & 38 & 4 & 1 & Peter\\_Parker     & 2 & Iron\\_Man                  & SciFi    & Jon\\_Favreau   \\\\\n\t 5 & Chris\\_Evans & 38 & 4 & 1 & Peter\\_Parker     & 3 & Spiderman:Homecoming      & SciFi    & Jon\\_Watts     \\\\\n\t 5 & Chris\\_Evans & 38 & 4 & 1 & Peter\\_Parker     & 4 & Captain\\_America:Civil\\_War & Drama    & Hermanos\\_Russo\\\\\n\t 5 & Chris\\_Evans & 38 & 4 & 3 & Peter\\_Parker     & 1 & Avengers:Endgame          & Fantasia & Hermanos\\_Russo\\\\\n\t 5 & Chris\\_Evans & 38 & 4 & 3 & Peter\\_Parker     & 2 & Iron\\_Man                  & SciFi    & Jon\\_Favreau   \\\\\n\t 5 & Chris\\_Evans & 38 & 4 & 3 & Peter\\_Parker     & 3 & Spiderman:Homecoming      & SciFi    & Jon\\_Watts     \\\\\n\t 5 & Chris\\_Evans & 38 & 4 & 3 & Peter\\_Parker     & 4 & Captain\\_America:Civil\\_War & Drama    & Hermanos\\_Russo\\\\\n\t 5 & Chris\\_Evans & 38 & 5 & 1 & Steve\\_Rogers     & 1 & Avengers:Endgame          & Fantasia & Hermanos\\_Russo\\\\\n\t 5 & Chris\\_Evans & 38 & 5 & 1 & Steve\\_Rogers     & 2 & Iron\\_Man                  & SciFi    & Jon\\_Favreau   \\\\\n\t 5 & Chris\\_Evans & 38 & 5 & 1 & Steve\\_Rogers     & 3 & Spiderman:Homecoming      & SciFi    & Jon\\_Watts     \\\\\n\t 5 & Chris\\_Evans & 38 & 5 & 1 & Steve\\_Rogers     & 4 & Captain\\_America:Civil\\_War & Drama    & Hermanos\\_Russo\\\\\n\t 5 & Chris\\_Evans & 38 & 5 & 4 & Steve\\_Rogers     & 1 & Avengers:Endgame          & Fantasia & Hermanos\\_Russo\\\\\n\t 5 & Chris\\_Evans & 38 & 5 & 4 & Steve\\_Rogers     & 2 & Iron\\_Man                  & SciFi    & Jon\\_Favreau   \\\\\n\t 5 & Chris\\_Evans & 38 & 5 & 4 & Steve\\_Rogers     & 3 & Spiderman:Homecoming      & SciFi    & Jon\\_Watts     \\\\\n\t 5 & Chris\\_Evans & 38 & 5 & 4 & Steve\\_Rogers     & 4 & Captain\\_America:Civil\\_War & Drama    & Hermanos\\_Russo\\\\\n\\end{tabular}\n",
            "text/markdown": "\nA tibble: 260 × 10\n\n| aid &lt;int&gt; | anombre &lt;chr&gt; | edad &lt;int&gt; | aid_2 &lt;int&gt; | pid_2 &lt;int&gt; | nombre_personaje_2 &lt;chr&gt; | pid &lt;int&gt; | pnombre &lt;chr&gt; | genero &lt;chr&gt; | director &lt;chr&gt; |\n|---|---|---|---|---|---|---|---|---|---|\n| 1 | Robert_Downey_Jr. | 54 | 1 | 1 | Tony_Stark       | 1 | Avengers:Endgame          | Fantasia | Hermanos_Russo |\n| 1 | Robert_Downey_Jr. | 54 | 1 | 1 | Tony_Stark       | 2 | Iron_Man                  | SciFi    | Jon_Favreau    |\n| 1 | Robert_Downey_Jr. | 54 | 1 | 1 | Tony_Stark       | 3 | Spiderman:Homecoming      | SciFi    | Jon_Watts      |\n| 1 | Robert_Downey_Jr. | 54 | 1 | 1 | Tony_Stark       | 4 | Captain_America:Civil_War | Drama    | Hermanos_Russo |\n| 1 | Robert_Downey_Jr. | 54 | 1 | 2 | Tony_Stark       | 1 | Avengers:Endgame          | Fantasia | Hermanos_Russo |\n| 1 | Robert_Downey_Jr. | 54 | 1 | 2 | Tony_Stark       | 2 | Iron_Man                  | SciFi    | Jon_Favreau    |\n| 1 | Robert_Downey_Jr. | 54 | 1 | 2 | Tony_Stark       | 3 | Spiderman:Homecoming      | SciFi    | Jon_Watts      |\n| 1 | Robert_Downey_Jr. | 54 | 1 | 2 | Tony_Stark       | 4 | Captain_America:Civil_War | Drama    | Hermanos_Russo |\n| 1 | Robert_Downey_Jr. | 54 | 1 | 3 | Tony_Stark       | 1 | Avengers:Endgame          | Fantasia | Hermanos_Russo |\n| 1 | Robert_Downey_Jr. | 54 | 1 | 3 | Tony_Stark       | 2 | Iron_Man                  | SciFi    | Jon_Favreau    |\n| 1 | Robert_Downey_Jr. | 54 | 1 | 3 | Tony_Stark       | 3 | Spiderman:Homecoming      | SciFi    | Jon_Watts      |\n| 1 | Robert_Downey_Jr. | 54 | 1 | 3 | Tony_Stark       | 4 | Captain_America:Civil_War | Drama    | Hermanos_Russo |\n| 1 | Robert_Downey_Jr. | 54 | 1 | 4 | Tony_Stark       | 1 | Avengers:Endgame          | Fantasia | Hermanos_Russo |\n| 1 | Robert_Downey_Jr. | 54 | 1 | 4 | Tony_Stark       | 2 | Iron_Man                  | SciFi    | Jon_Favreau    |\n| 1 | Robert_Downey_Jr. | 54 | 1 | 4 | Tony_Stark       | 3 | Spiderman:Homecoming      | SciFi    | Jon_Watts      |\n| 1 | Robert_Downey_Jr. | 54 | 1 | 4 | Tony_Stark       | 4 | Captain_America:Civil_War | Drama    | Hermanos_Russo |\n| 1 | Robert_Downey_Jr. | 54 | 2 | 1 | Natasha_Romanoff | 1 | Avengers:Endgame          | Fantasia | Hermanos_Russo |\n| 1 | Robert_Downey_Jr. | 54 | 2 | 1 | Natasha_Romanoff | 2 | Iron_Man                  | SciFi    | Jon_Favreau    |\n| 1 | Robert_Downey_Jr. | 54 | 2 | 1 | Natasha_Romanoff | 3 | Spiderman:Homecoming      | SciFi    | Jon_Watts      |\n| 1 | Robert_Downey_Jr. | 54 | 2 | 1 | Natasha_Romanoff | 4 | Captain_America:Civil_War | Drama    | Hermanos_Russo |\n| 1 | Robert_Downey_Jr. | 54 | 2 | 4 | Natasha_Romanoff | 1 | Avengers:Endgame          | Fantasia | Hermanos_Russo |\n| 1 | Robert_Downey_Jr. | 54 | 2 | 4 | Natasha_Romanoff | 2 | Iron_Man                  | SciFi    | Jon_Favreau    |\n| 1 | Robert_Downey_Jr. | 54 | 2 | 4 | Natasha_Romanoff | 3 | Spiderman:Homecoming      | SciFi    | Jon_Watts      |\n| 1 | Robert_Downey_Jr. | 54 | 2 | 4 | Natasha_Romanoff | 4 | Captain_America:Civil_War | Drama    | Hermanos_Russo |\n| 1 | Robert_Downey_Jr. | 54 | 3 | 1 | Pepper_Potts     | 1 | Avengers:Endgame          | Fantasia | Hermanos_Russo |\n| 1 | Robert_Downey_Jr. | 54 | 3 | 1 | Pepper_Potts     | 2 | Iron_Man                  | SciFi    | Jon_Favreau    |\n| 1 | Robert_Downey_Jr. | 54 | 3 | 1 | Pepper_Potts     | 3 | Spiderman:Homecoming      | SciFi    | Jon_Watts      |\n| 1 | Robert_Downey_Jr. | 54 | 3 | 1 | Pepper_Potts     | 4 | Captain_America:Civil_War | Drama    | Hermanos_Russo |\n| 1 | Robert_Downey_Jr. | 54 | 3 | 2 | Pepper_Potts     | 1 | Avengers:Endgame          | Fantasia | Hermanos_Russo |\n| 1 | Robert_Downey_Jr. | 54 | 3 | 2 | Pepper_Potts     | 2 | Iron_Man                  | SciFi    | Jon_Favreau    |\n| ⋮ | ⋮ | ⋮ | ⋮ | ⋮ | ⋮ | ⋮ | ⋮ | ⋮ | ⋮ |\n| 5 | Chris_Evans | 38 | 2 | 4 | Natasha_Romanoff | 3 | Spiderman:Homecoming      | SciFi    | Jon_Watts      |\n| 5 | Chris_Evans | 38 | 2 | 4 | Natasha_Romanoff | 4 | Captain_America:Civil_War | Drama    | Hermanos_Russo |\n| 5 | Chris_Evans | 38 | 3 | 1 | Pepper_Potts     | 1 | Avengers:Endgame          | Fantasia | Hermanos_Russo |\n| 5 | Chris_Evans | 38 | 3 | 1 | Pepper_Potts     | 2 | Iron_Man                  | SciFi    | Jon_Favreau    |\n| 5 | Chris_Evans | 38 | 3 | 1 | Pepper_Potts     | 3 | Spiderman:Homecoming      | SciFi    | Jon_Watts      |\n| 5 | Chris_Evans | 38 | 3 | 1 | Pepper_Potts     | 4 | Captain_America:Civil_War | Drama    | Hermanos_Russo |\n| 5 | Chris_Evans | 38 | 3 | 2 | Pepper_Potts     | 1 | Avengers:Endgame          | Fantasia | Hermanos_Russo |\n| 5 | Chris_Evans | 38 | 3 | 2 | Pepper_Potts     | 2 | Iron_Man                  | SciFi    | Jon_Favreau    |\n| 5 | Chris_Evans | 38 | 3 | 2 | Pepper_Potts     | 3 | Spiderman:Homecoming      | SciFi    | Jon_Watts      |\n| 5 | Chris_Evans | 38 | 3 | 2 | Pepper_Potts     | 4 | Captain_America:Civil_War | Drama    | Hermanos_Russo |\n| 5 | Chris_Evans | 38 | 3 | 3 | Pepper_Potts     | 1 | Avengers:Endgame          | Fantasia | Hermanos_Russo |\n| 5 | Chris_Evans | 38 | 3 | 3 | Pepper_Potts     | 2 | Iron_Man                  | SciFi    | Jon_Favreau    |\n| 5 | Chris_Evans | 38 | 3 | 3 | Pepper_Potts     | 3 | Spiderman:Homecoming      | SciFi    | Jon_Watts      |\n| 5 | Chris_Evans | 38 | 3 | 3 | Pepper_Potts     | 4 | Captain_America:Civil_War | Drama    | Hermanos_Russo |\n| 5 | Chris_Evans | 38 | 4 | 1 | Peter_Parker     | 1 | Avengers:Endgame          | Fantasia | Hermanos_Russo |\n| 5 | Chris_Evans | 38 | 4 | 1 | Peter_Parker     | 2 | Iron_Man                  | SciFi    | Jon_Favreau    |\n| 5 | Chris_Evans | 38 | 4 | 1 | Peter_Parker     | 3 | Spiderman:Homecoming      | SciFi    | Jon_Watts      |\n| 5 | Chris_Evans | 38 | 4 | 1 | Peter_Parker     | 4 | Captain_America:Civil_War | Drama    | Hermanos_Russo |\n| 5 | Chris_Evans | 38 | 4 | 3 | Peter_Parker     | 1 | Avengers:Endgame          | Fantasia | Hermanos_Russo |\n| 5 | Chris_Evans | 38 | 4 | 3 | Peter_Parker     | 2 | Iron_Man                  | SciFi    | Jon_Favreau    |\n| 5 | Chris_Evans | 38 | 4 | 3 | Peter_Parker     | 3 | Spiderman:Homecoming      | SciFi    | Jon_Watts      |\n| 5 | Chris_Evans | 38 | 4 | 3 | Peter_Parker     | 4 | Captain_America:Civil_War | Drama    | Hermanos_Russo |\n| 5 | Chris_Evans | 38 | 5 | 1 | Steve_Rogers     | 1 | Avengers:Endgame          | Fantasia | Hermanos_Russo |\n| 5 | Chris_Evans | 38 | 5 | 1 | Steve_Rogers     | 2 | Iron_Man                  | SciFi    | Jon_Favreau    |\n| 5 | Chris_Evans | 38 | 5 | 1 | Steve_Rogers     | 3 | Spiderman:Homecoming      | SciFi    | Jon_Watts      |\n| 5 | Chris_Evans | 38 | 5 | 1 | Steve_Rogers     | 4 | Captain_America:Civil_War | Drama    | Hermanos_Russo |\n| 5 | Chris_Evans | 38 | 5 | 4 | Steve_Rogers     | 1 | Avengers:Endgame          | Fantasia | Hermanos_Russo |\n| 5 | Chris_Evans | 38 | 5 | 4 | Steve_Rogers     | 2 | Iron_Man                  | SciFi    | Jon_Favreau    |\n| 5 | Chris_Evans | 38 | 5 | 4 | Steve_Rogers     | 3 | Spiderman:Homecoming      | SciFi    | Jon_Watts      |\n| 5 | Chris_Evans | 38 | 5 | 4 | Steve_Rogers     | 4 | Captain_America:Civil_War | Drama    | Hermanos_Russo |\n\n",
            "text/html": [
              "<table class=\"dataframe\">\n",
              "<caption>A tibble: 260 × 10</caption>\n",
              "<thead>\n",
              "\t<tr><th scope=col>aid</th><th scope=col>anombre</th><th scope=col>edad</th><th scope=col>aid_2</th><th scope=col>pid_2</th><th scope=col>nombre_personaje_2</th><th scope=col>pid</th><th scope=col>pnombre</th><th scope=col>genero</th><th scope=col>director</th></tr>\n",
              "\t<tr><th scope=col>&lt;int&gt;</th><th scope=col>&lt;chr&gt;</th><th scope=col>&lt;int&gt;</th><th scope=col>&lt;int&gt;</th><th scope=col>&lt;int&gt;</th><th scope=col>&lt;chr&gt;</th><th scope=col>&lt;int&gt;</th><th scope=col>&lt;chr&gt;</th><th scope=col>&lt;chr&gt;</th><th scope=col>&lt;chr&gt;</th></tr>\n",
              "</thead>\n",
              "<tbody>\n",
              "\t<tr><td>1</td><td>Robert_Downey_Jr.</td><td>54</td><td>1</td><td>1</td><td>Tony_Stark      </td><td>1</td><td>Avengers:Endgame         </td><td>Fantasia</td><td>Hermanos_Russo</td></tr>\n",
              "\t<tr><td>1</td><td>Robert_Downey_Jr.</td><td>54</td><td>1</td><td>1</td><td>Tony_Stark      </td><td>2</td><td>Iron_Man                 </td><td>SciFi   </td><td>Jon_Favreau   </td></tr>\n",
              "\t<tr><td>1</td><td>Robert_Downey_Jr.</td><td>54</td><td>1</td><td>1</td><td>Tony_Stark      </td><td>3</td><td>Spiderman:Homecoming     </td><td>SciFi   </td><td>Jon_Watts     </td></tr>\n",
              "\t<tr><td>1</td><td>Robert_Downey_Jr.</td><td>54</td><td>1</td><td>1</td><td>Tony_Stark      </td><td>4</td><td>Captain_America:Civil_War</td><td>Drama   </td><td>Hermanos_Russo</td></tr>\n",
              "\t<tr><td>1</td><td>Robert_Downey_Jr.</td><td>54</td><td>1</td><td>2</td><td>Tony_Stark      </td><td>1</td><td>Avengers:Endgame         </td><td>Fantasia</td><td>Hermanos_Russo</td></tr>\n",
              "\t<tr><td>1</td><td>Robert_Downey_Jr.</td><td>54</td><td>1</td><td>2</td><td>Tony_Stark      </td><td>2</td><td>Iron_Man                 </td><td>SciFi   </td><td>Jon_Favreau   </td></tr>\n",
              "\t<tr><td>1</td><td>Robert_Downey_Jr.</td><td>54</td><td>1</td><td>2</td><td>Tony_Stark      </td><td>3</td><td>Spiderman:Homecoming     </td><td>SciFi   </td><td>Jon_Watts     </td></tr>\n",
              "\t<tr><td>1</td><td>Robert_Downey_Jr.</td><td>54</td><td>1</td><td>2</td><td>Tony_Stark      </td><td>4</td><td>Captain_America:Civil_War</td><td>Drama   </td><td>Hermanos_Russo</td></tr>\n",
              "\t<tr><td>1</td><td>Robert_Downey_Jr.</td><td>54</td><td>1</td><td>3</td><td>Tony_Stark      </td><td>1</td><td>Avengers:Endgame         </td><td>Fantasia</td><td>Hermanos_Russo</td></tr>\n",
              "\t<tr><td>1</td><td>Robert_Downey_Jr.</td><td>54</td><td>1</td><td>3</td><td>Tony_Stark      </td><td>2</td><td>Iron_Man                 </td><td>SciFi   </td><td>Jon_Favreau   </td></tr>\n",
              "\t<tr><td>1</td><td>Robert_Downey_Jr.</td><td>54</td><td>1</td><td>3</td><td>Tony_Stark      </td><td>3</td><td>Spiderman:Homecoming     </td><td>SciFi   </td><td>Jon_Watts     </td></tr>\n",
              "\t<tr><td>1</td><td>Robert_Downey_Jr.</td><td>54</td><td>1</td><td>3</td><td>Tony_Stark      </td><td>4</td><td>Captain_America:Civil_War</td><td>Drama   </td><td>Hermanos_Russo</td></tr>\n",
              "\t<tr><td>1</td><td>Robert_Downey_Jr.</td><td>54</td><td>1</td><td>4</td><td>Tony_Stark      </td><td>1</td><td>Avengers:Endgame         </td><td>Fantasia</td><td>Hermanos_Russo</td></tr>\n",
              "\t<tr><td>1</td><td>Robert_Downey_Jr.</td><td>54</td><td>1</td><td>4</td><td>Tony_Stark      </td><td>2</td><td>Iron_Man                 </td><td>SciFi   </td><td>Jon_Favreau   </td></tr>\n",
              "\t<tr><td>1</td><td>Robert_Downey_Jr.</td><td>54</td><td>1</td><td>4</td><td>Tony_Stark      </td><td>3</td><td>Spiderman:Homecoming     </td><td>SciFi   </td><td>Jon_Watts     </td></tr>\n",
              "\t<tr><td>1</td><td>Robert_Downey_Jr.</td><td>54</td><td>1</td><td>4</td><td>Tony_Stark      </td><td>4</td><td>Captain_America:Civil_War</td><td>Drama   </td><td>Hermanos_Russo</td></tr>\n",
              "\t<tr><td>1</td><td>Robert_Downey_Jr.</td><td>54</td><td>2</td><td>1</td><td>Natasha_Romanoff</td><td>1</td><td>Avengers:Endgame         </td><td>Fantasia</td><td>Hermanos_Russo</td></tr>\n",
              "\t<tr><td>1</td><td>Robert_Downey_Jr.</td><td>54</td><td>2</td><td>1</td><td>Natasha_Romanoff</td><td>2</td><td>Iron_Man                 </td><td>SciFi   </td><td>Jon_Favreau   </td></tr>\n",
              "\t<tr><td>1</td><td>Robert_Downey_Jr.</td><td>54</td><td>2</td><td>1</td><td>Natasha_Romanoff</td><td>3</td><td>Spiderman:Homecoming     </td><td>SciFi   </td><td>Jon_Watts     </td></tr>\n",
              "\t<tr><td>1</td><td>Robert_Downey_Jr.</td><td>54</td><td>2</td><td>1</td><td>Natasha_Romanoff</td><td>4</td><td>Captain_America:Civil_War</td><td>Drama   </td><td>Hermanos_Russo</td></tr>\n",
              "\t<tr><td>1</td><td>Robert_Downey_Jr.</td><td>54</td><td>2</td><td>4</td><td>Natasha_Romanoff</td><td>1</td><td>Avengers:Endgame         </td><td>Fantasia</td><td>Hermanos_Russo</td></tr>\n",
              "\t<tr><td>1</td><td>Robert_Downey_Jr.</td><td>54</td><td>2</td><td>4</td><td>Natasha_Romanoff</td><td>2</td><td>Iron_Man                 </td><td>SciFi   </td><td>Jon_Favreau   </td></tr>\n",
              "\t<tr><td>1</td><td>Robert_Downey_Jr.</td><td>54</td><td>2</td><td>4</td><td>Natasha_Romanoff</td><td>3</td><td>Spiderman:Homecoming     </td><td>SciFi   </td><td>Jon_Watts     </td></tr>\n",
              "\t<tr><td>1</td><td>Robert_Downey_Jr.</td><td>54</td><td>2</td><td>4</td><td>Natasha_Romanoff</td><td>4</td><td>Captain_America:Civil_War</td><td>Drama   </td><td>Hermanos_Russo</td></tr>\n",
              "\t<tr><td>1</td><td>Robert_Downey_Jr.</td><td>54</td><td>3</td><td>1</td><td>Pepper_Potts    </td><td>1</td><td>Avengers:Endgame         </td><td>Fantasia</td><td>Hermanos_Russo</td></tr>\n",
              "\t<tr><td>1</td><td>Robert_Downey_Jr.</td><td>54</td><td>3</td><td>1</td><td>Pepper_Potts    </td><td>2</td><td>Iron_Man                 </td><td>SciFi   </td><td>Jon_Favreau   </td></tr>\n",
              "\t<tr><td>1</td><td>Robert_Downey_Jr.</td><td>54</td><td>3</td><td>1</td><td>Pepper_Potts    </td><td>3</td><td>Spiderman:Homecoming     </td><td>SciFi   </td><td>Jon_Watts     </td></tr>\n",
              "\t<tr><td>1</td><td>Robert_Downey_Jr.</td><td>54</td><td>3</td><td>1</td><td>Pepper_Potts    </td><td>4</td><td>Captain_America:Civil_War</td><td>Drama   </td><td>Hermanos_Russo</td></tr>\n",
              "\t<tr><td>1</td><td>Robert_Downey_Jr.</td><td>54</td><td>3</td><td>2</td><td>Pepper_Potts    </td><td>1</td><td>Avengers:Endgame         </td><td>Fantasia</td><td>Hermanos_Russo</td></tr>\n",
              "\t<tr><td>1</td><td>Robert_Downey_Jr.</td><td>54</td><td>3</td><td>2</td><td>Pepper_Potts    </td><td>2</td><td>Iron_Man                 </td><td>SciFi   </td><td>Jon_Favreau   </td></tr>\n",
              "\t<tr><td>⋮</td><td>⋮</td><td>⋮</td><td>⋮</td><td>⋮</td><td>⋮</td><td>⋮</td><td>⋮</td><td>⋮</td><td>⋮</td></tr>\n",
              "\t<tr><td>5</td><td>Chris_Evans</td><td>38</td><td>2</td><td>4</td><td>Natasha_Romanoff</td><td>3</td><td>Spiderman:Homecoming     </td><td>SciFi   </td><td>Jon_Watts     </td></tr>\n",
              "\t<tr><td>5</td><td>Chris_Evans</td><td>38</td><td>2</td><td>4</td><td>Natasha_Romanoff</td><td>4</td><td>Captain_America:Civil_War</td><td>Drama   </td><td>Hermanos_Russo</td></tr>\n",
              "\t<tr><td>5</td><td>Chris_Evans</td><td>38</td><td>3</td><td>1</td><td>Pepper_Potts    </td><td>1</td><td>Avengers:Endgame         </td><td>Fantasia</td><td>Hermanos_Russo</td></tr>\n",
              "\t<tr><td>5</td><td>Chris_Evans</td><td>38</td><td>3</td><td>1</td><td>Pepper_Potts    </td><td>2</td><td>Iron_Man                 </td><td>SciFi   </td><td>Jon_Favreau   </td></tr>\n",
              "\t<tr><td>5</td><td>Chris_Evans</td><td>38</td><td>3</td><td>1</td><td>Pepper_Potts    </td><td>3</td><td>Spiderman:Homecoming     </td><td>SciFi   </td><td>Jon_Watts     </td></tr>\n",
              "\t<tr><td>5</td><td>Chris_Evans</td><td>38</td><td>3</td><td>1</td><td>Pepper_Potts    </td><td>4</td><td>Captain_America:Civil_War</td><td>Drama   </td><td>Hermanos_Russo</td></tr>\n",
              "\t<tr><td>5</td><td>Chris_Evans</td><td>38</td><td>3</td><td>2</td><td>Pepper_Potts    </td><td>1</td><td>Avengers:Endgame         </td><td>Fantasia</td><td>Hermanos_Russo</td></tr>\n",
              "\t<tr><td>5</td><td>Chris_Evans</td><td>38</td><td>3</td><td>2</td><td>Pepper_Potts    </td><td>2</td><td>Iron_Man                 </td><td>SciFi   </td><td>Jon_Favreau   </td></tr>\n",
              "\t<tr><td>5</td><td>Chris_Evans</td><td>38</td><td>3</td><td>2</td><td>Pepper_Potts    </td><td>3</td><td>Spiderman:Homecoming     </td><td>SciFi   </td><td>Jon_Watts     </td></tr>\n",
              "\t<tr><td>5</td><td>Chris_Evans</td><td>38</td><td>3</td><td>2</td><td>Pepper_Potts    </td><td>4</td><td>Captain_America:Civil_War</td><td>Drama   </td><td>Hermanos_Russo</td></tr>\n",
              "\t<tr><td>5</td><td>Chris_Evans</td><td>38</td><td>3</td><td>3</td><td>Pepper_Potts    </td><td>1</td><td>Avengers:Endgame         </td><td>Fantasia</td><td>Hermanos_Russo</td></tr>\n",
              "\t<tr><td>5</td><td>Chris_Evans</td><td>38</td><td>3</td><td>3</td><td>Pepper_Potts    </td><td>2</td><td>Iron_Man                 </td><td>SciFi   </td><td>Jon_Favreau   </td></tr>\n",
              "\t<tr><td>5</td><td>Chris_Evans</td><td>38</td><td>3</td><td>3</td><td>Pepper_Potts    </td><td>3</td><td>Spiderman:Homecoming     </td><td>SciFi   </td><td>Jon_Watts     </td></tr>\n",
              "\t<tr><td>5</td><td>Chris_Evans</td><td>38</td><td>3</td><td>3</td><td>Pepper_Potts    </td><td>4</td><td>Captain_America:Civil_War</td><td>Drama   </td><td>Hermanos_Russo</td></tr>\n",
              "\t<tr><td>5</td><td>Chris_Evans</td><td>38</td><td>4</td><td>1</td><td>Peter_Parker    </td><td>1</td><td>Avengers:Endgame         </td><td>Fantasia</td><td>Hermanos_Russo</td></tr>\n",
              "\t<tr><td>5</td><td>Chris_Evans</td><td>38</td><td>4</td><td>1</td><td>Peter_Parker    </td><td>2</td><td>Iron_Man                 </td><td>SciFi   </td><td>Jon_Favreau   </td></tr>\n",
              "\t<tr><td>5</td><td>Chris_Evans</td><td>38</td><td>4</td><td>1</td><td>Peter_Parker    </td><td>3</td><td>Spiderman:Homecoming     </td><td>SciFi   </td><td>Jon_Watts     </td></tr>\n",
              "\t<tr><td>5</td><td>Chris_Evans</td><td>38</td><td>4</td><td>1</td><td>Peter_Parker    </td><td>4</td><td>Captain_America:Civil_War</td><td>Drama   </td><td>Hermanos_Russo</td></tr>\n",
              "\t<tr><td>5</td><td>Chris_Evans</td><td>38</td><td>4</td><td>3</td><td>Peter_Parker    </td><td>1</td><td>Avengers:Endgame         </td><td>Fantasia</td><td>Hermanos_Russo</td></tr>\n",
              "\t<tr><td>5</td><td>Chris_Evans</td><td>38</td><td>4</td><td>3</td><td>Peter_Parker    </td><td>2</td><td>Iron_Man                 </td><td>SciFi   </td><td>Jon_Favreau   </td></tr>\n",
              "\t<tr><td>5</td><td>Chris_Evans</td><td>38</td><td>4</td><td>3</td><td>Peter_Parker    </td><td>3</td><td>Spiderman:Homecoming     </td><td>SciFi   </td><td>Jon_Watts     </td></tr>\n",
              "\t<tr><td>5</td><td>Chris_Evans</td><td>38</td><td>4</td><td>3</td><td>Peter_Parker    </td><td>4</td><td>Captain_America:Civil_War</td><td>Drama   </td><td>Hermanos_Russo</td></tr>\n",
              "\t<tr><td>5</td><td>Chris_Evans</td><td>38</td><td>5</td><td>1</td><td>Steve_Rogers    </td><td>1</td><td>Avengers:Endgame         </td><td>Fantasia</td><td>Hermanos_Russo</td></tr>\n",
              "\t<tr><td>5</td><td>Chris_Evans</td><td>38</td><td>5</td><td>1</td><td>Steve_Rogers    </td><td>2</td><td>Iron_Man                 </td><td>SciFi   </td><td>Jon_Favreau   </td></tr>\n",
              "\t<tr><td>5</td><td>Chris_Evans</td><td>38</td><td>5</td><td>1</td><td>Steve_Rogers    </td><td>3</td><td>Spiderman:Homecoming     </td><td>SciFi   </td><td>Jon_Watts     </td></tr>\n",
              "\t<tr><td>5</td><td>Chris_Evans</td><td>38</td><td>5</td><td>1</td><td>Steve_Rogers    </td><td>4</td><td>Captain_America:Civil_War</td><td>Drama   </td><td>Hermanos_Russo</td></tr>\n",
              "\t<tr><td>5</td><td>Chris_Evans</td><td>38</td><td>5</td><td>4</td><td>Steve_Rogers    </td><td>1</td><td>Avengers:Endgame         </td><td>Fantasia</td><td>Hermanos_Russo</td></tr>\n",
              "\t<tr><td>5</td><td>Chris_Evans</td><td>38</td><td>5</td><td>4</td><td>Steve_Rogers    </td><td>2</td><td>Iron_Man                 </td><td>SciFi   </td><td>Jon_Favreau   </td></tr>\n",
              "\t<tr><td>5</td><td>Chris_Evans</td><td>38</td><td>5</td><td>4</td><td>Steve_Rogers    </td><td>3</td><td>Spiderman:Homecoming     </td><td>SciFi   </td><td>Jon_Watts     </td></tr>\n",
              "\t<tr><td>5</td><td>Chris_Evans</td><td>38</td><td>5</td><td>4</td><td>Steve_Rogers    </td><td>4</td><td>Captain_America:Civil_War</td><td>Drama   </td><td>Hermanos_Russo</td></tr>\n",
              "</tbody>\n",
              "</table>\n"
            ]
          },
          "metadata": {
            "tags": []
          }
        }
      ]
    },
    {
      "cell_type": "code",
      "metadata": {
        "colab": {
          "base_uri": "https://localhost:8080/",
          "height": 504
        },
        "id": "-eaXyXjdpz5F",
        "outputId": "a4ab6258-51ba-4745-ed23-d7d0b54379fd"
      },
      "source": [
        "pelis_actor<-filter(as.data.frame(crossing(actores,actuo_en,peliculas)), aid==aid_2 & pid==pid_2)\n",
        "pelis_actor"
      ],
      "execution_count": 125,
      "outputs": [
        {
          "output_type": "display_data",
          "data": {
            "text/plain": [
              "   aid anombre            edad aid_2 pid_2 nombre_personaje_2 pid\n",
              "1  1   Robert_Downey_Jr.  54   1     1     Tony_Stark         1  \n",
              "2  1   Robert_Downey_Jr.  54   1     2     Tony_Stark         2  \n",
              "3  1   Robert_Downey_Jr.  54   1     3     Tony_Stark         3  \n",
              "4  1   Robert_Downey_Jr.  54   1     4     Tony_Stark         4  \n",
              "5  2   Scarlett_Johansson 35   2     1     Natasha_Romanoff   1  \n",
              "6  2   Scarlett_Johansson 35   2     4     Natasha_Romanoff   4  \n",
              "7  3   Gwyneth_Paltrow    47   3     1     Pepper_Potts       1  \n",
              "8  3   Gwyneth_Paltrow    47   3     2     Pepper_Potts       2  \n",
              "9  3   Gwyneth_Paltrow    47   3     3     Pepper_Potts       3  \n",
              "10 4   Tom_Holland        23   4     1     Peter_Parker       1  \n",
              "11 4   Tom_Holland        23   4     3     Peter_Parker       3  \n",
              "12 5   Chris_Evans        38   5     1     Steve_Rogers       1  \n",
              "13 5   Chris_Evans        38   5     4     Steve_Rogers       4  \n",
              "   pnombre                   genero   director      \n",
              "1  Avengers:Endgame          Fantasia Hermanos_Russo\n",
              "2  Iron_Man                  SciFi    Jon_Favreau   \n",
              "3  Spiderman:Homecoming      SciFi    Jon_Watts     \n",
              "4  Captain_America:Civil_War Drama    Hermanos_Russo\n",
              "5  Avengers:Endgame          Fantasia Hermanos_Russo\n",
              "6  Captain_America:Civil_War Drama    Hermanos_Russo\n",
              "7  Avengers:Endgame          Fantasia Hermanos_Russo\n",
              "8  Iron_Man                  SciFi    Jon_Favreau   \n",
              "9  Spiderman:Homecoming      SciFi    Jon_Watts     \n",
              "10 Avengers:Endgame          Fantasia Hermanos_Russo\n",
              "11 Spiderman:Homecoming      SciFi    Jon_Watts     \n",
              "12 Avengers:Endgame          Fantasia Hermanos_Russo\n",
              "13 Captain_America:Civil_War Drama    Hermanos_Russo"
            ],
            "text/latex": "A data.frame: 13 × 10\n\\begin{tabular}{llllllllll}\n aid & anombre & edad & aid\\_2 & pid\\_2 & nombre\\_personaje\\_2 & pid & pnombre & genero & director\\\\\n <int> & <chr> & <int> & <int> & <int> & <chr> & <int> & <chr> & <chr> & <chr>\\\\\n\\hline\n\t 1 & Robert\\_Downey\\_Jr.  & 54 & 1 & 1 & Tony\\_Stark       & 1 & Avengers:Endgame          & Fantasia & Hermanos\\_Russo\\\\\n\t 1 & Robert\\_Downey\\_Jr.  & 54 & 1 & 2 & Tony\\_Stark       & 2 & Iron\\_Man                  & SciFi    & Jon\\_Favreau   \\\\\n\t 1 & Robert\\_Downey\\_Jr.  & 54 & 1 & 3 & Tony\\_Stark       & 3 & Spiderman:Homecoming      & SciFi    & Jon\\_Watts     \\\\\n\t 1 & Robert\\_Downey\\_Jr.  & 54 & 1 & 4 & Tony\\_Stark       & 4 & Captain\\_America:Civil\\_War & Drama    & Hermanos\\_Russo\\\\\n\t 2 & Scarlett\\_Johansson & 35 & 2 & 1 & Natasha\\_Romanoff & 1 & Avengers:Endgame          & Fantasia & Hermanos\\_Russo\\\\\n\t 2 & Scarlett\\_Johansson & 35 & 2 & 4 & Natasha\\_Romanoff & 4 & Captain\\_America:Civil\\_War & Drama    & Hermanos\\_Russo\\\\\n\t 3 & Gwyneth\\_Paltrow    & 47 & 3 & 1 & Pepper\\_Potts     & 1 & Avengers:Endgame          & Fantasia & Hermanos\\_Russo\\\\\n\t 3 & Gwyneth\\_Paltrow    & 47 & 3 & 2 & Pepper\\_Potts     & 2 & Iron\\_Man                  & SciFi    & Jon\\_Favreau   \\\\\n\t 3 & Gwyneth\\_Paltrow    & 47 & 3 & 3 & Pepper\\_Potts     & 3 & Spiderman:Homecoming      & SciFi    & Jon\\_Watts     \\\\\n\t 4 & Tom\\_Holland        & 23 & 4 & 1 & Peter\\_Parker     & 1 & Avengers:Endgame          & Fantasia & Hermanos\\_Russo\\\\\n\t 4 & Tom\\_Holland        & 23 & 4 & 3 & Peter\\_Parker     & 3 & Spiderman:Homecoming      & SciFi    & Jon\\_Watts     \\\\\n\t 5 & Chris\\_Evans        & 38 & 5 & 1 & Steve\\_Rogers     & 1 & Avengers:Endgame          & Fantasia & Hermanos\\_Russo\\\\\n\t 5 & Chris\\_Evans        & 38 & 5 & 4 & Steve\\_Rogers     & 4 & Captain\\_America:Civil\\_War & Drama    & Hermanos\\_Russo\\\\\n\\end{tabular}\n",
            "text/markdown": "\nA data.frame: 13 × 10\n\n| aid &lt;int&gt; | anombre &lt;chr&gt; | edad &lt;int&gt; | aid_2 &lt;int&gt; | pid_2 &lt;int&gt; | nombre_personaje_2 &lt;chr&gt; | pid &lt;int&gt; | pnombre &lt;chr&gt; | genero &lt;chr&gt; | director &lt;chr&gt; |\n|---|---|---|---|---|---|---|---|---|---|\n| 1 | Robert_Downey_Jr.  | 54 | 1 | 1 | Tony_Stark       | 1 | Avengers:Endgame          | Fantasia | Hermanos_Russo |\n| 1 | Robert_Downey_Jr.  | 54 | 1 | 2 | Tony_Stark       | 2 | Iron_Man                  | SciFi    | Jon_Favreau    |\n| 1 | Robert_Downey_Jr.  | 54 | 1 | 3 | Tony_Stark       | 3 | Spiderman:Homecoming      | SciFi    | Jon_Watts      |\n| 1 | Robert_Downey_Jr.  | 54 | 1 | 4 | Tony_Stark       | 4 | Captain_America:Civil_War | Drama    | Hermanos_Russo |\n| 2 | Scarlett_Johansson | 35 | 2 | 1 | Natasha_Romanoff | 1 | Avengers:Endgame          | Fantasia | Hermanos_Russo |\n| 2 | Scarlett_Johansson | 35 | 2 | 4 | Natasha_Romanoff | 4 | Captain_America:Civil_War | Drama    | Hermanos_Russo |\n| 3 | Gwyneth_Paltrow    | 47 | 3 | 1 | Pepper_Potts     | 1 | Avengers:Endgame          | Fantasia | Hermanos_Russo |\n| 3 | Gwyneth_Paltrow    | 47 | 3 | 2 | Pepper_Potts     | 2 | Iron_Man                  | SciFi    | Jon_Favreau    |\n| 3 | Gwyneth_Paltrow    | 47 | 3 | 3 | Pepper_Potts     | 3 | Spiderman:Homecoming      | SciFi    | Jon_Watts      |\n| 4 | Tom_Holland        | 23 | 4 | 1 | Peter_Parker     | 1 | Avengers:Endgame          | Fantasia | Hermanos_Russo |\n| 4 | Tom_Holland        | 23 | 4 | 3 | Peter_Parker     | 3 | Spiderman:Homecoming      | SciFi    | Jon_Watts      |\n| 5 | Chris_Evans        | 38 | 5 | 1 | Steve_Rogers     | 1 | Avengers:Endgame          | Fantasia | Hermanos_Russo |\n| 5 | Chris_Evans        | 38 | 5 | 4 | Steve_Rogers     | 4 | Captain_America:Civil_War | Drama    | Hermanos_Russo |\n\n",
            "text/html": [
              "<table class=\"dataframe\">\n",
              "<caption>A data.frame: 13 × 10</caption>\n",
              "<thead>\n",
              "\t<tr><th scope=col>aid</th><th scope=col>anombre</th><th scope=col>edad</th><th scope=col>aid_2</th><th scope=col>pid_2</th><th scope=col>nombre_personaje_2</th><th scope=col>pid</th><th scope=col>pnombre</th><th scope=col>genero</th><th scope=col>director</th></tr>\n",
              "\t<tr><th scope=col>&lt;int&gt;</th><th scope=col>&lt;chr&gt;</th><th scope=col>&lt;int&gt;</th><th scope=col>&lt;int&gt;</th><th scope=col>&lt;int&gt;</th><th scope=col>&lt;chr&gt;</th><th scope=col>&lt;int&gt;</th><th scope=col>&lt;chr&gt;</th><th scope=col>&lt;chr&gt;</th><th scope=col>&lt;chr&gt;</th></tr>\n",
              "</thead>\n",
              "<tbody>\n",
              "\t<tr><td>1</td><td>Robert_Downey_Jr. </td><td>54</td><td>1</td><td>1</td><td>Tony_Stark      </td><td>1</td><td>Avengers:Endgame         </td><td>Fantasia</td><td>Hermanos_Russo</td></tr>\n",
              "\t<tr><td>1</td><td>Robert_Downey_Jr. </td><td>54</td><td>1</td><td>2</td><td>Tony_Stark      </td><td>2</td><td>Iron_Man                 </td><td>SciFi   </td><td>Jon_Favreau   </td></tr>\n",
              "\t<tr><td>1</td><td>Robert_Downey_Jr. </td><td>54</td><td>1</td><td>3</td><td>Tony_Stark      </td><td>3</td><td>Spiderman:Homecoming     </td><td>SciFi   </td><td>Jon_Watts     </td></tr>\n",
              "\t<tr><td>1</td><td>Robert_Downey_Jr. </td><td>54</td><td>1</td><td>4</td><td>Tony_Stark      </td><td>4</td><td>Captain_America:Civil_War</td><td>Drama   </td><td>Hermanos_Russo</td></tr>\n",
              "\t<tr><td>2</td><td>Scarlett_Johansson</td><td>35</td><td>2</td><td>1</td><td>Natasha_Romanoff</td><td>1</td><td>Avengers:Endgame         </td><td>Fantasia</td><td>Hermanos_Russo</td></tr>\n",
              "\t<tr><td>2</td><td>Scarlett_Johansson</td><td>35</td><td>2</td><td>4</td><td>Natasha_Romanoff</td><td>4</td><td>Captain_America:Civil_War</td><td>Drama   </td><td>Hermanos_Russo</td></tr>\n",
              "\t<tr><td>3</td><td>Gwyneth_Paltrow   </td><td>47</td><td>3</td><td>1</td><td>Pepper_Potts    </td><td>1</td><td>Avengers:Endgame         </td><td>Fantasia</td><td>Hermanos_Russo</td></tr>\n",
              "\t<tr><td>3</td><td>Gwyneth_Paltrow   </td><td>47</td><td>3</td><td>2</td><td>Pepper_Potts    </td><td>2</td><td>Iron_Man                 </td><td>SciFi   </td><td>Jon_Favreau   </td></tr>\n",
              "\t<tr><td>3</td><td>Gwyneth_Paltrow   </td><td>47</td><td>3</td><td>3</td><td>Pepper_Potts    </td><td>3</td><td>Spiderman:Homecoming     </td><td>SciFi   </td><td>Jon_Watts     </td></tr>\n",
              "\t<tr><td>4</td><td>Tom_Holland       </td><td>23</td><td>4</td><td>1</td><td>Peter_Parker    </td><td>1</td><td>Avengers:Endgame         </td><td>Fantasia</td><td>Hermanos_Russo</td></tr>\n",
              "\t<tr><td>4</td><td>Tom_Holland       </td><td>23</td><td>4</td><td>3</td><td>Peter_Parker    </td><td>3</td><td>Spiderman:Homecoming     </td><td>SciFi   </td><td>Jon_Watts     </td></tr>\n",
              "\t<tr><td>5</td><td>Chris_Evans       </td><td>38</td><td>5</td><td>1</td><td>Steve_Rogers    </td><td>1</td><td>Avengers:Endgame         </td><td>Fantasia</td><td>Hermanos_Russo</td></tr>\n",
              "\t<tr><td>5</td><td>Chris_Evans       </td><td>38</td><td>5</td><td>4</td><td>Steve_Rogers    </td><td>4</td><td>Captain_America:Civil_War</td><td>Drama   </td><td>Hermanos_Russo</td></tr>\n",
              "</tbody>\n",
              "</table>\n"
            ]
          },
          "metadata": {
            "tags": []
          }
        }
      ]
    },
    {
      "cell_type": "code",
      "metadata": {
        "colab": {
          "base_uri": "https://localhost:8080/",
          "height": 160
        },
        "id": "diZapVLIqtNp",
        "outputId": "c60535b5-e2f5-4720-d801-5c7583cf8b37"
      },
      "source": [
        "pelis_Favreau<-filter(pelis_actor, director==\"Jon_Favreau\")[c(\"aid\",\"anombre\")]\n",
        "pelis_Favreau"
      ],
      "execution_count": 126,
      "outputs": [
        {
          "output_type": "display_data",
          "data": {
            "text/plain": [
              "  aid anombre          \n",
              "1 1   Robert_Downey_Jr.\n",
              "2 3   Gwyneth_Paltrow  "
            ],
            "text/latex": "A data.frame: 2 × 2\n\\begin{tabular}{ll}\n aid & anombre\\\\\n <int> & <chr>\\\\\n\\hline\n\t 1 & Robert\\_Downey\\_Jr.\\\\\n\t 3 & Gwyneth\\_Paltrow  \\\\\n\\end{tabular}\n",
            "text/markdown": "\nA data.frame: 2 × 2\n\n| aid &lt;int&gt; | anombre &lt;chr&gt; |\n|---|---|\n| 1 | Robert_Downey_Jr. |\n| 3 | Gwyneth_Paltrow   |\n\n",
            "text/html": [
              "<table class=\"dataframe\">\n",
              "<caption>A data.frame: 2 × 2</caption>\n",
              "<thead>\n",
              "\t<tr><th scope=col>aid</th><th scope=col>anombre</th></tr>\n",
              "\t<tr><th scope=col>&lt;int&gt;</th><th scope=col>&lt;chr&gt;</th></tr>\n",
              "</thead>\n",
              "<tbody>\n",
              "\t<tr><td>1</td><td>Robert_Downey_Jr.</td></tr>\n",
              "\t<tr><td>3</td><td>Gwyneth_Paltrow  </td></tr>\n",
              "</tbody>\n",
              "</table>\n"
            ]
          },
          "metadata": {
            "tags": []
          }
        }
      ]
    },
    {
      "cell_type": "code",
      "metadata": {
        "colab": {
          "base_uri": "https://localhost:8080/",
          "height": 192
        },
        "id": "V3pBEVYQrQxh",
        "outputId": "c025973e-8399-48a7-90c0-2d841f78bd03"
      },
      "source": [
        "pelis_Watts<-filter(pelis_actor, director==\"Jon_Watts\")[c(\"aid\",\"anombre\")]\n",
        "pelis_Watts"
      ],
      "execution_count": 127,
      "outputs": [
        {
          "output_type": "display_data",
          "data": {
            "text/plain": [
              "  aid anombre          \n",
              "1 1   Robert_Downey_Jr.\n",
              "2 3   Gwyneth_Paltrow  \n",
              "3 4   Tom_Holland      "
            ],
            "text/latex": "A data.frame: 3 × 2\n\\begin{tabular}{ll}\n aid & anombre\\\\\n <int> & <chr>\\\\\n\\hline\n\t 1 & Robert\\_Downey\\_Jr.\\\\\n\t 3 & Gwyneth\\_Paltrow  \\\\\n\t 4 & Tom\\_Holland      \\\\\n\\end{tabular}\n",
            "text/markdown": "\nA data.frame: 3 × 2\n\n| aid &lt;int&gt; | anombre &lt;chr&gt; |\n|---|---|\n| 1 | Robert_Downey_Jr. |\n| 3 | Gwyneth_Paltrow   |\n| 4 | Tom_Holland       |\n\n",
            "text/html": [
              "<table class=\"dataframe\">\n",
              "<caption>A data.frame: 3 × 2</caption>\n",
              "<thead>\n",
              "\t<tr><th scope=col>aid</th><th scope=col>anombre</th></tr>\n",
              "\t<tr><th scope=col>&lt;int&gt;</th><th scope=col>&lt;chr&gt;</th></tr>\n",
              "</thead>\n",
              "<tbody>\n",
              "\t<tr><td>1</td><td>Robert_Downey_Jr.</td></tr>\n",
              "\t<tr><td>3</td><td>Gwyneth_Paltrow  </td></tr>\n",
              "\t<tr><td>4</td><td>Tom_Holland      </td></tr>\n",
              "</tbody>\n",
              "</table>\n"
            ]
          },
          "metadata": {
            "tags": []
          }
        }
      ]
    },
    {
      "cell_type": "code",
      "metadata": {
        "id": "NOpfUqL6xt-E"
      },
      "source": [
        "colnames(pelis_Favreau) <- paste(colnames(pelis_Favreau), \"1\", sep = \"_\")\n",
        "colnames(pelis_Watts) <- paste(colnames(pelis_Watts), \"2\", sep = \"_\")\n"
      ],
      "execution_count": 128,
      "outputs": []
    },
    {
      "cell_type": "code",
      "metadata": {
        "colab": {
          "base_uri": "https://localhost:8080/",
          "height": 192
        },
        "id": "haDjwt0dzbbz",
        "outputId": "7fe4bf04-19b3-433b-eb02-11a04a74be58"
      },
      "source": [
        "pelis_Watts"
      ],
      "execution_count": 129,
      "outputs": [
        {
          "output_type": "display_data",
          "data": {
            "text/plain": [
              "  aid_2 anombre_2        \n",
              "1 1     Robert_Downey_Jr.\n",
              "2 3     Gwyneth_Paltrow  \n",
              "3 4     Tom_Holland      "
            ],
            "text/latex": "A data.frame: 3 × 2\n\\begin{tabular}{ll}\n aid\\_2 & anombre\\_2\\\\\n <int> & <chr>\\\\\n\\hline\n\t 1 & Robert\\_Downey\\_Jr.\\\\\n\t 3 & Gwyneth\\_Paltrow  \\\\\n\t 4 & Tom\\_Holland      \\\\\n\\end{tabular}\n",
            "text/markdown": "\nA data.frame: 3 × 2\n\n| aid_2 &lt;int&gt; | anombre_2 &lt;chr&gt; |\n|---|---|\n| 1 | Robert_Downey_Jr. |\n| 3 | Gwyneth_Paltrow   |\n| 4 | Tom_Holland       |\n\n",
            "text/html": [
              "<table class=\"dataframe\">\n",
              "<caption>A data.frame: 3 × 2</caption>\n",
              "<thead>\n",
              "\t<tr><th scope=col>aid_2</th><th scope=col>anombre_2</th></tr>\n",
              "\t<tr><th scope=col>&lt;int&gt;</th><th scope=col>&lt;chr&gt;</th></tr>\n",
              "</thead>\n",
              "<tbody>\n",
              "\t<tr><td>1</td><td>Robert_Downey_Jr.</td></tr>\n",
              "\t<tr><td>3</td><td>Gwyneth_Paltrow  </td></tr>\n",
              "\t<tr><td>4</td><td>Tom_Holland      </td></tr>\n",
              "</tbody>\n",
              "</table>\n"
            ]
          },
          "metadata": {
            "tags": []
          }
        }
      ]
    },
    {
      "cell_type": "code",
      "metadata": {
        "colab": {
          "base_uri": "https://localhost:8080/",
          "height": 285
        },
        "id": "BU7kovLPzfgL",
        "outputId": "8653e145-46cf-4fa4-bff8-43835e8bbaa7"
      },
      "source": [
        "crossing(pelis_Watts,pelis_Favreau)"
      ],
      "execution_count": 130,
      "outputs": [
        {
          "output_type": "display_data",
          "data": {
            "text/plain": [
              "  aid_2 anombre_2         aid_1 anombre_1        \n",
              "1 1     Robert_Downey_Jr. 1     Robert_Downey_Jr.\n",
              "2 1     Robert_Downey_Jr. 3     Gwyneth_Paltrow  \n",
              "3 3     Gwyneth_Paltrow   1     Robert_Downey_Jr.\n",
              "4 3     Gwyneth_Paltrow   3     Gwyneth_Paltrow  \n",
              "5 4     Tom_Holland       1     Robert_Downey_Jr.\n",
              "6 4     Tom_Holland       3     Gwyneth_Paltrow  "
            ],
            "text/latex": "A tibble: 6 × 4\n\\begin{tabular}{llll}\n aid\\_2 & anombre\\_2 & aid\\_1 & anombre\\_1\\\\\n <int> & <chr> & <int> & <chr>\\\\\n\\hline\n\t 1 & Robert\\_Downey\\_Jr. & 1 & Robert\\_Downey\\_Jr.\\\\\n\t 1 & Robert\\_Downey\\_Jr. & 3 & Gwyneth\\_Paltrow  \\\\\n\t 3 & Gwyneth\\_Paltrow   & 1 & Robert\\_Downey\\_Jr.\\\\\n\t 3 & Gwyneth\\_Paltrow   & 3 & Gwyneth\\_Paltrow  \\\\\n\t 4 & Tom\\_Holland       & 1 & Robert\\_Downey\\_Jr.\\\\\n\t 4 & Tom\\_Holland       & 3 & Gwyneth\\_Paltrow  \\\\\n\\end{tabular}\n",
            "text/markdown": "\nA tibble: 6 × 4\n\n| aid_2 &lt;int&gt; | anombre_2 &lt;chr&gt; | aid_1 &lt;int&gt; | anombre_1 &lt;chr&gt; |\n|---|---|---|---|\n| 1 | Robert_Downey_Jr. | 1 | Robert_Downey_Jr. |\n| 1 | Robert_Downey_Jr. | 3 | Gwyneth_Paltrow   |\n| 3 | Gwyneth_Paltrow   | 1 | Robert_Downey_Jr. |\n| 3 | Gwyneth_Paltrow   | 3 | Gwyneth_Paltrow   |\n| 4 | Tom_Holland       | 1 | Robert_Downey_Jr. |\n| 4 | Tom_Holland       | 3 | Gwyneth_Paltrow   |\n\n",
            "text/html": [
              "<table class=\"dataframe\">\n",
              "<caption>A tibble: 6 × 4</caption>\n",
              "<thead>\n",
              "\t<tr><th scope=col>aid_2</th><th scope=col>anombre_2</th><th scope=col>aid_1</th><th scope=col>anombre_1</th></tr>\n",
              "\t<tr><th scope=col>&lt;int&gt;</th><th scope=col>&lt;chr&gt;</th><th scope=col>&lt;int&gt;</th><th scope=col>&lt;chr&gt;</th></tr>\n",
              "</thead>\n",
              "<tbody>\n",
              "\t<tr><td>1</td><td>Robert_Downey_Jr.</td><td>1</td><td>Robert_Downey_Jr.</td></tr>\n",
              "\t<tr><td>1</td><td>Robert_Downey_Jr.</td><td>3</td><td>Gwyneth_Paltrow  </td></tr>\n",
              "\t<tr><td>3</td><td>Gwyneth_Paltrow  </td><td>1</td><td>Robert_Downey_Jr.</td></tr>\n",
              "\t<tr><td>3</td><td>Gwyneth_Paltrow  </td><td>3</td><td>Gwyneth_Paltrow  </td></tr>\n",
              "\t<tr><td>4</td><td>Tom_Holland      </td><td>1</td><td>Robert_Downey_Jr.</td></tr>\n",
              "\t<tr><td>4</td><td>Tom_Holland      </td><td>3</td><td>Gwyneth_Paltrow  </td></tr>\n",
              "</tbody>\n",
              "</table>\n"
            ]
          },
          "metadata": {
            "tags": []
          }
        }
      ]
    },
    {
      "cell_type": "code",
      "metadata": {
        "colab": {
          "base_uri": "https://localhost:8080/",
          "height": 160
        },
        "id": "KjyS1_XvtmCl",
        "outputId": "fef1d21e-e947-49f7-e00d-3242f629e475"
      },
      "source": [
        "filter(crossing(pelis_Watts,pelis_Favreau), aid_1==aid_2&anombre_1==anombre_2)[c(\"aid_1\",\"anombre_1\")]"
      ],
      "execution_count": 131,
      "outputs": [
        {
          "output_type": "display_data",
          "data": {
            "text/plain": [
              "  aid_1 anombre_1        \n",
              "1 1     Robert_Downey_Jr.\n",
              "2 3     Gwyneth_Paltrow  "
            ],
            "text/latex": "A tibble: 2 × 2\n\\begin{tabular}{ll}\n aid\\_1 & anombre\\_1\\\\\n <int> & <chr>\\\\\n\\hline\n\t 1 & Robert\\_Downey\\_Jr.\\\\\n\t 3 & Gwyneth\\_Paltrow  \\\\\n\\end{tabular}\n",
            "text/markdown": "\nA tibble: 2 × 2\n\n| aid_1 &lt;int&gt; | anombre_1 &lt;chr&gt; |\n|---|---|\n| 1 | Robert_Downey_Jr. |\n| 3 | Gwyneth_Paltrow   |\n\n",
            "text/html": [
              "<table class=\"dataframe\">\n",
              "<caption>A tibble: 2 × 2</caption>\n",
              "<thead>\n",
              "\t<tr><th scope=col>aid_1</th><th scope=col>anombre_1</th></tr>\n",
              "\t<tr><th scope=col>&lt;int&gt;</th><th scope=col>&lt;chr&gt;</th></tr>\n",
              "</thead>\n",
              "<tbody>\n",
              "\t<tr><td>1</td><td>Robert_Downey_Jr.</td></tr>\n",
              "\t<tr><td>3</td><td>Gwyneth_Paltrow  </td></tr>\n",
              "</tbody>\n",
              "</table>\n"
            ]
          },
          "metadata": {
            "tags": []
          }
        }
      ]
    },
    {
      "cell_type": "markdown",
      "metadata": {
        "id": "6aGlT0aCzogk"
      },
      "source": [
        "O bien"
      ]
    },
    {
      "cell_type": "code",
      "metadata": {
        "id": "klHdoLTFz9o5"
      },
      "source": [
        "pelis_Favreau<-filter(pelis_actor, director==\"Jon_Favreau\")[c(\"aid\",\"anombre\")]\n",
        "pelis_Watts<-filter(pelis_actor, director==\"Jon_Watts\")[c(\"aid\",\"anombre\")]\n"
      ],
      "execution_count": 132,
      "outputs": []
    },
    {
      "cell_type": "code",
      "metadata": {
        "colab": {
          "base_uri": "https://localhost:8080/",
          "height": 160
        },
        "id": "bdmeBdv-mzZ0",
        "outputId": "b8e9beb6-5495-488b-b920-92f8d218e2a4"
      },
      "source": [
        "intersect(pelis_Watts, pelis_Favreau) \n"
      ],
      "execution_count": 133,
      "outputs": [
        {
          "output_type": "display_data",
          "data": {
            "text/plain": [
              "  aid anombre          \n",
              "1 1   Robert_Downey_Jr.\n",
              "2 3   Gwyneth_Paltrow  "
            ],
            "text/latex": "A data.frame: 2 × 2\n\\begin{tabular}{ll}\n aid & anombre\\\\\n <int> & <chr>\\\\\n\\hline\n\t 1 & Robert\\_Downey\\_Jr.\\\\\n\t 3 & Gwyneth\\_Paltrow  \\\\\n\\end{tabular}\n",
            "text/markdown": "\nA data.frame: 2 × 2\n\n| aid &lt;int&gt; | anombre &lt;chr&gt; |\n|---|---|\n| 1 | Robert_Downey_Jr. |\n| 3 | Gwyneth_Paltrow   |\n\n",
            "text/html": [
              "<table class=\"dataframe\">\n",
              "<caption>A data.frame: 2 × 2</caption>\n",
              "<thead>\n",
              "\t<tr><th scope=col>aid</th><th scope=col>anombre</th></tr>\n",
              "\t<tr><th scope=col>&lt;int&gt;</th><th scope=col>&lt;chr&gt;</th></tr>\n",
              "</thead>\n",
              "<tbody>\n",
              "\t<tr><td>1</td><td>Robert_Downey_Jr.</td></tr>\n",
              "\t<tr><td>3</td><td>Gwyneth_Paltrow  </td></tr>\n",
              "</tbody>\n",
              "</table>\n"
            ]
          },
          "metadata": {
            "tags": []
          }
        }
      ]
    },
    {
      "cell_type": "markdown",
      "metadata": {
        "id": "zOOftRUN0bAm"
      },
      "source": [
        "#Diferencia\n",
        "\n",
        "Este operador calcula los elementos presentes en una relacion, pero no en otra.\n",
        "\n",
        "Calculemos los actores que han sido dirigidos por Watts pero no por Favreau"
      ]
    },
    {
      "cell_type": "code",
      "metadata": {
        "colab": {
          "base_uri": "https://localhost:8080/",
          "height": 129
        },
        "id": "EPIYcvE70aL9",
        "outputId": "5ca03023-7e56-4121-c576-b8ddcccce244"
      },
      "source": [
        "setdiff(pelis_Watts,pelis_Favreau)"
      ],
      "execution_count": 134,
      "outputs": [
        {
          "output_type": "display_data",
          "data": {
            "text/plain": [
              "  aid anombre    \n",
              "1 4   Tom_Holland"
            ],
            "text/latex": "A data.frame: 1 × 2\n\\begin{tabular}{ll}\n aid & anombre\\\\\n <int> & <chr>\\\\\n\\hline\n\t 4 & Tom\\_Holland\\\\\n\\end{tabular}\n",
            "text/markdown": "\nA data.frame: 1 × 2\n\n| aid &lt;int&gt; | anombre &lt;chr&gt; |\n|---|---|\n| 4 | Tom_Holland |\n\n",
            "text/html": [
              "<table class=\"dataframe\">\n",
              "<caption>A data.frame: 1 × 2</caption>\n",
              "<thead>\n",
              "\t<tr><th scope=col>aid</th><th scope=col>anombre</th></tr>\n",
              "\t<tr><th scope=col>&lt;int&gt;</th><th scope=col>&lt;chr&gt;</th></tr>\n",
              "</thead>\n",
              "<tbody>\n",
              "\t<tr><td>4</td><td>Tom_Holland</td></tr>\n",
              "</tbody>\n",
              "</table>\n"
            ]
          },
          "metadata": {
            "tags": []
          }
        }
      ]
    },
    {
      "cell_type": "code",
      "metadata": {
        "id": "adaw7Uniz0kD"
      },
      "source": [
        ""
      ],
      "execution_count": null,
      "outputs": []
    }
  ]
}