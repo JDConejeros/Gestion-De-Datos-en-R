{
  "nbformat": 4,
  "nbformat_minor": 0,
  "metadata": {
    "colab": {
      "name": "Tarea1_V2.ipynb",
      "provenance": [],
      "toc_visible": true,
      "authorship_tag": "ABX9TyPj3103+rDjjEJEZtSy2rLo",
      "include_colab_link": true
    },
    "kernelspec": {
      "name": "ir",
      "display_name": "R"
    },
    "language_info": {
      "name": "R"
    }
  },
  "cells": [
    {
      "cell_type": "markdown",
      "metadata": {
        "id": "view-in-github",
        "colab_type": "text"
      },
      "source": [
        "<a href=\"https://colab.research.google.com/github/maxigaarp/Gestion-De-Datos-en-R/blob/main/Tarea1_V2.ipynb\" target=\"_parent\"><img src=\"https://colab.research.google.com/assets/colab-badge.svg\" alt=\"Open In Colab\"/></a>"
      ]
    },
    {
      "cell_type": "markdown",
      "metadata": {
        "id": "eyvYcxtcsrIw"
      },
      "source": [
        "En las clases de gestión de datos hemos aprendido acerca de la eficiencia de bases de datos, modelos relacionales, visualizar información y unir diferentes bases de datos para obtener la mayor información posible. Esta tarea consistirá de dos preguntas las cuales deberá responder de forma completa (código, texto e imágenes explicativas). Puede entregar la tarea en el formato, que estime conveniente (doc, pdf, script de R, url de Colab) pero tenga en cuenta que debe adjuntar el código utilizado. Se recomiendo el uso de Colab R."
      ]
    },
    {
      "cell_type": "code",
      "metadata": {
        "id": "qzUtYtPYsxdK"
      },
      "source": [
        "#rendim2017 <- read.csv(\"http://datos.mineduc.cl/datasets/180324-rendimiento-escolar-ano-2017.download/\",row.names=NULL, sep=\";\")\n",
        "#rendim2018 <- read.csv(\"http://datos.mineduc.cl/datasets/189328-rendimiento-escolar-ano-2018.download/\",row.names=NULL, sep=\";\")\n",
        "\n",
        "## Hay un problema descargando directamente los datos desde la pagina de mineduc asi que subi los datos a mi google drive,\n",
        "## si es que les fallara pueden subirlo a su propio google drive o cargar los datos de manera directa a Google Colab R\n",
        "\n",
        "system(\"gdown https://drive.google.com/uc?id=1aARNSlskNDlnp95AMIfAnTQJticwxzVD\")\n",
        "system(\"gdown https://drive.google.com/uc?id=1mdr2SpmggrOQAOUDIUjRyE1hul_7YyY6\")\n"
      ],
      "execution_count": null,
      "outputs": []
    },
    {
      "cell_type": "code",
      "metadata": {
        "id": "s4tEtE5MC-yG"
      },
      "source": [
        "rendim2017 <- read.csv(\"/content/20180213_Rendimiento_2017_20180131_PUBL.csv\", sep=\";\")\n",
        "rendim2018 <- read.csv(\"/content/20190220_Rendimiento_2018_20190131_PUBL.csv\", sep=\";\")\n"
      ],
      "execution_count": null,
      "outputs": []
    },
    {
      "cell_type": "code",
      "metadata": {
        "id": "icY4iGrvv2-t"
      },
      "source": [
        "columnas2017 <- paste(names(rendim2017), \"2017\", sep = \"_\")\n",
        "columnas2018 <- paste(names(rendim2018), \"2018\", sep = \"_\")\n",
        "\n",
        "rendim_17_18 <- data.frame(matrix(ncol = 71, nrow = 0))\n",
        "nombres_columnas <- c(columnas2017, columnas2018)\n",
        "colnames(rendim_17_18) <- nombres_columnas"
      ],
      "execution_count": null,
      "outputs": []
    },
    {
      "cell_type": "markdown",
      "metadata": {
        "id": "f9_JpNyds5Gp"
      },
      "source": [
        "# Problema 1 (1.5 Pts)\n",
        "\n",
        "En el taller, revisamos el siguiente código para hacer un join\n",
        " de dos bases de datos que compartieran un identificador."
      ]
    },
    {
      "cell_type": "code",
      "metadata": {
        "id": "WxqPy4ETtsCP"
      },
      "source": [
        "ciclo1 <- 3000\n",
        "ciclo2 <- 3000\n",
        "n <- 1\n",
        "\n",
        "for(i in 1:ciclo1){\n",
        "  mrun <- rendim2017$mrun[i]\n",
        "  for(j in 1:ciclo2){\n",
        "    mrun2 <- rendim2018$MRUN[j]\n",
        "      if(mrun == mrun2){\n",
        "        fila <- c(as.character(rendim2017[i,]), as.character(rendim2018[j,]))\n",
        "        rendim_17_18[n, ] <- fila\n",
        "        n <- n+1\n",
        "    }\n",
        "  }\n",
        "}"
      ],
      "execution_count": null,
      "outputs": []
    },
    {
      "cell_type": "markdown",
      "metadata": {
        "id": "q2OkzNb5xm9t"
      },
      "source": [
        "Suponga que usted tiene un disco duro con dos bases de datos con 3000 filas cada una que ocupan 300 paginas de disco cada una, en otras palabras cada pagina tiene 10 tuplas. Por otro lado usted tiene una memoria RAM de 101 páginas de almacenamiento. \n"
      ]
    },
    {
      "cell_type": "markdown",
      "metadata": {
        "id": "CQhePtdjxqRM"
      },
      "source": [
        "(a) (0.5 pts) Dibuje el diagrama de flujo del algoritmo.\n"
      ]
    },
    {
      "cell_type": "markdown",
      "metadata": {
        "id": "7P5e9XT4x8Rm"
      },
      "source": [
        ""
      ]
    },
    {
      "cell_type": "code",
      "metadata": {
        "id": "hvpNjDkKxmfR"
      },
      "source": [
        ""
      ],
      "execution_count": null,
      "outputs": []
    },
    {
      "cell_type": "markdown",
      "metadata": {
        "id": "OOTXOGTPxvYk"
      },
      "source": [
        "(b) (0.5 pts) Cuente la cantidad de paginas que se deben ir a buscar desde el disco duro para almacenarlas en memoria de la forma que esta escrito actualmente el algoritmo."
      ]
    },
    {
      "cell_type": "markdown",
      "metadata": {
        "id": "lVxmrH3kx9AJ"
      },
      "source": [
        ""
      ]
    },
    {
      "cell_type": "code",
      "metadata": {
        "id": "eXeuWpeRx39C"
      },
      "source": [
        ""
      ],
      "execution_count": null,
      "outputs": []
    },
    {
      "cell_type": "markdown",
      "metadata": {
        "id": "9xTKKdTrx3FX"
      },
      "source": [
        "(c) (0.5 pts) Plantee y programe una forma para reducir las lecturas a disco a al menos 1300 páginas. El algoritmo que requiera menos consultas del curso tendrá un bonus de 0.5 puntos."
      ]
    },
    {
      "cell_type": "markdown",
      "metadata": {
        "id": "CNI82FlQx_s7"
      },
      "source": [
        ""
      ]
    },
    {
      "cell_type": "code",
      "metadata": {
        "id": "udagmf48x_6T"
      },
      "source": [
        ""
      ],
      "execution_count": null,
      "outputs": []
    },
    {
      "cell_type": "markdown",
      "metadata": {
        "id": "DMtFuhPOyBvh"
      },
      "source": [
        "#Problema 2 (1.5 pts)\n",
        "\n",
        "(a) (0.7 pts) Descarga la base de datos de Cargos Docentes del año 2015 en R. Crea dos tablas distintas: una para el establecimiento y la otra para los docentes, además agrega con los 4 atributos más importantes en cada relación. Además crea una tabla ''trabaja\\_en'' que vincule el docente con el establecimiento. Notese que buscamos reducir el tamaño de la información por lo que en las tablas no deberían aparecer valores duplicados."
      ]
    },
    {
      "cell_type": "code",
      "metadata": {
        "id": "ty0nFFE1y93D"
      },
      "source": [
        "#docentes2015 <- read.csv(\"http://datos.mineduc.cl/datasets/176034-directorio-oficial-de-docentes-2015.download/\")\n",
        "\n",
        "## Hay un problema descargando directamente los datos desde la pagina de mineduc asi que subi los datos a mi google drive,\n",
        "## si es que les fallara pueden subirlo a su propio google drive o cargar los datos de manera directa a Google Colab R\n",
        "\n",
        "docentes2015 <- read.csv(\"https://drive.google.com/uc?id=1_cXZSUur89uZi49hSwI8DNyx1xrB0G7L\", sep=\";\")\n",
        "\n"
      ],
      "execution_count": null,
      "outputs": []
    },
    {
      "cell_type": "code",
      "metadata": {
        "id": "lK3CFM0EzKXr",
        "colab": {
          "base_uri": "https://localhost:8080/",
          "height": 1000
        },
        "outputId": "dfbdbd53-df77-420b-8ab3-99dc19d97818"
      },
      "source": [
        "docentes2015"
      ],
      "execution_count": null,
      "outputs": [
        {
          "output_type": "display_data",
          "data": {
            "text/plain": [
              "       AGNO RBD   DGV_RBD\n",
              "1      2015   112 0      \n",
              "2      2015  2945 9      \n",
              "3      2015  2973 4      \n",
              "4      2015 25304 9      \n",
              "5      2015  9853 1      \n",
              "6      2015 16689 8      \n",
              "7      2015  9527 3      \n",
              "8      2015  2105 9      \n",
              "9      2015  2164 4      \n",
              "10     2015  2200 4      \n",
              "11     2015  7346 6      \n",
              "12     2015  9788 8      \n",
              "13     2015  1482 6      \n",
              "14     2015 13633 6      \n",
              "15     2015  4999 9      \n",
              "16     2015  1149 5      \n",
              "17     2015  4569 1      \n",
              "18     2015 11223 2      \n",
              "19     2015  8757 2      \n",
              "20     2015  3328 6      \n",
              "21     2015 10338 1      \n",
              "22     2015 11277 1      \n",
              "23     2015 25202 6      \n",
              "24     2015  1707 8      \n",
              "25     2015   322 0      \n",
              "26     2015  3058 9      \n",
              "27     2015  4061 4      \n",
              "28     2015  6497 1      \n",
              "29     2015  8161 2      \n",
              "30     2015 26476 8      \n",
              "⋮      ⋮    ⋮     ⋮      \n",
              "242944 2015 10259 8      \n",
              "242945 2015 25717 6      \n",
              "242946 2015  9864 7      \n",
              "242947 2015 24212 8      \n",
              "242948 2015  5648 0      \n",
              "242949 2015  5649 9      \n",
              "242950 2015  2013 3      \n",
              "242951 2015  5202 7      \n",
              "242952 2015 26250 1      \n",
              "242953 2015 12037 5      \n",
              "242954 2015 16580 8      \n",
              "242955 2015 18249 4      \n",
              "242956 2015  1607 1      \n",
              "242957 2015  3068 6      \n",
              "242958 2015 20258 4      \n",
              "242959 2015  9072 7      \n",
              "242960 2015 12153 3      \n",
              "242961 2015  9328 9      \n",
              "242962 2015 22029 9      \n",
              "242963 2015 10743 3      \n",
              "242964 2015  1911 9      \n",
              "242965 2015  4574 8      \n",
              "242966 2015 14466 5      \n",
              "242967 2015  2999 8      \n",
              "242968 2015  1403 6      \n",
              "242969 2015 11594 0      \n",
              "242970 2015  9069 7      \n",
              "242971 2015   691 2      \n",
              "242972 2015   694 7      \n",
              "242973 2015 25591 2      \n",
              "       NOM_RBD                                                      COD_REG_RBD\n",
              "1      ESCUELA EDUARDO LLANOS                                        1         \n",
              "2      ESCUELA PROSPERIDAD                                           7         \n",
              "3      LICEO ABATE MOLINA                                            7         \n",
              "4      COLEGIO PAUL HARRIS SCHOOL                                   13         \n",
              "5      COLEGIO POLIV. SAINT TRINITY COLLEGE                         13         \n",
              "6      COLEGIO ESPECIAL DE DISCAPACIDADES MULTIPLES                  7         \n",
              "7      ESCUELA PARTICULAR ECOLE NOEL                                13         \n",
              "8      LICEO INDUSTRIAL ERNESTO PINTO LAGARRIGUE                     6         \n",
              "9      COLEGIO PARTICULAR GABRIELA MISTRAL                           6         \n",
              "10     INSTITUTO O\\xb4HIGGINS                                        6         \n",
              "11     ESCUELA N. 46 ITALIA                                         10         \n",
              "12     ESCUELA PARTICULAR GRACIELA L.DE IBANEZ                      13         \n",
              "13     COLEGIO LIMACHE COLLEGE                                       5         \n",
              "14     ESCUELA SAN MARINO COLLEGE                                    4         \n",
              "15     ESCUELA BASICA RAMON FREIRE SERRANO                           8         \n",
              "16     LICEO CORDILLERA                                              5         \n",
              "17     ESCUELA DIEGO PORTALES PALAZUELOS                             8         \n",
              "18     COLEGIO ITALIANO                                              5         \n",
              "19     COLEGIO DE LOS SAGRADOS CORAZONES ALAMEDA                    13         \n",
              "20     LICEO CAPITAN IGNACIO CARRERA PINTO                           7         \n",
              "21     ESCUELA BASICA SANTO DOMINGO                                 13         \n",
              "22     ESCUELA GABRIELA MISTRAL                                      6         \n",
              "23     COLEGIO  PUMAHUE HUECHURABA                                  13         \n",
              "24     ESCUELA MINISTRO ZENTENO                                      5         \n",
              "25     ESCUELA GENERAL MANUEL BAQUEDANO                              2         \n",
              "26     ESCUELA AURORA                                                7         \n",
              "27     ESCUELA BASICA AMERICA                                        8         \n",
              "28     COMPLEJO EDUCACIONAL CLAUDIO ARRAU LEON                       9         \n",
              "29     ESCUELA BASICA DALCAHUE                                      10         \n",
              "30     COLEGIO BOSTON COLLEGE HUECHURABA                            13         \n",
              "⋮      ⋮                                                            ⋮          \n",
              "242944 LICEO AGUSTIN EDWARDS                                        13         \n",
              "242945 COLEGIO ALC\\xc1NTARA DE LOS ALTOS DE PE\\xd1ALOLEN            13         \n",
              "242946 LICEO JOSE IGNACIO ZENTENO                                   13         \n",
              "242947 COLEGIO ALIANZA AUSTRAL DE COYHAIQUE                         11         \n",
              "242948 ESCUELA CHAPOD                                                9         \n",
              "242949 ESCUELA FUNDO MAQUEHUE                                        9         \n",
              "242950 INST.COMERCIAL MARITIMO PACIFICO SUR                          5         \n",
              "242951 ESCUELA MAPODUNGUN                                            8         \n",
              "242952 ESCUELA BAS. MISIONERO DE AGOSTINI                           13         \n",
              "242953 LICEO POLIVALENTE HERMANAS MAESTRAS DE LA SANTA CRUZ          8         \n",
              "242954 ESC. PASO INTERNACIONAL PEHUENCHE                             7         \n",
              "242955 COLEGIO INSTITUTO CRISTIANO GRACIA Y PAZ                      8         \n",
              "242956 COLEGIO TERESITA DE LISIEUX                                   5         \n",
              "242957 ESCUELA BELLA UNION                                           7         \n",
              "242958 LICEO CUMBRES DE LABRANZA                                     9         \n",
              "242959 LICEO VILLA MACUL ACADEMIA EX LICEO JUANA DE IBARBOUROU A 48 13         \n",
              "242960 ESCUELA PARTICULAR GUILLERMO TELL                             5         \n",
              "242961 COLEGIO POLIV. SAN SEBASTIAN DE LA FLORIDA                   13         \n",
              "242962 COLEGIO STAR COLLEGE                                         10         \n",
              "242963 INSTITUTO SAN FRANCISCO                                      13         \n",
              "242964 COLEGIO CREP                                                  5         \n",
              "242965 COLEGIO ESPA\\xd1A                                             8         \n",
              "242966 COLEGIO ALBORADA DE CURAUMA                                   5         \n",
              "242967 COLEGIO CAMILO HENRIQUEZ                                      7         \n",
              "242968 COL.NTRA.SE\\xd1ORA DEL HUERTO                                 5         \n",
              "242969 COLEGIO ANTILLANCA                                           10         \n",
              "242970 LICEO POLIVALENTE MERCEDES MARIN DEL SOLAR                   13         \n",
              "242971 ESCUELA MUNICIPAL CIELO CLARO--PAIHUANO                       4         \n",
              "242972 ESCUELA GABRIELA MISTRAL                                      4         \n",
              "242973 LICEO TECNICO PROFESIONAL DE BUIN                            13         \n",
              "       COD_PRO_RBD COD_COM_RBD NOM_COM_RBD     COD_DEPROV_RBD\n",
              "1       11          1101       IQUIQUE          11           \n",
              "2       71          7101       TALCA            72           \n",
              "3       71          7101       TALCA            72           \n",
              "4      131         13105       EL BOSQUE       132           \n",
              "5      131         13116       LO ESPEJO       132           \n",
              "6       71          7101       TALCA            72           \n",
              "7      131         13130       SAN MIGUEL      131           \n",
              "8       61          6101       RANCAGUA         61           \n",
              "9       61          6101       RANCAGUA         61           \n",
              "10      61          6101       RANCAGUA         61           \n",
              "11     103         10301       OSORNO          103           \n",
              "12     131         13109       LA CISTERNA     132           \n",
              "13      58          5802       LIMACHE          51           \n",
              "14      41          4102       COQUIMBO         41           \n",
              "15      81          8102       CORONEL          83           \n",
              "16      54          5404       PETORCA          51           \n",
              "17      81          8101       CONCEPCI\\xd3N    83           \n",
              "18      58          5802       LIMACHE          51           \n",
              "19     131         13101       SANTIAGO        131           \n",
              "20      74          7402       COLB\\xdaN        73           \n",
              "21     131         13127       RECOLETA        137           \n",
              "22      61          6110       MOSTAZAL         61           \n",
              "23     131         13107       HUECHURABA      137           \n",
              "24      51          5109       VI\\xd1A DEL MAR  53           \n",
              "25      21          2101       ANTOFAGASTA      21           \n",
              "26      71          7109       SAN CLEMENTE     72           \n",
              "27      84          8415       R\\xc1NQUIL       81           \n",
              "28      91          9102       CARAHUE          92           \n",
              "29     102         10205       DALCAHUE        102           \n",
              "30     131         13107       HUECHURABA      137           \n",
              "⋮      ⋮           ⋮           ⋮               ⋮             \n",
              "242944 131         13104       CONCHAL\\xcd     137           \n",
              "242945 131         13122       PE\\xd1ALOL\\xc9N 133           \n",
              "242946 131         13119       MAIP\\xda        134           \n",
              "242947 111         11101       COYHAIQUE       111           \n",
              "242948  91          9112       PADRE LAS CASAS  93           \n",
              "242949  91          9112       PADRE LAS CASAS  93           \n",
              "242950  56          5601       SAN ANTONIO      54           \n",
              "242951  82          8207       TIR\\xdaA         84           \n",
              "242952 131         13112       LA PINTANA      136           \n",
              "242953  83          8304       LAJA             82           \n",
              "242954  71          7109       SAN CLEMENTE     72           \n",
              "242955  83          8301       LOS \\xc1NGELES   82           \n",
              "242956  51          5101       VALPARA\\xcdSO    53           \n",
              "242957  71          7109       SAN CLEMENTE     72           \n",
              "242958  91          9101       TEMUCO           92           \n",
              "242959 131         13118       MACUL           133           \n",
              "242960  51          5109       VI\\xd1A DEL MAR  53           \n",
              "242961 131         13110       LA FLORIDA      136           \n",
              "242962 103         10301       OSORNO          103           \n",
              "242963 136         13602       EL MONTE        135           \n",
              "242964  58          5801       QUILPU\\xc9       53           \n",
              "242965  81          8101       CONCEPCI\\xd3N    83           \n",
              "242966  51          5101       VALPARA\\xcdSO    53           \n",
              "242967  71          7101       TALCA            72           \n",
              "242968  55          5501       QUILLOTA         51           \n",
              "242969 103         10301       OSORNO          103           \n",
              "242970 131         13118       MACUL           133           \n",
              "242971  41          4105       PAIGUANO         41           \n",
              "242972  41          4105       PAIGUANO         41           \n",
              "242973 134         13402       BUIN            132           \n",
              "       NOM_DEPROV_RBD              ⋯ GRADO.11_2 GRADO.12_2 GRADO.13_2\n",
              "1      IQUIQUE                     ⋯ NA         NA         NA        \n",
              "2      TALCA                       ⋯ NA         NA         NA        \n",
              "3      TALCA                       ⋯ NA         NA         NA        \n",
              "4      SUR                         ⋯ NA         NA         NA        \n",
              "5      SUR                         ⋯ NA         NA         NA        \n",
              "6      TALCA                       ⋯ NA         NA         NA        \n",
              "7      CENTRO                      ⋯ NA         NA         NA        \n",
              "8      CACHAPOAL                   ⋯ NA         NA         NA        \n",
              "9      CACHAPOAL                   ⋯ NA         NA         NA        \n",
              "10     CACHAPOAL                   ⋯ NA         NA         NA        \n",
              "11     OSORNO                      ⋯ NA         NA         NA        \n",
              "12     SUR                         ⋯ NA         NA         NA        \n",
              "13     QUILLOTA - PETORCA          ⋯ NA         NA         NA        \n",
              "14     ELQUI                       ⋯  0          0          0        \n",
              "15     CONCEPCION                  ⋯ NA         NA         NA        \n",
              "16     QUILLOTA - PETORCA          ⋯ NA         NA         NA        \n",
              "17     CONCEPCION                  ⋯  0          0          0        \n",
              "18     QUILLOTA - PETORCA          ⋯  0          0          0        \n",
              "19     CENTRO                      ⋯ NA         NA         NA        \n",
              "20     LINARES                     ⋯ NA         NA         NA        \n",
              "21     NORTE                       ⋯ NA         NA         NA        \n",
              "22     CACHAPOAL                   ⋯ NA         NA         NA        \n",
              "23     NORTE                       ⋯  0          0          0        \n",
              "24     VALPARAISO - ISLA DE PASCUA ⋯ NA         NA         NA        \n",
              "25     ANTOFAGASTA                 ⋯ NA         NA         NA        \n",
              "26     TALCA                       ⋯ NA         NA         NA        \n",
              "27     NUBLE                       ⋯  0          0          0        \n",
              "28     CAUTIN NORTE                ⋯ NA         NA         NA        \n",
              "29     CHILOE                      ⋯ NA         NA         NA        \n",
              "30     NORTE                       ⋯ NA         NA         NA        \n",
              "⋮      ⋮                           ⋱ ⋮          ⋮          ⋮         \n",
              "242944 NORTE                       ⋯ NA         NA         NA        \n",
              "242945 ORIENTE                     ⋯  0          0          0        \n",
              "242946 PONIENTE                    ⋯ NA         NA         NA        \n",
              "242947 COYHAIQUE                   ⋯ NA         NA         NA        \n",
              "242948 CAUTIN SUR                  ⋯ NA         NA         NA        \n",
              "242949 CAUTIN SUR                  ⋯ NA         NA         NA        \n",
              "242950 SAN ANTONIO                 ⋯ NA         NA         NA        \n",
              "242951 ARAUCO                      ⋯ NA         NA         NA        \n",
              "242952 CORDILLERA                  ⋯ NA         NA         NA        \n",
              "242953 BIO BIO                     ⋯ NA         NA         NA        \n",
              "242954 TALCA                       ⋯ NA         NA         NA        \n",
              "242955 BIO BIO                     ⋯ NA         NA         NA        \n",
              "242956 VALPARAISO - ISLA DE PASCUA ⋯ NA         NA         NA        \n",
              "242957 TALCA                       ⋯  0          0          0        \n",
              "242958 CAUTIN NORTE                ⋯  0          0          0        \n",
              "242959 ORIENTE                     ⋯ NA         NA         NA        \n",
              "242960 VALPARAISO - ISLA DE PASCUA ⋯ NA         NA         NA        \n",
              "242961 CORDILLERA                  ⋯  0          0          0        \n",
              "242962 OSORNO                      ⋯  0          0          0        \n",
              "242963 TALAGANTE                   ⋯ NA         NA         NA        \n",
              "242964 VALPARAISO - ISLA DE PASCUA ⋯  0          0          0        \n",
              "242965 CONCEPCION                  ⋯ NA         NA         NA        \n",
              "242966 VALPARAISO - ISLA DE PASCUA ⋯  0          0          0        \n",
              "242967 TALCA                       ⋯ NA         NA         NA        \n",
              "242968 QUILLOTA - PETORCA          ⋯ NA         NA         NA        \n",
              "242969 OSORNO                      ⋯ NA         NA         NA        \n",
              "242970 ORIENTE                     ⋯ NA         NA         NA        \n",
              "242971 ELQUI                       ⋯ NA         NA         NA        \n",
              "242972 ELQUI                       ⋯ NA         NA         NA        \n",
              "242973 SUR                         ⋯ NA         NA         NA        \n",
              "       GRADO.14_2 GRADO.15_2 GRADO.16_2 GRADO.17_2 GRADO.18_2 GRADO.19_2\n",
              "1      NA         NA         NA         NA         NA         NA        \n",
              "2      NA         NA         NA         NA         NA         NA        \n",
              "3      NA         NA         NA         NA         NA         NA        \n",
              "4      NA         NA         NA         NA         NA         NA        \n",
              "5      NA         NA         NA         NA         NA         NA        \n",
              "6      NA         NA         NA         NA         NA         NA        \n",
              "7      NA         NA         NA         NA         NA         NA        \n",
              "8      NA         NA         NA         NA         NA         NA        \n",
              "9      NA         NA         NA         NA         NA         NA        \n",
              "10     NA         NA         NA         NA         NA         NA        \n",
              "11     NA         NA         NA         NA         NA         NA        \n",
              "12     NA         NA         NA         NA         NA         NA        \n",
              "13     NA         NA         NA         NA         NA         NA        \n",
              "14      0          0          0          0          0          0        \n",
              "15     NA         NA         NA         NA         NA         NA        \n",
              "16     NA         NA         NA         NA         NA         NA        \n",
              "17      0          0          0          0          0          0        \n",
              "18      0          0          0          0          0          0        \n",
              "19     NA         NA         NA         NA         NA         NA        \n",
              "20     NA         NA         NA         NA         NA         NA        \n",
              "21     NA         NA         NA         NA         NA         NA        \n",
              "22     NA         NA         NA         NA         NA         NA        \n",
              "23      0          0          0          0          0          0        \n",
              "24     NA         NA         NA         NA         NA         NA        \n",
              "25     NA         NA         NA         NA         NA         NA        \n",
              "26     NA         NA         NA         NA         NA         NA        \n",
              "27      0          0          0          0          0          0        \n",
              "28     NA         NA         NA         NA         NA         NA        \n",
              "29     NA         NA         NA         NA         NA         NA        \n",
              "30     NA         NA         NA         NA         NA         NA        \n",
              "⋮      ⋮          ⋮          ⋮          ⋮          ⋮          ⋮         \n",
              "242944 NA         NA         NA         NA         NA         NA        \n",
              "242945  0          0          0          0          0          0        \n",
              "242946 NA         NA         NA         NA         NA         NA        \n",
              "242947 NA         NA         NA         NA         NA         NA        \n",
              "242948 NA         NA         NA         NA         NA         NA        \n",
              "242949 NA         NA         NA         NA         NA         NA        \n",
              "242950 NA         NA         NA         NA         NA         NA        \n",
              "242951 NA         NA         NA         NA         NA         NA        \n",
              "242952 NA         NA         NA         NA         NA         NA        \n",
              "242953 NA         NA         NA         NA         NA         NA        \n",
              "242954 NA         NA         NA         NA         NA         NA        \n",
              "242955 NA         NA         NA         NA         NA         NA        \n",
              "242956 NA         NA         NA         NA         NA         NA        \n",
              "242957  0          0          0          0          0          0        \n",
              "242958  0          0          0          0          0          0        \n",
              "242959 NA         NA         NA         NA         NA         NA        \n",
              "242960 NA         NA         NA         NA         NA         NA        \n",
              "242961  0          0          0          0          0          0        \n",
              "242962  0          0          0          0          0          0        \n",
              "242963 NA         NA         NA         NA         NA         NA        \n",
              "242964  0          0          0          0          0          0        \n",
              "242965 NA         NA         NA         NA         NA         NA        \n",
              "242966  0          0          0          0          0          0        \n",
              "242967 NA         NA         NA         NA         NA         NA        \n",
              "242968 NA         NA         NA         NA         NA         NA        \n",
              "242969 NA         NA         NA         NA         NA         NA        \n",
              "242970 NA         NA         NA         NA         NA         NA        \n",
              "242971 NA         NA         NA         NA         NA         NA        \n",
              "242972 NA         NA         NA         NA         NA         NA        \n",
              "242973 NA         NA         NA         NA         NA         NA        \n",
              "       PERSONAS\n",
              "1      1       \n",
              "2      0       \n",
              "3      1       \n",
              "4      1       \n",
              "5      1       \n",
              "6      1       \n",
              "7      1       \n",
              "8      0       \n",
              "9      1       \n",
              "10     1       \n",
              "11     1       \n",
              "12     1       \n",
              "13     1       \n",
              "14     1       \n",
              "15     1       \n",
              "16     1       \n",
              "17     1       \n",
              "18     1       \n",
              "19     1       \n",
              "20     1       \n",
              "21     1       \n",
              "22     1       \n",
              "23     1       \n",
              "24     1       \n",
              "25     1       \n",
              "26     1       \n",
              "27     1       \n",
              "28     1       \n",
              "29     1       \n",
              "30     1       \n",
              "⋮      ⋮       \n",
              "242944 1       \n",
              "242945 1       \n",
              "242946 1       \n",
              "242947 1       \n",
              "242948 1       \n",
              "242949 0       \n",
              "242950 1       \n",
              "242951 1       \n",
              "242952 1       \n",
              "242953 1       \n",
              "242954 1       \n",
              "242955 1       \n",
              "242956 1       \n",
              "242957 1       \n",
              "242958 1       \n",
              "242959 1       \n",
              "242960 1       \n",
              "242961 1       \n",
              "242962 1       \n",
              "242963 1       \n",
              "242964 1       \n",
              "242965 1       \n",
              "242966 1       \n",
              "242967 1       \n",
              "242968 1       \n",
              "242969 1       \n",
              "242970 1       \n",
              "242971 1       \n",
              "242972 0       \n",
              "242973 1       "
            ],
            "text/latex": "A data.frame: 242973 × 149\n\\begin{tabular}{lllllllllllllllllllll}\n AGNO & RBD & DGV\\_RBD & NOM\\_RBD & COD\\_REG\\_RBD & COD\\_PRO\\_RBD & COD\\_COM\\_RBD & NOM\\_COM\\_RBD & COD\\_DEPROV\\_RBD & NOM\\_DEPROV\\_RBD & ⋯ & GRADO.11\\_2 & GRADO.12\\_2 & GRADO.13\\_2 & GRADO.14\\_2 & GRADO.15\\_2 & GRADO.16\\_2 & GRADO.17\\_2 & GRADO.18\\_2 & GRADO.19\\_2 & PERSONAS\\\\\n <int> & <int> & <int> & <chr> & <int> & <int> & <int> & <chr> & <int> & <chr> & ⋯ & <int> & <int> & <int> & <int> & <int> & <int> & <int> & <int> & <int> & <int>\\\\\n\\hline\n\t 2015 &   112 & 0 & ESCUELA EDUARDO LLANOS                       &  1 &  11 &  1101 & IQUIQUE         &  11 & IQUIQUE                     & ⋯ & NA & NA & NA & NA & NA & NA & NA & NA & NA & 1\\\\\n\t 2015 &  2945 & 9 & ESCUELA PROSPERIDAD                          &  7 &  71 &  7101 & TALCA           &  72 & TALCA                       & ⋯ & NA & NA & NA & NA & NA & NA & NA & NA & NA & 0\\\\\n\t 2015 &  2973 & 4 & LICEO ABATE MOLINA                           &  7 &  71 &  7101 & TALCA           &  72 & TALCA                       & ⋯ & NA & NA & NA & NA & NA & NA & NA & NA & NA & 1\\\\\n\t 2015 & 25304 & 9 & COLEGIO PAUL HARRIS SCHOOL                   & 13 & 131 & 13105 & EL BOSQUE       & 132 & SUR                         & ⋯ & NA & NA & NA & NA & NA & NA & NA & NA & NA & 1\\\\\n\t 2015 &  9853 & 1 & COLEGIO POLIV. SAINT TRINITY COLLEGE         & 13 & 131 & 13116 & LO ESPEJO       & 132 & SUR                         & ⋯ & NA & NA & NA & NA & NA & NA & NA & NA & NA & 1\\\\\n\t 2015 & 16689 & 8 & COLEGIO ESPECIAL DE DISCAPACIDADES MULTIPLES &  7 &  71 &  7101 & TALCA           &  72 & TALCA                       & ⋯ & NA & NA & NA & NA & NA & NA & NA & NA & NA & 1\\\\\n\t 2015 &  9527 & 3 & ESCUELA PARTICULAR ECOLE NOEL                & 13 & 131 & 13130 & SAN MIGUEL      & 131 & CENTRO                      & ⋯ & NA & NA & NA & NA & NA & NA & NA & NA & NA & 1\\\\\n\t 2015 &  2105 & 9 & LICEO INDUSTRIAL ERNESTO PINTO LAGARRIGUE    &  6 &  61 &  6101 & RANCAGUA        &  61 & CACHAPOAL                   & ⋯ & NA & NA & NA & NA & NA & NA & NA & NA & NA & 0\\\\\n\t 2015 &  2164 & 4 & COLEGIO PARTICULAR GABRIELA MISTRAL          &  6 &  61 &  6101 & RANCAGUA        &  61 & CACHAPOAL                   & ⋯ & NA & NA & NA & NA & NA & NA & NA & NA & NA & 1\\\\\n\t 2015 &  2200 & 4 & INSTITUTO O<b4>HIGGINS                       &  6 &  61 &  6101 & RANCAGUA        &  61 & CACHAPOAL                   & ⋯ & NA & NA & NA & NA & NA & NA & NA & NA & NA & 1\\\\\n\t 2015 &  7346 & 6 & ESCUELA N. 46 ITALIA                         & 10 & 103 & 10301 & OSORNO          & 103 & OSORNO                      & ⋯ & NA & NA & NA & NA & NA & NA & NA & NA & NA & 1\\\\\n\t 2015 &  9788 & 8 & ESCUELA PARTICULAR GRACIELA L.DE IBANEZ      & 13 & 131 & 13109 & LA CISTERNA     & 132 & SUR                         & ⋯ & NA & NA & NA & NA & NA & NA & NA & NA & NA & 1\\\\\n\t 2015 &  1482 & 6 & COLEGIO LIMACHE COLLEGE                      &  5 &  58 &  5802 & LIMACHE         &  51 & QUILLOTA - PETORCA          & ⋯ & NA & NA & NA & NA & NA & NA & NA & NA & NA & 1\\\\\n\t 2015 & 13633 & 6 & ESCUELA SAN MARINO COLLEGE                   &  4 &  41 &  4102 & COQUIMBO        &  41 & ELQUI                       & ⋯ &  0 &  0 &  0 &  0 &  0 &  0 &  0 &  0 &  0 & 1\\\\\n\t 2015 &  4999 & 9 & ESCUELA BASICA RAMON FREIRE SERRANO          &  8 &  81 &  8102 & CORONEL         &  83 & CONCEPCION                  & ⋯ & NA & NA & NA & NA & NA & NA & NA & NA & NA & 1\\\\\n\t 2015 &  1149 & 5 & LICEO CORDILLERA                             &  5 &  54 &  5404 & PETORCA         &  51 & QUILLOTA - PETORCA          & ⋯ & NA & NA & NA & NA & NA & NA & NA & NA & NA & 1\\\\\n\t 2015 &  4569 & 1 & ESCUELA DIEGO PORTALES PALAZUELOS            &  8 &  81 &  8101 & CONCEPCI<d3>N   &  83 & CONCEPCION                  & ⋯ &  0 &  0 &  0 &  0 &  0 &  0 &  0 &  0 &  0 & 1\\\\\n\t 2015 & 11223 & 2 & COLEGIO ITALIANO                             &  5 &  58 &  5802 & LIMACHE         &  51 & QUILLOTA - PETORCA          & ⋯ &  0 &  0 &  0 &  0 &  0 &  0 &  0 &  0 &  0 & 1\\\\\n\t 2015 &  8757 & 2 & COLEGIO DE LOS SAGRADOS CORAZONES ALAMEDA    & 13 & 131 & 13101 & SANTIAGO        & 131 & CENTRO                      & ⋯ & NA & NA & NA & NA & NA & NA & NA & NA & NA & 1\\\\\n\t 2015 &  3328 & 6 & LICEO CAPITAN IGNACIO CARRERA PINTO          &  7 &  74 &  7402 & COLB<da>N       &  73 & LINARES                     & ⋯ & NA & NA & NA & NA & NA & NA & NA & NA & NA & 1\\\\\n\t 2015 & 10338 & 1 & ESCUELA BASICA SANTO DOMINGO                 & 13 & 131 & 13127 & RECOLETA        & 137 & NORTE                       & ⋯ & NA & NA & NA & NA & NA & NA & NA & NA & NA & 1\\\\\n\t 2015 & 11277 & 1 & ESCUELA GABRIELA MISTRAL                     &  6 &  61 &  6110 & MOSTAZAL        &  61 & CACHAPOAL                   & ⋯ & NA & NA & NA & NA & NA & NA & NA & NA & NA & 1\\\\\n\t 2015 & 25202 & 6 & COLEGIO  PUMAHUE HUECHURABA                  & 13 & 131 & 13107 & HUECHURABA      & 137 & NORTE                       & ⋯ &  0 &  0 &  0 &  0 &  0 &  0 &  0 &  0 &  0 & 1\\\\\n\t 2015 &  1707 & 8 & ESCUELA MINISTRO ZENTENO                     &  5 &  51 &  5109 & VI<d1>A DEL MAR &  53 & VALPARAISO - ISLA DE PASCUA & ⋯ & NA & NA & NA & NA & NA & NA & NA & NA & NA & 1\\\\\n\t 2015 &   322 & 0 & ESCUELA GENERAL MANUEL BAQUEDANO             &  2 &  21 &  2101 & ANTOFAGASTA     &  21 & ANTOFAGASTA                 & ⋯ & NA & NA & NA & NA & NA & NA & NA & NA & NA & 1\\\\\n\t 2015 &  3058 & 9 & ESCUELA AURORA                               &  7 &  71 &  7109 & SAN CLEMENTE    &  72 & TALCA                       & ⋯ & NA & NA & NA & NA & NA & NA & NA & NA & NA & 1\\\\\n\t 2015 &  4061 & 4 & ESCUELA BASICA AMERICA                       &  8 &  84 &  8415 & R<c1>NQUIL      &  81 & NUBLE                       & ⋯ &  0 &  0 &  0 &  0 &  0 &  0 &  0 &  0 &  0 & 1\\\\\n\t 2015 &  6497 & 1 & COMPLEJO EDUCACIONAL CLAUDIO ARRAU LEON      &  9 &  91 &  9102 & CARAHUE         &  92 & CAUTIN NORTE                & ⋯ & NA & NA & NA & NA & NA & NA & NA & NA & NA & 1\\\\\n\t 2015 &  8161 & 2 & ESCUELA BASICA DALCAHUE                      & 10 & 102 & 10205 & DALCAHUE        & 102 & CHILOE                      & ⋯ & NA & NA & NA & NA & NA & NA & NA & NA & NA & 1\\\\\n\t 2015 & 26476 & 8 & COLEGIO BOSTON COLLEGE HUECHURABA            & 13 & 131 & 13107 & HUECHURABA      & 137 & NORTE                       & ⋯ & NA & NA & NA & NA & NA & NA & NA & NA & NA & 1\\\\\n\t ⋮ & ⋮ & ⋮ & ⋮ & ⋮ & ⋮ & ⋮ & ⋮ & ⋮ & ⋮ & ⋱ & ⋮ & ⋮ & ⋮ & ⋮ & ⋮ & ⋮ & ⋮ & ⋮ & ⋮ & ⋮\\\\\n\t 2015 & 10259 & 8 & LICEO AGUSTIN EDWARDS                                        & 13 & 131 & 13104 & CONCHAL<cd>     & 137 & NORTE                       & ⋯ & NA & NA & NA & NA & NA & NA & NA & NA & NA & 1\\\\\n\t 2015 & 25717 & 6 & COLEGIO ALC<c1>NTARA DE LOS ALTOS DE PE<d1>ALOLEN            & 13 & 131 & 13122 & PE<d1>ALOL<c9>N & 133 & ORIENTE                     & ⋯ &  0 &  0 &  0 &  0 &  0 &  0 &  0 &  0 &  0 & 1\\\\\n\t 2015 &  9864 & 7 & LICEO JOSE IGNACIO ZENTENO                                   & 13 & 131 & 13119 & MAIP<da>        & 134 & PONIENTE                    & ⋯ & NA & NA & NA & NA & NA & NA & NA & NA & NA & 1\\\\\n\t 2015 & 24212 & 8 & COLEGIO ALIANZA AUSTRAL DE COYHAIQUE                         & 11 & 111 & 11101 & COYHAIQUE       & 111 & COYHAIQUE                   & ⋯ & NA & NA & NA & NA & NA & NA & NA & NA & NA & 1\\\\\n\t 2015 &  5648 & 0 & ESCUELA CHAPOD                                               &  9 &  91 &  9112 & PADRE LAS CASAS &  93 & CAUTIN SUR                  & ⋯ & NA & NA & NA & NA & NA & NA & NA & NA & NA & 1\\\\\n\t 2015 &  5649 & 9 & ESCUELA FUNDO MAQUEHUE                                       &  9 &  91 &  9112 & PADRE LAS CASAS &  93 & CAUTIN SUR                  & ⋯ & NA & NA & NA & NA & NA & NA & NA & NA & NA & 0\\\\\n\t 2015 &  2013 & 3 & INST.COMERCIAL MARITIMO PACIFICO SUR                         &  5 &  56 &  5601 & SAN ANTONIO     &  54 & SAN ANTONIO                 & ⋯ & NA & NA & NA & NA & NA & NA & NA & NA & NA & 1\\\\\n\t 2015 &  5202 & 7 & ESCUELA MAPODUNGUN                                           &  8 &  82 &  8207 & TIR<da>A        &  84 & ARAUCO                      & ⋯ & NA & NA & NA & NA & NA & NA & NA & NA & NA & 1\\\\\n\t 2015 & 26250 & 1 & ESCUELA BAS. MISIONERO DE AGOSTINI                           & 13 & 131 & 13112 & LA PINTANA      & 136 & CORDILLERA                  & ⋯ & NA & NA & NA & NA & NA & NA & NA & NA & NA & 1\\\\\n\t 2015 & 12037 & 5 & LICEO POLIVALENTE HERMANAS MAESTRAS DE LA SANTA CRUZ         &  8 &  83 &  8304 & LAJA            &  82 & BIO BIO                     & ⋯ & NA & NA & NA & NA & NA & NA & NA & NA & NA & 1\\\\\n\t 2015 & 16580 & 8 & ESC. PASO INTERNACIONAL PEHUENCHE                            &  7 &  71 &  7109 & SAN CLEMENTE    &  72 & TALCA                       & ⋯ & NA & NA & NA & NA & NA & NA & NA & NA & NA & 1\\\\\n\t 2015 & 18249 & 4 & COLEGIO INSTITUTO CRISTIANO GRACIA Y PAZ                     &  8 &  83 &  8301 & LOS <c1>NGELES  &  82 & BIO BIO                     & ⋯ & NA & NA & NA & NA & NA & NA & NA & NA & NA & 1\\\\\n\t 2015 &  1607 & 1 & COLEGIO TERESITA DE LISIEUX                                  &  5 &  51 &  5101 & VALPARA<cd>SO   &  53 & VALPARAISO - ISLA DE PASCUA & ⋯ & NA & NA & NA & NA & NA & NA & NA & NA & NA & 1\\\\\n\t 2015 &  3068 & 6 & ESCUELA BELLA UNION                                          &  7 &  71 &  7109 & SAN CLEMENTE    &  72 & TALCA                       & ⋯ &  0 &  0 &  0 &  0 &  0 &  0 &  0 &  0 &  0 & 1\\\\\n\t 2015 & 20258 & 4 & LICEO CUMBRES DE LABRANZA                                    &  9 &  91 &  9101 & TEMUCO          &  92 & CAUTIN NORTE                & ⋯ &  0 &  0 &  0 &  0 &  0 &  0 &  0 &  0 &  0 & 1\\\\\n\t 2015 &  9072 & 7 & LICEO VILLA MACUL ACADEMIA EX LICEO JUANA DE IBARBOUROU A 48 & 13 & 131 & 13118 & MACUL           & 133 & ORIENTE                     & ⋯ & NA & NA & NA & NA & NA & NA & NA & NA & NA & 1\\\\\n\t 2015 & 12153 & 3 & ESCUELA PARTICULAR GUILLERMO TELL                            &  5 &  51 &  5109 & VI<d1>A DEL MAR &  53 & VALPARAISO - ISLA DE PASCUA & ⋯ & NA & NA & NA & NA & NA & NA & NA & NA & NA & 1\\\\\n\t 2015 &  9328 & 9 & COLEGIO POLIV. SAN SEBASTIAN DE LA FLORIDA                   & 13 & 131 & 13110 & LA FLORIDA      & 136 & CORDILLERA                  & ⋯ &  0 &  0 &  0 &  0 &  0 &  0 &  0 &  0 &  0 & 1\\\\\n\t 2015 & 22029 & 9 & COLEGIO STAR COLLEGE                                         & 10 & 103 & 10301 & OSORNO          & 103 & OSORNO                      & ⋯ &  0 &  0 &  0 &  0 &  0 &  0 &  0 &  0 &  0 & 1\\\\\n\t 2015 & 10743 & 3 & INSTITUTO SAN FRANCISCO                                      & 13 & 136 & 13602 & EL MONTE        & 135 & TALAGANTE                   & ⋯ & NA & NA & NA & NA & NA & NA & NA & NA & NA & 1\\\\\n\t 2015 &  1911 & 9 & COLEGIO CREP                                                 &  5 &  58 &  5801 & QUILPU<c9>      &  53 & VALPARAISO - ISLA DE PASCUA & ⋯ &  0 &  0 &  0 &  0 &  0 &  0 &  0 &  0 &  0 & 1\\\\\n\t 2015 &  4574 & 8 & COLEGIO ESPA<d1>A                                            &  8 &  81 &  8101 & CONCEPCI<d3>N   &  83 & CONCEPCION                  & ⋯ & NA & NA & NA & NA & NA & NA & NA & NA & NA & 1\\\\\n\t 2015 & 14466 & 5 & COLEGIO ALBORADA DE CURAUMA                                  &  5 &  51 &  5101 & VALPARA<cd>SO   &  53 & VALPARAISO - ISLA DE PASCUA & ⋯ &  0 &  0 &  0 &  0 &  0 &  0 &  0 &  0 &  0 & 1\\\\\n\t 2015 &  2999 & 8 & COLEGIO CAMILO HENRIQUEZ                                     &  7 &  71 &  7101 & TALCA           &  72 & TALCA                       & ⋯ & NA & NA & NA & NA & NA & NA & NA & NA & NA & 1\\\\\n\t 2015 &  1403 & 6 & COL.NTRA.SE<d1>ORA DEL HUERTO                                &  5 &  55 &  5501 & QUILLOTA        &  51 & QUILLOTA - PETORCA          & ⋯ & NA & NA & NA & NA & NA & NA & NA & NA & NA & 1\\\\\n\t 2015 & 11594 & 0 & COLEGIO ANTILLANCA                                           & 10 & 103 & 10301 & OSORNO          & 103 & OSORNO                      & ⋯ & NA & NA & NA & NA & NA & NA & NA & NA & NA & 1\\\\\n\t 2015 &  9069 & 7 & LICEO POLIVALENTE MERCEDES MARIN DEL SOLAR                   & 13 & 131 & 13118 & MACUL           & 133 & ORIENTE                     & ⋯ & NA & NA & NA & NA & NA & NA & NA & NA & NA & 1\\\\\n\t 2015 &   691 & 2 & ESCUELA MUNICIPAL CIELO CLARO--PAIHUANO                      &  4 &  41 &  4105 & PAIGUANO        &  41 & ELQUI                       & ⋯ & NA & NA & NA & NA & NA & NA & NA & NA & NA & 1\\\\\n\t 2015 &   694 & 7 & ESCUELA GABRIELA MISTRAL                                     &  4 &  41 &  4105 & PAIGUANO        &  41 & ELQUI                       & ⋯ & NA & NA & NA & NA & NA & NA & NA & NA & NA & 0\\\\\n\t 2015 & 25591 & 2 & LICEO TECNICO PROFESIONAL DE BUIN                            & 13 & 134 & 13402 & BUIN            & 132 & SUR                         & ⋯ & NA & NA & NA & NA & NA & NA & NA & NA & NA & 1\\\\\n\\end{tabular}\n",
            "text/markdown": "\nA data.frame: 242973 × 149\n\n| AGNO &lt;int&gt; | RBD &lt;int&gt; | DGV_RBD &lt;int&gt; | NOM_RBD &lt;chr&gt; | COD_REG_RBD &lt;int&gt; | COD_PRO_RBD &lt;int&gt; | COD_COM_RBD &lt;int&gt; | NOM_COM_RBD &lt;chr&gt; | COD_DEPROV_RBD &lt;int&gt; | NOM_DEPROV_RBD &lt;chr&gt; | ⋯ ⋯ | GRADO.11_2 &lt;int&gt; | GRADO.12_2 &lt;int&gt; | GRADO.13_2 &lt;int&gt; | GRADO.14_2 &lt;int&gt; | GRADO.15_2 &lt;int&gt; | GRADO.16_2 &lt;int&gt; | GRADO.17_2 &lt;int&gt; | GRADO.18_2 &lt;int&gt; | GRADO.19_2 &lt;int&gt; | PERSONAS &lt;int&gt; |\n|---|---|---|---|---|---|---|---|---|---|---|---|---|---|---|---|---|---|---|---|---|\n| 2015 |   112 | 0 | ESCUELA EDUARDO LLANOS                       |  1 |  11 |  1101 | IQUIQUE         |  11 | IQUIQUE                     | ⋯ | NA | NA | NA | NA | NA | NA | NA | NA | NA | 1 |\n| 2015 |  2945 | 9 | ESCUELA PROSPERIDAD                          |  7 |  71 |  7101 | TALCA           |  72 | TALCA                       | ⋯ | NA | NA | NA | NA | NA | NA | NA | NA | NA | 0 |\n| 2015 |  2973 | 4 | LICEO ABATE MOLINA                           |  7 |  71 |  7101 | TALCA           |  72 | TALCA                       | ⋯ | NA | NA | NA | NA | NA | NA | NA | NA | NA | 1 |\n| 2015 | 25304 | 9 | COLEGIO PAUL HARRIS SCHOOL                   | 13 | 131 | 13105 | EL BOSQUE       | 132 | SUR                         | ⋯ | NA | NA | NA | NA | NA | NA | NA | NA | NA | 1 |\n| 2015 |  9853 | 1 | COLEGIO POLIV. SAINT TRINITY COLLEGE         | 13 | 131 | 13116 | LO ESPEJO       | 132 | SUR                         | ⋯ | NA | NA | NA | NA | NA | NA | NA | NA | NA | 1 |\n| 2015 | 16689 | 8 | COLEGIO ESPECIAL DE DISCAPACIDADES MULTIPLES |  7 |  71 |  7101 | TALCA           |  72 | TALCA                       | ⋯ | NA | NA | NA | NA | NA | NA | NA | NA | NA | 1 |\n| 2015 |  9527 | 3 | ESCUELA PARTICULAR ECOLE NOEL                | 13 | 131 | 13130 | SAN MIGUEL      | 131 | CENTRO                      | ⋯ | NA | NA | NA | NA | NA | NA | NA | NA | NA | 1 |\n| 2015 |  2105 | 9 | LICEO INDUSTRIAL ERNESTO PINTO LAGARRIGUE    |  6 |  61 |  6101 | RANCAGUA        |  61 | CACHAPOAL                   | ⋯ | NA | NA | NA | NA | NA | NA | NA | NA | NA | 0 |\n| 2015 |  2164 | 4 | COLEGIO PARTICULAR GABRIELA MISTRAL          |  6 |  61 |  6101 | RANCAGUA        |  61 | CACHAPOAL                   | ⋯ | NA | NA | NA | NA | NA | NA | NA | NA | NA | 1 |\n| 2015 |  2200 | 4 | INSTITUTO O&lt;b4&gt;HIGGINS                       |  6 |  61 |  6101 | RANCAGUA        |  61 | CACHAPOAL                   | ⋯ | NA | NA | NA | NA | NA | NA | NA | NA | NA | 1 |\n| 2015 |  7346 | 6 | ESCUELA N. 46 ITALIA                         | 10 | 103 | 10301 | OSORNO          | 103 | OSORNO                      | ⋯ | NA | NA | NA | NA | NA | NA | NA | NA | NA | 1 |\n| 2015 |  9788 | 8 | ESCUELA PARTICULAR GRACIELA L.DE IBANEZ      | 13 | 131 | 13109 | LA CISTERNA     | 132 | SUR                         | ⋯ | NA | NA | NA | NA | NA | NA | NA | NA | NA | 1 |\n| 2015 |  1482 | 6 | COLEGIO LIMACHE COLLEGE                      |  5 |  58 |  5802 | LIMACHE         |  51 | QUILLOTA - PETORCA          | ⋯ | NA | NA | NA | NA | NA | NA | NA | NA | NA | 1 |\n| 2015 | 13633 | 6 | ESCUELA SAN MARINO COLLEGE                   |  4 |  41 |  4102 | COQUIMBO        |  41 | ELQUI                       | ⋯ |  0 |  0 |  0 |  0 |  0 |  0 |  0 |  0 |  0 | 1 |\n| 2015 |  4999 | 9 | ESCUELA BASICA RAMON FREIRE SERRANO          |  8 |  81 |  8102 | CORONEL         |  83 | CONCEPCION                  | ⋯ | NA | NA | NA | NA | NA | NA | NA | NA | NA | 1 |\n| 2015 |  1149 | 5 | LICEO CORDILLERA                             |  5 |  54 |  5404 | PETORCA         |  51 | QUILLOTA - PETORCA          | ⋯ | NA | NA | NA | NA | NA | NA | NA | NA | NA | 1 |\n| 2015 |  4569 | 1 | ESCUELA DIEGO PORTALES PALAZUELOS            |  8 |  81 |  8101 | CONCEPCI&lt;d3&gt;N   |  83 | CONCEPCION                  | ⋯ |  0 |  0 |  0 |  0 |  0 |  0 |  0 |  0 |  0 | 1 |\n| 2015 | 11223 | 2 | COLEGIO ITALIANO                             |  5 |  58 |  5802 | LIMACHE         |  51 | QUILLOTA - PETORCA          | ⋯ |  0 |  0 |  0 |  0 |  0 |  0 |  0 |  0 |  0 | 1 |\n| 2015 |  8757 | 2 | COLEGIO DE LOS SAGRADOS CORAZONES ALAMEDA    | 13 | 131 | 13101 | SANTIAGO        | 131 | CENTRO                      | ⋯ | NA | NA | NA | NA | NA | NA | NA | NA | NA | 1 |\n| 2015 |  3328 | 6 | LICEO CAPITAN IGNACIO CARRERA PINTO          |  7 |  74 |  7402 | COLB&lt;da&gt;N       |  73 | LINARES                     | ⋯ | NA | NA | NA | NA | NA | NA | NA | NA | NA | 1 |\n| 2015 | 10338 | 1 | ESCUELA BASICA SANTO DOMINGO                 | 13 | 131 | 13127 | RECOLETA        | 137 | NORTE                       | ⋯ | NA | NA | NA | NA | NA | NA | NA | NA | NA | 1 |\n| 2015 | 11277 | 1 | ESCUELA GABRIELA MISTRAL                     |  6 |  61 |  6110 | MOSTAZAL        |  61 | CACHAPOAL                   | ⋯ | NA | NA | NA | NA | NA | NA | NA | NA | NA | 1 |\n| 2015 | 25202 | 6 | COLEGIO  PUMAHUE HUECHURABA                  | 13 | 131 | 13107 | HUECHURABA      | 137 | NORTE                       | ⋯ |  0 |  0 |  0 |  0 |  0 |  0 |  0 |  0 |  0 | 1 |\n| 2015 |  1707 | 8 | ESCUELA MINISTRO ZENTENO                     |  5 |  51 |  5109 | VI&lt;d1&gt;A DEL MAR |  53 | VALPARAISO - ISLA DE PASCUA | ⋯ | NA | NA | NA | NA | NA | NA | NA | NA | NA | 1 |\n| 2015 |   322 | 0 | ESCUELA GENERAL MANUEL BAQUEDANO             |  2 |  21 |  2101 | ANTOFAGASTA     |  21 | ANTOFAGASTA                 | ⋯ | NA | NA | NA | NA | NA | NA | NA | NA | NA | 1 |\n| 2015 |  3058 | 9 | ESCUELA AURORA                               |  7 |  71 |  7109 | SAN CLEMENTE    |  72 | TALCA                       | ⋯ | NA | NA | NA | NA | NA | NA | NA | NA | NA | 1 |\n| 2015 |  4061 | 4 | ESCUELA BASICA AMERICA                       |  8 |  84 |  8415 | R&lt;c1&gt;NQUIL      |  81 | NUBLE                       | ⋯ |  0 |  0 |  0 |  0 |  0 |  0 |  0 |  0 |  0 | 1 |\n| 2015 |  6497 | 1 | COMPLEJO EDUCACIONAL CLAUDIO ARRAU LEON      |  9 |  91 |  9102 | CARAHUE         |  92 | CAUTIN NORTE                | ⋯ | NA | NA | NA | NA | NA | NA | NA | NA | NA | 1 |\n| 2015 |  8161 | 2 | ESCUELA BASICA DALCAHUE                      | 10 | 102 | 10205 | DALCAHUE        | 102 | CHILOE                      | ⋯ | NA | NA | NA | NA | NA | NA | NA | NA | NA | 1 |\n| 2015 | 26476 | 8 | COLEGIO BOSTON COLLEGE HUECHURABA            | 13 | 131 | 13107 | HUECHURABA      | 137 | NORTE                       | ⋯ | NA | NA | NA | NA | NA | NA | NA | NA | NA | 1 |\n| ⋮ | ⋮ | ⋮ | ⋮ | ⋮ | ⋮ | ⋮ | ⋮ | ⋮ | ⋮ | ⋱ | ⋮ | ⋮ | ⋮ | ⋮ | ⋮ | ⋮ | ⋮ | ⋮ | ⋮ | ⋮ |\n| 2015 | 10259 | 8 | LICEO AGUSTIN EDWARDS                                        | 13 | 131 | 13104 | CONCHAL&lt;cd&gt;     | 137 | NORTE                       | ⋯ | NA | NA | NA | NA | NA | NA | NA | NA | NA | 1 |\n| 2015 | 25717 | 6 | COLEGIO ALC&lt;c1&gt;NTARA DE LOS ALTOS DE PE&lt;d1&gt;ALOLEN            | 13 | 131 | 13122 | PE&lt;d1&gt;ALOL&lt;c9&gt;N | 133 | ORIENTE                     | ⋯ |  0 |  0 |  0 |  0 |  0 |  0 |  0 |  0 |  0 | 1 |\n| 2015 |  9864 | 7 | LICEO JOSE IGNACIO ZENTENO                                   | 13 | 131 | 13119 | MAIP&lt;da&gt;        | 134 | PONIENTE                    | ⋯ | NA | NA | NA | NA | NA | NA | NA | NA | NA | 1 |\n| 2015 | 24212 | 8 | COLEGIO ALIANZA AUSTRAL DE COYHAIQUE                         | 11 | 111 | 11101 | COYHAIQUE       | 111 | COYHAIQUE                   | ⋯ | NA | NA | NA | NA | NA | NA | NA | NA | NA | 1 |\n| 2015 |  5648 | 0 | ESCUELA CHAPOD                                               |  9 |  91 |  9112 | PADRE LAS CASAS |  93 | CAUTIN SUR                  | ⋯ | NA | NA | NA | NA | NA | NA | NA | NA | NA | 1 |\n| 2015 |  5649 | 9 | ESCUELA FUNDO MAQUEHUE                                       |  9 |  91 |  9112 | PADRE LAS CASAS |  93 | CAUTIN SUR                  | ⋯ | NA | NA | NA | NA | NA | NA | NA | NA | NA | 0 |\n| 2015 |  2013 | 3 | INST.COMERCIAL MARITIMO PACIFICO SUR                         |  5 |  56 |  5601 | SAN ANTONIO     |  54 | SAN ANTONIO                 | ⋯ | NA | NA | NA | NA | NA | NA | NA | NA | NA | 1 |\n| 2015 |  5202 | 7 | ESCUELA MAPODUNGUN                                           |  8 |  82 |  8207 | TIR&lt;da&gt;A        |  84 | ARAUCO                      | ⋯ | NA | NA | NA | NA | NA | NA | NA | NA | NA | 1 |\n| 2015 | 26250 | 1 | ESCUELA BAS. MISIONERO DE AGOSTINI                           | 13 | 131 | 13112 | LA PINTANA      | 136 | CORDILLERA                  | ⋯ | NA | NA | NA | NA | NA | NA | NA | NA | NA | 1 |\n| 2015 | 12037 | 5 | LICEO POLIVALENTE HERMANAS MAESTRAS DE LA SANTA CRUZ         |  8 |  83 |  8304 | LAJA            |  82 | BIO BIO                     | ⋯ | NA | NA | NA | NA | NA | NA | NA | NA | NA | 1 |\n| 2015 | 16580 | 8 | ESC. PASO INTERNACIONAL PEHUENCHE                            |  7 |  71 |  7109 | SAN CLEMENTE    |  72 | TALCA                       | ⋯ | NA | NA | NA | NA | NA | NA | NA | NA | NA | 1 |\n| 2015 | 18249 | 4 | COLEGIO INSTITUTO CRISTIANO GRACIA Y PAZ                     |  8 |  83 |  8301 | LOS &lt;c1&gt;NGELES  |  82 | BIO BIO                     | ⋯ | NA | NA | NA | NA | NA | NA | NA | NA | NA | 1 |\n| 2015 |  1607 | 1 | COLEGIO TERESITA DE LISIEUX                                  |  5 |  51 |  5101 | VALPARA&lt;cd&gt;SO   |  53 | VALPARAISO - ISLA DE PASCUA | ⋯ | NA | NA | NA | NA | NA | NA | NA | NA | NA | 1 |\n| 2015 |  3068 | 6 | ESCUELA BELLA UNION                                          |  7 |  71 |  7109 | SAN CLEMENTE    |  72 | TALCA                       | ⋯ |  0 |  0 |  0 |  0 |  0 |  0 |  0 |  0 |  0 | 1 |\n| 2015 | 20258 | 4 | LICEO CUMBRES DE LABRANZA                                    |  9 |  91 |  9101 | TEMUCO          |  92 | CAUTIN NORTE                | ⋯ |  0 |  0 |  0 |  0 |  0 |  0 |  0 |  0 |  0 | 1 |\n| 2015 |  9072 | 7 | LICEO VILLA MACUL ACADEMIA EX LICEO JUANA DE IBARBOUROU A 48 | 13 | 131 | 13118 | MACUL           | 133 | ORIENTE                     | ⋯ | NA | NA | NA | NA | NA | NA | NA | NA | NA | 1 |\n| 2015 | 12153 | 3 | ESCUELA PARTICULAR GUILLERMO TELL                            |  5 |  51 |  5109 | VI&lt;d1&gt;A DEL MAR |  53 | VALPARAISO - ISLA DE PASCUA | ⋯ | NA | NA | NA | NA | NA | NA | NA | NA | NA | 1 |\n| 2015 |  9328 | 9 | COLEGIO POLIV. SAN SEBASTIAN DE LA FLORIDA                   | 13 | 131 | 13110 | LA FLORIDA      | 136 | CORDILLERA                  | ⋯ |  0 |  0 |  0 |  0 |  0 |  0 |  0 |  0 |  0 | 1 |\n| 2015 | 22029 | 9 | COLEGIO STAR COLLEGE                                         | 10 | 103 | 10301 | OSORNO          | 103 | OSORNO                      | ⋯ |  0 |  0 |  0 |  0 |  0 |  0 |  0 |  0 |  0 | 1 |\n| 2015 | 10743 | 3 | INSTITUTO SAN FRANCISCO                                      | 13 | 136 | 13602 | EL MONTE        | 135 | TALAGANTE                   | ⋯ | NA | NA | NA | NA | NA | NA | NA | NA | NA | 1 |\n| 2015 |  1911 | 9 | COLEGIO CREP                                                 |  5 |  58 |  5801 | QUILPU&lt;c9&gt;      |  53 | VALPARAISO - ISLA DE PASCUA | ⋯ |  0 |  0 |  0 |  0 |  0 |  0 |  0 |  0 |  0 | 1 |\n| 2015 |  4574 | 8 | COLEGIO ESPA&lt;d1&gt;A                                            |  8 |  81 |  8101 | CONCEPCI&lt;d3&gt;N   |  83 | CONCEPCION                  | ⋯ | NA | NA | NA | NA | NA | NA | NA | NA | NA | 1 |\n| 2015 | 14466 | 5 | COLEGIO ALBORADA DE CURAUMA                                  |  5 |  51 |  5101 | VALPARA&lt;cd&gt;SO   |  53 | VALPARAISO - ISLA DE PASCUA | ⋯ |  0 |  0 |  0 |  0 |  0 |  0 |  0 |  0 |  0 | 1 |\n| 2015 |  2999 | 8 | COLEGIO CAMILO HENRIQUEZ                                     |  7 |  71 |  7101 | TALCA           |  72 | TALCA                       | ⋯ | NA | NA | NA | NA | NA | NA | NA | NA | NA | 1 |\n| 2015 |  1403 | 6 | COL.NTRA.SE&lt;d1&gt;ORA DEL HUERTO                                |  5 |  55 |  5501 | QUILLOTA        |  51 | QUILLOTA - PETORCA          | ⋯ | NA | NA | NA | NA | NA | NA | NA | NA | NA | 1 |\n| 2015 | 11594 | 0 | COLEGIO ANTILLANCA                                           | 10 | 103 | 10301 | OSORNO          | 103 | OSORNO                      | ⋯ | NA | NA | NA | NA | NA | NA | NA | NA | NA | 1 |\n| 2015 |  9069 | 7 | LICEO POLIVALENTE MERCEDES MARIN DEL SOLAR                   | 13 | 131 | 13118 | MACUL           | 133 | ORIENTE                     | ⋯ | NA | NA | NA | NA | NA | NA | NA | NA | NA | 1 |\n| 2015 |   691 | 2 | ESCUELA MUNICIPAL CIELO CLARO--PAIHUANO                      |  4 |  41 |  4105 | PAIGUANO        |  41 | ELQUI                       | ⋯ | NA | NA | NA | NA | NA | NA | NA | NA | NA | 1 |\n| 2015 |   694 | 7 | ESCUELA GABRIELA MISTRAL                                     |  4 |  41 |  4105 | PAIGUANO        |  41 | ELQUI                       | ⋯ | NA | NA | NA | NA | NA | NA | NA | NA | NA | 0 |\n| 2015 | 25591 | 2 | LICEO TECNICO PROFESIONAL DE BUIN                            | 13 | 134 | 13402 | BUIN            | 132 | SUR                         | ⋯ | NA | NA | NA | NA | NA | NA | NA | NA | NA | 1 |\n\n",
            "text/html": [
              "<table class=\"dataframe\">\n",
              "<caption>A data.frame: 242973 × 149</caption>\n",
              "<thead>\n",
              "\t<tr><th scope=col>AGNO</th><th scope=col>RBD</th><th scope=col>DGV_RBD</th><th scope=col>NOM_RBD</th><th scope=col>COD_REG_RBD</th><th scope=col>COD_PRO_RBD</th><th scope=col>COD_COM_RBD</th><th scope=col>NOM_COM_RBD</th><th scope=col>COD_DEPROV_RBD</th><th scope=col>NOM_DEPROV_RBD</th><th scope=col>⋯</th><th scope=col>GRADO.11_2</th><th scope=col>GRADO.12_2</th><th scope=col>GRADO.13_2</th><th scope=col>GRADO.14_2</th><th scope=col>GRADO.15_2</th><th scope=col>GRADO.16_2</th><th scope=col>GRADO.17_2</th><th scope=col>GRADO.18_2</th><th scope=col>GRADO.19_2</th><th scope=col>PERSONAS</th></tr>\n",
              "\t<tr><th scope=col>&lt;int&gt;</th><th scope=col>&lt;int&gt;</th><th scope=col>&lt;int&gt;</th><th scope=col>&lt;chr&gt;</th><th scope=col>&lt;int&gt;</th><th scope=col>&lt;int&gt;</th><th scope=col>&lt;int&gt;</th><th scope=col>&lt;chr&gt;</th><th scope=col>&lt;int&gt;</th><th scope=col>&lt;chr&gt;</th><th scope=col>⋯</th><th scope=col>&lt;int&gt;</th><th scope=col>&lt;int&gt;</th><th scope=col>&lt;int&gt;</th><th scope=col>&lt;int&gt;</th><th scope=col>&lt;int&gt;</th><th scope=col>&lt;int&gt;</th><th scope=col>&lt;int&gt;</th><th scope=col>&lt;int&gt;</th><th scope=col>&lt;int&gt;</th><th scope=col>&lt;int&gt;</th></tr>\n",
              "</thead>\n",
              "<tbody>\n",
              "\t<tr><td>2015</td><td>  112</td><td>0</td><td>ESCUELA EDUARDO LLANOS                      </td><td> 1</td><td> 11</td><td> 1101</td><td>IQUIQUE        </td><td> 11</td><td>IQUIQUE                    </td><td>⋯</td><td>NA</td><td>NA</td><td>NA</td><td>NA</td><td>NA</td><td>NA</td><td>NA</td><td>NA</td><td>NA</td><td>1</td></tr>\n",
              "\t<tr><td>2015</td><td> 2945</td><td>9</td><td>ESCUELA PROSPERIDAD                         </td><td> 7</td><td> 71</td><td> 7101</td><td>TALCA          </td><td> 72</td><td>TALCA                      </td><td>⋯</td><td>NA</td><td>NA</td><td>NA</td><td>NA</td><td>NA</td><td>NA</td><td>NA</td><td>NA</td><td>NA</td><td>0</td></tr>\n",
              "\t<tr><td>2015</td><td> 2973</td><td>4</td><td>LICEO ABATE MOLINA                          </td><td> 7</td><td> 71</td><td> 7101</td><td>TALCA          </td><td> 72</td><td>TALCA                      </td><td>⋯</td><td>NA</td><td>NA</td><td>NA</td><td>NA</td><td>NA</td><td>NA</td><td>NA</td><td>NA</td><td>NA</td><td>1</td></tr>\n",
              "\t<tr><td>2015</td><td>25304</td><td>9</td><td>COLEGIO PAUL HARRIS SCHOOL                  </td><td>13</td><td>131</td><td>13105</td><td>EL BOSQUE      </td><td>132</td><td>SUR                        </td><td>⋯</td><td>NA</td><td>NA</td><td>NA</td><td>NA</td><td>NA</td><td>NA</td><td>NA</td><td>NA</td><td>NA</td><td>1</td></tr>\n",
              "\t<tr><td>2015</td><td> 9853</td><td>1</td><td>COLEGIO POLIV. SAINT TRINITY COLLEGE        </td><td>13</td><td>131</td><td>13116</td><td>LO ESPEJO      </td><td>132</td><td>SUR                        </td><td>⋯</td><td>NA</td><td>NA</td><td>NA</td><td>NA</td><td>NA</td><td>NA</td><td>NA</td><td>NA</td><td>NA</td><td>1</td></tr>\n",
              "\t<tr><td>2015</td><td>16689</td><td>8</td><td>COLEGIO ESPECIAL DE DISCAPACIDADES MULTIPLES</td><td> 7</td><td> 71</td><td> 7101</td><td>TALCA          </td><td> 72</td><td>TALCA                      </td><td>⋯</td><td>NA</td><td>NA</td><td>NA</td><td>NA</td><td>NA</td><td>NA</td><td>NA</td><td>NA</td><td>NA</td><td>1</td></tr>\n",
              "\t<tr><td>2015</td><td> 9527</td><td>3</td><td>ESCUELA PARTICULAR ECOLE NOEL               </td><td>13</td><td>131</td><td>13130</td><td>SAN MIGUEL     </td><td>131</td><td>CENTRO                     </td><td>⋯</td><td>NA</td><td>NA</td><td>NA</td><td>NA</td><td>NA</td><td>NA</td><td>NA</td><td>NA</td><td>NA</td><td>1</td></tr>\n",
              "\t<tr><td>2015</td><td> 2105</td><td>9</td><td>LICEO INDUSTRIAL ERNESTO PINTO LAGARRIGUE   </td><td> 6</td><td> 61</td><td> 6101</td><td>RANCAGUA       </td><td> 61</td><td>CACHAPOAL                  </td><td>⋯</td><td>NA</td><td>NA</td><td>NA</td><td>NA</td><td>NA</td><td>NA</td><td>NA</td><td>NA</td><td>NA</td><td>0</td></tr>\n",
              "\t<tr><td>2015</td><td> 2164</td><td>4</td><td>COLEGIO PARTICULAR GABRIELA MISTRAL         </td><td> 6</td><td> 61</td><td> 6101</td><td>RANCAGUA       </td><td> 61</td><td>CACHAPOAL                  </td><td>⋯</td><td>NA</td><td>NA</td><td>NA</td><td>NA</td><td>NA</td><td>NA</td><td>NA</td><td>NA</td><td>NA</td><td>1</td></tr>\n",
              "\t<tr><td>2015</td><td> 2200</td><td>4</td><td><span style=white-space:pre-wrap>INSTITUTO O&lt;b4&gt;HIGGINS                      </span></td><td> 6</td><td> 61</td><td> 6101</td><td><span style=white-space:pre-wrap>RANCAGUA       </span></td><td> 61</td><td><span style=white-space:pre-wrap>CACHAPOAL                  </span></td><td>⋯</td><td>NA</td><td>NA</td><td>NA</td><td>NA</td><td>NA</td><td>NA</td><td>NA</td><td>NA</td><td>NA</td><td>1</td></tr>\n",
              "\t<tr><td>2015</td><td> 7346</td><td>6</td><td>ESCUELA N. 46 ITALIA                        </td><td>10</td><td>103</td><td>10301</td><td>OSORNO         </td><td>103</td><td>OSORNO                     </td><td>⋯</td><td>NA</td><td>NA</td><td>NA</td><td>NA</td><td>NA</td><td>NA</td><td>NA</td><td>NA</td><td>NA</td><td>1</td></tr>\n",
              "\t<tr><td>2015</td><td> 9788</td><td>8</td><td>ESCUELA PARTICULAR GRACIELA L.DE IBANEZ     </td><td>13</td><td>131</td><td>13109</td><td>LA CISTERNA    </td><td>132</td><td>SUR                        </td><td>⋯</td><td>NA</td><td>NA</td><td>NA</td><td>NA</td><td>NA</td><td>NA</td><td>NA</td><td>NA</td><td>NA</td><td>1</td></tr>\n",
              "\t<tr><td>2015</td><td> 1482</td><td>6</td><td>COLEGIO LIMACHE COLLEGE                     </td><td> 5</td><td> 58</td><td> 5802</td><td>LIMACHE        </td><td> 51</td><td>QUILLOTA - PETORCA         </td><td>⋯</td><td>NA</td><td>NA</td><td>NA</td><td>NA</td><td>NA</td><td>NA</td><td>NA</td><td>NA</td><td>NA</td><td>1</td></tr>\n",
              "\t<tr><td>2015</td><td>13633</td><td>6</td><td>ESCUELA SAN MARINO COLLEGE                  </td><td> 4</td><td> 41</td><td> 4102</td><td>COQUIMBO       </td><td> 41</td><td>ELQUI                      </td><td>⋯</td><td> 0</td><td> 0</td><td> 0</td><td> 0</td><td> 0</td><td> 0</td><td> 0</td><td> 0</td><td> 0</td><td>1</td></tr>\n",
              "\t<tr><td>2015</td><td> 4999</td><td>9</td><td>ESCUELA BASICA RAMON FREIRE SERRANO         </td><td> 8</td><td> 81</td><td> 8102</td><td>CORONEL        </td><td> 83</td><td>CONCEPCION                 </td><td>⋯</td><td>NA</td><td>NA</td><td>NA</td><td>NA</td><td>NA</td><td>NA</td><td>NA</td><td>NA</td><td>NA</td><td>1</td></tr>\n",
              "\t<tr><td>2015</td><td> 1149</td><td>5</td><td>LICEO CORDILLERA                            </td><td> 5</td><td> 54</td><td> 5404</td><td>PETORCA        </td><td> 51</td><td>QUILLOTA - PETORCA         </td><td>⋯</td><td>NA</td><td>NA</td><td>NA</td><td>NA</td><td>NA</td><td>NA</td><td>NA</td><td>NA</td><td>NA</td><td>1</td></tr>\n",
              "\t<tr><td>2015</td><td> 4569</td><td>1</td><td><span style=white-space:pre-wrap>ESCUELA DIEGO PORTALES PALAZUELOS           </span></td><td> 8</td><td> 81</td><td> 8101</td><td><span style=white-space:pre-wrap>CONCEPCI&lt;d3&gt;N  </span></td><td> 83</td><td><span style=white-space:pre-wrap>CONCEPCION                 </span></td><td>⋯</td><td> 0</td><td> 0</td><td> 0</td><td> 0</td><td> 0</td><td> 0</td><td> 0</td><td> 0</td><td> 0</td><td>1</td></tr>\n",
              "\t<tr><td>2015</td><td>11223</td><td>2</td><td>COLEGIO ITALIANO                            </td><td> 5</td><td> 58</td><td> 5802</td><td>LIMACHE        </td><td> 51</td><td>QUILLOTA - PETORCA         </td><td>⋯</td><td> 0</td><td> 0</td><td> 0</td><td> 0</td><td> 0</td><td> 0</td><td> 0</td><td> 0</td><td> 0</td><td>1</td></tr>\n",
              "\t<tr><td>2015</td><td> 8757</td><td>2</td><td>COLEGIO DE LOS SAGRADOS CORAZONES ALAMEDA   </td><td>13</td><td>131</td><td>13101</td><td>SANTIAGO       </td><td>131</td><td>CENTRO                     </td><td>⋯</td><td>NA</td><td>NA</td><td>NA</td><td>NA</td><td>NA</td><td>NA</td><td>NA</td><td>NA</td><td>NA</td><td>1</td></tr>\n",
              "\t<tr><td>2015</td><td> 3328</td><td>6</td><td><span style=white-space:pre-wrap>LICEO CAPITAN IGNACIO CARRERA PINTO         </span></td><td> 7</td><td> 74</td><td> 7402</td><td><span style=white-space:pre-wrap>COLB&lt;da&gt;N      </span></td><td> 73</td><td><span style=white-space:pre-wrap>LINARES                    </span></td><td>⋯</td><td>NA</td><td>NA</td><td>NA</td><td>NA</td><td>NA</td><td>NA</td><td>NA</td><td>NA</td><td>NA</td><td>1</td></tr>\n",
              "\t<tr><td>2015</td><td>10338</td><td>1</td><td>ESCUELA BASICA SANTO DOMINGO                </td><td>13</td><td>131</td><td>13127</td><td>RECOLETA       </td><td>137</td><td>NORTE                      </td><td>⋯</td><td>NA</td><td>NA</td><td>NA</td><td>NA</td><td>NA</td><td>NA</td><td>NA</td><td>NA</td><td>NA</td><td>1</td></tr>\n",
              "\t<tr><td>2015</td><td>11277</td><td>1</td><td>ESCUELA GABRIELA MISTRAL                    </td><td> 6</td><td> 61</td><td> 6110</td><td>MOSTAZAL       </td><td> 61</td><td>CACHAPOAL                  </td><td>⋯</td><td>NA</td><td>NA</td><td>NA</td><td>NA</td><td>NA</td><td>NA</td><td>NA</td><td>NA</td><td>NA</td><td>1</td></tr>\n",
              "\t<tr><td>2015</td><td>25202</td><td>6</td><td>COLEGIO  PUMAHUE HUECHURABA                 </td><td>13</td><td>131</td><td>13107</td><td>HUECHURABA     </td><td>137</td><td>NORTE                      </td><td>⋯</td><td> 0</td><td> 0</td><td> 0</td><td> 0</td><td> 0</td><td> 0</td><td> 0</td><td> 0</td><td> 0</td><td>1</td></tr>\n",
              "\t<tr><td>2015</td><td> 1707</td><td>8</td><td><span style=white-space:pre-wrap>ESCUELA MINISTRO ZENTENO                    </span></td><td> 5</td><td> 51</td><td> 5109</td><td>VI&lt;d1&gt;A DEL MAR</td><td> 53</td><td>VALPARAISO - ISLA DE PASCUA</td><td>⋯</td><td>NA</td><td>NA</td><td>NA</td><td>NA</td><td>NA</td><td>NA</td><td>NA</td><td>NA</td><td>NA</td><td>1</td></tr>\n",
              "\t<tr><td>2015</td><td>  322</td><td>0</td><td>ESCUELA GENERAL MANUEL BAQUEDANO            </td><td> 2</td><td> 21</td><td> 2101</td><td>ANTOFAGASTA    </td><td> 21</td><td>ANTOFAGASTA                </td><td>⋯</td><td>NA</td><td>NA</td><td>NA</td><td>NA</td><td>NA</td><td>NA</td><td>NA</td><td>NA</td><td>NA</td><td>1</td></tr>\n",
              "\t<tr><td>2015</td><td> 3058</td><td>9</td><td>ESCUELA AURORA                              </td><td> 7</td><td> 71</td><td> 7109</td><td>SAN CLEMENTE   </td><td> 72</td><td>TALCA                      </td><td>⋯</td><td>NA</td><td>NA</td><td>NA</td><td>NA</td><td>NA</td><td>NA</td><td>NA</td><td>NA</td><td>NA</td><td>1</td></tr>\n",
              "\t<tr><td>2015</td><td> 4061</td><td>4</td><td><span style=white-space:pre-wrap>ESCUELA BASICA AMERICA                      </span></td><td> 8</td><td> 84</td><td> 8415</td><td><span style=white-space:pre-wrap>R&lt;c1&gt;NQUIL     </span></td><td> 81</td><td><span style=white-space:pre-wrap>NUBLE                      </span></td><td>⋯</td><td> 0</td><td> 0</td><td> 0</td><td> 0</td><td> 0</td><td> 0</td><td> 0</td><td> 0</td><td> 0</td><td>1</td></tr>\n",
              "\t<tr><td>2015</td><td> 6497</td><td>1</td><td>COMPLEJO EDUCACIONAL CLAUDIO ARRAU LEON     </td><td> 9</td><td> 91</td><td> 9102</td><td>CARAHUE        </td><td> 92</td><td>CAUTIN NORTE               </td><td>⋯</td><td>NA</td><td>NA</td><td>NA</td><td>NA</td><td>NA</td><td>NA</td><td>NA</td><td>NA</td><td>NA</td><td>1</td></tr>\n",
              "\t<tr><td>2015</td><td> 8161</td><td>2</td><td>ESCUELA BASICA DALCAHUE                     </td><td>10</td><td>102</td><td>10205</td><td>DALCAHUE       </td><td>102</td><td>CHILOE                     </td><td>⋯</td><td>NA</td><td>NA</td><td>NA</td><td>NA</td><td>NA</td><td>NA</td><td>NA</td><td>NA</td><td>NA</td><td>1</td></tr>\n",
              "\t<tr><td>2015</td><td>26476</td><td>8</td><td>COLEGIO BOSTON COLLEGE HUECHURABA           </td><td>13</td><td>131</td><td>13107</td><td>HUECHURABA     </td><td>137</td><td>NORTE                      </td><td>⋯</td><td>NA</td><td>NA</td><td>NA</td><td>NA</td><td>NA</td><td>NA</td><td>NA</td><td>NA</td><td>NA</td><td>1</td></tr>\n",
              "\t<tr><td>⋮</td><td>⋮</td><td>⋮</td><td>⋮</td><td>⋮</td><td>⋮</td><td>⋮</td><td>⋮</td><td>⋮</td><td>⋮</td><td>⋱</td><td>⋮</td><td>⋮</td><td>⋮</td><td>⋮</td><td>⋮</td><td>⋮</td><td>⋮</td><td>⋮</td><td>⋮</td><td>⋮</td></tr>\n",
              "\t<tr><td>2015</td><td>10259</td><td>8</td><td><span style=white-space:pre-wrap>LICEO AGUSTIN EDWARDS                                       </span></td><td>13</td><td>131</td><td>13104</td><td><span style=white-space:pre-wrap>CONCHAL&lt;cd&gt;    </span></td><td>137</td><td><span style=white-space:pre-wrap>NORTE                      </span></td><td>⋯</td><td>NA</td><td>NA</td><td>NA</td><td>NA</td><td>NA</td><td>NA</td><td>NA</td><td>NA</td><td>NA</td><td>1</td></tr>\n",
              "\t<tr><td>2015</td><td>25717</td><td>6</td><td><span style=white-space:pre-wrap>COLEGIO ALC&lt;c1&gt;NTARA DE LOS ALTOS DE PE&lt;d1&gt;ALOLEN           </span></td><td>13</td><td>131</td><td>13122</td><td>PE&lt;d1&gt;ALOL&lt;c9&gt;N</td><td>133</td><td><span style=white-space:pre-wrap>ORIENTE                    </span></td><td>⋯</td><td> 0</td><td> 0</td><td> 0</td><td> 0</td><td> 0</td><td> 0</td><td> 0</td><td> 0</td><td> 0</td><td>1</td></tr>\n",
              "\t<tr><td>2015</td><td> 9864</td><td>7</td><td><span style=white-space:pre-wrap>LICEO JOSE IGNACIO ZENTENO                                  </span></td><td>13</td><td>131</td><td>13119</td><td><span style=white-space:pre-wrap>MAIP&lt;da&gt;       </span></td><td>134</td><td><span style=white-space:pre-wrap>PONIENTE                   </span></td><td>⋯</td><td>NA</td><td>NA</td><td>NA</td><td>NA</td><td>NA</td><td>NA</td><td>NA</td><td>NA</td><td>NA</td><td>1</td></tr>\n",
              "\t<tr><td>2015</td><td>24212</td><td>8</td><td>COLEGIO ALIANZA AUSTRAL DE COYHAIQUE                        </td><td>11</td><td>111</td><td>11101</td><td>COYHAIQUE      </td><td>111</td><td>COYHAIQUE                  </td><td>⋯</td><td>NA</td><td>NA</td><td>NA</td><td>NA</td><td>NA</td><td>NA</td><td>NA</td><td>NA</td><td>NA</td><td>1</td></tr>\n",
              "\t<tr><td>2015</td><td> 5648</td><td>0</td><td>ESCUELA CHAPOD                                              </td><td> 9</td><td> 91</td><td> 9112</td><td>PADRE LAS CASAS</td><td> 93</td><td>CAUTIN SUR                 </td><td>⋯</td><td>NA</td><td>NA</td><td>NA</td><td>NA</td><td>NA</td><td>NA</td><td>NA</td><td>NA</td><td>NA</td><td>1</td></tr>\n",
              "\t<tr><td>2015</td><td> 5649</td><td>9</td><td>ESCUELA FUNDO MAQUEHUE                                      </td><td> 9</td><td> 91</td><td> 9112</td><td>PADRE LAS CASAS</td><td> 93</td><td>CAUTIN SUR                 </td><td>⋯</td><td>NA</td><td>NA</td><td>NA</td><td>NA</td><td>NA</td><td>NA</td><td>NA</td><td>NA</td><td>NA</td><td>0</td></tr>\n",
              "\t<tr><td>2015</td><td> 2013</td><td>3</td><td>INST.COMERCIAL MARITIMO PACIFICO SUR                        </td><td> 5</td><td> 56</td><td> 5601</td><td>SAN ANTONIO    </td><td> 54</td><td>SAN ANTONIO                </td><td>⋯</td><td>NA</td><td>NA</td><td>NA</td><td>NA</td><td>NA</td><td>NA</td><td>NA</td><td>NA</td><td>NA</td><td>1</td></tr>\n",
              "\t<tr><td>2015</td><td> 5202</td><td>7</td><td><span style=white-space:pre-wrap>ESCUELA MAPODUNGUN                                          </span></td><td> 8</td><td> 82</td><td> 8207</td><td><span style=white-space:pre-wrap>TIR&lt;da&gt;A       </span></td><td> 84</td><td><span style=white-space:pre-wrap>ARAUCO                     </span></td><td>⋯</td><td>NA</td><td>NA</td><td>NA</td><td>NA</td><td>NA</td><td>NA</td><td>NA</td><td>NA</td><td>NA</td><td>1</td></tr>\n",
              "\t<tr><td>2015</td><td>26250</td><td>1</td><td>ESCUELA BAS. MISIONERO DE AGOSTINI                          </td><td>13</td><td>131</td><td>13112</td><td>LA PINTANA     </td><td>136</td><td>CORDILLERA                 </td><td>⋯</td><td>NA</td><td>NA</td><td>NA</td><td>NA</td><td>NA</td><td>NA</td><td>NA</td><td>NA</td><td>NA</td><td>1</td></tr>\n",
              "\t<tr><td>2015</td><td>12037</td><td>5</td><td>LICEO POLIVALENTE HERMANAS MAESTRAS DE LA SANTA CRUZ        </td><td> 8</td><td> 83</td><td> 8304</td><td>LAJA           </td><td> 82</td><td>BIO BIO                    </td><td>⋯</td><td>NA</td><td>NA</td><td>NA</td><td>NA</td><td>NA</td><td>NA</td><td>NA</td><td>NA</td><td>NA</td><td>1</td></tr>\n",
              "\t<tr><td>2015</td><td>16580</td><td>8</td><td>ESC. PASO INTERNACIONAL PEHUENCHE                           </td><td> 7</td><td> 71</td><td> 7109</td><td>SAN CLEMENTE   </td><td> 72</td><td>TALCA                      </td><td>⋯</td><td>NA</td><td>NA</td><td>NA</td><td>NA</td><td>NA</td><td>NA</td><td>NA</td><td>NA</td><td>NA</td><td>1</td></tr>\n",
              "\t<tr><td>2015</td><td>18249</td><td>4</td><td><span style=white-space:pre-wrap>COLEGIO INSTITUTO CRISTIANO GRACIA Y PAZ                    </span></td><td> 8</td><td> 83</td><td> 8301</td><td>LOS &lt;c1&gt;NGELES </td><td> 82</td><td><span style=white-space:pre-wrap>BIO BIO                    </span></td><td>⋯</td><td>NA</td><td>NA</td><td>NA</td><td>NA</td><td>NA</td><td>NA</td><td>NA</td><td>NA</td><td>NA</td><td>1</td></tr>\n",
              "\t<tr><td>2015</td><td> 1607</td><td>1</td><td><span style=white-space:pre-wrap>COLEGIO TERESITA DE LISIEUX                                 </span></td><td> 5</td><td> 51</td><td> 5101</td><td><span style=white-space:pre-wrap>VALPARA&lt;cd&gt;SO  </span></td><td> 53</td><td>VALPARAISO - ISLA DE PASCUA</td><td>⋯</td><td>NA</td><td>NA</td><td>NA</td><td>NA</td><td>NA</td><td>NA</td><td>NA</td><td>NA</td><td>NA</td><td>1</td></tr>\n",
              "\t<tr><td>2015</td><td> 3068</td><td>6</td><td>ESCUELA BELLA UNION                                         </td><td> 7</td><td> 71</td><td> 7109</td><td>SAN CLEMENTE   </td><td> 72</td><td>TALCA                      </td><td>⋯</td><td> 0</td><td> 0</td><td> 0</td><td> 0</td><td> 0</td><td> 0</td><td> 0</td><td> 0</td><td> 0</td><td>1</td></tr>\n",
              "\t<tr><td>2015</td><td>20258</td><td>4</td><td>LICEO CUMBRES DE LABRANZA                                   </td><td> 9</td><td> 91</td><td> 9101</td><td>TEMUCO         </td><td> 92</td><td>CAUTIN NORTE               </td><td>⋯</td><td> 0</td><td> 0</td><td> 0</td><td> 0</td><td> 0</td><td> 0</td><td> 0</td><td> 0</td><td> 0</td><td>1</td></tr>\n",
              "\t<tr><td>2015</td><td> 9072</td><td>7</td><td>LICEO VILLA MACUL ACADEMIA EX LICEO JUANA DE IBARBOUROU A 48</td><td>13</td><td>131</td><td>13118</td><td>MACUL          </td><td>133</td><td>ORIENTE                    </td><td>⋯</td><td>NA</td><td>NA</td><td>NA</td><td>NA</td><td>NA</td><td>NA</td><td>NA</td><td>NA</td><td>NA</td><td>1</td></tr>\n",
              "\t<tr><td>2015</td><td>12153</td><td>3</td><td><span style=white-space:pre-wrap>ESCUELA PARTICULAR GUILLERMO TELL                           </span></td><td> 5</td><td> 51</td><td> 5109</td><td>VI&lt;d1&gt;A DEL MAR</td><td> 53</td><td>VALPARAISO - ISLA DE PASCUA</td><td>⋯</td><td>NA</td><td>NA</td><td>NA</td><td>NA</td><td>NA</td><td>NA</td><td>NA</td><td>NA</td><td>NA</td><td>1</td></tr>\n",
              "\t<tr><td>2015</td><td> 9328</td><td>9</td><td>COLEGIO POLIV. SAN SEBASTIAN DE LA FLORIDA                  </td><td>13</td><td>131</td><td>13110</td><td>LA FLORIDA     </td><td>136</td><td>CORDILLERA                 </td><td>⋯</td><td> 0</td><td> 0</td><td> 0</td><td> 0</td><td> 0</td><td> 0</td><td> 0</td><td> 0</td><td> 0</td><td>1</td></tr>\n",
              "\t<tr><td>2015</td><td>22029</td><td>9</td><td>COLEGIO STAR COLLEGE                                        </td><td>10</td><td>103</td><td>10301</td><td>OSORNO         </td><td>103</td><td>OSORNO                     </td><td>⋯</td><td> 0</td><td> 0</td><td> 0</td><td> 0</td><td> 0</td><td> 0</td><td> 0</td><td> 0</td><td> 0</td><td>1</td></tr>\n",
              "\t<tr><td>2015</td><td>10743</td><td>3</td><td>INSTITUTO SAN FRANCISCO                                     </td><td>13</td><td>136</td><td>13602</td><td>EL MONTE       </td><td>135</td><td>TALAGANTE                  </td><td>⋯</td><td>NA</td><td>NA</td><td>NA</td><td>NA</td><td>NA</td><td>NA</td><td>NA</td><td>NA</td><td>NA</td><td>1</td></tr>\n",
              "\t<tr><td>2015</td><td> 1911</td><td>9</td><td><span style=white-space:pre-wrap>COLEGIO CREP                                                </span></td><td> 5</td><td> 58</td><td> 5801</td><td><span style=white-space:pre-wrap>QUILPU&lt;c9&gt;     </span></td><td> 53</td><td>VALPARAISO - ISLA DE PASCUA</td><td>⋯</td><td> 0</td><td> 0</td><td> 0</td><td> 0</td><td> 0</td><td> 0</td><td> 0</td><td> 0</td><td> 0</td><td>1</td></tr>\n",
              "\t<tr><td>2015</td><td> 4574</td><td>8</td><td><span style=white-space:pre-wrap>COLEGIO ESPA&lt;d1&gt;A                                           </span></td><td> 8</td><td> 81</td><td> 8101</td><td><span style=white-space:pre-wrap>CONCEPCI&lt;d3&gt;N  </span></td><td> 83</td><td><span style=white-space:pre-wrap>CONCEPCION                 </span></td><td>⋯</td><td>NA</td><td>NA</td><td>NA</td><td>NA</td><td>NA</td><td>NA</td><td>NA</td><td>NA</td><td>NA</td><td>1</td></tr>\n",
              "\t<tr><td>2015</td><td>14466</td><td>5</td><td><span style=white-space:pre-wrap>COLEGIO ALBORADA DE CURAUMA                                 </span></td><td> 5</td><td> 51</td><td> 5101</td><td><span style=white-space:pre-wrap>VALPARA&lt;cd&gt;SO  </span></td><td> 53</td><td>VALPARAISO - ISLA DE PASCUA</td><td>⋯</td><td> 0</td><td> 0</td><td> 0</td><td> 0</td><td> 0</td><td> 0</td><td> 0</td><td> 0</td><td> 0</td><td>1</td></tr>\n",
              "\t<tr><td>2015</td><td> 2999</td><td>8</td><td>COLEGIO CAMILO HENRIQUEZ                                    </td><td> 7</td><td> 71</td><td> 7101</td><td>TALCA          </td><td> 72</td><td>TALCA                      </td><td>⋯</td><td>NA</td><td>NA</td><td>NA</td><td>NA</td><td>NA</td><td>NA</td><td>NA</td><td>NA</td><td>NA</td><td>1</td></tr>\n",
              "\t<tr><td>2015</td><td> 1403</td><td>6</td><td><span style=white-space:pre-wrap>COL.NTRA.SE&lt;d1&gt;ORA DEL HUERTO                               </span></td><td> 5</td><td> 55</td><td> 5501</td><td><span style=white-space:pre-wrap>QUILLOTA       </span></td><td> 51</td><td><span style=white-space:pre-wrap>QUILLOTA - PETORCA         </span></td><td>⋯</td><td>NA</td><td>NA</td><td>NA</td><td>NA</td><td>NA</td><td>NA</td><td>NA</td><td>NA</td><td>NA</td><td>1</td></tr>\n",
              "\t<tr><td>2015</td><td>11594</td><td>0</td><td>COLEGIO ANTILLANCA                                          </td><td>10</td><td>103</td><td>10301</td><td>OSORNO         </td><td>103</td><td>OSORNO                     </td><td>⋯</td><td>NA</td><td>NA</td><td>NA</td><td>NA</td><td>NA</td><td>NA</td><td>NA</td><td>NA</td><td>NA</td><td>1</td></tr>\n",
              "\t<tr><td>2015</td><td> 9069</td><td>7</td><td>LICEO POLIVALENTE MERCEDES MARIN DEL SOLAR                  </td><td>13</td><td>131</td><td>13118</td><td>MACUL          </td><td>133</td><td>ORIENTE                    </td><td>⋯</td><td>NA</td><td>NA</td><td>NA</td><td>NA</td><td>NA</td><td>NA</td><td>NA</td><td>NA</td><td>NA</td><td>1</td></tr>\n",
              "\t<tr><td>2015</td><td>  691</td><td>2</td><td>ESCUELA MUNICIPAL CIELO CLARO--PAIHUANO                     </td><td> 4</td><td> 41</td><td> 4105</td><td>PAIGUANO       </td><td> 41</td><td>ELQUI                      </td><td>⋯</td><td>NA</td><td>NA</td><td>NA</td><td>NA</td><td>NA</td><td>NA</td><td>NA</td><td>NA</td><td>NA</td><td>1</td></tr>\n",
              "\t<tr><td>2015</td><td>  694</td><td>7</td><td>ESCUELA GABRIELA MISTRAL                                    </td><td> 4</td><td> 41</td><td> 4105</td><td>PAIGUANO       </td><td> 41</td><td>ELQUI                      </td><td>⋯</td><td>NA</td><td>NA</td><td>NA</td><td>NA</td><td>NA</td><td>NA</td><td>NA</td><td>NA</td><td>NA</td><td>0</td></tr>\n",
              "\t<tr><td>2015</td><td>25591</td><td>2</td><td>LICEO TECNICO PROFESIONAL DE BUIN                           </td><td>13</td><td>134</td><td>13402</td><td>BUIN           </td><td>132</td><td>SUR                        </td><td>⋯</td><td>NA</td><td>NA</td><td>NA</td><td>NA</td><td>NA</td><td>NA</td><td>NA</td><td>NA</td><td>NA</td><td>1</td></tr>\n",
              "</tbody>\n",
              "</table>\n"
            ]
          },
          "metadata": {
            "tags": []
          }
        }
      ]
    },
    {
      "cell_type": "markdown",
      "metadata": {
        "id": "RT_vHzyeyW7c"
      },
      "source": [
        "\n",
        "(b) (0.4 pts) Utilizando los operadores de álgebra relacional escribe la siguiente consulta para las tablas que definiste en el punto anterior:\n",
        "\n",
        "```\n",
        "        Liste los MRUN de los profesores que trabajan en más de un colegio.\n",
        "```\n",
        "Hint: no se debe contar para esta pregunta, solo se debe hacer el producto cruz de la tabla ''trabaja\\_en'' de la pregunta (a) con sigo misma y luego filtrar de manera adecuada\n"
      ]
    },
    {
      "cell_type": "code",
      "metadata": {
        "id": "ZbSCF5qKzSxG"
      },
      "source": [
        ""
      ],
      "execution_count": null,
      "outputs": []
    },
    {
      "cell_type": "markdown",
      "metadata": {
        "id": "UAy8JMQPycTc"
      },
      "source": [
        "\n",
        "(c) (0.4 pts) Implementa esta consulta en R (puedes usar el procedimiento dado por el álgebra relacional pero no es obligatorio)."
      ]
    },
    {
      "cell_type": "code",
      "metadata": {
        "id": "U_EZnsL8zW4D"
      },
      "source": [
        ""
      ],
      "execution_count": null,
      "outputs": []
    },
    {
      "cell_type": "code",
      "metadata": {
        "id": "k-JVznTSzWBr"
      },
      "source": [
        ""
      ],
      "execution_count": null,
      "outputs": []
    },
    {
      "cell_type": "markdown",
      "metadata": {
        "id": "6Cz6troBzafy"
      },
      "source": [
        "\n",
        "#Problema 3 (3 pts)\n",
        "\n",
        "En esta pregunta usted deberá trabajar con las bases de datos disponibles dentro del portal de datos para investigación del MINEDUC datosabiertos.mineduc.cl. En esta pregunta el objetivo es comprobar alguna hipótesis basándose en visualización de información, por lo que las elecciones de cada paso deben ser concordantes.\n"
      ]
    },
    {
      "cell_type": "markdown",
      "metadata": {
        "id": "zxBTGx9KzzMB"
      },
      "source": [
        "\n",
        "(a) (0.5 Pts) Revise la página web del MINEDUC y formule a lo menos tres distintas hipótesis que puedan responderse con los estos datos. Estas deben cumplir que:\n",
        "\n",
        "* Deben resolverse mediante el cruce de información entre 2 o más tablas (no es valido usar la misma base de datos para distintos años).\n",
        "* No deben ser triviales pues se evaluará también la calidad de la pregunta.\n"
      ]
    },
    {
      "cell_type": "markdown",
      "metadata": {
        "id": "vXCg5c1zz2hO"
      },
      "source": [
        "    \n",
        "(b) Seleccione tres bases de datos que ayuden a resolver una o más hipótesis planteadas. Explique su elección y con sus propias palabras que contiene cada base de datos seleccionada.\n",
        "    \n"
      ]
    },
    {
      "cell_type": "markdown",
      "metadata": {
        "id": "Lb2gcGHWz4S4"
      },
      "source": [
        "(c) (1 Pt)Compruebe usando R que las bases de datos se pueden mezclar entre si. Es decir, pueden hacer un join entre ellas cuyo resultado es distinto de vacío. Si es que este proceso no entrega la cantidad de tuplas suficiente para estudiar ninguna de las tres hipótesis (o al menos tener confianza del resultado) deberá rehacer los pasos (a), (b) y (c).\n",
        "    \n"
      ]
    },
    {
      "cell_type": "markdown",
      "metadata": {
        "id": "jH9HXwTlz6kV"
      },
      "source": [
        "(d) (1 Pt) Seleccione una de las tres hipótesis y a través de la visualización de información determine si esta pareciese estar acertada o no. Entregue una pequeña conclusión y análisis sobre este mini-estudio."
      ]
    }
  ]
}