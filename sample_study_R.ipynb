{
  "nbformat": 4,
  "nbformat_minor": 0,
  "metadata": {
    "colab": {
      "name": "sample_study_R.ipynb",
      "provenance": [],
      "authorship_tag": "ABX9TyPZQrJTLw/NQNQjTgz7Luvf",
      "include_colab_link": true
    },
    "kernelspec": {
      "display_name": "R",
      "name": "ir"
    },
    "language_info": {
      "name": "R"
    }
  },
  "cells": [
    {
      "cell_type": "markdown",
      "metadata": {
        "id": "view-in-github",
        "colab_type": "text"
      },
      "source": [
        "<a href=\"https://colab.research.google.com/github/maxigaarp/Gestion-De-Datos-en-R/blob/main/sample_study_R.ipynb\" target=\"_parent\"><img src=\"https://colab.research.google.com/assets/colab-badge.svg\" alt=\"Open In Colab\"/></a>"
      ]
    },
    {
      "cell_type": "code",
      "metadata": {
        "id": "emf82M2zjoNM"
      },
      "source": [
        "system(\"gdown https://drive.google.com/uc?id=1-4yIBsv8Z1aAz8kMRbMC4OXEe7kVZ_td\")\n",
        "system(\"gdown https://drive.google.com/uc?id=1-OqMYeOe-f4u1VbU1H0sCSGSK5PsAh30\")\n",
        "system(\"gdown https://drive.google.com/uc?id=1-IbkHHJyxxnhlKb7dCbw5nOq_imr4qrg\")"
      ],
      "execution_count": 1,
      "outputs": []
    },
    {
      "cell_type": "code",
      "metadata": {
        "id": "dOQ4BcXHtj0p"
      },
      "source": [
        "train<-read.csv(\"/content/train.csv\")\n",
        "lectures<-read.csv(\"/content/lectures.csv\")\n",
        "questions<-read.csv(\"/content/questions.csv\")"
      ],
      "execution_count": null,
      "outputs": []
    },
    {
      "cell_type": "code",
      "metadata": {
        "colab": {
          "base_uri": "https://localhost:8080/"
        },
        "id": "H8ewZBqvumjO",
        "outputId": "3ca53f48-fcbd-457b-abf6-484b5ef28bcb"
      },
      "source": [
        "install.packages('bit64')"
      ],
      "execution_count": 2,
      "outputs": [
        {
          "output_type": "stream",
          "text": [
            "Installing package into ‘/usr/local/lib/R/site-library’\n",
            "(as ‘lib’ is unspecified)\n",
            "\n",
            "also installing the dependency ‘bit’\n",
            "\n",
            "\n"
          ],
          "name": "stderr"
        }
      ]
    },
    {
      "cell_type": "code",
      "metadata": {
        "id": "xN6bdfytuMhI",
        "colab": {
          "base_uri": "https://localhost:8080/"
        },
        "outputId": "1dad1359-c41d-4eda-9866-4363f87f6d75"
      },
      "source": [
        "library(bit64)\n",
        "library(data.table)\n",
        "library(tidyverse)"
      ],
      "execution_count": 4,
      "outputs": [
        {
          "output_type": "stream",
          "text": [
            "Loading required package: bit\n",
            "\n",
            "\n",
            "Attaching package: ‘bit’\n",
            "\n",
            "\n",
            "The following object is masked from ‘package:base’:\n",
            "\n",
            "    xor\n",
            "\n",
            "\n",
            "Attaching package bit64\n",
            "\n",
            "package:bit64 (c) 2011-2017 Jens Oehlschlaegel\n",
            "\n",
            "creators: integer64 runif64 seq :\n",
            "\n",
            "coercion: as.integer64 as.vector as.logical as.integer as.double as.character as.bitstring\n",
            "\n",
            "logical operator: ! & | xor != == < <= >= >\n",
            "\n",
            "arithmetic operator: + - * / %/% %% ^\n",
            "\n",
            "math: sign abs sqrt log log2 log10\n",
            "\n",
            "math: floor ceiling trunc round\n",
            "\n",
            "querying: is.integer64 is.vector [is.atomic} [length] format print str\n",
            "\n",
            "values: is.na is.nan is.finite is.infinite\n",
            "\n",
            "aggregation: any all min max range sum prod\n",
            "\n",
            "cumulation: diff cummin cummax cumsum cumprod\n",
            "\n",
            "access: length<- [ [<- [[ [[<-\n",
            "\n",
            "combine: c rep cbind rbind as.data.frame\n",
            "\n",
            "WARNING don't use as subscripts\n",
            "\n",
            "WARNING semantics differ from integer\n",
            "\n",
            "for more help type ?bit64\n",
            "\n",
            "\n",
            "Attaching package: ‘bit64’\n",
            "\n",
            "\n",
            "The following objects are masked from ‘package:base’:\n",
            "\n",
            "    :, %in%, is.double, match, order, rank\n",
            "\n",
            "\n",
            "\n",
            "Attaching package: ‘data.table’\n",
            "\n",
            "\n",
            "The following object is masked from ‘package:bit’:\n",
            "\n",
            "    setattr\n",
            "\n",
            "\n",
            "Warning message in system(\"timedatectl\", intern = TRUE):\n",
            "“running command 'timedatectl' had status 1”\n",
            "── \u001b[1mAttaching packages\u001b[22m ─────────────────────────────────────── tidyverse 1.3.1 ──\n",
            "\n",
            "\u001b[32m✔\u001b[39m \u001b[34mggplot2\u001b[39m 3.3.3     \u001b[32m✔\u001b[39m \u001b[34mpurrr  \u001b[39m 0.3.4\n",
            "\u001b[32m✔\u001b[39m \u001b[34mtibble \u001b[39m 3.1.2     \u001b[32m✔\u001b[39m \u001b[34mdplyr  \u001b[39m 1.0.6\n",
            "\u001b[32m✔\u001b[39m \u001b[34mtidyr  \u001b[39m 1.1.3     \u001b[32m✔\u001b[39m \u001b[34mstringr\u001b[39m 1.4.0\n",
            "\u001b[32m✔\u001b[39m \u001b[34mreadr  \u001b[39m 1.4.0     \u001b[32m✔\u001b[39m \u001b[34mforcats\u001b[39m 0.5.1\n",
            "\n",
            "── \u001b[1mConflicts\u001b[22m ────────────────────────────────────────── tidyverse_conflicts() ──\n",
            "\u001b[31m✖\u001b[39m \u001b[34mdplyr\u001b[39m::\u001b[32mbetween()\u001b[39m   masks \u001b[34mdata.table\u001b[39m::between()\n",
            "\u001b[31m✖\u001b[39m \u001b[34mdplyr\u001b[39m::\u001b[32mfilter()\u001b[39m    masks \u001b[34mstats\u001b[39m::filter()\n",
            "\u001b[31m✖\u001b[39m \u001b[34mdplyr\u001b[39m::\u001b[32mfirst()\u001b[39m     masks \u001b[34mdata.table\u001b[39m::first()\n",
            "\u001b[31m✖\u001b[39m \u001b[34mdplyr\u001b[39m::\u001b[32mlag()\u001b[39m       masks \u001b[34mstats\u001b[39m::lag()\n",
            "\u001b[31m✖\u001b[39m \u001b[34mdplyr\u001b[39m::\u001b[32mlast()\u001b[39m      masks \u001b[34mdata.table\u001b[39m::last()\n",
            "\u001b[31m✖\u001b[39m \u001b[34mpurrr\u001b[39m::\u001b[32mtranspose()\u001b[39m masks \u001b[34mdata.table\u001b[39m::transpose()\n",
            "\n"
          ],
          "name": "stderr"
        }
      ]
    },
    {
      "cell_type": "code",
      "metadata": {
        "id": "LVabnjCFysvB"
      },
      "source": [
        "fig <- function(width, heigth){\n",
        "     options(repr.plot.width = width, repr.plot.height = heigth)\n",
        "}"
      ],
      "execution_count": 5,
      "outputs": []
    },
    {
      "cell_type": "markdown",
      "metadata": {
        "id": "z_v1pZrwpk18"
      },
      "source": [
        "# "
      ]
    },
    {
      "cell_type": "code",
      "metadata": {
        "colab": {
          "base_uri": "https://localhost:8080/",
          "height": 35
        },
        "id": "GwWv24URrUFW",
        "outputId": "6a641a98-2576-4a7f-ea96-e0f7e01d5ed7"
      },
      "source": [
        ""
      ],
      "execution_count": 3,
      "outputs": [
        {
          "output_type": "display_data",
          "data": {
            "text/plain": [
              "[1] 5e+06"
            ],
            "text/latex": "5e+06",
            "text/markdown": "5e+06",
            "text/html": [
              "5e+06"
            ]
          },
          "metadata": {
            "tags": []
          }
        }
      ]
    },
    {
      "cell_type": "code",
      "metadata": {
        "id": "RaUfKr9EuO2V"
      },
      "source": [
        "train<-as.data.frame(fread(\"/content/train.csv\", nrows=5e6))\n",
        "lectures<-as.data.frame(fread(\"/content/lectures.csv\"))\n",
        "questions<-as.data.frame(fread(\"/content/questions.csv\"))\n"
      ],
      "execution_count": 6,
      "outputs": []
    },
    {
      "cell_type": "code",
      "metadata": {
        "colab": {
          "base_uri": "https://localhost:8080/",
          "height": 1000
        },
        "id": "78Bvz582u2DL",
        "outputId": "8c51df50-4457-4a26-b1bb-fc50ff6f1bcb"
      },
      "source": [
        "train"
      ],
      "execution_count": 7,
      "outputs": [
        {
          "output_type": "display_data",
          "data": {
            "text/plain": [
              "        row_id  timestamp  user_id   content_id content_type_id\n",
              "1        0           0     115       5692       0              \n",
              "2        1       56943     115       5716       0              \n",
              "3        2      118363     115        128       0              \n",
              "4        3      131167     115       7860       0              \n",
              "5        4      137965     115       7922       0              \n",
              "6        5      157063     115        156       0              \n",
              "7        6      176092     115         51       0              \n",
              "8        7      194190     115         50       0              \n",
              "9        8      212463     115       7896       0              \n",
              "10       9      230983     115       7863       0              \n",
              "11      10      255381     115        152       0              \n",
              "12      11      280033     115        104       0              \n",
              "13      12      302994     115        108       0              \n",
              "14      13      328686     115       7900       0              \n",
              "15      14      352686     115       7901       0              \n",
              "16      15      376162     115       7971       0              \n",
              "17      16      398020     115         25       0              \n",
              "18      17      418008     115        183       0              \n",
              "19      18      437272     115       7926       0              \n",
              "20      19      468511     115       7927       0              \n",
              "21      20      490100     115          4       0              \n",
              "22      21      510583     115       7984       0              \n",
              "23      22      534187     115         45       0              \n",
              "24      23      557677     115        185       0              \n",
              "25      24      575289     115         55       0              \n",
              "26      25      597863     115       7876       0              \n",
              "27      26      621464     115          6       0              \n",
              "28      27      645415     115        172       0              \n",
              "29      28      670520     115       7898       0              \n",
              "30      29      692971     115        175       0              \n",
              "⋮       ⋮       ⋮          ⋮         ⋮          ⋮              \n",
              "4999971 4999970 3116514453 106763796 3854       0              \n",
              "4999972 4999971 3116600395 106763796 5565       0              \n",
              "4999973 4999972 3116654062 106763796 4499       0              \n",
              "4999974 4999973 3116695641 106763796 9095       0              \n",
              "4999975 4999974 3116724973 106763796 5207       0              \n",
              "4999976 4999975 3116760943 106763796 4860       0              \n",
              "4999977 4999976 3116786019 106763796 4417       0              \n",
              "4999978 4999977 3116825160 106763796 8538       0              \n",
              "4999979 4999978 3628970672 106763796 3852       0              \n",
              "4999980 4999979 3634375196 106763796  446       0              \n",
              "4999981 4999980 3634414624 106763796 1003       0              \n",
              "4999982 4999981 3634442878 106763796 1099       0              \n",
              "4999983 4999982 3634479762 106763796 1335       0              \n",
              "4999984 4999983 3634516010 106763796 1109       0              \n",
              "4999985 4999984 3634545199 106763796  494       0              \n",
              "4999986 4999985 3634571173 106763796 1353       0              \n",
              "4999987 4999986 3634614044 106763796 1152       0              \n",
              "4999988 4999987 3634658976 106763796  465       0              \n",
              "4999989 4999988 3634700046 106763796  969       0              \n",
              "4999990 4999989 3721434216 106763796 4501       0              \n",
              "4999991 4999990 3721452050 106763796 4340       0              \n",
              "4999992 4999991 3721474991 106763796 8348       0              \n",
              "4999993 4999992 3936486350 106763796 5701       0              \n",
              "4999994 4999993 4062838081 106763796  791       0              \n",
              "4999995 4999994 4151508495 106763796 6258       0              \n",
              "4999996 4999995 4151535711 106763796 3610       0              \n",
              "4999997 4999996 4151558505 106763796 8907       0              \n",
              "4999998 4999997 4151583786 106763796 4039       0              \n",
              "4999999 4999998 4231505166 106763796  996       0              \n",
              "5000000 4999999 4231566399 106763796  471       0              \n",
              "        task_container_id user_answer answered_correctly\n",
              "1        1                3           1                 \n",
              "2        2                2           1                 \n",
              "3        0                0           1                 \n",
              "4        3                0           1                 \n",
              "5        4                1           1                 \n",
              "6        5                2           1                 \n",
              "7        6                0           1                 \n",
              "8        7                3           1                 \n",
              "9        8                2           1                 \n",
              "10       9                0           1                 \n",
              "11      10                2           0                 \n",
              "12      11                1           0                 \n",
              "13      12                1           0                 \n",
              "14      13                0           1                 \n",
              "15      14                1           1                 \n",
              "16      15                2           1                 \n",
              "17      16                1           1                 \n",
              "18      17                0           0                 \n",
              "19      18                1           1                 \n",
              "20      19                3           1                 \n",
              "21      20                1           0                 \n",
              "22      21                3           0                 \n",
              "23      22                2           0                 \n",
              "24      23                3           0                 \n",
              "25      24                3           1                 \n",
              "26      25                3           1                 \n",
              "27      26                2           1                 \n",
              "28      27                1           1                 \n",
              "29      28                2           1                 \n",
              "30      29                0           0                 \n",
              "⋮       ⋮                 ⋮           ⋮                 \n",
              "4999971 287               2           1                 \n",
              "4999972 288               2           0                 \n",
              "4999973 289               3           1                 \n",
              "4999974 290               3           1                 \n",
              "4999975 291               2           0                 \n",
              "4999976 292               3           1                 \n",
              "4999977 293               0           1                 \n",
              "4999978 294               3           1                 \n",
              "4999979 295               2           0                 \n",
              "4999980 297               1           1                 \n",
              "4999981 298               0           1                 \n",
              "4999982 299               3           1                 \n",
              "4999983 300               1           0                 \n",
              "4999984 301               3           1                 \n",
              "4999985 302               3           1                 \n",
              "4999986 303               0           1                 \n",
              "4999987 304               3           0                 \n",
              "4999988 305               1           1                 \n",
              "4999989 306               0           1                 \n",
              "4999990 296               0           0                 \n",
              "4999991 307               1           1                 \n",
              "4999992 308               2           0                 \n",
              "4999993 309               0           0                 \n",
              "4999994 310               0           0                 \n",
              "4999995 311               2           0                 \n",
              "4999996 312               1           1                 \n",
              "4999997 313               3           1                 \n",
              "4999998 314               2           1                 \n",
              "4999999 316               0           1                 \n",
              "5000000 317               1           0                 \n",
              "        prior_question_elapsed_time prior_question_had_explanation\n",
              "1          NA                          NA                         \n",
              "2       37000                       FALSE                         \n",
              "3       55000                       FALSE                         \n",
              "4       19000                       FALSE                         \n",
              "5       11000                       FALSE                         \n",
              "6        5000                       FALSE                         \n",
              "7       17000                       FALSE                         \n",
              "8       17000                       FALSE                         \n",
              "9       16000                       FALSE                         \n",
              "10      16000                       FALSE                         \n",
              "11      17000                       FALSE                         \n",
              "12      22000                       FALSE                         \n",
              "13      23000                       FALSE                         \n",
              "14      21000                       FALSE                         \n",
              "15      24000                       FALSE                         \n",
              "16      22000                       FALSE                         \n",
              "17      21000                       FALSE                         \n",
              "18      20000                       FALSE                         \n",
              "19      18000                       FALSE                         \n",
              "20      17000                       FALSE                         \n",
              "21      29000                       FALSE                         \n",
              "22      20000                       FALSE                         \n",
              "23      19000                       FALSE                         \n",
              "24      21000                       FALSE                         \n",
              "25      22000                       FALSE                         \n",
              "26      16000                       FALSE                         \n",
              "27      20000                       FALSE                         \n",
              "28      22000                       FALSE                         \n",
              "29      22000                       FALSE                         \n",
              "30      23000                       FALSE                         \n",
              "⋮       ⋮                           ⋮                             \n",
              "4999971 27000                       TRUE                          \n",
              "4999972 31000                       TRUE                          \n",
              "4999973 39000                       TRUE                          \n",
              "4999974 29000                       TRUE                          \n",
              "4999975 23000                       TRUE                          \n",
              "4999976 16000                       TRUE                          \n",
              "4999977 22000                       TRUE                          \n",
              "4999978 13000                       TRUE                          \n",
              "4999979 16000                       TRUE                          \n",
              "4999980 18000                       TRUE                          \n",
              "4999981 21000                       TRUE                          \n",
              "4999982 24000                       TRUE                          \n",
              "4999983 18000                       TRUE                          \n",
              "4999984 25000                       TRUE                          \n",
              "4999985 26000                       TRUE                          \n",
              "4999986 20000                       TRUE                          \n",
              "4999987 18000                       TRUE                          \n",
              "4999988 21000                       TRUE                          \n",
              "4999989 24000                       TRUE                          \n",
              "4999990 23000                       TRUE                          \n",
              "4999991  3000                       TRUE                          \n",
              "4999992  6000                       TRUE                          \n",
              "4999993 11000                       TRUE                          \n",
              "4999994  9000                       TRUE                          \n",
              "4999995 21000                       TRUE                          \n",
              "4999996 21000                       TRUE                          \n",
              "4999997 19000                       TRUE                          \n",
              "4999998 12000                       TRUE                          \n",
              "4999999 13000                       TRUE                          \n",
              "5000000 18000                       TRUE                          "
            ],
            "text/latex": "A data.frame: 5000000 × 10\n\\begin{tabular}{llllllllll}\n row\\_id & timestamp & user\\_id & content\\_id & content\\_type\\_id & task\\_container\\_id & user\\_answer & answered\\_correctly & prior\\_question\\_elapsed\\_time & prior\\_question\\_had\\_explanation\\\\\n <int> & <int64> & <int> & <int> & <int> & <int> & <int> & <int> & <dbl> & <lgl>\\\\\n\\hline\n\t  0 &      0 & 115 & 5692 & 0 &  1 & 3 & 1 &    NA &    NA\\\\\n\t  1 &  56943 & 115 & 5716 & 0 &  2 & 2 & 1 & 37000 & FALSE\\\\\n\t  2 & 118363 & 115 &  128 & 0 &  0 & 0 & 1 & 55000 & FALSE\\\\\n\t  3 & 131167 & 115 & 7860 & 0 &  3 & 0 & 1 & 19000 & FALSE\\\\\n\t  4 & 137965 & 115 & 7922 & 0 &  4 & 1 & 1 & 11000 & FALSE\\\\\n\t  5 & 157063 & 115 &  156 & 0 &  5 & 2 & 1 &  5000 & FALSE\\\\\n\t  6 & 176092 & 115 &   51 & 0 &  6 & 0 & 1 & 17000 & FALSE\\\\\n\t  7 & 194190 & 115 &   50 & 0 &  7 & 3 & 1 & 17000 & FALSE\\\\\n\t  8 & 212463 & 115 & 7896 & 0 &  8 & 2 & 1 & 16000 & FALSE\\\\\n\t  9 & 230983 & 115 & 7863 & 0 &  9 & 0 & 1 & 16000 & FALSE\\\\\n\t 10 & 255381 & 115 &  152 & 0 & 10 & 2 & 0 & 17000 & FALSE\\\\\n\t 11 & 280033 & 115 &  104 & 0 & 11 & 1 & 0 & 22000 & FALSE\\\\\n\t 12 & 302994 & 115 &  108 & 0 & 12 & 1 & 0 & 23000 & FALSE\\\\\n\t 13 & 328686 & 115 & 7900 & 0 & 13 & 0 & 1 & 21000 & FALSE\\\\\n\t 14 & 352686 & 115 & 7901 & 0 & 14 & 1 & 1 & 24000 & FALSE\\\\\n\t 15 & 376162 & 115 & 7971 & 0 & 15 & 2 & 1 & 22000 & FALSE\\\\\n\t 16 & 398020 & 115 &   25 & 0 & 16 & 1 & 1 & 21000 & FALSE\\\\\n\t 17 & 418008 & 115 &  183 & 0 & 17 & 0 & 0 & 20000 & FALSE\\\\\n\t 18 & 437272 & 115 & 7926 & 0 & 18 & 1 & 1 & 18000 & FALSE\\\\\n\t 19 & 468511 & 115 & 7927 & 0 & 19 & 3 & 1 & 17000 & FALSE\\\\\n\t 20 & 490100 & 115 &    4 & 0 & 20 & 1 & 0 & 29000 & FALSE\\\\\n\t 21 & 510583 & 115 & 7984 & 0 & 21 & 3 & 0 & 20000 & FALSE\\\\\n\t 22 & 534187 & 115 &   45 & 0 & 22 & 2 & 0 & 19000 & FALSE\\\\\n\t 23 & 557677 & 115 &  185 & 0 & 23 & 3 & 0 & 21000 & FALSE\\\\\n\t 24 & 575289 & 115 &   55 & 0 & 24 & 3 & 1 & 22000 & FALSE\\\\\n\t 25 & 597863 & 115 & 7876 & 0 & 25 & 3 & 1 & 16000 & FALSE\\\\\n\t 26 & 621464 & 115 &    6 & 0 & 26 & 2 & 1 & 20000 & FALSE\\\\\n\t 27 & 645415 & 115 &  172 & 0 & 27 & 1 & 1 & 22000 & FALSE\\\\\n\t 28 & 670520 & 115 & 7898 & 0 & 28 & 2 & 1 & 22000 & FALSE\\\\\n\t 29 & 692971 & 115 &  175 & 0 & 29 & 0 & 0 & 23000 & FALSE\\\\\n\t ⋮ & ⋮ & ⋮ & ⋮ & ⋮ & ⋮ & ⋮ & ⋮ & ⋮ & ⋮\\\\\n\t 4999970 & 3116514453 & 106763796 & 3854 & 0 & 287 & 2 & 1 & 27000 & TRUE\\\\\n\t 4999971 & 3116600395 & 106763796 & 5565 & 0 & 288 & 2 & 0 & 31000 & TRUE\\\\\n\t 4999972 & 3116654062 & 106763796 & 4499 & 0 & 289 & 3 & 1 & 39000 & TRUE\\\\\n\t 4999973 & 3116695641 & 106763796 & 9095 & 0 & 290 & 3 & 1 & 29000 & TRUE\\\\\n\t 4999974 & 3116724973 & 106763796 & 5207 & 0 & 291 & 2 & 0 & 23000 & TRUE\\\\\n\t 4999975 & 3116760943 & 106763796 & 4860 & 0 & 292 & 3 & 1 & 16000 & TRUE\\\\\n\t 4999976 & 3116786019 & 106763796 & 4417 & 0 & 293 & 0 & 1 & 22000 & TRUE\\\\\n\t 4999977 & 3116825160 & 106763796 & 8538 & 0 & 294 & 3 & 1 & 13000 & TRUE\\\\\n\t 4999978 & 3628970672 & 106763796 & 3852 & 0 & 295 & 2 & 0 & 16000 & TRUE\\\\\n\t 4999979 & 3634375196 & 106763796 &  446 & 0 & 297 & 1 & 1 & 18000 & TRUE\\\\\n\t 4999980 & 3634414624 & 106763796 & 1003 & 0 & 298 & 0 & 1 & 21000 & TRUE\\\\\n\t 4999981 & 3634442878 & 106763796 & 1099 & 0 & 299 & 3 & 1 & 24000 & TRUE\\\\\n\t 4999982 & 3634479762 & 106763796 & 1335 & 0 & 300 & 1 & 0 & 18000 & TRUE\\\\\n\t 4999983 & 3634516010 & 106763796 & 1109 & 0 & 301 & 3 & 1 & 25000 & TRUE\\\\\n\t 4999984 & 3634545199 & 106763796 &  494 & 0 & 302 & 3 & 1 & 26000 & TRUE\\\\\n\t 4999985 & 3634571173 & 106763796 & 1353 & 0 & 303 & 0 & 1 & 20000 & TRUE\\\\\n\t 4999986 & 3634614044 & 106763796 & 1152 & 0 & 304 & 3 & 0 & 18000 & TRUE\\\\\n\t 4999987 & 3634658976 & 106763796 &  465 & 0 & 305 & 1 & 1 & 21000 & TRUE\\\\\n\t 4999988 & 3634700046 & 106763796 &  969 & 0 & 306 & 0 & 1 & 24000 & TRUE\\\\\n\t 4999989 & 3721434216 & 106763796 & 4501 & 0 & 296 & 0 & 0 & 23000 & TRUE\\\\\n\t 4999990 & 3721452050 & 106763796 & 4340 & 0 & 307 & 1 & 1 &  3000 & TRUE\\\\\n\t 4999991 & 3721474991 & 106763796 & 8348 & 0 & 308 & 2 & 0 &  6000 & TRUE\\\\\n\t 4999992 & 3936486350 & 106763796 & 5701 & 0 & 309 & 0 & 0 & 11000 & TRUE\\\\\n\t 4999993 & 4062838081 & 106763796 &  791 & 0 & 310 & 0 & 0 &  9000 & TRUE\\\\\n\t 4999994 & 4151508495 & 106763796 & 6258 & 0 & 311 & 2 & 0 & 21000 & TRUE\\\\\n\t 4999995 & 4151535711 & 106763796 & 3610 & 0 & 312 & 1 & 1 & 21000 & TRUE\\\\\n\t 4999996 & 4151558505 & 106763796 & 8907 & 0 & 313 & 3 & 1 & 19000 & TRUE\\\\\n\t 4999997 & 4151583786 & 106763796 & 4039 & 0 & 314 & 2 & 1 & 12000 & TRUE\\\\\n\t 4999998 & 4231505166 & 106763796 &  996 & 0 & 316 & 0 & 1 & 13000 & TRUE\\\\\n\t 4999999 & 4231566399 & 106763796 &  471 & 0 & 317 & 1 & 0 & 18000 & TRUE\\\\\n\\end{tabular}\n",
            "text/markdown": "\nA data.frame: 5000000 × 10\n\n| row_id &lt;int&gt; | timestamp &lt;int64&gt; | user_id &lt;int&gt; | content_id &lt;int&gt; | content_type_id &lt;int&gt; | task_container_id &lt;int&gt; | user_answer &lt;int&gt; | answered_correctly &lt;int&gt; | prior_question_elapsed_time &lt;dbl&gt; | prior_question_had_explanation &lt;lgl&gt; |\n|---|---|---|---|---|---|---|---|---|---|\n|  0 |      0 | 115 | 5692 | 0 |  1 | 3 | 1 |    NA |    NA |\n|  1 |  56943 | 115 | 5716 | 0 |  2 | 2 | 1 | 37000 | FALSE |\n|  2 | 118363 | 115 |  128 | 0 |  0 | 0 | 1 | 55000 | FALSE |\n|  3 | 131167 | 115 | 7860 | 0 |  3 | 0 | 1 | 19000 | FALSE |\n|  4 | 137965 | 115 | 7922 | 0 |  4 | 1 | 1 | 11000 | FALSE |\n|  5 | 157063 | 115 |  156 | 0 |  5 | 2 | 1 |  5000 | FALSE |\n|  6 | 176092 | 115 |   51 | 0 |  6 | 0 | 1 | 17000 | FALSE |\n|  7 | 194190 | 115 |   50 | 0 |  7 | 3 | 1 | 17000 | FALSE |\n|  8 | 212463 | 115 | 7896 | 0 |  8 | 2 | 1 | 16000 | FALSE |\n|  9 | 230983 | 115 | 7863 | 0 |  9 | 0 | 1 | 16000 | FALSE |\n| 10 | 255381 | 115 |  152 | 0 | 10 | 2 | 0 | 17000 | FALSE |\n| 11 | 280033 | 115 |  104 | 0 | 11 | 1 | 0 | 22000 | FALSE |\n| 12 | 302994 | 115 |  108 | 0 | 12 | 1 | 0 | 23000 | FALSE |\n| 13 | 328686 | 115 | 7900 | 0 | 13 | 0 | 1 | 21000 | FALSE |\n| 14 | 352686 | 115 | 7901 | 0 | 14 | 1 | 1 | 24000 | FALSE |\n| 15 | 376162 | 115 | 7971 | 0 | 15 | 2 | 1 | 22000 | FALSE |\n| 16 | 398020 | 115 |   25 | 0 | 16 | 1 | 1 | 21000 | FALSE |\n| 17 | 418008 | 115 |  183 | 0 | 17 | 0 | 0 | 20000 | FALSE |\n| 18 | 437272 | 115 | 7926 | 0 | 18 | 1 | 1 | 18000 | FALSE |\n| 19 | 468511 | 115 | 7927 | 0 | 19 | 3 | 1 | 17000 | FALSE |\n| 20 | 490100 | 115 |    4 | 0 | 20 | 1 | 0 | 29000 | FALSE |\n| 21 | 510583 | 115 | 7984 | 0 | 21 | 3 | 0 | 20000 | FALSE |\n| 22 | 534187 | 115 |   45 | 0 | 22 | 2 | 0 | 19000 | FALSE |\n| 23 | 557677 | 115 |  185 | 0 | 23 | 3 | 0 | 21000 | FALSE |\n| 24 | 575289 | 115 |   55 | 0 | 24 | 3 | 1 | 22000 | FALSE |\n| 25 | 597863 | 115 | 7876 | 0 | 25 | 3 | 1 | 16000 | FALSE |\n| 26 | 621464 | 115 |    6 | 0 | 26 | 2 | 1 | 20000 | FALSE |\n| 27 | 645415 | 115 |  172 | 0 | 27 | 1 | 1 | 22000 | FALSE |\n| 28 | 670520 | 115 | 7898 | 0 | 28 | 2 | 1 | 22000 | FALSE |\n| 29 | 692971 | 115 |  175 | 0 | 29 | 0 | 0 | 23000 | FALSE |\n| ⋮ | ⋮ | ⋮ | ⋮ | ⋮ | ⋮ | ⋮ | ⋮ | ⋮ | ⋮ |\n| 4999970 | 3116514453 | 106763796 | 3854 | 0 | 287 | 2 | 1 | 27000 | TRUE |\n| 4999971 | 3116600395 | 106763796 | 5565 | 0 | 288 | 2 | 0 | 31000 | TRUE |\n| 4999972 | 3116654062 | 106763796 | 4499 | 0 | 289 | 3 | 1 | 39000 | TRUE |\n| 4999973 | 3116695641 | 106763796 | 9095 | 0 | 290 | 3 | 1 | 29000 | TRUE |\n| 4999974 | 3116724973 | 106763796 | 5207 | 0 | 291 | 2 | 0 | 23000 | TRUE |\n| 4999975 | 3116760943 | 106763796 | 4860 | 0 | 292 | 3 | 1 | 16000 | TRUE |\n| 4999976 | 3116786019 | 106763796 | 4417 | 0 | 293 | 0 | 1 | 22000 | TRUE |\n| 4999977 | 3116825160 | 106763796 | 8538 | 0 | 294 | 3 | 1 | 13000 | TRUE |\n| 4999978 | 3628970672 | 106763796 | 3852 | 0 | 295 | 2 | 0 | 16000 | TRUE |\n| 4999979 | 3634375196 | 106763796 |  446 | 0 | 297 | 1 | 1 | 18000 | TRUE |\n| 4999980 | 3634414624 | 106763796 | 1003 | 0 | 298 | 0 | 1 | 21000 | TRUE |\n| 4999981 | 3634442878 | 106763796 | 1099 | 0 | 299 | 3 | 1 | 24000 | TRUE |\n| 4999982 | 3634479762 | 106763796 | 1335 | 0 | 300 | 1 | 0 | 18000 | TRUE |\n| 4999983 | 3634516010 | 106763796 | 1109 | 0 | 301 | 3 | 1 | 25000 | TRUE |\n| 4999984 | 3634545199 | 106763796 |  494 | 0 | 302 | 3 | 1 | 26000 | TRUE |\n| 4999985 | 3634571173 | 106763796 | 1353 | 0 | 303 | 0 | 1 | 20000 | TRUE |\n| 4999986 | 3634614044 | 106763796 | 1152 | 0 | 304 | 3 | 0 | 18000 | TRUE |\n| 4999987 | 3634658976 | 106763796 |  465 | 0 | 305 | 1 | 1 | 21000 | TRUE |\n| 4999988 | 3634700046 | 106763796 |  969 | 0 | 306 | 0 | 1 | 24000 | TRUE |\n| 4999989 | 3721434216 | 106763796 | 4501 | 0 | 296 | 0 | 0 | 23000 | TRUE |\n| 4999990 | 3721452050 | 106763796 | 4340 | 0 | 307 | 1 | 1 |  3000 | TRUE |\n| 4999991 | 3721474991 | 106763796 | 8348 | 0 | 308 | 2 | 0 |  6000 | TRUE |\n| 4999992 | 3936486350 | 106763796 | 5701 | 0 | 309 | 0 | 0 | 11000 | TRUE |\n| 4999993 | 4062838081 | 106763796 |  791 | 0 | 310 | 0 | 0 |  9000 | TRUE |\n| 4999994 | 4151508495 | 106763796 | 6258 | 0 | 311 | 2 | 0 | 21000 | TRUE |\n| 4999995 | 4151535711 | 106763796 | 3610 | 0 | 312 | 1 | 1 | 21000 | TRUE |\n| 4999996 | 4151558505 | 106763796 | 8907 | 0 | 313 | 3 | 1 | 19000 | TRUE |\n| 4999997 | 4151583786 | 106763796 | 4039 | 0 | 314 | 2 | 1 | 12000 | TRUE |\n| 4999998 | 4231505166 | 106763796 |  996 | 0 | 316 | 0 | 1 | 13000 | TRUE |\n| 4999999 | 4231566399 | 106763796 |  471 | 0 | 317 | 1 | 0 | 18000 | TRUE |\n\n",
            "text/html": [
              "<table class=\"dataframe\">\n",
              "<caption>A data.frame: 5000000 × 10</caption>\n",
              "<thead>\n",
              "\t<tr><th scope=col>row_id</th><th scope=col>timestamp</th><th scope=col>user_id</th><th scope=col>content_id</th><th scope=col>content_type_id</th><th scope=col>task_container_id</th><th scope=col>user_answer</th><th scope=col>answered_correctly</th><th scope=col>prior_question_elapsed_time</th><th scope=col>prior_question_had_explanation</th></tr>\n",
              "\t<tr><th scope=col>&lt;int&gt;</th><th scope=col>&lt;int64&gt;</th><th scope=col>&lt;int&gt;</th><th scope=col>&lt;int&gt;</th><th scope=col>&lt;int&gt;</th><th scope=col>&lt;int&gt;</th><th scope=col>&lt;int&gt;</th><th scope=col>&lt;int&gt;</th><th scope=col>&lt;dbl&gt;</th><th scope=col>&lt;lgl&gt;</th></tr>\n",
              "</thead>\n",
              "<tbody>\n",
              "\t<tr><td> 0</td><td>     0</td><td>115</td><td>5692</td><td>0</td><td> 1</td><td>3</td><td>1</td><td>   NA</td><td>   NA</td></tr>\n",
              "\t<tr><td> 1</td><td> 56943</td><td>115</td><td>5716</td><td>0</td><td> 2</td><td>2</td><td>1</td><td>37000</td><td>FALSE</td></tr>\n",
              "\t<tr><td> 2</td><td>118363</td><td>115</td><td> 128</td><td>0</td><td> 0</td><td>0</td><td>1</td><td>55000</td><td>FALSE</td></tr>\n",
              "\t<tr><td> 3</td><td>131167</td><td>115</td><td>7860</td><td>0</td><td> 3</td><td>0</td><td>1</td><td>19000</td><td>FALSE</td></tr>\n",
              "\t<tr><td> 4</td><td>137965</td><td>115</td><td>7922</td><td>0</td><td> 4</td><td>1</td><td>1</td><td>11000</td><td>FALSE</td></tr>\n",
              "\t<tr><td> 5</td><td>157063</td><td>115</td><td> 156</td><td>0</td><td> 5</td><td>2</td><td>1</td><td> 5000</td><td>FALSE</td></tr>\n",
              "\t<tr><td> 6</td><td>176092</td><td>115</td><td>  51</td><td>0</td><td> 6</td><td>0</td><td>1</td><td>17000</td><td>FALSE</td></tr>\n",
              "\t<tr><td> 7</td><td>194190</td><td>115</td><td>  50</td><td>0</td><td> 7</td><td>3</td><td>1</td><td>17000</td><td>FALSE</td></tr>\n",
              "\t<tr><td> 8</td><td>212463</td><td>115</td><td>7896</td><td>0</td><td> 8</td><td>2</td><td>1</td><td>16000</td><td>FALSE</td></tr>\n",
              "\t<tr><td> 9</td><td>230983</td><td>115</td><td>7863</td><td>0</td><td> 9</td><td>0</td><td>1</td><td>16000</td><td>FALSE</td></tr>\n",
              "\t<tr><td>10</td><td>255381</td><td>115</td><td> 152</td><td>0</td><td>10</td><td>2</td><td>0</td><td>17000</td><td>FALSE</td></tr>\n",
              "\t<tr><td>11</td><td>280033</td><td>115</td><td> 104</td><td>0</td><td>11</td><td>1</td><td>0</td><td>22000</td><td>FALSE</td></tr>\n",
              "\t<tr><td>12</td><td>302994</td><td>115</td><td> 108</td><td>0</td><td>12</td><td>1</td><td>0</td><td>23000</td><td>FALSE</td></tr>\n",
              "\t<tr><td>13</td><td>328686</td><td>115</td><td>7900</td><td>0</td><td>13</td><td>0</td><td>1</td><td>21000</td><td>FALSE</td></tr>\n",
              "\t<tr><td>14</td><td>352686</td><td>115</td><td>7901</td><td>0</td><td>14</td><td>1</td><td>1</td><td>24000</td><td>FALSE</td></tr>\n",
              "\t<tr><td>15</td><td>376162</td><td>115</td><td>7971</td><td>0</td><td>15</td><td>2</td><td>1</td><td>22000</td><td>FALSE</td></tr>\n",
              "\t<tr><td>16</td><td>398020</td><td>115</td><td>  25</td><td>0</td><td>16</td><td>1</td><td>1</td><td>21000</td><td>FALSE</td></tr>\n",
              "\t<tr><td>17</td><td>418008</td><td>115</td><td> 183</td><td>0</td><td>17</td><td>0</td><td>0</td><td>20000</td><td>FALSE</td></tr>\n",
              "\t<tr><td>18</td><td>437272</td><td>115</td><td>7926</td><td>0</td><td>18</td><td>1</td><td>1</td><td>18000</td><td>FALSE</td></tr>\n",
              "\t<tr><td>19</td><td>468511</td><td>115</td><td>7927</td><td>0</td><td>19</td><td>3</td><td>1</td><td>17000</td><td>FALSE</td></tr>\n",
              "\t<tr><td>20</td><td>490100</td><td>115</td><td>   4</td><td>0</td><td>20</td><td>1</td><td>0</td><td>29000</td><td>FALSE</td></tr>\n",
              "\t<tr><td>21</td><td>510583</td><td>115</td><td>7984</td><td>0</td><td>21</td><td>3</td><td>0</td><td>20000</td><td>FALSE</td></tr>\n",
              "\t<tr><td>22</td><td>534187</td><td>115</td><td>  45</td><td>0</td><td>22</td><td>2</td><td>0</td><td>19000</td><td>FALSE</td></tr>\n",
              "\t<tr><td>23</td><td>557677</td><td>115</td><td> 185</td><td>0</td><td>23</td><td>3</td><td>0</td><td>21000</td><td>FALSE</td></tr>\n",
              "\t<tr><td>24</td><td>575289</td><td>115</td><td>  55</td><td>0</td><td>24</td><td>3</td><td>1</td><td>22000</td><td>FALSE</td></tr>\n",
              "\t<tr><td>25</td><td>597863</td><td>115</td><td>7876</td><td>0</td><td>25</td><td>3</td><td>1</td><td>16000</td><td>FALSE</td></tr>\n",
              "\t<tr><td>26</td><td>621464</td><td>115</td><td>   6</td><td>0</td><td>26</td><td>2</td><td>1</td><td>20000</td><td>FALSE</td></tr>\n",
              "\t<tr><td>27</td><td>645415</td><td>115</td><td> 172</td><td>0</td><td>27</td><td>1</td><td>1</td><td>22000</td><td>FALSE</td></tr>\n",
              "\t<tr><td>28</td><td>670520</td><td>115</td><td>7898</td><td>0</td><td>28</td><td>2</td><td>1</td><td>22000</td><td>FALSE</td></tr>\n",
              "\t<tr><td>29</td><td>692971</td><td>115</td><td> 175</td><td>0</td><td>29</td><td>0</td><td>0</td><td>23000</td><td>FALSE</td></tr>\n",
              "\t<tr><td>⋮</td><td>⋮</td><td>⋮</td><td>⋮</td><td>⋮</td><td>⋮</td><td>⋮</td><td>⋮</td><td>⋮</td><td>⋮</td></tr>\n",
              "\t<tr><td>4999970</td><td>3116514453</td><td>106763796</td><td>3854</td><td>0</td><td>287</td><td>2</td><td>1</td><td>27000</td><td>TRUE</td></tr>\n",
              "\t<tr><td>4999971</td><td>3116600395</td><td>106763796</td><td>5565</td><td>0</td><td>288</td><td>2</td><td>0</td><td>31000</td><td>TRUE</td></tr>\n",
              "\t<tr><td>4999972</td><td>3116654062</td><td>106763796</td><td>4499</td><td>0</td><td>289</td><td>3</td><td>1</td><td>39000</td><td>TRUE</td></tr>\n",
              "\t<tr><td>4999973</td><td>3116695641</td><td>106763796</td><td>9095</td><td>0</td><td>290</td><td>3</td><td>1</td><td>29000</td><td>TRUE</td></tr>\n",
              "\t<tr><td>4999974</td><td>3116724973</td><td>106763796</td><td>5207</td><td>0</td><td>291</td><td>2</td><td>0</td><td>23000</td><td>TRUE</td></tr>\n",
              "\t<tr><td>4999975</td><td>3116760943</td><td>106763796</td><td>4860</td><td>0</td><td>292</td><td>3</td><td>1</td><td>16000</td><td>TRUE</td></tr>\n",
              "\t<tr><td>4999976</td><td>3116786019</td><td>106763796</td><td>4417</td><td>0</td><td>293</td><td>0</td><td>1</td><td>22000</td><td>TRUE</td></tr>\n",
              "\t<tr><td>4999977</td><td>3116825160</td><td>106763796</td><td>8538</td><td>0</td><td>294</td><td>3</td><td>1</td><td>13000</td><td>TRUE</td></tr>\n",
              "\t<tr><td>4999978</td><td>3628970672</td><td>106763796</td><td>3852</td><td>0</td><td>295</td><td>2</td><td>0</td><td>16000</td><td>TRUE</td></tr>\n",
              "\t<tr><td>4999979</td><td>3634375196</td><td>106763796</td><td> 446</td><td>0</td><td>297</td><td>1</td><td>1</td><td>18000</td><td>TRUE</td></tr>\n",
              "\t<tr><td>4999980</td><td>3634414624</td><td>106763796</td><td>1003</td><td>0</td><td>298</td><td>0</td><td>1</td><td>21000</td><td>TRUE</td></tr>\n",
              "\t<tr><td>4999981</td><td>3634442878</td><td>106763796</td><td>1099</td><td>0</td><td>299</td><td>3</td><td>1</td><td>24000</td><td>TRUE</td></tr>\n",
              "\t<tr><td>4999982</td><td>3634479762</td><td>106763796</td><td>1335</td><td>0</td><td>300</td><td>1</td><td>0</td><td>18000</td><td>TRUE</td></tr>\n",
              "\t<tr><td>4999983</td><td>3634516010</td><td>106763796</td><td>1109</td><td>0</td><td>301</td><td>3</td><td>1</td><td>25000</td><td>TRUE</td></tr>\n",
              "\t<tr><td>4999984</td><td>3634545199</td><td>106763796</td><td> 494</td><td>0</td><td>302</td><td>3</td><td>1</td><td>26000</td><td>TRUE</td></tr>\n",
              "\t<tr><td>4999985</td><td>3634571173</td><td>106763796</td><td>1353</td><td>0</td><td>303</td><td>0</td><td>1</td><td>20000</td><td>TRUE</td></tr>\n",
              "\t<tr><td>4999986</td><td>3634614044</td><td>106763796</td><td>1152</td><td>0</td><td>304</td><td>3</td><td>0</td><td>18000</td><td>TRUE</td></tr>\n",
              "\t<tr><td>4999987</td><td>3634658976</td><td>106763796</td><td> 465</td><td>0</td><td>305</td><td>1</td><td>1</td><td>21000</td><td>TRUE</td></tr>\n",
              "\t<tr><td>4999988</td><td>3634700046</td><td>106763796</td><td> 969</td><td>0</td><td>306</td><td>0</td><td>1</td><td>24000</td><td>TRUE</td></tr>\n",
              "\t<tr><td>4999989</td><td>3721434216</td><td>106763796</td><td>4501</td><td>0</td><td>296</td><td>0</td><td>0</td><td>23000</td><td>TRUE</td></tr>\n",
              "\t<tr><td>4999990</td><td>3721452050</td><td>106763796</td><td>4340</td><td>0</td><td>307</td><td>1</td><td>1</td><td> 3000</td><td>TRUE</td></tr>\n",
              "\t<tr><td>4999991</td><td>3721474991</td><td>106763796</td><td>8348</td><td>0</td><td>308</td><td>2</td><td>0</td><td> 6000</td><td>TRUE</td></tr>\n",
              "\t<tr><td>4999992</td><td>3936486350</td><td>106763796</td><td>5701</td><td>0</td><td>309</td><td>0</td><td>0</td><td>11000</td><td>TRUE</td></tr>\n",
              "\t<tr><td>4999993</td><td>4062838081</td><td>106763796</td><td> 791</td><td>0</td><td>310</td><td>0</td><td>0</td><td> 9000</td><td>TRUE</td></tr>\n",
              "\t<tr><td>4999994</td><td>4151508495</td><td>106763796</td><td>6258</td><td>0</td><td>311</td><td>2</td><td>0</td><td>21000</td><td>TRUE</td></tr>\n",
              "\t<tr><td>4999995</td><td>4151535711</td><td>106763796</td><td>3610</td><td>0</td><td>312</td><td>1</td><td>1</td><td>21000</td><td>TRUE</td></tr>\n",
              "\t<tr><td>4999996</td><td>4151558505</td><td>106763796</td><td>8907</td><td>0</td><td>313</td><td>3</td><td>1</td><td>19000</td><td>TRUE</td></tr>\n",
              "\t<tr><td>4999997</td><td>4151583786</td><td>106763796</td><td>4039</td><td>0</td><td>314</td><td>2</td><td>1</td><td>12000</td><td>TRUE</td></tr>\n",
              "\t<tr><td>4999998</td><td>4231505166</td><td>106763796</td><td> 996</td><td>0</td><td>316</td><td>0</td><td>1</td><td>13000</td><td>TRUE</td></tr>\n",
              "\t<tr><td>4999999</td><td>4231566399</td><td>106763796</td><td> 471</td><td>0</td><td>317</td><td>1</td><td>0</td><td>18000</td><td>TRUE</td></tr>\n",
              "</tbody>\n",
              "</table>\n"
            ]
          },
          "metadata": {
            "tags": []
          }
        }
      ]
    },
    {
      "cell_type": "markdown",
      "metadata": {
        "id": "GZwHZVyY7mP6"
      },
      "source": [
        "# Explorando los datos"
      ]
    },
    {
      "cell_type": "markdown",
      "metadata": {
        "id": "j5sHdyp04C-d"
      },
      "source": [
        "## El operador pipe %>%\n",
        "\n",
        "Es útil concatenar operaciones de dplyr. Ejemplo, digamos que necesitamos aplicar mas de una función, la instrucción seria:\n",
        "\n",
        "```\n",
        "tercero(segundo(primero(data)))\n",
        "```\n",
        "\n",
        "En cambio usando el operador pipe nos permite escribir una secuencia de operaciones de izquierda a derecha:\n",
        "\n",
        "```\n",
        "primero(data) %>% segundo() %>% third()\n",
        "```\n",
        "o\n",
        "\n",
        "```\n",
        "data %>% primero() %>% segundo() %>% third()\n",
        "```\n",
        "\n",
        "\n",
        "\n"
      ]
    },
    {
      "cell_type": "markdown",
      "metadata": {
        "id": "qoLP538859dr"
      },
      "source": [
        "Ejemplo:"
      ]
    },
    {
      "cell_type": "code",
      "metadata": {
        "id": "9f_HEbV97g76"
      },
      "source": [
        "summary(train)"
      ],
      "execution_count": null,
      "outputs": []
    },
    {
      "cell_type": "code",
      "metadata": {
        "id": "Sl4z6zUtjQYB"
      },
      "source": [
        "train %>% summary()"
      ],
      "execution_count": null,
      "outputs": []
    },
    {
      "cell_type": "markdown",
      "metadata": {
        "id": "m7TsCqZp7bvq"
      },
      "source": [
        "Segundo ejemplo:"
      ]
    },
    {
      "cell_type": "code",
      "metadata": {
        "id": "LYwePV8n6DNU"
      },
      "source": [
        "top_users <- top_n(count(train,user_id),10) \n",
        "\n",
        "top_users"
      ],
      "execution_count": null,
      "outputs": []
    },
    {
      "cell_type": "code",
      "metadata": {
        "id": "98qrjjC158oo"
      },
      "source": [
        "top_users <- train %>%\n",
        "    count(user_id) %>%\n",
        "    top_n(10)\n",
        "    \n",
        "top_users"
      ],
      "execution_count": null,
      "outputs": []
    },
    {
      "cell_type": "markdown",
      "metadata": {
        "id": "jUGxPULjtRTm"
      },
      "source": [
        "Continuemos el analisis\n",
        "\n"
      ]
    },
    {
      "cell_type": "code",
      "metadata": {
        "id": "jpaLpQiPLDF-"
      },
      "source": [
        "filter(train, timestamp==0)"
      ],
      "execution_count": null,
      "outputs": []
    },
    {
      "cell_type": "code",
      "metadata": {
        "id": "FD-8bHSY1EJl"
      },
      "source": [
        "range(train$timestamp) / (1000 * 60 * 60 * 24 * 360) \n",
        "\n"
      ],
      "execution_count": null,
      "outputs": []
    },
    {
      "cell_type": "code",
      "metadata": {
        "id": "7lO2SkVP1EGL"
      },
      "source": [
        "train_user_dur <- train %>%\n",
        "    group_by(user_id) %>% # la base de datos tiene como indice ahora user_id\n",
        "    summarise(dur = max(timestamp) / (1000 * 60 * 60 * 24)) # se le aplica la funcion max(timestamp) para cada una de las tuplas para los usuarios\n",
        "\n",
        "train_user_dur\n"
      ],
      "execution_count": null,
      "outputs": []
    },
    {
      "cell_type": "code",
      "metadata": {
        "id": "D8sZpKFaJRmf"
      },
      "source": [
        "train_user_dur %>%\n",
        "    ggplot() +\n",
        "    geom_histogram(aes(x = dur))\n"
      ],
      "execution_count": null,
      "outputs": []
    },
    {
      "cell_type": "code",
      "metadata": {
        "id": "mh_Le53GJUYQ"
      },
      "source": [
        "train_user_dur %>%\n",
        "    mutate(dur_rd = round(dur)) %>%\n",
        "    count(dur_rd) %>%\n",
        "    mutate(dur_pct = n / sum(n)) %>%\n",
        "    filter(dur_rd < 8) %>%\n",
        "    summarise(sum(dur_pct))"
      ],
      "execution_count": null,
      "outputs": []
    },
    {
      "cell_type": "code",
      "metadata": {
        "id": "glkyM9Mb1EBR"
      },
      "source": [
        "train_user_ans <- train %>%\n",
        "    filter(content_type_id == 0) %>% # filtrando solo las preguntas\n",
        "    group_by(user_id) %>%\n",
        "    summarise(correct_ans = sum(answered_correctly), # numero de respuestas correctas\n",
        "              ans = n()) # numero de preguntas que ha respondido\n",
        "\n",
        "#n() <- el tamaño del grupo"
      ],
      "execution_count": null,
      "outputs": []
    },
    {
      "cell_type": "code",
      "metadata": {
        "id": "bcAZzsgk1D88"
      },
      "source": [
        "(user_dur_ans <- inner_join(train_user_dur, train_user_ans, by = \"user_id\")) %>%\n",
        "    ggplot() +\n",
        "    geom_point(aes(x = dur, y = correct_ans / ans))\n",
        "\n"
      ],
      "execution_count": null,
      "outputs": []
    },
    {
      "cell_type": "code",
      "metadata": {
        "id": "HSS5FkvL1D32"
      },
      "source": [
        "user_dur_ans %>%\n",
        "    filter(round(dur) == 0) %>%\n",
        "    ggplot() +\n",
        "    geom_histogram(aes(x = correct_ans/ans), fill = 'white', color = 'black')"
      ],
      "execution_count": null,
      "outputs": []
    },
    {
      "cell_type": "code",
      "metadata": {
        "id": "yaPOlq6Z1Dzk"
      },
      "source": [
        "train_user_ot <- train %>%\n",
        "    filter(content_type_id == 0) %>%\n",
        "    group_by(user_id) %>%\n",
        "    summarise(correct_pct_1 = sum(ifelse(row_number() <= (n() / 2), answered_correctly, 0)) / sum(ifelse(row_number() <= (n() / 2), 1, 0)),\n",
        "              correct_pct_2 = sum(ifelse(row_number() >  (n() / 2), answered_correctly, 0)) / sum(ifelse(row_number() >  (n() / 2), 1, 0))) %>%\n",
        "    inner_join(user_dur_ans, by = \"user_id\")\n"
      ],
      "execution_count": null,
      "outputs": []
    },
    {
      "cell_type": "code",
      "metadata": {
        "id": "y2issMHN1Dud"
      },
      "source": [
        "train_user_ot %>%\n",
        "    ggplot() +\n",
        "    geom_point(aes(x = correct_pct_2 - correct_pct_1, y = dur))"
      ],
      "execution_count": null,
      "outputs": []
    },
    {
      "cell_type": "code",
      "metadata": {
        "id": "Mp3sBYpu1Dqj"
      },
      "source": [
        "train_user_ot<-train_user_ot%>%mutate(ans_corr_chg= correct_pct_2 - correct_pct_1)\n",
        "train_user_ot"
      ],
      "execution_count": null,
      "outputs": []
    },
    {
      "cell_type": "code",
      "metadata": {
        "id": "06S3E1DMORZi"
      },
      "source": [
        "mean(train_user_ot$ans_corr_chg,na.rm = TRUE)"
      ],
      "execution_count": null,
      "outputs": []
    },
    {
      "cell_type": "code",
      "metadata": {
        "id": "2VZOQSRY21pw"
      },
      "source": [
        "fig(12,10)\n",
        "\n",
        "train_user_ot %>%\n",
        "    filter(ans <= 120) %>%\n",
        "    ggplot(aes(x = ans)) +\n",
        "    geom_bar()"
      ],
      "execution_count": null,
      "outputs": []
    },
    {
      "cell_type": "code",
      "metadata": {
        "id": "ExZktlec4Jvg"
      },
      "source": [
        "train_user_ot %>%\n",
        "    filter(ans >= 30) %>%\n",
        "    ggplot() +\n",
        "    geom_point(aes(x = correct_pct_2 - correct_pct_1, y = dur))"
      ],
      "execution_count": null,
      "outputs": []
    },
    {
      "cell_type": "code",
      "metadata": {
        "id": "CT4N1saL4_l8"
      },
      "source": [
        "train_user_ot %>% filter(ans>=30) %>%\n",
        "              summarise(Mean = mean(ans_corr_chg,na.rm = TRUE))"
      ],
      "execution_count": null,
      "outputs": []
    },
    {
      "cell_type": "code",
      "metadata": {
        "id": "dS6Hd3-IHTYJ"
      },
      "source": [
        "train_lect <- train %>%\n",
        "    group_by(user_id) %>%\n",
        "    summarise(lectures = sum(ifelse(content_type_id == 1, 1, 0)),\n",
        "              lectures_1 = sum(ifelse(row_number() <= (n() / 2) & content_type_id == 1, 1, 0)),\n",
        "              lectures_2 = sum(ifelse(row_number() >  (n() / 2) & content_type_id == 1, 1, 0)))\n",
        "\n",
        "train_user_ot_lect <- inner_join(train_user_ot, train_lect, by = 'user_id')"
      ],
      "execution_count": null,
      "outputs": []
    },
    {
      "cell_type": "code",
      "metadata": {
        "id": "yzqXnASV9N48"
      },
      "source": [
        "train_user_ot_lect"
      ],
      "execution_count": null,
      "outputs": []
    },
    {
      "cell_type": "code",
      "metadata": {
        "id": "V6TKg_tlHhEA"
      },
      "source": [
        "fig(18,18)\n",
        "\n",
        "train_user_ot_lect %>%\n",
        "    mutate(lec_view_chg = lectures_2 - lectures_1,\n",
        "           year_act_fct = factor(round(dur / 365))) %>%\n",
        "    ggplot() +\n",
        "    geom_point(aes(x = ans_corr_chg, y = lec_view_chg, color = year_act_fct), alpha = 0.25) +\n",
        "    facet_grid(year_act_fct~., scales = 'free')"
      ],
      "execution_count": null,
      "outputs": []
    },
    {
      "cell_type": "code",
      "metadata": {
        "id": "rDKUe4fQFoUN"
      },
      "source": [
        "train_corr_ans_ot <- train %>%\n",
        "    filter(content_type_id == 0) %>%\n",
        "    group_by(user_id) %>%\n",
        "    mutate(corr_pct = cumsum(answered_correctly) / row_number(),\n",
        "           day = ifelse(timestamp != 0, (timestamp - min(timestamp)) / (1000 * 60 * 60 * 24), 0),\n",
        "           day = round(day)) %>%\n",
        "    ungroup() %>%\n",
        "    group_by(user_id, day) %>%\n",
        "    summarise(corr_pct = mean(corr_pct))"
      ],
      "execution_count": null,
      "outputs": []
    },
    {
      "cell_type": "code",
      "metadata": {
        "id": "0N85gKayFpaR"
      },
      "source": [
        "train_corr_ans_ot"
      ],
      "execution_count": null,
      "outputs": []
    },
    {
      "cell_type": "code",
      "metadata": {
        "id": "YWHjfCESGKcK"
      },
      "source": [
        "zero_dayers <- train_corr_ans_ot %>% \n",
        "    count(user_id) %>% \n",
        "    filter(n < 2) %>%\n",
        "    select(user_id) \n",
        "\n",
        "list(zero_dayers$user_id)"
      ],
      "execution_count": null,
      "outputs": []
    },
    {
      "cell_type": "code",
      "metadata": {
        "id": "O1Ouau88GXlL"
      },
      "source": [
        "\n",
        "non_z_dayers <- train_corr_ans_ot %>% \n",
        "    anti_join(zero_dayers,by=\"user_id\") %>% \n",
        "    select(user_id)\n",
        "    \n",
        "non_z_dayers  "
      ],
      "execution_count": null,
      "outputs": []
    },
    {
      "cell_type": "code",
      "metadata": {
        "id": "d5gMRzpSJtZD"
      },
      "source": [
        "sample(nrow(non_z_dayers), 1000)"
      ],
      "execution_count": null,
      "outputs": []
    },
    {
      "cell_type": "code",
      "metadata": {
        "id": "5euBMHM5Jjn0"
      },
      "source": [
        "train_corr_ans_ot %>%\n",
        "    filter(user_id %in% sample(non_z_dayers$user_id, 1000) & day > 3)"
      ],
      "execution_count": null,
      "outputs": []
    },
    {
      "cell_type": "code",
      "metadata": {
        "id": "CotwS_E7RDg4"
      },
      "source": [
        "train_corr_ans_ot %>%\n",
        "    filter(user_id %in% sample(non_z_dayers$user_id, 1000) & day > 3) %>%\n",
        "    ggplot() +\n",
        "    geom_line(aes(x = day, y = corr_pct), alpha = 0.5)"
      ],
      "execution_count": null,
      "outputs": []
    },
    {
      "cell_type": "code",
      "metadata": {
        "id": "NljxXMN8V8C4"
      },
      "source": [
        "questions %>% head()"
      ],
      "execution_count": null,
      "outputs": []
    },
    {
      "cell_type": "code",
      "metadata": {
        "id": "87Eb00vnaJd_"
      },
      "source": [
        "lectures %>% head()"
      ],
      "execution_count": null,
      "outputs": []
    },
    {
      "cell_type": "code",
      "metadata": {
        "id": "KR8ZLV7jaRqw"
      },
      "source": [
        "# son disjuntas?"
      ],
      "execution_count": null,
      "outputs": []
    },
    {
      "cell_type": "markdown",
      "metadata": {
        "id": "v9MeTjc5hFSo"
      },
      "source": [
        "# Entrenemos un modelo"
      ]
    },
    {
      "cell_type": "code",
      "metadata": {
        "id": "qNpWzCRMV77f"
      },
      "source": [
        "train_questions <-  train %>% \n",
        "                    filter(content_type_id==0) %>%\n",
        "                    inner_join(questions, by=c(\"content_id\"=\"question_id\"))\n",
        "\n",
        "train_lectures <- train %>% \n",
        "                  filter(content_type_id==1) %>%\n",
        "                  inner_join(lectures, by=c(\"content_id\"=\"lecture_id\"))"
      ],
      "execution_count": null,
      "outputs": []
    },
    {
      "cell_type": "code",
      "metadata": {
        "id": "VhQnSkUYV7xI"
      },
      "source": [
        "X <- train_questions %>%\n",
        "      group_by(user_id) %>%\n",
        "      mutate(answered_correctly_user = mean(answered_correctly, na.rm=TRUE),\n",
        "              Total_Answer_Correct = sum(answered_correctly, na.rm=TRUE)) %>%\n",
        "      ungroup() %>%\n",
        "      group_by(content_id) %>%\n",
        "      mutate(answered_correctly_content = mean(answered_correctly, na.rm=TRUE)) %>%\n",
        "      ungroup()\n",
        "  "
      ],
      "execution_count": null,
      "outputs": []
    },
    {
      "cell_type": "code",
      "metadata": {
        "id": "EX3Ta70uV7Z9"
      },
      "source": [
        "X$prior_question_had_explanation_enc <- as.numeric(X$prior_question_had_explanation)\n",
        "X$prior_question_had_explanation_enc[is.na(X$prior_question_had_explanation_enc)] <- 0\n",
        "X$prior_question_had_explanation_enc<- X$prior_question_had_explanation_enc\n",
        "\n",
        "\n",
        "target <- as.numeric(copy(X$answered_correctly))\n",
        "\n",
        "\n",
        " X<-X %>% select(answered_correctly_user, answered_correctly_content, Total_Answer_Correct,\n",
        "      prior_question_elapsed_time, prior_question_had_explanation_enc, part)\n",
        "\n",
        "categorical_feature <- c(\"prior_question_had_explanation_enc\", \"part\")\n"
      ],
      "execution_count": null,
      "outputs": []
    },
    {
      "cell_type": "code",
      "metadata": {
        "id": "KWMq6TT6k_fo"
      },
      "source": [
        "X"
      ],
      "execution_count": null,
      "outputs": []
    },
    {
      "cell_type": "code",
      "metadata": {
        "id": "2qlORbRMmzjx"
      },
      "source": [
        "install.packages(\"caret\")\n",
        "install.packages(\"Matrix\")\n",
        "install.packages(\"lightgbm\")\n",
        "install.packages(\"reticulate\")"
      ],
      "execution_count": null,
      "outputs": []
    },
    {
      "cell_type": "code",
      "metadata": {
        "id": "IVpbBm3eoWYe"
      },
      "source": [
        "library(caret)\n",
        "library(Matrix)\n",
        "library(lightgbm)\n",
        "library(pROC)\n",
        "library(reticulate)"
      ],
      "execution_count": null,
      "outputs": []
    },
    {
      "cell_type": "code",
      "metadata": {
        "id": "D-jIBn3btyzj"
      },
      "source": [
        "tri <- createDataPartition(target, p = 0.80, list = F) %>% c()\n",
        "\n",
        "dval <- Matrix(as.matrix(X[-tri,]),sparse=TRUE)\n",
        "train <- Matrix(as.matrix(X[tri,]),sparse=TRUE)\n",
        "\n",
        "\n",
        "train = lgb.Dataset(data=train,label=target[tri],categorical_feature =categorical_feature)\n",
        "dval = lgb.Dataset(data=dval,label=target[-tri],categorical_feature =categorical_feature)\n"
      ],
      "execution_count": null,
      "outputs": []
    },
    {
      "cell_type": "code",
      "metadata": {
        "id": "qm6IjwvYmgOr"
      },
      "source": [
        "lgb.grid = list(objective = \"binary\"\n",
        "    ,num_boost_round=10000\n",
        "    ,metric=\"auc\"\n",
        ")\n",
        "\n",
        "    lgb.model <- lgb.train(\n",
        "  params = lgb.grid\n",
        "  , data = train\n",
        "  , valids = list(val = train,val1 = dval)\n",
        "  , lambda_l1 = 9.277442449206187e-06\n",
        "  , lambda_l2 = 5.145214812238188e-06\n",
        "  , feature_fraction = 0.7\n",
        "  , bagging_fraction = 0.6696041270563738\n",
        "  , bagging_freq = 3\n",
        "  , min_child_samples =20\n",
        "  , learning_rate = 0.02\n",
        "  , num_leaves = 43\n",
        "  , early_stopping_rounds = 10\n",
        "  , eval_freq = 10\n",
        ") \n",
        "\n",
        "tree_imp <- lgb.importance(lgb.model, percentage = TRUE)\n",
        " lgb.plot.importance(tree_imp, top_n = 50, measure = \"Gain\")\n"
      ],
      "execution_count": null,
      "outputs": []
    }
  ]
}