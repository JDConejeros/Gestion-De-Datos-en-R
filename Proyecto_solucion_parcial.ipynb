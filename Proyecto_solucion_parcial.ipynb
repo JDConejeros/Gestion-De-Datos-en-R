{
  "nbformat": 4,
  "nbformat_minor": 0,
  "metadata": {
    "colab": {
      "name": "Proyecto_solucion_parcial.ipynb",
      "provenance": [],
      "collapsed_sections": [
        "NcC9vMWUj8uP"
      ],
      "include_colab_link": true
    },
    "kernelspec": {
      "name": "ir",
      "display_name": "R"
    },
    "language_info": {
      "name": "R"
    }
  },
  "cells": [
    {
      "cell_type": "markdown",
      "metadata": {
        "id": "view-in-github",
        "colab_type": "text"
      },
      "source": [
        "<a href=\"https://colab.research.google.com/github/maxigaarp/Gestion-De-Datos-en-R/blob/main/Proyecto_solucion_parcial.ipynb\" target=\"_parent\"><img src=\"https://colab.research.google.com/assets/colab-badge.svg\" alt=\"Open In Colab\"/></a>"
      ]
    },
    {
      "cell_type": "markdown",
      "metadata": {
        "id": "4Lo_4HPFvv-g"
      },
      "source": [
        "#Proyecto Grupal \n",
        "\n",
        "## Entrega: Domingo 29 de Agosto 2021\n",
        "\n",
        "Porcentaje: 33.3%"
      ]
    },
    {
      "cell_type": "markdown",
      "metadata": {
        "id": "kgbAuynqv0tI"
      },
      "source": [
        "Este trabajo consistirá en armar una base de datos en SQL y un informe descriptivo de los datos y la investigación. El objetivo del proyecto es predecir asistencia a clases en base a los datos meteorologicos de precipitación.\n",
        "\n",
        "La base de datos debe tener la informacion de 3 diferentes fuentes de información:\n",
        "\n",
        " * Asistencia Declarada Mensual ([MINEDUC](http://datos.mineduc.cl/dashboards/19844/asistencia-declarada-mensual-por-ano/)) años: (2015-2019)\n",
        "  Acá se incluyen los porcentajes de asistencia y la cantidad de dias trabajados de todos los alumnos en los distintos colegios de Chile \n",
        " * Reportes de precipitacion Mensual ([CR2](https://www.cr2.cl/camels-cl/)): Datos historicos de precipitacion las distintas estaciones meteorologicas en Chile con localizacion geografica.\n",
        " * Localizacion Colegios (Propia/Google Maps):\n",
        " Datos de la ubicacion geografica de los colegios en Chile.\n",
        "\n",
        "Para esto generar esta base de datos se espera que se incluyan a lo menos 3 diferentes tablas:\n",
        " * alumnos: Informacion relevante de los alumnos. A lo menos incluir 3 atributos.\n",
        " * colegios: Informacion relevante de los colegios. A lo menos incluir 3 atributos, ademas:  nombre (o ID) de la estacion meteorologica más cercana y la distancia a esta, asumiendo latitud y longitud como coordenadas cartesianas.\n",
        " * estudia_en: Informacion relevante del vinculo entre el colegio, mes y alumnos. En la tabla se debe incorporar la informacion mensual para cada alumno en terminos de: asistencia, precipitacion. En este caso la precipitacion debe ser una interpolacion en base a los datos de las precipitaciones de las estaciones meteorologicas y la geolocalizacion de los colegios.\n",
        "\n",
        "Cabe destacar que las bases de datos no se encuentran libres de errores por lo que para consolidar la informacion hay que solucionar problemas de consistencia, completitud, validez. Entre otros se busca que:\n",
        "\n",
        " * Que los datos para cada uno atributos se encuentren en el formato adecuado y unico. Para lograr esto revisar los atributos más importantes: asistencia y precipitacion.\n",
        " * Una unica forma de expresar valores nulos (unificar distintos tipos de descripcion de valores nulos, ejemplo: \" \", NA, 0, -9999, etc). \n",
        " * Seleccionar una cantidad tolerable (mayor que 2 al menos) de valores nulos para las series temporales (los registros de las estaciones meteorologicas). Interpolar los valores nulos en las series.\n",
        "\n",
        "Cabe destacar que las tablas deben unificarse en SQL cargando las tablas mediante RSQL. Luego de esto se espera que se seleccione y utilice un algoritmo adecuado para generar una predicción de asistencia a clases en base a la precipitacion mensual, puede ser alguno de los siguientes: k-means, regresion lineal, regresion logistica.\n",
        "\n",
        "La entrega del proyecto debe tener dos partes: \n",
        "* El codigo donde se genera la base de datos y el desarrollo del algoritmo de prediccion. Puede ser Colab o script de R, debe tener comentarios solo con el objetivo de guiar al ayudante en la correccion.\n",
        "* Un documento de no mas de 3 paginas (sin incluir gráficos) con la documentacion de los datos (diagrama ER, tipo de datos, descripcion, dominio, etc. Pueden guiarse por el esquema de registro en las bases de datos del MINEDUC.) y además un resumen de lo desarrollado en el proyecto (como se generaron las variables, como se procesaron y que resultados se obtuvieron)\n",
        "\n",
        "Para una mejor calidad en el informe usar graficos y tablas que pueden incluir en anexos.\n",
        "\n",
        "\n",
        "\n",
        "Datos disponibles en: https://drive.google.com/drive/folders/17Or8k6rhYvkaeEn_pD10za8A9jluYfUF?usp=sharing"
      ]
    },
    {
      "cell_type": "markdown",
      "metadata": {
        "id": "5HNgUFHlj3iT"
      },
      "source": [
        "#Descargar datos"
      ]
    },
    {
      "cell_type": "code",
      "metadata": {
        "colab": {
          "base_uri": "https://localhost:8080/"
        },
        "id": "g0jgBUw8WV_g",
        "outputId": "45ba08d6-c0bb-4d16-a699-c916905087db"
      },
      "source": [
        "install.packages(\"RSQLite\")\n"
      ],
      "execution_count": null,
      "outputs": [
        {
          "output_type": "stream",
          "text": [
            "Installing package into ‘/usr/local/lib/R/site-library’\n",
            "(as ‘lib’ is unspecified)\n",
            "\n",
            "also installing the dependency ‘plogr’\n",
            "\n",
            "\n"
          ],
          "name": "stderr"
        }
      ]
    },
    {
      "cell_type": "code",
      "metadata": {
        "colab": {
          "base_uri": "https://localhost:8080/"
        },
        "id": "VcSuCfuTUuj5",
        "outputId": "4a7e7780-7bb8-474d-e4d3-4dba36b9a68e"
      },
      "source": [
        "library(tidyverse)\n",
        "library(data.table)\n",
        "library(RSQLite)"
      ],
      "execution_count": null,
      "outputs": [
        {
          "output_type": "stream",
          "text": [
            "Warning message in system(\"timedatectl\", intern = TRUE):\n",
            "“running command 'timedatectl' had status 1”\n",
            "── \u001b[1mAttaching packages\u001b[22m ─────────────────────────────────────── tidyverse 1.3.1 ──\n",
            "\n",
            "\u001b[32m✔\u001b[39m \u001b[34mggplot2\u001b[39m 3.3.5     \u001b[32m✔\u001b[39m \u001b[34mpurrr  \u001b[39m 0.3.4\n",
            "\u001b[32m✔\u001b[39m \u001b[34mtibble \u001b[39m 3.1.3     \u001b[32m✔\u001b[39m \u001b[34mdplyr  \u001b[39m 1.0.7\n",
            "\u001b[32m✔\u001b[39m \u001b[34mtidyr  \u001b[39m 1.1.3     \u001b[32m✔\u001b[39m \u001b[34mstringr\u001b[39m 1.4.0\n",
            "\u001b[32m✔\u001b[39m \u001b[34mreadr  \u001b[39m 2.0.1     \u001b[32m✔\u001b[39m \u001b[34mforcats\u001b[39m 0.5.1\n",
            "\n",
            "── \u001b[1mConflicts\u001b[22m ────────────────────────────────────────── tidyverse_conflicts() ──\n",
            "\u001b[31m✖\u001b[39m \u001b[34mdplyr\u001b[39m::\u001b[32mfilter()\u001b[39m masks \u001b[34mstats\u001b[39m::filter()\n",
            "\u001b[31m✖\u001b[39m \u001b[34mdplyr\u001b[39m::\u001b[32mlag()\u001b[39m    masks \u001b[34mstats\u001b[39m::lag()\n",
            "\n",
            "\n",
            "Attaching package: ‘data.table’\n",
            "\n",
            "\n",
            "The following objects are masked from ‘package:dplyr’:\n",
            "\n",
            "    between, first, last\n",
            "\n",
            "\n",
            "The following object is masked from ‘package:purrr’:\n",
            "\n",
            "    transpose\n",
            "\n",
            "\n"
          ],
          "name": "stderr"
        }
      ]
    },
    {
      "cell_type": "markdown",
      "metadata": {
        "id": "kbeOmka7jzhC"
      },
      "source": [
        "##Asistencia"
      ]
    },
    {
      "cell_type": "code",
      "metadata": {
        "id": "f1cnRTbWv0Ko"
      },
      "source": [
        "system(\"gdown --id 1-q1ydcu6afA3LQ9uxlh9J9B9kvEJvrRs\")"
      ],
      "execution_count": null,
      "outputs": []
    },
    {
      "cell_type": "code",
      "metadata": {
        "id": "5yBkQhxL9TuB"
      },
      "source": [
        "unzip(\"/content/DatosProyecto.zip\")"
      ],
      "execution_count": null,
      "outputs": []
    },
    {
      "cell_type": "code",
      "metadata": {
        "id": "iyb0sbEJbwd7"
      },
      "source": [
        "library(stringr)"
      ],
      "execution_count": null,
      "outputs": []
    },
    {
      "cell_type": "code",
      "metadata": {
        "id": "VVb8HG-l9act"
      },
      "source": [
        "lista <- list.files(\"/content/content/drive/MyDrive/Gestion de Datos/Datos Proyecto/Datos asistencia\")\n",
        "directorio <- \"/content/content/drive/MyDrive/Gestion de Datos/Datos Proyecto/Datos asistencia/\"\n",
        "\n",
        "for (name in lista){\n",
        "  if (str_detect(name, \".rar\")){\n",
        "    foldername<-substr(name, 1, nchar(name)-4)\n",
        "    system(paste(\"mkdir 'Asistencia/\",foldername,\"'\",sep=\"\"))\n",
        "    system(paste(\"unrar x '\",directorio,name,\"' 'Asistencia/\",substr(name, 1, nchar(name)-4),\"/'\", sep=\"\"),intern = T)\n",
        "  }\n",
        "  else {\n",
        "    unzip(paste(directorio,name,sep=\"\"), exdir=\"Asistencia\")\n",
        "  }\n",
        "}\n"
      ],
      "execution_count": null,
      "outputs": []
    },
    {
      "cell_type": "code",
      "metadata": {
        "id": "OTnXJiY5hBFh"
      },
      "source": [
        "lista_de_csvs <- list.files(\"Asistencia\",pattern = \".(CSV|csv)$\", recursive = TRUE)\n"
      ],
      "execution_count": null,
      "outputs": []
    },
    {
      "cell_type": "code",
      "metadata": {
        "id": "-f4U7Tr0XXmt"
      },
      "source": [
        "conn <- dbConnect(RSQLite::SQLite(), \"mineduc.db\")\n"
      ],
      "execution_count": null,
      "outputs": []
    },
    {
      "cell_type": "code",
      "metadata": {
        "id": "ZfIl8nvsPdxP",
        "colab": {
          "base_uri": "https://localhost:8080/"
        },
        "outputId": "35d5c890-247b-468c-f46b-8d33b50f8f7c"
      },
      "source": [
        "colenames <- c(\"AGNO\",\"RBD\",  \"NOM_RBD\", \"COD_DEPE\")\n",
        "est_ennames <- c(\"MRUN\", \"RBD\", \"AGNO\", \"MES_ESCOLAR\", \"COD_ENSE\", \"COD_GRADO\", \"DIAS_TRABAJADOS\",  \"ASIS_PROMEDIO\")\n",
        "alusnames <- c(\"AGNO\", \"MRUN\", \"FEC_NAC_ALU\", \"GEN_ALU\")\n",
        "\n",
        "\n",
        "for (i in 1:length(lista_de_csvs)) {\n",
        "  csvs <- lista_de_csvs[i]\n",
        "  data <- fread(paste(\"Asistencia/\",csvs, sep=\"\"), dec=\",\")\n",
        "  if (\"NOM_REG_RBD_A\" %in% toupper(names(data))){\n",
        "    data <- select(data, !\"NOM_REG_RBD_A\")\n",
        "  }\n",
        "\n",
        "  names(data) <- toupper(names(data))\n",
        "\n",
        "  coles <- data %>%\n",
        "           select(colenames) %>%\n",
        "           distinct()\n",
        "\n",
        "  est_en <- data %>%\n",
        "           select(est_ennames) %>%\n",
        "           distinct()\n",
        "\n",
        "  alus <- data %>%\n",
        "           select(alusnames) %>%\n",
        "           distinct()\n",
        "\n",
        "  apnd <- if (i==1) FALSE else TRUE\n",
        "\n",
        "  dbWriteTable(conn , name = \"colegios\", \n",
        "                  value = coles,\n",
        "                  row.names = FALSE, header = !apnd ,append=apnd,\n",
        "                  colClasses='character')\n",
        "\n",
        "  dbWriteTable(conn , name = \"estudia_en\", \n",
        "                  value = est_en,\n",
        "                  row.names = FALSE, header = !apnd ,append=apnd,\n",
        "                  colClasses='character')\n",
        "\n",
        "  dbWriteTable(conn , name = \"alumnos\", \n",
        "                  value = alus,\n",
        "                  row.names = FALSE, header = !apnd ,append=apnd,\n",
        "                  colClasses='character')\n",
        "}\n"
      ],
      "execution_count": null,
      "outputs": [
        {
          "output_type": "stream",
          "text": [
            "Note: Using an external vector in selections is ambiguous.\n",
            "\u001b[34mℹ\u001b[39m Use `all_of(colenames)` instead of `colenames` to silence this message.\n",
            "\u001b[34mℹ\u001b[39m See <https://tidyselect.r-lib.org/reference/faq-external-vector.html>.\n",
            "\u001b[90mThis message is displayed once per session.\u001b[39m\n",
            "\n",
            "Note: Using an external vector in selections is ambiguous.\n",
            "\u001b[34mℹ\u001b[39m Use `all_of(est_ennames)` instead of `est_ennames` to silence this message.\n",
            "\u001b[34mℹ\u001b[39m See <https://tidyselect.r-lib.org/reference/faq-external-vector.html>.\n",
            "\u001b[90mThis message is displayed once per session.\u001b[39m\n",
            "\n",
            "Note: Using an external vector in selections is ambiguous.\n",
            "\u001b[34mℹ\u001b[39m Use `all_of(alusnames)` instead of `alusnames` to silence this message.\n",
            "\u001b[34mℹ\u001b[39m See <https://tidyselect.r-lib.org/reference/faq-external-vector.html>.\n",
            "\u001b[90mThis message is displayed once per session.\u001b[39m\n",
            "\n"
          ],
          "name": "stderr"
        }
      ]
    },
    {
      "cell_type": "markdown",
      "metadata": {
        "id": "0_CbGI8JbEwG"
      },
      "source": [
        "#Nulos"
      ]
    },
    {
      "cell_type": "markdown",
      "metadata": {
        "id": "gnSqZ7hfocv8"
      },
      "source": [
        "Todos los nulos a un solo formato"
      ]
    },
    {
      "cell_type": "code",
      "metadata": {
        "colab": {
          "base_uri": "https://localhost:8080/",
          "height": 50
        },
        "id": "62itRNcgbEGK",
        "outputId": "b709c9b6-5a8a-4361-bc0b-63854ef0690d"
      },
      "source": [
        "dbExecute(conn,\"UPDATE alumnos\n",
        "SET GEN_ALU = NULL\n",
        "WHERE GEN_ALU=0\")\n",
        "\n",
        "dbExecute(conn,\"UPDATE alumnos\n",
        "SET FEC_NAC_ALU\t = NULL\n",
        "WHERE FEC_NAC_ALU=190001 or FEC_NAC_ALU=180001\")"
      ],
      "execution_count": null,
      "outputs": [
        {
          "output_type": "display_data",
          "data": {
            "text/plain": [
              "[1] 241"
            ],
            "text/latex": "241",
            "text/markdown": "241",
            "text/html": [
              "241"
            ]
          },
          "metadata": {}
        },
        {
          "output_type": "display_data",
          "data": {
            "text/plain": [
              "[1] 736"
            ],
            "text/latex": "736",
            "text/markdown": "736",
            "text/html": [
              "736"
            ]
          },
          "metadata": {}
        }
      ]
    },
    {
      "cell_type": "markdown",
      "metadata": {
        "id": "iVsT4RnRoiPX"
      },
      "source": [
        "Contar nulos"
      ]
    },
    {
      "cell_type": "code",
      "metadata": {
        "colab": {
          "base_uri": "https://localhost:8080/",
          "height": 127
        },
        "id": "2JkOcjQoe6l6",
        "outputId": "961eaf14-67c8-4b49-e0a1-2d3979f22979"
      },
      "source": [
        "dbGetQuery(conn, \"select \n",
        "  sum(case when MRUN is null then 1 else 0 end) MRUN,\n",
        "  sum(case when AGNO is null then 1 else 0 end) AGNO,\n",
        "  sum(case when MES_ESCOLAR is null then 1 else 0 end) MES_ESCOLAR,\n",
        "  sum(case when RBD is null then 1 else 0 end) RBD,\n",
        "  sum(case when COD_ENSE is null then 1 else 0 end) COD_ENSE,\n",
        "  sum(case when COD_GRADO is null then 1 else 0 end) COD_GRADO,\n",
        "  sum(case when DIAS_TRABAJADOS is null then 1 else 0 end) DIAS_TRABAJADOS,\n",
        "  sum(case when ASIS_PROMEDIO is null then 1 else 0 end) ASIS_PROMEDIO\n",
        "from estudia_en\")"
      ],
      "execution_count": null,
      "outputs": [
        {
          "output_type": "display_data",
          "data": {
            "text/plain": [
              "  MRUN AGNO MES_ESCOLAR RBD COD_ENSE COD_GRADO DIAS_TRABAJADOS ASIS_PROMEDIO\n",
              "1 0    0    0           0   0        0         1               1            "
            ],
            "text/latex": "A data.frame: 1 × 8\n\\begin{tabular}{llllllll}\n MRUN & AGNO & MES\\_ESCOLAR & RBD & COD\\_ENSE & COD\\_GRADO & DIAS\\_TRABAJADOS & ASIS\\_PROMEDIO\\\\\n <int> & <int> & <int> & <int> & <int> & <int> & <int> & <int>\\\\\n\\hline\n\t 0 & 0 & 0 & 0 & 0 & 0 & 1 & 1\\\\\n\\end{tabular}\n",
            "text/markdown": "\nA data.frame: 1 × 8\n\n| MRUN &lt;int&gt; | AGNO &lt;int&gt; | MES_ESCOLAR &lt;int&gt; | RBD &lt;int&gt; | COD_ENSE &lt;int&gt; | COD_GRADO &lt;int&gt; | DIAS_TRABAJADOS &lt;int&gt; | ASIS_PROMEDIO &lt;int&gt; |\n|---|---|---|---|---|---|---|---|\n| 0 | 0 | 0 | 0 | 0 | 0 | 1 | 1 |\n\n",
            "text/html": [
              "<table class=\"dataframe\">\n",
              "<caption>A data.frame: 1 × 8</caption>\n",
              "<thead>\n",
              "\t<tr><th scope=col>MRUN</th><th scope=col>AGNO</th><th scope=col>MES_ESCOLAR</th><th scope=col>RBD</th><th scope=col>COD_ENSE</th><th scope=col>COD_GRADO</th><th scope=col>DIAS_TRABAJADOS</th><th scope=col>ASIS_PROMEDIO</th></tr>\n",
              "\t<tr><th scope=col>&lt;int&gt;</th><th scope=col>&lt;int&gt;</th><th scope=col>&lt;int&gt;</th><th scope=col>&lt;int&gt;</th><th scope=col>&lt;int&gt;</th><th scope=col>&lt;int&gt;</th><th scope=col>&lt;int&gt;</th><th scope=col>&lt;int&gt;</th></tr>\n",
              "</thead>\n",
              "<tbody>\n",
              "\t<tr><td>0</td><td>0</td><td>0</td><td>0</td><td>0</td><td>0</td><td>1</td><td>1</td></tr>\n",
              "</tbody>\n",
              "</table>\n"
            ]
          },
          "metadata": {}
        }
      ]
    },
    {
      "cell_type": "markdown",
      "metadata": {
        "id": "6klNlke5gHkl"
      },
      "source": [
        "Se deja solo el colegio con mas asistencia del alumno. Tambien puede ser aceptable eliminar los alumnos con muchas inscripciones en colegios"
      ]
    },
    {
      "cell_type": "code",
      "metadata": {
        "colab": {
          "base_uri": "https://localhost:8080/",
          "height": 1000
        },
        "id": "f4GNOWKYgUAz",
        "outputId": "73e049a7-a91e-4fbc-d151-1db8c4cd1212"
      },
      "source": [
        "dbGetQuery(conn, \"\n",
        "select \n",
        "MRUN, AGNO, MES_ESCOLAR,\n",
        "COUNT(*) AS COLEGIOS_INSCRITOS\n",
        "FROM estudia_en\n",
        "group by MRUN, AGNO, MES_ESCOLAR\n",
        "ORDER BY COLEGIOS_INSCRITOS DESC\n",
        "\")"
      ],
      "execution_count": null,
      "outputs": [
        {
          "output_type": "display_data",
          "data": {
            "text/plain": [
              "          MRUN     AGNO MES_ESCOLAR COLEGIOS_INSCRITOS\n",
              "1         15606561 2015 12          21                \n",
              "2         20924355 2015 12          21                \n",
              "3         15606561 2015 11          20                \n",
              "4         20924355 2015 11          20                \n",
              "5         15332159 2015 12          19                \n",
              "6         19169776 2017 11          19                \n",
              "7         19169776 2017 12          19                \n",
              "8         15332159 2015 11          18                \n",
              "9          8085427 2016 11          16                \n",
              "10         8085427 2016 12          16                \n",
              "11         9036693 2016 11          16                \n",
              "12         9036693 2016 12          16                \n",
              "13        15332159 2015 10          16                \n",
              "14        15606561 2015 10          16                \n",
              "15        19169776 2017 10          16                \n",
              "16        20924355 2015 10          16                \n",
              "17        21271715 2017 11          16                \n",
              "18        21271715 2017 12          16                \n",
              "19         4128532 2017 11          15                \n",
              "20         4128532 2017 12          15                \n",
              "21         5993806 2015 12          15                \n",
              "22         5993806 2017 11          15                \n",
              "23         5993806 2017 12          15                \n",
              "24         8085427 2017 11          15                \n",
              "25         8085427 2017 12          15                \n",
              "26         9036693 2017 11          15                \n",
              "27         9036693 2017 12          15                \n",
              "28        13855197 2017 11          15                \n",
              "29        13855197 2017 12          15                \n",
              "30        14592441 2015 12          15                \n",
              "⋮         ⋮        ⋮    ⋮           ⋮                 \n",
              "165755226 26068577 2019 12          1                 \n",
              "165755227 26068578 2019 12          1                 \n",
              "165755228 26068579 2019 12          1                 \n",
              "165755229 26068580 2019 12          1                 \n",
              "165755230 26068581 2019 12          1                 \n",
              "165755231 26068582 2019 12          1                 \n",
              "165755232 26068583 2019 12          1                 \n",
              "165755233 26068584 2019 12          1                 \n",
              "165755234 26068585 2019 12          1                 \n",
              "165755235 26068586 2019 12          1                 \n",
              "165755236 26068587 2019 12          1                 \n",
              "165755237 26068588 2019 12          1                 \n",
              "165755238 26068590 2019 12          1                 \n",
              "165755239 26068591 2019 12          1                 \n",
              "165755240 26068593 2019 12          1                 \n",
              "165755241 26068594 2019 12          1                 \n",
              "165755242 26068595 2019 12          1                 \n",
              "165755243 26068596 2019 12          1                 \n",
              "165755244 26068598 2019 12          1                 \n",
              "165755245 26068599 2019 12          1                 \n",
              "165755246 26068600 2019 12          1                 \n",
              "165755247 26068601 2019 12          1                 \n",
              "165755248 26068602 2019 12          1                 \n",
              "165755249 26068603 2019 12          1                 \n",
              "165755250 26068604 2019 12          1                 \n",
              "165755251 26068605 2019 12          1                 \n",
              "165755252 26068606 2019 12          1                 \n",
              "165755253 26068607 2019 12          1                 \n",
              "165755254 26068608 2019 12          1                 \n",
              "165755255 26068609 2019 12          1                 "
            ],
            "text/latex": "A data.frame: 165755255 × 4\n\\begin{tabular}{llll}\n MRUN & AGNO & MES\\_ESCOLAR & COLEGIOS\\_INSCRITOS\\\\\n <int> & <int> & <int> & <int>\\\\\n\\hline\n\t 15606561 & 2015 & 12 & 21\\\\\n\t 20924355 & 2015 & 12 & 21\\\\\n\t 15606561 & 2015 & 11 & 20\\\\\n\t 20924355 & 2015 & 11 & 20\\\\\n\t 15332159 & 2015 & 12 & 19\\\\\n\t 19169776 & 2017 & 11 & 19\\\\\n\t 19169776 & 2017 & 12 & 19\\\\\n\t 15332159 & 2015 & 11 & 18\\\\\n\t  8085427 & 2016 & 11 & 16\\\\\n\t  8085427 & 2016 & 12 & 16\\\\\n\t  9036693 & 2016 & 11 & 16\\\\\n\t  9036693 & 2016 & 12 & 16\\\\\n\t 15332159 & 2015 & 10 & 16\\\\\n\t 15606561 & 2015 & 10 & 16\\\\\n\t 19169776 & 2017 & 10 & 16\\\\\n\t 20924355 & 2015 & 10 & 16\\\\\n\t 21271715 & 2017 & 11 & 16\\\\\n\t 21271715 & 2017 & 12 & 16\\\\\n\t  4128532 & 2017 & 11 & 15\\\\\n\t  4128532 & 2017 & 12 & 15\\\\\n\t  5993806 & 2015 & 12 & 15\\\\\n\t  5993806 & 2017 & 11 & 15\\\\\n\t  5993806 & 2017 & 12 & 15\\\\\n\t  8085427 & 2017 & 11 & 15\\\\\n\t  8085427 & 2017 & 12 & 15\\\\\n\t  9036693 & 2017 & 11 & 15\\\\\n\t  9036693 & 2017 & 12 & 15\\\\\n\t 13855197 & 2017 & 11 & 15\\\\\n\t 13855197 & 2017 & 12 & 15\\\\\n\t 14592441 & 2015 & 12 & 15\\\\\n\t ⋮ & ⋮ & ⋮ & ⋮\\\\\n\t 26068577 & 2019 & 12 & 1\\\\\n\t 26068578 & 2019 & 12 & 1\\\\\n\t 26068579 & 2019 & 12 & 1\\\\\n\t 26068580 & 2019 & 12 & 1\\\\\n\t 26068581 & 2019 & 12 & 1\\\\\n\t 26068582 & 2019 & 12 & 1\\\\\n\t 26068583 & 2019 & 12 & 1\\\\\n\t 26068584 & 2019 & 12 & 1\\\\\n\t 26068585 & 2019 & 12 & 1\\\\\n\t 26068586 & 2019 & 12 & 1\\\\\n\t 26068587 & 2019 & 12 & 1\\\\\n\t 26068588 & 2019 & 12 & 1\\\\\n\t 26068590 & 2019 & 12 & 1\\\\\n\t 26068591 & 2019 & 12 & 1\\\\\n\t 26068593 & 2019 & 12 & 1\\\\\n\t 26068594 & 2019 & 12 & 1\\\\\n\t 26068595 & 2019 & 12 & 1\\\\\n\t 26068596 & 2019 & 12 & 1\\\\\n\t 26068598 & 2019 & 12 & 1\\\\\n\t 26068599 & 2019 & 12 & 1\\\\\n\t 26068600 & 2019 & 12 & 1\\\\\n\t 26068601 & 2019 & 12 & 1\\\\\n\t 26068602 & 2019 & 12 & 1\\\\\n\t 26068603 & 2019 & 12 & 1\\\\\n\t 26068604 & 2019 & 12 & 1\\\\\n\t 26068605 & 2019 & 12 & 1\\\\\n\t 26068606 & 2019 & 12 & 1\\\\\n\t 26068607 & 2019 & 12 & 1\\\\\n\t 26068608 & 2019 & 12 & 1\\\\\n\t 26068609 & 2019 & 12 & 1\\\\\n\\end{tabular}\n",
            "text/markdown": "\nA data.frame: 165755255 × 4\n\n| MRUN &lt;int&gt; | AGNO &lt;int&gt; | MES_ESCOLAR &lt;int&gt; | COLEGIOS_INSCRITOS &lt;int&gt; |\n|---|---|---|---|\n| 15606561 | 2015 | 12 | 21 |\n| 20924355 | 2015 | 12 | 21 |\n| 15606561 | 2015 | 11 | 20 |\n| 20924355 | 2015 | 11 | 20 |\n| 15332159 | 2015 | 12 | 19 |\n| 19169776 | 2017 | 11 | 19 |\n| 19169776 | 2017 | 12 | 19 |\n| 15332159 | 2015 | 11 | 18 |\n|  8085427 | 2016 | 11 | 16 |\n|  8085427 | 2016 | 12 | 16 |\n|  9036693 | 2016 | 11 | 16 |\n|  9036693 | 2016 | 12 | 16 |\n| 15332159 | 2015 | 10 | 16 |\n| 15606561 | 2015 | 10 | 16 |\n| 19169776 | 2017 | 10 | 16 |\n| 20924355 | 2015 | 10 | 16 |\n| 21271715 | 2017 | 11 | 16 |\n| 21271715 | 2017 | 12 | 16 |\n|  4128532 | 2017 | 11 | 15 |\n|  4128532 | 2017 | 12 | 15 |\n|  5993806 | 2015 | 12 | 15 |\n|  5993806 | 2017 | 11 | 15 |\n|  5993806 | 2017 | 12 | 15 |\n|  8085427 | 2017 | 11 | 15 |\n|  8085427 | 2017 | 12 | 15 |\n|  9036693 | 2017 | 11 | 15 |\n|  9036693 | 2017 | 12 | 15 |\n| 13855197 | 2017 | 11 | 15 |\n| 13855197 | 2017 | 12 | 15 |\n| 14592441 | 2015 | 12 | 15 |\n| ⋮ | ⋮ | ⋮ | ⋮ |\n| 26068577 | 2019 | 12 | 1 |\n| 26068578 | 2019 | 12 | 1 |\n| 26068579 | 2019 | 12 | 1 |\n| 26068580 | 2019 | 12 | 1 |\n| 26068581 | 2019 | 12 | 1 |\n| 26068582 | 2019 | 12 | 1 |\n| 26068583 | 2019 | 12 | 1 |\n| 26068584 | 2019 | 12 | 1 |\n| 26068585 | 2019 | 12 | 1 |\n| 26068586 | 2019 | 12 | 1 |\n| 26068587 | 2019 | 12 | 1 |\n| 26068588 | 2019 | 12 | 1 |\n| 26068590 | 2019 | 12 | 1 |\n| 26068591 | 2019 | 12 | 1 |\n| 26068593 | 2019 | 12 | 1 |\n| 26068594 | 2019 | 12 | 1 |\n| 26068595 | 2019 | 12 | 1 |\n| 26068596 | 2019 | 12 | 1 |\n| 26068598 | 2019 | 12 | 1 |\n| 26068599 | 2019 | 12 | 1 |\n| 26068600 | 2019 | 12 | 1 |\n| 26068601 | 2019 | 12 | 1 |\n| 26068602 | 2019 | 12 | 1 |\n| 26068603 | 2019 | 12 | 1 |\n| 26068604 | 2019 | 12 | 1 |\n| 26068605 | 2019 | 12 | 1 |\n| 26068606 | 2019 | 12 | 1 |\n| 26068607 | 2019 | 12 | 1 |\n| 26068608 | 2019 | 12 | 1 |\n| 26068609 | 2019 | 12 | 1 |\n\n",
            "text/html": [
              "<table class=\"dataframe\">\n",
              "<caption>A data.frame: 165755255 × 4</caption>\n",
              "<thead>\n",
              "\t<tr><th scope=col>MRUN</th><th scope=col>AGNO</th><th scope=col>MES_ESCOLAR</th><th scope=col>COLEGIOS_INSCRITOS</th></tr>\n",
              "\t<tr><th scope=col>&lt;int&gt;</th><th scope=col>&lt;int&gt;</th><th scope=col>&lt;int&gt;</th><th scope=col>&lt;int&gt;</th></tr>\n",
              "</thead>\n",
              "<tbody>\n",
              "\t<tr><td>15606561</td><td>2015</td><td>12</td><td>21</td></tr>\n",
              "\t<tr><td>20924355</td><td>2015</td><td>12</td><td>21</td></tr>\n",
              "\t<tr><td>15606561</td><td>2015</td><td>11</td><td>20</td></tr>\n",
              "\t<tr><td>20924355</td><td>2015</td><td>11</td><td>20</td></tr>\n",
              "\t<tr><td>15332159</td><td>2015</td><td>12</td><td>19</td></tr>\n",
              "\t<tr><td>19169776</td><td>2017</td><td>11</td><td>19</td></tr>\n",
              "\t<tr><td>19169776</td><td>2017</td><td>12</td><td>19</td></tr>\n",
              "\t<tr><td>15332159</td><td>2015</td><td>11</td><td>18</td></tr>\n",
              "\t<tr><td> 8085427</td><td>2016</td><td>11</td><td>16</td></tr>\n",
              "\t<tr><td> 8085427</td><td>2016</td><td>12</td><td>16</td></tr>\n",
              "\t<tr><td> 9036693</td><td>2016</td><td>11</td><td>16</td></tr>\n",
              "\t<tr><td> 9036693</td><td>2016</td><td>12</td><td>16</td></tr>\n",
              "\t<tr><td>15332159</td><td>2015</td><td>10</td><td>16</td></tr>\n",
              "\t<tr><td>15606561</td><td>2015</td><td>10</td><td>16</td></tr>\n",
              "\t<tr><td>19169776</td><td>2017</td><td>10</td><td>16</td></tr>\n",
              "\t<tr><td>20924355</td><td>2015</td><td>10</td><td>16</td></tr>\n",
              "\t<tr><td>21271715</td><td>2017</td><td>11</td><td>16</td></tr>\n",
              "\t<tr><td>21271715</td><td>2017</td><td>12</td><td>16</td></tr>\n",
              "\t<tr><td> 4128532</td><td>2017</td><td>11</td><td>15</td></tr>\n",
              "\t<tr><td> 4128532</td><td>2017</td><td>12</td><td>15</td></tr>\n",
              "\t<tr><td> 5993806</td><td>2015</td><td>12</td><td>15</td></tr>\n",
              "\t<tr><td> 5993806</td><td>2017</td><td>11</td><td>15</td></tr>\n",
              "\t<tr><td> 5993806</td><td>2017</td><td>12</td><td>15</td></tr>\n",
              "\t<tr><td> 8085427</td><td>2017</td><td>11</td><td>15</td></tr>\n",
              "\t<tr><td> 8085427</td><td>2017</td><td>12</td><td>15</td></tr>\n",
              "\t<tr><td> 9036693</td><td>2017</td><td>11</td><td>15</td></tr>\n",
              "\t<tr><td> 9036693</td><td>2017</td><td>12</td><td>15</td></tr>\n",
              "\t<tr><td>13855197</td><td>2017</td><td>11</td><td>15</td></tr>\n",
              "\t<tr><td>13855197</td><td>2017</td><td>12</td><td>15</td></tr>\n",
              "\t<tr><td>14592441</td><td>2015</td><td>12</td><td>15</td></tr>\n",
              "\t<tr><td>⋮</td><td>⋮</td><td>⋮</td><td>⋮</td></tr>\n",
              "\t<tr><td>26068577</td><td>2019</td><td>12</td><td>1</td></tr>\n",
              "\t<tr><td>26068578</td><td>2019</td><td>12</td><td>1</td></tr>\n",
              "\t<tr><td>26068579</td><td>2019</td><td>12</td><td>1</td></tr>\n",
              "\t<tr><td>26068580</td><td>2019</td><td>12</td><td>1</td></tr>\n",
              "\t<tr><td>26068581</td><td>2019</td><td>12</td><td>1</td></tr>\n",
              "\t<tr><td>26068582</td><td>2019</td><td>12</td><td>1</td></tr>\n",
              "\t<tr><td>26068583</td><td>2019</td><td>12</td><td>1</td></tr>\n",
              "\t<tr><td>26068584</td><td>2019</td><td>12</td><td>1</td></tr>\n",
              "\t<tr><td>26068585</td><td>2019</td><td>12</td><td>1</td></tr>\n",
              "\t<tr><td>26068586</td><td>2019</td><td>12</td><td>1</td></tr>\n",
              "\t<tr><td>26068587</td><td>2019</td><td>12</td><td>1</td></tr>\n",
              "\t<tr><td>26068588</td><td>2019</td><td>12</td><td>1</td></tr>\n",
              "\t<tr><td>26068590</td><td>2019</td><td>12</td><td>1</td></tr>\n",
              "\t<tr><td>26068591</td><td>2019</td><td>12</td><td>1</td></tr>\n",
              "\t<tr><td>26068593</td><td>2019</td><td>12</td><td>1</td></tr>\n",
              "\t<tr><td>26068594</td><td>2019</td><td>12</td><td>1</td></tr>\n",
              "\t<tr><td>26068595</td><td>2019</td><td>12</td><td>1</td></tr>\n",
              "\t<tr><td>26068596</td><td>2019</td><td>12</td><td>1</td></tr>\n",
              "\t<tr><td>26068598</td><td>2019</td><td>12</td><td>1</td></tr>\n",
              "\t<tr><td>26068599</td><td>2019</td><td>12</td><td>1</td></tr>\n",
              "\t<tr><td>26068600</td><td>2019</td><td>12</td><td>1</td></tr>\n",
              "\t<tr><td>26068601</td><td>2019</td><td>12</td><td>1</td></tr>\n",
              "\t<tr><td>26068602</td><td>2019</td><td>12</td><td>1</td></tr>\n",
              "\t<tr><td>26068603</td><td>2019</td><td>12</td><td>1</td></tr>\n",
              "\t<tr><td>26068604</td><td>2019</td><td>12</td><td>1</td></tr>\n",
              "\t<tr><td>26068605</td><td>2019</td><td>12</td><td>1</td></tr>\n",
              "\t<tr><td>26068606</td><td>2019</td><td>12</td><td>1</td></tr>\n",
              "\t<tr><td>26068607</td><td>2019</td><td>12</td><td>1</td></tr>\n",
              "\t<tr><td>26068608</td><td>2019</td><td>12</td><td>1</td></tr>\n",
              "\t<tr><td>26068609</td><td>2019</td><td>12</td><td>1</td></tr>\n",
              "</tbody>\n",
              "</table>\n"
            ]
          },
          "metadata": {}
        }
      ]
    },
    {
      "cell_type": "code",
      "metadata": {
        "colab": {
          "base_uri": "https://localhost:8080/",
          "height": 34
        },
        "id": "nM_vB7yxjBYF",
        "outputId": "c4f5eb06-ce7a-4add-8c0c-676c4c41382e"
      },
      "source": [
        "dbExecute(conn, \"create table ESTUDIAEN as\n",
        "select \n",
        "*\n",
        "FROM estudia_en\n",
        "group by MRUN, AGNO, MES_ESCOLAR\n",
        "having DIAS_TRABAJADOS=max(DIAS_TRABAJADOS)\n",
        "\")"
      ],
      "execution_count": null,
      "outputs": [
        {
          "output_type": "display_data",
          "data": {
            "text/plain": [
              "[1] 0"
            ],
            "text/latex": "0",
            "text/markdown": "0",
            "text/html": [
              "0"
            ]
          },
          "metadata": {}
        }
      ]
    },
    {
      "cell_type": "code",
      "metadata": {
        "colab": {
          "base_uri": "https://localhost:8080/",
          "height": 34
        },
        "id": "nLaw_hM8hhSZ",
        "outputId": "9642e7ad-d189-47e7-9d67-cb4ffa75d668"
      },
      "source": [
        "dbExecute(conn, \"\n",
        "drop table estudia_en\n",
        "\")"
      ],
      "execution_count": null,
      "outputs": [
        {
          "output_type": "display_data",
          "data": {
            "text/plain": [
              "[1] 0"
            ],
            "text/latex": "0",
            "text/markdown": "0",
            "text/html": [
              "0"
            ]
          },
          "metadata": {}
        }
      ]
    },
    {
      "cell_type": "markdown",
      "metadata": {
        "id": "7ADvnbYGjxNB"
      },
      "source": [
        "## Precipitacion"
      ]
    },
    {
      "cell_type": "code",
      "metadata": {
        "colab": {
          "base_uri": "https://localhost:8080/"
        },
        "id": "Ly2Sv7__qWwq",
        "outputId": "6701257b-8130-4905-e537-51f0d9c7e983"
      },
      "source": [
        "library(tidyverse)"
      ],
      "execution_count": null,
      "outputs": [
        {
          "output_type": "stream",
          "name": "stderr",
          "text": [
            "Warning message in system(\"timedatectl\", intern = TRUE):\n",
            "“running command 'timedatectl' had status 1”\n",
            "── \u001b[1mAttaching packages\u001b[22m ─────────────────────────────────────── tidyverse 1.3.1 ──\n",
            "\n",
            "\u001b[32m✔\u001b[39m \u001b[34mggplot2\u001b[39m 3.3.5     \u001b[32m✔\u001b[39m \u001b[34mpurrr  \u001b[39m 0.3.4\n",
            "\u001b[32m✔\u001b[39m \u001b[34mtibble \u001b[39m 3.1.3     \u001b[32m✔\u001b[39m \u001b[34mdplyr  \u001b[39m 1.0.7\n",
            "\u001b[32m✔\u001b[39m \u001b[34mtidyr  \u001b[39m 1.1.3     \u001b[32m✔\u001b[39m \u001b[34mstringr\u001b[39m 1.4.0\n",
            "\u001b[32m✔\u001b[39m \u001b[34mreadr  \u001b[39m 2.0.1     \u001b[32m✔\u001b[39m \u001b[34mforcats\u001b[39m 0.5.1\n",
            "\n",
            "── \u001b[1mConflicts\u001b[22m ────────────────────────────────────────── tidyverse_conflicts() ──\n",
            "\u001b[31m✖\u001b[39m \u001b[34mdplyr\u001b[39m::\u001b[32mfilter()\u001b[39m masks \u001b[34mstats\u001b[39m::filter()\n",
            "\u001b[31m✖\u001b[39m \u001b[34mdplyr\u001b[39m::\u001b[32mlag()\u001b[39m    masks \u001b[34mstats\u001b[39m::lag()\n",
            "\n"
          ]
        }
      ]
    },
    {
      "cell_type": "code",
      "metadata": {
        "id": "SPvki2tZjaxu",
        "colab": {
          "base_uri": "https://localhost:8080/"
        },
        "outputId": "0cca8bae-9a2c-4b95-93e6-faa19a8ceae6"
      },
      "source": [
        "unzip(\"/content/content/drive/MyDrive/Gestion de Datos/Datos Proyecto/cr2_prAmon_2019.zip\")"
      ],
      "execution_count": null,
      "outputs": [
        {
          "output_type": "stream",
          "name": "stderr",
          "text": [
            "Warning message in unzip(\"/content/content/drive/MyDrive/Gestion de Datos/Datos Proyecto/cr2_prAmon_2019.zip\"):\n",
            "“error 1 in extracting from zip file”\n"
          ]
        }
      ]
    },
    {
      "cell_type": "code",
      "metadata": {
        "id": "I-yMIavojqtc"
      },
      "source": [
        "pp <- read.csv(\"/content/cr2_prAmon_2019/cr2_prAmon_2019.txt\",na = \"-9999\", header =F)\n",
        "pp <- setNames(as.data.frame(t(pp[,-1])),as.character(pp[,1]))\n"
      ],
      "execution_count": null,
      "outputs": []
    },
    {
      "cell_type": "code",
      "metadata": {
        "id": "YorOEIgVGUj9"
      },
      "source": [
        "ppp <- pp %>% select( c(\"codigo_estacion\",\"nombre\", \"latitud\",\"longitud\") | \"2015-01\":\"2019-12\")%>%\n",
        "        pivot_longer(cols = \"2015-01\":\"2019-12\",\n",
        "        values_to = \"Precipitacion\",\n",
        "        names_to = c(\"Año\", \"Mes\"),\n",
        "        names_pattern = \"(....)-(..)\")\n"
      ],
      "execution_count": null,
      "outputs": []
    },
    {
      "cell_type": "code",
      "metadata": {
        "colab": {
          "base_uri": "https://localhost:8080/",
          "height": 1000
        },
        "id": "Zjsrhtjo675n",
        "outputId": "a5026f56-e47b-45a2-c788-f46262376051"
      },
      "source": [
        "ppp$Precipitacion<-as.numeric(ppp$Precipitacion)\n",
        "ppp$Año<-as.numeric(ppp$Año)\n",
        "ppp$Mes<-as.numeric(ppp$Mes)\n",
        "ppp$longitud<-as.numeric(ppp$longitud)\n",
        "ppp$latitud<-as.numeric(ppp$latitud)\n",
        "ppp"
      ],
      "execution_count": null,
      "outputs": [
        {
          "output_type": "display_data",
          "data": {
            "text/plain": [
              "      codigo_estacion nombre                        latitud  longitud Año  Mes\n",
              "1     1000005         Visviri                       -17.595  -69.4831 2015  1 \n",
              "2     1000005         Visviri                       -17.595  -69.4831 2015  2 \n",
              "3     1000005         Visviri                       -17.595  -69.4831 2015  3 \n",
              "4     1000005         Visviri                       -17.595  -69.4831 2015  4 \n",
              "5     1000005         Visviri                       -17.595  -69.4831 2015  5 \n",
              "6     1000005         Visviri                       -17.595  -69.4831 2015  6 \n",
              "7     1000005         Visviri                       -17.595  -69.4831 2015  7 \n",
              "8     1000005         Visviri                       -17.595  -69.4831 2015  8 \n",
              "9     1000005         Visviri                       -17.595  -69.4831 2015  9 \n",
              "10    1000005         Visviri                       -17.595  -69.4831 2015 10 \n",
              "11    1000005         Visviri                       -17.595  -69.4831 2015 11 \n",
              "12    1000005         Visviri                       -17.595  -69.4831 2015 12 \n",
              "13    1000005         Visviri                       -17.595  -69.4831 2016  1 \n",
              "14    1000005         Visviri                       -17.595  -69.4831 2016  2 \n",
              "15    1000005         Visviri                       -17.595  -69.4831 2016  3 \n",
              "16    1000005         Visviri                       -17.595  -69.4831 2016  4 \n",
              "17    1000005         Visviri                       -17.595  -69.4831 2016  5 \n",
              "18    1000005         Visviri                       -17.595  -69.4831 2016  6 \n",
              "19    1000005         Visviri                       -17.595  -69.4831 2016  7 \n",
              "20    1000005         Visviri                       -17.595  -69.4831 2016  8 \n",
              "21    1000005         Visviri                       -17.595  -69.4831 2016  9 \n",
              "22    1000005         Visviri                       -17.595  -69.4831 2016 10 \n",
              "23    1000005         Visviri                       -17.595  -69.4831 2016 11 \n",
              "24    1000005         Visviri                       -17.595  -69.4831 2016 12 \n",
              "25    1000005         Visviri                       -17.595  -69.4831 2017  1 \n",
              "26    1000005         Visviri                       -17.595  -69.4831 2017  2 \n",
              "27    1000005         Visviri                       -17.595  -69.4831 2017  3 \n",
              "28    1000005         Visviri                       -17.595  -69.4831 2017  4 \n",
              "29    1000005         Visviri                       -17.595  -69.4831 2017  5 \n",
              "30    1000005         Visviri                       -17.595  -69.4831 2017  6 \n",
              "⋮     ⋮               ⋮                             ⋮        ⋮        ⋮    ⋮  \n",
              "52711 530005          Fuentes Martinez Porvenir Ad. -53.1875 -70.3203 2017  7 \n",
              "52712 530005          Fuentes Martinez Porvenir Ad. -53.1875 -70.3203 2017  8 \n",
              "52713 530005          Fuentes Martinez Porvenir Ad. -53.1875 -70.3203 2017  9 \n",
              "52714 530005          Fuentes Martinez Porvenir Ad. -53.1875 -70.3203 2017 10 \n",
              "52715 530005          Fuentes Martinez Porvenir Ad. -53.1875 -70.3203 2017 11 \n",
              "52716 530005          Fuentes Martinez Porvenir Ad. -53.1875 -70.3203 2017 12 \n",
              "52717 530005          Fuentes Martinez Porvenir Ad. -53.1875 -70.3203 2018  1 \n",
              "52718 530005          Fuentes Martinez Porvenir Ad. -53.1875 -70.3203 2018  2 \n",
              "52719 530005          Fuentes Martinez Porvenir Ad. -53.1875 -70.3203 2018  3 \n",
              "52720 530005          Fuentes Martinez Porvenir Ad. -53.1875 -70.3203 2018  4 \n",
              "52721 530005          Fuentes Martinez Porvenir Ad. -53.1875 -70.3203 2018  5 \n",
              "52722 530005          Fuentes Martinez Porvenir Ad. -53.1875 -70.3203 2018  6 \n",
              "52723 530005          Fuentes Martinez Porvenir Ad. -53.1875 -70.3203 2018  7 \n",
              "52724 530005          Fuentes Martinez Porvenir Ad. -53.1875 -70.3203 2018  8 \n",
              "52725 530005          Fuentes Martinez Porvenir Ad. -53.1875 -70.3203 2018  9 \n",
              "52726 530005          Fuentes Martinez Porvenir Ad. -53.1875 -70.3203 2018 10 \n",
              "52727 530005          Fuentes Martinez Porvenir Ad. -53.1875 -70.3203 2018 11 \n",
              "52728 530005          Fuentes Martinez Porvenir Ad. -53.1875 -70.3203 2018 12 \n",
              "52729 530005          Fuentes Martinez Porvenir Ad. -53.1875 -70.3203 2019  1 \n",
              "52730 530005          Fuentes Martinez Porvenir Ad. -53.1875 -70.3203 2019  2 \n",
              "52731 530005          Fuentes Martinez Porvenir Ad. -53.1875 -70.3203 2019  3 \n",
              "52732 530005          Fuentes Martinez Porvenir Ad. -53.1875 -70.3203 2019  4 \n",
              "52733 530005          Fuentes Martinez Porvenir Ad. -53.1875 -70.3203 2019  5 \n",
              "52734 530005          Fuentes Martinez Porvenir Ad. -53.1875 -70.3203 2019  6 \n",
              "52735 530005          Fuentes Martinez Porvenir Ad. -53.1875 -70.3203 2019  7 \n",
              "52736 530005          Fuentes Martinez Porvenir Ad. -53.1875 -70.3203 2019  8 \n",
              "52737 530005          Fuentes Martinez Porvenir Ad. -53.1875 -70.3203 2019  9 \n",
              "52738 530005          Fuentes Martinez Porvenir Ad. -53.1875 -70.3203 2019 10 \n",
              "52739 530005          Fuentes Martinez Porvenir Ad. -53.1875 -70.3203 2019 11 \n",
              "52740 530005          Fuentes Martinez Porvenir Ad. -53.1875 -70.3203 2019 12 \n",
              "      Precipitacion\n",
              "1      53.2        \n",
              "2     107.0        \n",
              "3     118.8        \n",
              "4      46.8        \n",
              "5       0.0        \n",
              "6       0.0        \n",
              "7       5.0        \n",
              "8       1.4        \n",
              "9       5.0        \n",
              "10      5.8        \n",
              "11      8.6        \n",
              "12      1.2        \n",
              "13     38.4        \n",
              "14    129.8        \n",
              "15      2.2        \n",
              "16     33.8        \n",
              "17     15.0        \n",
              "18      5.4        \n",
              "19      6.0        \n",
              "20       NA        \n",
              "21      0.0        \n",
              "22      6.8        \n",
              "23      0.6        \n",
              "24     34.8        \n",
              "25    101.8        \n",
              "26     90.4        \n",
              "27     75.8        \n",
              "28      2.8        \n",
              "29      0.6        \n",
              "30      0.2        \n",
              "⋮     ⋮            \n",
              "52711 23.4         \n",
              "52712 17.9         \n",
              "52713  8.4         \n",
              "52714 14.7         \n",
              "52715 30.2         \n",
              "52716 49.3         \n",
              "52717 31.6         \n",
              "52718 12.5         \n",
              "52719 17.4         \n",
              "52720 98.2         \n",
              "52721 39.6         \n",
              "52722 32.3         \n",
              "52723 10.2         \n",
              "52724 24.5         \n",
              "52725  5.8         \n",
              "52726  8.0         \n",
              "52727 13.6         \n",
              "52728 25.5         \n",
              "52729 16.9         \n",
              "52730 11.2         \n",
              "52731 25.0         \n",
              "52732 34.9         \n",
              "52733 42.3         \n",
              "52734 29.2         \n",
              "52735 30.3         \n",
              "52736 23.2         \n",
              "52737 14.8         \n",
              "52738  8.0         \n",
              "52739 41.0         \n",
              "52740 43.5         "
            ],
            "text/latex": "A tibble: 52740 × 7\n\\begin{tabular}{lllllll}\n codigo\\_estacion & nombre & latitud & longitud & Año & Mes & Precipitacion\\\\\n <chr> & <chr> & <dbl> & <dbl> & <dbl> & <dbl> & <dbl>\\\\\n\\hline\n\t 1000005 & Visviri & -17.595 & -69.4831 & 2015 &  1 &  53.2\\\\\n\t 1000005 & Visviri & -17.595 & -69.4831 & 2015 &  2 & 107.0\\\\\n\t 1000005 & Visviri & -17.595 & -69.4831 & 2015 &  3 & 118.8\\\\\n\t 1000005 & Visviri & -17.595 & -69.4831 & 2015 &  4 &  46.8\\\\\n\t 1000005 & Visviri & -17.595 & -69.4831 & 2015 &  5 &   0.0\\\\\n\t 1000005 & Visviri & -17.595 & -69.4831 & 2015 &  6 &   0.0\\\\\n\t 1000005 & Visviri & -17.595 & -69.4831 & 2015 &  7 &   5.0\\\\\n\t 1000005 & Visviri & -17.595 & -69.4831 & 2015 &  8 &   1.4\\\\\n\t 1000005 & Visviri & -17.595 & -69.4831 & 2015 &  9 &   5.0\\\\\n\t 1000005 & Visviri & -17.595 & -69.4831 & 2015 & 10 &   5.8\\\\\n\t 1000005 & Visviri & -17.595 & -69.4831 & 2015 & 11 &   8.6\\\\\n\t 1000005 & Visviri & -17.595 & -69.4831 & 2015 & 12 &   1.2\\\\\n\t 1000005 & Visviri & -17.595 & -69.4831 & 2016 &  1 &  38.4\\\\\n\t 1000005 & Visviri & -17.595 & -69.4831 & 2016 &  2 & 129.8\\\\\n\t 1000005 & Visviri & -17.595 & -69.4831 & 2016 &  3 &   2.2\\\\\n\t 1000005 & Visviri & -17.595 & -69.4831 & 2016 &  4 &  33.8\\\\\n\t 1000005 & Visviri & -17.595 & -69.4831 & 2016 &  5 &  15.0\\\\\n\t 1000005 & Visviri & -17.595 & -69.4831 & 2016 &  6 &   5.4\\\\\n\t 1000005 & Visviri & -17.595 & -69.4831 & 2016 &  7 &   6.0\\\\\n\t 1000005 & Visviri & -17.595 & -69.4831 & 2016 &  8 &    NA\\\\\n\t 1000005 & Visviri & -17.595 & -69.4831 & 2016 &  9 &   0.0\\\\\n\t 1000005 & Visviri & -17.595 & -69.4831 & 2016 & 10 &   6.8\\\\\n\t 1000005 & Visviri & -17.595 & -69.4831 & 2016 & 11 &   0.6\\\\\n\t 1000005 & Visviri & -17.595 & -69.4831 & 2016 & 12 &  34.8\\\\\n\t 1000005 & Visviri & -17.595 & -69.4831 & 2017 &  1 & 101.8\\\\\n\t 1000005 & Visviri & -17.595 & -69.4831 & 2017 &  2 &  90.4\\\\\n\t 1000005 & Visviri & -17.595 & -69.4831 & 2017 &  3 &  75.8\\\\\n\t 1000005 & Visviri & -17.595 & -69.4831 & 2017 &  4 &   2.8\\\\\n\t 1000005 & Visviri & -17.595 & -69.4831 & 2017 &  5 &   0.6\\\\\n\t 1000005 & Visviri & -17.595 & -69.4831 & 2017 &  6 &   0.2\\\\\n\t ⋮ & ⋮ & ⋮ & ⋮ & ⋮ & ⋮ & ⋮\\\\\n\t 530005 & Fuentes Martinez Porvenir Ad. & -53.1875 & -70.3203 & 2017 &  7 & 23.4\\\\\n\t 530005 & Fuentes Martinez Porvenir Ad. & -53.1875 & -70.3203 & 2017 &  8 & 17.9\\\\\n\t 530005 & Fuentes Martinez Porvenir Ad. & -53.1875 & -70.3203 & 2017 &  9 &  8.4\\\\\n\t 530005 & Fuentes Martinez Porvenir Ad. & -53.1875 & -70.3203 & 2017 & 10 & 14.7\\\\\n\t 530005 & Fuentes Martinez Porvenir Ad. & -53.1875 & -70.3203 & 2017 & 11 & 30.2\\\\\n\t 530005 & Fuentes Martinez Porvenir Ad. & -53.1875 & -70.3203 & 2017 & 12 & 49.3\\\\\n\t 530005 & Fuentes Martinez Porvenir Ad. & -53.1875 & -70.3203 & 2018 &  1 & 31.6\\\\\n\t 530005 & Fuentes Martinez Porvenir Ad. & -53.1875 & -70.3203 & 2018 &  2 & 12.5\\\\\n\t 530005 & Fuentes Martinez Porvenir Ad. & -53.1875 & -70.3203 & 2018 &  3 & 17.4\\\\\n\t 530005 & Fuentes Martinez Porvenir Ad. & -53.1875 & -70.3203 & 2018 &  4 & 98.2\\\\\n\t 530005 & Fuentes Martinez Porvenir Ad. & -53.1875 & -70.3203 & 2018 &  5 & 39.6\\\\\n\t 530005 & Fuentes Martinez Porvenir Ad. & -53.1875 & -70.3203 & 2018 &  6 & 32.3\\\\\n\t 530005 & Fuentes Martinez Porvenir Ad. & -53.1875 & -70.3203 & 2018 &  7 & 10.2\\\\\n\t 530005 & Fuentes Martinez Porvenir Ad. & -53.1875 & -70.3203 & 2018 &  8 & 24.5\\\\\n\t 530005 & Fuentes Martinez Porvenir Ad. & -53.1875 & -70.3203 & 2018 &  9 &  5.8\\\\\n\t 530005 & Fuentes Martinez Porvenir Ad. & -53.1875 & -70.3203 & 2018 & 10 &  8.0\\\\\n\t 530005 & Fuentes Martinez Porvenir Ad. & -53.1875 & -70.3203 & 2018 & 11 & 13.6\\\\\n\t 530005 & Fuentes Martinez Porvenir Ad. & -53.1875 & -70.3203 & 2018 & 12 & 25.5\\\\\n\t 530005 & Fuentes Martinez Porvenir Ad. & -53.1875 & -70.3203 & 2019 &  1 & 16.9\\\\\n\t 530005 & Fuentes Martinez Porvenir Ad. & -53.1875 & -70.3203 & 2019 &  2 & 11.2\\\\\n\t 530005 & Fuentes Martinez Porvenir Ad. & -53.1875 & -70.3203 & 2019 &  3 & 25.0\\\\\n\t 530005 & Fuentes Martinez Porvenir Ad. & -53.1875 & -70.3203 & 2019 &  4 & 34.9\\\\\n\t 530005 & Fuentes Martinez Porvenir Ad. & -53.1875 & -70.3203 & 2019 &  5 & 42.3\\\\\n\t 530005 & Fuentes Martinez Porvenir Ad. & -53.1875 & -70.3203 & 2019 &  6 & 29.2\\\\\n\t 530005 & Fuentes Martinez Porvenir Ad. & -53.1875 & -70.3203 & 2019 &  7 & 30.3\\\\\n\t 530005 & Fuentes Martinez Porvenir Ad. & -53.1875 & -70.3203 & 2019 &  8 & 23.2\\\\\n\t 530005 & Fuentes Martinez Porvenir Ad. & -53.1875 & -70.3203 & 2019 &  9 & 14.8\\\\\n\t 530005 & Fuentes Martinez Porvenir Ad. & -53.1875 & -70.3203 & 2019 & 10 &  8.0\\\\\n\t 530005 & Fuentes Martinez Porvenir Ad. & -53.1875 & -70.3203 & 2019 & 11 & 41.0\\\\\n\t 530005 & Fuentes Martinez Porvenir Ad. & -53.1875 & -70.3203 & 2019 & 12 & 43.5\\\\\n\\end{tabular}\n",
            "text/markdown": "\nA tibble: 52740 × 7\n\n| codigo_estacion &lt;chr&gt; | nombre &lt;chr&gt; | latitud &lt;dbl&gt; | longitud &lt;dbl&gt; | Año &lt;dbl&gt; | Mes &lt;dbl&gt; | Precipitacion &lt;dbl&gt; |\n|---|---|---|---|---|---|---|\n| 1000005 | Visviri | -17.595 | -69.4831 | 2015 |  1 |  53.2 |\n| 1000005 | Visviri | -17.595 | -69.4831 | 2015 |  2 | 107.0 |\n| 1000005 | Visviri | -17.595 | -69.4831 | 2015 |  3 | 118.8 |\n| 1000005 | Visviri | -17.595 | -69.4831 | 2015 |  4 |  46.8 |\n| 1000005 | Visviri | -17.595 | -69.4831 | 2015 |  5 |   0.0 |\n| 1000005 | Visviri | -17.595 | -69.4831 | 2015 |  6 |   0.0 |\n| 1000005 | Visviri | -17.595 | -69.4831 | 2015 |  7 |   5.0 |\n| 1000005 | Visviri | -17.595 | -69.4831 | 2015 |  8 |   1.4 |\n| 1000005 | Visviri | -17.595 | -69.4831 | 2015 |  9 |   5.0 |\n| 1000005 | Visviri | -17.595 | -69.4831 | 2015 | 10 |   5.8 |\n| 1000005 | Visviri | -17.595 | -69.4831 | 2015 | 11 |   8.6 |\n| 1000005 | Visviri | -17.595 | -69.4831 | 2015 | 12 |   1.2 |\n| 1000005 | Visviri | -17.595 | -69.4831 | 2016 |  1 |  38.4 |\n| 1000005 | Visviri | -17.595 | -69.4831 | 2016 |  2 | 129.8 |\n| 1000005 | Visviri | -17.595 | -69.4831 | 2016 |  3 |   2.2 |\n| 1000005 | Visviri | -17.595 | -69.4831 | 2016 |  4 |  33.8 |\n| 1000005 | Visviri | -17.595 | -69.4831 | 2016 |  5 |  15.0 |\n| 1000005 | Visviri | -17.595 | -69.4831 | 2016 |  6 |   5.4 |\n| 1000005 | Visviri | -17.595 | -69.4831 | 2016 |  7 |   6.0 |\n| 1000005 | Visviri | -17.595 | -69.4831 | 2016 |  8 |    NA |\n| 1000005 | Visviri | -17.595 | -69.4831 | 2016 |  9 |   0.0 |\n| 1000005 | Visviri | -17.595 | -69.4831 | 2016 | 10 |   6.8 |\n| 1000005 | Visviri | -17.595 | -69.4831 | 2016 | 11 |   0.6 |\n| 1000005 | Visviri | -17.595 | -69.4831 | 2016 | 12 |  34.8 |\n| 1000005 | Visviri | -17.595 | -69.4831 | 2017 |  1 | 101.8 |\n| 1000005 | Visviri | -17.595 | -69.4831 | 2017 |  2 |  90.4 |\n| 1000005 | Visviri | -17.595 | -69.4831 | 2017 |  3 |  75.8 |\n| 1000005 | Visviri | -17.595 | -69.4831 | 2017 |  4 |   2.8 |\n| 1000005 | Visviri | -17.595 | -69.4831 | 2017 |  5 |   0.6 |\n| 1000005 | Visviri | -17.595 | -69.4831 | 2017 |  6 |   0.2 |\n| ⋮ | ⋮ | ⋮ | ⋮ | ⋮ | ⋮ | ⋮ |\n| 530005 | Fuentes Martinez Porvenir Ad. | -53.1875 | -70.3203 | 2017 |  7 | 23.4 |\n| 530005 | Fuentes Martinez Porvenir Ad. | -53.1875 | -70.3203 | 2017 |  8 | 17.9 |\n| 530005 | Fuentes Martinez Porvenir Ad. | -53.1875 | -70.3203 | 2017 |  9 |  8.4 |\n| 530005 | Fuentes Martinez Porvenir Ad. | -53.1875 | -70.3203 | 2017 | 10 | 14.7 |\n| 530005 | Fuentes Martinez Porvenir Ad. | -53.1875 | -70.3203 | 2017 | 11 | 30.2 |\n| 530005 | Fuentes Martinez Porvenir Ad. | -53.1875 | -70.3203 | 2017 | 12 | 49.3 |\n| 530005 | Fuentes Martinez Porvenir Ad. | -53.1875 | -70.3203 | 2018 |  1 | 31.6 |\n| 530005 | Fuentes Martinez Porvenir Ad. | -53.1875 | -70.3203 | 2018 |  2 | 12.5 |\n| 530005 | Fuentes Martinez Porvenir Ad. | -53.1875 | -70.3203 | 2018 |  3 | 17.4 |\n| 530005 | Fuentes Martinez Porvenir Ad. | -53.1875 | -70.3203 | 2018 |  4 | 98.2 |\n| 530005 | Fuentes Martinez Porvenir Ad. | -53.1875 | -70.3203 | 2018 |  5 | 39.6 |\n| 530005 | Fuentes Martinez Porvenir Ad. | -53.1875 | -70.3203 | 2018 |  6 | 32.3 |\n| 530005 | Fuentes Martinez Porvenir Ad. | -53.1875 | -70.3203 | 2018 |  7 | 10.2 |\n| 530005 | Fuentes Martinez Porvenir Ad. | -53.1875 | -70.3203 | 2018 |  8 | 24.5 |\n| 530005 | Fuentes Martinez Porvenir Ad. | -53.1875 | -70.3203 | 2018 |  9 |  5.8 |\n| 530005 | Fuentes Martinez Porvenir Ad. | -53.1875 | -70.3203 | 2018 | 10 |  8.0 |\n| 530005 | Fuentes Martinez Porvenir Ad. | -53.1875 | -70.3203 | 2018 | 11 | 13.6 |\n| 530005 | Fuentes Martinez Porvenir Ad. | -53.1875 | -70.3203 | 2018 | 12 | 25.5 |\n| 530005 | Fuentes Martinez Porvenir Ad. | -53.1875 | -70.3203 | 2019 |  1 | 16.9 |\n| 530005 | Fuentes Martinez Porvenir Ad. | -53.1875 | -70.3203 | 2019 |  2 | 11.2 |\n| 530005 | Fuentes Martinez Porvenir Ad. | -53.1875 | -70.3203 | 2019 |  3 | 25.0 |\n| 530005 | Fuentes Martinez Porvenir Ad. | -53.1875 | -70.3203 | 2019 |  4 | 34.9 |\n| 530005 | Fuentes Martinez Porvenir Ad. | -53.1875 | -70.3203 | 2019 |  5 | 42.3 |\n| 530005 | Fuentes Martinez Porvenir Ad. | -53.1875 | -70.3203 | 2019 |  6 | 29.2 |\n| 530005 | Fuentes Martinez Porvenir Ad. | -53.1875 | -70.3203 | 2019 |  7 | 30.3 |\n| 530005 | Fuentes Martinez Porvenir Ad. | -53.1875 | -70.3203 | 2019 |  8 | 23.2 |\n| 530005 | Fuentes Martinez Porvenir Ad. | -53.1875 | -70.3203 | 2019 |  9 | 14.8 |\n| 530005 | Fuentes Martinez Porvenir Ad. | -53.1875 | -70.3203 | 2019 | 10 |  8.0 |\n| 530005 | Fuentes Martinez Porvenir Ad. | -53.1875 | -70.3203 | 2019 | 11 | 41.0 |\n| 530005 | Fuentes Martinez Porvenir Ad. | -53.1875 | -70.3203 | 2019 | 12 | 43.5 |\n\n",
            "text/html": [
              "<table class=\"dataframe\">\n",
              "<caption>A tibble: 52740 × 7</caption>\n",
              "<thead>\n",
              "\t<tr><th scope=col>codigo_estacion</th><th scope=col>nombre</th><th scope=col>latitud</th><th scope=col>longitud</th><th scope=col>Año</th><th scope=col>Mes</th><th scope=col>Precipitacion</th></tr>\n",
              "\t<tr><th scope=col>&lt;chr&gt;</th><th scope=col>&lt;chr&gt;</th><th scope=col>&lt;dbl&gt;</th><th scope=col>&lt;dbl&gt;</th><th scope=col>&lt;dbl&gt;</th><th scope=col>&lt;dbl&gt;</th><th scope=col>&lt;dbl&gt;</th></tr>\n",
              "</thead>\n",
              "<tbody>\n",
              "\t<tr><td>1000005</td><td>Visviri</td><td>-17.595</td><td>-69.4831</td><td>2015</td><td> 1</td><td> 53.2</td></tr>\n",
              "\t<tr><td>1000005</td><td>Visviri</td><td>-17.595</td><td>-69.4831</td><td>2015</td><td> 2</td><td>107.0</td></tr>\n",
              "\t<tr><td>1000005</td><td>Visviri</td><td>-17.595</td><td>-69.4831</td><td>2015</td><td> 3</td><td>118.8</td></tr>\n",
              "\t<tr><td>1000005</td><td>Visviri</td><td>-17.595</td><td>-69.4831</td><td>2015</td><td> 4</td><td> 46.8</td></tr>\n",
              "\t<tr><td>1000005</td><td>Visviri</td><td>-17.595</td><td>-69.4831</td><td>2015</td><td> 5</td><td>  0.0</td></tr>\n",
              "\t<tr><td>1000005</td><td>Visviri</td><td>-17.595</td><td>-69.4831</td><td>2015</td><td> 6</td><td>  0.0</td></tr>\n",
              "\t<tr><td>1000005</td><td>Visviri</td><td>-17.595</td><td>-69.4831</td><td>2015</td><td> 7</td><td>  5.0</td></tr>\n",
              "\t<tr><td>1000005</td><td>Visviri</td><td>-17.595</td><td>-69.4831</td><td>2015</td><td> 8</td><td>  1.4</td></tr>\n",
              "\t<tr><td>1000005</td><td>Visviri</td><td>-17.595</td><td>-69.4831</td><td>2015</td><td> 9</td><td>  5.0</td></tr>\n",
              "\t<tr><td>1000005</td><td>Visviri</td><td>-17.595</td><td>-69.4831</td><td>2015</td><td>10</td><td>  5.8</td></tr>\n",
              "\t<tr><td>1000005</td><td>Visviri</td><td>-17.595</td><td>-69.4831</td><td>2015</td><td>11</td><td>  8.6</td></tr>\n",
              "\t<tr><td>1000005</td><td>Visviri</td><td>-17.595</td><td>-69.4831</td><td>2015</td><td>12</td><td>  1.2</td></tr>\n",
              "\t<tr><td>1000005</td><td>Visviri</td><td>-17.595</td><td>-69.4831</td><td>2016</td><td> 1</td><td> 38.4</td></tr>\n",
              "\t<tr><td>1000005</td><td>Visviri</td><td>-17.595</td><td>-69.4831</td><td>2016</td><td> 2</td><td>129.8</td></tr>\n",
              "\t<tr><td>1000005</td><td>Visviri</td><td>-17.595</td><td>-69.4831</td><td>2016</td><td> 3</td><td>  2.2</td></tr>\n",
              "\t<tr><td>1000005</td><td>Visviri</td><td>-17.595</td><td>-69.4831</td><td>2016</td><td> 4</td><td> 33.8</td></tr>\n",
              "\t<tr><td>1000005</td><td>Visviri</td><td>-17.595</td><td>-69.4831</td><td>2016</td><td> 5</td><td> 15.0</td></tr>\n",
              "\t<tr><td>1000005</td><td>Visviri</td><td>-17.595</td><td>-69.4831</td><td>2016</td><td> 6</td><td>  5.4</td></tr>\n",
              "\t<tr><td>1000005</td><td>Visviri</td><td>-17.595</td><td>-69.4831</td><td>2016</td><td> 7</td><td>  6.0</td></tr>\n",
              "\t<tr><td>1000005</td><td>Visviri</td><td>-17.595</td><td>-69.4831</td><td>2016</td><td> 8</td><td>   NA</td></tr>\n",
              "\t<tr><td>1000005</td><td>Visviri</td><td>-17.595</td><td>-69.4831</td><td>2016</td><td> 9</td><td>  0.0</td></tr>\n",
              "\t<tr><td>1000005</td><td>Visviri</td><td>-17.595</td><td>-69.4831</td><td>2016</td><td>10</td><td>  6.8</td></tr>\n",
              "\t<tr><td>1000005</td><td>Visviri</td><td>-17.595</td><td>-69.4831</td><td>2016</td><td>11</td><td>  0.6</td></tr>\n",
              "\t<tr><td>1000005</td><td>Visviri</td><td>-17.595</td><td>-69.4831</td><td>2016</td><td>12</td><td> 34.8</td></tr>\n",
              "\t<tr><td>1000005</td><td>Visviri</td><td>-17.595</td><td>-69.4831</td><td>2017</td><td> 1</td><td>101.8</td></tr>\n",
              "\t<tr><td>1000005</td><td>Visviri</td><td>-17.595</td><td>-69.4831</td><td>2017</td><td> 2</td><td> 90.4</td></tr>\n",
              "\t<tr><td>1000005</td><td>Visviri</td><td>-17.595</td><td>-69.4831</td><td>2017</td><td> 3</td><td> 75.8</td></tr>\n",
              "\t<tr><td>1000005</td><td>Visviri</td><td>-17.595</td><td>-69.4831</td><td>2017</td><td> 4</td><td>  2.8</td></tr>\n",
              "\t<tr><td>1000005</td><td>Visviri</td><td>-17.595</td><td>-69.4831</td><td>2017</td><td> 5</td><td>  0.6</td></tr>\n",
              "\t<tr><td>1000005</td><td>Visviri</td><td>-17.595</td><td>-69.4831</td><td>2017</td><td> 6</td><td>  0.2</td></tr>\n",
              "\t<tr><td>⋮</td><td>⋮</td><td>⋮</td><td>⋮</td><td>⋮</td><td>⋮</td><td>⋮</td></tr>\n",
              "\t<tr><td>530005</td><td>Fuentes Martinez Porvenir Ad.</td><td>-53.1875</td><td>-70.3203</td><td>2017</td><td> 7</td><td>23.4</td></tr>\n",
              "\t<tr><td>530005</td><td>Fuentes Martinez Porvenir Ad.</td><td>-53.1875</td><td>-70.3203</td><td>2017</td><td> 8</td><td>17.9</td></tr>\n",
              "\t<tr><td>530005</td><td>Fuentes Martinez Porvenir Ad.</td><td>-53.1875</td><td>-70.3203</td><td>2017</td><td> 9</td><td> 8.4</td></tr>\n",
              "\t<tr><td>530005</td><td>Fuentes Martinez Porvenir Ad.</td><td>-53.1875</td><td>-70.3203</td><td>2017</td><td>10</td><td>14.7</td></tr>\n",
              "\t<tr><td>530005</td><td>Fuentes Martinez Porvenir Ad.</td><td>-53.1875</td><td>-70.3203</td><td>2017</td><td>11</td><td>30.2</td></tr>\n",
              "\t<tr><td>530005</td><td>Fuentes Martinez Porvenir Ad.</td><td>-53.1875</td><td>-70.3203</td><td>2017</td><td>12</td><td>49.3</td></tr>\n",
              "\t<tr><td>530005</td><td>Fuentes Martinez Porvenir Ad.</td><td>-53.1875</td><td>-70.3203</td><td>2018</td><td> 1</td><td>31.6</td></tr>\n",
              "\t<tr><td>530005</td><td>Fuentes Martinez Porvenir Ad.</td><td>-53.1875</td><td>-70.3203</td><td>2018</td><td> 2</td><td>12.5</td></tr>\n",
              "\t<tr><td>530005</td><td>Fuentes Martinez Porvenir Ad.</td><td>-53.1875</td><td>-70.3203</td><td>2018</td><td> 3</td><td>17.4</td></tr>\n",
              "\t<tr><td>530005</td><td>Fuentes Martinez Porvenir Ad.</td><td>-53.1875</td><td>-70.3203</td><td>2018</td><td> 4</td><td>98.2</td></tr>\n",
              "\t<tr><td>530005</td><td>Fuentes Martinez Porvenir Ad.</td><td>-53.1875</td><td>-70.3203</td><td>2018</td><td> 5</td><td>39.6</td></tr>\n",
              "\t<tr><td>530005</td><td>Fuentes Martinez Porvenir Ad.</td><td>-53.1875</td><td>-70.3203</td><td>2018</td><td> 6</td><td>32.3</td></tr>\n",
              "\t<tr><td>530005</td><td>Fuentes Martinez Porvenir Ad.</td><td>-53.1875</td><td>-70.3203</td><td>2018</td><td> 7</td><td>10.2</td></tr>\n",
              "\t<tr><td>530005</td><td>Fuentes Martinez Porvenir Ad.</td><td>-53.1875</td><td>-70.3203</td><td>2018</td><td> 8</td><td>24.5</td></tr>\n",
              "\t<tr><td>530005</td><td>Fuentes Martinez Porvenir Ad.</td><td>-53.1875</td><td>-70.3203</td><td>2018</td><td> 9</td><td> 5.8</td></tr>\n",
              "\t<tr><td>530005</td><td>Fuentes Martinez Porvenir Ad.</td><td>-53.1875</td><td>-70.3203</td><td>2018</td><td>10</td><td> 8.0</td></tr>\n",
              "\t<tr><td>530005</td><td>Fuentes Martinez Porvenir Ad.</td><td>-53.1875</td><td>-70.3203</td><td>2018</td><td>11</td><td>13.6</td></tr>\n",
              "\t<tr><td>530005</td><td>Fuentes Martinez Porvenir Ad.</td><td>-53.1875</td><td>-70.3203</td><td>2018</td><td>12</td><td>25.5</td></tr>\n",
              "\t<tr><td>530005</td><td>Fuentes Martinez Porvenir Ad.</td><td>-53.1875</td><td>-70.3203</td><td>2019</td><td> 1</td><td>16.9</td></tr>\n",
              "\t<tr><td>530005</td><td>Fuentes Martinez Porvenir Ad.</td><td>-53.1875</td><td>-70.3203</td><td>2019</td><td> 2</td><td>11.2</td></tr>\n",
              "\t<tr><td>530005</td><td>Fuentes Martinez Porvenir Ad.</td><td>-53.1875</td><td>-70.3203</td><td>2019</td><td> 3</td><td>25.0</td></tr>\n",
              "\t<tr><td>530005</td><td>Fuentes Martinez Porvenir Ad.</td><td>-53.1875</td><td>-70.3203</td><td>2019</td><td> 4</td><td>34.9</td></tr>\n",
              "\t<tr><td>530005</td><td>Fuentes Martinez Porvenir Ad.</td><td>-53.1875</td><td>-70.3203</td><td>2019</td><td> 5</td><td>42.3</td></tr>\n",
              "\t<tr><td>530005</td><td>Fuentes Martinez Porvenir Ad.</td><td>-53.1875</td><td>-70.3203</td><td>2019</td><td> 6</td><td>29.2</td></tr>\n",
              "\t<tr><td>530005</td><td>Fuentes Martinez Porvenir Ad.</td><td>-53.1875</td><td>-70.3203</td><td>2019</td><td> 7</td><td>30.3</td></tr>\n",
              "\t<tr><td>530005</td><td>Fuentes Martinez Porvenir Ad.</td><td>-53.1875</td><td>-70.3203</td><td>2019</td><td> 8</td><td>23.2</td></tr>\n",
              "\t<tr><td>530005</td><td>Fuentes Martinez Porvenir Ad.</td><td>-53.1875</td><td>-70.3203</td><td>2019</td><td> 9</td><td>14.8</td></tr>\n",
              "\t<tr><td>530005</td><td>Fuentes Martinez Porvenir Ad.</td><td>-53.1875</td><td>-70.3203</td><td>2019</td><td>10</td><td> 8.0</td></tr>\n",
              "\t<tr><td>530005</td><td>Fuentes Martinez Porvenir Ad.</td><td>-53.1875</td><td>-70.3203</td><td>2019</td><td>11</td><td>41.0</td></tr>\n",
              "\t<tr><td>530005</td><td>Fuentes Martinez Porvenir Ad.</td><td>-53.1875</td><td>-70.3203</td><td>2019</td><td>12</td><td>43.5</td></tr>\n",
              "</tbody>\n",
              "</table>\n"
            ]
          },
          "metadata": {}
        }
      ]
    },
    {
      "cell_type": "markdown",
      "metadata": {
        "id": "0GwjdwzkpM0Y"
      },
      "source": [
        "Se toman solo las estaciones con menos de 5 NA en los años elegidos"
      ]
    },
    {
      "cell_type": "code",
      "metadata": {
        "id": "NaoOGgzR2CAp"
      },
      "source": [
        "ppp <-  ppp %>% group_by(codigo_estacion) %>%\n",
        "        filter(sum(is.na(Precipitacion))<5) %>%\n",
        "        ungroup()\n"
      ],
      "execution_count": null,
      "outputs": []
    },
    {
      "cell_type": "markdown",
      "metadata": {
        "id": "kTVkjQUOrNdb"
      },
      "source": [
        "Se llenan los NA con los promedios mensuales"
      ]
    },
    {
      "cell_type": "code",
      "metadata": {
        "id": "tcMf-vXW3_Da"
      },
      "source": [
        "ppp <- ppp %>% group_by(codigo_estacion, Mes)%>%\n",
        "        mutate(Precipitacion = if_else(is.na(Precipitacion), mean(Precipitacion, na.rm = T), Precipitacion))\n"
      ],
      "execution_count": null,
      "outputs": []
    },
    {
      "cell_type": "code",
      "metadata": {
        "colab": {
          "base_uri": "https://localhost:8080/",
          "height": 1000
        },
        "id": "FE8uVycP7F-h",
        "outputId": "196703d0-593d-4f8a-c2c0-86788c0b3fe7"
      },
      "source": [
        "ppp\n"
      ],
      "execution_count": null,
      "outputs": [
        {
          "output_type": "display_data",
          "data": {
            "text/plain": [
              "      codigo_estacion nombre                        latitud  longitud Año  Mes\n",
              "1     1000005         Visviri                       -17.595  -69.4831 2015  1 \n",
              "2     1000005         Visviri                       -17.595  -69.4831 2015  2 \n",
              "3     1000005         Visviri                       -17.595  -69.4831 2015  3 \n",
              "4     1000005         Visviri                       -17.595  -69.4831 2015  4 \n",
              "5     1000005         Visviri                       -17.595  -69.4831 2015  5 \n",
              "6     1000005         Visviri                       -17.595  -69.4831 2015  6 \n",
              "7     1000005         Visviri                       -17.595  -69.4831 2015  7 \n",
              "8     1000005         Visviri                       -17.595  -69.4831 2015  8 \n",
              "9     1000005         Visviri                       -17.595  -69.4831 2015  9 \n",
              "10    1000005         Visviri                       -17.595  -69.4831 2015 10 \n",
              "11    1000005         Visviri                       -17.595  -69.4831 2015 11 \n",
              "12    1000005         Visviri                       -17.595  -69.4831 2015 12 \n",
              "13    1000005         Visviri                       -17.595  -69.4831 2016  1 \n",
              "14    1000005         Visviri                       -17.595  -69.4831 2016  2 \n",
              "15    1000005         Visviri                       -17.595  -69.4831 2016  3 \n",
              "16    1000005         Visviri                       -17.595  -69.4831 2016  4 \n",
              "17    1000005         Visviri                       -17.595  -69.4831 2016  5 \n",
              "18    1000005         Visviri                       -17.595  -69.4831 2016  6 \n",
              "19    1000005         Visviri                       -17.595  -69.4831 2016  7 \n",
              "20    1000005         Visviri                       -17.595  -69.4831 2016  8 \n",
              "21    1000005         Visviri                       -17.595  -69.4831 2016  9 \n",
              "22    1000005         Visviri                       -17.595  -69.4831 2016 10 \n",
              "23    1000005         Visviri                       -17.595  -69.4831 2016 11 \n",
              "24    1000005         Visviri                       -17.595  -69.4831 2016 12 \n",
              "25    1000005         Visviri                       -17.595  -69.4831 2017  1 \n",
              "26    1000005         Visviri                       -17.595  -69.4831 2017  2 \n",
              "27    1000005         Visviri                       -17.595  -69.4831 2017  3 \n",
              "28    1000005         Visviri                       -17.595  -69.4831 2017  4 \n",
              "29    1000005         Visviri                       -17.595  -69.4831 2017  5 \n",
              "30    1000005         Visviri                       -17.595  -69.4831 2017  6 \n",
              "⋮     ⋮               ⋮                             ⋮        ⋮        ⋮    ⋮  \n",
              "18151 530005          Fuentes Martinez Porvenir Ad. -53.1875 -70.3203 2017  7 \n",
              "18152 530005          Fuentes Martinez Porvenir Ad. -53.1875 -70.3203 2017  8 \n",
              "18153 530005          Fuentes Martinez Porvenir Ad. -53.1875 -70.3203 2017  9 \n",
              "18154 530005          Fuentes Martinez Porvenir Ad. -53.1875 -70.3203 2017 10 \n",
              "18155 530005          Fuentes Martinez Porvenir Ad. -53.1875 -70.3203 2017 11 \n",
              "18156 530005          Fuentes Martinez Porvenir Ad. -53.1875 -70.3203 2017 12 \n",
              "18157 530005          Fuentes Martinez Porvenir Ad. -53.1875 -70.3203 2018  1 \n",
              "18158 530005          Fuentes Martinez Porvenir Ad. -53.1875 -70.3203 2018  2 \n",
              "18159 530005          Fuentes Martinez Porvenir Ad. -53.1875 -70.3203 2018  3 \n",
              "18160 530005          Fuentes Martinez Porvenir Ad. -53.1875 -70.3203 2018  4 \n",
              "18161 530005          Fuentes Martinez Porvenir Ad. -53.1875 -70.3203 2018  5 \n",
              "18162 530005          Fuentes Martinez Porvenir Ad. -53.1875 -70.3203 2018  6 \n",
              "18163 530005          Fuentes Martinez Porvenir Ad. -53.1875 -70.3203 2018  7 \n",
              "18164 530005          Fuentes Martinez Porvenir Ad. -53.1875 -70.3203 2018  8 \n",
              "18165 530005          Fuentes Martinez Porvenir Ad. -53.1875 -70.3203 2018  9 \n",
              "18166 530005          Fuentes Martinez Porvenir Ad. -53.1875 -70.3203 2018 10 \n",
              "18167 530005          Fuentes Martinez Porvenir Ad. -53.1875 -70.3203 2018 11 \n",
              "18168 530005          Fuentes Martinez Porvenir Ad. -53.1875 -70.3203 2018 12 \n",
              "18169 530005          Fuentes Martinez Porvenir Ad. -53.1875 -70.3203 2019  1 \n",
              "18170 530005          Fuentes Martinez Porvenir Ad. -53.1875 -70.3203 2019  2 \n",
              "18171 530005          Fuentes Martinez Porvenir Ad. -53.1875 -70.3203 2019  3 \n",
              "18172 530005          Fuentes Martinez Porvenir Ad. -53.1875 -70.3203 2019  4 \n",
              "18173 530005          Fuentes Martinez Porvenir Ad. -53.1875 -70.3203 2019  5 \n",
              "18174 530005          Fuentes Martinez Porvenir Ad. -53.1875 -70.3203 2019  6 \n",
              "18175 530005          Fuentes Martinez Porvenir Ad. -53.1875 -70.3203 2019  7 \n",
              "18176 530005          Fuentes Martinez Porvenir Ad. -53.1875 -70.3203 2019  8 \n",
              "18177 530005          Fuentes Martinez Porvenir Ad. -53.1875 -70.3203 2019  9 \n",
              "18178 530005          Fuentes Martinez Porvenir Ad. -53.1875 -70.3203 2019 10 \n",
              "18179 530005          Fuentes Martinez Porvenir Ad. -53.1875 -70.3203 2019 11 \n",
              "18180 530005          Fuentes Martinez Porvenir Ad. -53.1875 -70.3203 2019 12 \n",
              "      Precipitacion\n",
              "1      53.2        \n",
              "2     107.0        \n",
              "3     118.8        \n",
              "4      46.8        \n",
              "5       0.0        \n",
              "6       0.0        \n",
              "7       5.0        \n",
              "8       1.4        \n",
              "9       5.0        \n",
              "10      5.8        \n",
              "11      8.6        \n",
              "12      1.2        \n",
              "13     38.4        \n",
              "14    129.8        \n",
              "15      2.2        \n",
              "16     33.8        \n",
              "17     15.0        \n",
              "18      5.4        \n",
              "19      6.0        \n",
              "20      6.1        \n",
              "21      0.0        \n",
              "22      6.8        \n",
              "23      0.6        \n",
              "24     34.8        \n",
              "25    101.8        \n",
              "26     90.4        \n",
              "27     75.8        \n",
              "28      2.8        \n",
              "29      0.6        \n",
              "30      0.2        \n",
              "⋮     ⋮            \n",
              "18151 23.4         \n",
              "18152 17.9         \n",
              "18153  8.4         \n",
              "18154 14.7         \n",
              "18155 30.2         \n",
              "18156 49.3         \n",
              "18157 31.6         \n",
              "18158 12.5         \n",
              "18159 17.4         \n",
              "18160 98.2         \n",
              "18161 39.6         \n",
              "18162 32.3         \n",
              "18163 10.2         \n",
              "18164 24.5         \n",
              "18165  5.8         \n",
              "18166  8.0         \n",
              "18167 13.6         \n",
              "18168 25.5         \n",
              "18169 16.9         \n",
              "18170 11.2         \n",
              "18171 25.0         \n",
              "18172 34.9         \n",
              "18173 42.3         \n",
              "18174 29.2         \n",
              "18175 30.3         \n",
              "18176 23.2         \n",
              "18177 14.8         \n",
              "18178  8.0         \n",
              "18179 41.0         \n",
              "18180 43.5         "
            ],
            "text/latex": "A grouped\\_df: 18180 × 7\n\\begin{tabular}{lllllll}\n codigo\\_estacion & nombre & latitud & longitud & Año & Mes & Precipitacion\\\\\n <chr> & <chr> & <dbl> & <dbl> & <dbl> & <dbl> & <dbl>\\\\\n\\hline\n\t 1000005 & Visviri & -17.595 & -69.4831 & 2015 &  1 &  53.2\\\\\n\t 1000005 & Visviri & -17.595 & -69.4831 & 2015 &  2 & 107.0\\\\\n\t 1000005 & Visviri & -17.595 & -69.4831 & 2015 &  3 & 118.8\\\\\n\t 1000005 & Visviri & -17.595 & -69.4831 & 2015 &  4 &  46.8\\\\\n\t 1000005 & Visviri & -17.595 & -69.4831 & 2015 &  5 &   0.0\\\\\n\t 1000005 & Visviri & -17.595 & -69.4831 & 2015 &  6 &   0.0\\\\\n\t 1000005 & Visviri & -17.595 & -69.4831 & 2015 &  7 &   5.0\\\\\n\t 1000005 & Visviri & -17.595 & -69.4831 & 2015 &  8 &   1.4\\\\\n\t 1000005 & Visviri & -17.595 & -69.4831 & 2015 &  9 &   5.0\\\\\n\t 1000005 & Visviri & -17.595 & -69.4831 & 2015 & 10 &   5.8\\\\\n\t 1000005 & Visviri & -17.595 & -69.4831 & 2015 & 11 &   8.6\\\\\n\t 1000005 & Visviri & -17.595 & -69.4831 & 2015 & 12 &   1.2\\\\\n\t 1000005 & Visviri & -17.595 & -69.4831 & 2016 &  1 &  38.4\\\\\n\t 1000005 & Visviri & -17.595 & -69.4831 & 2016 &  2 & 129.8\\\\\n\t 1000005 & Visviri & -17.595 & -69.4831 & 2016 &  3 &   2.2\\\\\n\t 1000005 & Visviri & -17.595 & -69.4831 & 2016 &  4 &  33.8\\\\\n\t 1000005 & Visviri & -17.595 & -69.4831 & 2016 &  5 &  15.0\\\\\n\t 1000005 & Visviri & -17.595 & -69.4831 & 2016 &  6 &   5.4\\\\\n\t 1000005 & Visviri & -17.595 & -69.4831 & 2016 &  7 &   6.0\\\\\n\t 1000005 & Visviri & -17.595 & -69.4831 & 2016 &  8 &   6.1\\\\\n\t 1000005 & Visviri & -17.595 & -69.4831 & 2016 &  9 &   0.0\\\\\n\t 1000005 & Visviri & -17.595 & -69.4831 & 2016 & 10 &   6.8\\\\\n\t 1000005 & Visviri & -17.595 & -69.4831 & 2016 & 11 &   0.6\\\\\n\t 1000005 & Visviri & -17.595 & -69.4831 & 2016 & 12 &  34.8\\\\\n\t 1000005 & Visviri & -17.595 & -69.4831 & 2017 &  1 & 101.8\\\\\n\t 1000005 & Visviri & -17.595 & -69.4831 & 2017 &  2 &  90.4\\\\\n\t 1000005 & Visviri & -17.595 & -69.4831 & 2017 &  3 &  75.8\\\\\n\t 1000005 & Visviri & -17.595 & -69.4831 & 2017 &  4 &   2.8\\\\\n\t 1000005 & Visviri & -17.595 & -69.4831 & 2017 &  5 &   0.6\\\\\n\t 1000005 & Visviri & -17.595 & -69.4831 & 2017 &  6 &   0.2\\\\\n\t ⋮ & ⋮ & ⋮ & ⋮ & ⋮ & ⋮ & ⋮\\\\\n\t 530005 & Fuentes Martinez Porvenir Ad. & -53.1875 & -70.3203 & 2017 &  7 & 23.4\\\\\n\t 530005 & Fuentes Martinez Porvenir Ad. & -53.1875 & -70.3203 & 2017 &  8 & 17.9\\\\\n\t 530005 & Fuentes Martinez Porvenir Ad. & -53.1875 & -70.3203 & 2017 &  9 &  8.4\\\\\n\t 530005 & Fuentes Martinez Porvenir Ad. & -53.1875 & -70.3203 & 2017 & 10 & 14.7\\\\\n\t 530005 & Fuentes Martinez Porvenir Ad. & -53.1875 & -70.3203 & 2017 & 11 & 30.2\\\\\n\t 530005 & Fuentes Martinez Porvenir Ad. & -53.1875 & -70.3203 & 2017 & 12 & 49.3\\\\\n\t 530005 & Fuentes Martinez Porvenir Ad. & -53.1875 & -70.3203 & 2018 &  1 & 31.6\\\\\n\t 530005 & Fuentes Martinez Porvenir Ad. & -53.1875 & -70.3203 & 2018 &  2 & 12.5\\\\\n\t 530005 & Fuentes Martinez Porvenir Ad. & -53.1875 & -70.3203 & 2018 &  3 & 17.4\\\\\n\t 530005 & Fuentes Martinez Porvenir Ad. & -53.1875 & -70.3203 & 2018 &  4 & 98.2\\\\\n\t 530005 & Fuentes Martinez Porvenir Ad. & -53.1875 & -70.3203 & 2018 &  5 & 39.6\\\\\n\t 530005 & Fuentes Martinez Porvenir Ad. & -53.1875 & -70.3203 & 2018 &  6 & 32.3\\\\\n\t 530005 & Fuentes Martinez Porvenir Ad. & -53.1875 & -70.3203 & 2018 &  7 & 10.2\\\\\n\t 530005 & Fuentes Martinez Porvenir Ad. & -53.1875 & -70.3203 & 2018 &  8 & 24.5\\\\\n\t 530005 & Fuentes Martinez Porvenir Ad. & -53.1875 & -70.3203 & 2018 &  9 &  5.8\\\\\n\t 530005 & Fuentes Martinez Porvenir Ad. & -53.1875 & -70.3203 & 2018 & 10 &  8.0\\\\\n\t 530005 & Fuentes Martinez Porvenir Ad. & -53.1875 & -70.3203 & 2018 & 11 & 13.6\\\\\n\t 530005 & Fuentes Martinez Porvenir Ad. & -53.1875 & -70.3203 & 2018 & 12 & 25.5\\\\\n\t 530005 & Fuentes Martinez Porvenir Ad. & -53.1875 & -70.3203 & 2019 &  1 & 16.9\\\\\n\t 530005 & Fuentes Martinez Porvenir Ad. & -53.1875 & -70.3203 & 2019 &  2 & 11.2\\\\\n\t 530005 & Fuentes Martinez Porvenir Ad. & -53.1875 & -70.3203 & 2019 &  3 & 25.0\\\\\n\t 530005 & Fuentes Martinez Porvenir Ad. & -53.1875 & -70.3203 & 2019 &  4 & 34.9\\\\\n\t 530005 & Fuentes Martinez Porvenir Ad. & -53.1875 & -70.3203 & 2019 &  5 & 42.3\\\\\n\t 530005 & Fuentes Martinez Porvenir Ad. & -53.1875 & -70.3203 & 2019 &  6 & 29.2\\\\\n\t 530005 & Fuentes Martinez Porvenir Ad. & -53.1875 & -70.3203 & 2019 &  7 & 30.3\\\\\n\t 530005 & Fuentes Martinez Porvenir Ad. & -53.1875 & -70.3203 & 2019 &  8 & 23.2\\\\\n\t 530005 & Fuentes Martinez Porvenir Ad. & -53.1875 & -70.3203 & 2019 &  9 & 14.8\\\\\n\t 530005 & Fuentes Martinez Porvenir Ad. & -53.1875 & -70.3203 & 2019 & 10 &  8.0\\\\\n\t 530005 & Fuentes Martinez Porvenir Ad. & -53.1875 & -70.3203 & 2019 & 11 & 41.0\\\\\n\t 530005 & Fuentes Martinez Porvenir Ad. & -53.1875 & -70.3203 & 2019 & 12 & 43.5\\\\\n\\end{tabular}\n",
            "text/markdown": "\nA grouped_df: 18180 × 7\n\n| codigo_estacion &lt;chr&gt; | nombre &lt;chr&gt; | latitud &lt;dbl&gt; | longitud &lt;dbl&gt; | Año &lt;dbl&gt; | Mes &lt;dbl&gt; | Precipitacion &lt;dbl&gt; |\n|---|---|---|---|---|---|---|\n| 1000005 | Visviri | -17.595 | -69.4831 | 2015 |  1 |  53.2 |\n| 1000005 | Visviri | -17.595 | -69.4831 | 2015 |  2 | 107.0 |\n| 1000005 | Visviri | -17.595 | -69.4831 | 2015 |  3 | 118.8 |\n| 1000005 | Visviri | -17.595 | -69.4831 | 2015 |  4 |  46.8 |\n| 1000005 | Visviri | -17.595 | -69.4831 | 2015 |  5 |   0.0 |\n| 1000005 | Visviri | -17.595 | -69.4831 | 2015 |  6 |   0.0 |\n| 1000005 | Visviri | -17.595 | -69.4831 | 2015 |  7 |   5.0 |\n| 1000005 | Visviri | -17.595 | -69.4831 | 2015 |  8 |   1.4 |\n| 1000005 | Visviri | -17.595 | -69.4831 | 2015 |  9 |   5.0 |\n| 1000005 | Visviri | -17.595 | -69.4831 | 2015 | 10 |   5.8 |\n| 1000005 | Visviri | -17.595 | -69.4831 | 2015 | 11 |   8.6 |\n| 1000005 | Visviri | -17.595 | -69.4831 | 2015 | 12 |   1.2 |\n| 1000005 | Visviri | -17.595 | -69.4831 | 2016 |  1 |  38.4 |\n| 1000005 | Visviri | -17.595 | -69.4831 | 2016 |  2 | 129.8 |\n| 1000005 | Visviri | -17.595 | -69.4831 | 2016 |  3 |   2.2 |\n| 1000005 | Visviri | -17.595 | -69.4831 | 2016 |  4 |  33.8 |\n| 1000005 | Visviri | -17.595 | -69.4831 | 2016 |  5 |  15.0 |\n| 1000005 | Visviri | -17.595 | -69.4831 | 2016 |  6 |   5.4 |\n| 1000005 | Visviri | -17.595 | -69.4831 | 2016 |  7 |   6.0 |\n| 1000005 | Visviri | -17.595 | -69.4831 | 2016 |  8 |   6.1 |\n| 1000005 | Visviri | -17.595 | -69.4831 | 2016 |  9 |   0.0 |\n| 1000005 | Visviri | -17.595 | -69.4831 | 2016 | 10 |   6.8 |\n| 1000005 | Visviri | -17.595 | -69.4831 | 2016 | 11 |   0.6 |\n| 1000005 | Visviri | -17.595 | -69.4831 | 2016 | 12 |  34.8 |\n| 1000005 | Visviri | -17.595 | -69.4831 | 2017 |  1 | 101.8 |\n| 1000005 | Visviri | -17.595 | -69.4831 | 2017 |  2 |  90.4 |\n| 1000005 | Visviri | -17.595 | -69.4831 | 2017 |  3 |  75.8 |\n| 1000005 | Visviri | -17.595 | -69.4831 | 2017 |  4 |   2.8 |\n| 1000005 | Visviri | -17.595 | -69.4831 | 2017 |  5 |   0.6 |\n| 1000005 | Visviri | -17.595 | -69.4831 | 2017 |  6 |   0.2 |\n| ⋮ | ⋮ | ⋮ | ⋮ | ⋮ | ⋮ | ⋮ |\n| 530005 | Fuentes Martinez Porvenir Ad. | -53.1875 | -70.3203 | 2017 |  7 | 23.4 |\n| 530005 | Fuentes Martinez Porvenir Ad. | -53.1875 | -70.3203 | 2017 |  8 | 17.9 |\n| 530005 | Fuentes Martinez Porvenir Ad. | -53.1875 | -70.3203 | 2017 |  9 |  8.4 |\n| 530005 | Fuentes Martinez Porvenir Ad. | -53.1875 | -70.3203 | 2017 | 10 | 14.7 |\n| 530005 | Fuentes Martinez Porvenir Ad. | -53.1875 | -70.3203 | 2017 | 11 | 30.2 |\n| 530005 | Fuentes Martinez Porvenir Ad. | -53.1875 | -70.3203 | 2017 | 12 | 49.3 |\n| 530005 | Fuentes Martinez Porvenir Ad. | -53.1875 | -70.3203 | 2018 |  1 | 31.6 |\n| 530005 | Fuentes Martinez Porvenir Ad. | -53.1875 | -70.3203 | 2018 |  2 | 12.5 |\n| 530005 | Fuentes Martinez Porvenir Ad. | -53.1875 | -70.3203 | 2018 |  3 | 17.4 |\n| 530005 | Fuentes Martinez Porvenir Ad. | -53.1875 | -70.3203 | 2018 |  4 | 98.2 |\n| 530005 | Fuentes Martinez Porvenir Ad. | -53.1875 | -70.3203 | 2018 |  5 | 39.6 |\n| 530005 | Fuentes Martinez Porvenir Ad. | -53.1875 | -70.3203 | 2018 |  6 | 32.3 |\n| 530005 | Fuentes Martinez Porvenir Ad. | -53.1875 | -70.3203 | 2018 |  7 | 10.2 |\n| 530005 | Fuentes Martinez Porvenir Ad. | -53.1875 | -70.3203 | 2018 |  8 | 24.5 |\n| 530005 | Fuentes Martinez Porvenir Ad. | -53.1875 | -70.3203 | 2018 |  9 |  5.8 |\n| 530005 | Fuentes Martinez Porvenir Ad. | -53.1875 | -70.3203 | 2018 | 10 |  8.0 |\n| 530005 | Fuentes Martinez Porvenir Ad. | -53.1875 | -70.3203 | 2018 | 11 | 13.6 |\n| 530005 | Fuentes Martinez Porvenir Ad. | -53.1875 | -70.3203 | 2018 | 12 | 25.5 |\n| 530005 | Fuentes Martinez Porvenir Ad. | -53.1875 | -70.3203 | 2019 |  1 | 16.9 |\n| 530005 | Fuentes Martinez Porvenir Ad. | -53.1875 | -70.3203 | 2019 |  2 | 11.2 |\n| 530005 | Fuentes Martinez Porvenir Ad. | -53.1875 | -70.3203 | 2019 |  3 | 25.0 |\n| 530005 | Fuentes Martinez Porvenir Ad. | -53.1875 | -70.3203 | 2019 |  4 | 34.9 |\n| 530005 | Fuentes Martinez Porvenir Ad. | -53.1875 | -70.3203 | 2019 |  5 | 42.3 |\n| 530005 | Fuentes Martinez Porvenir Ad. | -53.1875 | -70.3203 | 2019 |  6 | 29.2 |\n| 530005 | Fuentes Martinez Porvenir Ad. | -53.1875 | -70.3203 | 2019 |  7 | 30.3 |\n| 530005 | Fuentes Martinez Porvenir Ad. | -53.1875 | -70.3203 | 2019 |  8 | 23.2 |\n| 530005 | Fuentes Martinez Porvenir Ad. | -53.1875 | -70.3203 | 2019 |  9 | 14.8 |\n| 530005 | Fuentes Martinez Porvenir Ad. | -53.1875 | -70.3203 | 2019 | 10 |  8.0 |\n| 530005 | Fuentes Martinez Porvenir Ad. | -53.1875 | -70.3203 | 2019 | 11 | 41.0 |\n| 530005 | Fuentes Martinez Porvenir Ad. | -53.1875 | -70.3203 | 2019 | 12 | 43.5 |\n\n",
            "text/html": [
              "<table class=\"dataframe\">\n",
              "<caption>A grouped_df: 18180 × 7</caption>\n",
              "<thead>\n",
              "\t<tr><th scope=col>codigo_estacion</th><th scope=col>nombre</th><th scope=col>latitud</th><th scope=col>longitud</th><th scope=col>Año</th><th scope=col>Mes</th><th scope=col>Precipitacion</th></tr>\n",
              "\t<tr><th scope=col>&lt;chr&gt;</th><th scope=col>&lt;chr&gt;</th><th scope=col>&lt;dbl&gt;</th><th scope=col>&lt;dbl&gt;</th><th scope=col>&lt;dbl&gt;</th><th scope=col>&lt;dbl&gt;</th><th scope=col>&lt;dbl&gt;</th></tr>\n",
              "</thead>\n",
              "<tbody>\n",
              "\t<tr><td>1000005</td><td>Visviri</td><td>-17.595</td><td>-69.4831</td><td>2015</td><td> 1</td><td> 53.2</td></tr>\n",
              "\t<tr><td>1000005</td><td>Visviri</td><td>-17.595</td><td>-69.4831</td><td>2015</td><td> 2</td><td>107.0</td></tr>\n",
              "\t<tr><td>1000005</td><td>Visviri</td><td>-17.595</td><td>-69.4831</td><td>2015</td><td> 3</td><td>118.8</td></tr>\n",
              "\t<tr><td>1000005</td><td>Visviri</td><td>-17.595</td><td>-69.4831</td><td>2015</td><td> 4</td><td> 46.8</td></tr>\n",
              "\t<tr><td>1000005</td><td>Visviri</td><td>-17.595</td><td>-69.4831</td><td>2015</td><td> 5</td><td>  0.0</td></tr>\n",
              "\t<tr><td>1000005</td><td>Visviri</td><td>-17.595</td><td>-69.4831</td><td>2015</td><td> 6</td><td>  0.0</td></tr>\n",
              "\t<tr><td>1000005</td><td>Visviri</td><td>-17.595</td><td>-69.4831</td><td>2015</td><td> 7</td><td>  5.0</td></tr>\n",
              "\t<tr><td>1000005</td><td>Visviri</td><td>-17.595</td><td>-69.4831</td><td>2015</td><td> 8</td><td>  1.4</td></tr>\n",
              "\t<tr><td>1000005</td><td>Visviri</td><td>-17.595</td><td>-69.4831</td><td>2015</td><td> 9</td><td>  5.0</td></tr>\n",
              "\t<tr><td>1000005</td><td>Visviri</td><td>-17.595</td><td>-69.4831</td><td>2015</td><td>10</td><td>  5.8</td></tr>\n",
              "\t<tr><td>1000005</td><td>Visviri</td><td>-17.595</td><td>-69.4831</td><td>2015</td><td>11</td><td>  8.6</td></tr>\n",
              "\t<tr><td>1000005</td><td>Visviri</td><td>-17.595</td><td>-69.4831</td><td>2015</td><td>12</td><td>  1.2</td></tr>\n",
              "\t<tr><td>1000005</td><td>Visviri</td><td>-17.595</td><td>-69.4831</td><td>2016</td><td> 1</td><td> 38.4</td></tr>\n",
              "\t<tr><td>1000005</td><td>Visviri</td><td>-17.595</td><td>-69.4831</td><td>2016</td><td> 2</td><td>129.8</td></tr>\n",
              "\t<tr><td>1000005</td><td>Visviri</td><td>-17.595</td><td>-69.4831</td><td>2016</td><td> 3</td><td>  2.2</td></tr>\n",
              "\t<tr><td>1000005</td><td>Visviri</td><td>-17.595</td><td>-69.4831</td><td>2016</td><td> 4</td><td> 33.8</td></tr>\n",
              "\t<tr><td>1000005</td><td>Visviri</td><td>-17.595</td><td>-69.4831</td><td>2016</td><td> 5</td><td> 15.0</td></tr>\n",
              "\t<tr><td>1000005</td><td>Visviri</td><td>-17.595</td><td>-69.4831</td><td>2016</td><td> 6</td><td>  5.4</td></tr>\n",
              "\t<tr><td>1000005</td><td>Visviri</td><td>-17.595</td><td>-69.4831</td><td>2016</td><td> 7</td><td>  6.0</td></tr>\n",
              "\t<tr><td>1000005</td><td>Visviri</td><td>-17.595</td><td>-69.4831</td><td>2016</td><td> 8</td><td>  6.1</td></tr>\n",
              "\t<tr><td>1000005</td><td>Visviri</td><td>-17.595</td><td>-69.4831</td><td>2016</td><td> 9</td><td>  0.0</td></tr>\n",
              "\t<tr><td>1000005</td><td>Visviri</td><td>-17.595</td><td>-69.4831</td><td>2016</td><td>10</td><td>  6.8</td></tr>\n",
              "\t<tr><td>1000005</td><td>Visviri</td><td>-17.595</td><td>-69.4831</td><td>2016</td><td>11</td><td>  0.6</td></tr>\n",
              "\t<tr><td>1000005</td><td>Visviri</td><td>-17.595</td><td>-69.4831</td><td>2016</td><td>12</td><td> 34.8</td></tr>\n",
              "\t<tr><td>1000005</td><td>Visviri</td><td>-17.595</td><td>-69.4831</td><td>2017</td><td> 1</td><td>101.8</td></tr>\n",
              "\t<tr><td>1000005</td><td>Visviri</td><td>-17.595</td><td>-69.4831</td><td>2017</td><td> 2</td><td> 90.4</td></tr>\n",
              "\t<tr><td>1000005</td><td>Visviri</td><td>-17.595</td><td>-69.4831</td><td>2017</td><td> 3</td><td> 75.8</td></tr>\n",
              "\t<tr><td>1000005</td><td>Visviri</td><td>-17.595</td><td>-69.4831</td><td>2017</td><td> 4</td><td>  2.8</td></tr>\n",
              "\t<tr><td>1000005</td><td>Visviri</td><td>-17.595</td><td>-69.4831</td><td>2017</td><td> 5</td><td>  0.6</td></tr>\n",
              "\t<tr><td>1000005</td><td>Visviri</td><td>-17.595</td><td>-69.4831</td><td>2017</td><td> 6</td><td>  0.2</td></tr>\n",
              "\t<tr><td>⋮</td><td>⋮</td><td>⋮</td><td>⋮</td><td>⋮</td><td>⋮</td><td>⋮</td></tr>\n",
              "\t<tr><td>530005</td><td>Fuentes Martinez Porvenir Ad.</td><td>-53.1875</td><td>-70.3203</td><td>2017</td><td> 7</td><td>23.4</td></tr>\n",
              "\t<tr><td>530005</td><td>Fuentes Martinez Porvenir Ad.</td><td>-53.1875</td><td>-70.3203</td><td>2017</td><td> 8</td><td>17.9</td></tr>\n",
              "\t<tr><td>530005</td><td>Fuentes Martinez Porvenir Ad.</td><td>-53.1875</td><td>-70.3203</td><td>2017</td><td> 9</td><td> 8.4</td></tr>\n",
              "\t<tr><td>530005</td><td>Fuentes Martinez Porvenir Ad.</td><td>-53.1875</td><td>-70.3203</td><td>2017</td><td>10</td><td>14.7</td></tr>\n",
              "\t<tr><td>530005</td><td>Fuentes Martinez Porvenir Ad.</td><td>-53.1875</td><td>-70.3203</td><td>2017</td><td>11</td><td>30.2</td></tr>\n",
              "\t<tr><td>530005</td><td>Fuentes Martinez Porvenir Ad.</td><td>-53.1875</td><td>-70.3203</td><td>2017</td><td>12</td><td>49.3</td></tr>\n",
              "\t<tr><td>530005</td><td>Fuentes Martinez Porvenir Ad.</td><td>-53.1875</td><td>-70.3203</td><td>2018</td><td> 1</td><td>31.6</td></tr>\n",
              "\t<tr><td>530005</td><td>Fuentes Martinez Porvenir Ad.</td><td>-53.1875</td><td>-70.3203</td><td>2018</td><td> 2</td><td>12.5</td></tr>\n",
              "\t<tr><td>530005</td><td>Fuentes Martinez Porvenir Ad.</td><td>-53.1875</td><td>-70.3203</td><td>2018</td><td> 3</td><td>17.4</td></tr>\n",
              "\t<tr><td>530005</td><td>Fuentes Martinez Porvenir Ad.</td><td>-53.1875</td><td>-70.3203</td><td>2018</td><td> 4</td><td>98.2</td></tr>\n",
              "\t<tr><td>530005</td><td>Fuentes Martinez Porvenir Ad.</td><td>-53.1875</td><td>-70.3203</td><td>2018</td><td> 5</td><td>39.6</td></tr>\n",
              "\t<tr><td>530005</td><td>Fuentes Martinez Porvenir Ad.</td><td>-53.1875</td><td>-70.3203</td><td>2018</td><td> 6</td><td>32.3</td></tr>\n",
              "\t<tr><td>530005</td><td>Fuentes Martinez Porvenir Ad.</td><td>-53.1875</td><td>-70.3203</td><td>2018</td><td> 7</td><td>10.2</td></tr>\n",
              "\t<tr><td>530005</td><td>Fuentes Martinez Porvenir Ad.</td><td>-53.1875</td><td>-70.3203</td><td>2018</td><td> 8</td><td>24.5</td></tr>\n",
              "\t<tr><td>530005</td><td>Fuentes Martinez Porvenir Ad.</td><td>-53.1875</td><td>-70.3203</td><td>2018</td><td> 9</td><td> 5.8</td></tr>\n",
              "\t<tr><td>530005</td><td>Fuentes Martinez Porvenir Ad.</td><td>-53.1875</td><td>-70.3203</td><td>2018</td><td>10</td><td> 8.0</td></tr>\n",
              "\t<tr><td>530005</td><td>Fuentes Martinez Porvenir Ad.</td><td>-53.1875</td><td>-70.3203</td><td>2018</td><td>11</td><td>13.6</td></tr>\n",
              "\t<tr><td>530005</td><td>Fuentes Martinez Porvenir Ad.</td><td>-53.1875</td><td>-70.3203</td><td>2018</td><td>12</td><td>25.5</td></tr>\n",
              "\t<tr><td>530005</td><td>Fuentes Martinez Porvenir Ad.</td><td>-53.1875</td><td>-70.3203</td><td>2019</td><td> 1</td><td>16.9</td></tr>\n",
              "\t<tr><td>530005</td><td>Fuentes Martinez Porvenir Ad.</td><td>-53.1875</td><td>-70.3203</td><td>2019</td><td> 2</td><td>11.2</td></tr>\n",
              "\t<tr><td>530005</td><td>Fuentes Martinez Porvenir Ad.</td><td>-53.1875</td><td>-70.3203</td><td>2019</td><td> 3</td><td>25.0</td></tr>\n",
              "\t<tr><td>530005</td><td>Fuentes Martinez Porvenir Ad.</td><td>-53.1875</td><td>-70.3203</td><td>2019</td><td> 4</td><td>34.9</td></tr>\n",
              "\t<tr><td>530005</td><td>Fuentes Martinez Porvenir Ad.</td><td>-53.1875</td><td>-70.3203</td><td>2019</td><td> 5</td><td>42.3</td></tr>\n",
              "\t<tr><td>530005</td><td>Fuentes Martinez Porvenir Ad.</td><td>-53.1875</td><td>-70.3203</td><td>2019</td><td> 6</td><td>29.2</td></tr>\n",
              "\t<tr><td>530005</td><td>Fuentes Martinez Porvenir Ad.</td><td>-53.1875</td><td>-70.3203</td><td>2019</td><td> 7</td><td>30.3</td></tr>\n",
              "\t<tr><td>530005</td><td>Fuentes Martinez Porvenir Ad.</td><td>-53.1875</td><td>-70.3203</td><td>2019</td><td> 8</td><td>23.2</td></tr>\n",
              "\t<tr><td>530005</td><td>Fuentes Martinez Porvenir Ad.</td><td>-53.1875</td><td>-70.3203</td><td>2019</td><td> 9</td><td>14.8</td></tr>\n",
              "\t<tr><td>530005</td><td>Fuentes Martinez Porvenir Ad.</td><td>-53.1875</td><td>-70.3203</td><td>2019</td><td>10</td><td> 8.0</td></tr>\n",
              "\t<tr><td>530005</td><td>Fuentes Martinez Porvenir Ad.</td><td>-53.1875</td><td>-70.3203</td><td>2019</td><td>11</td><td>41.0</td></tr>\n",
              "\t<tr><td>530005</td><td>Fuentes Martinez Porvenir Ad.</td><td>-53.1875</td><td>-70.3203</td><td>2019</td><td>12</td><td>43.5</td></tr>\n",
              "</tbody>\n",
              "</table>\n"
            ]
          },
          "metadata": {}
        }
      ]
    },
    {
      "cell_type": "code",
      "metadata": {
        "id": "kbYcILT4Nc5x"
      },
      "source": [
        "#dbExecute(conn, \"drop table precipitacion\")\n",
        "dbWriteTable(conn , name = \"precipitacion\", \n",
        "                  value = ppp,\n",
        "                  row.names = FALSE, header = TRUE ,\n",
        "                  colClasses='character')"
      ],
      "execution_count": null,
      "outputs": []
    },
    {
      "cell_type": "markdown",
      "metadata": {
        "id": "NcC9vMWUj8uP"
      },
      "source": [
        "## Geolocalización\n",
        "\n",
        "\n"
      ]
    },
    {
      "cell_type": "code",
      "metadata": {
        "id": "aLOOJzuVkI0B"
      },
      "source": [
        "geocoles <- read.csv(\"/content/content/drive/MyDrive/Gestion de Datos/Datos Proyecto/colesgeo.csv\", row.names=1)"
      ],
      "execution_count": null,
      "outputs": []
    },
    {
      "cell_type": "code",
      "metadata": {
        "colab": {
          "base_uri": "https://localhost:8080/",
          "height": 298
        },
        "id": "r32es3JSOsp8",
        "outputId": "24c90bcb-4080-49a3-d709-cf35cbf112aa"
      },
      "source": [
        "head(geocoles)"
      ],
      "execution_count": null,
      "outputs": [
        {
          "output_type": "display_data",
          "data": {
            "text/plain": [
              "  RBD NOM_RBD                                 NOM_COM_RBD\n",
              "1 1   LICEO POLITECNICO ARICA                 ARICA      \n",
              "2 3   ESC. PEDRO VICENTE GUTIERREZ TORRES     ARICA      \n",
              "3 4   LICEO OCTAVIO PALMA PEREZ               ARICA      \n",
              "4 5   JOVINA NARANJO FERNANDEZ                ARICA      \n",
              "5 7   L. POLI. ANTONIO VARAS DE LA BARRA      ARICA      \n",
              "6 8   COLEGIO INTEGRADO EDUARDO FREI MONTALVA ARICA      \n",
              "  query                                            lon       lat      \n",
              "1 LICEO POLITECNICO ARICA ,  ARICA                 -70.29469 -18.48719\n",
              "2 ESC. PEDRO VICENTE GUTIERREZ TORRES ,  ARICA     -70.30278 -18.48696\n",
              "3 LICEO OCTAVIO PALMA PEREZ ,  ARICA               -70.30792 -18.47417\n",
              "4 JOVINA NARANJO FERNANDEZ ,  ARICA                -70.31345 -18.47680\n",
              "5 L. POLI. ANTONIO VARAS DE LA BARRA ,  ARICA      -70.28795 -18.47595\n",
              "6 COLEGIO INTEGRADO EDUARDO FREI MONTALVA ,  ARICA -70.31737 -18.48267"
            ],
            "text/latex": "A data.frame: 6 × 6\n\\begin{tabular}{r|llllll}\n  & RBD & NOM\\_RBD & NOM\\_COM\\_RBD & query & lon & lat\\\\\n  & <int> & <chr> & <chr> & <chr> & <dbl> & <dbl>\\\\\n\\hline\n\t1 & 1 & LICEO POLITECNICO ARICA                 & ARICA & LICEO POLITECNICO ARICA ,  ARICA                 & -70.29469 & -18.48719\\\\\n\t2 & 3 & ESC. PEDRO VICENTE GUTIERREZ TORRES     & ARICA & ESC. PEDRO VICENTE GUTIERREZ TORRES ,  ARICA     & -70.30278 & -18.48696\\\\\n\t3 & 4 & LICEO OCTAVIO PALMA PEREZ               & ARICA & LICEO OCTAVIO PALMA PEREZ ,  ARICA               & -70.30792 & -18.47417\\\\\n\t4 & 5 & JOVINA NARANJO FERNANDEZ                & ARICA & JOVINA NARANJO FERNANDEZ ,  ARICA                & -70.31345 & -18.47680\\\\\n\t5 & 7 & L. POLI. ANTONIO VARAS DE LA BARRA      & ARICA & L. POLI. ANTONIO VARAS DE LA BARRA ,  ARICA      & -70.28795 & -18.47595\\\\\n\t6 & 8 & COLEGIO INTEGRADO EDUARDO FREI MONTALVA & ARICA & COLEGIO INTEGRADO EDUARDO FREI MONTALVA ,  ARICA & -70.31737 & -18.48267\\\\\n\\end{tabular}\n",
            "text/markdown": "\nA data.frame: 6 × 6\n\n| <!--/--> | RBD &lt;int&gt; | NOM_RBD &lt;chr&gt; | NOM_COM_RBD &lt;chr&gt; | query &lt;chr&gt; | lon &lt;dbl&gt; | lat &lt;dbl&gt; |\n|---|---|---|---|---|---|---|\n| 1 | 1 | LICEO POLITECNICO ARICA                 | ARICA | LICEO POLITECNICO ARICA ,  ARICA                 | -70.29469 | -18.48719 |\n| 2 | 3 | ESC. PEDRO VICENTE GUTIERREZ TORRES     | ARICA | ESC. PEDRO VICENTE GUTIERREZ TORRES ,  ARICA     | -70.30278 | -18.48696 |\n| 3 | 4 | LICEO OCTAVIO PALMA PEREZ               | ARICA | LICEO OCTAVIO PALMA PEREZ ,  ARICA               | -70.30792 | -18.47417 |\n| 4 | 5 | JOVINA NARANJO FERNANDEZ                | ARICA | JOVINA NARANJO FERNANDEZ ,  ARICA                | -70.31345 | -18.47680 |\n| 5 | 7 | L. POLI. ANTONIO VARAS DE LA BARRA      | ARICA | L. POLI. ANTONIO VARAS DE LA BARRA ,  ARICA      | -70.28795 | -18.47595 |\n| 6 | 8 | COLEGIO INTEGRADO EDUARDO FREI MONTALVA | ARICA | COLEGIO INTEGRADO EDUARDO FREI MONTALVA ,  ARICA | -70.31737 | -18.48267 |\n\n",
            "text/html": [
              "<table class=\"dataframe\">\n",
              "<caption>A data.frame: 6 × 6</caption>\n",
              "<thead>\n",
              "\t<tr><th></th><th scope=col>RBD</th><th scope=col>NOM_RBD</th><th scope=col>NOM_COM_RBD</th><th scope=col>query</th><th scope=col>lon</th><th scope=col>lat</th></tr>\n",
              "\t<tr><th></th><th scope=col>&lt;int&gt;</th><th scope=col>&lt;chr&gt;</th><th scope=col>&lt;chr&gt;</th><th scope=col>&lt;chr&gt;</th><th scope=col>&lt;dbl&gt;</th><th scope=col>&lt;dbl&gt;</th></tr>\n",
              "</thead>\n",
              "<tbody>\n",
              "\t<tr><th scope=row>1</th><td>1</td><td>LICEO POLITECNICO ARICA                </td><td>ARICA</td><td>LICEO POLITECNICO ARICA ,  ARICA                </td><td>-70.29469</td><td>-18.48719</td></tr>\n",
              "\t<tr><th scope=row>2</th><td>3</td><td>ESC. PEDRO VICENTE GUTIERREZ TORRES    </td><td>ARICA</td><td>ESC. PEDRO VICENTE GUTIERREZ TORRES ,  ARICA    </td><td>-70.30278</td><td>-18.48696</td></tr>\n",
              "\t<tr><th scope=row>3</th><td>4</td><td>LICEO OCTAVIO PALMA PEREZ              </td><td>ARICA</td><td>LICEO OCTAVIO PALMA PEREZ ,  ARICA              </td><td>-70.30792</td><td>-18.47417</td></tr>\n",
              "\t<tr><th scope=row>4</th><td>5</td><td>JOVINA NARANJO FERNANDEZ               </td><td>ARICA</td><td>JOVINA NARANJO FERNANDEZ ,  ARICA               </td><td>-70.31345</td><td>-18.47680</td></tr>\n",
              "\t<tr><th scope=row>5</th><td>7</td><td>L. POLI. ANTONIO VARAS DE LA BARRA     </td><td>ARICA</td><td>L. POLI. ANTONIO VARAS DE LA BARRA ,  ARICA     </td><td>-70.28795</td><td>-18.47595</td></tr>\n",
              "\t<tr><th scope=row>6</th><td>8</td><td>COLEGIO INTEGRADO EDUARDO FREI MONTALVA</td><td>ARICA</td><td>COLEGIO INTEGRADO EDUARDO FREI MONTALVA ,  ARICA</td><td>-70.31737</td><td>-18.48267</td></tr>\n",
              "</tbody>\n",
              "</table>\n"
            ]
          },
          "metadata": {}
        }
      ]
    },
    {
      "cell_type": "markdown",
      "metadata": {
        "id": "cnUlZ5xZrUqv"
      },
      "source": [
        "Filtro territorio chileno"
      ]
    },
    {
      "cell_type": "code",
      "metadata": {
        "id": "W5GYBw-bThqC"
      },
      "source": [
        "buenosgeocoles <- geocoles %>% filter((lat>-56.5) &(lat <-17.4) & (lon>-75) & (lon<-67))\n"
      ],
      "execution_count": null,
      "outputs": []
    },
    {
      "cell_type": "code",
      "metadata": {
        "id": "3h8KeyoLNnt5"
      },
      "source": [
        "dbWriteTable(conn, name = \"geocoles\", \n",
        "                  value = buenosgeocoles,\n",
        "                  row.names = FALSE, header = TRUE ,\n",
        "                  colClasses='character')"
      ],
      "execution_count": null,
      "outputs": []
    },
    {
      "cell_type": "markdown",
      "metadata": {
        "id": "e9PDCv2wEbor"
      },
      "source": [
        "#Colegios"
      ]
    },
    {
      "cell_type": "markdown",
      "metadata": {
        "id": "ZpsRpIZhrciv"
      },
      "source": [
        "Se elige la ultima info que se tiene del colegio (no necesario realmente)"
      ]
    },
    {
      "cell_type": "code",
      "metadata": {
        "colab": {
          "base_uri": "https://localhost:8080/",
          "height": 34
        },
        "id": "uc62ef9YEbQ_",
        "outputId": "759c177d-f410-4640-81b2-9b6b5bdb8625"
      },
      "source": [
        "dbExecute(conn,\"\n",
        "create table colegios2 as \n",
        "select * \n",
        "from colegios\n",
        "group by RBD\n",
        "having AGNO=MAX(AGNO)\n",
        "\")"
      ],
      "execution_count": null,
      "outputs": [
        {
          "output_type": "display_data",
          "data": {
            "text/plain": [
              "[1] 0"
            ],
            "text/latex": "0",
            "text/markdown": "0",
            "text/html": [
              "0"
            ]
          },
          "metadata": {}
        }
      ]
    },
    {
      "cell_type": "code",
      "metadata": {
        "colab": {
          "base_uri": "https://localhost:8080/",
          "height": 34
        },
        "id": "N9iZC5FjEoCJ",
        "outputId": "adbf8352-728b-41ce-bf58-1d8373ba42fa"
      },
      "source": [
        "dbExecute(conn,\"drop table colegios\")"
      ],
      "execution_count": null,
      "outputs": [
        {
          "output_type": "display_data",
          "data": {
            "text/plain": [
              "[1] 0"
            ],
            "text/latex": "0",
            "text/markdown": "0",
            "text/html": [
              "0"
            ]
          },
          "metadata": {}
        }
      ]
    },
    {
      "cell_type": "markdown",
      "metadata": {
        "id": "iVggv98uOUU-"
      },
      "source": [
        "# Mezcla"
      ]
    },
    {
      "cell_type": "markdown",
      "metadata": {
        "id": "NdG8Y7iKrk65"
      },
      "source": [
        "Se crea la tabla combinada "
      ]
    },
    {
      "cell_type": "code",
      "metadata": {
        "colab": {
          "base_uri": "https://localhost:8080/",
          "height": 34
        },
        "id": "YyvmX2K4OTlC",
        "outputId": "95d92425-43de-42ae-ea2a-7aac1c32e928"
      },
      "source": [
        "dbListTables(conn)"
      ],
      "execution_count": null,
      "outputs": [
        {
          "output_type": "display_data",
          "data": {
            "text/plain": [
              "[1] \"ESTUDIAEN\"     \"alumnos\"       \"colegios2\"     \"geocoles\"     \n",
              "[5] \"precipitacion\""
            ],
            "text/latex": "\\begin{enumerate*}\n\\item 'ESTUDIAEN'\n\\item 'alumnos'\n\\item 'colegios2'\n\\item 'geocoles'\n\\item 'precipitacion'\n\\end{enumerate*}\n",
            "text/markdown": "1. 'ESTUDIAEN'\n2. 'alumnos'\n3. 'colegios2'\n4. 'geocoles'\n5. 'precipitacion'\n\n\n",
            "text/html": [
              "<style>\n",
              ".list-inline {list-style: none; margin:0; padding: 0}\n",
              ".list-inline>li {display: inline-block}\n",
              ".list-inline>li:not(:last-child)::after {content: \"\\00b7\"; padding: 0 .5ex}\n",
              "</style>\n",
              "<ol class=list-inline><li>'ESTUDIAEN'</li><li>'alumnos'</li><li>'colegios2'</li><li>'geocoles'</li><li>'precipitacion'</li></ol>\n"
            ]
          },
          "metadata": {}
        }
      ]
    },
    {
      "cell_type": "code",
      "metadata": {
        "colab": {
          "base_uri": "https://localhost:8080/",
          "height": 1000
        },
        "id": "LH0-nuw5dGI9",
        "outputId": "2dc2d5f4-1ecf-46d5-b56d-a6d7825337ca"
      },
      "source": [
        "dbGetQuery(conn,\"\n",
        "select distinct\n",
        "PP.codigo_estacion,\n",
        "PP.latitud,\n",
        "PP.longitud\n",
        "from Precipitacion as PP\")"
      ],
      "execution_count": null,
      "outputs": [
        {
          "output_type": "display_data",
          "data": {
            "text/plain": [
              "    codigo_estacion latitud  longitud \n",
              "1   1000005         -17.5950 -69.4831 \n",
              "2   1200002         -17.7719 -69.7244 \n",
              "3   1200003         -17.8350 -69.7039 \n",
              "4   1201005         -17.8428 -69.6994 \n",
              "5   1201010         -17.9931 -69.6594 \n",
              "6   1201003         -18.0036 -69.6331 \n",
              "7   1202012         -18.1950 -69.5589 \n",
              "8   1020017         -18.2042 -69.2683 \n",
              "9   1020016         -18.2164 -69.2956 \n",
              "10  1010010         -18.2353 -69.1833 \n",
              "11  1010007         -18.2808 -69.1383 \n",
              "12  1300006         -18.3722 -69.5481 \n",
              "13  1300007         -18.4669 -69.5167 \n",
              "14  1310018         -18.4775 -70.3208 \n",
              "15  1021007         -18.4983 -69.1547 \n",
              "16  1300009         -18.5133 -69.5656 \n",
              "17  1310019         -18.5156 -70.1806 \n",
              "18  1300008         -18.5811 -69.4939 \n",
              "19  1030003         -18.7939 -69.0844 \n",
              "20  1502007         -18.9417 -69.5328 \n",
              "21  1502008         -18.9431 -69.6197 \n",
              "22  1610004         -19.1181 -69.2447 \n",
              "23  1611001         -19.3136 -69.4172 \n",
              "24  1730020         -19.6831 -69.1833 \n",
              "25  1730007         -19.7831 -69.1433 \n",
              "26  1730017         -19.8719 -69.1831 \n",
              "27  2101003         -21.6553 -68.6611 \n",
              "28  2112008         -21.6603 -69.5358 \n",
              "29  2102005         -21.9053 -68.5964 \n",
              "30  2104002         -22.0278 -68.6208 \n",
              "⋮   ⋮               ⋮        ⋮        \n",
              "274 230001          -23.4503  -70.4411\n",
              "275 270008          -27.2639  -70.7742\n",
              "276 290004          -29.9175  -71.2011\n",
              "277 330020          -33.4450  -70.6828\n",
              "278 340031          -34.9664  -71.2167\n",
              "279 360011          -36.5872  -72.0400\n",
              "280 360019          -36.7792  -73.0622\n",
              "281 380013          -38.7700  -72.6369\n",
              "282 390006          -39.6506  -73.0808\n",
              "283 400009          -40.6050  -73.0608\n",
              "284 410005          -41.4350  -73.0978\n",
              "285 450001          -45.3961  -72.6639\n",
              "286 450004          -45.5939  -72.1086\n",
              "287 450005          -45.9128  -71.6942\n",
              "288 460001          -46.5808  -71.6928\n",
              "289 470001          -47.2439  -72.5864\n",
              "290 520006          -53.0033  -70.8450\n",
              "291 550001          -54.9317  -67.6156\n",
              "292 950001          -62.1997  -58.9642\n",
              "293 220002          -22.4989  -68.9072\n",
              "294 270001          -27.1606 -109.4270\n",
              "295 330021          -33.3919  -70.7944\n",
              "296 330019          -33.4544  -70.5478\n",
              "297 330031          -33.6367  -78.8350\n",
              "298 330030          -33.6550  -71.6142\n",
              "299 370033          -37.4028  -72.4225\n",
              "300 430002          -43.1889  -71.8525\n",
              "301 430004          -43.6117  -71.8053\n",
              "302 510005          -51.6672  -72.5289\n",
              "303 530005          -53.1875  -70.3203"
            ],
            "text/latex": "A data.frame: 303 × 3\n\\begin{tabular}{lll}\n codigo\\_estacion & latitud & longitud\\\\\n <chr> & <dbl> & <dbl>\\\\\n\\hline\n\t 1000005 & -17.5950 & -69.4831\\\\\n\t 1200002 & -17.7719 & -69.7244\\\\\n\t 1200003 & -17.8350 & -69.7039\\\\\n\t 1201005 & -17.8428 & -69.6994\\\\\n\t 1201010 & -17.9931 & -69.6594\\\\\n\t 1201003 & -18.0036 & -69.6331\\\\\n\t 1202012 & -18.1950 & -69.5589\\\\\n\t 1020017 & -18.2042 & -69.2683\\\\\n\t 1020016 & -18.2164 & -69.2956\\\\\n\t 1010010 & -18.2353 & -69.1833\\\\\n\t 1010007 & -18.2808 & -69.1383\\\\\n\t 1300006 & -18.3722 & -69.5481\\\\\n\t 1300007 & -18.4669 & -69.5167\\\\\n\t 1310018 & -18.4775 & -70.3208\\\\\n\t 1021007 & -18.4983 & -69.1547\\\\\n\t 1300009 & -18.5133 & -69.5656\\\\\n\t 1310019 & -18.5156 & -70.1806\\\\\n\t 1300008 & -18.5811 & -69.4939\\\\\n\t 1030003 & -18.7939 & -69.0844\\\\\n\t 1502007 & -18.9417 & -69.5328\\\\\n\t 1502008 & -18.9431 & -69.6197\\\\\n\t 1610004 & -19.1181 & -69.2447\\\\\n\t 1611001 & -19.3136 & -69.4172\\\\\n\t 1730020 & -19.6831 & -69.1833\\\\\n\t 1730007 & -19.7831 & -69.1433\\\\\n\t 1730017 & -19.8719 & -69.1831\\\\\n\t 2101003 & -21.6553 & -68.6611\\\\\n\t 2112008 & -21.6603 & -69.5358\\\\\n\t 2102005 & -21.9053 & -68.5964\\\\\n\t 2104002 & -22.0278 & -68.6208\\\\\n\t ⋮ & ⋮ & ⋮\\\\\n\t 230001 & -23.4503 &  -70.4411\\\\\n\t 270008 & -27.2639 &  -70.7742\\\\\n\t 290004 & -29.9175 &  -71.2011\\\\\n\t 330020 & -33.4450 &  -70.6828\\\\\n\t 340031 & -34.9664 &  -71.2167\\\\\n\t 360011 & -36.5872 &  -72.0400\\\\\n\t 360019 & -36.7792 &  -73.0622\\\\\n\t 380013 & -38.7700 &  -72.6369\\\\\n\t 390006 & -39.6506 &  -73.0808\\\\\n\t 400009 & -40.6050 &  -73.0608\\\\\n\t 410005 & -41.4350 &  -73.0978\\\\\n\t 450001 & -45.3961 &  -72.6639\\\\\n\t 450004 & -45.5939 &  -72.1086\\\\\n\t 450005 & -45.9128 &  -71.6942\\\\\n\t 460001 & -46.5808 &  -71.6928\\\\\n\t 470001 & -47.2439 &  -72.5864\\\\\n\t 520006 & -53.0033 &  -70.8450\\\\\n\t 550001 & -54.9317 &  -67.6156\\\\\n\t 950001 & -62.1997 &  -58.9642\\\\\n\t 220002 & -22.4989 &  -68.9072\\\\\n\t 270001 & -27.1606 & -109.4270\\\\\n\t 330021 & -33.3919 &  -70.7944\\\\\n\t 330019 & -33.4544 &  -70.5478\\\\\n\t 330031 & -33.6367 &  -78.8350\\\\\n\t 330030 & -33.6550 &  -71.6142\\\\\n\t 370033 & -37.4028 &  -72.4225\\\\\n\t 430002 & -43.1889 &  -71.8525\\\\\n\t 430004 & -43.6117 &  -71.8053\\\\\n\t 510005 & -51.6672 &  -72.5289\\\\\n\t 530005 & -53.1875 &  -70.3203\\\\\n\\end{tabular}\n",
            "text/markdown": "\nA data.frame: 303 × 3\n\n| codigo_estacion &lt;chr&gt; | latitud &lt;dbl&gt; | longitud &lt;dbl&gt; |\n|---|---|---|\n| 1000005 | -17.5950 | -69.4831 |\n| 1200002 | -17.7719 | -69.7244 |\n| 1200003 | -17.8350 | -69.7039 |\n| 1201005 | -17.8428 | -69.6994 |\n| 1201010 | -17.9931 | -69.6594 |\n| 1201003 | -18.0036 | -69.6331 |\n| 1202012 | -18.1950 | -69.5589 |\n| 1020017 | -18.2042 | -69.2683 |\n| 1020016 | -18.2164 | -69.2956 |\n| 1010010 | -18.2353 | -69.1833 |\n| 1010007 | -18.2808 | -69.1383 |\n| 1300006 | -18.3722 | -69.5481 |\n| 1300007 | -18.4669 | -69.5167 |\n| 1310018 | -18.4775 | -70.3208 |\n| 1021007 | -18.4983 | -69.1547 |\n| 1300009 | -18.5133 | -69.5656 |\n| 1310019 | -18.5156 | -70.1806 |\n| 1300008 | -18.5811 | -69.4939 |\n| 1030003 | -18.7939 | -69.0844 |\n| 1502007 | -18.9417 | -69.5328 |\n| 1502008 | -18.9431 | -69.6197 |\n| 1610004 | -19.1181 | -69.2447 |\n| 1611001 | -19.3136 | -69.4172 |\n| 1730020 | -19.6831 | -69.1833 |\n| 1730007 | -19.7831 | -69.1433 |\n| 1730017 | -19.8719 | -69.1831 |\n| 2101003 | -21.6553 | -68.6611 |\n| 2112008 | -21.6603 | -69.5358 |\n| 2102005 | -21.9053 | -68.5964 |\n| 2104002 | -22.0278 | -68.6208 |\n| ⋮ | ⋮ | ⋮ |\n| 230001 | -23.4503 |  -70.4411 |\n| 270008 | -27.2639 |  -70.7742 |\n| 290004 | -29.9175 |  -71.2011 |\n| 330020 | -33.4450 |  -70.6828 |\n| 340031 | -34.9664 |  -71.2167 |\n| 360011 | -36.5872 |  -72.0400 |\n| 360019 | -36.7792 |  -73.0622 |\n| 380013 | -38.7700 |  -72.6369 |\n| 390006 | -39.6506 |  -73.0808 |\n| 400009 | -40.6050 |  -73.0608 |\n| 410005 | -41.4350 |  -73.0978 |\n| 450001 | -45.3961 |  -72.6639 |\n| 450004 | -45.5939 |  -72.1086 |\n| 450005 | -45.9128 |  -71.6942 |\n| 460001 | -46.5808 |  -71.6928 |\n| 470001 | -47.2439 |  -72.5864 |\n| 520006 | -53.0033 |  -70.8450 |\n| 550001 | -54.9317 |  -67.6156 |\n| 950001 | -62.1997 |  -58.9642 |\n| 220002 | -22.4989 |  -68.9072 |\n| 270001 | -27.1606 | -109.4270 |\n| 330021 | -33.3919 |  -70.7944 |\n| 330019 | -33.4544 |  -70.5478 |\n| 330031 | -33.6367 |  -78.8350 |\n| 330030 | -33.6550 |  -71.6142 |\n| 370033 | -37.4028 |  -72.4225 |\n| 430002 | -43.1889 |  -71.8525 |\n| 430004 | -43.6117 |  -71.8053 |\n| 510005 | -51.6672 |  -72.5289 |\n| 530005 | -53.1875 |  -70.3203 |\n\n",
            "text/html": [
              "<table class=\"dataframe\">\n",
              "<caption>A data.frame: 303 × 3</caption>\n",
              "<thead>\n",
              "\t<tr><th scope=col>codigo_estacion</th><th scope=col>latitud</th><th scope=col>longitud</th></tr>\n",
              "\t<tr><th scope=col>&lt;chr&gt;</th><th scope=col>&lt;dbl&gt;</th><th scope=col>&lt;dbl&gt;</th></tr>\n",
              "</thead>\n",
              "<tbody>\n",
              "\t<tr><td>1000005</td><td>-17.5950</td><td>-69.4831</td></tr>\n",
              "\t<tr><td>1200002</td><td>-17.7719</td><td>-69.7244</td></tr>\n",
              "\t<tr><td>1200003</td><td>-17.8350</td><td>-69.7039</td></tr>\n",
              "\t<tr><td>1201005</td><td>-17.8428</td><td>-69.6994</td></tr>\n",
              "\t<tr><td>1201010</td><td>-17.9931</td><td>-69.6594</td></tr>\n",
              "\t<tr><td>1201003</td><td>-18.0036</td><td>-69.6331</td></tr>\n",
              "\t<tr><td>1202012</td><td>-18.1950</td><td>-69.5589</td></tr>\n",
              "\t<tr><td>1020017</td><td>-18.2042</td><td>-69.2683</td></tr>\n",
              "\t<tr><td>1020016</td><td>-18.2164</td><td>-69.2956</td></tr>\n",
              "\t<tr><td>1010010</td><td>-18.2353</td><td>-69.1833</td></tr>\n",
              "\t<tr><td>1010007</td><td>-18.2808</td><td>-69.1383</td></tr>\n",
              "\t<tr><td>1300006</td><td>-18.3722</td><td>-69.5481</td></tr>\n",
              "\t<tr><td>1300007</td><td>-18.4669</td><td>-69.5167</td></tr>\n",
              "\t<tr><td>1310018</td><td>-18.4775</td><td>-70.3208</td></tr>\n",
              "\t<tr><td>1021007</td><td>-18.4983</td><td>-69.1547</td></tr>\n",
              "\t<tr><td>1300009</td><td>-18.5133</td><td>-69.5656</td></tr>\n",
              "\t<tr><td>1310019</td><td>-18.5156</td><td>-70.1806</td></tr>\n",
              "\t<tr><td>1300008</td><td>-18.5811</td><td>-69.4939</td></tr>\n",
              "\t<tr><td>1030003</td><td>-18.7939</td><td>-69.0844</td></tr>\n",
              "\t<tr><td>1502007</td><td>-18.9417</td><td>-69.5328</td></tr>\n",
              "\t<tr><td>1502008</td><td>-18.9431</td><td>-69.6197</td></tr>\n",
              "\t<tr><td>1610004</td><td>-19.1181</td><td>-69.2447</td></tr>\n",
              "\t<tr><td>1611001</td><td>-19.3136</td><td>-69.4172</td></tr>\n",
              "\t<tr><td>1730020</td><td>-19.6831</td><td>-69.1833</td></tr>\n",
              "\t<tr><td>1730007</td><td>-19.7831</td><td>-69.1433</td></tr>\n",
              "\t<tr><td>1730017</td><td>-19.8719</td><td>-69.1831</td></tr>\n",
              "\t<tr><td>2101003</td><td>-21.6553</td><td>-68.6611</td></tr>\n",
              "\t<tr><td>2112008</td><td>-21.6603</td><td>-69.5358</td></tr>\n",
              "\t<tr><td>2102005</td><td>-21.9053</td><td>-68.5964</td></tr>\n",
              "\t<tr><td>2104002</td><td>-22.0278</td><td>-68.6208</td></tr>\n",
              "\t<tr><td>⋮</td><td>⋮</td><td>⋮</td></tr>\n",
              "\t<tr><td>230001</td><td>-23.4503</td><td> -70.4411</td></tr>\n",
              "\t<tr><td>270008</td><td>-27.2639</td><td> -70.7742</td></tr>\n",
              "\t<tr><td>290004</td><td>-29.9175</td><td> -71.2011</td></tr>\n",
              "\t<tr><td>330020</td><td>-33.4450</td><td> -70.6828</td></tr>\n",
              "\t<tr><td>340031</td><td>-34.9664</td><td> -71.2167</td></tr>\n",
              "\t<tr><td>360011</td><td>-36.5872</td><td> -72.0400</td></tr>\n",
              "\t<tr><td>360019</td><td>-36.7792</td><td> -73.0622</td></tr>\n",
              "\t<tr><td>380013</td><td>-38.7700</td><td> -72.6369</td></tr>\n",
              "\t<tr><td>390006</td><td>-39.6506</td><td> -73.0808</td></tr>\n",
              "\t<tr><td>400009</td><td>-40.6050</td><td> -73.0608</td></tr>\n",
              "\t<tr><td>410005</td><td>-41.4350</td><td> -73.0978</td></tr>\n",
              "\t<tr><td>450001</td><td>-45.3961</td><td> -72.6639</td></tr>\n",
              "\t<tr><td>450004</td><td>-45.5939</td><td> -72.1086</td></tr>\n",
              "\t<tr><td>450005</td><td>-45.9128</td><td> -71.6942</td></tr>\n",
              "\t<tr><td>460001</td><td>-46.5808</td><td> -71.6928</td></tr>\n",
              "\t<tr><td>470001</td><td>-47.2439</td><td> -72.5864</td></tr>\n",
              "\t<tr><td>520006</td><td>-53.0033</td><td> -70.8450</td></tr>\n",
              "\t<tr><td>550001</td><td>-54.9317</td><td> -67.6156</td></tr>\n",
              "\t<tr><td>950001</td><td>-62.1997</td><td> -58.9642</td></tr>\n",
              "\t<tr><td>220002</td><td>-22.4989</td><td> -68.9072</td></tr>\n",
              "\t<tr><td>270001</td><td>-27.1606</td><td>-109.4270</td></tr>\n",
              "\t<tr><td>330021</td><td>-33.3919</td><td> -70.7944</td></tr>\n",
              "\t<tr><td>330019</td><td>-33.4544</td><td> -70.5478</td></tr>\n",
              "\t<tr><td>330031</td><td>-33.6367</td><td> -78.8350</td></tr>\n",
              "\t<tr><td>330030</td><td>-33.6550</td><td> -71.6142</td></tr>\n",
              "\t<tr><td>370033</td><td>-37.4028</td><td> -72.4225</td></tr>\n",
              "\t<tr><td>430002</td><td>-43.1889</td><td> -71.8525</td></tr>\n",
              "\t<tr><td>430004</td><td>-43.6117</td><td> -71.8053</td></tr>\n",
              "\t<tr><td>510005</td><td>-51.6672</td><td> -72.5289</td></tr>\n",
              "\t<tr><td>530005</td><td>-53.1875</td><td> -70.3203</td></tr>\n",
              "</tbody>\n",
              "</table>\n"
            ]
          },
          "metadata": {}
        }
      ]
    },
    {
      "cell_type": "markdown",
      "metadata": {
        "id": "M-Q2YSD5rvSF"
      },
      "source": [
        "Se vincula la latitud y longitud de los colegios y las estaciones"
      ]
    },
    {
      "cell_type": "code",
      "metadata": {
        "colab": {
          "base_uri": "https://localhost:8080/",
          "height": 34
        },
        "id": "hhVnjqV7OcIx",
        "outputId": "daef3a33-b62b-4c94-9009-ce1fba291497"
      },
      "source": [
        "#dbExecute(conn, \"drop table colegios_full\")\n",
        "dbExecute(conn,\"\n",
        "create table colegios_full as \n",
        "select \n",
        "CI.*,\n",
        "GC.lat as Latitud,\n",
        "GC.lon as Longitud,\n",
        "PP.codigo_estacion,\n",
        "PP.latitud as Lat_Estacion,\n",
        "PP.longitud as Lon_Estacion,\n",
        "POWER(PP.longitud - GC.lon, 2)+ POWER(PP.latitud-GC.lat,2) as dist\n",
        "from colegios2 as CI, geocoles as GC, (\n",
        "select distinct\n",
        "PP.codigo_estacion,\n",
        "PP.latitud,\n",
        "PP.longitud\n",
        "from Precipitacion as PP) as PP\n",
        "where CI.RBD=GC.RBD\n",
        "group by CI.RBD\n",
        "having dist=min(dist)\n",
        "\")"
      ],
      "execution_count": null,
      "outputs": [
        {
          "output_type": "display_data",
          "data": {
            "text/plain": [
              "[1] 0"
            ],
            "text/latex": "0",
            "text/markdown": "0",
            "text/html": [
              "0"
            ]
          },
          "metadata": {}
        }
      ]
    },
    {
      "cell_type": "code",
      "metadata": {
        "colab": {
          "base_uri": "https://localhost:8080/",
          "height": 1000
        },
        "id": "_4wXxrJYF6LV",
        "outputId": "89d941df-7e6e-42de-ee81-d5cafe56dabe"
      },
      "source": [
        "dbGetQuery(conn, \"select * from colegios_full\")"
      ],
      "execution_count": null,
      "outputs": [
        {
          "output_type": "display_data",
          "data": {
            "text/plain": [
              "     AGNO RBD   NOM_RBD                                         COD_DEPE\n",
              "1    2019  1    LICEO POLITECNICO ARICA                         2       \n",
              "2    2019  3    ESC. PEDRO VICENTE GUTIERREZ TORRES             2       \n",
              "3    2019  4    LICEO OCTAVIO PALMA PEREZ                       2       \n",
              "4    2019  5    JOVINA NARANJO FERNANDEZ                        2       \n",
              "5    2019  7    L. POLI. ANTONIO VARAS DE LA BARRA              2       \n",
              "6    2019  8    COLEGIO INTEGRADO EDUARDO FREI MONTALVA         2       \n",
              "7    2019  9    ESCUELA REPUBLICA DE ISRAEL                     2       \n",
              "8    2019 10    ESCUELA REPUBLICA DE FRANCIA                    2       \n",
              "9    2019 11    ESC. GRAL. PEDRO LAGOS MARCHANT                 2       \n",
              "10   2019 12    ESCUELA GRAL JOSE MIGUEL CARRERA                2       \n",
              "11   2019 13    ESCUELA MANUEL RODRIGUEZ ERDOYZA                2       \n",
              "12   2019 14    ESCUELA ROMULO J. PENA MATURANA                 2       \n",
              "13   2019 15    LICEO ARTISTICO DR. JUAN NOE CREVANI            2       \n",
              "14   2019 16    ESCUELA REGIMIENTO RANCAGUA                     2       \n",
              "15   2019 17    ESCUELA SUBTTE. LUIS CRUZ MARTINEZ              2       \n",
              "16   2019 18    ESC. COMTE. JUAN JOSE SAN MARTIN                2       \n",
              "17   2019 19    ESC. HUMBERTO VALENZUELA GARCIA                 2       \n",
              "18   2019 20    ESCUELA TUCAPEL                                 2       \n",
              "19   2019 22    ESCUELA GABRIELA MISTRAL                        2       \n",
              "20   2019 25    COLEGIO CENTENARIO DE ARICA                     2       \n",
              "21   2019 26    ESCUELA REPUBLICA DE ARGENTINA                  2       \n",
              "22   2019 27    ESCUELA ESMERALDA                               2       \n",
              "23   2019 28    ESCUELA RICARDO SILVA ARRIAGADA                 2       \n",
              "24   2019 29    ESCUELA AMERICA                                 2       \n",
              "25   2019 31    ESCUELA DARIO SALAS DIAZ                        2       \n",
              "26   2019 32    LICEO AGRICOLA JOSE ABELARDO NUNEZ M.           2       \n",
              "27   2019 33    ESCUELA CARLOS CONDELL DE LA HAZA               2       \n",
              "28   2019 35    ESCUELA GRAL. MANUEL BAQUEDANO                  2       \n",
              "29   2019 36    ESCUELA IGNACIO CARRERA PINTO                   2       \n",
              "30   2019 38    ESCUELA ESPAÑA                                  2       \n",
              "⋮    ⋮    ⋮     ⋮                                               ⋮       \n",
              "8274 2019 40331 COLEGIO SAN FRANCISCO DE VALLE HERMOSO          3       \n",
              "8275 2019 40334 AULA HOSPITALARIA AYUUKELEN EPU                 3       \n",
              "8276 2019 40335 AULA HOSPITALARIA AYUUKELEN                     3       \n",
              "8277 2019 40340 LICEO DE ALTO DEL CARMEN                        6       \n",
              "8278 2019 40343 COLEGIO CREACION LA ARAUCANA PUERTO MONTT       3       \n",
              "8279 2019 40351 COLEGIO BOSQUEMAR                               3       \n",
              "8280 2019 40352 LICEO TEC.PROFESIONAL PEDRO AGUIRRE CERDA       2       \n",
              "8281 2019 40370 COLEGIO PUKALAN DE ALGARROBO                    3       \n",
              "8282 2019 40371 COLEGIO SAN CARLOS DE LAS CABRAS                3       \n",
              "8283 2019 40381 COLEGIO ACONCAGUA EDUCA                         3       \n",
              "8284 2019 40383 ESCUELA BASICA MIL PAISAJES-QUEMCHI             2       \n",
              "8285 2019 40390 ESCUELA HOSPITALARIA ALIANZA                    3       \n",
              "8286 2019 40395 COLEGIO JOHN WALL HOLCOMB                       3       \n",
              "8287 2019 40399 COLEGIO NAZARET                                 3       \n",
              "8288 2019 40400 CENTRO DE EDUCACION INTEGRAL DE ADULTOS SANTA   3       \n",
              "8289 2019 40403 GREEN PARK SCHOOL                               3       \n",
              "8290 2019 40406 COLEGIO MADRE ISABEL LARRAÑAGA                  3       \n",
              "8291 2019 40407 CENTRO DE ESTUDIOS BORDEMAR                     3       \n",
              "8292 2019 40409 COLEGIO INTERCULTURAL LEONARDO DA VINCI         3       \n",
              "8293 2019 40414 CENTRO EDUC.DE INTEGRAC.DE ADULTOS NEWEN        3       \n",
              "8294 2019 40418 COLEGIO YUMBREL                                 3       \n",
              "8295 2019 40422 COLEGIO NIRVANA                                 3       \n",
              "8296 2019 40423 COLEGIO SAN JUAN                                3       \n",
              "8297 2019 40424 CENTRO EDUCACIONAL RAICES DE MI TIERRA          3       \n",
              "8298 2019 40429 LICEO TECNICO PROFESIONAL DE ADULTOS            1       \n",
              "8299 2019 40436 COLEGIO DE LAS ARTES Y LETRAS BETHEL DE QUILPUE 3       \n",
              "8300 2019 40447 CENTRO DE EDUCACION INTEGRADA DE ADULTOS AEK    3       \n",
              "8301 2018 40455 COLEGIO PATAGONIA INSULAR                       3       \n",
              "8302 2019 40457 LICEO TECNICO PROFESIONAL PABLO NERUDA          3       \n",
              "8303 2019 40459 CENTRO EDUCACIONAL ALBORADA                     3       \n",
              "     Latitud   Longitud  codigo_estacion Lat_Estacion Lon_Estacion dist        \n",
              "1    -18.48719 -70.29469 1310018         -18.4775     -70.3208     7.754443e-04\n",
              "2    -18.48696 -70.30278 1310018         -18.4775     -70.3208     4.143417e-04\n",
              "3    -18.47417 -70.30792 1310018         -18.4775     -70.3208     1.769885e-04\n",
              "4    -18.47680 -70.31345 1310018         -18.4775     -70.3208     5.447059e-05\n",
              "5    -18.47595 -70.28795 1310018         -18.4775     -70.3208     1.081556e-03\n",
              "6    -18.48267 -70.31737 1310018         -18.4775     -70.3208     3.852273e-05\n",
              "7    -18.48696 -70.30278 1310018         -18.4775     -70.3208     4.143417e-04\n",
              "8    -18.47422 -70.30892 1310018         -18.4775     -70.3208     1.518580e-04\n",
              "9    -18.49111 -70.31159 1310018         -18.4775     -70.3208     2.700022e-04\n",
              "10   -18.49211 -70.29398 1310018         -18.4775     -70.3208     9.327436e-04\n",
              "11   -18.48109 -70.28436 1310018         -18.4775     -70.3208     1.340497e-03\n",
              "12   -18.48126 -70.28984 1310018         -18.4775     -70.3208     9.725817e-04\n",
              "13   -18.47215 -70.30100 1310018         -18.4775     -70.3208     4.205888e-04\n",
              "14   -18.47491 -70.30887 1310018         -18.4775     -70.3208     1.490841e-04\n",
              "15   -18.46748 -70.29117 1310018         -18.4775     -70.3208     9.783938e-04\n",
              "16   -18.47678 -70.28738 1310018         -18.4775     -70.3208     1.117326e-03\n",
              "17   -18.47469 -70.29190 1310018         -18.4775     -70.3208     8.430825e-04\n",
              "18   -18.47995 -70.29504 1310018         -18.4775     -70.3208     6.695725e-04\n",
              "19   -18.44773 -70.29087 1310018         -18.4775     -70.3208     1.781897e-03\n",
              "20   -18.43982 -70.29311 1310018         -18.4775     -70.3208     2.186930e-03\n",
              "21   -18.47830 -70.30393 1310018         -18.4775     -70.3208     2.852159e-04\n",
              "22   -18.48325 -70.30788 1310018         -18.4775     -70.3208     1.999244e-04\n",
              "23   -18.48494 -70.29446 1310018         -18.4775     -70.3208     7.490817e-04\n",
              "24   -18.47768 -70.28265 1310018         -18.4775     -70.3208     1.455226e-03\n",
              "25   -18.48292 -70.29417 1310018         -18.4775     -70.3208     7.385556e-04\n",
              "26   -18.51933 -70.17844 1310019         -18.5156     -70.1806     1.860321e-05\n",
              "27   -18.41687 -70.22534 1310019         -18.5156     -70.1806     1.174928e-02\n",
              "28   -18.47943 -70.31854 1310018         -18.4775     -70.3208     8.820999e-06\n",
              "29   -18.49660 -70.28400 1310018         -18.4775     -70.3208     1.718771e-03\n",
              "30   -18.44773 -70.29087 1310018         -18.4775     -70.3208     1.781897e-03\n",
              "⋮    ⋮         ⋮         ⋮               ⋮            ⋮            ⋮           \n",
              "8274 -32.43532 -71.21452 5111004         -32.3058     -71.0792     3.508776e-02\n",
              "8275 -30.60430 -71.19699 4551005         -30.6006     -71.2000     2.279056e-05\n",
              "8276 -29.90993 -71.25119 290004          -29.9175     -71.2011     2.566140e-03\n",
              "8277 -28.77712 -70.47270 3815004         -28.9311     -70.4614     2.383757e-02\n",
              "8278 -41.46001 -72.99403 10425001        -41.4600     -72.9378     3.161521e-03\n",
              "8279 -41.48593 -73.00022 10425001        -41.4600     -72.9378     4.569033e-03\n",
              "8280 -32.85053 -70.62036 5410002         -32.8503     -70.5094     1.231306e-02\n",
              "8281 -33.39076 -71.65353 330030          -33.6550     -71.6142     7.136825e-02\n",
              "8282 -34.28748 -71.30549 6019003         -34.2731     -71.3717     4.591144e-03\n",
              "8283 -32.62484 -70.71603 5410008         -32.7472     -70.7247     1.504743e-02\n",
              "8284 -42.14439 -73.47622 10900001        -42.1408     -73.4731     2.261590e-05\n",
              "8285 -40.58757 -73.12832 10360002        -40.5883     -73.1069     4.593509e-04\n",
              "8286 -18.44785 -70.29601 1310018         -18.4775     -70.3208     1.493475e-03\n",
              "8287 -20.24699 -70.09577 200006          -20.5397     -70.1786     9.253943e-02\n",
              "8288 -29.98690 -71.34295 290004          -29.9175     -71.2011     2.493900e-02\n",
              "8289 -40.54993 -73.15798 10360002        -40.5883     -73.1069     4.080851e-03\n",
              "8290 -41.46998 -72.94147 10425001        -41.4600     -72.9378     1.130993e-04\n",
              "8291 -32.78734 -71.20732 5423003         -32.8403     -71.0256     3.582662e-02\n",
              "8292  40.74259 -73.86262 1000005         -17.5950     -69.4831     3.422455e+03\n",
              "8293 -33.49193 -71.62071 330030          -33.6550     -71.6142     2.663447e-02\n",
              "8294 -40.58021 -73.15393 10360002        -40.5883     -73.1069     2.277440e-03\n",
              "8295 -20.29301 -70.09466 200006          -20.5397     -70.1786     6.790056e-02\n",
              "8296 -41.86300 -73.81933 10903003        -41.8625     -73.8192     2.650083e-07\n",
              "8297 -42.36173 -73.67100 10900001        -42.1408     -73.4731     8.797531e-02\n",
              "8298 -20.22547 -70.14873 200006          -20.5397     -70.1786     9.963530e-02\n",
              "8299 -33.04818 -71.43518 5510001         -33.0503     -71.5833     2.194336e-02\n",
              "8300 -41.77202 -73.13271 410005          -41.4350     -73.0978     1.147982e-01\n",
              "8301 -42.48097 -73.77376 10906004        -42.6186     -74.1081     1.307221e-01\n",
              "8302 -42.48284 -73.77352 10906004        -42.6186     -74.1081     1.303712e-01\n",
              "8303 -41.86468 -73.82239 10903003        -41.8625     -73.8192     1.496043e-05"
            ],
            "text/latex": "A data.frame: 8303 × 10\n\\begin{tabular}{llllllllll}\n AGNO & RBD & NOM\\_RBD & COD\\_DEPE & Latitud & Longitud & codigo\\_estacion & Lat\\_Estacion & Lon\\_Estacion & dist\\\\\n <int> & <int> & <chr> & <int> & <dbl> & <dbl> & <chr> & <dbl> & <dbl> & <dbl>\\\\\n\\hline\n\t 2019 &  1 & LICEO POLITECNICO ARICA                 & 2 & -18.48719 & -70.29469 & 1310018 & -18.4775 & -70.3208 & 7.754443e-04\\\\\n\t 2019 &  3 & ESC. PEDRO VICENTE GUTIERREZ TORRES     & 2 & -18.48696 & -70.30278 & 1310018 & -18.4775 & -70.3208 & 4.143417e-04\\\\\n\t 2019 &  4 & LICEO OCTAVIO PALMA PEREZ               & 2 & -18.47417 & -70.30792 & 1310018 & -18.4775 & -70.3208 & 1.769885e-04\\\\\n\t 2019 &  5 & JOVINA NARANJO FERNANDEZ                & 2 & -18.47680 & -70.31345 & 1310018 & -18.4775 & -70.3208 & 5.447059e-05\\\\\n\t 2019 &  7 & L. POLI. ANTONIO VARAS DE LA BARRA      & 2 & -18.47595 & -70.28795 & 1310018 & -18.4775 & -70.3208 & 1.081556e-03\\\\\n\t 2019 &  8 & COLEGIO INTEGRADO EDUARDO FREI MONTALVA & 2 & -18.48267 & -70.31737 & 1310018 & -18.4775 & -70.3208 & 3.852273e-05\\\\\n\t 2019 &  9 & ESCUELA REPUBLICA DE ISRAEL             & 2 & -18.48696 & -70.30278 & 1310018 & -18.4775 & -70.3208 & 4.143417e-04\\\\\n\t 2019 & 10 & ESCUELA REPUBLICA DE FRANCIA            & 2 & -18.47422 & -70.30892 & 1310018 & -18.4775 & -70.3208 & 1.518580e-04\\\\\n\t 2019 & 11 & ESC. GRAL. PEDRO LAGOS MARCHANT         & 2 & -18.49111 & -70.31159 & 1310018 & -18.4775 & -70.3208 & 2.700022e-04\\\\\n\t 2019 & 12 & ESCUELA GRAL JOSE MIGUEL CARRERA        & 2 & -18.49211 & -70.29398 & 1310018 & -18.4775 & -70.3208 & 9.327436e-04\\\\\n\t 2019 & 13 & ESCUELA MANUEL RODRIGUEZ ERDOYZA        & 2 & -18.48109 & -70.28436 & 1310018 & -18.4775 & -70.3208 & 1.340497e-03\\\\\n\t 2019 & 14 & ESCUELA ROMULO J. PENA MATURANA         & 2 & -18.48126 & -70.28984 & 1310018 & -18.4775 & -70.3208 & 9.725817e-04\\\\\n\t 2019 & 15 & LICEO ARTISTICO DR. JUAN NOE CREVANI    & 2 & -18.47215 & -70.30100 & 1310018 & -18.4775 & -70.3208 & 4.205888e-04\\\\\n\t 2019 & 16 & ESCUELA REGIMIENTO RANCAGUA             & 2 & -18.47491 & -70.30887 & 1310018 & -18.4775 & -70.3208 & 1.490841e-04\\\\\n\t 2019 & 17 & ESCUELA SUBTTE. LUIS CRUZ MARTINEZ      & 2 & -18.46748 & -70.29117 & 1310018 & -18.4775 & -70.3208 & 9.783938e-04\\\\\n\t 2019 & 18 & ESC. COMTE. JUAN JOSE SAN MARTIN        & 2 & -18.47678 & -70.28738 & 1310018 & -18.4775 & -70.3208 & 1.117326e-03\\\\\n\t 2019 & 19 & ESC. HUMBERTO VALENZUELA GARCIA         & 2 & -18.47469 & -70.29190 & 1310018 & -18.4775 & -70.3208 & 8.430825e-04\\\\\n\t 2019 & 20 & ESCUELA TUCAPEL                         & 2 & -18.47995 & -70.29504 & 1310018 & -18.4775 & -70.3208 & 6.695725e-04\\\\\n\t 2019 & 22 & ESCUELA GABRIELA MISTRAL                & 2 & -18.44773 & -70.29087 & 1310018 & -18.4775 & -70.3208 & 1.781897e-03\\\\\n\t 2019 & 25 & COLEGIO CENTENARIO DE ARICA             & 2 & -18.43982 & -70.29311 & 1310018 & -18.4775 & -70.3208 & 2.186930e-03\\\\\n\t 2019 & 26 & ESCUELA REPUBLICA DE ARGENTINA          & 2 & -18.47830 & -70.30393 & 1310018 & -18.4775 & -70.3208 & 2.852159e-04\\\\\n\t 2019 & 27 & ESCUELA ESMERALDA                       & 2 & -18.48325 & -70.30788 & 1310018 & -18.4775 & -70.3208 & 1.999244e-04\\\\\n\t 2019 & 28 & ESCUELA RICARDO SILVA ARRIAGADA         & 2 & -18.48494 & -70.29446 & 1310018 & -18.4775 & -70.3208 & 7.490817e-04\\\\\n\t 2019 & 29 & ESCUELA AMERICA                         & 2 & -18.47768 & -70.28265 & 1310018 & -18.4775 & -70.3208 & 1.455226e-03\\\\\n\t 2019 & 31 & ESCUELA DARIO SALAS DIAZ                & 2 & -18.48292 & -70.29417 & 1310018 & -18.4775 & -70.3208 & 7.385556e-04\\\\\n\t 2019 & 32 & LICEO AGRICOLA JOSE ABELARDO NUNEZ M.   & 2 & -18.51933 & -70.17844 & 1310019 & -18.5156 & -70.1806 & 1.860321e-05\\\\\n\t 2019 & 33 & ESCUELA CARLOS CONDELL DE LA HAZA       & 2 & -18.41687 & -70.22534 & 1310019 & -18.5156 & -70.1806 & 1.174928e-02\\\\\n\t 2019 & 35 & ESCUELA GRAL. MANUEL BAQUEDANO          & 2 & -18.47943 & -70.31854 & 1310018 & -18.4775 & -70.3208 & 8.820999e-06\\\\\n\t 2019 & 36 & ESCUELA IGNACIO CARRERA PINTO           & 2 & -18.49660 & -70.28400 & 1310018 & -18.4775 & -70.3208 & 1.718771e-03\\\\\n\t 2019 & 38 & ESCUELA ESPAÑA                          & 2 & -18.44773 & -70.29087 & 1310018 & -18.4775 & -70.3208 & 1.781897e-03\\\\\n\t ⋮ & ⋮ & ⋮ & ⋮ & ⋮ & ⋮ & ⋮ & ⋮ & ⋮ & ⋮\\\\\n\t 2019 & 40331 & COLEGIO SAN FRANCISCO DE VALLE HERMOSO          & 3 & -32.43532 & -71.21452 & 5111004  & -32.3058 & -71.0792 & 3.508776e-02\\\\\n\t 2019 & 40334 & AULA HOSPITALARIA AYUUKELEN EPU                 & 3 & -30.60430 & -71.19699 & 4551005  & -30.6006 & -71.2000 & 2.279056e-05\\\\\n\t 2019 & 40335 & AULA HOSPITALARIA AYUUKELEN                     & 3 & -29.90993 & -71.25119 & 290004   & -29.9175 & -71.2011 & 2.566140e-03\\\\\n\t 2019 & 40340 & LICEO DE ALTO DEL CARMEN                        & 6 & -28.77712 & -70.47270 & 3815004  & -28.9311 & -70.4614 & 2.383757e-02\\\\\n\t 2019 & 40343 & COLEGIO CREACION LA ARAUCANA PUERTO MONTT       & 3 & -41.46001 & -72.99403 & 10425001 & -41.4600 & -72.9378 & 3.161521e-03\\\\\n\t 2019 & 40351 & COLEGIO BOSQUEMAR                               & 3 & -41.48593 & -73.00022 & 10425001 & -41.4600 & -72.9378 & 4.569033e-03\\\\\n\t 2019 & 40352 & LICEO TEC.PROFESIONAL PEDRO AGUIRRE CERDA       & 2 & -32.85053 & -70.62036 & 5410002  & -32.8503 & -70.5094 & 1.231306e-02\\\\\n\t 2019 & 40370 & COLEGIO PUKALAN DE ALGARROBO                    & 3 & -33.39076 & -71.65353 & 330030   & -33.6550 & -71.6142 & 7.136825e-02\\\\\n\t 2019 & 40371 & COLEGIO SAN CARLOS DE LAS CABRAS                & 3 & -34.28748 & -71.30549 & 6019003  & -34.2731 & -71.3717 & 4.591144e-03\\\\\n\t 2019 & 40381 & COLEGIO ACONCAGUA EDUCA                         & 3 & -32.62484 & -70.71603 & 5410008  & -32.7472 & -70.7247 & 1.504743e-02\\\\\n\t 2019 & 40383 & ESCUELA BASICA MIL PAISAJES-QUEMCHI             & 2 & -42.14439 & -73.47622 & 10900001 & -42.1408 & -73.4731 & 2.261590e-05\\\\\n\t 2019 & 40390 & ESCUELA HOSPITALARIA ALIANZA                    & 3 & -40.58757 & -73.12832 & 10360002 & -40.5883 & -73.1069 & 4.593509e-04\\\\\n\t 2019 & 40395 & COLEGIO JOHN WALL HOLCOMB                       & 3 & -18.44785 & -70.29601 & 1310018  & -18.4775 & -70.3208 & 1.493475e-03\\\\\n\t 2019 & 40399 & COLEGIO NAZARET                                 & 3 & -20.24699 & -70.09577 & 200006   & -20.5397 & -70.1786 & 9.253943e-02\\\\\n\t 2019 & 40400 & CENTRO DE EDUCACION INTEGRAL DE ADULTOS SANTA   & 3 & -29.98690 & -71.34295 & 290004   & -29.9175 & -71.2011 & 2.493900e-02\\\\\n\t 2019 & 40403 & GREEN PARK SCHOOL                               & 3 & -40.54993 & -73.15798 & 10360002 & -40.5883 & -73.1069 & 4.080851e-03\\\\\n\t 2019 & 40406 & COLEGIO MADRE ISABEL LARRAÑAGA                  & 3 & -41.46998 & -72.94147 & 10425001 & -41.4600 & -72.9378 & 1.130993e-04\\\\\n\t 2019 & 40407 & CENTRO DE ESTUDIOS BORDEMAR                     & 3 & -32.78734 & -71.20732 & 5423003  & -32.8403 & -71.0256 & 3.582662e-02\\\\\n\t 2019 & 40409 & COLEGIO INTERCULTURAL LEONARDO DA VINCI         & 3 &  40.74259 & -73.86262 & 1000005  & -17.5950 & -69.4831 & 3.422455e+03\\\\\n\t 2019 & 40414 & CENTRO EDUC.DE INTEGRAC.DE ADULTOS NEWEN        & 3 & -33.49193 & -71.62071 & 330030   & -33.6550 & -71.6142 & 2.663447e-02\\\\\n\t 2019 & 40418 & COLEGIO YUMBREL                                 & 3 & -40.58021 & -73.15393 & 10360002 & -40.5883 & -73.1069 & 2.277440e-03\\\\\n\t 2019 & 40422 & COLEGIO NIRVANA                                 & 3 & -20.29301 & -70.09466 & 200006   & -20.5397 & -70.1786 & 6.790056e-02\\\\\n\t 2019 & 40423 & COLEGIO SAN JUAN                                & 3 & -41.86300 & -73.81933 & 10903003 & -41.8625 & -73.8192 & 2.650083e-07\\\\\n\t 2019 & 40424 & CENTRO EDUCACIONAL RAICES DE MI TIERRA          & 3 & -42.36173 & -73.67100 & 10900001 & -42.1408 & -73.4731 & 8.797531e-02\\\\\n\t 2019 & 40429 & LICEO TECNICO PROFESIONAL DE ADULTOS            & 1 & -20.22547 & -70.14873 & 200006   & -20.5397 & -70.1786 & 9.963530e-02\\\\\n\t 2019 & 40436 & COLEGIO DE LAS ARTES Y LETRAS BETHEL DE QUILPUE & 3 & -33.04818 & -71.43518 & 5510001  & -33.0503 & -71.5833 & 2.194336e-02\\\\\n\t 2019 & 40447 & CENTRO DE EDUCACION INTEGRADA DE ADULTOS AEK    & 3 & -41.77202 & -73.13271 & 410005   & -41.4350 & -73.0978 & 1.147982e-01\\\\\n\t 2018 & 40455 & COLEGIO PATAGONIA INSULAR                       & 3 & -42.48097 & -73.77376 & 10906004 & -42.6186 & -74.1081 & 1.307221e-01\\\\\n\t 2019 & 40457 & LICEO TECNICO PROFESIONAL PABLO NERUDA          & 3 & -42.48284 & -73.77352 & 10906004 & -42.6186 & -74.1081 & 1.303712e-01\\\\\n\t 2019 & 40459 & CENTRO EDUCACIONAL ALBORADA                     & 3 & -41.86468 & -73.82239 & 10903003 & -41.8625 & -73.8192 & 1.496043e-05\\\\\n\\end{tabular}\n",
            "text/markdown": "\nA data.frame: 8303 × 10\n\n| AGNO &lt;int&gt; | RBD &lt;int&gt; | NOM_RBD &lt;chr&gt; | COD_DEPE &lt;int&gt; | Latitud &lt;dbl&gt; | Longitud &lt;dbl&gt; | codigo_estacion &lt;chr&gt; | Lat_Estacion &lt;dbl&gt; | Lon_Estacion &lt;dbl&gt; | dist &lt;dbl&gt; |\n|---|---|---|---|---|---|---|---|---|---|\n| 2019 |  1 | LICEO POLITECNICO ARICA                 | 2 | -18.48719 | -70.29469 | 1310018 | -18.4775 | -70.3208 | 7.754443e-04 |\n| 2019 |  3 | ESC. PEDRO VICENTE GUTIERREZ TORRES     | 2 | -18.48696 | -70.30278 | 1310018 | -18.4775 | -70.3208 | 4.143417e-04 |\n| 2019 |  4 | LICEO OCTAVIO PALMA PEREZ               | 2 | -18.47417 | -70.30792 | 1310018 | -18.4775 | -70.3208 | 1.769885e-04 |\n| 2019 |  5 | JOVINA NARANJO FERNANDEZ                | 2 | -18.47680 | -70.31345 | 1310018 | -18.4775 | -70.3208 | 5.447059e-05 |\n| 2019 |  7 | L. POLI. ANTONIO VARAS DE LA BARRA      | 2 | -18.47595 | -70.28795 | 1310018 | -18.4775 | -70.3208 | 1.081556e-03 |\n| 2019 |  8 | COLEGIO INTEGRADO EDUARDO FREI MONTALVA | 2 | -18.48267 | -70.31737 | 1310018 | -18.4775 | -70.3208 | 3.852273e-05 |\n| 2019 |  9 | ESCUELA REPUBLICA DE ISRAEL             | 2 | -18.48696 | -70.30278 | 1310018 | -18.4775 | -70.3208 | 4.143417e-04 |\n| 2019 | 10 | ESCUELA REPUBLICA DE FRANCIA            | 2 | -18.47422 | -70.30892 | 1310018 | -18.4775 | -70.3208 | 1.518580e-04 |\n| 2019 | 11 | ESC. GRAL. PEDRO LAGOS MARCHANT         | 2 | -18.49111 | -70.31159 | 1310018 | -18.4775 | -70.3208 | 2.700022e-04 |\n| 2019 | 12 | ESCUELA GRAL JOSE MIGUEL CARRERA        | 2 | -18.49211 | -70.29398 | 1310018 | -18.4775 | -70.3208 | 9.327436e-04 |\n| 2019 | 13 | ESCUELA MANUEL RODRIGUEZ ERDOYZA        | 2 | -18.48109 | -70.28436 | 1310018 | -18.4775 | -70.3208 | 1.340497e-03 |\n| 2019 | 14 | ESCUELA ROMULO J. PENA MATURANA         | 2 | -18.48126 | -70.28984 | 1310018 | -18.4775 | -70.3208 | 9.725817e-04 |\n| 2019 | 15 | LICEO ARTISTICO DR. JUAN NOE CREVANI    | 2 | -18.47215 | -70.30100 | 1310018 | -18.4775 | -70.3208 | 4.205888e-04 |\n| 2019 | 16 | ESCUELA REGIMIENTO RANCAGUA             | 2 | -18.47491 | -70.30887 | 1310018 | -18.4775 | -70.3208 | 1.490841e-04 |\n| 2019 | 17 | ESCUELA SUBTTE. LUIS CRUZ MARTINEZ      | 2 | -18.46748 | -70.29117 | 1310018 | -18.4775 | -70.3208 | 9.783938e-04 |\n| 2019 | 18 | ESC. COMTE. JUAN JOSE SAN MARTIN        | 2 | -18.47678 | -70.28738 | 1310018 | -18.4775 | -70.3208 | 1.117326e-03 |\n| 2019 | 19 | ESC. HUMBERTO VALENZUELA GARCIA         | 2 | -18.47469 | -70.29190 | 1310018 | -18.4775 | -70.3208 | 8.430825e-04 |\n| 2019 | 20 | ESCUELA TUCAPEL                         | 2 | -18.47995 | -70.29504 | 1310018 | -18.4775 | -70.3208 | 6.695725e-04 |\n| 2019 | 22 | ESCUELA GABRIELA MISTRAL                | 2 | -18.44773 | -70.29087 | 1310018 | -18.4775 | -70.3208 | 1.781897e-03 |\n| 2019 | 25 | COLEGIO CENTENARIO DE ARICA             | 2 | -18.43982 | -70.29311 | 1310018 | -18.4775 | -70.3208 | 2.186930e-03 |\n| 2019 | 26 | ESCUELA REPUBLICA DE ARGENTINA          | 2 | -18.47830 | -70.30393 | 1310018 | -18.4775 | -70.3208 | 2.852159e-04 |\n| 2019 | 27 | ESCUELA ESMERALDA                       | 2 | -18.48325 | -70.30788 | 1310018 | -18.4775 | -70.3208 | 1.999244e-04 |\n| 2019 | 28 | ESCUELA RICARDO SILVA ARRIAGADA         | 2 | -18.48494 | -70.29446 | 1310018 | -18.4775 | -70.3208 | 7.490817e-04 |\n| 2019 | 29 | ESCUELA AMERICA                         | 2 | -18.47768 | -70.28265 | 1310018 | -18.4775 | -70.3208 | 1.455226e-03 |\n| 2019 | 31 | ESCUELA DARIO SALAS DIAZ                | 2 | -18.48292 | -70.29417 | 1310018 | -18.4775 | -70.3208 | 7.385556e-04 |\n| 2019 | 32 | LICEO AGRICOLA JOSE ABELARDO NUNEZ M.   | 2 | -18.51933 | -70.17844 | 1310019 | -18.5156 | -70.1806 | 1.860321e-05 |\n| 2019 | 33 | ESCUELA CARLOS CONDELL DE LA HAZA       | 2 | -18.41687 | -70.22534 | 1310019 | -18.5156 | -70.1806 | 1.174928e-02 |\n| 2019 | 35 | ESCUELA GRAL. MANUEL BAQUEDANO          | 2 | -18.47943 | -70.31854 | 1310018 | -18.4775 | -70.3208 | 8.820999e-06 |\n| 2019 | 36 | ESCUELA IGNACIO CARRERA PINTO           | 2 | -18.49660 | -70.28400 | 1310018 | -18.4775 | -70.3208 | 1.718771e-03 |\n| 2019 | 38 | ESCUELA ESPAÑA                          | 2 | -18.44773 | -70.29087 | 1310018 | -18.4775 | -70.3208 | 1.781897e-03 |\n| ⋮ | ⋮ | ⋮ | ⋮ | ⋮ | ⋮ | ⋮ | ⋮ | ⋮ | ⋮ |\n| 2019 | 40331 | COLEGIO SAN FRANCISCO DE VALLE HERMOSO          | 3 | -32.43532 | -71.21452 | 5111004  | -32.3058 | -71.0792 | 3.508776e-02 |\n| 2019 | 40334 | AULA HOSPITALARIA AYUUKELEN EPU                 | 3 | -30.60430 | -71.19699 | 4551005  | -30.6006 | -71.2000 | 2.279056e-05 |\n| 2019 | 40335 | AULA HOSPITALARIA AYUUKELEN                     | 3 | -29.90993 | -71.25119 | 290004   | -29.9175 | -71.2011 | 2.566140e-03 |\n| 2019 | 40340 | LICEO DE ALTO DEL CARMEN                        | 6 | -28.77712 | -70.47270 | 3815004  | -28.9311 | -70.4614 | 2.383757e-02 |\n| 2019 | 40343 | COLEGIO CREACION LA ARAUCANA PUERTO MONTT       | 3 | -41.46001 | -72.99403 | 10425001 | -41.4600 | -72.9378 | 3.161521e-03 |\n| 2019 | 40351 | COLEGIO BOSQUEMAR                               | 3 | -41.48593 | -73.00022 | 10425001 | -41.4600 | -72.9378 | 4.569033e-03 |\n| 2019 | 40352 | LICEO TEC.PROFESIONAL PEDRO AGUIRRE CERDA       | 2 | -32.85053 | -70.62036 | 5410002  | -32.8503 | -70.5094 | 1.231306e-02 |\n| 2019 | 40370 | COLEGIO PUKALAN DE ALGARROBO                    | 3 | -33.39076 | -71.65353 | 330030   | -33.6550 | -71.6142 | 7.136825e-02 |\n| 2019 | 40371 | COLEGIO SAN CARLOS DE LAS CABRAS                | 3 | -34.28748 | -71.30549 | 6019003  | -34.2731 | -71.3717 | 4.591144e-03 |\n| 2019 | 40381 | COLEGIO ACONCAGUA EDUCA                         | 3 | -32.62484 | -70.71603 | 5410008  | -32.7472 | -70.7247 | 1.504743e-02 |\n| 2019 | 40383 | ESCUELA BASICA MIL PAISAJES-QUEMCHI             | 2 | -42.14439 | -73.47622 | 10900001 | -42.1408 | -73.4731 | 2.261590e-05 |\n| 2019 | 40390 | ESCUELA HOSPITALARIA ALIANZA                    | 3 | -40.58757 | -73.12832 | 10360002 | -40.5883 | -73.1069 | 4.593509e-04 |\n| 2019 | 40395 | COLEGIO JOHN WALL HOLCOMB                       | 3 | -18.44785 | -70.29601 | 1310018  | -18.4775 | -70.3208 | 1.493475e-03 |\n| 2019 | 40399 | COLEGIO NAZARET                                 | 3 | -20.24699 | -70.09577 | 200006   | -20.5397 | -70.1786 | 9.253943e-02 |\n| 2019 | 40400 | CENTRO DE EDUCACION INTEGRAL DE ADULTOS SANTA   | 3 | -29.98690 | -71.34295 | 290004   | -29.9175 | -71.2011 | 2.493900e-02 |\n| 2019 | 40403 | GREEN PARK SCHOOL                               | 3 | -40.54993 | -73.15798 | 10360002 | -40.5883 | -73.1069 | 4.080851e-03 |\n| 2019 | 40406 | COLEGIO MADRE ISABEL LARRAÑAGA                  | 3 | -41.46998 | -72.94147 | 10425001 | -41.4600 | -72.9378 | 1.130993e-04 |\n| 2019 | 40407 | CENTRO DE ESTUDIOS BORDEMAR                     | 3 | -32.78734 | -71.20732 | 5423003  | -32.8403 | -71.0256 | 3.582662e-02 |\n| 2019 | 40409 | COLEGIO INTERCULTURAL LEONARDO DA VINCI         | 3 |  40.74259 | -73.86262 | 1000005  | -17.5950 | -69.4831 | 3.422455e+03 |\n| 2019 | 40414 | CENTRO EDUC.DE INTEGRAC.DE ADULTOS NEWEN        | 3 | -33.49193 | -71.62071 | 330030   | -33.6550 | -71.6142 | 2.663447e-02 |\n| 2019 | 40418 | COLEGIO YUMBREL                                 | 3 | -40.58021 | -73.15393 | 10360002 | -40.5883 | -73.1069 | 2.277440e-03 |\n| 2019 | 40422 | COLEGIO NIRVANA                                 | 3 | -20.29301 | -70.09466 | 200006   | -20.5397 | -70.1786 | 6.790056e-02 |\n| 2019 | 40423 | COLEGIO SAN JUAN                                | 3 | -41.86300 | -73.81933 | 10903003 | -41.8625 | -73.8192 | 2.650083e-07 |\n| 2019 | 40424 | CENTRO EDUCACIONAL RAICES DE MI TIERRA          | 3 | -42.36173 | -73.67100 | 10900001 | -42.1408 | -73.4731 | 8.797531e-02 |\n| 2019 | 40429 | LICEO TECNICO PROFESIONAL DE ADULTOS            | 1 | -20.22547 | -70.14873 | 200006   | -20.5397 | -70.1786 | 9.963530e-02 |\n| 2019 | 40436 | COLEGIO DE LAS ARTES Y LETRAS BETHEL DE QUILPUE | 3 | -33.04818 | -71.43518 | 5510001  | -33.0503 | -71.5833 | 2.194336e-02 |\n| 2019 | 40447 | CENTRO DE EDUCACION INTEGRADA DE ADULTOS AEK    | 3 | -41.77202 | -73.13271 | 410005   | -41.4350 | -73.0978 | 1.147982e-01 |\n| 2018 | 40455 | COLEGIO PATAGONIA INSULAR                       | 3 | -42.48097 | -73.77376 | 10906004 | -42.6186 | -74.1081 | 1.307221e-01 |\n| 2019 | 40457 | LICEO TECNICO PROFESIONAL PABLO NERUDA          | 3 | -42.48284 | -73.77352 | 10906004 | -42.6186 | -74.1081 | 1.303712e-01 |\n| 2019 | 40459 | CENTRO EDUCACIONAL ALBORADA                     | 3 | -41.86468 | -73.82239 | 10903003 | -41.8625 | -73.8192 | 1.496043e-05 |\n\n",
            "text/html": [
              "<table class=\"dataframe\">\n",
              "<caption>A data.frame: 8303 × 10</caption>\n",
              "<thead>\n",
              "\t<tr><th scope=col>AGNO</th><th scope=col>RBD</th><th scope=col>NOM_RBD</th><th scope=col>COD_DEPE</th><th scope=col>Latitud</th><th scope=col>Longitud</th><th scope=col>codigo_estacion</th><th scope=col>Lat_Estacion</th><th scope=col>Lon_Estacion</th><th scope=col>dist</th></tr>\n",
              "\t<tr><th scope=col>&lt;int&gt;</th><th scope=col>&lt;int&gt;</th><th scope=col>&lt;chr&gt;</th><th scope=col>&lt;int&gt;</th><th scope=col>&lt;dbl&gt;</th><th scope=col>&lt;dbl&gt;</th><th scope=col>&lt;chr&gt;</th><th scope=col>&lt;dbl&gt;</th><th scope=col>&lt;dbl&gt;</th><th scope=col>&lt;dbl&gt;</th></tr>\n",
              "</thead>\n",
              "<tbody>\n",
              "\t<tr><td>2019</td><td> 1</td><td>LICEO POLITECNICO ARICA                </td><td>2</td><td>-18.48719</td><td>-70.29469</td><td>1310018</td><td>-18.4775</td><td>-70.3208</td><td>7.754443e-04</td></tr>\n",
              "\t<tr><td>2019</td><td> 3</td><td>ESC. PEDRO VICENTE GUTIERREZ TORRES    </td><td>2</td><td>-18.48696</td><td>-70.30278</td><td>1310018</td><td>-18.4775</td><td>-70.3208</td><td>4.143417e-04</td></tr>\n",
              "\t<tr><td>2019</td><td> 4</td><td>LICEO OCTAVIO PALMA PEREZ              </td><td>2</td><td>-18.47417</td><td>-70.30792</td><td>1310018</td><td>-18.4775</td><td>-70.3208</td><td>1.769885e-04</td></tr>\n",
              "\t<tr><td>2019</td><td> 5</td><td>JOVINA NARANJO FERNANDEZ               </td><td>2</td><td>-18.47680</td><td>-70.31345</td><td>1310018</td><td>-18.4775</td><td>-70.3208</td><td>5.447059e-05</td></tr>\n",
              "\t<tr><td>2019</td><td> 7</td><td>L. POLI. ANTONIO VARAS DE LA BARRA     </td><td>2</td><td>-18.47595</td><td>-70.28795</td><td>1310018</td><td>-18.4775</td><td>-70.3208</td><td>1.081556e-03</td></tr>\n",
              "\t<tr><td>2019</td><td> 8</td><td>COLEGIO INTEGRADO EDUARDO FREI MONTALVA</td><td>2</td><td>-18.48267</td><td>-70.31737</td><td>1310018</td><td>-18.4775</td><td>-70.3208</td><td>3.852273e-05</td></tr>\n",
              "\t<tr><td>2019</td><td> 9</td><td>ESCUELA REPUBLICA DE ISRAEL            </td><td>2</td><td>-18.48696</td><td>-70.30278</td><td>1310018</td><td>-18.4775</td><td>-70.3208</td><td>4.143417e-04</td></tr>\n",
              "\t<tr><td>2019</td><td>10</td><td>ESCUELA REPUBLICA DE FRANCIA           </td><td>2</td><td>-18.47422</td><td>-70.30892</td><td>1310018</td><td>-18.4775</td><td>-70.3208</td><td>1.518580e-04</td></tr>\n",
              "\t<tr><td>2019</td><td>11</td><td>ESC. GRAL. PEDRO LAGOS MARCHANT        </td><td>2</td><td>-18.49111</td><td>-70.31159</td><td>1310018</td><td>-18.4775</td><td>-70.3208</td><td>2.700022e-04</td></tr>\n",
              "\t<tr><td>2019</td><td>12</td><td>ESCUELA GRAL JOSE MIGUEL CARRERA       </td><td>2</td><td>-18.49211</td><td>-70.29398</td><td>1310018</td><td>-18.4775</td><td>-70.3208</td><td>9.327436e-04</td></tr>\n",
              "\t<tr><td>2019</td><td>13</td><td>ESCUELA MANUEL RODRIGUEZ ERDOYZA       </td><td>2</td><td>-18.48109</td><td>-70.28436</td><td>1310018</td><td>-18.4775</td><td>-70.3208</td><td>1.340497e-03</td></tr>\n",
              "\t<tr><td>2019</td><td>14</td><td>ESCUELA ROMULO J. PENA MATURANA        </td><td>2</td><td>-18.48126</td><td>-70.28984</td><td>1310018</td><td>-18.4775</td><td>-70.3208</td><td>9.725817e-04</td></tr>\n",
              "\t<tr><td>2019</td><td>15</td><td>LICEO ARTISTICO DR. JUAN NOE CREVANI   </td><td>2</td><td>-18.47215</td><td>-70.30100</td><td>1310018</td><td>-18.4775</td><td>-70.3208</td><td>4.205888e-04</td></tr>\n",
              "\t<tr><td>2019</td><td>16</td><td>ESCUELA REGIMIENTO RANCAGUA            </td><td>2</td><td>-18.47491</td><td>-70.30887</td><td>1310018</td><td>-18.4775</td><td>-70.3208</td><td>1.490841e-04</td></tr>\n",
              "\t<tr><td>2019</td><td>17</td><td>ESCUELA SUBTTE. LUIS CRUZ MARTINEZ     </td><td>2</td><td>-18.46748</td><td>-70.29117</td><td>1310018</td><td>-18.4775</td><td>-70.3208</td><td>9.783938e-04</td></tr>\n",
              "\t<tr><td>2019</td><td>18</td><td>ESC. COMTE. JUAN JOSE SAN MARTIN       </td><td>2</td><td>-18.47678</td><td>-70.28738</td><td>1310018</td><td>-18.4775</td><td>-70.3208</td><td>1.117326e-03</td></tr>\n",
              "\t<tr><td>2019</td><td>19</td><td>ESC. HUMBERTO VALENZUELA GARCIA        </td><td>2</td><td>-18.47469</td><td>-70.29190</td><td>1310018</td><td>-18.4775</td><td>-70.3208</td><td>8.430825e-04</td></tr>\n",
              "\t<tr><td>2019</td><td>20</td><td>ESCUELA TUCAPEL                        </td><td>2</td><td>-18.47995</td><td>-70.29504</td><td>1310018</td><td>-18.4775</td><td>-70.3208</td><td>6.695725e-04</td></tr>\n",
              "\t<tr><td>2019</td><td>22</td><td>ESCUELA GABRIELA MISTRAL               </td><td>2</td><td>-18.44773</td><td>-70.29087</td><td>1310018</td><td>-18.4775</td><td>-70.3208</td><td>1.781897e-03</td></tr>\n",
              "\t<tr><td>2019</td><td>25</td><td>COLEGIO CENTENARIO DE ARICA            </td><td>2</td><td>-18.43982</td><td>-70.29311</td><td>1310018</td><td>-18.4775</td><td>-70.3208</td><td>2.186930e-03</td></tr>\n",
              "\t<tr><td>2019</td><td>26</td><td>ESCUELA REPUBLICA DE ARGENTINA         </td><td>2</td><td>-18.47830</td><td>-70.30393</td><td>1310018</td><td>-18.4775</td><td>-70.3208</td><td>2.852159e-04</td></tr>\n",
              "\t<tr><td>2019</td><td>27</td><td>ESCUELA ESMERALDA                      </td><td>2</td><td>-18.48325</td><td>-70.30788</td><td>1310018</td><td>-18.4775</td><td>-70.3208</td><td>1.999244e-04</td></tr>\n",
              "\t<tr><td>2019</td><td>28</td><td>ESCUELA RICARDO SILVA ARRIAGADA        </td><td>2</td><td>-18.48494</td><td>-70.29446</td><td>1310018</td><td>-18.4775</td><td>-70.3208</td><td>7.490817e-04</td></tr>\n",
              "\t<tr><td>2019</td><td>29</td><td>ESCUELA AMERICA                        </td><td>2</td><td>-18.47768</td><td>-70.28265</td><td>1310018</td><td>-18.4775</td><td>-70.3208</td><td>1.455226e-03</td></tr>\n",
              "\t<tr><td>2019</td><td>31</td><td>ESCUELA DARIO SALAS DIAZ               </td><td>2</td><td>-18.48292</td><td>-70.29417</td><td>1310018</td><td>-18.4775</td><td>-70.3208</td><td>7.385556e-04</td></tr>\n",
              "\t<tr><td>2019</td><td>32</td><td>LICEO AGRICOLA JOSE ABELARDO NUNEZ M.  </td><td>2</td><td>-18.51933</td><td>-70.17844</td><td>1310019</td><td>-18.5156</td><td>-70.1806</td><td>1.860321e-05</td></tr>\n",
              "\t<tr><td>2019</td><td>33</td><td>ESCUELA CARLOS CONDELL DE LA HAZA      </td><td>2</td><td>-18.41687</td><td>-70.22534</td><td>1310019</td><td>-18.5156</td><td>-70.1806</td><td>1.174928e-02</td></tr>\n",
              "\t<tr><td>2019</td><td>35</td><td>ESCUELA GRAL. MANUEL BAQUEDANO         </td><td>2</td><td>-18.47943</td><td>-70.31854</td><td>1310018</td><td>-18.4775</td><td>-70.3208</td><td>8.820999e-06</td></tr>\n",
              "\t<tr><td>2019</td><td>36</td><td>ESCUELA IGNACIO CARRERA PINTO          </td><td>2</td><td>-18.49660</td><td>-70.28400</td><td>1310018</td><td>-18.4775</td><td>-70.3208</td><td>1.718771e-03</td></tr>\n",
              "\t<tr><td>2019</td><td>38</td><td>ESCUELA ESPAÑA                         </td><td>2</td><td>-18.44773</td><td>-70.29087</td><td>1310018</td><td>-18.4775</td><td>-70.3208</td><td>1.781897e-03</td></tr>\n",
              "\t<tr><td>⋮</td><td>⋮</td><td>⋮</td><td>⋮</td><td>⋮</td><td>⋮</td><td>⋮</td><td>⋮</td><td>⋮</td><td>⋮</td></tr>\n",
              "\t<tr><td>2019</td><td>40331</td><td>COLEGIO SAN FRANCISCO DE VALLE HERMOSO         </td><td>3</td><td>-32.43532</td><td>-71.21452</td><td>5111004 </td><td>-32.3058</td><td>-71.0792</td><td>3.508776e-02</td></tr>\n",
              "\t<tr><td>2019</td><td>40334</td><td>AULA HOSPITALARIA AYUUKELEN EPU                </td><td>3</td><td>-30.60430</td><td>-71.19699</td><td>4551005 </td><td>-30.6006</td><td>-71.2000</td><td>2.279056e-05</td></tr>\n",
              "\t<tr><td>2019</td><td>40335</td><td>AULA HOSPITALARIA AYUUKELEN                    </td><td>3</td><td>-29.90993</td><td>-71.25119</td><td>290004  </td><td>-29.9175</td><td>-71.2011</td><td>2.566140e-03</td></tr>\n",
              "\t<tr><td>2019</td><td>40340</td><td>LICEO DE ALTO DEL CARMEN                       </td><td>6</td><td>-28.77712</td><td>-70.47270</td><td>3815004 </td><td>-28.9311</td><td>-70.4614</td><td>2.383757e-02</td></tr>\n",
              "\t<tr><td>2019</td><td>40343</td><td>COLEGIO CREACION LA ARAUCANA PUERTO MONTT      </td><td>3</td><td>-41.46001</td><td>-72.99403</td><td>10425001</td><td>-41.4600</td><td>-72.9378</td><td>3.161521e-03</td></tr>\n",
              "\t<tr><td>2019</td><td>40351</td><td>COLEGIO BOSQUEMAR                              </td><td>3</td><td>-41.48593</td><td>-73.00022</td><td>10425001</td><td>-41.4600</td><td>-72.9378</td><td>4.569033e-03</td></tr>\n",
              "\t<tr><td>2019</td><td>40352</td><td>LICEO TEC.PROFESIONAL PEDRO AGUIRRE CERDA      </td><td>2</td><td>-32.85053</td><td>-70.62036</td><td>5410002 </td><td>-32.8503</td><td>-70.5094</td><td>1.231306e-02</td></tr>\n",
              "\t<tr><td>2019</td><td>40370</td><td>COLEGIO PUKALAN DE ALGARROBO                   </td><td>3</td><td>-33.39076</td><td>-71.65353</td><td>330030  </td><td>-33.6550</td><td>-71.6142</td><td>7.136825e-02</td></tr>\n",
              "\t<tr><td>2019</td><td>40371</td><td>COLEGIO SAN CARLOS DE LAS CABRAS               </td><td>3</td><td>-34.28748</td><td>-71.30549</td><td>6019003 </td><td>-34.2731</td><td>-71.3717</td><td>4.591144e-03</td></tr>\n",
              "\t<tr><td>2019</td><td>40381</td><td>COLEGIO ACONCAGUA EDUCA                        </td><td>3</td><td>-32.62484</td><td>-70.71603</td><td>5410008 </td><td>-32.7472</td><td>-70.7247</td><td>1.504743e-02</td></tr>\n",
              "\t<tr><td>2019</td><td>40383</td><td>ESCUELA BASICA MIL PAISAJES-QUEMCHI            </td><td>2</td><td>-42.14439</td><td>-73.47622</td><td>10900001</td><td>-42.1408</td><td>-73.4731</td><td>2.261590e-05</td></tr>\n",
              "\t<tr><td>2019</td><td>40390</td><td>ESCUELA HOSPITALARIA ALIANZA                   </td><td>3</td><td>-40.58757</td><td>-73.12832</td><td>10360002</td><td>-40.5883</td><td>-73.1069</td><td>4.593509e-04</td></tr>\n",
              "\t<tr><td>2019</td><td>40395</td><td>COLEGIO JOHN WALL HOLCOMB                      </td><td>3</td><td>-18.44785</td><td>-70.29601</td><td>1310018 </td><td>-18.4775</td><td>-70.3208</td><td>1.493475e-03</td></tr>\n",
              "\t<tr><td>2019</td><td>40399</td><td>COLEGIO NAZARET                                </td><td>3</td><td>-20.24699</td><td>-70.09577</td><td>200006  </td><td>-20.5397</td><td>-70.1786</td><td>9.253943e-02</td></tr>\n",
              "\t<tr><td>2019</td><td>40400</td><td>CENTRO DE EDUCACION INTEGRAL DE ADULTOS SANTA  </td><td>3</td><td>-29.98690</td><td>-71.34295</td><td>290004  </td><td>-29.9175</td><td>-71.2011</td><td>2.493900e-02</td></tr>\n",
              "\t<tr><td>2019</td><td>40403</td><td>GREEN PARK SCHOOL                              </td><td>3</td><td>-40.54993</td><td>-73.15798</td><td>10360002</td><td>-40.5883</td><td>-73.1069</td><td>4.080851e-03</td></tr>\n",
              "\t<tr><td>2019</td><td>40406</td><td>COLEGIO MADRE ISABEL LARRAÑAGA                 </td><td>3</td><td>-41.46998</td><td>-72.94147</td><td>10425001</td><td>-41.4600</td><td>-72.9378</td><td>1.130993e-04</td></tr>\n",
              "\t<tr><td>2019</td><td>40407</td><td>CENTRO DE ESTUDIOS BORDEMAR                    </td><td>3</td><td>-32.78734</td><td>-71.20732</td><td>5423003 </td><td>-32.8403</td><td>-71.0256</td><td>3.582662e-02</td></tr>\n",
              "\t<tr><td>2019</td><td>40409</td><td>COLEGIO INTERCULTURAL LEONARDO DA VINCI        </td><td>3</td><td> 40.74259</td><td>-73.86262</td><td>1000005 </td><td>-17.5950</td><td>-69.4831</td><td>3.422455e+03</td></tr>\n",
              "\t<tr><td>2019</td><td>40414</td><td>CENTRO EDUC.DE INTEGRAC.DE ADULTOS NEWEN       </td><td>3</td><td>-33.49193</td><td>-71.62071</td><td>330030  </td><td>-33.6550</td><td>-71.6142</td><td>2.663447e-02</td></tr>\n",
              "\t<tr><td>2019</td><td>40418</td><td>COLEGIO YUMBREL                                </td><td>3</td><td>-40.58021</td><td>-73.15393</td><td>10360002</td><td>-40.5883</td><td>-73.1069</td><td>2.277440e-03</td></tr>\n",
              "\t<tr><td>2019</td><td>40422</td><td>COLEGIO NIRVANA                                </td><td>3</td><td>-20.29301</td><td>-70.09466</td><td>200006  </td><td>-20.5397</td><td>-70.1786</td><td>6.790056e-02</td></tr>\n",
              "\t<tr><td>2019</td><td>40423</td><td>COLEGIO SAN JUAN                               </td><td>3</td><td>-41.86300</td><td>-73.81933</td><td>10903003</td><td>-41.8625</td><td>-73.8192</td><td>2.650083e-07</td></tr>\n",
              "\t<tr><td>2019</td><td>40424</td><td>CENTRO EDUCACIONAL RAICES DE MI TIERRA         </td><td>3</td><td>-42.36173</td><td>-73.67100</td><td>10900001</td><td>-42.1408</td><td>-73.4731</td><td>8.797531e-02</td></tr>\n",
              "\t<tr><td>2019</td><td>40429</td><td>LICEO TECNICO PROFESIONAL DE ADULTOS           </td><td>1</td><td>-20.22547</td><td>-70.14873</td><td>200006  </td><td>-20.5397</td><td>-70.1786</td><td>9.963530e-02</td></tr>\n",
              "\t<tr><td>2019</td><td>40436</td><td>COLEGIO DE LAS ARTES Y LETRAS BETHEL DE QUILPUE</td><td>3</td><td>-33.04818</td><td>-71.43518</td><td>5510001 </td><td>-33.0503</td><td>-71.5833</td><td>2.194336e-02</td></tr>\n",
              "\t<tr><td>2019</td><td>40447</td><td>CENTRO DE EDUCACION INTEGRADA DE ADULTOS AEK   </td><td>3</td><td>-41.77202</td><td>-73.13271</td><td>410005  </td><td>-41.4350</td><td>-73.0978</td><td>1.147982e-01</td></tr>\n",
              "\t<tr><td>2018</td><td>40455</td><td>COLEGIO PATAGONIA INSULAR                      </td><td>3</td><td>-42.48097</td><td>-73.77376</td><td>10906004</td><td>-42.6186</td><td>-74.1081</td><td>1.307221e-01</td></tr>\n",
              "\t<tr><td>2019</td><td>40457</td><td>LICEO TECNICO PROFESIONAL PABLO NERUDA         </td><td>3</td><td>-42.48284</td><td>-73.77352</td><td>10906004</td><td>-42.6186</td><td>-74.1081</td><td>1.303712e-01</td></tr>\n",
              "\t<tr><td>2019</td><td>40459</td><td>CENTRO EDUCACIONAL ALBORADA                    </td><td>3</td><td>-41.86468</td><td>-73.82239</td><td>10903003</td><td>-41.8625</td><td>-73.8192</td><td>1.496043e-05</td></tr>\n",
              "</tbody>\n",
              "</table>\n"
            ]
          },
          "metadata": {}
        }
      ]
    },
    {
      "cell_type": "code",
      "metadata": {
        "colab": {
          "base_uri": "https://localhost:8080/",
          "height": 405
        },
        "id": "Rxv-aO1LGnnW",
        "outputId": "afbae580-fa78-4a49-ec82-6a3dd5692890"
      },
      "source": [
        "dbGetQuery(conn,\"select * from ESTUDIAEN limit 10\")\n"
      ],
      "execution_count": null,
      "outputs": [
        {
          "output_type": "display_data",
          "data": {
            "text/plain": [
              "   MRUN RBD  AGNO MES_ESCOLAR COD_ENSE COD_GRADO DIAS_TRABAJADOS ASIS_PROMEDIO\n",
              "1  17   8505 2015  3          610      2         20              0.7500       \n",
              "2  17   8505 2015  4          610      2         21              0.6667       \n",
              "3  17   8505 2015  5          610      2         17              0.5294       \n",
              "4  17   8505 2015  6          610      2         16              0.7500       \n",
              "5  17   8505 2015  7          610      2         11              0.9091       \n",
              "6  17   8505 2015  8          610      2         21              0.8095       \n",
              "7  17   8505 2015  9          610      2         20              0.7000       \n",
              "8  17   8505 2015 10          610      2         21              0.5238       \n",
              "9  17   8505 2015 11          610      2         21              0.8095       \n",
              "10 17   8505 2015 12          610      2         11              0.8182       "
            ],
            "text/latex": "A data.frame: 10 × 8\n\\begin{tabular}{llllllll}\n MRUN & RBD & AGNO & MES\\_ESCOLAR & COD\\_ENSE & COD\\_GRADO & DIAS\\_TRABAJADOS & ASIS\\_PROMEDIO\\\\\n <int> & <int> & <int> & <int> & <int> & <int> & <int> & <dbl>\\\\\n\\hline\n\t 17 & 8505 & 2015 &  3 & 610 & 2 & 20 & 0.7500\\\\\n\t 17 & 8505 & 2015 &  4 & 610 & 2 & 21 & 0.6667\\\\\n\t 17 & 8505 & 2015 &  5 & 610 & 2 & 17 & 0.5294\\\\\n\t 17 & 8505 & 2015 &  6 & 610 & 2 & 16 & 0.7500\\\\\n\t 17 & 8505 & 2015 &  7 & 610 & 2 & 11 & 0.9091\\\\\n\t 17 & 8505 & 2015 &  8 & 610 & 2 & 21 & 0.8095\\\\\n\t 17 & 8505 & 2015 &  9 & 610 & 2 & 20 & 0.7000\\\\\n\t 17 & 8505 & 2015 & 10 & 610 & 2 & 21 & 0.5238\\\\\n\t 17 & 8505 & 2015 & 11 & 610 & 2 & 21 & 0.8095\\\\\n\t 17 & 8505 & 2015 & 12 & 610 & 2 & 11 & 0.8182\\\\\n\\end{tabular}\n",
            "text/markdown": "\nA data.frame: 10 × 8\n\n| MRUN &lt;int&gt; | RBD &lt;int&gt; | AGNO &lt;int&gt; | MES_ESCOLAR &lt;int&gt; | COD_ENSE &lt;int&gt; | COD_GRADO &lt;int&gt; | DIAS_TRABAJADOS &lt;int&gt; | ASIS_PROMEDIO &lt;dbl&gt; |\n|---|---|---|---|---|---|---|---|\n| 17 | 8505 | 2015 |  3 | 610 | 2 | 20 | 0.7500 |\n| 17 | 8505 | 2015 |  4 | 610 | 2 | 21 | 0.6667 |\n| 17 | 8505 | 2015 |  5 | 610 | 2 | 17 | 0.5294 |\n| 17 | 8505 | 2015 |  6 | 610 | 2 | 16 | 0.7500 |\n| 17 | 8505 | 2015 |  7 | 610 | 2 | 11 | 0.9091 |\n| 17 | 8505 | 2015 |  8 | 610 | 2 | 21 | 0.8095 |\n| 17 | 8505 | 2015 |  9 | 610 | 2 | 20 | 0.7000 |\n| 17 | 8505 | 2015 | 10 | 610 | 2 | 21 | 0.5238 |\n| 17 | 8505 | 2015 | 11 | 610 | 2 | 21 | 0.8095 |\n| 17 | 8505 | 2015 | 12 | 610 | 2 | 11 | 0.8182 |\n\n",
            "text/html": [
              "<table class=\"dataframe\">\n",
              "<caption>A data.frame: 10 × 8</caption>\n",
              "<thead>\n",
              "\t<tr><th scope=col>MRUN</th><th scope=col>RBD</th><th scope=col>AGNO</th><th scope=col>MES_ESCOLAR</th><th scope=col>COD_ENSE</th><th scope=col>COD_GRADO</th><th scope=col>DIAS_TRABAJADOS</th><th scope=col>ASIS_PROMEDIO</th></tr>\n",
              "\t<tr><th scope=col>&lt;int&gt;</th><th scope=col>&lt;int&gt;</th><th scope=col>&lt;int&gt;</th><th scope=col>&lt;int&gt;</th><th scope=col>&lt;int&gt;</th><th scope=col>&lt;int&gt;</th><th scope=col>&lt;int&gt;</th><th scope=col>&lt;dbl&gt;</th></tr>\n",
              "</thead>\n",
              "<tbody>\n",
              "\t<tr><td>17</td><td>8505</td><td>2015</td><td> 3</td><td>610</td><td>2</td><td>20</td><td>0.7500</td></tr>\n",
              "\t<tr><td>17</td><td>8505</td><td>2015</td><td> 4</td><td>610</td><td>2</td><td>21</td><td>0.6667</td></tr>\n",
              "\t<tr><td>17</td><td>8505</td><td>2015</td><td> 5</td><td>610</td><td>2</td><td>17</td><td>0.5294</td></tr>\n",
              "\t<tr><td>17</td><td>8505</td><td>2015</td><td> 6</td><td>610</td><td>2</td><td>16</td><td>0.7500</td></tr>\n",
              "\t<tr><td>17</td><td>8505</td><td>2015</td><td> 7</td><td>610</td><td>2</td><td>11</td><td>0.9091</td></tr>\n",
              "\t<tr><td>17</td><td>8505</td><td>2015</td><td> 8</td><td>610</td><td>2</td><td>21</td><td>0.8095</td></tr>\n",
              "\t<tr><td>17</td><td>8505</td><td>2015</td><td> 9</td><td>610</td><td>2</td><td>20</td><td>0.7000</td></tr>\n",
              "\t<tr><td>17</td><td>8505</td><td>2015</td><td>10</td><td>610</td><td>2</td><td>21</td><td>0.5238</td></tr>\n",
              "\t<tr><td>17</td><td>8505</td><td>2015</td><td>11</td><td>610</td><td>2</td><td>21</td><td>0.8095</td></tr>\n",
              "\t<tr><td>17</td><td>8505</td><td>2015</td><td>12</td><td>610</td><td>2</td><td>11</td><td>0.8182</td></tr>\n",
              "</tbody>\n",
              "</table>\n"
            ]
          },
          "metadata": {}
        }
      ]
    },
    {
      "cell_type": "code",
      "metadata": {
        "colab": {
          "base_uri": "https://localhost:8080/",
          "height": 405
        },
        "id": "qKOAng3dGr4p",
        "outputId": "07e8317a-9e36-4aa9-8b2b-beff83732ffc"
      },
      "source": [
        "dbGetQuery(conn,\"select * from Precipitacion limit 10\")\n"
      ],
      "execution_count": null,
      "outputs": [
        {
          "output_type": "display_data",
          "data": {
            "text/plain": [
              "   codigo_estacion nombre  latitud longitud Año  Mes Precipitacion\n",
              "1  1000005         Visviri -17.595 -69.4831 2015  1   53.2        \n",
              "2  1000005         Visviri -17.595 -69.4831 2015  2  107.0        \n",
              "3  1000005         Visviri -17.595 -69.4831 2015  3  118.8        \n",
              "4  1000005         Visviri -17.595 -69.4831 2015  4   46.8        \n",
              "5  1000005         Visviri -17.595 -69.4831 2015  5    0.0        \n",
              "6  1000005         Visviri -17.595 -69.4831 2015  6    0.0        \n",
              "7  1000005         Visviri -17.595 -69.4831 2015  7    5.0        \n",
              "8  1000005         Visviri -17.595 -69.4831 2015  8    1.4        \n",
              "9  1000005         Visviri -17.595 -69.4831 2015  9    5.0        \n",
              "10 1000005         Visviri -17.595 -69.4831 2015 10    5.8        "
            ],
            "text/latex": "A data.frame: 10 × 7\n\\begin{tabular}{lllllll}\n codigo\\_estacion & nombre & latitud & longitud & Año & Mes & Precipitacion\\\\\n <chr> & <chr> & <dbl> & <dbl> & <dbl> & <dbl> & <dbl>\\\\\n\\hline\n\t 1000005 & Visviri & -17.595 & -69.4831 & 2015 &  1 &  53.2\\\\\n\t 1000005 & Visviri & -17.595 & -69.4831 & 2015 &  2 & 107.0\\\\\n\t 1000005 & Visviri & -17.595 & -69.4831 & 2015 &  3 & 118.8\\\\\n\t 1000005 & Visviri & -17.595 & -69.4831 & 2015 &  4 &  46.8\\\\\n\t 1000005 & Visviri & -17.595 & -69.4831 & 2015 &  5 &   0.0\\\\\n\t 1000005 & Visviri & -17.595 & -69.4831 & 2015 &  6 &   0.0\\\\\n\t 1000005 & Visviri & -17.595 & -69.4831 & 2015 &  7 &   5.0\\\\\n\t 1000005 & Visviri & -17.595 & -69.4831 & 2015 &  8 &   1.4\\\\\n\t 1000005 & Visviri & -17.595 & -69.4831 & 2015 &  9 &   5.0\\\\\n\t 1000005 & Visviri & -17.595 & -69.4831 & 2015 & 10 &   5.8\\\\\n\\end{tabular}\n",
            "text/markdown": "\nA data.frame: 10 × 7\n\n| codigo_estacion &lt;chr&gt; | nombre &lt;chr&gt; | latitud &lt;dbl&gt; | longitud &lt;dbl&gt; | Año &lt;dbl&gt; | Mes &lt;dbl&gt; | Precipitacion &lt;dbl&gt; |\n|---|---|---|---|---|---|---|\n| 1000005 | Visviri | -17.595 | -69.4831 | 2015 |  1 |  53.2 |\n| 1000005 | Visviri | -17.595 | -69.4831 | 2015 |  2 | 107.0 |\n| 1000005 | Visviri | -17.595 | -69.4831 | 2015 |  3 | 118.8 |\n| 1000005 | Visviri | -17.595 | -69.4831 | 2015 |  4 |  46.8 |\n| 1000005 | Visviri | -17.595 | -69.4831 | 2015 |  5 |   0.0 |\n| 1000005 | Visviri | -17.595 | -69.4831 | 2015 |  6 |   0.0 |\n| 1000005 | Visviri | -17.595 | -69.4831 | 2015 |  7 |   5.0 |\n| 1000005 | Visviri | -17.595 | -69.4831 | 2015 |  8 |   1.4 |\n| 1000005 | Visviri | -17.595 | -69.4831 | 2015 |  9 |   5.0 |\n| 1000005 | Visviri | -17.595 | -69.4831 | 2015 | 10 |   5.8 |\n\n",
            "text/html": [
              "<table class=\"dataframe\">\n",
              "<caption>A data.frame: 10 × 7</caption>\n",
              "<thead>\n",
              "\t<tr><th scope=col>codigo_estacion</th><th scope=col>nombre</th><th scope=col>latitud</th><th scope=col>longitud</th><th scope=col>Año</th><th scope=col>Mes</th><th scope=col>Precipitacion</th></tr>\n",
              "\t<tr><th scope=col>&lt;chr&gt;</th><th scope=col>&lt;chr&gt;</th><th scope=col>&lt;dbl&gt;</th><th scope=col>&lt;dbl&gt;</th><th scope=col>&lt;dbl&gt;</th><th scope=col>&lt;dbl&gt;</th><th scope=col>&lt;dbl&gt;</th></tr>\n",
              "</thead>\n",
              "<tbody>\n",
              "\t<tr><td>1000005</td><td>Visviri</td><td>-17.595</td><td>-69.4831</td><td>2015</td><td> 1</td><td> 53.2</td></tr>\n",
              "\t<tr><td>1000005</td><td>Visviri</td><td>-17.595</td><td>-69.4831</td><td>2015</td><td> 2</td><td>107.0</td></tr>\n",
              "\t<tr><td>1000005</td><td>Visviri</td><td>-17.595</td><td>-69.4831</td><td>2015</td><td> 3</td><td>118.8</td></tr>\n",
              "\t<tr><td>1000005</td><td>Visviri</td><td>-17.595</td><td>-69.4831</td><td>2015</td><td> 4</td><td> 46.8</td></tr>\n",
              "\t<tr><td>1000005</td><td>Visviri</td><td>-17.595</td><td>-69.4831</td><td>2015</td><td> 5</td><td>  0.0</td></tr>\n",
              "\t<tr><td>1000005</td><td>Visviri</td><td>-17.595</td><td>-69.4831</td><td>2015</td><td> 6</td><td>  0.0</td></tr>\n",
              "\t<tr><td>1000005</td><td>Visviri</td><td>-17.595</td><td>-69.4831</td><td>2015</td><td> 7</td><td>  5.0</td></tr>\n",
              "\t<tr><td>1000005</td><td>Visviri</td><td>-17.595</td><td>-69.4831</td><td>2015</td><td> 8</td><td>  1.4</td></tr>\n",
              "\t<tr><td>1000005</td><td>Visviri</td><td>-17.595</td><td>-69.4831</td><td>2015</td><td> 9</td><td>  5.0</td></tr>\n",
              "\t<tr><td>1000005</td><td>Visviri</td><td>-17.595</td><td>-69.4831</td><td>2015</td><td>10</td><td>  5.8</td></tr>\n",
              "</tbody>\n",
              "</table>\n"
            ]
          },
          "metadata": {}
        }
      ]
    },
    {
      "cell_type": "code",
      "metadata": {
        "id": "BG9Z8Jk9iPGB"
      },
      "source": [
        "q<-dbSendQuery(conn, \"\n",
        "select\n",
        "ESTUDIAEN.ASIS_PROMEDIO,\n",
        "colegios_full.latitud,\n",
        "Precipitacion.Precipitacion\n",
        "from ESTUDIAEN, colegios_full, Precipitacion\n",
        "where ESTUDIAEN.RBD=colegios_full.RBD and\n",
        "colegios_full.codigo_estacion=Precipitacion.codigo_estacion and\n",
        "ESTUDIAEN.AGNO=Precipitacion.Año and\n",
        "ESTUDIAEN.MES_ESCOLAR=Precipitacion.Mes\n",
        "\")"
      ],
      "execution_count": null,
      "outputs": []
    },
    {
      "cell_type": "markdown",
      "metadata": {
        "id": "8lv9-F8TJPWx"
      },
      "source": [
        "# Regresion"
      ]
    },
    {
      "cell_type": "markdown",
      "metadata": {
        "id": "pRPWJxQwt8g6"
      },
      "source": [
        "dbSendQuery: "
      ]
    },
    {
      "cell_type": "code",
      "metadata": {
        "id": "0T3rUS4Et7mm"
      },
      "source": [
        ""
      ],
      "execution_count": null,
      "outputs": []
    },
    {
      "cell_type": "code",
      "metadata": {
        "colab": {
          "base_uri": "https://localhost:8080/"
        },
        "id": "mOhmFUu_tvJr",
        "outputId": "c1293c07-7c5e-4eab-efc1-f73ad95b15df"
      },
      "source": [
        "conection<-dbSendQuery(conn, \"\n",
        "                          select\n",
        "                          ESTUDIAEN.ASIS_PROMEDIO,\n",
        "                          colegios_full.latitud,\n",
        "                          Precipitacion.Precipitacion\n",
        "                          from ESTUDIAEN, colegios_full, Precipitacion\n",
        "                          where ESTUDIAEN.RBD=colegios_full.RBD and\n",
        "                          colegios_full.codigo_estacion=Precipitacion.codigo_estacion and\n",
        "                          ESTUDIAEN.AGNO=Precipitacion.Año and\n",
        "                          ESTUDIAEN.MES_ESCOLAR=Precipitacion.Mes\n",
        "                          limit 12000\n",
        "                          \")"
      ],
      "execution_count": null,
      "outputs": [
        {
          "output_type": "stream",
          "text": [
            "Warning message:\n",
            "“Closing open result set, pending rows”\n"
          ],
          "name": "stderr"
        }
      ]
    },
    {
      "cell_type": "markdown",
      "metadata": {
        "id": "jndsELs2vix1"
      },
      "source": [
        "ASIS_PROMEDIO=0.7521-0.002685*Latitud-0.0001125*Precipitacion"
      ]
    },
    {
      "cell_type": "code",
      "metadata": {
        "colab": {
          "base_uri": "https://localhost:8080/",
          "height": 420
        },
        "id": "Wwhd4vm8uKQ2",
        "outputId": "8b70ea61-5c6e-4b2d-ea3e-96b4e0c75eb1"
      },
      "source": [
        "m1<-glm(ASIS_PROMEDIO~Latitud+Precipitacion, data=dbFetch(conection, 6000))\n",
        "summary(m1)"
      ],
      "execution_count": null,
      "outputs": [
        {
          "output_type": "display_data",
          "data": {
            "text/plain": [
              "\n",
              "Call:\n",
              "glm(formula = ASIS_PROMEDIO ~ Latitud + Precipitacion, data = dbFetch(conection, \n",
              "    6000))\n",
              "\n",
              "Deviance Residuals: \n",
              "     Min        1Q    Median        3Q       Max  \n",
              "-0.89219  -0.02048   0.10816   0.15818   0.20659  \n",
              "\n",
              "Coefficients:\n",
              "                Estimate Std. Error t value Pr(>|t|)    \n",
              "(Intercept)    7.521e-01  2.135e-02  35.230  < 2e-16 ***\n",
              "Latitud       -2.685e-03  6.304e-04  -4.259 2.08e-05 ***\n",
              "Precipitacion -1.125e-04  4.734e-05  -2.377   0.0175 *  \n",
              "---\n",
              "Signif. codes:  0 ‘***’ 0.001 ‘**’ 0.01 ‘*’ 0.05 ‘.’ 0.1 ‘ ’ 1\n",
              "\n",
              "(Dispersion parameter for gaussian family taken to be 0.07488802)\n",
              "\n",
              "    Null deviance: 450.52  on 5999  degrees of freedom\n",
              "Residual deviance: 449.10  on 5997  degrees of freedom\n",
              "AIC: 1481.7\n",
              "\n",
              "Number of Fisher Scoring iterations: 2\n"
            ]
          },
          "metadata": {}
        }
      ]
    },
    {
      "cell_type": "code",
      "metadata": {
        "colab": {
          "base_uri": "https://localhost:8080/",
          "height": 34
        },
        "id": "lBIfJn9xwbxX",
        "outputId": "e5958774-e37f-4895-a9c5-13f33c01de25"
      },
      "source": [
        "coefficients(m1)"
      ],
      "execution_count": null,
      "outputs": [
        {
          "output_type": "display_data",
          "data": {
            "text/plain": [
              "  (Intercept)       Latitud Precipitacion \n",
              " 0.7521474445 -0.0026849993 -0.0001125419 "
            ],
            "text/latex": "\\begin{description*}\n\\item[(Intercept)] 0.752147444486218\n\\item[Latitud] -0.00268499926190607\n\\item[Precipitacion] -0.000112541867440652\n\\end{description*}\n",
            "text/markdown": "(Intercept)\n:   0.752147444486218Latitud\n:   -0.00268499926190607Precipitacion\n:   -0.000112541867440652\n\n",
            "text/html": [
              "<style>\n",
              ".dl-inline {width: auto; margin:0; padding: 0}\n",
              ".dl-inline>dt, .dl-inline>dd {float: none; width: auto; display: inline-block}\n",
              ".dl-inline>dt::after {content: \":\\0020\"; padding-right: .5ex}\n",
              ".dl-inline>dt:not(:first-of-type) {padding-left: .5ex}\n",
              "</style><dl class=dl-inline><dt>(Intercept)</dt><dd>0.752147444486218</dd><dt>Latitud</dt><dd>-0.00268499926190607</dd><dt>Precipitacion</dt><dd>-0.000112541867440652</dd></dl>\n"
            ]
          },
          "metadata": {}
        }
      ]
    },
    {
      "cell_type": "code",
      "metadata": {
        "colab": {
          "base_uri": "https://localhost:8080/"
        },
        "id": "t5johw-CJWhh",
        "outputId": "56f077f3-09a3-493a-a91f-5dea09bb718e"
      },
      "source": [
        "install.packages(\"speedglm\")"
      ],
      "execution_count": null,
      "outputs": [
        {
          "output_type": "stream",
          "text": [
            "Installing package into ‘/usr/local/lib/R/site-library’\n",
            "(as ‘lib’ is unspecified)\n",
            "\n"
          ],
          "name": "stderr"
        }
      ]
    },
    {
      "cell_type": "code",
      "metadata": {
        "id": "i14FGd0lJURS"
      },
      "source": [
        "library(speedglm)"
      ],
      "execution_count": null,
      "outputs": []
    },
    {
      "cell_type": "code",
      "metadata": {
        "id": "Zb7pxXuiJei2"
      },
      "source": [
        " make.data<-function(chunksize){       \n",
        "     conection<-NULL\n",
        "     function(reset=FALSE){\n",
        "     if(reset){\n",
        "       conn <- dbConnect(RSQLite::SQLite(), \"mineduc.db\")\n",
        "       conection<<-dbSendQuery(conn, \"\n",
        "                                  select\n",
        "                                  ESTUDIAEN.ASIS_PROMEDIO,\n",
        "                                  colegios_full.latitud,\n",
        "                                  Precipitacion.Precipitacion\n",
        "                                  from ESTUDIAEN, colegios_full, Precipitacion\n",
        "                                  where ESTUDIAEN.RBD=colegios_full.RBD and\n",
        "                                  colegios_full.codigo_estacion=Precipitacion.codigo_estacion and\n",
        "                                  ESTUDIAEN.AGNO=Precipitacion.Año and\n",
        "                                  ESTUDIAEN.MES_ESCOLAR=Precipitacion.Mes\n",
        "                                  \")\n",
        "     } else{\n",
        "       rval<-dbFetch(conection,chunksize)\n",
        "       if ((nrow(rval)==0)) {\n",
        "            conection<<-NULL\n",
        "            rval<-NULL\n",
        "       }\n",
        "       return(rval)\n",
        "     }\n",
        "  }\n",
        "}"
      ],
      "execution_count": null,
      "outputs": []
    },
    {
      "cell_type": "code",
      "metadata": {
        "colab": {
          "base_uri": "https://localhost:8080/",
          "height": 1000
        },
        "id": "HNCA8a8PD6hV",
        "outputId": "b639aabb-39cb-4e0d-84b8-010bf9d217da"
      },
      "source": [
        "da<-make.data(chunksize=50)\n",
        "\n",
        "da(reset=T) #1: opens the connection to \"data1.txt\"\n",
        "da(reset=F) #2: reads the first 50 rows (out of 120) of the dataset\n",
        "da(reset=F) #3: reads the second 50 rows (out of 120) of the dataset\n",
        "da(reset=F) #3: reads the last 20 rows (out of 120) of the dataset\n",
        "da(reset=F) #4: is NULL: this latter command closes the connection\n",
        "\n",
        "\n"
      ],
      "execution_count": null,
      "outputs": [
        {
          "output_type": "display_data",
          "data": {
            "text/plain": [
              "   ASIS_PROMEDIO Latitud   Precipitacion\n",
              "1  0.7500        -33.44102   7.4        \n",
              "2  0.6667        -33.44102   0.0        \n",
              "3  0.5294        -33.44102   2.0        \n",
              "4  0.7500        -33.44102   0.0        \n",
              "5  0.9091        -33.44102  38.3        \n",
              "6  0.8095        -33.44102 111.4        \n",
              "7  0.7000        -33.44102  23.7        \n",
              "8  0.5238        -33.44102  27.7        \n",
              "9  0.8095        -33.44102   4.5        \n",
              "10 0.8182        -33.44102   0.0        \n",
              "11 0.8000        -33.44102   0.0        \n",
              "12 0.8500        -33.44102 109.2        \n",
              "13 0.7727        -33.44102  20.5        \n",
              "14 0.8095        -33.44102  38.4        \n",
              "15 0.7778        -33.44102  50.2        \n",
              "16 0.8636        -33.44102   0.0        \n",
              "17 0.4500        -33.44102   0.4        \n",
              "18 0.6316        -33.44102  16.2        \n",
              "19 0.6667        -33.44102   0.0        \n",
              "20 0.9231        -33.44102  23.6        \n",
              "21 0.8500        -33.44102   0.0        \n",
              "22 0.7778        -33.44102   5.6        \n",
              "23 0.4545        -33.44102  55.6        \n",
              "24 0.1905        -33.44102  73.2        \n",
              "25 0.4444        -33.44102  30.7        \n",
              "26 0.7619        -33.44102  50.4        \n",
              "27 0.6250        -33.44102  27.3        \n",
              "28 0.7368        -33.44102  35.5        \n",
              "29 0.5714        -33.44102   0.1        \n",
              "30 0.0000        -33.44102   0.0        \n",
              "31 0.8500        -33.41425   7.4        \n",
              "32 0.9048        -33.41425   0.0        \n",
              "33 0.9444        -33.41425   2.0        \n",
              "34 0.0000        -33.41425   0.0        \n",
              "35 1.0000        -33.41425  38.3        \n",
              "36 0.9524        -33.41425 111.4        \n",
              "37 1.0000        -33.41425  23.7        \n",
              "38 0.9048        -33.41425  27.7        \n",
              "39 1.0000        -33.41425   4.5        \n",
              "40 1.0000        -33.41425   0.0        \n",
              "41 0.9000        -33.41425   0.0        \n",
              "42 0.9500        -33.41425 109.2        \n",
              "43 0.9091        -33.41425  20.5        \n",
              "44 0.6190        -33.41425  38.4        \n",
              "45 0.5556        -33.41425  50.2        \n",
              "46 0.9091        -33.41425   0.0        \n",
              "47 0.7647        -33.41425   0.4        \n",
              "48 0.2632        -33.41425  16.2        \n",
              "49 0.8750        -33.41425   0.0        \n",
              "50 0.0000        -33.41425  23.6        "
            ],
            "text/latex": "A data.frame: 50 × 3\n\\begin{tabular}{lll}\n ASIS\\_PROMEDIO & Latitud & Precipitacion\\\\\n <dbl> & <dbl> & <dbl>\\\\\n\\hline\n\t 0.7500 & -33.44102 &   7.4\\\\\n\t 0.6667 & -33.44102 &   0.0\\\\\n\t 0.5294 & -33.44102 &   2.0\\\\\n\t 0.7500 & -33.44102 &   0.0\\\\\n\t 0.9091 & -33.44102 &  38.3\\\\\n\t 0.8095 & -33.44102 & 111.4\\\\\n\t 0.7000 & -33.44102 &  23.7\\\\\n\t 0.5238 & -33.44102 &  27.7\\\\\n\t 0.8095 & -33.44102 &   4.5\\\\\n\t 0.8182 & -33.44102 &   0.0\\\\\n\t 0.8000 & -33.44102 &   0.0\\\\\n\t 0.8500 & -33.44102 & 109.2\\\\\n\t 0.7727 & -33.44102 &  20.5\\\\\n\t 0.8095 & -33.44102 &  38.4\\\\\n\t 0.7778 & -33.44102 &  50.2\\\\\n\t 0.8636 & -33.44102 &   0.0\\\\\n\t 0.4500 & -33.44102 &   0.4\\\\\n\t 0.6316 & -33.44102 &  16.2\\\\\n\t 0.6667 & -33.44102 &   0.0\\\\\n\t 0.9231 & -33.44102 &  23.6\\\\\n\t 0.8500 & -33.44102 &   0.0\\\\\n\t 0.7778 & -33.44102 &   5.6\\\\\n\t 0.4545 & -33.44102 &  55.6\\\\\n\t 0.1905 & -33.44102 &  73.2\\\\\n\t 0.4444 & -33.44102 &  30.7\\\\\n\t 0.7619 & -33.44102 &  50.4\\\\\n\t 0.6250 & -33.44102 &  27.3\\\\\n\t 0.7368 & -33.44102 &  35.5\\\\\n\t 0.5714 & -33.44102 &   0.1\\\\\n\t 0.0000 & -33.44102 &   0.0\\\\\n\t 0.8500 & -33.41425 &   7.4\\\\\n\t 0.9048 & -33.41425 &   0.0\\\\\n\t 0.9444 & -33.41425 &   2.0\\\\\n\t 0.0000 & -33.41425 &   0.0\\\\\n\t 1.0000 & -33.41425 &  38.3\\\\\n\t 0.9524 & -33.41425 & 111.4\\\\\n\t 1.0000 & -33.41425 &  23.7\\\\\n\t 0.9048 & -33.41425 &  27.7\\\\\n\t 1.0000 & -33.41425 &   4.5\\\\\n\t 1.0000 & -33.41425 &   0.0\\\\\n\t 0.9000 & -33.41425 &   0.0\\\\\n\t 0.9500 & -33.41425 & 109.2\\\\\n\t 0.9091 & -33.41425 &  20.5\\\\\n\t 0.6190 & -33.41425 &  38.4\\\\\n\t 0.5556 & -33.41425 &  50.2\\\\\n\t 0.9091 & -33.41425 &   0.0\\\\\n\t 0.7647 & -33.41425 &   0.4\\\\\n\t 0.2632 & -33.41425 &  16.2\\\\\n\t 0.8750 & -33.41425 &   0.0\\\\\n\t 0.0000 & -33.41425 &  23.6\\\\\n\\end{tabular}\n",
            "text/markdown": "\nA data.frame: 50 × 3\n\n| ASIS_PROMEDIO &lt;dbl&gt; | Latitud &lt;dbl&gt; | Precipitacion &lt;dbl&gt; |\n|---|---|---|\n| 0.7500 | -33.44102 |   7.4 |\n| 0.6667 | -33.44102 |   0.0 |\n| 0.5294 | -33.44102 |   2.0 |\n| 0.7500 | -33.44102 |   0.0 |\n| 0.9091 | -33.44102 |  38.3 |\n| 0.8095 | -33.44102 | 111.4 |\n| 0.7000 | -33.44102 |  23.7 |\n| 0.5238 | -33.44102 |  27.7 |\n| 0.8095 | -33.44102 |   4.5 |\n| 0.8182 | -33.44102 |   0.0 |\n| 0.8000 | -33.44102 |   0.0 |\n| 0.8500 | -33.44102 | 109.2 |\n| 0.7727 | -33.44102 |  20.5 |\n| 0.8095 | -33.44102 |  38.4 |\n| 0.7778 | -33.44102 |  50.2 |\n| 0.8636 | -33.44102 |   0.0 |\n| 0.4500 | -33.44102 |   0.4 |\n| 0.6316 | -33.44102 |  16.2 |\n| 0.6667 | -33.44102 |   0.0 |\n| 0.9231 | -33.44102 |  23.6 |\n| 0.8500 | -33.44102 |   0.0 |\n| 0.7778 | -33.44102 |   5.6 |\n| 0.4545 | -33.44102 |  55.6 |\n| 0.1905 | -33.44102 |  73.2 |\n| 0.4444 | -33.44102 |  30.7 |\n| 0.7619 | -33.44102 |  50.4 |\n| 0.6250 | -33.44102 |  27.3 |\n| 0.7368 | -33.44102 |  35.5 |\n| 0.5714 | -33.44102 |   0.1 |\n| 0.0000 | -33.44102 |   0.0 |\n| 0.8500 | -33.41425 |   7.4 |\n| 0.9048 | -33.41425 |   0.0 |\n| 0.9444 | -33.41425 |   2.0 |\n| 0.0000 | -33.41425 |   0.0 |\n| 1.0000 | -33.41425 |  38.3 |\n| 0.9524 | -33.41425 | 111.4 |\n| 1.0000 | -33.41425 |  23.7 |\n| 0.9048 | -33.41425 |  27.7 |\n| 1.0000 | -33.41425 |   4.5 |\n| 1.0000 | -33.41425 |   0.0 |\n| 0.9000 | -33.41425 |   0.0 |\n| 0.9500 | -33.41425 | 109.2 |\n| 0.9091 | -33.41425 |  20.5 |\n| 0.6190 | -33.41425 |  38.4 |\n| 0.5556 | -33.41425 |  50.2 |\n| 0.9091 | -33.41425 |   0.0 |\n| 0.7647 | -33.41425 |   0.4 |\n| 0.2632 | -33.41425 |  16.2 |\n| 0.8750 | -33.41425 |   0.0 |\n| 0.0000 | -33.41425 |  23.6 |\n\n",
            "text/html": [
              "<table class=\"dataframe\">\n",
              "<caption>A data.frame: 50 × 3</caption>\n",
              "<thead>\n",
              "\t<tr><th scope=col>ASIS_PROMEDIO</th><th scope=col>Latitud</th><th scope=col>Precipitacion</th></tr>\n",
              "\t<tr><th scope=col>&lt;dbl&gt;</th><th scope=col>&lt;dbl&gt;</th><th scope=col>&lt;dbl&gt;</th></tr>\n",
              "</thead>\n",
              "<tbody>\n",
              "\t<tr><td>0.7500</td><td>-33.44102</td><td>  7.4</td></tr>\n",
              "\t<tr><td>0.6667</td><td>-33.44102</td><td>  0.0</td></tr>\n",
              "\t<tr><td>0.5294</td><td>-33.44102</td><td>  2.0</td></tr>\n",
              "\t<tr><td>0.7500</td><td>-33.44102</td><td>  0.0</td></tr>\n",
              "\t<tr><td>0.9091</td><td>-33.44102</td><td> 38.3</td></tr>\n",
              "\t<tr><td>0.8095</td><td>-33.44102</td><td>111.4</td></tr>\n",
              "\t<tr><td>0.7000</td><td>-33.44102</td><td> 23.7</td></tr>\n",
              "\t<tr><td>0.5238</td><td>-33.44102</td><td> 27.7</td></tr>\n",
              "\t<tr><td>0.8095</td><td>-33.44102</td><td>  4.5</td></tr>\n",
              "\t<tr><td>0.8182</td><td>-33.44102</td><td>  0.0</td></tr>\n",
              "\t<tr><td>0.8000</td><td>-33.44102</td><td>  0.0</td></tr>\n",
              "\t<tr><td>0.8500</td><td>-33.44102</td><td>109.2</td></tr>\n",
              "\t<tr><td>0.7727</td><td>-33.44102</td><td> 20.5</td></tr>\n",
              "\t<tr><td>0.8095</td><td>-33.44102</td><td> 38.4</td></tr>\n",
              "\t<tr><td>0.7778</td><td>-33.44102</td><td> 50.2</td></tr>\n",
              "\t<tr><td>0.8636</td><td>-33.44102</td><td>  0.0</td></tr>\n",
              "\t<tr><td>0.4500</td><td>-33.44102</td><td>  0.4</td></tr>\n",
              "\t<tr><td>0.6316</td><td>-33.44102</td><td> 16.2</td></tr>\n",
              "\t<tr><td>0.6667</td><td>-33.44102</td><td>  0.0</td></tr>\n",
              "\t<tr><td>0.9231</td><td>-33.44102</td><td> 23.6</td></tr>\n",
              "\t<tr><td>0.8500</td><td>-33.44102</td><td>  0.0</td></tr>\n",
              "\t<tr><td>0.7778</td><td>-33.44102</td><td>  5.6</td></tr>\n",
              "\t<tr><td>0.4545</td><td>-33.44102</td><td> 55.6</td></tr>\n",
              "\t<tr><td>0.1905</td><td>-33.44102</td><td> 73.2</td></tr>\n",
              "\t<tr><td>0.4444</td><td>-33.44102</td><td> 30.7</td></tr>\n",
              "\t<tr><td>0.7619</td><td>-33.44102</td><td> 50.4</td></tr>\n",
              "\t<tr><td>0.6250</td><td>-33.44102</td><td> 27.3</td></tr>\n",
              "\t<tr><td>0.7368</td><td>-33.44102</td><td> 35.5</td></tr>\n",
              "\t<tr><td>0.5714</td><td>-33.44102</td><td>  0.1</td></tr>\n",
              "\t<tr><td>0.0000</td><td>-33.44102</td><td>  0.0</td></tr>\n",
              "\t<tr><td>0.8500</td><td>-33.41425</td><td>  7.4</td></tr>\n",
              "\t<tr><td>0.9048</td><td>-33.41425</td><td>  0.0</td></tr>\n",
              "\t<tr><td>0.9444</td><td>-33.41425</td><td>  2.0</td></tr>\n",
              "\t<tr><td>0.0000</td><td>-33.41425</td><td>  0.0</td></tr>\n",
              "\t<tr><td>1.0000</td><td>-33.41425</td><td> 38.3</td></tr>\n",
              "\t<tr><td>0.9524</td><td>-33.41425</td><td>111.4</td></tr>\n",
              "\t<tr><td>1.0000</td><td>-33.41425</td><td> 23.7</td></tr>\n",
              "\t<tr><td>0.9048</td><td>-33.41425</td><td> 27.7</td></tr>\n",
              "\t<tr><td>1.0000</td><td>-33.41425</td><td>  4.5</td></tr>\n",
              "\t<tr><td>1.0000</td><td>-33.41425</td><td>  0.0</td></tr>\n",
              "\t<tr><td>0.9000</td><td>-33.41425</td><td>  0.0</td></tr>\n",
              "\t<tr><td>0.9500</td><td>-33.41425</td><td>109.2</td></tr>\n",
              "\t<tr><td>0.9091</td><td>-33.41425</td><td> 20.5</td></tr>\n",
              "\t<tr><td>0.6190</td><td>-33.41425</td><td> 38.4</td></tr>\n",
              "\t<tr><td>0.5556</td><td>-33.41425</td><td> 50.2</td></tr>\n",
              "\t<tr><td>0.9091</td><td>-33.41425</td><td>  0.0</td></tr>\n",
              "\t<tr><td>0.7647</td><td>-33.41425</td><td>  0.4</td></tr>\n",
              "\t<tr><td>0.2632</td><td>-33.41425</td><td> 16.2</td></tr>\n",
              "\t<tr><td>0.8750</td><td>-33.41425</td><td>  0.0</td></tr>\n",
              "\t<tr><td>0.0000</td><td>-33.41425</td><td> 23.6</td></tr>\n",
              "</tbody>\n",
              "</table>\n"
            ]
          },
          "metadata": {}
        },
        {
          "output_type": "display_data",
          "data": {
            "text/plain": [
              "   ASIS_PROMEDIO Latitud   Precipitacion\n",
              "1  1.0000        -18.49699 0            \n",
              "2  1.0000        -18.49699 0            \n",
              "3  1.0000        -18.49699 0            \n",
              "4  0.9500        -18.49699 0            \n",
              "5  1.0000        -18.49699 0            \n",
              "6  1.0000        -18.49699 0            \n",
              "7  1.0000        -18.49699 0            \n",
              "8  0.9500        -18.49699 0            \n",
              "9  1.0000        -18.49699 0            \n",
              "10 1.0000        -18.49699 0            \n",
              "11 1.0000        -18.49699 0            \n",
              "12 0.9500        -18.49699 0            \n",
              "13 1.0000        -18.49699 0            \n",
              "14 1.0000        -18.49699 0            \n",
              "15 1.0000        -18.49699 0            \n",
              "16 1.0000        -18.49699 0            \n",
              "17 1.0000        -18.49699 0            \n",
              "18 1.0000        -18.49699 0            \n",
              "19 1.0000        -18.49699 0            \n",
              "20 1.0000        -18.49699 0            \n",
              "21 1.0000        -18.49699 0            \n",
              "22 1.0000        -18.49699 0            \n",
              "23 1.0000        -18.49699 0            \n",
              "24 1.0000        -18.49699 0            \n",
              "25 1.0000        -18.49699 0            \n",
              "26 1.0000        -18.49699 0            \n",
              "27 1.0000        -18.49699 0            \n",
              "28 1.0000        -18.49699 0            \n",
              "29 1.0000        -18.49699 0            \n",
              "30 0.0000        -18.49699 0            \n",
              "31 0.9474        -18.46325 0            \n",
              "32 0.6667        -18.46325 0            \n",
              "33 0.9444        -18.46325 0            \n",
              "34 0.3333        -18.44620 0            \n",
              "35 1.0000        -18.44620 0            \n",
              "36 0.0000        -18.46325 0            \n",
              "37 0.8500        -18.44620 0            \n",
              "38 0.0000        -18.46325 0            \n",
              "39 0.0000        -18.46325 0            \n",
              "40 1.0000        -18.44620 0            \n",
              "41 0.9000        -18.44620 0            \n",
              "42 0.5500        -18.44620 0            \n",
              "43 0.9524        -18.44620 0            \n",
              "44 0.8947        -18.44620 0            \n",
              "45 0.7778        -18.44620 0            \n",
              "46 0.7273        -18.44620 0            \n",
              "47 0.5238        -18.44620 0            \n",
              "48 0.3889        -18.44620 0            \n",
              "49 0.6667        -18.44620 0            \n",
              "50 0.5000        -18.44620 0            "
            ],
            "text/latex": "A data.frame: 50 × 3\n\\begin{tabular}{lll}\n ASIS\\_PROMEDIO & Latitud & Precipitacion\\\\\n <dbl> & <dbl> & <dbl>\\\\\n\\hline\n\t 1.0000 & -18.49699 & 0\\\\\n\t 1.0000 & -18.49699 & 0\\\\\n\t 1.0000 & -18.49699 & 0\\\\\n\t 0.9500 & -18.49699 & 0\\\\\n\t 1.0000 & -18.49699 & 0\\\\\n\t 1.0000 & -18.49699 & 0\\\\\n\t 1.0000 & -18.49699 & 0\\\\\n\t 0.9500 & -18.49699 & 0\\\\\n\t 1.0000 & -18.49699 & 0\\\\\n\t 1.0000 & -18.49699 & 0\\\\\n\t 1.0000 & -18.49699 & 0\\\\\n\t 0.9500 & -18.49699 & 0\\\\\n\t 1.0000 & -18.49699 & 0\\\\\n\t 1.0000 & -18.49699 & 0\\\\\n\t 1.0000 & -18.49699 & 0\\\\\n\t 1.0000 & -18.49699 & 0\\\\\n\t 1.0000 & -18.49699 & 0\\\\\n\t 1.0000 & -18.49699 & 0\\\\\n\t 1.0000 & -18.49699 & 0\\\\\n\t 1.0000 & -18.49699 & 0\\\\\n\t 1.0000 & -18.49699 & 0\\\\\n\t 1.0000 & -18.49699 & 0\\\\\n\t 1.0000 & -18.49699 & 0\\\\\n\t 1.0000 & -18.49699 & 0\\\\\n\t 1.0000 & -18.49699 & 0\\\\\n\t 1.0000 & -18.49699 & 0\\\\\n\t 1.0000 & -18.49699 & 0\\\\\n\t 1.0000 & -18.49699 & 0\\\\\n\t 1.0000 & -18.49699 & 0\\\\\n\t 0.0000 & -18.49699 & 0\\\\\n\t 0.9474 & -18.46325 & 0\\\\\n\t 0.6667 & -18.46325 & 0\\\\\n\t 0.9444 & -18.46325 & 0\\\\\n\t 0.3333 & -18.44620 & 0\\\\\n\t 1.0000 & -18.44620 & 0\\\\\n\t 0.0000 & -18.46325 & 0\\\\\n\t 0.8500 & -18.44620 & 0\\\\\n\t 0.0000 & -18.46325 & 0\\\\\n\t 0.0000 & -18.46325 & 0\\\\\n\t 1.0000 & -18.44620 & 0\\\\\n\t 0.9000 & -18.44620 & 0\\\\\n\t 0.5500 & -18.44620 & 0\\\\\n\t 0.9524 & -18.44620 & 0\\\\\n\t 0.8947 & -18.44620 & 0\\\\\n\t 0.7778 & -18.44620 & 0\\\\\n\t 0.7273 & -18.44620 & 0\\\\\n\t 0.5238 & -18.44620 & 0\\\\\n\t 0.3889 & -18.44620 & 0\\\\\n\t 0.6667 & -18.44620 & 0\\\\\n\t 0.5000 & -18.44620 & 0\\\\\n\\end{tabular}\n",
            "text/markdown": "\nA data.frame: 50 × 3\n\n| ASIS_PROMEDIO &lt;dbl&gt; | Latitud &lt;dbl&gt; | Precipitacion &lt;dbl&gt; |\n|---|---|---|\n| 1.0000 | -18.49699 | 0 |\n| 1.0000 | -18.49699 | 0 |\n| 1.0000 | -18.49699 | 0 |\n| 0.9500 | -18.49699 | 0 |\n| 1.0000 | -18.49699 | 0 |\n| 1.0000 | -18.49699 | 0 |\n| 1.0000 | -18.49699 | 0 |\n| 0.9500 | -18.49699 | 0 |\n| 1.0000 | -18.49699 | 0 |\n| 1.0000 | -18.49699 | 0 |\n| 1.0000 | -18.49699 | 0 |\n| 0.9500 | -18.49699 | 0 |\n| 1.0000 | -18.49699 | 0 |\n| 1.0000 | -18.49699 | 0 |\n| 1.0000 | -18.49699 | 0 |\n| 1.0000 | -18.49699 | 0 |\n| 1.0000 | -18.49699 | 0 |\n| 1.0000 | -18.49699 | 0 |\n| 1.0000 | -18.49699 | 0 |\n| 1.0000 | -18.49699 | 0 |\n| 1.0000 | -18.49699 | 0 |\n| 1.0000 | -18.49699 | 0 |\n| 1.0000 | -18.49699 | 0 |\n| 1.0000 | -18.49699 | 0 |\n| 1.0000 | -18.49699 | 0 |\n| 1.0000 | -18.49699 | 0 |\n| 1.0000 | -18.49699 | 0 |\n| 1.0000 | -18.49699 | 0 |\n| 1.0000 | -18.49699 | 0 |\n| 0.0000 | -18.49699 | 0 |\n| 0.9474 | -18.46325 | 0 |\n| 0.6667 | -18.46325 | 0 |\n| 0.9444 | -18.46325 | 0 |\n| 0.3333 | -18.44620 | 0 |\n| 1.0000 | -18.44620 | 0 |\n| 0.0000 | -18.46325 | 0 |\n| 0.8500 | -18.44620 | 0 |\n| 0.0000 | -18.46325 | 0 |\n| 0.0000 | -18.46325 | 0 |\n| 1.0000 | -18.44620 | 0 |\n| 0.9000 | -18.44620 | 0 |\n| 0.5500 | -18.44620 | 0 |\n| 0.9524 | -18.44620 | 0 |\n| 0.8947 | -18.44620 | 0 |\n| 0.7778 | -18.44620 | 0 |\n| 0.7273 | -18.44620 | 0 |\n| 0.5238 | -18.44620 | 0 |\n| 0.3889 | -18.44620 | 0 |\n| 0.6667 | -18.44620 | 0 |\n| 0.5000 | -18.44620 | 0 |\n\n",
            "text/html": [
              "<table class=\"dataframe\">\n",
              "<caption>A data.frame: 50 × 3</caption>\n",
              "<thead>\n",
              "\t<tr><th scope=col>ASIS_PROMEDIO</th><th scope=col>Latitud</th><th scope=col>Precipitacion</th></tr>\n",
              "\t<tr><th scope=col>&lt;dbl&gt;</th><th scope=col>&lt;dbl&gt;</th><th scope=col>&lt;dbl&gt;</th></tr>\n",
              "</thead>\n",
              "<tbody>\n",
              "\t<tr><td>1.0000</td><td>-18.49699</td><td>0</td></tr>\n",
              "\t<tr><td>1.0000</td><td>-18.49699</td><td>0</td></tr>\n",
              "\t<tr><td>1.0000</td><td>-18.49699</td><td>0</td></tr>\n",
              "\t<tr><td>0.9500</td><td>-18.49699</td><td>0</td></tr>\n",
              "\t<tr><td>1.0000</td><td>-18.49699</td><td>0</td></tr>\n",
              "\t<tr><td>1.0000</td><td>-18.49699</td><td>0</td></tr>\n",
              "\t<tr><td>1.0000</td><td>-18.49699</td><td>0</td></tr>\n",
              "\t<tr><td>0.9500</td><td>-18.49699</td><td>0</td></tr>\n",
              "\t<tr><td>1.0000</td><td>-18.49699</td><td>0</td></tr>\n",
              "\t<tr><td>1.0000</td><td>-18.49699</td><td>0</td></tr>\n",
              "\t<tr><td>1.0000</td><td>-18.49699</td><td>0</td></tr>\n",
              "\t<tr><td>0.9500</td><td>-18.49699</td><td>0</td></tr>\n",
              "\t<tr><td>1.0000</td><td>-18.49699</td><td>0</td></tr>\n",
              "\t<tr><td>1.0000</td><td>-18.49699</td><td>0</td></tr>\n",
              "\t<tr><td>1.0000</td><td>-18.49699</td><td>0</td></tr>\n",
              "\t<tr><td>1.0000</td><td>-18.49699</td><td>0</td></tr>\n",
              "\t<tr><td>1.0000</td><td>-18.49699</td><td>0</td></tr>\n",
              "\t<tr><td>1.0000</td><td>-18.49699</td><td>0</td></tr>\n",
              "\t<tr><td>1.0000</td><td>-18.49699</td><td>0</td></tr>\n",
              "\t<tr><td>1.0000</td><td>-18.49699</td><td>0</td></tr>\n",
              "\t<tr><td>1.0000</td><td>-18.49699</td><td>0</td></tr>\n",
              "\t<tr><td>1.0000</td><td>-18.49699</td><td>0</td></tr>\n",
              "\t<tr><td>1.0000</td><td>-18.49699</td><td>0</td></tr>\n",
              "\t<tr><td>1.0000</td><td>-18.49699</td><td>0</td></tr>\n",
              "\t<tr><td>1.0000</td><td>-18.49699</td><td>0</td></tr>\n",
              "\t<tr><td>1.0000</td><td>-18.49699</td><td>0</td></tr>\n",
              "\t<tr><td>1.0000</td><td>-18.49699</td><td>0</td></tr>\n",
              "\t<tr><td>1.0000</td><td>-18.49699</td><td>0</td></tr>\n",
              "\t<tr><td>1.0000</td><td>-18.49699</td><td>0</td></tr>\n",
              "\t<tr><td>0.0000</td><td>-18.49699</td><td>0</td></tr>\n",
              "\t<tr><td>0.9474</td><td>-18.46325</td><td>0</td></tr>\n",
              "\t<tr><td>0.6667</td><td>-18.46325</td><td>0</td></tr>\n",
              "\t<tr><td>0.9444</td><td>-18.46325</td><td>0</td></tr>\n",
              "\t<tr><td>0.3333</td><td>-18.44620</td><td>0</td></tr>\n",
              "\t<tr><td>1.0000</td><td>-18.44620</td><td>0</td></tr>\n",
              "\t<tr><td>0.0000</td><td>-18.46325</td><td>0</td></tr>\n",
              "\t<tr><td>0.8500</td><td>-18.44620</td><td>0</td></tr>\n",
              "\t<tr><td>0.0000</td><td>-18.46325</td><td>0</td></tr>\n",
              "\t<tr><td>0.0000</td><td>-18.46325</td><td>0</td></tr>\n",
              "\t<tr><td>1.0000</td><td>-18.44620</td><td>0</td></tr>\n",
              "\t<tr><td>0.9000</td><td>-18.44620</td><td>0</td></tr>\n",
              "\t<tr><td>0.5500</td><td>-18.44620</td><td>0</td></tr>\n",
              "\t<tr><td>0.9524</td><td>-18.44620</td><td>0</td></tr>\n",
              "\t<tr><td>0.8947</td><td>-18.44620</td><td>0</td></tr>\n",
              "\t<tr><td>0.7778</td><td>-18.44620</td><td>0</td></tr>\n",
              "\t<tr><td>0.7273</td><td>-18.44620</td><td>0</td></tr>\n",
              "\t<tr><td>0.5238</td><td>-18.44620</td><td>0</td></tr>\n",
              "\t<tr><td>0.3889</td><td>-18.44620</td><td>0</td></tr>\n",
              "\t<tr><td>0.6667</td><td>-18.44620</td><td>0</td></tr>\n",
              "\t<tr><td>0.5000</td><td>-18.44620</td><td>0</td></tr>\n",
              "</tbody>\n",
              "</table>\n"
            ]
          },
          "metadata": {}
        },
        {
          "output_type": "display_data",
          "data": {
            "text/plain": [
              "   ASIS_PROMEDIO Latitud  Precipitacion\n",
              "1  0.9474000     -18.4462 0            \n",
              "2  1.0000000     -18.4462 0            \n",
              "3  0.8636000     -18.4462 0            \n",
              "4  0.6842000     -18.4462 0            \n",
              "5  1.0000000     -18.4462 0            \n",
              "6  0.7619000     -18.4462 0            \n",
              "7  0.6842000     -18.4462 0            \n",
              "8  0.8889000     -18.4462 0            \n",
              "9  0.8571000     -18.4462 0            \n",
              "10 0.8000000     -18.4462 0            \n",
              "11 0.8421000     -18.4462 0            \n",
              "12 0.8500000     -18.4462 0            \n",
              "13 0.8095000     -18.4462 0            \n",
              "14 0.9474000     -18.4462 0            \n",
              "15 0.6667000     -18.4462 0            \n",
              "16 0.8182000     -18.4462 0            \n",
              "17 0.1333333     -18.4462 0            \n",
              "18 0.0000000     -18.4462 0            \n",
              "19 0.2000000     -18.4462 0            \n",
              "20 0.0000000     -18.4462 0            "
            ],
            "text/latex": "A data.frame: 20 × 3\n\\begin{tabular}{lll}\n ASIS\\_PROMEDIO & Latitud & Precipitacion\\\\\n <dbl> & <dbl> & <dbl>\\\\\n\\hline\n\t 0.9474000 & -18.4462 & 0\\\\\n\t 1.0000000 & -18.4462 & 0\\\\\n\t 0.8636000 & -18.4462 & 0\\\\\n\t 0.6842000 & -18.4462 & 0\\\\\n\t 1.0000000 & -18.4462 & 0\\\\\n\t 0.7619000 & -18.4462 & 0\\\\\n\t 0.6842000 & -18.4462 & 0\\\\\n\t 0.8889000 & -18.4462 & 0\\\\\n\t 0.8571000 & -18.4462 & 0\\\\\n\t 0.8000000 & -18.4462 & 0\\\\\n\t 0.8421000 & -18.4462 & 0\\\\\n\t 0.8500000 & -18.4462 & 0\\\\\n\t 0.8095000 & -18.4462 & 0\\\\\n\t 0.9474000 & -18.4462 & 0\\\\\n\t 0.6667000 & -18.4462 & 0\\\\\n\t 0.8182000 & -18.4462 & 0\\\\\n\t 0.1333333 & -18.4462 & 0\\\\\n\t 0.0000000 & -18.4462 & 0\\\\\n\t 0.2000000 & -18.4462 & 0\\\\\n\t 0.0000000 & -18.4462 & 0\\\\\n\\end{tabular}\n",
            "text/markdown": "\nA data.frame: 20 × 3\n\n| ASIS_PROMEDIO &lt;dbl&gt; | Latitud &lt;dbl&gt; | Precipitacion &lt;dbl&gt; |\n|---|---|---|\n| 0.9474000 | -18.4462 | 0 |\n| 1.0000000 | -18.4462 | 0 |\n| 0.8636000 | -18.4462 | 0 |\n| 0.6842000 | -18.4462 | 0 |\n| 1.0000000 | -18.4462 | 0 |\n| 0.7619000 | -18.4462 | 0 |\n| 0.6842000 | -18.4462 | 0 |\n| 0.8889000 | -18.4462 | 0 |\n| 0.8571000 | -18.4462 | 0 |\n| 0.8000000 | -18.4462 | 0 |\n| 0.8421000 | -18.4462 | 0 |\n| 0.8500000 | -18.4462 | 0 |\n| 0.8095000 | -18.4462 | 0 |\n| 0.9474000 | -18.4462 | 0 |\n| 0.6667000 | -18.4462 | 0 |\n| 0.8182000 | -18.4462 | 0 |\n| 0.1333333 | -18.4462 | 0 |\n| 0.0000000 | -18.4462 | 0 |\n| 0.2000000 | -18.4462 | 0 |\n| 0.0000000 | -18.4462 | 0 |\n\n",
            "text/html": [
              "<table class=\"dataframe\">\n",
              "<caption>A data.frame: 20 × 3</caption>\n",
              "<thead>\n",
              "\t<tr><th scope=col>ASIS_PROMEDIO</th><th scope=col>Latitud</th><th scope=col>Precipitacion</th></tr>\n",
              "\t<tr><th scope=col>&lt;dbl&gt;</th><th scope=col>&lt;dbl&gt;</th><th scope=col>&lt;dbl&gt;</th></tr>\n",
              "</thead>\n",
              "<tbody>\n",
              "\t<tr><td>0.9474000</td><td>-18.4462</td><td>0</td></tr>\n",
              "\t<tr><td>1.0000000</td><td>-18.4462</td><td>0</td></tr>\n",
              "\t<tr><td>0.8636000</td><td>-18.4462</td><td>0</td></tr>\n",
              "\t<tr><td>0.6842000</td><td>-18.4462</td><td>0</td></tr>\n",
              "\t<tr><td>1.0000000</td><td>-18.4462</td><td>0</td></tr>\n",
              "\t<tr><td>0.7619000</td><td>-18.4462</td><td>0</td></tr>\n",
              "\t<tr><td>0.6842000</td><td>-18.4462</td><td>0</td></tr>\n",
              "\t<tr><td>0.8889000</td><td>-18.4462</td><td>0</td></tr>\n",
              "\t<tr><td>0.8571000</td><td>-18.4462</td><td>0</td></tr>\n",
              "\t<tr><td>0.8000000</td><td>-18.4462</td><td>0</td></tr>\n",
              "\t<tr><td>0.8421000</td><td>-18.4462</td><td>0</td></tr>\n",
              "\t<tr><td>0.8500000</td><td>-18.4462</td><td>0</td></tr>\n",
              "\t<tr><td>0.8095000</td><td>-18.4462</td><td>0</td></tr>\n",
              "\t<tr><td>0.9474000</td><td>-18.4462</td><td>0</td></tr>\n",
              "\t<tr><td>0.6667000</td><td>-18.4462</td><td>0</td></tr>\n",
              "\t<tr><td>0.8182000</td><td>-18.4462</td><td>0</td></tr>\n",
              "\t<tr><td>0.1333333</td><td>-18.4462</td><td>0</td></tr>\n",
              "\t<tr><td>0.0000000</td><td>-18.4462</td><td>0</td></tr>\n",
              "\t<tr><td>0.2000000</td><td>-18.4462</td><td>0</td></tr>\n",
              "\t<tr><td>0.0000000</td><td>-18.4462</td><td>0</td></tr>\n",
              "</tbody>\n",
              "</table>\n"
            ]
          },
          "metadata": {}
        },
        {
          "output_type": "display_data",
          "data": {
            "text/plain": [
              "NULL"
            ]
          },
          "metadata": {}
        }
      ]
    },
    {
      "cell_type": "code",
      "metadata": {
        "id": "ISID-aSVEHC6",
        "colab": {
          "base_uri": "https://localhost:8080/",
          "height": 370
        },
        "outputId": "7f8a9804-c0a0-4a36-cf47-8460a6d5cbfe"
      },
      "source": [
        "da<-make.data(chunksize=10000000)\n",
        "\n",
        "b1<-shglm(ASIS_PROMEDIO~Latitud+Precipitacion,datafun=da)\n",
        "summary(b1) \n"
      ],
      "execution_count": null,
      "outputs": [
        {
          "output_type": "display_data",
          "data": {
            "text/plain": [
              "Generalized Linear Model of class 'speedglm':\n",
              "\n",
              "Call:  shglm(formula = ASIS_PROMEDIO ~ Latitud + Precipitacion, datafun = da) \n",
              "\n",
              "Coefficients:\n",
              " ------------------------------------------------------------------ \n",
              "                Estimate Std. Error t value  Pr(>|t|)    \n",
              "(Intercept)    8.033e-01  1.244e-04  6456.7  0.00e+00 ***\n",
              "Latitud       -1.101e-03  3.623e-06  -303.8  0.00e+00 ***\n",
              "Precipitacion  1.958e-06  6.750e-08    29.0 5.83e-185 ***\n",
              "\n",
              "------------------------------------------------------------------- \n",
              "Signif. codes:  0 '***' 0.001 '**' 0.01 '*' 0.05 '.' 0.1 ' ' 1 \n",
              "\n",
              "---\n",
              "null df: 151925055; null deviance: 10842672;\n",
              "residuals df: 151925053; residuals deviance: 10835912;\n",
              "# obs.: 151925056; # non-zero weighted obs.: 151925056;\n",
              "AIC: 446513069; log Likelihood: -223256530;\n",
              "RSS: 10835912; dispersion: 0.07132406; iterations: 3;\n",
              "rank: 3; max tolerance: 0e+00; convergence: TRUE."
            ]
          },
          "metadata": {}
        }
      ]
    },
    {
      "cell_type": "code",
      "metadata": {
        "id": "uTPOudrFb2Bd"
      },
      "source": [
        "da<-make.data(chunksize=50000)\n",
        "da(reset=T)\n",
        "d<- da(reset=F)"
      ],
      "execution_count": null,
      "outputs": []
    },
    {
      "cell_type": "code",
      "metadata": {
        "id": "bV2xh5fjkxJw"
      },
      "source": [
        "d <- d%>% filter((ASIS_PROMEDIO>=0) &(ASIS_PROMEDIO<=1))"
      ],
      "execution_count": null,
      "outputs": []
    },
    {
      "cell_type": "code",
      "metadata": {
        "id": "td-z6Y53lEhB"
      },
      "source": [
        "d <- d%>% filter(Precipitacion>=0)"
      ],
      "execution_count": null,
      "outputs": []
    },
    {
      "cell_type": "code",
      "metadata": {
        "colab": {
          "base_uri": "https://localhost:8080/",
          "height": 437
        },
        "id": "9ajRWLgxkDwt",
        "outputId": "68e0cb98-088f-460e-c72b-7a32bcd5962c"
      },
      "source": [
        "library(ggplot2)\n",
        "ggplot(d, aes(x=ASIS_PROMEDIO, y=Precipitacion)) +  geom_point(size=2, shape=23)"
      ],
      "execution_count": null,
      "outputs": [
        {
          "output_type": "display_data",
          "data": {
            "image/png": "[encoded data removed]",
            "text/plain": [
              "plot without title"
            ]
          },
          "metadata": {
            "image/png": {
              "width": 420,
              "height": 420
            }
          }
        }
      ]
    }
  ]
}