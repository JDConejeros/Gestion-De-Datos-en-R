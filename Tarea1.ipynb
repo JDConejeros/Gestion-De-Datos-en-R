{
  "nbformat": 4,
  "nbformat_minor": 0,
  "metadata": {
    "colab": {
      "name": "Tarea1.ipynb",
      "provenance": [],
      "authorship_tag": "ABX9TyN8zqZB5vDp8d2DM08fH6ol",
      "include_colab_link": true
    },
    "kernelspec": {
      "name": "ir",
      "display_name": "R"
    },
    "language_info": {
      "name": "R"
    }
  },
  "cells": [
    {
      "cell_type": "markdown",
      "metadata": {
        "id": "view-in-github",
        "colab_type": "text"
      },
      "source": [
        "<a href=\"https://colab.research.google.com/github/maxigaarp/Gestion-De-Datos-en-R/blob/main/Tarea1.ipynb\" target=\"_parent\"><img src=\"https://colab.research.google.com/assets/colab-badge.svg\" alt=\"Open In Colab\"/></a>"
      ]
    },
    {
      "cell_type": "markdown",
      "metadata": {
        "id": "eyvYcxtcsrIw"
      },
      "source": [
        "En las clases de gestión de datos hemos aprendido acerca de la eficiencia de bases de datos, modelos relacionales, visualizar información y unir diferentes bases de datos para obtener la mayor información posible. Esta tarea consistirá de dos preguntas las cuales deberá responder de forma completa (código, texto e imágenes explicativas). Puede entregar la tarea en el formato, que estime conveniente (doc, pdf, script de R, url de Colab) pero tenga en cuenta que debe adjuntar el código utilizado. Se recomiendo el uso de Colab R."
      ]
    },
    {
      "cell_type": "code",
      "metadata": {
        "id": "qzUtYtPYsxdK"
      },
      "source": [
        "rendim2017 <- read.csv(\"http://datos.mineduc.cl/datasets/180324-rendimiento-escolar-ano-2017.download/\",row.names=NULL, sep=\";\")\n",
        "rendim2018 <- read.csv(\"http://datos.mineduc.cl/datasets/189328-rendimiento-escolar-ano-2018.download/\",row.names=NULL, sep=\";\")"
      ],
      "execution_count": 28,
      "outputs": []
    },
    {
      "cell_type": "code",
      "metadata": {
        "id": "icY4iGrvv2-t"
      },
      "source": [
        "columnas2017 <- paste(names(rendim2017), \"2017\", sep = \"_\")\n",
        "columnas2018 <- paste(names(rendim2018), \"2018\", sep = \"_\")\n",
        "\n",
        "rendim_17_18 <- data.frame(matrix(ncol = 71, nrow = 0))\n",
        "nombres_columnas <- c(columnas2017, columnas2018)\n",
        "colnames(rendim_17_18) <- nombres_columnas"
      ],
      "execution_count": 22,
      "outputs": []
    },
    {
      "cell_type": "markdown",
      "metadata": {
        "id": "f9_JpNyds5Gp"
      },
      "source": [
        "# Problema 1 (1.5 Pts)\n",
        "\n",
        "En el taller, revisamos el siguiente código para hacer un join\n",
        " de dos bases de datos que compartieran un identificador."
      ]
    },
    {
      "cell_type": "code",
      "metadata": {
        "colab": {
          "base_uri": "https://localhost:8080/",
          "height": 98
        },
        "id": "WxqPy4ETtsCP",
        "outputId": "46c60b70-9291-4b2c-f906-8bb4b02db9e5"
      },
      "source": [
        "ciclo1 <- 3000\n",
        "ciclo2 <- 3000\n",
        "n <- 1\n",
        "\n",
        "for(i in 1:ciclo1){\n",
        "  mrun <- rendim2017$mrun[i]\n",
        "  for(j in 1:ciclo2){\n",
        "    mrun2 <- rendim2018$MRUN[j]\n",
        "      if(mrun == mrun2){\n",
        "        fila <- c(as.character(rendim2017[i,]), as.character(rendim2018[j,]))\n",
        "        rendim_17_18[n, ] <- fila\n",
        "        n <- n+1\n",
        "    }\n",
        "  }\n",
        "}"
      ],
      "execution_count": 27,
      "outputs": [
        {
          "output_type": "error",
          "ename": "ERROR",
          "evalue": "ignored",
          "traceback": [
            "Error in if (mrun == mrun2) {: argument is of length zero\nTraceback:\n"
          ]
        }
      ]
    },
    {
      "cell_type": "markdown",
      "metadata": {
        "id": "q2OkzNb5xm9t"
      },
      "source": [
        "Suponga que usted tiene un disco duro con dos bases de datos con 3000 filas cada una que ocupan 300 paginas de disco cada una, en otras palabras cada pagina tiene 10 tuplas. Por otro lado usted tiene una memoria RAM de 101 páginas de almacenamiento. \n"
      ]
    },
    {
      "cell_type": "markdown",
      "metadata": {
        "id": "CQhePtdjxqRM"
      },
      "source": [
        "(a) (0.5 pts) Dibuje el diagrama de flujo del algoritmo.\n"
      ]
    },
    {
      "cell_type": "markdown",
      "metadata": {
        "id": "7P5e9XT4x8Rm"
      },
      "source": [
        ""
      ]
    },
    {
      "cell_type": "code",
      "metadata": {
        "id": "hvpNjDkKxmfR"
      },
      "source": [
        ""
      ],
      "execution_count": null,
      "outputs": []
    },
    {
      "cell_type": "markdown",
      "metadata": {
        "id": "OOTXOGTPxvYk"
      },
      "source": [
        "(b) (0.5 pts)Cuente la cantidad de veces que el disco duro va buscar los datos a memoria de la forma que esta escrito acá el algoritmo."
      ]
    },
    {
      "cell_type": "markdown",
      "metadata": {
        "id": "lVxmrH3kx9AJ"
      },
      "source": [
        ""
      ]
    },
    {
      "cell_type": "code",
      "metadata": {
        "id": "eXeuWpeRx39C"
      },
      "source": [
        ""
      ],
      "execution_count": null,
      "outputs": []
    },
    {
      "cell_type": "markdown",
      "metadata": {
        "id": "9xTKKdTrx3FX"
      },
      "source": [
        "(c) (0.5 pts) Plantee y programe una forma para reducir las lecturas a disco a al menos 1300 páginas. El algoritmo que requiera menos consultas del curso tendrá un bonus de 0.5 puntos."
      ]
    },
    {
      "cell_type": "markdown",
      "metadata": {
        "id": "CNI82FlQx_s7"
      },
      "source": [
        ""
      ]
    },
    {
      "cell_type": "code",
      "metadata": {
        "id": "udagmf48x_6T"
      },
      "source": [
        ""
      ],
      "execution_count": null,
      "outputs": []
    },
    {
      "cell_type": "markdown",
      "metadata": {
        "id": "DMtFuhPOyBvh"
      },
      "source": [
        "#Problema 2 (1.5 pts)\n",
        "\n",
        "(a) (0.7 pts) Descarga la base de datos de Cargos Docentes del año 2015 en R. Crea dos tablas distintas: una para el establecimiento y la otra para los docentes, además agrega con los 4 atributos más importantes en cada relación. Además crea una tabla que vincule el docente con el establecimiento. Notese que buscamos reducir el tamaño de la información por lo que en las tablas no deberían aparecer valores duplicados.\n",
        "    "
      ]
    },
    {
      "cell_type": "code",
      "metadata": {
        "id": "ty0nFFE1y93D"
      },
      "source": [
        "docentes2015 <- read.csv(\"http://datos.mineduc.cl/datasets/176034-directorio-oficial-de-docentes-2015.download/\")\n"
      ],
      "execution_count": 25,
      "outputs": []
    },
    {
      "cell_type": "code",
      "metadata": {
        "id": "lK3CFM0EzKXr"
      },
      "source": [
        ""
      ],
      "execution_count": null,
      "outputs": []
    },
    {
      "cell_type": "markdown",
      "metadata": {
        "id": "RT_vHzyeyW7c"
      },
      "source": [
        "\n",
        "(b) (0.4 pts) Utilizando los operadores de álgebra relacional escribe la siguiente consulta para las tablas que definiste en el punto anterior:\n",
        "\n",
        "```\n",
        "        Liste los nombres de los profesores que trabajan en más de un colegio.\n",
        "```\n",
        "\n"
      ]
    },
    {
      "cell_type": "markdown",
      "metadata": {
        "id": "Bw-iXy3NzTWg"
      },
      "source": [
        ""
      ]
    },
    {
      "cell_type": "code",
      "metadata": {
        "id": "ZbSCF5qKzSxG"
      },
      "source": [
        ""
      ],
      "execution_count": null,
      "outputs": []
    },
    {
      "cell_type": "markdown",
      "metadata": {
        "id": "UAy8JMQPycTc"
      },
      "source": [
        "\n",
        "(c) (0.4 pts) Implementa esta consulta en R (puedes usar el procedimiento dado por el álgebra relacional pero no es obligatorio)."
      ]
    },
    {
      "cell_type": "code",
      "metadata": {
        "id": "U_EZnsL8zW4D"
      },
      "source": [
        ""
      ],
      "execution_count": null,
      "outputs": []
    },
    {
      "cell_type": "code",
      "metadata": {
        "id": "k-JVznTSzWBr"
      },
      "source": [
        ""
      ],
      "execution_count": null,
      "outputs": []
    },
    {
      "cell_type": "markdown",
      "metadata": {
        "id": "6Cz6troBzafy"
      },
      "source": [
        "\n",
        "#Problema 3 (3 pts)\n",
        "\n",
        "En esta pregunta usted deberá trabajar con las bases de datos disponibles dentro del portal de datos para investigación del MINEDUC datosabiertos.mineduc.cl. En esta pregunta el objetivo es comprobar alguna hipótesis basándose en visualización de información, por lo que las elecciones de cada paso deben ser concordantes.\n"
      ]
    },
    {
      "cell_type": "markdown",
      "metadata": {
        "id": "zxBTGx9KzzMB"
      },
      "source": [
        "\n",
        "(a) (0.5 Pts) Revise la página web del MINEDUC y formule a lo menos tres distintas hipótesis que puedan responderse con los estos datos. Estas deben cumplir que:\n",
        "\n",
        "* Deben resolverse mediante el cruce de información entre 2 o más tablas (no es valido usar la misma base de datos para distintos años).\n",
        "* No deben ser triviales pues se evaluará también la calidad de la pregunta.\n"
      ]
    },
    {
      "cell_type": "markdown",
      "metadata": {
        "id": "vXCg5c1zz2hO"
      },
      "source": [
        "    \n",
        "(b) Seleccione tres bases de datos que ayuden a resolver una o más hipótesis planteadas. Explique su elección y con sus propias palabras que contiene cada base de datos seleccionada.\n",
        "    \n"
      ]
    },
    {
      "cell_type": "markdown",
      "metadata": {
        "id": "Lb2gcGHWz4S4"
      },
      "source": [
        "(c) (1 Pt)Compruebe usando R que las bases de datos se pueden mezclar entre si. Es decir, pueden hacer un join entre ellas cuyo resultado es distinto de vacío. Si es que este proceso no entrega la cantidad de tuplas suficiente para estudiar ninguna de las tres hipótesis (o al menos tener confianza del resultado) deberá rehacer los pasos (a), (b) y (c).\n",
        "    \n"
      ]
    },
    {
      "cell_type": "markdown",
      "metadata": {
        "id": "jH9HXwTlz6kV"
      },
      "source": [
        "(d) (1 Pt) Seleccione una de las tres hipótesis y a través de la visualización de información determine si esta pareciese estar acertada o no. Entregue una pequeña conclusión y análisis sobre este mini-estudio."
      ]
    }
  ]
}