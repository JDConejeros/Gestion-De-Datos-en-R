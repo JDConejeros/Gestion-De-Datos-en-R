{
  "nbformat": 4,
  "nbformat_minor": 0,
  "metadata": {
    "colab": {
      "name": "Proyecto.ipynb",
      "provenance": [],
      "authorship_tag": "ABX9TyM19mYLrsluMCD8jl3tCAXI",
      "include_colab_link": true
    },
    "kernelspec": {
      "name": "ir",
      "display_name": "R"
    },
    "language_info": {
      "name": "R"
    }
  },
  "cells": [
    {
      "cell_type": "markdown",
      "metadata": {
        "id": "view-in-github",
        "colab_type": "text"
      },
      "source": [
        "<a href=\"https://colab.research.google.com/github/maxigaarp/Gestion-De-Datos-en-R/blob/main/Proyecto.ipynb\" target=\"_parent\"><img src=\"https://colab.research.google.com/assets/colab-badge.svg\" alt=\"Open In Colab\"/></a>"
      ]
    },
    {
      "cell_type": "markdown",
      "metadata": {
        "id": "4Lo_4HPFvv-g"
      },
      "source": [
        "#Proyecto Grupal \n",
        "\n",
        "## Entrega: Domingo 29 de Agosto 2021"
      ]
    },
    {
      "cell_type": "markdown",
      "metadata": {
        "id": "kgbAuynqv0tI"
      },
      "source": [
        "Este trabajo consistirá en armar una base de datos en SQL y un informe descriptivo de los datos y la investigación. El objetivo del proyecto es predecir asistencia a clases en base a los datos meteorologicos de precipitación.\n",
        "\n",
        "La base de datos debe tener la informacion de 3 diferentes fuentes de información:\n",
        "\n",
        " * Asistencia Declarada Mensual ([MINEDUC](http://datos.mineduc.cl/dashboards/19844/asistencia-declarada-mensual-por-ano/)) años: (2015-2019)\n",
        "  Acá se incluyen los porcentajes de asistencia y la cantidad de dias trabajados de todos los alumnos en los distintos colegios de Chile \n",
        " * Reportes de precipitacion Mensual ([CR2](https://www.cr2.cl/camels-cl/)): Datos historicos de precipitacion las distintas estaciones meteorologicas en Chile con localizacion geografica.\n",
        " * Localizacion Colegios (Propia/Google Maps):\n",
        " Datos de la ubicacion geografica de los colegios en Chile.\n",
        "\n",
        "Para esto generar esta base de datos se espera que se incluyan a lo menos 3 diferentes tablas:\n",
        " * alumnos: Informacion relevante de los alumnos. A lo menos incluir 3 atributos.\n",
        " * colegios: Informacion relevante de los colegios. A lo menos incluir 3 atributos, ademas:  nombre (o ID) de la estacion meteorologica más cercana y la distancia a esta, asumiendo latitud y longitud como coordenadas cartesianas.\n",
        " * estudia_en: Informacion relevante del vinculo entre el colegio, mes y alumnos. En la tabla se debe incorporar la informacion mensual para cada alumno en terminos de: asistencia, precipitacion. En este caso la precipitacion debe ser una interpolacion en base a los datos de las precipitaciones de las estaciones meteorologicas y la geolocalizacion de los colegios.\n",
        "\n",
        "Cabe destacar que las bases de datos no se encuentran libres de errores por lo que para consolidar la informacion hay que solucionar problemas de consistencia, completitud, validez. Entre otros se busca que:\n",
        "\n",
        " * Que los datos para cada uno atributos se encuentren en el formato adecuado y unico. Para lograr esto revisar los atributos más importantes: asistencia y precipitacion.\n",
        " * Una unica forma de expresar valores nulos (unificar distintos tipos de descripcion de valores nulos, ejemplo: \" \", NA, 0, -9999, etc). \n",
        " * Seleccionar una cantidad tolerable (mayor que 2 al menos) de valores nulos para las series temporales (los registros de las estaciones meteorologicas). Interpolar los valores nulos en las series.\n",
        "\n",
        "Cabe destacar que las tablas deben unificarse en SQL cargando las tablas mediante RSQL. Luego de esto se espera que se seleccione y utilice un algoritmo adecuado para generar una predicción de asistencia a clases en base a la precipitacion mensual, puede ser alguno de los siguientes: k-means, regresion lineal, regresion logistica.\n",
        "\n",
        "La entrega del proyecto debe tener dos partes: \n",
        "* El codigo donde se genera la base de datos y el desarrollo del algoritmo de prediccion. Puede ser Colab o script de R, debe tener comentarios solo con el objetivo de guiar al ayudante en la correccion.\n",
        "* Un documento de no mas de 3 paginas (sin incluir gráficos) con la documentacion de los datos (diagrama ER, tipo de datos, descripcion, dominio, etc. Pueden guiarse por el esquema de registro en las bases de datos del MINEDUC.) y además un resumen de lo desarrollado en el proyecto (como se generaron las variables, como se procesaron y que resultados se obtuvieron)\n",
        "\n",
        "Para una mejor calidad en el informe usar graficos y tablas que pueden incluir en anexos.\n",
        "\n",
        "\n",
        "\n",
        "Datos disponibles en: https://drive.google.com/drive/folders/17Or8k6rhYvkaeEn_pD10za8A9jluYfUF?usp=sharing"
      ]
    },
    {
      "cell_type": "markdown",
      "metadata": {
        "id": "5HNgUFHlj3iT"
      },
      "source": [
        "#Descargar datos"
      ]
    },
    {
      "cell_type": "markdown",
      "metadata": {
        "id": "kbeOmka7jzhC"
      },
      "source": [
        "##Asistencia"
      ]
    },
    {
      "cell_type": "code",
      "metadata": {
        "id": "f1cnRTbWv0Ko"
      },
      "source": [
        "system(\"gdown --id 1-q1ydcu6afA3LQ9uxlh9J9B9kvEJvrRs\")"
      ],
      "execution_count": 2,
      "outputs": []
    },
    {
      "cell_type": "code",
      "metadata": {
        "id": "5yBkQhxL9TuB"
      },
      "source": [
        "unzip(\"/content/DatosProyecto.zip\")"
      ],
      "execution_count": 3,
      "outputs": []
    },
    {
      "cell_type": "code",
      "metadata": {
        "id": "iyb0sbEJbwd7"
      },
      "source": [
        "library(stringr)"
      ],
      "execution_count": 5,
      "outputs": []
    },
    {
      "cell_type": "code",
      "metadata": {
        "id": "VVb8HG-l9act"
      },
      "source": [
        "lista <- list.files(\"/content/content/drive/MyDrive/Gestion de Datos/Datos Proyecto/Datos asistencia\")\n",
        "directorio <- \"/content/content/drive/MyDrive/Gestion de Datos/Datos Proyecto/Datos asistencia/\"\n",
        "\n",
        "for (name in lista){\n",
        "  if (str_detect(name, \".rar\")){\n",
        "    foldername<-substr(name, 1, nchar(name)-4)\n",
        "    system(paste(\"mkdir 'Asistencia/\",foldername,\"'\",sep=\"\"))\n",
        "    system(paste(\"unrar x '\",directorio,name,\"' 'Asistencia/\",substr(name, 1, nchar(name)-4),\"/'\", sep=\"\"),intern = T)\n",
        "  }\n",
        "  else {\n",
        "    unzip(paste(directorio,name,sep=\"\"), exdir=\"Asistencia\")\n",
        "  }\n",
        "}\n"
      ],
      "execution_count": null,
      "outputs": []
    },
    {
      "cell_type": "code",
      "metadata": {
        "colab": {
          "base_uri": "https://localhost:8080/",
          "height": 34
        },
        "id": "OTnXJiY5hBFh",
        "outputId": "b610197b-64a4-4041-a043-540b6d37f6cb"
      },
      "source": [
        "lista_de_csvs <- list.files(\"Asistencia\",pattern = \".(CSV|csv)$\", recursive = TRUE))\n"
      ],
      "execution_count": 21,
      "outputs": [
        {
          "output_type": "display_data",
          "data": {
            "text/plain": [
              "[1] 50"
            ],
            "text/latex": "50",
            "text/markdown": "50",
            "text/html": [
              "50"
            ]
          },
          "metadata": {
            "tags": []
          }
        }
      ]
    },
    {
      "cell_type": "markdown",
      "metadata": {
        "id": "7ADvnbYGjxNB"
      },
      "source": [
        "## Precipitacion"
      ]
    },
    {
      "cell_type": "code",
      "metadata": {
        "id": "SPvki2tZjaxu"
      },
      "source": [
        "unzip(\"/content/content/drive/MyDrive/Gestion de Datos/Datos Proyecto/cr2_prAmon_2019.zip\")"
      ],
      "execution_count": 22,
      "outputs": []
    },
    {
      "cell_type": "code",
      "metadata": {
        "id": "I-yMIavojqtc"
      },
      "source": [
        "read.csv(\"/content/cr2_prAmon_2019/cr2_prAmon_2019.txt\",na = \"-9999\", header =F)"
      ],
      "execution_count": null,
      "outputs": []
    },
    {
      "cell_type": "markdown",
      "metadata": {
        "id": "NcC9vMWUj8uP"
      },
      "source": [
        "## Geolocalización\n",
        "\n",
        "\n"
      ]
    },
    {
      "cell_type": "code",
      "metadata": {
        "colab": {
          "base_uri": "https://localhost:8080/",
          "height": 1000
        },
        "id": "aLOOJzuVkI0B",
        "outputId": "11ded723-c60a-4600-fc90-f2f2f5f035dd"
      },
      "source": [
        "read.csv(\"/content/content/drive/MyDrive/Gestion de Datos/Datos Proyecto/colesgeo.csv\", row.names=1)"
      ],
      "execution_count": 27,
      "outputs": [
        {
          "output_type": "display_data",
          "data": {
            "text/plain": [
              "     RBD   NOM_RBD                                         NOM_COM_RBD    \n",
              "1     1    LICEO POLITECNICO ARICA                         ARICA          \n",
              "2     3    ESC. PEDRO VICENTE GUTIERREZ TORRES             ARICA          \n",
              "3     4    LICEO OCTAVIO PALMA PEREZ                       ARICA          \n",
              "4     5    JOVINA NARANJO FERNANDEZ                        ARICA          \n",
              "5     7    L. POLI. ANTONIO VARAS DE LA BARRA              ARICA          \n",
              "6     8    COLEGIO INTEGRADO EDUARDO FREI MONTALVA         ARICA          \n",
              "7     9    ESCUELA REPUBLICA DE ISRAEL                     ARICA          \n",
              "8    10    ESCUELA REPUBLICA DE FRANCIA                    ARICA          \n",
              "9    11    ESC. GRAL. PEDRO LAGOS MARCHANT                 ARICA          \n",
              "10   12    ESCUELA GRAL JOSE MIGUEL CARRERA                ARICA          \n",
              "11   13    ESCUELA MANUEL RODRIGUEZ ERDOYZA                ARICA          \n",
              "12   14    ESCUELA ROMULO J. PENA MATURANA                 ARICA          \n",
              "13   15    LICEO ARTISTICO DR. JUAN NOE CREVANI            ARICA          \n",
              "14   16    ESCUELA REGIMIENTO RANCAGUA                     ARICA          \n",
              "15   17    ESCUELA SUBTTE. LUIS CRUZ MARTINEZ              ARICA          \n",
              "16   18    ESC. COMTE. JUAN JOSE SAN MARTIN                ARICA          \n",
              "17   19    ESC. HUMBERTO VALENZUELA GARCIA                 ARICA          \n",
              "18   20    ESCUELA TUCAPEL                                 ARICA          \n",
              "19   22    ESCUELA GABRIELA MISTRAL                        ARICA          \n",
              "20   25    COLEGIO CENTENARIO DE ARICA                     ARICA          \n",
              "21   26    ESCUELA REPUBLICA DE ARGENTINA                  ARICA          \n",
              "22   27    ESCUELA ESMERALDA                               ARICA          \n",
              "23   28    ESCUELA RICARDO SILVA ARRIAGADA                 ARICA          \n",
              "24   29    ESCUELA AMERICA                                 ARICA          \n",
              "25   31    ESCUELA DARIO SALAS DIAZ                        ARICA          \n",
              "26   32    LICEO AGRICOLA JOSE ABELARDO NUNEZ M.           ARICA          \n",
              "27   33    ESCUELA CARLOS CONDELL DE LA HAZA               ARICA          \n",
              "28   35    ESCUELA GRAL. MANUEL BAQUEDANO                  ARICA          \n",
              "29   36    ESCUELA IGNACIO CARRERA PINTO                   ARICA          \n",
              "30   38    ESCUELA ESPA�A                                  ARICA          \n",
              "⋮    ⋮     ⋮                                               ⋮              \n",
              "9244 40340 LICEO DE ALTO DEL CARMEN                        ALTO DEL CARMEN\n",
              "9245 40343 COLEGIO CREACION LA ARAUCANA PUERTO MONTT       PUERTO MONTT   \n",
              "9246 40351 COLEGIO BOSQUEMAR                               PUERTO MONTT   \n",
              "9247 40352 LICEO TEC.PROFESIONAL PEDRO AGUIRRE CERDA       CALLE LARGA    \n",
              "9248 40354 MONTESSORI                                      LA SERENA      \n",
              "9249 40370 COLEGIO PUKALAN DE ALGARROBO                    ALGARROBO      \n",
              "9250 40371 COLEGIO SAN CARLOS DE LAS CABRAS                LAS CABRAS     \n",
              "9251 40381 COLEGIO ACONCAGUA EDUCA                         PUTAENDO       \n",
              "9252 40383 ESCUELA BASICA MIL PAISAJES-QUEMCHI             QUEMCHI        \n",
              "9253 40390 ESCUELA HOSPITALARIA ALIANZA                    OSORNO         \n",
              "9254 40393 SCUOLA ITALIANA ARTURO DELL� ORO VI�A DEL MAR   VI�A DEL MAR   \n",
              "9255 40395 COLEGIO JOHN WALL HOLCOMB                       ARICA          \n",
              "9256 40399 COLEGIO NAZARET                                 ALTO HOSPICIO  \n",
              "9257 40400 CENTRO DE EDUCACION INTEGRAL DE ADULTOS SANTA   COQUIMBO       \n",
              "9258 40403 GREEN PARK SCHOOL                               OSORNO         \n",
              "9259 40406 COLEGIO MADRE ISABEL LARRA�AGA                  PUERTO MONTT   \n",
              "9260 40407 CENTRO DE ESTUDIOS BORDEMAR                     CALERA         \n",
              "9261 40409 COLEGIO INTERCULTURAL LEONARDO DA VINCI         CASABLANCA     \n",
              "9262 40414 CENTRO EDUC.DE INTEGRAC.DE ADULTOS NEWEN        EL TABO        \n",
              "9263 40418 COLEGIO YUMBREL                                 OSORNO         \n",
              "9264 40422 COLEGIO NIRVANA                                 ALTO HOSPICIO  \n",
              "9265 40423 COLEGIO SAN JUAN                                ANCUD          \n",
              "9266 40424 CENTRO EDUCACIONAL RAICES DE MI TIERRA          DALCAHUE       \n",
              "9267 40429 LICEO TECNICO PROFESIONAL DE ADULTOS            IQUIQUE        \n",
              "9268 40435 INSTITUTO DE ESTUDIOS IBERO CHILE               QUILPUE        \n",
              "9269 40436 COLEGIO DE LAS ARTES Y LETRAS BETHEL DE QUILPUE QUILPUE        \n",
              "9270 40447 CENTRO DE EDUCACION INTEGRADA DE ADULTOS AEK    CALBUCO        \n",
              "9271 40455 COLEGIO PATAGONIA INSULAR                       CASTRO         \n",
              "9272 40457 LICEO TECNICO PROFESIONAL PABLO NERUDA          CASTRO         \n",
              "9273 40459 CENTRO EDUCACIONAL ALBORADA                     ANCUD          \n",
              "     query                                                         lon      \n",
              "1    LICEO POLITECNICO ARICA ,  ARICA                              -70.29469\n",
              "2    ESC. PEDRO VICENTE GUTIERREZ TORRES ,  ARICA                  -70.30278\n",
              "3    LICEO OCTAVIO PALMA PEREZ ,  ARICA                            -70.30792\n",
              "4    JOVINA NARANJO FERNANDEZ ,  ARICA                             -70.31345\n",
              "5    L. POLI. ANTONIO VARAS DE LA BARRA ,  ARICA                   -70.28795\n",
              "6    COLEGIO INTEGRADO EDUARDO FREI MONTALVA ,  ARICA              -70.31737\n",
              "7    ESCUELA REPUBLICA DE ISRAEL ,  ARICA                          -70.30278\n",
              "8    ESCUELA REPUBLICA DE FRANCIA ,  ARICA                         -70.30892\n",
              "9    ESC. GRAL. PEDRO LAGOS MARCHANT ,  ARICA                      -70.31159\n",
              "10   ESCUELA GRAL JOSE MIGUEL CARRERA ,  ARICA                     -70.29398\n",
              "11   ESCUELA MANUEL RODRIGUEZ ERDOYZA ,  ARICA                     -70.28436\n",
              "12   ESCUELA ROMULO J. PENA MATURANA ,  ARICA                      -70.28984\n",
              "13   LICEO ARTISTICO DR. JUAN NOE CREVANI ,  ARICA                 -70.30100\n",
              "14   ESCUELA REGIMIENTO RANCAGUA ,  ARICA                          -70.30887\n",
              "15   ESCUELA SUBTTE. LUIS CRUZ MARTINEZ ,  ARICA                   -70.29117\n",
              "16   ESC. COMTE. JUAN JOSE SAN MARTIN ,  ARICA                     -70.28738\n",
              "17   ESC. HUMBERTO VALENZUELA GARCIA ,  ARICA                      -70.29190\n",
              "18   ESCUELA TUCAPEL ,  ARICA                                      -70.29504\n",
              "19   ESCUELA GABRIELA MISTRAL ,  ARICA                             -70.29087\n",
              "20   COLEGIO CENTENARIO DE ARICA ,  ARICA                          -70.29311\n",
              "21   ESCUELA REPUBLICA DE ARGENTINA ,  ARICA                       -70.30393\n",
              "22   ESCUELA ESMERALDA ,  ARICA                                    -70.30788\n",
              "23   ESCUELA RICARDO SILVA ARRIAGADA ,  ARICA                      -70.29446\n",
              "24   ESCUELA AMERICA ,  ARICA                                      -70.28265\n",
              "25   ESCUELA DARIO SALAS DIAZ ,  ARICA                             -70.29417\n",
              "26   LICEO AGRICOLA JOSE ABELARDO NUNEZ M. ,  ARICA                -70.17844\n",
              "27   ESCUELA CARLOS CONDELL DE LA HAZA ,  ARICA                    -70.22534\n",
              "28   ESCUELA GRAL. MANUEL BAQUEDANO ,  ARICA                       -70.31854\n",
              "29   ESCUELA IGNACIO CARRERA PINTO ,  ARICA                        -70.28400\n",
              "30   ESCUELA ESPAÑA ,  ARICA                                       -70.29087\n",
              "⋮    ⋮                                                             ⋮        \n",
              "9244 LICEO DE ALTO DEL CARMEN ,  ALTO DEL CARMEN                   -70.47270\n",
              "9245 COLEGIO CREACION LA ARAUCANA PUERTO MONTT ,  PUERTO MONTT     -72.99403\n",
              "9246 COLEGIO BOSQUEMAR ,  PUERTO MONTT                             -73.00022\n",
              "9247 LICEO TEC.PROFESIONAL PEDRO AGUIRRE CERDA ,  CALLE LARGA      -70.62036\n",
              "9248 MONTESSORI ,  LA SERENA                                       -71.25728\n",
              "9249 COLEGIO PUKALAN DE ALGARROBO ,  ALGARROBO                     -71.65353\n",
              "9250 COLEGIO SAN CARLOS DE LAS CABRAS ,  LAS CABRAS                -71.30549\n",
              "9251 COLEGIO ACONCAGUA EDUCA ,  PUTAENDO                           -70.71603\n",
              "9252 ESCUELA BASICA MIL PAISAJES-QUEMCHI ,  QUEMCHI                -73.47622\n",
              "9253 ESCUELA HOSPITALARIA ALIANZA ,  OSORNO                        -73.12832\n",
              "9254 SCUOLA ITALIANA ARTURO DELLÑ ORO VIÑA DEL MAR ,  VIÑA DEL MAR -71.53063\n",
              "9255 COLEGIO JOHN WALL HOLCOMB ,  ARICA                            -70.29601\n",
              "9256 COLEGIO NAZARET ,  ALTO HOSPICIO                              -70.09577\n",
              "9257 CENTRO DE EDUCACION INTEGRAL DE ADULTOS SANTA ,  COQUIMBO     -71.34295\n",
              "9258 GREEN PARK SCHOOL ,  OSORNO                                   -73.15798\n",
              "9259 COLEGIO MADRE ISABEL LARRAÑAGA ,  PUERTO MONTT                -72.94147\n",
              "9260 CENTRO DE ESTUDIOS BORDEMAR ,  CALERA                         -71.20732\n",
              "9261 COLEGIO INTERCULTURAL LEONARDO DA VINCI ,  CASABLANCA         -73.86262\n",
              "9262 CENTRO EDUC.DE INTEGRAC.DE ADULTOS NEWEN ,  EL TABO           -71.62071\n",
              "9263 COLEGIO YUMBREL ,  OSORNO                                     -73.15393\n",
              "9264 COLEGIO NIRVANA ,  ALTO HOSPICIO                              -70.09466\n",
              "9265 COLEGIO SAN JUAN ,  ANCUD                                     -73.81933\n",
              "9266 CENTRO EDUCACIONAL RAICES DE MI TIERRA ,  DALCAHUE            -73.67100\n",
              "9267 LICEO TECNICO PROFESIONAL DE ADULTOS ,  IQUIQUE               -70.14873\n",
              "9268 INSTITUTO DE ESTUDIOS IBERO CHILE ,  QUILPUE                  -71.44957\n",
              "9269 COLEGIO DE LAS ARTES Y LETRAS BETHEL DE QUILPUE ,  QUILPUE    -71.43518\n",
              "9270 CENTRO DE EDUCACION INTEGRADA DE ADULTOS AEK ,  CALBUCO       -73.13271\n",
              "9271 COLEGIO PATAGONIA INSULAR ,  CASTRO                           -73.77376\n",
              "9272 LICEO TECNICO PROFESIONAL PABLO NERUDA ,  CASTRO              -73.77352\n",
              "9273 CENTRO EDUCACIONAL ALBORADA ,  ANCUD                          -73.82239\n",
              "     lat      \n",
              "1    -18.48719\n",
              "2    -18.48696\n",
              "3    -18.47417\n",
              "4    -18.47680\n",
              "5    -18.47595\n",
              "6    -18.48267\n",
              "7    -18.48696\n",
              "8    -18.47422\n",
              "9    -18.49111\n",
              "10   -18.49211\n",
              "11   -18.48109\n",
              "12   -18.48126\n",
              "13   -18.47215\n",
              "14   -18.47491\n",
              "15   -18.46748\n",
              "16   -18.47678\n",
              "17   -18.47469\n",
              "18   -18.47995\n",
              "19   -18.44773\n",
              "20   -18.43982\n",
              "21   -18.47830\n",
              "22   -18.48325\n",
              "23   -18.48494\n",
              "24   -18.47768\n",
              "25   -18.48292\n",
              "26   -18.51933\n",
              "27   -18.41687\n",
              "28   -18.47943\n",
              "29   -18.49660\n",
              "30   -18.44773\n",
              "⋮    ⋮        \n",
              "9244 -28.77712\n",
              "9245 -41.46001\n",
              "9246 -41.48593\n",
              "9247 -32.85053\n",
              "9248 -29.93034\n",
              "9249 -33.39076\n",
              "9250 -34.28748\n",
              "9251 -32.62484\n",
              "9252 -42.14439\n",
              "9253 -40.58757\n",
              "9254 -33.02905\n",
              "9255 -18.44785\n",
              "9256 -20.24699\n",
              "9257 -29.98690\n",
              "9258 -40.54993\n",
              "9259 -41.46998\n",
              "9260 -32.78734\n",
              "9261  40.74259\n",
              "9262 -33.49193\n",
              "9263 -40.58021\n",
              "9264 -20.29301\n",
              "9265 -41.86300\n",
              "9266 -42.36173\n",
              "9267 -20.22547\n",
              "9268 -33.04727\n",
              "9269 -33.04818\n",
              "9270 -41.77202\n",
              "9271 -42.48097\n",
              "9272 -42.48284\n",
              "9273 -41.86468"
            ],
            "text/latex": "A data.frame: 9273 × 6\n\\begin{tabular}{r|llllll}\n  & RBD & NOM\\_RBD & NOM\\_COM\\_RBD & query & lon & lat\\\\\n  & <int> & <chr> & <chr> & <chr> & <dbl> & <dbl>\\\\\n\\hline\n\t1 &  1 & LICEO POLITECNICO ARICA                 & ARICA & LICEO POLITECNICO ARICA ,  ARICA                 & -70.29469 & -18.48719\\\\\n\t2 &  3 & ESC. PEDRO VICENTE GUTIERREZ TORRES     & ARICA & ESC. PEDRO VICENTE GUTIERREZ TORRES ,  ARICA     & -70.30278 & -18.48696\\\\\n\t3 &  4 & LICEO OCTAVIO PALMA PEREZ               & ARICA & LICEO OCTAVIO PALMA PEREZ ,  ARICA               & -70.30792 & -18.47417\\\\\n\t4 &  5 & JOVINA NARANJO FERNANDEZ                & ARICA & JOVINA NARANJO FERNANDEZ ,  ARICA                & -70.31345 & -18.47680\\\\\n\t5 &  7 & L. POLI. ANTONIO VARAS DE LA BARRA      & ARICA & L. POLI. ANTONIO VARAS DE LA BARRA ,  ARICA      & -70.28795 & -18.47595\\\\\n\t6 &  8 & COLEGIO INTEGRADO EDUARDO FREI MONTALVA & ARICA & COLEGIO INTEGRADO EDUARDO FREI MONTALVA ,  ARICA & -70.31737 & -18.48267\\\\\n\t7 &  9 & ESCUELA REPUBLICA DE ISRAEL             & ARICA & ESCUELA REPUBLICA DE ISRAEL ,  ARICA             & -70.30278 & -18.48696\\\\\n\t8 & 10 & ESCUELA REPUBLICA DE FRANCIA            & ARICA & ESCUELA REPUBLICA DE FRANCIA ,  ARICA            & -70.30892 & -18.47422\\\\\n\t9 & 11 & ESC. GRAL. PEDRO LAGOS MARCHANT         & ARICA & ESC. GRAL. PEDRO LAGOS MARCHANT ,  ARICA         & -70.31159 & -18.49111\\\\\n\t10 & 12 & ESCUELA GRAL JOSE MIGUEL CARRERA        & ARICA & ESCUELA GRAL JOSE MIGUEL CARRERA ,  ARICA        & -70.29398 & -18.49211\\\\\n\t11 & 13 & ESCUELA MANUEL RODRIGUEZ ERDOYZA        & ARICA & ESCUELA MANUEL RODRIGUEZ ERDOYZA ,  ARICA        & -70.28436 & -18.48109\\\\\n\t12 & 14 & ESCUELA ROMULO J. PENA MATURANA         & ARICA & ESCUELA ROMULO J. PENA MATURANA ,  ARICA         & -70.28984 & -18.48126\\\\\n\t13 & 15 & LICEO ARTISTICO DR. JUAN NOE CREVANI    & ARICA & LICEO ARTISTICO DR. JUAN NOE CREVANI ,  ARICA    & -70.30100 & -18.47215\\\\\n\t14 & 16 & ESCUELA REGIMIENTO RANCAGUA             & ARICA & ESCUELA REGIMIENTO RANCAGUA ,  ARICA             & -70.30887 & -18.47491\\\\\n\t15 & 17 & ESCUELA SUBTTE. LUIS CRUZ MARTINEZ      & ARICA & ESCUELA SUBTTE. LUIS CRUZ MARTINEZ ,  ARICA      & -70.29117 & -18.46748\\\\\n\t16 & 18 & ESC. COMTE. JUAN JOSE SAN MARTIN        & ARICA & ESC. COMTE. JUAN JOSE SAN MARTIN ,  ARICA        & -70.28738 & -18.47678\\\\\n\t17 & 19 & ESC. HUMBERTO VALENZUELA GARCIA         & ARICA & ESC. HUMBERTO VALENZUELA GARCIA ,  ARICA         & -70.29190 & -18.47469\\\\\n\t18 & 20 & ESCUELA TUCAPEL                         & ARICA & ESCUELA TUCAPEL ,  ARICA                         & -70.29504 & -18.47995\\\\\n\t19 & 22 & ESCUELA GABRIELA MISTRAL                & ARICA & ESCUELA GABRIELA MISTRAL ,  ARICA                & -70.29087 & -18.44773\\\\\n\t20 & 25 & COLEGIO CENTENARIO DE ARICA             & ARICA & COLEGIO CENTENARIO DE ARICA ,  ARICA             & -70.29311 & -18.43982\\\\\n\t21 & 26 & ESCUELA REPUBLICA DE ARGENTINA          & ARICA & ESCUELA REPUBLICA DE ARGENTINA ,  ARICA          & -70.30393 & -18.47830\\\\\n\t22 & 27 & ESCUELA ESMERALDA                       & ARICA & ESCUELA ESMERALDA ,  ARICA                       & -70.30788 & -18.48325\\\\\n\t23 & 28 & ESCUELA RICARDO SILVA ARRIAGADA         & ARICA & ESCUELA RICARDO SILVA ARRIAGADA ,  ARICA         & -70.29446 & -18.48494\\\\\n\t24 & 29 & ESCUELA AMERICA                         & ARICA & ESCUELA AMERICA ,  ARICA                         & -70.28265 & -18.47768\\\\\n\t25 & 31 & ESCUELA DARIO SALAS DIAZ                & ARICA & ESCUELA DARIO SALAS DIAZ ,  ARICA                & -70.29417 & -18.48292\\\\\n\t26 & 32 & LICEO AGRICOLA JOSE ABELARDO NUNEZ M.   & ARICA & LICEO AGRICOLA JOSE ABELARDO NUNEZ M. ,  ARICA   & -70.17844 & -18.51933\\\\\n\t27 & 33 & ESCUELA CARLOS CONDELL DE LA HAZA       & ARICA & ESCUELA CARLOS CONDELL DE LA HAZA ,  ARICA       & -70.22534 & -18.41687\\\\\n\t28 & 35 & ESCUELA GRAL. MANUEL BAQUEDANO          & ARICA & ESCUELA GRAL. MANUEL BAQUEDANO ,  ARICA          & -70.31854 & -18.47943\\\\\n\t29 & 36 & ESCUELA IGNACIO CARRERA PINTO           & ARICA & ESCUELA IGNACIO CARRERA PINTO ,  ARICA           & -70.28400 & -18.49660\\\\\n\t30 & 38 & ESCUELA ESPA�A                          & ARICA & ESCUELA ESPAÑA ,  ARICA                          & -70.29087 & -18.44773\\\\\n\t⋮ & ⋮ & ⋮ & ⋮ & ⋮ & ⋮ & ⋮\\\\\n\t9244 & 40340 & LICEO DE ALTO DEL CARMEN                        & ALTO DEL CARMEN & LICEO DE ALTO DEL CARMEN ,  ALTO DEL CARMEN                   & -70.47270 & -28.77712\\\\\n\t9245 & 40343 & COLEGIO CREACION LA ARAUCANA PUERTO MONTT       & PUERTO MONTT    & COLEGIO CREACION LA ARAUCANA PUERTO MONTT ,  PUERTO MONTT     & -72.99403 & -41.46001\\\\\n\t9246 & 40351 & COLEGIO BOSQUEMAR                               & PUERTO MONTT    & COLEGIO BOSQUEMAR ,  PUERTO MONTT                             & -73.00022 & -41.48593\\\\\n\t9247 & 40352 & LICEO TEC.PROFESIONAL PEDRO AGUIRRE CERDA       & CALLE LARGA     & LICEO TEC.PROFESIONAL PEDRO AGUIRRE CERDA ,  CALLE LARGA      & -70.62036 & -32.85053\\\\\n\t9248 & 40354 & MONTESSORI                                      & LA SERENA       & MONTESSORI ,  LA SERENA                                       & -71.25728 & -29.93034\\\\\n\t9249 & 40370 & COLEGIO PUKALAN DE ALGARROBO                    & ALGARROBO       & COLEGIO PUKALAN DE ALGARROBO ,  ALGARROBO                     & -71.65353 & -33.39076\\\\\n\t9250 & 40371 & COLEGIO SAN CARLOS DE LAS CABRAS                & LAS CABRAS      & COLEGIO SAN CARLOS DE LAS CABRAS ,  LAS CABRAS                & -71.30549 & -34.28748\\\\\n\t9251 & 40381 & COLEGIO ACONCAGUA EDUCA                         & PUTAENDO        & COLEGIO ACONCAGUA EDUCA ,  PUTAENDO                           & -70.71603 & -32.62484\\\\\n\t9252 & 40383 & ESCUELA BASICA MIL PAISAJES-QUEMCHI             & QUEMCHI         & ESCUELA BASICA MIL PAISAJES-QUEMCHI ,  QUEMCHI                & -73.47622 & -42.14439\\\\\n\t9253 & 40390 & ESCUELA HOSPITALARIA ALIANZA                    & OSORNO          & ESCUELA HOSPITALARIA ALIANZA ,  OSORNO                        & -73.12832 & -40.58757\\\\\n\t9254 & 40393 & SCUOLA ITALIANA ARTURO DELL� ORO VI�A DEL MAR   & VI�A DEL MAR    & SCUOLA ITALIANA ARTURO DELLÑ ORO VIÑA DEL MAR ,  VIÑA DEL MAR & -71.53063 & -33.02905\\\\\n\t9255 & 40395 & COLEGIO JOHN WALL HOLCOMB                       & ARICA           & COLEGIO JOHN WALL HOLCOMB ,  ARICA                            & -70.29601 & -18.44785\\\\\n\t9256 & 40399 & COLEGIO NAZARET                                 & ALTO HOSPICIO   & COLEGIO NAZARET ,  ALTO HOSPICIO                              & -70.09577 & -20.24699\\\\\n\t9257 & 40400 & CENTRO DE EDUCACION INTEGRAL DE ADULTOS SANTA   & COQUIMBO        & CENTRO DE EDUCACION INTEGRAL DE ADULTOS SANTA ,  COQUIMBO     & -71.34295 & -29.98690\\\\\n\t9258 & 40403 & GREEN PARK SCHOOL                               & OSORNO          & GREEN PARK SCHOOL ,  OSORNO                                   & -73.15798 & -40.54993\\\\\n\t9259 & 40406 & COLEGIO MADRE ISABEL LARRA�AGA                  & PUERTO MONTT    & COLEGIO MADRE ISABEL LARRAÑAGA ,  PUERTO MONTT                & -72.94147 & -41.46998\\\\\n\t9260 & 40407 & CENTRO DE ESTUDIOS BORDEMAR                     & CALERA          & CENTRO DE ESTUDIOS BORDEMAR ,  CALERA                         & -71.20732 & -32.78734\\\\\n\t9261 & 40409 & COLEGIO INTERCULTURAL LEONARDO DA VINCI         & CASABLANCA      & COLEGIO INTERCULTURAL LEONARDO DA VINCI ,  CASABLANCA         & -73.86262 &  40.74259\\\\\n\t9262 & 40414 & CENTRO EDUC.DE INTEGRAC.DE ADULTOS NEWEN        & EL TABO         & CENTRO EDUC.DE INTEGRAC.DE ADULTOS NEWEN ,  EL TABO           & -71.62071 & -33.49193\\\\\n\t9263 & 40418 & COLEGIO YUMBREL                                 & OSORNO          & COLEGIO YUMBREL ,  OSORNO                                     & -73.15393 & -40.58021\\\\\n\t9264 & 40422 & COLEGIO NIRVANA                                 & ALTO HOSPICIO   & COLEGIO NIRVANA ,  ALTO HOSPICIO                              & -70.09466 & -20.29301\\\\\n\t9265 & 40423 & COLEGIO SAN JUAN                                & ANCUD           & COLEGIO SAN JUAN ,  ANCUD                                     & -73.81933 & -41.86300\\\\\n\t9266 & 40424 & CENTRO EDUCACIONAL RAICES DE MI TIERRA          & DALCAHUE        & CENTRO EDUCACIONAL RAICES DE MI TIERRA ,  DALCAHUE            & -73.67100 & -42.36173\\\\\n\t9267 & 40429 & LICEO TECNICO PROFESIONAL DE ADULTOS            & IQUIQUE         & LICEO TECNICO PROFESIONAL DE ADULTOS ,  IQUIQUE               & -70.14873 & -20.22547\\\\\n\t9268 & 40435 & INSTITUTO DE ESTUDIOS IBERO CHILE               & QUILPUE         & INSTITUTO DE ESTUDIOS IBERO CHILE ,  QUILPUE                  & -71.44957 & -33.04727\\\\\n\t9269 & 40436 & COLEGIO DE LAS ARTES Y LETRAS BETHEL DE QUILPUE & QUILPUE         & COLEGIO DE LAS ARTES Y LETRAS BETHEL DE QUILPUE ,  QUILPUE    & -71.43518 & -33.04818\\\\\n\t9270 & 40447 & CENTRO DE EDUCACION INTEGRADA DE ADULTOS AEK    & CALBUCO         & CENTRO DE EDUCACION INTEGRADA DE ADULTOS AEK ,  CALBUCO       & -73.13271 & -41.77202\\\\\n\t9271 & 40455 & COLEGIO PATAGONIA INSULAR                       & CASTRO          & COLEGIO PATAGONIA INSULAR ,  CASTRO                           & -73.77376 & -42.48097\\\\\n\t9272 & 40457 & LICEO TECNICO PROFESIONAL PABLO NERUDA          & CASTRO          & LICEO TECNICO PROFESIONAL PABLO NERUDA ,  CASTRO              & -73.77352 & -42.48284\\\\\n\t9273 & 40459 & CENTRO EDUCACIONAL ALBORADA                     & ANCUD           & CENTRO EDUCACIONAL ALBORADA ,  ANCUD                          & -73.82239 & -41.86468\\\\\n\\end{tabular}\n",
            "text/markdown": "\nA data.frame: 9273 × 6\n\n| <!--/--> | RBD &lt;int&gt; | NOM_RBD &lt;chr&gt; | NOM_COM_RBD &lt;chr&gt; | query &lt;chr&gt; | lon &lt;dbl&gt; | lat &lt;dbl&gt; |\n|---|---|---|---|---|---|---|\n| 1 |  1 | LICEO POLITECNICO ARICA                 | ARICA | LICEO POLITECNICO ARICA ,  ARICA                 | -70.29469 | -18.48719 |\n| 2 |  3 | ESC. PEDRO VICENTE GUTIERREZ TORRES     | ARICA | ESC. PEDRO VICENTE GUTIERREZ TORRES ,  ARICA     | -70.30278 | -18.48696 |\n| 3 |  4 | LICEO OCTAVIO PALMA PEREZ               | ARICA | LICEO OCTAVIO PALMA PEREZ ,  ARICA               | -70.30792 | -18.47417 |\n| 4 |  5 | JOVINA NARANJO FERNANDEZ                | ARICA | JOVINA NARANJO FERNANDEZ ,  ARICA                | -70.31345 | -18.47680 |\n| 5 |  7 | L. POLI. ANTONIO VARAS DE LA BARRA      | ARICA | L. POLI. ANTONIO VARAS DE LA BARRA ,  ARICA      | -70.28795 | -18.47595 |\n| 6 |  8 | COLEGIO INTEGRADO EDUARDO FREI MONTALVA | ARICA | COLEGIO INTEGRADO EDUARDO FREI MONTALVA ,  ARICA | -70.31737 | -18.48267 |\n| 7 |  9 | ESCUELA REPUBLICA DE ISRAEL             | ARICA | ESCUELA REPUBLICA DE ISRAEL ,  ARICA             | -70.30278 | -18.48696 |\n| 8 | 10 | ESCUELA REPUBLICA DE FRANCIA            | ARICA | ESCUELA REPUBLICA DE FRANCIA ,  ARICA            | -70.30892 | -18.47422 |\n| 9 | 11 | ESC. GRAL. PEDRO LAGOS MARCHANT         | ARICA | ESC. GRAL. PEDRO LAGOS MARCHANT ,  ARICA         | -70.31159 | -18.49111 |\n| 10 | 12 | ESCUELA GRAL JOSE MIGUEL CARRERA        | ARICA | ESCUELA GRAL JOSE MIGUEL CARRERA ,  ARICA        | -70.29398 | -18.49211 |\n| 11 | 13 | ESCUELA MANUEL RODRIGUEZ ERDOYZA        | ARICA | ESCUELA MANUEL RODRIGUEZ ERDOYZA ,  ARICA        | -70.28436 | -18.48109 |\n| 12 | 14 | ESCUELA ROMULO J. PENA MATURANA         | ARICA | ESCUELA ROMULO J. PENA MATURANA ,  ARICA         | -70.28984 | -18.48126 |\n| 13 | 15 | LICEO ARTISTICO DR. JUAN NOE CREVANI    | ARICA | LICEO ARTISTICO DR. JUAN NOE CREVANI ,  ARICA    | -70.30100 | -18.47215 |\n| 14 | 16 | ESCUELA REGIMIENTO RANCAGUA             | ARICA | ESCUELA REGIMIENTO RANCAGUA ,  ARICA             | -70.30887 | -18.47491 |\n| 15 | 17 | ESCUELA SUBTTE. LUIS CRUZ MARTINEZ      | ARICA | ESCUELA SUBTTE. LUIS CRUZ MARTINEZ ,  ARICA      | -70.29117 | -18.46748 |\n| 16 | 18 | ESC. COMTE. JUAN JOSE SAN MARTIN        | ARICA | ESC. COMTE. JUAN JOSE SAN MARTIN ,  ARICA        | -70.28738 | -18.47678 |\n| 17 | 19 | ESC. HUMBERTO VALENZUELA GARCIA         | ARICA | ESC. HUMBERTO VALENZUELA GARCIA ,  ARICA         | -70.29190 | -18.47469 |\n| 18 | 20 | ESCUELA TUCAPEL                         | ARICA | ESCUELA TUCAPEL ,  ARICA                         | -70.29504 | -18.47995 |\n| 19 | 22 | ESCUELA GABRIELA MISTRAL                | ARICA | ESCUELA GABRIELA MISTRAL ,  ARICA                | -70.29087 | -18.44773 |\n| 20 | 25 | COLEGIO CENTENARIO DE ARICA             | ARICA | COLEGIO CENTENARIO DE ARICA ,  ARICA             | -70.29311 | -18.43982 |\n| 21 | 26 | ESCUELA REPUBLICA DE ARGENTINA          | ARICA | ESCUELA REPUBLICA DE ARGENTINA ,  ARICA          | -70.30393 | -18.47830 |\n| 22 | 27 | ESCUELA ESMERALDA                       | ARICA | ESCUELA ESMERALDA ,  ARICA                       | -70.30788 | -18.48325 |\n| 23 | 28 | ESCUELA RICARDO SILVA ARRIAGADA         | ARICA | ESCUELA RICARDO SILVA ARRIAGADA ,  ARICA         | -70.29446 | -18.48494 |\n| 24 | 29 | ESCUELA AMERICA                         | ARICA | ESCUELA AMERICA ,  ARICA                         | -70.28265 | -18.47768 |\n| 25 | 31 | ESCUELA DARIO SALAS DIAZ                | ARICA | ESCUELA DARIO SALAS DIAZ ,  ARICA                | -70.29417 | -18.48292 |\n| 26 | 32 | LICEO AGRICOLA JOSE ABELARDO NUNEZ M.   | ARICA | LICEO AGRICOLA JOSE ABELARDO NUNEZ M. ,  ARICA   | -70.17844 | -18.51933 |\n| 27 | 33 | ESCUELA CARLOS CONDELL DE LA HAZA       | ARICA | ESCUELA CARLOS CONDELL DE LA HAZA ,  ARICA       | -70.22534 | -18.41687 |\n| 28 | 35 | ESCUELA GRAL. MANUEL BAQUEDANO          | ARICA | ESCUELA GRAL. MANUEL BAQUEDANO ,  ARICA          | -70.31854 | -18.47943 |\n| 29 | 36 | ESCUELA IGNACIO CARRERA PINTO           | ARICA | ESCUELA IGNACIO CARRERA PINTO ,  ARICA           | -70.28400 | -18.49660 |\n| 30 | 38 | ESCUELA ESPA�A                          | ARICA | ESCUELA ESPAÑA ,  ARICA                          | -70.29087 | -18.44773 |\n| ⋮ | ⋮ | ⋮ | ⋮ | ⋮ | ⋮ | ⋮ |\n| 9244 | 40340 | LICEO DE ALTO DEL CARMEN                        | ALTO DEL CARMEN | LICEO DE ALTO DEL CARMEN ,  ALTO DEL CARMEN                   | -70.47270 | -28.77712 |\n| 9245 | 40343 | COLEGIO CREACION LA ARAUCANA PUERTO MONTT       | PUERTO MONTT    | COLEGIO CREACION LA ARAUCANA PUERTO MONTT ,  PUERTO MONTT     | -72.99403 | -41.46001 |\n| 9246 | 40351 | COLEGIO BOSQUEMAR                               | PUERTO MONTT    | COLEGIO BOSQUEMAR ,  PUERTO MONTT                             | -73.00022 | -41.48593 |\n| 9247 | 40352 | LICEO TEC.PROFESIONAL PEDRO AGUIRRE CERDA       | CALLE LARGA     | LICEO TEC.PROFESIONAL PEDRO AGUIRRE CERDA ,  CALLE LARGA      | -70.62036 | -32.85053 |\n| 9248 | 40354 | MONTESSORI                                      | LA SERENA       | MONTESSORI ,  LA SERENA                                       | -71.25728 | -29.93034 |\n| 9249 | 40370 | COLEGIO PUKALAN DE ALGARROBO                    | ALGARROBO       | COLEGIO PUKALAN DE ALGARROBO ,  ALGARROBO                     | -71.65353 | -33.39076 |\n| 9250 | 40371 | COLEGIO SAN CARLOS DE LAS CABRAS                | LAS CABRAS      | COLEGIO SAN CARLOS DE LAS CABRAS ,  LAS CABRAS                | -71.30549 | -34.28748 |\n| 9251 | 40381 | COLEGIO ACONCAGUA EDUCA                         | PUTAENDO        | COLEGIO ACONCAGUA EDUCA ,  PUTAENDO                           | -70.71603 | -32.62484 |\n| 9252 | 40383 | ESCUELA BASICA MIL PAISAJES-QUEMCHI             | QUEMCHI         | ESCUELA BASICA MIL PAISAJES-QUEMCHI ,  QUEMCHI                | -73.47622 | -42.14439 |\n| 9253 | 40390 | ESCUELA HOSPITALARIA ALIANZA                    | OSORNO          | ESCUELA HOSPITALARIA ALIANZA ,  OSORNO                        | -73.12832 | -40.58757 |\n| 9254 | 40393 | SCUOLA ITALIANA ARTURO DELL� ORO VI�A DEL MAR   | VI�A DEL MAR    | SCUOLA ITALIANA ARTURO DELLÑ ORO VIÑA DEL MAR ,  VIÑA DEL MAR | -71.53063 | -33.02905 |\n| 9255 | 40395 | COLEGIO JOHN WALL HOLCOMB                       | ARICA           | COLEGIO JOHN WALL HOLCOMB ,  ARICA                            | -70.29601 | -18.44785 |\n| 9256 | 40399 | COLEGIO NAZARET                                 | ALTO HOSPICIO   | COLEGIO NAZARET ,  ALTO HOSPICIO                              | -70.09577 | -20.24699 |\n| 9257 | 40400 | CENTRO DE EDUCACION INTEGRAL DE ADULTOS SANTA   | COQUIMBO        | CENTRO DE EDUCACION INTEGRAL DE ADULTOS SANTA ,  COQUIMBO     | -71.34295 | -29.98690 |\n| 9258 | 40403 | GREEN PARK SCHOOL                               | OSORNO          | GREEN PARK SCHOOL ,  OSORNO                                   | -73.15798 | -40.54993 |\n| 9259 | 40406 | COLEGIO MADRE ISABEL LARRA�AGA                  | PUERTO MONTT    | COLEGIO MADRE ISABEL LARRAÑAGA ,  PUERTO MONTT                | -72.94147 | -41.46998 |\n| 9260 | 40407 | CENTRO DE ESTUDIOS BORDEMAR                     | CALERA          | CENTRO DE ESTUDIOS BORDEMAR ,  CALERA                         | -71.20732 | -32.78734 |\n| 9261 | 40409 | COLEGIO INTERCULTURAL LEONARDO DA VINCI         | CASABLANCA      | COLEGIO INTERCULTURAL LEONARDO DA VINCI ,  CASABLANCA         | -73.86262 |  40.74259 |\n| 9262 | 40414 | CENTRO EDUC.DE INTEGRAC.DE ADULTOS NEWEN        | EL TABO         | CENTRO EDUC.DE INTEGRAC.DE ADULTOS NEWEN ,  EL TABO           | -71.62071 | -33.49193 |\n| 9263 | 40418 | COLEGIO YUMBREL                                 | OSORNO          | COLEGIO YUMBREL ,  OSORNO                                     | -73.15393 | -40.58021 |\n| 9264 | 40422 | COLEGIO NIRVANA                                 | ALTO HOSPICIO   | COLEGIO NIRVANA ,  ALTO HOSPICIO                              | -70.09466 | -20.29301 |\n| 9265 | 40423 | COLEGIO SAN JUAN                                | ANCUD           | COLEGIO SAN JUAN ,  ANCUD                                     | -73.81933 | -41.86300 |\n| 9266 | 40424 | CENTRO EDUCACIONAL RAICES DE MI TIERRA          | DALCAHUE        | CENTRO EDUCACIONAL RAICES DE MI TIERRA ,  DALCAHUE            | -73.67100 | -42.36173 |\n| 9267 | 40429 | LICEO TECNICO PROFESIONAL DE ADULTOS            | IQUIQUE         | LICEO TECNICO PROFESIONAL DE ADULTOS ,  IQUIQUE               | -70.14873 | -20.22547 |\n| 9268 | 40435 | INSTITUTO DE ESTUDIOS IBERO CHILE               | QUILPUE         | INSTITUTO DE ESTUDIOS IBERO CHILE ,  QUILPUE                  | -71.44957 | -33.04727 |\n| 9269 | 40436 | COLEGIO DE LAS ARTES Y LETRAS BETHEL DE QUILPUE | QUILPUE         | COLEGIO DE LAS ARTES Y LETRAS BETHEL DE QUILPUE ,  QUILPUE    | -71.43518 | -33.04818 |\n| 9270 | 40447 | CENTRO DE EDUCACION INTEGRADA DE ADULTOS AEK    | CALBUCO         | CENTRO DE EDUCACION INTEGRADA DE ADULTOS AEK ,  CALBUCO       | -73.13271 | -41.77202 |\n| 9271 | 40455 | COLEGIO PATAGONIA INSULAR                       | CASTRO          | COLEGIO PATAGONIA INSULAR ,  CASTRO                           | -73.77376 | -42.48097 |\n| 9272 | 40457 | LICEO TECNICO PROFESIONAL PABLO NERUDA          | CASTRO          | LICEO TECNICO PROFESIONAL PABLO NERUDA ,  CASTRO              | -73.77352 | -42.48284 |\n| 9273 | 40459 | CENTRO EDUCACIONAL ALBORADA                     | ANCUD           | CENTRO EDUCACIONAL ALBORADA ,  ANCUD                          | -73.82239 | -41.86468 |\n\n",
            "text/html": [
              "<table class=\"dataframe\">\n",
              "<caption>A data.frame: 9273 × 6</caption>\n",
              "<thead>\n",
              "\t<tr><th></th><th scope=col>RBD</th><th scope=col>NOM_RBD</th><th scope=col>NOM_COM_RBD</th><th scope=col>query</th><th scope=col>lon</th><th scope=col>lat</th></tr>\n",
              "\t<tr><th></th><th scope=col>&lt;int&gt;</th><th scope=col>&lt;chr&gt;</th><th scope=col>&lt;chr&gt;</th><th scope=col>&lt;chr&gt;</th><th scope=col>&lt;dbl&gt;</th><th scope=col>&lt;dbl&gt;</th></tr>\n",
              "</thead>\n",
              "<tbody>\n",
              "\t<tr><th scope=row>1</th><td> 1</td><td>LICEO POLITECNICO ARICA                </td><td>ARICA</td><td>LICEO POLITECNICO ARICA ,  ARICA                </td><td>-70.29469</td><td>-18.48719</td></tr>\n",
              "\t<tr><th scope=row>2</th><td> 3</td><td>ESC. PEDRO VICENTE GUTIERREZ TORRES    </td><td>ARICA</td><td>ESC. PEDRO VICENTE GUTIERREZ TORRES ,  ARICA    </td><td>-70.30278</td><td>-18.48696</td></tr>\n",
              "\t<tr><th scope=row>3</th><td> 4</td><td>LICEO OCTAVIO PALMA PEREZ              </td><td>ARICA</td><td>LICEO OCTAVIO PALMA PEREZ ,  ARICA              </td><td>-70.30792</td><td>-18.47417</td></tr>\n",
              "\t<tr><th scope=row>4</th><td> 5</td><td>JOVINA NARANJO FERNANDEZ               </td><td>ARICA</td><td>JOVINA NARANJO FERNANDEZ ,  ARICA               </td><td>-70.31345</td><td>-18.47680</td></tr>\n",
              "\t<tr><th scope=row>5</th><td> 7</td><td>L. POLI. ANTONIO VARAS DE LA BARRA     </td><td>ARICA</td><td>L. POLI. ANTONIO VARAS DE LA BARRA ,  ARICA     </td><td>-70.28795</td><td>-18.47595</td></tr>\n",
              "\t<tr><th scope=row>6</th><td> 8</td><td>COLEGIO INTEGRADO EDUARDO FREI MONTALVA</td><td>ARICA</td><td>COLEGIO INTEGRADO EDUARDO FREI MONTALVA ,  ARICA</td><td>-70.31737</td><td>-18.48267</td></tr>\n",
              "\t<tr><th scope=row>7</th><td> 9</td><td>ESCUELA REPUBLICA DE ISRAEL            </td><td>ARICA</td><td>ESCUELA REPUBLICA DE ISRAEL ,  ARICA            </td><td>-70.30278</td><td>-18.48696</td></tr>\n",
              "\t<tr><th scope=row>8</th><td>10</td><td>ESCUELA REPUBLICA DE FRANCIA           </td><td>ARICA</td><td>ESCUELA REPUBLICA DE FRANCIA ,  ARICA           </td><td>-70.30892</td><td>-18.47422</td></tr>\n",
              "\t<tr><th scope=row>9</th><td>11</td><td>ESC. GRAL. PEDRO LAGOS MARCHANT        </td><td>ARICA</td><td>ESC. GRAL. PEDRO LAGOS MARCHANT ,  ARICA        </td><td>-70.31159</td><td>-18.49111</td></tr>\n",
              "\t<tr><th scope=row>10</th><td>12</td><td>ESCUELA GRAL JOSE MIGUEL CARRERA       </td><td>ARICA</td><td>ESCUELA GRAL JOSE MIGUEL CARRERA ,  ARICA       </td><td>-70.29398</td><td>-18.49211</td></tr>\n",
              "\t<tr><th scope=row>11</th><td>13</td><td>ESCUELA MANUEL RODRIGUEZ ERDOYZA       </td><td>ARICA</td><td>ESCUELA MANUEL RODRIGUEZ ERDOYZA ,  ARICA       </td><td>-70.28436</td><td>-18.48109</td></tr>\n",
              "\t<tr><th scope=row>12</th><td>14</td><td>ESCUELA ROMULO J. PENA MATURANA        </td><td>ARICA</td><td>ESCUELA ROMULO J. PENA MATURANA ,  ARICA        </td><td>-70.28984</td><td>-18.48126</td></tr>\n",
              "\t<tr><th scope=row>13</th><td>15</td><td>LICEO ARTISTICO DR. JUAN NOE CREVANI   </td><td>ARICA</td><td>LICEO ARTISTICO DR. JUAN NOE CREVANI ,  ARICA   </td><td>-70.30100</td><td>-18.47215</td></tr>\n",
              "\t<tr><th scope=row>14</th><td>16</td><td>ESCUELA REGIMIENTO RANCAGUA            </td><td>ARICA</td><td>ESCUELA REGIMIENTO RANCAGUA ,  ARICA            </td><td>-70.30887</td><td>-18.47491</td></tr>\n",
              "\t<tr><th scope=row>15</th><td>17</td><td>ESCUELA SUBTTE. LUIS CRUZ MARTINEZ     </td><td>ARICA</td><td>ESCUELA SUBTTE. LUIS CRUZ MARTINEZ ,  ARICA     </td><td>-70.29117</td><td>-18.46748</td></tr>\n",
              "\t<tr><th scope=row>16</th><td>18</td><td>ESC. COMTE. JUAN JOSE SAN MARTIN       </td><td>ARICA</td><td>ESC. COMTE. JUAN JOSE SAN MARTIN ,  ARICA       </td><td>-70.28738</td><td>-18.47678</td></tr>\n",
              "\t<tr><th scope=row>17</th><td>19</td><td>ESC. HUMBERTO VALENZUELA GARCIA        </td><td>ARICA</td><td>ESC. HUMBERTO VALENZUELA GARCIA ,  ARICA        </td><td>-70.29190</td><td>-18.47469</td></tr>\n",
              "\t<tr><th scope=row>18</th><td>20</td><td>ESCUELA TUCAPEL                        </td><td>ARICA</td><td>ESCUELA TUCAPEL ,  ARICA                        </td><td>-70.29504</td><td>-18.47995</td></tr>\n",
              "\t<tr><th scope=row>19</th><td>22</td><td>ESCUELA GABRIELA MISTRAL               </td><td>ARICA</td><td>ESCUELA GABRIELA MISTRAL ,  ARICA               </td><td>-70.29087</td><td>-18.44773</td></tr>\n",
              "\t<tr><th scope=row>20</th><td>25</td><td>COLEGIO CENTENARIO DE ARICA            </td><td>ARICA</td><td>COLEGIO CENTENARIO DE ARICA ,  ARICA            </td><td>-70.29311</td><td>-18.43982</td></tr>\n",
              "\t<tr><th scope=row>21</th><td>26</td><td>ESCUELA REPUBLICA DE ARGENTINA         </td><td>ARICA</td><td>ESCUELA REPUBLICA DE ARGENTINA ,  ARICA         </td><td>-70.30393</td><td>-18.47830</td></tr>\n",
              "\t<tr><th scope=row>22</th><td>27</td><td>ESCUELA ESMERALDA                      </td><td>ARICA</td><td>ESCUELA ESMERALDA ,  ARICA                      </td><td>-70.30788</td><td>-18.48325</td></tr>\n",
              "\t<tr><th scope=row>23</th><td>28</td><td>ESCUELA RICARDO SILVA ARRIAGADA        </td><td>ARICA</td><td>ESCUELA RICARDO SILVA ARRIAGADA ,  ARICA        </td><td>-70.29446</td><td>-18.48494</td></tr>\n",
              "\t<tr><th scope=row>24</th><td>29</td><td>ESCUELA AMERICA                        </td><td>ARICA</td><td>ESCUELA AMERICA ,  ARICA                        </td><td>-70.28265</td><td>-18.47768</td></tr>\n",
              "\t<tr><th scope=row>25</th><td>31</td><td>ESCUELA DARIO SALAS DIAZ               </td><td>ARICA</td><td>ESCUELA DARIO SALAS DIAZ ,  ARICA               </td><td>-70.29417</td><td>-18.48292</td></tr>\n",
              "\t<tr><th scope=row>26</th><td>32</td><td>LICEO AGRICOLA JOSE ABELARDO NUNEZ M.  </td><td>ARICA</td><td>LICEO AGRICOLA JOSE ABELARDO NUNEZ M. ,  ARICA  </td><td>-70.17844</td><td>-18.51933</td></tr>\n",
              "\t<tr><th scope=row>27</th><td>33</td><td>ESCUELA CARLOS CONDELL DE LA HAZA      </td><td>ARICA</td><td>ESCUELA CARLOS CONDELL DE LA HAZA ,  ARICA      </td><td>-70.22534</td><td>-18.41687</td></tr>\n",
              "\t<tr><th scope=row>28</th><td>35</td><td>ESCUELA GRAL. MANUEL BAQUEDANO         </td><td>ARICA</td><td>ESCUELA GRAL. MANUEL BAQUEDANO ,  ARICA         </td><td>-70.31854</td><td>-18.47943</td></tr>\n",
              "\t<tr><th scope=row>29</th><td>36</td><td>ESCUELA IGNACIO CARRERA PINTO          </td><td>ARICA</td><td>ESCUELA IGNACIO CARRERA PINTO ,  ARICA          </td><td>-70.28400</td><td>-18.49660</td></tr>\n",
              "\t<tr><th scope=row>30</th><td>38</td><td>ESCUELA ESPA�A                         </td><td>ARICA</td><td>ESCUELA ESPAÑA ,  ARICA                         </td><td>-70.29087</td><td>-18.44773</td></tr>\n",
              "\t<tr><th scope=row>⋮</th><td>⋮</td><td>⋮</td><td>⋮</td><td>⋮</td><td>⋮</td><td>⋮</td></tr>\n",
              "\t<tr><th scope=row>9244</th><td>40340</td><td>LICEO DE ALTO DEL CARMEN                       </td><td>ALTO DEL CARMEN</td><td>LICEO DE ALTO DEL CARMEN ,  ALTO DEL CARMEN                  </td><td>-70.47270</td><td>-28.77712</td></tr>\n",
              "\t<tr><th scope=row>9245</th><td>40343</td><td>COLEGIO CREACION LA ARAUCANA PUERTO MONTT      </td><td>PUERTO MONTT   </td><td>COLEGIO CREACION LA ARAUCANA PUERTO MONTT ,  PUERTO MONTT    </td><td>-72.99403</td><td>-41.46001</td></tr>\n",
              "\t<tr><th scope=row>9246</th><td>40351</td><td>COLEGIO BOSQUEMAR                              </td><td>PUERTO MONTT   </td><td>COLEGIO BOSQUEMAR ,  PUERTO MONTT                            </td><td>-73.00022</td><td>-41.48593</td></tr>\n",
              "\t<tr><th scope=row>9247</th><td>40352</td><td>LICEO TEC.PROFESIONAL PEDRO AGUIRRE CERDA      </td><td>CALLE LARGA    </td><td>LICEO TEC.PROFESIONAL PEDRO AGUIRRE CERDA ,  CALLE LARGA     </td><td>-70.62036</td><td>-32.85053</td></tr>\n",
              "\t<tr><th scope=row>9248</th><td>40354</td><td>MONTESSORI                                     </td><td>LA SERENA      </td><td>MONTESSORI ,  LA SERENA                                      </td><td>-71.25728</td><td>-29.93034</td></tr>\n",
              "\t<tr><th scope=row>9249</th><td>40370</td><td>COLEGIO PUKALAN DE ALGARROBO                   </td><td>ALGARROBO      </td><td>COLEGIO PUKALAN DE ALGARROBO ,  ALGARROBO                    </td><td>-71.65353</td><td>-33.39076</td></tr>\n",
              "\t<tr><th scope=row>9250</th><td>40371</td><td>COLEGIO SAN CARLOS DE LAS CABRAS               </td><td>LAS CABRAS     </td><td>COLEGIO SAN CARLOS DE LAS CABRAS ,  LAS CABRAS               </td><td>-71.30549</td><td>-34.28748</td></tr>\n",
              "\t<tr><th scope=row>9251</th><td>40381</td><td>COLEGIO ACONCAGUA EDUCA                        </td><td>PUTAENDO       </td><td>COLEGIO ACONCAGUA EDUCA ,  PUTAENDO                          </td><td>-70.71603</td><td>-32.62484</td></tr>\n",
              "\t<tr><th scope=row>9252</th><td>40383</td><td>ESCUELA BASICA MIL PAISAJES-QUEMCHI            </td><td>QUEMCHI        </td><td>ESCUELA BASICA MIL PAISAJES-QUEMCHI ,  QUEMCHI               </td><td>-73.47622</td><td>-42.14439</td></tr>\n",
              "\t<tr><th scope=row>9253</th><td>40390</td><td>ESCUELA HOSPITALARIA ALIANZA                   </td><td>OSORNO         </td><td>ESCUELA HOSPITALARIA ALIANZA ,  OSORNO                       </td><td>-73.12832</td><td>-40.58757</td></tr>\n",
              "\t<tr><th scope=row>9254</th><td>40393</td><td>SCUOLA ITALIANA ARTURO DELL� ORO VI�A DEL MAR  </td><td>VI�A DEL MAR   </td><td>SCUOLA ITALIANA ARTURO DELLÑ ORO VIÑA DEL MAR ,  VIÑA DEL MAR</td><td>-71.53063</td><td>-33.02905</td></tr>\n",
              "\t<tr><th scope=row>9255</th><td>40395</td><td>COLEGIO JOHN WALL HOLCOMB                      </td><td>ARICA          </td><td>COLEGIO JOHN WALL HOLCOMB ,  ARICA                           </td><td>-70.29601</td><td>-18.44785</td></tr>\n",
              "\t<tr><th scope=row>9256</th><td>40399</td><td>COLEGIO NAZARET                                </td><td>ALTO HOSPICIO  </td><td>COLEGIO NAZARET ,  ALTO HOSPICIO                             </td><td>-70.09577</td><td>-20.24699</td></tr>\n",
              "\t<tr><th scope=row>9257</th><td>40400</td><td>CENTRO DE EDUCACION INTEGRAL DE ADULTOS SANTA  </td><td>COQUIMBO       </td><td>CENTRO DE EDUCACION INTEGRAL DE ADULTOS SANTA ,  COQUIMBO    </td><td>-71.34295</td><td>-29.98690</td></tr>\n",
              "\t<tr><th scope=row>9258</th><td>40403</td><td>GREEN PARK SCHOOL                              </td><td>OSORNO         </td><td>GREEN PARK SCHOOL ,  OSORNO                                  </td><td>-73.15798</td><td>-40.54993</td></tr>\n",
              "\t<tr><th scope=row>9259</th><td>40406</td><td>COLEGIO MADRE ISABEL LARRA�AGA                 </td><td>PUERTO MONTT   </td><td>COLEGIO MADRE ISABEL LARRAÑAGA ,  PUERTO MONTT               </td><td>-72.94147</td><td>-41.46998</td></tr>\n",
              "\t<tr><th scope=row>9260</th><td>40407</td><td>CENTRO DE ESTUDIOS BORDEMAR                    </td><td>CALERA         </td><td>CENTRO DE ESTUDIOS BORDEMAR ,  CALERA                        </td><td>-71.20732</td><td>-32.78734</td></tr>\n",
              "\t<tr><th scope=row>9261</th><td>40409</td><td>COLEGIO INTERCULTURAL LEONARDO DA VINCI        </td><td>CASABLANCA     </td><td>COLEGIO INTERCULTURAL LEONARDO DA VINCI ,  CASABLANCA        </td><td>-73.86262</td><td> 40.74259</td></tr>\n",
              "\t<tr><th scope=row>9262</th><td>40414</td><td>CENTRO EDUC.DE INTEGRAC.DE ADULTOS NEWEN       </td><td>EL TABO        </td><td>CENTRO EDUC.DE INTEGRAC.DE ADULTOS NEWEN ,  EL TABO          </td><td>-71.62071</td><td>-33.49193</td></tr>\n",
              "\t<tr><th scope=row>9263</th><td>40418</td><td>COLEGIO YUMBREL                                </td><td>OSORNO         </td><td>COLEGIO YUMBREL ,  OSORNO                                    </td><td>-73.15393</td><td>-40.58021</td></tr>\n",
              "\t<tr><th scope=row>9264</th><td>40422</td><td>COLEGIO NIRVANA                                </td><td>ALTO HOSPICIO  </td><td>COLEGIO NIRVANA ,  ALTO HOSPICIO                             </td><td>-70.09466</td><td>-20.29301</td></tr>\n",
              "\t<tr><th scope=row>9265</th><td>40423</td><td>COLEGIO SAN JUAN                               </td><td>ANCUD          </td><td>COLEGIO SAN JUAN ,  ANCUD                                    </td><td>-73.81933</td><td>-41.86300</td></tr>\n",
              "\t<tr><th scope=row>9266</th><td>40424</td><td>CENTRO EDUCACIONAL RAICES DE MI TIERRA         </td><td>DALCAHUE       </td><td>CENTRO EDUCACIONAL RAICES DE MI TIERRA ,  DALCAHUE           </td><td>-73.67100</td><td>-42.36173</td></tr>\n",
              "\t<tr><th scope=row>9267</th><td>40429</td><td>LICEO TECNICO PROFESIONAL DE ADULTOS           </td><td>IQUIQUE        </td><td>LICEO TECNICO PROFESIONAL DE ADULTOS ,  IQUIQUE              </td><td>-70.14873</td><td>-20.22547</td></tr>\n",
              "\t<tr><th scope=row>9268</th><td>40435</td><td>INSTITUTO DE ESTUDIOS IBERO CHILE              </td><td>QUILPUE        </td><td>INSTITUTO DE ESTUDIOS IBERO CHILE ,  QUILPUE                 </td><td>-71.44957</td><td>-33.04727</td></tr>\n",
              "\t<tr><th scope=row>9269</th><td>40436</td><td>COLEGIO DE LAS ARTES Y LETRAS BETHEL DE QUILPUE</td><td>QUILPUE        </td><td>COLEGIO DE LAS ARTES Y LETRAS BETHEL DE QUILPUE ,  QUILPUE   </td><td>-71.43518</td><td>-33.04818</td></tr>\n",
              "\t<tr><th scope=row>9270</th><td>40447</td><td>CENTRO DE EDUCACION INTEGRADA DE ADULTOS AEK   </td><td>CALBUCO        </td><td>CENTRO DE EDUCACION INTEGRADA DE ADULTOS AEK ,  CALBUCO      </td><td>-73.13271</td><td>-41.77202</td></tr>\n",
              "\t<tr><th scope=row>9271</th><td>40455</td><td>COLEGIO PATAGONIA INSULAR                      </td><td>CASTRO         </td><td>COLEGIO PATAGONIA INSULAR ,  CASTRO                          </td><td>-73.77376</td><td>-42.48097</td></tr>\n",
              "\t<tr><th scope=row>9272</th><td>40457</td><td>LICEO TECNICO PROFESIONAL PABLO NERUDA         </td><td>CASTRO         </td><td>LICEO TECNICO PROFESIONAL PABLO NERUDA ,  CASTRO             </td><td>-73.77352</td><td>-42.48284</td></tr>\n",
              "\t<tr><th scope=row>9273</th><td>40459</td><td>CENTRO EDUCACIONAL ALBORADA                    </td><td>ANCUD          </td><td>CENTRO EDUCACIONAL ALBORADA ,  ANCUD                         </td><td>-73.82239</td><td>-41.86468</td></tr>\n",
              "</tbody>\n",
              "</table>\n"
            ]
          },
          "metadata": {
            "tags": []
          }
        }
      ]
    }
  ]
}