{
  "nbformat": 4,
  "nbformat_minor": 0,
  "metadata": {
    "colab": {
      "name": "Proyecto.ipynb",
      "provenance": [],
      "authorship_tag": "ABX9TyOhYp9WMXoN36mKB8lMwoCy",
      "include_colab_link": true
    },
    "kernelspec": {
      "name": "ir",
      "display_name": "R"
    },
    "language_info": {
      "name": "R"
    }
  },
  "cells": [
    {
      "cell_type": "markdown",
      "metadata": {
        "id": "view-in-github",
        "colab_type": "text"
      },
      "source": [
        "<a href=\"https://colab.research.google.com/github/maxigaarp/Gestion-De-Datos-en-R/blob/main/Proyecto.ipynb\" target=\"_parent\"><img src=\"https://colab.research.google.com/assets/colab-badge.svg\" alt=\"Open In Colab\"/></a>"
      ]
    },
    {
      "cell_type": "markdown",
      "metadata": {
        "id": "4Lo_4HPFvv-g"
      },
      "source": [
        "#Proyecto Grupal \n",
        "\n",
        "## Entrega: Domingo 29 de Agosto 2021"
      ]
    },
    {
      "cell_type": "markdown",
      "metadata": {
        "id": "kgbAuynqv0tI"
      },
      "source": [
        "Este trabajo consistirá en armar una base de datos en SQL y un informe descriptivo de los datos y la investigación. El objetivo del proyecto es predecir asistencia a clases en base a los datos meteorologicos de precipitación.\n",
        "\n",
        "La base de datos debe tener la informacion de 3 diferentes fuentes de información:\n",
        "\n",
        " * Asistencia Declarada Mensual ([MINEDUC](http://datos.mineduc.cl/dashboards/19844/asistencia-declarada-mensual-por-ano/)) años: (2015-2019)\n",
        "  Acá se incluyen los porcentajes de asistencia y la cantidad de dias trabajados de todos los alumnos en los distintos colegios de Chile \n",
        " * Reportes de precipitacion Mensual ([CR2](https://www.cr2.cl/camels-cl/)): Datos historicos de precipitacion las distintas estaciones meteorologicas en Chile con localizacion geografica.\n",
        " * Localizacion Colegios (Propia/Google Maps):\n",
        " Datos de la ubicacion geografica de los colegios en Chile.\n",
        "\n",
        "Para esto generar esta base de datos se espera que se incluyan a lo menos 3 diferentes tablas:\n",
        " * alumnos: Informacion relevante de los alumnos. A lo menos incluir 3 atributos.\n",
        " * colegios: Informacion relevante de los colegios. A lo menos incluir 3 atributos, ademas:  nombre (o ID) de la estacion meteorologica más cercana y la distancia a esta, asumiendo latitud y longitud como coordenadas cartesianas.\n",
        " * estudia_en: Informacion relevante del vinculo entre el colegio, mes y alumnos. En la tabla se debe incorporar la informacion mensual para cada alumno en terminos de: asistencia, precipitacion. En este caso la precipitacion debe ser una interpolacion en base a los datos de las precipitaciones de las estaciones meteorologicas y la geolocalizacion de los colegios.\n",
        "\n",
        "Cabe destacar que las bases de datos no se encuentran libres de errores por lo que para consolidar la informacion hay que solucionar problemas de consistencia, completitud, validez. Entre otros se busca que:\n",
        "\n",
        " * Que los datos para cada uno atributos se encuentren en el formato adecuado y unico. Para lograr esto revisar los atributos más importantes: asistencia y precipitacion.\n",
        " * Una unica forma de expresar valores nulos (unificar distintos tipos de descripcion de valores nulos, ejemplo: \" \", NA, 0, -9999, etc). \n",
        " * Seleccionar una cantidad tolerable (mayor que 2 al menos) de valores nulos para las series temporales (los registros de las estaciones meteorologicas). Interpolar los valores nulos en las series.\n",
        "\n",
        "Cabe destacar que las tablas deben unificarse en SQL cargando las tablas mediante RSQL. Luego de esto se espera que se seleccione y utilice un algoritmo adecuado para generar una predicción de asistencia a clases en base a la precipitacion mensual, puede ser alguno de los siguientes: k-means, regresion lineal, regresion logistica.\n",
        "\n",
        "La entrega del proyecto debe tener dos partes: \n",
        "* El codigo donde se genera la base de datos y el desarrollo del algoritmo de prediccion. Puede ser Colab o script de R, debe tener comentarios solo con el objetivo de guiar al ayudante en la correccion.\n",
        "* Un documento de no mas de 3 paginas (sin incluir gráficos) con la documentacion de los datos (diagrama ER, tipo de datos, descripcion, dominio, etc. Pueden guiarse por el esquema de registro en las bases de datos del MINEDUC.) y además un resumen de lo desarrollado en el proyecto (como se generaron las variables, como se procesaron y que resultados se obtuvieron)\n",
        "\n",
        "Para una mejor calidad en el informe usar graficos y tablas que pueden incluir en anexos.\n",
        "\n",
        "\n",
        "\n",
        "Datos disponibles en: https://drive.google.com/drive/folders/17Or8k6rhYvkaeEn_pD10za8A9jluYfUF?usp=sharing"
      ]
    },
    {
      "cell_type": "code",
      "metadata": {
        "id": "f1cnRTbWv0Ko"
      },
      "source": [
        "system(\"gdown --id 1-q1ydcu6afA3LQ9uxlh9J9B9kvEJvrRs\")"
      ],
      "execution_count": 1,
      "outputs": []
    },
    {
      "cell_type": "code",
      "metadata": {
        "id": "5yBkQhxL9TuB"
      },
      "source": [
        "unzip(\"/content/DatosProyecto.zip\")"
      ],
      "execution_count": 2,
      "outputs": []
    },
    {
      "cell_type": "code",
      "metadata": {
        "id": "VVb8HG-l9act"
      },
      "source": [
        "lista <- list.files(\"/content/content/drive/MyDrive/Gestion de Datos/Datos Proyecto/Datos asistencia\")\n",
        "\n",
        "for (name in lista){\n",
        "  unzip(paste(\"/content/Datos asistencia/\",name,sep=\"\"), exdir=\"Asistencia\")\n",
        "}\n"
      ],
      "execution_count": null,
      "outputs": []
    },
    {
      "cell_type": "code",
      "metadata": {
        "id": "qV5nTJTP-Liu"
      },
      "source": [
        ""
      ],
      "execution_count": 9,
      "outputs": []
    },
    {
      "cell_type": "code",
      "metadata": {
        "id": "37MAhP9DC4lP"
      },
      "source": [
        ""
      ],
      "execution_count": 8,
      "outputs": []
    }
  ]
}