{
  "nbformat": 4,
  "nbformat_minor": 0,
  "metadata": {
    "colab": {
      "name": "Proyecto.ipynb",
      "provenance": [],
      "collapsed_sections": [
        "NcC9vMWUj8uP"
      ],
      "authorship_tag": "ABX9TyMIEW2roUr3aGp0B1pEjzKi",
      "include_colab_link": true
    },
    "kernelspec": {
      "name": "ir",
      "display_name": "R"
    },
    "language_info": {
      "name": "R"
    }
  },
  "cells": [
    {
      "cell_type": "markdown",
      "metadata": {
        "id": "view-in-github",
        "colab_type": "text"
      },
      "source": [
        "<a href=\"https://colab.research.google.com/github/maxigaarp/Gestion-De-Datos-en-R/blob/main/Proyecto.ipynb\" target=\"_parent\"><img src=\"https://colab.research.google.com/assets/colab-badge.svg\" alt=\"Open In Colab\"/></a>"
      ]
    },
    {
      "cell_type": "markdown",
      "metadata": {
        "id": "4Lo_4HPFvv-g"
      },
      "source": [
        "#Proyecto Grupal \n",
        "\n",
        "## Entrega: Domingo 29 de Agosto 2021"
      ]
    },
    {
      "cell_type": "markdown",
      "metadata": {
        "id": "kgbAuynqv0tI"
      },
      "source": [
        "Este trabajo consistirá en armar una base de datos en SQL y un informe descriptivo de los datos y la investigación. El objetivo del proyecto es predecir asistencia a clases en base a los datos meteorologicos de precipitación.\n",
        "\n",
        "La base de datos debe tener la informacion de 3 diferentes fuentes de información:\n",
        "\n",
        " * Asistencia Declarada Mensual ([MINEDUC](http://datos.mineduc.cl/dashboards/19844/asistencia-declarada-mensual-por-ano/)) años: (2015-2019)\n",
        "  Acá se incluyen los porcentajes de asistencia y la cantidad de dias trabajados de todos los alumnos en los distintos colegios de Chile \n",
        " * Reportes de precipitacion Mensual ([CR2](https://www.cr2.cl/camels-cl/)): Datos historicos de precipitacion las distintas estaciones meteorologicas en Chile con localizacion geografica.\n",
        " * Localizacion Colegios (Propia/Google Maps):\n",
        " Datos de la ubicacion geografica de los colegios en Chile.\n",
        "\n",
        "Para esto generar esta base de datos se espera que se incluyan a lo menos 3 diferentes tablas:\n",
        " * alumnos: Informacion relevante de los alumnos. A lo menos incluir 3 atributos.\n",
        " * colegios: Informacion relevante de los colegios. A lo menos incluir 3 atributos, ademas:  nombre (o ID) de la estacion meteorologica más cercana y la distancia a esta, asumiendo latitud y longitud como coordenadas cartesianas.\n",
        " * estudia_en: Informacion relevante del vinculo entre el colegio, mes y alumnos. En la tabla se debe incorporar la informacion mensual para cada alumno en terminos de: asistencia, precipitacion. En este caso la precipitacion debe ser una interpolacion en base a los datos de las precipitaciones de las estaciones meteorologicas y la geolocalizacion de los colegios.\n",
        "\n",
        "Cabe destacar que las bases de datos no se encuentran libres de errores por lo que para consolidar la informacion hay que solucionar problemas de consistencia, completitud, validez. Entre otros se busca que:\n",
        "\n",
        " * Que los datos para cada uno atributos se encuentren en el formato adecuado y unico. Para lograr esto revisar los atributos más importantes: asistencia y precipitacion.\n",
        " * Una unica forma de expresar valores nulos (unificar distintos tipos de descripcion de valores nulos, ejemplo: \" \", NA, 0, -9999, etc). \n",
        " * Seleccionar una cantidad tolerable (mayor que 2 al menos) de valores nulos para las series temporales (los registros de las estaciones meteorologicas). Interpolar los valores nulos en las series.\n",
        "\n",
        "Cabe destacar que las tablas deben unificarse en SQL cargando las tablas mediante RSQL. Luego de esto se espera que se seleccione y utilice un algoritmo adecuado para generar una predicción de asistencia a clases en base a la precipitacion mensual, puede ser alguno de los siguientes: k-means, regresion lineal, regresion logistica. Para esta ultima parte, dado el tamaño de los datos de entrenamiento, puede ser que no puedan cargar en R la base de datos, si esto les pasa tienen 4 opciones:\n",
        "\n",
        " * Cargar y utilizar regresion lineal en trozos de la base de datos mediante los comandos dbSendQuery y dbFetch: Para cada trozo utilizar el metodo de prediccion adecuado y luego promediar los pesos de cada uno para obtener un predictor final (es decir obtener un solo conjunto de parametros beta).\n",
        " * Usar un metodo de muestreo en la base de datos: Para ello deben señalar cual metodo ocupan y verificar que sea adecuado, por ejemplo: que incluya alumnos de todas las regiones de chile.\n",
        " * Usar package speedGLM para usar regresion en BigData: Estos algoritmos estan especializados para grandes volumenes de datos. Se encuentra adjunto un pequeño codigo para ayudarlos a utilizar esta herramienta\n",
        " * Analizar un subconjunto de los datos: para ello pueden seleccionar alguna caracteristica que les acomode, por ejemplo la comuna y utilizar regresion lineal dentro de ese conjunto de datos. Sin embargo deberán analizar las diferencias entre distintos grupos, por ejemplo: si se subdivide por la region analizar las diferencias (los parametros son mas relevantes, el R² aumenta, etc...) entre regiones del norte, centro y sur de chile. \n",
        "\n",
        "La entrega del proyecto debe tener dos partes: \n",
        "* El codigo donde se genera la base de datos y el desarrollo del algoritmo de prediccion. Puede ser Colab o script de R, debe tener comentarios solo con el objetivo de guiar al ayudante en la correccion.\n",
        "* Un documento de no mas de 3 paginas (sin incluir gráficos) con la documentacion de los datos (diagrama ER, tipo de datos, descripcion, dominio, etc. Pueden guiarse por el esquema de registro en las bases de datos del MINEDUC.) y además un resumen de lo desarrollado en el proyecto (como se generaron las variables, como se procesaron y que resultados se obtuvieron)\n",
        "\n",
        "Para una mejor calidad en el informe usar graficos y tablas que pueden incluir en anexos.\n",
        "\n",
        "\n",
        "\n",
        "Datos disponibles en: https://drive.google.com/drive/folders/17Or8k6rhYvkaeEn_pD10za8A9jluYfUF?usp=sharing"
      ]
    },
    {
      "cell_type": "markdown",
      "metadata": {
        "id": "5HNgUFHlj3iT"
      },
      "source": [
        "#Descargar datos"
      ]
    },
    {
      "cell_type": "code",
      "metadata": {
        "colab": {
          "base_uri": "https://localhost:8080/"
        },
        "id": "g0jgBUw8WV_g",
        "outputId": "45ba08d6-c0bb-4d16-a699-c916905087db"
      },
      "source": [
        "install.packages(\"RSQLite\")\n"
      ],
      "execution_count": null,
      "outputs": [
        {
          "output_type": "stream",
          "text": [
            "Installing package into ‘/usr/local/lib/R/site-library’\n",
            "(as ‘lib’ is unspecified)\n",
            "\n",
            "also installing the dependency ‘plogr’\n",
            "\n",
            "\n"
          ],
          "name": "stderr"
        }
      ]
    },
    {
      "cell_type": "code",
      "metadata": {
        "colab": {
          "base_uri": "https://localhost:8080/"
        },
        "id": "VcSuCfuTUuj5",
        "outputId": "4a7e7780-7bb8-474d-e4d3-4dba36b9a68e"
      },
      "source": [
        "library(tidyverse)\n",
        "library(data.table)\n",
        "library(RSQLite)"
      ],
      "execution_count": null,
      "outputs": [
        {
          "output_type": "stream",
          "text": [
            "Warning message in system(\"timedatectl\", intern = TRUE):\n",
            "“running command 'timedatectl' had status 1”\n",
            "── \u001b[1mAttaching packages\u001b[22m ─────────────────────────────────────── tidyverse 1.3.1 ──\n",
            "\n",
            "\u001b[32m✔\u001b[39m \u001b[34mggplot2\u001b[39m 3.3.5     \u001b[32m✔\u001b[39m \u001b[34mpurrr  \u001b[39m 0.3.4\n",
            "\u001b[32m✔\u001b[39m \u001b[34mtibble \u001b[39m 3.1.3     \u001b[32m✔\u001b[39m \u001b[34mdplyr  \u001b[39m 1.0.7\n",
            "\u001b[32m✔\u001b[39m \u001b[34mtidyr  \u001b[39m 1.1.3     \u001b[32m✔\u001b[39m \u001b[34mstringr\u001b[39m 1.4.0\n",
            "\u001b[32m✔\u001b[39m \u001b[34mreadr  \u001b[39m 2.0.1     \u001b[32m✔\u001b[39m \u001b[34mforcats\u001b[39m 0.5.1\n",
            "\n",
            "── \u001b[1mConflicts\u001b[22m ────────────────────────────────────────── tidyverse_conflicts() ──\n",
            "\u001b[31m✖\u001b[39m \u001b[34mdplyr\u001b[39m::\u001b[32mfilter()\u001b[39m masks \u001b[34mstats\u001b[39m::filter()\n",
            "\u001b[31m✖\u001b[39m \u001b[34mdplyr\u001b[39m::\u001b[32mlag()\u001b[39m    masks \u001b[34mstats\u001b[39m::lag()\n",
            "\n",
            "\n",
            "Attaching package: ‘data.table’\n",
            "\n",
            "\n",
            "The following objects are masked from ‘package:dplyr’:\n",
            "\n",
            "    between, first, last\n",
            "\n",
            "\n",
            "The following object is masked from ‘package:purrr’:\n",
            "\n",
            "    transpose\n",
            "\n",
            "\n"
          ],
          "name": "stderr"
        }
      ]
    },
    {
      "cell_type": "markdown",
      "metadata": {
        "id": "kbeOmka7jzhC"
      },
      "source": [
        "##Asistencia"
      ]
    },
    {
      "cell_type": "code",
      "metadata": {
        "id": "f1cnRTbWv0Ko"
      },
      "source": [
        "system(\"gdown --id 1-q1ydcu6afA3LQ9uxlh9J9B9kvEJvrRs\")"
      ],
      "execution_count": null,
      "outputs": []
    },
    {
      "cell_type": "code",
      "metadata": {
        "id": "5yBkQhxL9TuB"
      },
      "source": [
        "unzip(\"/content/DatosProyecto.zip\")"
      ],
      "execution_count": null,
      "outputs": []
    },
    {
      "cell_type": "code",
      "metadata": {
        "id": "iyb0sbEJbwd7"
      },
      "source": [
        "library(stringr)"
      ],
      "execution_count": null,
      "outputs": []
    },
    {
      "cell_type": "code",
      "metadata": {
        "id": "VVb8HG-l9act"
      },
      "source": [
        "lista <- list.files(\"/content/content/drive/MyDrive/Gestion de Datos/Datos Proyecto/Datos asistencia\")\n",
        "directorio <- \"/content/content/drive/MyDrive/Gestion de Datos/Datos Proyecto/Datos asistencia/\"\n",
        "\n",
        "for (name in lista){\n",
        "  if (str_detect(name, \".rar\")){\n",
        "    foldername<-substr(name, 1, nchar(name)-4)\n",
        "    system(paste(\"mkdir 'Asistencia/\",foldername,\"'\",sep=\"\"))\n",
        "    system(paste(\"unrar x '\",directorio,name,\"' 'Asistencia/\",substr(name, 1, nchar(name)-4),\"/'\", sep=\"\"),intern = T)\n",
        "  }\n",
        "  else {\n",
        "    unzip(paste(directorio,name,sep=\"\"), exdir=\"Asistencia\")\n",
        "  }\n",
        "}\n"
      ],
      "execution_count": null,
      "outputs": []
    },
    {
      "cell_type": "code",
      "metadata": {
        "id": "OTnXJiY5hBFh"
      },
      "source": [
        "lista_de_csvs <- list.files(\"Asistencia\",pattern = \".(CSV|csv)$\", recursive = TRUE)\n"
      ],
      "execution_count": null,
      "outputs": []
    },
    {
      "cell_type": "code",
      "metadata": {
        "id": "-f4U7Tr0XXmt"
      },
      "source": [
        "conn <- dbConnect(RSQLite::SQLite(), \"mineduc.db\")\n"
      ],
      "execution_count": null,
      "outputs": []
    },
    {
      "cell_type": "markdown",
      "metadata": {
        "id": "7ADvnbYGjxNB"
      },
      "source": [
        "## Precipitacion"
      ]
    },
    {
      "cell_type": "code",
      "metadata": {
        "id": "SPvki2tZjaxu"
      },
      "source": [
        "unzip(\"/content/content/drive/MyDrive/Gestion de Datos/Datos Proyecto/cr2_prAmon_2019.zip\")"
      ],
      "execution_count": null,
      "outputs": []
    },
    {
      "cell_type": "code",
      "metadata": {
        "id": "I-yMIavojqtc"
      },
      "source": [
        ",pp <- read.csv(\"/content/cr2_prAmon_2019/cr2_prAmon_2019.txt\",na = \"-9999\", header =F)\n",
        "pp <- setNames(as.data.frame(t(pp[,-1])),as.character(pp[,1]))\n"
      ],
      "execution_count": null,
      "outputs": []
    },
    {
      "cell_type": "code",
      "metadata": {
        "id": "YorOEIgVGUj9"
      },
      "source": [
        "ppp <- pp %>% select( c(\"codigo_estacion\",\"nombre\", \"latitud\",\"longitud\") | \"2015-01\":\"2019-12\")%>%\n",
        "        pivot_longer(cols = \"2015-01\":\"2019-12\",\n",
        "        values_to = \"Precipitacion\",\n",
        "        names_to = c(\"Año\", \"Mes\"),\n",
        "        names_pattern = \"(....)-(..)\")\n"
      ],
      "execution_count": null,
      "outputs": []
    },
    {
      "cell_type": "markdown",
      "metadata": {
        "id": "NcC9vMWUj8uP"
      },
      "source": [
        "## Geolocalización\n",
        "\n",
        "\n"
      ]
    },
    {
      "cell_type": "code",
      "metadata": {
        "id": "aLOOJzuVkI0B"
      },
      "source": [
        "geocoles <- read.csv(\"/content/content/drive/MyDrive/Gestion de Datos/Datos Proyecto/colesgeo.csv\", row.names=1)"
      ],
      "execution_count": null,
      "outputs": []
    },
    {
      "cell_type": "code",
      "metadata": {
        "colab": {
          "base_uri": "https://localhost:8080/",
          "height": 298
        },
        "id": "r32es3JSOsp8",
        "outputId": "24c90bcb-4080-49a3-d709-cf35cbf112aa"
      },
      "source": [
        "head(geocoles)"
      ],
      "execution_count": null,
      "outputs": [
        {
          "output_type": "display_data",
          "data": {
            "text/plain": [
              "  RBD NOM_RBD                                 NOM_COM_RBD\n",
              "1 1   LICEO POLITECNICO ARICA                 ARICA      \n",
              "2 3   ESC. PEDRO VICENTE GUTIERREZ TORRES     ARICA      \n",
              "3 4   LICEO OCTAVIO PALMA PEREZ               ARICA      \n",
              "4 5   JOVINA NARANJO FERNANDEZ                ARICA      \n",
              "5 7   L. POLI. ANTONIO VARAS DE LA BARRA      ARICA      \n",
              "6 8   COLEGIO INTEGRADO EDUARDO FREI MONTALVA ARICA      \n",
              "  query                                            lon       lat      \n",
              "1 LICEO POLITECNICO ARICA ,  ARICA                 -70.29469 -18.48719\n",
              "2 ESC. PEDRO VICENTE GUTIERREZ TORRES ,  ARICA     -70.30278 -18.48696\n",
              "3 LICEO OCTAVIO PALMA PEREZ ,  ARICA               -70.30792 -18.47417\n",
              "4 JOVINA NARANJO FERNANDEZ ,  ARICA                -70.31345 -18.47680\n",
              "5 L. POLI. ANTONIO VARAS DE LA BARRA ,  ARICA      -70.28795 -18.47595\n",
              "6 COLEGIO INTEGRADO EDUARDO FREI MONTALVA ,  ARICA -70.31737 -18.48267"
            ],
            "text/latex": "A data.frame: 6 × 6\n\\begin{tabular}{r|llllll}\n  & RBD & NOM\\_RBD & NOM\\_COM\\_RBD & query & lon & lat\\\\\n  & <int> & <chr> & <chr> & <chr> & <dbl> & <dbl>\\\\\n\\hline\n\t1 & 1 & LICEO POLITECNICO ARICA                 & ARICA & LICEO POLITECNICO ARICA ,  ARICA                 & -70.29469 & -18.48719\\\\\n\t2 & 3 & ESC. PEDRO VICENTE GUTIERREZ TORRES     & ARICA & ESC. PEDRO VICENTE GUTIERREZ TORRES ,  ARICA     & -70.30278 & -18.48696\\\\\n\t3 & 4 & LICEO OCTAVIO PALMA PEREZ               & ARICA & LICEO OCTAVIO PALMA PEREZ ,  ARICA               & -70.30792 & -18.47417\\\\\n\t4 & 5 & JOVINA NARANJO FERNANDEZ                & ARICA & JOVINA NARANJO FERNANDEZ ,  ARICA                & -70.31345 & -18.47680\\\\\n\t5 & 7 & L. POLI. ANTONIO VARAS DE LA BARRA      & ARICA & L. POLI. ANTONIO VARAS DE LA BARRA ,  ARICA      & -70.28795 & -18.47595\\\\\n\t6 & 8 & COLEGIO INTEGRADO EDUARDO FREI MONTALVA & ARICA & COLEGIO INTEGRADO EDUARDO FREI MONTALVA ,  ARICA & -70.31737 & -18.48267\\\\\n\\end{tabular}\n",
            "text/markdown": "\nA data.frame: 6 × 6\n\n| <!--/--> | RBD &lt;int&gt; | NOM_RBD &lt;chr&gt; | NOM_COM_RBD &lt;chr&gt; | query &lt;chr&gt; | lon &lt;dbl&gt; | lat &lt;dbl&gt; |\n|---|---|---|---|---|---|---|\n| 1 | 1 | LICEO POLITECNICO ARICA                 | ARICA | LICEO POLITECNICO ARICA ,  ARICA                 | -70.29469 | -18.48719 |\n| 2 | 3 | ESC. PEDRO VICENTE GUTIERREZ TORRES     | ARICA | ESC. PEDRO VICENTE GUTIERREZ TORRES ,  ARICA     | -70.30278 | -18.48696 |\n| 3 | 4 | LICEO OCTAVIO PALMA PEREZ               | ARICA | LICEO OCTAVIO PALMA PEREZ ,  ARICA               | -70.30792 | -18.47417 |\n| 4 | 5 | JOVINA NARANJO FERNANDEZ                | ARICA | JOVINA NARANJO FERNANDEZ ,  ARICA                | -70.31345 | -18.47680 |\n| 5 | 7 | L. POLI. ANTONIO VARAS DE LA BARRA      | ARICA | L. POLI. ANTONIO VARAS DE LA BARRA ,  ARICA      | -70.28795 | -18.47595 |\n| 6 | 8 | COLEGIO INTEGRADO EDUARDO FREI MONTALVA | ARICA | COLEGIO INTEGRADO EDUARDO FREI MONTALVA ,  ARICA | -70.31737 | -18.48267 |\n\n",
            "text/html": [
              "<table class=\"dataframe\">\n",
              "<caption>A data.frame: 6 × 6</caption>\n",
              "<thead>\n",
              "\t<tr><th></th><th scope=col>RBD</th><th scope=col>NOM_RBD</th><th scope=col>NOM_COM_RBD</th><th scope=col>query</th><th scope=col>lon</th><th scope=col>lat</th></tr>\n",
              "\t<tr><th></th><th scope=col>&lt;int&gt;</th><th scope=col>&lt;chr&gt;</th><th scope=col>&lt;chr&gt;</th><th scope=col>&lt;chr&gt;</th><th scope=col>&lt;dbl&gt;</th><th scope=col>&lt;dbl&gt;</th></tr>\n",
              "</thead>\n",
              "<tbody>\n",
              "\t<tr><th scope=row>1</th><td>1</td><td>LICEO POLITECNICO ARICA                </td><td>ARICA</td><td>LICEO POLITECNICO ARICA ,  ARICA                </td><td>-70.29469</td><td>-18.48719</td></tr>\n",
              "\t<tr><th scope=row>2</th><td>3</td><td>ESC. PEDRO VICENTE GUTIERREZ TORRES    </td><td>ARICA</td><td>ESC. PEDRO VICENTE GUTIERREZ TORRES ,  ARICA    </td><td>-70.30278</td><td>-18.48696</td></tr>\n",
              "\t<tr><th scope=row>3</th><td>4</td><td>LICEO OCTAVIO PALMA PEREZ              </td><td>ARICA</td><td>LICEO OCTAVIO PALMA PEREZ ,  ARICA              </td><td>-70.30792</td><td>-18.47417</td></tr>\n",
              "\t<tr><th scope=row>4</th><td>5</td><td>JOVINA NARANJO FERNANDEZ               </td><td>ARICA</td><td>JOVINA NARANJO FERNANDEZ ,  ARICA               </td><td>-70.31345</td><td>-18.47680</td></tr>\n",
              "\t<tr><th scope=row>5</th><td>7</td><td>L. POLI. ANTONIO VARAS DE LA BARRA     </td><td>ARICA</td><td>L. POLI. ANTONIO VARAS DE LA BARRA ,  ARICA     </td><td>-70.28795</td><td>-18.47595</td></tr>\n",
              "\t<tr><th scope=row>6</th><td>8</td><td>COLEGIO INTEGRADO EDUARDO FREI MONTALVA</td><td>ARICA</td><td>COLEGIO INTEGRADO EDUARDO FREI MONTALVA ,  ARICA</td><td>-70.31737</td><td>-18.48267</td></tr>\n",
              "</tbody>\n",
              "</table>\n"
            ]
          },
          "metadata": {}
        }
      ]
    },
    {
      "cell_type": "markdown",
      "metadata": {
        "id": "-MF3tljL9Xzj"
      },
      "source": [
        "#Opcion 1: subdividir y promediar"
      ]
    },
    {
      "cell_type": "code",
      "metadata": {
        "colab": {
          "base_uri": "https://localhost:8080/"
        },
        "id": "mOhmFUu_tvJr",
        "outputId": "c1293c07-7c5e-4eab-efc1-f73ad95b15df"
      },
      "source": [
        "q<-dbSendQuery(conn, \"\n",
        "  select        #Aca va la \n",
        "  *             #consulta para generar \n",
        "  from alumnos  #datos de entrenamiento\n",
        "  \")"
      ],
      "execution_count": null,
      "outputs": [
        {
          "output_type": "stream",
          "text": [
            "Warning message:\n",
            "“Closing open result set, pending rows”\n"
          ],
          "name": "stderr"
        }
      ]
    },
    {
      "cell_type": "code",
      "metadata": {
        "id": "0T3rUS4Et7mm"
      },
      "source": [
        "dbFetch(q,1000000) #entrega trozos de la consulta q de base de datos de largo 1000000"
      ],
      "execution_count": null,
      "outputs": []
    },
    {
      "cell_type": "code",
      "metadata": {
        "colab": {
          "base_uri": "https://localhost:8080/",
          "height": 420
        },
        "id": "Wwhd4vm8uKQ2",
        "outputId": "8b70ea61-5c6e-4b2d-ea3e-96b4e0c75eb1"
      },
      "source": [
        "m1<-glm(ASIS_PROMEDIO~Latitud+Precipitacion, data=dbFetch(q,1000000))\n",
        "summary(m1)"
      ],
      "execution_count": null,
      "outputs": [
        {
          "output_type": "display_data",
          "data": {
            "text/plain": [
              "\n",
              "Call:\n",
              "glm(formula = ASIS_PROMEDIO ~ Latitud + Precipitacion, data = dbFetch(conection, \n",
              "    6000))\n",
              "\n",
              "Deviance Residuals: \n",
              "     Min        1Q    Median        3Q       Max  \n",
              "-0.89219  -0.02048   0.10816   0.15818   0.20659  \n",
              "\n",
              "Coefficients:\n",
              "                Estimate Std. Error t value Pr(>|t|)    \n",
              "(Intercept)    7.521e-01  2.135e-02  35.230  < 2e-16 ***\n",
              "Latitud       -2.685e-03  6.304e-04  -4.259 2.08e-05 ***\n",
              "Precipitacion -1.125e-04  4.734e-05  -2.377   0.0175 *  \n",
              "---\n",
              "Signif. codes:  0 ‘***’ 0.001 ‘**’ 0.01 ‘*’ 0.05 ‘.’ 0.1 ‘ ’ 1\n",
              "\n",
              "(Dispersion parameter for gaussian family taken to be 0.07488802)\n",
              "\n",
              "    Null deviance: 450.52  on 5999  degrees of freedom\n",
              "Residual deviance: 449.10  on 5997  degrees of freedom\n",
              "AIC: 1481.7\n",
              "\n",
              "Number of Fisher Scoring iterations: 2\n"
            ]
          },
          "metadata": {}
        }
      ]
    },
    {
      "cell_type": "code",
      "metadata": {
        "colab": {
          "base_uri": "https://localhost:8080/",
          "height": 34
        },
        "id": "lBIfJn9xwbxX",
        "outputId": "e5958774-e37f-4895-a9c5-13f33c01de25"
      },
      "source": [
        "coefficients(m1)"
      ],
      "execution_count": null,
      "outputs": [
        {
          "output_type": "display_data",
          "data": {
            "text/plain": [
              "  (Intercept)       Latitud Precipitacion \n",
              " 0.7521474445 -0.0026849993 -0.0001125419 "
            ],
            "text/latex": "\\begin{description*}\n\\item[(Intercept)] 0.752147444486218\n\\item[Latitud] -0.00268499926190607\n\\item[Precipitacion] -0.000112541867440652\n\\end{description*}\n",
            "text/markdown": "(Intercept)\n:   0.752147444486218Latitud\n:   -0.00268499926190607Precipitacion\n:   -0.000112541867440652\n\n",
            "text/html": [
              "<style>\n",
              ".dl-inline {width: auto; margin:0; padding: 0}\n",
              ".dl-inline>dt, .dl-inline>dd {float: none; width: auto; display: inline-block}\n",
              ".dl-inline>dt::after {content: \":\\0020\"; padding-right: .5ex}\n",
              ".dl-inline>dt:not(:first-of-type) {padding-left: .5ex}\n",
              "</style><dl class=dl-inline><dt>(Intercept)</dt><dd>0.752147444486218</dd><dt>Latitud</dt><dd>-0.00268499926190607</dd><dt>Precipitacion</dt><dd>-0.000112541867440652</dd></dl>\n"
            ]
          },
          "metadata": {}
        }
      ]
    },
    {
      "cell_type": "markdown",
      "metadata": {
        "id": "UXQhH6Ex9trt"
      },
      "source": [
        "Luego promediar todos estos coeficientes para obtener un valor de los coeficientes final."
      ]
    },
    {
      "cell_type": "markdown",
      "metadata": {
        "id": "hlCKNnKW-OY6"
      },
      "source": [
        "#Opcion 2: Muestreo"
      ]
    },
    {
      "cell_type": "code",
      "metadata": {
        "id": "mcGE0kxt-bsn"
      },
      "source": [
        "q<-dbGetQuery(conn, \"\n",
        "  select        #Aca va la \n",
        "  *             #consulta para generar \n",
        "  from alumnos  #datos de entrenamiento\n",
        "  order by RANDOM()\n",
        "  limit 10000000\n",
        "  \")"
      ],
      "execution_count": null,
      "outputs": []
    },
    {
      "cell_type": "markdown",
      "metadata": {
        "id": "F73O-NJn-a5m"
      },
      "source": [
        "Seleccionar una muestra aleatoria de la tabla y realizar analisis. Explicar el metodo de muestreo y revisar si es acorde a la pregunta, ¿tiene tamaño suficiente para representar los datos?"
      ]
    },
    {
      "cell_type": "markdown",
      "metadata": {
        "id": "A9P7dr-L_CIz"
      },
      "source": [
        "#Opcion 3: SpeedGLM\n",
        "\n",
        "SpeedGLM es un algoritmo para ajustar modelos lineares generales a grandes volumenes de datos (BigData). Se necesita crear una funcion para cargar los datos por trozos"
      ]
    },
    {
      "cell_type": "code",
      "metadata": {
        "colab": {
          "base_uri": "https://localhost:8080/"
        },
        "id": "t5johw-CJWhh",
        "outputId": "56f077f3-09a3-493a-a91f-5dea09bb718e"
      },
      "source": [
        "install.packages(\"speedglm\")"
      ],
      "execution_count": null,
      "outputs": [
        {
          "output_type": "stream",
          "text": [
            "Installing package into ‘/usr/local/lib/R/site-library’\n",
            "(as ‘lib’ is unspecified)\n",
            "\n"
          ],
          "name": "stderr"
        }
      ]
    },
    {
      "cell_type": "code",
      "metadata": {
        "id": "i14FGd0lJURS"
      },
      "source": [
        "library(speedglm)"
      ],
      "execution_count": null,
      "outputs": []
    },
    {
      "cell_type": "code",
      "metadata": {
        "id": "Zb7pxXuiJei2"
      },
      "source": [
        " #funcion para entregar datos\n",
        "\n",
        " make.data<-function(chunksize){       \n",
        "     conection<-NULL\n",
        "     function(reset=FALSE){\n",
        "     if(reset){\n",
        "       conn <- dbConnect(RSQLite::SQLite(), \"mineduc.db\")\n",
        "       conection<<-dbSendQuery(conn, \"\n",
        "                                  select        #Aca va la \n",
        "                                  *             #consulta para generar \n",
        "                                  from alumnos  #datos de entrenamiento\n",
        "                                  \")\n",
        "     } else{\n",
        "       rval<-dbFetch(conection,chunksize)\n",
        "       if ((nrow(rval)==0)) {\n",
        "            conection<<-NULL\n",
        "            rval<-NULL\n",
        "       }\n",
        "       return(rval)\n",
        "     }\n",
        "  }\n",
        "}"
      ],
      "execution_count": null,
      "outputs": []
    },
    {
      "cell_type": "code",
      "metadata": {
        "colab": {
          "base_uri": "https://localhost:8080/",
          "height": 1000
        },
        "id": "HNCA8a8PD6hV",
        "outputId": "b639aabb-39cb-4e0d-84b8-010bf9d217da"
      },
      "source": [
        "#para validar\n",
        "\n",
        "da<-make.data(chunksize=50)\n",
        "\n",
        "da(reset=T) #1: opens the connection to \"data1.txt\"\n",
        "da(reset=F) #2: reads the first 50 rows (out of 120) of the dataset\n",
        "da(reset=F) #3: reads the second 50 rows (out of 120) of the dataset\n",
        "da(reset=F) #3: reads the last 20 rows (out of 120) of the dataset\n",
        "da(reset=F) #4: is NULL: this latter command closes the connection\n",
        "\n",
        "\n"
      ],
      "execution_count": null,
      "outputs": [
        {
          "output_type": "display_data",
          "data": {
            "text/plain": [
              "   ASIS_PROMEDIO Latitud   Precipitacion\n",
              "1  0.7500        -33.44102   7.4        \n",
              "2  0.6667        -33.44102   0.0        \n",
              "3  0.5294        -33.44102   2.0        \n",
              "4  0.7500        -33.44102   0.0        \n",
              "5  0.9091        -33.44102  38.3        \n",
              "6  0.8095        -33.44102 111.4        \n",
              "7  0.7000        -33.44102  23.7        \n",
              "8  0.5238        -33.44102  27.7        \n",
              "9  0.8095        -33.44102   4.5        \n",
              "10 0.8182        -33.44102   0.0        \n",
              "11 0.8000        -33.44102   0.0        \n",
              "12 0.8500        -33.44102 109.2        \n",
              "13 0.7727        -33.44102  20.5        \n",
              "14 0.8095        -33.44102  38.4        \n",
              "15 0.7778        -33.44102  50.2        \n",
              "16 0.8636        -33.44102   0.0        \n",
              "17 0.4500        -33.44102   0.4        \n",
              "18 0.6316        -33.44102  16.2        \n",
              "19 0.6667        -33.44102   0.0        \n",
              "20 0.9231        -33.44102  23.6        \n",
              "21 0.8500        -33.44102   0.0        \n",
              "22 0.7778        -33.44102   5.6        \n",
              "23 0.4545        -33.44102  55.6        \n",
              "24 0.1905        -33.44102  73.2        \n",
              "25 0.4444        -33.44102  30.7        \n",
              "26 0.7619        -33.44102  50.4        \n",
              "27 0.6250        -33.44102  27.3        \n",
              "28 0.7368        -33.44102  35.5        \n",
              "29 0.5714        -33.44102   0.1        \n",
              "30 0.0000        -33.44102   0.0        \n",
              "31 0.8500        -33.41425   7.4        \n",
              "32 0.9048        -33.41425   0.0        \n",
              "33 0.9444        -33.41425   2.0        \n",
              "34 0.0000        -33.41425   0.0        \n",
              "35 1.0000        -33.41425  38.3        \n",
              "36 0.9524        -33.41425 111.4        \n",
              "37 1.0000        -33.41425  23.7        \n",
              "38 0.9048        -33.41425  27.7        \n",
              "39 1.0000        -33.41425   4.5        \n",
              "40 1.0000        -33.41425   0.0        \n",
              "41 0.9000        -33.41425   0.0        \n",
              "42 0.9500        -33.41425 109.2        \n",
              "43 0.9091        -33.41425  20.5        \n",
              "44 0.6190        -33.41425  38.4        \n",
              "45 0.5556        -33.41425  50.2        \n",
              "46 0.9091        -33.41425   0.0        \n",
              "47 0.7647        -33.41425   0.4        \n",
              "48 0.2632        -33.41425  16.2        \n",
              "49 0.8750        -33.41425   0.0        \n",
              "50 0.0000        -33.41425  23.6        "
            ],
            "text/latex": "A data.frame: 50 × 3\n\\begin{tabular}{lll}\n ASIS\\_PROMEDIO & Latitud & Precipitacion\\\\\n <dbl> & <dbl> & <dbl>\\\\\n\\hline\n\t 0.7500 & -33.44102 &   7.4\\\\\n\t 0.6667 & -33.44102 &   0.0\\\\\n\t 0.5294 & -33.44102 &   2.0\\\\\n\t 0.7500 & -33.44102 &   0.0\\\\\n\t 0.9091 & -33.44102 &  38.3\\\\\n\t 0.8095 & -33.44102 & 111.4\\\\\n\t 0.7000 & -33.44102 &  23.7\\\\\n\t 0.5238 & -33.44102 &  27.7\\\\\n\t 0.8095 & -33.44102 &   4.5\\\\\n\t 0.8182 & -33.44102 &   0.0\\\\\n\t 0.8000 & -33.44102 &   0.0\\\\\n\t 0.8500 & -33.44102 & 109.2\\\\\n\t 0.7727 & -33.44102 &  20.5\\\\\n\t 0.8095 & -33.44102 &  38.4\\\\\n\t 0.7778 & -33.44102 &  50.2\\\\\n\t 0.8636 & -33.44102 &   0.0\\\\\n\t 0.4500 & -33.44102 &   0.4\\\\\n\t 0.6316 & -33.44102 &  16.2\\\\\n\t 0.6667 & -33.44102 &   0.0\\\\\n\t 0.9231 & -33.44102 &  23.6\\\\\n\t 0.8500 & -33.44102 &   0.0\\\\\n\t 0.7778 & -33.44102 &   5.6\\\\\n\t 0.4545 & -33.44102 &  55.6\\\\\n\t 0.1905 & -33.44102 &  73.2\\\\\n\t 0.4444 & -33.44102 &  30.7\\\\\n\t 0.7619 & -33.44102 &  50.4\\\\\n\t 0.6250 & -33.44102 &  27.3\\\\\n\t 0.7368 & -33.44102 &  35.5\\\\\n\t 0.5714 & -33.44102 &   0.1\\\\\n\t 0.0000 & -33.44102 &   0.0\\\\\n\t 0.8500 & -33.41425 &   7.4\\\\\n\t 0.9048 & -33.41425 &   0.0\\\\\n\t 0.9444 & -33.41425 &   2.0\\\\\n\t 0.0000 & -33.41425 &   0.0\\\\\n\t 1.0000 & -33.41425 &  38.3\\\\\n\t 0.9524 & -33.41425 & 111.4\\\\\n\t 1.0000 & -33.41425 &  23.7\\\\\n\t 0.9048 & -33.41425 &  27.7\\\\\n\t 1.0000 & -33.41425 &   4.5\\\\\n\t 1.0000 & -33.41425 &   0.0\\\\\n\t 0.9000 & -33.41425 &   0.0\\\\\n\t 0.9500 & -33.41425 & 109.2\\\\\n\t 0.9091 & -33.41425 &  20.5\\\\\n\t 0.6190 & -33.41425 &  38.4\\\\\n\t 0.5556 & -33.41425 &  50.2\\\\\n\t 0.9091 & -33.41425 &   0.0\\\\\n\t 0.7647 & -33.41425 &   0.4\\\\\n\t 0.2632 & -33.41425 &  16.2\\\\\n\t 0.8750 & -33.41425 &   0.0\\\\\n\t 0.0000 & -33.41425 &  23.6\\\\\n\\end{tabular}\n",
            "text/markdown": "\nA data.frame: 50 × 3\n\n| ASIS_PROMEDIO &lt;dbl&gt; | Latitud &lt;dbl&gt; | Precipitacion &lt;dbl&gt; |\n|---|---|---|\n| 0.7500 | -33.44102 |   7.4 |\n| 0.6667 | -33.44102 |   0.0 |\n| 0.5294 | -33.44102 |   2.0 |\n| 0.7500 | -33.44102 |   0.0 |\n| 0.9091 | -33.44102 |  38.3 |\n| 0.8095 | -33.44102 | 111.4 |\n| 0.7000 | -33.44102 |  23.7 |\n| 0.5238 | -33.44102 |  27.7 |\n| 0.8095 | -33.44102 |   4.5 |\n| 0.8182 | -33.44102 |   0.0 |\n| 0.8000 | -33.44102 |   0.0 |\n| 0.8500 | -33.44102 | 109.2 |\n| 0.7727 | -33.44102 |  20.5 |\n| 0.8095 | -33.44102 |  38.4 |\n| 0.7778 | -33.44102 |  50.2 |\n| 0.8636 | -33.44102 |   0.0 |\n| 0.4500 | -33.44102 |   0.4 |\n| 0.6316 | -33.44102 |  16.2 |\n| 0.6667 | -33.44102 |   0.0 |\n| 0.9231 | -33.44102 |  23.6 |\n| 0.8500 | -33.44102 |   0.0 |\n| 0.7778 | -33.44102 |   5.6 |\n| 0.4545 | -33.44102 |  55.6 |\n| 0.1905 | -33.44102 |  73.2 |\n| 0.4444 | -33.44102 |  30.7 |\n| 0.7619 | -33.44102 |  50.4 |\n| 0.6250 | -33.44102 |  27.3 |\n| 0.7368 | -33.44102 |  35.5 |\n| 0.5714 | -33.44102 |   0.1 |\n| 0.0000 | -33.44102 |   0.0 |\n| 0.8500 | -33.41425 |   7.4 |\n| 0.9048 | -33.41425 |   0.0 |\n| 0.9444 | -33.41425 |   2.0 |\n| 0.0000 | -33.41425 |   0.0 |\n| 1.0000 | -33.41425 |  38.3 |\n| 0.9524 | -33.41425 | 111.4 |\n| 1.0000 | -33.41425 |  23.7 |\n| 0.9048 | -33.41425 |  27.7 |\n| 1.0000 | -33.41425 |   4.5 |\n| 1.0000 | -33.41425 |   0.0 |\n| 0.9000 | -33.41425 |   0.0 |\n| 0.9500 | -33.41425 | 109.2 |\n| 0.9091 | -33.41425 |  20.5 |\n| 0.6190 | -33.41425 |  38.4 |\n| 0.5556 | -33.41425 |  50.2 |\n| 0.9091 | -33.41425 |   0.0 |\n| 0.7647 | -33.41425 |   0.4 |\n| 0.2632 | -33.41425 |  16.2 |\n| 0.8750 | -33.41425 |   0.0 |\n| 0.0000 | -33.41425 |  23.6 |\n\n",
            "text/html": [
              "<table class=\"dataframe\">\n",
              "<caption>A data.frame: 50 × 3</caption>\n",
              "<thead>\n",
              "\t<tr><th scope=col>ASIS_PROMEDIO</th><th scope=col>Latitud</th><th scope=col>Precipitacion</th></tr>\n",
              "\t<tr><th scope=col>&lt;dbl&gt;</th><th scope=col>&lt;dbl&gt;</th><th scope=col>&lt;dbl&gt;</th></tr>\n",
              "</thead>\n",
              "<tbody>\n",
              "\t<tr><td>0.7500</td><td>-33.44102</td><td>  7.4</td></tr>\n",
              "\t<tr><td>0.6667</td><td>-33.44102</td><td>  0.0</td></tr>\n",
              "\t<tr><td>0.5294</td><td>-33.44102</td><td>  2.0</td></tr>\n",
              "\t<tr><td>0.7500</td><td>-33.44102</td><td>  0.0</td></tr>\n",
              "\t<tr><td>0.9091</td><td>-33.44102</td><td> 38.3</td></tr>\n",
              "\t<tr><td>0.8095</td><td>-33.44102</td><td>111.4</td></tr>\n",
              "\t<tr><td>0.7000</td><td>-33.44102</td><td> 23.7</td></tr>\n",
              "\t<tr><td>0.5238</td><td>-33.44102</td><td> 27.7</td></tr>\n",
              "\t<tr><td>0.8095</td><td>-33.44102</td><td>  4.5</td></tr>\n",
              "\t<tr><td>0.8182</td><td>-33.44102</td><td>  0.0</td></tr>\n",
              "\t<tr><td>0.8000</td><td>-33.44102</td><td>  0.0</td></tr>\n",
              "\t<tr><td>0.8500</td><td>-33.44102</td><td>109.2</td></tr>\n",
              "\t<tr><td>0.7727</td><td>-33.44102</td><td> 20.5</td></tr>\n",
              "\t<tr><td>0.8095</td><td>-33.44102</td><td> 38.4</td></tr>\n",
              "\t<tr><td>0.7778</td><td>-33.44102</td><td> 50.2</td></tr>\n",
              "\t<tr><td>0.8636</td><td>-33.44102</td><td>  0.0</td></tr>\n",
              "\t<tr><td>0.4500</td><td>-33.44102</td><td>  0.4</td></tr>\n",
              "\t<tr><td>0.6316</td><td>-33.44102</td><td> 16.2</td></tr>\n",
              "\t<tr><td>0.6667</td><td>-33.44102</td><td>  0.0</td></tr>\n",
              "\t<tr><td>0.9231</td><td>-33.44102</td><td> 23.6</td></tr>\n",
              "\t<tr><td>0.8500</td><td>-33.44102</td><td>  0.0</td></tr>\n",
              "\t<tr><td>0.7778</td><td>-33.44102</td><td>  5.6</td></tr>\n",
              "\t<tr><td>0.4545</td><td>-33.44102</td><td> 55.6</td></tr>\n",
              "\t<tr><td>0.1905</td><td>-33.44102</td><td> 73.2</td></tr>\n",
              "\t<tr><td>0.4444</td><td>-33.44102</td><td> 30.7</td></tr>\n",
              "\t<tr><td>0.7619</td><td>-33.44102</td><td> 50.4</td></tr>\n",
              "\t<tr><td>0.6250</td><td>-33.44102</td><td> 27.3</td></tr>\n",
              "\t<tr><td>0.7368</td><td>-33.44102</td><td> 35.5</td></tr>\n",
              "\t<tr><td>0.5714</td><td>-33.44102</td><td>  0.1</td></tr>\n",
              "\t<tr><td>0.0000</td><td>-33.44102</td><td>  0.0</td></tr>\n",
              "\t<tr><td>0.8500</td><td>-33.41425</td><td>  7.4</td></tr>\n",
              "\t<tr><td>0.9048</td><td>-33.41425</td><td>  0.0</td></tr>\n",
              "\t<tr><td>0.9444</td><td>-33.41425</td><td>  2.0</td></tr>\n",
              "\t<tr><td>0.0000</td><td>-33.41425</td><td>  0.0</td></tr>\n",
              "\t<tr><td>1.0000</td><td>-33.41425</td><td> 38.3</td></tr>\n",
              "\t<tr><td>0.9524</td><td>-33.41425</td><td>111.4</td></tr>\n",
              "\t<tr><td>1.0000</td><td>-33.41425</td><td> 23.7</td></tr>\n",
              "\t<tr><td>0.9048</td><td>-33.41425</td><td> 27.7</td></tr>\n",
              "\t<tr><td>1.0000</td><td>-33.41425</td><td>  4.5</td></tr>\n",
              "\t<tr><td>1.0000</td><td>-33.41425</td><td>  0.0</td></tr>\n",
              "\t<tr><td>0.9000</td><td>-33.41425</td><td>  0.0</td></tr>\n",
              "\t<tr><td>0.9500</td><td>-33.41425</td><td>109.2</td></tr>\n",
              "\t<tr><td>0.9091</td><td>-33.41425</td><td> 20.5</td></tr>\n",
              "\t<tr><td>0.6190</td><td>-33.41425</td><td> 38.4</td></tr>\n",
              "\t<tr><td>0.5556</td><td>-33.41425</td><td> 50.2</td></tr>\n",
              "\t<tr><td>0.9091</td><td>-33.41425</td><td>  0.0</td></tr>\n",
              "\t<tr><td>0.7647</td><td>-33.41425</td><td>  0.4</td></tr>\n",
              "\t<tr><td>0.2632</td><td>-33.41425</td><td> 16.2</td></tr>\n",
              "\t<tr><td>0.8750</td><td>-33.41425</td><td>  0.0</td></tr>\n",
              "\t<tr><td>0.0000</td><td>-33.41425</td><td> 23.6</td></tr>\n",
              "</tbody>\n",
              "</table>\n"
            ]
          },
          "metadata": {}
        },
        {
          "output_type": "display_data",
          "data": {
            "text/plain": [
              "   ASIS_PROMEDIO Latitud   Precipitacion\n",
              "1  1.0000        -18.49699 0            \n",
              "2  1.0000        -18.49699 0            \n",
              "3  1.0000        -18.49699 0            \n",
              "4  0.9500        -18.49699 0            \n",
              "5  1.0000        -18.49699 0            \n",
              "6  1.0000        -18.49699 0            \n",
              "7  1.0000        -18.49699 0            \n",
              "8  0.9500        -18.49699 0            \n",
              "9  1.0000        -18.49699 0            \n",
              "10 1.0000        -18.49699 0            \n",
              "11 1.0000        -18.49699 0            \n",
              "12 0.9500        -18.49699 0            \n",
              "13 1.0000        -18.49699 0            \n",
              "14 1.0000        -18.49699 0            \n",
              "15 1.0000        -18.49699 0            \n",
              "16 1.0000        -18.49699 0            \n",
              "17 1.0000        -18.49699 0            \n",
              "18 1.0000        -18.49699 0            \n",
              "19 1.0000        -18.49699 0            \n",
              "20 1.0000        -18.49699 0            \n",
              "21 1.0000        -18.49699 0            \n",
              "22 1.0000        -18.49699 0            \n",
              "23 1.0000        -18.49699 0            \n",
              "24 1.0000        -18.49699 0            \n",
              "25 1.0000        -18.49699 0            \n",
              "26 1.0000        -18.49699 0            \n",
              "27 1.0000        -18.49699 0            \n",
              "28 1.0000        -18.49699 0            \n",
              "29 1.0000        -18.49699 0            \n",
              "30 0.0000        -18.49699 0            \n",
              "31 0.9474        -18.46325 0            \n",
              "32 0.6667        -18.46325 0            \n",
              "33 0.9444        -18.46325 0            \n",
              "34 0.3333        -18.44620 0            \n",
              "35 1.0000        -18.44620 0            \n",
              "36 0.0000        -18.46325 0            \n",
              "37 0.8500        -18.44620 0            \n",
              "38 0.0000        -18.46325 0            \n",
              "39 0.0000        -18.46325 0            \n",
              "40 1.0000        -18.44620 0            \n",
              "41 0.9000        -18.44620 0            \n",
              "42 0.5500        -18.44620 0            \n",
              "43 0.9524        -18.44620 0            \n",
              "44 0.8947        -18.44620 0            \n",
              "45 0.7778        -18.44620 0            \n",
              "46 0.7273        -18.44620 0            \n",
              "47 0.5238        -18.44620 0            \n",
              "48 0.3889        -18.44620 0            \n",
              "49 0.6667        -18.44620 0            \n",
              "50 0.5000        -18.44620 0            "
            ],
            "text/latex": "A data.frame: 50 × 3\n\\begin{tabular}{lll}\n ASIS\\_PROMEDIO & Latitud & Precipitacion\\\\\n <dbl> & <dbl> & <dbl>\\\\\n\\hline\n\t 1.0000 & -18.49699 & 0\\\\\n\t 1.0000 & -18.49699 & 0\\\\\n\t 1.0000 & -18.49699 & 0\\\\\n\t 0.9500 & -18.49699 & 0\\\\\n\t 1.0000 & -18.49699 & 0\\\\\n\t 1.0000 & -18.49699 & 0\\\\\n\t 1.0000 & -18.49699 & 0\\\\\n\t 0.9500 & -18.49699 & 0\\\\\n\t 1.0000 & -18.49699 & 0\\\\\n\t 1.0000 & -18.49699 & 0\\\\\n\t 1.0000 & -18.49699 & 0\\\\\n\t 0.9500 & -18.49699 & 0\\\\\n\t 1.0000 & -18.49699 & 0\\\\\n\t 1.0000 & -18.49699 & 0\\\\\n\t 1.0000 & -18.49699 & 0\\\\\n\t 1.0000 & -18.49699 & 0\\\\\n\t 1.0000 & -18.49699 & 0\\\\\n\t 1.0000 & -18.49699 & 0\\\\\n\t 1.0000 & -18.49699 & 0\\\\\n\t 1.0000 & -18.49699 & 0\\\\\n\t 1.0000 & -18.49699 & 0\\\\\n\t 1.0000 & -18.49699 & 0\\\\\n\t 1.0000 & -18.49699 & 0\\\\\n\t 1.0000 & -18.49699 & 0\\\\\n\t 1.0000 & -18.49699 & 0\\\\\n\t 1.0000 & -18.49699 & 0\\\\\n\t 1.0000 & -18.49699 & 0\\\\\n\t 1.0000 & -18.49699 & 0\\\\\n\t 1.0000 & -18.49699 & 0\\\\\n\t 0.0000 & -18.49699 & 0\\\\\n\t 0.9474 & -18.46325 & 0\\\\\n\t 0.6667 & -18.46325 & 0\\\\\n\t 0.9444 & -18.46325 & 0\\\\\n\t 0.3333 & -18.44620 & 0\\\\\n\t 1.0000 & -18.44620 & 0\\\\\n\t 0.0000 & -18.46325 & 0\\\\\n\t 0.8500 & -18.44620 & 0\\\\\n\t 0.0000 & -18.46325 & 0\\\\\n\t 0.0000 & -18.46325 & 0\\\\\n\t 1.0000 & -18.44620 & 0\\\\\n\t 0.9000 & -18.44620 & 0\\\\\n\t 0.5500 & -18.44620 & 0\\\\\n\t 0.9524 & -18.44620 & 0\\\\\n\t 0.8947 & -18.44620 & 0\\\\\n\t 0.7778 & -18.44620 & 0\\\\\n\t 0.7273 & -18.44620 & 0\\\\\n\t 0.5238 & -18.44620 & 0\\\\\n\t 0.3889 & -18.44620 & 0\\\\\n\t 0.6667 & -18.44620 & 0\\\\\n\t 0.5000 & -18.44620 & 0\\\\\n\\end{tabular}\n",
            "text/markdown": "\nA data.frame: 50 × 3\n\n| ASIS_PROMEDIO &lt;dbl&gt; | Latitud &lt;dbl&gt; | Precipitacion &lt;dbl&gt; |\n|---|---|---|\n| 1.0000 | -18.49699 | 0 |\n| 1.0000 | -18.49699 | 0 |\n| 1.0000 | -18.49699 | 0 |\n| 0.9500 | -18.49699 | 0 |\n| 1.0000 | -18.49699 | 0 |\n| 1.0000 | -18.49699 | 0 |\n| 1.0000 | -18.49699 | 0 |\n| 0.9500 | -18.49699 | 0 |\n| 1.0000 | -18.49699 | 0 |\n| 1.0000 | -18.49699 | 0 |\n| 1.0000 | -18.49699 | 0 |\n| 0.9500 | -18.49699 | 0 |\n| 1.0000 | -18.49699 | 0 |\n| 1.0000 | -18.49699 | 0 |\n| 1.0000 | -18.49699 | 0 |\n| 1.0000 | -18.49699 | 0 |\n| 1.0000 | -18.49699 | 0 |\n| 1.0000 | -18.49699 | 0 |\n| 1.0000 | -18.49699 | 0 |\n| 1.0000 | -18.49699 | 0 |\n| 1.0000 | -18.49699 | 0 |\n| 1.0000 | -18.49699 | 0 |\n| 1.0000 | -18.49699 | 0 |\n| 1.0000 | -18.49699 | 0 |\n| 1.0000 | -18.49699 | 0 |\n| 1.0000 | -18.49699 | 0 |\n| 1.0000 | -18.49699 | 0 |\n| 1.0000 | -18.49699 | 0 |\n| 1.0000 | -18.49699 | 0 |\n| 0.0000 | -18.49699 | 0 |\n| 0.9474 | -18.46325 | 0 |\n| 0.6667 | -18.46325 | 0 |\n| 0.9444 | -18.46325 | 0 |\n| 0.3333 | -18.44620 | 0 |\n| 1.0000 | -18.44620 | 0 |\n| 0.0000 | -18.46325 | 0 |\n| 0.8500 | -18.44620 | 0 |\n| 0.0000 | -18.46325 | 0 |\n| 0.0000 | -18.46325 | 0 |\n| 1.0000 | -18.44620 | 0 |\n| 0.9000 | -18.44620 | 0 |\n| 0.5500 | -18.44620 | 0 |\n| 0.9524 | -18.44620 | 0 |\n| 0.8947 | -18.44620 | 0 |\n| 0.7778 | -18.44620 | 0 |\n| 0.7273 | -18.44620 | 0 |\n| 0.5238 | -18.44620 | 0 |\n| 0.3889 | -18.44620 | 0 |\n| 0.6667 | -18.44620 | 0 |\n| 0.5000 | -18.44620 | 0 |\n\n",
            "text/html": [
              "<table class=\"dataframe\">\n",
              "<caption>A data.frame: 50 × 3</caption>\n",
              "<thead>\n",
              "\t<tr><th scope=col>ASIS_PROMEDIO</th><th scope=col>Latitud</th><th scope=col>Precipitacion</th></tr>\n",
              "\t<tr><th scope=col>&lt;dbl&gt;</th><th scope=col>&lt;dbl&gt;</th><th scope=col>&lt;dbl&gt;</th></tr>\n",
              "</thead>\n",
              "<tbody>\n",
              "\t<tr><td>1.0000</td><td>-18.49699</td><td>0</td></tr>\n",
              "\t<tr><td>1.0000</td><td>-18.49699</td><td>0</td></tr>\n",
              "\t<tr><td>1.0000</td><td>-18.49699</td><td>0</td></tr>\n",
              "\t<tr><td>0.9500</td><td>-18.49699</td><td>0</td></tr>\n",
              "\t<tr><td>1.0000</td><td>-18.49699</td><td>0</td></tr>\n",
              "\t<tr><td>1.0000</td><td>-18.49699</td><td>0</td></tr>\n",
              "\t<tr><td>1.0000</td><td>-18.49699</td><td>0</td></tr>\n",
              "\t<tr><td>0.9500</td><td>-18.49699</td><td>0</td></tr>\n",
              "\t<tr><td>1.0000</td><td>-18.49699</td><td>0</td></tr>\n",
              "\t<tr><td>1.0000</td><td>-18.49699</td><td>0</td></tr>\n",
              "\t<tr><td>1.0000</td><td>-18.49699</td><td>0</td></tr>\n",
              "\t<tr><td>0.9500</td><td>-18.49699</td><td>0</td></tr>\n",
              "\t<tr><td>1.0000</td><td>-18.49699</td><td>0</td></tr>\n",
              "\t<tr><td>1.0000</td><td>-18.49699</td><td>0</td></tr>\n",
              "\t<tr><td>1.0000</td><td>-18.49699</td><td>0</td></tr>\n",
              "\t<tr><td>1.0000</td><td>-18.49699</td><td>0</td></tr>\n",
              "\t<tr><td>1.0000</td><td>-18.49699</td><td>0</td></tr>\n",
              "\t<tr><td>1.0000</td><td>-18.49699</td><td>0</td></tr>\n",
              "\t<tr><td>1.0000</td><td>-18.49699</td><td>0</td></tr>\n",
              "\t<tr><td>1.0000</td><td>-18.49699</td><td>0</td></tr>\n",
              "\t<tr><td>1.0000</td><td>-18.49699</td><td>0</td></tr>\n",
              "\t<tr><td>1.0000</td><td>-18.49699</td><td>0</td></tr>\n",
              "\t<tr><td>1.0000</td><td>-18.49699</td><td>0</td></tr>\n",
              "\t<tr><td>1.0000</td><td>-18.49699</td><td>0</td></tr>\n",
              "\t<tr><td>1.0000</td><td>-18.49699</td><td>0</td></tr>\n",
              "\t<tr><td>1.0000</td><td>-18.49699</td><td>0</td></tr>\n",
              "\t<tr><td>1.0000</td><td>-18.49699</td><td>0</td></tr>\n",
              "\t<tr><td>1.0000</td><td>-18.49699</td><td>0</td></tr>\n",
              "\t<tr><td>1.0000</td><td>-18.49699</td><td>0</td></tr>\n",
              "\t<tr><td>0.0000</td><td>-18.49699</td><td>0</td></tr>\n",
              "\t<tr><td>0.9474</td><td>-18.46325</td><td>0</td></tr>\n",
              "\t<tr><td>0.6667</td><td>-18.46325</td><td>0</td></tr>\n",
              "\t<tr><td>0.9444</td><td>-18.46325</td><td>0</td></tr>\n",
              "\t<tr><td>0.3333</td><td>-18.44620</td><td>0</td></tr>\n",
              "\t<tr><td>1.0000</td><td>-18.44620</td><td>0</td></tr>\n",
              "\t<tr><td>0.0000</td><td>-18.46325</td><td>0</td></tr>\n",
              "\t<tr><td>0.8500</td><td>-18.44620</td><td>0</td></tr>\n",
              "\t<tr><td>0.0000</td><td>-18.46325</td><td>0</td></tr>\n",
              "\t<tr><td>0.0000</td><td>-18.46325</td><td>0</td></tr>\n",
              "\t<tr><td>1.0000</td><td>-18.44620</td><td>0</td></tr>\n",
              "\t<tr><td>0.9000</td><td>-18.44620</td><td>0</td></tr>\n",
              "\t<tr><td>0.5500</td><td>-18.44620</td><td>0</td></tr>\n",
              "\t<tr><td>0.9524</td><td>-18.44620</td><td>0</td></tr>\n",
              "\t<tr><td>0.8947</td><td>-18.44620</td><td>0</td></tr>\n",
              "\t<tr><td>0.7778</td><td>-18.44620</td><td>0</td></tr>\n",
              "\t<tr><td>0.7273</td><td>-18.44620</td><td>0</td></tr>\n",
              "\t<tr><td>0.5238</td><td>-18.44620</td><td>0</td></tr>\n",
              "\t<tr><td>0.3889</td><td>-18.44620</td><td>0</td></tr>\n",
              "\t<tr><td>0.6667</td><td>-18.44620</td><td>0</td></tr>\n",
              "\t<tr><td>0.5000</td><td>-18.44620</td><td>0</td></tr>\n",
              "</tbody>\n",
              "</table>\n"
            ]
          },
          "metadata": {}
        },
        {
          "output_type": "display_data",
          "data": {
            "text/plain": [
              "   ASIS_PROMEDIO Latitud  Precipitacion\n",
              "1  0.9474000     -18.4462 0            \n",
              "2  1.0000000     -18.4462 0            \n",
              "3  0.8636000     -18.4462 0            \n",
              "4  0.6842000     -18.4462 0            \n",
              "5  1.0000000     -18.4462 0            \n",
              "6  0.7619000     -18.4462 0            \n",
              "7  0.6842000     -18.4462 0            \n",
              "8  0.8889000     -18.4462 0            \n",
              "9  0.8571000     -18.4462 0            \n",
              "10 0.8000000     -18.4462 0            \n",
              "11 0.8421000     -18.4462 0            \n",
              "12 0.8500000     -18.4462 0            \n",
              "13 0.8095000     -18.4462 0            \n",
              "14 0.9474000     -18.4462 0            \n",
              "15 0.6667000     -18.4462 0            \n",
              "16 0.8182000     -18.4462 0            \n",
              "17 0.1333333     -18.4462 0            \n",
              "18 0.0000000     -18.4462 0            \n",
              "19 0.2000000     -18.4462 0            \n",
              "20 0.0000000     -18.4462 0            "
            ],
            "text/latex": "A data.frame: 20 × 3\n\\begin{tabular}{lll}\n ASIS\\_PROMEDIO & Latitud & Precipitacion\\\\\n <dbl> & <dbl> & <dbl>\\\\\n\\hline\n\t 0.9474000 & -18.4462 & 0\\\\\n\t 1.0000000 & -18.4462 & 0\\\\\n\t 0.8636000 & -18.4462 & 0\\\\\n\t 0.6842000 & -18.4462 & 0\\\\\n\t 1.0000000 & -18.4462 & 0\\\\\n\t 0.7619000 & -18.4462 & 0\\\\\n\t 0.6842000 & -18.4462 & 0\\\\\n\t 0.8889000 & -18.4462 & 0\\\\\n\t 0.8571000 & -18.4462 & 0\\\\\n\t 0.8000000 & -18.4462 & 0\\\\\n\t 0.8421000 & -18.4462 & 0\\\\\n\t 0.8500000 & -18.4462 & 0\\\\\n\t 0.8095000 & -18.4462 & 0\\\\\n\t 0.9474000 & -18.4462 & 0\\\\\n\t 0.6667000 & -18.4462 & 0\\\\\n\t 0.8182000 & -18.4462 & 0\\\\\n\t 0.1333333 & -18.4462 & 0\\\\\n\t 0.0000000 & -18.4462 & 0\\\\\n\t 0.2000000 & -18.4462 & 0\\\\\n\t 0.0000000 & -18.4462 & 0\\\\\n\\end{tabular}\n",
            "text/markdown": "\nA data.frame: 20 × 3\n\n| ASIS_PROMEDIO &lt;dbl&gt; | Latitud &lt;dbl&gt; | Precipitacion &lt;dbl&gt; |\n|---|---|---|\n| 0.9474000 | -18.4462 | 0 |\n| 1.0000000 | -18.4462 | 0 |\n| 0.8636000 | -18.4462 | 0 |\n| 0.6842000 | -18.4462 | 0 |\n| 1.0000000 | -18.4462 | 0 |\n| 0.7619000 | -18.4462 | 0 |\n| 0.6842000 | -18.4462 | 0 |\n| 0.8889000 | -18.4462 | 0 |\n| 0.8571000 | -18.4462 | 0 |\n| 0.8000000 | -18.4462 | 0 |\n| 0.8421000 | -18.4462 | 0 |\n| 0.8500000 | -18.4462 | 0 |\n| 0.8095000 | -18.4462 | 0 |\n| 0.9474000 | -18.4462 | 0 |\n| 0.6667000 | -18.4462 | 0 |\n| 0.8182000 | -18.4462 | 0 |\n| 0.1333333 | -18.4462 | 0 |\n| 0.0000000 | -18.4462 | 0 |\n| 0.2000000 | -18.4462 | 0 |\n| 0.0000000 | -18.4462 | 0 |\n\n",
            "text/html": [
              "<table class=\"dataframe\">\n",
              "<caption>A data.frame: 20 × 3</caption>\n",
              "<thead>\n",
              "\t<tr><th scope=col>ASIS_PROMEDIO</th><th scope=col>Latitud</th><th scope=col>Precipitacion</th></tr>\n",
              "\t<tr><th scope=col>&lt;dbl&gt;</th><th scope=col>&lt;dbl&gt;</th><th scope=col>&lt;dbl&gt;</th></tr>\n",
              "</thead>\n",
              "<tbody>\n",
              "\t<tr><td>0.9474000</td><td>-18.4462</td><td>0</td></tr>\n",
              "\t<tr><td>1.0000000</td><td>-18.4462</td><td>0</td></tr>\n",
              "\t<tr><td>0.8636000</td><td>-18.4462</td><td>0</td></tr>\n",
              "\t<tr><td>0.6842000</td><td>-18.4462</td><td>0</td></tr>\n",
              "\t<tr><td>1.0000000</td><td>-18.4462</td><td>0</td></tr>\n",
              "\t<tr><td>0.7619000</td><td>-18.4462</td><td>0</td></tr>\n",
              "\t<tr><td>0.6842000</td><td>-18.4462</td><td>0</td></tr>\n",
              "\t<tr><td>0.8889000</td><td>-18.4462</td><td>0</td></tr>\n",
              "\t<tr><td>0.8571000</td><td>-18.4462</td><td>0</td></tr>\n",
              "\t<tr><td>0.8000000</td><td>-18.4462</td><td>0</td></tr>\n",
              "\t<tr><td>0.8421000</td><td>-18.4462</td><td>0</td></tr>\n",
              "\t<tr><td>0.8500000</td><td>-18.4462</td><td>0</td></tr>\n",
              "\t<tr><td>0.8095000</td><td>-18.4462</td><td>0</td></tr>\n",
              "\t<tr><td>0.9474000</td><td>-18.4462</td><td>0</td></tr>\n",
              "\t<tr><td>0.6667000</td><td>-18.4462</td><td>0</td></tr>\n",
              "\t<tr><td>0.8182000</td><td>-18.4462</td><td>0</td></tr>\n",
              "\t<tr><td>0.1333333</td><td>-18.4462</td><td>0</td></tr>\n",
              "\t<tr><td>0.0000000</td><td>-18.4462</td><td>0</td></tr>\n",
              "\t<tr><td>0.2000000</td><td>-18.4462</td><td>0</td></tr>\n",
              "\t<tr><td>0.0000000</td><td>-18.4462</td><td>0</td></tr>\n",
              "</tbody>\n",
              "</table>\n"
            ]
          },
          "metadata": {}
        },
        {
          "output_type": "display_data",
          "data": {
            "text/plain": [
              "NULL"
            ]
          },
          "metadata": {}
        }
      ]
    },
    {
      "cell_type": "code",
      "metadata": {
        "id": "ISID-aSVEHC6",
        "colab": {
          "base_uri": "https://localhost:8080/",
          "height": 370
        },
        "outputId": "7f8a9804-c0a0-4a36-cf47-8460a6d5cbfe"
      },
      "source": [
        "#entrenar con trozos de 10000000 datos\n",
        "da<-make.data(chunksize=10000000)\n",
        "\n",
        "b1<-shglm(ASIS_PROMEDIO~Latitud+Precipitacion,datafun=da)\n",
        "summary(b1) \n"
      ],
      "execution_count": null,
      "outputs": [
        {
          "output_type": "display_data",
          "data": {
            "text/plain": [
              "Generalized Linear Model of class 'speedglm':\n",
              "\n",
              "Call:  shglm(formula = ASIS_PROMEDIO ~ Latitud + Precipitacion, datafun = da) \n",
              "\n",
              "Coefficients:\n",
              " ------------------------------------------------------------------ \n",
              "                Estimate Std. Error t value  Pr(>|t|)    \n",
              "(Intercept)    8.033e-01  1.244e-04  6456.7  0.00e+00 ***\n",
              "Latitud       -1.101e-03  3.623e-06  -303.8  0.00e+00 ***\n",
              "Precipitacion  1.958e-06  6.750e-08    29.0 5.83e-185 ***\n",
              "\n",
              "------------------------------------------------------------------- \n",
              "Signif. codes:  0 '***' 0.001 '**' 0.01 '*' 0.05 '.' 0.1 ' ' 1 \n",
              "\n",
              "---\n",
              "null df: 151925055; null deviance: 10842672;\n",
              "residuals df: 151925053; residuals deviance: 10835912;\n",
              "# obs.: 151925056; # non-zero weighted obs.: 151925056;\n",
              "AIC: 446513069; log Likelihood: -223256530;\n",
              "RSS: 10835912; dispersion: 0.07132406; iterations: 3;\n",
              "rank: 3; max tolerance: 0e+00; convergence: TRUE."
            ]
          },
          "metadata": {}
        }
      ]
    }
  ]
}